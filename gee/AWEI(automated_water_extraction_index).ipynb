{
 "cells": [
  {
   "cell_type": "code",
   "execution_count": 1,
   "metadata": {
    "ExecuteTime": {
     "end_time": "2020-10-01T14:45:49.337236Z",
     "start_time": "2020-10-01T14:45:49.334243Z"
    }
   },
   "outputs": [],
   "source": [
    "import os\n",
    "os.environ['HTTP_PROXY'] = \"http://127.0.0.1:10809\"\n",
    "os.environ['HTTPS_PROXY'] = \"http://127.0.0.1:10809\""
   ]
  },
  {
   "cell_type": "code",
   "execution_count": 2,
   "metadata": {
    "ExecuteTime": {
     "end_time": "2020-10-01T14:45:57.212440Z",
     "start_time": "2020-10-01T14:45:49.338233Z"
    }
   },
   "outputs": [
    {
     "data": {
      "application/vnd.jupyter.widget-view+json": {
       "model_id": "add8f9d9f49e428c97aceb4ab7e02f48",
       "version_major": 2,
       "version_minor": 0
      },
      "text/plain": [
       "Map(center=[40, -100], controls=(WidgetControl(options=['position'], widget=HBox(children=(ToggleButton(value=…"
      ]
     },
     "metadata": {},
     "output_type": "display_data"
    }
   ],
   "source": [
    "import geemap\n",
    "import ee\n",
    "Map=geemap.Map()\n",
    "Map"
   ]
  },
  {
   "cell_type": "code",
   "execution_count": 3,
   "metadata": {
    "ExecuteTime": {
     "end_time": "2020-10-01T14:46:00.881027Z",
     "start_time": "2020-10-01T14:45:57.213438Z"
    }
   },
   "outputs": [],
   "source": [
    "# 输入研究区的shp文件所在路径\n",
    "wuhan18_shp =\"D:/NDVI_exercise/wuhan/wuhan1+8t.shp\"\n",
    "# shp 转 ee \n",
    "wuhan18_ee = geemap.shp_to_ee(wuhan18_shp)\n",
    "# 添加到layer\n",
    "Map.addLayer(wuhan18_ee,{},\"wuhan1+8\")\n",
    "Map.centerObject(wuhan18_ee,7)   # 设置以研究区居中"
   ]
  },
  {
   "cell_type": "code",
   "execution_count": 4,
   "metadata": {
    "ExecuteTime": {
     "end_time": "2020-10-01T14:46:00.885044Z",
     "start_time": "2020-10-01T14:46:00.882024Z"
    }
   },
   "outputs": [],
   "source": [
    "def AWEI(image):\n",
    "    awei = image.expression('(4 * (green - swir1)) - (0.25 * nir + 2.75 * swir2)',\n",
    "        {\n",
    "          'green': image.select('B3'),    \n",
    "          'nir': image.select('B5'),    \n",
    "          'swir1': image.select('B6'),\n",
    "          'swir2': image.select('B7'),\n",
    "        }).rename('AWEI')\n",
    "    return image.addBands(awei)\n",
    "\n",
    "# AWEI(自动水体提取指数): AWEIsh = B2 + 2.5B3 - 1.5(B5+B6) - 0.25B7\n",
    "def AWEIsh(image):\n",
    "    awei = image.expression('B2 + 2.5*B3 - 1.5*(B5+B6) - 0.25*B7',\n",
    "        {\n",
    "          'B2': image.select('B2'),\n",
    "          'B3': image.select('B3'),    \n",
    "          'B5': image.select('B5'),    \n",
    "          'B6': image.select('B6'),\n",
    "          'B7': image.select('B7'),\n",
    "        }).rename('AWEI')\n",
    "    return image.addBands(awei)"
   ]
  },
  {
   "cell_type": "code",
   "execution_count": 5,
   "metadata": {
    "ExecuteTime": {
     "end_time": "2020-10-01T14:46:00.999106Z",
     "start_time": "2020-10-01T14:46:00.886012Z"
    }
   },
   "outputs": [],
   "source": [
    "# 筛选数据（使用日期，云量（小于5%），研究区），去云\n",
    "landsat_images = ee.ImageCollection('LANDSAT/LC08/C01/T1_SR') \\\n",
    "    .filterBounds(wuhan18_ee) \\\n",
    "    .filterDate('2019-01-01', '2019-12-31') \\\n",
    "    .filter(ee.Filter.lt('CLOUD_COVER',5)) \\\n",
    "#   .map(maskL8sr)\n",
    "\n",
    "# 可视化参数设置\n",
    "vis_params = {\n",
    "  'bands': ['B5', 'B4', 'B3'],\n",
    "  'min': 0,\n",
    "  'max': 3000,\n",
    "  'gamma': 1.4,\n",
    "}"
   ]
  },
  {
   "cell_type": "code",
   "execution_count": 6,
   "metadata": {
    "ExecuteTime": {
     "end_time": "2020-10-01T14:46:04.221493Z",
     "start_time": "2020-10-01T14:46:01.000104Z"
    }
   },
   "outputs": [],
   "source": [
    "landsat_map = landsat_images.map(AWEI)\n",
    "wuhan18_landsat = landsat_map.mean().clip(wuhan18_ee)\n",
    "Map.addLayer(wuhan18_landsat,vis_params,'wuhan18 landsat')"
   ]
  },
  {
   "cell_type": "code",
   "execution_count": 7,
   "metadata": {
    "ExecuteTime": {
     "end_time": "2020-10-01T14:46:06.163803Z",
     "start_time": "2020-10-01T14:46:04.222487Z"
    }
   },
   "outputs": [],
   "source": [
    "water_awei = wuhan18_landsat.select('AWEI').gt(0).selfMask()\n",
    "\n",
    "Map.addLayer(water_awei,{'palette': 'blue'},'water_awei')"
   ]
  },
  {
   "cell_type": "code",
   "execution_count": null,
   "metadata": {},
   "outputs": [],
   "source": []
  },
  {
   "cell_type": "code",
   "execution_count": null,
   "metadata": {},
   "outputs": [],
   "source": []
  }
 ],
 "metadata": {
  "hide_input": false,
  "kernelspec": {
   "display_name": "Python 3",
   "language": "python",
   "name": "python3"
  },
  "language_info": {
   "codemirror_mode": {
    "name": "ipython",
    "version": 3
   },
   "file_extension": ".py",
   "mimetype": "text/x-python",
   "name": "python",
   "nbconvert_exporter": "python",
   "pygments_lexer": "ipython3",
   "version": "3.8.5"
  },
  "toc": {
   "base_numbering": 1,
   "nav_menu": {},
   "number_sections": true,
   "sideBar": true,
   "skip_h1_title": false,
   "title_cell": "Table of Contents",
   "title_sidebar": "Contents",
   "toc_cell": false,
   "toc_position": {},
   "toc_section_display": true,
   "toc_window_display": false
  },
  "varInspector": {
   "cols": {
    "lenName": 16,
    "lenType": 16,
    "lenVar": 40
   },
   "kernels_config": {
    "python": {
     "delete_cmd_postfix": "",
     "delete_cmd_prefix": "del ",
     "library": "var_list.py",
     "varRefreshCmd": "print(var_dic_list())"
    },
    "r": {
     "delete_cmd_postfix": ") ",
     "delete_cmd_prefix": "rm(",
     "library": "var_list.r",
     "varRefreshCmd": "cat(var_dic_list()) "
    }
   },
   "types_to_exclude": [
    "module",
    "function",
    "builtin_function_or_method",
    "instance",
    "_Feature"
   ],
   "window_display": false
  }
 },
 "nbformat": 4,
 "nbformat_minor": 4
}
