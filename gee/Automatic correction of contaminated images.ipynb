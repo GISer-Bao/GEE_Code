{
 "cells": [
  {
   "cell_type": "code",
   "execution_count": 1,
   "metadata": {
    "ExecuteTime": {
     "end_time": "2021-10-08T08:25:40.302266Z",
     "start_time": "2021-10-08T08:25:40.294258Z"
    }
   },
   "outputs": [],
   "source": [
    "import os\n",
    "os.environ['HTTP_PROXY'] = \"http://127.0.0.1:10809\"\n",
    "os.environ['HTTPS_PROXY'] = \"http://127.0.0.1:10809\""
   ]
  },
  {
   "cell_type": "code",
   "execution_count": 2,
   "metadata": {
    "ExecuteTime": {
     "end_time": "2021-10-08T08:25:45.236297Z",
     "start_time": "2021-10-08T08:25:40.606305Z"
    },
    "scrolled": false
   },
   "outputs": [
    {
     "data": {
      "application/vnd.jupyter.widget-view+json": {
       "model_id": "d1a884cae172452f99b76f7a482930be",
       "version_major": 2,
       "version_minor": 0
      },
      "text/plain": [
       "Map(center=[40, -100], controls=(WidgetControl(options=['position', 'transparent_bg'], widget=HBox(children=(T…"
      ]
     },
     "metadata": {},
     "output_type": "display_data"
    }
   ],
   "source": [
    "import ee\n",
    "import geemap\n",
    "Map = geemap.Map()\n",
    "Map"
   ]
  },
  {
   "cell_type": "markdown",
   "metadata": {},
   "source": [
    "# 加载必要的数据"
   ]
  },
  {
   "cell_type": "code",
   "execution_count": 3,
   "metadata": {
    "ExecuteTime": {
     "end_time": "2021-10-08T08:25:47.281802Z",
     "start_time": "2021-10-08T08:25:45.301155Z"
    }
   },
   "outputs": [],
   "source": [
    "## 加载研究区域，以及设置缓冲区\n",
    "# 加载研究区\n",
    "EVSpencert = ee.Feature(ee.FeatureCollection('users/311605001111/region/EVSpencert').first())\n",
    "Map.addLayer(EVSpencert, {}, \"EVSpencert\")\n",
    "Map.centerObject(EVSpencert,12)\n",
    "\n",
    "# 为研究区设定500m的缓冲区\n",
    "EVSpencert_buffer = EVSpencert.buffer(500)\n",
    "Map.addLayer(EVSpencert_buffer, {}, \"EVSpencert_buffer\")"
   ]
  },
  {
   "cell_type": "code",
   "execution_count": 4,
   "metadata": {
    "ExecuteTime": {
     "end_time": "2021-10-08T08:25:48.043391Z",
     "start_time": "2021-10-08T08:25:47.344376Z"
    }
   },
   "outputs": [],
   "source": [
    "landsat_images = ee.ImageCollection('LANDSAT/LT05/C01/T1_SR') \\\n",
    "    .filterBounds(EVSpencert_buffer.geometry()) \\\n",
    "    .filterDate('2003-06-01', '2003-06-30') \n",
    "#     .map(cloudMaskL457)\n",
    "visParams5 = {\n",
    "  'bands': ['B3', 'B2', 'B1'],\n",
    "  'min': 0,\n",
    "  'max': 3000,\n",
    "  'gamma': 1.4,\n",
    "}\n",
    "EVSpencert_landsat = landsat_images.mosaic().clip(EVSpencert_buffer.geometry())\n",
    "Map.addLayer(EVSpencert_landsat,visParams5, 'EVSpencert_landsat')"
   ]
  },
  {
   "cell_type": "code",
   "execution_count": 5,
   "metadata": {
    "ExecuteTime": {
     "end_time": "2021-10-08T08:25:50.419067Z",
     "start_time": "2021-10-08T08:25:48.106922Z"
    },
    "scrolled": false
   },
   "outputs": [],
   "source": [
    "## 加载月尺度产品和水体频率产品\n",
    "# 加载月尺度水体制图产品\n",
    "EVSpencert_monthly_water = ee.Image('JRC/GSW1_2/MonthlyHistory/2003_06').clip(EVSpencert_buffer)\n",
    "visualization_monthly = {\n",
    "  'bands': ['water'],\n",
    "  'min': 0.0,\n",
    "  'max': 2.0,\n",
    "  'palette': ['green','fffcb8','0905ff']\n",
    "}\n",
    "Map.addLayer(EVSpencert_monthly_water,visualization_monthly, \"EVSpencert_monthly_water\")\n",
    "\n",
    "# 加载water occurrence 制图产品 \n",
    "EVSpencert_occurrence = ee.Image('JRC/GSW1_3/GlobalSurfaceWater').select('occurrence').clip(EVSpencert_buffer)\n",
    "visualization_occurrence = {\n",
    "  'bands': ['occurrence'],\n",
    "  'min': 0.0,\n",
    "  'max': 100.0,\n",
    "  'palette': ['green', 'yellow', 'red']\n",
    "}\n",
    "Map.addLayer(EVSpencert_occurrence, visualization_occurrence, 'EVSpencert_occurrence')"
   ]
  },
  {
   "cell_type": "code",
   "execution_count": 6,
   "metadata": {
    "ExecuteTime": {
     "end_time": "2021-10-08T08:25:51.432239Z",
     "start_time": "2021-10-08T08:25:50.482545Z"
    }
   },
   "outputs": [
    {
     "name": "stdout",
     "output_type": "stream",
     "text": [
      "61\n"
     ]
    }
   ],
   "source": [
    "roi = EVSpencert_buffer\n",
    "# img指经过指数计算，但未做云掩膜的图像\n",
    "def AutomaticCorrection_threshold(image):\n",
    "    class_image = image.clip(roi)\n",
    "    water = class_image.eq(2).selfMask().rename('waterclass')\n",
    "    no_data = class_image.eq(0).selfMask()\n",
    "    occurrence = ee.Image('JRC/GSW1_3/GlobalSurfaceWater').select('occurrence')\n",
    "    occurrence_water = occurrence.updateMask(water)\n",
    "    occurrence_no_data = occurrence.updateMask(no_data)\n",
    "    occurrence_HistogramCount = occurrence_water.reduceRegion(**{\n",
    "        'reducer': ee.Reducer.histogram(100,1),\n",
    "        'geometry': roi.geometry(),\n",
    "        'scale': 30,\n",
    "        'bestEffort': True,\n",
    "        'tileScale': 2,\n",
    "    })\n",
    "    histogram = ee.List(ee.Dictionary(occurrence_HistogramCount.get('occurrence')).get('histogram'))\n",
    "    bucketMeans = ee.List(ee.Dictionary(occurrence_HistogramCount.get('occurrence')).get('bucketMeans'))    \n",
    "    count_threshold = ee.Number(histogram.reduce(ee.Reducer.sum())).multiply(0.0017)\n",
    "    index = histogram.map(lambda i : ee.Algorithms.If(ee.Number(i).gte(ee.Number(count_threshold)),ee.Number(i))).removeAll([None]).get(0)\n",
    "    occurrence_threshold = bucketMeans.get(histogram.indexOf(index))\n",
    "    print(occurrence_threshold.getInfo())\n",
    "    return image.set({'occurrence_threshold':occurrence_threshold})\n",
    "a = AutomaticCorrection_threshold(EVSpencert_monthly_water)\n",
    "# Map.addLayer(a,visParams5, 'a')"
   ]
  },
  {
   "cell_type": "code",
   "execution_count": null,
   "metadata": {
    "ExecuteTime": {
     "end_time": "2021-08-15T07:48:35.209022Z",
     "start_time": "2021-08-15T07:48:32.321127Z"
    }
   },
   "outputs": [],
   "source": [
    "roi = EVSpencert_buffer\n",
    "def AutomaticCorrection(image):\n",
    "    basemap = ee.Image.constant(0).toFloat().clip(image.geometry()).clip(roi).rename('waterclass')\n",
    "    class_image = image.clip(roi)\n",
    "    water = class_image.eq(2).selfMask().rename('waterclass')\n",
    "    no_data = class_image.eq(0).selfMask()\n",
    "    occurrence = ee.Image('JRC/GSW1_3/GlobalSurfaceWater').select('occurrence').clip(image.geometry()).clip(roi)\n",
    "    occurrence_water = occurrence.updateMask(water)\n",
    "    occurrence_no_data = occurrence.updateMask(no_data)\n",
    "    # Map.addLayer(occurrence_water, visualization_occurrence, 'water in occurrence')\n",
    "    # Map.addLayer(occurrence_no_data, visualization_occurrence, 'no data in occurrence')\n",
    "    occurrence_HistogramCount = occurrence_water.reduceRegion(**{\n",
    "        'reducer': ee.Reducer.histogram(100,1),\n",
    "        'geometry': image.clip(roi).geometry(),\n",
    "        'scale': 30,\n",
    "    })\n",
    "    histogram = ee.List(ee.Dictionary(occurrence_HistogramCount.get('occurrence')).get('histogram'))\n",
    "    bucketMeans = ee.List(ee.Dictionary(occurrence_HistogramCount.get('occurrence')).get('bucketMeans'))    \n",
    "    count_threshold = ee.Number(histogram.reduce(ee.Reducer.sum())).multiply(0.0017)\n",
    "    index = histogram.map(lambda i : ee.Algorithms.If(ee.Number(i).gte(ee.Number(count_threshold)),ee.Number(i))).removeAll([None]).get(0)\n",
    "    occurrence_threshold = bucketMeans.get(histogram.indexOf(index))\n",
    "    print(occurrence_threshold.getInfo())\n",
    "    occurrence_corrected_water = occurrence_no_data.gte(ee.Number(occurrence_threshold)).selfMask().select('occurrence').rename('waterclass')\n",
    "    enhanced_water = ee.ImageCollection([basemap,water,occurrence_corrected_water]).sum()    \n",
    "    return enhanced_water\n",
    "\n",
    "a = AutomaticCorrection(EVSpencert_monthly_water)\n",
    "Map.addLayer(a.selfMask(),{'palette': ['blue']}, 'EVSpencert_enhanced_water')"
   ]
  },
  {
   "cell_type": "code",
   "execution_count": null,
   "metadata": {
    "ExecuteTime": {
     "end_time": "2021-08-15T07:47:18.076054Z",
     "start_time": "2021-08-15T07:47:15.984540Z"
    }
   },
   "outputs": [],
   "source": [
    "# 确定无效像元和水体的范围\n",
    "EVSpencert_water = EVSpencert_monthly_water.eq(2).selfMask()\n",
    "EVSpencert_no_data = EVSpencert_monthly_water.eq(0).selfMask()\n",
    "# Map.addLayer(EVSpencert_water,{'palette': ['cyan']}, 'EVSpencert_water')\n",
    "\n",
    "# 在水体频率上，确定无效像元和水体的范围\n",
    "occurrence_water = EVSpencert_occurrence.updateMask(EVSpencert_water)\n",
    "Map.addLayer(occurrence_water, visualization_occurrence, 'water in occurrence')\n",
    "occurrence_no_data = EVSpencert_occurrence.updateMask(EVSpencert_no_data)\n",
    "Map.addLayer(occurrence_no_data, visualization_occurrence, 'no data in occurrence')"
   ]
  },
  {
   "cell_type": "markdown",
   "metadata": {},
   "source": [
    "# 确定 count threshold 阈值"
   ]
  },
  {
   "cell_type": "code",
   "execution_count": null,
   "metadata": {
    "ExecuteTime": {
     "end_time": "2021-08-15T07:47:20.706725Z",
     "start_time": "2021-08-15T07:47:20.695655Z"
    }
   },
   "outputs": [],
   "source": [
    "# 计算 count threshold ；count_threshold = \"The average value of pixel counts\" *0.17\n",
    "occurrence_HistogramCount = occurrence_water.reduceRegion(**{\n",
    "    'reducer': ee.Reducer.histogram(100,1),\n",
    "    'geometry': EVSpencert_buffer.geometry(),\n",
    "    'scale': 30,\n",
    "})\n",
    "histogram = ee.List(ee.Dictionary(occurrence_HistogramCount.get('occurrence')).get('histogram'))\n",
    "bucketMeans = ee.List(ee.Dictionary(occurrence_HistogramCount.get('occurrence')).get('bucketMeans'))"
   ]
  },
  {
   "cell_type": "code",
   "execution_count": null,
   "metadata": {
    "ExecuteTime": {
     "end_time": "2021-08-15T07:47:24.710334Z",
     "start_time": "2021-08-15T07:47:21.047740Z"
    },
    "scrolled": true
   },
   "outputs": [],
   "source": [
    "HistogramCount_sum = histogram.reduce(ee.Reducer.sum())\n",
    "print(histogram.getInfo())\n",
    "count_threshold = ee.Number(HistogramCount_sum).multiply(0.0017)\n",
    "print(\"The sum of pixel counts : {}\".format(HistogramCount_sum.getInfo()))\n",
    "print(\"count threshold : {}\".format(count_threshold.getInfo()))"
   ]
  },
  {
   "cell_type": "markdown",
   "metadata": {},
   "source": [
    "# 确定 occurrence threshold 阈值"
   ]
  },
  {
   "cell_type": "markdown",
   "metadata": {},
   "source": [
    "方法： 执行下面方框中的代码，将出现一个2维数组，其含义为：第一列为 water frequency, 第二列为 the pixel counts in this frequency\n",
    "\n",
    "例如：[5,2]表示为：水体频率为5的像元个数是2； [99，41]表示为：水体频率为99的像元个数是41。\n",
    "\n",
    "查找到第一个 pixel count 大于或等于 count threshold 的情况， 该 pixel count 所对应的 water frequency 即为 occurrence threshold。"
   ]
  },
  {
   "cell_type": "code",
   "execution_count": null,
   "metadata": {
    "ExecuteTime": {
     "end_time": "2021-08-15T07:47:28.590726Z",
     "start_time": "2021-08-15T07:47:27.711788Z"
    }
   },
   "outputs": [],
   "source": [
    "index = histogram.map(lambda i : ee.Algorithms.If(ee.Number(i).gte(ee.Number(count_threshold)),ee.Number(i))).removeAll([None]).get(0)\n",
    "occurrence_threshold = bucketMeans.get(histogram.indexOf(index))\n",
    "print(occurrence_threshold.getInfo())"
   ]
  },
  {
   "cell_type": "code",
   "execution_count": null,
   "metadata": {
    "ExecuteTime": {
     "end_time": "2021-08-15T07:47:28.761211Z",
     "start_time": "2021-08-15T07:47:28.746250Z"
    }
   },
   "outputs": [],
   "source": [
    "def AutomaticCorrection(image):\n",
    "    basemap = ee.Image.constant(0).toFloat().clip(image.geometry()).clip(roi).rename('waterclass')\n",
    "    class_image = ee.ImageCollection([basemap,image.remap([0,1],[1,2]).rename('waterclass')]).sum()\n",
    "    water = class_image.eq(2).selfMask()\n",
    "    no_data = class_image.eq(0).selfMask()\n",
    "    occurrence = ee.Image('JRC/GSW1_3/GlobalSurfaceWater').select('occurrence').clip(image.geometry()).clip(roi)\n",
    "    occurrence_water = occurrence.updateMask(water)\n",
    "    occurrence_no_data = occurrence.updateMask(no_data)\n",
    "    occurrence_HistogramCount = occurrence_water.reduceRegion(**{\n",
    "        'reducer': ee.Reducer.histogram(100,1),\n",
    "        'geometry': image.clip(roi).geometry(),\n",
    "        'scale': 30,\n",
    "    })\n",
    "    histogram = ee.List(ee.Dictionary(occurrence_HistogramCount.get('occurrence')).get('histogram'))\n",
    "    bucketMeans = ee.List(ee.Dictionary(occurrence_HistogramCount.get('occurrence')).get('bucketMeans'))    \n",
    "    count_threshold = ee.Number(histogram.reduce(ee.Reducer.sum())).multiply(0.0017)\n",
    "    index = histogram.map(lambda i : ee.Algorithms.If(ee.Number(i).gte(ee.Number(count_threshold)),ee.Number(i))).removeAll([None]).get(0)\n",
    "    occurrence_threshold = bucketMeans.get(histogram.indexOf(index))\n",
    "    print(occurrence_threshold.getInfo())\n",
    "    occurrence_corrected_water = occurrence_no_data.gte(ee.Number(occurrence_threshold)).selfMask().select('occurrence').rename('waterclass')\n",
    "    enhanced_water = ee.ImageCollection([basemap,water,occurrence_corrected_water]).sum()\n",
    "    return enhanced_water"
   ]
  },
  {
   "cell_type": "code",
   "execution_count": null,
   "metadata": {
    "ExecuteTime": {
     "start_time": "2021-07-08T07:53:54.607Z"
    }
   },
   "outputs": [],
   "source": [
    "# occurrence_histogram = occurrence_water.reduceRegion(**{\n",
    "#     'reducer': ee.Reducer.autoHistogram(100,1),\n",
    "#     'geometry': EVSpencert_buffer.geometry(),\n",
    "#     'scale': 30,\n",
    "# })\n",
    "\n",
    "# def lookFrequency(array):\n",
    "#     counts = ee.Number(ee.List(array).get(1))\n",
    "#     a = ee.Algorithms.If(counts.gte(ee.Number(count_threshold)),ee.Number(ee.List(array).get(0)))\n",
    "#     return a\n",
    "# occurrence_list = ee.List(occurrence_histogram.get('occurrence').getInfo())\n",
    "# occurrence_threshold = occurrence_list.map(lookFrequency).removeAll([None]).get(0)\n",
    "# print(occurrence_threshold.getInfo())"
   ]
  },
  {
   "cell_type": "markdown",
   "metadata": {},
   "source": [
    "# 根据occurrence threshold , 求得增强后的湖泊范围"
   ]
  },
  {
   "cell_type": "code",
   "execution_count": null,
   "metadata": {
    "ExecuteTime": {
     "start_time": "2021-07-08T07:53:54.608Z"
    }
   },
   "outputs": [],
   "source": [
    "# 第一行代码中的“58”为 occcurrence threshold\n",
    "\n",
    "occurrence_corrected_water = occurrence_no_data.gte(ee.Number(occurrence_threshold)).selfMask().select('occurrence').rename('water')\n",
    "Map.addLayer(occurrence_corrected_water,{'palette': ['cyan']}, 'corrected waterbody')\n",
    "\n",
    "EVSpencert_enhanced_water = ee.ImageCollection([EVSpencert_water,occurrence_corrected_water]).sum()\n",
    "Map.addLayer(EVSpencert_enhanced_water,{'palette': ['blue']}, 'EVSpencert_enhanced_water')"
   ]
  },
  {
   "cell_type": "code",
   "execution_count": null,
   "metadata": {},
   "outputs": [],
   "source": []
  },
  {
   "cell_type": "markdown",
   "metadata": {},
   "source": [
    "# 制图"
   ]
  },
  {
   "cell_type": "code",
   "execution_count": null,
   "metadata": {
    "ExecuteTime": {
     "start_time": "2021-07-08T07:53:54.610Z"
    }
   },
   "outputs": [],
   "source": [
    "def cloudMaskL457(image):\n",
    "    qa = image.select('pixel_qa')\n",
    "    cloud = qa.bitwiseAnd(1 << 5) \\\n",
    "                   .And(qa.bitwiseAnd(1 << 7)) \\\n",
    "                   .Or(qa.bitwiseAnd(1 << 3))\n",
    "    mask2 = image.mask().reduce(ee.Reducer.min())\n",
    "    return image.updateMask(cloud.Not()).updateMask(mask2)\n",
    "\n",
    "visParams5 = {\n",
    "  'bands': ['B3', 'B2', 'B1'],\n",
    "  'min': 0,\n",
    "  'max': 3000,\n",
    "  'gamma': 1.4,\n",
    "}"
   ]
  },
  {
   "cell_type": "code",
   "execution_count": null,
   "metadata": {
    "ExecuteTime": {
     "start_time": "2021-07-08T07:53:54.611Z"
    }
   },
   "outputs": [],
   "source": [
    "landsat_images = ee.ImageCollection('LANDSAT/LT05/C01/T1_SR') \\\n",
    "    .filterBounds(EVSpencert_buffer.geometry()) \\\n",
    "    .filterDate('2003-06-01', '2003-06-30') \n",
    "#     .map(cloudMaskL457)\n",
    "EVSpencert_landsat = landsat_images.mosaic().clip(EVSpencert_buffer.geometry())\n",
    "Map.addLayer(EVSpencert_landsat,visParams5, 'EVSpencert_landsat')"
   ]
  },
  {
   "cell_type": "code",
   "execution_count": null,
   "metadata": {
    "ExecuteTime": {
     "start_time": "2021-07-08T07:53:54.612Z"
    },
    "scrolled": false
   },
   "outputs": [],
   "source": [
    "# 制图\n",
    "from matplotlib import pyplot as plt\n",
    "import numpy as np\n",
    "import matplotlib\n",
    "from geemap import cartoee\n",
    "region = [-100.595, 31.87, -100.51, 31.951] \n",
    "fig = plt.figure(figsize=(12, 8))\n",
    "# use cartoee to get a map\n",
    "ax = cartoee.get_map(EVSpencert_landsat, region=region, vis_params=visParams5)\n",
    "# add gridlines to the map at a specified interval\n",
    "cartoee.add_gridlines(ax, interval=[0.02,0.02], linestyle=\":\")\n",
    "ax.set_title(label = 'the landsat5(EVSpencert) in 2003/06', fontsize=20)"
   ]
  },
  {
   "cell_type": "code",
   "execution_count": null,
   "metadata": {},
   "outputs": [],
   "source": []
  },
  {
   "cell_type": "code",
   "execution_count": null,
   "metadata": {
    "ExecuteTime": {
     "start_time": "2021-07-08T07:53:54.614Z"
    },
    "scrolled": false
   },
   "outputs": [],
   "source": [
    "# 制图\n",
    "from matplotlib import pyplot as plt\n",
    "import numpy as np\n",
    "import matplotlib\n",
    "from geemap import cartoee\n",
    "region = [-100.595, 31.87, -100.51, 31.951] \n",
    "fig = plt.figure(figsize=(12, 8))\n",
    "# use cartoee to get a map\n",
    "ax = cartoee.get_map(EVSpencert_monthly_water, region=region, vis_params=visualization_monthly)\n",
    "# add gridlines to the map at a specified interval\n",
    "cartoee.add_gridlines(ax, interval=[0.02,0.02], linestyle=\":\")\n",
    "ax.set_title(label = 'EVSPencert waterbody in 2003/06', fontsize=20)"
   ]
  },
  {
   "cell_type": "code",
   "execution_count": null,
   "metadata": {},
   "outputs": [],
   "source": []
  },
  {
   "cell_type": "code",
   "execution_count": null,
   "metadata": {
    "ExecuteTime": {
     "start_time": "2021-07-08T07:53:54.616Z"
    }
   },
   "outputs": [],
   "source": [
    "# 制图\n",
    "from matplotlib import pyplot as plt\n",
    "import numpy as np\n",
    "import matplotlib\n",
    "from geemap import cartoee\n",
    "region = [-100.595, 31.87, -100.51, 31.951] \n",
    "fig = plt.figure(figsize=(12, 8))\n",
    "# use cartoee to get a map\n",
    "ax = cartoee.get_map(EVSpencert_occurrence, region=region, vis_params=visualization_occurrence)\n",
    "# add gridlines to the map at a specified interval\n",
    "cartoee.add_gridlines(ax, interval=[0.02,0.02], linestyle=\":\")\n",
    "ax.set_title(label = 'water occurrence in EVSpencert', fontsize=20)"
   ]
  },
  {
   "cell_type": "code",
   "execution_count": null,
   "metadata": {},
   "outputs": [],
   "source": []
  },
  {
   "cell_type": "code",
   "execution_count": null,
   "metadata": {
    "ExecuteTime": {
     "start_time": "2021-07-08T07:53:54.617Z"
    }
   },
   "outputs": [],
   "source": [
    "# 制图\n",
    "from matplotlib import pyplot as plt\n",
    "import numpy as np\n",
    "import matplotlib\n",
    "from geemap import cartoee\n",
    "region = [-100.595, 31.87, -100.51, 31.951] \n",
    "fig = plt.figure(figsize=(12, 8))\n",
    "# use cartoee to get a map\n",
    "ax = cartoee.get_map(occurrence_water, region=region, vis_params=visualization_occurrence)\n",
    "# add gridlines to the map at a specified interval\n",
    "cartoee.add_gridlines(ax, interval=[0.03,0.03], linestyle=\":\")\n",
    "ax.set_title(label = 'water occurrence in waterbody region', fontsize=20)"
   ]
  },
  {
   "cell_type": "code",
   "execution_count": null,
   "metadata": {},
   "outputs": [],
   "source": []
  },
  {
   "cell_type": "code",
   "execution_count": null,
   "metadata": {
    "ExecuteTime": {
     "start_time": "2021-07-08T07:53:54.619Z"
    }
   },
   "outputs": [],
   "source": [
    "# 制图\n",
    "from matplotlib import pyplot as plt\n",
    "import numpy as np\n",
    "import matplotlib\n",
    "from geemap import cartoee\n",
    "region = [-100.595, 31.87, -100.51, 31.951] \n",
    "vis = {'bands': ['water'], 'palette': ['blue'], 'min': 0.0, 'max': 1.0, 'opacity': 1.0}\n",
    "fig = plt.figure(figsize=(12, 8))\n",
    "# use cartoee to get a map\n",
    "ax = cartoee.get_map(EVSpencert_enhanced_water, region=region, vis_params=vis)\n",
    "# add gridlines to the map at a specified interval\n",
    "cartoee.add_gridlines(ax, interval=[0.02,0.02], linestyle=\":\")\n",
    "ax.set_title(label = 'enhanced water in EVSPencert', fontsize=20)"
   ]
  },
  {
   "cell_type": "code",
   "execution_count": null,
   "metadata": {
    "ExecuteTime": {
     "start_time": "2021-07-08T07:53:54.620Z"
    }
   },
   "outputs": [],
   "source": [
    "# 制图\n",
    "from matplotlib import pyplot as plt\n",
    "import numpy as np\n",
    "import matplotlib\n",
    "from geemap import cartoee\n",
    "region = [-100.595, 31.87, -100.51, 31.951] \n",
    "vis = {'bands': ['water'], 'palette': ['blue'], 'min': 0.0, 'max': 1.0, 'opacity': 1.0}\n",
    "fig = plt.figure(figsize=(12, 8))\n",
    "# use cartoee to get a map\n",
    "ax = cartoee.get_map(occurrence_corrected_water, region=region, vis_params=vis)\n",
    "# add gridlines to the map at a specified interval\n",
    "cartoee.add_gridlines(ax, interval=[0.02,0.02], linestyle=\":\")\n",
    "ax.set_title(label = 'occurrence_corrected_water', fontsize=20)"
   ]
  },
  {
   "cell_type": "code",
   "execution_count": null,
   "metadata": {},
   "outputs": [],
   "source": []
  }
 ],
 "metadata": {
  "hide_input": false,
  "kernelspec": {
   "display_name": "Python 3 (ipykernel)",
   "language": "python",
   "name": "python3"
  },
  "language_info": {
   "codemirror_mode": {
    "name": "ipython",
    "version": 3
   },
   "file_extension": ".py",
   "mimetype": "text/x-python",
   "name": "python",
   "nbconvert_exporter": "python",
   "pygments_lexer": "ipython3",
   "version": "3.8.12"
  },
  "toc": {
   "base_numbering": 1,
   "nav_menu": {},
   "number_sections": true,
   "sideBar": true,
   "skip_h1_title": false,
   "title_cell": "Table of Contents",
   "title_sidebar": "Contents",
   "toc_cell": false,
   "toc_position": {},
   "toc_section_display": true,
   "toc_window_display": false
  },
  "varInspector": {
   "cols": {
    "lenName": 16,
    "lenType": 16,
    "lenVar": 40
   },
   "kernels_config": {
    "python": {
     "delete_cmd_postfix": "",
     "delete_cmd_prefix": "del ",
     "library": "var_list.py",
     "varRefreshCmd": "print(var_dic_list())"
    },
    "r": {
     "delete_cmd_postfix": ") ",
     "delete_cmd_prefix": "rm(",
     "library": "var_list.r",
     "varRefreshCmd": "cat(var_dic_list()) "
    }
   },
   "types_to_exclude": [
    "module",
    "function",
    "builtin_function_or_method",
    "instance",
    "_Feature"
   ],
   "window_display": false
  }
 },
 "nbformat": 4,
 "nbformat_minor": 4
}
