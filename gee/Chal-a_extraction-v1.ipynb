{
 "cells": [
  {
   "cell_type": "code",
   "execution_count": 1,
   "metadata": {
    "ExecuteTime": {
     "end_time": "2020-12-03T09:52:49.477377Z",
     "start_time": "2020-12-03T09:52:49.473417Z"
    }
   },
   "outputs": [],
   "source": [
    "import os\n",
    "os.environ['HTTP_PROXY'] = \"http://127.0.0.1:10809\"\n",
    "os.environ['HTTPS_PROXY'] = \"http://127.0.0.1:10809\""
   ]
  },
  {
   "cell_type": "code",
   "execution_count": 2,
   "metadata": {
    "ExecuteTime": {
     "end_time": "2020-12-03T09:52:50.311442Z",
     "start_time": "2020-12-03T09:52:49.681126Z"
    }
   },
   "outputs": [],
   "source": [
    "import geemap\n",
    "import ee\n",
    "import os\n",
    "import pandas as pd \n",
    "from ipyleaflet import GeoJSON, Marker, MarkerCluster"
   ]
  },
  {
   "cell_type": "code",
   "execution_count": 3,
   "metadata": {
    "ExecuteTime": {
     "end_time": "2020-12-03T09:52:57.397318Z",
     "start_time": "2020-12-03T09:52:50.359754Z"
    },
    "scrolled": false
   },
   "outputs": [
    {
     "data": {
      "application/vnd.jupyter.widget-view+json": {
       "model_id": "f335947365d74ae4a818584458e1f2ed",
       "version_major": 2,
       "version_minor": 0
      },
      "text/plain": [
       "Map(center=[40, -100], controls=(WidgetControl(options=['position'], widget=HBox(children=(ToggleButton(value=…"
      ]
     },
     "metadata": {},
     "output_type": "display_data"
    }
   ],
   "source": [
    "Map=geemap.Map()\n",
    "Map"
   ]
  },
  {
   "cell_type": "markdown",
   "metadata": {},
   "source": [
    "# 导入研究区和chla的采样点"
   ]
  },
  {
   "cell_type": "code",
   "execution_count": 4,
   "metadata": {
    "ExecuteTime": {
     "end_time": "2020-12-03T09:52:59.571801Z",
     "start_time": "2020-12-03T09:52:57.446342Z"
    }
   },
   "outputs": [],
   "source": [
    "# 研究区\n",
    "caohu = ee.FeatureCollection('users/311605001111/caohu_region')\n",
    "# Map.addLayer(caohu, {}, \"caohu_vector\")\n",
    "Map.centerObject(caohu,10)   # 设置以研究区居中"
   ]
  },
  {
   "cell_type": "code",
   "execution_count": 5,
   "metadata": {
    "ExecuteTime": {
     "end_time": "2020-12-03T09:53:00.308465Z",
     "start_time": "2020-12-03T09:52:59.618676Z"
    }
   },
   "outputs": [],
   "source": [
    "## 导入chla采样点的位置\n",
    "# 导入点的shp文件\n",
    "monitor_point = \"D:/NDVI_exercise/caohu/monitor_point.shp\"\n",
    "# shp 转 ee\n",
    "monitor_point_ee = geemap.shp_to_ee(monitor_point)\n",
    "# 添加到layer\n",
    "Map.addLayer(monitor_point_ee, {}, \"monitor_point\")"
   ]
  },
  {
   "cell_type": "markdown",
   "metadata": {},
   "source": [
    "# 提取chla点，对应的像元值作为csv文件"
   ]
  },
  {
   "cell_type": "code",
   "execution_count": null,
   "metadata": {
    "ExecuteTime": {
     "end_time": "2020-12-01T09:58:13.919138Z",
     "start_time": "2020-12-01T09:58:13.906205Z"
    }
   },
   "outputs": [],
   "source": [
    "# images = ee.ImageCollection('LANDSAT/LC08/C01/T1_SR')\\\n",
    "#     .filterBounds(caohu) \\\n",
    "#     .filterDate('2016-01-01', '2016-01-31') \\\n",
    "#     .sort('CLOUD_COVER')\n",
    "\n",
    "# best_image = images.first()\n",
    "\n",
    "# print(best_image.get('system:id').getInfo())\n",
    "# print(best_image.get('CLOUD_COVER').getInfo())"
   ]
  },
  {
   "cell_type": "code",
   "execution_count": 6,
   "metadata": {
    "ExecuteTime": {
     "end_time": "2020-12-03T09:53:01.116062Z",
     "start_time": "2020-12-03T09:53:00.354342Z"
    }
   },
   "outputs": [],
   "source": [
    "caohu = ee.Image('LANDSAT/LC08/C01/T1_SR/LC08_121038_20160115').clip(caohu)\n",
    "vis_params = {\n",
    "  'bands': ['B5', 'B4', 'B3'],\n",
    "  'min': 0,\n",
    "  'max': 6000,\n",
    "  'gamma': 1.4,\n",
    "}\n",
    "\n",
    "caohu_image = caohu.addBands(caohu.select('B5').divide(caohu.select('B4')).rename('B5_B4'))\n",
    "\n",
    "Map.addLayer(caohu_image, vis_params, 'caohu_image')"
   ]
  },
  {
   "cell_type": "code",
   "execution_count": null,
   "metadata": {
    "ExecuteTime": {
     "end_time": "2020-12-01T09:58:14.431155Z",
     "start_time": "2020-12-01T09:58:14.417042Z"
    }
   },
   "outputs": [],
   "source": [
    "# # 添加数据文件所在目录的路径，idex_col指索引列\n",
    "# df = pd.read_csv('D:/NDVI_exercise/caohu_chla.csv',index_col='id')\n",
    "\n",
    "# maker_cluster = MarkerCluster(\n",
    "#     markers=[Marker(location=[df.iloc[i,3],df.iloc[i,2]]) for i in range(0,19)],\n",
    "#     name = 'Markers')\n",
    "# Map.add_layer(maker_cluster)"
   ]
  },
  {
   "cell_type": "code",
   "execution_count": 7,
   "metadata": {
    "ExecuteTime": {
     "end_time": "2020-12-03T09:53:18.131628Z",
     "start_time": "2020-12-03T09:53:01.169103Z"
    }
   },
   "outputs": [
    {
     "name": "stdout",
     "output_type": "stream",
     "text": [
      "Generating URL ...\n",
      "Downloading data from https://earthengine.googleapis.com/v1alpha/projects/earthengine-legacy/tables/12de5cfba747fcf15c90565e5e83d18a-f83765d660f852bd5023a35f351e80d8:getFeatures\n",
      "Please wait ...\n",
      "Data downloaded to C:\\Users\\DELL\\Downloads\\monitor_point.csv\n"
     ]
    }
   ],
   "source": [
    "out_dir = os.path.join(os.path.expanduser('~'), 'Downloads')\n",
    "csv = os.path.join(out_dir, 'monitor_point.csv')\n",
    "\n",
    "geemap.extract_values_to_points(monitor_point_ee,caohu_image,csv)"
   ]
  },
  {
   "cell_type": "markdown",
   "metadata": {},
   "source": [
    "# 构建一元线性回归方程，y = wx+b。求系数w、b的值"
   ]
  },
  {
   "cell_type": "code",
   "execution_count": 8,
   "metadata": {
    "ExecuteTime": {
     "end_time": "2020-12-03T09:53:19.618191Z",
     "start_time": "2020-12-03T09:53:18.184838Z"
    }
   },
   "outputs": [],
   "source": [
    "import matplotlib.pyplot as plt\n",
    "import numpy as np\n",
    "import pandas as pd\n",
    "from sklearn.linear_model import LinearRegression"
   ]
  },
  {
   "cell_type": "code",
   "execution_count": 9,
   "metadata": {
    "ExecuteTime": {
     "end_time": "2020-12-03T09:53:19.726385Z",
     "start_time": "2020-12-03T09:53:19.664934Z"
    }
   },
   "outputs": [
    {
     "data": {
      "text/plain": [
       "LinearRegression()"
      ]
     },
     "execution_count": 9,
     "metadata": {},
     "output_type": "execute_result"
    }
   ],
   "source": [
    "# 读取上一步提取的csv文件\n",
    "one_regression = pd.read_csv('C:/Users/DELL/Downloads/monitor_point.csv',index_col='id')\n",
    "\n",
    "# 提取表格中相应列的值\n",
    "chla = one_regression.loc[:,'chla'].values #叶绿素浓度\n",
    "up_point = one_regression.loc[:,'B5_B4'].values #像元值\n",
    "\n",
    "# 定义绘图的样式\n",
    "def runplt():\n",
    "    plt.figure()\n",
    "    plt.title(\"Chla concentration inversion\")\n",
    "    plt.xlabel('up_point')\n",
    "    plt.ylabel('chla')\n",
    "    plt.grid(True)\n",
    "    return plt\n",
    "\n",
    "model = LinearRegression()  # 创建模型\n",
    "\n",
    "X = up_point.reshape((-1,1))\n",
    "y = chla\n",
    "\n",
    "model.fit(X, y)  # 拟合"
   ]
  },
  {
   "cell_type": "markdown",
   "metadata": {},
   "source": [
    "## 绘图展示，数值的关系"
   ]
  },
  {
   "cell_type": "code",
   "execution_count": 10,
   "metadata": {
    "ExecuteTime": {
     "end_time": "2020-12-03T09:53:20.004304Z",
     "start_time": "2020-12-03T09:53:19.821953Z"
    }
   },
   "outputs": [
    {
     "name": "stdout",
     "output_type": "stream",
     "text": [
      "[0.4154  0.0685  0.05167 0.09096 0.0325  0.0685  0.07507 0.07084 0.05845\n",
      " 0.02361 0.06173 0.03135 0.61604 0.26429 0.03018 0.03579 0.06831 0.07412\n",
      " 0.03251]\n",
      "[1.4812593  1.0804597  0.3628692  0.43141592 0.3707415  0.3846939\n",
      " 0.44309393 0.41920903 0.4017094  0.4642409  0.36556855 0.37192982\n",
      " 0.4688562  0.37372592 0.33920705 0.32662192 0.4939759  0.36293858\n",
      " 0.3523316 ]\n"
     ]
    },
    {
     "data": {
      "image/png": "[encoded data removed]",
      "text/plain": [
       "<Figure size 432x288 with 1 Axes>"
      ]
     },
     "metadata": {
      "needs_background": "light"
     },
     "output_type": "display_data"
    }
   ],
   "source": [
    "# 输出提取的数值\n",
    "print(chla)\n",
    "print(up_point)\n",
    "\n",
    "# 根据提取的数字，绘图。x轴为up_point,y轴为chla\n",
    "plt = runplt()\n",
    "plt.plot(up_point, chla, 'k.')\n",
    "plt.show()"
   ]
  },
  {
   "cell_type": "markdown",
   "metadata": {},
   "source": [
    "## 拟合、预测"
   ]
  },
  {
   "cell_type": "code",
   "execution_count": null,
   "metadata": {
    "ExecuteTime": {
     "end_time": "2020-12-01T09:58:18.462955Z",
     "start_time": "2020-12-01T09:58:18.354314Z"
    },
    "scrolled": true
   },
   "outputs": [],
   "source": [
    "# 进行预测\n",
    "X2 = [[0.2], [0.4]] # 取两个预测值\n",
    "y2 = model.predict(X2)  # 进行预测\n",
    "print(y2)  # 查看预测值\n",
    "\n",
    "plt = runplt()\n",
    "plt.plot(up_point, chla, 'k.')\n",
    "plt.plot(X2, y2, 'g-')  # 画出拟合曲线\n",
    "plt.show()"
   ]
  },
  {
   "cell_type": "markdown",
   "metadata": {},
   "source": [
    "## 求系数w、b的值，均方误差的值"
   ]
  },
  {
   "cell_type": "code",
   "execution_count": 11,
   "metadata": {
    "ExecuteTime": {
     "end_time": "2020-12-03T09:53:20.209170Z",
     "start_time": "2020-12-03T09:53:20.100325Z"
    },
    "scrolled": false
   },
   "outputs": [
    {
     "name": "stdout",
     "output_type": "stream",
     "text": [
      "w = 0.222075\n",
      "b = 0.005561\n"
     ]
    },
    {
     "data": {
      "image/png": "[encoded data removed]",
      "text/plain": [
       "<Figure size 432x288 with 1 Axes>"
      ]
     },
     "metadata": {
      "needs_background": "light"
     },
     "output_type": "display_data"
    }
   ],
   "source": [
    "# 计算一元线性方程的系数，y = wx + b\n",
    "variance = np.var(up_point, ddof=1)  # 计算方差，doff为贝塞尔（无偏估计）校正系数\n",
    "covariance = np.cov(up_point, chla)[0][1]  # 计算协方差\n",
    "w = covariance / variance\n",
    "b = np.mean(chla) - w * np.mean(up_point)\n",
    "print(\"w = %f\\nb = %f\" % (w, b))\n",
    "\n",
    "chla_pred = w * up_point + b\n",
    "plt = runplt()\n",
    "plt.plot(up_point, chla, 'k.')  # 样本点\n",
    "plt.plot(up_point, chla_pred, 'b-')  # 手动求出的线性回归模型\n",
    "plt.show()"
   ]
  },
  {
   "cell_type": "code",
   "execution_count": 12,
   "metadata": {
    "ExecuteTime": {
     "end_time": "2020-12-03T09:53:20.316951Z",
     "start_time": "2020-12-03T09:53:20.302990Z"
    },
    "scrolled": true
   },
   "outputs": [
    {
     "name": "stdout",
     "output_type": "stream",
     "text": [
      "均方误差为: 0.018599\n"
     ]
    }
   ],
   "source": [
    "# 计算均方误差\n",
    "print(\"均方误差为: %f\" % np.mean((model.predict(X)-y) ** 2))"
   ]
  },
  {
   "cell_type": "markdown",
   "metadata": {},
   "source": [
    "#  根据系数w、b，建立模型，反演水质参数"
   ]
  },
  {
   "cell_type": "code",
   "execution_count": 18,
   "metadata": {
    "ExecuteTime": {
     "end_time": "2020-12-03T10:11:19.027622Z",
     "start_time": "2020-12-03T10:11:17.027154Z"
    },
    "scrolled": false
   },
   "outputs": [
    {
     "data": {
      "application/vnd.jupyter.widget-view+json": {
       "model_id": "f335947365d74ae4a818584458e1f2ed",
       "version_major": 2,
       "version_minor": 0
      },
      "text/plain": [
       "Map(bottom=107223.0, center=[31.423975737976722, 117.73017883300783], controls=(WidgetControl(options=['positi…"
      ]
     },
     "metadata": {},
     "output_type": "display_data"
    }
   ],
   "source": [
    "# 将w,b带入一元线性方程：y = wx+b\n",
    "caohu_chla = caohu_image.expression('w*(B5_B4)+b',{\"w\":w,'b':b,'B5_B4': caohu_image.select('B5_B4')}).rename('chla-concentration')\n",
    "Map.addLayer(caohu_chla,{'palette': ['FFFFFF','00a000' ,'008000'], 'min': 0, 'max': 1.5}, 'caohu_chla')\n",
    "Map"
   ]
  },
  {
   "cell_type": "code",
   "execution_count": null,
   "metadata": {},
   "outputs": [],
   "source": []
  }
 ],
 "metadata": {
  "hide_input": false,
  "kernelspec": {
   "display_name": "Python 3",
   "language": "python",
   "name": "python3"
  },
  "language_info": {
   "codemirror_mode": {
    "name": "ipython",
    "version": 3
   },
   "file_extension": ".py",
   "mimetype": "text/x-python",
   "name": "python",
   "nbconvert_exporter": "python",
   "pygments_lexer": "ipython3",
   "version": "3.8.5"
  },
  "toc": {
   "base_numbering": 1,
   "nav_menu": {},
   "number_sections": true,
   "sideBar": true,
   "skip_h1_title": false,
   "title_cell": "Table of Contents",
   "title_sidebar": "Contents",
   "toc_cell": false,
   "toc_position": {},
   "toc_section_display": true,
   "toc_window_display": false
  },
  "varInspector": {
   "cols": {
    "lenName": 16,
    "lenType": 16,
    "lenVar": 40
   },
   "kernels_config": {
    "python": {
     "delete_cmd_postfix": "",
     "delete_cmd_prefix": "del ",
     "library": "var_list.py",
     "varRefreshCmd": "print(var_dic_list())"
    },
    "r": {
     "delete_cmd_postfix": ") ",
     "delete_cmd_prefix": "rm(",
     "library": "var_list.r",
     "varRefreshCmd": "cat(var_dic_list()) "
    }
   },
   "types_to_exclude": [
    "module",
    "function",
    "builtin_function_or_method",
    "instance",
    "_Feature"
   ],
   "window_display": false
  }
 },
 "nbformat": 4,
 "nbformat_minor": 4
}
