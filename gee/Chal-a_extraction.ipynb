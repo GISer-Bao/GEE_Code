{
 "cells": [
  {
   "cell_type": "code",
   "execution_count": 1,
   "metadata": {
    "ExecuteTime": {
     "end_time": "2020-12-01T08:34:30.982621Z",
     "start_time": "2020-12-01T08:34:30.976840Z"
    }
   },
   "outputs": [],
   "source": [
    "import os\n",
    "os.environ['HTTP_PROXY'] = \"http://127.0.0.1:10809\"\n",
    "os.environ['HTTPS_PROXY'] = \"http://127.0.0.1:10809\""
   ]
  },
  {
   "cell_type": "code",
   "execution_count": 2,
   "metadata": {
    "ExecuteTime": {
     "end_time": "2020-12-01T08:34:31.901912Z",
     "start_time": "2020-12-01T08:34:31.288239Z"
    }
   },
   "outputs": [],
   "source": [
    "import geemap\n",
    "import ee\n",
    "import os\n",
    "import pandas as pd \n",
    "from ipyleaflet import GeoJSON, Marker, MarkerCluster"
   ]
  },
  {
   "cell_type": "code",
   "execution_count": 3,
   "metadata": {
    "ExecuteTime": {
     "end_time": "2020-12-01T08:34:38.814407Z",
     "start_time": "2020-12-01T08:34:31.997102Z"
    },
    "scrolled": false
   },
   "outputs": [
    {
     "data": {
      "application/vnd.jupyter.widget-view+json": {
       "model_id": "a22780a2b07148ccbbd5b91fa73d1725",
       "version_major": 2,
       "version_minor": 0
      },
      "text/plain": [
       "Map(center=[40, -100], controls=(WidgetControl(options=['position'], widget=HBox(children=(ToggleButton(value=…"
      ]
     },
     "metadata": {},
     "output_type": "display_data"
    }
   ],
   "source": [
    "Map=geemap.Map()\n",
    "Map"
   ]
  },
  {
   "cell_type": "code",
   "execution_count": 4,
   "metadata": {
    "ExecuteTime": {
     "end_time": "2020-12-01T08:34:43.442899Z",
     "start_time": "2020-12-01T08:34:42.120167Z"
    }
   },
   "outputs": [],
   "source": [
    "caohu = ee.FeatureCollection('users/311605001111/caohu_region')\n",
    "Map.addLayer(caohu, {}, \"caohu_vector\")\n",
    "Map.centerObject(caohu,10)   # 设置以研究区居中"
   ]
  },
  {
   "cell_type": "code",
   "execution_count": 5,
   "metadata": {
    "ExecuteTime": {
     "end_time": "2020-12-01T08:34:44.311906Z",
     "start_time": "2020-12-01T08:34:43.539721Z"
    }
   },
   "outputs": [],
   "source": [
    "# 输入研究区的shp文件所在路径\n",
    "monitor_point = \"D:/NDVI_exercise/caohu/monitor_point.shp\"\n",
    "# shp 转 ee\n",
    "monitor_point_ee = geemap.shp_to_ee(monitor_point)\n",
    "# 添加到layer\n",
    "Map.addLayer(monitor_point_ee, {}, \"monitor_point\")"
   ]
  },
  {
   "cell_type": "code",
   "execution_count": 6,
   "metadata": {
    "ExecuteTime": {
     "end_time": "2020-12-01T08:34:45.371148Z",
     "start_time": "2020-12-01T08:34:45.360207Z"
    }
   },
   "outputs": [],
   "source": [
    "# images = ee.ImageCollection('LANDSAT/LC08/C01/T1_SR')\\\n",
    "#     .filterBounds(caohu) \\\n",
    "#     .filterDate('2016-01-01', '2016-01-31') \\\n",
    "#     .sort('CLOUD_COVER')\n",
    "\n",
    "# best_image = images.first()\n",
    "\n",
    "# print(best_image.get('system:id').getInfo())\n",
    "# print(best_image.get('CLOUD_COVER').getInfo())"
   ]
  },
  {
   "cell_type": "code",
   "execution_count": 7,
   "metadata": {
    "ExecuteTime": {
     "end_time": "2020-12-01T08:34:46.699875Z",
     "start_time": "2020-12-01T08:34:46.272413Z"
    }
   },
   "outputs": [],
   "source": [
    "caohu = ee.Image('LANDSAT/LC08/C01/T1_SR/LC08_121038_20160115').clip(caohu)\n",
    "vis_params = {\n",
    "  'bands': ['B5', 'B4', 'B3'],\n",
    "  'min': 0,\n",
    "  'max': 6000,\n",
    "  'gamma': 1.4,\n",
    "}\n",
    "\n",
    "caohu_image = caohu.addBands(caohu.select('B5').divide(caohu.select('B4')).rename('B5_B4'))\n",
    "\n",
    "Map.addLayer(caohu_image, vis_params, 'caohu_image')"
   ]
  },
  {
   "cell_type": "code",
   "execution_count": null,
   "metadata": {
    "ExecuteTime": {
     "end_time": "2020-12-01T08:33:38.193008Z",
     "start_time": "2020-12-01T08:33:30.901Z"
    }
   },
   "outputs": [],
   "source": [
    "# # 添加数据文件所在目录的路径，idex_col指索引列\n",
    "# df = pd.read_csv('D:/NDVI_exercise/caohu_chla.csv',index_col='id')\n",
    "\n",
    "# maker_cluster = MarkerCluster(\n",
    "#     markers=[Marker(location=[df.iloc[i,3],df.iloc[i,2]]) for i in range(0,19)],\n",
    "#     name = 'Markers')\n",
    "# Map.add_layer(maker_cluster)"
   ]
  },
  {
   "cell_type": "code",
   "execution_count": 8,
   "metadata": {
    "ExecuteTime": {
     "end_time": "2020-12-01T08:35:01.852988Z",
     "start_time": "2020-12-01T08:34:58.719824Z"
    }
   },
   "outputs": [
    {
     "name": "stdout",
     "output_type": "stream",
     "text": [
      "Generating URL ...\n",
      "Downloading data from https://earthengine.googleapis.com/v1alpha/projects/earthengine-legacy/tables/12de5cfba747fcf15c90565e5e83d18a-033ef08cde057e4972c35c993ed8e565:getFeatures\n",
      "Please wait ...\n",
      "Data downloaded to C:\\Users\\DELL\\Downloads\\monitor_point.csv\n"
     ]
    }
   ],
   "source": [
    "out_dir = os.path.join(os.path.expanduser('~'), 'Downloads')\n",
    "csv = os.path.join(out_dir, 'monitor_point.csv')\n",
    "\n",
    "geemap.extract_values_to_points(monitor_point_ee,caohu_image,csv)"
   ]
  },
  {
   "cell_type": "markdown",
   "metadata": {},
   "source": [
    "##  根据系数，建立模型，反演水质参数"
   ]
  },
  {
   "cell_type": "code",
   "execution_count": null,
   "metadata": {
    "ExecuteTime": {
     "end_time": "2020-12-01T08:33:21.248208Z",
     "start_time": "2020-12-01T08:33:21.240084Z"
    }
   },
   "outputs": [],
   "source": [
    "def chla_inversion(image,a,b):\n",
    "    evi = image.expression('a*(B5/B4)+b',\n",
    "        {\n",
    "          'B5/B4': image.select('B5/B4')\n",
    "        }).rename('CHLA')"
   ]
  },
  {
   "cell_type": "code",
   "execution_count": null,
   "metadata": {
    "ExecuteTime": {
     "end_time": "2020-12-01T08:33:21.824971Z",
     "start_time": "2020-12-01T08:33:21.728063Z"
    }
   },
   "outputs": [],
   "source": [
    "# 将a,b更换了线性回归的数字\n",
    "caohu_chla = caohu_image.expression('a*(B5_B4)+b',{'a': 0.1747,'b': -0.0149,'B5_B4': caohu_image.select('B5_B4')})\n",
    "\n",
    "Map.addLayer(caohu_chla,{}, 'caohu_chla')"
   ]
  },
  {
   "cell_type": "markdown",
   "metadata": {},
   "source": [
    "## 一元线性回归"
   ]
  },
  {
   "cell_type": "code",
   "execution_count": 9,
   "metadata": {
    "ExecuteTime": {
     "end_time": "2020-12-01T08:35:09.492216Z",
     "start_time": "2020-12-01T08:35:09.063818Z"
    }
   },
   "outputs": [],
   "source": [
    "import matplotlib.pyplot as plt\n",
    "import numpy as np\n",
    "import pandas as pd\n",
    "from sklearn.linear_model import LinearRegression"
   ]
  },
  {
   "cell_type": "code",
   "execution_count": 10,
   "metadata": {
    "ExecuteTime": {
     "end_time": "2020-12-01T08:35:10.304807Z",
     "start_time": "2020-12-01T08:35:10.296859Z"
    },
    "scrolled": true
   },
   "outputs": [],
   "source": [
    "one_regression = pd.read_csv('C:/Users/DELL/Downloads/monitor_point.csv',index_col='id')"
   ]
  },
  {
   "cell_type": "code",
   "execution_count": 11,
   "metadata": {
    "ExecuteTime": {
     "end_time": "2020-12-01T08:35:11.428811Z",
     "start_time": "2020-12-01T08:35:11.304147Z"
    },
    "scrolled": false
   },
   "outputs": [
    {
     "name": "stdout",
     "output_type": "stream",
     "text": [
      "[0.4154  0.0685  0.05167 0.09096 0.0325  0.0685  0.07507 0.07084 0.05845\n",
      " 0.02361 0.06173 0.03135 0.61604 0.26429 0.03018 0.03579 0.06831 0.07412\n",
      " 0.03251]\n",
      "[1.4812593  1.0804597  0.3628692  0.43141592 0.3707415  0.3846939\n",
      " 0.44309393 0.41920903 0.4017094  0.4642409  0.36556855 0.37192982\n",
      " 0.4688562  0.37372592 0.33920705 0.32662192 0.4939759  0.36293858\n",
      " 0.3523316 ]\n"
     ]
    },
    {
     "data": {
      "image/png": "[encoded data removed]",
      "text/plain": [
       "<Figure size 432x288 with 1 Axes>"
      ]
     },
     "metadata": {
      "needs_background": "light"
     },
     "output_type": "display_data"
    }
   ],
   "source": [
    "# 提取表格中相应列的值\n",
    "chla = one_regression.loc[:,'chla'].values #叶绿素浓度\n",
    "up_point = one_regression.loc[:,'B5_B4'].values #像元值\n",
    "\n",
    "# 输出提取的数值\n",
    "print(chla)\n",
    "print(up_point)\n",
    "\n",
    "# 定义绘图的样式\n",
    "def runplt():\n",
    "    plt.figure()\n",
    "    plt.title(\"Chla concentration inversion\")\n",
    "    plt.xlabel('up_point')\n",
    "    plt.ylabel('chla')\n",
    "    plt.grid(True)\n",
    "    return plt\n",
    "\n",
    "# 根据提取的数字，绘图。x轴为up_point,y轴为chla\n",
    "plt = runplt()\n",
    "plt.plot(up_point, chla, 'k.')\n",
    "plt.show()"
   ]
  },
  {
   "cell_type": "code",
   "execution_count": 14,
   "metadata": {
    "ExecuteTime": {
     "end_time": "2020-12-01T08:35:29.581359Z",
     "start_time": "2020-12-01T08:35:29.463894Z"
    },
    "scrolled": true
   },
   "outputs": [
    {
     "name": "stdout",
     "output_type": "stream",
     "text": [
      "[0.04997632 0.09439137]\n"
     ]
    },
    {
     "data": {
      "image/png": "[encoded data removed]",
      "text/plain": [
       "<Figure size 432x288 with 1 Axes>"
      ]
     },
     "metadata": {
      "needs_background": "light"
     },
     "output_type": "display_data"
    }
   ],
   "source": [
    "chla = one_regression.loc[:,'chla'].values #叶绿素浓度\n",
    "up_point = one_regression.loc[:,'B5_B4'].values #像元值\n",
    "# 拟合曲线\n",
    "model = LinearRegression()  # 创建模型\n",
    "x = up_point.reshape((-1,1))\n",
    "y = chla\n",
    "model.fit(x, y)  # 拟合\n",
    "\n",
    "# 进行预测\n",
    "X2 = [[0.2], [0.4]] # 取两个预测值\n",
    "y2 = model.predict(X2)  # 进行预测\n",
    "print(y2)  # 查看预测值\n",
    "\n",
    "plt = runplt()\n",
    "plt.plot(up_point, chla, 'k.')\n",
    "plt.plot(X2, y2, 'g-')  # 画出拟合曲线\n",
    "plt.show()"
   ]
  },
  {
   "cell_type": "code",
   "execution_count": 12,
   "metadata": {
    "ExecuteTime": {
     "end_time": "2020-12-01T08:35:18.087238Z",
     "start_time": "2020-12-01T08:35:18.072394Z"
    },
    "scrolled": true
   },
   "outputs": [
    {
     "name": "stdout",
     "output_type": "stream",
     "text": [
      "w = 0.222075\n",
      "b = 0.005561\n"
     ]
    }
   ],
   "source": [
    "# 计算一元线性方程的系数，y = wx + b\n",
    "variance = np.var(up_point, ddof=1)  # 计算方差，doff为贝塞尔（无偏估计）校正系数\n",
    "covariance = np.cov(up_point, chla)[0][1]  # 计算协方差\n",
    "w = covariance / variance\n",
    "b = np.mean(chla) - w * np.mean(up_point)\n",
    "\n",
    "print(\"w = %f\\nb = %f\" % (w, b))"
   ]
  },
  {
   "cell_type": "code",
   "execution_count": 16,
   "metadata": {
    "ExecuteTime": {
     "end_time": "2020-12-01T08:52:24.007203Z",
     "start_time": "2020-12-01T08:52:23.993150Z"
    }
   },
   "outputs": [
    {
     "name": "stdout",
     "output_type": "stream",
     "text": [
      "均方误差为: 0.026488\n"
     ]
    }
   ],
   "source": [
    "# 计算均方误差\n",
    "X = up_point.reshape((-1,1))\n",
    "y = chla.reshape((-1,1))\n",
    "print(\"均方误差为: %f\" % np.mean((model.predict(X)-y) ** 2))"
   ]
  },
  {
   "cell_type": "code",
   "execution_count": null,
   "metadata": {},
   "outputs": [],
   "source": []
  },
  {
   "cell_type": "code",
   "execution_count": null,
   "metadata": {},
   "outputs": [],
   "source": []
  }
 ],
 "metadata": {
  "hide_input": false,
  "kernelspec": {
   "display_name": "Python 3",
   "language": "python",
   "name": "python3"
  },
  "language_info": {
   "codemirror_mode": {
    "name": "ipython",
    "version": 3
   },
   "file_extension": ".py",
   "mimetype": "text/x-python",
   "name": "python",
   "nbconvert_exporter": "python",
   "pygments_lexer": "ipython3",
   "version": "3.8.5"
  },
  "toc": {
   "base_numbering": 1,
   "nav_menu": {},
   "number_sections": true,
   "sideBar": true,
   "skip_h1_title": false,
   "title_cell": "Table of Contents",
   "title_sidebar": "Contents",
   "toc_cell": false,
   "toc_position": {},
   "toc_section_display": true,
   "toc_window_display": false
  },
  "varInspector": {
   "cols": {
    "lenName": 16,
    "lenType": 16,
    "lenVar": 40
   },
   "kernels_config": {
    "python": {
     "delete_cmd_postfix": "",
     "delete_cmd_prefix": "del ",
     "library": "var_list.py",
     "varRefreshCmd": "print(var_dic_list())"
    },
    "r": {
     "delete_cmd_postfix": ") ",
     "delete_cmd_prefix": "rm(",
     "library": "var_list.r",
     "varRefreshCmd": "cat(var_dic_list()) "
    }
   },
   "types_to_exclude": [
    "module",
    "function",
    "builtin_function_or_method",
    "instance",
    "_Feature"
   ],
   "window_display": false
  }
 },
 "nbformat": 4,
 "nbformat_minor": 4
}
