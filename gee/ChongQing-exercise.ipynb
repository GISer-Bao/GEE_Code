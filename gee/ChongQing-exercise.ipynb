{
 "cells": [
  {
   "cell_type": "code",
   "execution_count": null,
   "metadata": {
    "ExecuteTime": {
     "end_time": "2021-03-27T08:54:53.632268Z",
     "start_time": "2021-03-27T08:54:53.626251Z"
    }
   },
   "outputs": [],
   "source": [
    "import os\n",
    "os.environ['HTTP_PROXY'] = \"http://127.0.0.1:10809\"\n",
    "os.environ['HTTPS_PROXY'] = \"http://127.0.0.1:10809\""
   ]
  },
  {
   "cell_type": "code",
   "execution_count": null,
   "metadata": {
    "ExecuteTime": {
     "end_time": "2021-03-27T08:54:58.576820Z",
     "start_time": "2021-03-27T08:54:54.273925Z"
    }
   },
   "outputs": [],
   "source": [
    "import geemap\n",
    "import ee\n",
    "Map=geemap.Map()\n",
    "Map"
   ]
  },
  {
   "cell_type": "code",
   "execution_count": null,
   "metadata": {
    "ExecuteTime": {
     "end_time": "2021-02-28T13:53:34.045179Z",
     "start_time": "2021-02-28T13:53:33.216376Z"
    }
   },
   "outputs": [],
   "source": [
    "chongqing = ee.FeatureCollection('users/311605001111/YangtzeCity/chongqing')\n",
    "Map.addLayer(chongqing, {}, \"chongqing\")\n",
    "Map.centerObject(chongqing,7)"
   ]
  },
  {
   "cell_type": "code",
   "execution_count": null,
   "metadata": {
    "ExecuteTime": {
     "end_time": "2021-02-28T13:53:34.080092Z",
     "start_time": "2021-02-28T13:53:34.073108Z"
    }
   },
   "outputs": [],
   "source": [
    "def NDVI(image):\n",
    "    ndvi=image.normalizedDifference(['B5', 'B4']).rename('NDVI')  \n",
    "    return image.addBands(ndvi)\n",
    "\n",
    "def mNDWI(image):\n",
    "    mndwi=image.normalizedDifference(['B3', 'B6']).rename(\"mNDWI\")\n",
    "    return image.addBands(mndwi)\n",
    "\n",
    "def EVI(image):\n",
    "    evi = image.expression('((nir - red) / (nir + 6*red - 7.5*blue + 1)) * 2.5',\n",
    "        {\n",
    "          'blue': image.select('B2'),    # 0.452-0.512μm, blue\n",
    "          'nir': image.select('B5'),    # 0.851-0.879μm, nir\n",
    "          'red': image.select('B4'),    # 0.636-0.673μm, red\n",
    "        }).rename('EVI')\n",
    "    return image.addBands(evi)\n",
    "# AWEI(自动水体提取指数): AWEIsh = B2 + 2.5B3 - 1.5(B5+B6) - 0.25B7\n",
    "def AWEIsh(image):\n",
    "    awei = image.expression('B2 + 2.5*B3 - 1.5*(B5+B6) - 0.25*B7',\n",
    "        {\n",
    "          'B2': image.select('B2'),\n",
    "          'B3': image.select('B3'),    \n",
    "          'B5': image.select('B5'),    \n",
    "          'B6': image.select('B6'),\n",
    "          'B7': image.select('B7'),\n",
    "        }).rename('AWEI')\n",
    "    return image.addBands(awei)"
   ]
  },
  {
   "cell_type": "code",
   "execution_count": null,
   "metadata": {
    "ExecuteTime": {
     "end_time": "2021-02-28T11:58:14.369582Z",
     "start_time": "2021-02-28T11:58:14.358611Z"
    },
    "scrolled": true
   },
   "outputs": [],
   "source": [
    "def area_after_clip(image):\n",
    "    image_clip = image.clip(chongqing).select('B2').gt(0)\n",
    "    image_area = image_clip.multiply(ee.Image.pixelArea()).divide(1e6)\n",
    "    areas = image_area.reduceRegion(**{\n",
    "        'reducer': ee.Reducer.sum(),\n",
    "        'geometry': chongqing.geometry(),\n",
    "        'scale': 30,\n",
    "        'maxPixels': 1e14\n",
    "    })\n",
    "    return image.clip(chongqing).set({'area': areas.get('B2')})"
   ]
  },
  {
   "cell_type": "code",
   "execution_count": null,
   "metadata": {
    "ExecuteTime": {
     "end_time": "2021-02-28T11:58:44.464138Z",
     "start_time": "2021-02-28T11:58:44.458152Z"
    }
   },
   "outputs": [],
   "source": [
    "# 去云掩膜函数\n",
    "def maskL8sr(image):\n",
    "    cloudShadowBitMask = (1 << 3)\n",
    "    cloudsBitMask = (1 << 5)\n",
    "    qa = image.select('pixel_qa')\n",
    "    mask = qa.bitwiseAnd(cloudShadowBitMask).eq(0) \\\n",
    "                 .And(qa.bitwiseAnd(cloudsBitMask).eq(0))\n",
    "    return image.updateMask(mask)\n",
    "\n",
    "# 可视化参数设置\n",
    "vis_params = {\n",
    "  'bands': ['B4', 'B3', 'B2'],\n",
    "  'min': 0,\n",
    "  'max': 3000,\n",
    "  'gamma': 1.4,\n",
    "}"
   ]
  },
  {
   "cell_type": "code",
   "execution_count": null,
   "metadata": {
    "ExecuteTime": {
     "end_time": "2021-02-28T11:58:44.737406Z",
     "start_time": "2021-02-28T11:58:44.731428Z"
    }
   },
   "outputs": [],
   "source": [
    "# 筛选数据（使用日期，云量，研究区），去云\n",
    "landsat_images = ee.ImageCollection('LANDSAT/LC08/C01/T1_SR') \\\n",
    "    .filterBounds(chongqing) \\\n",
    "    .filterDate('2019-01-01', '2019-12-31') \\\n",
    "    .map(maskL8sr)\n"
   ]
  },
  {
   "cell_type": "code",
   "execution_count": null,
   "metadata": {
    "ExecuteTime": {
     "end_time": "2021-02-28T11:58:48.958163Z",
     "start_time": "2021-02-28T11:58:45.100434Z"
    }
   },
   "outputs": [],
   "source": [
    "print(landsat_images.size().getInfo())"
   ]
  },
  {
   "cell_type": "code",
   "execution_count": null,
   "metadata": {
    "ExecuteTime": {
     "end_time": "2021-02-28T11:59:00.443421Z",
     "start_time": "2021-02-28T11:58:49.110715Z"
    }
   },
   "outputs": [],
   "source": [
    "landsat_images_filter = landsat_images.map(area_after_clip).filter(ee.Filter.gt('area',0))\n",
    "Map.addLayer(landsat_images_filter.first(),vis_params,'chongqing landsat')\n",
    "print(landsat_images_filter.size().getInfo())"
   ]
  },
  {
   "cell_type": "code",
   "execution_count": null,
   "metadata": {},
   "outputs": [],
   "source": []
  },
  {
   "cell_type": "code",
   "execution_count": null,
   "metadata": {
    "ExecuteTime": {
     "end_time": "2021-02-26T02:38:01.056018Z",
     "start_time": "2021-02-26T02:38:00.296021Z"
    }
   },
   "outputs": [],
   "source": [
    "landsat_map = landsat_images_filter.map(NDVI).map(mNDWI).map(EVI).map(AWEIsh)\n",
    "chongqing_landsat = landsat_map.mosaic().clip(chongqing)\n",
    "Map.addLayer(chongqing_landsat,vis_params,'chongqing landsat')"
   ]
  },
  {
   "cell_type": "code",
   "execution_count": null,
   "metadata": {
    "ExecuteTime": {
     "end_time": "2021-02-26T02:38:01.989564Z",
     "start_time": "2021-02-26T02:38:01.514813Z"
    }
   },
   "outputs": [],
   "source": [
    "elevation = ee.Image('CGIAR/SRTM90_V4').select('elevation')\n",
    "slope = ee.Terrain.slope(elevation)\n",
    "chongqing_slope = slope.clip(chongqing)\n",
    "# Map.addLayer(chongqing_slope,{min: 0, max: 60}, 'chongqing slope')\n",
    "\n",
    "\n",
    "flat_slope = slope.clip(chongqing).select('slope').lt(3).selfMask()\n",
    "Map.addLayer(flat_slope,{'palette': 'yellow'}, 'flat slope')"
   ]
  },
  {
   "cell_type": "code",
   "execution_count": null,
   "metadata": {
    "ExecuteTime": {
     "end_time": "2021-02-26T02:38:03.980823Z",
     "start_time": "2021-02-26T02:38:03.084215Z"
    }
   },
   "outputs": [],
   "source": [
    "water_mndwi = chongqing_landsat.select('mNDWI').gt(0.15)\n",
    "water_ndvi_mndwi = chongqing_landsat.select('mNDWI').gt(chongqing_landsat.select('NDVI'))\n",
    "water_awei = chongqing_landsat.select('AWEI').gt(0)\n",
    "\n",
    "water_mndwi_rename = water_mndwi.select('mNDWI').rename('class')\n",
    "water_ndvi_mndwi_rename = water_ndvi_mndwi.select('mNDWI').rename('class')\n",
    "water_awei_rename = water_awei.select('AWEI').rename('class')\n",
    "chongqing_water = ee.ImageCollection([water_mndwi_rename,water_ndvi_mndwi_rename,water_awei_rename]).sum().eq(3).selfMask()\n",
    "Map.addLayer(chongqing_water,{'palette': 'blue'},'chonging water')"
   ]
  },
  {
   "cell_type": "code",
   "execution_count": null,
   "metadata": {
    "ExecuteTime": {
     "end_time": "2021-02-26T02:38:06.710709Z",
     "start_time": "2021-02-26T02:38:05.951931Z"
    }
   },
   "outputs": [],
   "source": [
    "chongqing_water_slope = chongqing_water.updateMask(flat_slope)\n",
    "Map.addLayer(chongqing_water_slope,{'palette': 'cyan'},'chonging water slope')"
   ]
  },
  {
   "cell_type": "code",
   "execution_count": null,
   "metadata": {
    "ExecuteTime": {
     "end_time": "2021-02-26T02:04:53.145491Z",
     "start_time": "2021-02-26T02:04:52.729601Z"
    }
   },
   "outputs": [],
   "source": [
    "water_data = ee.Image(\"JRC/GSW1_2/YearlyHistory/2019\").clip(chongqing)\n",
    "water = water_data.eq(3).selfMask()\n",
    "Map.addLayer(water,{'palette': '99d9ea'}, 'water')"
   ]
  },
  {
   "cell_type": "code",
   "execution_count": null,
   "metadata": {},
   "outputs": [],
   "source": []
  },
  {
   "cell_type": "code",
   "execution_count": null,
   "metadata": {
    "ExecuteTime": {
     "end_time": "2021-02-28T11:59:21.952966Z",
     "start_time": "2021-02-28T11:59:20.465898Z"
    },
    "scrolled": true
   },
   "outputs": [],
   "source": [
    "first = area_after_clip(landsat_images.first())\n",
    "print(first.get('area').getInfo())\n",
    "print(first.getInfo())"
   ]
  },
  {
   "cell_type": "code",
   "execution_count": null,
   "metadata": {
    "ExecuteTime": {
     "end_time": "2021-02-28T09:47:32.632961Z",
     "start_time": "2021-02-28T09:47:29.314828Z"
    }
   },
   "outputs": [],
   "source": [
    "fir = landsat_images.first().clip(chongqing)\n",
    "first = landsat_images.first().clip(chongqing).select('B2').gt(0)\n",
    "Map.addLayer(first,{'palette': 'blue'},'first landsat')\n",
    "print(first.getNumber('system:time_start').getInfo())\n",
    "image_area = first.multiply(ee.Image.pixelArea()).divide(1e6)\n",
    "areas = image_area.reduceRegion(**{\n",
    "    'reducer': ee.Reducer.sum(),\n",
    "    'geometry': chongqing.geometry(),\n",
    "    'scale': 30,\n",
    "    'maxPixels': 1e14\n",
    "})\n",
    "\n",
    "b = fir.set({'area': areas.get('B2')})\n",
    "print(b.get('area').getInfo())\n",
    "print(areas.getNumber('B2').getInfo())"
   ]
  }
 ],
 "metadata": {
  "hide_input": false,
  "kernelspec": {
   "display_name": "Python 3",
   "language": "python",
   "name": "python3"
  },
  "language_info": {
   "codemirror_mode": {
    "name": "ipython",
    "version": 3
   },
   "file_extension": ".py",
   "mimetype": "text/x-python",
   "name": "python",
   "nbconvert_exporter": "python",
   "pygments_lexer": "ipython3",
   "version": "3.8.5"
  },
  "toc": {
   "base_numbering": 1,
   "nav_menu": {},
   "number_sections": true,
   "sideBar": true,
   "skip_h1_title": false,
   "title_cell": "Table of Contents",
   "title_sidebar": "Contents",
   "toc_cell": false,
   "toc_position": {},
   "toc_section_display": true,
   "toc_window_display": false
  },
  "varInspector": {
   "cols": {
    "lenName": 16,
    "lenType": 16,
    "lenVar": 40
   },
   "kernels_config": {
    "python": {
     "delete_cmd_postfix": "",
     "delete_cmd_prefix": "del ",
     "library": "var_list.py",
     "varRefreshCmd": "print(var_dic_list())"
    },
    "r": {
     "delete_cmd_postfix": ") ",
     "delete_cmd_prefix": "rm(",
     "library": "var_list.r",
     "varRefreshCmd": "cat(var_dic_list()) "
    }
   },
   "types_to_exclude": [
    "module",
    "function",
    "builtin_function_or_method",
    "instance",
    "_Feature"
   ],
   "window_display": false
  }
 },
 "nbformat": 4,
 "nbformat_minor": 4
}
