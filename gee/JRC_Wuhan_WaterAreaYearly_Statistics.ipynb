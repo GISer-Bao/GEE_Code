{
 "cells": [
  {
   "cell_type": "code",
   "execution_count": 1,
   "metadata": {
    "ExecuteTime": {
     "end_time": "2021-01-05T14:28:15.171906Z",
     "start_time": "2021-01-05T14:28:15.155859Z"
    }
   },
   "outputs": [],
   "source": [
    "import os\n",
    "os.environ['HTTP_PROXY'] = \"http://127.0.0.1:10809\"\n",
    "os.environ['HTTPS_PROXY'] = \"http://127.0.0.1:10809\""
   ]
  },
  {
   "cell_type": "code",
   "execution_count": 2,
   "metadata": {
    "ExecuteTime": {
     "end_time": "2021-01-05T14:28:20.403962Z",
     "start_time": "2021-01-05T14:28:15.532131Z"
    },
    "scrolled": false
   },
   "outputs": [
    {
     "data": {
      "application/vnd.jupyter.widget-view+json": {
       "model_id": "228ca41a09364f978b19df8d138c2800",
       "version_major": 2,
       "version_minor": 0
      },
      "text/plain": [
       "Map(center=[40, -100], controls=(WidgetControl(options=['position'], widget=HBox(children=(ToggleButton(value=…"
      ]
     },
     "metadata": {},
     "output_type": "display_data"
    }
   ],
   "source": [
    "import ee\n",
    "import geemap\n",
    "import matplotlib.pyplot as plt\n",
    "import numpy as np\n",
    "\n",
    "Map = geemap.Map()\n",
    "Map"
   ]
  },
  {
   "cell_type": "code",
   "execution_count": 3,
   "metadata": {
    "ExecuteTime": {
     "end_time": "2021-01-05T14:28:22.551072Z",
     "start_time": "2021-01-05T14:28:20.500902Z"
    }
   },
   "outputs": [],
   "source": [
    "# 输入研究区的shp文件所在路径\n",
    "wuhan_shp =\"D:/NDVI_exercise/wuhan/wuhanregion.shp\"\n",
    "# shp 转 ee \n",
    "wuhan_ee = geemap.shp_to_ee(wuhan_shp)\n",
    "# 添加到layer\n",
    "Map.addLayer(wuhan_ee,{},\"wuhan\")\n",
    "Map.centerObject(wuhan_ee,7)   # 设置以研究区居中"
   ]
  },
  {
   "cell_type": "code",
   "execution_count": 4,
   "metadata": {
    "ExecuteTime": {
     "end_time": "2021-01-05T14:28:22.813982Z",
     "start_time": "2021-01-05T14:28:22.799492Z"
    }
   },
   "outputs": [],
   "source": [
    "# # background = ee.Image.constant(1).clip(wuhan_ee)\n",
    "# # Map.addLayer(background,{'palette':['white']},\"background\")\n",
    "# # dataset = ee.Image('JRC/GSW1_2/YearlyHistory/2018').clip(wuhan_ee).select('waterClass').gt(2).selfMask()\n",
    "# water_data = ee.ImageCollection('JRC/GSW1_2/MonthlyHistory').filterDate('2018-12-01','2018-12-31').first().clip(wuhan_ee)\n",
    "# visualization = {\n",
    "#     'bands': ['water'],\n",
    "#     'min': 0.0,\n",
    "#     'max': 2.0,\n",
    "#     'palette': ['ffffff', 'fffcb8', '0905ff']\n",
    "# }\n",
    "# # Map.addLayer(dataset, visualization, 'Water Class')\n",
    "# Map.addLayer(water_data, visualization, 'Water')"
   ]
  },
  {
   "cell_type": "markdown",
   "metadata": {},
   "source": [
    "# acquire  area of wuhan's permanent water yearly"
   ]
  },
  {
   "cell_type": "code",
   "execution_count": 5,
   "metadata": {
    "ExecuteTime": {
     "end_time": "2021-01-05T14:29:01.580985Z",
     "start_time": "2021-01-05T14:28:23.008123Z"
    },
    "scrolled": false
   },
   "outputs": [
    {
     "name": "stdout",
     "output_type": "stream",
     "text": [
      "{'waterClass': 706.8816422931666}\n",
      "{'waterClass': 675.429575303598}\n",
      "{'waterClass': 720.5352044956962}\n",
      "{'waterClass': 721.2729045176766}\n",
      "{'waterClass': 700.7690358956702}\n",
      "{'waterClass': 742.8197875795443}\n",
      "{'waterClass': 739.8565755836654}\n",
      "{'waterClass': 731.531439573101}\n",
      "{'waterClass': 725.1956378415728}\n"
     ]
    }
   ],
   "source": [
    "year = np.arange(2010,2019,1)\n",
    "permanent_water = []\n",
    "for i in range(2010,2019,1):\n",
    "    water_data = ee.Image(\"JRC/GSW1_2/YearlyHistory/{}\".format(i))\n",
    "    water = water_data.eq(3).selfMask().multiply(ee.Image.pixelArea()).divide(1e6)\n",
    "    areas = water.reduceRegion(**{\n",
    "      'reducer': ee.Reducer.sum(),\n",
    "      'geometry': wuhan_ee.geometry(),\n",
    "      'scale': 30,\n",
    "      'maxPixels': 1e14\n",
    "    })\n",
    "    permanent_water.append(areas.get('waterClass').getInfo())\n",
    "    print(areas.getInfo())"
   ]
  },
  {
   "cell_type": "markdown",
   "metadata": {},
   "source": [
    "# acquire  area of wuhan's seasonal water yearly"
   ]
  },
  {
   "cell_type": "code",
   "execution_count": 6,
   "metadata": {
    "ExecuteTime": {
     "end_time": "2021-01-05T14:29:42.357239Z",
     "start_time": "2021-01-05T14:29:22.268607Z"
    }
   },
   "outputs": [],
   "source": [
    "seasonal_water = []\n",
    "for i in range(2010,2019,1):\n",
    "    water_data = ee.Image(\"JRC/GSW1_2/YearlyHistory/{}\".format(i))\n",
    "    water = water_data.eq(2).selfMask().multiply(ee.Image.pixelArea()).divide(1e6)\n",
    "    areas = water.reduceRegion(**{\n",
    "      'reducer': ee.Reducer.sum(),\n",
    "      'geometry': wuhan_ee.geometry(),\n",
    "      'scale': 30,\n",
    "      'maxPixels': 1e14\n",
    "    })\n",
    "    seasonal_water.append(areas.get('waterClass').getInfo())\n",
    "    print(areas.getInfo())"
   ]
  },
  {
   "cell_type": "markdown",
   "metadata": {},
   "source": [
    "# 1984-2019年间永久水体（permanent water）的面积"
   ]
  },
  {
   "cell_type": "code",
   "execution_count": null,
   "metadata": {
    "ExecuteTime": {
     "end_time": "2021-01-03T04:54:29.500202Z",
     "start_time": "2021-01-03T04:54:29.053395Z"
    },
    "scrolled": true
   },
   "outputs": [],
   "source": [
    "water_data = ee.Image('JRC/GSW1_2/GlobalSurfaceWater')\n",
    "water = water_data.select('occurrence').gte(80).selfMask().multiply(ee.Image.pixelArea()).divide(1e6)\n",
    "areas = water.reduceRegion(**{\n",
    "      'reducer': ee.Reducer.sum(),\n",
    "      'geometry': wuhan_ee.geometry(),\n",
    "      'scale': 30,\n",
    "      'maxPixels': 1e14\n",
    "})\n",
    "permanent_waterArea = areas.get('occurrence').getInfo()\n",
    "print(permanent_waterArea)"
   ]
  },
  {
   "cell_type": "markdown",
   "metadata": {},
   "source": [
    "# 绘图"
   ]
  },
  {
   "cell_type": "code",
   "execution_count": 11,
   "metadata": {
    "ExecuteTime": {
     "end_time": "2021-01-05T14:45:39.007221Z",
     "start_time": "2021-01-05T14:45:38.998252Z"
    }
   },
   "outputs": [],
   "source": [
    "# # Maryland university 水体数据统计\n",
    "Maryland_permanent_water = [1777.3092,1423.6812,1762.2351,1423.8504,1498.8069,1480.9977,1456.2,1439.415,1401.5601]\n",
    "Maryland_seasonal_water = [807.2766,596.2185,549.4374,524.2302,710.0667,666.8289,836.8893,747.8775,723.0456]\n",
    "# # 基于RF的permanent water extraction\n",
    "RF_permanent_water = [1041.6119923013812, 950.4957403648785, 983.3418449446425, 1000.8603491473023, 928.9684128044594, 952.7147524866792, 945.3334193811432, 905.8537662994411, 888.3464582578855]"
   ]
  },
  {
   "cell_type": "code",
   "execution_count": 32,
   "metadata": {
    "ExecuteTime": {
     "end_time": "2021-01-05T15:05:00.998832Z",
     "start_time": "2021-01-05T15:05:00.853246Z"
    },
    "scrolled": false
   },
   "outputs": [
    {
     "data": {
      "image/png": "[encoded data removed]",
      "text/plain": [
       "<Figure size 504x360 with 1 Axes>"
      ]
     },
     "metadata": {
      "needs_background": "light"
     },
     "output_type": "display_data"
    }
   ],
   "source": [
    "# # plot permanent water\n",
    "# plt.title(\"Area of Wuhan's Permanent Water Yearly\", fontsize=18)\n",
    "# plt.xlabel(\"Year\", fontsize=14)\n",
    "# plt.ylabel('Area/km²', fontsize=14)\n",
    "# plt.plot(year, permanent_water,'*:b' ,label = 'JRC permanent water')\n",
    "# # 绘制1984-2019间的永久水体（permanent water）面积\n",
    "# plt.axhline( permanent_waterArea,ls = '--',label = '1984-2019 permanent water')\n",
    "# plt.legend()\n",
    "# plt.show()\n",
    "\n",
    "# # plot seasonal water\n",
    "# plt.title(\"Area of Wuhan's Seasonal Water Yearly\", fontsize=18)\n",
    "# plt.xlabel(\"Year\", fontsize=14)\n",
    "# plt.ylabel('Area/km²', fontsize=14)\n",
    "# plt.plot(year, seasonal_water,'*:r',label = 'JRC seasonal water')\n",
    "# plt.legend()\n",
    "# plt.show()\n",
    "\n",
    "# plot permanent water and seasonal water(折线图)\n",
    "plt.figure(figsize=(7,5))\n",
    "plt.title(\"Area of Wuhan's Seasonal Water Yearly\", fontsize=17)\n",
    "plt.xlabel(\"Year\", fontsize=16)\n",
    "plt.ylabel('Area/km²', fontsize=16)\n",
    "# plt.plot(year, permanent_water,'*-b' ,label = 'JRC permanent water')\n",
    "plt.plot(year, seasonal_water,'*--b',label = 'JRC seasonal water')\n",
    "# plt.axhline(permanent_waterArea,ls = '--',label = 'permanent waterArea in 1984-2018')\n",
    "# plt.plot(year, Maryland_permanent_water,'^-r' ,label = 'Maryland permanent water')\n",
    "\n",
    "# plt.plot(year, RF_permanent_water,'o-g' ,label = 'RandomForest permanent water')\n",
    "plt.legend(prop={\"size\":9})\n",
    "plt.show()\n",
    "\n",
    "# # plot permanent water and seasonal water(柱状图)\n",
    "# plt.title(\"Area of Wuhan's Permanent Water and Seasonal Water Yearly\", fontsize=18)\n",
    "# plt.xlabel(\"Year\", fontsize=14)\n",
    "# plt.ylabel('Area/km²', fontsize=14)\n",
    "# plt.bar(year, permanent_water ,label = 'JRC permanent water')\n",
    "# plt.bar(year, seasonal_water, bottom = permanent_water, label = 'JRC seasonal water')\n",
    "# # 绘制1984-2019间的永久水体（permanent water）面积\n",
    "# # plt.axhline(800,ls = '--',label = '1984-2019 permanent water')\n",
    "# plt.legend()\n",
    "# plt.show()\n",
    "# 散点图\n",
    "# plt.scatter(RF_permanent_water,permanent_water,color=\"blue\")"
   ]
  },
  {
   "cell_type": "code",
   "execution_count": null,
   "metadata": {},
   "outputs": [],
   "source": [
    "# 备用\n",
    "# # plot permanent water\n",
    "# plt.figure(figsize=(18,10))\n",
    "# plt.title(\"Area of Wuhan's Permanent Water Yearly\", fontsize=18)\n",
    "# plt.xlabel(\"Year\", fontsize=14)\n",
    "# plt.ylabel('Area/km²', fontsize=14)\n",
    "# plt.plot(year, permanent_water,'*:b' ,label = 'permanent water')\n",
    "# plt.xticks(year)\n",
    "# plt.legend(fontsize=20)\n",
    "# plt.show()\n",
    "\n",
    "# # plot seasonal water\n",
    "# plt.title(\"Area of Wuhan's Seasonal Water Yearly\", fontsize=18)\n",
    "# plt.xlabel(\"Year\", fontsize=14)\n",
    "# plt.ylabel('Area/km²', fontsize=14)\n",
    "# plt.plot(year, seasonal_water,'*:r',label = 'seasonal water')\n",
    "# plt.legend()\n",
    "# plt.show()\n",
    "\n",
    "# # plot permanent water and seasonal water\n",
    "# plt.title(\"Area of Wuhan's Permanent Water and Seasonal Water Yearly\", fontsize=18)\n",
    "# plt.xlabel(\"Year\", fontsize=14)\n",
    "# plt.ylabel('Area/km²', fontsize=14)\n",
    "# plt.plot(year, permanent_water,'*:b' ,label = 'permanent water')\n",
    "# plt.plot(year, seasonal_water,'*:r',label = 'seasonal water')\n",
    "# plt.show()"
   ]
  }
 ],
 "metadata": {
  "hide_input": false,
  "kernelspec": {
   "display_name": "Python 3 (ipykernel)",
   "language": "python",
   "name": "python3"
  },
  "language_info": {
   "codemirror_mode": {
    "name": "ipython",
    "version": 3
   },
   "file_extension": ".py",
   "mimetype": "text/x-python",
   "name": "python",
   "nbconvert_exporter": "python",
   "pygments_lexer": "ipython3",
   "version": "3.8.5"
  },
  "toc": {
   "base_numbering": 1,
   "nav_menu": {},
   "number_sections": true,
   "sideBar": true,
   "skip_h1_title": false,
   "title_cell": "Table of Contents",
   "title_sidebar": "Contents",
   "toc_cell": false,
   "toc_position": {},
   "toc_section_display": true,
   "toc_window_display": false
  },
  "varInspector": {
   "cols": {
    "lenName": 16,
    "lenType": 16,
    "lenVar": 40
   },
   "kernels_config": {
    "python": {
     "delete_cmd_postfix": "",
     "delete_cmd_prefix": "del ",
     "library": "var_list.py",
     "varRefreshCmd": "print(var_dic_list())"
    },
    "r": {
     "delete_cmd_postfix": ") ",
     "delete_cmd_prefix": "rm(",
     "library": "var_list.r",
     "varRefreshCmd": "cat(var_dic_list()) "
    }
   },
   "types_to_exclude": [
    "module",
    "function",
    "builtin_function_or_method",
    "instance",
    "_Feature"
   ],
   "window_display": false
  }
 },
 "nbformat": 4,
 "nbformat_minor": 4
}
