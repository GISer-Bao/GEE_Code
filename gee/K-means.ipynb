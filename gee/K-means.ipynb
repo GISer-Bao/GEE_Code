{
 "cells": [
  {
   "cell_type": "code",
   "execution_count": 1,
   "metadata": {
    "ExecuteTime": {
     "end_time": "2021-07-06T02:09:04.979852Z",
     "start_time": "2021-07-06T02:09:04.966400Z"
    }
   },
   "outputs": [],
   "source": [
    "import os\n",
    "os.environ['HTTP_PROXY'] = \"http://127.0.0.1:10809\"\n",
    "os.environ['HTTPS_PROXY'] = \"http://127.0.0.1:10809\""
   ]
  },
  {
   "cell_type": "code",
   "execution_count": 2,
   "metadata": {
    "ExecuteTime": {
     "end_time": "2021-07-06T02:09:09.072661Z",
     "start_time": "2021-07-06T02:09:05.248778Z"
    }
   },
   "outputs": [
    {
     "data": {
      "application/vnd.jupyter.widget-view+json": {
       "model_id": "22f67d367dd6479ebb3aae3d1b3755f0",
       "version_major": 2,
       "version_minor": 0
      },
      "text/plain": [
       "Map(center=[40, -100], controls=(WidgetControl(options=['position', 'transparent_bg'], widget=HBox(children=(T…"
      ]
     },
     "metadata": {},
     "output_type": "display_data"
    }
   ],
   "source": [
    "import ee\n",
    "import geemap\n",
    "Map = geemap.Map()\n",
    "Map"
   ]
  },
  {
   "cell_type": "code",
   "execution_count": 3,
   "metadata": {
    "ExecuteTime": {
     "end_time": "2021-07-06T02:09:10.091479Z",
     "start_time": "2021-07-06T02:09:09.121503Z"
    }
   },
   "outputs": [],
   "source": [
    "ROI = ee.FeatureCollection('users/311605001111/YangtzeCity/chongqing').geometry()\n",
    "Map.addLayer(ROI, {}, \"roi\")\n",
    "Map.centerObject(ROI,6)"
   ]
  },
  {
   "cell_type": "code",
   "execution_count": null,
   "metadata": {
    "ExecuteTime": {
     "end_time": "2021-03-12T04:07:09.192917Z",
     "start_time": "2021-03-12T04:07:09.177919Z"
    }
   },
   "outputs": [],
   "source": [
    "# # Region of Interest\n",
    "# ROI = ee.FeatureCollection('users/311605001111/YangtzeCity/wuhan').geometry()\n",
    "# lon= ee.Number(ee.Feature(ROI.centroid(100)).geometry().coordinates().get(0))\n",
    "# lat= ee.Number(ee.Feature(ROI.centroid(100)).geometry().coordinates().get(1))\n",
    "# print(lon.getInfo(), lat.getInfo())"
   ]
  },
  {
   "cell_type": "code",
   "execution_count": 4,
   "metadata": {
    "ExecuteTime": {
     "end_time": "2021-07-06T02:33:37.156210Z",
     "start_time": "2021-07-06T02:33:35.943805Z"
    }
   },
   "outputs": [],
   "source": [
    "# Permanent Waterbody Mask\n",
    "perm = ee.Image('JRC/GSW1_2/GlobalSurfaceWater').select('transition')\n",
    "perm = perm.updateMask(perm.eq(1))\n",
    "perm = perm.reduceToVectors(**{\n",
    "    'geometry': ROI, \n",
    "    'geometryType': 'polygon',\n",
    "    'scale': 100,\n",
    "    'maxPixels': 1e8\n",
    "})\n",
    "Map.addLayer(perm, {}, \"JRC perm\")"
   ]
  },
  {
   "cell_type": "code",
   "execution_count": null,
   "metadata": {
    "ExecuteTime": {
     "end_time": "2021-03-12T04:07:24.320116Z",
     "start_time": "2021-03-12T04:07:24.309139Z"
    }
   },
   "outputs": [],
   "source": [
    "## Global variables\n",
    "\n",
    "# SAR\n",
    "Sen1 = 'COPERNICUS/S1_GRD'\n",
    "pol = 'VV'\n",
    "instr = 'IW'\n",
    "res = 10\n",
    "\n",
    "# Landsat\n",
    "LS8 = 'LANDSAT/LC08/C01/T1_SR'\n",
    "LS7 = 'LANDSAT/LE07/C01/T1_SR'\n",
    "# Number of cluster\n",
    "clnum = 5\n",
    "\n",
    "# Color Palettes for Visualization\n",
    "vis_MNDWI = {\n",
    "    'palette': ['00FFFF', '0000FF'],\n",
    "    'min': [-1],\n",
    "    'max': [1]\n",
    "}\n",
    "\n",
    "vis_SAR = {\n",
    "    'palette': ['#3f007d','#efedf5'],\n",
    "    'min': [-20],\n",
    "    'max': [-5]\n",
    "}\n",
    "\n",
    "vis_WB = {\n",
    "    'min':0,\n",
    "    'max':1,\n",
    "    'palette': ['#fff7f3', '#dd3497']\n",
    "}\n"
   ]
  },
  {
   "cell_type": "code",
   "execution_count": null,
   "metadata": {
    "ExecuteTime": {
     "end_time": "2021-03-12T04:07:24.551726Z",
     "start_time": "2021-03-12T04:07:24.541754Z"
    }
   },
   "outputs": [],
   "source": [
    "##  SAR Functions\n",
    "\n",
    "# Function to mask border noise\n",
    "def maskEdge(img):\n",
    "    clipped = img.clip(img.geometry().buffer(-5000))\n",
    "    mask = img.select(0).unitScale(-25, 5).multiply(255).toByte().connectedComponents(ee.Kernel.rectangle(1,1), 256)\n",
    "    masked = img.updateMask(mask.select(0)).unmask(clipped,False)\n",
    "    mask2 = masked.mask()\n",
    "    mask3 = mask2.focal_min(20, 'plus', 'meters')\n",
    "    return img.updateMask(mask3)\n",
    "\n",
    "# Function to generate SAR median image (+/-15 days)\n",
    "def SAR_process(Sen1, d, ROI):\n",
    "    date = d\n",
    "    start = ee.Date.parse('yyyy-MM-dd', d).advance(-15, 'day')\n",
    "    end = ee.Date.parse('yyyy-MM-dd', d).advance(15, 'day')\n",
    "    SAR = ee.ImageCollection(Sen1) \\\n",
    "        .filterBounds(ROI) \\\n",
    "        .filterDate(start, end) \\\n",
    "        .filter(ee.Filter.listContains('transmitterReceiverPolarisation', pol)) \\\n",
    "        .filter(ee.Filter.eq('instrumentMode', instr)) \\\n",
    "        .filter(ee.Filter.eq('resolution_meters', res)) \\\n",
    "        .map(maskEdge) \\\n",
    "        .select('VV')\n",
    "    return SAR.median()"
   ]
  },
  {
   "cell_type": "code",
   "execution_count": null,
   "metadata": {
    "ExecuteTime": {
     "end_time": "2021-03-12T04:07:25.132764Z",
     "start_time": "2021-03-12T04:07:25.115779Z"
    }
   },
   "outputs": [],
   "source": [
    "## Landsat Functions\n",
    "\n",
    "# Function to mask cloud pixels.\n",
    "def maskIm(image):\n",
    "    cloudShadowBitMask = (1 << 3)\n",
    "    cloudsBitMask = (1 << 5)\n",
    "    qa = image.select('pixel_qa')\n",
    "    mask = qa.bitwiseAnd(cloudShadowBitMask).eq(0).And(qa.bitwiseAnd(cloudsBitMask).eq(0))\n",
    "    return image.updateMask(mask)\n",
    "\n",
    "# Functions to calculate MNDWI\n",
    "def DI_LS8(image):\n",
    "    index = image.normalizedDifference(['B3','B6']).rename('MNDWI')\n",
    "    return image.addBands(index)\n",
    "\n",
    "def DI_LS7(image):\n",
    "    index = image.normalizedDifference(['B2','B5']).rename('MNDWI')\n",
    "    return image.addBands(index)\n",
    "\n",
    "# Function to calculate LS median\n",
    "def LSMed(d, ROI, days):\n",
    "    start = ee.Date(d).advance(ee.Number(days).multiply(-1), 'day')\n",
    "    end = ee.Date(d).advance(ee.Number(days), 'day')\n",
    "    LS8Col = ee.ImageCollection(LS8) \\\n",
    "        .filterBounds(ROI) \\\n",
    "        .filterDate(start, end) \\\n",
    "        .map(maskIm) \\\n",
    "        .map(DI_LS8) \\\n",
    "        .select(['MNDWI']) \n",
    "    LS7Col = ee.ImageCollection(LS7) \\\n",
    "        .filterBounds(ROI) \\\n",
    "        .filterDate(start, end) \\\n",
    "        .map(maskIm) \\\n",
    "        .map(DI_LS7) \\\n",
    "        .select(['MNDWI'])\n",
    "    LS = LS8Col.merge(LS7Col)\n",
    "    return ee.ImageCollection(LS).median()\n",
    "\n",
    "# Function to generate a gap-filled MNDWI image \n",
    "# Fill image is the median of the median images for the same month 2007-2016\n",
    "def landsat_process(d, ROI):\n",
    "    date = ee.Date.parse('yyyy-MM-dd', d)\n",
    "    month = date.get('month')\n",
    "    yrs = ee.List.sequence(2007,2016)\n",
    "    dates = yrs.map(lambda y : ee.Date.fromYMD(ee.Number(y),month,15))\n",
    "    col = dates.map(lambda d : LSMed(d, ROI, 15))\n",
    "    fill = ee.ImageCollection(col).median()\n",
    "    LS = ee.Image(LSMed(date, ROI, 15)).unmask(fill)\n",
    "    col = dates.map(lambda d : LSMed(d, ROI, 45))\n",
    "    fill = ee.ImageCollection(col).median()\n",
    "    LS = ee.Image(LS.unmask(fill))\n",
    "    return ee.Image(LS)"
   ]
  },
  {
   "cell_type": "code",
   "execution_count": null,
   "metadata": {
    "ExecuteTime": {
     "end_time": "2021-03-12T04:07:25.806960Z",
     "start_time": "2021-03-12T04:07:25.797983Z"
    }
   },
   "outputs": [],
   "source": [
    "# image = landsat_process('2016-06-15',ROI).clip(ROI)\n",
    "# Map.addLayer(image.select(['MNDWI']), vis_MNDWI, 'MNDWI Composite')\n",
    "# d = '2016-06-15'\n",
    "# SAR = SAR_process(Sen1, d, ROI)\n",
    "# LS = landsat_process(d, ROI)\n",
    "# img = SAR.addBands(LS.select(['MNDWI'])).clip(ROI)\n",
    "# Map.addLayer(img.select(['VV']),  vis_SAR, 'SAR Composite')"
   ]
  },
  {
   "cell_type": "code",
   "execution_count": null,
   "metadata": {
    "ExecuteTime": {
     "end_time": "2021-03-12T04:07:26.731495Z",
     "start_time": "2021-03-12T04:07:26.724514Z"
    }
   },
   "outputs": [],
   "source": [
    "## Cluster Functions\n",
    "\n",
    "# Function to make training set\n",
    "def train(img,clnum,clusArea):\n",
    "    image = img.clip(clusArea)\n",
    "    min = clnum\n",
    "    max = clnum\n",
    "    training_features = image.sample(**{\n",
    "        'region': clusArea,\n",
    "        'scale': 10,\n",
    "        'numPixels': 1e3\n",
    "    })\n",
    "    clusterer = ee.Clusterer.wekaCascadeKMeans(**{\n",
    "        'minClusters' : min,\n",
    "        'maxClusters': max,\n",
    "        'restarts': 10,\n",
    "        'distanceFunction': 'Euclidean',\n",
    "        'maxIterations' : 6\n",
    "    })\n",
    "    return clusterer.train(training_features)\n",
    "\n",
    "# Function to perform cluster analysis\n",
    "def clusSAR_LS(img, clusterer, bound):\n",
    "    image = img.clip(bound)\n",
    "    kmeans_image = image.cluster(clusterer)\n",
    "    return kmeans_image\n",
    "\n",
    "# Function to get water cluster\n",
    "def water(kmeans_image,lake):\n",
    "    limit = 1000\n",
    "    WB = ee.Image(kmeans_image.select(['cluster']))\n",
    "    clNumber = WB.sampleRegions(**{\n",
    "        'collection': lake, \n",
    "        'scale': 10,\n",
    "    })\n",
    "    clNumber = clNumber.limit(limit) \\\n",
    "        .toList(limit) \\\n",
    "        .map(lambda f : ee.Feature(f).get('cluster')) \\\n",
    "        .reduce(ee.Reducer.mode()) \n",
    "    WB = WB.eq(ee.Number(clNumber))\n",
    "    return WB.updateMask(WB.eq(1)) "
   ]
  },
  {
   "cell_type": "code",
   "execution_count": null,
   "metadata": {
    "ExecuteTime": {
     "end_time": "2021-03-12T04:07:28.048999Z",
     "start_time": "2021-03-12T04:07:28.036064Z"
    }
   },
   "outputs": [],
   "source": [
    "## Master Function\n",
    "def getWB(d, clnum, bound, lake):\n",
    "    SAR = SAR_process(Sen1, d, bound)\n",
    "    LS = landsat_process(d, bound)\n",
    "    img = SAR.addBands(LS.select(['MNDWI']))\n",
    "    clusterer = train(img, clnum, bound)\n",
    "    kmeans_image = clusSAR_LS(img, clusterer, bound)\n",
    "    wb = water(kmeans_image, lake)\n",
    "    kmeans_image = kmeans_image.add(ee.Number(1))\n",
    "    kmeans_image = kmeans_image.int()\n",
    "    Map.addLayer(SAR.clip(ROI), vis_SAR, 'SAR Composite')\n",
    "    Map.addLayer(LS.select(['MNDWI']).clip(ROI), vis_MNDWI, 'MNDWI Composite')\n",
    "    Map.addLayer(ee.Image(kmeans_image).randomVisualizer(), {}, 'Kmeans Clusters')\n",
    "    Map.addLayer(wb, vis_WB, 'Surface Water')\n",
    "    return wb"
   ]
  },
  {
   "cell_type": "code",
   "execution_count": null,
   "metadata": {
    "ExecuteTime": {
     "end_time": "2021-03-12T04:12:08.221604Z",
     "start_time": "2021-03-12T04:09:16.975448Z"
    }
   },
   "outputs": [],
   "source": [
    "# Run Script\n",
    "\n",
    "date = '2019-07-15'\n",
    "getWater = getWB(date, clnum, ROI, perm)"
   ]
  },
  {
   "cell_type": "code",
   "execution_count": null,
   "metadata": {
    "ExecuteTime": {
     "end_time": "2021-03-12T03:53:18.752844Z",
     "start_time": "2021-03-12T03:52:06.549Z"
    }
   },
   "outputs": [],
   "source": [
    "from matplotlib import pyplot as plt\n",
    "import numpy as np\n",
    "import matplotlib\n",
    "from geemap import cartoee\n",
    "\n",
    "# region = [105.5, 28.5, 110.2, 31.5] \n",
    "region = [106, 29, 107, 30.5] \n",
    "vis = {'bands': ['cluster'], 'palette': ['blue'], 'min': 0.0, 'max': 1.0, 'opacity': 1.0}\n",
    "fig = plt.figure(figsize=(12, 8))\n",
    "# use cartoee to get a map\n",
    "ax = cartoee.get_map(getWater, region=region, vis_params=vis)\n",
    "# add gridlines to the map at a specified interval\n",
    "cartoee.add_gridlines(ax, interval=[0.5,0.5], linestyle=\":\")\n",
    "ax.set_title(label = 'APWC 2019/07', fontsize=20)"
   ]
  },
  {
   "cell_type": "code",
   "execution_count": null,
   "metadata": {},
   "outputs": [],
   "source": []
  },
  {
   "cell_type": "code",
   "execution_count": null,
   "metadata": {},
   "outputs": [],
   "source": []
  }
 ],
 "metadata": {
  "hide_input": false,
  "kernelspec": {
   "display_name": "Python 3",
   "language": "python",
   "name": "python3"
  },
  "language_info": {
   "codemirror_mode": {
    "name": "ipython",
    "version": 3
   },
   "file_extension": ".py",
   "mimetype": "text/x-python",
   "name": "python",
   "nbconvert_exporter": "python",
   "pygments_lexer": "ipython3",
   "version": "3.8.5"
  },
  "toc": {
   "base_numbering": 1,
   "nav_menu": {},
   "number_sections": true,
   "sideBar": true,
   "skip_h1_title": false,
   "title_cell": "Table of Contents",
   "title_sidebar": "Contents",
   "toc_cell": false,
   "toc_position": {},
   "toc_section_display": true,
   "toc_window_display": false
  },
  "varInspector": {
   "cols": {
    "lenName": 16,
    "lenType": 16,
    "lenVar": 40
   },
   "kernels_config": {
    "python": {
     "delete_cmd_postfix": "",
     "delete_cmd_prefix": "del ",
     "library": "var_list.py",
     "varRefreshCmd": "print(var_dic_list())"
    },
    "r": {
     "delete_cmd_postfix": ") ",
     "delete_cmd_prefix": "rm(",
     "library": "var_list.r",
     "varRefreshCmd": "cat(var_dic_list()) "
    }
   },
   "types_to_exclude": [
    "module",
    "function",
    "builtin_function_or_method",
    "instance",
    "_Feature"
   ],
   "window_display": false
  }
 },
 "nbformat": 4,
 "nbformat_minor": 4
}
