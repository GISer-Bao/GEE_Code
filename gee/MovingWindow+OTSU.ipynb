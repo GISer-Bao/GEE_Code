{
 "cells": [
  {
   "cell_type": "code",
   "execution_count": 1,
   "metadata": {
    "ExecuteTime": {
     "end_time": "2021-03-26T14:31:06.129954Z",
     "start_time": "2021-03-26T14:31:06.113968Z"
    }
   },
   "outputs": [],
   "source": [
    "import os\n",
    "os.environ['HTTP_PROXY'] = \"http://127.0.0.1:10809\"\n",
    "os.environ['HTTPS_PROXY'] = \"http://127.0.0.1:10809\""
   ]
  },
  {
   "cell_type": "code",
   "execution_count": 2,
   "metadata": {
    "ExecuteTime": {
     "end_time": "2021-03-26T14:31:10.009048Z",
     "start_time": "2021-03-26T14:31:06.419777Z"
    }
   },
   "outputs": [
    {
     "data": {
      "application/vnd.jupyter.widget-view+json": {
       "model_id": "d47750615f7e4bc584298da14b112ed6",
       "version_major": 2,
       "version_minor": 0
      },
      "text/plain": [
       "Map(center=[40, -100], controls=(WidgetControl(options=['position'], widget=HBox(children=(ToggleButton(value=…"
      ]
     },
     "metadata": {},
     "output_type": "display_data"
    }
   ],
   "source": [
    "import geemap\n",
    "import ee\n",
    "Map=geemap.Map()\n",
    "Map  "
   ]
  },
  {
   "cell_type": "code",
   "execution_count": 3,
   "metadata": {
    "ExecuteTime": {
     "end_time": "2021-03-26T14:31:11.271635Z",
     "start_time": "2021-03-26T14:31:10.088185Z"
    }
   },
   "outputs": [],
   "source": [
    "roi = ee.FeatureCollection('users/311605001111/YangtzeCity/wuhan')\n",
    "Map.addLayer(roi, {}, \"roi\")\n",
    "Map.centerObject(roi,9)"
   ]
  },
  {
   "cell_type": "code",
   "execution_count": 4,
   "metadata": {
    "ExecuteTime": {
     "end_time": "2021-03-26T14:31:11.373974Z",
     "start_time": "2021-03-26T14:31:11.351036Z"
    }
   },
   "outputs": [],
   "source": [
    "def ndvi_mndwi(image):\n",
    "    ndvi=image.normalizedDifference(['B5', 'B4']).rename('NDVI')\n",
    "    mndwi=image.normalizedDifference(['B3', 'B6']).rename(\"mNDWI\") \n",
    "    ndvi_mndwi = ndvi.subtract(mndwi).rename('ndvi_mndwi')\n",
    "    return image.addBands(mndwi).addBands(ndvi_mndwi)\n",
    "\n",
    "# 去云、云阴影、雪掩膜函数\n",
    "def maskL8sr(image):\n",
    "    cloudShadowBitMask = (1 << 3)\n",
    "    cloudsBitMask = (1 << 5)\n",
    "    snowBitMask = (1 << 4)   \n",
    "    qa = image.select('pixel_qa')\n",
    "    mask = qa.bitwiseAnd(cloudShadowBitMask).eq(0) \\\n",
    "                   .And(qa.bitwiseAnd(cloudsBitMask).eq(0)) \\\n",
    "                   .And(qa.bitwiseAnd(snowBitMask).eq(0))\n",
    "    return image.updateMask(mask)\n",
    "\n",
    "# 可视化参数设置\n",
    "vis_params = {\n",
    "  'bands': ['B5', 'B4', 'B3'],\n",
    "  'min': 0,\n",
    "  'max': 3000,\n",
    "  'gamma': 1.4,\n",
    "}"
   ]
  },
  {
   "cell_type": "code",
   "execution_count": 5,
   "metadata": {
    "ExecuteTime": {
     "end_time": "2021-03-26T14:31:12.147658Z",
     "start_time": "2021-03-26T14:31:11.446259Z"
    }
   },
   "outputs": [],
   "source": [
    "# 筛选数据（使用日期，云量，研究区），去云\n",
    "landsat_images = ee.ImageCollection('LANDSAT/LC08/C01/T1_SR') \\\n",
    "    .filterBounds(roi) \\\n",
    "    .filterDate('2019-07-01', '2019-07-31') \\\n",
    "    .map(ndvi_mndwi)\n",
    "\n",
    "\n",
    "second = ee.Image(landsat_images.toList(landsat_images.size()).get(1))\n",
    "Map.addLayer(second, vis_params, 'second image')"
   ]
  },
  {
   "cell_type": "code",
   "execution_count": 6,
   "metadata": {
    "ExecuteTime": {
     "end_time": "2021-03-26T14:31:12.241945Z",
     "start_time": "2021-03-26T14:31:12.226520Z"
    }
   },
   "outputs": [],
   "source": [
    "band = 'ndvi_mndwi'\n",
    "\n",
    "def histogram(image):\n",
    "    band = 'ndvi_mndwi'\n",
    "    dict = band + \"_\" + 'histogram'\n",
    "    hist = image.select(band).reduceRegion(**{\n",
    "        'reducer': ee.Reducer.histogram(100).combine(ee.Reducer.mean(),'',True).combine(ee.Reducer.variance(),'',True),\n",
    "        'geometry': image.geometry(), \n",
    "        'scale': 30,\n",
    "        'bestEffort': True\n",
    "    })\n",
    "    return hist.get(dict)"
   ]
  },
  {
   "cell_type": "code",
   "execution_count": 7,
   "metadata": {
    "ExecuteTime": {
     "end_time": "2021-03-26T14:31:12.430229Z",
     "start_time": "2021-03-26T14:31:12.321452Z"
    }
   },
   "outputs": [],
   "source": [
    "def sumSquare(i,histogram,counts,means,size,mean):\n",
    "    aCounts = counts.slice(0, 0, i)\n",
    "    aCountTotal = aCounts.reduce(ee.Reducer.sum(), [0]).get([0])\n",
    "    aMeans = means.slice(0, 0, i)\n",
    "    aMean = aMeans.multiply(aCounts).reduce(ee.Reducer.sum(), [0]).get([0]).divide(aCountTotal)\n",
    "       \n",
    "    bCounts = counts.slice(0, i, size)\n",
    "    bCountTotal = bCounts.reduce(ee.Reducer.sum(), [0]).get([0])\n",
    "    bMeans = means.slice(0, i, size)\n",
    "    bMean = bMeans.multiply(bCounts).reduce(ee.Reducer.sum(), [0]).get([0]).divide(bCountTotal)\n",
    "\n",
    "    return aCountTotal.multiply(aMean.subtract(mean).pow(2)).add(bCountTotal.multiply(bMean.subtract(mean).pow(2)))\n",
    "# Return the DN that maximizes interclass variance in B5 (in the region).\n",
    "def otsu(histogram):\n",
    "    counts = ee.Array(ee.Dictionary(histogram).get('histogram'))\n",
    "    means = ee.Array(ee.Dictionary(histogram).get('bucketMeans'))\n",
    "    size = means.length().get([0])\n",
    "    mean = means.multiply(counts).reduce(ee.Reducer.sum(), [0]).get([0]).divide(counts.reduce(ee.Reducer.sum(), [0]).get([0]))\n",
    "    indices = ee.List.sequence(1,size)\n",
    "    bss = indices.map(lambda i : sumSquare(i,histogram,counts,means,size,mean))\n",
    "    # Return the mean value corresponding to the maximum BSS.\n",
    "    return means.sort(bss).get([-1])"
   ]
  },
  {
   "cell_type": "code",
   "execution_count": 8,
   "metadata": {
    "ExecuteTime": {
     "end_time": "2021-03-26T14:31:14.641241Z",
     "start_time": "2021-03-26T14:31:12.525838Z"
    }
   },
   "outputs": [
    {
     "name": "stdout",
     "output_type": "stream",
     "text": [
      "0.5157633386606081\n"
     ]
    }
   ],
   "source": [
    "hist = histogram(second)\n",
    "second = second.set({'threshold': otsu(hist)})\n",
    "print(second.get('threshold').getInfo())\n",
    "\n",
    "classD = second.select(band).lt(second.get('threshold').getInfo()).selfMask()\n",
    "Map.addLayer(classD, {'palette': ['blue']}, 'class d')"
   ]
  },
  {
   "cell_type": "code",
   "execution_count": null,
   "metadata": {
    "ExecuteTime": {
     "end_time": "2021-03-26T07:37:31.661640Z",
     "start_time": "2021-03-26T07:37:30.859215Z"
    }
   },
   "outputs": [],
   "source": [
    "hist = histogram(second)\n",
    "second = second.set({'threshold': otsu(hist)})\n",
    "print(second.get('threshold').getInfo())"
   ]
  },
  {
   "cell_type": "code",
   "execution_count": null,
   "metadata": {
    "ExecuteTime": {
     "end_time": "2021-03-26T07:37:32.194053Z",
     "start_time": "2021-03-26T07:37:32.179242Z"
    }
   },
   "outputs": [],
   "source": [
    "# def segmentImage(image):\n",
    "#     band = 'ndvi_mndwi'\n",
    "#     imageCol = ee.ImageCollection([])\n",
    "#     for i in range(3):\n",
    "#         for j in range(3):\n",
    "#             coordinates = ee.Array(image.geometry().bounds().coordinates().get(0))\n",
    "#             leftlon = coordinates.get([0,0]).add(ee.Number(0.82*i))\n",
    "#             leftlat = coordinates.get([0,1]).add(ee.Number(0.72*j))\n",
    "#             rightlon = coordinates.get([0,0]).add(ee.Number(0.82)).add(ee.Number(0.82*i))\n",
    "#             rightlat = coordinates.get([0,1]).add(ee.Number(0.72)).add(ee.Number(0.72*j))\n",
    "#             extent = ee.Geometry.Rectangle([leftlon,leftlat,rightlon,rightlat])\n",
    "#             img = maskL8sr(image.clip(extent).clip(roi))\n",
    "#             hist = histogram(img)\n",
    "#             img_water = img.select(band).lt(otsu(hist))\n",
    "#             imageCol = imageCol.merge(ee.ImageCollection(img_water))\n",
    "#     return imageCol.mosaic()"
   ]
  },
  {
   "cell_type": "code",
   "execution_count": null,
   "metadata": {
    "ExecuteTime": {
     "start_time": "2021-03-26T07:42:16.682Z"
    }
   },
   "outputs": [],
   "source": [
    "band = 'ndvi_mndwi'\n",
    "image = second\n",
    "imageCol = ee.ImageCollection([])\n",
    "for i in range(3):\n",
    "    for j in range(3):\n",
    "        coordinates = ee.Array(second.geometry().bounds().coordinates().get(0))\n",
    "        leftlon = coordinates.get([0,0]).add(ee.Number(0.82*i))\n",
    "        leftlat = coordinates.get([0,1]).add(ee.Number(0.72*j))\n",
    "        rightlon = coordinates.get([0,0]).add(ee.Number(0.82)).add(ee.Number(0.82*i))\n",
    "        rightlat = coordinates.get([0,1]).add(ee.Number(0.72)).add(ee.Number(0.72*j))\n",
    "        extent = ee.Geometry.Rectangle([leftlon,leftlat,rightlon,rightlat])\n",
    "        img = maskL8sr(image.clip(extent).clip(roi))\n",
    "        hist = histogram(img)\n",
    "        print(otsu(hist))"
   ]
  },
  {
   "cell_type": "code",
   "execution_count": null,
   "metadata": {
    "ExecuteTime": {
     "end_time": "2021-03-26T07:38:18.616933Z",
     "start_time": "2021-03-26T07:38:17.386878Z"
    }
   },
   "outputs": [],
   "source": [
    "ig = segmentImage(second)\n",
    "print(ig.size().getInfo())\n",
    "# for i in range(ig.size().getInfo()):\n",
    "#     second = ee.Image(ig.toList(ig.size()).get(i))\n",
    "#     Map.addLayer(second, vis_params, 'second {}'.format(i))"
   ]
  },
  {
   "cell_type": "code",
   "execution_count": null,
   "metadata": {},
   "outputs": [],
   "source": []
  },
  {
   "cell_type": "code",
   "execution_count": null,
   "metadata": {},
   "outputs": [],
   "source": []
  },
  {
   "cell_type": "code",
   "execution_count": null,
   "metadata": {},
   "outputs": [],
   "source": []
  },
  {
   "cell_type": "code",
   "execution_count": null,
   "metadata": {
    "ExecuteTime": {
     "end_time": "2021-03-26T05:06:23.145776Z",
     "start_time": "2021-03-26T05:06:22.163691Z"
    }
   },
   "outputs": [],
   "source": [
    "ig = segmentImage(second)\n",
    "Map.addLayer(ig,{'palette': ['white','blue'],'min':0,'max':1},'ig')"
   ]
  },
  {
   "cell_type": "code",
   "execution_count": null,
   "metadata": {
    "ExecuteTime": {
     "end_time": "2021-03-26T05:11:54.301231Z",
     "start_time": "2021-03-26T05:11:54.295218Z"
    }
   },
   "outputs": [],
   "source": [
    "def segmentImage(image):\n",
    "    band = 'ndvi_mndwi'\n",
    "    imageCol = ee.ImageCollection([])\n",
    "    for i in range(3):\n",
    "        for j in range(3):\n",
    "            coordinates = ee.Array(image.geometry().bounds().coordinates().get(0))\n",
    "            leftlon = coordinates.get([0,0]).add(ee.Number(0.82*i))\n",
    "            leftlat = coordinates.get([0,1]).add(ee.Number(0.72*j))\n",
    "            rightlon = coordinates.get([0,0]).add(ee.Number(0.82)).add(ee.Number(0.82*i))\n",
    "            rightlat = coordinates.get([0,1]).add(ee.Number(0.72)).add(ee.Number(0.72*j))\n",
    "            extent = ee.Geometry.Rectangle([leftlon,leftlat,rightlon,rightlat])\n",
    "#             img = maskL8sr(image.clip(extent).clip(roi))\n",
    "#             hist = histogram(img)\n",
    "#             img = img.set({'threshold':otsu(hist)})\n",
    "            imageCol = imageCol.merge(ee.ImageCollection(img))\n",
    "    return imageCol"
   ]
  },
  {
   "cell_type": "code",
   "execution_count": null,
   "metadata": {},
   "outputs": [],
   "source": [
    "def block(imagecollection):\n",
    "    "
   ]
  },
  {
   "cell_type": "code",
   "execution_count": null,
   "metadata": {
    "ExecuteTime": {
     "start_time": "2021-03-26T05:11:55.161Z"
    }
   },
   "outputs": [],
   "source": [
    "ig = segmentImage(second)\n",
    "for i in range(ig.size().getInfo()):\n",
    "    second = ee.Image(ig.toList(ig.size()).get(i))\n",
    "    Map.addLayer(second, vis_params, 'second {}'.format(i))"
   ]
  },
  {
   "cell_type": "code",
   "execution_count": null,
   "metadata": {},
   "outputs": [],
   "source": [
    "threshold = otsu(histogram(image))\n",
    "print('threshold : ', threshold.getInfo())\n",
    "\n",
    "classD = image.select(band).lt(threshold).selfMask()\n",
    "Map.addLayer(classD, {'palette': ['blue']}, 'class d')"
   ]
  },
  {
   "cell_type": "code",
   "execution_count": null,
   "metadata": {},
   "outputs": [],
   "source": []
  },
  {
   "cell_type": "code",
   "execution_count": null,
   "metadata": {},
   "outputs": [],
   "source": []
  }
 ],
 "metadata": {
  "hide_input": false,
  "kernelspec": {
   "display_name": "Python 3",
   "language": "python",
   "name": "python3"
  },
  "language_info": {
   "codemirror_mode": {
    "name": "ipython",
    "version": 3
   },
   "file_extension": ".py",
   "mimetype": "text/x-python",
   "name": "python",
   "nbconvert_exporter": "python",
   "pygments_lexer": "ipython3",
   "version": "3.8.5"
  },
  "toc": {
   "base_numbering": 1,
   "nav_menu": {},
   "number_sections": true,
   "sideBar": true,
   "skip_h1_title": false,
   "title_cell": "Table of Contents",
   "title_sidebar": "Contents",
   "toc_cell": false,
   "toc_position": {},
   "toc_section_display": true,
   "toc_window_display": false
  },
  "varInspector": {
   "cols": {
    "lenName": 16,
    "lenType": 16,
    "lenVar": 40
   },
   "kernels_config": {
    "python": {
     "delete_cmd_postfix": "",
     "delete_cmd_prefix": "del ",
     "library": "var_list.py",
     "varRefreshCmd": "print(var_dic_list())"
    },
    "r": {
     "delete_cmd_postfix": ") ",
     "delete_cmd_prefix": "rm(",
     "library": "var_list.r",
     "varRefreshCmd": "cat(var_dic_list()) "
    }
   },
   "types_to_exclude": [
    "module",
    "function",
    "builtin_function_or_method",
    "instance",
    "_Feature"
   ],
   "window_display": false
  }
 },
 "nbformat": 4,
 "nbformat_minor": 4
}
