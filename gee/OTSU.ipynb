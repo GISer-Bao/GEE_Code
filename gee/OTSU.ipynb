{
 "cells": [
  {
   "cell_type": "code",
   "execution_count": 1,
   "metadata": {
    "ExecuteTime": {
     "end_time": "2022-02-17T04:02:50.360444Z",
     "start_time": "2022-02-17T04:02:50.355457Z"
    }
   },
   "outputs": [],
   "source": [
    "import os\n",
    "os.environ['HTTP_PROXY'] = \"http://127.0.0.1:10809\"\n",
    "os.environ['HTTPS_PROXY'] = \"http://127.0.0.1:10809\""
   ]
  },
  {
   "cell_type": "code",
   "execution_count": 2,
   "metadata": {
    "ExecuteTime": {
     "end_time": "2022-02-17T04:03:07.181364Z",
     "start_time": "2022-02-17T04:02:51.073173Z"
    }
   },
   "outputs": [
    {
     "data": {
      "application/vnd.jupyter.widget-view+json": {
       "model_id": "5f0413e902e14a1dbc8a1005202cd177",
       "version_major": 2,
       "version_minor": 0
      },
      "text/plain": [
       "Map(center=[20, 0], controls=(WidgetControl(options=['position', 'transparent_bg'], widget=HBox(children=(Togg…"
      ]
     },
     "metadata": {},
     "output_type": "display_data"
    }
   ],
   "source": [
    "import geemap\n",
    "import ee\n",
    "Map=geemap.Map()\n",
    "Map  "
   ]
  },
  {
   "cell_type": "code",
   "execution_count": 3,
   "metadata": {
    "ExecuteTime": {
     "end_time": "2022-02-17T04:05:20.779011Z",
     "start_time": "2022-02-17T04:05:19.912462Z"
    }
   },
   "outputs": [],
   "source": [
    "# Load the polygon\n",
    "polygon = ee.Geometry.Polygon([[[-96.98455810546875, 27.754038315679356],[-97.2509765625, 27.82936085978979],[-97.39654541015625, 27.60323689456203],[-97.1026611328125, 27.520451064122117]]])\n",
    "# Load the image from the archive.\n",
    "image = ee.Image('LANDSAT/LC8_L1T/LC80260412017023LGN00')\n",
    "# Define visualization parameters in an object literal.\n",
    "vizParams = { 'bands': ['B5', 'B4', 'B3'], 'min': 5000, 'max': 15000, 'gamma': 1.3}\n",
    "\n",
    "# Center the map on the image and display.\n",
    "Map.centerObject(image, 7)\n",
    "Map.addLayer(image, vizParams, 'Landsat 8 false color')"
   ]
  },
  {
   "cell_type": "code",
   "execution_count": 4,
   "metadata": {
    "ExecuteTime": {
     "end_time": "2022-02-17T04:05:20.809952Z",
     "start_time": "2022-02-17T04:05:20.798958Z"
    }
   },
   "outputs": [],
   "source": [
    "def sumSquare(i,histogram,counts,means,size,mean):\n",
    "    aCounts = counts.slice(0, 0, i)\n",
    "    aCountTotal = aCounts.reduce(ee.Reducer.sum(), [0]).get([0])\n",
    "    aMeans = means.slice(0, 0, i)\n",
    "    aMean = aMeans.multiply(aCounts).reduce(ee.Reducer.sum(), [0]).get([0]).divide(aCountTotal)\n",
    "       \n",
    "    bCounts = counts.slice(0, i, size)\n",
    "    bCountTotal = bCounts.reduce(ee.Reducer.sum(), [0]).get([0])\n",
    "    bMeans = means.slice(0, i, size)\n",
    "    bMean = bMeans.multiply(bCounts).reduce(ee.Reducer.sum(), [0]).get([0]).divide(bCountTotal)\n",
    "\n",
    "    return aCountTotal.multiply(aMean.subtract(mean).pow(2)).add(bCountTotal.multiply(bMean.subtract(mean).pow(2)))\n",
    "# 'B5_histogram'和 polygon、B5 要根据情景进行变更,\n",
    "# Return the DN that maximizes interclass variance in B5 (in the region).\n",
    "\n",
    "def otsu(image,band):\n",
    "    histogram = image.select(band).reduceRegion(**{\n",
    "        'reducer': ee.Reducer.histogram(255, 2),\n",
    "        'geometry': polygon, \n",
    "        'scale': 30,\n",
    "        'bestEffort': True\n",
    "    })\n",
    "    counts = ee.Array(ee.Dictionary(histogram.get(band)).get('histogram'))\n",
    "    means = ee.Array(ee.Dictionary(histogram.get(band)).get('bucketMeans'))\n",
    "    size = means.length().get([0])\n",
    "    mean = means.multiply(counts).reduce(ee.Reducer.sum(), [0]).get([0]).divide(counts.reduce(ee.Reducer.sum(), [0]).get([0]))\n",
    "    \n",
    "    indices = ee.List.sequence(1,size)\n",
    "    # Compute between sum of squares, where each mean partitions the data.\n",
    "    bss = indices.map(lambda i : sumSquare(i,histogram.get(band),counts,means,size,mean))\n",
    "    # Return the mean value corresponding to the maximum BSS.\n",
    "    return means.sort(bss).get([-1])"
   ]
  },
  {
   "cell_type": "code",
   "execution_count": 5,
   "metadata": {
    "ExecuteTime": {
     "end_time": "2022-02-17T04:05:23.563942Z",
     "start_time": "2022-02-17T04:05:21.465796Z"
    }
   },
   "outputs": [
    {
     "name": "stdout",
     "output_type": "stream",
     "text": [
      "8127.50055505975\n"
     ]
    }
   ],
   "source": [
    "threshold = otsu(image,'B5')\n",
    "print(threshold.getInfo())\n",
    "# print('threshold : ', threshold.getInfo)\n",
    "\n",
    "classA = image.select('B5').lt(threshold)\n",
    "Map.addLayer(classA.updateMask(classA), {'palette': ['blue']}, 'class A')"
   ]
  },
  {
   "cell_type": "code",
   "execution_count": null,
   "metadata": {},
   "outputs": [],
   "source": []
  },
  {
   "cell_type": "code",
   "execution_count": null,
   "metadata": {
    "ExecuteTime": {
     "end_time": "2021-05-01T08:46:38.663979Z",
     "start_time": "2021-05-01T08:46:38.333854Z"
    }
   },
   "outputs": [],
   "source": [
    "# # Compute the histogram of the NIR band.  The mean and variance are only FYI.\n",
    "# histogram = image.select('B5').reduceRegion(**{\n",
    "#     'reducer': ee.Reducer.histogram(255, 2),\n",
    "#     'geometry': polygon, \n",
    "#     'scale': 30,\n",
    "#     'bestEffort': True\n",
    "# })\n",
    "# print(histogram.getInfo())\n",
    "\n",
    "# def sumSquare(i,histogram,counts,means,size,mean):\n",
    "#     aCounts = counts.slice(0, 0, i)\n",
    "#     aCountTotal = aCounts.reduce(ee.Reducer.sum(), [0]).get([0])\n",
    "#     aMeans = means.slice(0, 0, i)\n",
    "#     aMean = aMeans.multiply(aCounts).reduce(ee.Reducer.sum(), [0]).get([0]).divide(aCountTotal)\n",
    "       \n",
    "#     bCounts = counts.slice(0, i, size)\n",
    "#     bCountTotal = bCounts.reduce(ee.Reducer.sum(), [0]).get([0])\n",
    "#     bMeans = means.slice(0, i, size)\n",
    "#     bMean = bMeans.multiply(bCounts).reduce(ee.Reducer.sum(), [0]).get([0]).divide(bCountTotal)\n",
    "\n",
    "#     return aCountTotal.multiply(aMean.subtract(mean).pow(2)).add(bCountTotal.multiply(bMean.subtract(mean).pow(2)))\n",
    "# # Return the DN that maximizes interclass variance in B5 (in the region).\n",
    "# def otsu(histogram):\n",
    "#     counts = ee.Array(ee.Dictionary(histogram).get('histogram'))\n",
    "#     means = ee.Array(ee.Dictionary(histogram).get('bucketMeans'))\n",
    "#     size = means.length().get([0])\n",
    "#     mean = means.multiply(counts).reduce(ee.Reducer.sum(), [0]).get([0]).divide(counts.reduce(ee.Reducer.sum(), [0]).get([0]))\n",
    "    \n",
    "#     indices = ee.List.sequence(1,size)\n",
    "#     # Compute between sum of squares, where each mean partitions the data.\n",
    "#     bss = indices.map(lambda i : sumSquare(i,histogram,counts,means,size,mean))\n",
    "#     # Return the mean value corresponding to the maximum BSS.\n",
    "#     return means.sort(bss).get([-1])\n",
    "\n",
    "# threshold = ee.Number(otsu(histogram.get('B5')))\n",
    "# print(threshold.getInfo())\n",
    "# # print('threshold : ', threshold.getInfo)"
   ]
  },
  {
   "cell_type": "code",
   "execution_count": null,
   "metadata": {},
   "outputs": [],
   "source": []
  }
 ],
 "metadata": {
  "hide_input": false,
  "kernelspec": {
   "display_name": "Python 3 (ipykernel)",
   "language": "python",
   "name": "python3"
  },
  "language_info": {
   "codemirror_mode": {
    "name": "ipython",
    "version": 3
   },
   "file_extension": ".py",
   "mimetype": "text/x-python",
   "name": "python",
   "nbconvert_exporter": "python",
   "pygments_lexer": "ipython3",
   "version": "3.8.5"
  },
  "toc": {
   "base_numbering": 1,
   "nav_menu": {},
   "number_sections": true,
   "sideBar": true,
   "skip_h1_title": false,
   "title_cell": "Table of Contents",
   "title_sidebar": "Contents",
   "toc_cell": false,
   "toc_position": {},
   "toc_section_display": true,
   "toc_window_display": false
  },
  "varInspector": {
   "cols": {
    "lenName": 16,
    "lenType": 16,
    "lenVar": 40
   },
   "kernels_config": {
    "python": {
     "delete_cmd_postfix": "",
     "delete_cmd_prefix": "del ",
     "library": "var_list.py",
     "varRefreshCmd": "print(var_dic_list())"
    },
    "r": {
     "delete_cmd_postfix": ") ",
     "delete_cmd_prefix": "rm(",
     "library": "var_list.r",
     "varRefreshCmd": "cat(var_dic_list()) "
    }
   },
   "types_to_exclude": [
    "module",
    "function",
    "builtin_function_or_method",
    "instance",
    "_Feature"
   ],
   "window_display": false
  }
 },
 "nbformat": 4,
 "nbformat_minor": 4
}
