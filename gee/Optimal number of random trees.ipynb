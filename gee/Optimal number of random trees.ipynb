{
 "cells": [
  {
   "cell_type": "code",
   "execution_count": null,
   "metadata": {},
   "outputs": [],
   "source": [
    "def optimalTree(t):\n",
    "    classifier = ee.Classifier.smileRandomForest(t).train(training, label, bands)\n",
    "    return validation.classify(classifier).errorMatrix('landcover', 'classification').accuracy();\n",
    "accuracies = ee.List.sequence(5, 111, 5).map(optimalTree)\n",
    "print(accuracies.getInfo())"
   ]
  },
  {
   "cell_type": "code",
   "execution_count": null,
   "metadata": {},
   "outputs": [],
   "source": [
    "x = ee.List.sequence(5, 111, 5)\n",
    "accuracy = accuracies\n",
    "uni = x.zip(accuracy)\n",
    "print(uni.getInfo())\n",
    "\n",
    "# x = np.arange(5,111,5).tolist()\n",
    "# accuracy = accuracies.getInfo()\n",
    "# uni = ee.List(list(zip(x, accuracy)))\n",
    "# print(uni.getInfo())"
   ]
  },
  {
   "cell_type": "code",
   "execution_count": null,
   "metadata": {},
   "outputs": [],
   "source": [
    "max_accuracy = max(accuracies.getInfo())\n",
    "value = uni.get(accuracies.indexOf(max_accuracy))\n",
    "treeNumer = ee.List(value).get(0).getInfo()\n",
    "# print(value.getInfo())\n",
    "# print(treeNumer)"
   ]
  },
  {
   "cell_type": "code",
   "execution_count": null,
   "metadata": {},
   "outputs": [],
   "source": [
    "# 绘图\n",
    "import matplotlib.pyplot as plt \n",
    "import numpy as np\n",
    "x = np.arange(5,111,5)\n",
    "accuracy = accuracies.getInfo()\n",
    "plt.plot(x, accuracy,linewidth=2)\n",
    "plt.title(\"The relationship between accuracy and tree\", fontsize=18)\n",
    "plt.xlabel(\"tree number\", fontsize=12)\n",
    "plt.ylabel(\"accuracy\", fontsize=12)\n",
    "plt.show()"
   ]
  }
 ],
 "metadata": {
  "hide_input": false,
  "kernelspec": {
   "display_name": "Python 3",
   "language": "python",
   "name": "python3"
  },
  "language_info": {
   "codemirror_mode": {
    "name": "ipython",
    "version": 3
   },
   "file_extension": ".py",
   "mimetype": "text/x-python",
   "name": "python",
   "nbconvert_exporter": "python",
   "pygments_lexer": "ipython3",
   "version": "3.8.5"
  },
  "toc": {
   "base_numbering": 1,
   "nav_menu": {},
   "number_sections": true,
   "sideBar": true,
   "skip_h1_title": false,
   "title_cell": "Table of Contents",
   "title_sidebar": "Contents",
   "toc_cell": false,
   "toc_position": {},
   "toc_section_display": true,
   "toc_window_display": false
  },
  "varInspector": {
   "cols": {
    "lenName": 16,
    "lenType": 16,
    "lenVar": 40
   },
   "kernels_config": {
    "python": {
     "delete_cmd_postfix": "",
     "delete_cmd_prefix": "del ",
     "library": "var_list.py",
     "varRefreshCmd": "print(var_dic_list())"
    },
    "r": {
     "delete_cmd_postfix": ") ",
     "delete_cmd_prefix": "rm(",
     "library": "var_list.r",
     "varRefreshCmd": "cat(var_dic_list()) "
    }
   },
   "types_to_exclude": [
    "module",
    "function",
    "builtin_function_or_method",
    "instance",
    "_Feature"
   ],
   "window_display": false
  }
 },
 "nbformat": 4,
 "nbformat_minor": 4
}
