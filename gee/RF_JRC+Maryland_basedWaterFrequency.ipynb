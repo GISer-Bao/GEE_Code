{
 "cells": [
  {
   "cell_type": "code",
   "execution_count": 1,
   "metadata": {
    "ExecuteTime": {
     "end_time": "2021-01-24T07:23:12.785304Z",
     "start_time": "2021-01-24T07:23:12.780345Z"
    }
   },
   "outputs": [],
   "source": [
    "import os\n",
    "os.environ['HTTP_PROXY'] = \"http://127.0.0.1:10809\"\n",
    "os.environ['HTTPS_PROXY'] = \"http://127.0.0.1:10809\""
   ]
  },
  {
   "cell_type": "code",
   "execution_count": 2,
   "metadata": {
    "ExecuteTime": {
     "end_time": "2021-01-24T07:23:21.390475Z",
     "start_time": "2021-01-24T07:23:13.270020Z"
    }
   },
   "outputs": [
    {
     "data": {
      "application/vnd.jupyter.widget-view+json": {
       "model_id": "16d305d5806d41ff8aa052fe5e25ea57",
       "version_major": 2,
       "version_minor": 0
      },
      "text/plain": [
       "Map(center=[40, -100], controls=(WidgetControl(options=['position'], widget=HBox(children=(ToggleButton(value=…"
      ]
     },
     "metadata": {},
     "output_type": "display_data"
    }
   ],
   "source": [
    "import ee\n",
    "import geemap\n",
    "from matplotlib import pyplot as plt\n",
    "import numpy as np\n",
    "import matplotlib\n",
    "from geemap import cartoee\n",
    "Map = geemap.Map()\n",
    "Map"
   ]
  },
  {
   "cell_type": "code",
   "execution_count": 3,
   "metadata": {
    "ExecuteTime": {
     "end_time": "2021-01-24T07:23:23.817063Z",
     "start_time": "2021-01-24T07:23:21.611333Z"
    }
   },
   "outputs": [],
   "source": [
    "# 输入研究区的shp文件所在路径\n",
    "wuhan_shp =\"D:/NDVI_exercise/wuhan/wuhanregion.shp\"\n",
    "# shp 转 ee \n",
    "wuhan_ee = geemap.shp_to_ee(wuhan_shp)\n",
    "# 添加到layer\n",
    "# Map.addLayer(wuhan_ee,{},\"wuhan\")\n",
    "Map.centerObject(wuhan_ee,7)   # 设置以研究区居中"
   ]
  },
  {
   "cell_type": "code",
   "execution_count": 4,
   "metadata": {
    "ExecuteTime": {
     "end_time": "2021-01-24T07:23:24.553878Z",
     "start_time": "2021-01-24T07:23:24.544903Z"
    }
   },
   "outputs": [],
   "source": [
    "# 去云、云阴影、雪掩膜函数\n",
    "def maskL8sr(image):\n",
    "    cloudShadowBitMask = (1 << 3)\n",
    "    cloudsBitMask = (1 << 5)\n",
    "    snowBitMask = (1 << 4)   \n",
    "    qa = image.select('pixel_qa')\n",
    "    mask = qa.bitwiseAnd(cloudShadowBitMask).eq(0) \\\n",
    "                   .And(qa.bitwiseAnd(cloudsBitMask).eq(0)) \\\n",
    "                   .And(qa.bitwiseAnd(snowBitMask).eq(0))\n",
    "    return image.updateMask(mask)\n",
    "\n",
    "# landsat8 图像可视化参数\n",
    "visParams = {\n",
    "    'bands': ['B5', 'B4', 'B3'],\n",
    "    'min': 0,\n",
    "    'max': 3000,\n",
    "    'gamma': 1.4,\n",
    "}\n",
    "# JRC数据集的可视化参数\n",
    "visualization = {\n",
    "    'bands': ['waterClass'],\n",
    "    'min': 0.0,\n",
    "    'max': 3.0,\n",
    "    'palette': ['cccccc', 'ffffff', '99d9ea', '0000ff']\n",
    "}\n",
    "# NDVI and mNDWI 函数的定义\n",
    "def NDVI(image):\n",
    "    ndvi=image.normalizedDifference(['B5', 'B4']).rename('NDVI')  \n",
    "    return image.addBands(ndvi)\n",
    "\n",
    "def mNDWI(image):\n",
    "    mndwi=image.normalizedDifference(['B3', 'B6']).rename(\"mNDWI\")\n",
    "    return image.addBands(mndwi)\n",
    "\n",
    "# RandomForest预测使用的波段\n",
    "bands = ['B2', 'B3', 'B4', 'B5', 'B6', 'B7']\n",
    "# 分类标签\n",
    "label = 'waterclass'\n"
   ]
  },
  {
   "cell_type": "code",
   "execution_count": 5,
   "metadata": {
    "ExecuteTime": {
     "end_time": "2021-01-24T07:23:25.202143Z",
     "start_time": "2021-01-24T07:23:25.196159Z"
    }
   },
   "outputs": [],
   "source": [
    "# 添加一个底图白板\n",
    "basemap = ee.Image.constant(0).clip(wuhan_ee).select('constant').rename('waterclass')\n",
    "# Map.addLayer(basemap,{'palette':['white']},\"basemap\")\n",
    "basemap1 = ee.Image.constant(0).clip(wuhan_ee).select('constant').rename('class')"
   ]
  },
  {
   "cell_type": "code",
   "execution_count": null,
   "metadata": {
    "ExecuteTime": {
     "end_time": "2021-01-24T06:32:16.027593Z",
     "start_time": "2021-01-24T06:32:13.342777Z"
    }
   },
   "outputs": [],
   "source": [
    "# JRC_wuhan_water = ee.Image(\"JRC/GSW1_2/YearlyHistory/2018\").clip(wuhan_ee)\n",
    "# JRC_permanentwater = JRC_wuhan_water.eq(3).selfMask()\n",
    "# Map.addLayer(JRC_permanentwater,{'palette':['blue']},'jrcpermanent')"
   ]
  },
  {
   "cell_type": "markdown",
   "metadata": {},
   "source": [
    "# 训练&分类"
   ]
  },
  {
   "cell_type": "code",
   "execution_count": 6,
   "metadata": {
    "ExecuteTime": {
     "end_time": "2021-01-24T07:23:32.526095Z",
     "start_time": "2021-01-24T07:23:32.518086Z"
    }
   },
   "outputs": [],
   "source": [
    "landsat8_images = ee.ImageCollection('LANDSAT/LC08/C01/T1_SR') \\\n",
    "    .filterBounds(wuhan_ee) \\\n",
    "    .filterDate('2018-01-01', '2018-12-31') \\\n",
    "    .map(maskL8sr)\n",
    "\n",
    "landsat_ndvi_mndwi = landsat8_images.map(NDVI).map(mNDWI)\n",
    "# 计算有效像元的个数\n",
    "validPixel = landsat8_images.count().select('B3').clip(wuhan_ee).rename('count')\n",
    "# Map.addLayer(validPixel,{},'count_image')"
   ]
  },
  {
   "cell_type": "code",
   "execution_count": 7,
   "metadata": {
    "ExecuteTime": {
     "end_time": "2021-01-24T07:23:36.518351Z",
     "start_time": "2021-01-24T07:23:36.367089Z"
    }
   },
   "outputs": [],
   "source": [
    "Maryland_2018 = ee.Image('users/311605001111/Maryland_2018').clip(wuhan_ee).select('b1').gt(74).select('b1').rename('class')\n",
    "wuhan_Maryland = ee.ImageCollection([Maryland_2018,basemap1]).sum()\n",
    "wuhan_JRC = ee.Image(\"JRC/GSW1_2/YearlyHistory/2018\").clip(wuhan_ee).eq(3).select(\"waterClass\").rename('class')\n",
    "Maryland_JRC = ee.ImageCollection([wuhan_Maryland,wuhan_JRC]).sum().eq(2)\n",
    "Maryland_JRC_samplepoints = Maryland_JRC.sample(**{\n",
    "    'region': wuhan_ee,\n",
    "    'scale': 30,\n",
    "    'numPixels': 5000,\n",
    "    'seed': 0,\n",
    "    'geometries': True  # Set this to False to ignore geometries\n",
    "})\n",
    "\n",
    "# 70% 做训练点位，30% 做验证点位\n",
    "withRandom = Maryland_JRC_samplepoints.randomColumn('random')\n",
    "\n",
    "#把生成随机数大于0.7的分成测试数据，否则为训练数据。这样可以把数据分成两份\n",
    "split = 0.7\n",
    "trainingPartition = withRandom.filter(ee.Filter.lt('random', split))\n",
    "testingPartition = withRandom.filter(ee.Filter.gte('random', split))\n",
    "\n",
    "def imageSample(image):\n",
    "    # Overlay the points on the imagery to get training.\n",
    "    sample_point = image.select(bands).sampleRegions(**{\n",
    "        'collection': trainingPartition,\n",
    "        'properties': ['class'],\n",
    "        'scale': 30\n",
    "    })\n",
    "    return sample_point\n",
    "points_collection = landsat_ndvi_mndwi.map(imageSample).flatten()\n",
    "# print('total sample number:{}'.format(points_collection.size().getInfo()))\n",
    "# print(points_collection.first().getInfo())\n",
    "# samplepoint_water = points_collection.filter(ee.Filter.eq('jrcwaterclass',1))\n",
    "# print('water sample number:{}'.format(samplepoint_water.size().getInfo()))\n",
    "# print(samplepoint_water.first().getInfo())\n",
    "\n",
    "trainedClassifier = ee.Classifier.smileRandomForest(20).train(points_collection,'class',bands)\n",
    "#对Landsat-8进行分类\n",
    "def training(image):\n",
    "    return image.clip(wuhan_ee).select(bands).classify(trainedClassifier).eq(1).selfMask().select('classification').rename('class')\n",
    "landsatImage_classify = landsat_ndvi_mndwi.map(training)\n",
    "waterpixel_count = landsatImage_classify.sum()\n",
    "# print(landsatImage_classify.size().getInfo())\n",
    "# Map.addLayer(waterpixel_count,{},\"waterPixelCount\")\n",
    "wuhan_waterfrequency = waterpixel_count.select('class').divide(validPixel.select('count')).select('class').rename('frequency')\n",
    "wuhan_permanentwater = wuhan_waterfrequency.gte(0.75).selfMask().select('frequency').rename('waterclass')\n",
    "# Map.addLayer(wuhan_waterfrequency,{},\"waterfrequency\")\n",
    "# Map.addLayer(wuhan_permanentwater,{'palette':['red']},\"permanentwater\")\n",
    "\n"
   ]
  },
  {
   "cell_type": "code",
   "execution_count": 10,
   "metadata": {
    "ExecuteTime": {
     "end_time": "2021-01-24T07:49:12.129759Z",
     "start_time": "2021-01-24T07:49:06.634136Z"
    }
   },
   "outputs": [],
   "source": [
    "imagecollection = ee.ImageCollection([wuhan_permanentwater,basemap])\n",
    "permanent_water_layer = imagecollection.sum()\n",
    "Map.addLayer(permanent_water_layer,{'min':0,\"max\":1,'palette':['white','blue']},'waterpermanent')"
   ]
  },
  {
   "cell_type": "code",
   "execution_count": null,
   "metadata": {
    "ExecuteTime": {
     "end_time": "2021-01-24T06:26:15.076011Z",
     "start_time": "2021-01-24T06:25:56.144725Z"
    }
   },
   "outputs": [],
   "source": [
    "# from geemap import cartoee\n",
    "# region = [113.6, 29.9, 115.1, 31.4] \n",
    "# vis = {'bands': ['waterclass'], 'palette': ['blue'], 'min': 0.0, 'max': 1.0, 'opacity': 1.0}\n",
    "# fig = plt.figure(figsize=(12, 8))\n",
    "# # use cartoee to get a map\n",
    "# ax = cartoee.get_map(wuhan_permanentwater, region=region, vis_params=vis)\n",
    "# # add gridlines to the map at a specified interval\n",
    "# cartoee.add_gridlines(ax, interval=[0.5,0.5], linestyle=\":\")\n",
    "# ax.set_title(label = 'permanent surface water in 2018(JRC+Maryland)', fontsize=20)"
   ]
  },
  {
   "cell_type": "markdown",
   "metadata": {},
   "source": [
    "# 验证"
   ]
  },
  {
   "cell_type": "code",
   "execution_count": 9,
   "metadata": {
    "ExecuteTime": {
     "end_time": "2021-01-24T07:26:32.050110Z",
     "start_time": "2021-01-24T07:26:21.430377Z"
    }
   },
   "outputs": [
    {
     "name": "stdout",
     "output_type": "stream",
     "text": [
      "{'type': 'Feature', 'geometry': None, 'id': '3_0', 'properties': {'class': 0, 'waterclass': 0}}\n",
      "[[1396, 4], [15, 82]]\n",
      "total caccuracy:0.9873079492317969\n",
      "kappa:0.889441708419657\n"
     ]
    }
   ],
   "source": [
    "imagecollection = ee.ImageCollection([wuhan_permanentwater,basemap])\n",
    "permanent_water_layer = imagecollection.sum()\n",
    "# Map.addLayer(permanent_water_layer,{'min':0,\"max\":1,'palette':['white','blue']},'waterpermanent')\n",
    "\n",
    "JRC_sample_point = permanent_water_layer.sampleRegions(**{\n",
    "    'collection': testingPartition,\n",
    "    'properties': ['class'],\n",
    "    'scale': 30\n",
    "})\n",
    "print(JRC_sample_point.first().getInfo())\n",
    "# 利用误差矩阵进行验证\n",
    "test_accuracy = JRC_sample_point.errorMatrix('class', 'waterclass')\n",
    "print(test_accuracy.getInfo())\n",
    "print('total caccuracy:{}'.format(test_accuracy.accuracy().getInfo()))\n",
    "print('kappa:{}'.format(test_accuracy.kappa().getInfo()))"
   ]
  },
  {
   "cell_type": "code",
   "execution_count": null,
   "metadata": {
    "ExecuteTime": {
     "end_time": "2021-01-24T05:56:42.322557Z",
     "start_time": "2021-01-24T05:56:39.576294Z"
    }
   },
   "outputs": [],
   "source": [
    "JRC_wuhan_water = ee.Image(\"JRC/GSW1_2/YearlyHistory/2018\").clip(wuhan_ee)\n",
    "JRC_permanentwater = JRC_wuhan_water.eq(3).selfMask()\n",
    "Map.addLayer(JRC_permanentwater,{'palette':['blue']},'jrcpermanent')"
   ]
  },
  {
   "cell_type": "markdown",
   "metadata": {},
   "source": [
    "# 水体面积"
   ]
  },
  {
   "cell_type": "code",
   "execution_count": null,
   "metadata": {
    "ExecuteTime": {
     "end_time": "2021-01-24T06:57:38.824733Z",
     "start_time": "2021-01-24T06:57:07.110451Z"
    }
   },
   "outputs": [],
   "source": [
    "# calculate the area of permanent water\n",
    "waterarea = wuhan_permanentwater.multiply(ee.Image.pixelArea()).divide(1e6)\n",
    "areas = waterarea.reduceRegion(**{\n",
    "    'reducer': ee.Reducer.sum(),\n",
    "    'geometry': wuhan_ee.geometry(),\n",
    "    'scale': 30,\n",
    "    'maxPixels': 1e14\n",
    "})\n",
    "print(areas.getInfo())"
   ]
  },
  {
   "cell_type": "code",
   "execution_count": null,
   "metadata": {},
   "outputs": [],
   "source": []
  },
  {
   "cell_type": "code",
   "execution_count": null,
   "metadata": {},
   "outputs": [],
   "source": []
  }
 ],
 "metadata": {
  "hide_input": false,
  "kernelspec": {
   "display_name": "Python 3",
   "language": "python",
   "name": "python3"
  },
  "language_info": {
   "codemirror_mode": {
    "name": "ipython",
    "version": 3
   },
   "file_extension": ".py",
   "mimetype": "text/x-python",
   "name": "python",
   "nbconvert_exporter": "python",
   "pygments_lexer": "ipython3",
   "version": "3.8.5"
  },
  "toc": {
   "base_numbering": 1,
   "nav_menu": {},
   "number_sections": true,
   "sideBar": true,
   "skip_h1_title": false,
   "title_cell": "Table of Contents",
   "title_sidebar": "Contents",
   "toc_cell": false,
   "toc_position": {},
   "toc_section_display": true,
   "toc_window_display": false
  },
  "varInspector": {
   "cols": {
    "lenName": 16,
    "lenType": 16,
    "lenVar": 40
   },
   "kernels_config": {
    "python": {
     "delete_cmd_postfix": "",
     "delete_cmd_prefix": "del ",
     "library": "var_list.py",
     "varRefreshCmd": "print(var_dic_list())"
    },
    "r": {
     "delete_cmd_postfix": ") ",
     "delete_cmd_prefix": "rm(",
     "library": "var_list.r",
     "varRefreshCmd": "cat(var_dic_list()) "
    }
   },
   "types_to_exclude": [
    "module",
    "function",
    "builtin_function_or_method",
    "instance",
    "_Feature"
   ],
   "window_display": false
  }
 },
 "nbformat": 4,
 "nbformat_minor": 4
}
