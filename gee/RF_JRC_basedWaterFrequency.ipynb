{
 "cells": [
  {
   "cell_type": "code",
   "execution_count": 1,
   "metadata": {
    "ExecuteTime": {
     "end_time": "2021-01-24T07:16:21.443836Z",
     "start_time": "2021-01-24T07:16:21.433803Z"
    }
   },
   "outputs": [],
   "source": [
    "import os\n",
    "os.environ['HTTP_PROXY'] = \"http://127.0.0.1:10809\"\n",
    "os.environ['HTTPS_PROXY'] = \"http://127.0.0.1:10809\""
   ]
  },
  {
   "cell_type": "code",
   "execution_count": 2,
   "metadata": {
    "ExecuteTime": {
     "end_time": "2021-01-24T07:16:30.055943Z",
     "start_time": "2021-01-24T07:16:21.838316Z"
    }
   },
   "outputs": [
    {
     "data": {
      "application/vnd.jupyter.widget-view+json": {
       "model_id": "278e1e4963dd4c48a1599a869a495241",
       "version_major": 2,
       "version_minor": 0
      },
      "text/plain": [
       "Map(center=[40, -100], controls=(WidgetControl(options=['position'], widget=HBox(children=(ToggleButton(value=…"
      ]
     },
     "metadata": {},
     "output_type": "display_data"
    }
   ],
   "source": [
    "import ee\n",
    "import geemap\n",
    "Map = geemap.Map()\n",
    "Map"
   ]
  },
  {
   "cell_type": "code",
   "execution_count": 3,
   "metadata": {
    "ExecuteTime": {
     "end_time": "2021-01-24T07:16:33.445731Z",
     "start_time": "2021-01-24T07:16:30.306699Z"
    }
   },
   "outputs": [],
   "source": [
    "# 输入研究区的shp文件所在路径\n",
    "wuhan_shp =\"D:/NDVI_exercise/wuhan/wuhanregion.shp\"\n",
    "# shp 转 ee \n",
    "wuhan_ee = geemap.shp_to_ee(wuhan_shp)\n",
    "# 添加到layer\n",
    "# Map.addLayer(wuhan_ee,{},\"wuhan\")\n",
    "Map.centerObject(wuhan_ee,7)   # 设置以研究区居中"
   ]
  },
  {
   "cell_type": "code",
   "execution_count": 4,
   "metadata": {
    "ExecuteTime": {
     "end_time": "2021-01-24T07:16:35.279086Z",
     "start_time": "2021-01-24T07:16:35.272100Z"
    }
   },
   "outputs": [],
   "source": [
    "# 去云掩膜函数\n",
    "def maskL8sr(image):\n",
    "    cloudShadowBitMask = (1 << 3)\n",
    "    cloudsBitMask = (1 << 5)\n",
    "    qa = image.select('pixel_qa')\n",
    "    mask = qa.bitwiseAnd(cloudShadowBitMask).eq(0) \\\n",
    "                 .And(qa.bitwiseAnd(cloudsBitMask).eq(0))\n",
    "    return image.updateMask(mask)\n",
    "# landsat8 图像可视化参数\n",
    "visParams = {\n",
    "    'bands': ['B5', 'B4', 'B3'],\n",
    "    'min': 0,\n",
    "    'max': 3000,\n",
    "    'gamma': 1.4,\n",
    "}\n",
    "# JRC数据集的可视化参数\n",
    "visualization = {\n",
    "    'bands': ['waterClass'],\n",
    "    'min': 0.0,\n",
    "    'max': 3.0,\n",
    "    'palette': ['cccccc', 'ffffff', '99d9ea', '0000ff']\n",
    "}\n",
    "# NDVI and mNDWI 函数的定义\n",
    "def NDVI(image):\n",
    "    ndvi=image.normalizedDifference(['B5', 'B4']).rename('NDVI')  \n",
    "    return image.addBands(ndvi)\n",
    "\n",
    "def mNDWI(image):\n",
    "    mndwi=image.normalizedDifference(['B3', 'B6']).rename(\"mNDWI\")\n",
    "    return image.addBands(mndwi)\n",
    "\n",
    "# RandomForest预测使用的波段\n",
    "bands = ['B2', 'B3', 'B4', 'B5', 'B6', 'B7']\n",
    "# 分类标签\n",
    "label = 'waterclass'\n"
   ]
  },
  {
   "cell_type": "code",
   "execution_count": 5,
   "metadata": {
    "ExecuteTime": {
     "end_time": "2021-01-24T07:16:37.252519Z",
     "start_time": "2021-01-24T07:16:37.242172Z"
    }
   },
   "outputs": [],
   "source": [
    "# 添加一个底图白板\n",
    "basemap = ee.Image.constant(0).clip(wuhan_ee).select('constant').rename('waterclass')\n",
    "# Map.addLayer(basemap,{'palette':['white']},\"basemap\")"
   ]
  },
  {
   "cell_type": "code",
   "execution_count": null,
   "metadata": {
    "ExecuteTime": {
     "end_time": "2021-01-24T06:24:25.620951Z",
     "start_time": "2021-01-24T06:24:25.615964Z"
    }
   },
   "outputs": [],
   "source": [
    "# dataset = ee.ImageCollection('COPERNICUS/S2_SR') \\\n",
    "#                   .filterBounds(wuhan_ee) \\\n",
    "#                   .filterDate('2018-01-01', '2018-12-30') \\\n",
    "#                   .filter(ee.Filter.lt('CLOUDY_PIXEL_PERCENTAGE',5))\n",
    "\n",
    "# visualization = {\n",
    "#   'min': 0.0,\n",
    "#   'max': 3500,\n",
    "#   'bands': ['B8', 'B4', 'B3'],\n",
    "# }\n",
    "\n",
    "# Map.addLayer(dataset.first().clip(wuhan_ee), visualization, 'RGB')"
   ]
  },
  {
   "cell_type": "markdown",
   "metadata": {},
   "source": [
    "# 训练&分类"
   ]
  },
  {
   "cell_type": "code",
   "execution_count": 6,
   "metadata": {
    "ExecuteTime": {
     "end_time": "2021-01-24T07:16:40.099969Z",
     "start_time": "2021-01-24T07:16:40.092961Z"
    }
   },
   "outputs": [],
   "source": [
    "landsat8_images = ee.ImageCollection('LANDSAT/LC08/C01/T1_SR') \\\n",
    "    .filterBounds(wuhan_ee) \\\n",
    "    .filterDate('2018-01-01', '2018-12-31') \\\n",
    "    .map(maskL8sr)\n",
    "\n",
    "landsat_ndvi_mndwi = landsat8_images.map(NDVI).map(mNDWI)\n",
    "# 计算有效像元的个数\n",
    "validPixel = landsat8_images.count().select('B3').clip(wuhan_ee).rename('count')\n",
    "# Map.addLayer(validPixel,{},'count_image')"
   ]
  },
  {
   "cell_type": "code",
   "execution_count": null,
   "metadata": {
    "ExecuteTime": {
     "end_time": "2021-01-24T06:25:17.492897Z",
     "start_time": "2021-01-24T06:25:17.487910Z"
    },
    "scrolled": false
   },
   "outputs": [],
   "source": [
    "# from matplotlib import pyplot as plt\n",
    "# import numpy as np\n",
    "# import matplotlib\n",
    "# from geemap import cartoee\n",
    "# region = [113.6, 29.9, 115.1, 31.4] \n",
    "# vis = {'min':0, 'max':40}\n",
    "# # vis = {'bands': ['count'], 'palette': ['ffffff', 'dd09ec'], 'min': 0.0, 'max': 40.0, 'opacity': 1.0}\n",
    "# fig = plt.figure(figsize=(12, 8))\n",
    "# cmap = 'YlGn'\n",
    "# # use cartoee to get a map\n",
    "# ax = cartoee.get_map(validPixel, region=region, vis_params=vis,cmap = cmap)\n",
    "# # add a colorbar to the map using the visualization params we passed to the map\n",
    "# cartoee.add_colorbar(ax, vis,cmap=cmap,loc=\"right\",label=\"number of valid pixels\", orientation=\"vertical\")\n",
    "# # ticks=range(0,50,10)\n",
    "# # add gridlines to the map at a specified interval\n",
    "# cartoee.add_gridlines(ax, interval=[0.5,0.5], linestyle=\":\")\n",
    "# ax.set_title(label = 'number of valid pixels in 2018', fontsize=20)\n",
    "# # plt.show()\n"
   ]
  },
  {
   "cell_type": "code",
   "execution_count": 7,
   "metadata": {
    "ExecuteTime": {
     "end_time": "2021-01-24T07:16:44.548172Z",
     "start_time": "2021-01-24T07:16:44.541190Z"
    }
   },
   "outputs": [],
   "source": [
    "JRC_wuhan_water = ee.Image(\"JRC/GSW1_2/YearlyHistory/2018\").clip(wuhan_ee)\n",
    "JRC_permanentwater = JRC_wuhan_water.eq(3).select(\"waterClass\").rename('jrcwaterclass')\n",
    "# Map.addLayer(JRC_permanentwater.selfMask(),{'palette':['blue']},'jrcpermanent')\n",
    "JRC_samplepoints = JRC_permanentwater.sample(**{\n",
    "    'region': wuhan_ee,\n",
    "    'scale': 30,\n",
    "    'numPixels': 5000,\n",
    "    'seed': 0,\n",
    "    'geometries': True  # Set this to False to ignore geometries\n",
    "})\n",
    "\n",
    "# 70% 做训练点位，30% 做验证点位\n",
    "withRandom = JRC_samplepoints.randomColumn('random')\n",
    "\n",
    "#把生成随机数大于0.7的分成测试数据，否则为训练数据。这样可以把数据分成两份\n",
    "split = 0.7\n",
    "trainingPartition = withRandom.filter(ee.Filter.lt('random', split))\n",
    "testingPartition = withRandom.filter(ee.Filter.gte('random', split))\n",
    "# print(testingPartition.first().getInfo())\n",
    "# print('JRC total number of sample point:{}'.format(testingPartition.size().getInfo()))\n",
    "# # print(JRC_samplepoints.first().getInfo())\n",
    "# waterclass = testingPartition.filter(ee.Filter.eq('jrcwaterclass',1))\n",
    "# print('the number of water sample point:{}'.format(waterclass.size().getInfo()))"
   ]
  },
  {
   "cell_type": "code",
   "execution_count": 8,
   "metadata": {
    "ExecuteTime": {
     "end_time": "2021-01-24T07:17:00.479653Z",
     "start_time": "2021-01-24T07:17:00.396799Z"
    },
    "scrolled": true
   },
   "outputs": [],
   "source": [
    "def imageSample(image):\n",
    "    # Overlay the points on the imagery to get training.\n",
    "    sample_point = image.select(bands).sampleRegions(**{\n",
    "        'collection': trainingPartition,\n",
    "        'properties': ['jrcwaterclass'],\n",
    "        'scale': 30\n",
    "    })\n",
    "    return sample_point\n",
    "points_collection = landsat_ndvi_mndwi.map(imageSample).flatten()\n",
    "# print('total sample number:{}'.format(points_collection.size().getInfo()))\n",
    "# print(points_collection.first().getInfo())\n",
    "# samplepoint_water = points_collection.filter(ee.Filter.eq('jrcwaterclass',1))\n",
    "# print('water sample number:{}'.format(samplepoint_water.size().getInfo()))\n",
    "# print(samplepoint_water.first().getInfo())"
   ]
  },
  {
   "cell_type": "code",
   "execution_count": 9,
   "metadata": {
    "ExecuteTime": {
     "end_time": "2021-01-24T07:17:10.978472Z",
     "start_time": "2021-01-24T07:17:10.898578Z"
    }
   },
   "outputs": [],
   "source": [
    "trainedClassifier = ee.Classifier.smileRandomForest(20).train(points_collection,'jrcwaterclass',bands)\n",
    "#对Landsat-8进行分类\n",
    "def training(image):\n",
    "    return image.clip(wuhan_ee).select(bands).classify(trainedClassifier).eq(1).selfMask().select('classification').rename('waterclass')\n",
    "landsatImage_classify = landsat_ndvi_mndwi.map(training)\n",
    "waterpixel_count = landsatImage_classify.sum()\n",
    "# print(landsatImage_classify.size().getInfo())\n",
    "# Map.addLayer(waterpixel_count,{},\"waterPixelCount\")\n",
    "wuhan_waterfrequency = waterpixel_count.select('waterclass').divide(validPixel.select('count')).select('waterclass').rename('frequency')\n",
    "wuhan_permanentwater = wuhan_waterfrequency.gte(0.75).selfMask().select('frequency').rename('waterclass')\n",
    "\n",
    "# Map.addLayer(wuhan_waterfrequency,{},\"waterfrequency\")\n",
    "# Map.addLayer(wuhan_permanentwater,{'palette':['red']},\"permanentwater\")"
   ]
  },
  {
   "cell_type": "code",
   "execution_count": null,
   "metadata": {
    "ExecuteTime": {
     "start_time": "2021-01-24T06:22:12.253Z"
    }
   },
   "outputs": [],
   "source": [
    "# from geemap import cartoee\n",
    "# region = [113.6, 29.9, 115.1, 31.4] \n",
    "# vis = {'min':0, 'max':40}\n",
    "# fig = plt.figure(figsize=(12, 8))\n",
    "# cmap = 'GnBu'\n",
    "# # use cartoee to get a map\n",
    "# ax = cartoee.get_map(waterpixel_count, region=region, vis_params=vis,cmap = cmap)\n",
    "# # add a colorbar to the map using the visualization params we passed to the map\n",
    "# cartoee.add_colorbar(ax, vis,cmap=cmap,loc=\"right\",label=\"number of water pixels\", orientation=\"vertical\")\n",
    "# # ticks=range(0,50,10)\n",
    "# # add gridlines to the map at a specified interval\n",
    "# cartoee.add_gridlines(ax, interval=[0.5,0.5], linestyle=\":\")\n",
    "# ax.set_title(label = 'number of water pixels in 2018', fontsize=20)"
   ]
  },
  {
   "cell_type": "code",
   "execution_count": null,
   "metadata": {
    "ExecuteTime": {
     "start_time": "2021-01-24T06:22:13.269Z"
    }
   },
   "outputs": [],
   "source": [
    "# from geemap import cartoee\n",
    "# region = [113.6, 29.9, 115.1, 31.4] \n",
    "# vis = {'min':0, 'max':1}\n",
    "# # vis = {'bands': ['count'], 'palette': ['ffffff', 'dd09ec'], 'min': 0.0, 'max': 40.0, 'opacity': 1.0}\n",
    "# fig = plt.figure(figsize=(12, 8))\n",
    "# cmap = 'Blues'\n",
    "# # use cartoee to get a map\n",
    "# ax = cartoee.get_map(wuhan_waterfrequency, region=region, vis_params=vis,cmap = cmap)\n",
    "# # add a colorbar to the map using the visualization params we passed to the map\n",
    "# cartoee.add_colorbar(ax, vis,cmap=cmap,loc=\"right\",label=\"water frequency\", orientation=\"vertical\")\n",
    "# # ticks=range(0,50,10)\n",
    "# # add gridlines to the map at a specified interval\n",
    "# cartoee.add_gridlines(ax, interval=[0.5,0.5], linestyle=\":\")\n",
    "# ax.set_title(label = 'waterbody frequency in 2018', fontsize=20)"
   ]
  },
  {
   "cell_type": "code",
   "execution_count": null,
   "metadata": {
    "ExecuteTime": {
     "start_time": "2021-01-24T06:22:13.892Z"
    }
   },
   "outputs": [],
   "source": [
    "# from geemap import cartoee\n",
    "# region = [113.6, 29.9, 115.1, 31.4] \n",
    "# vis = {'bands': ['waterclass'], 'palette': ['blue'], 'min': 0.0, 'max': 1.0, 'opacity': 1.0}\n",
    "# fig = plt.figure(figsize=(12, 8))\n",
    "# # use cartoee to get a map\n",
    "# ax = cartoee.get_map(wuhan_permanentwater, region=region, vis_params=vis)\n",
    "# # add gridlines to the map at a specified interval\n",
    "# cartoee.add_gridlines(ax, interval=[0.5,0.5], linestyle=\":\")\n",
    "# ax.set_title(label = 'permanent surface water in 2018(JRC)', fontsize=20)"
   ]
  },
  {
   "cell_type": "code",
   "execution_count": null,
   "metadata": {
    "ExecuteTime": {
     "start_time": "2021-01-24T06:22:14.317Z"
    },
    "scrolled": false
   },
   "outputs": [],
   "source": [
    "# from geemap import cartoee\n",
    "# region = [113.6, 29.9, 115.1, 31.4] \n",
    "# vis = {'bands': ['jrcwaterclass'], 'palette': ['blue'], 'min': 0.0, 'max': 1.0, 'opacity': 1.0}\n",
    "# fig = plt.figure(figsize=(12, 8))\n",
    "# # use cartoee to get a map\n",
    "# ax = cartoee.get_map(JRC_permanentwater.selfMask(), region=region, vis_params=vis)\n",
    "# # add gridlines to the map at a specified interval\n",
    "# cartoee.add_gridlines(ax, interval=[0.5,0.5], linestyle=\":\")\n",
    "# ax.set_title(label = 'JRC permanent surface water in 2018', fontsize=20)"
   ]
  },
  {
   "cell_type": "markdown",
   "metadata": {},
   "source": [
    "# 验证"
   ]
  },
  {
   "cell_type": "code",
   "execution_count": 10,
   "metadata": {
    "ExecuteTime": {
     "end_time": "2021-01-24T07:17:44.737783Z",
     "start_time": "2021-01-24T07:17:44.732767Z"
    }
   },
   "outputs": [],
   "source": [
    "imagecollection = ee.ImageCollection([wuhan_permanentwater,basemap])\n",
    "permanent_water_layer = imagecollection.sum()\n",
    "# Map.addLayer(permanent_water_layer,{'min':0,\"max\":1,'palette':['white','blue']},'waterpermanent')"
   ]
  },
  {
   "cell_type": "code",
   "execution_count": 12,
   "metadata": {
    "ExecuteTime": {
     "end_time": "2021-01-24T07:19:37.337335Z",
     "start_time": "2021-01-24T07:18:35.117716Z"
    },
    "scrolled": true
   },
   "outputs": [
    {
     "name": "stdout",
     "output_type": "stream",
     "text": [
      "366\n",
      "{'type': 'Feature', 'geometry': None, 'id': '1_0', 'properties': {'jrcwaterclass': 0, 'waterclass': 0}}\n",
      "[[230, 4], [23, 109]]\n",
      "total caccuracy:0.9262295081967213\n",
      "kappa:0.8348541060864334\n"
     ]
    }
   ],
   "source": [
    "# # 使用JRC做验证\n",
    "# JRC_wuhan_water = ee.Image(\"JRC/GSW1_2/YearlyHistory/2018\").clip(wuhan_ee)\n",
    "# Map.addLayer(JRC_wuhan_water,visualization,'JRC_wuhan_water')\n",
    "# JRC_permanentwater = JRC_wuhan_water.eq(3).select(\"waterClass\").rename('jrcwaterclass')\n",
    "# JRC_samplepoints = JRC_permanentwater.sample(**{\n",
    "#     'region': wuhan_ee,\n",
    "#     'scale': 30,\n",
    "#     'numPixels': 8 000,\n",
    "#     'seed': 0,\n",
    "#     'geometries': True  # Set this to False to ignore geometries\n",
    "# })\n",
    "# Map.addLayer(JRC_samplepoints,{},'JRC_samplepoints')\n",
    "# print('JRC total number of sample point:{}'.format(JRC_samplepoints.size().getInfo()))\n",
    "# # print(JRC_samplepoints.first().getInfo())\n",
    "# waterclass = JRC_samplepoints.filter(ee.Filter.eq('jrcwaterclass',1))\n",
    "# print('the number of water sample point:{}'.format(waterclass.size().getInfo()))\n",
    "# Overlay the points on the imagery to get training.\n",
    "print(testingPartition.size().getInfo())\n",
    "JRC_sample_point = permanent_water_layer.sampleRegions(**{\n",
    "    'collection': testingPartition,\n",
    "    'properties': ['jrcwaterclass'],\n",
    "    'scale': 30\n",
    "})\n",
    "print(JRC_sample_point.first().getInfo())\n",
    "# 利用误差矩阵进行验证\n",
    "test_accuracy = JRC_sample_point.errorMatrix('jrcwaterclass', 'waterclass')\n",
    "print(test_accuracy.getInfo())\n",
    "print('total caccuracy:{}'.format(test_accuracy.accuracy().getInfo()))\n",
    "print('kappa:{}'.format(test_accuracy.kappa().getInfo()))"
   ]
  },
  {
   "cell_type": "code",
   "execution_count": 15,
   "metadata": {
    "ExecuteTime": {
     "end_time": "2021-01-24T07:21:56.215977Z",
     "start_time": "2021-01-24T07:21:15.653930Z"
    }
   },
   "outputs": [
    {
     "name": "stdout",
     "output_type": "stream",
     "text": [
      "Maryland total number of sample point:2999\n",
      "the number of water sample point:360\n",
      "{'type': 'Feature', 'geometry': None, 'id': '0_0', 'properties': {'water_class': 0, 'waterclass': 0}}\n",
      "[[2634, 5], [130, 230]]\n",
      "total caccuracy:0.9549849949983328\n",
      "kappa:0.7493414148668436\n"
     ]
    }
   ],
   "source": [
    "imagecollection = ee.ImageCollection([wuhan_permanentwater,basemap])\n",
    "permanent_water_layer = imagecollection.sum()\n",
    "# Map.addLayer(permanent_water_layer,{'min':0,\"max\":1,'palette':['white','blue']},'waterpermanent')\n",
    "\n",
    "# 使用Maryland做验证\n",
    "basemap1 = ee.Image.constant(0).clip(wuhan_ee).select('constant').rename('water_class')\n",
    "Maryland_2018 = ee.Image('users/311605001111/Maryland_2018').clip(wuhan_ee).select('b1').gt(74).select('b1').rename('water_class')\n",
    "wuhan_Maryland = ee.ImageCollection([Maryland_2018,basemap1]).sum()\n",
    "Maryland_samplepoints =wuhan_Maryland .sample(**{\n",
    "    'region': wuhan_ee,\n",
    "    'scale': 30,\n",
    "    'numPixels': 3000,\n",
    "    'seed': 0,\n",
    "    'geometries': True  # Set this to False to ignore geometries\n",
    "})\n",
    "print('Maryland total number of sample point:{}'.format(Maryland_samplepoints.size().getInfo()))\n",
    "# print(Maryland_samplepoints.first().getInfo())\n",
    "waterclass = Maryland_samplepoints.filter(ee.Filter.eq('water_class',1))\n",
    "print('the number of water sample point:{}'.format(waterclass.size().getInfo()))\n",
    "# Overlay the points on the imagery to get training.\n",
    "Maryland_sample_point = permanent_water_layer.sampleRegions(**{\n",
    "    'collection': Maryland_samplepoints,\n",
    "    'properties': ['water_class'],\n",
    "    'scale': 30\n",
    "})\n",
    "print(Maryland_sample_point.first().getInfo())\n",
    "# 利用误差矩阵进行验证\n",
    "test_accuracy = Maryland_sample_point.errorMatrix('water_class', 'waterclass')\n",
    "print(test_accuracy.getInfo())\n",
    "print('total caccuracy:{}'.format(test_accuracy.accuracy().getInfo()))\n",
    "print('kappa:{}'.format(test_accuracy.kappa().getInfo()))"
   ]
  },
  {
   "cell_type": "markdown",
   "metadata": {},
   "source": [
    "# 水体面积"
   ]
  },
  {
   "cell_type": "code",
   "execution_count": null,
   "metadata": {
    "ExecuteTime": {
     "end_time": "2021-01-24T06:44:21.220139Z",
     "start_time": "2021-01-24T06:43:50.326525Z"
    }
   },
   "outputs": [],
   "source": [
    "# calculate the area of permanent water\n",
    "waterarea = wuhan_permanentwater.multiply(ee.Image.pixelArea()).divide(1e6)\n",
    "areas = waterarea.reduceRegion(**{\n",
    "    'reducer': ee.Reducer.sum(),\n",
    "    'geometry': wuhan_ee.geometry(),\n",
    "    'scale': 30,\n",
    "    'maxPixels': 1e14\n",
    "})\n",
    "print(areas.getInfo())"
   ]
  },
  {
   "cell_type": "code",
   "execution_count": null,
   "metadata": {},
   "outputs": [],
   "source": []
  },
  {
   "cell_type": "code",
   "execution_count": null,
   "metadata": {},
   "outputs": [],
   "source": []
  },
  {
   "cell_type": "code",
   "execution_count": null,
   "metadata": {},
   "outputs": [],
   "source": [
    "vis_params = {'bands': ['count'], 'palette': ['ffffff', ' dd09ec'], 'min': 0.0, 'max': 40.0, 'opacity': 1.0, 'gamma': 1.0}"
   ]
  },
  {
   "cell_type": "code",
   "execution_count": null,
   "metadata": {
    "ExecuteTime": {
     "end_time": "2021-01-11T14:38:20.903756Z",
     "start_time": "2021-01-11T14:38:20.724218Z"
    },
    "scrolled": false
   },
   "outputs": [],
   "source": [
    "import ee\n",
    "import geemap\n",
    "import matplotlib\n",
    "import numpy as np\n",
    "from matplotlib import pyplot as plt\n",
    "Map = geemap.Map()\n",
    "Map"
   ]
  }
 ],
 "metadata": {
  "hide_input": false,
  "kernelspec": {
   "display_name": "Python 3 (ipykernel)",
   "language": "python",
   "name": "python3"
  },
  "language_info": {
   "codemirror_mode": {
    "name": "ipython",
    "version": 3
   },
   "file_extension": ".py",
   "mimetype": "text/x-python",
   "name": "python",
   "nbconvert_exporter": "python",
   "pygments_lexer": "ipython3",
   "version": "3.8.5"
  },
  "toc": {
   "base_numbering": 1,
   "nav_menu": {},
   "number_sections": true,
   "sideBar": true,
   "skip_h1_title": false,
   "title_cell": "Table of Contents",
   "title_sidebar": "Contents",
   "toc_cell": false,
   "toc_position": {},
   "toc_section_display": true,
   "toc_window_display": false
  },
  "varInspector": {
   "cols": {
    "lenName": 16,
    "lenType": 16,
    "lenVar": 40
   },
   "kernels_config": {
    "python": {
     "delete_cmd_postfix": "",
     "delete_cmd_prefix": "del ",
     "library": "var_list.py",
     "varRefreshCmd": "print(var_dic_list())"
    },
    "r": {
     "delete_cmd_postfix": ") ",
     "delete_cmd_prefix": "rm(",
     "library": "var_list.r",
     "varRefreshCmd": "cat(var_dic_list()) "
    }
   },
   "types_to_exclude": [
    "module",
    "function",
    "builtin_function_or_method",
    "instance",
    "_Feature"
   ],
   "window_display": false
  }
 },
 "nbformat": 4,
 "nbformat_minor": 4
}
