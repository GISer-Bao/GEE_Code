{
 "cells": [
  {
   "cell_type": "code",
   "execution_count": 1,
   "metadata": {
    "ExecuteTime": {
     "end_time": "2021-06-22T08:01:39.061120Z",
     "start_time": "2021-06-22T08:01:39.046174Z"
    }
   },
   "outputs": [],
   "source": [
    "import os\n",
    "os.environ['HTTP_PROXY'] = \"http://127.0.0.1:10809\"\n",
    "os.environ['HTTPS_PROXY'] = \"http://127.0.0.1:10809\""
   ]
  },
  {
   "cell_type": "code",
   "execution_count": 2,
   "metadata": {
    "ExecuteTime": {
     "end_time": "2021-06-22T08:01:43.516102Z",
     "start_time": "2021-06-22T08:01:39.275981Z"
    }
   },
   "outputs": [
    {
     "data": {
      "application/vnd.jupyter.widget-view+json": {
       "model_id": "46e7e014cdb84e758a405167397b3f33",
       "version_major": 2,
       "version_minor": 0
      },
      "text/plain": [
       "Map(center=[40, -100], controls=(WidgetControl(options=['position', 'transparent_bg'], widget=HBox(children=(T…"
      ]
     },
     "metadata": {},
     "output_type": "display_data"
    }
   ],
   "source": [
    "import ee\n",
    "import geemap\n",
    "Map = geemap.Map()\n",
    "Map"
   ]
  },
  {
   "cell_type": "code",
   "execution_count": 3,
   "metadata": {
    "ExecuteTime": {
     "end_time": "2021-06-22T08:01:43.749159Z",
     "start_time": "2021-06-22T08:01:43.532059Z"
    }
   },
   "outputs": [
    {
     "ename": "NameError",
     "evalue": "name 'roi' is not defined",
     "output_type": "error",
     "traceback": [
      "\u001b[1;31m---------------------------------------------------------------------------\u001b[0m",
      "\u001b[1;31mNameError\u001b[0m                                 Traceback (most recent call last)",
      "\u001b[1;32m<ipython-input-3-ec6933b9852a>\u001b[0m in \u001b[0;36m<module>\u001b[1;34m\u001b[0m\n\u001b[0;32m      1\u001b[0m \u001b[1;31m# 青海省部分地区\u001b[0m\u001b[1;33m\u001b[0m\u001b[1;33m\u001b[0m\u001b[1;33m\u001b[0m\u001b[0m\n\u001b[0;32m      2\u001b[0m \u001b[0mwuhan_ee\u001b[0m \u001b[1;33m=\u001b[0m \u001b[0mee\u001b[0m\u001b[1;33m.\u001b[0m\u001b[0mFeature\u001b[0m\u001b[1;33m(\u001b[0m\u001b[0mee\u001b[0m\u001b[1;33m.\u001b[0m\u001b[0mFeatureCollection\u001b[0m\u001b[1;33m(\u001b[0m\u001b[1;34m'users/311605001111/YangtzeCity/wuhan'\u001b[0m\u001b[1;33m)\u001b[0m\u001b[1;33m.\u001b[0m\u001b[0mfirst\u001b[0m\u001b[1;33m(\u001b[0m\u001b[1;33m)\u001b[0m\u001b[1;33m)\u001b[0m\u001b[1;33m.\u001b[0m\u001b[0mgeometry\u001b[0m\u001b[1;33m(\u001b[0m\u001b[1;33m)\u001b[0m\u001b[1;33m\u001b[0m\u001b[1;33m\u001b[0m\u001b[0m\n\u001b[1;32m----> 3\u001b[1;33m \u001b[0mMap\u001b[0m\u001b[1;33m.\u001b[0m\u001b[0maddLayer\u001b[0m\u001b[1;33m(\u001b[0m\u001b[0mroi\u001b[0m\u001b[1;33m,\u001b[0m \u001b[1;33m{\u001b[0m\u001b[1;33m}\u001b[0m\u001b[1;33m,\u001b[0m \u001b[1;34m\"roi\"\u001b[0m\u001b[1;33m)\u001b[0m\u001b[1;33m\u001b[0m\u001b[1;33m\u001b[0m\u001b[0m\n\u001b[0m\u001b[0;32m      4\u001b[0m \u001b[0mMap\u001b[0m\u001b[1;33m.\u001b[0m\u001b[0mcenterObject\u001b[0m\u001b[1;33m(\u001b[0m\u001b[0mroi\u001b[0m\u001b[1;33m,\u001b[0m\u001b[1;36m7\u001b[0m\u001b[1;33m)\u001b[0m\u001b[1;33m\u001b[0m\u001b[1;33m\u001b[0m\u001b[0m\n\u001b[0;32m      5\u001b[0m \u001b[1;33m\u001b[0m\u001b[0m\n",
      "\u001b[1;31mNameError\u001b[0m: name 'roi' is not defined"
     ]
    }
   ],
   "source": [
    "# 青海省部分地区\n",
    "wuhan_ee = ee.Feature(ee.FeatureCollection('users/311605001111/YangtzeCity/wuhan').first()).geometry()\n",
    "Map.addLayer(roi, {}, \"roi\")\n",
    "Map.centerObject(roi,7)\n",
    "\n",
    "permanent_water = []"
   ]
  },
  {
   "cell_type": "markdown",
   "metadata": {},
   "source": [
    "# landsat 8 可用年份为2014-2020"
   ]
  },
  {
   "cell_type": "code",
   "execution_count": null,
   "metadata": {
    "ExecuteTime": {
     "end_time": "2021-01-03T12:04:26.651861Z",
     "start_time": "2021-01-03T12:04:26.631944Z"
    }
   },
   "outputs": [],
   "source": [
    "# 去云、云阴影、雪掩膜函数\n",
    "def maskL8sr(image):\n",
    "    cloudShadowBitMask = (1 << 3)\n",
    "    cloudsBitMask = (1 << 5)\n",
    "    snowBitMask = (1 << 4)   \n",
    "    qa = image.select('pixel_qa')\n",
    "    mask = qa.bitwiseAnd(cloudShadowBitMask).eq(0) \\\n",
    "                   .And(qa.bitwiseAnd(cloudsBitMask).eq(0)) \\\n",
    "                   .And(qa.bitwiseAnd(snowBitMask).eq(0))\n",
    "    return image.updateMask(mask)\n",
    "\n",
    "# 可视化参数设置\n",
    "vis_params = {\n",
    "  'bands': ['B5', 'B4', 'B3'],\n",
    "  'min': 0,\n",
    "  'max': 3000,\n",
    "  'gamma': 1.4,\n",
    "}\n",
    "\n",
    "def index(image):\n",
    "    ndvi=image.normalizedDifference(['B5', 'B4']).rename('NDVI')\n",
    "    mndwi=image.normalizedDifference(['B3', 'B6']).rename(\"mNDWI\")\n",
    "    return image.addBands(ndvi).addBands(mndwi)\n",
    "\n",
    "# Use these bands for prediction.\n",
    "bands = ['B2', 'B3', 'B4', 'B5', 'B6', 'B7']\n",
    "# 分类标签\n",
    "label = 'waterclass'"
   ]
  },
  {
   "cell_type": "code",
   "execution_count": null,
   "metadata": {
    "ExecuteTime": {
     "end_time": "2021-01-03T12:04:34.150739Z",
     "start_time": "2021-01-03T12:04:29.655704Z"
    },
    "scrolled": false
   },
   "outputs": [],
   "source": [
    "# 可用年份为2014-2020\n",
    "Year = 2018\n",
    "# month = 4\n",
    "# 定义一些变量\n",
    "days_31 = [1,3,7,8,10,12]\n",
    "days_30 = [4,6,9,11]\n",
    "days_28 = [2]\n",
    "for year in range(2018,2019,1):\n",
    "    landsat_images = ee.ImageCollection('LANDSAT/LC08/C01/T1_SR') \\\n",
    "        .filterBounds(wuhan_ee) \\\n",
    "        .filterDate('{}-01-01'.format(year), '{}-12-31'.format(year)) \\\n",
    "        .map(maskL8sr) \\\n",
    "        .map(index)\n",
    "    #合并\n",
    "    wuhan_landsat8 = landsat_images.qualityMosaic('NDVI').clip(wuhan_ee)\n",
    "    Map.addLayer(wuhan_landsat8,vis_params,\"wuhan\")\n",
    "    # 当mNDWI > EVI时\n",
    "    wuhan_mNDWI_NDVI = wuhan_landsat8.select('mNDWI').gt(wuhan_landsat8.select('NDVI'))\n",
    "    wuhan_water = wuhan_mNDWI_NDVI.select('mNDWI').rename('waterclass')\n",
    "\n",
    "    # Make the training dataset.\n",
    "    points = wuhan_water.sample(**{\n",
    "        'region': wuhan_ee,\n",
    "        'scale': 30,\n",
    "        'numPixels': 1000,\n",
    "        'seed': 0,\n",
    "        'geometries': True  # Set this to False to ignore geometries\n",
    "    })\n",
    "\n",
    "    # Overlay the points on the imagery to get training.\n",
    "    sample_point = wuhan_landsat8.select(bands).sampleRegions(**{\n",
    "        'collection': points,\n",
    "        'properties': [label],\n",
    "        'scale': 30\n",
    "    })\n",
    "\n",
    "    # 在training要素集中增加一个random属性，值为0到1的随机数\n",
    "    withRandom = sample_point.randomColumn('random')\n",
    "\n",
    "    #把生成随机数大于0.7的分成测试数据，否则为训练数据。这样可以把数据分成两份\n",
    "    split = 0.7\n",
    "    trainingPartition = withRandom.filter(ee.Filter.lt('random', split))\n",
    "    testingPartition = withRandom.filter(ee.Filter.gte('random', split))\n",
    "\n",
    "    # 利用70%数据随机森林进行训练\n",
    "    trainedClassifier = ee.Classifier.smileRandomForest(20).train(trainingPartition,label,bands)\n",
    "    #对Landsat-8进行分类\n",
    "    result=wuhan_landsat8.select(bands).classify(trainedClassifier)\n",
    "    Map.addLayer(result,{'min':0,'max':1,'palette': ['white','blue']},'RF_water')\n",
    "\n",
    "    water = result.eq(1).selfMask().multiply(ee.Image.pixelArea()).divide(1e6)\n",
    "    areas = water.reduceRegion(**{\n",
    "        'reducer': ee.Reducer.sum(),\n",
    "        'geometry': wuhan_ee.geometry(),\n",
    "        'scale': 30,\n",
    "        'maxPixels': 1e14\n",
    "    })\n",
    "    permanent_water.append(areas.get('classification').getInfo())\n",
    "    print('{} year:{}'.format(year,areas.get('classification').getInfo()))\n",
    "\n",
    "# train_accuracy = trainedClassifier.confusionMatrix()\n",
    "# print('accuracy:',train_accuracy.accuracy().getInfo())\n",
    "# print('kappa:',train_accuracy.kappa().getInfo())\n",
    "# print('producersAccuracy:',train_accuracy.producersAccuracy().getInfo())\n",
    "# print('consumersAccuracy:',train_accuracy.consumersAccuracy().getInfo())\n",
    "\n",
    "# validated = testingPartition.classify(trainedClassifier)\n",
    "\n",
    "# test_accuracy = validated.errorMatrix('waterclass', 'classification')\n",
    "\n",
    "# print('accuracy:',test_accuracy.accuracy().getInfo())\n",
    "# print('kappa:',test_accuracy.kappa().getInfo())\n",
    "# print('producersAccuracy:',test_accuracy.producersAccuracy().getInfo())\n",
    "# print('consumersAccuracy:',test_accuracy.consumersAccuracy().getInfo())"
   ]
  },
  {
   "cell_type": "markdown",
   "metadata": {},
   "source": [
    "# landsat 7 可用年份为1999-2020"
   ]
  },
  {
   "cell_type": "code",
   "execution_count": null,
   "metadata": {
    "ExecuteTime": {
     "end_time": "2021-01-02T14:45:22.123202Z",
     "start_time": "2021-01-02T14:45:22.114228Z"
    }
   },
   "outputs": [],
   "source": [
    "def cloudMaskL457(image):\n",
    "    qa = image.select('pixel_qa')\n",
    "    # If the cloud bit (5) is set and the cloud confidence (7) is high\n",
    "    # or the cloud shadow bit is set (3), then it's a bad pixel.\n",
    "    cloud = qa.bitwiseAnd(1 << 5).And(qa.bitwiseAnd(1 << 7)).Or(qa.bitwiseAnd(1 << 3))\n",
    "    # Remove edge pixels that don't occur in all bands\n",
    "    mask2 = image.mask().reduce(ee.Reducer.min())\n",
    "    return image.updateMask(cloud.Not()).updateMask(mask2)\n",
    "\n",
    "# 可视化参数设置\n",
    "vis_params = {\n",
    "  'bands': ['B4', 'B3', 'B2'],\n",
    "  'min': 0,\n",
    "  'max': 3000,\n",
    "  'gamma': 1.4,\n",
    "}\n",
    "\n",
    "def NDVI(image):\n",
    "    ndvi=image.normalizedDifference(['B4', 'B3']).rename('NDVI')  \n",
    "    return image.addBands(ndvi)\n",
    "\n",
    "def mNDWI(image):\n",
    "    mndwi=image.normalizedDifference(['B2', 'B5']).rename(\"mNDWI\")\n",
    "    return image.addBands(mndwi)\n",
    "\n",
    "# Use these bands for prediction.\n",
    "bands = ['B1', 'B2', 'B3', 'B4', 'B5', 'B7']\n",
    "# 分类标签\n",
    "label = 'waterclass'"
   ]
  },
  {
   "cell_type": "code",
   "execution_count": null,
   "metadata": {
    "ExecuteTime": {
     "end_time": "2021-01-02T14:52:02.307088Z",
     "start_time": "2021-01-02T14:45:27.693959Z"
    }
   },
   "outputs": [],
   "source": [
    "# 可用年份为2010-2020\n",
    "# year = 2018\n",
    "# month = 4\n",
    "# 定义一些变量\n",
    "days_31 = [1,3,5,7,8,10,12]\n",
    "days_30 = [4,6,9,11]\n",
    "days_28 = [2]\n",
    "for year in range(2010,2014,1):\n",
    "    landsat_images = ee.ImageCollection('LANDSAT/LE07/C01/T1_SR') \\\n",
    "        .filterBounds(wuhan_ee) \\\n",
    "        .filterDate('{}-01-01'.format(year), '{}-12-31'.format(year)) \\\n",
    "        .map(cloudMaskL457) \\\n",
    "        .map(NDVI) \\\n",
    "        .map(mNDWI)\n",
    "    #合并\n",
    "    wuhan_landsat7 = landsat_images.qualityMosaic('NDVI').clip(wuhan_ee)\n",
    "    Map.addLayer(wuhan_landsat7,vis_params,\"wuhan\")\n",
    "    # 当mNDWI > EVI时\n",
    "    wuhan_mNDWI_NDVI = wuhan_landsat7.select('mNDWI').gt(wuhan_landsat7.select('NDVI'))\n",
    "    wuhan_water = wuhan_mNDWI_NDVI.select('mNDWI').rename('waterclass')\n",
    "\n",
    "    # Make the training dataset.\n",
    "    points = wuhan_water.sample(**{\n",
    "        'region': wuhan_ee,\n",
    "        'scale': 30,\n",
    "        'numPixels': 1000,\n",
    "        'seed': 0,\n",
    "        'geometries': True  # Set this to False to ignore geometries\n",
    "    })\n",
    "\n",
    "    # Overlay the points on the imagery to get training.\n",
    "    sample_point = wuhan_landsat7.select(bands).sampleRegions(**{\n",
    "        'collection': points,\n",
    "        'properties': [label],\n",
    "        'scale': 30\n",
    "    })\n",
    "\n",
    "    # 在training要素集中增加一个random属性，值为0到1的随机数\n",
    "    withRandom = sample_point.randomColumn('random')\n",
    "\n",
    "    #把生成随机数大于0.7的分成测试数据，否则为训练数据。这样可以把数据分成两份\n",
    "    split = 0.7\n",
    "    trainingPartition = withRandom.filter(ee.Filter.lt('random', split))\n",
    "    testingPartition = withRandom.filter(ee.Filter.gte('random', split))\n",
    "\n",
    "    # 利用70%数据随机森林进行训练\n",
    "    trainedClassifier = ee.Classifier.smileRandomForest(20).train(trainingPartition,label,bands)\n",
    "    #对Landsat-8进行分类\n",
    "    result=wuhan_landsat7.select(bands).classify(trainedClassifier)\n",
    "    Map.addLayer(result,{'min':0,'max':1,'palette': ['white','blue']},'RF_water')\n",
    "\n",
    "    water = result.eq(1).selfMask().multiply(ee.Image.pixelArea()).divide(1e6)\n",
    "    areas = water.reduceRegion(**{\n",
    "        'reducer': ee.Reducer.sum(),\n",
    "        'geometry': wuhan_ee.geometry(),\n",
    "        'scale': 30,\n",
    "        'maxPixels': 1e14\n",
    "    })\n",
    "    permanent_water.append(areas.get('classification').getInfo())\n",
    "    print('{} year:{}'.format(year,areas.get('classification').getInfo()))\n",
    "\n",
    "# train_accuracy = trainedClassifier.confusionMatrix()\n",
    "# print('accuracy:',train_accuracy.accuracy().getInfo())\n",
    "# print('kappa:',train_accuracy.kappa().getInfo())\n",
    "# print('producersAccuracy:',train_accuracy.producersAccuracy().getInfo())\n",
    "# print('consumersAccuracy:',train_accuracy.consumersAccuracy().getInfo())\n",
    "\n",
    "# validated = testingPartition.classify(trainedClassifier)\n",
    "\n",
    "# test_accuracy = validated.errorMatrix('waterclass', 'classification')\n",
    "\n",
    "# print('accuracy:',test_accuracy.accuracy().getInfo())\n",
    "# print('kappa:',test_accuracy.kappa().getInfo())\n",
    "# print('producersAccuracy:',test_accuracy.producersAccuracy().getInfo())\n",
    "# print('consumersAccuracy:',test_accuracy.consumersAccuracy().getInfo())"
   ]
  },
  {
   "cell_type": "markdown",
   "metadata": {},
   "source": [
    "# 结果"
   ]
  },
  {
   "cell_type": "code",
   "execution_count": null,
   "metadata": {
    "ExecuteTime": {
     "end_time": "2020-12-31T06:54:56.607460Z",
     "start_time": "2020-12-31T06:54:56.595493Z"
    },
    "scrolled": true
   },
   "outputs": [],
   "source": [
    "print(permanent_water)"
   ]
  },
  {
   "cell_type": "markdown",
   "metadata": {
    "ExecuteTime": {
     "end_time": "2020-12-31T05:28:21.061417Z",
     "start_time": "2020-12-31T05:28:21.046429Z"
    }
   },
   "source": [
    "使用JRC数据集验证"
   ]
  },
  {
   "cell_type": "code",
   "execution_count": null,
   "metadata": {
    "ExecuteTime": {
     "end_time": "2020-12-31T05:43:51.697904Z",
     "start_time": "2020-12-31T05:43:45.608188Z"
    }
   },
   "outputs": [],
   "source": [
    "JRC_wuhan_water = ee.Image(\"JRC/GSW1_2/YearlyHistory/{}\".format(Year)).clip(wuhan_ee)\n",
    "JRC_water = JRC_wuhan_water.gt(2).select(\"waterClass\").rename('waterclass')\n",
    "JRC_points = JRC_water.sample(**{\n",
    "    'region': wuhan_ee,\n",
    "    'scale': 30,\n",
    "    'numPixels': 3000,\n",
    "    'seed': 0,\n",
    "    'geometries': True  # Set this to False to ignore geometries\n",
    "})\n",
    "\n",
    "# print(points.first().getInfo())\n",
    "# Overlay the points on the imagery to get training.\n",
    "JRC_sample_point = wuhan_landsat8.select(bands).sampleRegions(**{\n",
    "  'collection': JRC_points,\n",
    "  'properties': [label],\n",
    "  'scale': 30\n",
    "})\n",
    "print(withRandom.first().getInfo())\n",
    "validated = JRC_sample_point.classify(trainedClassifier)\n",
    "\n",
    "test_accuracy = validated.errorMatrix('waterclass', 'classification')\n",
    "print('accuracy:',test_accuracy.accuracy().getInfo())\n",
    "print('kappa:',test_accuracy.kappa().getInfo())\n",
    "print('producersAccuracy:',test_accuracy.producersAccuracy().getInfo())\n",
    "print('consumersAccuracy:',test_accuracy.consumersAccuracy().getInfo())"
   ]
  },
  {
   "cell_type": "code",
   "execution_count": null,
   "metadata": {},
   "outputs": [],
   "source": []
  },
  {
   "cell_type": "code",
   "execution_count": null,
   "metadata": {},
   "outputs": [],
   "source": []
  },
  {
   "cell_type": "code",
   "execution_count": null,
   "metadata": {},
   "outputs": [],
   "source": []
  },
  {
   "cell_type": "code",
   "execution_count": null,
   "metadata": {},
   "outputs": [],
   "source": []
  },
  {
   "cell_type": "code",
   "execution_count": null,
   "metadata": {
    "ExecuteTime": {
     "end_time": "2020-12-24T13:56:38.289871Z",
     "start_time": "2020-12-24T13:56:38.276906Z"
    }
   },
   "outputs": [],
   "source": [
    "print('Change layer opacity:')\n",
    "cluster_layer = Map.layers[-1]\n",
    "cluster_layer.interact(opacity=(0, 1, 0.1))"
   ]
  },
  {
   "cell_type": "code",
   "execution_count": null,
   "metadata": {
    "ExecuteTime": {
     "end_time": "2020-09-11T05:33:25.338429Z",
     "start_time": "2020-09-11T05:33:20.723459Z"
    }
   },
   "outputs": [],
   "source": [
    "import csv\n",
    "import os\n",
    "\n",
    "out_dir = os.path.join(os.path.expanduser('~'), 'Downloads')\n",
    "training_csv = os.path.join(out_dir, 'train_accuracy.csv')\n",
    "testing_csv = os.path.join(out_dir, 'test_accuracy.csv')\n",
    "\n",
    "with open(training_csv, \"w\", newline=\"\") as f:\n",
    "    writer = csv.writer(f)\n",
    "    writer.writerows(train_accuracy.getInfo())\n",
    "    \n",
    "with open(testing_csv, \"w\", newline=\"\") as f:\n",
    "    writer = csv.writer(f)\n",
    "    writer.writerows(test_accuracy.getInfo())"
   ]
  }
 ],
 "metadata": {
  "hide_input": false,
  "kernelspec": {
   "display_name": "Python 3",
   "language": "python",
   "name": "python3"
  },
  "language_info": {
   "codemirror_mode": {
    "name": "ipython",
    "version": 3
   },
   "file_extension": ".py",
   "mimetype": "text/x-python",
   "name": "python",
   "nbconvert_exporter": "python",
   "pygments_lexer": "ipython3",
   "version": "3.8.5"
  },
  "toc": {
   "base_numbering": 1,
   "nav_menu": {},
   "number_sections": true,
   "sideBar": true,
   "skip_h1_title": false,
   "title_cell": "Table of Contents",
   "title_sidebar": "Contents",
   "toc_cell": false,
   "toc_position": {},
   "toc_section_display": true,
   "toc_window_display": false
  },
  "varInspector": {
   "cols": {
    "lenName": 16,
    "lenType": 16,
    "lenVar": 40
   },
   "kernels_config": {
    "python": {
     "delete_cmd_postfix": "",
     "delete_cmd_prefix": "del ",
     "library": "var_list.py",
     "varRefreshCmd": "print(var_dic_list())"
    },
    "r": {
     "delete_cmd_postfix": ") ",
     "delete_cmd_prefix": "rm(",
     "library": "var_list.r",
     "varRefreshCmd": "cat(var_dic_list()) "
    }
   },
   "types_to_exclude": [
    "module",
    "function",
    "builtin_function_or_method",
    "instance",
    "_Feature"
   ],
   "window_display": false
  }
 },
 "nbformat": 4,
 "nbformat_minor": 4
}
