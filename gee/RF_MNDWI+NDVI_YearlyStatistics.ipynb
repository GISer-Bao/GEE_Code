{
 "cells": [
  {
   "cell_type": "code",
   "execution_count": 2,
   "metadata": {
    "ExecuteTime": {
     "end_time": "2020-12-29T09:12:40.960775Z",
     "start_time": "2020-12-29T09:12:40.947809Z"
    }
   },
   "outputs": [],
   "source": [
    "import os\n",
    "os.environ['HTTP_PROXY'] = \"http://127.0.0.1:10809\"\n",
    "os.environ['HTTPS_PROXY'] = \"http://127.0.0.1:10809\""
   ]
  },
  {
   "cell_type": "code",
   "execution_count": 3,
   "metadata": {
    "ExecuteTime": {
     "end_time": "2020-12-29T09:12:46.827117Z",
     "start_time": "2020-12-29T09:12:41.403591Z"
    },
    "scrolled": false
   },
   "outputs": [
    {
     "data": {
      "application/vnd.jupyter.widget-view+json": {
       "model_id": "a707def2a8924f4f9b963b5cd6ac0457",
       "version_major": 2,
       "version_minor": 0
      },
      "text/plain": [
       "Map(center=[40, -100], controls=(WidgetControl(options=['position'], widget=HBox(children=(ToggleButton(value=…"
      ]
     },
     "metadata": {},
     "output_type": "display_data"
    }
   ],
   "source": [
    "import ee\n",
    "import geemap\n",
    "Map = geemap.Map()\n",
    "Map"
   ]
  },
  {
   "cell_type": "code",
   "execution_count": 4,
   "metadata": {
    "ExecuteTime": {
     "end_time": "2020-12-29T09:12:47.000623Z",
     "start_time": "2020-12-29T09:12:46.985664Z"
    }
   },
   "outputs": [],
   "source": [
    "# 设置计算的年份\n",
    "year = 2015"
   ]
  },
  {
   "cell_type": "code",
   "execution_count": 5,
   "metadata": {
    "ExecuteTime": {
     "end_time": "2020-12-29T09:12:48.855664Z",
     "start_time": "2020-12-29T09:12:47.143243Z"
    }
   },
   "outputs": [],
   "source": [
    "# 输入研究区的shp文件所在路径\n",
    "wuhan_shp =\"D:/NDVI_exercise/wuhan/wuhanregion.shp\"\n",
    "# shp 转 ee \n",
    "wuhan_ee = geemap.shp_to_ee(wuhan_shp)\n",
    "# 添加到layer\n",
    "Map.addLayer(wuhan_ee,{},\"wuhan\")\n",
    "Map.centerObject(wuhan_ee,7)   # 设置以研究区居中"
   ]
  },
  {
   "cell_type": "code",
   "execution_count": 6,
   "metadata": {
    "ExecuteTime": {
     "end_time": "2020-12-29T09:12:52.072062Z",
     "start_time": "2020-12-29T09:12:52.068073Z"
    }
   },
   "outputs": [],
   "source": [
    "# 去云掩膜函数\n",
    "def maskL8sr(image):\n",
    "  # Bits 3 and 5 are cloud shadow and cloud, respectively.\n",
    "  cloudShadowBitMask = (1 << 3)\n",
    "  cloudsBitMask = (1 << 5)\n",
    "  # Get the pixel QA band.\n",
    "  qa = image.select('pixel_qa')\n",
    "  # Both flags should be set to zero, indicating clear conditions.\n",
    "  mask = qa.bitwiseAnd(cloudShadowBitMask).eq(0) \\\n",
    "                 .And(qa.bitwiseAnd(cloudsBitMask).eq(0))\n",
    "  return image.updateMask(mask)\n",
    "\n",
    "def NDVI(image):\n",
    "    ndvi=image.normalizedDifference(['B5', 'B4']).rename('NDVI')  \n",
    "    return image.addBands(ndvi)\n",
    "\n",
    "def mNDWI(image):\n",
    "    mndwi=image.normalizedDifference(['B3', 'B6']).rename(\"mNDWI\")\n",
    "    return image.addBands(mndwi)\n",
    "\n",
    "# 可视化参数设置\n",
    "vis_params = {\n",
    "  'bands': ['B5', 'B4', 'B3'],\n",
    "  'min': 0,\n",
    "  'max': 3000,\n",
    "  'gamma': 1.4,\n",
    "}"
   ]
  },
  {
   "cell_type": "code",
   "execution_count": 7,
   "metadata": {
    "ExecuteTime": {
     "end_time": "2020-12-29T09:12:56.072365Z",
     "start_time": "2020-12-29T09:12:56.067379Z"
    }
   },
   "outputs": [],
   "source": [
    "# 筛选数据（使用日期，研究区），去云\n",
    "landsat_images = ee.ImageCollection('LANDSAT/LC08/C01/T1_SR') \\\n",
    "    .filterBounds(wuhan_ee) \\\n",
    "    .filterDate('{}-01-01'.format(year), '{}-12-31'.format(year)) \\\n",
    "    .map(maskL8sr) \\\n",
    "    .map(NDVI) \\\n",
    "    .map(mNDWI)"
   ]
  },
  {
   "cell_type": "code",
   "execution_count": null,
   "metadata": {
    "ExecuteTime": {
     "end_time": "2020-12-29T08:09:25.023416Z",
     "start_time": "2020-12-29T08:09:25.013443Z"
    }
   },
   "outputs": [],
   "source": [
    "# # Use these bands for prediction.\n",
    "# bands = ['B2', 'B3', 'B4', 'B5', 'B6', 'B7']\n",
    "# # 分类标签\n",
    "# label = 'waterclass'\n",
    "\n",
    "# def image_sample(image):\n",
    "#     wuhanregion = image.clip(wuhan_ee)\n",
    "#     wuhan_mNDWI_NDVI_water = wuhanregion.select('mNDWI').gt(wuhanregion.select('NDVI')).eq(1).selfMask()\n",
    "#     wuhan_mNDWI_NDVI_nowater = wuhanregion.select('mNDWI').gt(wuhanregion.select('NDVI')).eq(0).selfMask()\n",
    "#     wuhan_water = wuhan_mNDWI_NDVI_water.select('mNDWI').rename('waterclass')\n",
    "#     wuhan_nowater = wuhan_mNDWI_NDVI_nowater.select('mNDWI').rename('waterclass')\n",
    "#     points_water = wuhan_water.sample(**{\n",
    "#         'region': wuhan_ee,\n",
    "#         'scale': 30,\n",
    "#         'numPixels': 40,\n",
    "#         'seed': 0,\n",
    "#         'geometries': True  # Set this to False to ignore geometries\n",
    "#     })\n",
    "#     points_nowater = wuhan_nowater.sample(**{\n",
    "#         'region': wuhan_ee,\n",
    "#         'scale': 30,\n",
    "#         'numPixels': 40,\n",
    "#         'seed': 0,\n",
    "#         'geometries': True  # Set this to False to ignore geometries\n",
    "#     }) \n",
    "#     points = points_water.merge(points_nowater)\n",
    "#     sample_point = image.select(bands).sampleRegions(**{\n",
    "#         'collection': points,\n",
    "#         'properties': [label],\n",
    "#         'scale': 30\n",
    "#     })\n",
    "# #     Map.addLayer(points_water.merge(points_nowater),{},'POINT')\n",
    "#     return sample_point"
   ]
  },
  {
   "cell_type": "code",
   "execution_count": 8,
   "metadata": {
    "ExecuteTime": {
     "end_time": "2020-12-29T09:12:59.303725Z",
     "start_time": "2020-12-29T09:12:59.299736Z"
    }
   },
   "outputs": [],
   "source": [
    "# Use these bands for prediction.\n",
    "bands = ['B2', 'B3', 'B4', 'B5', 'B6', 'B7']\n",
    "# 分类标签\n",
    "label = 'waterclass'\n",
    "\n",
    "def image_sample(image):\n",
    "    wuhanregion = image.clip(wuhan_ee)\n",
    "    wuhan_mNDWI_NDVI = wuhanregion.select('mNDWI').gt(wuhanregion.select('NDVI'))\n",
    "    wuhan_water = wuhan_mNDWI_NDVI.select('mNDWI').rename('waterclass')\n",
    "    points = wuhan_water.sample(**{\n",
    "        'region': wuhan_ee,\n",
    "        'scale': 30,\n",
    "        'numPixels': 50,\n",
    "        'seed': 0,\n",
    "        'geometries': True  # Set this to False to ignore geometries\n",
    "    })\n",
    "    sample_point = image.select(bands).sampleRegions(**{\n",
    "        'collection': points,\n",
    "        'properties': [label],\n",
    "        'scale': 30\n",
    "    })\n",
    "#     Map.addLayer(points_water.merge(points_nowater),{},'POINT')\n",
    "    return sample_point"
   ]
  },
  {
   "cell_type": "code",
   "execution_count": 9,
   "metadata": {
    "ExecuteTime": {
     "end_time": "2020-12-29T09:13:02.571985Z",
     "start_time": "2020-12-29T09:13:01.380173Z"
    },
    "scrolled": true
   },
   "outputs": [],
   "source": [
    "sample_points = image_sample(ee.Image(landsat_images.toList(landsat_images.size()).get(0)))\n",
    "for i in range(1,landsat_images.size().getInfo(),1):\n",
    "    points_i = image_sample(ee.Image(landsat_images.toList(landsat_images.size()).get(i)))\n",
    "    sample_points = sample_points.merge(points_i)\n",
    "# print(sample_points.size().getInfo())\n",
    "# print(sample_points.first().getInfo())"
   ]
  },
  {
   "cell_type": "code",
   "execution_count": 10,
   "metadata": {
    "ExecuteTime": {
     "end_time": "2020-12-29T09:20:01.677293Z",
     "start_time": "2020-12-29T09:20:01.662334Z"
    }
   },
   "outputs": [],
   "source": [
    "# 在training要素集中增加一个random属性，值为0到1的随机数\n",
    "withRandom = sample_points.randomColumn('random')\n",
    "\n",
    "#把生成随机数大于0.7的分成测试数据，否则为训练数据。这样可以把数据分成两份\n",
    "split = 0.7\n",
    "trainingPartition = withRandom.filter(ee.Filter.lt('random', split))\n",
    "testingPartition = withRandom.filter(ee.Filter.gte('random', split))"
   ]
  },
  {
   "cell_type": "code",
   "execution_count": null,
   "metadata": {
    "ExecuteTime": {
     "start_time": "2020-12-29T07:57:08.436Z"
    }
   },
   "outputs": [],
   "source": [
    "# 利用70%数据随机森林进行训练\n",
    "trainedClassifier = ee.Classifier.smileRandomForest(20).train(sample_points,label,bands)\n",
    "#对Landsat-8进行分类\n",
    "def classification(image):\n",
    "    return image.select(bands).classify(trainedClassifier)\n",
    "result_images = landsat_images.map(classification)"
   ]
  },
  {
   "cell_type": "code",
   "execution_count": null,
   "metadata": {
    "ExecuteTime": {
     "end_time": "2020-12-29T07:14:56.690002Z",
     "start_time": "2020-12-29T07:09:59.948Z"
    },
    "scrolled": true
   },
   "outputs": [],
   "source": [
    "wuhan_water = result_iamges.sum()\n",
    "Map.addLayer(wuhan_water,{'palette':['white','#99ffb8','#685eff']},'wuhan_water')"
   ]
  },
  {
   "cell_type": "code",
   "execution_count": null,
   "metadata": {
    "ExecuteTime": {
     "end_time": "2020-12-29T07:14:56.692994Z",
     "start_time": "2020-12-29T07:10:00.212Z"
    }
   },
   "outputs": [],
   "source": [
    "Map"
   ]
  },
  {
   "cell_type": "code",
   "execution_count": null,
   "metadata": {},
   "outputs": [],
   "source": []
  },
  {
   "cell_type": "code",
   "execution_count": null,
   "metadata": {},
   "outputs": [],
   "source": []
  }
 ],
 "metadata": {
  "hide_input": false,
  "kernelspec": {
   "display_name": "Python 3",
   "language": "python",
   "name": "python3"
  },
  "language_info": {
   "codemirror_mode": {
    "name": "ipython",
    "version": 3
   },
   "file_extension": ".py",
   "mimetype": "text/x-python",
   "name": "python",
   "nbconvert_exporter": "python",
   "pygments_lexer": "ipython3",
   "version": "3.7.7"
  },
  "toc": {
   "base_numbering": 1,
   "nav_menu": {},
   "number_sections": true,
   "sideBar": true,
   "skip_h1_title": false,
   "title_cell": "Table of Contents",
   "title_sidebar": "Contents",
   "toc_cell": false,
   "toc_position": {},
   "toc_section_display": true,
   "toc_window_display": false
  },
  "varInspector": {
   "cols": {
    "lenName": 16,
    "lenType": 16,
    "lenVar": 40
   },
   "kernels_config": {
    "python": {
     "delete_cmd_postfix": "",
     "delete_cmd_prefix": "del ",
     "library": "var_list.py",
     "varRefreshCmd": "print(var_dic_list())"
    },
    "r": {
     "delete_cmd_postfix": ") ",
     "delete_cmd_prefix": "rm(",
     "library": "var_list.r",
     "varRefreshCmd": "cat(var_dic_list()) "
    }
   },
   "types_to_exclude": [
    "module",
    "function",
    "builtin_function_or_method",
    "instance",
    "_Feature"
   ],
   "window_display": false
  }
 },
 "nbformat": 4,
 "nbformat_minor": 4
}
