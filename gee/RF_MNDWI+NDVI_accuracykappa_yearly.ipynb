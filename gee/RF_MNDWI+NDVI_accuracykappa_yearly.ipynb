{
 "cells": [
  {
   "cell_type": "code",
   "execution_count": 1,
   "metadata": {
    "ExecuteTime": {
     "end_time": "2021-01-02T15:11:47.910199Z",
     "start_time": "2021-01-02T15:11:47.904219Z"
    }
   },
   "outputs": [],
   "source": [
    "import os\n",
    "os.environ['HTTP_PROXY'] = \"http://127.0.0.1:10809\"\n",
    "os.environ['HTTPS_PROXY'] = \"http://127.0.0.1:10809\""
   ]
  },
  {
   "cell_type": "code",
   "execution_count": 2,
   "metadata": {
    "ExecuteTime": {
     "end_time": "2021-01-02T15:11:54.079366Z",
     "start_time": "2021-01-02T15:11:48.583837Z"
    },
    "scrolled": false
   },
   "outputs": [
    {
     "data": {
      "application/vnd.jupyter.widget-view+json": {
       "model_id": "acdba82de67747c38ec2faed5429f0c6",
       "version_major": 2,
       "version_minor": 0
      },
      "text/plain": [
       "Map(center=[40, -100], controls=(WidgetControl(options=['position'], widget=HBox(children=(ToggleButton(value=…"
      ]
     },
     "metadata": {},
     "output_type": "display_data"
    }
   ],
   "source": [
    "import ee\n",
    "import geemap\n",
    "Map = geemap.Map()\n",
    "Map"
   ]
  },
  {
   "cell_type": "code",
   "execution_count": 3,
   "metadata": {
    "ExecuteTime": {
     "end_time": "2021-01-02T15:11:55.642665Z",
     "start_time": "2021-01-02T15:11:54.206257Z"
    }
   },
   "outputs": [],
   "source": [
    "# 输入研究区的shp文件所在路径\n",
    "wuhan_shp =\"D:/NDVI_exercise/wuhan/wuhanregion.shpe\"\n",
    "# shp 转 ee \n",
    "wuhan_ee = geemap.shp_to_ee(wuhan_shp)\n",
    "# 添加到layer\n",
    "# Map.addLayer(wuhan_ee,{},\"wuhan1+8\")\n",
    "Map.centerObject(wuhan_ee,7)   # 设置以研究区居中"
   ]
  },
  {
   "cell_type": "code",
   "execution_count": 13,
   "metadata": {
    "ExecuteTime": {
     "end_time": "2021-01-03T04:00:31.256298Z",
     "start_time": "2021-01-03T04:00:31.247289Z"
    }
   },
   "outputs": [],
   "source": [
    "# JRC_permanent_water = []\n",
    "all_accuracy = []\n",
    "kappa = []"
   ]
  },
  {
   "cell_type": "markdown",
   "metadata": {
    "ExecuteTime": {
     "end_time": "2021-01-02T15:10:43.375519Z",
     "start_time": "2021-01-02T15:10:43.360559Z"
    }
   },
   "source": [
    "# landsat 7 可用年份为1999-2020"
   ]
  },
  {
   "cell_type": "code",
   "execution_count": 14,
   "metadata": {
    "ExecuteTime": {
     "end_time": "2021-01-03T04:01:00.780646Z",
     "start_time": "2021-01-03T04:01:00.762694Z"
    }
   },
   "outputs": [],
   "source": [
    "def cloudMaskL457(image):\n",
    "    qa = image.select('pixel_qa')\n",
    "    # If the cloud bit (5) is set and the cloud confidence (7) is high\n",
    "    # or the cloud shadow bit is set (3), then it's a bad pixel.\n",
    "    cloud = qa.bitwiseAnd(1 << 5).And(qa.bitwiseAnd(1 << 7)).Or(qa.bitwiseAnd(1 << 3))\n",
    "    # Remove edge pixels that don't occur in all bands\n",
    "    mask2 = image.mask().reduce(ee.Reducer.min())\n",
    "    return image.updateMask(cloud.Not()).updateMask(mask2)\n",
    "\n",
    "# 可视化参数设置\n",
    "vis_params = {\n",
    "  'bands': ['B4', 'B3', 'B2'],\n",
    "  'min': 0,\n",
    "  'max': 3000,\n",
    "  'gamma': 1.4,\n",
    "}\n",
    "\n",
    "def NDVI(image):\n",
    "    ndvi=image.normalizedDifference(['B4', 'B3']).rename('NDVI')  \n",
    "    return image.addBands(ndvi)\n",
    "\n",
    "def mNDWI(image):\n",
    "    mndwi=image.normalizedDifference(['B2', 'B5']).rename(\"mNDWI\")\n",
    "    return image.addBands(mndwi)\n",
    "\n",
    "# Use these bands for prediction.\n",
    "bands = ['B1', 'B2', 'B3', 'B4', 'B5', 'B7']\n",
    "# 分类标签\n",
    "label = 'waterclass'"
   ]
  },
  {
   "cell_type": "code",
   "execution_count": 15,
   "metadata": {
    "ExecuteTime": {
     "end_time": "2021-01-03T04:03:54.383899Z",
     "start_time": "2021-01-03T04:02:39.095217Z"
    }
   },
   "outputs": [
    {
     "name": "stdout",
     "output_type": "stream",
     "text": [
      "2010year,accuracy:0.8396094839609484\n",
      "2010year,kappa:0.6658561789556865\n",
      "2011year,accuracy:0.8577405857740585\n",
      "2011year,kappa:0.6937591075825335\n",
      "2012year,accuracy:0.8716875871687587\n",
      "2012year,kappa:0.727513817632042\n",
      "2013year,accuracy:0.8898186889818689\n",
      "2013year,kappa:0.7621311317070303\n"
     ]
    }
   ],
   "source": [
    "# 可用年份为2010-2020\n",
    "# year = 2018\n",
    "# month = 4\n",
    "# 定义一些变量\n",
    "days_31 = [1,3,5,7,8,10,12]\n",
    "days_30 = [4,6,9,11]\n",
    "days_28 = [2]\n",
    "for year in range(2010,2014,1):\n",
    "    landsat_images = ee.ImageCollection('LANDSAT/LE07/C01/T1_SR') \\\n",
    "        .filterBounds(wuhan_ee) \\\n",
    "        .filterDate('{}-01-01'.format(year), '{}-12-31'.format(year)) \\\n",
    "        .map(cloudMaskL457) \\\n",
    "        .map(NDVI) \\\n",
    "        .map(mNDWI)\n",
    "    #合并\n",
    "    wuhan_landsat7 = landsat_images.qualityMosaic('NDVI').clip(wuhan_ee)\n",
    "    Map.addLayer(wuhan_landsat7,vis_params,\"wuhan\")\n",
    "    # 当mNDWI > EVI时\n",
    "    wuhan_mNDWI_NDVI = wuhan_landsat7.select('mNDWI').gt(wuhan_landsat7.select('NDVI'))\n",
    "    wuhan_water = wuhan_mNDWI_NDVI.select('mNDWI').rename('waterclass')\n",
    "\n",
    "    # Make the training dataset.\n",
    "    points = wuhan_water.sample(**{\n",
    "        'region': wuhan_ee,\n",
    "        'scale': 30,\n",
    "        'numPixels': 1000,\n",
    "        'seed': 0,\n",
    "        'geometries': True  # Set this to False to ignore geometries\n",
    "    })\n",
    "\n",
    "    # Overlay the points on the imagery to get training.\n",
    "    sample_point = wuhan_landsat7.select(bands).sampleRegions(**{\n",
    "        'collection': points,\n",
    "        'properties': [label],\n",
    "        'scale': 30\n",
    "    })\n",
    "\n",
    "    # 在training要素集中增加一个random属性，值为0到1的随机数\n",
    "    withRandom = sample_point.randomColumn('random')\n",
    "\n",
    "    #把生成随机数大于0.7的分成测试数据，否则为训练数据。这样可以把数据分成两份\n",
    "    split = 0.7\n",
    "    trainingPartition = withRandom.filter(ee.Filter.lt('random', split))\n",
    "    testingPartition = withRandom.filter(ee.Filter.gte('random', split))\n",
    "\n",
    "    # 利用70%数据随机森林进行训练\n",
    "    trainedClassifier = ee.Classifier.smileRandomForest(20).train(trainingPartition,label,bands)\n",
    "    #对Landsat-8进行分类\n",
    "    result=wuhan_landsat7.select(bands).classify(trainedClassifier)\n",
    "    Map.addLayer(result,{'min':0,'max':1,'palette': ['white','blue']},'RF_water')\n",
    "\n",
    "    water = result.eq(1).selfMask().multiply(ee.Image.pixelArea()).divide(1e6)\n",
    "    areas = water.reduceRegion(**{\n",
    "        'reducer': ee.Reducer.sum(),\n",
    "        'geometry': wuhan_ee.geometry(),\n",
    "        'scale': 30,\n",
    "        'maxPixels': 1e14\n",
    "    })\n",
    "#     JRC_permanent_water.append(areas.get('classification').getInfo())\n",
    "#     print('{} year:{}'.format(year,areas.get('classification').getInfo()))\n",
    "    # 使用JRC做验证\n",
    "    JRC_wuhan_water = ee.Image(\"JRC/GSW1_2/YearlyHistory/{}\".format(year)).clip(wuhan_ee)\n",
    "    JRC_water = JRC_wuhan_water.gt(2).select(\"waterClass\").rename('waterclass')\n",
    "    JRC_points = JRC_water.sample(**{\n",
    "        'region': wuhan_ee,\n",
    "        'scale': 30,\n",
    "        'numPixels': 3000,\n",
    "        'seed': 0,\n",
    "        'geometries': True  # Set this to False to ignore geometries\n",
    "    })\n",
    "    # Overlay the points on the imagery to get training.\n",
    "    JRC_sample_point = wuhan_landsat7.select(bands).sampleRegions(**{\n",
    "        'collection': JRC_points,\n",
    "        'properties': [label],\n",
    "        'scale': 30\n",
    "    })\n",
    "#     print(withRandom.first().getInfo())\n",
    "    validated = JRC_sample_point.classify(trainedClassifier)\n",
    "\n",
    "    test_accuracy = validated.errorMatrix('waterclass', 'classification')\n",
    "    all_accuracy.append(test_accuracy.accuracy().getInfo())\n",
    "    kappa.append(test_accuracy.kappa().getInfo())\n",
    "    print('{}year,accuracy:{}'.format(year,test_accuracy.accuracy().getInfo()))\n",
    "    print('{}year,kappa:{}'.format(year,test_accuracy.kappa().getInfo()))\n",
    "#     print('producersAccuracy:',test_accuracy.producersAccuracy().getInfo())\n",
    "#     print('consumersAccuracy:',test_accuracy.consumersAccuracy().getInfo())"
   ]
  },
  {
   "cell_type": "markdown",
   "metadata": {},
   "source": [
    "# landsat 8 可用年份为2014-2020"
   ]
  },
  {
   "cell_type": "code",
   "execution_count": 16,
   "metadata": {
    "ExecuteTime": {
     "end_time": "2021-01-03T04:05:47.196184Z",
     "start_time": "2021-01-03T04:05:47.182221Z"
    }
   },
   "outputs": [],
   "source": [
    "# 去云掩膜函数\n",
    "def maskL8sr(image):\n",
    "  # Bits 3 and 5 are cloud shadow and cloud, respectively.\n",
    "  cloudShadowBitMask = (1 << 3)\n",
    "  cloudsBitMask = (1 << 5)\n",
    "  # Get the pixel QA band.\n",
    "  qa = image.select('pixel_qa')\n",
    "  # Both flags should be set to zero, indicating clear conditions.\n",
    "  mask = qa.bitwiseAnd(cloudShadowBitMask).eq(0) \\\n",
    "                 .And(qa.bitwiseAnd(cloudsBitMask).eq(0))\n",
    "  return image.updateMask(mask)\n",
    "\n",
    "# 可视化参数设置\n",
    "vis_params = {\n",
    "  'bands': ['B5', 'B4', 'B3'],\n",
    "  'min': 0,\n",
    "  'max': 3000,\n",
    "  'gamma': 1.4,\n",
    "}\n",
    "\n",
    "def NDVI(image):\n",
    "    ndvi=image.normalizedDifference(['B5', 'B4']).rename('NDVI')  \n",
    "    return image.addBands(ndvi)\n",
    "\n",
    "def mNDWI(image):\n",
    "    mndwi=image.normalizedDifference(['B3', 'B6']).rename(\"mNDWI\")\n",
    "    return image.addBands(mndwi)\n",
    "\n",
    "# Use these bands for prediction.\n",
    "bands = ['B2', 'B3', 'B4', 'B5', 'B6', 'B7']\n",
    "# 分类标签\n",
    "label = 'waterclass'"
   ]
  },
  {
   "cell_type": "code",
   "execution_count": 18,
   "metadata": {
    "ExecuteTime": {
     "end_time": "2021-01-03T04:07:45.377768Z",
     "start_time": "2021-01-03T04:06:19.639302Z"
    },
    "scrolled": false
   },
   "outputs": [
    {
     "name": "stdout",
     "output_type": "stream",
     "text": [
      "2014year,accuracy:0.8786610878661087\n",
      "2014year,kappa:0.7194898753018522\n",
      "2015year,accuracy:0.8880918220946915\n",
      "2015year,kappa:0.7580205811138014\n",
      "2016year,accuracy:0.8890449438202247\n",
      "2016year,kappa:0.7553924297244642\n",
      "2017year,accuracy:0.8890469416785206\n",
      "2017year,kappa:0.7616161791813028\n",
      "2018year,accuracy:0.9017094017094017\n",
      "2018year,kappa:0.7866186201002635\n"
     ]
    }
   ],
   "source": [
    "# 可用年份为2014-2020\n",
    "# Year = 2018\n",
    "# month = 4\n",
    "# 定义一些变量\n",
    "for year in range(2014,2019,1):\n",
    "    landsat_images = ee.ImageCollection('LANDSAT/LC08/C01/T1_SR') \\\n",
    "        .filterBounds(wuhan_ee) \\\n",
    "        .filterDate('{}-01-01'.format(year), '{}-12-31'.format(year)) \\\n",
    "        .map(maskL8sr) \\\n",
    "        .map(NDVI) \\\n",
    "        .map(mNDWI)\n",
    "    #合并\n",
    "    wuhan_landsat8 = landsat_images.qualityMosaic('NDVI').clip(wuhan_ee)\n",
    "    Map.addLayer(wuhan_landsat8,vis_params,\"wuhan\")\n",
    "    # 当mNDWI > EVI时\n",
    "    wuhan_mNDWI_NDVI = wuhan_landsat8.select('mNDWI').gt(wuhan_landsat8.select('NDVI'))\n",
    "    wuhan_water = wuhan_mNDWI_NDVI.select('mNDWI').rename('waterclass')\n",
    "\n",
    "    # Make the training dataset.\n",
    "    points = wuhan_water.sample(**{\n",
    "        'region': wuhan_ee,\n",
    "        'scale': 30,\n",
    "        'numPixels': 1000,\n",
    "        'seed': 0,\n",
    "        'geometries': True  # Set this to False to ignore geometries\n",
    "    })\n",
    "\n",
    "    # Overlay the points on the imagery to get training.\n",
    "    sample_point = wuhan_landsat8.select(bands).sampleRegions(**{\n",
    "        'collection': points,\n",
    "        'properties': [label],\n",
    "        'scale': 30\n",
    "    })\n",
    "\n",
    "    # 在training要素集中增加一个random属性，值为0到1的随机数\n",
    "    withRandom = sample_point.randomColumn('random')\n",
    "\n",
    "    #把生成随机数大于0.7的分成测试数据，否则为训练数据。这样可以把数据分成两份\n",
    "    split = 0.7\n",
    "    trainingPartition = withRandom.filter(ee.Filter.lt('random', split))\n",
    "    testingPartition = withRandom.filter(ee.Filter.gte('random', split))\n",
    "\n",
    "    # 利用70%数据随机森林进行训练\n",
    "    trainedClassifier = ee.Classifier.smileRandomForest(20).train(trainingPartition,label,bands)\n",
    "    #对Landsat-8进行分类\n",
    "    result=wuhan_landsat8.select(bands).classify(trainedClassifier)\n",
    "    Map.addLayer(result,{'min':0,'max':1,'palette': ['white','blue']},'RF_water')\n",
    "\n",
    "    water = result.eq(1).selfMask().multiply(ee.Image.pixelArea()).divide(1e6)\n",
    "    areas = water.reduceRegion(**{\n",
    "        'reducer': ee.Reducer.sum(),\n",
    "        'geometry': wuhan_ee.geometry(),\n",
    "        'scale': 30,\n",
    "        'maxPixels': 1e14\n",
    "    })\n",
    "    # JRC_permanent_water.append(areas.get('classification').getInfo())\n",
    "    # print('{} year:{}'.format(year,areas.get('classification').getInfo()))\n",
    "    # 使用JRC做验证\n",
    "    JRC_wuhan_water = ee.Image(\"JRC/GSW1_2/YearlyHistory/{}\".format(year)).clip(wuhan_ee)\n",
    "    JRC_water = JRC_wuhan_water.gt(2).select(\"waterClass\").rename('waterclass')\n",
    "    JRC_points = JRC_water.sample(**{\n",
    "        'region': wuhan_ee,\n",
    "        'scale': 30,\n",
    "        'numPixels': 3000,\n",
    "        'seed': 0,\n",
    "        'geometries': True  # Set this to False to ignore geometries\n",
    "    })\n",
    "    # Overlay the points on the imagery to get training.\n",
    "    JRC_sample_point = wuhan_landsat8.select(bands).sampleRegions(**{\n",
    "        'collection': JRC_points,\n",
    "        'properties': [label],\n",
    "        'scale': 30\n",
    "    })\n",
    "#     print(withRandom.first().getInfo())\n",
    "    validated = JRC_sample_point.classify(trainedClassifier)\n",
    "\n",
    "    test_accuracy = validated.errorMatrix('waterclass', 'classification')\n",
    "    all_accuracy.append(test_accuracy.accuracy().getInfo())\n",
    "    kappa.append(test_accuracy.kappa().getInfo())\n",
    "    print('{}year,accuracy:{}'.format(year,test_accuracy.accuracy().getInfo()))\n",
    "    print('{}year,kappa:{}'.format(year,test_accuracy.kappa().getInfo()))\n",
    "#     print('producersAccuracy:',test_accuracy.producersAccuracy().getInfo())\n",
    "#     print('consumersAccuracy:',test_accuracy.consumersAccuracy().getInfo())"
   ]
  },
  {
   "cell_type": "markdown",
   "metadata": {},
   "source": [
    "# 结果"
   ]
  },
  {
   "cell_type": "code",
   "execution_count": 19,
   "metadata": {
    "ExecuteTime": {
     "end_time": "2021-01-03T04:08:35.238564Z",
     "start_time": "2021-01-03T04:08:35.228535Z"
    },
    "scrolled": true
   },
   "outputs": [
    {
     "name": "stdout",
     "output_type": "stream",
     "text": [
      "[0.8396094839609484, 0.8577405857740585, 0.8716875871687587, 0.8898186889818689, 0.8786610878661087, 0.8880918220946915, 0.8890449438202247, 0.8890469416785206, 0.9017094017094017]\n",
      "[0.6658561789556865, 0.6937591075825335, 0.727513817632042, 0.7621311317070303, 0.7194898753018522, 0.7580205811138014, 0.7553924297244642, 0.7616161791813028, 0.7866186201002635]\n"
     ]
    }
   ],
   "source": [
    "print(all_accuracy)\n",
    "print(kappa)"
   ]
  },
  {
   "cell_type": "markdown",
   "metadata": {
    "ExecuteTime": {
     "end_time": "2020-12-31T05:28:21.061417Z",
     "start_time": "2020-12-31T05:28:21.046429Z"
    }
   },
   "source": [
    "使用JRC数据集验证"
   ]
  },
  {
   "cell_type": "code",
   "execution_count": null,
   "metadata": {
    "ExecuteTime": {
     "end_time": "2020-12-31T05:43:51.697904Z",
     "start_time": "2020-12-31T05:43:45.608188Z"
    }
   },
   "outputs": [],
   "source": [
    "JRC_wuhan_water = ee.Image(\"JRC/GSW1_2/YearlyHistory/{}\".format(Year)).clip(wuhan_ee)\n",
    "JRC_water = JRC_wuhan_water.gt(2).select(\"waterClass\").rename('waterclass')\n",
    "JRC_points = JRC_water.sample(**{\n",
    "    'region': wuhan_ee,\n",
    "    'scale': 30,\n",
    "    'numPixels': 3000,\n",
    "    'seed': 0,\n",
    "    'geometries': True  # Set this to False to ignore geometries\n",
    "})\n",
    "\n",
    "# print(points.first().getInfo())\n",
    "# Overlay the points on the imagery to get training.\n",
    "JRC_sample_point = wuhan_landsat8.select(bands).sampleRegions(**{\n",
    "  'collection': JRC_points,\n",
    "  'properties': [label],\n",
    "  'scale': 30\n",
    "})\n",
    "print(withRandom.first().getInfo())\n",
    "validated = JRC_sample_point.classify(trainedClassifier)\n",
    "\n",
    "test_accuracy = validated.errorMatrix('waterclass', 'classification')\n",
    "print('accuracy:',test_accuracy.accuracy().getInfo())\n",
    "print('kappa:',test_accuracy.kappa().getInfo())\n",
    "print('producersAccuracy:',test_accuracy.producersAccuracy().getInfo())\n",
    "print('consumersAccuracy:',test_accuracy.consumersAccuracy().getInfo())"
   ]
  },
  {
   "cell_type": "code",
   "execution_count": null,
   "metadata": {},
   "outputs": [],
   "source": []
  },
  {
   "cell_type": "markdown",
   "metadata": {},
   "source": [
    "# 绘图"
   ]
  },
  {
   "cell_type": "code",
   "execution_count": 29,
   "metadata": {
    "ExecuteTime": {
     "end_time": "2021-01-03T04:19:10.788395Z",
     "start_time": "2021-01-03T04:19:10.597232Z"
    },
    "scrolled": false
   },
   "outputs": [
    {
     "data": {
      "image/png": "[encoded data removed]",
      "text/plain": [
       "<Figure size 432x288 with 2 Axes>"
      ]
     },
     "metadata": {
      "needs_background": "light"
     },
     "output_type": "display_data"
    }
   ],
   "source": [
    "import matplotlib.pyplot as plt\n",
    "import numpy as np\n",
    "year = np.arange(2010,2019,1)\n",
    "# plot permanent water and seasonal water(折线图)\n",
    "plt.title(\"Accuracy and Kappa of RandomForest Yearly\", fontsize=15)\n",
    "plt.plot(year,all_accuracy,'*:b' ,label = 'producer_accuracy')\n",
    "plt.xlabel(\"Year\", fontsize=14)\n",
    "plt.ylabel('Accuracy', fontsize=14)\n",
    "plt.legend(loc = 'upper left')\n",
    "plt.twinx()\n",
    "plt.plot(year,kappa,'^:r',label='kappa')\n",
    "plt.ylabel('Kappa', fontsize=14)\n",
    "plt.legend(loc = 'lower right')\n",
    "plt.show()\n"
   ]
  },
  {
   "cell_type": "code",
   "execution_count": 23,
   "metadata": {
    "ExecuteTime": {
     "end_time": "2021-01-03T04:11:28.139115Z",
     "start_time": "2021-01-03T04:11:28.001206Z"
    }
   },
   "outputs": [
    {
     "data": {
      "image/png": "[encoded data removed]",
      "text/plain": [
       "<Figure size 432x288 with 1 Axes>"
      ]
     },
     "metadata": {
      "needs_background": "light"
     },
     "output_type": "display_data"
    }
   ],
   "source": [
    "import matplotlib.pyplot as plt\n",
    "import numpy as np\n",
    "year = np.arange(2010,2019,1)\n",
    "# plot permanent water and seasonal water(折线图)\n",
    "plt.title(\"Accuracy and Kappa of RandomForest Yearly\", fontsize=15)\n",
    "plt.xlabel(\"Year\", fontsize=14)\n",
    "plt.ylabel('Accuracy', fontsize=14)\n",
    "plt.plot(year,all_accuracy,'*:b' ,label = 'producer_accuracy')\n",
    "plt.plot(year,kappa,'^:r',label='kappa')\n",
    "plt.legend()\n",
    "plt.show()"
   ]
  },
  {
   "cell_type": "code",
   "execution_count": null,
   "metadata": {},
   "outputs": [],
   "source": []
  }
 ],
 "metadata": {
  "hide_input": false,
  "kernelspec": {
   "display_name": "Python 3",
   "language": "python",
   "name": "python3"
  },
  "language_info": {
   "codemirror_mode": {
    "name": "ipython",
    "version": 3
   },
   "file_extension": ".py",
   "mimetype": "text/x-python",
   "name": "python",
   "nbconvert_exporter": "python",
   "pygments_lexer": "ipython3",
   "version": "3.8.5"
  },
  "toc": {
   "base_numbering": 1,
   "nav_menu": {},
   "number_sections": true,
   "sideBar": true,
   "skip_h1_title": false,
   "title_cell": "Table of Contents",
   "title_sidebar": "Contents",
   "toc_cell": false,
   "toc_position": {},
   "toc_section_display": true,
   "toc_window_display": false
  },
  "varInspector": {
   "cols": {
    "lenName": 16,
    "lenType": 16,
    "lenVar": 40
   },
   "kernels_config": {
    "python": {
     "delete_cmd_postfix": "",
     "delete_cmd_prefix": "del ",
     "library": "var_list.py",
     "varRefreshCmd": "print(var_dic_list())"
    },
    "r": {
     "delete_cmd_postfix": ") ",
     "delete_cmd_prefix": "rm(",
     "library": "var_list.r",
     "varRefreshCmd": "cat(var_dic_list()) "
    }
   },
   "types_to_exclude": [
    "module",
    "function",
    "builtin_function_or_method",
    "instance",
    "_Feature"
   ],
   "window_display": false
  }
 },
 "nbformat": 4,
 "nbformat_minor": 4
}
