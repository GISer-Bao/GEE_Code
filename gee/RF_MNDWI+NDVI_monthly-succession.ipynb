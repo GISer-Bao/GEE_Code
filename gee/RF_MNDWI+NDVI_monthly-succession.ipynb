{
 "cells": [
  {
   "cell_type": "code",
   "execution_count": 14,
   "metadata": {
    "ExecuteTime": {
     "end_time": "2021-01-03T09:40:10.256168Z",
     "start_time": "2021-01-03T09:40:10.244202Z"
    }
   },
   "outputs": [],
   "source": [
    "import os\n",
    "os.environ['HTTP_PROXY'] = \"http://127.0.0.1:10809\"\n",
    "os.environ['HTTPS_PROXY'] = \"http://127.0.0.1:10809\""
   ]
  },
  {
   "cell_type": "code",
   "execution_count": 15,
   "metadata": {
    "ExecuteTime": {
     "end_time": "2021-01-03T09:40:34.638088Z",
     "start_time": "2021-01-03T09:40:34.467544Z"
    },
    "scrolled": false
   },
   "outputs": [
    {
     "data": {
      "application/vnd.jupyter.widget-view+json": {
       "model_id": "e91c45276394436a8ef7a9a1c54b24fb",
       "version_major": 2,
       "version_minor": 0
      },
      "text/plain": [
       "Map(center=[40, -100], controls=(WidgetControl(options=['position'], widget=HBox(children=(ToggleButton(value=…"
      ]
     },
     "metadata": {},
     "output_type": "display_data"
    }
   ],
   "source": [
    "import ee\n",
    "import geemap\n",
    "Map = geemap.Map()\n",
    "Map"
   ]
  },
  {
   "cell_type": "code",
   "execution_count": 17,
   "metadata": {
    "ExecuteTime": {
     "end_time": "2021-01-03T09:44:32.089409Z",
     "start_time": "2021-01-03T09:44:30.971100Z"
    }
   },
   "outputs": [],
   "source": [
    "# 输入研究区的shp文件所在路径\n",
    "wuhan_shp =\"D:/NDVI_exercise/wuhan/wuhanregion.shpe\"\n",
    "# shp 转 ee \n",
    "wuhan_ee = geemap.shp_to_ee(wuhan_shp)\n",
    "# 添加到layer\n",
    "# Map.addLayer(wuhan_ee,{},\"wuhan1+8\")\n",
    "Map.centerObject(wuhan_ee,7)   # 设置以研究区居中"
   ]
  },
  {
   "cell_type": "code",
   "execution_count": 18,
   "metadata": {
    "ExecuteTime": {
     "end_time": "2021-01-03T09:44:56.394270Z",
     "start_time": "2021-01-03T09:44:56.391278Z"
    }
   },
   "outputs": [],
   "source": [
    "JRC_permanent_water = []"
   ]
  },
  {
   "cell_type": "markdown",
   "metadata": {},
   "source": [
    "# landsat 8 可用年份为2014-2020"
   ]
  },
  {
   "cell_type": "code",
   "execution_count": 19,
   "metadata": {
    "ExecuteTime": {
     "end_time": "2021-01-03T09:45:20.671558Z",
     "start_time": "2021-01-03T09:45:20.653141Z"
    }
   },
   "outputs": [],
   "source": [
    "# 去云掩膜函数\n",
    "def maskL8sr(image):\n",
    "  # Bits 3 and 5 are cloud shadow and cloud, respectively.\n",
    "  cloudShadowBitMask = (1 << 3)\n",
    "  cloudsBitMask = (1 << 5)\n",
    "  # Get the pixel QA band.\n",
    "  qa = image.select('pixel_qa')\n",
    "  # Both flags should be set to zero, indicating clear conditions.\n",
    "  mask = qa.bitwiseAnd(cloudShadowBitMask).eq(0) \\\n",
    "                 .And(qa.bitwiseAnd(cloudsBitMask).eq(0))\n",
    "  return image.updateMask(mask)\n",
    "\n",
    "# 可视化参数设置\n",
    "vis_params = {\n",
    "  'bands': ['B5', 'B4', 'B3'],\n",
    "  'min': 0,\n",
    "  'max': 3000,\n",
    "  'gamma': 1.4,\n",
    "}\n",
    "\n",
    "def NDVI(image):\n",
    "    ndvi=image.normalizedDifference(['B5', 'B4']).rename('NDVI')  \n",
    "    return image.addBands(ndvi)\n",
    "\n",
    "def mNDWI(image):\n",
    "    mndwi=image.normalizedDifference(['B3', 'B6']).rename(\"mNDWI\")\n",
    "    return image.addBands(mndwi)\n",
    "\n",
    "# Use these bands for prediction.\n",
    "bands = ['B2', 'B3', 'B4', 'B5', 'B6', 'B7']\n",
    "# 分类标签\n",
    "label = 'waterclass'"
   ]
  },
  {
   "cell_type": "code",
   "execution_count": 24,
   "metadata": {
    "ExecuteTime": {
     "end_time": "2021-01-03T09:50:19.362348Z",
     "start_time": "2021-01-03T09:48:27.265963Z"
    },
    "scrolled": false
   },
   "outputs": [
    {
     "name": "stdout",
     "output_type": "stream",
     "text": [
      "6 month:462.3357181844747\n",
      "7 month:803.3744604714041\n",
      "8 month:954.7123528474002\n",
      "9 month:817.0491499024548\n",
      "10 month:1039.7974312507413\n",
      "11 month:1126.3098211173071\n"
     ]
    },
    {
     "ename": "EEException",
     "evalue": "No data was found in classifier training input.",
     "output_type": "error",
     "traceback": [
      "\u001b[1;31m---------------------------------------------------------------------------\u001b[0m",
      "\u001b[1;31mHttpError\u001b[0m                                 Traceback (most recent call last)",
      "\u001b[1;32mD:\\ProgramData\\Anaconda3\\envs\\gee\\lib\\site-packages\\ee\\data.py\u001b[0m in \u001b[0;36m_execute_cloud_call\u001b[1;34m(call, num_retries)\u001b[0m\n\u001b[0;32m    344\u001b[0m   \u001b[1;32mtry\u001b[0m\u001b[1;33m:\u001b[0m\u001b[1;33m\u001b[0m\u001b[1;33m\u001b[0m\u001b[0m\n\u001b[1;32m--> 345\u001b[1;33m     \u001b[1;32mreturn\u001b[0m \u001b[0mcall\u001b[0m\u001b[1;33m.\u001b[0m\u001b[0mexecute\u001b[0m\u001b[1;33m(\u001b[0m\u001b[0mnum_retries\u001b[0m\u001b[1;33m=\u001b[0m\u001b[0mnum_retries\u001b[0m\u001b[1;33m)\u001b[0m\u001b[1;33m\u001b[0m\u001b[1;33m\u001b[0m\u001b[0m\n\u001b[0m\u001b[0;32m    346\u001b[0m   \u001b[1;32mexcept\u001b[0m \u001b[0mgoogleapiclient\u001b[0m\u001b[1;33m.\u001b[0m\u001b[0merrors\u001b[0m\u001b[1;33m.\u001b[0m\u001b[0mHttpError\u001b[0m \u001b[1;32mas\u001b[0m \u001b[0me\u001b[0m\u001b[1;33m:\u001b[0m\u001b[1;33m\u001b[0m\u001b[1;33m\u001b[0m\u001b[0m\n",
      "\u001b[1;32mD:\\ProgramData\\Anaconda3\\envs\\gee\\lib\\site-packages\\googleapiclient\\_helpers.py\u001b[0m in \u001b[0;36mpositional_wrapper\u001b[1;34m(*args, **kwargs)\u001b[0m\n\u001b[0;32m    133\u001b[0m                     \u001b[0mlogger\u001b[0m\u001b[1;33m.\u001b[0m\u001b[0mwarning\u001b[0m\u001b[1;33m(\u001b[0m\u001b[0mmessage\u001b[0m\u001b[1;33m)\u001b[0m\u001b[1;33m\u001b[0m\u001b[1;33m\u001b[0m\u001b[0m\n\u001b[1;32m--> 134\u001b[1;33m             \u001b[1;32mreturn\u001b[0m \u001b[0mwrapped\u001b[0m\u001b[1;33m(\u001b[0m\u001b[1;33m*\u001b[0m\u001b[0margs\u001b[0m\u001b[1;33m,\u001b[0m \u001b[1;33m**\u001b[0m\u001b[0mkwargs\u001b[0m\u001b[1;33m)\u001b[0m\u001b[1;33m\u001b[0m\u001b[1;33m\u001b[0m\u001b[0m\n\u001b[0m\u001b[0;32m    135\u001b[0m \u001b[1;33m\u001b[0m\u001b[0m\n",
      "\u001b[1;32mD:\\ProgramData\\Anaconda3\\envs\\gee\\lib\\site-packages\\googleapiclient\\http.py\u001b[0m in \u001b[0;36mexecute\u001b[1;34m(self, http, num_retries)\u001b[0m\n\u001b[0;32m    906\u001b[0m         \u001b[1;32mif\u001b[0m \u001b[0mresp\u001b[0m\u001b[1;33m.\u001b[0m\u001b[0mstatus\u001b[0m \u001b[1;33m>=\u001b[0m \u001b[1;36m300\u001b[0m\u001b[1;33m:\u001b[0m\u001b[1;33m\u001b[0m\u001b[1;33m\u001b[0m\u001b[0m\n\u001b[1;32m--> 907\u001b[1;33m             \u001b[1;32mraise\u001b[0m \u001b[0mHttpError\u001b[0m\u001b[1;33m(\u001b[0m\u001b[0mresp\u001b[0m\u001b[1;33m,\u001b[0m \u001b[0mcontent\u001b[0m\u001b[1;33m,\u001b[0m \u001b[0muri\u001b[0m\u001b[1;33m=\u001b[0m\u001b[0mself\u001b[0m\u001b[1;33m.\u001b[0m\u001b[0muri\u001b[0m\u001b[1;33m)\u001b[0m\u001b[1;33m\u001b[0m\u001b[1;33m\u001b[0m\u001b[0m\n\u001b[0m\u001b[0;32m    908\u001b[0m         \u001b[1;32mreturn\u001b[0m \u001b[0mself\u001b[0m\u001b[1;33m.\u001b[0m\u001b[0mpostproc\u001b[0m\u001b[1;33m(\u001b[0m\u001b[0mresp\u001b[0m\u001b[1;33m,\u001b[0m \u001b[0mcontent\u001b[0m\u001b[1;33m)\u001b[0m\u001b[1;33m\u001b[0m\u001b[1;33m\u001b[0m\u001b[0m\n",
      "\u001b[1;31mHttpError\u001b[0m: <HttpError 400 when requesting https://earthengine.googleapis.com/v1alpha/projects/earthengine-legacy/maps?fields=name&alt=json returned \"No data was found in classifier training input.\">",
      "\nDuring handling of the above exception, another exception occurred:\n",
      "\u001b[1;31mEEException\u001b[0m                               Traceback (most recent call last)",
      "\u001b[1;32m<ipython-input-24-9f95b5da54dd>\u001b[0m in \u001b[0;36m<module>\u001b[1;34m\u001b[0m\n\u001b[0;32m     63\u001b[0m     \u001b[1;31m#对Landsat-8进行分类\u001b[0m\u001b[1;33m\u001b[0m\u001b[1;33m\u001b[0m\u001b[1;33m\u001b[0m\u001b[0m\n\u001b[0;32m     64\u001b[0m     \u001b[0mresult\u001b[0m\u001b[1;33m=\u001b[0m\u001b[0mwuhan_landsat8\u001b[0m\u001b[1;33m.\u001b[0m\u001b[0mselect\u001b[0m\u001b[1;33m(\u001b[0m\u001b[0mbands\u001b[0m\u001b[1;33m)\u001b[0m\u001b[1;33m.\u001b[0m\u001b[0mclassify\u001b[0m\u001b[1;33m(\u001b[0m\u001b[0mtrainedClassifier\u001b[0m\u001b[1;33m)\u001b[0m\u001b[1;33m\u001b[0m\u001b[1;33m\u001b[0m\u001b[0m\n\u001b[1;32m---> 65\u001b[1;33m     \u001b[0mMap\u001b[0m\u001b[1;33m.\u001b[0m\u001b[0maddLayer\u001b[0m\u001b[1;33m(\u001b[0m\u001b[0mresult\u001b[0m\u001b[1;33m,\u001b[0m\u001b[1;33m{\u001b[0m\u001b[1;34m'min'\u001b[0m\u001b[1;33m:\u001b[0m\u001b[1;36m0\u001b[0m\u001b[1;33m,\u001b[0m\u001b[1;34m'max'\u001b[0m\u001b[1;33m:\u001b[0m\u001b[1;36m1\u001b[0m\u001b[1;33m,\u001b[0m\u001b[1;34m'palette'\u001b[0m\u001b[1;33m:\u001b[0m \u001b[1;33m[\u001b[0m\u001b[1;34m'white'\u001b[0m\u001b[1;33m,\u001b[0m\u001b[1;34m'blue'\u001b[0m\u001b[1;33m]\u001b[0m\u001b[1;33m}\u001b[0m\u001b[1;33m,\u001b[0m\u001b[1;34m'RF_water'\u001b[0m\u001b[1;33m)\u001b[0m\u001b[1;33m\u001b[0m\u001b[1;33m\u001b[0m\u001b[0m\n\u001b[0m\u001b[0;32m     66\u001b[0m \u001b[1;33m\u001b[0m\u001b[0m\n\u001b[0;32m     67\u001b[0m     \u001b[0mwater\u001b[0m \u001b[1;33m=\u001b[0m \u001b[0mresult\u001b[0m\u001b[1;33m.\u001b[0m\u001b[0meq\u001b[0m\u001b[1;33m(\u001b[0m\u001b[1;36m1\u001b[0m\u001b[1;33m)\u001b[0m\u001b[1;33m.\u001b[0m\u001b[0mselfMask\u001b[0m\u001b[1;33m(\u001b[0m\u001b[1;33m)\u001b[0m\u001b[1;33m.\u001b[0m\u001b[0mmultiply\u001b[0m\u001b[1;33m(\u001b[0m\u001b[0mee\u001b[0m\u001b[1;33m.\u001b[0m\u001b[0mImage\u001b[0m\u001b[1;33m.\u001b[0m\u001b[0mpixelArea\u001b[0m\u001b[1;33m(\u001b[0m\u001b[1;33m)\u001b[0m\u001b[1;33m)\u001b[0m\u001b[1;33m.\u001b[0m\u001b[0mdivide\u001b[0m\u001b[1;33m(\u001b[0m\u001b[1;36m1e6\u001b[0m\u001b[1;33m)\u001b[0m\u001b[1;33m\u001b[0m\u001b[1;33m\u001b[0m\u001b[0m\n",
      "\u001b[1;32mD:\\ProgramData\\Anaconda3\\envs\\gee\\lib\\site-packages\\geemap\\geemap.py\u001b[0m in \u001b[0;36madd_ee_layer\u001b[1;34m(self, ee_object, vis_params, name, shown, opacity)\u001b[0m\n\u001b[0;32m   1181\u001b[0m             \u001b[0mimage\u001b[0m \u001b[1;33m=\u001b[0m \u001b[0mee_object\u001b[0m\u001b[1;33m.\u001b[0m\u001b[0mmosaic\u001b[0m\u001b[1;33m(\u001b[0m\u001b[1;33m)\u001b[0m\u001b[1;33m\u001b[0m\u001b[1;33m\u001b[0m\u001b[0m\n\u001b[0;32m   1182\u001b[0m \u001b[1;33m\u001b[0m\u001b[0m\n\u001b[1;32m-> 1183\u001b[1;33m         \u001b[0mmap_id_dict\u001b[0m \u001b[1;33m=\u001b[0m \u001b[0mee\u001b[0m\u001b[1;33m.\u001b[0m\u001b[0mImage\u001b[0m\u001b[1;33m(\u001b[0m\u001b[0mimage\u001b[0m\u001b[1;33m)\u001b[0m\u001b[1;33m.\u001b[0m\u001b[0mgetMapId\u001b[0m\u001b[1;33m(\u001b[0m\u001b[0mvis_params\u001b[0m\u001b[1;33m)\u001b[0m\u001b[1;33m\u001b[0m\u001b[1;33m\u001b[0m\u001b[0m\n\u001b[0m\u001b[0;32m   1184\u001b[0m         tile_layer = ipyleaflet.TileLayer(\n\u001b[0;32m   1185\u001b[0m             \u001b[0murl\u001b[0m\u001b[1;33m=\u001b[0m\u001b[0mmap_id_dict\u001b[0m\u001b[1;33m[\u001b[0m\u001b[1;34m\"tile_fetcher\"\u001b[0m\u001b[1;33m]\u001b[0m\u001b[1;33m.\u001b[0m\u001b[0murl_format\u001b[0m\u001b[1;33m,\u001b[0m\u001b[1;33m\u001b[0m\u001b[1;33m\u001b[0m\u001b[0m\n",
      "\u001b[1;32mD:\\ProgramData\\Anaconda3\\envs\\gee\\lib\\site-packages\\ee\\image.py\u001b[0m in \u001b[0;36mgetMapId\u001b[1;34m(self, vis_params)\u001b[0m\n\u001b[0;32m    129\u001b[0m     \u001b[0mvis_image\u001b[0m\u001b[1;33m,\u001b[0m \u001b[0mrequest\u001b[0m \u001b[1;33m=\u001b[0m \u001b[0mself\u001b[0m\u001b[1;33m.\u001b[0m\u001b[0m_apply_visualization\u001b[0m\u001b[1;33m(\u001b[0m\u001b[0mvis_params\u001b[0m\u001b[1;33m)\u001b[0m\u001b[1;33m\u001b[0m\u001b[1;33m\u001b[0m\u001b[0m\n\u001b[0;32m    130\u001b[0m     \u001b[0mrequest\u001b[0m\u001b[1;33m[\u001b[0m\u001b[1;34m'image'\u001b[0m\u001b[1;33m]\u001b[0m \u001b[1;33m=\u001b[0m \u001b[0mvis_image\u001b[0m\u001b[1;33m\u001b[0m\u001b[1;33m\u001b[0m\u001b[0m\n\u001b[1;32m--> 131\u001b[1;33m     \u001b[0mresponse\u001b[0m \u001b[1;33m=\u001b[0m \u001b[0mdata\u001b[0m\u001b[1;33m.\u001b[0m\u001b[0mgetMapId\u001b[0m\u001b[1;33m(\u001b[0m\u001b[0mrequest\u001b[0m\u001b[1;33m)\u001b[0m\u001b[1;33m\u001b[0m\u001b[1;33m\u001b[0m\u001b[0m\n\u001b[0m\u001b[0;32m    132\u001b[0m     \u001b[0mresponse\u001b[0m\u001b[1;33m[\u001b[0m\u001b[1;34m'image'\u001b[0m\u001b[1;33m]\u001b[0m \u001b[1;33m=\u001b[0m \u001b[0mself\u001b[0m\u001b[1;33m\u001b[0m\u001b[1;33m\u001b[0m\u001b[0m\n\u001b[0;32m    133\u001b[0m     \u001b[1;32mreturn\u001b[0m \u001b[0mresponse\u001b[0m\u001b[1;33m\u001b[0m\u001b[1;33m\u001b[0m\u001b[0m\n",
      "\u001b[1;32mD:\\ProgramData\\Anaconda3\\envs\\gee\\lib\\site-packages\\ee\\data.py\u001b[0m in \u001b[0;36mgetMapId\u001b[1;34m(params)\u001b[0m\n\u001b[0;32m    593\u001b[0m     \u001b[1;31m# Make it return only the name field, as otherwise it echoes the entire\u001b[0m\u001b[1;33m\u001b[0m\u001b[1;33m\u001b[0m\u001b[1;33m\u001b[0m\u001b[0m\n\u001b[0;32m    594\u001b[0m     \u001b[1;31m# request, which might be large.\u001b[0m\u001b[1;33m\u001b[0m\u001b[1;33m\u001b[0m\u001b[1;33m\u001b[0m\u001b[0m\n\u001b[1;32m--> 595\u001b[1;33m     result = _execute_cloud_call(\n\u001b[0m\u001b[0;32m    596\u001b[0m         _get_cloud_api_resource().projects().maps().create(\n\u001b[0;32m    597\u001b[0m             parent=_get_projects_path(), fields='name', body=request))\n",
      "\u001b[1;32mD:\\ProgramData\\Anaconda3\\envs\\gee\\lib\\site-packages\\ee\\data.py\u001b[0m in \u001b[0;36m_execute_cloud_call\u001b[1;34m(call, num_retries)\u001b[0m\n\u001b[0;32m    345\u001b[0m     \u001b[1;32mreturn\u001b[0m \u001b[0mcall\u001b[0m\u001b[1;33m.\u001b[0m\u001b[0mexecute\u001b[0m\u001b[1;33m(\u001b[0m\u001b[0mnum_retries\u001b[0m\u001b[1;33m=\u001b[0m\u001b[0mnum_retries\u001b[0m\u001b[1;33m)\u001b[0m\u001b[1;33m\u001b[0m\u001b[1;33m\u001b[0m\u001b[0m\n\u001b[0;32m    346\u001b[0m   \u001b[1;32mexcept\u001b[0m \u001b[0mgoogleapiclient\u001b[0m\u001b[1;33m.\u001b[0m\u001b[0merrors\u001b[0m\u001b[1;33m.\u001b[0m\u001b[0mHttpError\u001b[0m \u001b[1;32mas\u001b[0m \u001b[0me\u001b[0m\u001b[1;33m:\u001b[0m\u001b[1;33m\u001b[0m\u001b[1;33m\u001b[0m\u001b[0m\n\u001b[1;32m--> 347\u001b[1;33m     \u001b[1;32mraise\u001b[0m \u001b[0m_translate_cloud_exception\u001b[0m\u001b[1;33m(\u001b[0m\u001b[0me\u001b[0m\u001b[1;33m)\u001b[0m\u001b[1;33m\u001b[0m\u001b[1;33m\u001b[0m\u001b[0m\n\u001b[0m\u001b[0;32m    348\u001b[0m \u001b[1;33m\u001b[0m\u001b[0m\n\u001b[0;32m    349\u001b[0m \u001b[1;33m\u001b[0m\u001b[0m\n",
      "\u001b[1;31mEEException\u001b[0m: No data was found in classifier training input."
     ]
    }
   ],
   "source": [
    "# 可用年份为2014-2020\n",
    "Year = 2015\n",
    "month = 4\n",
    "# 定义一些变量\n",
    "days_31 = [1,3,5,7,8,10,12]\n",
    "days_30 = [4,6,9,11]\n",
    "days_28 = [2]\n",
    "for month in range(6,13,1):\n",
    "    if month in days_31:\n",
    "        landsat_images = ee.ImageCollection('LANDSAT/LC08/C01/T1_SR') \\\n",
    "            .filterBounds(wuhan_ee) \\\n",
    "            .filterDate('{}-{}-01'.format(Year,month), '{}-{}-31'.format(Year,month)) \\\n",
    "            .map(maskL8sr) \\\n",
    "            .map(NDVI) \\\n",
    "            .map(mNDWI)\n",
    "    if month in days_30:\n",
    "        landsat_images = ee.ImageCollection('LANDSAT/LC08/C01/T1_SR') \\\n",
    "            .filterBounds(wuhan_ee) \\\n",
    "            .filterDate('{}-{}-01'.format(Year,month), '{}-{}-30'.format(Year,month)) \\\n",
    "            .map(maskL8sr) \\\n",
    "            .map(NDVI) \\\n",
    "            .map(mNDWI)\n",
    "    if month in days_28:\n",
    "        landsat_images = ee.ImageCollection('LANDSAT/LC08/C01/T1_SR') \\\n",
    "            .filterBounds(wuhan_ee) \\\n",
    "            .filterDate('{}-{}-01'.format(Year,month), '{}-{}-28'.format(Year,month)) \\\n",
    "            .map(maskL8sr) \\\n",
    "            .map(NDVI) \\\n",
    "            .map(mNDWI)\n",
    "    #合并\n",
    "    wuhan_landsat8 = landsat_images.qualityMosaic('NDVI').clip(wuhan_ee)\n",
    "    Map.addLayer(wuhan_landsat8,vis_params,\"wuhan\")\n",
    "    # 当mNDWI > EVI时\n",
    "    wuhan_mNDWI_NDVI = wuhan_landsat8.select('mNDWI').gt(wuhan_landsat8.select('NDVI'))\n",
    "    wuhan_water = wuhan_mNDWI_NDVI.select('mNDWI').rename('waterclass')\n",
    "\n",
    "    # Make the training dataset.\n",
    "    points = wuhan_water.sample(**{\n",
    "        'region': wuhan_ee,\n",
    "        'scale': 30,\n",
    "        'numPixels': 1000,\n",
    "        'seed': 0,\n",
    "        'geometries': True  # Set this to False to ignore geometries\n",
    "    })\n",
    "\n",
    "    # Overlay the points on the imagery to get training.\n",
    "    sample_point = wuhan_landsat8.select(bands).sampleRegions(**{\n",
    "        'collection': points,\n",
    "        'properties': [label],\n",
    "        'scale': 30\n",
    "    })\n",
    "\n",
    "    #  在training要素集中增加一个random属性，值为0到1的随机数\n",
    "    withRandom = sample_point.randomColumn('random')\n",
    "\n",
    "    #把生成随机数大于0.7的分成测试数据，否则为训练数据。这样可以把数据分成两份\n",
    "    split = 0.7\n",
    "    trainingPartition = withRandom.filter(ee.Filter.lt('random', split))\n",
    "    testingPartition = withRandom.filter(ee.Filter.gte('random', split))\n",
    "\n",
    "    # 利用70%数据随机森林进行训练\n",
    "    trainedClassifier = ee.Classifier.smileRandomForest(20).train(trainingPartition,label,bands)\n",
    "    #对Landsat-8进行分类\n",
    "    result=wuhan_landsat8.select(bands).classify(trainedClassifier)\n",
    "    Map.addLayer(result,{'min':0,'max':1,'palette': ['white','blue']},'RF_water')\n",
    "\n",
    "    water = result.eq(1).selfMask().multiply(ee.Image.pixelArea()).divide(1e6)\n",
    "    areas = water.reduceRegion(**{\n",
    "        'reducer': ee.Reducer.sum(),\n",
    "        'geometry': wuhan_ee.geometry(),\n",
    "        'scale': 30,\n",
    "        'maxPixels': 1e14\n",
    "    })\n",
    "    JRC_permanent_water.append(areas.get('classification').getInfo())\n",
    "    print('{} month:{}'.format(month,areas.get('classification').getInfo()))\n",
    "\n",
    "# train_accuracy = trainedClassifier.confusionMatrix()\n",
    "# print('accuracy:',train_accuracy.accuracy().getInfo())\n",
    "# print('kappa:',train_accuracy.kappa().getInfo())\n",
    "# print('producersAccuracy:',train_accuracy.producersAccuracy().getInfo())\n",
    "# print('consumersAccuracy:',train_accuracy.consumersAccuracy().getInfo())\n",
    "\n",
    "# validated = testingPartition.classify(trainedClassifier)\n",
    "\n",
    "# test_accuracy = validated.errorMatrix('waterclass', 'classification')\n",
    "\n",
    "# print('accuracy:',test_accuracy.accuracy().getInfo())\n",
    "# print('kappa:',test_accuracy.kappa().getInfo())\n",
    "# print('producersAccuracy:',test_accuracy.producersAccuracy().getInfo())\n",
    "# print('consumersAccuracy:',test_accuracy.consumersAccuracy().getInfo())"
   ]
  },
  {
   "cell_type": "markdown",
   "metadata": {
    "heading_collapsed": true
   },
   "source": [
    "# landsat 7 可用年份为1999-2020"
   ]
  },
  {
   "cell_type": "code",
   "execution_count": 10,
   "metadata": {
    "ExecuteTime": {
     "end_time": "2021-01-03T05:41:01.920575Z",
     "start_time": "2021-01-03T05:41:01.912480Z"
    },
    "hidden": true
   },
   "outputs": [],
   "source": [
    "def cloudMaskL457(image):\n",
    "    qa = image.select('pixel_qa')\n",
    "    # If the cloud bit (5) is set and the cloud confidence (7) is high\n",
    "    # or the cloud shadow bit is set (3), then it's a bad pixel.\n",
    "    cloud = qa.bitwiseAnd(1 << 5).And(qa.bitwiseAnd(1 << 7)).Or(qa.bitwiseAnd(1 << 3))\n",
    "    # Remove edge pixels that don't occur in all bands\n",
    "    mask2 = image.mask().reduce(ee.Reducer.min())\n",
    "    return image.updateMask(cloud.Not()).updateMask(mask2)\n",
    "\n",
    "# 可视化参数设置\n",
    "vis_params = {\n",
    "  'bands': ['B4', 'B3', 'B2'],\n",
    "  'min': 0,\n",
    "  'max': 3000,\n",
    "  'gamma': 1.4,\n",
    "}\n",
    "\n",
    "def NDVI(image):\n",
    "    ndvi=image.normalizedDifference(['B4', 'B3']).rename('NDVI')  \n",
    "    return image.addBands(ndvi)\n",
    "\n",
    "def mNDWI(image):\n",
    "    mndwi=image.normalizedDifference(['B2', 'B5']).rename(\"mNDWI\")\n",
    "    return image.addBands(mndwi)\n",
    "\n",
    "# Use these bands for prediction.\n",
    "bands = ['B1', 'B2', 'B3', 'B4', 'B5', 'B7']\n",
    "# 分类标签\n",
    "label = 'waterclass'"
   ]
  },
  {
   "cell_type": "code",
   "execution_count": 12,
   "metadata": {
    "ExecuteTime": {
     "end_time": "2021-01-03T05:43:33.093206Z",
     "start_time": "2021-01-03T05:41:53.318655Z"
    },
    "hidden": true
   },
   "outputs": [
    {
     "name": "stdout",
     "output_type": "stream",
     "text": [
      "8 month:708.1131033038536\n",
      "9 month:551.551524926372\n",
      "10 month:229.69852394552908\n",
      "11 month:999.1459587049044\n",
      "12 month:1007.625631664296\n"
     ]
    }
   ],
   "source": [
    "# 可用年份为1999-2020\n",
    "year = 2011\n",
    "days_31 = [1,3,5,7,8,10,12]\n",
    "days_30 = [4,6,9,11]\n",
    "days_28 = [2]\n",
    "for month in range(8,13,1):\n",
    "    if month in days_31:\n",
    "        landsat_images = ee.ImageCollection('LANDSAT/LE07/C01/T1_SR') \\\n",
    "            .filterBounds(wuhan_ee) \\\n",
    "            .filterDate('{}-{}-01'.format(year,month), '{}-{}-31'.format(year,month)) \\\n",
    "            .map(cloudMaskL457) \\\n",
    "            .map(NDVI) \\\n",
    "            .map(mNDWI)\n",
    "    if month in days_30:\n",
    "        landsat_images = ee.ImageCollection('LANDSAT/LE07/C01/T1_SR') \\\n",
    "            .filterBounds(wuhan_ee) \\\n",
    "            .filterDate('{}-{}-01'.format(year,month), '{}-{}-30'.format(year,month)) \\\n",
    "            .map(cloudMaskL457) \\\n",
    "            .map(NDVI) \\\n",
    "            .map(mNDWI)\n",
    "    if month in days_28:\n",
    "        landsat_images = ee.ImageCollection('LANDSAT/LE07/C01/T1_SR') \\\n",
    "            .filterBounds(wuhan_ee) \\\n",
    "            .filterDate('{}-{}-01'.format(year,month), '{}-{}-28'.format(year,month)) \\\n",
    "            .map(cloudMaskL457) \\\n",
    "            .map(NDVI) \\\n",
    "            .map(mNDWI)\n",
    "    #合并\n",
    "    wuhan_landsat7 = landsat_images.qualityMosaic('NDVI').clip(wuhan_ee)\n",
    "    # 当mNDWI > EVI时\n",
    "    wuhan_mNDWI_NDVI = wuhan_landsat7.select('mNDWI').gt(wuhan_landsat7.select('NDVI'))\n",
    "    wuhan_water = wuhan_mNDWI_NDVI.select('mNDWI').rename('waterclass')\n",
    "\n",
    "    # Make the training dataset.\n",
    "    points = wuhan_water.sample(**{\n",
    "        'region': wuhan_ee,\n",
    "        'scale': 30,\n",
    "        'numPixels': 1000,\n",
    "        'seed': 0,\n",
    "        'geometries': True  # Set this to False to ignore geometries\n",
    "    })\n",
    "\n",
    "    # Overlay the points on the imagery to get training.\n",
    "    sample_point = wuhan_landsat7.select(bands).sampleRegions(**{\n",
    "        'collection': points,\n",
    "        'properties': [label],\n",
    "        'scale': 30\n",
    "    })\n",
    "\n",
    "    # 在training要素集中增加一个random属性，值为0到1的随机数\n",
    "    withRandom = sample_point.randomColumn('random')\n",
    "\n",
    "    #把生成随机数大于0.7的分成测试数据，否则为训练数据。这样可以把数据分成两份\n",
    "    split = 0.7\n",
    "    trainingPartition = withRandom.filter(ee.Filter.lt('random', split))\n",
    "    testingPartition = withRandom.filter(ee.Filter.gte('random', split))\n",
    "\n",
    "    # 利用70%数据随机森林进行训练\n",
    "    trainedClassifier = ee.Classifier.smileRandomForest(20).train(trainingPartition,label,bands)\n",
    "    #对Landsat-7进行分类\n",
    "    result=wuhan_landsat7.select(bands).classify(trainedClassifier)\n",
    "    # Map.addLayer(result,{'min':0,'max':1,'palette': ['white','blue']},'RF_water')\n",
    "\n",
    "    water = result.eq(1).selfMask().multiply(ee.Image.pixelArea()).divide(1e6)\n",
    "    areas = water.reduceRegion(**{\n",
    "        'reducer': ee.Reducer.sum(),\n",
    "        'geometry': wuhan_ee.geometry(),\n",
    "        'scale': 30,\n",
    "        'maxPixels': 1e14\n",
    "    })\n",
    "    JRC_permanent_water.append(areas.get('classification').getInfo())\n",
    "    print('{} month:{}'.format(month,areas.get('classification').getInfo()))\n",
    "\n",
    "# train_accuracy = trainedClassifier.confusionMatrix()\n",
    "# print('accuracy:',train_accuracy.accuracy().getInfo())\n",
    "# print('kappa:',train_accuracy.kappa().getInfo())\n",
    "# print('producersAccuracy:',train_accuracy.producersAccuracy().getInfo())\n",
    "# print('consumersAccuracy:',train_accuracy.consumersAccuracy().getInfo())\n",
    "\n",
    "# validated = testingPartition.classify(trainedClassifier)\n",
    "\n",
    "# test_accuracy = validated.errorMatrix('waterclass', 'classification')\n",
    "\n",
    "# print('accuracy:',test_accuracy.accuracy().getInfo())\n",
    "# print('kappa:',test_accuracy.kappa().getInfo())\n",
    "# print('producersAccuracy:',test_accuracy.producersAccuracy().getInfo())\n",
    "# print('consumersAccuracy:',test_accuracy.consumersAccuracy().getInfo())"
   ]
  },
  {
   "cell_type": "markdown",
   "metadata": {},
   "source": [
    "# 结果"
   ]
  },
  {
   "cell_type": "code",
   "execution_count": 25,
   "metadata": {
    "ExecuteTime": {
     "end_time": "2021-01-03T09:50:30.440426Z",
     "start_time": "2021-01-03T09:50:30.425466Z"
    },
    "scrolled": true
   },
   "outputs": [
    {
     "name": "stdout",
     "output_type": "stream",
     "text": [
      "[1919.497917566903, 172.6789292320062, 178.78891883924243, 462.3357181844747, 803.3744604714041, 954.7123528474002, 817.0491499024548, 1039.7974312507413, 1126.3098211173071]\n"
     ]
    }
   ],
   "source": [
    "print(JRC_permanent_water)"
   ]
  },
  {
   "cell_type": "markdown",
   "metadata": {
    "ExecuteTime": {
     "end_time": "2020-12-31T05:28:21.061417Z",
     "start_time": "2020-12-31T05:28:21.046429Z"
    }
   },
   "source": [
    "使用JRC数据集验证"
   ]
  },
  {
   "cell_type": "code",
   "execution_count": null,
   "metadata": {
    "ExecuteTime": {
     "end_time": "2020-12-31T05:43:51.697904Z",
     "start_time": "2020-12-31T05:43:45.608188Z"
    }
   },
   "outputs": [],
   "source": [
    "JRC_wuhan_water = ee.Image(\"JRC/GSW1_2/YearlyHistory/{}\".format(Year)).clip(wuhan_ee)\n",
    "JRC_water = JRC_wuhan_water.gt(2).select(\"waterClass\").rename('waterclass')\n",
    "JRC_points = JRC_water.sample(**{\n",
    "    'region': wuhan_ee,\n",
    "    'scale': 30,\n",
    "    'numPixels': 3000,\n",
    "    'seed': 0,\n",
    "    'geometries': True  # Set this to False to ignore geometries\n",
    "})\n",
    "\n",
    "# print(points.first().getInfo())\n",
    "# Overlay the points on the imagery to get training.\n",
    "JRC_sample_point = wuhan_landsat8.select(bands).sampleRegions(**{\n",
    "  'collection': JRC_points,\n",
    "  'properties': [label],\n",
    "  'scale': 30\n",
    "})\n",
    "print(withRandom.first().getInfo())\n",
    "validated = JRC_sample_point.classify(trainedClassifier)\n",
    "\n",
    "test_accuracy = validated.errorMatrix('waterclass', 'classification')\n",
    "print('accuracy:',test_accuracy.accuracy().getInfo())\n",
    "print('kappa:',test_accuracy.kappa().getInfo())\n",
    "print('producersAccuracy:',test_accuracy.producersAccuracy().getInfo())\n",
    "print('consumersAccuracy:',test_accuracy.consumersAccuracy().getInfo())"
   ]
  },
  {
   "cell_type": "code",
   "execution_count": null,
   "metadata": {},
   "outputs": [],
   "source": []
  },
  {
   "cell_type": "code",
   "execution_count": null,
   "metadata": {},
   "outputs": [],
   "source": []
  },
  {
   "cell_type": "code",
   "execution_count": null,
   "metadata": {},
   "outputs": [],
   "source": []
  },
  {
   "cell_type": "code",
   "execution_count": null,
   "metadata": {},
   "outputs": [],
   "source": []
  },
  {
   "cell_type": "code",
   "execution_count": null,
   "metadata": {
    "ExecuteTime": {
     "end_time": "2020-12-31T04:34:44.713595Z",
     "start_time": "2020-12-31T04:34:44.208916Z"
    }
   },
   "outputs": [],
   "source": [
    "# RF_permanent_water = []\n",
    "# # ['B2', 'B3', 'B4', 'B5', 'B6', 'B7']\n",
    "# label = 'waterclass'\n",
    "# for i in range(2010,2019,1):\n",
    "#     landsat = ee.ImageCollection('LANDSAT/LC08/C01/T1_SR') \\\n",
    "#         .filterBounds(wuhan_ee) \\\n",
    "#         .filterDate('{}-01-01'.format(i), '{}-12-31'.format(i)) \n",
    "#     landsat_images = landsat.map(maskL8sr).map(NDVI).map(mNDWI)\n",
    "#     #合并\n",
    "#     wuhan_landsat8 = landsat_images.qualityMosaic('NDVI').clip(wuhan_ee)\n",
    "#     # 当mNDWI > EVI时\n",
    "#     wuhan_mNDWI_NDVI = wuhan_landsat8.select('mNDWI').gt(wuhan_landsat8.select('NDVI'))\n",
    "#     wuhan_water = wuhan_mNDWI_NDVI.select('mNDWI').rename('waterclass')\n",
    "#     points = wuhan_water.sample(**{\n",
    "#         'region': wuhan_ee,\n",
    "#         'scale': 30,\n",
    "#         'numPixels': 1000,\n",
    "#         'seed': 0,\n",
    "#         'geometries': True  # Set this to False to ignore geometries\n",
    "#     })\n",
    "#     # Overlay the points on the imagery to get training.\n",
    "#     sample_point = wuhan_landsat8.select(['B2', 'B3', 'B4', 'B5', 'B6', 'B7']).sampleRegions(**{\n",
    "#         'collection': points,\n",
    "#         'properties': [label],\n",
    "#         'scale': 30\n",
    "#     })\n",
    "#     # 在training要素集中增加一个random属性，值为0到1的随机数\n",
    "#     withRandom = sample_point.randomColumn('random')\n",
    "#     #把生成随机数大于0.7的分成测试数据，否则为训练数据。这样可以把数据分成两份\n",
    "#     split = 0.7\n",
    "#     trainingPartition = withRandom.filter(ee.Filter.lt('random', split))\n",
    "#     testingPartition = withRandom.filter(ee.Filter.gte('random', split))\n",
    "#     # 利用70%数据随机森林进行训练\n",
    "#     trainedClassifier = ee.Classifier.smileRandomForest(20).train(trainingPartition,label,['B2', 'B3', 'B4', 'B5', 'B6', 'B7'])\n",
    "#     result=wuhan_landsat8.select(['B2', 'B3', 'B4', 'B5', 'B6', 'B7']).classify(trainedClassifier)\n",
    "#     Map.addLayer(result,{'min':0,'max':1,'palette': ['white','blue']},'RF_water{}'.format(i))\n",
    "    \n",
    "#     water = result.eq(1).selfMask().multiply(ee.Image.pixelArea()).divide(1e6)\n",
    "#     areas = water.reduceRegion(**{\n",
    "#         'reducer': ee.Reducer.sum(),\n",
    "#         'geometry': wuhan_ee.geometry(),\n",
    "#         'scale': 30,\n",
    "#         'maxPixels': 1e14\n",
    "#     })\n",
    "#     RF_permanent_water.append(areas.get('waterClass').getInfo())\n",
    "    \n",
    "# #     print('{}year:{}'.format(i,areas.getInfo()))"
   ]
  },
  {
   "cell_type": "code",
   "execution_count": null,
   "metadata": {
    "ExecuteTime": {
     "end_time": "2020-12-24T12:17:28.799306Z",
     "start_time": "2020-12-24T12:17:28.781167Z"
    },
    "scrolled": true
   },
   "outputs": [],
   "source": [
    "# # 当mNDWI > EVI时\n",
    "# wuhan18_mNDWI_NDVI = wuhan18_landsat8.select('mNDWI').gt(wuhan18_landsat8.select('NDVI'))\n",
    "# wuhan18_waterclass = wuhan18_mNDWI_NDVI.select('mNDWI').rename('waterclass')\n",
    "# wuhan18_composition = wuhan18_landsat8.addBands(wuhan18_waterclass)\n",
    "# # Map.addLayer(wuhan18_water,{'palette': 'white,blue'},'wuhan18_water')\n",
    "# print(wuhan18_composition.bandNames().getInfo())"
   ]
  },
  {
   "cell_type": "code",
   "execution_count": null,
   "metadata": {
    "ExecuteTime": {
     "end_time": "2020-12-24T13:56:38.289871Z",
     "start_time": "2020-12-24T13:56:38.276906Z"
    }
   },
   "outputs": [],
   "source": [
    "print('Change layer opacity:')\n",
    "cluster_layer = Map.layers[-1]\n",
    "cluster_layer.interact(opacity=(0, 1, 0.1))"
   ]
  },
  {
   "cell_type": "code",
   "execution_count": null,
   "metadata": {
    "ExecuteTime": {
     "end_time": "2020-09-11T05:33:25.338429Z",
     "start_time": "2020-09-11T05:33:20.723459Z"
    }
   },
   "outputs": [],
   "source": [
    "import csv\n",
    "import os\n",
    "\n",
    "out_dir = os.path.join(os.path.expanduser('~'), 'Downloads')\n",
    "training_csv = os.path.join(out_dir, 'train_accuracy.csv')\n",
    "testing_csv = os.path.join(out_dir, 'test_accuracy.csv')\n",
    "\n",
    "with open(training_csv, \"w\", newline=\"\") as f:\n",
    "    writer = csv.writer(f)\n",
    "    writer.writerows(train_accuracy.getInfo())\n",
    "    \n",
    "with open(testing_csv, \"w\", newline=\"\") as f:\n",
    "    writer = csv.writer(f)\n",
    "    writer.writerows(test_accuracy.getInfo())"
   ]
  }
 ],
 "metadata": {
  "hide_input": false,
  "kernelspec": {
   "display_name": "Python 3 (ipykernel)",
   "language": "python",
   "name": "python3"
  },
  "language_info": {
   "codemirror_mode": {
    "name": "ipython",
    "version": 3
   },
   "file_extension": ".py",
   "mimetype": "text/x-python",
   "name": "python",
   "nbconvert_exporter": "python",
   "pygments_lexer": "ipython3",
   "version": "3.8.5"
  },
  "toc": {
   "base_numbering": 1,
   "nav_menu": {},
   "number_sections": true,
   "sideBar": true,
   "skip_h1_title": false,
   "title_cell": "Table of Contents",
   "title_sidebar": "Contents",
   "toc_cell": false,
   "toc_position": {},
   "toc_section_display": true,
   "toc_window_display": false
  },
  "varInspector": {
   "cols": {
    "lenName": 16,
    "lenType": 16,
    "lenVar": 40
   },
   "kernels_config": {
    "python": {
     "delete_cmd_postfix": "",
     "delete_cmd_prefix": "del ",
     "library": "var_list.py",
     "varRefreshCmd": "print(var_dic_list())"
    },
    "r": {
     "delete_cmd_postfix": ") ",
     "delete_cmd_prefix": "rm(",
     "library": "var_list.r",
     "varRefreshCmd": "cat(var_dic_list()) "
    }
   },
   "types_to_exclude": [
    "module",
    "function",
    "builtin_function_or_method",
    "instance",
    "_Feature"
   ],
   "window_display": false
  }
 },
 "nbformat": 4,
 "nbformat_minor": 4
}
