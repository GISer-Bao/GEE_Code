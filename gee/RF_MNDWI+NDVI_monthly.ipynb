{
 "cells": [
  {
   "cell_type": "code",
   "execution_count": 1,
   "metadata": {
    "ExecuteTime": {
     "end_time": "2021-01-03T12:41:47.536952Z",
     "start_time": "2021-01-03T12:41:47.520028Z"
    }
   },
   "outputs": [],
   "source": [
    "import os\n",
    "os.environ['HTTP_PROXY'] = \"http://127.0.0.1:10809\"\n",
    "os.environ['HTTPS_PROXY'] = \"http://127.0.0.1:10809\""
   ]
  },
  {
   "cell_type": "code",
   "execution_count": 2,
   "metadata": {
    "ExecuteTime": {
     "end_time": "2021-01-03T12:41:51.709076Z",
     "start_time": "2021-01-03T12:41:47.894264Z"
    },
    "scrolled": false
   },
   "outputs": [
    {
     "data": {
      "application/vnd.jupyter.widget-view+json": {
       "model_id": "eafe045c21854477a3bb032d5969c079",
       "version_major": 2,
       "version_minor": 0
      },
      "text/plain": [
       "Map(center=[40, -100], controls=(WidgetControl(options=['position'], widget=HBox(children=(ToggleButton(value=…"
      ]
     },
     "metadata": {},
     "output_type": "display_data"
    }
   ],
   "source": [
    "import ee\n",
    "import geemap\n",
    "Map = geemap.Map()\n",
    "Map"
   ]
  },
  {
   "cell_type": "code",
   "execution_count": 3,
   "metadata": {
    "ExecuteTime": {
     "end_time": "2021-01-03T12:41:52.857643Z",
     "start_time": "2021-01-03T12:41:51.758422Z"
    }
   },
   "outputs": [],
   "source": [
    "# 输入研究区的shp文件所在路径\n",
    "wuhan_shp =\"D:/NDVI_exercise/wuhan/wuhanregion.shp\"\n",
    "# shp 转 ee \n",
    "wuhan_ee = geemap.shp_to_ee(wuhan_shp)\n",
    "# 添加到layer\n",
    "# Map.addLayer(wuhan_ee,{},\"wuhan1+8\")\n",
    "Map.centerObject(wuhan_ee,7)   # 设置以研究区居中\n",
    "Map.addLayer(wuhan_ee,{},\"wuhan\")"
   ]
  },
  {
   "cell_type": "code",
   "execution_count": 4,
   "metadata": {
    "ExecuteTime": {
     "end_time": "2021-01-03T12:41:52.967349Z",
     "start_time": "2021-01-03T12:41:52.952425Z"
    }
   },
   "outputs": [],
   "source": [
    "JRC_permanent_water = []"
   ]
  },
  {
   "cell_type": "markdown",
   "metadata": {},
   "source": [
    "# landsat 8 可用年份为2014-2020"
   ]
  },
  {
   "cell_type": "code",
   "execution_count": 6,
   "metadata": {
    "ExecuteTime": {
     "end_time": "2021-01-03T12:42:36.848418Z",
     "start_time": "2021-01-03T12:42:36.840436Z"
    }
   },
   "outputs": [],
   "source": [
    "# 去云掩膜函数\n",
    "def maskL8sr(image):\n",
    "  # Bits 3 and 5 are cloud shadow and cloud, respectively.\n",
    "  cloudShadowBitMask = (1 << 3)\n",
    "  cloudsBitMask = (1 << 5)\n",
    "  # Get the pixel QA band.\n",
    "  qa = image.select('pixel_qa')\n",
    "  # Both flags should be set to zero, indicating clear conditions.\n",
    "  mask = qa.bitwiseAnd(cloudShadowBitMask).eq(0) \\\n",
    "                 .And(qa.bitwiseAnd(cloudsBitMask).eq(0))\n",
    "  return image.updateMask(mask)\n",
    "\n",
    "# 可视化参数设置\n",
    "vis_params = {\n",
    "  'bands': ['B5', 'B4', 'B3'],\n",
    "  'min': 0,\n",
    "  'max': 3000,\n",
    "  'gamma': 1.4,\n",
    "}\n",
    "\n",
    "def NDVI(image):\n",
    "    ndvi=image.normalizedDifference(['B5', 'B4']).rename('NDVI')  \n",
    "    return image.addBands(ndvi)\n",
    "\n",
    "def mNDWI(image):\n",
    "    mndwi=image.normalizedDifference(['B3', 'B6']).rename(\"mNDWI\")\n",
    "    return image.addBands(mndwi)\n",
    "\n",
    "# Use these bands for prediction.\n",
    "bands = ['B2', 'B3', 'B4', 'B5', 'B6', 'B7']\n",
    "# 分类标签\n",
    "label = 'waterclass'"
   ]
  },
  {
   "cell_type": "code",
   "execution_count": 7,
   "metadata": {
    "ExecuteTime": {
     "end_time": "2021-01-03T12:42:42.199087Z",
     "start_time": "2021-01-03T12:42:38.680453Z"
    },
    "scrolled": true
   },
   "outputs": [
    {
     "name": "stdout",
     "output_type": "stream",
     "text": [
      "12 month:405.8732037601273\n"
     ]
    }
   ],
   "source": [
    "# 可用年份为2014-2020\n",
    "Year = 2018\n",
    "month = 12\n",
    "# 定义一些变量\n",
    "days_31 = [1,3,5,7,8,10,12]\n",
    "days_30 = [4,6,9,11]\n",
    "days_28 = [2]\n",
    "\n",
    "if month in days_31:\n",
    "    landsat_images = ee.ImageCollection('LANDSAT/LC08/C01/T1_SR') \\\n",
    "        .filterBounds(wuhan_ee) \\\n",
    "        .filterDate('{}-{}-01'.format(Year,month), '{}-{}-31'.format(Year,month)) \\\n",
    "        .map(maskL8sr) \\\n",
    "        .map(NDVI) \\\n",
    "        .map(mNDWI)\n",
    "if month in days_30:\n",
    "    landsat_images = ee.ImageCollection('LANDSAT/LC08/C01/T1_SR') \\\n",
    "        .filterBounds(wuhan_ee) \\\n",
    "        .filterDate('{}-{}-01'.format(Year,month), '{}-{}-30'.format(Year,month)) \\\n",
    "        .map(maskL8sr) \\\n",
    "        .map(NDVI) \\\n",
    "        .map(mNDWI)\n",
    "if month in days_28:\n",
    "    landsat_images = ee.ImageCollection('LANDSAT/LC08/C01/T1_SR') \\\n",
    "        .filterBounds(wuhan_ee) \\\n",
    "        .filterDate('{}-{}-01'.format(Year,month), '{}-{}-28'.format(Year,month)) \\\n",
    "        .map(maskL8sr) \\\n",
    "        .map(NDVI) \\\n",
    "        .map(mNDWI)\n",
    "#合并\n",
    "wuhan_landsat8 = landsat_images.qualityMosaic('NDVI').clip(wuhan_ee)\n",
    "Map.addLayer(wuhan_landsat8,vis_params,\"wuhan_landsat8\")\n",
    "# 当mNDWI > EVI时\n",
    "wuhan_mNDWI_NDVI = wuhan_landsat8.select('mNDWI').gt(wuhan_landsat8.select('NDVI'))\n",
    "wuhan_water = wuhan_mNDWI_NDVI.select('mNDWI').rename('waterclass')\n",
    "\n",
    "# Make the training dataset.\n",
    "points = wuhan_water.sample(**{\n",
    "    'region': wuhan_ee,\n",
    "    'scale': 30,\n",
    "    'numPixels': 1000,\n",
    "    'seed': 0,\n",
    "    'geometries': True  # Set this to False to ignore geometries\n",
    "})\n",
    "\n",
    "# Overlay the points on the imagery to get training.\n",
    "sample_point = wuhan_landsat8.select(bands).sampleRegions(**{\n",
    "  'collection': points,\n",
    "  'properties': [label],\n",
    "  'scale': 30\n",
    "})\n",
    "\n",
    "# 在training要素集中增加一个random属性，值为0到1的随机数\n",
    "withRandom = sample_point.randomColumn('random')\n",
    "\n",
    "#把生成随机数大于0.7的分成测试数据，否则为训练数据。这样可以把数据分成两份\n",
    "split = 0.7\n",
    "trainingPartition = withRandom.filter(ee.Filter.lt('random', split))\n",
    "testingPartition = withRandom.filter(ee.Filter.gte('random', split))\n",
    "\n",
    "# 利用70%数据随机森林进行训练\n",
    "trainedClassifier = ee.Classifier.smileRandomForest(20).train(trainingPartition,label,bands)\n",
    "#对Landsat-8进行分类\n",
    "result=wuhan_landsat8.select(bands).classify(trainedClassifier)\n",
    "Map.addLayer(result,{'min':0,'max':1,'palette': ['white','blue']},'RF_water')\n",
    "\n",
    "water = result.eq(1).selfMask().multiply(ee.Image.pixelArea()).divide(1e6)\n",
    "areas = water.reduceRegion(**{\n",
    "    'reducer': ee.Reducer.sum(),\n",
    "    'geometry': wuhan_ee.geometry(),\n",
    "    'scale': 30,\n",
    "    'maxPixels': 1e14\n",
    "})\n",
    "JRC_permanent_water.append(areas.get('classification').getInfo())\n",
    "print('{} month:{}'.format(month,areas.get('classification').getInfo()))\n",
    "\n",
    "# train_accuracy = trainedClassifier.confusionMatrix()\n",
    "# print('accuracy:',train_accuracy.accuracy().getInfo())\n",
    "# print('kappa:',train_accuracy.kappa().getInfo())\n",
    "# print('producersAccuracy:',train_accuracy.producersAccuracy().getInfo())\n",
    "# print('consumersAccuracy:',train_accuracy.consumersAccuracy().getInfo())\n",
    "\n",
    "# validated = testingPartition.classify(trainedClassifier)\n",
    "\n",
    "# test_accuracy = validated.errorMatrix('waterclass', 'classification')\n",
    "\n",
    "# print('accuracy:',test_accuracy.accuracy().getInfo())\n",
    "# print('kappa:',test_accuracy.kappa().getInfo())\n",
    "# print('producersAccuracy:',test_accuracy.producersAccuracy().getInfo())\n",
    "# print('consumersAccuracy:',test_accuracy.consumersAccuracy().getInfo())"
   ]
  },
  {
   "cell_type": "markdown",
   "metadata": {},
   "source": [
    "# landsat 7 可用年份为1999-2020"
   ]
  },
  {
   "cell_type": "code",
   "execution_count": null,
   "metadata": {
    "ExecuteTime": {
     "end_time": "2020-12-31T08:56:42.250905Z",
     "start_time": "2020-12-31T08:56:42.244921Z"
    }
   },
   "outputs": [],
   "source": [
    "def cloudMaskL457(image):\n",
    "    qa = image.select('pixel_qa')\n",
    "    # If the cloud bit (5) is set and the cloud confidence (7) is high\n",
    "    # or the cloud shadow bit is set (3), then it's a bad pixel.\n",
    "    cloud = qa.bitwiseAnd(1 << 5).And(qa.bitwiseAnd(1 << 7)).Or(qa.bitwiseAnd(1 << 3))\n",
    "    # Remove edge pixels that don't occur in all bands\n",
    "    mask2 = image.mask().reduce(ee.Reducer.min())\n",
    "    return image.updateMask(cloud.Not()).updateMask(mask2)\n",
    "\n",
    "# 可视化参数设置\n",
    "vis_params = {\n",
    "  'bands': ['B4', 'B3', 'B2'],\n",
    "  'min': 0,\n",
    "  'max': 3000,\n",
    "  'gamma': 1.4,\n",
    "}\n",
    "\n",
    "def NDVI(image):\n",
    "    ndvi=image.normalizedDifference(['B4', 'B3']).rename('NDVI')  \n",
    "    return image.addBands(ndvi)\n",
    "\n",
    "def mNDWI(image):\n",
    "    mndwi=image.normalizedDifference(['B2', 'B5']).rename(\"mNDWI\")\n",
    "    return image.addBands(mndwi)\n",
    "\n",
    "# Use these bands for prediction.\n",
    "bands = ['B1', 'B2', 'B3', 'B4', 'B5', 'B7']\n",
    "# 分类标签\n",
    "label = 'waterclass'"
   ]
  },
  {
   "cell_type": "code",
   "execution_count": null,
   "metadata": {
    "ExecuteTime": {
     "end_time": "2020-12-31T08:58:41.609737Z",
     "start_time": "2020-12-31T08:57:26.252273Z"
    }
   },
   "outputs": [],
   "source": [
    "# 可用年份为1999-2020\n",
    "Year = 2012\n",
    "landsat_images = ee.ImageCollection('LANDSAT/LE07/C01/T1_SR') \\\n",
    "    .filterBounds(wuhan_ee) \\\n",
    "    .filterDate('{}-01-01'.format(Year), '{}-12-31'.format(Year)) \\\n",
    "    .map(cloudMaskL457) \\\n",
    "    .map(NDVI) \\\n",
    "    .map(mNDWI)\n",
    "\n",
    "#合并\n",
    "wuhan_landsat7 = landsat_images.qualityMosaic('NDVI').clip(wuhan_ee)\n",
    "# 当mNDWI > EVI时\n",
    "wuhan_mNDWI_NDVI = wuhan_landsat7.select('mNDWI').gt(wuhan_landsat7.select('NDVI'))\n",
    "wuhan_water = wuhan_mNDWI_NDVI.select('mNDWI').rename('waterclass')\n",
    "\n",
    "# Make the training dataset.\n",
    "points = wuhan_water.sample(**{\n",
    "    'region': wuhan_ee,\n",
    "    'scale': 30,\n",
    "    'numPixels': 1000,\n",
    "    'seed': 0,\n",
    "    'geometries': True  # Set this to False to ignore geometries\n",
    "})\n",
    "\n",
    "# Overlay the points on the imagery to get training.\n",
    "sample_point = wuhan_landsat7.select(bands).sampleRegions(**{\n",
    "  'collection': points,\n",
    "  'properties': [label],\n",
    "  'scale': 30\n",
    "})\n",
    "\n",
    "# 在training要素集中增加一个random属性，值为0到1的随机数\n",
    "withRandom = sample_point.randomColumn('random')\n",
    "\n",
    "#把生成随机数大于0.7的分成测试数据，否则为训练数据。这样可以把数据分成两份\n",
    "split = 0.7\n",
    "trainingPartition = withRandom.filter(ee.Filter.lt('random', split))\n",
    "testingPartition = withRandom.filter(ee.Filter.gte('random', split))\n",
    "\n",
    "# 利用70%数据随机森林进行训练\n",
    "trainedClassifier = ee.Classifier.smileRandomForest(20).train(trainingPartition,label,bands)\n",
    "#对Landsat-7进行分类\n",
    "result=wuhan_landsat7.select(bands).classify(trainedClassifier)\n",
    "# Map.addLayer(result,{'min':0,'max':1,'palette': ['white','blue']},'RF_water')\n",
    "\n",
    "water = result.eq(1).selfMask().multiply(ee.Image.pixelArea()).divide(1e6)\n",
    "areas = water.reduceRegion(**{\n",
    "    'reducer': ee.Reducer.sum(),\n",
    "    'geometry': wuhan_ee.geometry(),\n",
    "    'scale': 30,\n",
    "    'maxPixels': 1e14\n",
    "})\n",
    "JRC_permanent_water.append(areas.get('classification').getInfo())\n",
    "print('{} year:{}'.format(Year,areas.get('classification').getInfo()))\n",
    "\n",
    "# train_accuracy = trainedClassifier.confusionMatrix()\n",
    "# print('accuracy:',train_accuracy.accuracy().getInfo())\n",
    "# print('kappa:',train_accuracy.kappa().getInfo())\n",
    "# print('producersAccuracy:',train_accuracy.producersAccuracy().getInfo())\n",
    "# print('consumersAccuracy:',train_accuracy.consumersAccuracy().getInfo())\n",
    "\n",
    "# validated = testingPartition.classify(trainedClassifier)\n",
    "\n",
    "# test_accuracy = validated.errorMatrix('waterclass', 'classification')\n",
    "\n",
    "# print('accuracy:',test_accuracy.accuracy().getInfo())\n",
    "# print('kappa:',test_accuracy.kappa().getInfo())\n",
    "# print('producersAccuracy:',test_accuracy.producersAccuracy().getInfo())\n",
    "# print('consumersAccuracy:',test_accuracy.consumersAccuracy().getInfo())"
   ]
  },
  {
   "cell_type": "markdown",
   "metadata": {},
   "source": [
    "# 结果"
   ]
  },
  {
   "cell_type": "code",
   "execution_count": null,
   "metadata": {
    "ExecuteTime": {
     "end_time": "2020-12-31T06:54:56.607460Z",
     "start_time": "2020-12-31T06:54:56.595493Z"
    },
    "scrolled": true
   },
   "outputs": [],
   "source": [
    "print(JRC_permanent_water)"
   ]
  },
  {
   "cell_type": "markdown",
   "metadata": {
    "ExecuteTime": {
     "end_time": "2020-12-31T05:28:21.061417Z",
     "start_time": "2020-12-31T05:28:21.046429Z"
    }
   },
   "source": [
    "使用JRC数据集验证"
   ]
  },
  {
   "cell_type": "code",
   "execution_count": null,
   "metadata": {
    "ExecuteTime": {
     "end_time": "2020-12-31T05:43:51.697904Z",
     "start_time": "2020-12-31T05:43:45.608188Z"
    }
   },
   "outputs": [],
   "source": [
    "JRC_wuhan_water = ee.Image(\"JRC/GSW1_2/YearlyHistory/{}\".format(Year)).clip(wuhan_ee)\n",
    "JRC_water = JRC_wuhan_water.gt(2).select(\"waterClass\").rename('waterclass')\n",
    "JRC_points = JRC_water.sample(**{\n",
    "    'region': wuhan_ee,\n",
    "    'scale': 30,\n",
    "    'numPixels': 3000,\n",
    "    'seed': 0,\n",
    "    'geometries': True  # Set this to False to ignore geometries\n",
    "})\n",
    "\n",
    "# print(points.first().getInfo())\n",
    "# Overlay the points on the imagery to get training.\n",
    "JRC_sample_point = wuhan_landsat8.select(bands).sampleRegions(**{\n",
    "  'collection': JRC_points,\n",
    "  'properties': [label],\n",
    "  'scale': 30\n",
    "})\n",
    "print(withRandom.first().getInfo())\n",
    "validated = JRC_sample_point.classify(trainedClassifier)\n",
    "\n",
    "test_accuracy = validated.errorMatrix('waterclass', 'classification')\n",
    "print('accuracy:',test_accuracy.accuracy().getInfo())\n",
    "print('kappa:',test_accuracy.kappa().getInfo())\n",
    "print('producersAccuracy:',test_accuracy.producersAccuracy().getInfo())\n",
    "print('consumersAccuracy:',test_accuracy.consumersAccuracy().getInfo())"
   ]
  },
  {
   "cell_type": "code",
   "execution_count": null,
   "metadata": {},
   "outputs": [],
   "source": []
  },
  {
   "cell_type": "code",
   "execution_count": null,
   "metadata": {},
   "outputs": [],
   "source": []
  },
  {
   "cell_type": "code",
   "execution_count": null,
   "metadata": {},
   "outputs": [],
   "source": []
  },
  {
   "cell_type": "code",
   "execution_count": null,
   "metadata": {},
   "outputs": [],
   "source": []
  },
  {
   "cell_type": "code",
   "execution_count": null,
   "metadata": {
    "ExecuteTime": {
     "end_time": "2020-12-31T04:34:44.713595Z",
     "start_time": "2020-12-31T04:34:44.208916Z"
    }
   },
   "outputs": [],
   "source": [
    "# RF_permanent_water = []\n",
    "# # ['B2', 'B3', 'B4', 'B5', 'B6', 'B7']\n",
    "# label = 'waterclass'\n",
    "# for i in range(2010,2019,1):\n",
    "#     landsat = ee.ImageCollection('LANDSAT/LC08/C01/T1_SR') \\\n",
    "#         .filterBounds(wuhan_ee) \\\n",
    "#         .filterDate('{}-01-01'.format(i), '{}-12-31'.format(i)) \n",
    "#     landsat_images = landsat.map(maskL8sr).map(NDVI).map(mNDWI)\n",
    "#     #合并\n",
    "#     wuhan_landsat8 = landsat_images.qualityMosaic('NDVI').clip(wuhan_ee)\n",
    "#     # 当mNDWI > EVI时\n",
    "#     wuhan_mNDWI_NDVI = wuhan_landsat8.select('mNDWI').gt(wuhan_landsat8.select('NDVI'))\n",
    "#     wuhan_water = wuhan_mNDWI_NDVI.select('mNDWI').rename('waterclass')\n",
    "#     points = wuhan_water.sample(**{\n",
    "#         'region': wuhan_ee,\n",
    "#         'scale': 30,\n",
    "#         'numPixels': 1000,\n",
    "#         'seed': 0,\n",
    "#         'geometries': True  # Set this to False to ignore geometries\n",
    "#     })\n",
    "#     # Overlay the points on the imagery to get training.\n",
    "#     sample_point = wuhan_landsat8.select(['B2', 'B3', 'B4', 'B5', 'B6', 'B7']).sampleRegions(**{\n",
    "#         'collection': points,\n",
    "#         'properties': [label],\n",
    "#         'scale': 30\n",
    "#     })\n",
    "#     # 在training要素集中增加一个random属性，值为0到1的随机数\n",
    "#     withRandom = sample_point.randomColumn('random')\n",
    "#     #把生成随机数大于0.7的分成测试数据，否则为训练数据。这样可以把数据分成两份\n",
    "#     split = 0.7\n",
    "#     trainingPartition = withRandom.filter(ee.Filter.lt('random', split))\n",
    "#     testingPartition = withRandom.filter(ee.Filter.gte('random', split))\n",
    "#     # 利用70%数据随机森林进行训练\n",
    "#     trainedClassifier = ee.Classifier.smileRandomForest(20).train(trainingPartition,label,['B2', 'B3', 'B4', 'B5', 'B6', 'B7'])\n",
    "#     result=wuhan_landsat8.select(['B2', 'B3', 'B4', 'B5', 'B6', 'B7']).classify(trainedClassifier)\n",
    "#     Map.addLayer(result,{'min':0,'max':1,'palette': ['white','blue']},'RF_water{}'.format(i))\n",
    "    \n",
    "#     water = result.eq(1).selfMask().multiply(ee.Image.pixelArea()).divide(1e6)\n",
    "#     areas = water.reduceRegion(**{\n",
    "#         'reducer': ee.Reducer.sum(),\n",
    "#         'geometry': wuhan_ee.geometry(),\n",
    "#         'scale': 30,\n",
    "#         'maxPixels': 1e14\n",
    "#     })\n",
    "#     RF_permanent_water.append(areas.get('waterClass').getInfo())\n",
    "    \n",
    "# #     print('{}year:{}'.format(i,areas.getInfo()))"
   ]
  },
  {
   "cell_type": "code",
   "execution_count": null,
   "metadata": {
    "ExecuteTime": {
     "end_time": "2020-12-24T12:17:28.799306Z",
     "start_time": "2020-12-24T12:17:28.781167Z"
    },
    "scrolled": true
   },
   "outputs": [],
   "source": [
    "# # 当mNDWI > EVI时\n",
    "# wuhan18_mNDWI_NDVI = wuhan18_landsat8.select('mNDWI').gt(wuhan18_landsat8.select('NDVI'))\n",
    "# wuhan18_waterclass = wuhan18_mNDWI_NDVI.select('mNDWI').rename('waterclass')\n",
    "# wuhan18_composition = wuhan18_landsat8.addBands(wuhan18_waterclass)\n",
    "# # Map.addLayer(wuhan18_water,{'palette': 'white,blue'},'wuhan18_water')\n",
    "# print(wuhan18_composition.bandNames().getInfo())"
   ]
  },
  {
   "cell_type": "code",
   "execution_count": null,
   "metadata": {
    "ExecuteTime": {
     "end_time": "2020-12-24T13:56:38.289871Z",
     "start_time": "2020-12-24T13:56:38.276906Z"
    }
   },
   "outputs": [],
   "source": [
    "print('Change layer opacity:')\n",
    "cluster_layer = Map.layers[-1]\n",
    "cluster_layer.interact(opacity=(0, 1, 0.1))"
   ]
  },
  {
   "cell_type": "code",
   "execution_count": null,
   "metadata": {
    "ExecuteTime": {
     "end_time": "2020-09-11T05:33:25.338429Z",
     "start_time": "2020-09-11T05:33:20.723459Z"
    }
   },
   "outputs": [],
   "source": [
    "import csv\n",
    "import os\n",
    "\n",
    "out_dir = os.path.join(os.path.expanduser('~'), 'Downloads')\n",
    "training_csv = os.path.join(out_dir, 'train_accuracy.csv')\n",
    "testing_csv = os.path.join(out_dir, 'test_accuracy.csv')\n",
    "\n",
    "with open(training_csv, \"w\", newline=\"\") as f:\n",
    "    writer = csv.writer(f)\n",
    "    writer.writerows(train_accuracy.getInfo())\n",
    "    \n",
    "with open(testing_csv, \"w\", newline=\"\") as f:\n",
    "    writer = csv.writer(f)\n",
    "    writer.writerows(test_accuracy.getInfo())"
   ]
  }
 ],
 "metadata": {
  "hide_input": false,
  "kernelspec": {
   "display_name": "Python 3",
   "language": "python",
   "name": "python3"
  },
  "language_info": {
   "codemirror_mode": {
    "name": "ipython",
    "version": 3
   },
   "file_extension": ".py",
   "mimetype": "text/x-python",
   "name": "python",
   "nbconvert_exporter": "python",
   "pygments_lexer": "ipython3",
   "version": "3.8.5"
  },
  "toc": {
   "base_numbering": 1,
   "nav_menu": {},
   "number_sections": true,
   "sideBar": true,
   "skip_h1_title": false,
   "title_cell": "Table of Contents",
   "title_sidebar": "Contents",
   "toc_cell": false,
   "toc_position": {},
   "toc_section_display": true,
   "toc_window_display": false
  },
  "varInspector": {
   "cols": {
    "lenName": 16,
    "lenType": 16,
    "lenVar": 40
   },
   "kernels_config": {
    "python": {
     "delete_cmd_postfix": "",
     "delete_cmd_prefix": "del ",
     "library": "var_list.py",
     "varRefreshCmd": "print(var_dic_list())"
    },
    "r": {
     "delete_cmd_postfix": ") ",
     "delete_cmd_prefix": "rm(",
     "library": "var_list.r",
     "varRefreshCmd": "cat(var_dic_list()) "
    }
   },
   "types_to_exclude": [
    "module",
    "function",
    "builtin_function_or_method",
    "instance",
    "_Feature"
   ],
   "window_display": false
  }
 },
 "nbformat": 4,
 "nbformat_minor": 4
}
