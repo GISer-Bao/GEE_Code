{
 "cells": [
  {
   "cell_type": "code",
   "execution_count": 1,
   "metadata": {
    "ExecuteTime": {
     "end_time": "2021-04-20T08:16:22.893650Z",
     "start_time": "2021-04-20T08:16:22.880716Z"
    }
   },
   "outputs": [],
   "source": [
    "import os\n",
    "os.environ['HTTP_PROXY'] = \"http://127.0.0.1:10809\"\n",
    "os.environ['HTTPS_PROXY'] = \"http://127.0.0.1:10809\""
   ]
  },
  {
   "cell_type": "code",
   "execution_count": 2,
   "metadata": {
    "ExecuteTime": {
     "end_time": "2021-04-20T08:16:27.171874Z",
     "start_time": "2021-04-20T08:16:23.132849Z"
    },
    "scrolled": false
   },
   "outputs": [
    {
     "data": {
      "application/vnd.jupyter.widget-view+json": {
       "model_id": "ff811280b83f4f7d859e49b3c98bf11d",
       "version_major": 2,
       "version_minor": 0
      },
      "text/plain": [
       "Map(center=[40, -100], controls=(WidgetControl(options=['position'], widget=HBox(children=(ToggleButton(value=…"
      ]
     },
     "metadata": {},
     "output_type": "display_data"
    }
   ],
   "source": [
    "import ee\n",
    "import geemap\n",
    "Map = geemap.Map()\n",
    "Map"
   ]
  },
  {
   "cell_type": "code",
   "execution_count": 3,
   "metadata": {
    "ExecuteTime": {
     "end_time": "2021-04-20T08:16:37.232125Z",
     "start_time": "2021-04-20T08:16:36.179792Z"
    }
   },
   "outputs": [],
   "source": [
    "roi = ee.FeatureCollection('users/311605001111/YangtzeCity/wuhan')\n",
    "Map.addLayer(roi, {}, \"roi\")\n",
    "Map.centerObject(roi,8)"
   ]
  },
  {
   "cell_type": "code",
   "execution_count": 4,
   "metadata": {
    "ExecuteTime": {
     "end_time": "2021-04-02T02:56:47.962295Z",
     "start_time": "2021-04-02T02:56:47.945207Z"
    }
   },
   "outputs": [],
   "source": [
    "# 去云、云阴影、雪掩膜函数\n",
    "def maskL8sr(image):\n",
    "    cloudShadowBitMask = (1 << 3)\n",
    "    cloudsBitMask = (1 << 5)\n",
    "    snowBitMask = (1 << 4)   \n",
    "    qa = image.select('pixel_qa')\n",
    "    mask = qa.bitwiseAnd(cloudShadowBitMask).eq(0) \\\n",
    "                   .And(qa.bitwiseAnd(cloudsBitMask).eq(0)) \\\n",
    "                   .And(qa.bitwiseAnd(snowBitMask).eq(0))\n",
    "    return image.updateMask(mask)\n",
    "# landsat8 图像可视化参数\n",
    "visParams = {\n",
    "    'bands': ['B5', 'B4', 'B3'],\n",
    "    'min': 0,\n",
    "    'max': 3000,\n",
    "    'gamma': 1.4,\n",
    "}\n",
    "# NDVI and mNDWI 函数的定义\n",
    "def index(image):\n",
    "    ndvi=image.normalizedDifference(['B5', 'B4']).rename('NDVI')\n",
    "    mndwi=image.normalizedDifference(['B3', 'B6']).rename(\"mNDWI\")\n",
    "    return image.addBands(ndvi).addBands(mndwi)\n",
    "# RandomForest预测使用的波段\n",
    "bands = ['B2', 'B3', 'B4', 'B5', 'B6', 'B7']\n",
    "# 分类标签\n",
    "label = 'waterclass'\n"
   ]
  },
  {
   "cell_type": "code",
   "execution_count": 5,
   "metadata": {
    "ExecuteTime": {
     "end_time": "2021-04-02T02:56:48.024704Z",
     "start_time": "2021-04-02T02:56:48.010458Z"
    }
   },
   "outputs": [],
   "source": [
    "# 添加一个底图白板\n",
    "basemap = ee.Image.constant(0).clip(roi).select('constant').rename('waterclass')\n",
    "# Map.addLayer(basemap,{'palette':['white']},\"basemap\")\n",
    "basemap1 = ee.Image.constant(0).clip(roi).select('constant').rename('water_class')"
   ]
  },
  {
   "cell_type": "markdown",
   "metadata": {},
   "source": [
    "# 训练和分类"
   ]
  },
  {
   "cell_type": "code",
   "execution_count": 7,
   "metadata": {
    "ExecuteTime": {
     "end_time": "2021-04-02T02:56:48.181796Z",
     "start_time": "2021-04-02T02:56:48.168536Z"
    }
   },
   "outputs": [],
   "source": [
    "landsat8_images = ee.ImageCollection('LANDSAT/LC08/C01/T1_SR') \\\n",
    "    .filterBounds(roi) \\\n",
    "    .filterDate('2018-01-01', '2018-12-31') \\\n",
    "    .map(maskL8sr)\n",
    "\n",
    "landsat_ndvi_mndwi = landsat8_images.map(index)"
   ]
  },
  {
   "cell_type": "code",
   "execution_count": null,
   "metadata": {
    "ExecuteTime": {
     "end_time": "2021-04-02T02:57:11.175641Z",
     "start_time": "2021-04-02T02:56:48.229045Z"
    }
   },
   "outputs": [],
   "source": [
    "def imageSample(image):\n",
    "    wuhan_mNDWI_NDVI = image.select('mNDWI').gt(image.select('NDVI'))\n",
    "    wuhan_waterextent = wuhan_mNDWI_NDVI.clip(roi).select('mNDWI').rename('waterclass')\n",
    "    # Make the training dataset.\n",
    "    points = wuhan_waterextent.sample(**{\n",
    "        'region': roi,\n",
    "        'scale': 30,\n",
    "        'numPixels': 200,\n",
    "        'seed': 0,\n",
    "        'geometries': True  # Set this to False to ignore geometries\n",
    "    })\n",
    "    # Overlay the points on the imagery to get training.\n",
    "    sample_point = image.select(bands).sampleRegions(**{\n",
    "        'collection': points,\n",
    "        'properties': [label],\n",
    "        'scale': 30\n",
    "    })\n",
    "    return sample_point"
   ]
  },
  {
   "cell_type": "code",
   "execution_count": null,
   "metadata": {
    "ExecuteTime": {
     "end_time": "2021-04-02T02:57:11.175641Z",
     "start_time": "2021-04-02T02:56:48.229045Z"
    }
   },
   "outputs": [],
   "source": [
    "points_collection = landsat_ndvi_mndwi.map(imageSample).flatten()\n",
    "print('total sample number:{}'.format(points_collection.size().getInfo()))\n",
    "# print(points_collection.first().getInfo())\n",
    "samplepoint_water = points_collection.filter(ee.Filter.eq('waterclass',1))\n",
    "print('water sample number:{}'.format(samplepoint_water.size().getInfo()))\n",
    "# print(samplepoint_water.first().getInfo())\n",
    "\n",
    "trainedClassifier = ee.Classifier.smileRandomForest(20).train(points_collection,label,bands)\n",
    "#对Landsat-8进行分类\n",
    "def training(image):\n",
    "    return image.clip(roi).select(bands).classify(trainedClassifier).eq(1).selfMask().select('classification').rename('waterclass')\n",
    "landsatImage_classify = landsat_ndvi_mndwi.map(training)"
   ]
  },
  {
   "cell_type": "code",
   "execution_count": 8,
   "metadata": {
    "ExecuteTime": {
     "end_time": "2021-04-02T02:57:11.175641Z",
     "start_time": "2021-04-02T02:56:48.229045Z"
    }
   },
   "outputs": [
    {
     "name": "stdout",
     "output_type": "stream",
     "text": [
      "total sample number:2680\n",
      "water sample number:326\n"
     ]
    }
   ],
   "source": [
    "# 计算水体像元\n",
    "waterpixel_count = landsatImage_classify.sum()\n",
    "# 计算有效像元\n",
    "validPixel = landsat8_images.count().select('B3').clip(roi).rename('count')\n",
    "# Map.addLayer(count_image,{},'count_image')\n",
    "\n",
    "wuhan_waterfrequency = waterpixel_count.select('waterclass').divide(validPixel.select('count')).select('waterclass').rename('frequency')\n",
    "wuhan_permanentwater = wuhan_waterfrequency.gte(0.75).selfMask().select('frequency').rename('waterclass')\n",
    "\n",
    "Map.addLayer(wuhan_permanentwater,{'palette':['yellow']},\"water permanent\")"
   ]
  },
  {
   "cell_type": "code",
   "execution_count": 9,
   "metadata": {
    "ExecuteTime": {
     "end_time": "2021-04-02T02:57:18.043943Z",
     "start_time": "2021-04-02T02:57:11.321145Z"
    }
   },
   "outputs": [],
   "source": [
    "imagecollection = ee.ImageCollection([wuhan_permanentwater,basemap])\n",
    "permanent_water_layer = imagecollection.sum()\n",
    "Map.addLayer(permanent_water_layer,{'min':0,\"max\":1,'palette':['white','blue']},'waterpermanent')\n",
    "\n",
    "## Maryland\n",
    "# Maryland_2018 = ee.Image('users/311605001111/Maryland_2018').clip(roi).select('b1').gt(74).select('b1').rename('water_class')\n",
    "# wuhan_Maryland = ee.ImageCollection([Maryland_2018,basemap1]).sum()\n",
    "# Map.addLayer(wuhan_Maryland,{'min':0,\"max\":1,'palette':['white','red']},'wuhan_Maryland')\n",
    "\n",
    "## JRC\n",
    "# visualization = {\n",
    "#     'bands': ['waterClass'],\n",
    "#     'min': 0.0,\n",
    "#   'max': 3.0,\n",
    "#   'palette': ['cccccc', 'ffffff', '99d9ea', '0000ff']\n",
    "# }\n",
    "# JRC = ee.Image(\"JRC/GSW1_2/YearlyHistory/2018\").clip(roi)\n",
    "# Map.addLayer(JRC,visualization,'JRC')"
   ]
  },
  {
   "cell_type": "code",
   "execution_count": 7,
   "metadata": {
    "ExecuteTime": {
     "end_time": "2021-04-20T08:21:16.848012Z",
     "start_time": "2021-04-20T08:21:16.114550Z"
    }
   },
   "outputs": [],
   "source": [
    "# 添加JRC数据，做对比\n",
    "JRC_wuhan_water = ee.Image(\"JRC/GSW1_2/YearlyHistory/2018\").clip(roi)\n",
    "JRC_permanentwater = JRC_wuhan_water.eq(3).select(\"waterClass\").rename('jrcwaterclass')\n",
    "basemap = ee.Image.constant(0).clip(roi).rename('jrcwaterclass')\n",
    "JRC_PermanentWater = ee.ImageCollection([JRC_permanentwater,basemap]).sum()\n",
    "Map.addLayer(JRC_PermanentWater,{'min':0,'max':1,'palette':['white','cyan']},'jrcpermanent')"
   ]
  },
  {
   "cell_type": "code",
   "execution_count": null,
   "metadata": {},
   "outputs": [],
   "source": []
  },
  {
   "cell_type": "markdown",
   "metadata": {},
   "source": [
    "# 验证"
   ]
  },
  {
   "cell_type": "markdown",
   "metadata": {},
   "source": [
    "## 使用JRC验证"
   ]
  },
  {
   "cell_type": "code",
   "execution_count": 13,
   "metadata": {
    "ExecuteTime": {
     "end_time": "2021-04-02T02:58:26.981776Z",
     "start_time": "2021-04-02T02:57:51.805020Z"
    },
    "scrolled": false
   },
   "outputs": [
    {
     "name": "stdout",
     "output_type": "stream",
     "text": [
      "JRC total number of sample point:787\n",
      "the number of water sample point:280\n",
      "{'type': 'Feature', 'geometry': None, 'id': '2_0', 'properties': {'jrcwaterclass': 0, 'waterclass': 0}}\n",
      "[[420, 87], [6, 274]]\n",
      "total caccuracy:0.8818297331639136\n",
      "kappa:0.7578918119659815\n"
     ]
    }
   ],
   "source": [
    "imagecollection = ee.ImageCollection([wuhan_permanentwater,basemap])\n",
    "# .select('frequency').rename('waterclass')\n",
    "permanent_water_layer = imagecollection.sum()\n",
    "# Map.addLayer(permanent_water_layer,{'min':0,\"max\":1,'palette':['white','blue']},'waterpermanent')\n",
    "\n",
    "# 使用JRC做验证\n",
    "JRC_wuhan_water = ee.Image(\"JRC/GSW1_2/YearlyHistory/2018\").clip(roi)\n",
    "JRC_permanentwater = JRC_wuhan_water.eq(3).select(\"waterClass\").rename('jrcwaterclass')\n",
    "basemap = ee.Image.constant(0).clip(roi).rename('jrcwaterclass')\n",
    "JRC_PermanentWater = ee.ImageCollection([JRC_permanentwater,basemap]).sum()\n",
    "JRC_samplepoints = JRC_PermanentWater.sample(**{\n",
    "    'region': roi,\n",
    "    'scale': 30,\n",
    "    'numPixels': 3000,\n",
    "    'seed': 0,\n",
    "    'geometries': True  # Set this to False to ignore geometries\n",
    "})\n",
    "print('JRC total number of sample point:{}'.format(JRC_samplepoints.size().getInfo()))\n",
    "# print(JRC_samplepoints.first().getInfo())\n",
    "waterclass = JRC_samplepoints.filter(ee.Filter.eq('jrcwaterclass',1))\n",
    "print('the number of water sample point:{}'.format(waterclass.size().getInfo()))\n",
    "# Overlay the points on the imagery to get training.\n",
    "JRC_sample_point = permanent_water_layer.sampleRegions(**{\n",
    "    'collection': JRC_samplepoints,\n",
    "    'properties': ['jrcwaterclass'],\n",
    "    'scale': 30\n",
    "})\n",
    "print(JRC_sample_point.first().getInfo())\n",
    "# 利用误差矩阵进行验证\n",
    "test_accuracy = JRC_sample_point.errorMatrix('jrcwaterclass', 'waterclass')\n",
    "print(test_accuracy.getInfo())\n",
    "print('total caccuracy:{}'.format(test_accuracy.accuracy().getInfo()))\n",
    "print('kappa:{}'.format(test_accuracy.kappa().getInfo()))"
   ]
  },
  {
   "cell_type": "code",
   "execution_count": null,
   "metadata": {
    "ExecuteTime": {
     "end_time": "2021-02-22T13:49:17.336909Z",
     "start_time": "2021-02-22T13:48:37.556326Z"
    }
   },
   "outputs": [],
   "source": [
    "imagecollection = ee.ImageCollection([wuhan_permanentwater,basemap])\n",
    "# .select('frequency').rename('waterclass')\n",
    "permanent_water_layer = imagecollection.sum()\n",
    "# Map.addLayer(permanent_water_layer,{'min':0,\"max\":1,'palette':['white','blue']},'waterpermanent')\n",
    "\n",
    "# 使用Maryland做验证\n",
    "\n",
    "Maryland_2018 = ee.Image('users/311605001111/Maryland_2018').clip(roi).select('b1').gt(74).select('b1').rename('water_class')\n",
    "wuhan_Maryland = ee.ImageCollection([Maryland_2018,basemap1]).sum()\n",
    "Maryland_samplepoints =wuhan_Maryland .sample(**{\n",
    "    'region': roi,\n",
    "    'scale': 30,\n",
    "    'numPixels': 3000,\n",
    "    'seed': 0,\n",
    "    'geometries': True  # Set this to False to ignore geometries\n",
    "})\n",
    "print('Maryland total number of sample point:{}'.format(Maryland_samplepoints.size().getInfo()))\n",
    "# print(Maryland_samplepoints.first().getInfo())\n",
    "waterclass = Maryland_samplepoints.filter(ee.Filter.eq('water_class',1))\n",
    "print('the number of water sample point:{}'.format(waterclass.size().getInfo()))\n",
    "# Overlay the points on the imagery to get training.\n",
    "Maryland_sample_point = permanent_water_layer.sampleRegions(**{\n",
    "    'collection': Maryland_samplepoints,\n",
    "    'properties': ['water_class'],\n",
    "    'scale': 30\n",
    "})\n",
    "print(Maryland_sample_point.first().getInfo())\n",
    "# 利用误差矩阵进行验证\n",
    "test_accuracy = Maryland_sample_point.errorMatrix('water_class', 'waterclass')\n",
    "print(test_accuracy.getInfo())\n",
    "print('total caccuracy:{}'.format(test_accuracy.accuracy().getInfo()))\n",
    "print('kappa:{}'.format(test_accuracy.kappa().getInfo()))"
   ]
  },
  {
   "cell_type": "code",
   "execution_count": null,
   "metadata": {},
   "outputs": [],
   "source": []
  },
  {
   "cell_type": "markdown",
   "metadata": {},
   "source": [
    "# 水体面积"
   ]
  },
  {
   "cell_type": "code",
   "execution_count": null,
   "metadata": {
    "ExecuteTime": {
     "end_time": "2021-02-22T13:49:59.305665Z",
     "start_time": "2021-02-22T13:49:27.968469Z"
    }
   },
   "outputs": [],
   "source": [
    "# calculate the area of permanent water\n",
    "waterarea = wuhan_permanentwater.multiply(ee.Image.pixelArea()).divide(1e6)\n",
    "areas = waterarea.reduceRegion(**{\n",
    "    'reducer': ee.Reducer.sum(),\n",
    "    'geometry': wuhan.geometry(),\n",
    "    'scale': 30,\n",
    "    'maxPixels': 1e14\n",
    "})\n",
    "print(areas.getInfo())"
   ]
  },
  {
   "cell_type": "code",
   "execution_count": null,
   "metadata": {},
   "outputs": [],
   "source": []
  },
  {
   "cell_type": "code",
   "execution_count": null,
   "metadata": {},
   "outputs": [],
   "source": []
  },
  {
   "cell_type": "code",
   "execution_count": null,
   "metadata": {
    "ExecuteTime": {
     "end_time": "2021-01-24T06:20:45.965969Z",
     "start_time": "2021-01-24T06:20:45.961952Z"
    }
   },
   "outputs": [],
   "source": [
    "# from matplotlib import pyplot as plt\n",
    "# import numpy as np\n",
    "# import matplotlib\n",
    "# from geemap import cartoee"
   ]
  },
  {
   "cell_type": "code",
   "execution_count": null,
   "metadata": {
    "ExecuteTime": {
     "end_time": "2021-01-24T06:20:45.984919Z",
     "start_time": "2021-01-24T06:20:45.967946Z"
    }
   },
   "outputs": [],
   "source": [
    " "
   ]
  },
  {
   "cell_type": "code",
   "execution_count": null,
   "metadata": {
    "ExecuteTime": {
     "end_time": "2021-01-24T06:20:45.993872Z",
     "start_time": "2021-01-24T06:20:45.987883Z"
    }
   },
   "outputs": [],
   "source": [
    "# from geemap import cartoee\n",
    "# region = [113.6, 29.9, 115.1, 31.4] \n",
    "# vis = {'bands': ['waterclass'], 'palette': ['blue'], 'min': 0.0, 'max': 1.0, 'opacity': 1.0}\n",
    "# fig = plt.figure(figsize=(12, 8))\n",
    "# # use cartoee to get a map\n",
    "# ax = cartoee.get_map(wuhan_permanentwater, region=region, vis_params=vis)\n",
    "# # add gridlines to the map at a specified interval\n",
    "# cartoee.add_gridlines(ax, interval=[0.5,0.5], linestyle=\":\")\n",
    "# ax.set_title(label = 'permanent surface water in 2018(MNDWI>NDVI)', fontsize=20)"
   ]
  },
  {
   "cell_type": "code",
   "execution_count": null,
   "metadata": {},
   "outputs": [],
   "source": []
  }
 ],
 "metadata": {
  "hide_input": false,
  "kernelspec": {
   "display_name": "Python 3",
   "language": "python",
   "name": "python3"
  },
  "language_info": {
   "codemirror_mode": {
    "name": "ipython",
    "version": 3
   },
   "file_extension": ".py",
   "mimetype": "text/x-python",
   "name": "python",
   "nbconvert_exporter": "python",
   "pygments_lexer": "ipython3",
   "version": "3.8.5"
  },
  "toc": {
   "base_numbering": 1,
   "nav_menu": {},
   "number_sections": true,
   "sideBar": true,
   "skip_h1_title": false,
   "title_cell": "Table of Contents",
   "title_sidebar": "Contents",
   "toc_cell": false,
   "toc_position": {},
   "toc_section_display": true,
   "toc_window_display": false
  },
  "varInspector": {
   "cols": {
    "lenName": 16,
    "lenType": 16,
    "lenVar": 40
   },
   "kernels_config": {
    "python": {
     "delete_cmd_postfix": "",
     "delete_cmd_prefix": "del ",
     "library": "var_list.py",
     "varRefreshCmd": "print(var_dic_list())"
    },
    "r": {
     "delete_cmd_postfix": ") ",
     "delete_cmd_prefix": "rm(",
     "library": "var_list.r",
     "varRefreshCmd": "cat(var_dic_list()) "
    }
   },
   "types_to_exclude": [
    "module",
    "function",
    "builtin_function_or_method",
    "instance",
    "_Feature"
   ],
   "window_display": false
  }
 },
 "nbformat": 4,
 "nbformat_minor": 4
}
