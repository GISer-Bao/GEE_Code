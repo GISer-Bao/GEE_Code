{
 "cells": [
  {
   "cell_type": "code",
   "execution_count": 1,
   "metadata": {
    "ExecuteTime": {
     "end_time": "2021-07-10T01:32:51.248049Z",
     "start_time": "2021-07-10T01:32:51.244059Z"
    }
   },
   "outputs": [],
   "source": [
    "import os\n",
    "os.environ['HTTP_PROXY'] = \"http://127.0.0.1:10809\"\n",
    "os.environ['HTTPS_PROXY'] = \"http://127.0.0.1:10809\""
   ]
  },
  {
   "cell_type": "code",
   "execution_count": 2,
   "metadata": {
    "ExecuteTime": {
     "end_time": "2021-07-10T01:32:55.738623Z",
     "start_time": "2021-07-10T01:32:51.702067Z"
    }
   },
   "outputs": [
    {
     "data": {
      "application/vnd.jupyter.widget-view+json": {
       "model_id": "e257df3f23fc4f8b8240b82869f0f53e",
       "version_major": 2,
       "version_minor": 0
      },
      "text/plain": [
       "Map(center=[40, -100], controls=(WidgetControl(options=['position', 'transparent_bg'], widget=HBox(children=(T…"
      ]
     },
     "metadata": {},
     "output_type": "display_data"
    }
   ],
   "source": [
    "import ee\n",
    "import geemap\n",
    "Map = geemap.Map()\n",
    "Map"
   ]
  },
  {
   "cell_type": "code",
   "execution_count": 3,
   "metadata": {
    "ExecuteTime": {
     "end_time": "2021-07-10T01:33:09.963163Z",
     "start_time": "2021-07-10T01:33:07.503151Z"
    }
   },
   "outputs": [
    {
     "name": "stdout",
     "output_type": "stream",
     "text": [
      "3986\n",
      "3277\n",
      "709\n"
     ]
    }
   ],
   "source": [
    "# 加载研究区域\n",
    "roi = ee.FeatureCollection('users/311605001111/YangtzeCity/wuhan').geometry()\n",
    "Map.addLayer(roi, {}, \"roi\")\n",
    "Map.centerObject(roi,9)\n",
    "\n",
    "# 加载样本集\n",
    "samples = ee.FeatureCollection('users/311605001111/SampleDataset/WuhanTrainingPoints_2014')\n",
    "# Map.addLayer(samples, {}, \"WuhanTrainingPoints_2020\")\n",
    "print(samples.size().getInfo())\n",
    "\n",
    "# # #各类的个数\n",
    "# clt_water = samples.filter(ee.Filter.eq('waterclass',0))\n",
    "# print(clt_water.size().getInfo())\n",
    "# clt_nowater = samples.filter(ee.Filter.eq('waterclass',1))\n",
    "# print(clt_nowater.size().getInfo())"
   ]
  },
  {
   "cell_type": "code",
   "execution_count": 4,
   "metadata": {
    "ExecuteTime": {
     "end_time": "2021-07-10T01:51:30.542390Z",
     "start_time": "2021-07-10T01:51:29.375068Z"
    }
   },
   "outputs": [],
   "source": [
    "## 加载影像\n",
    "\n",
    "# 去云、云阴影、雪掩膜函数\n",
    "def maskL8sr(image):\n",
    "    cloudShadowBitMask = (1 << 3)\n",
    "    cloudsBitMask = (1 << 5)\n",
    "    snowBitMask = (1 << 4)   \n",
    "    qa = image.select('pixel_qa')\n",
    "    mask = qa.bitwiseAnd(cloudShadowBitMask).eq(0) \\\n",
    "                   .And(qa.bitwiseAnd(cloudsBitMask).eq(0)) \\\n",
    "                   .And(qa.bitwiseAnd(snowBitMask).eq(0))\n",
    "    return image.updateMask(mask)\n",
    "# landsat影像可视化参数\n",
    "visParams = {\n",
    "    'bands': ['B5', 'B6', 'B4'],\n",
    "    'min': 0,\n",
    "    'max': 3000,\n",
    "    'gamma': 1.4,\n",
    "}\n",
    "\n",
    "landsat_images = ee.ImageCollection('LANDSAT/LC08/C01/T1_SR') \\\n",
    "    .filterBounds(roi) \\\n",
    "    .filterDate('2020-01-01', '2020-12-31') \\\n",
    "    .map(maskL8sr)\n",
    "Map.addLayer(landsat_images.mosaic().clip(roi),visParams,'landsat image')"
   ]
  },
  {
   "cell_type": "code",
   "execution_count": 5,
   "metadata": {
    "ExecuteTime": {
     "end_time": "2021-07-10T01:51:32.003020Z",
     "start_time": "2021-07-10T01:51:31.279258Z"
    }
   },
   "outputs": [
    {
     "name": "stdout",
     "output_type": "stream",
     "text": [
      "{'type': 'Feature', 'geometry': {'type': 'Point', 'coordinates': [113.95369190573179, 30.444606083523855]}, 'id': '000000000000000006ad', 'properties': {'AWEI': 1343.75, 'B2': 787, 'B3': 1004, 'B4': 739, 'B5': 1028, 'B6': 252, 'B7': 133, 'NDVI': 0.16355404258, 'cluster': 1, 'mNDWI': 0.59872609377, 'waterclass': 0}}\n"
     ]
    }
   ],
   "source": [
    "# K_mean聚类\n",
    "bands = ['B2', 'B3', 'B4', 'B5', 'B6', 'B7', 'NDVI','mNDWI', 'AWEI']\n",
    "clusterer = ee.Clusterer.wekaKMeans(2).train(samples,bands)\n",
    "result = samples.cluster(clusterer)\n",
    "\n",
    "print(result.first().getInfo())"
   ]
  },
  {
   "cell_type": "code",
   "execution_count": null,
   "metadata": {
    "ExecuteTime": {
     "end_time": "2021-07-08T01:06:17.683021Z",
     "start_time": "2021-07-08T01:06:17.672007Z"
    }
   },
   "outputs": [],
   "source": [
    "# #聚类后的水体\n",
    "# clt_water = result.filter(ee.Filter.eq('cluster',0))\n",
    "# print(clt_water.size().getInfo())\n",
    "# Map.addLayer(clt_water,{'color': '7CFC00', 'pointSize': 4,'fillColor': '7CFC00'},\"clt_water\")\n",
    "# #聚类后的非水体\n",
    "# clt_nowater = result.filter(ee.Filter.eq('cluster',1))\n",
    "# print(clt_nowater.size().getInfo())\n",
    "# Map.addLayer(clt_nowater,{'color': 'f40101ff', 'pointSize': 4,'fillColor': 'ef0b0b56'},\"clt_nowater\")"
   ]
  },
  {
   "cell_type": "code",
   "execution_count": null,
   "metadata": {
    "ExecuteTime": {
     "end_time": "2021-07-08T01:06:17.855516Z",
     "start_time": "2021-07-08T01:06:17.845544Z"
    }
   },
   "outputs": [],
   "source": [
    "# clt_water = result.filter(ee.Filter.eq('cluster',0)).filter(ee.Filter.eq('waterclass',1))\n",
    "# print(clt_water.size().getInfo())\n",
    "# clt_nowater = result.filter(ee.Filter.eq('cluster',1)).filter(ee.Filter.eq('waterclass',0))\n",
    "# print(clt_nowater.size().getInfo())"
   ]
  },
  {
   "cell_type": "code",
   "execution_count": null,
   "metadata": {
    "ExecuteTime": {
     "end_time": "2021-07-08T01:06:18.024550Z",
     "start_time": "2021-07-08T01:06:18.009479Z"
    },
    "scrolled": true
   },
   "outputs": [],
   "source": [
    "# cluster与waterclass的对比\n",
    "def Compare(feature):\n",
    "    cluster = ee.Number(feature.get('cluster'))\n",
    "    waterclass = ee.Number(feature.get('waterclass'))\n",
    "    ft = ee.Algorithms.If(cluster.eq(waterclass),feature.set({'eq':1}),feature.set({'eq':0}))\n",
    "    return ft"
   ]
  },
  {
   "cell_type": "code",
   "execution_count": null,
   "metadata": {
    "ExecuteTime": {
     "end_time": "2021-07-08T01:06:21.348569Z",
     "start_time": "2021-07-08T01:06:18.167452Z"
    }
   },
   "outputs": [],
   "source": [
    "# 水体\n",
    "right = result.map(Compare).filter(ee.Filter.eq('eq',0))\n",
    "print(right.size().getInfo())\n",
    "# Map.addLayer(right,{'color': 'FF8C00', 'pointSize': 4,'fillColor': 'FF8C00'},\"right\")\n",
    "# 非水体\n",
    "error = result.map(Compare).filter(ee.Filter.eq('eq',1))\n",
    "print(error.size().getInfo())\n",
    "# Map.addLayer(error,{'color': 'FF00FF', 'pointSize': 4,'fillColor': 'FF00FF'},\"error\")\n",
    "\n",
    "# 过滤后的样本\n",
    "filtered_sample = ee.Algorithms.If(right.size().gt(error.size()),right,error)"
   ]
  },
  {
   "cell_type": "code",
   "execution_count": null,
   "metadata": {
    "ExecuteTime": {
     "end_time": "2021-07-08T01:06:22.989589Z",
     "start_time": "2021-07-08T01:06:21.492335Z"
    }
   },
   "outputs": [],
   "source": [
    "## 未经过K_mean聚类\n",
    "# RandomForest预测使用的波段\n",
    "bands = ['B2', 'B3', 'B4', 'B5', 'B6', 'B7','NDVI','mNDWI','AWEI']\n",
    "# 分类标签\n",
    "label = 'waterclass'\n",
    "# RF训练\n",
    "trainedClassifier = ee.Classifier.smileRandomForest(20).train(samples,label,bands)\n",
    "\n",
    "train_accuracy = trainedClassifier.confusionMatrix()\n",
    "print(train_accuracy.getInfo())\n",
    "print(train_accuracy.accuracy().getInfo())\n",
    "print(train_accuracy.kappa().getInfo())"
   ]
  },
  {
   "cell_type": "code",
   "execution_count": null,
   "metadata": {
    "ExecuteTime": {
     "end_time": "2021-07-08T01:06:32.287327Z",
     "start_time": "2021-07-08T01:06:23.132140Z"
    }
   },
   "outputs": [],
   "source": [
    "## 经过K_mean聚类\n",
    "# RandomForest预测使用的波段\n",
    "bands = ['B2', 'B3', 'B4', 'B5', 'B6', 'B7','NDVI','mNDWI','AWEI']\n",
    "# 分类标签\n",
    "label = 'waterclass'\n",
    "# RF训练\n",
    "trainedClassifier = ee.Classifier.smileRandomForest(20).train(filtered_sample,label,bands)\n",
    "\n",
    "train_accuracy = trainedClassifier.confusionMatrix()\n",
    "print(train_accuracy.getInfo())\n",
    "print(train_accuracy.accuracy().getInfo())\n",
    "print(train_accuracy.kappa().getInfo())"
   ]
  },
  {
   "cell_type": "code",
   "execution_count": null,
   "metadata": {},
   "outputs": [],
   "source": []
  },
  {
   "cell_type": "code",
   "execution_count": null,
   "metadata": {},
   "outputs": [],
   "source": []
  },
  {
   "cell_type": "code",
   "execution_count": null,
   "metadata": {},
   "outputs": [],
   "source": []
  },
  {
   "cell_type": "code",
   "execution_count": null,
   "metadata": {},
   "outputs": [],
   "source": []
  },
  {
   "cell_type": "code",
   "execution_count": null,
   "metadata": {},
   "outputs": [],
   "source": [
    "## 样本聚类（K_mean），代码重点内容\n",
    "# “samples”为样本集\n",
    "bands = ['B2', 'B3', 'B4', 'B5', 'B6', 'B7', 'NDVI','mNDWI', 'AWEI']\n",
    "clusterer = ee.Clusterer.wekaKMeans(2).train(samples,bands)\n",
    "result = samples.cluster(clusterer)\n",
    "\n",
    "# cluster与waterclass的对比\n",
    "def Compare(feature):\n",
    "    cluster = ee.Number(feature.get('cluster'))\n",
    "    waterclass = ee.Number(feature.get('waterclass'))\n",
    "    ft = ee.Algorithms.If(cluster.eq(waterclass),feature.set({'eq':1}),feature.set({'eq':0}))\n",
    "    return ft\n",
    "\n",
    "# 下面二选一\n",
    "right = result.map(Compare).filter(ee.Filter.eq('eq',0))\n",
    "error = result.map(Compare).filter(ee.Filter.eq('eq',1))\n",
    "# 过滤后的样本\n",
    "filtered_sample = ee.Algorithms.If(right.size().gt(error.size()),right,error)\n",
    "\n",
    "# RandomForest预测使用的波段\n",
    "bands = ['B2', 'B3', 'B4', 'B5', 'B6', 'B7','NDVI','mNDWI','AWEI']\n",
    "# 分类标签\n",
    "label = 'waterclass'\n",
    "# RF训练\n",
    "trainedClassifier = ee.Classifier.smileRandomForest(20).train(filtered_sample,label,bands)"
   ]
  },
  {
   "cell_type": "code",
   "execution_count": null,
   "metadata": {},
   "outputs": [],
   "source": []
  },
  {
   "cell_type": "code",
   "execution_count": null,
   "metadata": {
    "ExecuteTime": {
     "end_time": "2021-07-06T09:05:33.735409Z",
     "start_time": "2021-07-06T09:05:33.718444Z"
    }
   },
   "outputs": [],
   "source": [
    "# k_means聚类\n",
    "bands = ['B2', 'B3', 'B4', 'B5', 'B6', 'B7', 'NDVI','mNDWI', 'AWEI']\n",
    "# Generic Function to remove a property from a feature\n",
    "def removeProperty(feat):\n",
    "    selectProperties = ee.Feature(feat).propertyNames().filter(ee.Filter.neq('item', 'waterclass'))\n",
    "    return feat.select(selectProperties)\n",
    "samples = ee.FeatureCollection('users/311605001111/WuhanTrainingPoints_2020')\n",
    "a = samples.first()\n",
    "print(a.getInfo())\n",
    "print(removeProperty(ee.Feature(a)).getInfo())\n"
   ]
  }
 ],
 "metadata": {
  "hide_input": false,
  "kernelspec": {
   "display_name": "Python 3",
   "language": "python",
   "name": "python3"
  },
  "language_info": {
   "codemirror_mode": {
    "name": "ipython",
    "version": 3
   },
   "file_extension": ".py",
   "mimetype": "text/x-python",
   "name": "python",
   "nbconvert_exporter": "python",
   "pygments_lexer": "ipython3",
   "version": "3.8.5"
  },
  "toc": {
   "base_numbering": 1,
   "nav_menu": {},
   "number_sections": true,
   "sideBar": true,
   "skip_h1_title": false,
   "title_cell": "Table of Contents",
   "title_sidebar": "Contents",
   "toc_cell": false,
   "toc_position": {},
   "toc_section_display": true,
   "toc_window_display": false
  },
  "varInspector": {
   "cols": {
    "lenName": 16,
    "lenType": 16,
    "lenVar": 40
   },
   "kernels_config": {
    "python": {
     "delete_cmd_postfix": "",
     "delete_cmd_prefix": "del ",
     "library": "var_list.py",
     "varRefreshCmd": "print(var_dic_list())"
    },
    "r": {
     "delete_cmd_postfix": ") ",
     "delete_cmd_prefix": "rm(",
     "library": "var_list.r",
     "varRefreshCmd": "cat(var_dic_list()) "
    }
   },
   "types_to_exclude": [
    "module",
    "function",
    "builtin_function_or_method",
    "instance",
    "_Feature"
   ],
   "window_display": false
  }
 },
 "nbformat": 4,
 "nbformat_minor": 4
}
