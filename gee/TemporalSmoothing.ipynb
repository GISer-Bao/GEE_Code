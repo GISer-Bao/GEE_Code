{
 "cells": [
  {
   "cell_type": "code",
   "execution_count": null,
   "metadata": {
    "ExecuteTime": {
     "end_time": "2021-05-01T13:16:59.364788Z",
     "start_time": "2021-05-01T13:16:59.345496Z"
    }
   },
   "outputs": [],
   "source": [
    "import os\n",
    "os.environ['HTTP_PROXY'] = \"http://127.0.0.1:10809\"\n",
    "os.environ['HTTPS_PROXY'] = \"http://127.0.0.1:10809\""
   ]
  },
  {
   "cell_type": "code",
   "execution_count": null,
   "metadata": {
    "ExecuteTime": {
     "end_time": "2021-05-01T13:17:03.683420Z",
     "start_time": "2021-05-01T13:16:59.583357Z"
    }
   },
   "outputs": [],
   "source": [
    "import geemap\n",
    "import ee\n",
    "Map=geemap.Map()\n",
    "Map "
   ]
  },
  {
   "cell_type": "code",
   "execution_count": null,
   "metadata": {
    "ExecuteTime": {
     "end_time": "2021-05-01T13:17:05.098852Z",
     "start_time": "2021-05-01T13:17:03.921533Z"
    }
   },
   "outputs": [],
   "source": [
    "roi = ee.Geometry.Rectangle([14.495753, 51.355146, 14.59681, 51.400062])\n",
    "aoi = ee.Feature(roi)\n",
    "Map.addLayer(aoi,{},'aoi')\n",
    "Map.centerObject(aoi,12)\n",
    "print(aoi.getInfo())"
   ]
  },
  {
   "cell_type": "code",
   "execution_count": null,
   "metadata": {
    "ExecuteTime": {
     "end_time": "2021-05-01T13:17:05.331190Z",
     "start_time": "2021-05-01T13:17:05.315847Z"
    }
   },
   "outputs": [],
   "source": [
    "def sumSquare(i,histogram,counts,means,size,mean):\n",
    "    aCounts = counts.slice(0, 0, i)\n",
    "    aCountTotal = aCounts.reduce(ee.Reducer.sum(), [0]).get([0])\n",
    "    aMeans = means.slice(0, 0, i)\n",
    "    aMean = aMeans.multiply(aCounts).reduce(ee.Reducer.sum(), [0]).get([0]).divide(aCountTotal)       \n",
    "    bCounts = counts.slice(0, i, size)\n",
    "    bCountTotal = bCounts.reduce(ee.Reducer.sum(), [0]).get([0])\n",
    "    bMeans = means.slice(0, i, size)\n",
    "    bMean = bMeans.multiply(bCounts).reduce(ee.Reducer.sum(), [0]).get([0]).divide(bCountTotal)\n",
    "    return aCountTotal.multiply(aMean.subtract(mean).pow(2)).add(bCountTotal.multiply(bMean.subtract(mean).pow(2)))\n",
    "# Return the DN that maximizes interclass variance in B5 (in the region).\n",
    "def otsu(image):\n",
    "    histogram = image.select('VV').reduceRegion(**{\n",
    "        'reducer': ee.Reducer.histogram(255, 2),\n",
    "        'geometry': aoi.geometry(), \n",
    "        'scale': 30,\n",
    "        'bestEffort': True\n",
    "    })\n",
    "    counts = ee.Array(ee.Dictionary(histogram.get('VV')).get('histogram'))\n",
    "    means = ee.Array(ee.Dictionary(histogram.get('VV')).get('bucketMeans'))\n",
    "    size = means.length().get([0])\n",
    "    mean = means.multiply(counts).reduce(ee.Reducer.sum(), [0]).get([0]).divide(counts.reduce(ee.Reducer.sum(), [0]).get([0]))\n",
    "    \n",
    "    indices = ee.List.sequence(1,size)\n",
    "    # Compute between sum of squares, where each mean partitions the data.\n",
    "    bss = indices.map(lambda i : sumSquare(i,histogram.get('VV'),counts,means,size,mean))\n",
    "    # Return the mean value corresponding to the maximum BSS.\n",
    "    return image.set({'th':means.sort(bss).get([-1])})"
   ]
  },
  {
   "cell_type": "code",
   "execution_count": null,
   "metadata": {
    "ExecuteTime": {
     "end_time": "2021-05-01T13:17:05.564865Z",
     "start_time": "2021-05-01T13:17:05.550731Z"
    }
   },
   "outputs": [],
   "source": [
    "# Temporal smoothing of every image given list of images to use for search and time window in days\n",
    "def TemporalSmoothing(image):\n",
    "    t0 = image.date()\n",
    "    tStart = t0.advance(-20, 'day')\n",
    "    tStop = t0.advance(20, 'day')\n",
    "    return aimages.filterDate(tStart, tStop).median().copyProperties(image).copyProperties(image, ['system:time_start'])\n",
    "\n",
    "# Compute surface water area by calling Otsu thresholding and taking darker mode\n",
    "def computeWaterArea(image):\n",
    "    water = image.lt(ee.Number(image.get('th')))\n",
    "    areas = water.selfMask().multiply(ee.Image.pixelArea()).divide(1e6).reduceRegion(**{\n",
    "        'reducer': ee.Reducer.sum(),\n",
    "        'geometry': aoi.geometry(),\n",
    "        'scale': 30,\n",
    "        'maxPixels': 1e14\n",
    "    })\n",
    "    return image.set({'area': areas})"
   ]
  },
  {
   "cell_type": "code",
   "execution_count": null,
   "metadata": {
    "ExecuteTime": {
     "end_time": "2021-05-01T13:17:08.401477Z",
     "start_time": "2021-05-01T13:17:05.784917Z"
    }
   },
   "outputs": [],
   "source": [
    "# get images\n",
    "aimages = ee.ImageCollection('COPERNICUS/S1_GRD') \\\n",
    "    .filterDate('2018-01-01','2019-01-01') \\\n",
    "    .filter(ee.Filter.listContains('transmitterReceiverPolarisation', 'VV')) \\\n",
    "    .filterBounds(aoi.geometry())\n",
    "print(aimages.size().getInfo())\n",
    "Map.addLayer(aimages.first(),{},'first')"
   ]
  },
  {
   "cell_type": "code",
   "execution_count": null,
   "metadata": {
    "ExecuteTime": {
     "end_time": "2021-05-01T13:17:08.647691Z",
     "start_time": "2021-05-01T13:17:08.633270Z"
    },
    "scrolled": true
   },
   "outputs": [],
   "source": [
    "# print(computeWaterArea(otsu(aimages.first())).get('area').getInfo())"
   ]
  },
  {
   "cell_type": "code",
   "execution_count": null,
   "metadata": {
    "ExecuteTime": {
     "end_time": "2021-05-01T13:17:16.443900Z",
     "start_time": "2021-05-01T13:17:16.419249Z"
    }
   },
   "outputs": [],
   "source": [
    "times = aimages.aggregate_array('system:time_start')\n",
    "imagesSmoothed = aimages.map(TemporalSmoothing)\n",
    "valuesRaw = aimages.select('VV').map(otsu).map(computeWaterArea).aggregate_array('area')\n",
    "valuesSmoothed = imagesSmoothed.select('VV').map(otsu).map(computeWaterArea).aggregate_array('area')\n",
    "\n",
    "# print(valuesRaw.getInfo())\n",
    "# print(valuesSmoothed.getInfo())"
   ]
  },
  {
   "cell_type": "code",
   "execution_count": null,
   "metadata": {
    "ExecuteTime": {
     "end_time": "2021-05-01T13:17:17.817234Z",
     "start_time": "2021-05-01T13:17:17.803023Z"
    }
   },
   "outputs": [],
   "source": [
    "def func_xsr(i):\n",
    "    q = ee.List(i).flatten()\n",
    "    return ee.Feature(None,{'time': q.get(0),'area': ee.Dictionary(q.get(1)).get('VV'),'area_smoothed': ee.Dictionary(q.get(2)).get('VV')})\n",
    "chartValues = times.zip(valuesRaw).zip(valuesSmoothed).map(func_xsr)"
   ]
  },
  {
   "cell_type": "code",
   "execution_count": null,
   "metadata": {},
   "outputs": [],
   "source": []
  },
  {
   "cell_type": "code",
   "execution_count": null,
   "metadata": {},
   "outputs": [],
   "source": []
  },
  {
   "cell_type": "code",
   "execution_count": null,
   "metadata": {
    "ExecuteTime": {
     "end_time": "2021-05-01T10:32:06.506157Z",
     "start_time": "2021-05-01T10:32:04.964454Z"
    }
   },
   "outputs": [],
   "source": [
    "print(ee.Date('2020-01-01').getInfo())\n",
    "print(ee.Date('2020-01-01').getInfo()['value'])"
   ]
  },
  {
   "cell_type": "code",
   "execution_count": null,
   "metadata": {
    "ExecuteTime": {
     "end_time": "2021-05-01T10:17:00.426487Z",
     "start_time": "2021-05-01T10:16:59.618851Z"
    },
    "scrolled": true
   },
   "outputs": [],
   "source": [
    "ab = ee.Feature(None,{'time': 0,'area': 1,'area_smoothed': 2})\n",
    "print(ab.getInfo())"
   ]
  },
  {
   "cell_type": "code",
   "execution_count": null,
   "metadata": {},
   "outputs": [],
   "source": []
  }
 ],
 "metadata": {
  "hide_input": false,
  "kernelspec": {
   "display_name": "Python 3",
   "language": "python",
   "name": "python3"
  },
  "language_info": {
   "codemirror_mode": {
    "name": "ipython",
    "version": 3
   },
   "file_extension": ".py",
   "mimetype": "text/x-python",
   "name": "python",
   "nbconvert_exporter": "python",
   "pygments_lexer": "ipython3",
   "version": "3.8.5"
  },
  "toc": {
   "base_numbering": 1,
   "nav_menu": {},
   "number_sections": true,
   "sideBar": true,
   "skip_h1_title": false,
   "title_cell": "Table of Contents",
   "title_sidebar": "Contents",
   "toc_cell": false,
   "toc_position": {},
   "toc_section_display": true,
   "toc_window_display": false
  },
  "varInspector": {
   "cols": {
    "lenName": 16,
    "lenType": 16,
    "lenVar": 40
   },
   "kernels_config": {
    "python": {
     "delete_cmd_postfix": "",
     "delete_cmd_prefix": "del ",
     "library": "var_list.py",
     "varRefreshCmd": "print(var_dic_list())"
    },
    "r": {
     "delete_cmd_postfix": ") ",
     "delete_cmd_prefix": "rm(",
     "library": "var_list.r",
     "varRefreshCmd": "cat(var_dic_list()) "
    }
   },
   "types_to_exclude": [
    "module",
    "function",
    "builtin_function_or_method",
    "instance",
    "_Feature"
   ],
   "window_display": false
  }
 },
 "nbformat": 4,
 "nbformat_minor": 4
}
