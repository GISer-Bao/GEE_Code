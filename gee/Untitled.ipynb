{
 "cells": [
  {
   "cell_type": "code",
   "execution_count": 1,
   "id": "0b889811",
   "metadata": {
    "ExecuteTime": {
     "end_time": "2022-04-08T02:55:16.961043Z",
     "start_time": "2022-04-08T02:55:16.944797Z"
    }
   },
   "outputs": [],
   "source": [
    "class CLanguage:\n",
    "    #类构造方法，也属于实例方法\n",
    "    def __init__(self):\n",
    "        self.name = \"C语言中文网\"\n",
    "        self.add = \"http://c.biancheng.net\"\n",
    "    # 下面定义了一个say实例方法\n",
    "    def say(self):\n",
    "        print(\"正在调用 say() 实例方法\")"
   ]
  },
  {
   "cell_type": "code",
   "execution_count": 2,
   "id": "3aa595b3",
   "metadata": {
    "ExecuteTime": {
     "end_time": "2022-04-08T02:55:17.256759Z",
     "start_time": "2022-04-08T02:55:17.242456Z"
    }
   },
   "outputs": [],
   "source": [
    "cl = CLanguage()\n"
   ]
  },
  {
   "cell_type": "code",
   "execution_count": 3,
   "id": "04147fdd",
   "metadata": {
    "ExecuteTime": {
     "end_time": "2022-04-08T02:55:17.523074Z",
     "start_time": "2022-04-08T02:55:17.513095Z"
    }
   },
   "outputs": [
    {
     "name": "stdout",
     "output_type": "stream",
     "text": [
      "<__main__.CLanguage object at 0x000001F3C5C16A60>\n"
     ]
    }
   ],
   "source": [
    "print(cl)"
   ]
  },
  {
   "cell_type": "code",
   "execution_count": 4,
   "id": "b445845e",
   "metadata": {
    "ExecuteTime": {
     "end_time": "2022-04-08T02:55:18.184768Z",
     "start_time": "2022-04-08T02:55:17.751955Z"
    }
   },
   "outputs": [
    {
     "ename": "ModuleNotFoundError",
     "evalue": "No module named 'utils'",
     "output_type": "error",
     "traceback": [
      "\u001b[1;31m---------------------------------------------------------------------------\u001b[0m",
      "\u001b[1;31mModuleNotFoundError\u001b[0m                       Traceback (most recent call last)",
      "Input \u001b[1;32mIn [4]\u001b[0m, in \u001b[0;36m<cell line: 1>\u001b[1;34m()\u001b[0m\n\u001b[1;32m----> 1\u001b[0m \u001b[38;5;28;01mfrom\u001b[39;00m \u001b[38;5;21;01mutils\u001b[39;00m\u001b[38;5;21;01m.\u001b[39;00m\u001b[38;5;21;01mdataset_2\u001b[39;00m \u001b[38;5;28;01mimport\u001b[39;00m BasicDataset\n",
      "\u001b[1;31mModuleNotFoundError\u001b[0m: No module named 'utils'"
     ]
    }
   ],
   "source": [
    "from utils.dataset_2 import BasicDataset"
   ]
  },
  {
   "cell_type": "code",
   "execution_count": 5,
   "id": "fd3528c9",
   "metadata": {
    "ExecuteTime": {
     "end_time": "2022-04-08T02:55:18.885443Z",
     "start_time": "2022-04-08T02:55:18.865461Z"
    }
   },
   "outputs": [
    {
     "ename": "ModuleNotFoundError",
     "evalue": "No module named 'train'",
     "output_type": "error",
     "traceback": [
      "\u001b[1;31m---------------------------------------------------------------------------\u001b[0m",
      "\u001b[1;31mModuleNotFoundError\u001b[0m                       Traceback (most recent call last)",
      "Input \u001b[1;32mIn [5]\u001b[0m, in \u001b[0;36m<cell line: 1>\u001b[1;34m()\u001b[0m\n\u001b[1;32m----> 1\u001b[0m \u001b[38;5;28;01mimport\u001b[39;00m \u001b[38;5;21;01mtrain\u001b[39;00m\n",
      "\u001b[1;31mModuleNotFoundError\u001b[0m: No module named 'train'"
     ]
    }
   ],
   "source": [
    "import train"
   ]
  },
  {
   "cell_type": "code",
   "execution_count": 6,
   "id": "00434453",
   "metadata": {
    "ExecuteTime": {
     "end_time": "2022-04-08T02:55:19.618486Z",
     "start_time": "2022-04-08T02:55:19.600160Z"
    }
   },
   "outputs": [
    {
     "name": "stdout",
     "output_type": "stream",
     "text": [
      "['C:\\\\Users\\\\DELL\\\\gee',\n",
      " 'D:\\\\ProgramData\\\\Anaconda3\\\\envs\\\\gee\\\\python38.zip',\n",
      " 'D:\\\\ProgramData\\\\Anaconda3\\\\envs\\\\gee\\\\DLLs',\n",
      " 'D:\\\\ProgramData\\\\Anaconda3\\\\envs\\\\gee\\\\lib',\n",
      " 'D:\\\\ProgramData\\\\Anaconda3\\\\envs\\\\gee',\n",
      " '',\n",
      " 'D:\\\\ProgramData\\\\Anaconda3\\\\envs\\\\gee\\\\lib\\\\site-packages',\n",
      " 'D:\\\\ProgramData\\\\Anaconda3\\\\envs\\\\gee\\\\lib\\\\site-packages\\\\win32',\n",
      " 'D:\\\\ProgramData\\\\Anaconda3\\\\envs\\\\gee\\\\lib\\\\site-packages\\\\win32\\\\lib',\n",
      " 'D:\\\\ProgramData\\\\Anaconda3\\\\envs\\\\gee\\\\lib\\\\site-packages\\\\Pythonwin']\n"
     ]
    }
   ],
   "source": [
    "import sys,pprint\n",
    "pprint.pprint(sys.path)"
   ]
  },
  {
   "cell_type": "code",
   "execution_count": null,
   "id": "676023e7",
   "metadata": {},
   "outputs": [],
   "source": []
  }
 ],
 "metadata": {
  "hide_input": false,
  "kernelspec": {
   "display_name": "Python 3 (ipykernel)",
   "language": "python",
   "name": "python3"
  },
  "language_info": {
   "codemirror_mode": {
    "name": "ipython",
    "version": 3
   },
   "file_extension": ".py",
   "mimetype": "text/x-python",
   "name": "python",
   "nbconvert_exporter": "python",
   "pygments_lexer": "ipython3",
   "version": "3.8.12"
  },
  "toc": {
   "base_numbering": 1,
   "nav_menu": {},
   "number_sections": true,
   "sideBar": true,
   "skip_h1_title": false,
   "title_cell": "Table of Contents",
   "title_sidebar": "Contents",
   "toc_cell": false,
   "toc_position": {},
   "toc_section_display": true,
   "toc_window_display": false
  },
  "varInspector": {
   "cols": {
    "lenName": 16,
    "lenType": 16,
    "lenVar": 40
   },
   "kernels_config": {
    "python": {
     "delete_cmd_postfix": "",
     "delete_cmd_prefix": "del ",
     "library": "var_list.py",
     "varRefreshCmd": "print(var_dic_list())"
    },
    "r": {
     "delete_cmd_postfix": ") ",
     "delete_cmd_prefix": "rm(",
     "library": "var_list.r",
     "varRefreshCmd": "cat(var_dic_list()) "
    }
   },
   "types_to_exclude": [
    "module",
    "function",
    "builtin_function_or_method",
    "instance",
    "_Feature"
   ],
   "window_display": false
  }
 },
 "nbformat": 4,
 "nbformat_minor": 5
}
