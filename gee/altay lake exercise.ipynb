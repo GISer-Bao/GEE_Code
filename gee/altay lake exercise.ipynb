{
 "cells": [
  {
   "cell_type": "code",
   "execution_count": 1,
   "metadata": {
    "ExecuteTime": {
     "end_time": "2021-10-12T02:06:54.264291Z",
     "start_time": "2021-10-12T02:06:54.259276Z"
    }
   },
   "outputs": [],
   "source": [
    "import os\n",
    "os.environ['HTTP_PROXY'] = \"http://127.0.0.1:10809\"\n",
    "os.environ['HTTPS_PROXY'] = \"http://127.0.0.1:10809\""
   ]
  },
  {
   "cell_type": "code",
   "execution_count": 2,
   "metadata": {
    "ExecuteTime": {
     "end_time": "2021-10-12T02:06:59.429146Z",
     "start_time": "2021-10-12T02:06:54.827911Z"
    },
    "scrolled": false
   },
   "outputs": [
    {
     "data": {
      "application/vnd.jupyter.widget-view+json": {
       "model_id": "920cb887347744e49106ca4aab833145",
       "version_major": 2,
       "version_minor": 0
      },
      "text/plain": [
       "Map(center=[40, -100], controls=(WidgetControl(options=['position', 'transparent_bg'], widget=HBox(children=(T…"
      ]
     },
     "metadata": {},
     "output_type": "display_data"
    }
   ],
   "source": [
    "import ee\n",
    "import geemap\n",
    "Map = geemap.Map()\n",
    "Map"
   ]
  },
  {
   "cell_type": "code",
   "execution_count": 3,
   "metadata": {
    "ExecuteTime": {
     "end_time": "2021-10-12T02:07:00.533950Z",
     "start_time": "2021-10-12T02:06:59.525857Z"
    }
   },
   "outputs": [],
   "source": [
    "# 设置研究区范围\n",
    "# Altay = ee.Geometry.Rectangle(85,46,94,51.5)\n",
    "Altay = ee.Geometry.Rectangle(92.5,47.5,93.5,48.5)\n",
    "Map.addLayer(Altay,{'opacity': 0.5},'Altay')\n",
    "Map.centerObject(Altay,6) \n",
    "\n",
    "roi = ee.Geometry.Point([93.19,48.07])\n",
    "Map.addLayer(roi,{}, 'point')"
   ]
  },
  {
   "cell_type": "code",
   "execution_count": 4,
   "metadata": {
    "ExecuteTime": {
     "end_time": "2021-10-12T02:07:00.642762Z",
     "start_time": "2021-10-12T02:07:00.627699Z"
    }
   },
   "outputs": [],
   "source": [
    "# 去云、云阴影、雪掩膜函数\n",
    "def maskL8sr(image):\n",
    "    cloudShadowBitMask = (1 << 3)\n",
    "    cloudsBitMask = (1 << 5)\n",
    "    snowBitMask = (1 << 4)   \n",
    "    qa = image.select('pixel_qa')\n",
    "    mask = qa.bitwiseAnd(cloudShadowBitMask).eq(0) \\\n",
    "                   .And(qa.bitwiseAnd(cloudsBitMask).eq(0)) \\\n",
    "                   .And(qa.bitwiseAnd(snowBitMask).eq(0))\n",
    "    return image.updateMask(mask)\n",
    "def maskL8sr2(image):\n",
    "    cloudShadowBitMask = (1 << 3)\n",
    "    cloudsBitMask = (1 << 5)  \n",
    "    qa = image.select('pixel_qa')\n",
    "    mask = qa.bitwiseAnd(cloudShadowBitMask).eq(0) \\\n",
    "                   .And(qa.bitwiseAnd(cloudsBitMask).eq(0))\n",
    "    return image.updateMask(mask)\n",
    "\n",
    "\n",
    "## 指数的计算\n",
    "def water_index(img):\n",
    "    image = img\n",
    "    ndvi=image.normalizedDifference(['B5', 'B4']).rename('NDVI')\n",
    "    ndwi=image.normalizedDifference(['B3', 'B5']).rename(\"NDWI\")\n",
    "    mndwi=image.normalizedDifference(['B3', 'B6']).rename(\"mNDWI\")\n",
    "    ndvi_mndwi = ndvi.subtract(mndwi).rename('ndvi_mndwi')\n",
    "    cwi=image.select('B3').divide(image.select('B6')).rename(\"CWI\")\n",
    "    awei = image.expression('B2 + 2.5*B3 - 1.5*(B5+B6) - 0.25*B7',\n",
    "        {\n",
    "          'B2': image.select('B2'),\n",
    "          'B3': image.select('B3'),    \n",
    "          'B5': image.select('B5'),    \n",
    "          'B6': image.select('B6'),\n",
    "          'B7': image.select('B7'),\n",
    "        }).rename('AWEI')\n",
    "    ewi = image.expression('(B3 - B5 - B6)/(B3 + B5 + B6)',\n",
    "        {\n",
    "          'B3': image.select('B3'),    \n",
    "          'B5': image.select('B5'),    \n",
    "          'B6': image.select('B6'),\n",
    "        }).rename('EWI')\n",
    "    evi = image.expression('2.5*(B5 - B4)/(B5 + 6*B4 - 7.5*B2 + 1)',\n",
    "        {\n",
    "          'B2': image.select('B2'),\n",
    "          'B4': image.select('B4'),\n",
    "          'B5': image.select('B5'),    \n",
    "        }).rename('EVI')\n",
    "    return image.addBands(ndvi).addBands(ndwi).addBands(mndwi).addBands(cwi).addBands(awei).addBands(ewi).addBands(evi).addBands(ndvi_mndwi)\n",
    "\n",
    "visParams = {'bands': ['B5', 'B4', 'B3'],'min': 0,'max': 3000,'gamma': 1.4}\n",
    "\n",
    "# AWEI(自动水体提取指数): AWEIsh = B2 + 2.5B3 - 1.5(B5+B6) - 0.25B7\n",
    "def AWEIsh(image):\n",
    "    awei = image.expression('B2 + 2.5*B3 - 1.5*(B5+B6) - 0.25*B7',\n",
    "        {\n",
    "          'B2': image.select('B2'),\n",
    "          'B3': image.select('B3'),    \n",
    "          'B5': image.select('B5'),    \n",
    "          'B6': image.select('B6'),\n",
    "          'B7': image.select('B7'),\n",
    "        }).rename('AWEI')\n",
    "    return image.addBands(awei)"
   ]
  },
  {
   "cell_type": "code",
   "execution_count": 14,
   "metadata": {
    "ExecuteTime": {
     "end_time": "2021-10-12T02:11:09.396585Z",
     "start_time": "2021-10-12T02:11:08.026735Z"
    }
   },
   "outputs": [
    {
     "name": "stdout",
     "output_type": "stream",
     "text": [
      "{'type': 'Image', 'bands': [{'id': 'B1', 'data_type': {'type': 'PixelType', 'precision': 'int', 'min': -32768, 'max': 32767}, 'dimensions': [7731, 7851], 'crs': 'EPSG:32646', 'crs_transform': [30, 0, 532785, 0, -30, 5531715]}, {'id': 'B2', 'data_type': {'type': 'PixelType', 'precision': 'int', 'min': -32768, 'max': 32767}, 'dimensions': [7731, 7851], 'crs': 'EPSG:32646', 'crs_transform': [30, 0, 532785, 0, -30, 5531715]}, {'id': 'B3', 'data_type': {'type': 'PixelType', 'precision': 'int', 'min': -32768, 'max': 32767}, 'dimensions': [7731, 7851], 'crs': 'EPSG:32646', 'crs_transform': [30, 0, 532785, 0, -30, 5531715]}, {'id': 'B4', 'data_type': {'type': 'PixelType', 'precision': 'int', 'min': -32768, 'max': 32767}, 'dimensions': [7731, 7851], 'crs': 'EPSG:32646', 'crs_transform': [30, 0, 532785, 0, -30, 5531715]}, {'id': 'B5', 'data_type': {'type': 'PixelType', 'precision': 'int', 'min': -32768, 'max': 32767}, 'dimensions': [7731, 7851], 'crs': 'EPSG:32646', 'crs_transform': [30, 0, 532785, 0, -30, 5531715]}, {'id': 'B6', 'data_type': {'type': 'PixelType', 'precision': 'int', 'min': -32768, 'max': 32767}, 'dimensions': [7731, 7851], 'crs': 'EPSG:32646', 'crs_transform': [30, 0, 532785, 0, -30, 5531715]}, {'id': 'B7', 'data_type': {'type': 'PixelType', 'precision': 'int', 'min': -32768, 'max': 32767}, 'dimensions': [7731, 7851], 'crs': 'EPSG:32646', 'crs_transform': [30, 0, 532785, 0, -30, 5531715]}, {'id': 'B10', 'data_type': {'type': 'PixelType', 'precision': 'int', 'min': -32768, 'max': 32767}, 'dimensions': [7731, 7851], 'crs': 'EPSG:32646', 'crs_transform': [30, 0, 532785, 0, -30, 5531715]}, {'id': 'B11', 'data_type': {'type': 'PixelType', 'precision': 'int', 'min': -32768, 'max': 32767}, 'dimensions': [7731, 7851], 'crs': 'EPSG:32646', 'crs_transform': [30, 0, 532785, 0, -30, 5531715]}, {'id': 'sr_aerosol', 'data_type': {'type': 'PixelType', 'precision': 'int', 'min': 0, 'max': 255}, 'dimensions': [7731, 7851], 'crs': 'EPSG:32646', 'crs_transform': [30, 0, 532785, 0, -30, 5531715]}, {'id': 'pixel_qa', 'data_type': {'type': 'PixelType', 'precision': 'int', 'min': 0, 'max': 65535}, 'dimensions': [7731, 7851], 'crs': 'EPSG:32646', 'crs_transform': [30, 0, 532785, 0, -30, 5531715]}, {'id': 'radsat_qa', 'data_type': {'type': 'PixelType', 'precision': 'int', 'min': 0, 'max': 65535}, 'dimensions': [7731, 7851], 'crs': 'EPSG:32646', 'crs_transform': [30, 0, 532785, 0, -30, 5531715]}], 'id': 'LANDSAT/LC08/C01/T1_SR/LC08_139026_20200312', 'version': 1585814688734267, 'properties': {'IMAGE_QUALITY_TIRS': 9, 'CLOUD_COVER': 4.11, 'EARTH_SUN_DISTANCE': 0.993679, 'LANDSAT_ID': 'LC08_L1TP_139026_20200312_20200325_01_T1', 'system:footprint': {'type': 'LinearRing', 'coordinates': [[95.87346978570281, 47.793060447566255], [95.88081225739107, 47.79170012446784], [95.8929855161986, 47.82094863147921], [95.9392632261316, 47.931943465479925], [96.12640609002297, 48.37565768785914], [96.44853422697837, 49.12039691167099], [96.58139497882846, 49.422391846121904], [96.60697240276892, 49.48039897946297], [96.61135993473624, 49.49044733661625], [96.61061134876822, 49.49098417297076], [95.96924138170584, 49.609091767606465], [94.34820811323146, 49.88948029048256], [94.13518447503424, 49.92441179966691], [94.11275939453152, 49.92804832563768], [94.11039012264813, 49.922294366026186], [93.46426534973725, 48.22322209647709], [93.46503049177677, 48.22270451354821], [93.47514720307956, 48.22097037769012], [95.27124115892217, 47.90587700708993], [95.6824086489513, 47.8292451799041], [95.87346978570281, 47.793060447566255]]}, 'CLOUD_COVER_LAND': 4.11, 'GEOMETRIC_RMSE_MODEL': 8.773, 'SR_APP_VERSION': 'LaSRC_1.3.0', 'SATELLITE': 'LANDSAT_8', 'SOLAR_AZIMUTH_ANGLE': 155.402283, 'IMAGE_QUALITY_OLI': 9, 'system:time_end': 1583987394018, 'WRS_PATH': 139, 'system:time_start': 1583987394018, 'SENSING_TIME': '2020-03-12T04:29:54.0184699Z', 'ESPA_VERSION': '2_23_0_1b', 'SOLAR_ZENITH_ANGLE': 54.821808, 'WRS_ROW': 26, 'GEOMETRIC_RMSE_MODEL_Y': 6.16, 'LEVEL1_PRODUCTION_DATE': 1585157807000, 'GEOMETRIC_RMSE_MODEL_X': 6.247, 'system:asset_size': 694108491, 'PIXEL_QA_VERSION': 'generate_pixel_qa_1.6.0', 'system:index': 'LC08_139026_20200312'}}\n"
     ]
    }
   ],
   "source": [
    "landsat_images = ee.ImageCollection('LANDSAT/LC08/C01/T1_SR') \\\n",
    "    .filterBounds(Altay) \\\n",
    "    .filterDate('2020-03-01', '2020-12-31')\n",
    "altay_landsat = landsat_images.first()\n",
    "print(altay_landsat.getInfo())\n",
    "Map.addLayer(altay_landsat,visParams,'altay landsat image')\n",
    "# 使用AWEI进行计算\n",
    "altay_water = AWEIsh(altay_landsat).select('AWEI').gt(0).selfMask()\n",
    "Map.addLayer(altay_water,{'palette':['blue']},'altay water')"
   ]
  },
  {
   "cell_type": "code",
   "execution_count": 5,
   "metadata": {
    "ExecuteTime": {
     "end_time": "2021-10-12T02:07:06.434046Z",
     "start_time": "2021-10-12T02:07:00.751220Z"
    }
   },
   "outputs": [
    {
     "name": "stdout",
     "output_type": "stream",
     "text": [
      "初始的样本数：  4952\n",
      "筛选后，剩余的样本数：  4920\n"
     ]
    }
   ],
   "source": [
    "# # 加载样本集,PearlRiverDeltanew2020_l78,TibetPlateau_new2020_l78,daqing_new2020_l78,tianjin_new2020_l78,wuhan_new2020_l78\n",
    "samples = ee.FeatureCollection('users/311605001111/wuhan_tibetan/wuhan_2020')\n",
    "print(\"初始的样本数： \",samples.size().getInfo())\n",
    "\n",
    "bands = ['B2', 'B3', 'B4', 'B5', 'B6', 'B7','NDVI','NDWI','mNDWI','CWI','AWEI','EWI','EVI']\n",
    "# cluster与waterclass的对比\n",
    "def Compare(feature):\n",
    "    cluster = ee.Number(feature.get('cluster'))\n",
    "    waterclass = ee.Number(feature.get('waterclass'))\n",
    "    ft = ee.Algorithms.If(cluster.eq(waterclass),feature.set({'eq':1}),feature.set({'eq':0}))\n",
    "    return ft\n",
    "# k-mean聚类\n",
    "def k_mean(sampleSET):\n",
    "    clusterer = ee.Clusterer.wekaKMeans(2).train(sampleSET,bands)\n",
    "    result = sampleSET.cluster(clusterer)\n",
    "    right = result.map(Compare).filter(ee.Filter.eq('eq',0))\n",
    "    error = result.map(Compare).filter(ee.Filter.eq('eq',1))\n",
    "    filtered_sample = ee.FeatureCollection(ee.Algorithms.If(right.size().gt(error.size()),right,error))\n",
    "    return filtered_sample\n",
    "\n",
    "filtered_samples = k_mean(samples)\n",
    "print(\"筛选后，剩余的样本数： \",filtered_samples.size().getInfo())\n",
    "\n",
    "# RandomForest预测使用的波段，分类标签\n",
    "label = 'waterclass'\n",
    "bands = ['B2', 'B3', 'B4', 'B5', 'B6', 'B7','NDVI','NDWI','mNDWI','CWI','AWEI','EWI','EVI']\n",
    "\n",
    "trainedClassifier = ee.Classifier.smileRandomForest(20).train(filtered_samples,label,bands)"
   ]
  },
  {
   "cell_type": "code",
   "execution_count": 15,
   "metadata": {
    "ExecuteTime": {
     "end_time": "2021-10-12T02:11:20.939613Z",
     "start_time": "2021-10-12T02:11:19.483670Z"
    }
   },
   "outputs": [],
   "source": [
    "image = water_index(ee.Image('LANDSAT/LC08/C01/T1_SR/LC08_139026_20200312'))\n",
    "Map.addLayer(image, visParams,'image')\n",
    "\n",
    "image_mask2 = maskL8sr2(image)\n",
    "Map.addLayer(image_mask2, visParams,'image_mask2')\n",
    "\n",
    "image_mask = maskL8sr(image)\n",
    "Map.addLayer(image_mask, visParams,'image_mask')\n"
   ]
  },
  {
   "cell_type": "code",
   "execution_count": 16,
   "metadata": {
    "ExecuteTime": {
     "end_time": "2021-10-12T02:11:31.610128Z",
     "start_time": "2021-10-12T02:11:21.563687Z"
    }
   },
   "outputs": [],
   "source": [
    "classify_image2 = image_mask2.select(bands).classify(trainedClassifier).eq(1)\n",
    "Map.addLayer(classify_image2,{'palette':['white','green'],'min':0,'max':1},\"classify_image2\")\n",
    "\n",
    "classify_image = image_mask.select(bands).classify(trainedClassifier).eq(1)\n",
    "Map.addLayer(classify_image,{'palette':['white','green'],'min':0,'max':1},\"classify_image\")"
   ]
  },
  {
   "cell_type": "code",
   "execution_count": null,
   "metadata": {},
   "outputs": [],
   "source": []
  },
  {
   "cell_type": "code",
   "execution_count": null,
   "metadata": {
    "ExecuteTime": {
     "end_time": "2021-02-04T09:28:22.595400Z",
     "start_time": "2021-02-04T09:28:22.137412Z"
    },
    "scrolled": false
   },
   "outputs": [],
   "source": [
    "water_vector = altay_water.reduceToVectors(scale=30, maxPixels=1000000000)\n",
    "Map.addLayer(ee.Image().paint(water_vector, 0, 2), {'palette': 'yellow'}, 'water')\n",
    "# print(water_vector.size().getInfo())"
   ]
  },
  {
   "cell_type": "code",
   "execution_count": null,
   "metadata": {
    "ExecuteTime": {
     "end_time": "2021-02-04T09:28:24.630420Z",
     "start_time": "2021-02-04T09:28:24.166341Z"
    }
   },
   "outputs": [],
   "source": [
    "# 过滤产生特定位置的湖泊\n",
    "altay_lake = water_vector.filterBounds(roi)\n",
    "# print(altay_lake.size().getInfo())\n",
    "Map.addLayer(altay_lake,{},'altay Lake')\n",
    "# 使用上一步得到的矢量，裁剪影像\n",
    "altay_lake_grid = altay_water.clip(altay_lake)\n",
    "Map.addLayer(altay_lake_grid,{'palette':['red']},'altay lake grid')"
   ]
  },
  {
   "cell_type": "code",
   "execution_count": null,
   "metadata": {
    "ExecuteTime": {
     "end_time": "2021-02-04T09:29:08.446594Z",
     "start_time": "2021-02-04T09:29:08.440584Z"
    }
   },
   "outputs": [],
   "source": [
    "# 定义计算面积的函数\n",
    "def calculate_area(feature):\n",
    "    return feature.set({'area': feature.geometry().area(1).divide(1e6)})\n",
    "altay_waterarea = altay_lake.map(calculate_area)"
   ]
  },
  {
   "cell_type": "code",
   "execution_count": null,
   "metadata": {
    "ExecuteTime": {
     "end_time": "2021-02-04T09:29:13.321089Z",
     "start_time": "2021-02-04T09:29:11.069790Z"
    },
    "scrolled": true
   },
   "outputs": [],
   "source": [
    "print(altay_waterarea.first().propertyNames().getInfo())\n",
    "\n",
    "print(altay_waterarea.first().get('area').getInfo())\n",
    "\n",
    "areas = altay_waterarea.aggregate_array('area')\n",
    "print(areas.getInfo())"
   ]
  },
  {
   "cell_type": "code",
   "execution_count": null,
   "metadata": {
    "ExecuteTime": {
     "end_time": "2021-02-04T02:23:33.471111Z",
     "start_time": "2021-02-04T02:23:32.806201Z"
    }
   },
   "outputs": [],
   "source": [
    "# 下载到谷歌硬盘上\n",
    "prop = ['area','count', 'label']\n",
    "geemap.ee_export_vector_to_drive(altay_waterarea,description='altay201805',folder = 'altay',file_format='shp',selectors=prop)"
   ]
  },
  {
   "cell_type": "code",
   "execution_count": null,
   "metadata": {
    "ExecuteTime": {
     "start_time": "2021-02-04T03:05:04.769Z"
    }
   },
   "outputs": [],
   "source": [
    "# 下载到本地\n",
    "proper = ['label']\n",
    "out_dir = os.path.join(os.path.expanduser('~'), 'Downloads')\n",
    "filename = os.path.join(out_dir, 'altay.shp')\n",
    "geemap.ee_export_vector(altay_lake,filename=filename,selectors=proper)"
   ]
  },
  {
   "cell_type": "code",
   "execution_count": null,
   "metadata": {},
   "outputs": [],
   "source": []
  },
  {
   "cell_type": "code",
   "execution_count": null,
   "metadata": {
    "ExecuteTime": {
     "end_time": "2021-02-02T02:32:15.010641Z",
     "start_time": "2021-02-02T02:32:14.415208Z"
    }
   },
   "outputs": [],
   "source": [
    "def calculate_area(feature):\n",
    "    return feature.set({'area': feature.geometry().area(1).divide(1e6)})\n",
    "altay_waterarea = water_vector.map(calculate_area).filter(ee.Filter.gte('area',20))\n",
    "altay_lake = altay_waterarea.filterBounds(roi)\n",
    "Map.addLayer(altay_lake,{},'altay Lake')"
   ]
  },
  {
   "cell_type": "code",
   "execution_count": null,
   "metadata": {
    "ExecuteTime": {
     "end_time": "2021-02-02T02:15:12.051906Z",
     "start_time": "2021-02-02T02:15:11.979102Z"
    }
   },
   "outputs": [],
   "source": [
    "# 计算筛选后的湖泊面积总和\n",
    "print(altay_waterarea.aggregate_sum('area').getInfo())"
   ]
  },
  {
   "cell_type": "code",
   "execution_count": null,
   "metadata": {
    "ExecuteTime": {
     "end_time": "2021-01-29T11:05:34.781100Z",
     "start_time": "2021-01-29T11:05:32.681398Z"
    }
   },
   "outputs": [],
   "source": [
    "geemap.ee_export_vector_to_drive(altay_waterarea,description='altay201805',folder = 'altay',file_format='shp',selectors=prop)"
   ]
  },
  {
   "cell_type": "code",
   "execution_count": null,
   "metadata": {},
   "outputs": [],
   "source": []
  },
  {
   "cell_type": "code",
   "execution_count": null,
   "metadata": {
    "ExecuteTime": {
     "end_time": "2021-02-10T08:58:12.132685Z",
     "start_time": "2021-02-10T08:58:02.049696Z"
    }
   },
   "outputs": [],
   "source": [
    "from matplotlib import pyplot as plt\n",
    "import numpy as np\n",
    "import matplotlib\n",
    "from geemap import cartoee\n",
    "\n",
    "region = [85,46,94,51.5] \n",
    "vis = {'bands': ['AWEI'], 'palette': ['blue'], 'min': 0.0, 'max': 1.0, 'opacity': 1.0}\n",
    "fig = plt.figure(figsize=(12, 8))\n",
    "# use cartoee to get a map\n",
    "ax = cartoee.get_map(altay_water, region=region, vis_params=vis)\n",
    "# add gridlines to the map at a specified interval\n",
    "cartoee.add_gridlines(ax, interval=[1,1], linestyle=\":\")\n",
    "ax.set_title(label = 'altay lake in 2018/05', fontsize=20)"
   ]
  }
 ],
 "metadata": {
  "hide_input": false,
  "kernelspec": {
   "display_name": "Python 3 (ipykernel)",
   "language": "python",
   "name": "python3"
  },
  "language_info": {
   "codemirror_mode": {
    "name": "ipython",
    "version": 3
   },
   "file_extension": ".py",
   "mimetype": "text/x-python",
   "name": "python",
   "nbconvert_exporter": "python",
   "pygments_lexer": "ipython3",
   "version": "3.8.5"
  },
  "toc": {
   "base_numbering": 1,
   "nav_menu": {},
   "number_sections": true,
   "sideBar": true,
   "skip_h1_title": false,
   "title_cell": "Table of Contents",
   "title_sidebar": "Contents",
   "toc_cell": false,
   "toc_position": {},
   "toc_section_display": true,
   "toc_window_display": false
  },
  "varInspector": {
   "cols": {
    "lenName": 16,
    "lenType": 16,
    "lenVar": 40
   },
   "kernels_config": {
    "python": {
     "delete_cmd_postfix": "",
     "delete_cmd_prefix": "del ",
     "library": "var_list.py",
     "varRefreshCmd": "print(var_dic_list())"
    },
    "r": {
     "delete_cmd_postfix": ") ",
     "delete_cmd_prefix": "rm(",
     "library": "var_list.r",
     "varRefreshCmd": "cat(var_dic_list()) "
    }
   },
   "types_to_exclude": [
    "module",
    "function",
    "builtin_function_or_method",
    "instance",
    "_Feature"
   ],
   "window_display": false
  }
 },
 "nbformat": 4,
 "nbformat_minor": 4
}
