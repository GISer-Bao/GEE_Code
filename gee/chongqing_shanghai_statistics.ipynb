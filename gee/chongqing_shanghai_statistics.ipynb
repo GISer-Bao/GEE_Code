{
 "cells": [
  {
   "cell_type": "code",
   "execution_count": 1,
   "id": "321621f3",
   "metadata": {
    "ExecuteTime": {
     "end_time": "2022-01-04T13:33:42.111589Z",
     "start_time": "2022-01-04T13:33:42.096629Z"
    }
   },
   "outputs": [],
   "source": [
    "import os\n",
    "os.environ['HTTP_PROXY'] = \"http://127.0.0.1:10809\"\n",
    "os.environ['HTTPS_PROXY'] = \"http://127.0.0.1:10809\""
   ]
  },
  {
   "cell_type": "code",
   "execution_count": 2,
   "id": "2ae3b9e9",
   "metadata": {
    "ExecuteTime": {
     "end_time": "2022-01-04T13:33:46.042812Z",
     "start_time": "2022-01-04T13:33:42.545771Z"
    }
   },
   "outputs": [
    {
     "data": {
      "application/vnd.jupyter.widget-view+json": {
       "model_id": "b9f8ec9410544c148ae092649b4c8d34",
       "version_major": 2,
       "version_minor": 0
      },
      "text/plain": [
       "Map(center=[20, 0], controls=(WidgetControl(options=['position', 'transparent_bg'], widget=HBox(children=(Togg…"
      ]
     },
     "metadata": {},
     "output_type": "display_data"
    }
   ],
   "source": [
    "import geemap\n",
    "import ee\n",
    "Map=geemap.Map()\n",
    "Map"
   ]
  },
  {
   "cell_type": "code",
   "execution_count": 3,
   "id": "dd027751",
   "metadata": {
    "ExecuteTime": {
     "end_time": "2022-01-04T13:33:47.082883Z",
     "start_time": "2022-01-04T13:33:46.073700Z"
    }
   },
   "outputs": [],
   "source": [
    "# a1 = ee.FeatureCollection(\"users/311605001111/region/YangtzeRiver\")\n",
    "# a2 = ee.Geometry.LineString([[119.613014, 32.190599], [119.636902, 32.197143], [119.670852, 32.218884], [119.675845, 32.222581], [119.683646, 32.250301], [119.715476, 32.29701], [119.726085, 32.298065], [119.760099, 32.320751], [119.800041, 32.317586], [119.838735, 32.295427], [119.872558, 32.264089], [119.892529, 32.189104], [119.918117, 32.097138], [119.951042, 32.043468], [119.998474, 31.98101], [120.089592, 31.951354], [120.171974, 31.933345], [120.248114, 31.936523], [120.344225, 31.979951], [120.474038, 32.045584], [120.582632, 32.00748], [120.712445, 32.015949], [120.811052, 31.973597], [120.864725, 31.880354], [120.880952, 31.839], [120.918398, 31.822029], [120.955844, 31.783832]])\n",
    "# river = a1.geometry().union(a2)\n",
    "# Map.addLayer(river, {}, \"river\")\n",
    "\n",
    "# roi = river.buffer(8000)\n",
    "# Map.addLayer(roi, {}, \"roi\")\n",
    "# Map.centerObject(roi,7)\n",
    "\n",
    "roi = ee.FeatureCollection('users/311605001111/region/donghu')\n",
    "# roi = ee.FeatureCollection('users/311605001111/region/liangzihu')\n",
    "Map.addLayer(roi, {}, \"roi\")\n",
    "Map.centerObject(roi,10)"
   ]
  },
  {
   "cell_type": "markdown",
   "id": "03b5db18",
   "metadata": {},
   "source": [
    "# l8+l7"
   ]
  },
  {
   "cell_type": "markdown",
   "id": "80861767",
   "metadata": {
    "heading_collapsed": true
   },
   "source": [
    "## 相关函数"
   ]
  },
  {
   "cell_type": "code",
   "execution_count": null,
   "id": "14bc0caa",
   "metadata": {
    "ExecuteTime": {
     "end_time": "2021-12-31T07:59:23.339915Z",
     "start_time": "2021-12-31T07:59:23.324945Z"
    },
    "hidden": true
   },
   "outputs": [],
   "source": [
    "# 移除无效像元\n",
    "def maskSR(img):\n",
    "    cloudShadowBitMask = (1 << 3)\n",
    "    cloudsBitMask = (1 << 5) \n",
    "    qa = img.select('pixel_qa')\n",
    "    mask = qa.bitwiseAnd(cloudShadowBitMask).eq(0) \\\n",
    "                   .And(qa.bitwiseAnd(cloudsBitMask).eq(0))\n",
    "    return img.updateMask(mask)\n",
    "def maskSR_reverse(img):\n",
    "    cloudShadowBitMask = (1 << 3)\n",
    "    cloudsBitMask = (1 << 5)  \n",
    "    qa = img.select('pixel_qa')\n",
    "    mask = qa.bitwiseAnd(cloudShadowBitMask).eq(0) \\\n",
    "                   .And(qa.bitwiseAnd(cloudsBitMask).eq(0))\n",
    "    image_cloud = img.updateMask(mask.remap([0,1],[1,0]))\n",
    "    return image_cloud\n",
    "\n",
    "## 指数的计算\n",
    "def water_index(img):\n",
    "    image = img.clip(roi)\n",
    "    mndwi=image.normalizedDifference(['B3', 'B6']).rename(\"mNDWI\")\n",
    "    awei = image.expression('B2 + 2.5*B3 - 1.5*(B5+B6) - 0.25*B7',\n",
    "        {\n",
    "          'B2': image.select('B2'),\n",
    "          'B3': image.select('B3'),    \n",
    "          'B5': image.select('B5'),    \n",
    "          'B6': image.select('B6'),\n",
    "          'B7': image.select('B7'),\n",
    "        }).rename('AWEI')\n",
    "\n",
    "    return image.addBands(mndwi).addBands(awei)"
   ]
  },
  {
   "cell_type": "code",
   "execution_count": null,
   "id": "cdcbc7d0",
   "metadata": {
    "ExecuteTime": {
     "end_time": "2021-12-31T07:59:23.496797Z",
     "start_time": "2021-12-31T07:59:23.482674Z"
    },
    "hidden": true
   },
   "outputs": [],
   "source": [
    "def cal_cloud(image):\n",
    "    img = image.clip(roi)\n",
    "    validPixel = maskSR(img).select('pixel_qa').gt(0).rename('waterclass').float()\n",
    "    invalidPixel = maskSR_reverse(img).select('pixel_qa').gt(0).remap([0,1],[1,0]).rename('waterclass').float()\n",
    "    class_image = ee.ImageCollection([invalidPixel,validPixel]).sum()\n",
    "    invalidPixels = class_image.eq(0).multiply(ee.Image.pixelArea()).divide(1e6)\n",
    "    invalidarea = invalidPixels.reduceRegion(**{'reducer': ee.Reducer.sum(),'geometry': roi,'scale': 200,'maxPixels': 1e14,'tileScale': 2}).get('waterclass')\n",
    "    region = class_image.gte(0).multiply(ee.Image.pixelArea()).divide(1e6)\n",
    "    regionarea = region.reduceRegion(**{'reducer': ee.Reducer.sum(),'geometry': roi,'scale': 200,'maxPixels': 1e14,'tileScale': 2}).get('waterclass')\n",
    "    rate = ee.Number(invalidarea).divide(ee.Number(regionarea)).multiply(100)\n",
    "    return img.set({'Clouds_on_water':rate})\n",
    "\n",
    "def add_property(image):\n",
    "    point = ee.Feature(ee.Geometry.Point([115.75820104148457, 29.251481709867686]))\n",
    "    point = point.set({'id': image.get('system:index')})\n",
    "    point = point.set({'time': ee.Date(image.get('system:time_start')).format('YYYY-MM-dd')})\n",
    "    point = point.set({'row': image.get('WRS_ROW')})\n",
    "    point = point.set({'path': image.get('WRS_PATH')})\n",
    "    point = point.set({'Clouds_on_water': image.get('Clouds_on_water')})\n",
    "    return point"
   ]
  },
  {
   "cell_type": "markdown",
   "id": "ecf50186",
   "metadata": {
    "heading_collapsed": true
   },
   "source": [
    "##  landsat8"
   ]
  },
  {
   "cell_type": "code",
   "execution_count": null,
   "id": "ede794e5",
   "metadata": {
    "ExecuteTime": {
     "end_time": "2021-12-31T07:59:29.714975Z",
     "start_time": "2021-12-31T07:59:23.642229Z"
    },
    "hidden": true
   },
   "outputs": [],
   "source": [
    "NAME = 'DONGHU'\n",
    "for year in range(2013,2022,1):\n",
    "    print(year)\n",
    "    startDate = str(year) + '-01-01'\n",
    "    endDate = str(year) + '-12-31'\n",
    "    landsat_images = ee.ImageCollection('LANDSAT/LC08/C01/T1_SR').filterBounds(roi).filterDate(startDate,endDate)\n",
    "    filter_images = ee.FeatureCollection(landsat_images.map(cal_cloud).filter(ee.Filter.lt('Clouds_on_water',50)).map(add_property))\n",
    "    dataset_id = NAME + '_landsat8_' + str(year)\n",
    "    assetID = 'users/311605001111/' + dataset_id\n",
    "    task = ee.batch.Export.table.toAsset(**{\n",
    "        'collection': filter_images,\n",
    "        'description': dataset_id,\n",
    "        'assetId': assetID\n",
    "    })\n",
    "    task.start()"
   ]
  },
  {
   "cell_type": "code",
   "execution_count": null,
   "id": "0eff19a8",
   "metadata": {
    "ExecuteTime": {
     "end_time": "2021-12-31T08:03:38.623419Z",
     "start_time": "2021-12-31T08:03:36.556967Z"
    },
    "hidden": true
   },
   "outputs": [],
   "source": [
    "NAME = 'DONGHU'\n",
    "for year in range(2021,2022,1):\n",
    "    dataset_id = 'users/311605001111/'+ NAME + '_landsat8_' + str(year)\n",
    "    points = ee.FeatureCollection(dataset_id)\n",
    "    geemap.ee_to_csv(points, NAME + '_landsat8_{}.csv'.format(year))"
   ]
  },
  {
   "cell_type": "markdown",
   "id": "dc1732ac",
   "metadata": {
    "heading_collapsed": true
   },
   "source": [
    "##  landsat7"
   ]
  },
  {
   "cell_type": "code",
   "execution_count": null,
   "id": "11678053",
   "metadata": {
    "ExecuteTime": {
     "end_time": "2021-12-02T11:25:19.404746Z",
     "start_time": "2021-12-02T11:25:14.172519Z"
    },
    "hidden": true
   },
   "outputs": [],
   "source": [
    "for year in range(2014,2022,1):\n",
    "    print(year)\n",
    "    startDate = str(year) + '-01-01'\n",
    "    endDate = str(year) + '-12-31'\n",
    "    landsat_images = ee.ImageCollection('LANDSAT/LE07/C01/T1_SR').filterBounds(roi).filterDate(startDate,endDate)\n",
    "    filter_images = ee.FeatureCollection(landsat_images.map(cal_cloud).filter(ee.Filter.lt('Clouds_on_water',5)).map(add_property))\n",
    "    dataset_id = 'CHONGQING_SHANGHAI_landsat7_' + str(year)\n",
    "    assetID = 'users/311605001111/' + dataset_id\n",
    "    task = ee.batch.Export.table.toAsset(**{\n",
    "        'collection': filter_images,\n",
    "        'description': dataset_id,\n",
    "        'assetId': assetID\n",
    "    })\n",
    "    task.start()"
   ]
  },
  {
   "cell_type": "code",
   "execution_count": null,
   "id": "d90b905a",
   "metadata": {
    "ExecuteTime": {
     "end_time": "2021-12-02T12:35:45.664334Z",
     "start_time": "2021-12-02T12:35:29.087462Z"
    },
    "hidden": true
   },
   "outputs": [],
   "source": [
    "for year in range(2014,2022,1):\n",
    "    dataset_id = 'users/311605001111/CHONGQING_SHANGHAI_landsat7_' + str(year)\n",
    "    points = ee.FeatureCollection(dataset_id)\n",
    "    geemap.ee_to_csv(points,'CHONGQING_SHANGHAI_landsat7_{}.csv'.format(year))"
   ]
  },
  {
   "cell_type": "markdown",
   "id": "726be632",
   "metadata": {},
   "source": [
    "# sentinel_2"
   ]
  },
  {
   "cell_type": "code",
   "execution_count": null,
   "id": "3d62ee59",
   "metadata": {
    "ExecuteTime": {
     "end_time": "2022-01-04T13:30:35.774526Z",
     "start_time": "2022-01-04T13:30:35.761563Z"
    }
   },
   "outputs": [],
   "source": [
    "def maskS2clouds(image):\n",
    "    qa = image.select('QA60')\n",
    "    cloudBitMask = 1 << 10\n",
    "    cirrusBitMask = 1 << 11\n",
    "    mask = qa.bitwiseAnd(cloudBitMask).eq(0).And(qa.bitwiseAnd(cirrusBitMask).eq(0))\n",
    "    return image.updateMask(mask)\n",
    "def maskS2clouds_reverse(image):\n",
    "    qa = image.select('QA60')\n",
    "    cloudBitMask = 1 << 10\n",
    "    cirrusBitMask = 1 << 11\n",
    "    mask = qa.bitwiseAnd(cloudBitMask).eq(0).And(qa.bitwiseAnd(cirrusBitMask).eq(0))\n",
    "    return image.updateMask(mask.remap([0,1],[1,0]))\n",
    "def cal_cloud_s2(image):\n",
    "    img = image.clip(roi)\n",
    "    validPixel = maskS2clouds(img).select('B2').gt(0).rename('waterclass').float()\n",
    "    invalidPixel = maskS2clouds_reverse(img).select('B2').gt(0).remap([0,1],[1,0]).rename('waterclass').float()\n",
    "    class_image = ee.ImageCollection([invalidPixel,validPixel]).sum()\n",
    "    invalidPixels = class_image.eq(0).multiply(ee.Image.pixelArea()).divide(1e6)\n",
    "    invalidarea = invalidPixels.reduceRegion(**{'reducer': ee.Reducer.sum(),'geometry': roi,'scale': 200,'maxPixels': 1e14,'tileScale': 2}).get('waterclass')\n",
    "    region = class_image.gte(0).multiply(ee.Image.pixelArea()).divide(1e6)\n",
    "    regionarea = region.reduceRegion(**{'reducer': ee.Reducer.sum(),'geometry': roi,'scale': 200,'maxPixels': 1e14,'tileScale': 2}).get('waterclass')\n",
    "    rate = ee.Number(invalidarea).divide(ee.Number(regionarea)).multiply(100)\n",
    "    return img.set({'Clouds_on_water':rate})\n",
    "def add_property_s2(image):\n",
    "    point = ee.Feature(ee.Geometry.Point([115.75820104148457, 29.251481709867686]))\n",
    "    point = point.set({'id': image.get('id')})\n",
    "    point = point.set({'time': ee.Date(image.get('system:time_start')).format('YYYY-MM-dd')})\n",
    "    point = point.set({'satellite name': image.get('SPACECRAFT_NAME')})\n",
    "    point = point.set({'product_id': image.get('PRODUCT_ID')})\n",
    "    point = point.set({'mgrs_tile': image.get('MGRS_TILE')})\n",
    "    point = point.set({'Clouds_on_water': image.get('Clouds_on_water')})\n",
    "    point = point.set({'CLOUD_COVERAGE_ASSESSMENT': image.get('CLOUD_COVERAGE_ASSESSMENT')})\n",
    "    return point"
   ]
  },
  {
   "cell_type": "code",
   "execution_count": null,
   "id": "595087d0",
   "metadata": {
    "ExecuteTime": {
     "end_time": "2021-12-11T02:36:51.279474Z",
     "start_time": "2021-12-11T02:36:49.574858Z"
    }
   },
   "outputs": [],
   "source": [
    "# sentinel_images = ee.ImageCollection('COPERNICUS/S2_SR').filterBounds(roi).filterDate('2020-01-01', '2020-12-31')\n",
    "# visualization = {'min': 0,'max': 5000,'bands': ['B8', 'B4', 'B3']}\n",
    "# Map.addLayer(sentinel_images.map(maskS2clouds).median(), visualization, 'RGB')"
   ]
  },
  {
   "cell_type": "code",
   "execution_count": null,
   "id": "f0a2e831",
   "metadata": {
    "ExecuteTime": {
     "end_time": "2022-01-04T13:30:59.509750Z",
     "start_time": "2022-01-04T13:30:58.511848Z"
    }
   },
   "outputs": [],
   "source": [
    "# for year in range(2015,2022,1):\n",
    "#     print(year)\n",
    "#     startDate = str(year) + '-01-01'\n",
    "#     endDate = str(year) + '-12-31'\n",
    "#     sentinel_images = ee.ImageCollection('COPERNICUS/S2').filterBounds(roi).filterDate(startDate,endDate)\n",
    "#     filter_images = ee.FeatureCollection(sentinel_images.map(cal_cloud_s2).filter(ee.Filter.lt('Clouds_on_water',5)).map(add_property_s2))\n",
    "#     dataset_id = 'CHONGQING_SHANGHAI_sentinel2_' + str(year)\n",
    "#     assetID = 'users/311605001111/' + dataset_id\n",
    "#     task = ee.batch.Export.table.toAsset(**{\n",
    "#         'collection': filter_images,\n",
    "#         'description': dataset_id,\n",
    "#         'assetId': assetID\n",
    "#     })\n",
    "#     task.start()\n",
    "for year in range(2018,2019,1):\n",
    "    print(year)\n",
    "    startDate = str(year) + '-01-01'\n",
    "    endDate = str(year) + '-12-31'\n",
    "    sentinel_images = ee.ImageCollection('COPERNICUS/S2').filterBounds(roi).filterDate(startDate,endDate)\n",
    "    filter_images = ee.FeatureCollection(sentinel_images.map(cal_cloud_s2).map(add_property_s2))\n",
    "    dataset_id = 'LIANGZIHU_sentinel2_' + str(year)\n",
    "    assetID = 'users/311605001111/' + dataset_id\n",
    "    task = ee.batch.Export.table.toAsset(**{\n",
    "        'collection': filter_images,\n",
    "        'description': dataset_id,\n",
    "        'assetId': assetID\n",
    "    })\n",
    "    task.start()"
   ]
  },
  {
   "cell_type": "code",
   "execution_count": null,
   "id": "bece935e",
   "metadata": {
    "ExecuteTime": {
     "end_time": "2022-01-04T13:33:13.281896Z",
     "start_time": "2022-01-04T13:33:10.631759Z"
    }
   },
   "outputs": [],
   "source": [
    "NAME = 'LIANGZIHU'\n",
    "for year in range(2018,2019,1):\n",
    "    dataset_id = 'users/311605001111/' + NAME + '_sentinel2_' + str(year)\n",
    "    points = ee.FeatureCollection(dataset_id)\n",
    "    geemap.ee_to_csv(points,NAME + '_sentinel2_{}.csv'.format(year))"
   ]
  },
  {
   "cell_type": "markdown",
   "id": "9b1166b0",
   "metadata": {
    "heading_collapsed": true
   },
   "source": [
    "# MOD09"
   ]
  },
  {
   "cell_type": "code",
   "execution_count": 4,
   "id": "7b1d2226",
   "metadata": {
    "ExecuteTime": {
     "end_time": "2022-01-04T13:35:30.986330Z",
     "start_time": "2022-01-04T13:35:30.968348Z"
    },
    "hidden": true
   },
   "outputs": [],
   "source": [
    "def cloud_cover(image):\n",
    "    qa = image.clip(roi).select('state_1km')\n",
    "    mask = qa.rightShift(0).mod(4)\n",
    "    all_pixels = mask.gte(0)\n",
    "    bad = mask.gt(0)\n",
    "    count_allPixels = all_pixels.reduceRegion(**{'reducer': ee.Reducer.sum(),'geometry': roi,'scale': 1000,'maxPixels': 1e14,})\n",
    "    count_bad = bad.reduceRegion(**{'reducer': ee.Reducer.sum(),'geometry': roi,'scale': 1000,'maxPixels': 1e14,})\n",
    "    cloud_percentage = ee.Number(count_bad.get('state_1km')).divide(ee.Number(count_allPixels.get('state_1km'))).multiply(100)\n",
    "    return image.set({'Clouds_on_water' : cloud_percentage})\n",
    "\n",
    "def add_property_mod(image):\n",
    "    point = ee.Feature(ee.Geometry.Point([115.75820104148457, 29.251481709867686]))\n",
    "    point = point.set({'id': image.get('system:id')})\n",
    "    point = point.set({'time': ee.Date(image.get('system:time_start')).format('YYYY-MM-dd')})\n",
    "    point = point.set({'Clouds_on_water': image.get('Clouds_on_water')})\n",
    "    return point"
   ]
  },
  {
   "cell_type": "code",
   "execution_count": null,
   "id": "8ad3de7d",
   "metadata": {
    "ExecuteTime": {
     "end_time": "2021-12-31T08:12:23.750873Z",
     "start_time": "2021-12-31T08:12:17.717345Z"
    },
    "hidden": true
   },
   "outputs": [],
   "source": [
    "NAME = 'LIANGZIHU'\n",
    "for year in range(2013,2022,1):\n",
    "    print(year)\n",
    "    startDate = str(year) + '-01-01'\n",
    "    endDate = str(year) + '-12-31'\n",
    "    images = ee.ImageCollection('MODIS/006/MOD09GA').filterBounds(roi).filterDate(startDate,endDate)\n",
    "    filter_images = ee.FeatureCollection(images.map(cloud_cover,True).filter(ee.Filter.lt('Clouds_on_water',10)).map(add_property_mod,True))\n",
    "    dataset_id = NAME + '_MOD09GA_' + str(year)\n",
    "    assetID = 'users/311605001111/' + dataset_id\n",
    "    task = ee.batch.Export.table.toAsset(**{\n",
    "        'collection': filter_images,\n",
    "        'description': dataset_id,\n",
    "        'assetId': assetID\n",
    "    })\n",
    "    task.start()"
   ]
  },
  {
   "cell_type": "code",
   "execution_count": null,
   "id": "5978ea7f",
   "metadata": {
    "ExecuteTime": {
     "end_time": "2021-12-31T08:17:34.058859Z",
     "start_time": "2021-12-31T08:17:04.236197Z"
    },
    "hidden": true
   },
   "outputs": [],
   "source": [
    "NAME = 'DONGHU'\n",
    "for year in range(2017,2020,1):\n",
    "    dataset_id = 'users/311605001111/' + NAME + '_MOD09GA_' + str(year)\n",
    "    points = ee.FeatureCollection(dataset_id)\n",
    "    geemap.ee_to_csv(points, NAME + '_MOD09GA_{}.csv'.format(year))"
   ]
  },
  {
   "cell_type": "code",
   "execution_count": 5,
   "id": "3feeb472",
   "metadata": {
    "ExecuteTime": {
     "end_time": "2022-01-04T13:35:37.759246Z",
     "start_time": "2022-01-04T13:35:34.439355Z"
    },
    "hidden": true
   },
   "outputs": [
    {
     "name": "stdout",
     "output_type": "stream",
     "text": [
      "2017\n",
      "2018\n",
      "2019\n"
     ]
    }
   ],
   "source": [
    "NAME = 'DONGHU'\n",
    "for year in range(2017,2020,1):\n",
    "    print(year)\n",
    "    startDate = str(year) + '-01-01'\n",
    "    endDate = str(year) + '-12-31'\n",
    "    images = ee.ImageCollection('MODIS/006/MYD09GA').filterBounds(roi).filterDate(startDate,endDate)\n",
    "    filter_images = ee.FeatureCollection(images.map(cloud_cover).filter(ee.Filter.lt('Clouds_on_water',10)).map(add_property_mod))\n",
    "    dataset_id = NAME + '_MYD09GA_' + str(year)\n",
    "    assetID = 'users/311605001111/' + dataset_id\n",
    "    task = ee.batch.Export.table.toAsset(**{\n",
    "        'collection': filter_images,\n",
    "        'description': dataset_id,\n",
    "        'assetId': assetID\n",
    "    })\n",
    "    task.start()"
   ]
  },
  {
   "cell_type": "code",
   "execution_count": 6,
   "id": "567c56a8",
   "metadata": {
    "ExecuteTime": {
     "end_time": "2022-01-04T13:37:52.418925Z",
     "start_time": "2022-01-04T13:37:45.265057Z"
    },
    "hidden": true
   },
   "outputs": [
    {
     "name": "stdout",
     "output_type": "stream",
     "text": [
      "Generating URL ...\n",
      "Downloading data from https://earthengine.googleapis.com/v1alpha/projects/earthengine-legacy/tables/93f45799f2d7d6fbc21a9b15dad36a09-e37512b9bae5530b9ba1ec26a83ba123:getFeatures\n",
      "Please wait ...\n",
      "Data downloaded to C:\\Users\\DELL\\gee\\DONGHU_MYD09GA_2017.csv\n",
      "Generating URL ...\n",
      "Downloading data from https://earthengine.googleapis.com/v1alpha/projects/earthengine-legacy/tables/26325482a8ee8fd7c780a265a0b70e86-8901add524a5693e3224cd431843bf2b:getFeatures\n",
      "Please wait ...\n",
      "Data downloaded to C:\\Users\\DELL\\gee\\DONGHU_MYD09GA_2018.csv\n",
      "Generating URL ...\n",
      "Downloading data from https://earthengine.googleapis.com/v1alpha/projects/earthengine-legacy/tables/41b65c548e94fbf5ec9b302dd50b0be7-bb8d83f8dacfe4500049cd49724ee9dd:getFeatures\n",
      "Please wait ...\n",
      "Data downloaded to C:\\Users\\DELL\\gee\\DONGHU_MYD09GA_2019.csv\n"
     ]
    }
   ],
   "source": [
    "NAME = 'DONGHU'\n",
    "for year in range(2017,2020,1):\n",
    "    dataset_id = 'users/311605001111/'+ NAME + '_MYD09GA_' + str(year)\n",
    "    points = ee.FeatureCollection(dataset_id)\n",
    "    geemap.ee_to_csv(points,NAME + '_MYD09GA_{}.csv'.format(year))"
   ]
  },
  {
   "cell_type": "code",
   "execution_count": null,
   "id": "ddc3af2b",
   "metadata": {
    "hidden": true
   },
   "outputs": [],
   "source": [
    "# for i in range(2015,2017,1):\n",
    "#     dataset = ee.ImageCollection('MODIS/006/MOD09GA').filter(ee.Filter.date('{}-01-01'.format(i), '{}-12-31'.format(i))).filterBounds(roi).map(cloud_cover)\n",
    "#     dataset_filter = dataset.filter(ee.Filter.lt('cloud_percentage',0.1))\n",
    "#     points = dataset_filter.map(add_property)\n",
    "#     geemap.ee_to_csv(ee.FeatureCollection(points),'MOD09GA_{}.csv'.format(i))\n",
    "\n",
    "# for i in range(2008,2012,1):\n",
    "#     dataset = ee.ImageCollection('MODIS/006/MYD09GA').filter(ee.Filter.date('{}-01-01'.format(i), '{}-12-31'.format(i))).filterBounds(roi).map(cloud_cover)\n",
    "#     dataset_filter = dataset.filter(ee.Filter.lt('cloud_percentage',0.1))\n",
    "#     points = dataset_filter.map(add_property)\n",
    "#     geemap.ee_to_csv(ee.FeatureCollection(points),'taihu_MYD09GA_{}.csv'.format(i))"
   ]
  },
  {
   "cell_type": "markdown",
   "id": "f55967ee",
   "metadata": {},
   "source": [
    "# 下载水体"
   ]
  },
  {
   "cell_type": "code",
   "execution_count": null,
   "id": "f7029dcb",
   "metadata": {
    "ExecuteTime": {
     "end_time": "2021-12-03T01:46:42.451749Z",
     "start_time": "2021-12-03T01:46:36.213399Z"
    }
   },
   "outputs": [],
   "source": [
    "l8 = ee.ImageCollection('LANDSAT/LC08/C01/T1_SR').filterBounds(roi).filterDate('2021-01-01','2021-11-30').map(maskSR).median().clip(roi)\n",
    "visParams = {'bands': ['B5', 'B6', 'B4'],'min': 0,'max': 3000,'gamma': 1.4}\n",
    "awei = water_index(l8).select('AWEI').gt(0).selfMask()\n",
    "Map.addLayer(l8, visParams,'image mosaic')\n",
    "Map.addLayer(awei,{'palette':['blue']},'awei')"
   ]
  },
  {
   "cell_type": "code",
   "execution_count": null,
   "id": "cda67b70",
   "metadata": {
    "ExecuteTime": {
     "end_time": "2021-12-03T01:46:45.039680Z",
     "start_time": "2021-12-03T01:46:44.401321Z"
    }
   },
   "outputs": [],
   "source": [
    "dataset_id = 'CHONGQING_SHANGHAI'\n",
    "assetID = 'users/311605001111/' + dataset_id\n",
    "task = ee.batch.Export.image.toAsset(**{\n",
    "    'image': awei,\n",
    "    'description': dataset_id,\n",
    "    'assetId': assetID,\n",
    "    'scale': 30,\n",
    "    'region': roi,\n",
    "    'maxPixels': 1e13,\n",
    "})\n",
    "task.start()"
   ]
  },
  {
   "cell_type": "code",
   "execution_count": null,
   "id": "6a2ef625",
   "metadata": {
    "ExecuteTime": {
     "end_time": "2021-12-03T04:16:01.302874Z",
     "start_time": "2021-12-03T04:15:55.336268Z"
    }
   },
   "outputs": [],
   "source": [
    "image = ee.Image('users/311605001111/CHONGQING_SHANGHAI')\n",
    "out_dir = os.path.join(os.path.expanduser('~'), 'Downloads')\n",
    "filename = os.path.join(out_dir, 'CHONGQING_SHANGHAI.tif')\n",
    "geemap.ee_export_image(image, filename=filename, scale=210, region=roi)"
   ]
  },
  {
   "cell_type": "code",
   "execution_count": null,
   "id": "8546f652",
   "metadata": {
    "ExecuteTime": {
     "end_time": "2021-12-03T01:32:33.211459Z",
     "start_time": "2021-12-03T01:32:27.365064Z"
    }
   },
   "outputs": [],
   "source": [
    "sentinel_images = ee.ImageCollection('COPERNICUS/S2_SR').select(['B2', 'B3','B4','B8','B11','B12','QA60'],['B2', 'B3','B4','B5', 'B6', 'B7','QA60'])\n",
    "s2 = sentinel_images.filterBounds(roi).filterDate('2020-01-01', '2020-12-31').map(maskS2clouds).median().clip(roi)\n",
    "visualization = {'min': 0,'max': 5000,'bands': ['B5', 'B4', 'B2']}\n",
    "Map.addLayer(s2, visualization, 'RGB')\n",
    "awei_s2 = water_index(s2).select('AWEI').gt(0)\n",
    "Map.addLayer(awei_s2.selfMask(),{'palette':['blue']},'awei_s2')\n"
   ]
  },
  {
   "cell_type": "code",
   "execution_count": null,
   "id": "518871db",
   "metadata": {},
   "outputs": [],
   "source": []
  },
  {
   "cell_type": "code",
   "execution_count": null,
   "id": "eecac70c",
   "metadata": {},
   "outputs": [],
   "source": []
  },
  {
   "cell_type": "code",
   "execution_count": null,
   "id": "31210c28",
   "metadata": {
    "ExecuteTime": {
     "end_time": "2021-12-02T10:07:55.142730Z",
     "start_time": "2021-12-02T10:06:21.097715Z"
    },
    "scrolled": true
   },
   "outputs": [],
   "source": [
    "landsat_images = ee.ImageCollection('LANDSAT/LC08/C01/T1_SR') \\\n",
    "    .filterBounds(roi) \\\n",
    "    .filterDate('2020-01-01', '2020-12-31')\n",
    "\n",
    "filter_images = landsat_images.map(cal_cloud).filter(ee.Filter.lt('Clouds_on_water',5)).map(add_property)\n",
    "print(filter_images.size().getInfo())\n",
    "geemap.ee_to_csv(ee.FeatureCollection(filter_images),'CHONGQING_SHANGHAI_landsat8.csv')"
   ]
  },
  {
   "cell_type": "code",
   "execution_count": null,
   "id": "415ce8e1",
   "metadata": {
    "ExecuteTime": {
     "end_time": "2021-12-02T10:02:31.250850Z",
     "start_time": "2021-12-02T10:02:18.337863Z"
    }
   },
   "outputs": [],
   "source": [
    "q = landsat_images.map(cal_cloud).filter(ee.Filter.lt('Clouds_on_water',5))\n",
    "print(q.aggregate_array('system:index').getInfo())"
   ]
  },
  {
   "cell_type": "code",
   "execution_count": null,
   "id": "55842628",
   "metadata": {},
   "outputs": [],
   "source": []
  }
 ],
 "metadata": {
  "hide_input": false,
  "kernelspec": {
   "display_name": "Python 3 (ipykernel)",
   "language": "python",
   "name": "python3"
  },
  "language_info": {
   "codemirror_mode": {
    "name": "ipython",
    "version": 3
   },
   "file_extension": ".py",
   "mimetype": "text/x-python",
   "name": "python",
   "nbconvert_exporter": "python",
   "pygments_lexer": "ipython3",
   "version": "3.8.12"
  },
  "toc": {
   "base_numbering": 1,
   "nav_menu": {},
   "number_sections": true,
   "sideBar": true,
   "skip_h1_title": false,
   "title_cell": "Table of Contents",
   "title_sidebar": "Contents",
   "toc_cell": false,
   "toc_position": {},
   "toc_section_display": true,
   "toc_window_display": false
  },
  "varInspector": {
   "cols": {
    "lenName": 16,
    "lenType": 16,
    "lenVar": 40
   },
   "kernels_config": {
    "python": {
     "delete_cmd_postfix": "",
     "delete_cmd_prefix": "del ",
     "library": "var_list.py",
     "varRefreshCmd": "print(var_dic_list())"
    },
    "r": {
     "delete_cmd_postfix": ") ",
     "delete_cmd_prefix": "rm(",
     "library": "var_list.r",
     "varRefreshCmd": "cat(var_dic_list()) "
    }
   },
   "types_to_exclude": [
    "module",
    "function",
    "builtin_function_or_method",
    "instance",
    "_Feature"
   ],
   "window_display": false
  }
 },
 "nbformat": 4,
 "nbformat_minor": 5
}
