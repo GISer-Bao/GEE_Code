{
 "cells": [
  {
   "cell_type": "code",
   "execution_count": 1,
   "metadata": {
    "ExecuteTime": {
     "end_time": "2021-07-10T07:12:51.074455Z",
     "start_time": "2021-07-10T07:12:51.060492Z"
    }
   },
   "outputs": [],
   "source": [
    "import os\n",
    "os.environ['HTTP_PROXY'] = \"http://127.0.0.1:10809\"\n",
    "os.environ['HTTPS_PROXY'] = \"http://127.0.0.1:10809\""
   ]
  },
  {
   "cell_type": "code",
   "execution_count": 2,
   "metadata": {
    "ExecuteTime": {
     "end_time": "2021-07-10T07:12:55.822773Z",
     "start_time": "2021-07-10T07:12:51.516911Z"
    },
    "scrolled": false
   },
   "outputs": [
    {
     "data": {
      "application/vnd.jupyter.widget-view+json": {
       "model_id": "8af162403e2e4f9aac7763dc52ba4014",
       "version_major": 2,
       "version_minor": 0
      },
      "text/plain": [
       "Map(center=[40, -100], controls=(WidgetControl(options=['position', 'transparent_bg'], widget=HBox(children=(T…"
      ]
     },
     "metadata": {},
     "output_type": "display_data"
    }
   ],
   "source": [
    "import geemap\n",
    "import ee\n",
    "Map=geemap.Map()\n",
    "Map"
   ]
  },
  {
   "cell_type": "code",
   "execution_count": 3,
   "metadata": {
    "ExecuteTime": {
     "end_time": "2021-07-10T07:12:56.840829Z",
     "start_time": "2021-07-10T07:12:55.951430Z"
    }
   },
   "outputs": [],
   "source": [
    "# 武汉市\n",
    "roi = ee.FeatureCollection('users/311605001111/ChinaCity').filter(ee.Filter.eq('市','武汉市'))\n",
    "Map.addLayer(roi, {}, \"roi\")\n",
    "Map.centerObject(roi,8)"
   ]
  },
  {
   "cell_type": "code",
   "execution_count": 4,
   "metadata": {
    "ExecuteTime": {
     "end_time": "2021-07-10T07:12:57.014338Z",
     "start_time": "2021-07-10T07:12:56.999199Z"
    }
   },
   "outputs": [],
   "source": [
    "# 去云、云阴影、雪掩膜函数\n",
    "def maskL8sr(image):\n",
    "    cloudShadowBitMask = (1 << 3)\n",
    "    cloudsBitMask = (1 << 5)\n",
    "    snowBitMask = (1 << 4)   \n",
    "    qa = image.select('pixel_qa')\n",
    "    mask = qa.bitwiseAnd(cloudShadowBitMask).eq(0) \\\n",
    "                   .And(qa.bitwiseAnd(cloudsBitMask).eq(0)) \\\n",
    "                   .And(qa.bitwiseAnd(snowBitMask).eq(0))\n",
    "    return image.updateMask(mask)\n",
    "\n",
    "visParams = {\n",
    "    'bands': ['B5', 'B6', 'B4'],\n",
    "    'min': 0,\n",
    "    'max': 3000,\n",
    "    'gamma': 1.4,\n",
    "}\n",
    "\n",
    "# AWEI(自动水体提取指数): AWEIsh = B2 + 2.5B3 - 1.5(B5+B6) - 0.25B7\n",
    "def water_index(img):\n",
    "    image = img.clip(roi)\n",
    "    ndvi=image.normalizedDifference(['B5', 'B4']).rename('NDVI')\n",
    "    mndwi=image.normalizedDifference(['B3', 'B6']).rename(\"mNDWI\") \n",
    "    ndvi_mndwi = ndvi.subtract(mndwi).rename('ndvi_mndwi')\n",
    "    awei = image.expression('B2 + 2.5*B3 - 1.5*(B5+B6) - 0.25*B7',\n",
    "        {\n",
    "          'B2': image.select('B2'),\n",
    "          'B3': image.select('B3'),    \n",
    "          'B5': image.select('B5'),    \n",
    "          'B6': image.select('B6'),\n",
    "          'B7': image.select('B7'),\n",
    "        }).rename('AWEI')\n",
    "    return image.addBands(ndvi_mndwi).addBands(ndvi).addBands(mndwi).addBands(awei)\n",
    "\n",
    "def area_after_clip(image):\n",
    "    image_area = image.clip(roi).select('B2').gt(0).multiply(ee.Image.pixelArea()).divide(1e6)\n",
    "    areas = image_area.reduceRegion(**{\n",
    "        'reducer': ee.Reducer.sum(),\n",
    "        'geometry': image.geometry(),\n",
    "        'scale': 1000,\n",
    "        'maxPixels': 1e14\n",
    "    })\n",
    "    return image.set({'area': areas.get('B2')})"
   ]
  },
  {
   "cell_type": "code",
   "execution_count": 5,
   "metadata": {
    "ExecuteTime": {
     "end_time": "2021-07-10T07:13:14.744959Z",
     "start_time": "2021-07-10T07:13:13.717640Z"
    }
   },
   "outputs": [],
   "source": [
    "landsat_images = ee.ImageCollection('LANDSAT/LC08/C01/T1_SR') \\\n",
    "    .filterBounds(roi) \\\n",
    "    .filterDate('2018-01-01', '2018-12-31') \\\n",
    "    .map(maskL8sr) \\\n",
    "    .map(water_index)\n",
    "Map.addLayer(landsat_images.mosaic(),visParams,'landsat image')"
   ]
  },
  {
   "cell_type": "markdown",
   "metadata": {},
   "source": [
    "# 筛选得出采样影像"
   ]
  },
  {
   "cell_type": "code",
   "execution_count": 6,
   "metadata": {
    "ExecuteTime": {
     "end_time": "2021-07-10T07:13:18.550289Z",
     "start_time": "2021-07-10T07:13:15.556998Z"
    }
   },
   "outputs": [
    {
     "name": "stdout",
     "output_type": "stream",
     "text": [
      "34\n",
      "['2018-01-11', '2018-02-03', '2018-02-12', '2018-02-28', '2018-03-23', '2018-03-23', '2018-04-08', '2018-04-08', '2018-04-17', '2018-04-24', '2018-06-11', '2018-06-27', '2018-06-27', '2018-07-13', '2018-07-13', '2018-07-22', '2018-07-29', '2018-07-29', '2018-08-07', '2018-08-23', '2018-08-30', '2018-08-30', '2018-09-08', '2018-09-15', '2018-09-15', '2018-09-24', '2018-10-10', '2018-10-17', '2018-10-17', '2018-10-26', '2018-11-02', '2018-11-02', '2018-11-27', '2018-12-13']\n"
     ]
    }
   ],
   "source": [
    "image_area = landsat_images.mosaic().select('B2').gt(0).multiply(ee.Image.pixelArea()).divide(1e6)\n",
    "areas = image_area.reduceRegion(**{\n",
    "    'reducer': ee.Reducer.sum(),\n",
    "    'geometry': roi,\n",
    "    'scale': 1000,\n",
    "    'maxPixels': 1e14\n",
    "})\n",
    "\n",
    "# 筛选影像，影像覆盖研究区的范围 > 研究区的1/10\n",
    "sample_image = landsat_images.map(area_after_clip).filter(ee.Filter.gt('area',ee.Number(areas.get('B2')).divide(10)))\n",
    "dates = sample_image.aggregate_array('system:time_start').sort().map(lambda d: ee.Date(d).format('YYYY-MM-dd'))\n",
    "print(sample_image.size().getInfo())\n",
    "print(dates.getInfo())"
   ]
  },
  {
   "cell_type": "markdown",
   "metadata": {},
   "source": [
    "# 多水体频率数据集的类别范围确定"
   ]
  },
  {
   "cell_type": "code",
   "execution_count": 7,
   "metadata": {
    "ExecuteTime": {
     "end_time": "2021-07-10T07:15:37.242489Z",
     "start_time": "2021-07-10T07:15:35.164206Z"
    }
   },
   "outputs": [],
   "source": [
    "# ndvi_mndwi水体频率\n",
    "basemap = ee.Image.constant(0).clip(roi).rename('waterclass')\n",
    "water_layer = landsat_images.map(lambda i : i.select('ndvi_mndwi').lt(0)).sum()\n",
    "validPixel_layer = landsat_images.count().select('B3').clip(roi).rename('count')\n",
    "index_waterfrequency = water_layer.select('ndvi_mndwi').divide(validPixel_layer.select('count')).select('ndvi_mndwi').rename('frequency')\n",
    "index_permanent = index_waterfrequency.gte(0.75).remap([0,1],[0,2]).rename('waterclass')\n",
    "index_season= ee.ImageCollection([index_waterfrequency.gte(0.25),index_waterfrequency.lt(0.75)]).sum().eq(2).rename('waterclass')\n",
    "index_waterclass = ee.ImageCollection([index_permanent,index_season,basemap]).sum()\n",
    "# JRC\n",
    "JRC_2018 = ee.Image(\"JRC/GSW1_3/YearlyHistory/2018\").clip(roi).remap([0,1,2,3],[0,0,1,2]).rename('waterclass')\n",
    "JRC_waterclass = ee.ImageCollection([JRC_2018,basemap]).sum()\n",
    "# Maryland\n",
    "Maryland_2018 = ee.Image('users/311605001111/Maryland/Maryland_2018').clip(roi).select('b1').rename('waterclass')\n",
    "Maryland_permanent = Maryland_2018.select('waterclass').gte(75).remap([0,1],[0,2]).rename('waterclass')\n",
    "Maryland_season= ee.ImageCollection([Maryland_2018.gte(25),Maryland_2018.lt(75)]).sum().eq(2)\n",
    "Maryland_waterclass = ee.ImageCollection([Maryland_permanent,Maryland_season,basemap]).sum()\n",
    "# 三者的交集\n",
    "permanentWaterExtent = ee.ImageCollection([index_waterclass.eq(2),JRC_waterclass.eq(2),Maryland_waterclass.eq(2)]).sum().eq(3)\n",
    "landExtent = ee.ImageCollection([index_waterclass.eq(0),JRC_waterclass.eq(0),Maryland_waterclass.eq(0)]).sum().eq(3)\n",
    "seasonWaterExtent = ee.ImageCollection([permanentWaterExtent,landExtent]).sum().remap([0,1],[1,0]).rename('waterclass')\n",
    "\n",
    "Map.addLayer(permanentWaterExtent.selfMask(),{'palette':['blue']},\"permanent_water\")\n",
    "Map.addLayer(seasonWaterExtent.selfMask(),{'palette':['green']},\"season water\")"
   ]
  },
  {
   "cell_type": "markdown",
   "metadata": {},
   "source": [
    "# 计算 AWEI在50%-100%的均值"
   ]
  },
  {
   "cell_type": "code",
   "execution_count": 8,
   "metadata": {
    "ExecuteTime": {
     "end_time": "2021-07-10T07:15:41.874047Z",
     "start_time": "2021-07-10T07:15:41.861622Z"
    }
   },
   "outputs": [],
   "source": [
    "def intervalmean(image):\n",
    "    awei = image.updateMask(seasonWaterExtent).select('AWEI')\n",
    "    intervalMean = awei.reduceRegion(**{\n",
    "        'reducer': ee.Reducer.intervalMean(50,100), \n",
    "        'geometry': image.geometry(), \n",
    "        'scale': 30, \n",
    "        'bestEffort': True\n",
    "    })\n",
    "    return image.set({'mean': intervalMean.get('AWEI')})"
   ]
  },
  {
   "cell_type": "code",
   "execution_count": 9,
   "metadata": {
    "ExecuteTime": {
     "end_time": "2021-07-10T07:15:48.358850Z",
     "start_time": "2021-07-10T07:15:46.466958Z"
    },
    "scrolled": true
   },
   "outputs": [
    {
     "name": "stdout",
     "output_type": "stream",
     "text": [
      "[1406.723473797616, 911.1752603745903, 1690.6484589315985, 390.7014705726843, -187.41498343984307, -40.86913729659788, -1056.4397999554694, -87.45768862287066, -139.36310157163527, 181.09778741041205, 463.9730080133128, 1155.8066325614031, 1480.167056926995, 90.20146254516483, -76.38887824329858, -765.1647979966929, -613.0231663797371, -497.99747706305095, -787.5723265198249, -480.3927225853956, -729.1303805089034, -32.05357203967411, 1042.5573566850042, 480.221261298239, 398.79247891517986, 96.99033778377789, 171.45890314030146, -148.37691548501846, -229.94797914609097, 139.42574231198836, -87.9221980157181, -8.909809672148258, 426.4376253693151, 479.5116479693518]\n"
     ]
    }
   ],
   "source": [
    "a = sample_image.limit(34).map(intervalmean)\n",
    "b = a.aggregate_array('mean')\n",
    "print(b.getInfo())"
   ]
  },
  {
   "cell_type": "code",
   "execution_count": 12,
   "metadata": {
    "ExecuteTime": {
     "end_time": "2021-07-10T07:18:11.080218Z",
     "start_time": "2021-07-10T07:18:11.061071Z"
    }
   },
   "outputs": [],
   "source": [
    "number = 500\n",
    "# RandomForest预测使用的波段\n",
    "bands = ['B2', 'B3', 'B4', 'B5', 'B6', 'B7','NDVI','mNDWI','AWEI']\n",
    "# 分类标签\n",
    "label = 'waterclass'\n",
    "def imageSample(image):\n",
    "    # 永久性水体\n",
    "    permanent_points = image.updateMask(permanentWaterExtent).sample(**{\n",
    "        'region': roi,\n",
    "        'scale': 30,\n",
    "        'numPixels': number,\n",
    "        'seed': 0,\n",
    "        'geometries': True,\n",
    "    })\n",
    "    water_points = permanent_points.map(lambda i : i.set({'waterclass':1}))\n",
    "    # 陆地\n",
    "    land_points = image.updateMask(landExtent).sample(**{\n",
    "        'region': image.geometry(),\n",
    "        'scale': 30,\n",
    "        'numPixels': number,\n",
    "        'seed': 0,\n",
    "        'geometries': True,\n",
    "    })\n",
    "    nowater_points = land_points.map(lambda i : i.set({'waterclass':0}))\n",
    "    # 季节性水体\n",
    "    awei = image.updateMask(seasonWaterExtent).select('AWEI').gt(ee.Image.constant(image.get('mean')))\n",
    "    seasonWater = image.updateMask(awei).sample(**{\n",
    "        'region': roi,\n",
    "        'scale': 30,\n",
    "        'numPixels': number,\n",
    "        'seed': 0,\n",
    "        'geometries': True,\n",
    "    })\n",
    "    seasonWater_points = seasonWater.map(lambda i : i.set({'waterclass':1}))\n",
    "    seasonLand= image.updateMask(awei.remap([0,1],[1,0])).sample(**{\n",
    "        'region': roi,\n",
    "        'scale': 30,\n",
    "        'numPixels': number,\n",
    "        'seed': 0,\n",
    "        'geometries': True,\n",
    "    })\n",
    "    seasonLand_points = seasonLand.map(lambda i : i.set({'waterclass':0}))\n",
    "    sample_points = ee.FeatureCollection([water_points,nowater_points,seasonWater_points,seasonLand_points]).flatten()\n",
    "    return sample_points"
   ]
  },
  {
   "cell_type": "code",
   "execution_count": 18,
   "metadata": {
    "ExecuteTime": {
     "end_time": "2021-07-10T07:30:06.722231Z",
     "start_time": "2021-07-10T07:29:56.299257Z"
    },
    "scrolled": true
   },
   "outputs": [
    {
     "name": "stdout",
     "output_type": "stream",
     "text": [
      "{'type': 'Feature', 'geometry': {'type': 'Point', 'coordinates': [114.67551133251911, 30.581239435333085]}, 'id': 'LC08_122039_20180111_0_33', 'properties': {'AWEI': 2734.5, 'B1': 815, 'B10': 2817, 'B11': 2808, 'B2': 851, 'B3': 1009, 'B4': 898, 'B5': 305, 'B6': 109, 'B7': 72, 'NDVI': -0.4929343308395677, 'mNDWI': 0.8050089445438283, 'ndvi_mndwi': -1.2979432753833962, 'pixel_qa': 324, 'radsat_qa': 0, 'sr_aerosol': 68, 'waterclass': 1}}\n",
      "total sample number:2154\n"
     ]
    }
   ],
   "source": [
    "# 总的样本点数\n",
    "points_collection = a.map(imageSample).flatten()\n",
    "print(points_collection.first().getInfo())\n",
    "print('total sample number:{}'.format(points_collection.size().getInfo()))\n",
    "# # 水体的样本点数\n",
    "# samplepoint_water = points_collection.filter(ee.Filter.eq('waterclass',1))\n",
    "# print('water sample number:{}'.format(samplepoint_water.size().getInfo()))\n",
    "\n",
    "# # 非水体的样本点数\n",
    "# samplepoint_water = points_collection.filter(ee.Filter.eq('waterclass',0))\n",
    "# print('water sample number:{}'.format(samplepoint_water.size().getInfo()))"
   ]
  },
  {
   "cell_type": "code",
   "execution_count": 19,
   "metadata": {
    "ExecuteTime": {
     "end_time": "2021-07-10T07:30:52.122242Z",
     "start_time": "2021-07-10T07:30:33.061931Z"
    }
   },
   "outputs": [
    {
     "name": "stdout",
     "output_type": "stream",
     "text": [
      "water sample number:797\n",
      "water sample number:1357\n"
     ]
    }
   ],
   "source": [
    "# 水体的样本点数\n",
    "samplepoint_water = points_collection.filter(ee.Filter.eq('waterclass',1))\n",
    "print('water sample number:{}'.format(samplepoint_water.size().getInfo()))\n",
    "\n",
    "# 非水体的样本点数\n",
    "samplepoint_water = points_collection.filter(ee.Filter.eq('waterclass',0))\n",
    "print('water sample number:{}'.format(samplepoint_water.size().getInfo()))"
   ]
  },
  {
   "cell_type": "code",
   "execution_count": 20,
   "metadata": {
    "ExecuteTime": {
     "end_time": "2021-07-10T07:31:42.120993Z",
     "start_time": "2021-07-10T07:31:40.524148Z"
    }
   },
   "outputs": [
    {
     "name": "stdout",
     "output_type": "stream",
     "text": [
      "Exporting wuhan_2014...\n",
      "Exporting wuhan_2014...\n"
     ]
    }
   ],
   "source": [
    "label = 'wuhan_2018'\n",
    "# csv格式\n",
    "selector = ['B2', 'B3', 'B4', 'B5', 'B6', 'B7','NDVI','mNDWI','AWEI','waterclass']\n",
    "geemap.ee_export_vector_to_drive(points_collection, description=label, folder='wuhan', file_format='csv', selectors=selector)\n",
    "\n",
    "# shp格式\n",
    "selector = ['B2', 'B3', 'B4', 'B5', 'B6', 'B7','NDVI','mNDWI','AWEI','waterclass']\n",
    "geemap.ee_export_vector_to_drive(points_collection, description=label, folder='wuhan', file_format='shp', selectors=selector)"
   ]
  },
  {
   "cell_type": "code",
   "execution_count": null,
   "metadata": {},
   "outputs": [],
   "source": []
  }
 ],
 "metadata": {
  "hide_input": false,
  "kernelspec": {
   "display_name": "Python 3",
   "language": "python",
   "name": "python3"
  },
  "language_info": {
   "codemirror_mode": {
    "name": "ipython",
    "version": 3
   },
   "file_extension": ".py",
   "mimetype": "text/x-python",
   "name": "python",
   "nbconvert_exporter": "python",
   "pygments_lexer": "ipython3",
   "version": "3.8.5"
  },
  "toc": {
   "base_numbering": 1,
   "nav_menu": {},
   "number_sections": true,
   "sideBar": true,
   "skip_h1_title": false,
   "title_cell": "Table of Contents",
   "title_sidebar": "Contents",
   "toc_cell": false,
   "toc_position": {},
   "toc_section_display": true,
   "toc_window_display": false
  },
  "varInspector": {
   "cols": {
    "lenName": 16,
    "lenType": 16,
    "lenVar": 40
   },
   "kernels_config": {
    "python": {
     "delete_cmd_postfix": "",
     "delete_cmd_prefix": "del ",
     "library": "var_list.py",
     "varRefreshCmd": "print(var_dic_list())"
    },
    "r": {
     "delete_cmd_postfix": ") ",
     "delete_cmd_prefix": "rm(",
     "library": "var_list.r",
     "varRefreshCmd": "cat(var_dic_list()) "
    }
   },
   "types_to_exclude": [
    "module",
    "function",
    "builtin_function_or_method",
    "instance",
    "_Feature"
   ],
   "window_display": false
  }
 },
 "nbformat": 4,
 "nbformat_minor": 4
}
