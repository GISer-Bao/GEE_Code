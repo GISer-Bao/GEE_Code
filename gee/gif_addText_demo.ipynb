{
 "cells": [
  {
   "cell_type": "code",
   "execution_count": 1,
   "id": "f2d32bdf",
   "metadata": {
    "ExecuteTime": {
     "end_time": "2021-06-19T03:12:38.625728Z",
     "start_time": "2021-06-19T03:12:38.607992Z"
    }
   },
   "outputs": [],
   "source": [
    "import os\n",
    "os.environ['HTTP_PROXY'] = \"http://127.0.0.1:10809\"\n",
    "os.environ['HTTPS_PROXY'] = \"http://127.0.0.1:10809\""
   ]
  },
  {
   "cell_type": "code",
   "execution_count": 2,
   "id": "a6f9300f",
   "metadata": {
    "ExecuteTime": {
     "end_time": "2021-06-19T03:12:42.704841Z",
     "start_time": "2021-06-19T03:12:38.871802Z"
    },
    "scrolled": false
   },
   "outputs": [
    {
     "data": {
      "application/vnd.jupyter.widget-view+json": {
       "model_id": "ff9ae991fd464a7691dbf97f628b56e8",
       "version_major": 2,
       "version_minor": 0
      },
      "text/plain": [
       "Map(center=[40, -100], controls=(WidgetControl(options=['position', 'transparent_bg'], widget=HBox(children=(T…"
      ]
     },
     "metadata": {},
     "output_type": "display_data"
    }
   ],
   "source": [
    "import geemap\n",
    "import ee\n",
    "Map=geemap.Map()\n",
    "Map"
   ]
  },
  {
   "cell_type": "code",
   "execution_count": 7,
   "id": "347614d2",
   "metadata": {
    "ExecuteTime": {
     "end_time": "2021-06-19T03:18:14.488065Z",
     "start_time": "2021-06-19T03:18:14.472071Z"
    }
   },
   "outputs": [],
   "source": [
    "# 去云、云阴影、雪掩膜函数\n",
    "def maskL8sr(image):\n",
    "    cloudShadowBitMask = (1 << 3)\n",
    "    cloudsBitMask = (1 << 5)\n",
    "    snowBitMask = (1 << 4)   \n",
    "    qa = image.select('pixel_qa')\n",
    "    mask = qa.bitwiseAnd(cloudShadowBitMask).eq(0) \\\n",
    "                   .And(qa.bitwiseAnd(cloudsBitMask).eq(0)) \\\n",
    "                   .And(qa.bitwiseAnd(snowBitMask).eq(0))\n",
    "    return image.updateMask(mask)\n",
    "# AWEI(自动水体提取指数): AWEIsh = B2 + 2.5B3 - 1.5(B5+B6) - 0.25B7\n",
    "def water_index(image):\n",
    "    ndvi=image.normalizedDifference(['B5', 'B4']).rename('NDVI')\n",
    "    mndwi=image.normalizedDifference(['B3', 'B6']).rename(\"mNDWI\") \n",
    "    ndvi_mndwi = ndvi.subtract(mndwi).rename('ndvi_mndwi')\n",
    "    awei = image.expression('B2 + 2.5*B3 - 1.5*(B5+B6) - 0.25*B7',\n",
    "        {\n",
    "          'B2': image.select('B2'),\n",
    "          'B3': image.select('B3'),    \n",
    "          'B5': image.select('B5'),    \n",
    "          'B6': image.select('B6'),\n",
    "          'B7': image.select('B7'),\n",
    "        }).rename('AWEI')\n",
    "    return image.addBands(ndvi_mndwi).addBands(ndvi).addBands(mndwi).addBands(awei)\n",
    "visParams = {\n",
    "    'bands': ['B5', 'B6', 'B4'],\n",
    "    'min': 0,\n",
    "    'max': 3000,\n",
    "    'gamma': 1.4,\n",
    "}"
   ]
  },
  {
   "cell_type": "code",
   "execution_count": 13,
   "id": "c02e4a00",
   "metadata": {
    "ExecuteTime": {
     "end_time": "2021-06-19T03:19:39.856704Z",
     "start_time": "2021-06-19T03:19:27.064750Z"
    }
   },
   "outputs": [
    {
     "name": "stdout",
     "output_type": "stream",
     "text": [
      "Generating URL...\n",
      "Downloading GIF image from https://earthengine.googleapis.com/v1alpha/projects/earthengine-legacy/videoThumbnails/7040bccfc833f1c7a330cb3a6b25678b-1d78e358d8f98b8d501d381925bcb0d6:getPixels\n",
      "Please wait ...\n",
      "The GIF image has been saved to: C:\\Users\\DELL\\gee\\Tibet_plateau.gif\n"
     ]
    }
   ],
   "source": [
    "region = ee.Geometry.Rectangle([90.122,34.629,90.740,35.136])\n",
    "visParams = {\n",
    "    'bands': ['B5', 'B6', 'B4'],\n",
    "    'min': 0,\n",
    "    'max': 3000,\n",
    "    'gamma': 1.4,\n",
    "}\n",
    "\n",
    "# 去云、云阴影、雪掩膜函数\n",
    "def maskL8sr(image):\n",
    "    cloudShadowBitMask = (1 << 3)\n",
    "    cloudsBitMask = (1 << 5)\n",
    "    snowBitMask = (1 << 4)   \n",
    "    qa = image.select('pixel_qa')\n",
    "    mask = qa.bitwiseAnd(cloudShadowBitMask).eq(0) \\\n",
    "                   .And(qa.bitwiseAnd(cloudsBitMask).eq(0)) \\\n",
    "                   .And(qa.bitwiseAnd(snowBitMask).eq(0))\n",
    "    return image.updateMask(mask)\n",
    "\n",
    "landsat_images = ee.ImageCollection('LANDSAT/LC08/C01/T1_SR') \\\n",
    "    .filterBounds(region) \\\n",
    "    .filterDate('2018-01-01', '2018-12-31') \\\n",
    "    .sort('system:time_start')\n",
    "water_mask = water_index(landsat_images.map(maskL8sr).mosaic()).select('ndvi_mndwi').lt(0).clip(region)\n",
    "a = landsat_images.map(lambda i : i.updateMask(water_mask))\n",
    "rgbVis = a.map(lambda x:x.visualize(**visParams).clip(region))\n",
    "\n",
    "gifParams = {\n",
    "  'region': region,\n",
    "  'dimensions': 600,\n",
    "  'crs': 'EPSG:3857',\n",
    "  'framesPerSecond': 10\n",
    "}\n",
    "\n",
    "geemap.download_ee_video(rgbVis,gifParams,'Tibet_plateau.gif')"
   ]
  },
  {
   "cell_type": "code",
   "execution_count": 14,
   "id": "d627007a",
   "metadata": {
    "ExecuteTime": {
     "end_time": "2021-06-19T03:19:40.342834Z",
     "start_time": "2021-06-19T03:19:40.048013Z"
    },
    "scrolled": true
   },
   "outputs": [
    {
     "name": "stdout",
     "output_type": "stream",
     "text": [
      "['2018-01-02', '2018-01-02', '2018-01-18', '2018-01-18', '2018-02-03', '2018-02-03', '2018-02-19', '2018-02-19', '2018-03-07', '2018-03-07', '2018-03-23', '2018-03-23', '2018-04-08', '2018-04-08', '2018-04-24', '2018-04-24', '2018-05-10', '2018-05-10', '2018-05-26', '2018-05-26', '2018-06-11', '2018-06-11', '2018-06-27', '2018-06-27', '2018-07-13', '2018-07-13', '2018-07-29', '2018-07-29', '2018-08-14', '2018-08-14', '2018-08-30', '2018-08-30', '2018-09-15', '2018-09-15', '2018-10-01', '2018-10-01', '2018-10-17', '2018-10-17', '2018-11-02', '2018-11-02', '2018-11-18', '2018-11-18', '2018-12-04', '2018-12-04', '2018-12-20', '2018-12-20']\n"
     ]
    }
   ],
   "source": [
    "dates = landsat_images.aggregate_array('system:time_start').sort().map(lambda d: ee.Date(d).format('YYYY-MM-dd')).getInfo()\n",
    "print(dates)"
   ]
  },
  {
   "cell_type": "code",
   "execution_count": 15,
   "id": "8f998948",
   "metadata": {
    "ExecuteTime": {
     "end_time": "2021-06-19T03:19:41.684163Z",
     "start_time": "2021-06-19T03:19:40.534387Z"
    }
   },
   "outputs": [],
   "source": [
    "in_gif = os.path.abspath('../gee/Tibet_plateau.gif')\n",
    "out_gif = os.path.join(os.path.expanduser('~'), 'Downloads/output2.gif')\n",
    "\n",
    "geemap.add_text_to_gif(in_gif, out_gif, xy=('3%', '5%'), text_sequence=dates, font_size=30, font_color='red',duration=900,progress_bar_color='red')"
   ]
  },
  {
   "cell_type": "code",
   "execution_count": 16,
   "id": "25075711",
   "metadata": {
    "ExecuteTime": {
     "end_time": "2021-06-19T03:19:41.951671Z",
     "start_time": "2021-06-19T03:19:41.892191Z"
    }
   },
   "outputs": [
    {
     "data": {
      "application/vnd.jupyter.widget-view+json": {
       "model_id": "69c55ad8a85d4287883f4727f2f597df",
       "version_major": 2,
       "version_minor": 0
      },
      "text/plain": [
       "Output()"
      ]
     },
     "metadata": {},
     "output_type": "display_data"
    }
   ],
   "source": [
    "geemap.show_image(out_gif)"
   ]
  },
  {
   "cell_type": "code",
   "execution_count": null,
   "id": "bd03b088",
   "metadata": {},
   "outputs": [],
   "source": []
  },
  {
   "cell_type": "code",
   "execution_count": null,
   "id": "308a7f14",
   "metadata": {},
   "outputs": [],
   "source": []
  },
  {
   "cell_type": "code",
   "execution_count": null,
   "id": "f9d61558",
   "metadata": {},
   "outputs": [],
   "source": []
  }
 ],
 "metadata": {
  "hide_input": false,
  "kernelspec": {
   "display_name": "Python 3 (ipykernel)",
   "language": "python",
   "name": "python3"
  },
  "language_info": {
   "codemirror_mode": {
    "name": "ipython",
    "version": 3
   },
   "file_extension": ".py",
   "mimetype": "text/x-python",
   "name": "python",
   "nbconvert_exporter": "python",
   "pygments_lexer": "ipython3",
   "version": "3.8.5"
  },
  "toc": {
   "base_numbering": 1,
   "nav_menu": {},
   "number_sections": true,
   "sideBar": true,
   "skip_h1_title": false,
   "title_cell": "Table of Contents",
   "title_sidebar": "Contents",
   "toc_cell": false,
   "toc_position": {},
   "toc_section_display": true,
   "toc_window_display": false
  },
  "varInspector": {
   "cols": {
    "lenName": 16,
    "lenType": 16,
    "lenVar": 40
   },
   "kernels_config": {
    "python": {
     "delete_cmd_postfix": "",
     "delete_cmd_prefix": "del ",
     "library": "var_list.py",
     "varRefreshCmd": "print(var_dic_list())"
    },
    "r": {
     "delete_cmd_postfix": ") ",
     "delete_cmd_prefix": "rm(",
     "library": "var_list.r",
     "varRefreshCmd": "cat(var_dic_list()) "
    }
   },
   "types_to_exclude": [
    "module",
    "function",
    "builtin_function_or_method",
    "instance",
    "_Feature"
   ],
   "window_display": false
  }
 },
 "nbformat": 4,
 "nbformat_minor": 5
}
