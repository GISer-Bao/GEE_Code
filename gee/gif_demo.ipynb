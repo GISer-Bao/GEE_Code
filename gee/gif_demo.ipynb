{
 "cells": [
  {
   "cell_type": "code",
   "execution_count": 1,
   "metadata": {
    "ExecuteTime": {
     "end_time": "2022-02-23T02:28:59.767019Z",
     "start_time": "2022-02-23T02:28:59.761037Z"
    }
   },
   "outputs": [],
   "source": [
    "import os\n",
    "os.environ['HTTP_PROXY'] = \"http://127.0.0.1:10809\"\n",
    "os.environ['HTTPS_PROXY'] = \"http://127.0.0.1:10809\""
   ]
  },
  {
   "cell_type": "code",
   "execution_count": 2,
   "metadata": {
    "ExecuteTime": {
     "end_time": "2022-02-23T02:29:04.542527Z",
     "start_time": "2022-02-23T02:29:00.073221Z"
    }
   },
   "outputs": [
    {
     "data": {
      "application/vnd.jupyter.widget-view+json": {
       "model_id": "a79a4a55334544b4b386c9f12ef22ca2",
       "version_major": 2,
       "version_minor": 0
      },
      "text/plain": [
       "Map(center=[20, 0], controls=(WidgetControl(options=['position', 'transparent_bg'], widget=HBox(children=(Togg…"
      ]
     },
     "metadata": {},
     "output_type": "display_data"
    }
   ],
   "source": [
    "import geemap\n",
    "import ee\n",
    "Map=geemap.Map()\n",
    "Map"
   ]
  },
  {
   "cell_type": "code",
   "execution_count": 3,
   "metadata": {
    "ExecuteTime": {
     "end_time": "2022-02-23T02:29:08.183562Z",
     "start_time": "2022-02-23T02:29:06.954423Z"
    }
   },
   "outputs": [],
   "source": [
    "# 加载ImageCollection\n",
    "col = ee.ImageCollection('MODIS/006/MOD13A2').select('NDVI')\n",
    "# 掩膜\n",
    "mask = ee.FeatureCollection('USDOS/LSIB_SIMPLE/2017').filter(ee.Filter.eq('wld_rgn', 'Africa'))\n",
    "# 定义gif生成区域\n",
    "region = ee.Geometry.Polygon(\n",
    "  [[[-18.698368046353494, 38.1446395611524],\n",
    "    [-18.698368046353494, -36.16300755581617],\n",
    "    [52.229366328646506, -36.16300755581617],\n",
    "    [52.229366328646506, 38.1446395611524]]],\n",
    "  None, False\n",
    ")\n",
    "Map.addLayer(region,{},'region')\n",
    "Map.centerObject(region,6)"
   ]
  },
  {
   "cell_type": "code",
   "execution_count": 4,
   "metadata": {
    "ExecuteTime": {
     "end_time": "2022-02-23T02:29:10.560306Z",
     "start_time": "2022-02-23T02:29:10.553295Z"
    }
   },
   "outputs": [],
   "source": [
    "def set_doy(img):\n",
    "    doy = ee.Date(img.get('system:time_start')).getRelative('day', 'year')\n",
    "    return img.set('doy', doy)\n",
    "col = col.map(set_doy)"
   ]
  },
  {
   "cell_type": "code",
   "execution_count": 5,
   "metadata": {
    "ExecuteTime": {
     "end_time": "2022-02-23T02:29:50.684998Z",
     "start_time": "2022-02-23T02:29:50.666001Z"
    }
   },
   "outputs": [],
   "source": [
    "# 二维ImageCollection的制作\n",
    "distinctDOY = col.filterDate('2013-01-01', '2014-01-01')\n",
    "filter_ = ee.Filter.equals(**{'leftField': 'doy', 'rightField': 'doy'})\n",
    "join = ee.Join.saveAll('doy_matches')\n",
    "joinCol = ee.ImageCollection(join.apply(distinctDOY, col, filter_))"
   ]
  },
  {
   "cell_type": "code",
   "execution_count": 6,
   "metadata": {
    "ExecuteTime": {
     "end_time": "2022-02-23T02:29:51.182562Z",
     "start_time": "2022-02-23T02:29:51.177584Z"
    }
   },
   "outputs": [],
   "source": [
    "\n",
    "def apply_median_redution(img):\n",
    "    doyCol = ee.ImageCollection.fromImages(img.get('doy_matches'))\n",
    "    return doyCol.reduce(ee.Reducer.median())\n",
    "comp = joinCol.map(apply_median_redution)  "
   ]
  },
  {
   "cell_type": "code",
   "execution_count": 7,
   "metadata": {
    "ExecuteTime": {
     "end_time": "2022-02-23T02:29:52.985205Z",
     "start_time": "2022-02-23T02:29:51.985245Z"
    }
   },
   "outputs": [],
   "source": [
    "# 可视化参数\n",
    "visParams = {\n",
    "  'min': 0.0,\n",
    "  'max': 9000.0,\n",
    "  'palette': [\n",
    "    'FFFFFF', 'CE7E45', 'DF923D', 'F1B555', 'FCD163', '99B718', '74A901',\n",
    "    '66A000', '529400', '3E8601', '207401', '056201', '004C00', '023B01',\n",
    "    '012E01', '011D01', '011301'\n",
    "  ],\n",
    "}\n",
    "rgbVis = comp.map(lambda x:x.visualize(**visParams).clip(mask))\n",
    "Map.addLayer(rgbVis)"
   ]
  },
  {
   "cell_type": "code",
   "execution_count": 8,
   "metadata": {
    "ExecuteTime": {
     "end_time": "2022-02-23T02:30:10.190118Z",
     "start_time": "2022-02-23T02:29:53.786350Z"
    }
   },
   "outputs": [
    {
     "name": "stdout",
     "output_type": "stream",
     "text": [
      "Generating URL...\n",
      "Downloading GIF image from https://earthengine.googleapis.com/v1alpha/projects/earthengine-legacy/videoThumbnails/0e8b21a435b96c0812cd93a4b135a8b8-dbbd86db9b35066fea8e28c8379585f1:getPixels\n",
      "Please wait ...\n",
      "The GIF image has been saved to: C:\\Users\\DELL\\gee\\linodebug.gif\n"
     ]
    }
   ],
   "source": [
    "gifParams = {\n",
    "  'region': region,\n",
    "  'dimensions': 600,\n",
    "  'crs': 'EPSG:3857',\n",
    "  'framesPerSecond': 10\n",
    "}\n",
    "\n",
    "geemap.download_ee_video(rgbVis,gifParams,'linodebug.gif')"
   ]
  },
  {
   "cell_type": "code",
   "execution_count": null,
   "metadata": {},
   "outputs": [],
   "source": []
  },
  {
   "cell_type": "code",
   "execution_count": null,
   "metadata": {},
   "outputs": [],
   "source": []
  },
  {
   "cell_type": "code",
   "execution_count": null,
   "metadata": {},
   "outputs": [],
   "source": [
    "# 可视化参数\n",
    "visParams = {\n",
    "  'dimensions': 768,\n",
    "  'region': region,\n",
    "  'framesPerSecond': 7,\n",
    "  'crs': 'EPSG:3857',\n",
    "  'min': 0.0,\n",
    "  'max': 9000.0,\n",
    "  'palette': [\n",
    "    'FFFFFF', 'CE7E45', 'DF923D', 'F1B555', 'FCD163', '99B718', '74A901',\n",
    "    '66A000', '529400', '3E8601', '207401', '056201', '004C00', '023B01',\n",
    "    '012E01', '011D01', '011301'\n",
    "  ],\n",
    "}\n",
    "print(comp.getVideoThumbURL(visParams))"
   ]
  }
 ],
 "metadata": {
  "hide_input": false,
  "kernelspec": {
   "display_name": "Python 3 (ipykernel)",
   "language": "python",
   "name": "python3"
  },
  "language_info": {
   "codemirror_mode": {
    "name": "ipython",
    "version": 3
   },
   "file_extension": ".py",
   "mimetype": "text/x-python",
   "name": "python",
   "nbconvert_exporter": "python",
   "pygments_lexer": "ipython3",
   "version": "3.8.5"
  },
  "toc": {
   "base_numbering": 1,
   "nav_menu": {},
   "number_sections": true,
   "sideBar": true,
   "skip_h1_title": false,
   "title_cell": "Table of Contents",
   "title_sidebar": "Contents",
   "toc_cell": false,
   "toc_position": {},
   "toc_section_display": true,
   "toc_window_display": false
  },
  "varInspector": {
   "cols": {
    "lenName": 16,
    "lenType": 16,
    "lenVar": 40
   },
   "kernels_config": {
    "python": {
     "delete_cmd_postfix": "",
     "delete_cmd_prefix": "del ",
     "library": "var_list.py",
     "varRefreshCmd": "print(var_dic_list())"
    },
    "r": {
     "delete_cmd_postfix": ") ",
     "delete_cmd_prefix": "rm(",
     "library": "var_list.r",
     "varRefreshCmd": "cat(var_dic_list()) "
    }
   },
   "types_to_exclude": [
    "module",
    "function",
    "builtin_function_or_method",
    "instance",
    "_Feature"
   ],
   "window_display": false
  }
 },
 "nbformat": 4,
 "nbformat_minor": 4
}
