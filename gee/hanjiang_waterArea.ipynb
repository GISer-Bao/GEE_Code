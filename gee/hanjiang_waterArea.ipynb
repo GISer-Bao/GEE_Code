{
 "cells": [
  {
   "cell_type": "code",
   "execution_count": 1,
   "id": "e1f2c9dc",
   "metadata": {
    "ExecuteTime": {
     "end_time": "2022-05-19T07:01:30.354466Z",
     "start_time": "2022-05-19T07:01:30.345461Z"
    }
   },
   "outputs": [],
   "source": [
    "import os\n",
    "os.environ['HTTP_PROXY'] = \"http://127.0.0.1:10809\"\n",
    "os.environ['HTTPS_PROXY'] = \"http://127.0.0.1:10809\""
   ]
  },
  {
   "cell_type": "code",
   "execution_count": 2,
   "id": "6319bbec",
   "metadata": {
    "ExecuteTime": {
     "end_time": "2022-05-19T07:01:35.675291Z",
     "start_time": "2022-05-19T07:01:30.561471Z"
    }
   },
   "outputs": [
    {
     "name": "stderr",
     "output_type": "stream",
     "text": [
      "*** Earth Engine *** Authenticate calls from this Earth Engine Python client will fail after 2022-05-09: please upgrade. https://developers.google.com/earth-engine/guides/python_install\n"
     ]
    },
    {
     "data": {
      "application/vnd.jupyter.widget-view+json": {
       "model_id": "b7a2437c6579442f8b0a74330b0962d0",
       "version_major": 2,
       "version_minor": 0
      },
      "text/plain": [
       "Map(center=[20, 0], controls=(WidgetControl(options=['position', 'transparent_bg'], widget=HBox(children=(Togg…"
      ]
     },
     "metadata": {},
     "output_type": "display_data"
    }
   ],
   "source": [
    "import geemap\n",
    "import ee\n",
    "Map=geemap.Map()\n",
    "Map"
   ]
  },
  {
   "cell_type": "code",
   "execution_count": 14,
   "id": "c52e52b6",
   "metadata": {
    "ExecuteTime": {
     "end_time": "2022-05-19T07:04:20.296381Z",
     "start_time": "2022-05-19T07:04:19.402011Z"
    }
   },
   "outputs": [],
   "source": [
    "roi = ee.FeatureCollection(\"users/311605001111/region/province\").filter(ee.Filter.eq('省','湖北省'))\n",
    "Map.addLayer(roi, {}, \"roi\")\n",
    "Map.centerObject(roi,10)"
   ]
  },
  {
   "cell_type": "code",
   "execution_count": 18,
   "id": "7dc588e6",
   "metadata": {
    "ExecuteTime": {
     "end_time": "2022-05-19T07:05:47.149192Z",
     "start_time": "2022-05-19T07:05:46.409450Z"
    }
   },
   "outputs": [],
   "source": [
    "roi = ee.FeatureCollection(\"users/311605001111/YangtzeCity/wuhan\")\n",
    "Map.addLayer(roi, {}, \"roi\")\n",
    "Map.centerObject(roi,10)"
   ]
  },
  {
   "cell_type": "code",
   "execution_count": 5,
   "id": "d0f0cc4b",
   "metadata": {
    "ExecuteTime": {
     "end_time": "2022-05-19T07:01:37.139492Z",
     "start_time": "2022-05-19T07:01:37.124533Z"
    }
   },
   "outputs": [],
   "source": [
    "## 指数的计算\n",
    "def water_index(img):\n",
    "    image = img.clip(roi)\n",
    "    mndwi=image.normalizedDifference(['B3', 'B6']).rename(\"mNDWI\")\n",
    "    awei = image.expression('B2 + 2.5*B3 - 1.5*(B5+B6) - 0.25*B7',\n",
    "        {\n",
    "          'B2': image.select('B2'),\n",
    "          'B3': image.select('B3'),    \n",
    "          'B5': image.select('B5'),    \n",
    "          'B6': image.select('B6'),\n",
    "          'B7': image.select('B7'),\n",
    "        }).rename('AWEI')\n",
    "\n",
    "    return image.addBands(mndwi).addBands(awei)"
   ]
  },
  {
   "cell_type": "code",
   "execution_count": 6,
   "id": "f37fd776",
   "metadata": {
    "ExecuteTime": {
     "end_time": "2022-05-19T07:01:38.080518Z",
     "start_time": "2022-05-19T07:01:37.378883Z"
    }
   },
   "outputs": [],
   "source": [
    "roi_wuhan = ee.Geometry.MultiPolygon([[[113.91918, 30.62708], [113.92979, 30.633123], [113.918868, 30.641316], [113.914344, 30.64521], [113.921053, 30.656221], [113.929633, 30.663337], [113.938058, 30.674614], [113.944923, 30.681997], [113.950384, 30.688575], [113.95678, 30.689783], [113.963177, 30.68495], \n",
    "                                       [113.972382, 30.666693], [113.980494, 30.648164], [113.997968, 30.62211], [114.020434, 30.621438], [114.046645, 30.621304], [114.068019, 30.603572], [114.091109, 30.601557], [114.121475, 30.600335], [114.13302, 30.594961], [114.147685, 30.604634], [114.162663, 30.609873], \n",
    "                                       [114.176704, 30.610948], [114.181541, 30.595364], [114.193554, 30.59093], [114.21446, 30.590392], [114.227253, 30.578433], [114.246599, 30.576955], [114.268909, 30.572655], [114.284199, 30.573461], [114.287943, 30.57158], [114.283731, 30.562172], [114.268129, 30.559887], \n",
    "                                       [114.246755, 30.563382], [114.234586, 30.567817], [114.216332, 30.571042], [114.203695, 30.580718], [114.181229, 30.578568], [114.169372, 30.585287], [114.144097, 30.582599], [114.125999, 30.582196], [114.107746, 30.587705], [114.091675, 30.590447], [114.075761, 30.59394], \n",
    "                                       [114.065776, 30.592328], [114.057975, 30.584804], [114.046742, 30.582788], [114.030361, 30.587222], [114.017411, 30.591925], [114.007895, 30.59515], [114.00727, 30.602942], [113.999158, 30.608047], [113.986833, 30.617047], [113.978207, 30.62974], [113.973215, 30.641827], \n",
    "                                       [113.965726, 30.64975], [113.948409, 30.655658], [113.929999, 30.653107], [113.932963, 30.643842], [113.940608, 30.636993], [113.940764, 30.626248], [113.930155, 30.62101], [113.921574, 30.619667], [113.91918, 30.62708]]])\n",
    "Map.addLayer(roi_wuhan, {}, \"roi_wuhan\")\n",
    "Map.centerObject(roi_wuhan,10)\n"
   ]
  },
  {
   "cell_type": "code",
   "execution_count": 7,
   "id": "da69e59d",
   "metadata": {
    "ExecuteTime": {
     "end_time": "2022-05-19T07:01:39.020762Z",
     "start_time": "2022-05-19T07:01:38.285685Z"
    }
   },
   "outputs": [],
   "source": [
    "roi_hubei = ee.Geometry.MultiPolygon([[[109.742121, 32.944706], [109.803278, 32.905926], [109.873173, 32.935274], [109.996737, 32.903829], [110.102828, 32.865031], [110.186452, 32.830413], [110.310016, 32.844052], [110.369925, 32.878665], [110.414858, 32.873421], [110.564632, 32.849297], [110.716903, 32.873421], [110.760587, 32.897539], [110.962783, 32.86608], [111.098828, 32.841954], [111.128783, 32.769536], [111.252347, 32.73278], [111.375911, 32.714922], [111.455791, 32.720174], [111.581851, 32.632937], \n",
    "                                       [111.553145, 32.530877], [111.672964, 32.450832], [111.710408, 32.333795], [111.762829, 32.208156], [111.862679, 32.089748], [111.983746, 32.132054], [112.097325, 32.064354], [112.177205, 32.103499], [112.255837, 32.056947], [112.259581, 31.968008], [112.238363, 31.808974], [112.408108, 31.710236], [112.51295, 31.389942], [112.505461, 31.283289], [112.59283, 31.214968], [112.576604, 31.156215], [112.605311, 31.066413], [112.743852, 30.674143], [112.832469, 30.597861], \n",
    "                                       [112.922334, 30.595712], [113.15698, 30.520444], [113.329221, 30.451576], [113.435311, 30.420355], [113.506454, 30.439735], [113.558875, 30.509686], [113.603808, 30.544106], [113.643748, 30.60431], [113.719883, 30.641918], [113.776049, 30.637621], [113.815988, 30.627951], [113.828909, 30.632194], [113.835773, 30.653143], [113.858863, 30.661199], [113.878209, 30.635417], [113.896931, 30.641326], [113.909724, 30.649383], [113.92595, 30.674893], [113.939679, 30.683216], \n",
    "                                       [113.956841, 30.692343], [113.969634, 30.681873], [114.01363, 30.620912], [114.041713, 30.625478], [114.046082, 30.599418], [114.069172, 30.605598], [114.108869, 30.601756], [114.140541, 30.603369], [114.165191, 30.611698], [114.17892, 30.606996], [114.211527, 30.591142], [114.253339, 30.575421], [114.273933, 30.574749], [114.288755, 30.575018], [114.282202, 30.560772], [114.263949, 30.558353], [114.256772, 30.562385], [114.245695, 30.56346], [114.232277, 30.569642], \n",
    "                                       [114.216822, 30.57246], [114.206759, 30.579885], [114.200698, 30.582077], [114.185331, 30.578986], [114.170509, 30.585638], [114.166375, 30.590743], [114.165829, 30.598872], [114.139228, 30.582681], [114.081104, 30.59203], [114.067687, 30.59418], [114.050369, 30.582222], [114.007465, 30.596061], [113.974078, 30.634747], [113.962377, 30.659456], [113.945755, 30.662686], [113.931402, 30.651138], [113.942635, 30.633681], [113.923601, 30.61622], [113.875237, 30.610309], \n",
    "                                       [113.862131, 30.575645], [113.842785, 30.571345], [113.825624, 30.603324], [113.796293, 30.588276], [113.740091, 30.608407], [113.715128, 30.597659], [113.684549, 30.580461], [113.649602, 30.566485], [113.651474, 30.54713], [113.621207, 30.491732], [113.565042, 30.464291], [113.544448, 30.429036], [113.517301, 30.410461], [113.504508, 30.387844], [113.483914, 30.37788], [113.464256, 30.388652], [113.457079, 30.375187], [113.437733, 30.377611], [113.414955, 30.390267], \n",
    "                                       [113.34038, 30.418537], [113.323218, 30.41773], [113.203711, 30.417461], [113.134752, 30.429036], [113.05411, 30.466829], [112.94802, 30.513098], [112.898719, 30.560419], [112.886862, 30.525468], [112.88499, 30.493194], [112.8619, 30.48351], [112.809479, 30.498036], [112.721486, 30.546978], [112.681546, 30.543214], [112.63911, 30.624912], [112.566095, 30.656604], [112.600222, 30.801626], [112.534071, 30.871317], [112.505365, 30.978433], [112.47541, 31.088638], \n",
    "                                       [112.514101, 31.129264], [112.530327, 31.180556], [112.441711, 31.253172], [112.380552, 31.299062], [112.364327, 31.35666], [112.4155, 31.447252], [112.336868, 31.684506], [112.208312, 31.729123], [112.144658, 31.793886], [112.138417, 31.945529], [112.10971, 31.987902], [111.958687, 32.068356], [111.85759, 32.029197], [111.78395, 32.063066], [111.744011, 32.138168], [111.666116, 32.199567], [111.647394, 32.284058], [111.591228, 32.323109], [111.60995, 32.396942], \n",
    "                                       [111.53007, 32.462287], [111.453935, 32.502313], [111.314146, 32.464394], [111.267965, 32.384289], [111.015845, 32.494941], [110.898521, 32.640163], [110.832371, 32.717939], [110.712551, 32.7505], [110.660496, 32.783801], [110.640214, 32.788525], [110.300891, 32.776758], [110.139259, 32.776233], [109.80409, 32.851141], [109.735444, 32.879459], [109.742121, 32.944706]]])\n",
    "Map.addLayer(roi_hubei, {}, \"roi_hubei\")\n",
    "Map.centerObject(roi_hubei,10)"
   ]
  },
  {
   "cell_type": "markdown",
   "id": "ca2d4483",
   "metadata": {},
   "source": [
    "# landsat "
   ]
  },
  {
   "cell_type": "code",
   "execution_count": 8,
   "id": "e5e75674",
   "metadata": {
    "ExecuteTime": {
     "end_time": "2022-05-19T07:01:39.256343Z",
     "start_time": "2022-05-19T07:01:39.242381Z"
    }
   },
   "outputs": [],
   "source": [
    "def maskSR(img):\n",
    "    cloudShadowBitMask = (1 << 3)\n",
    "    cloudsBitMask = (1 << 5) \n",
    "    qa = img.select('pixel_qa')\n",
    "    mask = qa.bitwiseAnd(cloudShadowBitMask).eq(0) \\\n",
    "                   .And(qa.bitwiseAnd(cloudsBitMask).eq(0))\n",
    "    return img.updateMask(mask)"
   ]
  },
  {
   "cell_type": "code",
   "execution_count": 19,
   "id": "12a09d3e",
   "metadata": {
    "ExecuteTime": {
     "end_time": "2022-05-19T07:06:16.008667Z",
     "start_time": "2022-05-19T07:06:15.440347Z"
    }
   },
   "outputs": [],
   "source": [
    "l8 = ee.ImageCollection('LANDSAT/LC08/C01/T1_SR').filterBounds(roi).filterDate('2021-01-01','2021-12-31').map(maskSR).median().clip(roi)\n",
    "visParams = {'bands': ['B5', 'B4', 'B3'],'min': 0,'max': 3000,'gamma': 1.4}\n",
    "Map.addLayer(l8.clip(roi_wuhan), visParams,'image mosaic')"
   ]
  },
  {
   "cell_type": "code",
   "execution_count": 20,
   "id": "5d81be72",
   "metadata": {
    "ExecuteTime": {
     "end_time": "2022-05-19T07:06:21.371351Z",
     "start_time": "2022-05-19T07:06:17.321079Z"
    }
   },
   "outputs": [
    {
     "name": "stdout",
     "output_type": "stream",
     "text": [
      "water_area:  15.23676375258341\n"
     ]
    }
   ],
   "source": [
    "awei = water_index(l8).select('AWEI').gt(0).selfMask().clip(roi_wuhan)\n",
    "Map.addLayer(awei,{'palette':['blue']},'awei')\n",
    "\n",
    "water_area = awei.multiply(ee.Image.pixelArea()).divide(1e6)\n",
    "areas = water_area.reduceRegion(**{'reducer': ee.Reducer.sum(),'geometry': roi_wuhan,'scale': 30,'maxPixels': 1e14 })\n",
    "print('water_area: ',areas.get('AWEI').getInfo())"
   ]
  },
  {
   "cell_type": "code",
   "execution_count": 17,
   "id": "fd627a10",
   "metadata": {
    "ExecuteTime": {
     "end_time": "2022-05-19T07:05:07.712785Z",
     "start_time": "2022-05-19T07:04:44.372774Z"
    }
   },
   "outputs": [
    {
     "name": "stdout",
     "output_type": "stream",
     "text": [
      "water_area:  822.3173939923462\n"
     ]
    }
   ],
   "source": [
    "awei = water_index(l8).select('AWEI').gt(0).selfMask().clip(roi_hubei)\n",
    "Map.addLayer(awei,{'palette':['blue']},'awei')\n",
    "\n",
    "water_area = awei.multiply(ee.Image.pixelArea()).divide(1e6)\n",
    "areas = water_area.reduceRegion(**{'reducer': ee.Reducer.sum(),'geometry': roi_hubei,'scale': 30,'maxPixels': 1e14 })\n",
    "print('water_area: ',areas.get('AWEI').getInfo())"
   ]
  },
  {
   "cell_type": "code",
   "execution_count": null,
   "id": "2badd218",
   "metadata": {},
   "outputs": [],
   "source": [
    "# 2021\n",
    "water_area:  16.298481747996146\n",
    "water_area:  821.4879548703653\n",
    "    \n",
    "# 2020\n",
    "14.584790731385432\n",
    "742.7945056986239"
   ]
  },
  {
   "cell_type": "code",
   "execution_count": null,
   "id": "2d2e182b",
   "metadata": {},
   "outputs": [],
   "source": []
  },
  {
   "cell_type": "code",
   "execution_count": null,
   "id": "c9e24120",
   "metadata": {
    "ExecuteTime": {
     "end_time": "2022-05-19T06:16:11.244425Z",
     "start_time": "2022-05-19T06:16:10.914387Z"
    },
    "scrolled": false
   },
   "outputs": [],
   "source": [
    "roi = Map.user_roi\n",
    "print(roi.getInfo())"
   ]
  },
  {
   "cell_type": "code",
   "execution_count": null,
   "id": "af58b157",
   "metadata": {},
   "outputs": [],
   "source": []
  },
  {
   "cell_type": "markdown",
   "id": "3eac7329",
   "metadata": {},
   "source": [
    "# sentinel"
   ]
  },
  {
   "cell_type": "code",
   "execution_count": null,
   "id": "44f85953",
   "metadata": {
    "ExecuteTime": {
     "end_time": "2022-05-19T06:51:01.036476Z",
     "start_time": "2022-05-19T06:51:01.026503Z"
    }
   },
   "outputs": [],
   "source": [
    "def maskS2clouds(image):\n",
    "    qa = image.select('QA60')\n",
    "    cloudBitMask = 1 << 10\n",
    "    cirrusBitMask = 1 << 11\n",
    "    mask = qa.bitwiseAnd(cloudBitMask).eq(0).And(qa.bitwiseAnd(cirrusBitMask).eq(0))\n",
    "    return image.updateMask(mask)"
   ]
  },
  {
   "cell_type": "code",
   "execution_count": null,
   "id": "f4a02fc4",
   "metadata": {
    "ExecuteTime": {
     "end_time": "2022-05-19T06:51:11.427638Z",
     "start_time": "2022-05-19T06:51:10.107009Z"
    }
   },
   "outputs": [],
   "source": [
    "sentinel_images = ee.ImageCollection('COPERNICUS/S2_SR').select(['B2', 'B3','B4','B8','B11','B12','QA60'],['B2', 'B3','B4','B5', 'B6', 'B7','QA60'])\n",
    "s2 = sentinel_images.filterBounds(roi).filterDate('2021-01-01', '2021-12-31').map(maskS2clouds).median().clip(roi)\n",
    "visualization = {'min': 0,'max': 5000,'bands': ['B5', 'B4', 'B2']}\n",
    "Map.addLayer(s2, visualization, 'RGB')"
   ]
  },
  {
   "cell_type": "code",
   "execution_count": null,
   "id": "70f4b294",
   "metadata": {
    "ExecuteTime": {
     "end_time": "2022-05-19T06:55:17.484069Z",
     "start_time": "2022-05-19T06:55:14.883133Z"
    }
   },
   "outputs": [],
   "source": [
    "awei_s2 = water_index(s2).select('AWEI').gt(0).selfMask().clip(roi_wuhan)\n",
    "Map.addLayer(awei_s2.selfMask(),{'palette':['blue']},'awei_s2')\n",
    "\n",
    "water_area = awei_s2.multiply(ee.Image.pixelArea()).divide(1e6)\n",
    "areas = water_area.reduceRegion(**{'reducer': ee.Reducer.sum(),'geometry': roi_wuhan,'scale': 50,'maxPixels': 1e14 })\n",
    "print('water_area: ',areas.get('AWEI').getInfo())"
   ]
  },
  {
   "cell_type": "code",
   "execution_count": null,
   "id": "73ddd7b1",
   "metadata": {
    "ExecuteTime": {
     "start_time": "2022-05-19T06:59:10.672Z"
    }
   },
   "outputs": [],
   "source": [
    "awei_s2 = water_index(s2).select('AWEI').gt(0).selfMask().clip(roi_hubei)\n",
    "Map.addLayer(awei_s2.selfMask(),{'palette':['blue']},'awei_s2')\n",
    "\n",
    "water_area = awei_s2.multiply(ee.Image.pixelArea()).divide(1e6)\n",
    "areas = water_area.reduceRegion(**{'reducer': ee.Reducer.sum(),'geometry': roi_hubei,'scale': 600,'maxPixels': 1e14 })\n",
    "print('water_area: ',areas.get('AWEI').getInfo())"
   ]
  },
  {
   "cell_type": "code",
   "execution_count": null,
   "id": "f413fc89",
   "metadata": {},
   "outputs": [],
   "source": []
  }
 ],
 "metadata": {
  "hide_input": false,
  "kernelspec": {
   "display_name": "Python 3 (ipykernel)",
   "language": "python",
   "name": "python3"
  },
  "language_info": {
   "codemirror_mode": {
    "name": "ipython",
    "version": 3
   },
   "file_extension": ".py",
   "mimetype": "text/x-python",
   "name": "python",
   "nbconvert_exporter": "python",
   "pygments_lexer": "ipython3",
   "version": "3.8.12"
  },
  "toc": {
   "base_numbering": 1,
   "nav_menu": {},
   "number_sections": true,
   "sideBar": true,
   "skip_h1_title": false,
   "title_cell": "Table of Contents",
   "title_sidebar": "Contents",
   "toc_cell": false,
   "toc_position": {},
   "toc_section_display": true,
   "toc_window_display": false
  },
  "varInspector": {
   "cols": {
    "lenName": 16,
    "lenType": 16,
    "lenVar": 40
   },
   "kernels_config": {
    "python": {
     "delete_cmd_postfix": "",
     "delete_cmd_prefix": "del ",
     "library": "var_list.py",
     "varRefreshCmd": "print(var_dic_list())"
    },
    "r": {
     "delete_cmd_postfix": ") ",
     "delete_cmd_prefix": "rm(",
     "library": "var_list.r",
     "varRefreshCmd": "cat(var_dic_list()) "
    }
   },
   "types_to_exclude": [
    "module",
    "function",
    "builtin_function_or_method",
    "instance",
    "_Feature"
   ],
   "window_display": false
  }
 },
 "nbformat": 4,
 "nbformat_minor": 5
}
