{
 "cells": [
  {
   "cell_type": "code",
   "execution_count": 1,
   "metadata": {
    "ExecuteTime": {
     "end_time": "2021-06-25T03:30:07.890880Z",
     "start_time": "2021-06-25T03:30:07.876919Z"
    }
   },
   "outputs": [],
   "source": [
    "import os\n",
    "os.environ['HTTP_PROXY'] = \"http://127.0.0.1:10809\"\n",
    "os.environ['HTTPS_PROXY'] = \"http://127.0.0.1:10809\""
   ]
  },
  {
   "cell_type": "code",
   "execution_count": 2,
   "metadata": {
    "ExecuteTime": {
     "end_time": "2021-06-25T03:30:11.977169Z",
     "start_time": "2021-06-25T03:30:08.149423Z"
    },
    "scrolled": false
   },
   "outputs": [
    {
     "data": {
      "application/vnd.jupyter.widget-view+json": {
       "model_id": "dbd359e671e146d1901fdfff6c7aaff0",
       "version_major": 2,
       "version_minor": 0
      },
      "text/plain": [
       "Map(center=[40, -100], controls=(WidgetControl(options=['position', 'transparent_bg'], widget=HBox(children=(T…"
      ]
     },
     "metadata": {},
     "output_type": "display_data"
    }
   ],
   "source": [
    "import geemap\n",
    "import ee\n",
    "Map=geemap.Map()\n",
    "Map"
   ]
  },
  {
   "cell_type": "code",
   "execution_count": 3,
   "metadata": {
    "ExecuteTime": {
     "end_time": "2021-06-25T03:30:12.997902Z",
     "start_time": "2021-06-25T03:30:12.105862Z"
    },
    "scrolled": true
   },
   "outputs": [],
   "source": [
    "# 青海省部分地区\n",
    "# roi = ee.Geometry.Rectangle([89.852623, 33.737942,93.1677, 36.217184])\n",
    "# Map.addLayer(roi, {}, \"roi\")\n",
    "# Map.centerObject(roi,7)\n",
    "\n",
    "china_city = ee.FeatureCollection('users/311605001111/ChinaCity')\n",
    "roi = china_city.filter(ee.Filter.eq('市','武汉市'))\n",
    "Map.addLayer(roi, {}, \"roi\")\n",
    "Map.centerObject(roi,6)\n",
    "\n",
    "# bd = roi.first().geometry().bounds()\n",
    "# print(bd.getInfo())"
   ]
  },
  {
   "cell_type": "code",
   "execution_count": 4,
   "metadata": {
    "ExecuteTime": {
     "end_time": "2021-06-25T03:30:13.137815Z",
     "start_time": "2021-06-25T03:30:13.123401Z"
    }
   },
   "outputs": [],
   "source": [
    "# 去云、云阴影、雪掩膜函数\n",
    "def maskL8sr(image):\n",
    "    cloudShadowBitMask = (1 << 3)\n",
    "    cloudsBitMask = (1 << 5)\n",
    "    snowBitMask = (1 << 4)   \n",
    "    qa = image.select('pixel_qa')\n",
    "    mask = qa.bitwiseAnd(cloudShadowBitMask).eq(0) \\\n",
    "                   .And(qa.bitwiseAnd(cloudsBitMask).eq(0)) \\\n",
    "                   .And(qa.bitwiseAnd(snowBitMask).eq(0))\n",
    "    return image.updateMask(mask)\n",
    "\n",
    "visParams = {\n",
    "    'bands': ['B5', 'B6', 'B4'],\n",
    "    'min': 0,\n",
    "    'max': 3000,\n",
    "    'gamma': 1.4,\n",
    "}\n",
    "\n",
    "# AWEI(自动水体提取指数): AWEIsh = B2 + 2.5B3 - 1.5(B5+B6) - 0.25B7\n",
    "def water_index(image):\n",
    "    ndvi=image.normalizedDifference(['B5', 'B4']).rename('NDVI')\n",
    "    mndwi=image.normalizedDifference(['B3', 'B6']).rename(\"mNDWI\") \n",
    "    ndvi_mndwi = ndvi.subtract(mndwi).rename('ndvi_mndwi')\n",
    "    awei = image.expression('B2 + 2.5*B3 - 1.5*(B5+B6) - 0.25*B7',\n",
    "        {\n",
    "          'B2': image.select('B2'),\n",
    "          'B3': image.select('B3'),    \n",
    "          'B5': image.select('B5'),    \n",
    "          'B6': image.select('B6'),\n",
    "          'B7': image.select('B7'),\n",
    "        }).rename('AWEI')\n",
    "    return image.addBands(ndvi_mndwi).addBands(ndvi).addBands(mndwi).addBands(awei)\n",
    "\n",
    "def area_after_clip(image):\n",
    "    image_area = image.clip(roi).select('B2').gt(0).multiply(ee.Image.pixelArea()).divide(1e6)\n",
    "    areas = image_area.reduceRegion(**{\n",
    "        'reducer': ee.Reducer.sum(),\n",
    "        'geometry': image.geometry(),\n",
    "        'scale': 30,\n",
    "        'maxPixels': 1e14\n",
    "    })\n",
    "    return image.set({'area': areas.get('B2')})"
   ]
  },
  {
   "cell_type": "code",
   "execution_count": 5,
   "metadata": {
    "ExecuteTime": {
     "end_time": "2021-06-25T03:30:14.852296Z",
     "start_time": "2021-06-25T03:30:13.263705Z"
    }
   },
   "outputs": [
    {
     "name": "stdout",
     "output_type": "stream",
     "text": [
      "69\n"
     ]
    }
   ],
   "source": [
    "landsat_images = ee.ImageCollection('LANDSAT/LC08/C01/T1_SR') \\\n",
    "    .filterBounds(roi) \\\n",
    "    .filterDate('2018-01-01', '2018-12-31') \\\n",
    "    .map(maskL8sr) \\\n",
    "    .map(water_index)\n",
    "Map.addLayer(landsat_images.mosaic().clip(roi),visParams,'landsat image')\n",
    "print(landsat_images.size().getInfo())"
   ]
  },
  {
   "cell_type": "markdown",
   "metadata": {},
   "source": [
    "# 筛选得出采样影像"
   ]
  },
  {
   "cell_type": "code",
   "execution_count": 6,
   "metadata": {
    "ExecuteTime": {
     "end_time": "2021-06-25T03:30:16.928319Z",
     "start_time": "2021-06-25T03:30:14.979159Z"
    },
    "scrolled": true
   },
   "outputs": [
    {
     "name": "stdout",
     "output_type": "stream",
     "text": [
      "34\n"
     ]
    }
   ],
   "source": [
    "image_area = landsat_images.mosaic().clip(roi).select('B2').gt(0).multiply(ee.Image.pixelArea()).divide(1e6)\n",
    "areas = image_area.reduceRegion(**{\n",
    "    'reducer': ee.Reducer.sum(),\n",
    "    'geometry': roi,\n",
    "    'scale': 30,\n",
    "    'maxPixels': 1e14\n",
    "})\n",
    "# print(areas.getInfo())\n",
    "\n",
    "# 筛选影像，影像覆盖研究区的范围 > 研究区的1/10\n",
    "sample_image = landsat_images.map(area_after_clip).filter(ee.Filter.gt('area',ee.Number(areas.get('B2')).divide(ee.Number(10))))\n",
    "print(sample_image.size().getInfo())\n",
    "\n",
    "# dates = sample_image.aggregate_array('system:time_start').map(lambda d: ee.Date(d).format('YYYY-MM-dd'))\n",
    "# print(dates.getInfo())"
   ]
  },
  {
   "cell_type": "markdown",
   "metadata": {},
   "source": [
    "# 样本采集函数的定义"
   ]
  },
  {
   "cell_type": "code",
   "execution_count": 7,
   "metadata": {
    "ExecuteTime": {
     "end_time": "2021-06-25T03:30:17.258195Z",
     "start_time": "2021-06-25T03:30:17.233309Z"
    }
   },
   "outputs": [],
   "source": [
    "# ndvi_mndwi水体频率\n",
    "basemap = ee.Image.constant(0).clip(roi).rename('waterclass')\n",
    "water_layer = landsat_images.map(lambda i : i.select('ndvi_mndwi').lt(0)).sum()\n",
    "validPixel_layer = landsat_images.count().select('B3').clip(roi).rename('count')\n",
    "index_waterfrequency = water_layer.select('ndvi_mndwi').divide(validPixel_layer.select('count')).select('ndvi_mndwi').rename('frequency')\n",
    "index_permanent = index_waterfrequency.gte(0.75).remap([0,1],[0,2]).rename('waterclass')\n",
    "index_season= ee.ImageCollection([index_waterfrequency.gte(0.25),index_waterfrequency.lt(0.75)]).sum().eq(2).rename('waterclass')\n",
    "index_waterclass = ee.ImageCollection([index_permanent,index_season,basemap]).sum()\n",
    "# Map.addLayer(index_waterfrequency.gte(0.75).selfMask(),{'palette':['green']},\"index permanentwater\")\n",
    "# JRC\n",
    "JRC_2018 = ee.Image(\"JRC/GSW1_3/YearlyHistory/2018\").clip(roi).remap([0,1,2,3],[0,0,1,2]).rename('waterclass')\n",
    "JRC_waterclass = ee.ImageCollection([JRC_2018,basemap]).sum()\n",
    "# Maryland\n",
    "Maryland_2018 = ee.Image('users/311605001111/Maryland_2018').clip(roi).select('b1').rename('waterclass')\n",
    "Maryland_permanent = Maryland_2018.select('waterclass').gte(75).remap([0,1],[0,2]).rename('waterclass')\n",
    "Maryland_season= ee.ImageCollection([Maryland_2018.gte(25),Maryland_2018.lt(75)]).sum().eq(2)\n",
    "Maryland_waterclass = ee.ImageCollection([Maryland_permanent,Maryland_season,basemap]).sum()\n",
    "# 三者的交集\n",
    "permanentWaterExtent = ee.ImageCollection([index_waterclass.eq(2),JRC_waterclass.eq(2),Maryland_waterclass.eq(2)]).sum().eq(3)\n",
    "landExtent = ee.ImageCollection([index_waterclass.eq(0),JRC_waterclass.eq(0),Maryland_waterclass.eq(0)]).sum().eq(3)\n",
    "seasonWaterExtent = ee.ImageCollection([permanentWaterExtent,landExtent]).sum().remap([0,1],[1,0]).rename('waterclass')\n",
    "# # 两者的交集\n",
    "# permanentWaterExtent = ee.ImageCollection([index_waterclass.eq(2),JRC_waterclass.eq(2)]).sum().eq(2)\n",
    "# landExtent = ee.ImageCollection([index_waterclass.eq(0),JRC_waterclass.eq(0)]).sum().eq(2)\n",
    "# seasonWaterExtent = ee.ImageCollection([permanentWaterExtent,landExtent]).sum().remap([0,1],[1,0]).rename('waterclass')"
   ]
  },
  {
   "cell_type": "code",
   "execution_count": 8,
   "metadata": {
    "ExecuteTime": {
     "end_time": "2021-06-25T03:30:20.027797Z",
     "start_time": "2021-06-25T03:30:20.012569Z"
    }
   },
   "outputs": [],
   "source": [
    "def intervalmean(image):\n",
    "    awei = image.clip(roi).updateMask(seasonWaterExtent).select('AWEI')\n",
    "    intervalMean = awei.reduceRegion(**{\n",
    "        'reducer': ee.Reducer.intervalMean(50,100), \n",
    "        'geometry': roi, \n",
    "        'scale': 30, \n",
    "        'bestEffort': True\n",
    "    })\n",
    "    return image.set({'mean': intervalMean.get('AWEI')})"
   ]
  },
  {
   "cell_type": "code",
   "execution_count": 9,
   "metadata": {
    "ExecuteTime": {
     "end_time": "2021-06-25T03:30:25.086646Z",
     "start_time": "2021-06-25T03:30:22.796433Z"
    },
    "scrolled": false
   },
   "outputs": [
    {
     "name": "stdout",
     "output_type": "stream",
     "text": [
      "[1833.2069358146275, 1277.3482885097844, 2001.1792807352524, 765.2368731568886, 351.3628022348106, 491.2422884122179, -242.9414773739835, 475.98724170184164, 339.6912128784412, 615.4008182810105, 832.2111912154784, 1528.241316501871, 1889.6328865433998, 558.5839807379335, 357.14113352128203, -52.5582242690037, 150.72513448037537, 93.82713789812735, -152.9668189197687, 133.8894573334904, -158.27636450894803, 510.3469427302653, 1306.4691488873025, 788.3159603637351, 702.6078083454344, 429.981199467142, 538.9236700297523, 294.01948384809293, 267.6170341199865, 570.3982708178327, 362.69304576620885, 416.154383572605, 763.2107377100701, 837.9305139744538]\n"
     ]
    }
   ],
   "source": [
    "a = sample_image.map(intervalmean).aggregate_array('mean')\n",
    "print(a.getInfo())"
   ]
  },
  {
   "cell_type": "code",
   "execution_count": 10,
   "metadata": {
    "ExecuteTime": {
     "end_time": "2021-06-25T03:30:29.206883Z",
     "start_time": "2021-06-25T03:30:29.198878Z"
    }
   },
   "outputs": [],
   "source": [
    "# RandomForest预测使用的波段\n",
    "bands = ['B2', 'B3', 'B4', 'B5', 'B6', 'B7','NDVI','mNDWI','ndvi_mndwi','AWEI']\n",
    "# 分类标签\n",
    "label = 'waterclass'\n",
    "def imageSample(image):\n",
    "    permanent = permanentWaterExtent.updateMask(image.select('B3').gt(0)).remap([0,1],[0,2]).rename('waterclass')\n",
    "    land = landExtent.updateMask(image.select('B3').gt(0))\n",
    "    awei = image.clip(roi).updateMask(seasonWaterExtent).select('AWEI')\n",
    "    season_class = awei.gt(ee.Image.constant(image.get('mean'))).rename('waterclass')\n",
    "    seasonalwater_Extent = ee.ImageCollection([season_class,basemap]).sum().remap([0,1],[0,2]).rename('waterclass').clip(image.geometry())\n",
    "    percentile_waterclass = ee.ImageCollection([permanent,seasonalwater_Extent,land]).sum().remap([0,1,2],[0,0,1]).rename('waterclass')\n",
    "    water = percentile_waterclass.selfMask().clip(image.geometry())\n",
    "    nowater = percentile_waterclass.eq(0).selfMask().remap([1],[0]).rename('waterclass').clip(image.geometry())\n",
    "    water_points = water.sample(**{\n",
    "        'region': roi,\n",
    "        'scale': 30,\n",
    "        'numPixels': 400,\n",
    "        'seed': 0,\n",
    "        'geometries': True,\n",
    "    })\n",
    "    nowater_points = nowater.sample(**{\n",
    "        'region': roi,\n",
    "        'scale': 30,\n",
    "        'numPixels': 200,\n",
    "        'seed': 0,\n",
    "        'geometries': True,\n",
    "    })\n",
    "    all_points = water_points.merge(nowater_points)\n",
    "    sample_points = image.select(bands).sampleRegions(**{\n",
    "        'collection': all_points,\n",
    "        'properties': [label],\n",
    "        'scale': 30,\n",
    "        'geometries': True,\n",
    "    })\n",
    "    return sample_points"
   ]
  },
  {
   "cell_type": "code",
   "execution_count": 11,
   "metadata": {
    "ExecuteTime": {
     "end_time": "2021-06-25T03:30:42.403925Z",
     "start_time": "2021-06-25T03:30:33.282079Z"
    }
   },
   "outputs": [
    {
     "name": "stdout",
     "output_type": "stream",
     "text": [
      "{'type': 'Feature', 'geometry': {'geodesic': False, 'type': 'Point', 'coordinates': [114.67564868561135, 30.581283003170444]}, 'id': 'LC08_122039_20180111_1_33_0', 'properties': {'AWEI': 2734.5, 'B2': 851, 'B3': 1009, 'B4': 898, 'B5': 305, 'B6': 109, 'B7': 72, 'NDVI': -0.49293431639671326, 'mNDWI': 0.8050089478492737, 'ndvi_mndwi': -1.2979432344436646, 'waterclass': 1}}\n",
      "total sample number:2906\n"
     ]
    }
   ],
   "source": [
    "# 总的样本点数\n",
    "points_collection = sample_image.map(intervalmean).map(imageSample).flatten()\n",
    "print(points_collection.first().getInfo())\n",
    "print('total sample number:{}'.format(points_collection.size().getInfo()))\n",
    "\n",
    "# # 水体的样本点数\n",
    "# samplepoint_water = points_collection.filter(ee.Filter.eq('waterclass',1))\n",
    "# print('water sample number:{}'.format(samplepoint_water.size().getInfo()))"
   ]
  },
  {
   "cell_type": "code",
   "execution_count": 12,
   "metadata": {
    "ExecuteTime": {
     "end_time": "2021-06-25T03:30:54.522743Z",
     "start_time": "2021-06-25T03:30:54.516759Z"
    }
   },
   "outputs": [],
   "source": [
    "trainedClassifier = ee.Classifier.smileRandomForest(20).train(points_collection,label,bands)\n",
    "# train_accuracy = trainedClassifier.confusionMatrix()\n",
    "# print(train_accuracy.getInfo())\n",
    "# print(train_accuracy.accuracy().getInfo())\n",
    "# print(train_accuracy.kappa().getInfo())\n",
    "\n",
    "#对Landsat-8进行分类\n",
    "def training(image):\n",
    "    return image.clip(roi).select(bands).classify(trainedClassifier).eq(1).rename('waterclass')"
   ]
  },
  {
   "cell_type": "code",
   "execution_count": 13,
   "metadata": {
    "ExecuteTime": {
     "end_time": "2021-06-25T03:31:15.604395Z",
     "start_time": "2021-06-25T03:31:14.283467Z"
    }
   },
   "outputs": [],
   "source": [
    "image2 = water_index(ee.Image('LANDSAT/LC08/C01/T1_SR/LC08_122039_20180212'))\n",
    "Map.addLayer(image2.clip(roi),visParams,'image2')\n",
    "\n",
    "classify2 = image2.clip(roi).select(bands).classify(trainedClassifier).eq(1).rename('waterclass')\n",
    "Map.addLayer(classify2.selfMask(),{'palette':['blue']}, 'classify2')"
   ]
  },
  {
   "cell_type": "code",
   "execution_count": 14,
   "metadata": {
    "ExecuteTime": {
     "end_time": "2021-06-25T03:31:45.287364Z",
     "start_time": "2021-06-25T03:31:43.897557Z"
    }
   },
   "outputs": [],
   "source": [
    "image9 = water_index(ee.Image('LANDSAT/LC08/C01/T1_SR/LC08_123039_20180915'))\n",
    "Map.addLayer(image9.clip(roi),visParams,'image9')\n",
    "\n",
    "classify9 = image9.clip(roi).select(bands).classify(trainedClassifier).eq(1).rename('waterclass')\n",
    "Map.addLayer(classify9.selfMask(),{'palette':['blue']}, 'classify9')"
   ]
  },
  {
   "cell_type": "code",
   "execution_count": 23,
   "metadata": {
    "ExecuteTime": {
     "end_time": "2021-06-25T04:10:00.895208Z",
     "start_time": "2021-06-25T04:09:57.889734Z"
    }
   },
   "outputs": [
    {
     "data": {
      "text/plain": [
       "Text(0.5, 1.0, 'AWEI(avg(50%-100%))')"
      ]
     },
     "execution_count": 23,
     "metadata": {},
     "output_type": "execute_result"
    },
    {
     "data": {
      "image/png": "[encoded data removed]",
      "text/plain": [
       "<Figure size 864x576 with 1 Axes>"
      ]
     },
     "metadata": {
      "needs_background": "light"
     },
     "output_type": "display_data"
    }
   ],
   "source": [
    "# 制图\n",
    "from matplotlib import pyplot as plt\n",
    "import numpy as np\n",
    "import matplotlib\n",
    "from geemap import cartoee\n",
    "region = [113.6, 29.9, 115.1, 31.4]\n",
    "vis = {'palette':['D4D4D4','blue'],'min':0,'max':1}\n",
    "fig = plt.figure(figsize=(12, 8))\n",
    "ax = cartoee.get_map(classify2, region=region, vis_params=vis)\n",
    "# add gridlines to the map at a specified interval\n",
    "cartoee.add_gridlines(ax, interval=[0.2,0.2], linestyle=\":\")\n",
    "ax.set_title(label = 'AWEI(avg(50%-100%))', fontsize=20)"
   ]
  },
  {
   "cell_type": "code",
   "execution_count": null,
   "metadata": {},
   "outputs": [],
   "source": []
  },
  {
   "cell_type": "code",
   "execution_count": null,
   "metadata": {},
   "outputs": [],
   "source": []
  },
  {
   "cell_type": "code",
   "execution_count": null,
   "metadata": {},
   "outputs": [],
   "source": []
  },
  {
   "cell_type": "code",
   "execution_count": null,
   "metadata": {},
   "outputs": [],
   "source": []
  },
  {
   "cell_type": "code",
   "execution_count": null,
   "metadata": {
    "ExecuteTime": {
     "end_time": "2021-06-25T00:50:07.060084Z",
     "start_time": "2021-06-25T00:50:06.637985Z"
    }
   },
   "outputs": [],
   "source": [
    "basemap = ee.Image.constant(0).clip(roi).rename('waterclass')\n",
    "Map.addLayer(basemap,{'palette':['white']},\"basemap\")\n",
    "\n",
    "waterpixel_count = landsat_images.map(training).sum()\n",
    "Map.addLayer(waterpixel_count,{'palette':['white','#e40775'],'min':0,'max':35},\"waterPixelCount\")"
   ]
  },
  {
   "cell_type": "code",
   "execution_count": null,
   "metadata": {
    "ExecuteTime": {
     "end_time": "2021-06-25T00:50:44.225376Z",
     "start_time": "2021-06-25T00:50:43.222354Z"
    }
   },
   "outputs": [],
   "source": [
    "validPixel = landsat_images.count().select('B3').clip(roi).rename('count')\n",
    "waterfrequency = waterpixel_count.select('waterclass').divide(validPixel.select('count')).rename('frequency')\n",
    "Map.addLayer(waterfrequency,{'palette':['white','green'],'min':0,'max':1},\"frequency\")\n",
    "\n",
    "permanentwater = waterfrequency.gte(0.75).select('frequency').rename('waterclass')\n",
    "Map.addLayer(permanentwater.selfMask(),{'palette':['red']},\"permanent water\")"
   ]
  },
  {
   "cell_type": "code",
   "execution_count": null,
   "metadata": {
    "ExecuteTime": {
     "end_time": "2021-06-25T00:50:59.542251Z",
     "start_time": "2021-06-25T00:50:58.650015Z"
    }
   },
   "outputs": [],
   "source": [
    "# basemap = ee.Image.constant(0).clip(roi).rename('waterclass')\n",
    "# permanent_water = waterfrequency.gte(0.75).remap([0,1],[0,2]).rename('waterclass')\n",
    "# seasonal_water = ee.ImageCollection([waterfrequency.gte(0.25),waterfrequency.lt(0.75)]).sum().eq(2).rename('waterclass')\n",
    "# water_waterclass = ee.ImageCollection([permanent_water,seasonal_water,basemap]).sum()\n",
    "# # Map.addLayer(water_waterclass,{'palette':['white','red','blue'],'min':0,'max':2},\"water waterclass\")"
   ]
  },
  {
   "cell_type": "code",
   "execution_count": null,
   "metadata": {},
   "outputs": [],
   "source": []
  }
 ],
 "metadata": {
  "hide_input": false,
  "kernelspec": {
   "display_name": "Python 3",
   "language": "python",
   "name": "python3"
  },
  "language_info": {
   "codemirror_mode": {
    "name": "ipython",
    "version": 3
   },
   "file_extension": ".py",
   "mimetype": "text/x-python",
   "name": "python",
   "nbconvert_exporter": "python",
   "pygments_lexer": "ipython3",
   "version": "3.8.5"
  },
  "toc": {
   "base_numbering": 1,
   "nav_menu": {},
   "number_sections": true,
   "sideBar": true,
   "skip_h1_title": false,
   "title_cell": "Table of Contents",
   "title_sidebar": "Contents",
   "toc_cell": false,
   "toc_position": {},
   "toc_section_display": true,
   "toc_window_display": false
  },
  "varInspector": {
   "cols": {
    "lenName": 16,
    "lenType": 16,
    "lenVar": 40
   },
   "kernels_config": {
    "python": {
     "delete_cmd_postfix": "",
     "delete_cmd_prefix": "del ",
     "library": "var_list.py",
     "varRefreshCmd": "print(var_dic_list())"
    },
    "r": {
     "delete_cmd_postfix": ") ",
     "delete_cmd_prefix": "rm(",
     "library": "var_list.r",
     "varRefreshCmd": "cat(var_dic_list()) "
    }
   },
   "types_to_exclude": [
    "module",
    "function",
    "builtin_function_or_method",
    "instance",
    "_Feature"
   ],
   "window_display": false
  }
 },
 "nbformat": 4,
 "nbformat_minor": 4
}
