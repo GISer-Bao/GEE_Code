{
 "cells": [
  {
   "cell_type": "code",
   "execution_count": null,
   "metadata": {
    "ExecuteTime": {
     "end_time": "2021-05-05T02:26:47.363027Z",
     "start_time": "2021-05-05T02:26:47.360071Z"
    }
   },
   "outputs": [],
   "source": [
    "import os\n",
    "os.environ['HTTP_PROXY'] = \"http://127.0.0.1:10809\"\n",
    "os.environ['HTTPS_PROXY'] = \"http://127.0.0.1:10809\""
   ]
  },
  {
   "cell_type": "code",
   "execution_count": null,
   "metadata": {
    "ExecuteTime": {
     "end_time": "2021-05-05T02:26:52.429184Z",
     "start_time": "2021-05-05T02:26:47.654974Z"
    },
    "scrolled": false
   },
   "outputs": [],
   "source": [
    "import ee\n",
    "import geemap\n",
    "Map = geemap.Map()\n",
    "Map"
   ]
  },
  {
   "cell_type": "code",
   "execution_count": null,
   "metadata": {
    "ExecuteTime": {
     "end_time": "2021-05-05T02:26:53.316715Z",
     "start_time": "2021-05-05T02:26:52.477056Z"
    }
   },
   "outputs": [],
   "source": [
    "roi = ee.FeatureCollection('users/311605001111/YangtzeCity/wuhan')\n",
    "Map.addLayer(roi, {}, \"roi\")\n",
    "Map.centerObject(roi,9)"
   ]
  },
  {
   "cell_type": "code",
   "execution_count": null,
   "metadata": {
    "ExecuteTime": {
     "end_time": "2021-05-05T10:18:33.985832Z",
     "start_time": "2021-05-05T10:18:33.970845Z"
    }
   },
   "outputs": [],
   "source": [
    "js_snippet = \"\"\"\n",
    "\n",
    "\n",
    "\n",
    "\"\"\""
   ]
  },
  {
   "cell_type": "code",
   "execution_count": null,
   "metadata": {
    "ExecuteTime": {
     "end_time": "2021-05-05T10:18:34.818028Z",
     "start_time": "2021-05-05T10:18:34.799138Z"
    },
    "scrolled": true
   },
   "outputs": [],
   "source": [
    "geemap.js_snippet_to_py(js_snippet)"
   ]
  },
  {
   "cell_type": "code",
   "execution_count": null,
   "metadata": {},
   "outputs": [],
   "source": []
  },
  {
   "cell_type": "code",
   "execution_count": null,
   "metadata": {},
   "outputs": [],
   "source": []
  },
  {
   "cell_type": "code",
   "execution_count": null,
   "metadata": {},
   "outputs": [],
   "source": []
  },
  {
   "cell_type": "code",
   "execution_count": null,
   "metadata": {},
   "outputs": [],
   "source": []
  },
  {
   "cell_type": "code",
   "execution_count": null,
   "metadata": {},
   "outputs": [],
   "source": []
  },
  {
   "cell_type": "code",
   "execution_count": null,
   "metadata": {
    "ExecuteTime": {
     "end_time": "2021-05-04T03:50:27.442243Z",
     "start_time": "2021-05-04T03:50:25.656729Z"
    }
   },
   "outputs": [],
   "source": [
    "image = ee.Image('USDA/NAIP/DOQQ/m_4307663_se_18_1_20130619')\n",
    "\n",
    "Map.setCenter(-76.13, 43.03,16)\n",
    "Map.addLayer(image, {'max': 255}, 'Input image')\n",
    "\n",
    "nir = image.select('N')\n",
    "square = ee.Kernel.square(**{'radius': 3})\n",
    "entropy = nir.entropy(square)\n",
    "\n",
    "Map.addLayer(entropy,{'min': 1, 'max': 5, 'palette': ['0000CC', 'CC0000']}, 'entropy')"
   ]
  },
  {
   "cell_type": "code",
   "execution_count": null,
   "metadata": {
    "ExecuteTime": {
     "end_time": "2021-05-04T03:49:22.391598Z",
     "start_time": "2021-05-04T03:49:21.681443Z"
    }
   },
   "outputs": [],
   "source": [
    "histogram = entropy.select('N').reduceRegion(**{\n",
    "    'reducer': ee.Reducer.histogram(100),\n",
    "    'geometry': image.geometry(), \n",
    "    'scale': 100,\n",
    "    'bestEffort': True\n",
    "})\n",
    "print(histogram.getInfo())"
   ]
  },
  {
   "cell_type": "code",
   "execution_count": null,
   "metadata": {
    "ExecuteTime": {
     "end_time": "2021-05-04T03:25:21.818063Z",
     "start_time": "2021-05-04T03:25:19.986742Z"
    }
   },
   "outputs": [],
   "source": [
    "# 图像融合\n",
    "image = ee.Image('LANDSAT/LC08/C01/T1_TOA/LC08_121038_20160115')\n",
    "Map.addLayer(image,{'bands': ['B4', 'B3', 'B2'],'min':0,'max':3000}, 'RGB image')\n",
    "hsv = image.select(['B4', 'B3', 'B2']).rgbToHsv()\n",
    "\n",
    "combined = ee.Image.cat([hsv.select('hue'), hsv.select('saturation'), image_toa.select('B8')])\n",
    "\n",
    "sharpened = ee.Image(combined).hsvToRgb()\n",
    "Map.centerObject(image,8)\n",
    "Map.addLayer(sharpened,'','pan-sharpened')"
   ]
  },
  {
   "cell_type": "code",
   "execution_count": null,
   "metadata": {
    "ExecuteTime": {
     "end_time": "2021-05-04T02:25:49.526251Z",
     "start_time": "2021-05-04T02:25:47.456973Z"
    }
   },
   "outputs": [],
   "source": [
    "image = ee.Image('LANDSAT/LC08/C01/T1/LC08_015030_20140307').select(\"B8\")\n",
    "Map.setCenter(-76.1467, 43.0458,12)\n",
    "Map.addLayer(image, '', 'input image')\n",
    "\n",
    "canny = ee.Algorithms.CannyEdgeDetector(**{'image': image, 'threshold': 200, 'sigma': 1 })\n",
    "Map.addLayer(canny, {}, 'canny')\n",
    "\n",
    "hough = ee.Algorithms.HoughTransform(canny, 256, 7000, 80)\n",
    "Map.addLayer(hough, {}, 'hough')"
   ]
  }
 ],
 "metadata": {
  "hide_input": false,
  "kernelspec": {
   "display_name": "Python 3",
   "language": "python",
   "name": "python3"
  },
  "language_info": {
   "codemirror_mode": {
    "name": "ipython",
    "version": 3
   },
   "file_extension": ".py",
   "mimetype": "text/x-python",
   "name": "python",
   "nbconvert_exporter": "python",
   "pygments_lexer": "ipython3",
   "version": "3.8.5"
  },
  "toc": {
   "base_numbering": 1,
   "nav_menu": {},
   "number_sections": true,
   "sideBar": true,
   "skip_h1_title": false,
   "title_cell": "Table of Contents",
   "title_sidebar": "Contents",
   "toc_cell": false,
   "toc_position": {},
   "toc_section_display": true,
   "toc_window_display": false
  },
  "varInspector": {
   "cols": {
    "lenName": 16,
    "lenType": 16,
    "lenVar": 40
   },
   "kernels_config": {
    "python": {
     "delete_cmd_postfix": "",
     "delete_cmd_prefix": "del ",
     "library": "var_list.py",
     "varRefreshCmd": "print(var_dic_list())"
    },
    "r": {
     "delete_cmd_postfix": ") ",
     "delete_cmd_prefix": "rm(",
     "library": "var_list.r",
     "varRefreshCmd": "cat(var_dic_list()) "
    }
   },
   "types_to_exclude": [
    "module",
    "function",
    "builtin_function_or_method",
    "instance",
    "_Feature"
   ],
   "window_display": false
  }
 },
 "nbformat": 4,
 "nbformat_minor": 4
}
