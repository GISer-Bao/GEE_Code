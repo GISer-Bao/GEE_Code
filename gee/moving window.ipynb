{
 "cells": [
  {
   "cell_type": "code",
   "execution_count": 1,
   "metadata": {
    "ExecuteTime": {
     "end_time": "2021-03-31T03:06:46.614133Z",
     "start_time": "2021-03-31T03:06:46.610175Z"
    }
   },
   "outputs": [],
   "source": [
    "import os\n",
    "os.environ['HTTP_PROXY'] = \"http://127.0.0.1:10809\"\n",
    "os.environ['HTTPS_PROXY'] = \"http://127.0.0.1:10809\""
   ]
  },
  {
   "cell_type": "code",
   "execution_count": 2,
   "metadata": {
    "ExecuteTime": {
     "end_time": "2021-03-31T03:06:50.846718Z",
     "start_time": "2021-03-31T03:06:46.840561Z"
    },
    "scrolled": false
   },
   "outputs": [
    {
     "data": {
      "application/vnd.jupyter.widget-view+json": {
       "model_id": "9d80d64e8f484320b1198aadf461121c",
       "version_major": 2,
       "version_minor": 0
      },
      "text/plain": [
       "Map(center=[40, -100], controls=(WidgetControl(options=['position'], widget=HBox(children=(ToggleButton(value=…"
      ]
     },
     "metadata": {},
     "output_type": "display_data"
    }
   ],
   "source": [
    "import geemap\n",
    "import ee\n",
    "Map=geemap.Map()\n",
    "Map"
   ]
  },
  {
   "cell_type": "code",
   "execution_count": 3,
   "metadata": {
    "ExecuteTime": {
     "end_time": "2021-03-31T03:06:51.610355Z",
     "start_time": "2021-03-31T03:06:50.894987Z"
    }
   },
   "outputs": [],
   "source": [
    "roi = ee.FeatureCollection('users/311605001111/YangtzeCity/wuhan')\n",
    "Map.addLayer(roi, {}, \"roi\")\n",
    "Map.centerObject(roi,9)"
   ]
  },
  {
   "cell_type": "code",
   "execution_count": 4,
   "metadata": {
    "ExecuteTime": {
     "end_time": "2021-03-31T03:06:51.671912Z",
     "start_time": "2021-03-31T03:06:51.658916Z"
    }
   },
   "outputs": [],
   "source": [
    "# 可视化参数设置\n",
    "vis_params = {\n",
    "  'bands': ['B5', 'B4', 'B3'],\n",
    "  'min': 0,\n",
    "  'max': 3000,\n",
    "  'gamma': 1.4,\n",
    "}"
   ]
  },
  {
   "cell_type": "code",
   "execution_count": 5,
   "metadata": {
    "ExecuteTime": {
     "end_time": "2021-03-31T03:06:52.340016Z",
     "start_time": "2021-03-31T03:06:51.720949Z"
    }
   },
   "outputs": [],
   "source": [
    "landsat_images = ee.ImageCollection('LANDSAT/LC08/C01/T1_SR') \\\n",
    "    .filterBounds(roi) \\\n",
    "    .filterDate('2016-07-01', '2016-07-31') \\\n",
    "#     .map(maskL8sr)\n",
    "\n",
    "second = ee.Image(landsat_images.toList(landsat_images.size()).get(1))\n",
    "Map.addLayer(second,vis_params,'second')"
   ]
  },
  {
   "cell_type": "code",
   "execution_count": 6,
   "metadata": {
    "ExecuteTime": {
     "end_time": "2021-03-31T03:06:53.304877Z",
     "start_time": "2021-03-31T03:06:52.389021Z"
    }
   },
   "outputs": [
    {
     "name": "stdout",
     "output_type": "stream",
     "text": [
      "{'geodesic': False, 'type': 'Polygon', 'coordinates': [[[114.21294479506497, 29.250772445169307], [116.55148463397202, 29.250772445169307], [116.55148463397202, 31.35132539980697], [114.21294479506497, 31.35132539980697], [114.21294479506497, 29.250772445169307]]]}\n"
     ]
    }
   ],
   "source": [
    "print(second.geometry().bounds().getInfo())\n",
    "Map.addLayer(second.geometry().bounds())"
   ]
  },
  {
   "cell_type": "code",
   "execution_count": null,
   "metadata": {
    "ExecuteTime": {
     "end_time": "2021-03-27T03:13:18.838100Z",
     "start_time": "2021-03-27T03:13:12.981175Z"
    }
   },
   "outputs": [],
   "source": [
    "for i in range(3):\n",
    "    for j in range(3):\n",
    "        coordinates = ee.Array(second.geometry().bounds().coordinates().get(0))\n",
    "        leftlon = coordinates.get([0,0]).add(ee.Number(0.82*i))\n",
    "        leftlat = coordinates.get([0,1]).add(ee.Number(0.72*j))\n",
    "        rightlon = coordinates.get([0,0]).add(ee.Number(0.82)).add(ee.Number(0.82*i))\n",
    "        rightlat = coordinates.get([0,1]).add(ee.Number(0.72)).add(ee.Number(0.72*j))\n",
    "        block = ee.Geometry.Rectangle([leftlon,leftlat,rightlon,rightlat])\n",
    "        Map.addLayer(block)"
   ]
  },
  {
   "cell_type": "code",
   "execution_count": null,
   "metadata": {
    "ExecuteTime": {
     "end_time": "2021-03-27T03:54:59.547883Z",
     "start_time": "2021-03-27T03:54:59.539876Z"
    }
   },
   "outputs": [],
   "source": [
    "def segmentImage(image):\n",
    "    imageCol = ee.ImageCollection([])\n",
    "    for i in range(3):\n",
    "        for j in range(3):\n",
    "            coordinates = ee.Array(second.geometry().bounds().coordinates().get(0))\n",
    "            leftlon = coordinates.get([0,0]).add(ee.Number(0.82*i))\n",
    "            leftlat = coordinates.get([0,1]).add(ee.Number(0.72*j))\n",
    "            rightlon = coordinates.get([0,0]).add(ee.Number(0.82)).add(ee.Number(0.82*i))\n",
    "            rightlat = coordinates.get([0,1]).add(ee.Number(0.72)).add(ee.Number(0.72*j))\n",
    "            img = image.clip(ee.Geometry.Rectangle([leftlon,leftlat,rightlon,rightlat])).clip(roi)\n",
    "            \n",
    "            imageCol = imageCol.merge(ee.ImageCollection(img))\n",
    "    return imageCol"
   ]
  },
  {
   "cell_type": "code",
   "execution_count": null,
   "metadata": {
    "ExecuteTime": {
     "end_time": "2021-03-27T03:55:42.937214Z",
     "start_time": "2021-03-27T03:55:42.927274Z"
    }
   },
   "outputs": [],
   "source": [
    "def segmentImage(image):\n",
    "    imageCol = ee.ImageCollection([])\n",
    "    for i in range(3):\n",
    "        for j in range(3):\n",
    "            coordinates = ee.Array(second.geometry().bounds().coordinates().get(0))\n",
    "            leftlon = coordinates.get([0,0]).add(ee.Number(0.82*i))\n",
    "            leftlat = coordinates.get([0,1]).add(ee.Number(0.72*j))\n",
    "            rightlon = coordinates.get([0,0]).add(ee.Number(0.82)).add(ee.Number(0.82*i))\n",
    "            rightlat = coordinates.get([0,1]).add(ee.Number(0.72)).add(ee.Number(0.72*j))\n",
    "            img = image.clip(ee.Geometry.Rectangle([leftlon,leftlat,rightlon,rightlat]))\n",
    "            \n",
    "            imageCol = imageCol.merge(ee.ImageCollection(img))\n",
    "    return imageCol"
   ]
  },
  {
   "cell_type": "code",
   "execution_count": null,
   "metadata": {
    "ExecuteTime": {
     "end_time": "2021-03-27T03:55:51.046215Z",
     "start_time": "2021-03-27T03:55:45.161243Z"
    }
   },
   "outputs": [],
   "source": [
    "img = segmentImage(second)\n",
    "for i in range(img.size().getInfo()):\n",
    "    num = ee.Image(img.toList(img.size()).get(i))\n",
    "    Map.addLayer(num,vis_params,\"num {}\".format(i))"
   ]
  },
  {
   "cell_type": "code",
   "execution_count": null,
   "metadata": {
    "ExecuteTime": {
     "end_time": "2021-03-26T08:28:42.825467Z",
     "start_time": "2021-03-26T08:28:31.965Z"
    }
   },
   "outputs": [],
   "source": [
    "Map"
   ]
  },
  {
   "cell_type": "code",
   "execution_count": null,
   "metadata": {},
   "outputs": [],
   "source": []
  }
 ],
 "metadata": {
  "hide_input": false,
  "kernelspec": {
   "display_name": "Python 3",
   "language": "python",
   "name": "python3"
  },
  "language_info": {
   "codemirror_mode": {
    "name": "ipython",
    "version": 3
   },
   "file_extension": ".py",
   "mimetype": "text/x-python",
   "name": "python",
   "nbconvert_exporter": "python",
   "pygments_lexer": "ipython3",
   "version": "3.8.5"
  },
  "toc": {
   "base_numbering": 1,
   "nav_menu": {},
   "number_sections": true,
   "sideBar": true,
   "skip_h1_title": false,
   "title_cell": "Table of Contents",
   "title_sidebar": "Contents",
   "toc_cell": false,
   "toc_position": {},
   "toc_section_display": true,
   "toc_window_display": false
  },
  "varInspector": {
   "cols": {
    "lenName": 16,
    "lenType": 16,
    "lenVar": 40
   },
   "kernels_config": {
    "python": {
     "delete_cmd_postfix": "",
     "delete_cmd_prefix": "del ",
     "library": "var_list.py",
     "varRefreshCmd": "print(var_dic_list())"
    },
    "r": {
     "delete_cmd_postfix": ") ",
     "delete_cmd_prefix": "rm(",
     "library": "var_list.r",
     "varRefreshCmd": "cat(var_dic_list()) "
    }
   },
   "types_to_exclude": [
    "module",
    "function",
    "builtin_function_or_method",
    "instance",
    "_Feature"
   ],
   "window_display": false
  }
 },
 "nbformat": 4,
 "nbformat_minor": 4
}
