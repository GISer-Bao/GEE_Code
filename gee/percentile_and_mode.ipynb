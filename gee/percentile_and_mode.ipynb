{
 "cells": [
  {
   "cell_type": "code",
   "execution_count": 1,
   "metadata": {
    "ExecuteTime": {
     "end_time": "2021-05-13T14:44:18.044848Z",
     "start_time": "2021-05-13T14:44:18.038862Z"
    }
   },
   "outputs": [],
   "source": [
    "import os\n",
    "os.environ['HTTP_PROXY'] = \"http://127.0.0.1:10809\"\n",
    "os.environ['HTTPS_PROXY'] = \"http://127.0.0.1:10809\""
   ]
  },
  {
   "cell_type": "code",
   "execution_count": 2,
   "metadata": {
    "ExecuteTime": {
     "end_time": "2021-05-13T14:44:24.336061Z",
     "start_time": "2021-05-13T14:44:18.558728Z"
    },
    "scrolled": false
   },
   "outputs": [
    {
     "data": {
      "application/vnd.jupyter.widget-view+json": {
       "model_id": "854462cd099147aab532ab301832387b",
       "version_major": 2,
       "version_minor": 0
      },
      "text/plain": [
       "Map(center=[40, -100], controls=(WidgetControl(options=['position'], widget=HBox(children=(ToggleButton(value=…"
      ]
     },
     "metadata": {},
     "output_type": "display_data"
    }
   ],
   "source": [
    "import geemap\n",
    "import ee\n",
    "Map=geemap.Map()\n",
    "Map  "
   ]
  },
  {
   "cell_type": "code",
   "execution_count": 3,
   "metadata": {
    "ExecuteTime": {
     "end_time": "2021-05-13T14:44:24.478815Z",
     "start_time": "2021-05-13T14:44:24.465820Z"
    }
   },
   "outputs": [],
   "source": [
    "# AWEI(自动水体提取指数): AWEIsh = B2 + 2.5B3 - 1.5(B5+B6) - 0.25B7\n",
    "def AWEIsh(image):\n",
    "    awei = image.expression('B2 + 2.5*B3 - 1.5*(B5+B6) - 0.25*B7',\n",
    "        {\n",
    "          'B2': image.select('B2'),\n",
    "          'B3': image.select('B3'),    \n",
    "          'B5': image.select('B5'),    \n",
    "          'B6': image.select('B6'),\n",
    "          'B7': image.select('B7'),\n",
    "        }).rename('AWEI')\n",
    "    return image.addBands(awei)\n",
    "\n",
    "# 去云、云阴影、雪掩膜函数\n",
    "def maskL8sr(image):\n",
    "    cloudShadowBitMask = (1 << 3)\n",
    "    cloudsBitMask = (1 << 5)\n",
    "    snowBitMask = (1 << 4)   \n",
    "    qa = image.select('pixel_qa')\n",
    "    mask = qa.bitwiseAnd(cloudShadowBitMask).eq(0) \\\n",
    "                   .And(qa.bitwiseAnd(cloudsBitMask).eq(0)) \\\n",
    "                   .And(qa.bitwiseAnd(snowBitMask).eq(0))\n",
    "    return image.updateMask(mask)\n",
    "\n",
    "visParams = {\n",
    "    'bands': ['B5', 'B6', 'B3'],\n",
    "    'min': 0,\n",
    "    'max': 3000,\n",
    "    'gamma': 1.4,\n",
    "}"
   ]
  },
  {
   "cell_type": "code",
   "execution_count": 4,
   "metadata": {
    "ExecuteTime": {
     "end_time": "2021-05-13T14:44:25.631223Z",
     "start_time": "2021-05-13T14:44:24.605984Z"
    }
   },
   "outputs": [],
   "source": [
    "roi = ee.Feature(ee.FeatureCollection('users/311605001111/YangtzeCity/wuhan').first()).geometry()\n",
    "Map.addLayer(roi, {}, \"roi\")\n",
    "Map.centerObject(roi,8)"
   ]
  },
  {
   "cell_type": "code",
   "execution_count": 5,
   "metadata": {
    "ExecuteTime": {
     "end_time": "2021-05-13T14:44:26.333464Z",
     "start_time": "2021-05-13T14:44:25.763235Z"
    }
   },
   "outputs": [],
   "source": [
    "image = ee.Image('LANDSAT/LC08/C01/T1_SR/LC08_123039_20181102').clip(roi)\n",
    "Map.addLayer(AWEIsh(image), visParams, 'image')"
   ]
  },
  {
   "cell_type": "code",
   "execution_count": 6,
   "metadata": {
    "ExecuteTime": {
     "end_time": "2021-05-13T14:44:27.571369Z",
     "start_time": "2021-05-13T14:44:26.461047Z"
    }
   },
   "outputs": [],
   "source": [
    "basemap = ee.Image.constant(0).clip(roi).rename('waterclass')\n",
    "Map.addLayer(basemap,{'palette':['white']},\"basemap\")\n",
    "\n",
    "awei_water = AWEIsh(image).select('AWEI').gt(0)\n",
    "Map.addLayer(awei_water.selfMask(),{'palette':['blue']}, 'awei_water')\n",
    "# Map.addLayer(awei_water,{'palette':['white','blue'],'min':0,'max':1}, 'awei_water')"
   ]
  },
  {
   "cell_type": "markdown",
   "metadata": {},
   "source": [
    "# 计算在75%处，AWEI的值"
   ]
  },
  {
   "cell_type": "code",
   "execution_count": 7,
   "metadata": {
    "ExecuteTime": {
     "end_time": "2021-05-13T14:44:30.635587Z",
     "start_time": "2021-05-13T14:44:30.078983Z"
    }
   },
   "outputs": [
    {
     "name": "stdout",
     "output_type": "stream",
     "text": [
      "-1922.9553450346796\n"
     ]
    }
   ],
   "source": [
    "def percentile(image):\n",
    "    a = image.reduceRegion(**{\n",
    "        'reducer': ee.Reducer.percentile([75]), \n",
    "        'geometry': roi, \n",
    "        'scale': 30, \n",
    "        'bestEffort': True\n",
    "    })\n",
    "    return image.set(a)\n",
    "a = AWEIsh(image).select('AWEI')\n",
    "percent_75 = percentile(a).get('AWEI')\n",
    "print(percent_75.getInfo())"
   ]
  },
  {
   "cell_type": "code",
   "execution_count": 8,
   "metadata": {
    "ExecuteTime": {
     "end_time": "2021-05-13T14:44:31.828638Z",
     "start_time": "2021-05-13T14:44:30.763655Z"
    }
   },
   "outputs": [
    {
     "name": "stdout",
     "output_type": "stream",
     "text": [
      "{'AWEI': 431.8262579924745}\n"
     ]
    }
   ],
   "source": [
    "a = AWEIsh(image).select('AWEI')\n",
    "intervalMean = a.reduceRegion(**{\n",
    "    'reducer': ee.Reducer.intervalMean(75,100), \n",
    "    'geometry': roi, \n",
    "    'scale': 30, \n",
    "    'bestEffort': True\n",
    "})\n",
    "print(intervalMean.getInfo())\n",
    "mask = a.gt(ee.Image.constant(intervalMean.get('AWEI')))\n",
    "\n",
    "Map.addLayer(mask.selfMask(),{'palette':['2ca25f']}, 'mask')"
   ]
  },
  {
   "cell_type": "code",
   "execution_count": null,
   "metadata": {},
   "outputs": [],
   "source": []
  },
  {
   "cell_type": "code",
   "execution_count": null,
   "metadata": {},
   "outputs": [],
   "source": []
  },
  {
   "cell_type": "code",
   "execution_count": null,
   "metadata": {
    "ExecuteTime": {
     "end_time": "2021-05-13T13:25:43.358402Z",
     "start_time": "2021-05-13T13:25:41.075423Z"
    }
   },
   "outputs": [],
   "source": [
    "a = AWEIsh(image).select('AWEI')\n",
    "percentile = a.reduceRegion(**{\n",
    "    'reducer': ee.Reducer.percentile([75]), \n",
    "    'geometry': roi, \n",
    "    'scale': 30, \n",
    "    'bestEffort': True\n",
    "})\n",
    "mask = a.gt(ee.Image.constant(percentile.get('AWEI')))\n",
    "Map.addLayer(mask.selfMask(),{'palette':['2ca25f']}, 'mask')"
   ]
  },
  {
   "cell_type": "code",
   "execution_count": null,
   "metadata": {
    "ExecuteTime": {
     "end_time": "2021-05-13T13:32:56.080160Z",
     "start_time": "2021-05-13T13:32:55.529969Z"
    }
   },
   "outputs": [],
   "source": [
    "a = ee.List([1,2,3,4,5,6,7,8,9,10])\n",
    "percentile = a.reduce(ee.Reducer.percentile([0,10,20,30,40,50,60,70,80,90,100]))\n",
    "intervalMean = a.reduce(ee.Reducer.intervalMean(80,100))\n",
    "print(percentile.getInfo())\n",
    "print(intervalMean.getInfo())"
   ]
  },
  {
   "cell_type": "code",
   "execution_count": null,
   "metadata": {
    "ExecuteTime": {
     "end_time": "2021-05-06T02:54:46.692167Z",
     "start_time": "2021-05-06T02:54:44.732476Z"
    }
   },
   "outputs": [],
   "source": [
    "awei_78_100 = AWEIsh(image).select('AWEI').gt(557.2084534892857)\n",
    "Map.addLayer(awei_78_100.selfMask(),{'palette':['2ca25f']}, 'awei_78_100')\n",
    "\n",
    "awei_80_100 = AWEIsh(image).select('AWEI').gt(930.8355484041551)\n",
    "Map.addLayer(awei_80_100.selfMask(),{'palette':['red']}, 'awei_80_100')"
   ]
  },
  {
   "cell_type": "markdown",
   "metadata": {},
   "source": [
    "# 频率滤波"
   ]
  },
  {
   "cell_type": "code",
   "execution_count": null,
   "metadata": {
    "ExecuteTime": {
     "end_time": "2021-05-05T13:22:10.704185Z",
     "start_time": "2021-05-05T13:22:09.238874Z"
    }
   },
   "outputs": [],
   "source": [
    "kernel = ee.Kernel.square(1,'pixels',False)\n",
    "mode = ee.Reducer.mode(2,1)\n",
    "reducer_water = awei_water.reduceNeighborhood(mode,kernel)\n",
    "print(reducer_water.bandNames().getInfo())\n",
    "# Map.addLayer(reducer_water,{'palette':['white','red'],'min':0,'max':1}, 'reducer_water')\n",
    "Map.addLayer(reducer_water.selfMask(),{'palette':['red']}, 'reducer_water')"
   ]
  },
  {
   "cell_type": "code",
   "execution_count": null,
   "metadata": {},
   "outputs": [],
   "source": [
    "focal_mode = awei_water.focal_mode(1,'square','pixels')\n",
    "print(focal_mode.bandNames().getInfo())\n",
    "Map.addLayer(focal_mode,{'palette':['white','red'],'min':0,'max':1}, 'focal_mode')\n",
    "\n",
    "geemap.ee_export_image(ee_object=focal_mode,filename='focal_mode.tif',scale=30,region=roi.geometry(),file_per_band=False,)"
   ]
  },
  {
   "cell_type": "code",
   "execution_count": null,
   "metadata": {
    "ExecuteTime": {
     "end_time": "2021-05-05T13:13:06.436139Z",
     "start_time": "2021-05-05T13:13:06.419152Z"
    }
   },
   "outputs": [],
   "source": [
    "# geemap.ee_export_image(ee_object=awei_water,filename='awei_water.tif',scale=30,region=roi.geometry(),file_per_band=False,)"
   ]
  },
  {
   "cell_type": "code",
   "execution_count": null,
   "metadata": {
    "ExecuteTime": {
     "end_time": "2021-05-05T13:13:07.123917Z",
     "start_time": "2021-05-05T13:13:07.106903Z"
    }
   },
   "outputs": [],
   "source": [
    "# for i in range(5,11,1):\n",
    "#     reducer_water = awei_water.reduceNeighborhood(ee.Reducer.mode(2,1),ee.Kernel.square(i,'pixels',False))\n",
    "#     geemap.ee_export_image(ee_object=reducer_water,filename='reducer_water{}.tif'.format(i),scale=30,region=roi.geometry(),file_per_band=False,)"
   ]
  },
  {
   "cell_type": "code",
   "execution_count": null,
   "metadata": {
    "ExecuteTime": {
     "end_time": "2021-05-05T13:13:12.554648Z",
     "start_time": "2021-05-05T13:13:08.138889Z"
    }
   },
   "outputs": [],
   "source": [
    "# 武汉\n",
    "from matplotlib import pyplot as plt\n",
    "import numpy as np\n",
    "import matplotlib\n",
    "from geemap import cartoee\n",
    "region = [113.6, 29.9, 115.1, 31.4]\n",
    "vis = {'palette':['CDCDCD','0000ff'],'min':0,'max':1}\n",
    "fig = plt.figure(figsize=(12, 8))\n",
    "ax = cartoee.get_map(reducer_water, region=region, vis_params=vis)\n",
    "cartoee.add_gridlines(ax, interval=[0.5,0.5], linestyle=\":\")\n",
    "ax.set_title(label = 'permanent surface water in 2018(wuhan)', fontsize=20)"
   ]
  },
  {
   "cell_type": "code",
   "execution_count": null,
   "metadata": {},
   "outputs": [],
   "source": []
  }
 ],
 "metadata": {
  "hide_input": false,
  "kernelspec": {
   "display_name": "Python 3 (ipykernel)",
   "language": "python",
   "name": "python3"
  },
  "language_info": {
   "codemirror_mode": {
    "name": "ipython",
    "version": 3
   },
   "file_extension": ".py",
   "mimetype": "text/x-python",
   "name": "python",
   "nbconvert_exporter": "python",
   "pygments_lexer": "ipython3",
   "version": "3.8.5"
  },
  "toc": {
   "base_numbering": 1,
   "nav_menu": {},
   "number_sections": true,
   "sideBar": true,
   "skip_h1_title": false,
   "title_cell": "Table of Contents",
   "title_sidebar": "Contents",
   "toc_cell": false,
   "toc_position": {},
   "toc_section_display": true,
   "toc_window_display": false
  },
  "varInspector": {
   "cols": {
    "lenName": 16,
    "lenType": 16,
    "lenVar": 40
   },
   "kernels_config": {
    "python": {
     "delete_cmd_postfix": "",
     "delete_cmd_prefix": "del ",
     "library": "var_list.py",
     "varRefreshCmd": "print(var_dic_list())"
    },
    "r": {
     "delete_cmd_postfix": ") ",
     "delete_cmd_prefix": "rm(",
     "library": "var_list.r",
     "varRefreshCmd": "cat(var_dic_list()) "
    }
   },
   "types_to_exclude": [
    "module",
    "function",
    "builtin_function_or_method",
    "instance",
    "_Feature"
   ],
   "window_display": false
  }
 },
 "nbformat": 4,
 "nbformat_minor": 4
}
