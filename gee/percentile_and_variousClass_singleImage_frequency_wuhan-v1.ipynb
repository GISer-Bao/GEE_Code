{
 "cells": [
  {
   "cell_type": "code",
   "execution_count": 1,
   "metadata": {
    "ExecuteTime": {
     "end_time": "2021-07-02T13:55:08.147418Z",
     "start_time": "2021-07-02T13:55:08.143028Z"
    }
   },
   "outputs": [],
   "source": [
    "import os\n",
    "os.environ['HTTP_PROXY'] = \"http://127.0.0.1:10809\"\n",
    "os.environ['HTTPS_PROXY'] = \"http://127.0.0.1:10809\""
   ]
  },
  {
   "cell_type": "code",
   "execution_count": 2,
   "metadata": {
    "ExecuteTime": {
     "end_time": "2021-07-02T13:55:12.519911Z",
     "start_time": "2021-07-02T13:55:08.391226Z"
    },
    "scrolled": false
   },
   "outputs": [
    {
     "data": {
      "application/vnd.jupyter.widget-view+json": {
       "model_id": "329c0a163e4d4b2e9ecee0f1b1b55149",
       "version_major": 2,
       "version_minor": 0
      },
      "text/plain": [
       "Map(center=[40, -100], controls=(WidgetControl(options=['position', 'transparent_bg'], widget=HBox(children=(T…"
      ]
     },
     "metadata": {},
     "output_type": "display_data"
    }
   ],
   "source": [
    "import geemap\n",
    "import ee\n",
    "Map=geemap.Map()\n",
    "Map"
   ]
  },
  {
   "cell_type": "code",
   "execution_count": 3,
   "metadata": {
    "ExecuteTime": {
     "end_time": "2021-07-02T13:55:13.686827Z",
     "start_time": "2021-07-02T13:55:12.678041Z"
    }
   },
   "outputs": [],
   "source": [
    "roi = ee.Feature(ee.FeatureCollection('users/311605001111/YangtzeCity/wuhan').first()).geometry()\n",
    "Map.addLayer(roi, {}, \"roi\")\n",
    "Map.centerObject(roi,8)"
   ]
  },
  {
   "cell_type": "code",
   "execution_count": 4,
   "metadata": {
    "ExecuteTime": {
     "end_time": "2021-07-02T13:55:13.889645Z",
     "start_time": "2021-07-02T13:55:13.867650Z"
    }
   },
   "outputs": [],
   "source": [
    "# 去云、云阴影、雪掩膜函数\n",
    "def maskL8sr(image):\n",
    "    cloudShadowBitMask = (1 << 3)\n",
    "    cloudsBitMask = (1 << 5)\n",
    "    snowBitMask = (1 << 4)   \n",
    "    qa = image.select('pixel_qa')\n",
    "    mask = qa.bitwiseAnd(cloudShadowBitMask).eq(0) \\\n",
    "                   .And(qa.bitwiseAnd(cloudsBitMask).eq(0)) \\\n",
    "                   .And(qa.bitwiseAnd(snowBitMask).eq(0))\n",
    "    return image.updateMask(mask)\n",
    "\n",
    "visParams = {\n",
    "    'bands': ['B5', 'B6', 'B4'],\n",
    "    'min': 0,\n",
    "    'max': 3000,\n",
    "    'gamma': 1.4,\n",
    "}\n",
    "\n",
    "# AWEI(自动水体提取指数): AWEIsh = B2 + 2.5B3 - 1.5(B5+B6) - 0.25B7\n",
    "def water_index(image):\n",
    "    ndvi=image.normalizedDifference(['B5', 'B4']).rename('NDVI')\n",
    "    mndwi=image.normalizedDifference(['B3', 'B6']).rename(\"mNDWI\") \n",
    "    ndvi_mndwi = ndvi.subtract(mndwi).rename('ndvi_mndwi')\n",
    "    awei = image.expression('B2 + 2.5*B3 - 1.5*(B5+B6) - 0.25*B7',\n",
    "        {\n",
    "          'B2': image.select('B2'),\n",
    "          'B3': image.select('B3'),    \n",
    "          'B5': image.select('B5'),    \n",
    "          'B6': image.select('B6'),\n",
    "          'B7': image.select('B7'),\n",
    "        }).rename('AWEI')\n",
    "    return image.addBands(ndvi_mndwi).addBands(ndvi).addBands(mndwi).addBands(awei)\n",
    "\n",
    "def area_after_clip(image):\n",
    "    image_area = image.clip(roi).select('B2').gt(0).multiply(ee.Image.pixelArea()).divide(1e6)\n",
    "    areas = image_area.reduceRegion(**{\n",
    "        'reducer': ee.Reducer.sum(),\n",
    "        'geometry': image.geometry(),\n",
    "        'scale': 30,\n",
    "        'maxPixels': 1e14\n",
    "    })\n",
    "    return image.set({'area': areas.get('B2')})"
   ]
  },
  {
   "cell_type": "code",
   "execution_count": 5,
   "metadata": {
    "ExecuteTime": {
     "end_time": "2021-07-02T13:55:32.938319Z",
     "start_time": "2021-07-02T13:55:32.342926Z"
    }
   },
   "outputs": [],
   "source": [
    "landsat_images = ee.ImageCollection('LANDSAT/LC08/C01/T1_SR') \\\n",
    "    .filterBounds(roi) \\\n",
    "    .filterDate('2018-01-01', '2018-12-31')\n",
    "Map.addLayer(landsat_images,visParams,'landsat image')"
   ]
  },
  {
   "cell_type": "code",
   "execution_count": null,
   "metadata": {
    "ExecuteTime": {
     "end_time": "2021-07-01T13:11:17.382525Z",
     "start_time": "2021-07-01T13:11:16.545967Z"
    }
   },
   "outputs": [],
   "source": [
    "landsat_images = ee.ImageCollection('LANDSAT/LC08/C01/T1_SR') \\\n",
    "    .filterBounds(roi) \\\n",
    "    .filterDate('2018-01-01', '2018-12-31') \\\n",
    "    .map(maskL8sr) \\\n",
    "    .map(water_index)\n",
    "Map.addLayer(landsat_images.mosaic().clip(roi),visParams,'landsat image')"
   ]
  },
  {
   "cell_type": "markdown",
   "metadata": {},
   "source": [
    "# 筛选得出采样影像"
   ]
  },
  {
   "cell_type": "code",
   "execution_count": null,
   "metadata": {
    "ExecuteTime": {
     "end_time": "2021-07-01T13:12:54.387316Z",
     "start_time": "2021-07-01T13:11:17.479001Z"
    }
   },
   "outputs": [],
   "source": [
    "image_area = landsat_images.mosaic().clip(roi).select('B2').gt(0).multiply(ee.Image.pixelArea()).divide(1e6)\n",
    "areas = image_area.reduceRegion(**{\n",
    "    'reducer': ee.Reducer.sum(),\n",
    "    'geometry': roi,\n",
    "    'scale': 30,\n",
    "    'maxPixels': 1e14\n",
    "})\n",
    "# print(areas.getInfo())\n",
    "\n",
    "# 筛选影像，影像覆盖研究区的范围 > 研究区的1/10\n",
    "sample_image = landsat_images.map(area_after_clip).filter(ee.Filter.gt('area',ee.Number(areas.get('B2')).divide(ee.Number(10))))\n",
    "print(sample_image.size().getInfo())\n",
    "\n",
    "dates = sample_image.aggregate_array('system:time_start').sort().map(lambda d: ee.Date(d).format('YYYY-MM-dd'))\n",
    "print(dates.getInfo())"
   ]
  },
  {
   "cell_type": "markdown",
   "metadata": {},
   "source": [
    "# 样本采集函数的定义"
   ]
  },
  {
   "cell_type": "code",
   "execution_count": null,
   "metadata": {
    "ExecuteTime": {
     "end_time": "2021-07-01T13:29:55.670199Z",
     "start_time": "2021-07-01T13:29:55.650240Z"
    }
   },
   "outputs": [],
   "source": [
    "# ndvi_mndwi水体频率\n",
    "basemap = ee.Image.constant(0).clip(roi).rename('waterclass')\n",
    "water_layer = landsat_images.map(lambda i : i.select('ndvi_mndwi').lt(0)).sum()\n",
    "validPixel_layer = landsat_images.count().select('B3').clip(roi).rename('count')\n",
    "index_waterfrequency = water_layer.select('ndvi_mndwi').divide(validPixel_layer.select('count')).select('ndvi_mndwi').rename('frequency')\n",
    "index_permanent = index_waterfrequency.gte(0.75).remap([0,1],[0,2]).rename('waterclass')\n",
    "index_season= ee.ImageCollection([index_waterfrequency.gte(0.25),index_waterfrequency.lt(0.75)]).sum().eq(2).rename('waterclass')\n",
    "index_waterclass = ee.ImageCollection([index_permanent,index_season,basemap]).sum()\n",
    "# JRC\n",
    "JRC_2018 = ee.Image(\"JRC/GSW1_3/YearlyHistory/2018\").clip(roi).remap([0,1,2,3],[0,0,1,2]).rename('waterclass')\n",
    "JRC_waterclass = ee.ImageCollection([JRC_2018,basemap]).sum()\n",
    "# Maryland\n",
    "Maryland_2018 = ee.Image('users/311605001111/Maryland_2018').clip(roi).select('b1').rename('waterclass')\n",
    "Maryland_permanent = Maryland_2018.select('waterclass').gte(75).remap([0,1],[0,2]).rename('waterclass')\n",
    "Maryland_season= ee.ImageCollection([Maryland_2018.gte(25),Maryland_2018.lt(75)]).sum().eq(2)\n",
    "Maryland_waterclass = ee.ImageCollection([Maryland_permanent,Maryland_season,basemap]).sum()\n",
    "# 三者的交集\n",
    "permanentWaterExtent = ee.ImageCollection([index_waterclass.eq(2),JRC_waterclass.eq(2),Maryland_waterclass.eq(2)]).sum().eq(3)\n",
    "landExtent = ee.ImageCollection([index_waterclass.eq(0),JRC_waterclass.eq(0),Maryland_waterclass.eq(0)]).sum().eq(3)\n",
    "seasonWaterExtent = ee.ImageCollection([permanentWaterExtent,landExtent]).sum().remap([0,1],[1,0]).rename('waterclass')"
   ]
  },
  {
   "cell_type": "code",
   "execution_count": null,
   "metadata": {
    "ExecuteTime": {
     "end_time": "2021-07-01T13:29:57.278263Z",
     "start_time": "2021-07-01T13:29:57.270311Z"
    }
   },
   "outputs": [],
   "source": [
    "def intervalmean(image):\n",
    "    awei = image.clip(roi).updateMask(seasonWaterExtent).select('AWEI')\n",
    "    intervalMean = awei.reduceRegion(**{\n",
    "        'reducer': ee.Reducer.intervalMean(50,100), \n",
    "        'geometry': roi, \n",
    "        'scale': 30, \n",
    "        'bestEffort': True\n",
    "    })\n",
    "    return image.set({'mean': intervalMean.get('AWEI')})"
   ]
  },
  {
   "cell_type": "code",
   "execution_count": null,
   "metadata": {
    "ExecuteTime": {
     "end_time": "2021-07-01T13:40:48.748276Z",
     "start_time": "2021-07-01T13:37:46.198551Z"
    }
   },
   "outputs": [],
   "source": [
    "a = sample_image.limit(10).map(intervalmean).aggregate_array('mean')\n",
    "print(a.getInfo())"
   ]
  },
  {
   "cell_type": "code",
   "execution_count": null,
   "metadata": {
    "ExecuteTime": {
     "end_time": "2021-06-25T03:31:35.822696Z",
     "start_time": "2021-06-25T03:31:35.815716Z"
    }
   },
   "outputs": [],
   "source": [
    "# RandomForest预测使用的波段\n",
    "bands = ['B2', 'B3', 'B4', 'B5', 'B6', 'B7','NDVI','mNDWI','ndvi_mndwi','AWEI']\n",
    "# 分类标签\n",
    "label = 'waterclass'\n",
    "def imageSample(image):\n",
    "    permanent = permanentWaterExtent.updateMask(image.select('B3').gt(0)).remap([0,1],[0,2]).rename('waterclass')\n",
    "    land = landExtent.updateMask(image.select('B3').gt(0))\n",
    "    awei = image.clip(roi).updateMask(seasonWaterExtent).select('AWEI')\n",
    "    season_class = awei.gt(ee.Image.constant(image.get('mean'))).rename('waterclass')\n",
    "    seasonalwater_Extent = ee.ImageCollection([season_class,basemap]).sum().remap([0,1],[0,2]).rename('waterclass').clip(image.geometry())\n",
    "    percentile_waterclass = ee.ImageCollection([permanent,seasonalwater_Extent,land]).sum().remap([0,1,2],[0,0,1]).rename('waterclass')\n",
    "    water = percentile_waterclass.selfMask().clip(image.geometry())\n",
    "    nowater = percentile_waterclass.eq(0).selfMask().remap([1],[0]).rename('waterclass').clip(image.geometry())\n",
    "    water_points = water.sample(**{\n",
    "        'region': roi,\n",
    "        'scale': 30,\n",
    "        'numPixels': 400,\n",
    "        'seed': 0,\n",
    "        'geometries': True,\n",
    "    })\n",
    "    nowater_points = nowater.sample(**{\n",
    "        'region': roi,\n",
    "        'scale': 30,\n",
    "        'numPixels': 200,\n",
    "        'seed': 0,\n",
    "        'geometries': True,\n",
    "    })\n",
    "    all_points = water_points.merge(nowater_points)\n",
    "    sample_points = image.select(bands).sampleRegions(**{\n",
    "        'collection': all_points,\n",
    "        'properties': [label],\n",
    "        'scale': 30,\n",
    "        'geometries': True,\n",
    "    })\n",
    "    return sample_points"
   ]
  },
  {
   "cell_type": "code",
   "execution_count": null,
   "metadata": {
    "ExecuteTime": {
     "end_time": "2021-06-25T03:49:53.350860Z",
     "start_time": "2021-06-25T03:49:06.949245Z"
    }
   },
   "outputs": [],
   "source": [
    "# 总的样本点数\n",
    "points_collection = sample_image.map(intervalmean).map(imageSample).flatten()\n",
    "print(points_collection.first().getInfo())\n",
    "print('total sample number:{}'.format(points_collection.size().getInfo()))\n",
    "# # 水体的样本点数\n",
    "# samplepoint_water = points_collection.filter(ee.Filter.eq('waterclass',1))\n",
    "# print('water sample number:{}'.format(samplepoint_water.size().getInfo()))"
   ]
  },
  {
   "cell_type": "code",
   "execution_count": null,
   "metadata": {
    "ExecuteTime": {
     "start_time": "2021-06-25T03:28:10.525Z"
    }
   },
   "outputs": [],
   "source": [
    "trainedClassifier = ee.Classifier.smileRandomForest(20).train(points_collection,label,bands)\n",
    "train_accuracy = trainedClassifier.confusionMatrix()\n",
    "print(train_accuracy.getInfo())\n",
    "print(train_accuracy.accuracy().getInfo())\n",
    "print(train_accuracy.kappa().getInfo())\n",
    "\n",
    "#对Landsat-8进行分类\n",
    "def training(image):\n",
    "    return image.clip(roi).select(bands).classify(trainedClassifier).eq(1).rename('waterclass')"
   ]
  },
  {
   "cell_type": "code",
   "execution_count": null,
   "metadata": {
    "ExecuteTime": {
     "end_time": "2021-06-25T03:17:17.463087Z",
     "start_time": "2021-06-25T03:15:02.510Z"
    }
   },
   "outputs": [],
   "source": [
    "# 单景影像的验证"
   ]
  },
  {
   "cell_type": "code",
   "execution_count": null,
   "metadata": {},
   "outputs": [],
   "source": [
    "image2 = water_index(ee.Image('LANDSAT/LC08/C01/T1_SR/LC08_122039_20180212'))\n",
    "Map.addLayer(image2.clip(roi),visParams,'image2')\n",
    "\n",
    "classify2 = image2.clip(roi).select(bands).classify(trainedClassifier).eq(1).rename('waterclass')\n",
    "Map.addLayer(classify2.selfMask(),{'palette':['green']}, 'classify2')"
   ]
  },
  {
   "cell_type": "code",
   "execution_count": null,
   "metadata": {},
   "outputs": [],
   "source": [
    "image9 = water_index(ee.Image('LANDSAT/LC08/C01/T1_SR/LC08_123039_20180915'))\n",
    "Map.addLayer(image9.clip(roi),visParams,'image9')\n",
    "\n",
    "classify9 = image9.clip(roi).select(bands).classify(trainedClassifier).eq(1).rename('waterclass')\n",
    "Map.addLayer(classify9.selfMask(),{'palette':['green']}, 'classify9')"
   ]
  },
  {
   "cell_type": "code",
   "execution_count": null,
   "metadata": {},
   "outputs": [],
   "source": [
    "# 水体频率"
   ]
  },
  {
   "cell_type": "code",
   "execution_count": null,
   "metadata": {
    "ExecuteTime": {
     "end_time": "2021-06-24T13:06:22.884634Z",
     "start_time": "2021-06-24T13:06:21.285698Z"
    }
   },
   "outputs": [],
   "source": [
    "basemap = ee.Image.constant(0).clip(roi).rename('waterclass')\n",
    "Map.addLayer(basemap,{'palette':['white']},\"basemap\")\n",
    "\n",
    "waterpixel_count = landsat_images.map(training).sum()\n",
    "Map.addLayer(waterpixel_count,{'palette':['white','#e40775'],'min':0,'max':35},\"waterPixelCount\")\n",
    "\n",
    "validPixel = landsat_images.count().select('B3').clip(roi).rename('count')\n",
    "waterfrequency = waterpixel_count.select('waterclass').divide(validPixel.select('count')).rename('frequency')\n",
    "Map.addLayer(waterfrequency,{'palette':['white','green'],'min':0,'max':1},\"frequency\")"
   ]
  },
  {
   "cell_type": "code",
   "execution_count": null,
   "metadata": {
    "ExecuteTime": {
     "end_time": "2021-06-24T11:02:03.806833Z",
     "start_time": "2021-06-24T10:48:56.015Z"
    }
   },
   "outputs": [],
   "source": [
    "permanentwater = waterfrequency.gte(0.75).select('frequency').rename('waterclass')\n",
    "Map.addLayer(permanentwater.selfMask(),{'palette':['blue']},\"permanent water\")"
   ]
  },
  {
   "cell_type": "code",
   "execution_count": null,
   "metadata": {},
   "outputs": [],
   "source": []
  },
  {
   "cell_type": "code",
   "execution_count": null,
   "metadata": {},
   "outputs": [],
   "source": []
  },
  {
   "cell_type": "code",
   "execution_count": null,
   "metadata": {
    "ExecuteTime": {
     "end_time": "2021-05-21T12:30:01.523409Z",
     "start_time": "2021-05-21T12:30:00.348829Z"
    }
   },
   "outputs": [],
   "source": [
    "# 添加一个底图白板\n",
    "basemap = ee.Image.constant(0).clip(roi).rename('waterclass')\n",
    "Map.addLayer(basemap,{'palette':['white']},\"basemap\")\n",
    "\n",
    "image9 = ndvi_mndwi(ee.Image('LANDSAT/LC08/C01/T1_SR/LC08_123039_20181102'))\n",
    "Map.addLayer(image9.clip(roi),visParams,'image9')"
   ]
  },
  {
   "cell_type": "code",
   "execution_count": null,
   "metadata": {
    "ExecuteTime": {
     "end_time": "2021-05-21T12:32:19.978503Z",
     "start_time": "2021-05-21T12:32:18.428005Z"
    }
   },
   "outputs": [],
   "source": [
    "permanent = permanentWaterExtent.clip(image9.geometry()).remap([0,1],[0,2]).rename('waterclass')\n",
    "land = landExtent.clip(image9.geometry())\n",
    "season_image = image9.clip(roi).updateMask(seasonWaterExtent)\n",
    "season_class = AWEIsh(season_image).select('AWEI').gt(0).rename('waterclass')\n",
    "seasonalwater_Extent = ee.ImageCollection([season_class,basemap]).sum().remap([0,1],[0,2]).rename('waterclass').clip(image9.geometry()) \n",
    "percentile_waterclass_0 = ee.ImageCollection([permanent,seasonalwater_Extent,land]).sum().remap([0,1,2],[0,0,1]).rename('waterclass')\n",
    "Map.addLayer(percentile_waterclass_0.selfMask(),{'palette':['blue']},'percentile waterclass_0')"
   ]
  },
  {
   "cell_type": "code",
   "execution_count": null,
   "metadata": {
    "ExecuteTime": {
     "end_time": "2021-05-21T12:34:27.726045Z",
     "start_time": "2021-05-21T12:34:26.280707Z"
    }
   },
   "outputs": [],
   "source": [
    "image_9 = image9.clip(roi).select(bands).classify(trainedClassifier).eq(1).rename('waterclass')\n",
    "Map.addLayer(image_9.selfMask(),{'palette':['green'],'min':0,'max':1}, 'focal_mode')"
   ]
  },
  {
   "cell_type": "code",
   "execution_count": null,
   "metadata": {
    "ExecuteTime": {
     "end_time": "2021-05-21T12:37:16.313656Z",
     "start_time": "2021-05-21T12:37:14.571897Z"
    }
   },
   "outputs": [],
   "source": [
    "permanent = permanentWaterExtent.clip(image9.geometry()).remap([0,1],[0,2]).rename('waterclass')\n",
    "land = landExtent.clip(image9.geometry())\n",
    "season_image = image9.clip(roi).updateMask(seasonWaterExtent)\n",
    "season_class = AWEIsh(season_image).select('AWEI').gt(ee.Image.constant(1274.7314312559292)).rename('waterclass')\n",
    "seasonalwater_Extent = ee.ImageCollection([season_class,basemap]).sum().remap([0,1],[0,2]).rename('waterclass').clip(image9.geometry()) \n",
    "percentile_waterclass = ee.ImageCollection([permanent,seasonalwater_Extent,land]).sum().remap([0,1,2],[0,0,1]).rename('waterclass')\n",
    "Map.addLayer(percentile_waterclass.selfMask(),{'palette':['red']},'percentile waterclass')"
   ]
  },
  {
   "cell_type": "code",
   "execution_count": null,
   "metadata": {
    "ExecuteTime": {
     "end_time": "2021-05-22T01:07:05.009974Z",
     "start_time": "2021-05-22T01:05:51.619564Z"
    },
    "scrolled": false
   },
   "outputs": [],
   "source": [
    "# 武汉\n",
    "from matplotlib import pyplot as plt\n",
    "import numpy as np\n",
    "import matplotlib\n",
    "from geemap import cartoee\n",
    "region = [113.6, 29.9, 115.1, 31.4]\n",
    "vis = {'palette':['CDCDCD','red'],'min':0,'max':1}\n",
    "fig = plt.figure(figsize=(12, 8))\n",
    "ax = cartoee.get_map(percentile_waterclass_0, region=region, vis_params=vis)\n",
    "cartoee.add_gridlines(ax, interval=[0.5,0.5], linestyle=\":\")\n",
    "ax.set_title(label = 'water extent(AWEI)', fontsize=20)\n",
    "\n",
    "# 武汉\n",
    "from matplotlib import pyplot as plt\n",
    "import numpy as np\n",
    "import matplotlib\n",
    "from geemap import cartoee\n",
    "region = [113.6, 29.9, 115.1, 31.4]\n",
    "vis = {'palette':['CDCDCD','red'],'min':0,'max':1}\n",
    "fig = plt.figure(figsize=(12, 8))\n",
    "ax = cartoee.get_map(image_9, region=region, vis_params=vis)\n",
    "cartoee.add_gridlines(ax, interval=[0.5,0.5], linestyle=\":\")\n",
    "ax.set_title(label = 'water extent(RF classifier)', fontsize=20)\n",
    "\n",
    "# 武汉\n",
    "from matplotlib import pyplot as plt\n",
    "import numpy as np\n",
    "import matplotlib\n",
    "from geemap import cartoee\n",
    "region = [113.6, 29.9, 115.1, 31.4]\n",
    "vis = {'palette':['CDCDCD','red'],'min':0,'max':1}\n",
    "fig = plt.figure(figsize=(12, 8))\n",
    "ax = cartoee.get_map(percentile_waterclass, region=region, vis_params=vis)\n",
    "cartoee.add_gridlines(ax, interval=[0.5,0.5], linestyle=\":\")\n",
    "ax.set_title(label = 'water extent(region average)', fontsize=20)"
   ]
  },
  {
   "cell_type": "code",
   "execution_count": null,
   "metadata": {},
   "outputs": [],
   "source": []
  },
  {
   "cell_type": "code",
   "execution_count": null,
   "metadata": {
    "ExecuteTime": {
     "end_time": "2021-05-21T07:53:07.182551Z",
     "start_time": "2021-05-21T07:53:06.458263Z"
    }
   },
   "outputs": [],
   "source": [
    "geemap.ee_export_image_to_drive(ee_object=image_9,description='RF_image9.tif',scale=30,region=roi)\n",
    "\n",
    "geemap.ee_export_image_to_drive(ee_object=percentile_waterclass,description='percentile_image9.tif',scale=30,region=roi)"
   ]
  },
  {
   "cell_type": "code",
   "execution_count": null,
   "metadata": {},
   "outputs": [],
   "source": []
  },
  {
   "cell_type": "code",
   "execution_count": null,
   "metadata": {},
   "outputs": [],
   "source": []
  },
  {
   "cell_type": "code",
   "execution_count": null,
   "metadata": {},
   "outputs": [],
   "source": []
  },
  {
   "cell_type": "code",
   "execution_count": null,
   "metadata": {
    "ExecuteTime": {
     "end_time": "2021-05-06T14:14:06.683033Z",
     "start_time": "2021-05-06T14:14:06.670940Z"
    }
   },
   "outputs": [],
   "source": [
    "# RandomForest预测使用的波段\n",
    "bands = ['B2', 'B3', 'B4', 'B5', 'B6', 'B7','NDVI','mNDWI','ndvi_mndwi']\n",
    "# 分类标签\n",
    "label = 'waterclass'\n",
    "def imageSample(image):\n",
    "    permanent = permanentWaterExtent.clip(image.geometry()).selfMask()\n",
    "    season = AWEIsh(image.clip(roi).updateMask(seasonWaterExtent)).select('AWEI').gt(0).rename('waterclass')\n",
    "    land = landExtent.clip(image.geometry()).selfMask().remap([1],[0]).rename('waterclass')\n",
    "    points_permanentwater = permanent.sample(**{\n",
    "        'region': roi,\n",
    "        'scale': 30,\n",
    "        'numPixels': 400,\n",
    "        'seed': 0,\n",
    "        'geometries': True  # Set this to False to ignore geometries\n",
    "    })\n",
    "    points_seasonalwater = season.sample(**{\n",
    "        'region': roi,\n",
    "        'scale': 30,\n",
    "        'numPixels': 400,\n",
    "        'seed': 0,\n",
    "        'geometries': True  # Set this to False to ignore geometries\n",
    "    })\n",
    "    points_land = land.sample(**{\n",
    "        'region': roi,\n",
    "        'scale': 30,\n",
    "        'numPixels': 200,\n",
    "        'seed': 0,\n",
    "        'geometries': True  # Set this to False to ignore geometries\n",
    "    })\n",
    "    all_points = points_permanentwater.merge(points_seasonalwater).merge(points_land)\n",
    "    sample_points = image.select(bands).sampleRegions(**{\n",
    "        'collection': all_points,\n",
    "        'properties': [label],\n",
    "        'scale': 30\n",
    "    })\n",
    "    return sample_points"
   ]
  },
  {
   "cell_type": "code",
   "execution_count": null,
   "metadata": {
    "ExecuteTime": {
     "end_time": "2021-05-06T14:31:55.722019Z",
     "start_time": "2021-05-06T14:29:55.494875Z"
    }
   },
   "outputs": [],
   "source": [
    "trainedClassifier = ee.Classifier.smileRandomForest(20).train(points_collection,label,bands)\n",
    "#对Landsat-8进行分类\n",
    "def training(image):\n",
    "    return image.clip(roi).select(bands).classify(trainedClassifier).eq(1).rename('waterclass')\n",
    "waterpixel_count = landsat_images.map(training).sum()\n",
    "Map.addLayer(waterpixel_count,{'palette':['white','#e40775'],'min':0,'max':35},\"waterPixelCount\")"
   ]
  },
  {
   "cell_type": "code",
   "execution_count": null,
   "metadata": {
    "ExecuteTime": {
     "end_time": "2021-05-06T14:33:58.940359Z",
     "start_time": "2021-05-06T14:33:56.721183Z"
    }
   },
   "outputs": [],
   "source": [
    "validPixel = landsat_images.count().select('B3').clip(roi).rename('count')\n",
    "waterfrequency = waterpixel_count.select('waterclass').divide(validPixel.select('count')).rename('frequency')\n",
    "Map.addLayer(waterfrequency,{'palette':['white','green'],'min':0,'max':1},\"frequency\")\n",
    "\n",
    "permanentwater = waterfrequency.gte(0.75).selfMask().select('frequency').rename('waterclass')\n",
    "Map.addLayer(permanentwater,{'palette':['blue']},\"permanent water\")\n",
    "\n",
    "# basemap = ee.Image.constant(0).clip(roi).rename('waterclass')\n",
    "# permanent_water = waterfrequency.gte(0.75).remap([0,1],[0,2]).rename('waterclass')\n",
    "# seasonal_water = ee.ImageCollection([waterfrequency.gte(0.25),waterfrequency.lt(0.75)]).sum().eq(2).rename('waterclass')\n",
    "# water_waterclass = ee.ImageCollection([permanent_water,seasonal_water,basemap]).sum()\n",
    "# # Map.addLayer(water_waterclass,{'palette':['white','red','blue'],'min':0,'max':2},\"water waterclass\")"
   ]
  },
  {
   "cell_type": "code",
   "execution_count": null,
   "metadata": {
    "ExecuteTime": {
     "end_time": "2021-05-07T01:19:17.088773Z",
     "start_time": "2021-05-07T01:19:15.250521Z"
    }
   },
   "outputs": [],
   "source": [
    "Maryland_per = ee.ImageCollection([Maryland_permanent,Maryland_season,basemap]).sum().eq(2)\n",
    "Map.addLayer(Maryland_per,{'palette':['white','red'],'min':0,'max':1},\"Maryland_per\")\n",
    "\n",
    "permanentwater = waterfrequency.gte(0.75).select('frequency').rename('waterclass')\n",
    "Map.addLayer(permanentwater,{'palette':['white','green'],'min':0,'max':1},\"permanent water\")\n",
    "\n",
    "JRC_permanent = ee.ImageCollection([JRC_2018,basemap]).sum().eq(2)\n",
    "Map.addLayer(JRC_permanent.selfMask(),{'palette':['blue']},\"JRC_permanent\")"
   ]
  },
  {
   "cell_type": "code",
   "execution_count": null,
   "metadata": {},
   "outputs": [],
   "source": []
  },
  {
   "cell_type": "code",
   "execution_count": null,
   "metadata": {},
   "outputs": [],
   "source": []
  },
  {
   "cell_type": "code",
   "execution_count": null,
   "metadata": {
    "ExecuteTime": {
     "end_time": "2021-04-30T08:04:16.590637Z",
     "start_time": "2021-04-30T08:04:15.078457Z"
    }
   },
   "outputs": [],
   "source": [
    "image9 = ee.Image('LANDSAT/LC08/C01/T1_SR/LC08_123039_20180915')\n",
    "Map.addLayer(image9.clip(roi),visParams,'image9')\n",
    "\n",
    "image_train = training(ndvi_mndwi(image9))\n",
    "Map.addLayer(image_train.selfMask(),{'palette':['blue']},\"image_train\")"
   ]
  },
  {
   "cell_type": "code",
   "execution_count": null,
   "metadata": {
    "ExecuteTime": {
     "end_time": "2021-04-30T07:38:56.262117Z",
     "start_time": "2021-04-30T07:38:20.076402Z"
    }
   },
   "outputs": [],
   "source": [
    "from matplotlib import pyplot as plt\n",
    "import numpy as np\n",
    "import matplotlib\n",
    "from geemap import cartoee\n",
    "region = [113.6, 29.9, 115.1, 31.4] \n",
    "vis = {'min':0, 'max':1}\n",
    "fig = plt.figure(figsize=(12, 8))\n",
    "cmap = 'Blues'\n",
    "ax = cartoee.get_map(waterfrequency, region=region, vis_params=vis,cmap = cmap)\n",
    "cartoee.add_colorbar(ax, vis,cmap=cmap,loc=\"right\",label=\"water frequency\", orientation=\"vertical\")\n",
    "cartoee.add_gridlines(ax, interval=[0.5,0.5], linestyle=\":\")\n",
    "ax.set_title(label = 'waterbody frequency in 2018(recent)', fontsize=20)"
   ]
  }
 ],
 "metadata": {
  "hide_input": false,
  "kernelspec": {
   "display_name": "Python 3 (ipykernel)",
   "language": "python",
   "name": "python3"
  },
  "language_info": {
   "codemirror_mode": {
    "name": "ipython",
    "version": 3
   },
   "file_extension": ".py",
   "mimetype": "text/x-python",
   "name": "python",
   "nbconvert_exporter": "python",
   "pygments_lexer": "ipython3",
   "version": "3.8.5"
  },
  "toc": {
   "base_numbering": 1,
   "nav_menu": {},
   "number_sections": true,
   "sideBar": true,
   "skip_h1_title": false,
   "title_cell": "Table of Contents",
   "title_sidebar": "Contents",
   "toc_cell": false,
   "toc_position": {},
   "toc_section_display": true,
   "toc_window_display": false
  },
  "varInspector": {
   "cols": {
    "lenName": 16,
    "lenType": 16,
    "lenVar": 40
   },
   "kernels_config": {
    "python": {
     "delete_cmd_postfix": "",
     "delete_cmd_prefix": "del ",
     "library": "var_list.py",
     "varRefreshCmd": "print(var_dic_list())"
    },
    "r": {
     "delete_cmd_postfix": ") ",
     "delete_cmd_prefix": "rm(",
     "library": "var_list.r",
     "varRefreshCmd": "cat(var_dic_list()) "
    }
   },
   "types_to_exclude": [
    "module",
    "function",
    "builtin_function_or_method",
    "instance",
    "_Feature"
   ],
   "window_display": false
  }
 },
 "nbformat": 4,
 "nbformat_minor": 4
}
