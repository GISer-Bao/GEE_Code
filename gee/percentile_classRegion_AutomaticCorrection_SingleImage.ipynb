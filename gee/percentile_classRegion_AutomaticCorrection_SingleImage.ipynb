{
 "cells": [
  {
   "cell_type": "code",
   "execution_count": 1,
   "metadata": {
    "ExecuteTime": {
     "end_time": "2021-07-07T09:05:19.570964Z",
     "start_time": "2021-07-07T09:05:19.564959Z"
    }
   },
   "outputs": [],
   "source": [
    "import os\n",
    "os.environ['HTTP_PROXY'] = \"http://127.0.0.1:10809\"\n",
    "os.environ['HTTPS_PROXY'] = \"http://127.0.0.1:10809\""
   ]
  },
  {
   "cell_type": "code",
   "execution_count": 2,
   "metadata": {
    "ExecuteTime": {
     "end_time": "2021-07-07T09:05:24.785148Z",
     "start_time": "2021-07-07T09:05:20.030144Z"
    },
    "scrolled": false
   },
   "outputs": [
    {
     "data": {
      "application/vnd.jupyter.widget-view+json": {
       "model_id": "241241c1dc9f4357ae9d34c975316739",
       "version_major": 2,
       "version_minor": 0
      },
      "text/plain": [
       "Map(center=[40, -100], controls=(WidgetControl(options=['position', 'transparent_bg'], widget=HBox(children=(T…"
      ]
     },
     "metadata": {},
     "output_type": "display_data"
    }
   ],
   "source": [
    "import geemap\n",
    "import ee\n",
    "Map=geemap.Map()\n",
    "Map"
   ]
  },
  {
   "cell_type": "code",
   "execution_count": 3,
   "metadata": {
    "ExecuteTime": {
     "end_time": "2021-07-07T09:05:25.501734Z",
     "start_time": "2021-07-07T09:05:24.879866Z"
    }
   },
   "outputs": [],
   "source": [
    "## 武汉\n",
    "# roi = ee.Feature(ee.FeatureCollection('users/311605001111/YangtzeCity/wuhan').first()).geometry()\n",
    "# Map.addLayer(roi, {}, \"roi\")\n",
    "# Map.centerObject(roi,8)\n",
    "\n",
    "# 青海省部分地区\n",
    "roi = ee.Geometry.Rectangle([89.852623, 34.537942,92.3677, 36.217184])\n",
    "Map.addLayer(roi, {}, \"roi\")\n",
    "Map.centerObject(roi,7)"
   ]
  },
  {
   "cell_type": "code",
   "execution_count": 19,
   "metadata": {
    "ExecuteTime": {
     "end_time": "2021-07-07T09:20:28.190051Z",
     "start_time": "2021-07-07T09:20:28.174067Z"
    }
   },
   "outputs": [],
   "source": [
    "# 去云、云阴影、雪掩膜函数\n",
    "def maskL8sr(image):\n",
    "    cloudShadowBitMask = (1 << 3)\n",
    "    cloudsBitMask = (1 << 5)\n",
    "    snowBitMask = (1 << 4)   \n",
    "    qa = image.select('pixel_qa')\n",
    "    mask = qa.bitwiseAnd(cloudShadowBitMask).eq(0) \\\n",
    "                   .And(qa.bitwiseAnd(cloudsBitMask).eq(0)) \\\n",
    "                   .And(qa.bitwiseAnd(snowBitMask).eq(0))\n",
    "    return image.updateMask(mask)\n",
    "# landsat影像可视化参数\n",
    "visParams = {\n",
    "    'bands': ['B5', 'B6', 'B4'],\n",
    "    'min': 0,\n",
    "    'max': 3000,\n",
    "    'gamma': 1.4,\n",
    "}\n",
    "\n",
    "# AWEI(自动水体提取指数): AWEIsh = B2 + 2.5B3 - 1.5(B5+B6) - 0.25B7\n",
    "def water_index(image):\n",
    "    ndvi=image.normalizedDifference(['B5', 'B4']).rename('NDVI')\n",
    "    mndwi=image.normalizedDifference(['B3', 'B6']).rename(\"mNDWI\") \n",
    "    ndvi_mndwi = ndvi.subtract(mndwi).rename('ndvi_mndwi')\n",
    "    awei = image.expression('B2 + 2.5*B3 - 1.5*(B5+B6) - 0.25*B7',\n",
    "        {\n",
    "          'B2': image.select('B2'),\n",
    "          'B3': image.select('B3'),    \n",
    "          'B5': image.select('B5'),    \n",
    "          'B6': image.select('B6'),\n",
    "          'B7': image.select('B7'),\n",
    "        }).rename('AWEI')\n",
    "    return image.addBands(ndvi_mndwi).addBands(ndvi).addBands(mndwi).addBands(awei)\n",
    "\n",
    "def area_after_clip(image):\n",
    "    image_area = image.clip(roi).select('B2').gt(0).multiply(ee.Image.pixelArea()).divide(1e6)\n",
    "    water_area = image.clip(roi).select('mNDWI').gt(0).multiply(ee.Image.pixelArea()).divide(1e6)\n",
    "    imageareas = image_area.reduceRegion(**{\n",
    "        'reducer': ee.Reducer.sum(),\n",
    "        'geometry': image.geometry(),\n",
    "        'scale': 1000,\n",
    "        'maxPixels': 1e14\n",
    "    })\n",
    "    waterareas = water_area.reduceRegion(**{\n",
    "        'reducer': ee.Reducer.sum(),\n",
    "        'geometry': image.geometry(),\n",
    "        'scale': 1000,\n",
    "        'maxPixels': 1e14\n",
    "    })    \n",
    "    return image.setMulti({'imagearea': imageareas.get('B2'),'waterarea': waterareas.get('mNDWI')})"
   ]
  },
  {
   "cell_type": "code",
   "execution_count": 20,
   "metadata": {
    "ExecuteTime": {
     "end_time": "2021-07-07T09:20:29.548048Z",
     "start_time": "2021-07-07T09:20:28.621618Z"
    }
   },
   "outputs": [
    {
     "name": "stdout",
     "output_type": "stream",
     "text": [
      "154\n"
     ]
    }
   ],
   "source": [
    "landsat_images = ee.ImageCollection('LANDSAT/LC08/C01/T1_SR') \\\n",
    "    .filterBounds(roi) \\\n",
    "    .filterDate('2018-01-01', '2018-12-31') \\\n",
    "    .map(maskL8sr) \\\n",
    "    .map(water_index)\n",
    "Map.addLayer(landsat_images.mosaic().clip(roi),visParams,'landsat image')\n",
    "print(landsat_images.size().getInfo())"
   ]
  },
  {
   "cell_type": "markdown",
   "metadata": {},
   "source": [
    "# 筛选得出采样影像"
   ]
  },
  {
   "cell_type": "code",
   "execution_count": 21,
   "metadata": {
    "ExecuteTime": {
     "end_time": "2021-07-07T09:20:34.165214Z",
     "start_time": "2021-07-07T09:20:31.405380Z"
    }
   },
   "outputs": [
    {
     "name": "stdout",
     "output_type": "stream",
     "text": [
      "{'B2': 41728.58360534594}\n"
     ]
    }
   ],
   "source": [
    "image = landsat_images.mosaic().clip(roi)\n",
    "image_area = image.select('B2').gt(0).multiply(ee.Image.pixelArea()).divide(1e6)\n",
    "areas = image_area.reduceRegion(**{\n",
    "    'reducer': ee.Reducer.sum(),\n",
    "    'geometry': roi,\n",
    "    'scale': 1000,\n",
    "    'maxPixels': 1e14\n",
    "})\n",
    "print(areas.getInfo())\n",
    "\n",
    "# 筛选影像，影像覆盖研究区的范围 > 研究区的1/10\n",
    "sample_image = landsat_images.map(area_after_clip).filter(ee.Filter.gt('imagearea',ee.Number(areas.get('B2')).divide(ee.Number(10))))\n",
    "dates = sample_image.aggregate_array('system:time_start').map(lambda d: ee.Date(d).format('YYYY-MM-dd'))\n",
    "print(sample_image.size().getInfo())\n",
    "print(dates.getInfo())"
   ]
  },
  {
   "cell_type": "code",
   "execution_count": 28,
   "metadata": {
    "ExecuteTime": {
     "end_time": "2021-07-07T09:30:55.843565Z",
     "start_time": "2021-07-07T09:30:52.051672Z"
    },
    "scrolled": true
   },
   "outputs": [
    {
     "name": "stdout",
     "output_type": "stream",
     "text": [
      "123\n",
      "[6.318239109068627, 431.84146253774526, 169.42831107696063, 376.7957919122545, 224.86056090637274, 356.56428758063686, 271.86227782107824, 2101.5151205779357, 272.4478725534318, 276.93434414681366, 597.3186836249992, 184.41271114044127, 497.3936333806376, 154.75347806617643, 698.3107105625007, 224.85637859338223, 178.901523164706, 1975.009216815435, 1078.3783154889677, 1833.0586279576034, 1079.0136242578437, 416.51667986078434, 462.24820135392144, 351.61231275049016, 131.63101704289215, 247.60283292107863, 232.88334739877465, 211.55947887573546, 181.98254718210774, 237.81171710735305, 396.83912538284295, 168.02325681249997, 394.6510496568629, 253.52034362573525, 133.69168888014707, 456.4569913615199, 593.3370703754903, 185.90985256127453, 179.46488798970574, 1239.146419574999, 1844.5973543495168, 828.9167334340689, 570.6729246838236, 172.73363473333345, 737.0479099823519, 631.1349784495096, 161.11274469607844, 795.6861254779407, 511.0807988723037, 1608.744612953683, 485.89328825367676, 478.9765681504908, 1446.8075993056323, 1218.2513207242666, 676.9292014803925, 215.38839330122553, 366.97674320294186, 224.3192993490197, 162.51967158627463, 199.46424549509823, 968.6408601311277, 438.301585469118, 942.1191064323525, 820.509488364952, 2255.6308606492726, 2675.8703775512276, 2336.4521723492676, 427.5208115291672, 326.1269637953429, 193.526269542647, 439.0277516781863, 300.94105580735277, 1334.935296002454, 193.39254718872536, 462.4135884328428, 534.0991826174019, 668.5100420218137, 318.67262615735285, 9.993603875, 741.5415798125025, 295.4945825080886, 169.108814092647, 10.0008036875, 1073.3768644999975, 1137.8331163519604, 830.9626428583326, 669.4824137401953, 2275.7445838649537, 2151.7813104845695, 1063.6308714259803, 718.2940281561266, 95.47352051862747, 86.55755300686273, 14.926911748774513, 337.0010555095586, 7.510228721323529, 203.27475737549014, 87.56405022500002, 21.984613592647058, 121.54014819607839, 11.9872136875, 48.83307089975489, 19.980694937499997, 165.23881807720585, 208.28250537990198, 163.57698441274508, 86.38892730514709, 238.86070290343142, 19.79169356151961, 43.91222182941176, 8.247326505882352, 14.527950349754901, 6.742980131127451, 17.41935961838235, 8.917496197058824, 27.99640430637255, 12.86611281617647, 8.60369979264706, 18.887956862254903, 15.213488695343138, 48.28504214436275, 29.04397429681373, 24.46377616691177]\n"
     ]
    }
   ],
   "source": [
    "water_area = landsat_images.map(area_after_clip).filter(ee.Filter.gt('waterarea',5)).aggregate_array('waterarea')\n",
    "print(water_area.size().getInfo())\n",
    "print(water_area.getInfo())\n",
    "\n",
    "water_area = landsat_images.map(area_after_clip).filter(ee.Filter.lte('waterarea',5)).aggregate_array('waterarea')\n",
    "print(water_area.size().getInfo())\n",
    "print(water_area.getInfo())"
   ]
  },
  {
   "cell_type": "markdown",
   "metadata": {},
   "source": [
    "# 样本采集函数的定义"
   ]
  },
  {
   "cell_type": "code",
   "execution_count": 30,
   "metadata": {
    "ExecuteTime": {
     "end_time": "2021-07-07T09:47:19.534152Z",
     "start_time": "2021-07-07T09:47:18.534286Z"
    }
   },
   "outputs": [],
   "source": [
    "# ndvi_mndwi水体频率\n",
    "basemap = ee.Image.constant(0).clip(roi).rename('waterclass')\n",
    "water_layer = landsat_images.map(lambda i : i.select('ndvi_mndwi').lt(0)).sum()\n",
    "validPixel_layer = landsat_images.count().select('B3').clip(roi).rename('count')\n",
    "index_waterfrequency = water_layer.select('ndvi_mndwi').divide(validPixel_layer.select('count')).select('ndvi_mndwi').rename('frequency')\n",
    "index_permanent = index_waterfrequency.gte(0.75).remap([0,1],[0,2]).rename('waterclass')\n",
    "index_season= ee.ImageCollection([index_waterfrequency.gte(0.25),index_waterfrequency.lt(0.75)]).sum().eq(2).rename('waterclass')\n",
    "index_waterclass = ee.ImageCollection([index_permanent,index_season,basemap]).sum()\n",
    "Map.addLayer(index_waterfrequency.gte(0.75).selfMask(),{'palette':['green']},\"index permanentwater\")\n",
    "# JRC\n",
    "JRC_2018 = ee.Image(\"JRC/GSW1_3/YearlyHistory/2018\").clip(roi).remap([0,1,2,3],[0,0,1,2]).rename('waterclass')\n",
    "JRC_waterclass = ee.ImageCollection([JRC_2018,basemap]).sum()\n",
    "# # Maryland\n",
    "# Maryland_2018 = ee.Image('users/311605001111/Maryland_2018').clip(roi).select('b1').rename('waterclass')\n",
    "# Maryland_permanent = Maryland_2018.select('waterclass').gte(75).remap([0,1],[0,2]).rename('waterclass')\n",
    "# Maryland_season= ee.ImageCollection([Maryland_2018.gte(25),Maryland_2018.lt(75)]).sum().eq(2)\n",
    "# Maryland_waterclass = ee.ImageCollection([Maryland_permanent,Maryland_season,basemap]).sum()\n",
    "# # 三者的交集\n",
    "# permanentWaterExtent = ee.ImageCollection([index_waterclass.eq(2),JRC_waterclass.eq(2),Maryland_waterclass.eq(2)]).sum().eq(3)\n",
    "# landExtent = ee.ImageCollection([index_waterclass.eq(0),JRC_waterclass.eq(0),Maryland_waterclass.eq(0)]).sum().eq(3)\n",
    "# seasonWaterExtent = ee.ImageCollection([permanentWaterExtent,landExtent]).sum().remap([0,1],[1,0]).rename('waterclass')\n",
    "# 两者的交集\n",
    "permanentWaterExtent = ee.ImageCollection([index_waterclass.eq(2),JRC_waterclass.eq(2)]).sum().eq(2)\n",
    "landExtent = ee.ImageCollection([index_waterclass.eq(0),JRC_waterclass.eq(0)]).sum().eq(2)\n",
    "seasonWaterExtent = ee.ImageCollection([permanentWaterExtent,landExtent]).sum().remap([0,1],[1,0]).rename('waterclass')"
   ]
  },
  {
   "cell_type": "code",
   "execution_count": 34,
   "metadata": {
    "ExecuteTime": {
     "end_time": "2021-07-07T09:56:53.377918Z",
     "start_time": "2021-07-07T09:56:53.361932Z"
    }
   },
   "outputs": [],
   "source": [
    "def intervalmean(image):\n",
    "    awei = image.clip(roi).updateMask(seasonWaterExtent).select('AWEI')\n",
    "    intervalMean = awei.reduceRegion(**{\n",
    "        'reducer': ee.Reducer.intervalMean(50,100), \n",
    "        'geometry': roi, \n",
    "        'scale': 30, \n",
    "        'bestEffort': True\n",
    "    })\n",
    "    return image.set({'mean': intervalMean.get('AWEI')})"
   ]
  },
  {
   "cell_type": "code",
   "execution_count": 43,
   "metadata": {
    "ExecuteTime": {
     "end_time": "2021-07-07T10:40:23.502888Z",
     "start_time": "2021-07-07T10:40:20.748053Z"
    }
   },
   "outputs": [
    {
     "name": "stdout",
     "output_type": "stream",
     "text": [
      "[512.0451213139038, -114.49796079370304, 756.9345351922501, 1302.979799103321, 792.7658161906551, 2798.9744252484443, 143.93344343505905, 1349.6538123304447, 1513.1129256320016, 1381.2949121190823, 1454.3913046842986, 1931.4539373878463, 1390.7043063582657, 2219.310380322445, 378.55925787884286, 717.1790325480788, 348.5601737235757, 426.4619569553601, 328.37584428905075, 84.66627420510734, 561.6733373055937, 829.5404368775124, 137.73620226778533, 835.9416580166903, 1017.2339477892169, 734.2716284353187, 1215.309907946221, 1460.9975797543318, 1254.1859176747253, 1396.0357053553457, 1481.0839552470356, 156.2040514118646, 630.4515060354635, 320.0221648872676, 1695.7381950792926, 96.45512622689097, -246.96116583555403, 2102.7320549184856, 7.872872008172088, 163.4939949486067, -671.72598919444, 1359.5643083137572, 1636.7724021042502, 1906.9196151861272, 2583.4091465706874, 1844.2416762296407, 148.96127306065654, 176.4132912082515, 1125.281730271421, 1798.2991903737513, 852.5745425372392, 248.67491263765535, 1733.7557148533863, 541.7745952250982, 2224.3678884036203, 2090.532895614272, 2410.166213975919, 3827.982293187632, 2037.3775072753556, 2120.9444973039977]\n"
     ]
    }
   ],
   "source": [
    "a = sample_image.limit(60).map(intervalmean)\n",
    "b = a.aggregate_array('mean')\n",
    "print(b.getInfo())"
   ]
  },
  {
   "cell_type": "code",
   "execution_count": null,
   "metadata": {
    "ExecuteTime": {
     "end_time": "2021-07-01T23:04:36.771017Z",
     "start_time": "2021-07-01T23:04:36.752040Z"
    }
   },
   "outputs": [],
   "source": [
    "# RandomForest预测使用的波段\n",
    "bands = ['B2', 'B3', 'B4', 'B5', 'B6', 'B7','NDVI','mNDWI','ndvi_mndwi','AWEI']\n",
    "# 分类标签\n",
    "label = 'waterclass'\n",
    "def imageSample(image):\n",
    "    ROI = image.clip(roi).geometry()\n",
    "    permanent = permanentWaterExtent.updateMask(image.select('B3').gt(0)).remap([0,1],[0,2]).rename('waterclass')\n",
    "    land = landExtent.updateMask(image.select('B3').gt(0))\n",
    "    seasonalwater_Extent = image.updateMask(seasonWaterExtent).select('AWEI').gt(ee.Image.constant(image.get('mean'))).remap([0,1],[0,2]).rename('waterclass')\n",
    "    percentile_waterclass = ee.ImageCollection([permanent,seasonalwater_Extent,land]).sum().remap([0,1,2],[0,0,1]).rename('waterclass')\n",
    "    nowater = percentile_waterclass.remap([0,1],[1,0]).rename('waterclass').selfMask()\n",
    "    water_points = percentile_waterclass.selfMask().sample(**{\n",
    "        'region': roi,\n",
    "        'scale': 30,\n",
    "        'numPixels': 200,\n",
    "        'seed': 1,\n",
    "        'geometries': True,\n",
    "    })\n",
    "    nowater_points = nowater.sample(**{\n",
    "        'region': ROI,\n",
    "        'scale': 30,\n",
    "        'numPixels': 50,\n",
    "        'seed': 1,\n",
    "        'geometries': True,\n",
    "    })\n",
    "    all_points = water_points.merge(nowater_points)\n",
    "    sample_points = image.select(bands).sampleRegions(**{\n",
    "        'collection': all_points,\n",
    "        'properties': [label],\n",
    "        'scale': 30,\n",
    "        'geometries': True,\n",
    "    })\n",
    "    return sample_points"
   ]
  },
  {
   "cell_type": "code",
   "execution_count": null,
   "metadata": {
    "ExecuteTime": {
     "end_time": "2021-07-01T23:12:34.965228Z",
     "start_time": "2021-07-01T23:12:24.216276Z"
    }
   },
   "outputs": [],
   "source": [
    "# 总的样本点数\n",
    "points_collection = a.map(imageSample).flatten()\n",
    "print(points_collection.first().getInfo())\n",
    "print('total sample number:{}'.format(points_collection.size().getInfo()))\n",
    "\n",
    "# # 水体的样本点数\n",
    "# samplepoint_water = points_collection.filter(ee.Filter.eq('waterclass',1))\n",
    "# print('water sample number:{}'.format(samplepoint_water.size().getInfo()))"
   ]
  },
  {
   "cell_type": "code",
   "execution_count": null,
   "metadata": {
    "ExecuteTime": {
     "end_time": "2021-07-01T23:12:42.833488Z",
     "start_time": "2021-07-01T23:12:42.822512Z"
    }
   },
   "outputs": [],
   "source": [
    "trainedClassifier = ee.Classifier.smileRandomForest(20).train(points_collection,label,bands)\n",
    "# train_accuracy = trainedClassifier.confusionMatrix()\n",
    "# print(train_accuracy.getInfo())\n",
    "# print(train_accuracy.accuracy().getInfo())\n",
    "# print(train_accuracy.kappa().getInfo())"
   ]
  },
  {
   "cell_type": "code",
   "execution_count": null,
   "metadata": {
    "ExecuteTime": {
     "end_time": "2021-07-01T23:12:55.283303Z",
     "start_time": "2021-07-01T23:12:54.102249Z"
    }
   },
   "outputs": [],
   "source": [
    "# 添加一个底图白板\n",
    "# image9 = water_index(maskL8sr(ee.Image(landsat_images.toList(landsat_images.size()).get(5))))\n",
    "image9 = water_index(maskL8sr(ee.Image('LANDSAT/LC08/C01/T1_SR/LC08_139036_20180627')))\n",
    "Map.addLayer(image9.clip(roi),visParams,'image9')\n",
    "\n",
    "basemap = ee.Image.constant(0).toFloat().clip(image9.geometry()).clip(roi).rename('waterclass')\n",
    "Map.addLayer(basemap,{'palette':['white']},\"basemap\")"
   ]
  },
  {
   "cell_type": "code",
   "execution_count": null,
   "metadata": {
    "ExecuteTime": {
     "end_time": "2021-07-01T23:13:21.764001Z",
     "start_time": "2021-07-01T23:13:14.743072Z"
    }
   },
   "outputs": [],
   "source": [
    "classify_image = image9.clip(roi).select(bands).classify(trainedClassifier).eq(1).rename('waterclass')\n",
    "# Map.addLayer(classify_image.selfMask(),{'palette':['green']}, 'classify image')\n",
    "Map.addLayer(classify_image,{'palette':['red','blue'],'min':0,'max':1}, 'classify image')"
   ]
  },
  {
   "cell_type": "code",
   "execution_count": null,
   "metadata": {
    "ExecuteTime": {
     "end_time": "2021-07-01T23:13:37.924990Z",
     "start_time": "2021-07-01T23:13:37.905014Z"
    }
   },
   "outputs": [],
   "source": [
    "def AutomaticCorrection(image):\n",
    "    basemap = ee.Image.constant(0).toFloat().clip(image.geometry()).clip(roi).rename('waterclass')\n",
    "    class_image = ee.ImageCollection([basemap,image.remap([0,1],[1,2]).rename('waterclass')]).sum()\n",
    "    water = class_image.eq(2).selfMask()\n",
    "    no_data = class_image.eq(0).selfMask()\n",
    "    occurrence = ee.Image('JRC/GSW1_3/GlobalSurfaceWater').select('occurrence').clip(image.geometry()).clip(roi)\n",
    "    occurrence_water = occurrence.updateMask(water)\n",
    "    occurrence_no_data = occurrence.updateMask(no_data)\n",
    "    occurrence_HistogramCount = occurrence_water.reduceRegion(**{\n",
    "        'reducer': ee.Reducer.histogram(100,1),\n",
    "        'geometry': image.clip(roi).geometry(),\n",
    "        'scale': 90,\n",
    "    })        \n",
    "    histogram = ee.List(ee.Dictionary(occurrence_HistogramCount.get('occurrence')).get('histogram'))\n",
    "    bucketMeans = ee.List(ee.Dictionary(occurrence_HistogramCount.get('occurrence')).get('bucketMeans'))    \n",
    "    count_threshold = ee.Number(histogram.reduce(ee.Reducer.sum())).multiply(0.0017)\n",
    "    index = histogram.map(lambda i : ee.Algorithms.If(ee.Number(i).gte(ee.Number(count_threshold)),ee.Number(i))).removeAll([None]).get(0)\n",
    "    occurrence_threshold = bucketMeans.get(histogram.indexOf(index))\n",
    "    print(occurrence_threshold.getInfo())\n",
    "    occurrence_corrected_water = occurrence_no_data.gte(ee.Number(occurrence_threshold)).selfMask().select('occurrence').rename('waterclass')\n",
    "    enhanced_water = ee.ImageCollection([basemap,water,occurrence_corrected_water]).sum()\n",
    "    return enhanced_water"
   ]
  },
  {
   "cell_type": "code",
   "execution_count": null,
   "metadata": {
    "ExecuteTime": {
     "end_time": "2021-07-01T23:14:00.683181Z",
     "start_time": "2021-07-01T23:13:53.185670Z"
    }
   },
   "outputs": [],
   "source": [
    "a = AutomaticCorrection(classify_image)\n",
    "Map.addLayer(a,{'palette':['white','red'],'min':0,'max':1}, 'enhanced_water')"
   ]
  },
  {
   "cell_type": "code",
   "execution_count": null,
   "metadata": {},
   "outputs": [],
   "source": []
  },
  {
   "cell_type": "code",
   "execution_count": null,
   "metadata": {},
   "outputs": [],
   "source": []
  },
  {
   "cell_type": "code",
   "execution_count": null,
   "metadata": {},
   "outputs": [],
   "source": []
  },
  {
   "cell_type": "code",
   "execution_count": null,
   "metadata": {
    "ExecuteTime": {
     "end_time": "2021-07-02T00:21:50.745512Z",
     "start_time": "2021-07-02T00:21:45.298931Z"
    }
   },
   "outputs": [],
   "source": [
    "# 制图\n",
    "from matplotlib import pyplot as plt\n",
    "import numpy as np\n",
    "import matplotlib\n",
    "from geemap import cartoee\n",
    "region = [89.812623, 34.507942, 91.5449, 35.6369]\n",
    "raw_image = maskL8sr(ee.Image('LANDSAT/LC08/C01/T1_SR/LC08_139036_20180627').clip(roi))\n",
    "fig = plt.figure(figsize=(12, 8))\n",
    "# use cartoee to get a map\n",
    "ax = cartoee.get_map(raw_image, region=region, vis_params=visParams)\n",
    "# add gridlines to the map at a specified interval\n",
    "cartoee.add_gridlines(ax, interval=[0.2,0.2], linestyle=\":\")\n",
    "ax.set_title(label = 'reference image(masked)', fontsize=20)"
   ]
  },
  {
   "cell_type": "code",
   "execution_count": null,
   "metadata": {
    "ExecuteTime": {
     "end_time": "2021-07-02T00:23:55.458661Z",
     "start_time": "2021-07-02T00:23:51.727067Z"
    }
   },
   "outputs": [],
   "source": [
    "# 制图\n",
    "from matplotlib import pyplot as plt\n",
    "import numpy as np\n",
    "import matplotlib\n",
    "from geemap import cartoee\n",
    "region = [89.812623, 34.507942, 91.5449, 35.6369]\n",
    "vis = {'palette':['D4D4D4','blue'],'min':0,'max':1}\n",
    "fig = plt.figure(figsize=(12, 8))\n",
    "# use cartoee to get a map\n",
    "ax = cartoee.get_map(classify_image, region=region, vis_params=vis)\n",
    "# add gridlines to the map at a specified interval\n",
    "cartoee.add_gridlines(ax, interval=[0.2,0.2], linestyle=\":\")\n",
    "ax.set_title(label = 'classified image', fontsize=20)"
   ]
  }
 ],
 "metadata": {
  "hide_input": false,
  "kernelspec": {
   "display_name": "Python 3",
   "language": "python",
   "name": "python3"
  },
  "language_info": {
   "codemirror_mode": {
    "name": "ipython",
    "version": 3
   },
   "file_extension": ".py",
   "mimetype": "text/x-python",
   "name": "python",
   "nbconvert_exporter": "python",
   "pygments_lexer": "ipython3",
   "version": "3.8.5"
  },
  "toc": {
   "base_numbering": 1,
   "nav_menu": {},
   "number_sections": true,
   "sideBar": true,
   "skip_h1_title": false,
   "title_cell": "Table of Contents",
   "title_sidebar": "Contents",
   "toc_cell": false,
   "toc_position": {},
   "toc_section_display": true,
   "toc_window_display": false
  },
  "varInspector": {
   "cols": {
    "lenName": 16,
    "lenType": 16,
    "lenVar": 40
   },
   "kernels_config": {
    "python": {
     "delete_cmd_postfix": "",
     "delete_cmd_prefix": "del ",
     "library": "var_list.py",
     "varRefreshCmd": "print(var_dic_list())"
    },
    "r": {
     "delete_cmd_postfix": ") ",
     "delete_cmd_prefix": "rm(",
     "library": "var_list.r",
     "varRefreshCmd": "cat(var_dic_list()) "
    }
   },
   "types_to_exclude": [
    "module",
    "function",
    "builtin_function_or_method",
    "instance",
    "_Feature"
   ],
   "window_display": false
  }
 },
 "nbformat": 4,
 "nbformat_minor": 4
}
