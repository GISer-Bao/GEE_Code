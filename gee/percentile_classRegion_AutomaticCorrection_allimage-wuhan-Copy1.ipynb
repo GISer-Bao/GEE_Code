{
 "cells": [
  {
   "cell_type": "code",
   "execution_count": 1,
   "metadata": {
    "ExecuteTime": {
     "end_time": "2021-07-10T01:28:07.440517Z",
     "start_time": "2021-07-10T01:28:07.424295Z"
    }
   },
   "outputs": [],
   "source": [
    "import os\n",
    "os.environ['HTTP_PROXY'] = \"http://127.0.0.1:10809\"\n",
    "os.environ['HTTPS_PROXY'] = \"http://127.0.0.1:10809\""
   ]
  },
  {
   "cell_type": "code",
   "execution_count": 2,
   "metadata": {
    "ExecuteTime": {
     "end_time": "2021-07-10T01:28:12.976546Z",
     "start_time": "2021-07-10T01:28:07.655256Z"
    },
    "scrolled": false
   },
   "outputs": [
    {
     "data": {
      "application/vnd.jupyter.widget-view+json": {
       "model_id": "2ce47282ab3e4f33955c91c553b9a3be",
       "version_major": 2,
       "version_minor": 0
      },
      "text/plain": [
       "Map(center=[40, -100], controls=(WidgetControl(options=['position', 'transparent_bg'], widget=HBox(children=(T…"
      ]
     },
     "metadata": {},
     "output_type": "display_data"
    }
   ],
   "source": [
    "import geemap\n",
    "import ee\n",
    "Map=geemap.Map()\n",
    "Map"
   ]
  },
  {
   "cell_type": "code",
   "execution_count": 3,
   "metadata": {
    "ExecuteTime": {
     "end_time": "2021-07-10T01:28:13.711398Z",
     "start_time": "2021-07-10T01:28:13.025416Z"
    }
   },
   "outputs": [],
   "source": [
    "# roi = ee.Feature(ee.FeatureCollection('users/311605001111/YangtzeCity/wuhan').first()).geometry()\n",
    "# Map.addLayer(roi, {}, \"roi\")\n",
    "# Map.centerObject(roi,8)\n",
    "\n",
    "# # 青海省部分地区\n",
    "roi = ee.Geometry.Rectangle([89.8565, 34.6503,91.4664, 35.8282])\n",
    "Map.addLayer(roi, {}, \"roi\")\n",
    "Map.centerObject(roi,7)"
   ]
  },
  {
   "cell_type": "code",
   "execution_count": 4,
   "metadata": {
    "ExecuteTime": {
     "end_time": "2021-07-10T01:28:13.773829Z",
     "start_time": "2021-07-10T01:28:13.759229Z"
    }
   },
   "outputs": [],
   "source": [
    "# 去云、云阴影、雪掩膜函数\n",
    "def maskL8sr(image):\n",
    "    cloudShadowBitMask = (1 << 3)\n",
    "    cloudsBitMask = (1 << 5)\n",
    "    snowBitMask = (1 << 4)   \n",
    "    qa = image.select('pixel_qa')\n",
    "    mask = qa.bitwiseAnd(cloudShadowBitMask).eq(0) \\\n",
    "                   .And(qa.bitwiseAnd(cloudsBitMask).eq(0)) \\\n",
    "                   .And(qa.bitwiseAnd(snowBitMask).eq(0))\n",
    "    return image.updateMask(mask)\n",
    "\n",
    "visParams = {\n",
    "    'bands': ['B5', 'B6', 'B4'],\n",
    "    'min': 0,\n",
    "    'max': 3000,\n",
    "    'gamma': 1.4,\n",
    "}\n",
    "\n",
    "# AWEI(自动水体提取指数): AWEIsh = B2 + 2.5B3 - 1.5(B5+B6) - 0.25B7\n",
    "def water_index(img):\n",
    "    image = img.clip(roi)\n",
    "    ndvi=image.normalizedDifference(['B5', 'B4']).rename('NDVI')\n",
    "    mndwi=image.normalizedDifference(['B3', 'B6']).rename(\"mNDWI\") \n",
    "    ndvi_mndwi = ndvi.subtract(mndwi).rename('ndvi_mndwi')\n",
    "    awei = image.expression('B2 + 2.5*B3 - 1.5*(B5+B6) - 0.25*B7',\n",
    "        {\n",
    "          'B2': image.select('B2'),\n",
    "          'B3': image.select('B3'),    \n",
    "          'B5': image.select('B5'),    \n",
    "          'B6': image.select('B6'),\n",
    "          'B7': image.select('B7'),\n",
    "        }).rename('AWEI')\n",
    "    return image.addBands(ndvi_mndwi).addBands(ndvi).addBands(mndwi).addBands(awei)\n",
    "\n",
    "def area_after_clip(image):\n",
    "    image_area = image.select('B2').gt(0).multiply(ee.Image.pixelArea()).divide(1e6)\n",
    "    imageareas = image_area.reduceRegion(**{\n",
    "        'reducer': ee.Reducer.sum(),\n",
    "        'geometry': image.geometry(),\n",
    "        'scale': 1000,\n",
    "        'maxPixels': 1e14,\n",
    "    })    \n",
    "    return image.set({'imagearea': imageareas.get('B2')})"
   ]
  },
  {
   "cell_type": "markdown",
   "metadata": {},
   "source": [
    "# 筛选得出采样影像"
   ]
  },
  {
   "cell_type": "code",
   "execution_count": 5,
   "metadata": {
    "ExecuteTime": {
     "end_time": "2021-07-10T01:28:46.440395Z",
     "start_time": "2021-07-10T01:28:38.090210Z"
    }
   },
   "outputs": [
    {
     "name": "stdout",
     "output_type": "stream",
     "text": [
      "39\n",
      "['2018-01-11', '2018-02-12', '2018-03-16', '2018-04-01', '2018-04-17', '2018-05-03', '2018-06-04', '2018-07-22', '2018-01-02', '2018-01-18', '2018-02-03', '2018-03-07', '2018-03-23', '2018-04-08', '2018-04-24', '2018-05-10', '2018-05-26', '2018-06-27', '2018-08-30', '2018-11-02', '2018-11-18', '2018-12-04', '2018-01-18', '2018-02-03', '2018-03-07', '2018-03-23', '2018-04-08', '2018-04-24', '2018-05-10', '2018-05-26', '2018-06-27', '2018-07-13', '2018-07-29', '2018-08-30', '2018-10-01', '2018-11-02', '2018-11-18', '2018-12-04', '2018-12-20']\n"
     ]
    }
   ],
   "source": [
    "landsat_images = ee.ImageCollection('LANDSAT/LC08/C01/T1_SR') \\\n",
    "    .filterBounds(roi) \\\n",
    "    .filterDate('2018-01-01', '2018-12-31') \\\n",
    "    .map(maskL8sr) \\\n",
    "    .map(water_index)\n",
    "Map.addLayer(landsat_images.mosaic(),visParams,'landsat image')\n",
    "\n",
    "image_area = landsat_images.mosaic().select('B2').gt(0).multiply(ee.Image.pixelArea()).divide(1e6)\n",
    "areas = image_area.reduceRegion(**{\n",
    "    'reducer': ee.Reducer.sum(),\n",
    "    'geometry': roi,\n",
    "    'scale': 1000,\n",
    "    'maxPixels': 1e14,\n",
    "})\n",
    "\n",
    "# 筛选影像，影像覆盖研究区的范围 > 研究区的1/10\n",
    "sample_image = landsat_images.map(area_after_clip).filter(ee.Filter.gt('imagearea',ee.Number(areas.get('B2')).divide(7)))\n",
    "dates = sample_image.aggregate_array('system:time_start').map(lambda d: ee.Date(d).format('YYYY-MM-dd'))\n",
    "print(sample_image.size().getInfo())\n",
    "print(dates.getInfo())"
   ]
  },
  {
   "cell_type": "markdown",
   "metadata": {},
   "source": [
    "# 样本采集函数的定义"
   ]
  },
  {
   "cell_type": "code",
   "execution_count": 6,
   "metadata": {
    "ExecuteTime": {
     "end_time": "2021-07-10T01:28:46.646000Z",
     "start_time": "2021-07-10T01:28:46.639988Z"
    }
   },
   "outputs": [],
   "source": [
    "lt2_images = ee.ImageCollection('LANDSAT/LC08/C01/T1_SR') \\\n",
    "    .filterBounds(roi) \\\n",
    "    .filterDate('2018-01-01', '2018-12-31')\n",
    "# print(lt2_images.size().getInfo())"
   ]
  },
  {
   "cell_type": "code",
   "execution_count": 7,
   "metadata": {
    "ExecuteTime": {
     "end_time": "2021-07-10T01:29:18.078954Z",
     "start_time": "2021-07-10T01:29:17.336253Z"
    },
    "scrolled": true
   },
   "outputs": [
    {
     "name": "stdout",
     "output_type": "stream",
     "text": [
      "{'type': 'Feature', 'geometry': {'type': 'Point', 'coordinates': [90.6397502534006, 35.140012738196056]}, 'id': '000000000000000003c3', 'properties': {'AWEI': -5345, 'B2': 1231, 'B3': 1824, 'B4': 2401, 'B5': 2985, 'B6': 3863, 'B7': 3456, 'NDVI': 0.10842926055, 'mNDWI': -0.3585370183, 'ndvi_mndwi': 0.4669662714, 'waterclass': 0}}\n",
      "total sample number:2199\n"
     ]
    }
   ],
   "source": [
    "## 导入采集的样本集\n",
    "points_collection = ee.FeatureCollection('users/311605001111/qinghai_2018')\n",
    "print(points_collection.first().getInfo())\n",
    "print('total sample number:{}'.format(points_collection.size().getInfo()))\n",
    "\n",
    "\n",
    "# RandomForest预测使用的波段\n",
    "bands = ['B2', 'B3', 'B4', 'B5', 'B6', 'B7','NDVI','mNDWI','ndvi_mndwi','AWEI']\n",
    "# 分类标签\n",
    "label = 'waterclass'\n",
    "trainedClassifier = ee.Classifier.smileRandomForest(20).train(points_collection,label,bands)\n",
    "# train_accuracy = trainedClassifier.confusionMatrix()\n",
    "# print(train_accuracy.getInfo())\n",
    "# print(train_accuracy.accuracy().getInfo())\n",
    "# print(train_accuracy.kappa().getInfo())"
   ]
  },
  {
   "cell_type": "code",
   "execution_count": 10,
   "metadata": {
    "ExecuteTime": {
     "end_time": "2021-07-10T01:30:28.052126Z",
     "start_time": "2021-07-10T01:30:26.312076Z"
    }
   },
   "outputs": [
    {
     "name": "stdout",
     "output_type": "stream",
     "text": [
      "86\n"
     ]
    }
   ],
   "source": [
    "a = points_collection.filter(ee.Filter.eq('waterclass',1))\n",
    "print(a.size().getInfo())"
   ]
  },
  {
   "cell_type": "markdown",
   "metadata": {},
   "source": [
    "## 水体频率（校正）"
   ]
  },
  {
   "cell_type": "code",
   "execution_count": null,
   "metadata": {
    "ExecuteTime": {
     "end_time": "2021-07-08T09:44:14.797497Z",
     "start_time": "2021-07-08T09:44:14.784564Z"
    }
   },
   "outputs": [],
   "source": [
    "#对影像进行分类,计算水体面积\n",
    "def area_of_training(image):\n",
    "    classified_image = water_index(maskL8sr(image)).select(bands).classify(trainedClassifier).eq(1).rename('waterclass')\n",
    "    water_area = classified_image.multiply(ee.Image.pixelArea()).divide(1e6)\n",
    "    waterarea = water_area.reduceRegion(**{\n",
    "        'reducer': ee.Reducer.sum(),\n",
    "        'geometry': image.geometry(),\n",
    "        'scale': 1000,\n",
    "        'maxPixels': 1e14,\n",
    "    })\n",
    "    return image.set({'waterarea': waterarea.get('waterclass')})  \n",
    "\n",
    "# 需要校正的图像\n",
    "corrected_image = lt2_images.map(area_of_training).filter(ee.Filter.gt('waterarea',10))\n",
    "# 不需要校正的图像\n",
    "No_corrected_image = lt2_images.map(area_of_training).filter(ee.Filter.lte('waterarea',10))"
   ]
  },
  {
   "cell_type": "code",
   "execution_count": null,
   "metadata": {
    "ExecuteTime": {
     "end_time": "2021-07-08T09:44:18.489489Z",
     "start_time": "2021-07-08T09:44:18.476113Z"
    }
   },
   "outputs": [],
   "source": [
    "def AutomaticCorrection(img):\n",
    "    image = water_index(maskL8sr(img)).select(bands).classify(trainedClassifier).eq(1).rename('waterclass')\n",
    "    basemap = ee.Image.constant(0).toFloat().clip(img.geometry()).clip(roi).rename('waterclass')\n",
    "    class_image = ee.ImageCollection([basemap,image.remap([0,1],[1,2]).rename('waterclass')]).sum()\n",
    "    water = class_image.eq(2).selfMask()\n",
    "    no_data = class_image.eq(0).selfMask()\n",
    "    occurrence = ee.Image('JRC/GSW1_3/GlobalSurfaceWater').select('occurrence')\n",
    "    occurrence_water = occurrence.updateMask(water)\n",
    "    occurrence_no_data = occurrence.updateMask(no_data)\n",
    "    occurrence_HistogramCount = occurrence_water.reduceRegion(**{\n",
    "        'reducer': ee.Reducer.histogram(100,1),\n",
    "        'geometry': img.clip(roi).geometry(),\n",
    "        'scale': 30,\n",
    "        'bestEffort': True\n",
    "    })\n",
    "    histogram = ee.List(ee.Dictionary(occurrence_HistogramCount.get('occurrence')).get('histogram'))\n",
    "    bucketMeans = ee.List(ee.Dictionary(occurrence_HistogramCount.get('occurrence')).get('bucketMeans'))    \n",
    "    count_threshold = ee.Number(histogram.reduce(ee.Reducer.sum())).multiply(0.0017)\n",
    "    index = histogram.map(lambda i : ee.Algorithms.If(ee.Number(i).gte(ee.Number(count_threshold)),ee.Number(i))).removeAll([None]).get(0)\n",
    "    occurrence_threshold = bucketMeans.get(histogram.indexOf(index))\n",
    "    occurrence_corrected_water = occurrence_no_data.gte(ee.Number(occurrence_threshold)).selfMask().select('occurrence').rename('waterclass')\n",
    "    enhanced_water = ee.ImageCollection([basemap,water,occurrence_corrected_water]).sum()\n",
    "    return enhanced_water.set({'occurrence_threshold':occurrence_threshold})"
   ]
  },
  {
   "cell_type": "markdown",
   "metadata": {},
   "source": [
    "### 分母为有效观测次数"
   ]
  },
  {
   "cell_type": "code",
   "execution_count": null,
   "metadata": {
    "ExecuteTime": {
     "end_time": "2021-07-08T11:52:29.086532Z",
     "start_time": "2021-07-08T11:52:26.765399Z"
    }
   },
   "outputs": [],
   "source": [
    "corrected_img = corrected_image.map(AutomaticCorrection).sum()\n",
    "No_corrected_img = No_corrected_image.map(lambda i : water_index(maskL8sr(i)).select(bands).classify(trainedClassifier).eq(1).rename('waterclass')).sum()\n",
    "# Map.addLayer(corrected_img,{'palette':['white','green'],'min':0,'max':60},\"corrected_img\")\n",
    "# Map.addLayer(No_corrected_img,{'palette':['white','green'],'min':0,'max':60},\"No_corrected_img\")\n",
    "waterPixel_image = ee.ImageCollection([corrected_img,No_corrected_img]).sum()\n",
    "# Map.addLayer(waterPixel_image,{'palette':['white','blue'],'min':0,'max':60},\"waterPixel_image\")\n",
    "\n",
    "validPixel_image = lt2_images.map(lambda i : maskL8sr(i)).count().select('B3').clip(roi).rename('count')\n",
    "valid_waterfrequency = waterPixel_image.select('waterclass').divide(validPixel_image.select('count')).rename('frequency')\n",
    "Map.addLayer(valid_waterfrequency,{'palette':['white','green'],'min':0,'max':1},\"valid frequency cor\")\n",
    "\n",
    "valid_permanentwater = valid_waterfrequency.gte(0.75)\n",
    "Map.addLayer(valid_permanentwater.selfMask(),{'palette':['blue']},\"valid permanent water cor\")"
   ]
  },
  {
   "cell_type": "markdown",
   "metadata": {},
   "source": [
    "### 分母为全部观测次数"
   ]
  },
  {
   "cell_type": "code",
   "execution_count": null,
   "metadata": {
    "ExecuteTime": {
     "end_time": "2021-07-08T11:52:34.904006Z",
     "start_time": "2021-07-08T11:52:33.139522Z"
    }
   },
   "outputs": [],
   "source": [
    "corrected_img = corrected_image.map(AutomaticCorrection).sum()\n",
    "No_corrected_img = No_corrected_image.map(lambda i : water_index(maskL8sr(i)).select(bands).classify(trainedClassifier).eq(1).rename('waterclass')).sum()\n",
    "# Map.addLayer(corrected_img,{'palette':['white','green'],'min':0,'max':60},\"corrected_img\")\n",
    "# Map.addLayer(No_corrected_img,{'palette':['white','green'],'min':0,'max':60},\"No_corrected_img\")\n",
    "waterPixel_image = ee.ImageCollection([corrected_img,No_corrected_img]).sum()\n",
    "# Map.addLayer(waterPixel_image,{'palette':['white','blue'],'min':0,'max':60},\"waterPixel_image\")\n",
    "\n",
    "validPixel_image = lt2_images.count().select('B3').clip(roi).rename('count')\n",
    "all_waterfrequency = waterPixel_image.select('waterclass').divide(validPixel_image.select('count')).rename('frequency')\n",
    "Map.addLayer(all_waterfrequency,{'palette':['white','green'],'min':0,'max':1},\"frequency cor\")\n",
    "\n",
    "all_permanentwater = all_waterfrequency.gte(0.75)\n",
    "Map.addLayer(all_permanentwater.selfMask(),{'palette':['cyan']},\"permanent water cor\")"
   ]
  },
  {
   "cell_type": "markdown",
   "metadata": {},
   "source": [
    "## 水体频率（未校正）"
   ]
  },
  {
   "cell_type": "code",
   "execution_count": null,
   "metadata": {
    "ExecuteTime": {
     "end_time": "2021-07-08T12:21:45.279938Z",
     "start_time": "2021-07-08T12:21:43.656508Z"
    }
   },
   "outputs": [],
   "source": [
    "waterPixel_count = lt2_images.map(lambda i : water_index(maskL8sr(i)).select(bands).classify(trainedClassifier).eq(1).rename('waterclass')).sum()\n",
    "# Map.addLayer(waterpixel_count,{'palette':['white','#e40775'],'min':0,'max':35},\"waterPixelCount\")\n",
    "\n",
    "validPixel_count = lt2_images.map(lambda i : maskL8sr(i)).count().select('B3').clip(roi).rename('count')\n",
    "waterfrequency = waterPixel_count.select('waterclass').divide(validPixel_count.select('count')).rename('frequency')\n",
    "Map.addLayer(waterfrequency,{'palette':['white','green'],'min':0,'max':1},\"frequency\")\n",
    "\n",
    "permanentwater = waterfrequency.gte(0.75)\n",
    "Map.addLayer(permanentwater.selfMask(),{'palette':['red']},\"permanent_water\")"
   ]
  },
  {
   "cell_type": "code",
   "execution_count": null,
   "metadata": {},
   "outputs": [],
   "source": []
  },
  {
   "cell_type": "code",
   "execution_count": null,
   "metadata": {
    "ExecuteTime": {
     "end_time": "2021-07-08T12:40:07.184948Z",
     "start_time": "2021-07-08T12:39:22.487714Z"
    }
   },
   "outputs": [],
   "source": [
    "from matplotlib import pyplot as plt\n",
    "import numpy as np\n",
    "import matplotlib\n",
    "from geemap import cartoee\n",
    "%pylab inline\n",
    "region = [89.8565, 34.6503,91.4664, 35.8282] \n",
    "vis = {'min':0, 'max':1}\n",
    "fig = plt.figure(figsize=(12, 8))\n",
    "cmap = 'Blues'\n",
    "ax = cartoee.get_map(valid_waterfrequency, region=region, vis_params=vis,cmap = cmap)\n",
    "cartoee.add_colorbar(ax, vis,cmap=cmap,loc=\"right\",label=\"water frequency\", orientation=\"vertical\")\n",
    "cartoee.add_gridlines(ax, interval=[0.2,0.2], linestyle=\":\")\n",
    "ax.set_title(label = 'waterbody frequency(Auto-Correction/validPixel/2018)', fontsize=20)"
   ]
  },
  {
   "cell_type": "code",
   "execution_count": null,
   "metadata": {
    "ExecuteTime": {
     "end_time": "2021-07-08T12:41:31.992492Z",
     "start_time": "2021-07-08T12:41:28.961421Z"
    }
   },
   "outputs": [],
   "source": [
    "# permanent waterbody\n",
    "from matplotlib import pyplot as plt\n",
    "import numpy as np\n",
    "import matplotlib\n",
    "from geemap import cartoee\n",
    "region = [89.8565, 34.6503,91.4664, 35.8282] \n",
    "vis = {'palette':['D3D3D3','blue'],'min':0,'max':1}\n",
    "fig = plt.figure(figsize=(12, 8))\n",
    "ax = cartoee.get_map(valid_permanentwater, region=region, vis_params=vis)\n",
    "cartoee.add_gridlines(ax, interval=[0.2,0.2], linestyle=\":\")\n",
    "ax.set_title(label = 'permanent water(Auto-Correction/validPixel/2018)', fontsize=20)"
   ]
  },
  {
   "cell_type": "markdown",
   "metadata": {},
   "source": [
    "# 附录"
   ]
  },
  {
   "cell_type": "code",
   "execution_count": null,
   "metadata": {
    "ExecuteTime": {
     "end_time": "2021-07-08T12:33:33.849701Z",
     "start_time": "2021-07-08T12:33:01.576052Z"
    }
   },
   "outputs": [],
   "source": [
    "# 制图\n",
    "from matplotlib import pyplot as plt\n",
    "import numpy as np\n",
    "import matplotlib\n",
    "from geemap import cartoee\n",
    "region = [89.8565, 34.6503,91.4664, 35.8282]\n",
    "fig = plt.figure(figsize=(12, 8))\n",
    "# use cartoee to get a map\n",
    "ax = cartoee.get_map(landsat_images.mosaic(), region=region, vis_params=visParams)\n",
    "# add gridlines to the map at a specified interval\n",
    "cartoee.add_gridlines(ax, interval=[0.2,0.2], linestyle=\":\")\n",
    "ax.set_title(label = 'landsat image(2018)', fontsize=20)"
   ]
  },
  {
   "cell_type": "code",
   "execution_count": null,
   "metadata": {
    "ExecuteTime": {
     "end_time": "2021-06-16T02:15:45.716851Z",
     "start_time": "2021-06-16T02:15:39.867125Z"
    }
   },
   "outputs": [],
   "source": [
    "# 制图\n",
    "from matplotlib import pyplot as plt\n",
    "import numpy as np\n",
    "import matplotlib\n",
    "from geemap import cartoee\n",
    "region = [89.812623, 34.507942, 91.5449, 35.6369]\n",
    "vis = {'palette':['D4D4D4','blue'],'min':0,'max':1}\n",
    "fig = plt.figure(figsize=(12, 8))\n",
    "# use cartoee to get a map\n",
    "ax = cartoee.get_map(enhanced_water, region=region, vis_params=vis)\n",
    "# add gridlines to the map at a specified interval\n",
    "cartoee.add_gridlines(ax, interval=[0.2,0.2], linestyle=\":\")\n",
    "ax.set_title(label = 'classified image(AutomaticCorrection)', fontsize=20)"
   ]
  },
  {
   "cell_type": "code",
   "execution_count": null,
   "metadata": {
    "ExecuteTime": {
     "end_time": "2021-03-31T07:38:59.840699Z",
     "start_time": "2021-03-31T07:38:18.033763Z"
    }
   },
   "outputs": [],
   "source": [
    "# index_waterclass\n",
    "from matplotlib import pyplot as plt\n",
    "import numpy as np\n",
    "import matplotlib\n",
    "from geemap import cartoee\n",
    "region = [113.6, 29.9, 115.1, 31.4]\n",
    "vis = {'palette':['cccccc', '99d9ea', '0000ff'],'min':0,'max':2}\n",
    "fig = plt.figure(figsize=(12, 8))\n",
    "# use cartoee to get a map\n",
    "ax = cartoee.get_map(index_waterclass, region=region, vis_params=vis)\n",
    "\n",
    "# add gridlines to the map at a specified interval\n",
    "cartoee.add_gridlines(ax, interval=[0.5,0.5], linestyle=\":\")\n",
    "ax.set_title(label = 'waterbody frequency(INDEX) in 2018', fontsize=20)"
   ]
  },
  {
   "cell_type": "code",
   "execution_count": null,
   "metadata": {
    "ExecuteTime": {
     "end_time": "2021-03-31T07:20:45.018915Z",
     "start_time": "2021-03-31T07:20:11.521590Z"
    },
    "scrolled": false
   },
   "outputs": [],
   "source": [
    "# landExtent\n",
    "from matplotlib import pyplot as plt\n",
    "import numpy as np\n",
    "import matplotlib\n",
    "from geemap import cartoee\n",
    "region = [113.6, 29.9, 115.1, 31.4]\n",
    "vis = {'palette':['white','cccccc'],'min':0,'max':1}\n",
    "fig = plt.figure(figsize=(12, 8))\n",
    "ax = cartoee.get_map(landExtent, region=region, vis_params=vis)\n",
    "cartoee.add_gridlines(ax, interval=[0.5,0.5], linestyle=\":\")\n",
    "ax.set_title(label = 'land extent in 2018', fontsize=20)"
   ]
  }
 ],
 "metadata": {
  "hide_input": false,
  "kernelspec": {
   "display_name": "Python 3",
   "language": "python",
   "name": "python3"
  },
  "language_info": {
   "codemirror_mode": {
    "name": "ipython",
    "version": 3
   },
   "file_extension": ".py",
   "mimetype": "text/x-python",
   "name": "python",
   "nbconvert_exporter": "python",
   "pygments_lexer": "ipython3",
   "version": "3.8.5"
  },
  "toc": {
   "base_numbering": 1,
   "nav_menu": {},
   "number_sections": true,
   "sideBar": true,
   "skip_h1_title": false,
   "title_cell": "Table of Contents",
   "title_sidebar": "Contents",
   "toc_cell": false,
   "toc_position": {},
   "toc_section_display": true,
   "toc_window_display": false
  },
  "varInspector": {
   "cols": {
    "lenName": 16,
    "lenType": 16,
    "lenVar": 40
   },
   "kernels_config": {
    "python": {
     "delete_cmd_postfix": "",
     "delete_cmd_prefix": "del ",
     "library": "var_list.py",
     "varRefreshCmd": "print(var_dic_list())"
    },
    "r": {
     "delete_cmd_postfix": ") ",
     "delete_cmd_prefix": "rm(",
     "library": "var_list.r",
     "varRefreshCmd": "cat(var_dic_list()) "
    }
   },
   "types_to_exclude": [
    "module",
    "function",
    "builtin_function_or_method",
    "instance",
    "_Feature"
   ],
   "window_display": false
  }
 },
 "nbformat": 4,
 "nbformat_minor": 4
}
