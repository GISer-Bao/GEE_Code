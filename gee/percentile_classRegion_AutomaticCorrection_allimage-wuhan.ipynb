{
 "cells": [
  {
   "cell_type": "code",
   "execution_count": 1,
   "metadata": {
    "ExecuteTime": {
     "end_time": "2021-07-07T13:49:13.665042Z",
     "start_time": "2021-07-07T13:49:13.661720Z"
    }
   },
   "outputs": [],
   "source": [
    "import os\n",
    "os.environ['HTTP_PROXY'] = \"http://127.0.0.1:10809\"\n",
    "os.environ['HTTPS_PROXY'] = \"http://127.0.0.1:10809\""
   ]
  },
  {
   "cell_type": "code",
   "execution_count": 2,
   "metadata": {
    "ExecuteTime": {
     "end_time": "2021-07-07T13:49:18.076717Z",
     "start_time": "2021-07-07T13:49:13.901825Z"
    },
    "scrolled": false
   },
   "outputs": [
    {
     "data": {
      "application/vnd.jupyter.widget-view+json": {
       "model_id": "3908df1ae3ee4dcf93a759749f79e1e7",
       "version_major": 2,
       "version_minor": 0
      },
      "text/plain": [
       "Map(center=[40, -100], controls=(WidgetControl(options=['position', 'transparent_bg'], widget=HBox(children=(T…"
      ]
     },
     "metadata": {},
     "output_type": "display_data"
    }
   ],
   "source": [
    "import geemap\n",
    "import ee\n",
    "Map=geemap.Map()\n",
    "Map"
   ]
  },
  {
   "cell_type": "code",
   "execution_count": 3,
   "metadata": {
    "ExecuteTime": {
     "end_time": "2021-07-07T13:49:18.872136Z",
     "start_time": "2021-07-07T13:49:18.203405Z"
    }
   },
   "outputs": [],
   "source": [
    "# roi = ee.Feature(ee.FeatureCollection('users/311605001111/YangtzeCity/wuhan').first()).geometry()\n",
    "# Map.addLayer(roi, {}, \"roi\")\n",
    "# Map.centerObject(roi,8)\n",
    "\n",
    "# # 青海省部分地区\n",
    "roi = ee.Geometry.Rectangle([89.8565, 34.6503,91.4664, 35.8282])\n",
    "Map.addLayer(roi, {}, \"roi\")\n",
    "Map.centerObject(roi,7)"
   ]
  },
  {
   "cell_type": "code",
   "execution_count": 4,
   "metadata": {
    "ExecuteTime": {
     "end_time": "2021-07-07T13:49:19.059739Z",
     "start_time": "2021-07-07T13:49:19.045366Z"
    }
   },
   "outputs": [],
   "source": [
    "# 去云、云阴影、雪掩膜函数\n",
    "def maskL8sr(image):\n",
    "    cloudShadowBitMask = (1 << 3)\n",
    "    cloudsBitMask = (1 << 5)\n",
    "    snowBitMask = (1 << 4)   \n",
    "    qa = image.select('pixel_qa')\n",
    "    mask = qa.bitwiseAnd(cloudShadowBitMask).eq(0) \\\n",
    "                   .And(qa.bitwiseAnd(cloudsBitMask).eq(0)) \\\n",
    "                   .And(qa.bitwiseAnd(snowBitMask).eq(0))\n",
    "    return image.updateMask(mask)\n",
    "\n",
    "visParams = {\n",
    "    'bands': ['B5', 'B6', 'B4'],\n",
    "    'min': 0,\n",
    "    'max': 3000,\n",
    "    'gamma': 1.4,\n",
    "}\n",
    "\n",
    "# AWEI(自动水体提取指数): AWEIsh = B2 + 2.5B3 - 1.5(B5+B6) - 0.25B7\n",
    "def water_index(img):\n",
    "    image = img.clip(roi)\n",
    "    ndvi=image.normalizedDifference(['B5', 'B4']).rename('NDVI')\n",
    "    mndwi=image.normalizedDifference(['B3', 'B6']).rename(\"mNDWI\") \n",
    "    ndvi_mndwi = ndvi.subtract(mndwi).rename('ndvi_mndwi')\n",
    "    awei = image.expression('B2 + 2.5*B3 - 1.5*(B5+B6) - 0.25*B7',\n",
    "        {\n",
    "          'B2': image.select('B2'),\n",
    "          'B3': image.select('B3'),    \n",
    "          'B5': image.select('B5'),    \n",
    "          'B6': image.select('B6'),\n",
    "          'B7': image.select('B7'),\n",
    "        }).rename('AWEI')\n",
    "    return image.addBands(ndvi_mndwi).addBands(ndvi).addBands(mndwi).addBands(awei)\n",
    "\n",
    "def area_after_clip(image):\n",
    "    image_area = image.select('B2').gt(0).multiply(ee.Image.pixelArea()).divide(1e6)\n",
    "    water_area = image.select('mNDWI').gt(0).multiply(ee.Image.pixelArea()).divide(1e6)\n",
    "    imageareas = image_area.reduceRegion(**{\n",
    "        'reducer': ee.Reducer.sum(),\n",
    "        'geometry': image.geometry(),\n",
    "        'scale': 1000,\n",
    "        'maxPixels': 1e14,\n",
    "    })\n",
    "    waterareas = water_area.reduceRegion(**{\n",
    "        'reducer': ee.Reducer.sum(),\n",
    "        'geometry': image.geometry(),\n",
    "        'scale': 1000,\n",
    "        'maxPixels': 1e14,\n",
    "    })    \n",
    "    return image.setMulti({'imagearea': imageareas.get('B2'),'waterarea': waterareas.get('mNDWI')})"
   ]
  },
  {
   "cell_type": "code",
   "execution_count": 5,
   "metadata": {
    "ExecuteTime": {
     "end_time": "2021-07-07T13:49:20.160625Z",
     "start_time": "2021-07-07T13:49:19.184098Z"
    }
   },
   "outputs": [
    {
     "name": "stdout",
     "output_type": "stream",
     "text": [
      "134\n"
     ]
    }
   ],
   "source": [
    "landsat_images = ee.ImageCollection('LANDSAT/LC08/C01/T1_SR') \\\n",
    "    .filterBounds(roi) \\\n",
    "    .filterDate('2018-01-01', '2018-12-31') \\\n",
    "    .map(maskL8sr) \\\n",
    "    .map(water_index)\n",
    "Map.addLayer(landsat_images.mosaic(),visParams,'landsat image')\n",
    "print(landsat_images.size().getInfo())"
   ]
  },
  {
   "cell_type": "markdown",
   "metadata": {},
   "source": [
    "# 筛选得出采样影像"
   ]
  },
  {
   "cell_type": "code",
   "execution_count": 6,
   "metadata": {
    "ExecuteTime": {
     "end_time": "2021-07-07T13:49:25.672914Z",
     "start_time": "2021-07-07T13:49:20.302222Z"
    }
   },
   "outputs": [
    {
     "name": "stdout",
     "output_type": "stream",
     "text": [
      "39\n",
      "['2018-01-11', '2018-02-12', '2018-03-16', '2018-04-01', '2018-04-17', '2018-05-03', '2018-06-04', '2018-07-22', '2018-01-02', '2018-01-18', '2018-02-03', '2018-03-07', '2018-03-23', '2018-04-08', '2018-04-24', '2018-05-10', '2018-05-26', '2018-06-27', '2018-08-30', '2018-11-02', '2018-11-18', '2018-12-04', '2018-01-18', '2018-02-03', '2018-03-07', '2018-03-23', '2018-04-08', '2018-04-24', '2018-05-10', '2018-05-26', '2018-06-27', '2018-07-13', '2018-07-29', '2018-08-30', '2018-10-01', '2018-11-02', '2018-11-18', '2018-12-04', '2018-12-20']\n"
     ]
    }
   ],
   "source": [
    "image_area = landsat_images.mosaic().select('B2').gt(0).multiply(ee.Image.pixelArea()).divide(1e6)\n",
    "areas = image_area.reduceRegion(**{\n",
    "    'reducer': ee.Reducer.sum(),\n",
    "    'geometry': roi,\n",
    "    'scale': 30,\n",
    "    'maxPixels': 1e14,\n",
    "})\n",
    "# print(areas.getInfo())\n",
    "\n",
    "# 筛选影像，影像覆盖研究区的范围 > 研究区的1/10\n",
    "sample_image = landsat_images.map(area_after_clip).filter(ee.Filter.gt('imagearea',ee.Number(areas.get('B2')).divide(7)))\n",
    "dates = sample_image.aggregate_array('system:time_start').map(lambda d: ee.Date(d).format('YYYY-MM-dd'))\n",
    "print(sample_image.size().getInfo())\n",
    "print(dates.getInfo())"
   ]
  },
  {
   "cell_type": "code",
   "execution_count": 50,
   "metadata": {
    "ExecuteTime": {
     "end_time": "2021-07-08T01:56:48.584537Z",
     "start_time": "2021-07-08T01:56:39.564884Z"
    }
   },
   "outputs": [
    {
     "name": "stdout",
     "output_type": "stream",
     "text": [
      "118\n",
      "[66.0155230625, 79.26884221960789, 10.002199875, 73.96197908676476, 25.255907749264704, 484.2757035181371, 26.0041435625, 55.974048067647054, 71.01584468749999, 41.00601456249999, 229.03525568749998, 62.14305773039216, 229.03409168749985, 66.75894824877453, 86.01535375000002, 446.87805984019576, 365.5723914348036, 225.43155898725485, 183.33483238602946, 25.59652792941176, 30.870329047794122, 116.50294937867642, 5.001415625000001, 57.00295881250001, 23.103395278921575, 46.00477281249998, 23.03795008235294, 58.00898475, 152.60321806715692, 48.377746238480384, 53.963216855147046, 154.085629540196, 24.003983062499998, 181.98232706250008, 193.0266611875002, 84.00616793750001, 111.36567825269607, 349.2591277612748, 609.5249387897061, 243.19701445098016, 101.07009715563727, 114.87406599705875, 387.7724492340684, 132.45155612524502, 375.3203504348032, 105.82368987254904, 1185.0735567102988, 176.97727656985302, 301.0559131764705, 663.8491605504898, 962.3392269833338, 416.06174908701, 25.312619640441177, 194.17457902254895, 144.8053217875, 161.5205219612746, 165.2804686267158, 813.6791315061275, 357.7087359227945, 410.9567522289211, 257.4455317698529, 1762.9328648664152, 2104.3686673333314, 1120.745213650734, 392.4518714485297, 264.3828720801467, 179.95398628088222, 408.6536501529413, 266.6240062323529, 1253.2886645524534, 155.8344602017157, 442.4126561490194, 517.1680542813729, 623.681387230392, 297.0200502642155, 9.993603875, 735.7945100014731, 282.8066781250005, 162.109969467647, 9.000471749999999, 1055.381022499998, 1024.9890403178927, 755.2892392213238, 500.34603295122474, 2075.2595771147094, 1900.8102508568747, 979.2704669647057, 626.3671541502447, 26.87920266642157, 37.01895281372549, 13.555873705882355, 98.70231133308832, 6.938162074264706, 135.96318134730402, 43.31473542769607, 79.58755782107842, 6.992691562499999, 17.182630887499997, 19.980694937499997, 122.91173656593143, 76.5544194982843, 122.15871763529414, 84.62967121642161, 143.54252205147068, 42.948347319117644, 7.980891534558824, 13.575840279166666, 5.920160328921568, 16.310524393137253, 8.204390354411764, 27.99640430637255, 12.86611281617647, 8.60369979264706, 18.77432850784314, 14.04979106764706, 45.78132985294117, 27.480632456127456, 24.46377616691177]\n",
      "16\n",
      "[0, 0, 0, 3.016978410539216, 0, 0, 0, 0, 3.443954376470588, 0, 0, 0.9990944375, 0.9991111875, 0, 3.608355365441177, 0]\n"
     ]
    }
   ],
   "source": [
    "# 需要校正的图像\n",
    "corrected_image = landsat_images.map(area_after_clip).filter(ee.Filter.gt('waterarea',5))\n",
    "print(corrected_image.aggregate_array('waterarea').size().getInfo())\n",
    "print(corrected_image.aggregate_array('waterarea').getInfo())\n",
    "\n",
    "# 不需要校正的图像\n",
    "No_corrected_image = landsat_images.map(area_after_clip).filter(ee.Filter.lte('waterarea',5))\n",
    "print(No_corrected_image.aggregate_array('waterarea').size().getInfo())\n",
    "print(No_corrected_image.aggregate_array('waterarea').getInfo())"
   ]
  },
  {
   "cell_type": "markdown",
   "metadata": {},
   "source": [
    "# 样本采集函数的定义"
   ]
  },
  {
   "cell_type": "code",
   "execution_count": 8,
   "metadata": {
    "ExecuteTime": {
     "end_time": "2021-07-07T13:49:42.383241Z",
     "start_time": "2021-07-07T13:49:40.981612Z"
    }
   },
   "outputs": [],
   "source": [
    "# ndvi_mndwi水体频率\n",
    "basemap = ee.Image.constant(0).clip(roi).rename('waterclass')\n",
    "water_layer = landsat_images.map(lambda i : i.select('ndvi_mndwi').lt(0)).sum()\n",
    "validPixel_layer = landsat_images.count().select('B3').rename('count')\n",
    "index_waterfrequency = water_layer.select('ndvi_mndwi').divide(validPixel_layer.select('count')).select('ndvi_mndwi').rename('frequency')\n",
    "index_permanent = index_waterfrequency.gte(0.75).remap([0,1],[0,2]).rename('waterclass')\n",
    "index_season= ee.ImageCollection([index_waterfrequency.gte(0.25),index_waterfrequency.lt(0.75)]).sum().eq(2).rename('waterclass')\n",
    "index_waterclass = ee.ImageCollection([index_permanent,index_season,basemap]).sum()\n",
    "# Map.addLayer(index_waterfrequency.gte(0.75).selfMask(),{'palette':['green']},\"index permanentwater\")\n",
    "# JRC\n",
    "JRC_2018 = ee.Image(\"JRC/GSW1_3/YearlyHistory/2018\").clip(roi).remap([0,1,2,3],[0,0,1,2]).rename('waterclass')\n",
    "JRC_waterclass = ee.ImageCollection([JRC_2018,basemap]).sum()\n",
    "# # Maryland\n",
    "# Maryland_2018 = ee.Image('users/311605001111/Maryland_2018').clip(roi).select('b1').rename('waterclass')\n",
    "# Maryland_permanent = Maryland_2018.select('waterclass').gte(75).remap([0,1],[0,2]).rename('waterclass')\n",
    "# Maryland_season= ee.ImageCollection([Maryland_2018.gte(25),Maryland_2018.lt(75)]).sum().eq(2)\n",
    "# Maryland_waterclass = ee.ImageCollection([Maryland_permanent,Maryland_season,basemap]).sum()\n",
    "# # 三者的交集\n",
    "# permanentWaterExtent = ee.ImageCollection([index_waterclass.eq(2),JRC_waterclass.eq(2),Maryland_waterclass.eq(2)]).sum().eq(3)\n",
    "# landExtent = ee.ImageCollection([index_waterclass.eq(0),JRC_waterclass.eq(0),Maryland_waterclass.eq(0)]).sum().eq(3)\n",
    "# seasonWaterExtent = ee.ImageCollection([permanentWaterExtent,landExtent]).sum().remap([0,1],[1,0]).rename('waterclass')\n",
    "# 两者的交集\n",
    "permanentWaterExtent = ee.ImageCollection([index_waterclass.eq(2),JRC_waterclass.eq(2)]).sum().eq(2)\n",
    "landExtent = ee.ImageCollection([index_waterclass.eq(0),JRC_waterclass.eq(0)]).sum().eq(2)\n",
    "seasonWaterExtent = ee.ImageCollection([permanentWaterExtent,landExtent]).sum().remap([0,1],[1,0]).rename('waterclass')\n",
    "\n",
    "Map.addLayer(permanentWaterExtent.selfMask(),{'palette':['blue']},\"permanent_water\")\n",
    "Map.addLayer(seasonWaterExtent.selfMask(),{'palette':['green']},\"season water\")"
   ]
  },
  {
   "cell_type": "code",
   "execution_count": 17,
   "metadata": {
    "ExecuteTime": {
     "end_time": "2021-07-07T14:11:14.144141Z",
     "start_time": "2021-07-07T14:11:14.139762Z"
    }
   },
   "outputs": [],
   "source": [
    "def intervalmean(image):\n",
    "    awei = image.updateMask(seasonWaterExtent).select('AWEI')\n",
    "    intervalMean = awei.reduceRegion(**{\n",
    "        'reducer': ee.Reducer.intervalMean(50,100), \n",
    "        'geometry': image.geometry(), \n",
    "        'scale': 30, \n",
    "        'bestEffort': True\n",
    "    })\n",
    "    return image.set({'mean': intervalMean.get('AWEI')})"
   ]
  },
  {
   "cell_type": "code",
   "execution_count": 23,
   "metadata": {
    "ExecuteTime": {
     "end_time": "2021-07-08T01:17:46.670893Z",
     "start_time": "2021-07-08T01:17:44.019052Z"
    },
    "scrolled": true
   },
   "outputs": [
    {
     "name": "stdout",
     "output_type": "stream",
     "text": [
      "[19.356971760986816, -85.64451092048252, 359.5121798913315, -866.7328699272574, 540.1160331012488, 1777.7738804960036, 1007.2344912479166, 1152.5850265137228, 414.3526731422403, 335.4687853676186, 66.64383904707908, 631.6947253117634, -222.31249778945045, 800.2620113431273, 1950.3032687582831, 1729.1422850711137, 1778.9482477531044, 1383.0189348182882, 1797.4908362794483, 2234.0405087318204, 3114.7011182576493, 1317.8155994719834, 462.696912057167, 381.5587216722168, 288.4563600541863, 275.34245818982674, 2619.084642123285, 2876.1390043130104, 1248.434905510485, 875.2651914121343, 2272.179513736374, 1256.4834062364155, 1614.1603262380827, 2371.2147192845164, 2281.0353420958604, 2508.4323144418145, 4874.229760478297, 2298.634409983928, 1626.8956009328258]\n"
     ]
    }
   ],
   "source": [
    "a = sample_image.limit(39).map(intervalmean)\n",
    "b = a.aggregate_array('mean')\n",
    "print(b.getInfo())"
   ]
  },
  {
   "cell_type": "code",
   "execution_count": 24,
   "metadata": {
    "ExecuteTime": {
     "end_time": "2021-07-08T01:18:02.584795Z",
     "start_time": "2021-07-08T01:18:02.568809Z"
    }
   },
   "outputs": [],
   "source": [
    "# RandomForest预测使用的波段\n",
    "bands = ['B2', 'B3', 'B4', 'B5', 'B6', 'B7','NDVI','mNDWI','ndvi_mndwi','AWEI']\n",
    "# 分类标签\n",
    "label = 'waterclass'\n",
    "def imageSample(image):\n",
    "    ROI = image.geometry()\n",
    "    permanent = permanentWaterExtent.updateMask(image.select('B3').gt(0)).remap([0,1],[0,2]).rename('waterclass')\n",
    "    land = landExtent.updateMask(image.select('B3').gt(0))\n",
    "    awei = image.updateMask(seasonWaterExtent).select('AWEI')\n",
    "    season_class = awei.gt(ee.Image.constant(image.get('mean'))).rename('waterclass')\n",
    "    seasonalwater_Extent = ee.ImageCollection([season_class,basemap]).sum().remap([0,1],[0,2]).rename('waterclass')\n",
    "    percentile_waterclass = ee.ImageCollection([permanent,seasonalwater_Extent,land]).sum().remap([0,1,2],[0,0,1]).rename('waterclass')\n",
    "    water = percentile_waterclass.selfMask()\n",
    "    nowater = percentile_waterclass.eq(0).selfMask().remap([1],[0]).rename('waterclass')\n",
    "    water_points = percentile_waterclass.sample(**{\n",
    "        'region': roi,\n",
    "        'scale': 30,\n",
    "        'numPixels': 200,\n",
    "        'seed': 1,\n",
    "        'geometries': True,\n",
    "    })\n",
    "    nowater_points = nowater.sample(**{\n",
    "        'region': ROI,\n",
    "        'scale': 30,\n",
    "        'numPixels': 50,\n",
    "        'seed': 1,\n",
    "        'geometries': True,\n",
    "    })\n",
    "    all_points = water_points\n",
    "    #.merge(nowater_points)\n",
    "    sample_points = image.select(bands).sampleRegions(**{\n",
    "        'collection': all_points,\n",
    "        'properties': [label],\n",
    "        'scale': 30,\n",
    "        'geometries': True,\n",
    "    })\n",
    "    return sample_points"
   ]
  },
  {
   "cell_type": "code",
   "execution_count": 28,
   "metadata": {
    "ExecuteTime": {
     "end_time": "2021-07-08T01:25:24.252307Z",
     "start_time": "2021-07-08T01:25:17.775905Z"
    },
    "scrolled": true
   },
   "outputs": [
    {
     "name": "stdout",
     "output_type": "stream",
     "text": [
      "{'type': 'Feature', 'geometry': {'geodesic': False, 'type': 'Point', 'coordinates': [91.21998487294526, 35.27136878677897]}, 'id': 'LC08_138036_20180111_2_0', 'properties': {'AWEI': -2405, 'B2': 647, 'B3': 932, 'B4': 1176, 'B5': 1422, 'B6': 1883, 'B7': 1698, 'NDVI': 0.09468822181224823, 'mNDWI': -0.337833046913147, 'ndvi_mndwi': 0.432521253824234, 'waterclass': 0}}\n",
      "total sample number:2199\n"
     ]
    }
   ],
   "source": [
    "# 总的样本点数\n",
    "points_collection = a.map(imageSample).flatten()\n",
    "print(points_collection.first().getInfo())\n",
    "print('total sample number:{}'.format(points_collection.size().getInfo()))\n",
    "\n",
    "# # 水体的样本点数\n",
    "# samplepoint_water = points_collection.filter(ee.Filter.eq('waterclass',1))\n",
    "# print('water sample number:{}'.format(samplepoint_water.size().getInfo()))\n",
    "\n",
    "# # 非水体的样本点数\n",
    "# samplepoint_water = points_collection.filter(ee.Filter.eq('waterclass',0))\n",
    "# print('water sample number:{}'.format(samplepoint_water.size().getInfo()))"
   ]
  },
  {
   "cell_type": "code",
   "execution_count": 68,
   "metadata": {
    "ExecuteTime": {
     "end_time": "2021-07-08T02:29:55.549129Z",
     "start_time": "2021-07-08T02:29:53.218570Z"
    }
   },
   "outputs": [
    {
     "name": "stdout",
     "output_type": "stream",
     "text": [
      "Exporting qinghai_2018...\n",
      "Exporting qinghai_2018...\n"
     ]
    }
   ],
   "source": [
    "label = 'qinghai_2018'\n",
    "\n",
    "# csv格式\n",
    "selector = ['B2', 'B3', 'B4', 'B5', 'B6', 'B7','NDVI','mNDWI','AWEI','ndvi_mndwi','waterclass']\n",
    "geemap.ee_export_vector_to_drive(points_collection, description=label, folder='wuhan', file_format='csv', selectors=selector)\n",
    "\n",
    "# shp格式\n",
    "selector = ['B2', 'B3', 'B4', 'B5', 'B6', 'B7','NDVI','mNDWI','AWEI','ndvi_mndwi','waterclass']\n",
    "geemap.ee_export_vector_to_drive(points_collection, description=label, folder='wuhan', file_format='shp', selectors=selector)"
   ]
  },
  {
   "cell_type": "code",
   "execution_count": 69,
   "metadata": {
    "ExecuteTime": {
     "end_time": "2021-07-08T03:04:47.098416Z",
     "start_time": "2021-07-08T03:04:47.081459Z"
    }
   },
   "outputs": [],
   "source": [
    "def AutomaticCorrection(image):\n",
    "    basemap = ee.Image.constant(0).toFloat().clip(image.geometry()).clip(roi).rename('waterclass')\n",
    "    class_image = ee.ImageCollection([basemap,image.remap([0,1],[1,2]).rename('waterclass')]).sum()\n",
    "    water = class_image.eq(2).selfMask()\n",
    "    no_data = class_image.eq(0).selfMask()\n",
    "    occurrence = ee.Image('JRC/GSW1_3/GlobalSurfaceWater').select('occurrence').clip(image.geometry()).clip(roi)\n",
    "    occurrence_water = occurrence.updateMask(water)\n",
    "    occurrence_no_data = occurrence.updateMask(no_data)\n",
    "    occurrence_HistogramCount = occurrence_water.reduceRegion(**{\n",
    "        'reducer': ee.Reducer.histogram(100,1),\n",
    "        'geometry': image.clip(roi).geometry(),\n",
    "        'scale': 30,\n",
    "    })\n",
    "    histogram = ee.List(ee.Dictionary(occurrence_HistogramCount.get('occurrence')).get('histogram'))\n",
    "    bucketMeans = ee.List(ee.Dictionary(occurrence_HistogramCount.get('occurrence')).get('bucketMeans'))    \n",
    "    count_threshold = ee.Number(histogram.reduce(ee.Reducer.sum())).multiply(0.0017)\n",
    "    index = histogram.map(lambda i : ee.Algorithms.If(ee.Number(i).gte(ee.Number(count_threshold)),ee.Number(i))).removeAll([None]).get(0)\n",
    "    occurrence_threshold = bucketMeans.get(histogram.indexOf(index))\n",
    "    # print(occurrence_threshold.getInfo())\n",
    "    occurrence_corrected_water = occurrence_no_data.gte(ee.Number(occurrence_threshold)).selfMask().select('occurrence').rename('waterclass')\n",
    "    enhanced_water = ee.ImageCollection([basemap,water,occurrence_corrected_water]).sum()\n",
    "    return enhanced_water"
   ]
  },
  {
   "cell_type": "code",
   "execution_count": 70,
   "metadata": {
    "ExecuteTime": {
     "end_time": "2021-07-08T03:10:34.450192Z",
     "start_time": "2021-07-08T03:10:34.436828Z"
    }
   },
   "outputs": [],
   "source": [
    "trainedClassifier = ee.Classifier.smileRandomForest(20).train(points_collection,label,bands)\n",
    "# train_accuracy = trainedClassifier.confusionMatrix()\n",
    "# print(train_accuracy.getInfo())\n",
    "# print(train_accuracy.accuracy().getInfo())\n",
    "# print(train_accuracy.kappa().getInfo())\n",
    "\n",
    "#对影像进行分类\n",
    "def training(image):\n",
    "    return image.select(bands).classify(trainedClassifier).eq(1).rename('waterclass')"
   ]
  },
  {
   "cell_type": "code",
   "execution_count": 71,
   "metadata": {
    "ExecuteTime": {
     "end_time": "2021-07-08T03:16:18.726632Z",
     "start_time": "2021-07-08T03:16:18.712645Z"
    }
   },
   "outputs": [
    {
     "ename": "AttributeError",
     "evalue": "'Image' object has no attribute 'map'",
     "output_type": "error",
     "traceback": [
      "\u001b[1;31m---------------------------------------------------------------------------\u001b[0m",
      "\u001b[1;31mAttributeError\u001b[0m                            Traceback (most recent call last)",
      "\u001b[1;32m<ipython-input-71-ae0f3a7cf455>\u001b[0m in \u001b[0;36m<module>\u001b[1;34m\u001b[0m\n\u001b[1;32m----> 1\u001b[1;33m \u001b[0mwaterpixel_image\u001b[0m \u001b[1;33m=\u001b[0m \u001b[0mcorrected_image\u001b[0m\u001b[1;33m.\u001b[0m\u001b[0mmap\u001b[0m\u001b[1;33m(\u001b[0m\u001b[0mtraining\u001b[0m\u001b[1;33m)\u001b[0m\u001b[1;33m\u001b[0m\u001b[1;33m\u001b[0m\u001b[0m\n\u001b[0m\u001b[0;32m      2\u001b[0m \u001b[1;33m\u001b[0m\u001b[0m\n\u001b[0;32m      3\u001b[0m \u001b[1;31m# print(waterpixel_image.size().getInfo())\u001b[0m\u001b[1;33m\u001b[0m\u001b[1;33m\u001b[0m\u001b[1;33m\u001b[0m\u001b[0m\n",
      "\u001b[1;31mAttributeError\u001b[0m: 'Image' object has no attribute 'map'"
     ]
    }
   ],
   "source": [
    "waterpixel_image = corrected_image.map(training)\n",
    "\n",
    "# print(waterpixel_image.size().getInfo())"
   ]
  },
  {
   "cell_type": "code",
   "execution_count": null,
   "metadata": {
    "ExecuteTime": {
     "end_time": "2021-07-08T03:16:18.733588Z",
     "start_time": "2021-07-08T03:04:48.252Z"
    }
   },
   "outputs": [],
   "source": [
    "correct_image = AutomaticCorrection(waterpixel_image.first())"
   ]
  },
  {
   "cell_type": "code",
   "execution_count": null,
   "metadata": {
    "ExecuteTime": {
     "end_time": "2021-07-08T03:16:18.740570Z",
     "start_time": "2021-07-08T03:04:49.292Z"
    },
    "scrolled": true
   },
   "outputs": [],
   "source": [
    "# 需要校正的图像\n",
    "correct_image = waterpixel_image.map(AutomaticCorrection)"
   ]
  },
  {
   "cell_type": "code",
   "execution_count": null,
   "metadata": {},
   "outputs": [],
   "source": []
  },
  {
   "cell_type": "code",
   "execution_count": null,
   "metadata": {},
   "outputs": [],
   "source": []
  },
  {
   "cell_type": "code",
   "execution_count": null,
   "metadata": {},
   "outputs": [],
   "source": []
  },
  {
   "cell_type": "code",
   "execution_count": null,
   "metadata": {
    "ExecuteTime": {
     "end_time": "2021-06-16T02:26:20.856765Z",
     "start_time": "2021-06-16T02:25:44.085642Z"
    }
   },
   "outputs": [],
   "source": [
    "# 制图\n",
    "from matplotlib import pyplot as plt\n",
    "import numpy as np\n",
    "import matplotlib\n",
    "from geemap import cartoee\n",
    "region = [89.812623, 34.507942, 91.5449, 35.6369]\n",
    "raw_image = maskL8sr(ee.Image('LANDSAT/LC08/C01/T1_SR/LC08_139036_20180627').clip(roi))\n",
    "fig = plt.figure(figsize=(12, 8))\n",
    "# use cartoee to get a map\n",
    "ax = cartoee.get_map(landsat_images.mosaic().clip(raw_image.geometry()), region=region, vis_params=visParams)\n",
    "# add gridlines to the map at a specified interval\n",
    "cartoee.add_gridlines(ax, interval=[0.2,0.2], linestyle=\":\")\n",
    "ax.set_title(label = 'reference image', fontsize=20)"
   ]
  },
  {
   "cell_type": "code",
   "execution_count": null,
   "metadata": {
    "ExecuteTime": {
     "end_time": "2021-06-16T02:15:45.716851Z",
     "start_time": "2021-06-16T02:15:39.867125Z"
    }
   },
   "outputs": [],
   "source": [
    "# 制图\n",
    "from matplotlib import pyplot as plt\n",
    "import numpy as np\n",
    "import matplotlib\n",
    "from geemap import cartoee\n",
    "region = [89.812623, 34.507942, 91.5449, 35.6369]\n",
    "vis = {'palette':['D4D4D4','blue'],'min':0,'max':1}\n",
    "fig = plt.figure(figsize=(12, 8))\n",
    "# use cartoee to get a map\n",
    "ax = cartoee.get_map(enhanced_water, region=region, vis_params=vis)\n",
    "# add gridlines to the map at a specified interval\n",
    "cartoee.add_gridlines(ax, interval=[0.2,0.2], linestyle=\":\")\n",
    "ax.set_title(label = 'classified image(AutomaticCorrection)', fontsize=20)"
   ]
  }
 ],
 "metadata": {
  "hide_input": false,
  "kernelspec": {
   "display_name": "Python 3 (ipykernel)",
   "language": "python",
   "name": "python3"
  },
  "language_info": {
   "codemirror_mode": {
    "name": "ipython",
    "version": 3
   },
   "file_extension": ".py",
   "mimetype": "text/x-python",
   "name": "python",
   "nbconvert_exporter": "python",
   "pygments_lexer": "ipython3",
   "version": "3.8.5"
  },
  "toc": {
   "base_numbering": 1,
   "nav_menu": {},
   "number_sections": true,
   "sideBar": true,
   "skip_h1_title": false,
   "title_cell": "Table of Contents",
   "title_sidebar": "Contents",
   "toc_cell": false,
   "toc_position": {},
   "toc_section_display": true,
   "toc_window_display": false
  },
  "varInspector": {
   "cols": {
    "lenName": 16,
    "lenType": 16,
    "lenVar": 40
   },
   "kernels_config": {
    "python": {
     "delete_cmd_postfix": "",
     "delete_cmd_prefix": "del ",
     "library": "var_list.py",
     "varRefreshCmd": "print(var_dic_list())"
    },
    "r": {
     "delete_cmd_postfix": ") ",
     "delete_cmd_prefix": "rm(",
     "library": "var_list.r",
     "varRefreshCmd": "cat(var_dic_list()) "
    }
   },
   "types_to_exclude": [
    "module",
    "function",
    "builtin_function_or_method",
    "instance",
    "_Feature"
   ],
   "window_display": false
  }
 },
 "nbformat": 4,
 "nbformat_minor": 4
}
