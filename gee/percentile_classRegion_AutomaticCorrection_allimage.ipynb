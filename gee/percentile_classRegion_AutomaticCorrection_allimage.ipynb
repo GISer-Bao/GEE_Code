{
 "cells": [
  {
   "cell_type": "code",
   "execution_count": 1,
   "metadata": {
    "ExecuteTime": {
     "end_time": "2021-07-02T02:09:03.436175Z",
     "start_time": "2021-07-02T02:09:03.419249Z"
    }
   },
   "outputs": [],
   "source": [
    "import os\n",
    "os.environ['HTTP_PROXY'] = \"http://127.0.0.1:10809\"\n",
    "os.environ['HTTPS_PROXY'] = \"http://127.0.0.1:10809\""
   ]
  },
  {
   "cell_type": "code",
   "execution_count": 2,
   "metadata": {
    "ExecuteTime": {
     "end_time": "2021-07-02T02:09:07.352344Z",
     "start_time": "2021-07-02T02:09:03.685174Z"
    },
    "scrolled": false
   },
   "outputs": [
    {
     "data": {
      "application/vnd.jupyter.widget-view+json": {
       "model_id": "d7919e9dad6740c68b23fc2e7cf2913b",
       "version_major": 2,
       "version_minor": 0
      },
      "text/plain": [
       "Map(center=[40, -100], controls=(WidgetControl(options=['position', 'transparent_bg'], widget=HBox(children=(T…"
      ]
     },
     "metadata": {},
     "output_type": "display_data"
    }
   ],
   "source": [
    "import geemap\n",
    "import ee\n",
    "Map=geemap.Map()\n",
    "Map"
   ]
  },
  {
   "cell_type": "code",
   "execution_count": 5,
   "metadata": {
    "ExecuteTime": {
     "end_time": "2021-07-02T02:11:33.386799Z",
     "start_time": "2021-07-02T02:11:32.557595Z"
    }
   },
   "outputs": [],
   "source": [
    "roi = ee.FeatureCollection('users/311605001111/caohu_region')\n",
    "Map.addLayer(roi, {}, \"roi\")\n",
    "Map.centerObject(roi,8)\n",
    "\n",
    "# # 青海省部分地区\n",
    "# roi = ee.Geometry.Rectangle([89.852623, 34.537942,92.3677, 36.217184])\n",
    "# Map.addLayer(roi, {}, \"roi\")\n",
    "# Map.centerObject(roi,7)"
   ]
  },
  {
   "cell_type": "code",
   "execution_count": null,
   "metadata": {
    "ExecuteTime": {
     "end_time": "2021-06-19T08:14:22.126869Z",
     "start_time": "2021-06-19T08:14:22.113226Z"
    }
   },
   "outputs": [],
   "source": [
    "# 去云、云阴影、雪掩膜函数\n",
    "def maskL8sr(image):\n",
    "    cloudShadowBitMask = (1 << 3)\n",
    "    cloudsBitMask = (1 << 5)\n",
    "    snowBitMask = (1 << 4)   \n",
    "    qa = image.select('pixel_qa')\n",
    "    mask = qa.bitwiseAnd(cloudShadowBitMask).eq(0) \\\n",
    "                   .And(qa.bitwiseAnd(cloudsBitMask).eq(0)) \\\n",
    "                   .And(qa.bitwiseAnd(snowBitMask).eq(0))\n",
    "    return image.updateMask(mask)\n",
    "\n",
    "visParams = {\n",
    "    'bands': ['B5', 'B6', 'B4'],\n",
    "    'min': 0,\n",
    "    'max': 3000,\n",
    "    'gamma': 1.4,\n",
    "}\n",
    "\n",
    "# AWEI(自动水体提取指数): AWEIsh = B2 + 2.5B3 - 1.5(B5+B6) - 0.25B7\n",
    "def water_index(image):\n",
    "    ndvi=image.normalizedDifference(['B5', 'B4']).rename('NDVI')\n",
    "    mndwi=image.normalizedDifference(['B3', 'B6']).rename(\"mNDWI\") \n",
    "    ndvi_mndwi = ndvi.subtract(mndwi).rename('ndvi_mndwi')\n",
    "    awei = image.expression('B2 + 2.5*B3 - 1.5*(B5+B6) - 0.25*B7',\n",
    "        {\n",
    "          'B2': image.select('B2'),\n",
    "          'B3': image.select('B3'),    \n",
    "          'B5': image.select('B5'),    \n",
    "          'B6': image.select('B6'),\n",
    "          'B7': image.select('B7'),\n",
    "        }).rename('AWEI')\n",
    "    return image.addBands(ndvi_mndwi).addBands(ndvi).addBands(mndwi).addBands(awei)\n",
    "\n",
    "def area_after_clip(image):\n",
    "    image_area = image.clip(roi).select('B2').gt(0).multiply(ee.Image.pixelArea()).divide(1e6)\n",
    "    areas = image_area.reduceRegion(**{\n",
    "        'reducer': ee.Reducer.sum(),\n",
    "        'geometry': image.geometry(),\n",
    "        'scale': 30,\n",
    "        'maxPixels': 1e14\n",
    "    })\n",
    "    return image.set({'area': areas.get('B2')})"
   ]
  },
  {
   "cell_type": "code",
   "execution_count": null,
   "metadata": {
    "ExecuteTime": {
     "end_time": "2021-06-19T15:05:40.023601Z",
     "start_time": "2021-06-19T15:05:37.334538Z"
    }
   },
   "outputs": [],
   "source": [
    "landsat_images = ee.ImageCollection('LANDSAT/LC08/C01/T1_SR') \\\n",
    "    .filterBounds(roi) \\\n",
    "    .filterDate('2018-01-01', '2018-12-31') \\\n",
    "    .map(water_index)\n",
    "#     .map(maskL8sr) \\\n",
    "Map.addLayer(landsat_images.mosaic().clip(roi),visParams,'landsat image')\n",
    "print(landsat_images.size().getInfo())"
   ]
  },
  {
   "cell_type": "code",
   "execution_count": null,
   "metadata": {
    "ExecuteTime": {
     "end_time": "2021-06-19T15:05:42.385587Z",
     "start_time": "2021-06-19T15:05:40.970144Z"
    }
   },
   "outputs": [],
   "source": [
    "# image = ee.Image(waterpixel_image.toList(waterpixel_image.size()).get(5))\n",
    "# Map.addLayer(image,{'palette':['white','blue'],'min':0,'max':1},'image5')\n",
    "\n",
    "image = ee.Image(landsat_images.toList(landsat_images.size()).get(5)).clip(roi)\n",
    "Map.addLayer(image,visParams,'raw image5')"
   ]
  },
  {
   "cell_type": "markdown",
   "metadata": {},
   "source": [
    "# 筛选得出采样影像"
   ]
  },
  {
   "cell_type": "code",
   "execution_count": null,
   "metadata": {
    "ExecuteTime": {
     "end_time": "2021-06-19T08:16:05.607988Z",
     "start_time": "2021-06-19T08:14:52.123966Z"
    }
   },
   "outputs": [],
   "source": [
    "image = landsat_images.mosaic().clip(roi)\n",
    "image_area = image.select('B2').gt(0).multiply(ee.Image.pixelArea()).divide(1e6)\n",
    "areas = image_area.reduceRegion(**{\n",
    "    'reducer': ee.Reducer.sum(),\n",
    "    'geometry': roi,\n",
    "    'scale': 30,\n",
    "    'maxPixels': 1e14\n",
    "})\n",
    "# print(areas.getInfo())\n",
    "\n",
    "# 筛选影像，影像覆盖研究区的范围 > 研究区的1/10\n",
    "sample_image = landsat_images.map(area_after_clip).filter(ee.Filter.gt('area',ee.Number(areas.get('B2')).divide(ee.Number(10))))\n",
    "dates = sample_image.aggregate_array('system:time_start').map(lambda d: ee.Date(d).format('YYYY-MM-dd'))\n",
    "print(sample_image.size().getInfo())\n",
    "print(dates.getInfo())"
   ]
  },
  {
   "cell_type": "markdown",
   "metadata": {},
   "source": [
    "# 样本采集函数的定义"
   ]
  },
  {
   "cell_type": "code",
   "execution_count": null,
   "metadata": {
    "ExecuteTime": {
     "end_time": "2021-06-17T07:36:21.097351Z",
     "start_time": "2021-06-17T07:36:19.389893Z"
    }
   },
   "outputs": [],
   "source": [
    "# ndvi_mndwi水体频率\n",
    "basemap = ee.Image.constant(0).clip(roi).rename('waterclass')\n",
    "water_layer = landsat_images.map(lambda i : i.select('ndvi_mndwi').lt(0)).sum()\n",
    "validPixel_layer = landsat_images.count().select('B3').clip(roi).rename('count')\n",
    "index_waterfrequency = water_layer.select('ndvi_mndwi').divide(validPixel_layer.select('count')).select('ndvi_mndwi').rename('frequency')\n",
    "index_permanent = index_waterfrequency.gte(0.75).remap([0,1],[0,2]).rename('waterclass')\n",
    "index_season= ee.ImageCollection([index_waterfrequency.gte(0.25),index_waterfrequency.lt(0.75)]).sum().eq(2).rename('waterclass')\n",
    "index_waterclass = ee.ImageCollection([index_permanent,index_season,basemap]).sum()\n",
    "Map.addLayer(index_waterfrequency.gte(0.75).selfMask(),{'palette':['green']},\"index permanentwater\")\n",
    "# JRC\n",
    "JRC_2018 = ee.Image(\"JRC/GSW1_3/YearlyHistory/2018\").clip(roi).remap([0,1,2,3],[0,0,1,2]).rename('waterclass')\n",
    "JRC_waterclass = ee.ImageCollection([JRC_2018,basemap]).sum()\n",
    "# # Maryland\n",
    "# Maryland_2018 = ee.Image('users/311605001111/Maryland_2018').clip(roi).select('b1').rename('waterclass')\n",
    "# Maryland_permanent = Maryland_2018.select('waterclass').gte(75).remap([0,1],[0,2]).rename('waterclass')\n",
    "# Maryland_season= ee.ImageCollection([Maryland_2018.gte(25),Maryland_2018.lt(75)]).sum().eq(2)\n",
    "# Maryland_waterclass = ee.ImageCollection([Maryland_permanent,Maryland_season,basemap]).sum()\n",
    "# # 三者的交集\n",
    "# permanentWaterExtent = ee.ImageCollection([index_waterclass.eq(2),JRC_waterclass.eq(2),Maryland_waterclass.eq(2)]).sum().eq(3)\n",
    "# landExtent = ee.ImageCollection([index_waterclass.eq(0),JRC_waterclass.eq(0),Maryland_waterclass.eq(0)]).sum().eq(3)\n",
    "# seasonWaterExtent = ee.ImageCollection([permanentWaterExtent,landExtent]).sum().remap([0,1],[1,0]).rename('waterclass')\n",
    "# 两者的交集\n",
    "permanentWaterExtent = ee.ImageCollection([index_waterclass.eq(2),JRC_waterclass.eq(2)]).sum().eq(2)\n",
    "landExtent = ee.ImageCollection([index_waterclass.eq(0),JRC_waterclass.eq(0)]).sum().eq(2)\n",
    "seasonWaterExtent = ee.ImageCollection([permanentWaterExtent,landExtent]).sum().remap([0,1],[1,0]).rename('waterclass')\n",
    "\n",
    "Map.addLayer(permanentWaterExtent.selfMask(),{'palette':['blue']},\"permanent_water\")\n",
    "Map.addLayer(seasonWaterExtent.selfMask(),{'palette':['green']},\"season water\")"
   ]
  },
  {
   "cell_type": "code",
   "execution_count": null,
   "metadata": {
    "ExecuteTime": {
     "end_time": "2021-06-17T07:36:22.791815Z",
     "start_time": "2021-06-17T07:36:22.730893Z"
    }
   },
   "outputs": [],
   "source": [
    "# RandomForest预测使用的波段\n",
    "bands = ['B2', 'B3', 'B4', 'B5', 'B6', 'B7','NDVI','mNDWI','ndvi_mndwi','AWEI']\n",
    "# 分类标签\n",
    "label = 'waterclass'\n",
    "def imageSample(image):\n",
    "    ROI = image.clip(roi).geometry()\n",
    "    permanent = permanentWaterExtent.updateMask(image.select('B3').gt(0)).remap([0,1],[0,2]).rename('waterclass')\n",
    "    land = landExtent.updateMask(image.select('B3').gt(0))\n",
    "    awei = image.clip(roi).updateMask(seasonWaterExtent).select('AWEI')\n",
    "    intervalMean = awei.reduceRegion(**{\n",
    "        'reducer': ee.Reducer.intervalMean(50,100), \n",
    "        'geometry': roi, \n",
    "        'scale': 30, \n",
    "        'bestEffort': True\n",
    "    })\n",
    "    season_class = awei.gt(ee.Image.constant(intervalMean.get('AWEI'))).rename('waterclass')\n",
    "    seasonalwater_Extent = ee.ImageCollection([season_class,basemap]).sum().remap([0,1],[0,2]).rename('waterclass').clip(image.geometry())\n",
    "    percentile_waterclass = ee.ImageCollection([permanent,seasonalwater_Extent,land]).sum().remap([0,1,2],[0,0,1]).rename('waterclass')\n",
    "    water = percentile_waterclass.selfMask().clip(image.geometry())\n",
    "    nowater = percentile_waterclass.eq(0).selfMask().remap([1],[0]).rename('waterclass').clip(image.geometry())\n",
    "    water_points = water.sample(**{\n",
    "        'region': ROI,\n",
    "        'scale': 30,\n",
    "        'numPixels': 200,\n",
    "        'seed': 1,\n",
    "        'geometries': True,\n",
    "    })\n",
    "    nowater_points = nowater.sample(**{\n",
    "        'region': ROI,\n",
    "        'scale': 30,\n",
    "        'numPixels': 100,\n",
    "        'seed': 1,\n",
    "        'geometries': True,\n",
    "    })\n",
    "    all_points = water_points.merge(nowater_points)\n",
    "    #.merge(nowater_points)\n",
    "    sample_points = image.select(bands).sampleRegions(**{\n",
    "        'collection': all_points,\n",
    "        'properties': [label],\n",
    "        'scale': 30,\n",
    "        'geometries': True,\n",
    "    })\n",
    "    return sample_points"
   ]
  },
  {
   "cell_type": "code",
   "execution_count": null,
   "metadata": {
    "ExecuteTime": {
     "end_time": "2021-06-17T07:36:33.576498Z",
     "start_time": "2021-06-17T07:36:24.399037Z"
    },
    "scrolled": true
   },
   "outputs": [],
   "source": [
    "# 总的样本点数\n",
    "points_collection = sample_image.map(imageSample).flatten()\n",
    "print(points_collection.first().getInfo())\n",
    "print('total sample number:{}'.format(points_collection.size().getInfo()))\n",
    "\n",
    "# # 水体的样本点数\n",
    "# samplepoint_water = points_collection.filter(ee.Filter.eq('waterclass',1))\n",
    "# print('water sample number:{}'.format(samplepoint_water.size().getInfo()))\n",
    "\n",
    "# # 非水体的样本点数\n",
    "# samplepoint_water = points_collection.filter(ee.Filter.eq('waterclass',0))\n",
    "# print('water sample number:{}'.format(samplepoint_water.size().getInfo()))"
   ]
  },
  {
   "cell_type": "code",
   "execution_count": null,
   "metadata": {
    "ExecuteTime": {
     "end_time": "2021-06-17T07:36:41.015311Z",
     "start_time": "2021-06-17T07:36:41.008338Z"
    }
   },
   "outputs": [],
   "source": [
    "def AutomaticCorrection(image):\n",
    "    basemap = ee.Image.constant(0).toFloat().clip(image.geometry()).clip(roi).rename('waterclass')\n",
    "    class_image = ee.ImageCollection([basemap,image.remap([0,1],[1,2]).rename('waterclass')]).sum()\n",
    "    water = class_image.eq(2).selfMask()\n",
    "    no_data = class_image.eq(0).selfMask()\n",
    "    occurrence = ee.Image('JRC/GSW1_3/GlobalSurfaceWater').select('occurrence').clip(image.geometry()).clip(roi)\n",
    "    occurrence_water = occurrence.updateMask(water)\n",
    "    occurrence_no_data = occurrence.updateMask(no_data)\n",
    "    occurrence_HistogramCount = occurrence_water.reduceRegion(**{\n",
    "        'reducer': ee.Reducer.histogram(100,1),\n",
    "        'geometry': image.clip(roi).geometry(),\n",
    "        'scale': 90,\n",
    "    })\n",
    "    HistogramCount_sum = ee.List(ee.Dictionary(occurrence_HistogramCount.get('occurrence')).get('histogram')).reduce(ee.Reducer.sum())\n",
    "    count_threshold = ee.Number(HistogramCount_sum).multiply(0.0017)\n",
    "    occurrence_histogram = occurrence_water.reduceRegion(**{\n",
    "        'reducer': ee.Reducer.autoHistogram(100,1),\n",
    "        'geometry': image.clip(roi).geometry(),\n",
    "        'scale': 90,\n",
    "    })\n",
    "    occurrence_list = ee.List(occurrence_histogram.get('occurrence').getInfo())\n",
    "    occurrence_threshold = occurrence_list.map(lambda array : ee.Algorithms.If(ee.Number(ee.List(array).get(1)).gte(ee.Number(count_threshold)),ee.List(array).get(0))).removeAll([None]).get(0)\n",
    "    print(occurrence_threshold.getInfo())\n",
    "    occurrence_corrected_water = occurrence_no_data.gte(ee.Number(occurrence_threshold)).selfMask().select('occurrence').rename('waterclass')\n",
    "    enhanced_water = ee.ImageCollection([basemap,water,occurrence_corrected_water]).sum()\n",
    "    return enhanced_water"
   ]
  },
  {
   "cell_type": "code",
   "execution_count": null,
   "metadata": {
    "ExecuteTime": {
     "end_time": "2021-06-17T07:36:46.703334Z",
     "start_time": "2021-06-17T07:36:46.693308Z"
    }
   },
   "outputs": [],
   "source": [
    "trainedClassifier = ee.Classifier.smileRandomForest(20).train(points_collection,label,bands)\n",
    "# train_accuracy = trainedClassifier.confusionMatrix()\n",
    "# print(train_accuracy.getInfo())\n",
    "# print(train_accuracy.accuracy().getInfo())\n",
    "# print(train_accuracy.kappa().getInfo())\n",
    "\n",
    "#对影像进行分类\n",
    "def training(image):\n",
    "    return image.clip(roi).select(bands).classify(trainedClassifier).eq(1).rename('waterclass')"
   ]
  },
  {
   "cell_type": "code",
   "execution_count": null,
   "metadata": {
    "ExecuteTime": {
     "end_time": "2021-06-17T07:37:00.331878Z",
     "start_time": "2021-06-17T07:37:00.320502Z"
    }
   },
   "outputs": [],
   "source": [
    "waterpixel_image = sample_image.map(training)\n",
    "\n",
    "# print(waterpixel_image.size().getInfo())"
   ]
  },
  {
   "cell_type": "code",
   "execution_count": null,
   "metadata": {
    "ExecuteTime": {
     "end_time": "2021-06-17T07:55:53.791576Z",
     "start_time": "2021-06-17T07:40:22.557779Z"
    },
    "scrolled": false
   },
   "outputs": [],
   "source": [
    "# basemap = ee.Image.constant(0).toFloat().clip(roi).rename('waterclass')\n",
    "imageCol = ee.ImageCollection([])\n",
    "for i in range(sample_image.size().getInfo()):\n",
    "    image = ee.Image(waterpixel_image.toList(waterpixel_image.size()).get(i))\n",
    "    correction_image = AutomaticCorrection(image)\n",
    "    imageCol = imageCol.merge(ee.ImageCollection([correction_image]))\n",
    "# dates = imageCol.aggregate_array('system:time_start').map(lambda d: ee.Date(d).format('YYYY-MM-dd'))\n",
    "# print(imageCol.size().getInfo())"
   ]
  },
  {
   "cell_type": "code",
   "execution_count": null,
   "metadata": {
    "ExecuteTime": {
     "start_time": "2021-06-17T06:32:51.193Z"
    }
   },
   "outputs": [],
   "source": [
    "dates = imageCol.aggregate_array('system:time_start').map(lambda d: ee.Date(d).format('YYYY-MM-dd'))\n",
    "print(dates.getInfo())"
   ]
  },
  {
   "cell_type": "code",
   "execution_count": null,
   "metadata": {},
   "outputs": [],
   "source": []
  },
  {
   "cell_type": "code",
   "execution_count": null,
   "metadata": {
    "ExecuteTime": {
     "end_time": "2021-06-16T02:11:10.924144Z",
     "start_time": "2021-06-16T02:11:10.906162Z"
    }
   },
   "outputs": [],
   "source": [
    "image = classify_image.remap([0,1],[1,2]).rename('waterclass')\n",
    "class_image = ee.ImageCollection([basemap,image]).sum()\n",
    "# Map.addLayer(class_image,{'palette':['white','red','blue'],'min':0,'max':2},'class image')\n",
    "water = class_image.eq(2).selfMask()\n",
    "no_data = class_image.eq(0).selfMask()\n",
    "\n",
    "# 加载water occurrence 制图产品\n",
    "visualization_occurrence = {\n",
    "  'bands': ['occurrence'],\n",
    "  'min': 0.0,\n",
    "  'max': 100.0,\n",
    "  'palette': ['green', 'yellow', 'red']\n",
    "}\n",
    "occurrence = ee.Image('JRC/GSW1_3/GlobalSurfaceWater').select('occurrence').clip(image9.geometry()).clip(roi)\n",
    "occurrence_water = occurrence.updateMask(water)\n",
    "occurrence_no_data = occurrence.updateMask(no_data)\n",
    "# Map.addLayer(occurrence_water, visualization_occurrence, 'water in occurrence')\n",
    "# Map.addLayer(occurrence_no_data, visualization_occurrence, 'no data in occurrence')"
   ]
  },
  {
   "cell_type": "code",
   "execution_count": null,
   "metadata": {
    "ExecuteTime": {
     "end_time": "2021-06-16T02:11:58.948029Z",
     "start_time": "2021-06-16T02:11:48.311203Z"
    }
   },
   "outputs": [],
   "source": [
    "# 计算 count threshold ；count_threshold = \"The average value of pixel counts\" *0.17\n",
    "occurrence_HistogramCount = occurrence_water.reduceRegion(**{\n",
    "    'reducer': ee.Reducer.histogram(100,1),\n",
    "    'geometry': image9.clip(roi).geometry(),\n",
    "    'scale': 60,\n",
    "})\n",
    "HistogramCount_sum = ee.List(ee.Dictionary(occurrence_HistogramCount.get('occurrence')).get('histogram')).reduce(ee.Reducer.sum())\n",
    "count_threshold = ee.Number(HistogramCount_sum).multiply(0.0017)\n",
    "print(count_threshold.getInfo())\n",
    "\n",
    "occurrence_histogram = occurrence_water.reduceRegion(**{\n",
    "    'reducer': ee.Reducer.autoHistogram(100,1),\n",
    "    'geometry': image9.clip(roi).geometry(),\n",
    "    'scale': 60,\n",
    "})\n",
    "def lookFrequency(array):\n",
    "    counts = ee.Number(ee.List(array).get(1))\n",
    "    a = ee.Algorithms.If(counts.gte(ee.Number(count_threshold)),ee.List(array).get(0))\n",
    "    return a\n",
    "occurrence_list = ee.List(occurrence_histogram.get('occurrence').getInfo())\n",
    "occurrence_threshold = occurrence_list.map(lookFrequency).removeAll([None]).get(0)\n",
    "print(occurrence_threshold.getInfo())"
   ]
  },
  {
   "cell_type": "code",
   "execution_count": null,
   "metadata": {
    "ExecuteTime": {
     "end_time": "2021-06-16T02:14:08.857790Z",
     "start_time": "2021-06-16T02:14:06.452123Z"
    },
    "scrolled": true
   },
   "outputs": [],
   "source": [
    "Map.addLayer(water,{'palette':['blue']}, 'water')\n",
    "\n",
    "occurrence_corrected_water = occurrence_no_data.gte(ee.Number(occurrence_threshold)).selfMask().select('occurrence').rename('waterclass')\n",
    "Map.addLayer(occurrence_corrected_water,{'palette': ['cyan']}, 'corrected waterbody')\n",
    "\n",
    "enhanced_water = ee.ImageCollection([basemap,water,occurrence_corrected_water]).sum()\n",
    "# Map.addLayer(enhanced_water,{'palette': ['blue']}, 'enhanced_water')\n",
    "\n",
    "Map.addLayer(enhanced_water,{'palette':['D4D4D4','blue'],'min':0,'max':1}, 'enhanced_water')"
   ]
  },
  {
   "cell_type": "code",
   "execution_count": null,
   "metadata": {},
   "outputs": [],
   "source": []
  },
  {
   "cell_type": "code",
   "execution_count": null,
   "metadata": {},
   "outputs": [],
   "source": []
  },
  {
   "cell_type": "code",
   "execution_count": null,
   "metadata": {
    "ExecuteTime": {
     "end_time": "2021-06-16T02:26:20.856765Z",
     "start_time": "2021-06-16T02:25:44.085642Z"
    }
   },
   "outputs": [],
   "source": [
    "# 制图\n",
    "from matplotlib import pyplot as plt\n",
    "import numpy as np\n",
    "import matplotlib\n",
    "from geemap import cartoee\n",
    "region = [89.812623, 34.507942, 91.5449, 35.6369]\n",
    "raw_image = maskL8sr(ee.Image('LANDSAT/LC08/C01/T1_SR/LC08_139036_20180627').clip(roi))\n",
    "fig = plt.figure(figsize=(12, 8))\n",
    "# use cartoee to get a map\n",
    "ax = cartoee.get_map(landsat_images.mosaic().clip(raw_image.geometry()), region=region, vis_params=visParams)\n",
    "# add gridlines to the map at a specified interval\n",
    "cartoee.add_gridlines(ax, interval=[0.2,0.2], linestyle=\":\")\n",
    "ax.set_title(label = 'reference image', fontsize=20)"
   ]
  },
  {
   "cell_type": "code",
   "execution_count": null,
   "metadata": {
    "ExecuteTime": {
     "end_time": "2021-06-16T02:15:45.716851Z",
     "start_time": "2021-06-16T02:15:39.867125Z"
    }
   },
   "outputs": [],
   "source": [
    "# 制图\n",
    "from matplotlib import pyplot as plt\n",
    "import numpy as np\n",
    "import matplotlib\n",
    "from geemap import cartoee\n",
    "region = [89.812623, 34.507942, 91.5449, 35.6369]\n",
    "vis = {'palette':['D4D4D4','blue'],'min':0,'max':1}\n",
    "fig = plt.figure(figsize=(12, 8))\n",
    "# use cartoee to get a map\n",
    "ax = cartoee.get_map(enhanced_water, region=region, vis_params=vis)\n",
    "# add gridlines to the map at a specified interval\n",
    "cartoee.add_gridlines(ax, interval=[0.2,0.2], linestyle=\":\")\n",
    "ax.set_title(label = 'classified image(AutomaticCorrection)', fontsize=20)"
   ]
  },
  {
   "cell_type": "markdown",
   "metadata": {},
   "source": [
    "# 使用JRC数据集做交叉验证"
   ]
  },
  {
   "cell_type": "markdown",
   "metadata": {},
   "source": [
    "## JRC"
   ]
  },
  {
   "cell_type": "code",
   "execution_count": null,
   "metadata": {
    "ExecuteTime": {
     "end_time": "2021-04-30T08:04:27.081830Z",
     "start_time": "2021-04-30T08:04:24.870780Z"
    }
   },
   "outputs": [],
   "source": [
    "# 使用JRC做验证\n",
    "JRC_WaterClass = JRC_waterclass.rename('jrcwaterclass')\n",
    "JRC_samplepoints = JRC_WaterClass.sample(**{\n",
    "    'region': roi ,\n",
    "    'scale': 30,\n",
    "    'numPixels': 5000,\n",
    "    'seed': 0,\n",
    "    'geometries': True  # Set this to False to ignore geometries\n",
    "})\n",
    "print('JRC total number of sample point:{}'.format(JRC_samplepoints.size().getInfo()))\n",
    "\n",
    "waterclass = JRC_samplepoints.filter(ee.Filter.eq('jrcwaterclass',1))\n",
    "print('the number of water sample point:{}'.format(waterclass.size().getInfo()))\n",
    "\n",
    "waterclass = JRC_samplepoints.filter(ee.Filter.eq('jrcwaterclass',2))\n",
    "print('the number of water sample point:{}'.format(waterclass.size().getInfo()))"
   ]
  },
  {
   "cell_type": "code",
   "execution_count": null,
   "metadata": {
    "ExecuteTime": {
     "end_time": "2021-04-30T08:06:49.972642Z",
     "start_time": "2021-04-30T08:06:37.254903Z"
    }
   },
   "outputs": [],
   "source": [
    "basemap = ee.Image.constant(0).clip(roi).rename('waterclass')\n",
    "permanent_water = waterfrequency.gte(0.75).remap([0,1],[0,2]).rename('waterclass')\n",
    "seasonal_water = ee.ImageCollection([waterfrequency.gte(0.25),waterfrequency.lt(0.75)]).sum().eq(2).rename('waterclass')\n",
    "water_waterclass = ee.ImageCollection([permanent_water,seasonal_water,basemap]).sum()\n",
    "# Map.addLayer(water_waterclass,{'palette':['white','red','blue'],'min':0,'max':2},\"water waterclass\")\n",
    "\n",
    "\n",
    "# Overlay the points on the imagery to get training.\n",
    "JRC_sample_point = water_waterclass.sampleRegions(**{\n",
    "    'collection': JRC_samplepoints,\n",
    "    'properties': ['jrcwaterclass'],\n",
    "    'scale': 30\n",
    "})\n",
    "print(JRC_sample_point.first().getInfo())\n",
    "# 利用误差矩阵进行验证\n",
    "test_accuracy = JRC_sample_point.errorMatrix('jrcwaterclass', 'waterclass')\n",
    "print(test_accuracy.getInfo())\n",
    "print('total accuracy:{}'.format(test_accuracy.accuracy().getInfo()))\n",
    "print('kappa:{}'.format(test_accuracy.kappa().getInfo()))"
   ]
  },
  {
   "cell_type": "code",
   "execution_count": null,
   "metadata": {
    "ExecuteTime": {
     "end_time": "2021-04-30T08:15:04.768430Z",
     "start_time": "2021-04-30T08:14:48.680063Z"
    }
   },
   "outputs": [],
   "source": [
    "JRC_2018 = ee.Image(\"JRC/GSW1_2/YearlyHistory/2018\").clip(roi).remap([0,1,2,3],[0,0,0,1]).rename('waterclass')\n",
    "JRC_waterclass = ee.ImageCollection([JRC_2018,basemap]).sum().rename('jrcwaterclass')\n",
    "permanentwater = waterfrequency.gte(0.75).select('frequency').rename('waterclass')\n",
    "JRC_samplepoints = JRC_waterclass.sample(**{\n",
    "    'region': roi ,\n",
    "    'scale': 30,\n",
    "    'numPixels': 5000,\n",
    "    'seed': 0,\n",
    "    'geometries': True  # Set this to False to ignore geometries\n",
    "})\n",
    "print('JRC total number of sample point:{}'.format(JRC_samplepoints.size().getInfo()))\n",
    "waterclass = JRC_samplepoints.filter(ee.Filter.eq('jrcwaterclass',1))\n",
    "print('the number of water sample point:{}'.format(waterclass.size().getInfo()))\n",
    "\n",
    "\n",
    "JRC_sample_point = permanentwater.sampleRegions(**{\n",
    "    'collection': JRC_samplepoints,\n",
    "    'properties': ['jrcwaterclass'],\n",
    "    'scale': 30\n",
    "})\n",
    "print(JRC_sample_point.first().getInfo())\n",
    "# 利用误差矩阵进行验证\n",
    "test_accuracy = JRC_sample_point.errorMatrix('jrcwaterclass', 'waterclass')\n",
    "print(test_accuracy.getInfo())\n",
    "print('total accuracy:{}'.format(test_accuracy.accuracy().getInfo()))\n",
    "print('kappa:{}'.format(test_accuracy.kappa().getInfo()))"
   ]
  },
  {
   "cell_type": "markdown",
   "metadata": {},
   "source": [
    "## Maryland"
   ]
  },
  {
   "cell_type": "code",
   "execution_count": null,
   "metadata": {
    "ExecuteTime": {
     "end_time": "2021-04-30T08:22:19.230540Z",
     "start_time": "2021-04-30T08:22:16.662988Z"
    }
   },
   "outputs": [],
   "source": [
    "# 使用Maryland做验证\n",
    "Maryland_WaterClass = Maryland_waterclass.rename('Maryland_waterclass')\n",
    "Maryland_samplepoints = Maryland_WaterClass.sample(**{\n",
    "    'region': roi,\n",
    "    'scale': 30,\n",
    "    'numPixels': 5000,\n",
    "    'seed': 0,\n",
    "    'geometries': True  # Set this to False to ignore geometries\n",
    "})\n",
    "print('Maryland total number of sample point:{}'.format(Maryland_samplepoints.size().getInfo()))\n",
    "\n",
    "waterclass = Maryland_samplepoints.filter(ee.Filter.eq('Maryland_waterclass',1))\n",
    "print('the number of water sample point:{}'.format(waterclass.size().getInfo()))\n",
    "\n",
    "waterclass = Maryland_samplepoints.filter(ee.Filter.eq('Maryland_waterclass',2))\n",
    "print('the number of water sample point:{}'.format(waterclass.size().getInfo()))"
   ]
  },
  {
   "cell_type": "code",
   "execution_count": null,
   "metadata": {
    "ExecuteTime": {
     "end_time": "2021-04-30T08:31:45.756520Z",
     "start_time": "2021-04-30T08:31:33.145307Z"
    },
    "scrolled": true
   },
   "outputs": [],
   "source": [
    "# Overlay the points on the imagery to get training.\n",
    "Maryland_sample_point = water_waterclass.sampleRegions(**{\n",
    "    'collection': Maryland_samplepoints,\n",
    "    'properties': ['Maryland_waterclass'],\n",
    "    'scale': 30\n",
    "})\n",
    "print(Maryland_sample_point.first().getInfo())\n",
    "# 利用误差矩阵进行验证\n",
    "test_accuracy = Maryland_sample_point.errorMatrix('Maryland_waterclass', 'waterclass')\n",
    "print(test_accuracy.getInfo())\n",
    "print('total accuracy:{}'.format(test_accuracy.accuracy().getInfo()))\n",
    "print('kappa:{}'.format(test_accuracy.kappa().getInfo()))"
   ]
  },
  {
   "cell_type": "code",
   "execution_count": null,
   "metadata": {
    "ExecuteTime": {
     "end_time": "2021-04-30T08:35:09.818851Z",
     "start_time": "2021-04-30T08:34:55.856921Z"
    }
   },
   "outputs": [],
   "source": [
    "Maryland_WaterClass = Maryland_waterclass.remap([0,1,2],[0,0,1]).rename('Maryland_waterclass')\n",
    "permanentwater = waterfrequency.gte(0.75).select('frequency').rename('waterclass')\n",
    "Maryland_samplepoints = Maryland_WaterClass.sample(**{\n",
    "    'region': roi ,\n",
    "    'scale': 30,\n",
    "    'numPixels': 5000,\n",
    "    'seed': 0,\n",
    "    'geometries': True  # Set this to False to ignore geometries\n",
    "})\n",
    "print('Maryland total number of sample point:{}'.format(Maryland_samplepoints.size().getInfo()))\n",
    "waterclass = Maryland_samplepoints.filter(ee.Filter.eq('Maryland_waterclass',1))\n",
    "print('the number of water sample point:{}'.format(waterclass.size().getInfo()))\n",
    "\n",
    "\n",
    "Maryland_sample_point = permanentwater.sampleRegions(**{\n",
    "    'collection': Maryland_samplepoints,\n",
    "    'properties': ['Maryland_waterclass'],\n",
    "    'scale': 30\n",
    "})\n",
    "print(Maryland_sample_point.first().getInfo())\n",
    "# 利用误差矩阵进行验证\n",
    "test_accuracy = Maryland_sample_point.errorMatrix('Maryland_waterclass', 'waterclass')\n",
    "print(test_accuracy.getInfo())\n",
    "print('total accuracy:{}'.format(test_accuracy.accuracy().getInfo()))\n",
    "print('kappa:{}'.format(test_accuracy.kappa().getInfo()))"
   ]
  },
  {
   "cell_type": "markdown",
   "metadata": {},
   "source": [
    "# 附录"
   ]
  },
  {
   "cell_type": "code",
   "execution_count": null,
   "metadata": {
    "ExecuteTime": {
     "end_time": "2021-04-14T14:14:42.538928Z",
     "start_time": "2021-04-14T14:14:34.026797Z"
    }
   },
   "outputs": [],
   "source": [
    "# Map.addLayer(sample_image.first().clip(roi),visParams,'image first')\n",
    "permanent_image = sample_image.first().clip(roi).updateMask(permanentWaterExtent)\n",
    "Map.addLayer(permanent_image,visParams,'permanent image')\n",
    "permanent = permanentWaterExtent.updateMask(permanent_image.select('B2').gt(0))\n",
    "Map.addLayer(permanent,{'palette':['white','blue'],'min':0,'max':1},'permanent')\n",
    "\n",
    "\n",
    "season_image = sample_image.first().clip(roi).updateMask(seasonWaterExtent)\n",
    "seasonal = seasonWaterExtent.updateMask(season_image.select('B2').gt(0))\n",
    "Map.addLayer(seasonal,{'palette':['white','red'],'min':0,'max':1},'seasonal')\n",
    "\n",
    "land_image = sample_image.first().clip(roi).updateMask(landExtent)\n",
    "land = landExtent.updateMask(land_image.select('B2').gt(0)).remap([1],[0]).rename('waterclass')\n",
    "Map.addLayer(land,{'palette':['white','cyan'],'min':0,'max':1},'land')\n",
    "\n",
    "points_permanentwater = permanent.sample(**{\n",
    "    'region': roi,\n",
    "    'scale': 30,\n",
    "    'numPixels': 200,\n",
    "    'seed': 0,\n",
    "    'geometries': True  # Set this to False to ignore geometries\n",
    "})\n",
    "print(\"permanent : {}\".format(points_permanentwater.size().getInfo()))\n",
    "points_seasonalwater = seasonal.sample(**{\n",
    "    'region': roi,\n",
    "    'scale': 30,\n",
    "    'numPixels': 200,\n",
    "    'seed': 0,\n",
    "    'geometries': True  # Set this to False to ignore geometries\n",
    "})\n",
    "print('seasonal : {}'.format(points_seasonalwater.size().getInfo()))\n",
    "\n",
    "points_land = land.sample(**{\n",
    "    'region': roi,\n",
    "    'scale': 30,\n",
    "    'numPixels': 200,\n",
    "    'seed': 0,\n",
    "    'geometries': True  # Set this to False to ignore geometries\n",
    "})\n",
    "print('land : {}'.format(points_land.size().getInfo()))"
   ]
  },
  {
   "cell_type": "code",
   "execution_count": null,
   "metadata": {
    "ExecuteTime": {
     "end_time": "2021-03-31T03:33:02.143218Z",
     "start_time": "2021-03-31T03:33:00.115881Z"
    }
   },
   "outputs": [],
   "source": [
    "all_points = points_permanentwater.merge(points_seasonalwater).merge(points_land)\n",
    "print(all_points.size().getInfo())\n",
    "print(all_points.filter(ee.Filter.eq('waterclass',1)).size().getInfo())"
   ]
  },
  {
   "cell_type": "code",
   "execution_count": null,
   "metadata": {
    "ExecuteTime": {
     "end_time": "2021-03-30T07:38:47.630048Z",
     "start_time": "2021-03-30T07:38:46.372203Z"
    }
   },
   "outputs": [],
   "source": [
    "per_wuhan = landsat_images.mosaic().updateMask(permanentWaterExtent)\n",
    "Map.addLayer(per_wuhan,visParams,\"per wuhan\")"
   ]
  },
  {
   "cell_type": "code",
   "execution_count": null,
   "metadata": {
    "ExecuteTime": {
     "end_time": "2021-03-30T07:21:31.586542Z",
     "start_time": "2021-03-30T07:21:31.166728Z"
    }
   },
   "outputs": [],
   "source": [
    "dataset = ee.Image('JRC/GSW1_2/YearlyHistory/2018')\n",
    "\n",
    "visualization = {\n",
    "  'bands': ['waterClass'],\n",
    "  'min': 0.0,\n",
    "  'max': 3.0,\n",
    "  'palette': ['cccccc', 'ffffff', '99d9ea', '0000ff']\n",
    "}\n",
    "Map.addLayer(dataset.clip(roi), visualization, 'Water Class')"
   ]
  },
  {
   "cell_type": "code",
   "execution_count": null,
   "metadata": {
    "ExecuteTime": {
     "end_time": "2021-03-31T07:38:59.840699Z",
     "start_time": "2021-03-31T07:38:18.033763Z"
    }
   },
   "outputs": [],
   "source": [
    "# Maryland_waterclass显示\n",
    "from matplotlib import pyplot as plt\n",
    "import numpy as np\n",
    "import matplotlib\n",
    "from geemap import cartoee\n",
    "region = [113.6, 29.9, 115.1, 31.4] \n",
    "vis = {'palette':['cccccc', '99d9ea', '0000ff'],'min':0,'max':2}\n",
    "fig = plt.figure(figsize=(12, 8))\n",
    "# use cartoee to get a map\n",
    "ax = cartoee.get_map(Maryland_waterclass, region=region, vis_params=vis)\n",
    "# add a colorbar to the map using the visualization params we passed to the map\n",
    "# cartoee.add_colorbar(ax, vis,cmap=cmap,loc=\"right\",label=\"water frequency\", orientation=\"vertical\")\n",
    "# ticks=range(0,50,10)\n",
    "# add gridlines to the map at a specified interval\n",
    "cartoee.add_gridlines(ax, interval=[0.5,0.5], linestyle=\":\")\n",
    "ax.set_title(label = 'waterbody frequency(Maryland) in 2018', fontsize=20)\n",
    "\n",
    "# JRC_waterclass\n",
    "from matplotlib import pyplot as plt\n",
    "from geemap import cartoee\n",
    "import numpy as np\n",
    "import matplotlib\n",
    "region = [113.6, 29.9, 115.1, 31.4]\n",
    "vis = {'palette':['cccccc', '99d9ea', '0000ff'],'min':0,'max':2}\n",
    "fig = plt.figure(figsize=(12, 8))\n",
    "# use cartoee to get a map\n",
    "ax = cartoee.get_map(JRC_waterclass, region=region, vis_params=vis)\n",
    "# cartoee.add_colorbar(ax, vis,cmap=cmap,loc=\"right\",label=\"water frequency\", orientation=\"vertical\")\n",
    "# add gridlines to the map at a specified interval\n",
    "cartoee.add_gridlines(ax, interval=[0.5,0.5], linestyle=\":\")\n",
    "ax.set_title(label = 'waterbody frequency(JRC) in 2018', fontsize=20)\n",
    "\n",
    "# index_waterclass\n",
    "from matplotlib import pyplot as plt\n",
    "import numpy as np\n",
    "import matplotlib\n",
    "from geemap import cartoee\n",
    "region = [113.6, 29.9, 115.1, 31.4]\n",
    "vis = {'palette':['cccccc', '99d9ea', '0000ff'],'min':0,'max':2}\n",
    "fig = plt.figure(figsize=(12, 8))\n",
    "# use cartoee to get a map\n",
    "ax = cartoee.get_map(index_waterclass, region=region, vis_params=vis)\n",
    "\n",
    "# add gridlines to the map at a specified interval\n",
    "cartoee.add_gridlines(ax, interval=[0.5,0.5], linestyle=\":\")\n",
    "ax.set_title(label = 'waterbody frequency(INDEX) in 2018', fontsize=20)"
   ]
  },
  {
   "cell_type": "code",
   "execution_count": null,
   "metadata": {
    "ExecuteTime": {
     "end_time": "2021-03-31T07:20:45.018915Z",
     "start_time": "2021-03-31T07:20:11.521590Z"
    },
    "scrolled": false
   },
   "outputs": [],
   "source": [
    "# seasonWaterExtent\n",
    "from matplotlib import pyplot as plt\n",
    "import numpy as np\n",
    "import matplotlib\n",
    "from geemap import cartoee\n",
    "region = [113.6, 29.9, 115.1, 31.4]\n",
    "vis = {'palette':['cccccc', '99d9ea'],'min':0,'max':1}\n",
    "fig = plt.figure(figsize=(12, 8))\n",
    "ax = cartoee.get_map(seasonWaterExtent, region=region, vis_params=vis)\n",
    "cartoee.add_gridlines(ax, interval=[0.5,0.5], linestyle=\":\")\n",
    "ax.set_title(label = 'seasonal waterbody extent in 2018', fontsize=20)\n",
    "\n",
    "# permanentWaterExtent\n",
    "from matplotlib import pyplot as plt\n",
    "import numpy as np\n",
    "import matplotlib\n",
    "from geemap import cartoee\n",
    "region = [113.6, 29.9, 115.1, 31.4]\n",
    "vis = {'palette':['cccccc', '0000ff'],'min':0,'max':1}\n",
    "fig = plt.figure(figsize=(12, 8))\n",
    "ax = cartoee.get_map(permanentWaterExtent, region=region, vis_params=vis)\n",
    "cartoee.add_gridlines(ax, interval=[0.5,0.5], linestyle=\":\")\n",
    "ax.set_title(label = 'permanent waterbody extent in 2018', fontsize=20)\n",
    "\n",
    "# landExtent\n",
    "from matplotlib import pyplot as plt\n",
    "import numpy as np\n",
    "import matplotlib\n",
    "from geemap import cartoee\n",
    "region = [113.6, 29.9, 115.1, 31.4]\n",
    "vis = {'palette':['white','cccccc'],'min':0,'max':1}\n",
    "fig = plt.figure(figsize=(12, 8))\n",
    "ax = cartoee.get_map(landExtent, region=region, vis_params=vis)\n",
    "cartoee.add_gridlines(ax, interval=[0.5,0.5], linestyle=\":\")\n",
    "ax.set_title(label = 'land extent in 2018', fontsize=20)"
   ]
  },
  {
   "cell_type": "code",
   "execution_count": null,
   "metadata": {},
   "outputs": [],
   "source": [
    "421.6652605777773\n",
    "permanent = permanentWaterExtent.clip(image.geometry()).remap([0,1],[0,2]).rename('waterclass')\n",
    "land = landExtent.clip(image.geometry())\n",
    "season_image = image.clip(roi).updateMask(seasonWaterExtent)\n",
    "awei = AWEIsh(season_image).select('AWEI')\n",
    "intervalMean = awei.reduceRegion(**{\n",
    "    'reducer': ee.Reducer.intervalMean(50,100), \n",
    "    'geometry': roi, \n",
    "    'scale': 30, \n",
    "    'bestEffort': True\n",
    "})\n",
    "season_class = awei.gt(ee.Image.constant(intervalMean.get('AWEI'))).rename('waterclass')\n",
    "seasonalwater_Extent = ee.ImageCollection([season_class,basemap]).sum().remap([0,1],[0,2]).rename('waterclass').clip(image.geometry()) \n",
    "percentile_waterclass = ee.ImageCollection([permanent,seasonalwater_Extent,land]).sum().remap([0,1,2],[0,0,1]).rename('waterclass')"
   ]
  }
 ],
 "metadata": {
  "hide_input": false,
  "kernelspec": {
   "display_name": "Python 3 (ipykernel)",
   "language": "python",
   "name": "python3"
  },
  "language_info": {
   "codemirror_mode": {
    "name": "ipython",
    "version": 3
   },
   "file_extension": ".py",
   "mimetype": "text/x-python",
   "name": "python",
   "nbconvert_exporter": "python",
   "pygments_lexer": "ipython3",
   "version": "3.8.5"
  },
  "toc": {
   "base_numbering": 1,
   "nav_menu": {},
   "number_sections": true,
   "sideBar": true,
   "skip_h1_title": false,
   "title_cell": "Table of Contents",
   "title_sidebar": "Contents",
   "toc_cell": false,
   "toc_position": {},
   "toc_section_display": true,
   "toc_window_display": false
  },
  "varInspector": {
   "cols": {
    "lenName": 16,
    "lenType": 16,
    "lenVar": 40
   },
   "kernels_config": {
    "python": {
     "delete_cmd_postfix": "",
     "delete_cmd_prefix": "del ",
     "library": "var_list.py",
     "varRefreshCmd": "print(var_dic_list())"
    },
    "r": {
     "delete_cmd_postfix": ") ",
     "delete_cmd_prefix": "rm(",
     "library": "var_list.r",
     "varRefreshCmd": "cat(var_dic_list()) "
    }
   },
   "types_to_exclude": [
    "module",
    "function",
    "builtin_function_or_method",
    "instance",
    "_Feature"
   ],
   "window_display": false
  }
 },
 "nbformat": 4,
 "nbformat_minor": 4
}
