{
 "cells": [
  {
   "cell_type": "code",
   "execution_count": 1,
   "metadata": {
    "ExecuteTime": {
     "end_time": "2021-06-08T01:47:21.195064Z",
     "start_time": "2021-06-08T01:47:21.186088Z"
    }
   },
   "outputs": [],
   "source": [
    "import os\n",
    "os.environ['HTTP_PROXY'] = \"http://127.0.0.1:10809\"\n",
    "os.environ['HTTPS_PROXY'] = \"http://127.0.0.1:10809\""
   ]
  },
  {
   "cell_type": "code",
   "execution_count": 2,
   "metadata": {
    "ExecuteTime": {
     "end_time": "2021-06-08T01:47:25.396293Z",
     "start_time": "2021-06-08T01:47:21.457927Z"
    },
    "scrolled": false
   },
   "outputs": [
    {
     "data": {
      "application/vnd.jupyter.widget-view+json": {
       "model_id": "92210bbc431142838ad9643f9587b0e7",
       "version_major": 2,
       "version_minor": 0
      },
      "text/plain": [
       "Map(center=[40, -100], controls=(WidgetControl(options=['position', 'transparent_bg'], widget=HBox(children=(T…"
      ]
     },
     "metadata": {},
     "output_type": "display_data"
    }
   ],
   "source": [
    "import geemap\n",
    "import ee\n",
    "Map=geemap.Map()\n",
    "Map"
   ]
  },
  {
   "cell_type": "code",
   "execution_count": 3,
   "metadata": {
    "ExecuteTime": {
     "end_time": "2021-06-08T01:47:27.130271Z",
     "start_time": "2021-06-08T01:47:25.443700Z"
    }
   },
   "outputs": [],
   "source": [
    "roi = ee.Feature(ee.FeatureCollection('users/311605001111/YangtzeCity/wuhan').first()).geometry()\n",
    "Map.addLayer(roi, {}, \"roi\")\n",
    "Map.centerObject(roi,8)"
   ]
  },
  {
   "cell_type": "code",
   "execution_count": 4,
   "metadata": {
    "ExecuteTime": {
     "end_time": "2021-06-08T01:47:27.631357Z",
     "start_time": "2021-06-08T01:47:27.179141Z"
    }
   },
   "outputs": [],
   "source": [
    "# 添加一个底图白板\n",
    "basemap = ee.Image.constant(0).clip(roi).rename('waterclass')\n",
    "Map.addLayer(basemap,{'palette':['white']},\"basemap\")"
   ]
  },
  {
   "cell_type": "code",
   "execution_count": 5,
   "metadata": {
    "ExecuteTime": {
     "end_time": "2021-06-08T01:47:27.692959Z",
     "start_time": "2021-06-08T01:47:27.678950Z"
    }
   },
   "outputs": [],
   "source": [
    "# 去云、云阴影、雪掩膜函数\n",
    "def maskL8sr(image):\n",
    "    cloudShadowBitMask = (1 << 3)\n",
    "    cloudsBitMask = (1 << 5)\n",
    "    snowBitMask = (1 << 4)   \n",
    "    qa = image.select('pixel_qa')\n",
    "    mask = qa.bitwiseAnd(cloudShadowBitMask).eq(0) \\\n",
    "                   .And(qa.bitwiseAnd(cloudsBitMask).eq(0)) \\\n",
    "                   .And(qa.bitwiseAnd(snowBitMask).eq(0))\n",
    "    return image.updateMask(mask)\n",
    "\n",
    "visParams = {\n",
    "    'bands': ['B5', 'B6', 'B3'],\n",
    "    'min': 0,\n",
    "    'max': 3000,\n",
    "    'gamma': 1.4,\n",
    "}\n",
    "\n",
    "def ndvi_mndwi(image):\n",
    "    ndvi=image.normalizedDifference(['B5', 'B4']).rename('NDVI')\n",
    "    mndwi=image.normalizedDifference(['B3', 'B6']).rename(\"mNDWI\")\n",
    "    ndvi_mndwi = ndvi.subtract(mndwi).rename('ndvi_mndwi')\n",
    "    return image.addBands(ndvi_mndwi).addBands(ndvi).addBands(mndwi)\n",
    "\n",
    "# AWEI(自动水体提取指数): AWEIsh = B2 + 2.5B3 - 1.5(B5+B6) - 0.25B7\n",
    "def AWEIsh(image):\n",
    "    awei = image.expression('B2 + 2.5*B3 - 1.5*(B5+B6) - 0.25*B7',\n",
    "        {\n",
    "          'B2': image.select('B2'),\n",
    "          'B3': image.select('B3'),    \n",
    "          'B5': image.select('B5'),    \n",
    "          'B6': image.select('B6'),\n",
    "          'B7': image.select('B7'),\n",
    "        }).rename('AWEI')\n",
    "    return image.addBands(awei)"
   ]
  },
  {
   "cell_type": "markdown",
   "metadata": {},
   "source": [
    "# 计算单景影像上的分类结果"
   ]
  },
  {
   "cell_type": "markdown",
   "metadata": {},
   "source": [
    "## 获取land、seasonal-water、permanent-water的范围"
   ]
  },
  {
   "cell_type": "code",
   "execution_count": 6,
   "metadata": {
    "ExecuteTime": {
     "end_time": "2021-06-08T01:47:29.199942Z",
     "start_time": "2021-06-08T01:47:29.179879Z"
    }
   },
   "outputs": [],
   "source": [
    "landsat_images = ee.ImageCollection('LANDSAT/LC08/C01/T1_SR') \\\n",
    "    .filterBounds(roi) \\\n",
    "    .filterDate('2018-01-01', '2018-12-31') \\\n",
    "    .map(maskL8sr) \\\n",
    "    .map(ndvi_mndwi)\n",
    "\n",
    "# ndvi_mndwi水体频率\n",
    "basemap = ee.Image.constant(0).clip(roi).rename('waterclass')\n",
    "water_layer = landsat_images.map(lambda i : i.select('ndvi_mndwi').lt(0)).sum()\n",
    "validPixel_layer = landsat_images.count().select('B3').clip(roi).rename('count')\n",
    "index_waterfrequency = water_layer.select('ndvi_mndwi').divide(validPixel_layer.select('count')).select('ndvi_mndwi').rename('frequency')\n",
    "index_permanent = index_waterfrequency.gte(0.75).remap([0,1],[0,2]).rename('waterclass')\n",
    "index_season= ee.ImageCollection([index_waterfrequency.gte(0.25),index_waterfrequency.lt(0.75)]).sum().eq(2).rename('waterclass')\n",
    "index_waterclass = ee.ImageCollection([index_permanent,index_season,basemap]).sum()\n",
    "# JRC\n",
    "JRC_2018 = ee.Image(\"JRC/GSW1_2/YearlyHistory/2018\").clip(roi).remap([0,1,2,3],[0,0,1,2]).rename('waterclass')\n",
    "JRC_waterclass = ee.ImageCollection([JRC_2018,basemap]).sum()\n",
    "# Maryland\n",
    "Maryland_2018 = ee.Image('users/311605001111/Maryland_2018').clip(roi).select('b1').rename('waterclass')\n",
    "Maryland_permanent = Maryland_2018.select('waterclass').gte(75).remap([0,1],[0,2]).rename('waterclass')\n",
    "Maryland_season= ee.ImageCollection([Maryland_2018.gte(25),Maryland_2018.lt(75)]).sum().eq(2)\n",
    "Maryland_waterclass = ee.ImageCollection([Maryland_permanent,Maryland_season,basemap]).sum()\n",
    "# 三者的交集\n",
    "permanentWaterExtent = ee.ImageCollection([index_waterclass.eq(2),JRC_waterclass.eq(2),Maryland_waterclass.eq(2)]).sum().eq(3)\n",
    "landExtent = ee.ImageCollection([index_waterclass.eq(0),JRC_waterclass.eq(0),Maryland_waterclass.eq(0)]).sum().eq(3)\n",
    "seasonWaterExtent = ee.ImageCollection([permanentWaterExtent,landExtent]).sum().remap([0,1],[1,0]).rename('waterclass')"
   ]
  },
  {
   "cell_type": "markdown",
   "metadata": {},
   "source": [
    "## 在单景影像上做验证"
   ]
  },
  {
   "cell_type": "code",
   "execution_count": 7,
   "metadata": {
    "ExecuteTime": {
     "end_time": "2021-06-08T01:47:30.926071Z",
     "start_time": "2021-06-08T01:47:30.376190Z"
    }
   },
   "outputs": [],
   "source": [
    "## 筛选的11景影像\n",
    "# image1 = ee.Image('LANDSAT/LC08/C01/T1_SR/LC08_122039_20180111')\n",
    "# image2 = ee.Image('LANDSAT/LC08/C01/T1_SR/LC08_122039_20180212')\n",
    "# image3 = ee.Image('LANDSAT/LC08/C01/T1_SR/LC08_123038_20180323')\n",
    "# image4 = ee.Image('LANDSAT/LC08/C01/T1_SR/LC08_123038_20180408')\n",
    "# image6 = ee.Image('LANDSAT/LC08/C01/T1_SR/LC08_123039_20180627')\n",
    "# image7 = ee.Image('LANDSAT/LC08/C01/T1_SR/LC08_123039_20180729')\n",
    "# image8 = ee.Image('LANDSAT/LC08/C01/T1_SR/LC08_122039_20180807')\n",
    "# image9 = ee.Image('LANDSAT/LC08/C01/T1_SR/LC08_123039_20180915')\n",
    "# image10 = ee.Image('LANDSAT/LC08/C01/T1_SR/LC08_123039_20181017')\n",
    "# image11 = ee.Image('LANDSAT/LC08/C01/T1_SR/LC08_123039_20181102')\n",
    "# image12 = ee.Image('LANDSAT/LC08/C01/T1_SR/LC08_122039_20181213')\n",
    "image9 = maskL8sr(ee.Image('LANDSAT/LC08/C01/T1_SR/LC08_123038_20180323'))\n",
    "awei = AWEIsh(image9)\n",
    "Map.addLayer(awei.clip(roi),visParams,'image9')"
   ]
  },
  {
   "cell_type": "code",
   "execution_count": 13,
   "metadata": {
    "ExecuteTime": {
     "end_time": "2021-06-08T01:58:51.256787Z",
     "start_time": "2021-06-08T01:58:48.878124Z"
    },
    "scrolled": true
   },
   "outputs": [],
   "source": [
    "# permanent = permanentWaterExtent.updateMask(image9.select('B3').gt(0)).remap([0,1],[0,2]).rename('waterclass')\n",
    "# # Map.addLayer(permanent.selfMask(),{'palette':['red']},'permanentwaterExtent')\n",
    "# # 根据AWEI计算季节性水体\n",
    "# season_image = image9.clip(roi).updateMask(seasonWaterExtent)\n",
    "# # Map.addLayer(season_image,visParams,'seasonal')\n",
    "# season_class = AWEIsh(season_image).select('AWEI').gt(0).rename('waterclass')\n",
    "# # Map.addLayer(season_class,{'palette':['#636363','blue'],'min':0,'max':1},'seasonClass')\n",
    "# seasonalwater_Extent = ee.ImageCollection([season_class,basemap]).sum().remap([0,1],[0,2]).rename('waterclass')\n",
    "# # Map.addLayer(seasonalwater_Extent,{'palette':['#636363','blue'],'min':0,'max':2},'seasonalWater')\n",
    "# land = landExtent.updateMask(image9.select('B3').gt(0))\n",
    "# # Map.addLayer(land.selfMask(),{'palette':['cyan']},'landExtent')\n",
    "# water_clas = ee.ImageCollection([permanent,seasonalwater_Extent,land]).sum().remap([0,1,2],[0,0,1]).rename('train_waterclass')\n",
    "# # Map.addLayer(water_clas,{'palette':['cyan','blue'],'min':0,'max':1},'water_clas')\n",
    "# Map.addLayer(water_clas.selfMask(),{'palette':['blue']},'water_clas')\n",
    "\n",
    "\n",
    "permanent = permanentWaterExtent.updateMask(image9.select('B3').gt(0)).remap([0,1],[0,2]).rename('waterclass')\n",
    "# Map.addLayer(permanent.selfMask(),{'palette':['blue']},'permanent')\n",
    "season_image = image9.clip(roi).updateMask(seasonWaterExtent)\n",
    "season_class = AWEIsh(season_image).select('AWEI').gt(0).rename('waterclass')\n",
    "seasonalwater_Extent = ee.ImageCollection([season_class,basemap]).sum().remap([0,1],[0,2]).rename('waterclass')\n",
    "# Map.addLayer(seasonalwater_Extent.selfMask(),{'palette':['red']},'seasonal')                                                                                                              \n",
    "land = landExtent.updateMask(image9.select('B3').gt(0))\n",
    "# Map.addLayer(land.selfMask(),{'palette':['cyan']},'land')\n",
    "water_clas = ee.ImageCollection([permanent,seasonalwater_Extent,land]).sum().remap([0,1,2],[0,0,1]).rename('train_waterclass')\n",
    "Map.addLayer(water_clas.eq(0).selfMask().remap([1],[0]).rename('train_waterclass').clip(image9.geometry()),{'palette':['green']},'water_clas')\n",
    "Map.addLayer(water_clas.selfMask().clip(image9.geometry()),{'palette':['red']},'water_clas1')"
   ]
  },
  {
   "cell_type": "code",
   "execution_count": null,
   "metadata": {
    "ExecuteTime": {
     "end_time": "2021-06-02T06:34:56.514100Z",
     "start_time": "2021-06-02T06:34:09.633264Z"
    }
   },
   "outputs": [],
   "source": [
    "# permanent = permanentWaterExtent.updateMask(image9.select('B3').gt(0)).remap([0,1],[0,2]).rename('waterclass')\n",
    "# # Map.addLayer(permanent.selfMask(),{'palette':['blue'],'min':0,'max':1},'permanentwaterExtent')\n",
    "# land = landExtent.updateMask(image9.select('B3').gt(0))\n",
    "# # Map.addLayer(land.selfMask(),{'palette':['cyan']},'landExtent')\n",
    "\n",
    "# 根据AWEI计算季节性水体\n",
    "awei = AWEIsh(image9.clip(roi).updateMask(seasonWaterExtent)).select('AWEI')\n",
    "intervalMean = awei.reduceRegion(**{\n",
    "    'reducer': ee.Reducer.intervalMean(70,100), \n",
    "    'geometry': roi, \n",
    "    'scale': 30, \n",
    "    'bestEffort': True\n",
    "})\n",
    "print(intervalMean.getInfo())"
   ]
  },
  {
   "cell_type": "code",
   "execution_count": null,
   "metadata": {
    "ExecuteTime": {
     "end_time": "2021-06-02T03:18:19.200761Z",
     "start_time": "2021-06-02T03:18:17.878381Z"
    }
   },
   "outputs": [],
   "source": [
    "season_class = awei.gt(ee.Image.constant(intervalMean.get('AWEI'))).rename('waterclass')\n",
    "# Map.addLayer(season_class,{'palette':['#636363','blue'],'min':0,'max':1},'seasonClass')\n",
    "seasonalwater_Extent = ee.ImageCollection([season_class,basemap]).sum().remap([0,1],[0,2]).rename('waterclass').clip(image9.geometry()) \n",
    "# Map.addLayer(seasonalwater_Extent,{'palette':['#636363','blue'],'min':0,'max':1},'seasonalWater')\n",
    "\n",
    "percentile_waterclass = ee.ImageCollection([permanent,seasonalwater_Extent,land]).sum().remap([0,1,2],[0,0,1]).rename('train_waterclass')\n",
    "# Map.addLayer(water_clas,{'palette':['cyan','blue'],'min':0,'max':1},'percentile waterclass')\n",
    "Map.addLayer(percentile_waterclass.selfMask(),{'palette':['red']},'percentile waterclass')\n",
    "\n",
    "# geemap.ee_export_image_to_drive(ee_object=percentile_waterclass,description='percentile_waterclass.tif',scale=30,region=roi)"
   ]
  },
  {
   "cell_type": "code",
   "execution_count": null,
   "metadata": {
    "ExecuteTime": {
     "end_time": "2021-05-20T05:16:32.895076Z",
     "start_time": "2021-05-20T05:15:29.120Z"
    }
   },
   "outputs": [],
   "source": [
    "focal_mode = percentile_waterclass.focal_mode(1,'square','pixels')\n",
    "print(focal_mode.bandNames().getInfo())\n",
    "Map.addLayer(focal_mode.selfMask(),{'palette':['green'],'min':0,'max':1}, 'focal_mode')\n",
    "# geemap.ee_export_image_to_drive(ee_object=focal_mode,description='focal_mode.tif',scale=30,region=roi)\n",
    "# geemap.ee_export_image(ee_object=focal_mode,filename='focal_mode.tif',scale=30,region=roi,file_per_band=False)\n"
   ]
  },
  {
   "cell_type": "code",
   "execution_count": null,
   "metadata": {
    "ExecuteTime": {
     "end_time": "2021-05-20T03:15:42.705853Z",
     "start_time": "2021-05-20T03:15:32.851769Z"
    },
    "scrolled": false
   },
   "outputs": [],
   "source": [
    "# 武汉\n",
    "from matplotlib import pyplot as plt\n",
    "import numpy as np\n",
    "import matplotlib\n",
    "from geemap import cartoee\n",
    "region = [113.6, 29.9, 115.1, 31.4]\n",
    "vis = {'palette':['CDCDCD','red'],'min':0,'max':1}\n",
    "fig = plt.figure(figsize=(12, 8))\n",
    "ax = cartoee.get_map(focal_mode, region=region, vis_params=vis)\n",
    "cartoee.add_gridlines(ax, interval=[0.5,0.5], linestyle=\":\")\n",
    "ax.set_title(label = 'water extent(mode filter)', fontsize=20)"
   ]
  },
  {
   "cell_type": "code",
   "execution_count": null,
   "metadata": {},
   "outputs": [],
   "source": []
  },
  {
   "cell_type": "code",
   "execution_count": null,
   "metadata": {
    "ExecuteTime": {
     "end_time": "2021-05-19T13:29:43.604405Z",
     "start_time": "2021-05-19T13:29:42.168324Z"
    }
   },
   "outputs": [],
   "source": [
    "season_class = awei.gt(ee.Image.constant(340.0453100993051)).rename('waterclass')\n",
    "seasonalwater_Extent = ee.ImageCollection([season_class,basemap]).sum().remap([0,1],[0,2]).rename('waterclass').clip(image9.geometry()) \n",
    "percentile_waterclass30 = ee.ImageCollection([permanent,seasonalwater_Extent,land]).sum().remap([0,1,2],[0,0,1]).rename('train_waterclass')\n",
    "Map.addLayer(percentile_waterclass30.selfMask(),{'palette':['cyan']},'percentile30 waterclass')"
   ]
  },
  {
   "cell_type": "code",
   "execution_count": null,
   "metadata": {
    "ExecuteTime": {
     "end_time": "2021-05-19T13:12:04.617222Z",
     "start_time": "2021-05-19T13:12:03.080787Z"
    }
   },
   "outputs": [],
   "source": [
    "season_class = awei.gt(ee.Image.constant(597.4655283777782)).rename('waterclass')\n",
    "seasonalwater_Extent = ee.ImageCollection([season_class,basemap]).sum().remap([0,1],[0,2]).rename('waterclass').clip(image9.geometry()) \n",
    "percentile_waterclass40 = ee.ImageCollection([permanent,seasonalwater_Extent,land]).sum().remap([0,1,2],[0,0,1]).rename('train_waterclass')\n",
    "Map.addLayer(percentile_waterclass40.selfMask(),{'palette':['blue']},'percentile40 waterclass')"
   ]
  },
  {
   "cell_type": "code",
   "execution_count": null,
   "metadata": {
    "ExecuteTime": {
     "end_time": "2021-05-19T13:12:09.509341Z",
     "start_time": "2021-05-19T13:12:08.175117Z"
    }
   },
   "outputs": [],
   "source": [
    "season_class = awei.gt(ee.Image.constant(837.9305139744538)).rename('waterclass')\n",
    "seasonalwater_Extent = ee.ImageCollection([season_class,basemap]).sum().remap([0,1],[0,2]).rename('waterclass').clip(image9.geometry()) \n",
    "percentile_waterclass50 = ee.ImageCollection([permanent,seasonalwater_Extent,land]).sum().remap([0,1,2],[0,0,1]).rename('train_waterclass')\n",
    "Map.addLayer(percentile_waterclas50.selfMask(),{'palette':['green']},'percentile50 waterclass')"
   ]
  },
  {
   "cell_type": "code",
   "execution_count": null,
   "metadata": {
    "ExecuteTime": {
     "end_time": "2021-05-19T13:29:52.153923Z",
     "start_time": "2021-05-19T13:29:50.896193Z"
    }
   },
   "outputs": [],
   "source": [
    "season_class = awei.gt(ee.Image.constant(1076.325485599945)).rename('waterclass')\n",
    "seasonalwater_Extent = ee.ImageCollection([season_class,basemap]).sum().remap([0,1],[0,2]).rename('waterclass').clip(image9.geometry()) \n",
    "percentile_waterclass60 = ee.ImageCollection([permanent,seasonalwater_Extent,land]).sum().remap([0,1,2],[0,0,1]).rename('train_waterclass')\n",
    "Map.addLayer(percentile_waterclass60.selfMask(),{'palette':['red']},'percentile60 waterclass')"
   ]
  },
  {
   "cell_type": "code",
   "execution_count": null,
   "metadata": {},
   "outputs": [],
   "source": [
    "season_class = awei.gt(ee.Image.constant(1274.73143125593)).rename('waterclass')\n",
    "seasonalwater_Extent = ee.ImageCollection([season_class,basemap]).sum().remap([0,1],[0,2]).rename('waterclass').clip(image9.geometry()) \n",
    "percentile_waterclass70 = ee.ImageCollection([permanent,seasonalwater_Extent,land]).sum().remap([0,1,2],[0,0,1]).rename('train_waterclass')\n",
    "Map.addLayer(percentile_waterclass70.selfMask(),{'palette':['red']},'percentile70 waterclass')"
   ]
  },
  {
   "cell_type": "code",
   "execution_count": null,
   "metadata": {},
   "outputs": [],
   "source": []
  },
  {
   "cell_type": "code",
   "execution_count": null,
   "metadata": {},
   "outputs": [],
   "source": []
  },
  {
   "cell_type": "markdown",
   "metadata": {},
   "source": [
    "# 人工选取样本点"
   ]
  },
  {
   "cell_type": "markdown",
   "metadata": {
    "ExecuteTime": {
     "end_time": "2021-05-08T10:19:21.144099Z",
     "start_time": "2021-05-08T10:19:21.127171Z"
    }
   },
   "source": [
    "在地图上人工选取是“水体”样本点，然后执行后续代码"
   ]
  },
  {
   "cell_type": "code",
   "execution_count": null,
   "metadata": {},
   "outputs": [],
   "source": [
    "points = Map.user_rois\n",
    "print(points.size().getInfo())\n",
    "\n",
    "water = ee.FeatureCollection(Map.user_rois).map(lambda i : i.set({'waterclass':1}))\n",
    "\n",
    "vis2 = {'color': 'blue', 'pointSize': 6, 'pointShape': 'circle', 'width': 2, 'lineType': 'solid', 'fillColor': 'blue'}\n",
    "Map.addLayer(water,vis2,'points')"
   ]
  },
  {
   "cell_type": "markdown",
   "metadata": {},
   "source": [
    "将选取的样本点导出"
   ]
  },
  {
   "cell_type": "code",
   "execution_count": null,
   "metadata": {},
   "outputs": [],
   "source": [
    "geemap.ee_to_shp(ee_object=water,filename='samples_water.shp',keep_zip=True)"
   ]
  },
  {
   "cell_type": "markdown",
   "metadata": {},
   "source": [
    "在地图上人工选取是“陆地”样本点，然后执行后续代码"
   ]
  },
  {
   "cell_type": "code",
   "execution_count": null,
   "metadata": {},
   "outputs": [],
   "source": [
    "points = Map.user_rois\n",
    "print(points.size().getInfo())\n",
    "\n",
    "land = ee.FeatureCollection(Map.user_rois).map(lambda i : i.set({'waterclass':0}))\n",
    "\n",
    "vis1 = {'color': 'ff0d00ff', 'pointSize': 6, 'pointShape': 'circle', 'width': 2, 'lineType': 'solid', 'fillColor': 'f12704a8'}\n",
    "Map.addLayer(land,vis1,'points')"
   ]
  },
  {
   "cell_type": "markdown",
   "metadata": {},
   "source": [
    "将选取的样本点导出"
   ]
  },
  {
   "cell_type": "code",
   "execution_count": null,
   "metadata": {},
   "outputs": [],
   "source": [
    "geemap.ee_to_shp(ee_object=land'd,filename='samples_land.shp',keep_zip=True)"
   ]
  },
  {
   "cell_type": "markdown",
   "metadata": {},
   "source": [
    "# 加载作者已经选取的样本点"
   ]
  },
  {
   "cell_type": "code",
   "execution_count": null,
   "metadata": {},
   "outputs": [],
   "source": [
    "samples_land = ee.FeatureCollection('users/311605001111/samples_land')\n",
    "samples_water = ee.FeatureCollection('users/311605001111/samples')\n",
    "samples_all = samples_water.merge(samples_land)\n",
    "\n",
    "vis1 = {'color': 'ff0d00ff', 'pointSize': 6, 'pointShape': 'circle', 'width': 2, 'lineType': 'solid', 'fillColor': 'f12704a8'}\n",
    "Map.addLayer(samples_land,vis1,'samples_land')\n",
    "\n",
    "vis2 = {'color': 'blue', 'pointSize': 6, 'pointShape': 'circle', 'width': 2, 'lineType': 'solid', 'fillColor': 'blue'}\n",
    "Map.addLayer(samples_water,vis2,'samples')\n",
    "\n",
    "print(samples_land.size().getInfo())\n",
    "print(samples_water.size().getInfo())"
   ]
  },
  {
   "cell_type": "code",
   "execution_count": null,
   "metadata": {},
   "outputs": [],
   "source": [
    "#精度验证\n",
    "\n",
    "# Overlay the points on the imagery to get training.\n",
    "sample_point = water_clas.sampleRegions(**{\n",
    "    'collection': samples_all,\n",
    "    'properties': ['waterclass'],\n",
    "    'scale': 30\n",
    "})\n",
    "print(sample_point.first().getInfo())\n",
    "# 利用误差矩阵进行验证\n",
    "test_accuracy = sample_point.errorMatrix('waterclass', 'train_waterclass')\n",
    "print(test_accuracy.getInfo())\n",
    "print('total accuracy:{}'.format(test_accuracy.accuracy().getInfo()))\n",
    "print('kappa:{}'.format(test_accuracy.kappa().getInfo()))"
   ]
  },
  {
   "cell_type": "code",
   "execution_count": null,
   "metadata": {},
   "outputs": [],
   "source": []
  },
  {
   "cell_type": "code",
   "execution_count": null,
   "metadata": {},
   "outputs": [],
   "source": []
  },
  {
   "cell_type": "code",
   "execution_count": null,
   "metadata": {},
   "outputs": [],
   "source": []
  },
  {
   "cell_type": "code",
   "execution_count": null,
   "metadata": {},
   "outputs": [],
   "source": []
  },
  {
   "cell_type": "code",
   "execution_count": null,
   "metadata": {},
   "outputs": [],
   "source": [
    "## 筛选的11景影像\n",
    "# image1 = ee.Image('LANDSAT/LC08/C01/T1_SR/LC08_122039_20180111')\n",
    "# image2 = ee.Image('LANDSAT/LC08/C01/T1_SR/LC08_122039_20180212')\n",
    "# image3 = ee.Image('LANDSAT/LC08/C01/T1_SR/LC08_123038_20180323')\n",
    "# image4 = ee.Image('LANDSAT/LC08/C01/T1_SR/LC08_123038_20180408')\n",
    "# image6 = ee.Image('LANDSAT/LC08/C01/T1_SR/LC08_123039_20180627')\n",
    "# image7 = ee.Image('LANDSAT/LC08/C01/T1_SR/LC08_123039_20180729')\n",
    "# image8 = ee.Image('LANDSAT/LC08/C01/T1_SR/LC08_122039_20180807')\n",
    "# image9 = ee.Image('LANDSAT/LC08/C01/T1_SR/LC08_123039_20180915')\n",
    "# image10 = ee.Image('LANDSAT/LC08/C01/T1_SR/LC08_123039_20181017')\n",
    "# image11 = ee.Image('LANDSAT/LC08/C01/T1_SR/LC08_123039_20181102')\n",
    "# image12 = ee.Image('LANDSAT/LC08/C01/T1_SR/LC08_122039_20181213')\n",
    "# images_col = ee.ImageCollection([image1,image2,image3,image4,image6,image7,image8,image9,image10,image11,image12])\n",
    "# print(images_col.size().getInfo())\n",
    "# Map.addLayer(image9.clip(roi),visParams,'image9')"
   ]
  },
  {
   "cell_type": "code",
   "execution_count": null,
   "metadata": {},
   "outputs": [],
   "source": [
    "# 武汉\n",
    "from matplotlib import pyplot as plt\n",
    "import numpy as np\n",
    "import matplotlib\n",
    "from geemap import cartoee\n",
    "region = [113.6, 29.9, 115.1, 31.4]\n",
    "vis = {'palette':['CDCDCD','red'],'min':0,'max':1}\n",
    "fig = plt.figure(figsize=(12, 8))\n",
    "ax = cartoee.get_map(percentile_waterclass, region=region, vis_params=vis)\n",
    "cartoee.add_gridlines(ax, interval=[0.5,0.5], linestyle=\":\")\n",
    "ax.set_title(label = 'water extent(wuhan,percentile)', fontsize=20)"
   ]
  },
  {
   "cell_type": "code",
   "execution_count": null,
   "metadata": {},
   "outputs": [],
   "source": [
    "permanent = permanentWaterExtent.clip(image9.geometry()).remap([0,1],[0,2]).rename('waterclass')\n",
    "# Map.addLayer(permanent.selfMask(),{'palette':['blue'],'min':0,'max':1},'permanentwaterExtent')\n",
    "\n",
    "# 根据AWEI计算季节性水体\n",
    "season_image = image9.clip(roi).updateMask(seasonWaterExtent)\n",
    "# Map.addLayer(season_image,visParams,'seasonal')\n",
    "awei = AWEIsh(season_image).select('AWEI')\n",
    "intervalMean = awei.reduceRegion(**{\n",
    "    'reducer': ee.Reducer.intervalMean(55,100), \n",
    "    'geometry': roi, \n",
    "    'scale': 30, \n",
    "    'bestEffort': True\n",
    "})\n",
    "\n",
    "percentile = awei.reduceRegion(**{\n",
    "    'reducer': ee.Reducer.percentile([55]), \n",
    "    'geometry': roi, \n",
    "    'scale': 30, \n",
    "    'bestEffort': True\n",
    "})\n",
    "print(intervalMean.getInfo())\n",
    "print(percentile.getInfo())\n",
    "\n",
    "# season_class = awei.gt(ee.Image.constant(intervalMean.get('AWEI'))).rename('waterclass')\n",
    "season_class = awei.gt(ee.Image.constant(intervalMean.get('AWEI'))).rename('waterclass')\n",
    "# Map.addLayer(season_class,{'palette':['#636363','blue'],'min':0,'max':1},'seasonClass')\n",
    "seasonalwater_Extent = ee.ImageCollection([season_class,basemap]).sum().remap([0,1],[0,2]).rename('waterclass').clip(image9.geometry()) \n",
    "# Map.addLayer(seasonalwater_Extent,{'palette':['#636363','blue'],'min':0,'max':1},'seasonalWater')\n",
    "\n",
    "land = landExtent.clip(image9.geometry())\n",
    "# Map.addLayer(land.selfMask(),{'palette':['cyan']},'landExtent')\n",
    "\n",
    "\n",
    "percentile_waterclass = ee.ImageCollection([permanent,seasonalwater_Extent,land]).sum().remap([0,1,2],[0,0,1]).rename('train_waterclass')\n",
    "# Map.addLayer(water_clas,{'palette':['cyan','blue'],'min':0,'max':1},'percentile waterclass')\n",
    "Map.addLayer(percentile_waterclass.selfMask(),{'palette':['red']},'percentile waterclass')"
   ]
  }
 ],
 "metadata": {
  "hide_input": false,
  "kernelspec": {
   "display_name": "Python 3",
   "language": "python",
   "name": "python3"
  },
  "language_info": {
   "codemirror_mode": {
    "name": "ipython",
    "version": 3
   },
   "file_extension": ".py",
   "mimetype": "text/x-python",
   "name": "python",
   "nbconvert_exporter": "python",
   "pygments_lexer": "ipython3",
   "version": "3.8.5"
  },
  "toc": {
   "base_numbering": 1,
   "nav_menu": {},
   "number_sections": true,
   "sideBar": true,
   "skip_h1_title": false,
   "title_cell": "Table of Contents",
   "title_sidebar": "Contents",
   "toc_cell": false,
   "toc_position": {},
   "toc_section_display": true,
   "toc_window_display": false
  },
  "varInspector": {
   "cols": {
    "lenName": 16,
    "lenType": 16,
    "lenVar": 40
   },
   "kernels_config": {
    "python": {
     "delete_cmd_postfix": "",
     "delete_cmd_prefix": "del ",
     "library": "var_list.py",
     "varRefreshCmd": "print(var_dic_list())"
    },
    "r": {
     "delete_cmd_postfix": ") ",
     "delete_cmd_prefix": "rm(",
     "library": "var_list.r",
     "varRefreshCmd": "cat(var_dic_list()) "
    }
   },
   "types_to_exclude": [
    "module",
    "function",
    "builtin_function_or_method",
    "instance",
    "_Feature"
   ],
   "window_display": false
  }
 },
 "nbformat": 4,
 "nbformat_minor": 4
}
