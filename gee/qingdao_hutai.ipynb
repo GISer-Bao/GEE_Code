{
 "cells": [
  {
   "cell_type": "code",
   "execution_count": null,
   "id": "d50acdeb",
   "metadata": {
    "ExecuteTime": {
     "end_time": "2021-07-09T14:10:39.093891Z",
     "start_time": "2021-07-09T14:10:39.088873Z"
    }
   },
   "outputs": [],
   "source": [
    "import os\n",
    "os.environ['HTTP_PROXY'] = \"http://127.0.0.1:10809\"\n",
    "os.environ['HTTPS_PROXY'] = \"http://127.0.0.1:10809\""
   ]
  },
  {
   "cell_type": "code",
   "execution_count": null,
   "id": "1ffd4758",
   "metadata": {
    "ExecuteTime": {
     "end_time": "2021-07-09T14:10:43.792331Z",
     "start_time": "2021-07-09T14:10:39.335928Z"
    }
   },
   "outputs": [],
   "source": [
    "import geemap\n",
    "import ee\n",
    "Map=geemap.Map()\n",
    "Map "
   ]
  },
  {
   "cell_type": "code",
   "execution_count": null,
   "id": "10339bdc",
   "metadata": {
    "ExecuteTime": {
     "end_time": "2021-07-09T14:26:59.843861Z",
     "start_time": "2021-07-09T14:26:59.079849Z"
    }
   },
   "outputs": [],
   "source": [
    "# 岳阳市\n",
    "# china_city = ee.FeatureCollection('users/311605001111/ChinaCity')\n",
    "# roi = china_city.filter(ee.Filter.eq('市','青岛市'))\n",
    "roi = ee.Geometry.Rectangle([119.8904, 35.6035,121.3404, 36.4001])\n",
    "Map.addLayer(roi, {}, \"roi\")\n",
    "Map.centerObject(roi,8)"
   ]
  },
  {
   "cell_type": "code",
   "execution_count": null,
   "id": "dfa2a614",
   "metadata": {
    "ExecuteTime": {
     "end_time": "2021-07-09T14:27:00.984596Z",
     "start_time": "2021-07-09T14:27:00.966283Z"
    }
   },
   "outputs": [],
   "source": [
    "# sentinel2 数据\n",
    "def maskS2clouds(image):\n",
    "    qa = image.select('QA60')\n",
    "    mask = qa.bitwiseAnd(1 << 10).eq(0).And(qa.bitwiseAnd(1 << 11).eq(0))\n",
    "    return image.updateMask(mask).divide(10000)\n",
    "visualization = {\n",
    "  'min': 0.0,\n",
    "  'max': 0.3,\n",
    "  'bands': ['B4', 'B3', 'B2'],\n",
    "}\n",
    "\n",
    "sentinel_images = ee.ImageCollection(\"COPERNICUS/S2_SR\") \\\n",
    "    .filterBounds(roi) \\\n",
    "    .filterDate('2021-06-15', '2021-06-30') \\\n",
    "    .filter(ee.Filter.lt('CLOUDY_PIXEL_PERCENTAGE',20))\\\n",
    "    .map(maskS2clouds)\n",
    "Map.addLayer(sentinel_images.mosaic().clip(roi),visualization,'sentinel image')\n",
    "print(sentinel_images.size().getInfo())"
   ]
  },
  {
   "cell_type": "code",
   "execution_count": null,
   "id": "6b7ea16c",
   "metadata": {
    "ExecuteTime": {
     "end_time": "2021-07-09T14:31:31.543988Z",
     "start_time": "2021-07-09T14:31:30.709831Z"
    }
   },
   "outputs": [],
   "source": [
    "# landsat8 数据\n",
    "def maskL8sr(image):\n",
    "    cloudShadowBitMask = (1 << 3)\n",
    "    cloudsBitMask = (1 << 5)\n",
    "    snowBitMask = (1 << 4)   \n",
    "    qa = image.select('pixel_qa')\n",
    "    mask = qa.bitwiseAnd(cloudShadowBitMask).eq(0) \\\n",
    "                   .And(qa.bitwiseAnd(cloudsBitMask).eq(0)) \\\n",
    "                   .And(qa.bitwiseAnd(snowBitMask).eq(0))\n",
    "    return image.updateMask(mask)\n",
    "\n",
    "visParams = {\n",
    "    'bands': ['B4', 'B3', 'B2'],\n",
    "    'min': 0,\n",
    "    'max': 3000,\n",
    "    'gamma': 1.4,\n",
    "}\n",
    "landsat_images = ee.ImageCollection('LANDSAT/LC08/C01/T1_SR') \\\n",
    "    .filterBounds(roi) \\\n",
    "    .filterDate('2021-06-01', '2021-06-30') \\\n",
    "    .filter(ee.Filter.lt('CLOUD_COVER',20))\\\n",
    "    .map(maskL8sr)\n",
    "Map.addLayer(landsat_images.mosaic().clip(roi),visParams,'landsat image')\n",
    "print(landsat_images.size().getInfo())"
   ]
  },
  {
   "cell_type": "code",
   "execution_count": null,
   "id": "e9f67716",
   "metadata": {},
   "outputs": [],
   "source": []
  }
 ],
 "metadata": {
  "hide_input": false,
  "kernelspec": {
   "display_name": "Python 3",
   "language": "python",
   "name": "python3"
  },
  "language_info": {
   "codemirror_mode": {
    "name": "ipython",
    "version": 3
   },
   "file_extension": ".py",
   "mimetype": "text/x-python",
   "name": "python",
   "nbconvert_exporter": "python",
   "pygments_lexer": "ipython3",
   "version": "3.8.5"
  },
  "toc": {
   "base_numbering": 1,
   "nav_menu": {},
   "number_sections": true,
   "sideBar": true,
   "skip_h1_title": false,
   "title_cell": "Table of Contents",
   "title_sidebar": "Contents",
   "toc_cell": false,
   "toc_position": {},
   "toc_section_display": true,
   "toc_window_display": false
  },
  "varInspector": {
   "cols": {
    "lenName": 16,
    "lenType": 16,
    "lenVar": 40
   },
   "kernels_config": {
    "python": {
     "delete_cmd_postfix": "",
     "delete_cmd_prefix": "del ",
     "library": "var_list.py",
     "varRefreshCmd": "print(var_dic_list())"
    },
    "r": {
     "delete_cmd_postfix": ") ",
     "delete_cmd_prefix": "rm(",
     "library": "var_list.r",
     "varRefreshCmd": "cat(var_dic_list()) "
    }
   },
   "types_to_exclude": [
    "module",
    "function",
    "builtin_function_or_method",
    "instance",
    "_Feature"
   ],
   "window_display": false
  }
 },
 "nbformat": 4,
 "nbformat_minor": 5
}
