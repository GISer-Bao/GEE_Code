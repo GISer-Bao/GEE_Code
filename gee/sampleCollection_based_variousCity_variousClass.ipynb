{
 "cells": [
  {
   "cell_type": "markdown",
   "metadata": {
    "ExecuteTime": {
     "end_time": "2021-06-22T03:07:07.060212Z",
     "start_time": "2021-06-22T03:07:07.046249Z"
    }
   },
   "source": [
    "# variousCity指武汉、重庆、成都、南京、昆明\n",
    "# variousClass 指根据指数和JRC，获取陆地和永久性水体的范围，未考虑季节性水体，在此类区域上选择样本"
   ]
  },
  {
   "cell_type": "code",
   "execution_count": 2,
   "metadata": {
    "ExecuteTime": {
     "end_time": "2021-06-22T03:07:15.689995Z",
     "start_time": "2021-06-22T03:07:15.677030Z"
    }
   },
   "outputs": [],
   "source": [
    "import os\n",
    "os.environ['HTTP_PROXY'] = \"http://127.0.0.1:10809\"\n",
    "os.environ['HTTPS_PROXY'] = \"http://127.0.0.1:10809\""
   ]
  },
  {
   "cell_type": "code",
   "execution_count": 2,
   "metadata": {
    "ExecuteTime": {
     "end_time": "2021-04-08T08:22:40.228441Z",
     "start_time": "2021-04-08T08:22:35.544845Z"
    },
    "scrolled": false
   },
   "outputs": [
    {
     "data": {
      "application/vnd.jupyter.widget-view+json": {
       "model_id": "9eaeac69d51d4aeeb0c84d5b7374c0f6",
       "version_major": 2,
       "version_minor": 0
      },
      "text/plain": [
       "Map(center=[40, -100], controls=(WidgetControl(options=['position'], widget=HBox(children=(ToggleButton(value=…"
      ]
     },
     "metadata": {},
     "output_type": "display_data"
    }
   ],
   "source": [
    "import geemap\n",
    "import ee\n",
    "Map=geemap.Map()\n",
    "Map"
   ]
  },
  {
   "cell_type": "code",
   "execution_count": 4,
   "metadata": {
    "ExecuteTime": {
     "end_time": "2021-04-08T08:23:07.637637Z",
     "start_time": "2021-04-08T08:23:06.677204Z"
    }
   },
   "outputs": [],
   "source": [
    "wuhan = ee.Feature(ee.FeatureCollection('users/311605001111/YangtzeCity/wuhan').first()).geometry()\n",
    "chongqing = ee.Feature(ee.FeatureCollection('users/311605001111/YangtzeCity/chongqing').first()).geometry()\n",
    "chengdu = ee.Feature(ee.FeatureCollection('users/311605001111/YangtzeCity/chengdu').first()).geometry()\n",
    "nanjing = ee.Feature(ee.FeatureCollection('users/311605001111/YangtzeCity/nanjing').first()).geometry()\n",
    "kunming = ee.Feature(ee.FeatureCollection('users/311605001111/YangtzeCity/kunming').first()).geometry()\n",
    "\n",
    "roi = ee.FeatureCollection([wuhan,chongqing,chengdu,nanjing,kunming])\n",
    "Map.addLayer(roi, {}, \"roi\")\n",
    "Map.centerObject(roi,6)"
   ]
  },
  {
   "cell_type": "code",
   "execution_count": 5,
   "metadata": {
    "ExecuteTime": {
     "end_time": "2021-04-08T08:23:11.545191Z",
     "start_time": "2021-04-08T08:23:11.525215Z"
    }
   },
   "outputs": [],
   "source": [
    "# 去云、云阴影、雪掩膜函数\n",
    "def maskL8sr(image):\n",
    "    cloudShadowBitMask = (1 << 3)\n",
    "    cloudsBitMask = (1 << 5)\n",
    "    snowBitMask = (1 << 4)   \n",
    "    qa = image.select('pixel_qa')\n",
    "    mask = qa.bitwiseAnd(cloudShadowBitMask).eq(0) \\\n",
    "                   .And(qa.bitwiseAnd(cloudsBitMask).eq(0)) \\\n",
    "                   .And(qa.bitwiseAnd(snowBitMask).eq(0))\n",
    "    return image.updateMask(mask)\n",
    "\n",
    "# 图像可视化参数\n",
    "visParams = {\n",
    "    'bands': ['B5', 'B4', 'B3'],\n",
    "    'min': 0,\n",
    "    'max': 3000,\n",
    "    'gamma': 1.4,\n",
    "}\n",
    "\n",
    "# 计算指数\n",
    "def ndvi_mndwi(image):\n",
    "    ndvi=image.normalizedDifference(['B5', 'B4']).rename('NDVI')\n",
    "    mndwi=image.normalizedDifference(['B3', 'B6']).rename(\"mNDWI\") \n",
    "    ndvi_mndwi = ndvi.subtract(mndwi).rename('ndvi_mndwi')\n",
    "    return image.addBands(ndvi_mndwi).addBands(ndvi).addBands(mndwi)\n",
    "\n",
    "# 计算影像裁剪后的面积\n",
    "def area_after_clip(image):\n",
    "    image_area = image.clip(wuhan).select('B2').gt(0).multiply(ee.Image.pixelArea()).divide(1e6)\n",
    "    areas = image_area.reduceRegion(**{\n",
    "        'reducer': ee.Reducer.sum(),\n",
    "        'geometry': image.geometry(),\n",
    "        'scale': 30,\n",
    "        'maxPixels': 1e14\n",
    "    })\n",
    "    return image.set({'area': areas.get('B2')})"
   ]
  },
  {
   "cell_type": "code",
   "execution_count": 6,
   "metadata": {
    "ExecuteTime": {
     "end_time": "2021-04-08T08:23:24.653192Z",
     "start_time": "2021-04-08T08:23:23.119013Z"
    }
   },
   "outputs": [],
   "source": [
    "# 武汉\n",
    "wuhan_images = ee.ImageCollection('LANDSAT/LC08/C01/T1_SR') \\\n",
    "    .filterBounds(wuhan) \\\n",
    "    .filterDate('2018-01-01', '2018-12-31') \\\n",
    "    .map(maskL8sr) \\\n",
    "    .map(ndvi_mndwi)\n",
    "\n",
    "# 重庆\n",
    "chongqing_images = ee.ImageCollection('LANDSAT/LC08/C01/T1_SR') \\\n",
    "    .filterBounds(chongqing) \\\n",
    "    .filterDate('2018-01-01', '2018-12-31') \\\n",
    "    .map(maskL8sr) \\\n",
    "    .map(ndvi_mndwi)\n",
    "\n",
    "# 成都\n",
    "chengdu_images = ee.ImageCollection('LANDSAT/LC08/C01/T1_SR') \\\n",
    "    .filterBounds(chengdu) \\\n",
    "    .filterDate('2018-01-01', '2018-12-31') \\\n",
    "    .map(maskL8sr) \\\n",
    "    .map(ndvi_mndwi)\n",
    "\n",
    "# 南京\n",
    "nanjing_images = ee.ImageCollection('LANDSAT/LC08/C01/T1_SR') \\\n",
    "    .filterBounds(nanjing) \\\n",
    "    .filterDate('2018-01-01', '2018-12-31') \\\n",
    "    .map(maskL8sr) \\\n",
    "    .map(ndvi_mndwi)\n",
    "\n",
    "# 昆明\n",
    "kunming_images = ee.ImageCollection('LANDSAT/LC08/C01/T1_SR') \\\n",
    "    .filterBounds(kunming) \\\n",
    "    .filterDate('2018-01-01', '2018-12-31') \\\n",
    "    .map(maskL8sr) \\\n",
    "    .map(ndvi_mndwi)\n",
    "\n",
    "# 武汉+重庆+成都+南京+昆明\n",
    "landsat_images = ee.ImageCollection('LANDSAT/LC08/C01/T1_SR') \\\n",
    "    .filterBounds(roi) \\\n",
    "    .filterDate('2018-01-01', '2018-12-31') \\\n",
    "    .map(maskL8sr) \\\n",
    "    .map(ndvi_mndwi)\n",
    "\n",
    "Map.addLayer(landsat_images.mosaic().clip(roi),visParams,'landsat image')"
   ]
  },
  {
   "cell_type": "code",
   "execution_count": 7,
   "metadata": {
    "ExecuteTime": {
     "end_time": "2021-04-08T08:23:52.818135Z",
     "start_time": "2021-04-08T08:23:29.469567Z"
    }
   },
   "outputs": [
    {
     "name": "stdout",
     "output_type": "stream",
     "text": [
      "405\n"
     ]
    }
   ],
   "source": [
    "print(landsat_images.size().getInfo())"
   ]
  },
  {
   "cell_type": "markdown",
   "metadata": {},
   "source": [
    "# 筛选得出采样影像"
   ]
  },
  {
   "cell_type": "code",
   "execution_count": null,
   "metadata": {
    "ExecuteTime": {
     "end_time": "2021-04-08T03:36:50.920342Z",
     "start_time": "2021-04-08T03:36:50.905123Z"
    }
   },
   "outputs": [],
   "source": [
    "# image = landsat_images.mosaic().clip(roi)\n",
    "# image_area = image.select('B2').gt(0).multiply(ee.Image.pixelArea()).divide(1e6)\n",
    "# areas = image_area.reduceRegion(**{\n",
    "#     'reducer': ee.Reducer.sum(),\n",
    "#     'geometry': roi.geometry(),\n",
    "#     'scale': 30,\n",
    "#     'maxPixels': 1e14\n",
    "# })\n",
    "# print(areas.getInfo())\n",
    "\n",
    "\n",
    "# # 武汉\n",
    "# wuhan_sample_image = landsat_images.map(area_after_clip).filter(ee.Filter.gt('area',170))\n",
    "# dates = wuhan_sample_image.aggregate_array('system:time_start').map(lambda d: ee.Date(d).format('YYYY-MM-dd'))\n",
    "# print(sample_image.size().getInfo())\n",
    "# print(dates.getInfo())"
   ]
  },
  {
   "cell_type": "code",
   "execution_count": null,
   "metadata": {
    "ExecuteTime": {
     "end_time": "2021-04-08T03:57:29.424836Z",
     "start_time": "2021-04-08T03:57:14.163152Z"
    }
   },
   "outputs": [],
   "source": [
    "\n",
    "wuhan_sample_image = wuhan_images.map(area_after_clip).filter(ee.Filter.gt('area',170))\n",
    "print(wuhan_sample_image.size().getInfo())\n",
    "# chongqing_sample_image = chongqing_images.map(area_after_clip).filter(ee.Filter.gt('area',7962))\n",
    "# chengdu_sample_image = chengdu_images.map(area_after_clip).filter(ee.Filter.gt('area',1413))\n",
    "# nanjing_sample_image = nanjing_images.map(area_after_clip).filter(ee.Filter.gt('area',658))\n",
    "# kunming_sample_image = kunming_images.map(area_after_clip).filter(ee.Filter.gt('area',2012))\n",
    "# sample_image = wuhan_sample_image.merge(chongqing_sample_image).merge(chengdu_sample_image).merge(nanjing_sample_image).merge(kunming_sample_image)\n",
    "# # print(sample_image.size().getInfo())"
   ]
  },
  {
   "cell_type": "markdown",
   "metadata": {
    "ExecuteTime": {
     "end_time": "2021-03-30T07:25:00.967134Z",
     "start_time": "2021-03-30T07:25:00.953588Z"
    }
   },
   "source": [
    "# 各个数据集，不同水体类型范围的确定"
   ]
  },
  {
   "cell_type": "markdown",
   "metadata": {},
   "source": [
    "##  基于指数的永久水体和季节水体"
   ]
  },
  {
   "cell_type": "code",
   "execution_count": null,
   "metadata": {
    "ExecuteTime": {
     "end_time": "2021-04-08T03:58:20.935839Z",
     "start_time": "2021-04-08T03:58:18.994914Z"
    }
   },
   "outputs": [],
   "source": [
    "# 添加一个底图白板\n",
    "basemap = ee.Image.constant(0).clip(roi).rename('waterclass')\n",
    "\n",
    "# 计算水体频率\n",
    "water_layer = landsat_images.map(lambda i : i.select('ndvi_mndwi').lt(0)).sum()\n",
    "validPixel_layer = landsat_images.count().select('B3').clip(roi).rename('count')\n",
    "vis = {'bands': ['count'], 'palette': ['ffffff', 'dd09ec'], 'min': 0.0, 'max': 35.0, 'opacity': 1.0}\n",
    "index_waterfrequency = water_layer.select('ndvi_mndwi').divide(validPixel_layer.select('count')).select('ndvi_mndwi').rename('frequency')\n",
    "index_permanent = index_waterfrequency.gte(0.75).remap([0,1],[0,2]).rename('waterclass')\n",
    "index_season= ee.ImageCollection([index_waterfrequency.gte(0.25),index_waterfrequency.lt(0.75)]).sum().eq(2).rename('waterclass')\n",
    "index_waterclass = ee.ImageCollection([index_permanent,index_season,basemap]).sum()"
   ]
  },
  {
   "cell_type": "markdown",
   "metadata": {},
   "source": [
    "## 基于JRC的永久水体和季节水体"
   ]
  },
  {
   "cell_type": "code",
   "execution_count": null,
   "metadata": {
    "ExecuteTime": {
     "end_time": "2021-04-08T03:58:48.340311Z",
     "start_time": "2021-04-08T03:58:48.322360Z"
    }
   },
   "outputs": [],
   "source": [
    "# 添加一个底图白板\n",
    "basemap = ee.Image.constant(0).clip(roi).rename('waterclass')\n",
    "JRC_2018 = ee.Image(\"JRC/GSW1_2/YearlyHistory/2018\").clip(roi).remap([0,1,2,3],[0,0,1,2]).rename('waterclass')\n",
    "# 水体分类；“0：陆地；1：季节性水体；2：永久性水体”\n",
    "JRC_waterclass = ee.ImageCollection([JRC_2018,basemap]).sum()\n",
    "# Map.addLayer(JRC_waterclass,{'palette':['white','red','blue'],'min':0,'max':2},\"JRC waterclass\")"
   ]
  },
  {
   "cell_type": "markdown",
   "metadata": {},
   "source": [
    "# 各个水体数据集在永久性水体和季节性水体的公共部分（交集，intersection）"
   ]
  },
  {
   "cell_type": "markdown",
   "metadata": {
    "ExecuteTime": {
     "end_time": "2021-03-30T07:27:44.901702Z",
     "start_time": "2021-03-30T07:27:44.885628Z"
    }
   },
   "source": [
    "## 永久性/季节性 水体的交集"
   ]
  },
  {
   "cell_type": "code",
   "execution_count": null,
   "metadata": {
    "ExecuteTime": {
     "end_time": "2021-04-08T03:58:54.245505Z",
     "start_time": "2021-04-08T03:58:54.241516Z"
    }
   },
   "outputs": [],
   "source": [
    "permanentWaterExtent = ee.ImageCollection([index_waterclass.eq(2),JRC_waterclass.eq(2)]).sum().eq(2)\n",
    "# Map.addLayer(permanentWaterExtent,{'palette':['white','blue'],'min':0,'max':1},'permanent water extent')\n",
    "\n",
    "landWaterExtent = ee.ImageCollection([index_waterclass.eq(0),JRC_waterclass.eq(0)]).sum().eq(2)\n",
    "# Map.addLayer(landWaterExtent,{'palette':['white','cyan'],'min':0,'max':1},'land extent')"
   ]
  },
  {
   "cell_type": "markdown",
   "metadata": {},
   "source": [
    "# 样本采集函数的定义"
   ]
  },
  {
   "cell_type": "code",
   "execution_count": null,
   "metadata": {
    "ExecuteTime": {
     "end_time": "2021-04-08T03:59:30.239733Z",
     "start_time": "2021-04-08T03:59:30.233720Z"
    }
   },
   "outputs": [],
   "source": [
    "# RandomForest预测使用的波段\n",
    "bands = ['B2', 'B3', 'B4', 'B5', 'B6', 'B7','NDVI','mNDWI','ndvi_mndwi']\n",
    "# 分类标签\n",
    "label = 'waterclass'\n",
    "\n",
    "def imageSample(image):\n",
    "    permanent_image = image.clip(wuhan).updateMask(permanentWaterExtent)\n",
    "    permanent = permanentWaterExtent.updateMask(permanent_image.select('B2').gt(0))\n",
    "    land_image = image.clip(wuhan).updateMask(landWaterExtent)\n",
    "    land = landWaterExtent.updateMask(land_image.select('B2').gt(0)).remap([1],[0]).rename('waterclass')\n",
    "    points_permanentwater = permanent.sample(**{\n",
    "        'region': wuhan,\n",
    "        'scale': 30,\n",
    "        'numPixels': 50,\n",
    "        'seed': 0,\n",
    "        'geometries': True  # Set this to False to ignore geometries\n",
    "    })\n",
    "    points_land = land.sample(**{\n",
    "        'region': wuhan,\n",
    "        'scale': 30,\n",
    "        'numPixels': 50,\n",
    "        'seed': 0,\n",
    "        'geometries': True  # Set this to False to ignore geometries\n",
    "    })\n",
    "    all_points = points_permanentwater.merge(points_land)\n",
    "    sample_points = image.select(bands).sampleRegions(**{\n",
    "        'collection': all_points,\n",
    "        'properties': [label],\n",
    "        'scale': 30\n",
    "    })\n",
    "    return sample_points"
   ]
  },
  {
   "cell_type": "code",
   "execution_count": null,
   "metadata": {
    "ExecuteTime": {
     "end_time": "2021-04-08T03:37:32.474125Z",
     "start_time": "2021-04-08T03:37:32.434601Z"
    }
   },
   "outputs": [],
   "source": [
    "# wuhan_pointsCollection = wuhan_sample_image.map(imageSample).flatten()\n",
    "# chongqing_pointsCollection = chongqing_sample_image.map(imageSample).flatten()\n",
    "# chengdu_pointsCollection = chengdu_sample_image.map(imageSample).flatten()\n",
    "# nanjing_pointsCollection = nanjing_sample_image.map(imageSample).flatten()\n",
    "# kunming_pointsCollection = kunming_sample_image.map(imageSample).flatten()\n",
    "# points_collection = wuhan_pointsCollection.merge(chongqing_pointsCollection).merge(chengdu_pointsCollection).merge(nanjing_pointsCollection).merge(kunming_pointsCollection)\n",
    "\n",
    "# # print(points_collection.size().getInfo())"
   ]
  },
  {
   "cell_type": "code",
   "execution_count": null,
   "metadata": {
    "ExecuteTime": {
     "end_time": "2021-04-08T04:04:12.718986Z",
     "start_time": "2021-04-08T03:59:53.796258Z"
    }
   },
   "outputs": [],
   "source": [
    "wuhan_pointsCollection = wuhan_sample_image.map(imageSample).flatten()\n",
    "print(wuhan_pointsCollection.size().getInfo())\n",
    "\n",
    "# samplepoint_water = points_collection.filter(ee.Filter.eq('waterclass',1))\n",
    "# print('water sample number:{}'.format(samplepoint_water.size().getInfo()))"
   ]
  },
  {
   "cell_type": "code",
   "execution_count": null,
   "metadata": {
    "ExecuteTime": {
     "end_time": "2021-04-08T02:32:15.870868Z",
     "start_time": "2021-04-08T02:32:15.856875Z"
    }
   },
   "outputs": [],
   "source": [
    "trainedClassifier = ee.Classifier.smileRandomForest(20).train(points_collection,label,bands)\n",
    "#对Landsat-8进行分类\n",
    "def training(image):\n",
    "    return image.clip(roi).select(bands).classify(trainedClassifier).eq(1).rename('waterclass')\n",
    "waterpixel_count = landsat_images.map(training).sum()\n",
    "# Map.addLayer(waterpixel_count,{},\"waterPixelCount\")"
   ]
  },
  {
   "cell_type": "code",
   "execution_count": null,
   "metadata": {
    "ExecuteTime": {
     "end_time": "2021-04-08T02:34:43.868104Z",
     "start_time": "2021-04-08T02:34:42.796349Z"
    }
   },
   "outputs": [],
   "source": [
    "basemap = ee.Image.constant(0).clip(roi).rename('waterclass')\n",
    "Map.addLayer(basemap,{'palette':['white']},\"basemap\")"
   ]
  },
  {
   "cell_type": "code",
   "execution_count": null,
   "metadata": {
    "ExecuteTime": {
     "start_time": "2021-04-08T02:34:47.173Z"
    }
   },
   "outputs": [],
   "source": [
    "validPixel = landsat_images.count().select('B3').clip(roi).rename('count')\n",
    "waterfrequency = waterpixel_count.select('waterclass').divide(validPixel.select('count')).rename('frequency')\n",
    "Map.addLayer(waterfrequency,{'palette':['white','green'],'min':0,'max':1},\"frequency\")"
   ]
  },
  {
   "cell_type": "code",
   "execution_count": null,
   "metadata": {
    "ExecuteTime": {
     "start_time": "2021-04-08T02:28:28.686Z"
    }
   },
   "outputs": [],
   "source": [
    "permanentwater = waterfrequency.gte(0.75).selfMask().select('frequency').rename('waterclass')\n",
    "Map.addLayer(permanentwater,{'palette':['blue']},\"permanent water\")"
   ]
  },
  {
   "cell_type": "code",
   "execution_count": null,
   "metadata": {
    "ExecuteTime": {
     "end_time": "2021-04-02T01:26:46.053649Z",
     "start_time": "2021-04-02T01:26:46.045678Z"
    }
   },
   "outputs": [],
   "source": [
    "basemap = ee.Image.constant(0).clip(roi).rename('waterclass')\n",
    "permanent_water = waterfrequency.gte(0.75).remap([0,1],[0,2]).rename('waterclass')\n",
    "seasonal_water = ee.ImageCollection([waterfrequency.gte(0.25),waterfrequency.lt(0.75)]).sum().eq(2).rename('waterclass')\n",
    "water_waterclass = ee.ImageCollection([permanent_water,seasonal_water,basemap]).sum()\n",
    "# Map.addLayer(water_waterclass,{'palette':['white','red','blue'],'min':0,'max':2},\"water waterclass\")"
   ]
  },
  {
   "cell_type": "code",
   "execution_count": null,
   "metadata": {
    "ExecuteTime": {
     "end_time": "2021-04-02T01:27:32.229181Z",
     "start_time": "2021-04-02T01:26:56.935266Z"
    }
   },
   "outputs": [],
   "source": [
    "from matplotlib import pyplot as plt\n",
    "import numpy as np\n",
    "import matplotlib\n",
    "from geemap import cartoee\n",
    "region = [113.6, 29.9, 115.1, 31.4]\n",
    "vis = {'palette':['0000ff']}\n",
    "fig = plt.figure(figsize=(12, 8))\n",
    "# use cartoee to get a map\n",
    "ax = cartoee.get_map(permanentwater, region=region, vis_params=vis)\n",
    "# add gridlines to the map at a specified interval\n",
    "cartoee.add_gridlines(ax, interval=[0.5,0.5], linestyle=\":\")\n",
    "ax.set_title(label = 'permanent surface water in 2018(recent)', fontsize=20)"
   ]
  },
  {
   "cell_type": "code",
   "execution_count": null,
   "metadata": {
    "ExecuteTime": {
     "end_time": "2021-04-02T01:27:47.131159Z",
     "start_time": "2021-04-02T01:27:43.321920Z"
    },
    "scrolled": false
   },
   "outputs": [],
   "source": [
    "from geemap import cartoee\n",
    "region = [113.6, 29.9, 115.1, 31.4] \n",
    "vis = {'min':0, 'max':1}\n",
    "fig = plt.figure(figsize=(12, 8))\n",
    "cmap = 'Blues'\n",
    "# use cartoee to get a map\n",
    "ax = cartoee.get_map(waterfrequency, region=region, vis_params=vis,cmap = cmap)\n",
    "# add a colorbar to the map using the visualization params we passed to the map\n",
    "cartoee.add_colorbar(ax, vis,cmap=cmap,loc=\"right\",label=\"water frequency\", orientation=\"vertical\")\n",
    "# ticks=range(0,50,10)\n",
    "# add gridlines to the map at a specified interval\n",
    "cartoee.add_gridlines(ax, interval=[0.5,0.5], linestyle=\":\")\n",
    "ax.set_title(label = 'waterbody frequency in 2018(recent)', fontsize=20)"
   ]
  },
  {
   "cell_type": "markdown",
   "metadata": {},
   "source": [
    "# 使用JRC数据集做交叉验证"
   ]
  },
  {
   "cell_type": "markdown",
   "metadata": {},
   "source": [
    "## JRC"
   ]
  },
  {
   "cell_type": "code",
   "execution_count": null,
   "metadata": {
    "ExecuteTime": {
     "end_time": "2021-04-02T01:32:46.707148Z",
     "start_time": "2021-04-02T01:32:44.455888Z"
    }
   },
   "outputs": [],
   "source": [
    "# 使用JRC做验证\n",
    "JRC_WaterClass = JRC_waterclass.rename('jrcwaterclass')\n",
    "JRC_samplepoints = JRC_WaterClass.sample(**{\n",
    "    'region': roi ,\n",
    "    'scale': 30,\n",
    "    'numPixels': 5000,\n",
    "    'seed': 0,\n",
    "    'geometries': True  # Set this to False to ignore geometries\n",
    "})\n",
    "print('JRC total number of sample point:{}'.format(JRC_samplepoints.size().getInfo()))\n",
    "\n",
    "waterclass = JRC_samplepoints.filter(ee.Filter.eq('jrcwaterclass',1))\n",
    "print('the number of water sample point:{}'.format(waterclass.size().getInfo()))\n",
    "\n",
    "waterclass = JRC_samplepoints.filter(ee.Filter.eq('jrcwaterclass',2))\n",
    "print('the number of water sample point:{}'.format(waterclass.size().getInfo()))"
   ]
  },
  {
   "cell_type": "code",
   "execution_count": null,
   "metadata": {
    "ExecuteTime": {
     "end_time": "2021-04-02T01:32:27.130112Z",
     "start_time": "2021-04-02T01:32:12.478352Z"
    }
   },
   "outputs": [],
   "source": [
    "# Overlay the points on the imagery to get training.\n",
    "JRC_sample_point = water_waterclass.sampleRegions(**{\n",
    "    'collection': JRC_samplepoints,\n",
    "    'properties': ['jrcwaterclass'],\n",
    "    'scale': 30\n",
    "})\n",
    "print(JRC_sample_point.first().getInfo())\n",
    "# 利用误差矩阵进行验证\n",
    "test_accuracy = JRC_sample_point.errorMatrix('jrcwaterclass', 'waterclass')\n",
    "print(test_accuracy.getInfo())\n",
    "print('total accuracy:{}'.format(test_accuracy.accuracy().getInfo()))\n",
    "print('kappa:{}'.format(test_accuracy.kappa().getInfo()))"
   ]
  },
  {
   "cell_type": "markdown",
   "metadata": {
    "ExecuteTime": {
     "end_time": "2021-04-01T14:00:04.921922Z",
     "start_time": "2021-04-01T14:00:04.463515Z"
    }
   },
   "source": [
    "## Maryland"
   ]
  },
  {
   "cell_type": "code",
   "execution_count": null,
   "metadata": {
    "ExecuteTime": {
     "end_time": "2021-04-02T01:33:06.417478Z",
     "start_time": "2021-04-02T01:33:04.055431Z"
    }
   },
   "outputs": [],
   "source": [
    "# 使用Maryland做验证\n",
    "Maryland_WaterClass = Maryland_waterclass.rename('Maryland_waterclass')\n",
    "Maryland_samplepoints = Maryland_WaterClass.sample(**{\n",
    "    'region': roi,\n",
    "    'scale': 30,\n",
    "    'numPixels': 5000,\n",
    "    'seed': 0,\n",
    "    'geometries': True  # Set this to False to ignore geometries\n",
    "})\n",
    "print('Maryland total number of sample point:{}'.format(Maryland_samplepoints.size().getInfo()))\n",
    "\n",
    "waterclass = Maryland_samplepoints.filter(ee.Filter.eq('Maryland_waterclass',1))\n",
    "print('the number of water sample point:{}'.format(waterclass.size().getInfo()))\n",
    "\n",
    "waterclass = Maryland_samplepoints.filter(ee.Filter.eq('Maryland_waterclass',2))\n",
    "print('the number of water sample point:{}'.format(waterclass.size().getInfo()))"
   ]
  },
  {
   "cell_type": "code",
   "execution_count": null,
   "metadata": {
    "ExecuteTime": {
     "end_time": "2021-04-02T01:35:39.137786Z",
     "start_time": "2021-04-02T01:33:33.173135Z"
    }
   },
   "outputs": [],
   "source": [
    "# Overlay the points on the imagery to get training.\n",
    "Maryland_sample_point = water_waterclass.sampleRegions(**{\n",
    "    'collection': Maryland_samplepoints,\n",
    "    'properties': ['Maryland_waterclass'],\n",
    "    'scale': 30\n",
    "})\n",
    "print(Maryland_sample_point.first().getInfo())\n",
    "# 利用误差矩阵进行验证\n",
    "test_accuracy = Maryland_sample_point.errorMatrix('Maryland_waterclass', 'waterclass')\n",
    "print(test_accuracy.getInfo())\n",
    "print('total accuracy:{}'.format(test_accuracy.accuracy().getInfo()))\n",
    "print('kappa:{}'.format(test_accuracy.kappa().getInfo()))"
   ]
  },
  {
   "cell_type": "markdown",
   "metadata": {},
   "source": [
    "# 附录"
   ]
  },
  {
   "cell_type": "code",
   "execution_count": null,
   "metadata": {
    "ExecuteTime": {
     "end_time": "2021-03-31T03:32:29.780691Z",
     "start_time": "2021-03-31T03:32:23.712638Z"
    }
   },
   "outputs": [],
   "source": [
    "# Map.addLayer(sample_image.first().clip(roi),visParams,'image first')\n",
    "permanent_image = sample_image.first().clip(roi).updateMask(permanentWaterExtent)\n",
    "Map.addLayer(permanent_image,visParams,'permanent image')\n",
    "permanent = permanentWaterExtent.updateMask(permanent_image.select('B2').gt(0))\n",
    "Map.addLayer(permanent,{'palette':['white','blue'],'min':0,'max':1},'permanent')\n",
    "\n",
    "\n",
    "season_image = sample_image.first().clip(roi).updateMask(seasonWaterExtent)\n",
    "seasonal = seasonWaterExtent.updateMask(season_image.select('B2').gt(0))\n",
    "Map.addLayer(seasonal,{'palette':['white','red'],'min':0,'max':1},'seasonal')\n",
    "\n",
    "land_image = sample_image.first().clip(roi).updateMask(landWaterExtent)\n",
    "land = landWaterExtent.updateMask(land_image.select('B2').gt(0)).remap([1],[0]).rename('waterclass')\n",
    "Map.addLayer(land,{'palette':['white','cyan'],'min':0,'max':1},'land')\n",
    "\n",
    "points_permanentwater = permanent.sample(**{\n",
    "    'region': roi,\n",
    "    'scale': 30,\n",
    "    'numPixels': 200,\n",
    "    'seed': 0,\n",
    "    'geometries': True  # Set this to False to ignore geometries\n",
    "})\n",
    "print(\"permanent : {}\".format(points_permanentwater.size().getInfo()))\n",
    "points_seasonalwater = seasonal.sample(**{\n",
    "    'region': roi,\n",
    "    'scale': 30,\n",
    "    'numPixels': 200,\n",
    "    'seed': 0,\n",
    "    'geometries': True  # Set this to False to ignore geometries\n",
    "})\n",
    "print('seasonal : {}'.format(points_seasonalwater.size().getInfo()))\n",
    "\n",
    "points_land = land.sample(**{\n",
    "    'region': roi,\n",
    "    'scale': 30,\n",
    "    'numPixels': 200,\n",
    "    'seed': 0,\n",
    "    'geometries': True  # Set this to False to ignore geometries\n",
    "})\n",
    "print('land : {}'.format(points_land.size().getInfo()))"
   ]
  },
  {
   "cell_type": "code",
   "execution_count": null,
   "metadata": {
    "ExecuteTime": {
     "end_time": "2021-03-31T03:33:02.143218Z",
     "start_time": "2021-03-31T03:33:00.115881Z"
    }
   },
   "outputs": [],
   "source": [
    "all_points = points_permanentwater.merge(points_seasonalwater).merge(points_land)\n",
    "print(all_points.size().getInfo())\n",
    "print(all_points.filter(ee.Filter.eq('waterclass',1)).size().getInfo())"
   ]
  },
  {
   "cell_type": "code",
   "execution_count": null,
   "metadata": {
    "ExecuteTime": {
     "end_time": "2021-03-30T07:38:47.630048Z",
     "start_time": "2021-03-30T07:38:46.372203Z"
    }
   },
   "outputs": [],
   "source": [
    "per_wuhan = landsat_images.mosaic().updateMask(permanentWaterExtent)\n",
    "Map.addLayer(per_wuhan,visParams,\"per wuhan\")"
   ]
  },
  {
   "cell_type": "code",
   "execution_count": null,
   "metadata": {
    "ExecuteTime": {
     "start_time": "2021-03-30T06:45:33.047Z"
    }
   },
   "outputs": [],
   "source": [
    "# histogram = index_water.select('waterclass').reduceRegion(**{\n",
    "#     'reducer': ee.Reducer.histogram(100),\n",
    "#     'geometry': roi.geometry(), \n",
    "#     'scale': 30,\n",
    "#     'bestEffort': True\n",
    "# })\n",
    "# print(histogram.getInfo())"
   ]
  },
  {
   "cell_type": "code",
   "execution_count": null,
   "metadata": {
    "ExecuteTime": {
     "end_time": "2021-03-30T07:21:31.586542Z",
     "start_time": "2021-03-30T07:21:31.166728Z"
    }
   },
   "outputs": [],
   "source": [
    "dataset = ee.Image('JRC/GSW1_2/YearlyHistory/2018')\n",
    "\n",
    "visualization = {\n",
    "  'bands': ['waterClass'],\n",
    "  'min': 0.0,\n",
    "  'max': 3.0,\n",
    "  'palette': ['cccccc', 'ffffff', '99d9ea', '0000ff']\n",
    "}\n",
    "Map.addLayer(dataset.clip(roi), visualization, 'Water Class')"
   ]
  }
 ],
 "metadata": {
  "hide_input": false,
  "kernelspec": {
   "display_name": "Python 3",
   "language": "python",
   "name": "python3"
  },
  "language_info": {
   "codemirror_mode": {
    "name": "ipython",
    "version": 3
   },
   "file_extension": ".py",
   "mimetype": "text/x-python",
   "name": "python",
   "nbconvert_exporter": "python",
   "pygments_lexer": "ipython3",
   "version": "3.8.5"
  },
  "toc": {
   "base_numbering": 1,
   "nav_menu": {},
   "number_sections": true,
   "sideBar": true,
   "skip_h1_title": false,
   "title_cell": "Table of Contents",
   "title_sidebar": "Contents",
   "toc_cell": false,
   "toc_position": {},
   "toc_section_display": true,
   "toc_window_display": false
  },
  "varInspector": {
   "cols": {
    "lenName": 16,
    "lenType": 16,
    "lenVar": 40
   },
   "kernels_config": {
    "python": {
     "delete_cmd_postfix": "",
     "delete_cmd_prefix": "del ",
     "library": "var_list.py",
     "varRefreshCmd": "print(var_dic_list())"
    },
    "r": {
     "delete_cmd_postfix": ") ",
     "delete_cmd_prefix": "rm(",
     "library": "var_list.r",
     "varRefreshCmd": "cat(var_dic_list()) "
    }
   },
   "types_to_exclude": [
    "module",
    "function",
    "builtin_function_or_method",
    "instance",
    "_Feature"
   ],
   "window_display": false
  }
 },
 "nbformat": 4,
 "nbformat_minor": 4
}
