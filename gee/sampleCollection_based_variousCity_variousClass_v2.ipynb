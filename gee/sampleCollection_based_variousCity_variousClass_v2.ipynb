{
 "cells": [
  {
   "cell_type": "markdown",
   "metadata": {},
   "source": [
    " 相比V1，将相关过程定义成函数。\n",
    " \n",
    "variousCity指武汉、重庆、成都、南京、昆明\n",
    "\n",
    "variousClass 指根据指数和JRC，获取陆地和永久性水体的范围，未考虑季节性水体，在此类区域上选择样本"
   ]
  },
  {
   "cell_type": "code",
   "execution_count": 1,
   "metadata": {
    "ExecuteTime": {
     "end_time": "2021-04-22T01:17:19.937740Z",
     "start_time": "2021-04-22T01:17:19.920784Z"
    }
   },
   "outputs": [],
   "source": [
    "import os\n",
    "os.environ['HTTP_PROXY'] = \"http://127.0.0.1:10809\"\n",
    "os.environ['HTTPS_PROXY'] = \"http://127.0.0.1:10809\""
   ]
  },
  {
   "cell_type": "code",
   "execution_count": 2,
   "metadata": {
    "ExecuteTime": {
     "end_time": "2021-04-22T01:17:23.913237Z",
     "start_time": "2021-04-22T01:17:20.216993Z"
    },
    "scrolled": false
   },
   "outputs": [
    {
     "data": {
      "application/vnd.jupyter.widget-view+json": {
       "model_id": "a9861448bb3440f6b6c4a1b14d48f3f4",
       "version_major": 2,
       "version_minor": 0
      },
      "text/plain": [
       "Map(center=[40, -100], controls=(WidgetControl(options=['position'], widget=HBox(children=(ToggleButton(value=…"
      ]
     },
     "metadata": {},
     "output_type": "display_data"
    }
   ],
   "source": [
    "import geemap\n",
    "import ee\n",
    "Map=geemap.Map()\n",
    "Map"
   ]
  },
  {
   "cell_type": "code",
   "execution_count": 3,
   "metadata": {
    "ExecuteTime": {
     "end_time": "2021-04-22T01:17:25.659569Z",
     "start_time": "2021-04-22T01:17:23.959114Z"
    }
   },
   "outputs": [],
   "source": [
    "wuhan = ee.Feature(ee.FeatureCollection('users/311605001111/YangtzeCity/wuhan').first()).geometry()\n",
    "chongqing = ee.Feature(ee.FeatureCollection('users/311605001111/YangtzeCity/chongqing').first()).geometry()\n",
    "chengdu = ee.Feature(ee.FeatureCollection('users/311605001111/YangtzeCity/chengdu').first()).geometry()\n",
    "nanjing = ee.Feature(ee.FeatureCollection('users/311605001111/YangtzeCity/nanjing').first()).geometry()\n",
    "kunming = ee.Feature(ee.FeatureCollection('users/311605001111/YangtzeCity/kunming').first()).geometry()\n",
    "\n",
    "city = ee.FeatureCollection([wuhan,chongqing,chengdu,nanjing,kunming])\n",
    "Map.addLayer(city, {}, \"city\")\n",
    "Map.centerObject(city,6)"
   ]
  },
  {
   "cell_type": "code",
   "execution_count": 4,
   "metadata": {
    "ExecuteTime": {
     "end_time": "2021-04-22T01:17:25.737361Z",
     "start_time": "2021-04-22T01:17:25.723399Z"
    }
   },
   "outputs": [],
   "source": [
    "# 去云、云阴影、雪掩膜函数\n",
    "def maskL8sr(image):\n",
    "    cloudShadowBitMask = (1 << 3)\n",
    "    cloudsBitMask = (1 << 5)\n",
    "    snowBitMask = (1 << 4)   \n",
    "    qa = image.select('pixel_qa')\n",
    "    mask = qa.bitwiseAnd(cloudShadowBitMask).eq(0) \\\n",
    "                   .And(qa.bitwiseAnd(cloudsBitMask).eq(0)) \\\n",
    "                   .And(qa.bitwiseAnd(snowBitMask).eq(0))\n",
    "    return image.updateMask(mask)\n",
    "\n",
    "# 图像可视化参数\n",
    "visParams = {\n",
    "    'bands': ['B5', 'B4', 'B3'],\n",
    "    'min': 0,\n",
    "    'max': 3000,\n",
    "    'gamma': 1.4,\n",
    "}\n",
    "\n",
    "# 计算指数\n",
    "def ndvi_mndwi(image):\n",
    "    ndvi=image.normalizedDifference(['B5', 'B4']).rename('NDVI')\n",
    "    mndwi=image.normalizedDifference(['B3', 'B6']).rename(\"mNDWI\") \n",
    "    ndvi_mndwi = ndvi.subtract(mndwi).rename('ndvi_mndwi')\n",
    "    return image.addBands(ndvi_mndwi).addBands(ndvi).addBands(mndwi)\n",
    "\n",
    "# # 计算影像裁剪后的面积\n",
    "# def area_after_clip(image):\n",
    "#     image_area = image.clip(roi).select('B2').gt(0).multiply(ee.Image.pixelArea()).divide(1e6)\n",
    "#     areas = image_area.reduceRegion(**{\n",
    "#         'reducer': ee.Reducer.sum(),\n",
    "#         'geometry': image.geometry(),\n",
    "#         'scale': 30,\n",
    "#         'maxPixels': 1e14\n",
    "#     })\n",
    "#     return image.set({'area': areas.get('B2')})"
   ]
  },
  {
   "cell_type": "code",
   "execution_count": 5,
   "metadata": {
    "ExecuteTime": {
     "end_time": "2021-04-22T01:17:25.845073Z",
     "start_time": "2021-04-22T01:17:25.785233Z"
    }
   },
   "outputs": [],
   "source": [
    "# RandomForest预测使用的波段\n",
    "bands = ['B2', 'B3', 'B4', 'B5', 'B6', 'B7','NDVI','mNDWI','ndvi_mndwi']\n",
    "# 分类标签\n",
    "label = 'waterclass'"
   ]
  },
  {
   "cell_type": "markdown",
   "metadata": {},
   "source": [
    "# 武汉"
   ]
  },
  {
   "cell_type": "code",
   "execution_count": 6,
   "metadata": {
    "ExecuteTime": {
     "end_time": "2021-04-22T01:21:27.841765Z",
     "start_time": "2021-04-22T01:17:25.893942Z"
    }
   },
   "outputs": [
    {
     "name": "stdout",
     "output_type": "stream",
     "text": [
      "40\n",
      "689\n"
     ]
    }
   ],
   "source": [
    "landsat_images = ee.ImageCollection('LANDSAT/LC08/C01/T1_SR') \\\n",
    "    .filterBounds(wuhan) \\\n",
    "    .filterDate('2018-01-01', '2018-12-31') \\\n",
    "    .map(maskL8sr) \\\n",
    "    .map(ndvi_mndwi)\n",
    "\n",
    "basemap = ee.Image.constant(0).clip(wuhan).rename('waterclass')\n",
    "water_layer = landsat_images.map(lambda i : i.select('ndvi_mndwi').lt(0)).sum()\n",
    "validPixel_layer = landsat_images.count().select('B3').clip(wuhan).rename('count')\n",
    "index_waterfrequency = water_layer.select('ndvi_mndwi').divide(validPixel_layer.select('count')).select('ndvi_mndwi').rename('frequency')\n",
    "index_permanent = index_waterfrequency.gte(0.75).remap([0,1],[0,2]).rename('waterclass')\n",
    "index_season= ee.ImageCollection([index_waterfrequency.gte(0.25),index_waterfrequency.lt(0.75)]).sum().eq(2).rename('waterclass')\n",
    "index_waterclass = ee.ImageCollection([index_permanent,index_season,basemap]).sum()\n",
    "# JRC frequency\n",
    "basemap = ee.Image.constant(0).clip(wuhan).rename('waterclass')\n",
    "JRC_2018 = ee.Image(\"JRC/GSW1_2/YearlyHistory/2018\").clip(wuhan).remap([0,1,2,3],[0,0,1,2]).rename('waterclass')\n",
    "JRC_waterclass = ee.ImageCollection([JRC_2018,basemap]).sum()\n",
    "# 交集数据部分\n",
    "permanentWaterExtent = ee.ImageCollection([index_waterclass.eq(2),JRC_waterclass.eq(2)]).sum().eq(2)\n",
    "landWaterExtent = ee.ImageCollection([index_waterclass.eq(0),JRC_waterclass.eq(0)]).sum().eq(2)\n",
    "\n",
    "# 计算影像裁剪后的面积\n",
    "def wuhan_area_after_clip(image):\n",
    "    image_area = image.clip(wuhan).select('B2').gt(0).multiply(ee.Image.pixelArea()).divide(1e6)\n",
    "    areas = image_area.reduceRegion(**{\n",
    "        'reducer': ee.Reducer.sum(),\n",
    "        'geometry': image.geometry(),\n",
    "        'scale': 30,\n",
    "        'maxPixels': 1e14\n",
    "    })\n",
    "    return image.set({'area': areas.get('B2')})\n",
    "sample_image = landsat_images.map(wuhan_area_after_clip).filter(ee.Filter.gt('area',170))\n",
    "\n",
    "def wuhanimageSample(image):\n",
    "    permanent_image = image.clip(wuhan).updateMask(permanentWaterExtent)\n",
    "    permanent = permanentWaterExtent.updateMask(permanent_image.select('B2').gt(0))\n",
    "    land_image = image.clip(wuhan).updateMask(landWaterExtent)\n",
    "    land = landWaterExtent.updateMask(land_image.select('B2').gt(0)).remap([1],[0]).rename('waterclass')\n",
    "    points_permanentwater = permanent.sample(**{\n",
    "        'region': wuhan,\n",
    "        'scale': 30,\n",
    "        'numPixels': 50,\n",
    "        'seed': 0,\n",
    "        'geometries': True  # Set this to False to ignore geometries\n",
    "    })\n",
    "    points_land = land.sample(**{\n",
    "        'region': wuhan,\n",
    "        'scale': 30,\n",
    "        'numPixels': 50,\n",
    "        'seed': 0,\n",
    "        'geometries': True  # Set this to False to ignore geometries\n",
    "    })\n",
    "    all_points = points_permanentwater.merge(points_land)\n",
    "    sample_points = image.select(bands).sampleRegions(**{\n",
    "        'collection': all_points,\n",
    "        'properties': [label],\n",
    "        'scale': 30\n",
    "    })\n",
    "    return sample_points\n",
    "wuhan_pointsCollection = sample_image.map(wuhanimageSample).flatten()\n",
    "print(sample_image.size().getInfo())\n",
    "print(wuhan_pointsCollection.size().getInfo())"
   ]
  },
  {
   "cell_type": "markdown",
   "metadata": {},
   "source": [
    "# 成都"
   ]
  },
  {
   "cell_type": "code",
   "execution_count": 7,
   "metadata": {
    "ExecuteTime": {
     "end_time": "2021-04-22T01:22:09.001581Z",
     "start_time": "2021-04-22T01:21:28.951288Z"
    }
   },
   "outputs": [
    {
     "name": "stdout",
     "output_type": "stream",
     "text": [
      "37\n",
      "431\n"
     ]
    }
   ],
   "source": [
    "landsat_images = ee.ImageCollection('LANDSAT/LC08/C01/T1_SR') \\\n",
    "    .filterBounds(chengdu) \\\n",
    "    .filterDate('2018-01-01', '2018-12-31') \\\n",
    "    .map(maskL8sr) \\\n",
    "    .map(ndvi_mndwi)\n",
    "\n",
    "basemap = ee.Image.constant(0).clip(chengdu).rename('waterclass')\n",
    "water_layer = landsat_images.map(lambda i : i.select('ndvi_mndwi').lt(0)).sum()\n",
    "validPixel_layer = landsat_images.count().select('B3').clip(chengdu).rename('count')\n",
    "index_waterfrequency = water_layer.select('ndvi_mndwi').divide(validPixel_layer.select('count')).select('ndvi_mndwi').rename('frequency')\n",
    "index_permanent = index_waterfrequency.gte(0.75).remap([0,1],[0,2]).rename('waterclass')\n",
    "index_season= ee.ImageCollection([index_waterfrequency.gte(0.25),index_waterfrequency.lt(0.75)]).sum().eq(2).rename('waterclass')\n",
    "index_waterclass = ee.ImageCollection([index_permanent,index_season,basemap]).sum()\n",
    "# JRC frequency\n",
    "basemap = ee.Image.constant(0).clip(chengdu).rename('waterclass')\n",
    "JRC_2018 = ee.Image(\"JRC/GSW1_2/YearlyHistory/2018\").clip(chengdu).remap([0,1,2,3],[0,0,1,2]).rename('waterclass')\n",
    "JRC_waterclass = ee.ImageCollection([JRC_2018,basemap]).sum()\n",
    "# 交集数据部分\n",
    "permanentWaterExtent = ee.ImageCollection([index_waterclass.eq(2),JRC_waterclass.eq(2)]).sum().eq(2)\n",
    "landWaterExtent = ee.ImageCollection([index_waterclass.eq(0),JRC_waterclass.eq(0)]).sum().eq(2)\n",
    "\n",
    "# 计算影像裁剪后的面积\n",
    "def chengdu_area_after_clip(image):\n",
    "    image_area = image.clip(chengdu).select('B2').gt(0).multiply(ee.Image.pixelArea()).divide(1e6)\n",
    "    areas = image_area.reduceRegion(**{\n",
    "        'reducer': ee.Reducer.sum(),\n",
    "        'geometry': image.geometry(),\n",
    "        'scale': 30,\n",
    "        'maxPixels': 1e14\n",
    "    })\n",
    "    return image.set({'area': areas.get('B2')})\n",
    "sample_image = landsat_images.map(chengdu_area_after_clip).filter(ee.Filter.gt('area',170))\n",
    "\n",
    "def chengduimageSample(image):\n",
    "    permanent_image = image.clip(chengdu).updateMask(permanentWaterExtent)\n",
    "    permanent = permanentWaterExtent.updateMask(permanent_image.select('B2').gt(0))\n",
    "    land_image = image.clip(chengdu).updateMask(landWaterExtent)\n",
    "    land = landWaterExtent.updateMask(land_image.select('B2').gt(0)).remap([1],[0]).rename('waterclass')\n",
    "    points_permanentwater = permanent.sample(**{\n",
    "        'region': chengdu,\n",
    "        'scale': 30,\n",
    "        'numPixels': 50,\n",
    "        'seed': 0,\n",
    "        'geometries': True  # Set this to False to ignore geometries\n",
    "    })\n",
    "    points_land = land.sample(**{\n",
    "        'region': chengdu,\n",
    "        'scale': 30,\n",
    "        'numPixels': 50,\n",
    "        'seed': 0,\n",
    "        'geometries': True  # Set this to False to ignore geometries\n",
    "    })\n",
    "    all_points = points_permanentwater.merge(points_land)\n",
    "    sample_points = image.select(bands).sampleRegions(**{\n",
    "        'collection': all_points,\n",
    "        'properties': [label],\n",
    "        'scale': 30\n",
    "    })\n",
    "    return sample_points\n",
    "chengdu_pointsCollection = sample_image.map(chengduimageSample).flatten()\n",
    "print(sample_image.size().getInfo())\n",
    "print(chengdu_pointsCollection.size().getInfo())"
   ]
  },
  {
   "cell_type": "markdown",
   "metadata": {
    "heading_collapsed": true
   },
   "source": [
    "# 南京"
   ]
  },
  {
   "cell_type": "code",
   "execution_count": null,
   "metadata": {
    "ExecuteTime": {
     "end_time": "2021-04-08T13:39:30.806229Z",
     "start_time": "2021-04-08T13:39:30.775974Z"
    },
    "hidden": true
   },
   "outputs": [],
   "source": [
    "roi = nanjing\n",
    "\n",
    "sample_image = landsatCollection(roi).map(area_after_clip).filter(ee.Filter.gt('area',658))\n",
    "nanjing_pointsCollection = sample_image.map(imageSample).flatten()\n",
    "# print(sample_image.size().getInfo())\n",
    "# print(nanjing_pointsCollection.size().getInfo())"
   ]
  },
  {
   "cell_type": "markdown",
   "metadata": {
    "heading_collapsed": true
   },
   "source": [
    "# 昆明"
   ]
  },
  {
   "cell_type": "code",
   "execution_count": null,
   "metadata": {
    "ExecuteTime": {
     "end_time": "2021-04-08T13:31:10.466141Z",
     "start_time": "2021-04-08T13:31:10.435981Z"
    },
    "hidden": true
   },
   "outputs": [],
   "source": [
    "roi = kunming\n",
    "\n",
    "sample_image = landsatCollection(roi).map(area_after_clip).filter(ee.Filter.gt('area',2012))\n",
    "kunming_pointsCollection = sample_image.map(imageSample).flatten()\n",
    "# print(sample_image.size().getInfo())\n",
    "# print(kunming_pointsCollection.size().getInfo())"
   ]
  },
  {
   "cell_type": "markdown",
   "metadata": {},
   "source": [
    "# 样本集，训练，分类"
   ]
  },
  {
   "cell_type": "code",
   "execution_count": 8,
   "metadata": {
    "ExecuteTime": {
     "end_time": "2021-04-22T01:22:12.620629Z",
     "start_time": "2021-04-22T01:22:12.610658Z"
    }
   },
   "outputs": [],
   "source": [
    "pointsCollection = wuhan_pointsCollection.merge(chengdu_pointsCollection)\n",
    "\n",
    "trainedClassifier = ee.Classifier.smileRandomForest(20).train(pointsCollection,label,bands)"
   ]
  },
  {
   "cell_type": "code",
   "execution_count": null,
   "metadata": {
    "ExecuteTime": {
     "start_time": "2021-04-08T08:36:28.365Z"
    }
   },
   "outputs": [],
   "source": [
    "# city = ee.FeatureCollection([wuhan,chongqing,chengdu,nanjing,kunming])\n",
    "# print(landsatCollection(city).size().getInfo())"
   ]
  },
  {
   "cell_type": "code",
   "execution_count": null,
   "metadata": {
    "ExecuteTime": {
     "start_time": "2021-04-08T08:35:59.244Z"
    }
   },
   "outputs": [],
   "source": [
    "# waterpixel_count = landsatCollection(city).map(training).sum()\n",
    "# validPixel_count = landsatCollection(city).count().select('B3').clip(roi).rename('count')\n",
    "# waterfrequency = waterpixel_count.select('waterclass').divide(validPixel_count.select('count')).rename('frequency')\n",
    "# Map.addLayer(waterfrequency,{'palette':['white','green'],'min':0,'max':1},\"frequency\")\n",
    "\n",
    "# permanentwater = waterfrequency.gte(0.75).selfMask().select('frequency').rename('waterclass')\n",
    "# Map.addLayer(permanentwater,{'palette':['blue']},\"permanent water\")"
   ]
  },
  {
   "cell_type": "code",
   "execution_count": null,
   "metadata": {},
   "outputs": [],
   "source": []
  },
  {
   "cell_type": "code",
   "execution_count": 10,
   "metadata": {
    "ExecuteTime": {
     "end_time": "2021-04-22T01:29:11.475046Z",
     "start_time": "2021-04-22T01:29:08.530345Z"
    }
   },
   "outputs": [],
   "source": [
    "basemap = ee.Image.constant(0).clip(wuhan).rename('waterclass')\n",
    "Map.addLayer(basemap,{'palette':['white']},\"basemap\")\n",
    "\n",
    "landsat_images = ee.ImageCollection('LANDSAT/LC08/C01/T1_SR') \\\n",
    "    .filterBounds(wuhan) \\\n",
    "    .filterDate('2018-01-01', '2018-12-31') \\\n",
    "    .map(maskL8sr) \\\n",
    "    .map(ndvi_mndwi)\n",
    "def training(image):\n",
    "    return image.clip(wuhan).select(bands).classify(trainedClassifier).eq(1).rename('waterclass')\n",
    "waterpixel_count = landsat_images.map(training).sum()\n",
    "validPixel_count = landsat_images.count().select('B3').clip(wuhan).rename('count')\n",
    "wuhan_waterfrequency = waterpixel_count.select('waterclass').divide(validPixel_count.select('count')).rename('frequency')\n",
    "Map.addLayer(wuhan_waterfrequency,{'palette':['white','green'],'min':0,'max':1},\"wuhan water frequency\")"
   ]
  },
  {
   "cell_type": "code",
   "execution_count": 11,
   "metadata": {
    "ExecuteTime": {
     "end_time": "2021-04-22T01:29:20.924913Z",
     "start_time": "2021-04-22T01:29:19.161302Z"
    }
   },
   "outputs": [],
   "source": [
    "wuhan_permanentwater = wuhan_waterfrequency.gte(0.75).selfMask().select('frequency').rename('waterclass')\n",
    "Map.addLayer(wuhan_permanentwater,{'palette':['blue']},\"wuhan permanent water\")"
   ]
  },
  {
   "cell_type": "code",
   "execution_count": 12,
   "metadata": {
    "ExecuteTime": {
     "end_time": "2021-04-22T01:29:32.777785Z",
     "start_time": "2021-04-22T01:29:30.442219Z"
    }
   },
   "outputs": [],
   "source": [
    "landsat_images = ee.ImageCollection('LANDSAT/LC08/C01/T1_SR') \\\n",
    "    .filterBounds(chengdu) \\\n",
    "    .filterDate('2018-01-01', '2018-12-31') \\\n",
    "    .map(maskL8sr) \\\n",
    "    .map(ndvi_mndwi)\n",
    "def training(image):\n",
    "    return image.clip(chengdu).select(bands).classify(trainedClassifier).eq(1).rename('waterclass')\n",
    "waterpixel_count = landsat_images.map(training).sum()\n",
    "validPixel_count = landsat_images.count().select('B3').clip(chengdu).rename('count')\n",
    "chengdu_waterfrequency = waterpixel_count.select('waterclass').divide(validPixel_count.select('count')).rename('frequency')\n",
    "Map.addLayer(chengdu_waterfrequency,{'palette':['white','green'],'min':0,'max':1},\"chengdu water frequency\")"
   ]
  },
  {
   "cell_type": "code",
   "execution_count": 13,
   "metadata": {
    "ExecuteTime": {
     "end_time": "2021-04-22T01:29:46.262739Z",
     "start_time": "2021-04-22T01:29:43.938723Z"
    }
   },
   "outputs": [],
   "source": [
    "chengdu_permanentwater = chengdu_waterfrequency.gte(0.75).selfMask().select('frequency').rename('waterclass')\n",
    "Map.addLayer(chengdu_permanentwater,{'palette':['blue']},\"chengdu permanent water\")"
   ]
  },
  {
   "cell_type": "code",
   "execution_count": null,
   "metadata": {
    "ExecuteTime": {
     "end_time": "2021-04-22T01:27:17.689471Z",
     "start_time": "2021-04-22T01:22:19.168Z"
    }
   },
   "outputs": [],
   "source": [
    "landsat_images = ee.ImageCollection('LANDSAT/LC08/C01/T1_SR') \\\n",
    "    .filterBounds(nanjing) \\\n",
    "    .filterDate('2018-01-01', '2018-12-31') \\\n",
    "    .map(maskL8sr) \\\n",
    "    .map(ndvi_mndwi)\n",
    "def training(image):\n",
    "    return image.clip(nanjing).select(bands).classify(trainedClassifier).eq(1).rename('waterclass')\n",
    "waterpixel_count = landsat_images.map(training).sum()\n",
    "validPixel_count = landsat_images.count().select('B3').clip(nanjing).rename('count')\n",
    "nanjing_waterfrequency = waterpixel_count.select('waterclass').divide(validPixel_count.select('count')).rename('frequency')\n",
    "Map.addLayer(nanjing_waterfrequency,{'palette':['white','green'],'min':0,'max':1},\"nanjing water frequency\")"
   ]
  },
  {
   "cell_type": "code",
   "execution_count": null,
   "metadata": {
    "ExecuteTime": {
     "end_time": "2021-04-22T01:27:17.692463Z",
     "start_time": "2021-04-22T01:22:19.785Z"
    }
   },
   "outputs": [],
   "source": [
    "nanjing_permanentwater = nanjing_waterfrequency.gte(0.75).selfMask().select('frequency').rename('waterclass')\n",
    "Map.addLayer(nanjing_permanentwater,{'palette':['blue']},\"nanjing permanent water\")"
   ]
  },
  {
   "cell_type": "code",
   "execution_count": null,
   "metadata": {},
   "outputs": [],
   "source": []
  },
  {
   "cell_type": "code",
   "execution_count": null,
   "metadata": {
    "ExecuteTime": {
     "end_time": "2021-04-08T14:51:30.615792Z",
     "start_time": "2021-04-08T14:50:29.090044Z"
    }
   },
   "outputs": [],
   "source": [
    "from matplotlib import pyplot as plt\n",
    "import numpy as np\n",
    "import matplotlib\n",
    "from geemap import cartoee\n",
    "region = [113.6, 29.9, 115.1, 31.4] \n",
    "vis = {'min':0, 'max':1}\n",
    "fig = plt.figure(figsize=(12, 8))\n",
    "cmap = 'Blues'\n",
    "# use cartoee to get a map\n",
    "ax = cartoee.get_map(wuhan_waterfrequency, region=region, vis_params=vis,cmap = cmap)\n",
    "# add a colorbar to the map using the visualization params we passed to the map\n",
    "cartoee.add_colorbar(ax, vis,cmap=cmap,loc=\"right\",label=\"water frequency\", orientation=\"vertical\")\n",
    "# ticks=range(0,50,10)\n",
    "# add gridlines to the map at a specified interval\n",
    "cartoee.add_gridlines(ax, interval=[0.5,0.5], linestyle=\":\")\n",
    "ax.set_title(label = 'waterbody frequency in 2018(wuhan)', fontsize=20)"
   ]
  },
  {
   "cell_type": "code",
   "execution_count": null,
   "metadata": {
    "ExecuteTime": {
     "end_time": "2021-04-09T00:49:23.680303Z",
     "start_time": "2021-04-09T00:48:14.928287Z"
    }
   },
   "outputs": [],
   "source": [
    "from matplotlib import pyplot as plt\n",
    "import numpy as np\n",
    "import matplotlib\n",
    "from geemap import cartoee\n",
    "region = [113.6, 29.9, 115.1, 31.4]\n",
    "vis = {'palette':['0000ff']}\n",
    "fig = plt.figure(figsize=(12, 8))\n",
    "# use cartoee to get a map\n",
    "ax = cartoee.get_map(wuhan_permanentwater, region=region, vis_params=vis)\n",
    "# add gridlines to the map at a specified interval\n",
    "cartoee.add_gridlines(ax, interval=[0.5,0.5], linestyle=\":\")\n",
    "ax.set_title(label = 'permanent surface water in 2018(wuhan)', fontsize=20)"
   ]
  },
  {
   "cell_type": "code",
   "execution_count": null,
   "metadata": {},
   "outputs": [],
   "source": []
  },
  {
   "cell_type": "code",
   "execution_count": null,
   "metadata": {
    "ExecuteTime": {
     "end_time": "2021-04-09T02:07:12.293115Z",
     "start_time": "2021-04-09T02:06:26.666142Z"
    }
   },
   "outputs": [],
   "source": [
    "from matplotlib import pyplot as plt\n",
    "import numpy as np\n",
    "import matplotlib\n",
    "from geemap import cartoee\n",
    "region = [102.95, 30.0, 104.95, 31.5] \n",
    "vis = {'min':0, 'max':1}\n",
    "fig = plt.figure(figsize=(12, 8))\n",
    "cmap = 'Blues'\n",
    "# use cartoee to get a map\n",
    "ax = cartoee.get_map(chengdu_waterfrequency, region=region, vis_params=vis,cmap = cmap)\n",
    "# add a colorbar to the map using the visualization params we passed to the map\n",
    "cartoee.add_colorbar(ax, vis,cmap=cmap,loc=\"right\",label=\"water frequency\", orientation=\"vertical\")\n",
    "# ticks=range(0,50,10)\n",
    "# add gridlines to the map at a specified interval\n",
    "cartoee.add_gridlines(ax, interval=[0.5,0.5], linestyle=\":\")\n",
    "ax.set_title(label = 'waterbody frequency in 2018(chengdu)', fontsize=20)"
   ]
  },
  {
   "cell_type": "code",
   "execution_count": null,
   "metadata": {
    "ExecuteTime": {
     "end_time": "2021-04-09T02:09:09.342958Z",
     "start_time": "2021-04-09T02:09:04.649142Z"
    }
   },
   "outputs": [],
   "source": [
    "from matplotlib import pyplot as plt\n",
    "import numpy as np\n",
    "import matplotlib\n",
    "from geemap import cartoee\n",
    "region = [102.95, 30.0, 104.95, 31.5]\n",
    "vis = {'palette':['0000ff']}\n",
    "fig = plt.figure(figsize=(12, 8))\n",
    "# use cartoee to get a map\n",
    "ax = cartoee.get_map(chengdu_permanentwater, region=region, vis_params=vis)\n",
    "# add gridlines to the map at a specified interval\n",
    "cartoee.add_gridlines(ax, interval=[0.5,0.5], linestyle=\":\")\n",
    "ax.set_title(label = 'permanent surface water in 2018(chengdu)', fontsize=20)"
   ]
  },
  {
   "cell_type": "code",
   "execution_count": null,
   "metadata": {},
   "outputs": [],
   "source": []
  },
  {
   "cell_type": "code",
   "execution_count": null,
   "metadata": {
    "ExecuteTime": {
     "end_time": "2021-04-09T01:46:52.808222Z",
     "start_time": "2021-04-09T01:46:02.154349Z"
    }
   },
   "outputs": [],
   "source": [
    "from matplotlib import pyplot as plt\n",
    "import numpy as np\n",
    "import matplotlib\n",
    "from geemap import cartoee\n",
    "region = [118.3, 31.16, 119.3, 32.7] \n",
    "vis = {'min':0, 'max':1}\n",
    "fig = plt.figure(figsize=(12, 8))\n",
    "cmap = 'Blues'\n",
    "# use cartoee to get a map\n",
    "ax = cartoee.get_map(nanjing_waterfrequency, region=region, vis_params=vis,cmap = cmap)\n",
    "# add a colorbar to the map using the visualization params we passed to the map\n",
    "cartoee.add_colorbar(ax, vis,cmap=cmap,loc=\"right\",label=\"water frequency\", orientation=\"vertical\")\n",
    "# ticks=range(0,50,10)\n",
    "# add gridlines to the map at a specified interval\n",
    "cartoee.add_gridlines(ax, interval=[0.3,0.3], linestyle=\":\")\n",
    "ax.set_title(label = 'waterbody frequency in 2018(nanjing)', fontsize=20)"
   ]
  },
  {
   "cell_type": "code",
   "execution_count": null,
   "metadata": {
    "ExecuteTime": {
     "end_time": "2021-04-09T02:10:55.247480Z",
     "start_time": "2021-04-09T02:10:03.950367Z"
    }
   },
   "outputs": [],
   "source": [
    "from matplotlib import pyplot as plt\n",
    "import numpy as np\n",
    "import matplotlib\n",
    "from geemap import cartoee\n",
    "region = [118.3, 31.16, 119.3, 32.7] \n",
    "vis = {'palette':['0000ff']}\n",
    "fig = plt.figure(figsize=(12, 8))\n",
    "# use cartoee to get a map\n",
    "ax = cartoee.get_map(nanjing_permanentwater, region=region, vis_params=vis)\n",
    "# add gridlines to the map at a specified interval\n",
    "cartoee.add_gridlines(ax, interval=[0.3,0.3], linestyle=\":\")\n",
    "ax.set_title(label = 'permanent surface water in 2018(nanjing)', fontsize=20)"
   ]
  },
  {
   "cell_type": "markdown",
   "metadata": {},
   "source": [
    "# 附录"
   ]
  },
  {
   "cell_type": "code",
   "execution_count": null,
   "metadata": {
    "ExecuteTime": {
     "end_time": "2021-04-08T07:00:03.356173Z",
     "start_time": "2021-04-08T06:56:20.786528Z"
    }
   },
   "outputs": [],
   "source": [
    "points_collection = sample_image.map(imageSample).flatten()\n",
    "trainedClassifier = ee.Classifier.smileRandomForest(20).train(points_collection,label,bands)\n",
    "def training(image):\n",
    "    return image.clip(roi).select(bands).classify(trainedClassifier).eq(1).rename('waterclass')\n",
    "\n",
    "waterpixel_count = landsat_images.map(training).sum()\n",
    "validPixel_count = landsat_images.count().select('B3').clip(roi).rename('count')\n",
    "waterfrequency = waterpixel_count.select('waterclass').divide(validPixel_count.select('count')).rename('frequency')\n",
    "Map.addLayer(waterfrequency,{'palette':['white','green'],'min':0,'max':1},\"frequency\")\n",
    "\n",
    "permanentwater = waterfrequency.gte(0.75).selfMask().select('frequency').rename('waterclass')\n",
    "Map.addLayer(permanentwater,{'palette':['blue']},\"permanent water\")"
   ]
  },
  {
   "cell_type": "code",
   "execution_count": null,
   "metadata": {},
   "outputs": [],
   "source": [
    "def waterfrequency(roi):\n",
    "    basemap = ee.Image.constant(0).clip(roi).rename('waterclass')\n",
    "    water_layer = landsatCollection(roi).map(lambda i : i.select('ndvi_mndwi').lt(0)).sum()\n",
    "    validPixel_layer = landsatCollection(roi).count().select('B3').clip(roi).rename('count')\n",
    "    index_waterfrequency = water_layer.select('ndvi_mndwi').divide(validPixel_layer.select('count')).select('ndvi_mndwi').rename('frequency')\n",
    "    index_permanent = index_waterfrequency.gte(0.75).remap([0,1],[0,2]).rename('waterclass')\n",
    "    index_season= ee.ImageCollection([index_waterfrequency.gte(0.25),index_waterfrequency.lt(0.75)]).sum().eq(2).rename('waterclass')\n",
    "    index_waterclass = ee.ImageCollection([index_permanent,index_season,basemap]).sum()\n",
    "    # JRC frequency\n",
    "    basemap = ee.Image.constant(0).clip(roi).rename('waterclass')\n",
    "    JRC_2018 = ee.Image(\"JRC/GSW1_2/YearlyHistory/2018\").clip(roi).remap([0,1,2,3],[0,0,1,2]).rename('waterclass')\n",
    "    JRC_waterclass = ee.ImageCollection([JRC_2018,basemap]).sum()\n",
    "    # 交集数据部分\n",
    "    extent = ee.ImageCollection([index_waterclass.eq(2),JRC_waterclass.eq(2)]).sum().eq(2).rename('permanent')\n",
    "    landWaterExtent = ee.ImageCollection([index_waterclass.eq(0),JRC_waterclass.eq(0)]).sum().eq(2).rename('land')\n",
    "    return extent.addBands(landWaterExtent)"
   ]
  },
  {
   "cell_type": "code",
   "execution_count": null,
   "metadata": {},
   "outputs": [],
   "source": [
    "def imageSample(image):\n",
    "    permanentWaterExtent = waterfrequency(roi).select('permanent').rename('waterclass')\n",
    "    landExtent = waterfrequency(roi).select('land').rename('waterclass')\n",
    "    permanent_image = image.clip(roi).updateMask(permanentWaterExtent)\n",
    "    permanent = permanentWaterExtent.updateMask(permanent_image.select('B2').gt(0))\n",
    "    land_image = image.clip(roi).updateMask(landExtent)\n",
    "    land = landExtent.updateMask(land_image.select('B2').gt(0)).remap([1],[0]).rename('waterclass')\n",
    "    points_permanentwater = permanent.sample(**{\n",
    "        'region': roi,\n",
    "        'scale': 30,\n",
    "        'numPixels': 50,\n",
    "        'seed': 0,\n",
    "        'geometries': True  # Set this to False to ignore geometries\n",
    "    })\n",
    "    points_land = land.sample(**{\n",
    "        'region': roi,\n",
    "        'scale': 30,\n",
    "        'numPixels': 50,\n",
    "        'seed': 0,\n",
    "        'geometries': True  # Set this to False to ignore geometries\n",
    "    })\n",
    "    all_points = points_permanentwater.merge(points_land)\n",
    "    sample_points = image.select(bands).sampleRegions(**{\n",
    "        'collection': all_points,\n",
    "        'properties': [label],\n",
    "        'scale': 30\n",
    "    })\n",
    "    return sample_points"
   ]
  },
  {
   "cell_type": "code",
   "execution_count": null,
   "metadata": {},
   "outputs": [],
   "source": []
  }
 ],
 "metadata": {
  "hide_input": false,
  "kernelspec": {
   "display_name": "Python 3",
   "language": "python",
   "name": "python3"
  },
  "language_info": {
   "codemirror_mode": {
    "name": "ipython",
    "version": 3
   },
   "file_extension": ".py",
   "mimetype": "text/x-python",
   "name": "python",
   "nbconvert_exporter": "python",
   "pygments_lexer": "ipython3",
   "version": "3.8.5"
  },
  "toc": {
   "base_numbering": 1,
   "nav_menu": {},
   "number_sections": true,
   "sideBar": true,
   "skip_h1_title": false,
   "title_cell": "Table of Contents",
   "title_sidebar": "Contents",
   "toc_cell": false,
   "toc_position": {},
   "toc_section_display": true,
   "toc_window_display": false
  },
  "varInspector": {
   "cols": {
    "lenName": 16,
    "lenType": 16,
    "lenVar": 40
   },
   "kernels_config": {
    "python": {
     "delete_cmd_postfix": "",
     "delete_cmd_prefix": "del ",
     "library": "var_list.py",
     "varRefreshCmd": "print(var_dic_list())"
    },
    "r": {
     "delete_cmd_postfix": ") ",
     "delete_cmd_prefix": "rm(",
     "library": "var_list.r",
     "varRefreshCmd": "cat(var_dic_list()) "
    }
   },
   "types_to_exclude": [
    "module",
    "function",
    "builtin_function_or_method",
    "instance",
    "_Feature"
   ],
   "window_display": false
  }
 },
 "nbformat": 4,
 "nbformat_minor": 4
}
