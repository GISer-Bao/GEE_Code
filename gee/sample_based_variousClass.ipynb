{
 "cells": [
  {
   "cell_type": "code",
   "execution_count": null,
   "metadata": {
    "ExecuteTime": {
     "end_time": "2021-07-12T01:58:25.121444Z",
     "start_time": "2021-07-12T01:58:25.108898Z"
    }
   },
   "outputs": [],
   "source": [
    "import os\n",
    "os.environ['HTTP_PROXY'] = \"http://127.0.0.1:10809\"\n",
    "os.environ['HTTPS_PROXY'] = \"http://127.0.0.1:10809\""
   ]
  },
  {
   "cell_type": "code",
   "execution_count": null,
   "metadata": {
    "ExecuteTime": {
     "end_time": "2021-07-12T01:58:32.215401Z",
     "start_time": "2021-07-12T01:58:25.364163Z"
    },
    "scrolled": false
   },
   "outputs": [],
   "source": [
    "import geemap\n",
    "import ee\n",
    "Map=geemap.Map()\n",
    "Map"
   ]
  },
  {
   "cell_type": "code",
   "execution_count": null,
   "metadata": {
    "ExecuteTime": {
     "end_time": "2021-07-12T01:58:33.771163Z",
     "start_time": "2021-07-12T01:58:32.263978Z"
    }
   },
   "outputs": [],
   "source": [
    "# 武汉市\n",
    "roi = ee.FeatureCollection('users/311605001111/ChinaCity').filter(ee.Filter.eq('市','武汉市'))\n",
    "Map.addLayer(roi, {}, \"roi\")\n",
    "Map.centerObject(roi,8)"
   ]
  },
  {
   "cell_type": "code",
   "execution_count": null,
   "metadata": {
    "ExecuteTime": {
     "end_time": "2021-07-12T01:58:33.832998Z",
     "start_time": "2021-07-12T01:58:33.820034Z"
    }
   },
   "outputs": [],
   "source": [
    "# 去云、云阴影、雪掩膜函数\n",
    "def maskL8sr(image):\n",
    "    cloudShadowBitMask = (1 << 3)\n",
    "    cloudsBitMask = (1 << 5)\n",
    "    snowBitMask = (1 << 4)   \n",
    "    qa = image.select('pixel_qa')\n",
    "    mask = qa.bitwiseAnd(cloudShadowBitMask).eq(0) \\\n",
    "                   .And(qa.bitwiseAnd(cloudsBitMask).eq(0)) \\\n",
    "                   .And(qa.bitwiseAnd(snowBitMask).eq(0))\n",
    "    return image.updateMask(mask)\n",
    "\n",
    "visParams = {\n",
    "    'bands': ['B5', 'B6', 'B4'],\n",
    "    'min': 0,\n",
    "    'max': 3000,\n",
    "    'gamma': 1.4,\n",
    "}\n",
    "\n",
    "# AWEI(自动水体提取指数): AWEIsh = B2 + 2.5B3 - 1.5(B5+B6) - 0.25B7\n",
    "def water_index(img):\n",
    "    image = img.clip(roi)\n",
    "    ndvi=image.normalizedDifference(['B5', 'B4']).rename('NDVI')\n",
    "    mndwi=image.normalizedDifference(['B3', 'B6']).rename(\"mNDWI\") \n",
    "    ndvi_mndwi = ndvi.subtract(mndwi).rename('ndvi_mndwi')\n",
    "    awei = image.expression('B2 + 2.5*B3 - 1.5*(B5+B6) - 0.25*B7',\n",
    "        {\n",
    "          'B2': image.select('B2'),\n",
    "          'B3': image.select('B3'),    \n",
    "          'B5': image.select('B5'),    \n",
    "          'B6': image.select('B6'),\n",
    "          'B7': image.select('B7'),\n",
    "        }).rename('AWEI')\n",
    "    return image.addBands(ndvi_mndwi).addBands(ndvi).addBands(mndwi).addBands(awei)\n",
    "\n",
    "def area_after_clip(image):\n",
    "    image_area = image.clip(roi).select('B2').gt(0).multiply(ee.Image.pixelArea()).divide(1e6)\n",
    "    areas = image_area.reduceRegion(**{\n",
    "        'reducer': ee.Reducer.sum(),\n",
    "        'geometry': image.geometry(),\n",
    "        'scale': 1000,\n",
    "        'maxPixels': 1e14\n",
    "    })\n",
    "    return image.set({'area': areas.get('B2')})"
   ]
  },
  {
   "cell_type": "code",
   "execution_count": null,
   "metadata": {
    "ExecuteTime": {
     "end_time": "2021-07-12T01:58:35.394026Z",
     "start_time": "2021-07-12T01:58:33.880298Z"
    }
   },
   "outputs": [],
   "source": [
    "landsat_images = ee.ImageCollection('LANDSAT/LC08/C01/T1_SR') \\\n",
    "    .filterBounds(roi) \\\n",
    "    .filterDate('2018-01-01', '2018-12-31') \\\n",
    "    .map(maskL8sr) \\\n",
    "    .map(water_index)\n",
    "Map.addLayer(landsat_images.mosaic(),visParams,'landsat image')"
   ]
  },
  {
   "cell_type": "markdown",
   "metadata": {},
   "source": [
    "# 筛选得出采样影像"
   ]
  },
  {
   "cell_type": "code",
   "execution_count": null,
   "metadata": {
    "ExecuteTime": {
     "end_time": "2021-07-12T01:58:40.231674Z",
     "start_time": "2021-07-12T01:58:35.442077Z"
    }
   },
   "outputs": [],
   "source": [
    "image_area = landsat_images.mosaic().select('B2').gt(0).multiply(ee.Image.pixelArea()).divide(1e6)\n",
    "areas = image_area.reduceRegion(**{\n",
    "    'reducer': ee.Reducer.sum(),\n",
    "    'geometry': roi,\n",
    "    'scale': 1000,\n",
    "    'maxPixels': 1e14\n",
    "})\n",
    "\n",
    "# 筛选影像，影像覆盖研究区的范围 > 研究区的1/10\n",
    "sample_image = landsat_images.map(area_after_clip).filter(ee.Filter.gt('area',ee.Number(areas.get('B2')).divide(10)))\n",
    "dates = sample_image.aggregate_array('system:time_start').sort().map(lambda d: ee.Date(d).format('YYYY-MM-dd'))\n",
    "print(sample_image.size().getInfo())\n",
    "print(dates.getInfo())"
   ]
  },
  {
   "cell_type": "markdown",
   "metadata": {},
   "source": [
    "# 多水体频率数据集的类别范围确定"
   ]
  },
  {
   "cell_type": "code",
   "execution_count": null,
   "metadata": {
    "ExecuteTime": {
     "end_time": "2021-07-12T01:58:42.003631Z",
     "start_time": "2021-07-12T01:58:40.419843Z"
    }
   },
   "outputs": [],
   "source": [
    "# ndvi_mndwi水体频率\n",
    "basemap = ee.Image.constant(0).clip(roi).rename('waterclass')\n",
    "water_layer = landsat_images.map(lambda i : i.select('ndvi_mndwi').lt(0)).sum()\n",
    "validPixel_layer = landsat_images.count().select('B3').clip(roi).rename('count')\n",
    "index_waterfrequency = water_layer.select('ndvi_mndwi').divide(validPixel_layer.select('count')).select('ndvi_mndwi').rename('frequency')\n",
    "index_permanent = index_waterfrequency.gte(0.75).remap([0,1],[0,2]).rename('waterclass')\n",
    "index_season= ee.ImageCollection([index_waterfrequency.gte(0.25),index_waterfrequency.lt(0.75)]).sum().eq(2).rename('waterclass')\n",
    "index_waterclass = ee.ImageCollection([index_permanent,index_season,basemap]).sum()\n",
    "# JRC\n",
    "JRC_2018 = ee.Image(\"JRC/GSW1_3/YearlyHistory/2018\").clip(roi).remap([0,1,2,3],[0,0,1,2]).rename('waterclass')\n",
    "JRC_waterclass = ee.ImageCollection([JRC_2018,basemap]).sum()\n",
    "# Maryland\n",
    "Maryland_2018 = ee.Image('users/311605001111/Maryland/Maryland_2018').clip(roi).select('b1').rename('waterclass')\n",
    "Maryland_permanent = Maryland_2018.select('waterclass').gte(75).remap([0,1],[0,2]).rename('waterclass')\n",
    "Maryland_season= ee.ImageCollection([Maryland_2018.gte(25),Maryland_2018.lt(75)]).sum().eq(2)\n",
    "Maryland_waterclass = ee.ImageCollection([Maryland_permanent,Maryland_season,basemap]).sum()\n",
    "# 三者的交集\n",
    "permanentWaterExtent = ee.ImageCollection([index_waterclass.eq(2),JRC_waterclass.eq(2),Maryland_waterclass.eq(2)]).sum().eq(3)\n",
    "landExtent = ee.ImageCollection([index_waterclass.eq(0),JRC_waterclass.eq(0),Maryland_waterclass.eq(0)]).sum().eq(3)\n",
    "seasonWaterExtent = ee.ImageCollection([permanentWaterExtent,landExtent]).sum().remap([0,1],[1,0]).rename('waterclass')\n",
    "\n",
    "Map.addLayer(permanentWaterExtent.selfMask(),{'palette':['blue']},\"permanent_water\")\n",
    "Map.addLayer(seasonWaterExtent.selfMask(),{'palette':['green']},\"season water\")"
   ]
  },
  {
   "cell_type": "markdown",
   "metadata": {},
   "source": [
    "# 封装为函数"
   ]
  },
  {
   "cell_type": "code",
   "execution_count": null,
   "metadata": {
    "ExecuteTime": {
     "end_time": "2021-07-12T01:58:44.660583Z",
     "start_time": "2021-07-12T01:58:43.711144Z"
    }
   },
   "outputs": [],
   "source": [
    "image = sample_image.first()\n",
    "Map.addLayer(image,visParams,'image')\n",
    "\n",
    "# print(image.get('system:index').getInfo())"
   ]
  },
  {
   "cell_type": "code",
   "execution_count": null,
   "metadata": {
    "ExecuteTime": {
     "end_time": "2021-07-10T07:18:50.461462Z",
     "start_time": "2021-07-10T07:18:50.454390Z"
    }
   },
   "outputs": [],
   "source": [
    "# RandomForest预测使用的波段\n",
    "bands = ['B2', 'B3', 'B4', 'B5', 'B6', 'B7','NDVI','mNDWI','AWEI']\n",
    "# 分类标签\n",
    "label = 'waterclass'\n",
    "def imageSample(image):\n",
    "    # 永久性水体\n",
    "    permanent_points = image.updateMask(permanentWaterExtent).sample(**{\n",
    "        'region': roi,\n",
    "        'scale': 30,\n",
    "        'numPixels': 500,\n",
    "        'seed': 0,\n",
    "        'geometries': True,\n",
    "    })\n",
    "    water_points = permanent_points.map(lambda i : i.setMulti({'waterclass':1,'Image_id':image.get('system:index')}))\n",
    "    # 陆地\n",
    "    land_points = image.updateMask(landExtent).sample(**{\n",
    "        'region': image.geometry(),\n",
    "        'scale': 30,\n",
    "        'numPixels': 500,\n",
    "        'seed': 0,\n",
    "        'geometries': True,\n",
    "    })\n",
    "    nowater_points = land_points.map(lambda i : i.setMulti({'waterclass':0,'Image_id':image.get('system:index')}))\n",
    "    # 季节性水体\n",
    "    awei = image.updateMask(seasonWaterExtent).select('AWEI').gt(ee.Image.constant(0))\n",
    "    seasonWater = image.updateMask(awei).sample(**{\n",
    "        'region': roi,\n",
    "        'scale': 30,\n",
    "        'numPixels': 500,\n",
    "        'seed': 0,\n",
    "        'geometries': True,\n",
    "    })\n",
    "    seasonWater_points = seasonWater.map(lambda i : i.setMulti({'waterclass':1,'Image_id':image.get('system:index')}))\n",
    "    seasonLand= image.updateMask(awei.remap([0,1],[1,0])).sample(**{\n",
    "        'region': roi,\n",
    "        'scale': 30,\n",
    "        'numPixels': 500,\n",
    "        'seed': 0,\n",
    "        'geometries': True,\n",
    "    })\n",
    "    seasonLand_points = seasonLand.map(lambda i : i.setMulti({'waterclass':0,'Image_id':image.get('system:index')}))\n",
    "    sample_points = ee.FeatureCollection([water_points,nowater_points,seasonWater_points,seasonLand_points]).flatten()\n",
    "    return sample_points"
   ]
  },
  {
   "cell_type": "code",
   "execution_count": null,
   "metadata": {
    "ExecuteTime": {
     "end_time": "2021-07-10T07:18:56.856469Z",
     "start_time": "2021-07-10T07:18:53.930578Z"
    }
   },
   "outputs": [],
   "source": [
    "a = imageSample(image)\n",
    "print(a.size().getInfo())\n",
    "print(a.aggregate_array('waterclass').getInfo())"
   ]
  },
  {
   "cell_type": "code",
   "execution_count": null,
   "metadata": {},
   "outputs": [],
   "source": []
  },
  {
   "cell_type": "markdown",
   "metadata": {},
   "source": [
    "# 分步验证"
   ]
  },
  {
   "cell_type": "code",
   "execution_count": null,
   "metadata": {
    "ExecuteTime": {
     "end_time": "2021-07-12T02:07:04.323107Z",
     "start_time": "2021-07-12T02:07:03.416424Z"
    }
   },
   "outputs": [],
   "source": [
    "image = sample_image.first()\n",
    "Map.addLayer(image,visParams,'image')"
   ]
  },
  {
   "cell_type": "code",
   "execution_count": null,
   "metadata": {
    "ExecuteTime": {
     "end_time": "2021-07-12T02:07:51.043272Z",
     "start_time": "2021-07-12T02:07:06.603322Z"
    }
   },
   "outputs": [],
   "source": [
    "# 永久性水体\n",
    "permanent = image.updateMask(permanentWaterExtent)\n",
    "Map.addLayer(permanent,visParams,'permanent image')\n",
    "permanent_points = permanent.sample(**{\n",
    "    'region': roi,\n",
    "    'scale': 30,\n",
    "    'numPixels': 500,\n",
    "    'seed': 0,\n",
    "    'geometries': True,\n",
    "})\n",
    "water_points = permanent_points.map(lambda i : i.setMulti({'waterclass':1,'Image_id':image.get('system:index')}))\n",
    "\n",
    "print(water_points.size().getInfo())\n",
    "print(water_points.first().getInfo())"
   ]
  },
  {
   "cell_type": "code",
   "execution_count": null,
   "metadata": {
    "ExecuteTime": {
     "end_time": "2021-07-10T06:23:06.616449Z",
     "start_time": "2021-07-10T06:22:04.231931Z"
    }
   },
   "outputs": [],
   "source": [
    "# 陆地水体\n",
    "land = image.updateMask(landExtent)\n",
    "Map.addLayer(land,visParams,'land image')\n",
    "land_points = land.sample(**{\n",
    "    'region': image.geometry(),\n",
    "    'scale': 30,\n",
    "    'numPixels': 500,\n",
    "    'seed': 0,\n",
    "    'geometries': True,\n",
    "})\n",
    "nowater_points = land_points.map(lambda i : i.setMulti({'waterclass':0,'Image_id':image.get('system:index')}))\n",
    "print(nowater_points.size().getInfo())\n",
    "print(nowater_points.first().getInfo())"
   ]
  },
  {
   "cell_type": "code",
   "execution_count": null,
   "metadata": {
    "ExecuteTime": {
     "end_time": "2021-07-10T06:45:09.836114Z",
     "start_time": "2021-07-10T06:44:22.119587Z"
    }
   },
   "outputs": [],
   "source": [
    "# 季节性水体\n",
    "awei = image.updateMask(seasonWaterExtent).select('AWEI').gt(ee.Image.constant(0))\n",
    "season_water = image.updateMask(awei)\n",
    "seasonWater = season_water.sample(**{\n",
    "    'region': roi,\n",
    "    'scale': 30,\n",
    "    'numPixels': 500,\n",
    "    'seed': 0,\n",
    "    'geometries': True,\n",
    "})\n",
    "seasonWater_points = seasonWater.map(lambda i : i.setMulti({'waterclass':1,'Image_id':image.get('system:index')}))\n",
    "print(seasonWater_points.size().getInfo())\n",
    "print(seasonWater_points.first().getInfo())\n",
    "\n",
    "season_land = image.updateMask(awei.remap([0,1],[1,0]))\n",
    "seasonLand= season_land.sample(**{\n",
    "    'region': roi,\n",
    "    'scale': 30,\n",
    "    'numPixels': 500,\n",
    "    'seed': 0,\n",
    "    'geometries': True,\n",
    "})\n",
    "seasonLand_points = seasonLand.map(lambda i : i.setMulti({'waterclass':0,'Image_id':image.get('system:index')}))\n",
    "print(seasonLand_points.size().getInfo())\n",
    "print(seasonLand_points.first().getInfo())"
   ]
  },
  {
   "cell_type": "code",
   "execution_count": null,
   "metadata": {
    "ExecuteTime": {
     "end_time": "2021-07-10T06:47:26.399729Z",
     "start_time": "2021-07-10T06:47:23.879145Z"
    }
   },
   "outputs": [],
   "source": [
    "sample_points = ee.FeatureCollection([water_points,nowater_points,seasonWater_points,seasonLand_points]).flatten()\n",
    "print(sample_points.size().getInfo())\n",
    "print(sample_points.aggregate_array('waterclass').getInfo())"
   ]
  },
  {
   "cell_type": "code",
   "execution_count": null,
   "metadata": {},
   "outputs": [],
   "source": []
  }
 ],
 "metadata": {
  "hide_input": false,
  "kernelspec": {
   "display_name": "Python 3",
   "language": "python",
   "name": "python3"
  },
  "language_info": {
   "codemirror_mode": {
    "name": "ipython",
    "version": 3
   },
   "file_extension": ".py",
   "mimetype": "text/x-python",
   "name": "python",
   "nbconvert_exporter": "python",
   "pygments_lexer": "ipython3",
   "version": "3.8.5"
  },
  "toc": {
   "base_numbering": 1,
   "nav_menu": {},
   "number_sections": true,
   "sideBar": true,
   "skip_h1_title": false,
   "title_cell": "Table of Contents",
   "title_sidebar": "Contents",
   "toc_cell": false,
   "toc_position": {},
   "toc_section_display": true,
   "toc_window_display": false
  },
  "varInspector": {
   "cols": {
    "lenName": 16,
    "lenType": 16,
    "lenVar": 40
   },
   "kernels_config": {
    "python": {
     "delete_cmd_postfix": "",
     "delete_cmd_prefix": "del ",
     "library": "var_list.py",
     "varRefreshCmd": "print(var_dic_list())"
    },
    "r": {
     "delete_cmd_postfix": ") ",
     "delete_cmd_prefix": "rm(",
     "library": "var_list.r",
     "varRefreshCmd": "cat(var_dic_list()) "
    }
   },
   "types_to_exclude": [
    "module",
    "function",
    "builtin_function_or_method",
    "instance",
    "_Feature"
   ],
   "window_display": false
  }
 },
 "nbformat": 4,
 "nbformat_minor": 4
}
