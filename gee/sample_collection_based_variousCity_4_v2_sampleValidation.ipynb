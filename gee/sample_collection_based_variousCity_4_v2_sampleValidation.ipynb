{
 "cells": [
  {
   "cell_type": "code",
   "execution_count": 1,
   "metadata": {
    "ExecuteTime": {
     "end_time": "2021-05-07T01:34:57.574218Z",
     "start_time": "2021-05-07T01:34:57.559294Z"
    }
   },
   "outputs": [],
   "source": [
    "import os\n",
    "os.environ['HTTP_PROXY'] = \"http://127.0.0.1:10809\"\n",
    "os.environ['HTTPS_PROXY'] = \"http://127.0.0.1:10809\""
   ]
  },
  {
   "cell_type": "code",
   "execution_count": 2,
   "metadata": {
    "ExecuteTime": {
     "end_time": "2021-05-07T01:35:02.530552Z",
     "start_time": "2021-05-07T01:34:57.808859Z"
    },
    "scrolled": false
   },
   "outputs": [
    {
     "data": {
      "application/vnd.jupyter.widget-view+json": {
       "model_id": "7028377a8feb49a38bfce86a5e96d757",
       "version_major": 2,
       "version_minor": 0
      },
      "text/plain": [
       "Map(center=[40, -100], controls=(WidgetControl(options=['position'], widget=HBox(children=(ToggleButton(value=…"
      ]
     },
     "metadata": {},
     "output_type": "display_data"
    }
   ],
   "source": [
    "import geemap\n",
    "import ee\n",
    "Map=geemap.Map()\n",
    "Map"
   ]
  },
  {
   "cell_type": "code",
   "execution_count": 3,
   "metadata": {
    "ExecuteTime": {
     "end_time": "2021-05-07T01:35:03.547073Z",
     "start_time": "2021-05-07T01:35:02.579388Z"
    }
   },
   "outputs": [],
   "source": [
    "wuhan = ee.Feature(ee.FeatureCollection('users/311605001111/YangtzeCity/wuhan').first()).geometry()\n",
    "chongqing = ee.Feature(ee.FeatureCollection('users/311605001111/YangtzeCity/chongqing').first()).geometry()\n",
    "chengdu = ee.Feature(ee.FeatureCollection('users/311605001111/YangtzeCity/chengdu').first()).geometry()\n",
    "nanjing = ee.Feature(ee.FeatureCollection('users/311605001111/YangtzeCity/nanjing').first()).geometry()\n",
    "kunming = ee.Feature(ee.FeatureCollection('users/311605001111/YangtzeCity/kunming').first()).geometry()\n",
    "\n",
    "city = ee.FeatureCollection([wuhan,chengdu,nanjing,kunming])\n",
    "Map.addLayer(city, {}, \"city\")\n",
    "Map.centerObject(city,6)\n",
    "\n",
    "# city = ee.FeatureCollection([wuhan,chongqing,chengdu,nanjing,kunming])\n",
    "# Map.addLayer(city, {}, \"city\")\n",
    "# Map.centerObject(city,6)"
   ]
  },
  {
   "cell_type": "code",
   "execution_count": 4,
   "metadata": {
    "ExecuteTime": {
     "end_time": "2021-05-07T01:35:03.610902Z",
     "start_time": "2021-05-07T01:35:03.596940Z"
    }
   },
   "outputs": [],
   "source": [
    "# 去云、云阴影、雪掩膜函数\n",
    "def maskL8sr(image):\n",
    "    cloudShadowBitMask = (1 << 3)\n",
    "    cloudsBitMask = (1 << 5)\n",
    "    snowBitMask = (1 << 4)   \n",
    "    qa = image.select('pixel_qa')\n",
    "    mask = qa.bitwiseAnd(cloudShadowBitMask).eq(0) \\\n",
    "                   .And(qa.bitwiseAnd(cloudsBitMask).eq(0)) \\\n",
    "                   .And(qa.bitwiseAnd(snowBitMask).eq(0))\n",
    "    return image.updateMask(mask)\n",
    "\n",
    "visParams = {\n",
    "    'bands': ['B5', 'B6', 'B3'],\n",
    "    'min': 0,\n",
    "    'max': 3000,\n",
    "    'gamma': 1.4,\n",
    "}\n",
    "\n",
    "def ndvi_mndwi(image):\n",
    "    ndvi=image.normalizedDifference(['B5', 'B4']).rename('NDVI')\n",
    "    mndwi=image.normalizedDifference(['B3', 'B6']).rename(\"mNDWI\") \n",
    "    ndvi_mndwi = ndvi.subtract(mndwi).rename('ndvi_mndwi')\n",
    "    class_ndvi_mndwi = ndvi_mndwi.lt(0).rename('class_ndvi_mndwi')\n",
    "    class_mndwi = mndwi.gt(0).rename('class_mndwi')\n",
    "    return image.addBands(ndvi_mndwi).addBands(ndvi).addBands(mndwi).addBands(class_ndvi_mndwi).addBands(class_mndwi)\n",
    "\n",
    "def area_after_clip(image):\n",
    "    image_area = image.clip(roi).select('B2').gt(0).multiply(ee.Image.pixelArea()).divide(1e6)\n",
    "    areas = image_area.reduceRegion(**{\n",
    "        'reducer': ee.Reducer.sum(),\n",
    "        'geometry': image.geometry(),\n",
    "        'scale': 30,\n",
    "        'maxPixels': 1e14\n",
    "    })\n",
    "    return image.set({'area': areas.get('B2')})\n",
    "\n",
    "# AWEI(自动水体提取指数): AWEIsh = B2 + 2.5B3 - 1.5(B5+B6) - 0.25B7\n",
    "def AWEIsh(image):\n",
    "    awei = image.expression('B2 + 2.5*B3 - 1.5*(B5+B6) - 0.25*B7',\n",
    "        {\n",
    "          'B2': image.select('B2'),\n",
    "          'B3': image.select('B3'),    \n",
    "          'B5': image.select('B5'),    \n",
    "          'B6': image.select('B6'),\n",
    "          'B7': image.select('B7'),\n",
    "        }).rename('AWEI')\n",
    "    return image.addBands(awei)"
   ]
  },
  {
   "cell_type": "code",
   "execution_count": 5,
   "metadata": {
    "ExecuteTime": {
     "end_time": "2021-05-07T01:35:03.689355Z",
     "start_time": "2021-05-07T01:35:03.659414Z"
    }
   },
   "outputs": [],
   "source": [
    "# roi = wuhan\n",
    "# landsat_images = ee.ImageCollection('LANDSAT/LC08/C01/T1_SR') \\\n",
    "#     .filterBounds(roi) \\\n",
    "#     .filterDate('2018-01-01', '2018-12-31') \\\n",
    "#     .map(maskL8sr) \\\n",
    "#     .map(ndvi_mndwi)\n",
    "# Map.addLayer(landsat_images.mosaic().clip(roi),visParams,'landsat image')"
   ]
  },
  {
   "cell_type": "code",
   "execution_count": 6,
   "metadata": {
    "ExecuteTime": {
     "end_time": "2021-05-07T01:35:03.795735Z",
     "start_time": "2021-05-07T01:35:03.735338Z"
    }
   },
   "outputs": [],
   "source": [
    "def landsatCollection(roi):\n",
    "    landsat_images = ee.ImageCollection('LANDSAT/LC08/C01/T1_SR') \\\n",
    "        .filterBounds(roi) \\\n",
    "        .filterDate('2018-01-01', '2018-12-31') \\\n",
    "        .map(maskL8sr) \\\n",
    "        .map(ndvi_mndwi)\n",
    "    return landsat_images"
   ]
  },
  {
   "cell_type": "markdown",
   "metadata": {},
   "source": [
    "# 筛选得出采样影像"
   ]
  },
  {
   "cell_type": "code",
   "execution_count": 7,
   "metadata": {
    "ExecuteTime": {
     "end_time": "2021-05-07T01:35:03.890049Z",
     "start_time": "2021-05-07T01:35:03.859454Z"
    }
   },
   "outputs": [],
   "source": [
    "def sample_image(roi):\n",
    "    image = landsatCollection(roi).mosaic().clip(roi)\n",
    "    image_area = image.select('B2').gt(0).multiply(ee.Image.pixelArea()).divide(1e6)\n",
    "    areas = image_area.reduceRegion(**{\n",
    "        'reducer': ee.Reducer.sum(),\n",
    "        'geometry': roi,\n",
    "        'scale': 30,\n",
    "        'maxPixels': 1e14\n",
    "    })\n",
    "    # 筛选影像，影像覆盖研究区的范围 > 研究区的1/10\n",
    "    sampleImage = landsatCollection(roi).map(area_after_clip).filter(ee.Filter.gt('area',ee.Number(areas.get('B2')).divide(ee.Number(10))))\n",
    "    return sampleImage"
   ]
  },
  {
   "cell_type": "code",
   "execution_count": 8,
   "metadata": {
    "ExecuteTime": {
     "end_time": "2021-05-07T01:35:03.968053Z",
     "start_time": "2021-05-07T01:35:03.938607Z"
    }
   },
   "outputs": [],
   "source": [
    "# roi = wuhan\n",
    "# sam_image = sample_image(roi)\n",
    "# dates = sam_image.aggregate_array('system:time_start').map(lambda d: ee.Date(d).format('YYYY-MM-dd'))\n",
    "# print(sam_image.size().getInfo())\n",
    "# print(dates.getInfo())"
   ]
  },
  {
   "cell_type": "code",
   "execution_count": 9,
   "metadata": {
    "ExecuteTime": {
     "end_time": "2021-05-07T01:35:04.046074Z",
     "start_time": "2021-05-07T01:35:04.015837Z"
    }
   },
   "outputs": [],
   "source": [
    "def waterfrequency(roi):\n",
    "    basemap = ee.Image.constant(0).clip(roi).rename('waterclass')\n",
    "    water_layer = landsatCollection(roi).map(lambda i : i.select('ndvi_mndwi').lt(0)).sum()\n",
    "    validPixel_layer = landsatCollection(roi).count().select('B3').clip(roi).rename('count')\n",
    "    index_waterfrequency = water_layer.select('ndvi_mndwi').divide(validPixel_layer.select('count')).select('ndvi_mndwi').rename('frequency')\n",
    "    index_permanent = index_waterfrequency.gte(0.75).remap([0,1],[0,2]).rename('waterclass')\n",
    "    index_season= ee.ImageCollection([index_waterfrequency.gte(0.25),index_waterfrequency.lt(0.75)]).sum().eq(2).rename('waterclass')\n",
    "    index_waterclass = ee.ImageCollection([index_permanent,index_season,basemap]).sum()\n",
    "    # JRC frequency\n",
    "    basemap = ee.Image.constant(0).clip(roi).rename('waterclass')\n",
    "    JRC_2018 = ee.Image(\"JRC/GSW1_2/YearlyHistory/2018\").clip(roi).remap([0,1,2,3],[0,0,1,2]).rename('waterclass')\n",
    "    JRC_waterclass = ee.ImageCollection([JRC_2018,basemap]).sum()\n",
    "    # 交集数据部分\n",
    "    permanentWaterExtent_one = ee.ImageCollection([index_waterclass.eq(2),JRC_waterclass.eq(2)]).sum().eq(2)\n",
    "    permanentWaterExtent = permanentWaterExtent_one.rename('permanent')\n",
    "    landExtent_one = ee.ImageCollection([index_waterclass.eq(0),JRC_waterclass.eq(0)]).sum().eq(2)     \n",
    "    landExtent = landExtent_one.rename('land')    \n",
    "    seasonWaterExtent = ee.ImageCollection([permanentWaterExtent_one,landExtent_one]).sum().remap([0,1],[1,0]).rename('waterclass').rename('season')\n",
    "    return permanentWaterExtent.addBands(landExtent).addBands(seasonWaterExtent)"
   ]
  },
  {
   "cell_type": "code",
   "execution_count": 10,
   "metadata": {
    "ExecuteTime": {
     "end_time": "2021-05-07T01:35:04.929043Z",
     "start_time": "2021-05-07T01:35:04.093859Z"
    }
   },
   "outputs": [
    {
     "name": "stdout",
     "output_type": "stream",
     "text": [
      "{'type': 'Image', 'bands': [{'id': 'permanent', 'data_type': {'type': 'PixelType', 'precision': 'int', 'min': 0, 'max': 1}, 'crs': 'EPSG:4326', 'crs_transform': [1, 0, 0, 0, 1, 0]}, {'id': 'land', 'data_type': {'type': 'PixelType', 'precision': 'int', 'min': 0, 'max': 1}, 'crs': 'EPSG:4326', 'crs_transform': [1, 0, 0, 0, 1, 0]}, {'id': 'season', 'data_type': {'type': 'PixelType', 'precision': 'int', 'min': 0, 'max': 1}, 'crs': 'EPSG:4326', 'crs_transform': [1, 0, 0, 0, 1, 0]}]}\n"
     ]
    }
   ],
   "source": [
    "a = waterfrequency(wuhan)\n",
    "print(a.getInfo())"
   ]
  },
  {
   "cell_type": "code",
   "execution_count": 11,
   "metadata": {
    "ExecuteTime": {
     "end_time": "2021-05-07T01:35:05.702940Z",
     "start_time": "2021-05-07T01:35:05.687857Z"
    }
   },
   "outputs": [],
   "source": [
    "# wuhan = waterfrequency(roi)\n",
    "# Map.addLayer(wuhan.select('permanent'),{'min':0,'max':1,'palette':['white','blue']},'permanent')\n",
    "# Map.addLayer(wuhan.select('land'),{'min':0,'max':1,'palette':['white','blue']},'permanent')"
   ]
  },
  {
   "cell_type": "code",
   "execution_count": 12,
   "metadata": {
    "ExecuteTime": {
     "end_time": "2021-05-07T01:35:06.543244Z",
     "start_time": "2021-05-07T01:35:06.529023Z"
    }
   },
   "outputs": [],
   "source": [
    "# RandomForest预测使用的波段\n",
    "bands = ['B2', 'B3', 'B4', 'B5', 'B6', 'B7','NDVI','mNDWI','ndvi_mndwi','class_ndvi_mndwi','class_mndwi']\n",
    "# 分类标签\n",
    "label = 'waterclass'\n",
    "\n",
    "def imageSample(image):\n",
    "    waterFrequency = waterfrequency(roi)\n",
    "    permanentWaterExtent = waterFrequency.select('permanent').rename('waterclass')\n",
    "    seasonWaterExtent = waterFrequency.select('season').rename('waterclass')   \n",
    "    landExtent = waterFrequency.select('land').rename('waterclass')\n",
    "    permanent = permanentWaterExtent.clip(image.geometry()).selfMask()\n",
    "    season = AWEIsh(image.clip(roi).updateMask(seasonWaterExtent)).select('AWEI').gt(0).rename('waterclass')\n",
    "    land = landExtent.clip(image.geometry()).selfMask().remap([1],[0]).rename('waterclass')\n",
    "    points_permanentwater = permanent.sample(**{\n",
    "        'region': roi,\n",
    "        'scale': 30,\n",
    "        'numPixels': 200,\n",
    "        'seed': 0,\n",
    "        'geometries': True  # Set this to False to ignore geometries\n",
    "    })\n",
    "    points_seasonalwater = season.sample(**{\n",
    "        'region': roi,\n",
    "        'scale': 30,\n",
    "        'numPixels': 200,\n",
    "        'seed': 0,\n",
    "        'geometries': True  # Set this to False to ignore geometries\n",
    "    })\n",
    "    points_land = land.sample(**{\n",
    "        'region': roi,\n",
    "        'scale': 30,\n",
    "        'numPixels': 100,\n",
    "        'seed': 0,\n",
    "        'geometries': True  # Set this to False to ignore geometries\n",
    "    })\n",
    "    all_points = points_permanentwater.merge(points_seasonalwater).merge(points_land)\n",
    "    sample_points = image.select(bands).sampleRegions(**{\n",
    "        'collection': all_points,\n",
    "        'properties': [label],\n",
    "        'scale': 30\n",
    "    })\n",
    "    return sample_points"
   ]
  },
  {
   "cell_type": "code",
   "execution_count": 13,
   "metadata": {
    "ExecuteTime": {
     "end_time": "2021-05-07T01:35:07.379327Z",
     "start_time": "2021-05-07T01:35:07.364090Z"
    }
   },
   "outputs": [],
   "source": [
    "# # 简介版\n",
    "# roi = wuhan\n",
    "# wuhan_pointsCollection = sample_image(roi).map(imageSample).flatten()\n",
    "\n",
    "# roi = nanjing\n",
    "# nanjing_pointsCollection = sample_image(roi).map(imageSample).flatten()\n",
    "\n",
    "# roi = chengdu\n",
    "# chengdu_pointsCollection = sample_image(roi).map(imageSample).flatten()\n",
    "\n",
    "# roi = kunming\n",
    "# kunming_pointsCollection = sample_image(roi).map(imageSample).flatten()\n",
    "\n",
    "# pointsCollection = wuhan_pointsCollection.merge(nanjing_pointsCollection)\n",
    "# pointsCollection2 = pointsCollection.merge(chengdu_pointsCollection)\n",
    "# pointsCollection3 = pointsCollection2.merge(kunming_pointsCollection)\n",
    "# print(pointsCollection3.size().getInfo())\n",
    "# samplepoint_water = pointsCollection3.filter(ee.Filter.eq('waterclass',1))\n",
    "# print('water sample number:{}'.format(samplepoint_water.size().getInfo()))"
   ]
  },
  {
   "cell_type": "code",
   "execution_count": 14,
   "metadata": {
    "ExecuteTime": {
     "end_time": "2021-05-07T01:36:41.482502Z",
     "start_time": "2021-05-07T01:35:08.138402Z"
    }
   },
   "outputs": [
    {
     "name": "stdout",
     "output_type": "stream",
     "text": [
      "total sample number:1637\n",
      "water sample number:324\n"
     ]
    }
   ],
   "source": [
    "roi = wuhan\n",
    "# 总的样本点数\n",
    "wuhan_pointsCollection = sample_image(roi).map(imageSample).flatten()\n",
    "\n",
    "print('total sample number:{}'.format(wuhan_pointsCollection.size().getInfo()))\n",
    "# 水体的样本点数\n",
    "wuhan_samplepoint_water = wuhan_pointsCollection.filter(ee.Filter.eq('waterclass',1))\n",
    "print('water sample number:{}'.format(wuhan_samplepoint_water.size().getInfo()))"
   ]
  },
  {
   "cell_type": "code",
   "execution_count": 15,
   "metadata": {
    "ExecuteTime": {
     "end_time": "2021-05-07T02:01:10.108774Z",
     "start_time": "2021-05-07T01:56:09.656616Z"
    }
   },
   "outputs": [
    {
     "ename": "ProxyError",
     "evalue": "('Cannot connect to proxy.', RemoteDisconnected('Remote end closed connection without response'))",
     "output_type": "error",
     "traceback": [
      "\u001b[1;31m---------------------------------------------------------------------------\u001b[0m",
      "\u001b[1;31mRemoteDisconnected\u001b[0m                        Traceback (most recent call last)",
      "\u001b[1;32mD:\\ProgramData\\Anaconda3\\envs\\gee\\lib\\site-packages\\urllib3\\connectionpool.py\u001b[0m in \u001b[0;36murlopen\u001b[1;34m(self, method, url, body, headers, retries, redirect, assert_same_host, timeout, pool_timeout, release_conn, chunked, body_pos, **response_kw)\u001b[0m\n\u001b[0;32m    669\u001b[0m             \u001b[1;31m# Make the request on the httplib connection object.\u001b[0m\u001b[1;33m\u001b[0m\u001b[1;33m\u001b[0m\u001b[1;33m\u001b[0m\u001b[0m\n\u001b[1;32m--> 670\u001b[1;33m             httplib_response = self._make_request(\n\u001b[0m\u001b[0;32m    671\u001b[0m                 \u001b[0mconn\u001b[0m\u001b[1;33m,\u001b[0m\u001b[1;33m\u001b[0m\u001b[1;33m\u001b[0m\u001b[0m\n",
      "\u001b[1;32mD:\\ProgramData\\Anaconda3\\envs\\gee\\lib\\site-packages\\urllib3\\connectionpool.py\u001b[0m in \u001b[0;36m_make_request\u001b[1;34m(self, conn, method, url, timeout, chunked, **httplib_request_kw)\u001b[0m\n\u001b[0;32m    425\u001b[0m                     \u001b[1;31m# Otherwise it looks like a bug in the code.\u001b[0m\u001b[1;33m\u001b[0m\u001b[1;33m\u001b[0m\u001b[1;33m\u001b[0m\u001b[0m\n\u001b[1;32m--> 426\u001b[1;33m                     \u001b[0msix\u001b[0m\u001b[1;33m.\u001b[0m\u001b[0mraise_from\u001b[0m\u001b[1;33m(\u001b[0m\u001b[0me\u001b[0m\u001b[1;33m,\u001b[0m \u001b[1;32mNone\u001b[0m\u001b[1;33m)\u001b[0m\u001b[1;33m\u001b[0m\u001b[1;33m\u001b[0m\u001b[0m\n\u001b[0m\u001b[0;32m    427\u001b[0m         \u001b[1;32mexcept\u001b[0m \u001b[1;33m(\u001b[0m\u001b[0mSocketTimeout\u001b[0m\u001b[1;33m,\u001b[0m \u001b[0mBaseSSLError\u001b[0m\u001b[1;33m,\u001b[0m \u001b[0mSocketError\u001b[0m\u001b[1;33m)\u001b[0m \u001b[1;32mas\u001b[0m \u001b[0me\u001b[0m\u001b[1;33m:\u001b[0m\u001b[1;33m\u001b[0m\u001b[1;33m\u001b[0m\u001b[0m\n",
      "\u001b[1;32mD:\\ProgramData\\Anaconda3\\envs\\gee\\lib\\site-packages\\urllib3\\packages\\six.py\u001b[0m in \u001b[0;36mraise_from\u001b[1;34m(value, from_value)\u001b[0m\n",
      "\u001b[1;32mD:\\ProgramData\\Anaconda3\\envs\\gee\\lib\\site-packages\\urllib3\\connectionpool.py\u001b[0m in \u001b[0;36m_make_request\u001b[1;34m(self, conn, method, url, timeout, chunked, **httplib_request_kw)\u001b[0m\n\u001b[0;32m    420\u001b[0m                 \u001b[1;32mtry\u001b[0m\u001b[1;33m:\u001b[0m\u001b[1;33m\u001b[0m\u001b[1;33m\u001b[0m\u001b[0m\n\u001b[1;32m--> 421\u001b[1;33m                     \u001b[0mhttplib_response\u001b[0m \u001b[1;33m=\u001b[0m \u001b[0mconn\u001b[0m\u001b[1;33m.\u001b[0m\u001b[0mgetresponse\u001b[0m\u001b[1;33m(\u001b[0m\u001b[1;33m)\u001b[0m\u001b[1;33m\u001b[0m\u001b[1;33m\u001b[0m\u001b[0m\n\u001b[0m\u001b[0;32m    422\u001b[0m                 \u001b[1;32mexcept\u001b[0m \u001b[0mBaseException\u001b[0m \u001b[1;32mas\u001b[0m \u001b[0me\u001b[0m\u001b[1;33m:\u001b[0m\u001b[1;33m\u001b[0m\u001b[1;33m\u001b[0m\u001b[0m\n",
      "\u001b[1;32mD:\\ProgramData\\Anaconda3\\envs\\gee\\lib\\http\\client.py\u001b[0m in \u001b[0;36mgetresponse\u001b[1;34m(self)\u001b[0m\n\u001b[0;32m   1346\u001b[0m             \u001b[1;32mtry\u001b[0m\u001b[1;33m:\u001b[0m\u001b[1;33m\u001b[0m\u001b[1;33m\u001b[0m\u001b[0m\n\u001b[1;32m-> 1347\u001b[1;33m                 \u001b[0mresponse\u001b[0m\u001b[1;33m.\u001b[0m\u001b[0mbegin\u001b[0m\u001b[1;33m(\u001b[0m\u001b[1;33m)\u001b[0m\u001b[1;33m\u001b[0m\u001b[1;33m\u001b[0m\u001b[0m\n\u001b[0m\u001b[0;32m   1348\u001b[0m             \u001b[1;32mexcept\u001b[0m \u001b[0mConnectionError\u001b[0m\u001b[1;33m:\u001b[0m\u001b[1;33m\u001b[0m\u001b[1;33m\u001b[0m\u001b[0m\n",
      "\u001b[1;32mD:\\ProgramData\\Anaconda3\\envs\\gee\\lib\\http\\client.py\u001b[0m in \u001b[0;36mbegin\u001b[1;34m(self)\u001b[0m\n\u001b[0;32m    306\u001b[0m         \u001b[1;32mwhile\u001b[0m \u001b[1;32mTrue\u001b[0m\u001b[1;33m:\u001b[0m\u001b[1;33m\u001b[0m\u001b[1;33m\u001b[0m\u001b[0m\n\u001b[1;32m--> 307\u001b[1;33m             \u001b[0mversion\u001b[0m\u001b[1;33m,\u001b[0m \u001b[0mstatus\u001b[0m\u001b[1;33m,\u001b[0m \u001b[0mreason\u001b[0m \u001b[1;33m=\u001b[0m \u001b[0mself\u001b[0m\u001b[1;33m.\u001b[0m\u001b[0m_read_status\u001b[0m\u001b[1;33m(\u001b[0m\u001b[1;33m)\u001b[0m\u001b[1;33m\u001b[0m\u001b[1;33m\u001b[0m\u001b[0m\n\u001b[0m\u001b[0;32m    308\u001b[0m             \u001b[1;32mif\u001b[0m \u001b[0mstatus\u001b[0m \u001b[1;33m!=\u001b[0m \u001b[0mCONTINUE\u001b[0m\u001b[1;33m:\u001b[0m\u001b[1;33m\u001b[0m\u001b[1;33m\u001b[0m\u001b[0m\n",
      "\u001b[1;32mD:\\ProgramData\\Anaconda3\\envs\\gee\\lib\\http\\client.py\u001b[0m in \u001b[0;36m_read_status\u001b[1;34m(self)\u001b[0m\n\u001b[0;32m    275\u001b[0m             \u001b[1;31m# sending a valid response.\u001b[0m\u001b[1;33m\u001b[0m\u001b[1;33m\u001b[0m\u001b[1;33m\u001b[0m\u001b[0m\n\u001b[1;32m--> 276\u001b[1;33m             raise RemoteDisconnected(\"Remote end closed connection without\"\n\u001b[0m\u001b[0;32m    277\u001b[0m                                      \" response\")\n",
      "\u001b[1;31mRemoteDisconnected\u001b[0m: Remote end closed connection without response",
      "\nDuring handling of the above exception, another exception occurred:\n",
      "\u001b[1;31mProxyError\u001b[0m                                Traceback (most recent call last)",
      "\u001b[1;32m<ipython-input-15-d17cb90dcf7c>\u001b[0m in \u001b[0;36m<module>\u001b[1;34m\u001b[0m\n\u001b[0;32m      2\u001b[0m \u001b[1;31m# 总的样本点数\u001b[0m\u001b[1;33m\u001b[0m\u001b[1;33m\u001b[0m\u001b[1;33m\u001b[0m\u001b[0m\n\u001b[0;32m      3\u001b[0m \u001b[0mnanjing_pointsCollection\u001b[0m \u001b[1;33m=\u001b[0m \u001b[0msample_image\u001b[0m\u001b[1;33m(\u001b[0m\u001b[0mroi\u001b[0m\u001b[1;33m)\u001b[0m\u001b[1;33m.\u001b[0m\u001b[0mmap\u001b[0m\u001b[1;33m(\u001b[0m\u001b[0mimageSample\u001b[0m\u001b[1;33m)\u001b[0m\u001b[1;33m.\u001b[0m\u001b[0mflatten\u001b[0m\u001b[1;33m(\u001b[0m\u001b[1;33m)\u001b[0m\u001b[1;33m\u001b[0m\u001b[1;33m\u001b[0m\u001b[0m\n\u001b[1;32m----> 4\u001b[1;33m \u001b[0mprint\u001b[0m\u001b[1;33m(\u001b[0m\u001b[1;34m'total sample number:{}'\u001b[0m\u001b[1;33m.\u001b[0m\u001b[0mformat\u001b[0m\u001b[1;33m(\u001b[0m\u001b[0mnanjing_pointsCollection\u001b[0m\u001b[1;33m.\u001b[0m\u001b[0msize\u001b[0m\u001b[1;33m(\u001b[0m\u001b[1;33m)\u001b[0m\u001b[1;33m.\u001b[0m\u001b[0mgetInfo\u001b[0m\u001b[1;33m(\u001b[0m\u001b[1;33m)\u001b[0m\u001b[1;33m)\u001b[0m\u001b[1;33m)\u001b[0m\u001b[1;33m\u001b[0m\u001b[1;33m\u001b[0m\u001b[0m\n\u001b[0m\u001b[0;32m      5\u001b[0m \u001b[1;33m\u001b[0m\u001b[0m\n\u001b[0;32m      6\u001b[0m \u001b[1;31m# 水体的样本点数\u001b[0m\u001b[1;33m\u001b[0m\u001b[1;33m\u001b[0m\u001b[1;33m\u001b[0m\u001b[0m\n",
      "\u001b[1;32mD:\\ProgramData\\Anaconda3\\envs\\gee\\lib\\site-packages\\ee\\computedobject.py\u001b[0m in \u001b[0;36mgetInfo\u001b[1;34m(self)\u001b[0m\n\u001b[0;32m     93\u001b[0m       \u001b[0mThe\u001b[0m \u001b[0mobject\u001b[0m \u001b[0mcan\u001b[0m \u001b[0mevaluate\u001b[0m \u001b[0mto\u001b[0m \u001b[0manything\u001b[0m\u001b[1;33m.\u001b[0m\u001b[1;33m\u001b[0m\u001b[1;33m\u001b[0m\u001b[0m\n\u001b[0;32m     94\u001b[0m     \"\"\"\n\u001b[1;32m---> 95\u001b[1;33m     \u001b[1;32mreturn\u001b[0m \u001b[0mdata\u001b[0m\u001b[1;33m.\u001b[0m\u001b[0mcomputeValue\u001b[0m\u001b[1;33m(\u001b[0m\u001b[0mself\u001b[0m\u001b[1;33m)\u001b[0m\u001b[1;33m\u001b[0m\u001b[1;33m\u001b[0m\u001b[0m\n\u001b[0m\u001b[0;32m     96\u001b[0m \u001b[1;33m\u001b[0m\u001b[0m\n\u001b[0;32m     97\u001b[0m   \u001b[1;32mdef\u001b[0m \u001b[0mencode\u001b[0m\u001b[1;33m(\u001b[0m\u001b[0mself\u001b[0m\u001b[1;33m,\u001b[0m \u001b[0mencoder\u001b[0m\u001b[1;33m)\u001b[0m\u001b[1;33m:\u001b[0m\u001b[1;33m\u001b[0m\u001b[1;33m\u001b[0m\u001b[0m\n",
      "\u001b[1;32mD:\\ProgramData\\Anaconda3\\envs\\gee\\lib\\site-packages\\ee\\data.py\u001b[0m in \u001b[0;36mcomputeValue\u001b[1;34m(obj)\u001b[0m\n\u001b[0;32m    704\u001b[0m   \"\"\"\n\u001b[0;32m    705\u001b[0m   \u001b[1;32mif\u001b[0m \u001b[0m_use_cloud_api\u001b[0m\u001b[1;33m:\u001b[0m\u001b[1;33m\u001b[0m\u001b[1;33m\u001b[0m\u001b[0m\n\u001b[1;32m--> 706\u001b[1;33m     return _execute_cloud_call(\n\u001b[0m\u001b[0;32m    707\u001b[0m         _get_cloud_api_resource().projects().value().compute(\n\u001b[0;32m    708\u001b[0m             \u001b[0mbody\u001b[0m\u001b[1;33m=\u001b[0m\u001b[1;33m{\u001b[0m\u001b[1;34m'expression'\u001b[0m\u001b[1;33m:\u001b[0m \u001b[0mserializer\u001b[0m\u001b[1;33m.\u001b[0m\u001b[0mencode\u001b[0m\u001b[1;33m(\u001b[0m\u001b[0mobj\u001b[0m\u001b[1;33m,\u001b[0m \u001b[0mfor_cloud_api\u001b[0m\u001b[1;33m=\u001b[0m\u001b[1;32mTrue\u001b[0m\u001b[1;33m)\u001b[0m\u001b[1;33m}\u001b[0m\u001b[1;33m,\u001b[0m\u001b[1;33m\u001b[0m\u001b[1;33m\u001b[0m\u001b[0m\n",
      "\u001b[1;32mD:\\ProgramData\\Anaconda3\\envs\\gee\\lib\\site-packages\\ee\\data.py\u001b[0m in \u001b[0;36m_execute_cloud_call\u001b[1;34m(call, num_retries)\u001b[0m\n\u001b[0;32m    343\u001b[0m   \"\"\"\n\u001b[0;32m    344\u001b[0m   \u001b[1;32mtry\u001b[0m\u001b[1;33m:\u001b[0m\u001b[1;33m\u001b[0m\u001b[1;33m\u001b[0m\u001b[0m\n\u001b[1;32m--> 345\u001b[1;33m     \u001b[1;32mreturn\u001b[0m \u001b[0mcall\u001b[0m\u001b[1;33m.\u001b[0m\u001b[0mexecute\u001b[0m\u001b[1;33m(\u001b[0m\u001b[0mnum_retries\u001b[0m\u001b[1;33m=\u001b[0m\u001b[0mnum_retries\u001b[0m\u001b[1;33m)\u001b[0m\u001b[1;33m\u001b[0m\u001b[1;33m\u001b[0m\u001b[0m\n\u001b[0m\u001b[0;32m    346\u001b[0m   \u001b[1;32mexcept\u001b[0m \u001b[0mgoogleapiclient\u001b[0m\u001b[1;33m.\u001b[0m\u001b[0merrors\u001b[0m\u001b[1;33m.\u001b[0m\u001b[0mHttpError\u001b[0m \u001b[1;32mas\u001b[0m \u001b[0me\u001b[0m\u001b[1;33m:\u001b[0m\u001b[1;33m\u001b[0m\u001b[1;33m\u001b[0m\u001b[0m\n\u001b[0;32m    347\u001b[0m     \u001b[1;32mraise\u001b[0m \u001b[0m_translate_cloud_exception\u001b[0m\u001b[1;33m(\u001b[0m\u001b[0me\u001b[0m\u001b[1;33m)\u001b[0m\u001b[1;33m\u001b[0m\u001b[1;33m\u001b[0m\u001b[0m\n",
      "\u001b[1;32mD:\\ProgramData\\Anaconda3\\envs\\gee\\lib\\site-packages\\googleapiclient\\_helpers.py\u001b[0m in \u001b[0;36mpositional_wrapper\u001b[1;34m(*args, **kwargs)\u001b[0m\n\u001b[0;32m    132\u001b[0m                 \u001b[1;32melif\u001b[0m \u001b[0mpositional_parameters_enforcement\u001b[0m \u001b[1;33m==\u001b[0m \u001b[0mPOSITIONAL_WARNING\u001b[0m\u001b[1;33m:\u001b[0m\u001b[1;33m\u001b[0m\u001b[1;33m\u001b[0m\u001b[0m\n\u001b[0;32m    133\u001b[0m                     \u001b[0mlogger\u001b[0m\u001b[1;33m.\u001b[0m\u001b[0mwarning\u001b[0m\u001b[1;33m(\u001b[0m\u001b[0mmessage\u001b[0m\u001b[1;33m)\u001b[0m\u001b[1;33m\u001b[0m\u001b[1;33m\u001b[0m\u001b[0m\n\u001b[1;32m--> 134\u001b[1;33m             \u001b[1;32mreturn\u001b[0m \u001b[0mwrapped\u001b[0m\u001b[1;33m(\u001b[0m\u001b[1;33m*\u001b[0m\u001b[0margs\u001b[0m\u001b[1;33m,\u001b[0m \u001b[1;33m**\u001b[0m\u001b[0mkwargs\u001b[0m\u001b[1;33m)\u001b[0m\u001b[1;33m\u001b[0m\u001b[1;33m\u001b[0m\u001b[0m\n\u001b[0m\u001b[0;32m    135\u001b[0m \u001b[1;33m\u001b[0m\u001b[0m\n\u001b[0;32m    136\u001b[0m         \u001b[1;32mreturn\u001b[0m \u001b[0mpositional_wrapper\u001b[0m\u001b[1;33m\u001b[0m\u001b[1;33m\u001b[0m\u001b[0m\n",
      "\u001b[1;32mD:\\ProgramData\\Anaconda3\\envs\\gee\\lib\\site-packages\\googleapiclient\\http.py\u001b[0m in \u001b[0;36mexecute\u001b[1;34m(self, http, num_retries)\u001b[0m\n\u001b[0;32m    890\u001b[0m \u001b[1;33m\u001b[0m\u001b[0m\n\u001b[0;32m    891\u001b[0m         \u001b[1;31m# Handle retries for server-side errors.\u001b[0m\u001b[1;33m\u001b[0m\u001b[1;33m\u001b[0m\u001b[1;33m\u001b[0m\u001b[0m\n\u001b[1;32m--> 892\u001b[1;33m         resp, content = _retry_request(\n\u001b[0m\u001b[0;32m    893\u001b[0m             \u001b[0mhttp\u001b[0m\u001b[1;33m,\u001b[0m\u001b[1;33m\u001b[0m\u001b[1;33m\u001b[0m\u001b[0m\n\u001b[0;32m    894\u001b[0m             \u001b[0mnum_retries\u001b[0m\u001b[1;33m,\u001b[0m\u001b[1;33m\u001b[0m\u001b[1;33m\u001b[0m\u001b[0m\n",
      "\u001b[1;32mD:\\ProgramData\\Anaconda3\\envs\\gee\\lib\\site-packages\\googleapiclient\\http.py\u001b[0m in \u001b[0;36m_retry_request\u001b[1;34m(http, num_retries, req_type, sleep, rand, uri, method, *args, **kwargs)\u001b[0m\n\u001b[0;32m    175\u001b[0m         \u001b[1;32mtry\u001b[0m\u001b[1;33m:\u001b[0m\u001b[1;33m\u001b[0m\u001b[1;33m\u001b[0m\u001b[0m\n\u001b[0;32m    176\u001b[0m             \u001b[0mexception\u001b[0m \u001b[1;33m=\u001b[0m \u001b[1;32mNone\u001b[0m\u001b[1;33m\u001b[0m\u001b[1;33m\u001b[0m\u001b[0m\n\u001b[1;32m--> 177\u001b[1;33m             \u001b[0mresp\u001b[0m\u001b[1;33m,\u001b[0m \u001b[0mcontent\u001b[0m \u001b[1;33m=\u001b[0m \u001b[0mhttp\u001b[0m\u001b[1;33m.\u001b[0m\u001b[0mrequest\u001b[0m\u001b[1;33m(\u001b[0m\u001b[0muri\u001b[0m\u001b[1;33m,\u001b[0m \u001b[0mmethod\u001b[0m\u001b[1;33m,\u001b[0m \u001b[1;33m*\u001b[0m\u001b[0margs\u001b[0m\u001b[1;33m,\u001b[0m \u001b[1;33m**\u001b[0m\u001b[0mkwargs\u001b[0m\u001b[1;33m)\u001b[0m\u001b[1;33m\u001b[0m\u001b[1;33m\u001b[0m\u001b[0m\n\u001b[0m\u001b[0;32m    178\u001b[0m         \u001b[1;31m# Retry on SSL errors and socket timeout errors.\u001b[0m\u001b[1;33m\u001b[0m\u001b[1;33m\u001b[0m\u001b[1;33m\u001b[0m\u001b[0m\n\u001b[0;32m    179\u001b[0m         \u001b[1;32mexcept\u001b[0m \u001b[0m_ssl_SSLError\u001b[0m \u001b[1;32mas\u001b[0m \u001b[0mssl_error\u001b[0m\u001b[1;33m:\u001b[0m\u001b[1;33m\u001b[0m\u001b[1;33m\u001b[0m\u001b[0m\n",
      "\u001b[1;32mD:\\ProgramData\\Anaconda3\\envs\\gee\\lib\\site-packages\\google_auth_httplib2.py\u001b[0m in \u001b[0;36mrequest\u001b[1;34m(self, uri, method, body, headers, **kwargs)\u001b[0m\n\u001b[0;32m    195\u001b[0m \u001b[1;33m\u001b[0m\u001b[0m\n\u001b[0;32m    196\u001b[0m         \u001b[1;31m# Make the request.\u001b[0m\u001b[1;33m\u001b[0m\u001b[1;33m\u001b[0m\u001b[1;33m\u001b[0m\u001b[0m\n\u001b[1;32m--> 197\u001b[1;33m         response, content = self.http.request(\n\u001b[0m\u001b[0;32m    198\u001b[0m             uri, method, body=body, headers=request_headers, **kwargs)\n\u001b[0;32m    199\u001b[0m \u001b[1;33m\u001b[0m\u001b[0m\n",
      "\u001b[1;32mD:\\ProgramData\\Anaconda3\\envs\\gee\\lib\\site-packages\\httplib2\\__init__.py\u001b[0m in \u001b[0;36mrequest\u001b[1;34m(self, uri, method, body, headers, redirections, connection_type)\u001b[0m\n\u001b[0;32m   1983\u001b[0m                     \u001b[0mcontent\u001b[0m \u001b[1;33m=\u001b[0m \u001b[1;34mb\"\"\u001b[0m\u001b[1;33m\u001b[0m\u001b[1;33m\u001b[0m\u001b[0m\n\u001b[0;32m   1984\u001b[0m                 \u001b[1;32melse\u001b[0m\u001b[1;33m:\u001b[0m\u001b[1;33m\u001b[0m\u001b[1;33m\u001b[0m\u001b[0m\n\u001b[1;32m-> 1985\u001b[1;33m                     (response, content) = self._request(\n\u001b[0m\u001b[0;32m   1986\u001b[0m                         \u001b[0mconn\u001b[0m\u001b[1;33m,\u001b[0m\u001b[1;33m\u001b[0m\u001b[1;33m\u001b[0m\u001b[0m\n\u001b[0;32m   1987\u001b[0m                         \u001b[0mauthority\u001b[0m\u001b[1;33m,\u001b[0m\u001b[1;33m\u001b[0m\u001b[1;33m\u001b[0m\u001b[0m\n",
      "\u001b[1;32mD:\\ProgramData\\Anaconda3\\envs\\gee\\lib\\site-packages\\httplib2\\__init__.py\u001b[0m in \u001b[0;36m_request\u001b[1;34m(self, conn, host, absolute_uri, request_uri, method, body, headers, redirections, cachekey)\u001b[0m\n\u001b[0;32m   1648\u001b[0m             \u001b[0mauth\u001b[0m\u001b[1;33m.\u001b[0m\u001b[0mrequest\u001b[0m\u001b[1;33m(\u001b[0m\u001b[0mmethod\u001b[0m\u001b[1;33m,\u001b[0m \u001b[0mrequest_uri\u001b[0m\u001b[1;33m,\u001b[0m \u001b[0mheaders\u001b[0m\u001b[1;33m,\u001b[0m \u001b[0mbody\u001b[0m\u001b[1;33m)\u001b[0m\u001b[1;33m\u001b[0m\u001b[1;33m\u001b[0m\u001b[0m\n\u001b[0;32m   1649\u001b[0m \u001b[1;33m\u001b[0m\u001b[0m\n\u001b[1;32m-> 1650\u001b[1;33m         (response, content) = self._conn_request(\n\u001b[0m\u001b[0;32m   1651\u001b[0m             \u001b[0mconn\u001b[0m\u001b[1;33m,\u001b[0m \u001b[0mrequest_uri\u001b[0m\u001b[1;33m,\u001b[0m \u001b[0mmethod\u001b[0m\u001b[1;33m,\u001b[0m \u001b[0mbody\u001b[0m\u001b[1;33m,\u001b[0m \u001b[0mheaders\u001b[0m\u001b[1;33m\u001b[0m\u001b[1;33m\u001b[0m\u001b[0m\n\u001b[0;32m   1652\u001b[0m         )\n",
      "\u001b[1;32mD:\\ProgramData\\Anaconda3\\envs\\gee\\lib\\site-packages\\httplib2shim\\__init__.py\u001b[0m in \u001b[0;36m_conn_request\u001b[1;34m(self, conn, request_uri, method, body, headers)\u001b[0m\n\u001b[0;32m    152\u001b[0m \u001b[1;33m\u001b[0m\u001b[0m\n\u001b[0;32m    153\u001b[0m         \u001b[1;32mexcept\u001b[0m \u001b[0mException\u001b[0m \u001b[1;32mas\u001b[0m \u001b[0me\u001b[0m\u001b[1;33m:\u001b[0m\u001b[1;33m\u001b[0m\u001b[1;33m\u001b[0m\u001b[0m\n\u001b[1;32m--> 154\u001b[1;33m             \u001b[1;32mraise\u001b[0m \u001b[0m_map_exception\u001b[0m\u001b[1;33m(\u001b[0m\u001b[0me\u001b[0m\u001b[1;33m)\u001b[0m\u001b[1;33m\u001b[0m\u001b[1;33m\u001b[0m\u001b[0m\n\u001b[0m\u001b[0;32m    155\u001b[0m \u001b[1;33m\u001b[0m\u001b[0m\n\u001b[0;32m    156\u001b[0m         \u001b[1;32mreturn\u001b[0m \u001b[0mresponse\u001b[0m\u001b[1;33m,\u001b[0m \u001b[0mcontent\u001b[0m\u001b[1;33m\u001b[0m\u001b[1;33m\u001b[0m\u001b[0m\n",
      "\u001b[1;32mD:\\ProgramData\\Anaconda3\\envs\\gee\\lib\\site-packages\\httplib2shim\\__init__.py\u001b[0m in \u001b[0;36m_conn_request\u001b[1;34m(self, conn, request_uri, method, body, headers)\u001b[0m\n\u001b[0;32m    138\u001b[0m \u001b[1;33m\u001b[0m\u001b[0m\n\u001b[0;32m    139\u001b[0m         \u001b[1;32mtry\u001b[0m\u001b[1;33m:\u001b[0m\u001b[1;33m\u001b[0m\u001b[1;33m\u001b[0m\u001b[0m\n\u001b[1;32m--> 140\u001b[1;33m             urllib3_response = self.pool.request(\n\u001b[0m\u001b[0;32m    141\u001b[0m                 \u001b[0mmethod\u001b[0m\u001b[1;33m,\u001b[0m\u001b[1;33m\u001b[0m\u001b[1;33m\u001b[0m\u001b[0m\n\u001b[0;32m    142\u001b[0m                 \u001b[0mfull_uri\u001b[0m\u001b[1;33m,\u001b[0m\u001b[1;33m\u001b[0m\u001b[1;33m\u001b[0m\u001b[0m\n",
      "\u001b[1;32mD:\\ProgramData\\Anaconda3\\envs\\gee\\lib\\site-packages\\urllib3\\request.py\u001b[0m in \u001b[0;36mrequest\u001b[1;34m(self, method, url, fields, headers, **urlopen_kw)\u001b[0m\n\u001b[0;32m     77\u001b[0m             )\n\u001b[0;32m     78\u001b[0m         \u001b[1;32melse\u001b[0m\u001b[1;33m:\u001b[0m\u001b[1;33m\u001b[0m\u001b[1;33m\u001b[0m\u001b[0m\n\u001b[1;32m---> 79\u001b[1;33m             return self.request_encode_body(\n\u001b[0m\u001b[0;32m     80\u001b[0m                 \u001b[0mmethod\u001b[0m\u001b[1;33m,\u001b[0m \u001b[0murl\u001b[0m\u001b[1;33m,\u001b[0m \u001b[0mfields\u001b[0m\u001b[1;33m=\u001b[0m\u001b[0mfields\u001b[0m\u001b[1;33m,\u001b[0m \u001b[0mheaders\u001b[0m\u001b[1;33m=\u001b[0m\u001b[0mheaders\u001b[0m\u001b[1;33m,\u001b[0m \u001b[1;33m**\u001b[0m\u001b[0murlopen_kw\u001b[0m\u001b[1;33m\u001b[0m\u001b[1;33m\u001b[0m\u001b[0m\n\u001b[0;32m     81\u001b[0m             )\n",
      "\u001b[1;32mD:\\ProgramData\\Anaconda3\\envs\\gee\\lib\\site-packages\\urllib3\\request.py\u001b[0m in \u001b[0;36mrequest_encode_body\u001b[1;34m(self, method, url, fields, headers, encode_multipart, multipart_boundary, **urlopen_kw)\u001b[0m\n\u001b[0;32m    169\u001b[0m         \u001b[0mextra_kw\u001b[0m\u001b[1;33m.\u001b[0m\u001b[0mupdate\u001b[0m\u001b[1;33m(\u001b[0m\u001b[0murlopen_kw\u001b[0m\u001b[1;33m)\u001b[0m\u001b[1;33m\u001b[0m\u001b[1;33m\u001b[0m\u001b[0m\n\u001b[0;32m    170\u001b[0m \u001b[1;33m\u001b[0m\u001b[0m\n\u001b[1;32m--> 171\u001b[1;33m         \u001b[1;32mreturn\u001b[0m \u001b[0mself\u001b[0m\u001b[1;33m.\u001b[0m\u001b[0murlopen\u001b[0m\u001b[1;33m(\u001b[0m\u001b[0mmethod\u001b[0m\u001b[1;33m,\u001b[0m \u001b[0murl\u001b[0m\u001b[1;33m,\u001b[0m \u001b[1;33m**\u001b[0m\u001b[0mextra_kw\u001b[0m\u001b[1;33m)\u001b[0m\u001b[1;33m\u001b[0m\u001b[1;33m\u001b[0m\u001b[0m\n\u001b[0m",
      "\u001b[1;32mD:\\ProgramData\\Anaconda3\\envs\\gee\\lib\\site-packages\\urllib3\\poolmanager.py\u001b[0m in \u001b[0;36murlopen\u001b[1;34m(self, method, url, redirect, **kw)\u001b[0m\n\u001b[0;32m    486\u001b[0m             \u001b[0mkw\u001b[0m\u001b[1;33m[\u001b[0m\u001b[1;34m\"headers\"\u001b[0m\u001b[1;33m]\u001b[0m \u001b[1;33m=\u001b[0m \u001b[0mself\u001b[0m\u001b[1;33m.\u001b[0m\u001b[0m_set_proxy_headers\u001b[0m\u001b[1;33m(\u001b[0m\u001b[0murl\u001b[0m\u001b[1;33m,\u001b[0m \u001b[0mheaders\u001b[0m\u001b[1;33m)\u001b[0m\u001b[1;33m\u001b[0m\u001b[1;33m\u001b[0m\u001b[0m\n\u001b[0;32m    487\u001b[0m \u001b[1;33m\u001b[0m\u001b[0m\n\u001b[1;32m--> 488\u001b[1;33m         \u001b[1;32mreturn\u001b[0m \u001b[0msuper\u001b[0m\u001b[1;33m(\u001b[0m\u001b[0mProxyManager\u001b[0m\u001b[1;33m,\u001b[0m \u001b[0mself\u001b[0m\u001b[1;33m)\u001b[0m\u001b[1;33m.\u001b[0m\u001b[0murlopen\u001b[0m\u001b[1;33m(\u001b[0m\u001b[0mmethod\u001b[0m\u001b[1;33m,\u001b[0m \u001b[0murl\u001b[0m\u001b[1;33m,\u001b[0m \u001b[0mredirect\u001b[0m\u001b[1;33m=\u001b[0m\u001b[0mredirect\u001b[0m\u001b[1;33m,\u001b[0m \u001b[1;33m**\u001b[0m\u001b[0mkw\u001b[0m\u001b[1;33m)\u001b[0m\u001b[1;33m\u001b[0m\u001b[1;33m\u001b[0m\u001b[0m\n\u001b[0m\u001b[0;32m    489\u001b[0m \u001b[1;33m\u001b[0m\u001b[0m\n\u001b[0;32m    490\u001b[0m \u001b[1;33m\u001b[0m\u001b[0m\n",
      "\u001b[1;32mD:\\ProgramData\\Anaconda3\\envs\\gee\\lib\\site-packages\\urllib3\\poolmanager.py\u001b[0m in \u001b[0;36murlopen\u001b[1;34m(self, method, url, redirect, **kw)\u001b[0m\n\u001b[0;32m    334\u001b[0m             \u001b[0mresponse\u001b[0m \u001b[1;33m=\u001b[0m \u001b[0mconn\u001b[0m\u001b[1;33m.\u001b[0m\u001b[0murlopen\u001b[0m\u001b[1;33m(\u001b[0m\u001b[0mmethod\u001b[0m\u001b[1;33m,\u001b[0m \u001b[0murl\u001b[0m\u001b[1;33m,\u001b[0m \u001b[1;33m**\u001b[0m\u001b[0mkw\u001b[0m\u001b[1;33m)\u001b[0m\u001b[1;33m\u001b[0m\u001b[1;33m\u001b[0m\u001b[0m\n\u001b[0;32m    335\u001b[0m         \u001b[1;32melse\u001b[0m\u001b[1;33m:\u001b[0m\u001b[1;33m\u001b[0m\u001b[1;33m\u001b[0m\u001b[0m\n\u001b[1;32m--> 336\u001b[1;33m             \u001b[0mresponse\u001b[0m \u001b[1;33m=\u001b[0m \u001b[0mconn\u001b[0m\u001b[1;33m.\u001b[0m\u001b[0murlopen\u001b[0m\u001b[1;33m(\u001b[0m\u001b[0mmethod\u001b[0m\u001b[1;33m,\u001b[0m \u001b[0mu\u001b[0m\u001b[1;33m.\u001b[0m\u001b[0mrequest_uri\u001b[0m\u001b[1;33m,\u001b[0m \u001b[1;33m**\u001b[0m\u001b[0mkw\u001b[0m\u001b[1;33m)\u001b[0m\u001b[1;33m\u001b[0m\u001b[1;33m\u001b[0m\u001b[0m\n\u001b[0m\u001b[0;32m    337\u001b[0m \u001b[1;33m\u001b[0m\u001b[0m\n\u001b[0;32m    338\u001b[0m         \u001b[0mredirect_location\u001b[0m \u001b[1;33m=\u001b[0m \u001b[0mredirect\u001b[0m \u001b[1;32mand\u001b[0m \u001b[0mresponse\u001b[0m\u001b[1;33m.\u001b[0m\u001b[0mget_redirect_location\u001b[0m\u001b[1;33m(\u001b[0m\u001b[1;33m)\u001b[0m\u001b[1;33m\u001b[0m\u001b[1;33m\u001b[0m\u001b[0m\n",
      "\u001b[1;32mD:\\ProgramData\\Anaconda3\\envs\\gee\\lib\\site-packages\\urllib3\\connectionpool.py\u001b[0m in \u001b[0;36murlopen\u001b[1;34m(self, method, url, body, headers, retries, redirect, assert_same_host, timeout, pool_timeout, release_conn, chunked, body_pos, **response_kw)\u001b[0m\n\u001b[0;32m    724\u001b[0m                 \u001b[0me\u001b[0m \u001b[1;33m=\u001b[0m \u001b[0mProtocolError\u001b[0m\u001b[1;33m(\u001b[0m\u001b[1;34m\"Connection aborted.\"\u001b[0m\u001b[1;33m,\u001b[0m \u001b[0me\u001b[0m\u001b[1;33m)\u001b[0m\u001b[1;33m\u001b[0m\u001b[1;33m\u001b[0m\u001b[0m\n\u001b[0;32m    725\u001b[0m \u001b[1;33m\u001b[0m\u001b[0m\n\u001b[1;32m--> 726\u001b[1;33m             retries = retries.increment(\n\u001b[0m\u001b[0;32m    727\u001b[0m                 \u001b[0mmethod\u001b[0m\u001b[1;33m,\u001b[0m \u001b[0murl\u001b[0m\u001b[1;33m,\u001b[0m \u001b[0merror\u001b[0m\u001b[1;33m=\u001b[0m\u001b[0me\u001b[0m\u001b[1;33m,\u001b[0m \u001b[0m_pool\u001b[0m\u001b[1;33m=\u001b[0m\u001b[0mself\u001b[0m\u001b[1;33m,\u001b[0m \u001b[0m_stacktrace\u001b[0m\u001b[1;33m=\u001b[0m\u001b[0msys\u001b[0m\u001b[1;33m.\u001b[0m\u001b[0mexc_info\u001b[0m\u001b[1;33m(\u001b[0m\u001b[1;33m)\u001b[0m\u001b[1;33m[\u001b[0m\u001b[1;36m2\u001b[0m\u001b[1;33m]\u001b[0m\u001b[1;33m\u001b[0m\u001b[1;33m\u001b[0m\u001b[0m\n\u001b[0;32m    728\u001b[0m             )\n",
      "\u001b[1;32mD:\\ProgramData\\Anaconda3\\envs\\gee\\lib\\site-packages\\urllib3\\util\\retry.py\u001b[0m in \u001b[0;36mincrement\u001b[1;34m(self, method, url, response, error, _pool, _stacktrace)\u001b[0m\n\u001b[0;32m    377\u001b[0m         \u001b[1;32mif\u001b[0m \u001b[0mself\u001b[0m\u001b[1;33m.\u001b[0m\u001b[0mtotal\u001b[0m \u001b[1;32mis\u001b[0m \u001b[1;32mFalse\u001b[0m \u001b[1;32mand\u001b[0m \u001b[0merror\u001b[0m\u001b[1;33m:\u001b[0m\u001b[1;33m\u001b[0m\u001b[1;33m\u001b[0m\u001b[0m\n\u001b[0;32m    378\u001b[0m             \u001b[1;31m# Disabled, indicate to re-raise the error.\u001b[0m\u001b[1;33m\u001b[0m\u001b[1;33m\u001b[0m\u001b[1;33m\u001b[0m\u001b[0m\n\u001b[1;32m--> 379\u001b[1;33m             \u001b[1;32mraise\u001b[0m \u001b[0msix\u001b[0m\u001b[1;33m.\u001b[0m\u001b[0mreraise\u001b[0m\u001b[1;33m(\u001b[0m\u001b[0mtype\u001b[0m\u001b[1;33m(\u001b[0m\u001b[0merror\u001b[0m\u001b[1;33m)\u001b[0m\u001b[1;33m,\u001b[0m \u001b[0merror\u001b[0m\u001b[1;33m,\u001b[0m \u001b[0m_stacktrace\u001b[0m\u001b[1;33m)\u001b[0m\u001b[1;33m\u001b[0m\u001b[1;33m\u001b[0m\u001b[0m\n\u001b[0m\u001b[0;32m    380\u001b[0m \u001b[1;33m\u001b[0m\u001b[0m\n\u001b[0;32m    381\u001b[0m         \u001b[0mtotal\u001b[0m \u001b[1;33m=\u001b[0m \u001b[0mself\u001b[0m\u001b[1;33m.\u001b[0m\u001b[0mtotal\u001b[0m\u001b[1;33m\u001b[0m\u001b[1;33m\u001b[0m\u001b[0m\n",
      "\u001b[1;32mD:\\ProgramData\\Anaconda3\\envs\\gee\\lib\\site-packages\\urllib3\\packages\\six.py\u001b[0m in \u001b[0;36mreraise\u001b[1;34m(tp, value, tb)\u001b[0m\n\u001b[0;32m    732\u001b[0m                 \u001b[0mvalue\u001b[0m \u001b[1;33m=\u001b[0m \u001b[0mtp\u001b[0m\u001b[1;33m(\u001b[0m\u001b[1;33m)\u001b[0m\u001b[1;33m\u001b[0m\u001b[1;33m\u001b[0m\u001b[0m\n\u001b[0;32m    733\u001b[0m             \u001b[1;32mif\u001b[0m \u001b[0mvalue\u001b[0m\u001b[1;33m.\u001b[0m\u001b[0m__traceback__\u001b[0m \u001b[1;32mis\u001b[0m \u001b[1;32mnot\u001b[0m \u001b[0mtb\u001b[0m\u001b[1;33m:\u001b[0m\u001b[1;33m\u001b[0m\u001b[1;33m\u001b[0m\u001b[0m\n\u001b[1;32m--> 734\u001b[1;33m                 \u001b[1;32mraise\u001b[0m \u001b[0mvalue\u001b[0m\u001b[1;33m.\u001b[0m\u001b[0mwith_traceback\u001b[0m\u001b[1;33m(\u001b[0m\u001b[0mtb\u001b[0m\u001b[1;33m)\u001b[0m\u001b[1;33m\u001b[0m\u001b[1;33m\u001b[0m\u001b[0m\n\u001b[0m\u001b[0;32m    735\u001b[0m             \u001b[1;32mraise\u001b[0m \u001b[0mvalue\u001b[0m\u001b[1;33m\u001b[0m\u001b[1;33m\u001b[0m\u001b[0m\n\u001b[0;32m    736\u001b[0m         \u001b[1;32mfinally\u001b[0m\u001b[1;33m:\u001b[0m\u001b[1;33m\u001b[0m\u001b[1;33m\u001b[0m\u001b[0m\n",
      "\u001b[1;32mD:\\ProgramData\\Anaconda3\\envs\\gee\\lib\\site-packages\\urllib3\\connectionpool.py\u001b[0m in \u001b[0;36murlopen\u001b[1;34m(self, method, url, body, headers, retries, redirect, assert_same_host, timeout, pool_timeout, release_conn, chunked, body_pos, **response_kw)\u001b[0m\n\u001b[0;32m    668\u001b[0m \u001b[1;33m\u001b[0m\u001b[0m\n\u001b[0;32m    669\u001b[0m             \u001b[1;31m# Make the request on the httplib connection object.\u001b[0m\u001b[1;33m\u001b[0m\u001b[1;33m\u001b[0m\u001b[1;33m\u001b[0m\u001b[0m\n\u001b[1;32m--> 670\u001b[1;33m             httplib_response = self._make_request(\n\u001b[0m\u001b[0;32m    671\u001b[0m                 \u001b[0mconn\u001b[0m\u001b[1;33m,\u001b[0m\u001b[1;33m\u001b[0m\u001b[1;33m\u001b[0m\u001b[0m\n\u001b[0;32m    672\u001b[0m                 \u001b[0mmethod\u001b[0m\u001b[1;33m,\u001b[0m\u001b[1;33m\u001b[0m\u001b[1;33m\u001b[0m\u001b[0m\n",
      "\u001b[1;32mD:\\ProgramData\\Anaconda3\\envs\\gee\\lib\\site-packages\\urllib3\\connectionpool.py\u001b[0m in \u001b[0;36m_make_request\u001b[1;34m(self, conn, method, url, timeout, chunked, **httplib_request_kw)\u001b[0m\n\u001b[0;32m    424\u001b[0m                     \u001b[1;31m# Python 3 (including for exceptions like SystemExit).\u001b[0m\u001b[1;33m\u001b[0m\u001b[1;33m\u001b[0m\u001b[1;33m\u001b[0m\u001b[0m\n\u001b[0;32m    425\u001b[0m                     \u001b[1;31m# Otherwise it looks like a bug in the code.\u001b[0m\u001b[1;33m\u001b[0m\u001b[1;33m\u001b[0m\u001b[1;33m\u001b[0m\u001b[0m\n\u001b[1;32m--> 426\u001b[1;33m                     \u001b[0msix\u001b[0m\u001b[1;33m.\u001b[0m\u001b[0mraise_from\u001b[0m\u001b[1;33m(\u001b[0m\u001b[0me\u001b[0m\u001b[1;33m,\u001b[0m \u001b[1;32mNone\u001b[0m\u001b[1;33m)\u001b[0m\u001b[1;33m\u001b[0m\u001b[1;33m\u001b[0m\u001b[0m\n\u001b[0m\u001b[0;32m    427\u001b[0m         \u001b[1;32mexcept\u001b[0m \u001b[1;33m(\u001b[0m\u001b[0mSocketTimeout\u001b[0m\u001b[1;33m,\u001b[0m \u001b[0mBaseSSLError\u001b[0m\u001b[1;33m,\u001b[0m \u001b[0mSocketError\u001b[0m\u001b[1;33m)\u001b[0m \u001b[1;32mas\u001b[0m \u001b[0me\u001b[0m\u001b[1;33m:\u001b[0m\u001b[1;33m\u001b[0m\u001b[1;33m\u001b[0m\u001b[0m\n\u001b[0;32m    428\u001b[0m             \u001b[0mself\u001b[0m\u001b[1;33m.\u001b[0m\u001b[0m_raise_timeout\u001b[0m\u001b[1;33m(\u001b[0m\u001b[0merr\u001b[0m\u001b[1;33m=\u001b[0m\u001b[0me\u001b[0m\u001b[1;33m,\u001b[0m \u001b[0murl\u001b[0m\u001b[1;33m=\u001b[0m\u001b[0murl\u001b[0m\u001b[1;33m,\u001b[0m \u001b[0mtimeout_value\u001b[0m\u001b[1;33m=\u001b[0m\u001b[0mread_timeout\u001b[0m\u001b[1;33m)\u001b[0m\u001b[1;33m\u001b[0m\u001b[1;33m\u001b[0m\u001b[0m\n",
      "\u001b[1;32mD:\\ProgramData\\Anaconda3\\envs\\gee\\lib\\site-packages\\urllib3\\packages\\six.py\u001b[0m in \u001b[0;36mraise_from\u001b[1;34m(value, from_value)\u001b[0m\n",
      "\u001b[1;32mD:\\ProgramData\\Anaconda3\\envs\\gee\\lib\\site-packages\\urllib3\\connectionpool.py\u001b[0m in \u001b[0;36m_make_request\u001b[1;34m(self, conn, method, url, timeout, chunked, **httplib_request_kw)\u001b[0m\n\u001b[0;32m    419\u001b[0m                 \u001b[1;31m# Python 3\u001b[0m\u001b[1;33m\u001b[0m\u001b[1;33m\u001b[0m\u001b[1;33m\u001b[0m\u001b[0m\n\u001b[0;32m    420\u001b[0m                 \u001b[1;32mtry\u001b[0m\u001b[1;33m:\u001b[0m\u001b[1;33m\u001b[0m\u001b[1;33m\u001b[0m\u001b[0m\n\u001b[1;32m--> 421\u001b[1;33m                     \u001b[0mhttplib_response\u001b[0m \u001b[1;33m=\u001b[0m \u001b[0mconn\u001b[0m\u001b[1;33m.\u001b[0m\u001b[0mgetresponse\u001b[0m\u001b[1;33m(\u001b[0m\u001b[1;33m)\u001b[0m\u001b[1;33m\u001b[0m\u001b[1;33m\u001b[0m\u001b[0m\n\u001b[0m\u001b[0;32m    422\u001b[0m                 \u001b[1;32mexcept\u001b[0m \u001b[0mBaseException\u001b[0m \u001b[1;32mas\u001b[0m \u001b[0me\u001b[0m\u001b[1;33m:\u001b[0m\u001b[1;33m\u001b[0m\u001b[1;33m\u001b[0m\u001b[0m\n\u001b[0;32m    423\u001b[0m                     \u001b[1;31m# Remove the TypeError from the exception chain in\u001b[0m\u001b[1;33m\u001b[0m\u001b[1;33m\u001b[0m\u001b[1;33m\u001b[0m\u001b[0m\n",
      "\u001b[1;32mD:\\ProgramData\\Anaconda3\\envs\\gee\\lib\\http\\client.py\u001b[0m in \u001b[0;36mgetresponse\u001b[1;34m(self)\u001b[0m\n\u001b[0;32m   1345\u001b[0m         \u001b[1;32mtry\u001b[0m\u001b[1;33m:\u001b[0m\u001b[1;33m\u001b[0m\u001b[1;33m\u001b[0m\u001b[0m\n\u001b[0;32m   1346\u001b[0m             \u001b[1;32mtry\u001b[0m\u001b[1;33m:\u001b[0m\u001b[1;33m\u001b[0m\u001b[1;33m\u001b[0m\u001b[0m\n\u001b[1;32m-> 1347\u001b[1;33m                 \u001b[0mresponse\u001b[0m\u001b[1;33m.\u001b[0m\u001b[0mbegin\u001b[0m\u001b[1;33m(\u001b[0m\u001b[1;33m)\u001b[0m\u001b[1;33m\u001b[0m\u001b[1;33m\u001b[0m\u001b[0m\n\u001b[0m\u001b[0;32m   1348\u001b[0m             \u001b[1;32mexcept\u001b[0m \u001b[0mConnectionError\u001b[0m\u001b[1;33m:\u001b[0m\u001b[1;33m\u001b[0m\u001b[1;33m\u001b[0m\u001b[0m\n\u001b[0;32m   1349\u001b[0m                 \u001b[0mself\u001b[0m\u001b[1;33m.\u001b[0m\u001b[0mclose\u001b[0m\u001b[1;33m(\u001b[0m\u001b[1;33m)\u001b[0m\u001b[1;33m\u001b[0m\u001b[1;33m\u001b[0m\u001b[0m\n",
      "\u001b[1;32mD:\\ProgramData\\Anaconda3\\envs\\gee\\lib\\http\\client.py\u001b[0m in \u001b[0;36mbegin\u001b[1;34m(self)\u001b[0m\n\u001b[0;32m    305\u001b[0m         \u001b[1;31m# read until we get a non-100 response\u001b[0m\u001b[1;33m\u001b[0m\u001b[1;33m\u001b[0m\u001b[1;33m\u001b[0m\u001b[0m\n\u001b[0;32m    306\u001b[0m         \u001b[1;32mwhile\u001b[0m \u001b[1;32mTrue\u001b[0m\u001b[1;33m:\u001b[0m\u001b[1;33m\u001b[0m\u001b[1;33m\u001b[0m\u001b[0m\n\u001b[1;32m--> 307\u001b[1;33m             \u001b[0mversion\u001b[0m\u001b[1;33m,\u001b[0m \u001b[0mstatus\u001b[0m\u001b[1;33m,\u001b[0m \u001b[0mreason\u001b[0m \u001b[1;33m=\u001b[0m \u001b[0mself\u001b[0m\u001b[1;33m.\u001b[0m\u001b[0m_read_status\u001b[0m\u001b[1;33m(\u001b[0m\u001b[1;33m)\u001b[0m\u001b[1;33m\u001b[0m\u001b[1;33m\u001b[0m\u001b[0m\n\u001b[0m\u001b[0;32m    308\u001b[0m             \u001b[1;32mif\u001b[0m \u001b[0mstatus\u001b[0m \u001b[1;33m!=\u001b[0m \u001b[0mCONTINUE\u001b[0m\u001b[1;33m:\u001b[0m\u001b[1;33m\u001b[0m\u001b[1;33m\u001b[0m\u001b[0m\n\u001b[0;32m    309\u001b[0m                 \u001b[1;32mbreak\u001b[0m\u001b[1;33m\u001b[0m\u001b[1;33m\u001b[0m\u001b[0m\n",
      "\u001b[1;32mD:\\ProgramData\\Anaconda3\\envs\\gee\\lib\\http\\client.py\u001b[0m in \u001b[0;36m_read_status\u001b[1;34m(self)\u001b[0m\n\u001b[0;32m    274\u001b[0m             \u001b[1;31m# Presumably, the server closed the connection before\u001b[0m\u001b[1;33m\u001b[0m\u001b[1;33m\u001b[0m\u001b[1;33m\u001b[0m\u001b[0m\n\u001b[0;32m    275\u001b[0m             \u001b[1;31m# sending a valid response.\u001b[0m\u001b[1;33m\u001b[0m\u001b[1;33m\u001b[0m\u001b[1;33m\u001b[0m\u001b[0m\n\u001b[1;32m--> 276\u001b[1;33m             raise RemoteDisconnected(\"Remote end closed connection without\"\n\u001b[0m\u001b[0;32m    277\u001b[0m                                      \" response\")\n\u001b[0;32m    278\u001b[0m         \u001b[1;32mtry\u001b[0m\u001b[1;33m:\u001b[0m\u001b[1;33m\u001b[0m\u001b[1;33m\u001b[0m\u001b[0m\n",
      "\u001b[1;31mProxyError\u001b[0m: ('Cannot connect to proxy.', RemoteDisconnected('Remote end closed connection without response'))"
     ]
    }
   ],
   "source": [
    "roi = nanjing\n",
    "# 总的样本点数\n",
    "nanjing_pointsCollection = sample_image(roi).map(imageSample).flatten()\n",
    "print('total sample number:{}'.format(nanjing_pointsCollection.size().getInfo()))\n",
    "\n",
    "# 水体的样本点数\n",
    "nanjing_samplepoint_water = nanjing_pointsCollection.filter(ee.Filter.eq('waterclass',1))\n",
    "print('water sample number:{}'.format(nanjing_samplepoint_water.size().getInfo()))"
   ]
  },
  {
   "cell_type": "code",
   "execution_count": null,
   "metadata": {
    "ExecuteTime": {
     "end_time": "2021-04-21T06:36:39.292061Z",
     "start_time": "2021-04-21T06:35:48.985595Z"
    }
   },
   "outputs": [],
   "source": [
    "roi = chengdu\n",
    "# 总的样本点数\n",
    "chengdu_pointsCollection = sample_image(roi).map(imageSample).flatten()\n",
    "print('total sample number:{}'.format(chengdu_pointsCollection.size().getInfo()))\n",
    "\n",
    "# 水体的样本点数\n",
    "chengdu_samplepoint_water = chengdu_pointsCollection.filter(ee.Filter.eq('waterclass',1))\n",
    "print('water sample number:{}'.format(chengdu_samplepoint_water.size().getInfo()))"
   ]
  },
  {
   "cell_type": "code",
   "execution_count": null,
   "metadata": {
    "ExecuteTime": {
     "end_time": "2021-04-21T06:41:27.104415Z",
     "start_time": "2021-04-21T06:40:32.953485Z"
    }
   },
   "outputs": [],
   "source": [
    "roi = kunming\n",
    "# 总的样本点数\n",
    "kunming_pointsCollection = sample_image(roi).map(imageSample).flatten()\n",
    "print('total sample number:{}'.format(kunming_pointsCollection.size().getInfo()))\n",
    "\n",
    "# 水体的样本点数\n",
    "kunming_samplepoint_water = kunming_pointsCollection.filter(ee.Filter.eq('waterclass',1))\n",
    "print('water sample number:{}'.format(kunming_samplepoint_water.size().getInfo()))"
   ]
  },
  {
   "cell_type": "code",
   "execution_count": null,
   "metadata": {
    "ExecuteTime": {
     "end_time": "2021-04-21T07:21:17.145522Z",
     "start_time": "2021-04-21T07:21:17.132557Z"
    }
   },
   "outputs": [],
   "source": [
    "pointsCollection = wuhan_pointsCollection.merge(nanjing_pointsCollection)\n",
    "pointsCollection2 = pointsCollection.merge(chengdu_pointsCollection)\n",
    "pointsCollection3 = pointsCollection2.merge(kunming_pointsCollection)\n",
    "# print(pointsCollection3.size().getInfo())"
   ]
  },
  {
   "cell_type": "code",
   "execution_count": null,
   "metadata": {
    "ExecuteTime": {
     "end_time": "2021-04-21T07:28:03.640343Z",
     "start_time": "2021-04-21T07:27:58.023964Z"
    },
    "scrolled": true
   },
   "outputs": [],
   "source": [
    "print(pointsCollection3.first().getInfo())"
   ]
  },
  {
   "cell_type": "code",
   "execution_count": null,
   "metadata": {
    "ExecuteTime": {
     "end_time": "2021-04-21T07:43:59.757303Z",
     "start_time": "2021-04-21T07:38:59.482947Z"
    }
   },
   "outputs": [],
   "source": [
    "test_accuracy = pointsCollection3.errorMatrix('class_mndwi', 'waterclass')\n",
    "print(test_accuracy.getInfo())"
   ]
  },
  {
   "cell_type": "code",
   "execution_count": null,
   "metadata": {
    "ExecuteTime": {
     "end_time": "2021-04-21T07:37:52.683361Z",
     "start_time": "2021-04-21T07:36:51.052770Z"
    },
    "scrolled": true
   },
   "outputs": [],
   "source": [
    "print('total caccuracy:{}'.format(test_accuracy.accuracy().getInfo()))\n",
    "print('kappa:{}'.format(test_accuracy.kappa().getInfo()))"
   ]
  },
  {
   "cell_type": "code",
   "execution_count": null,
   "metadata": {},
   "outputs": [],
   "source": [
    "samplepoint_water = pointsCollection3.filter(ee.Filter.eq('waterclass',0))\n",
    "print('water sample number:{}'.format(samplepoint_water.size().getInfo()))"
   ]
  },
  {
   "cell_type": "code",
   "execution_count": null,
   "metadata": {
    "ExecuteTime": {
     "end_time": "2021-04-17T01:20:21.849251Z",
     "start_time": "2021-04-17T01:19:20.214476Z"
    }
   },
   "outputs": [],
   "source": [
    "samplepoint_water = pointsCollection3.filter(ee.Filter.eq('waterclass',1))\n",
    "print('water sample number:{}'.format(samplepoint_water.size().getInfo()))"
   ]
  },
  {
   "cell_type": "markdown",
   "metadata": {},
   "source": [
    "# 训练样本，生成结果"
   ]
  },
  {
   "cell_type": "code",
   "execution_count": null,
   "metadata": {
    "ExecuteTime": {
     "end_time": "2021-04-17T01:21:58.929539Z",
     "start_time": "2021-04-17T01:21:58.918570Z"
    }
   },
   "outputs": [],
   "source": [
    "# RandomForest预测使用的波段\n",
    "bands = ['B2', 'B3', 'B4', 'B5', 'B6', 'B7','NDVI','mNDWI','ndvi_mndwi']\n",
    "# 分类标签\n",
    "label = 'waterclass'\n",
    "\n",
    "trainedClassifier = ee.Classifier.smileRandomForest(20).train(pointsCollection3,label,bands)\n",
    "#对Landsat-8进行分类\n",
    "def training(image):\n",
    "    return image.clip(roi).select(bands).classify(trainedClassifier).eq(1).rename('waterclass')"
   ]
  },
  {
   "cell_type": "code",
   "execution_count": null,
   "metadata": {
    "ExecuteTime": {
     "end_time": "2021-04-17T01:41:30.686500Z",
     "start_time": "2021-04-17T01:41:30.655283Z"
    }
   },
   "outputs": [],
   "source": [
    "city = ee.FeatureCollection([wuhan,chengdu,nanjing,kunming])\n",
    "# print(landsatCollection(city).size().getInfo())\n",
    "roi = city\n",
    "waterpixel_count = landsatCollection(city).map(training).sum()\n",
    "# Map.addLayer(waterpixel_count,{},\"waterPixelCount\")"
   ]
  },
  {
   "cell_type": "code",
   "execution_count": null,
   "metadata": {
    "ExecuteTime": {
     "end_time": "2021-04-17T04:02:24.438992Z",
     "start_time": "2021-04-17T04:02:16.687034Z"
    }
   },
   "outputs": [],
   "source": [
    "basemap = ee.Image.constant(0).clip(city).rename('waterclass')\n",
    "Map.addLayer(basemap,{'palette':['white']},\"basemap\")\n",
    "\n",
    "validPixel = landsatCollection(city).count().select('B3').clip(roi).rename('count')\n",
    "waterfrequency = waterpixel_count.select('waterclass').divide(validPixel.select('count')).rename('frequency')\n",
    "Map.addLayer(waterfrequency,{'palette':['white','green'],'min':0,'max':1},\"frequency\")\n",
    "\n",
    "permanentwater = waterfrequency.gte(0.75).selfMask().select('frequency').rename('waterclass')\n",
    "Map.addLayer(permanentwater,{'palette':['blue']},\"permanent water\")"
   ]
  },
  {
   "cell_type": "code",
   "execution_count": null,
   "metadata": {
    "ExecuteTime": {
     "end_time": "2021-04-17T01:35:29.907398Z",
     "start_time": "2021-04-17T01:35:22.287135Z"
    }
   },
   "outputs": [],
   "source": [
    "print(landsatCollection(city).size().getInfo())"
   ]
  },
  {
   "cell_type": "markdown",
   "metadata": {},
   "source": [
    "# 制图"
   ]
  },
  {
   "cell_type": "markdown",
   "metadata": {},
   "source": [
    "## 水体频率制图"
   ]
  },
  {
   "cell_type": "code",
   "execution_count": null,
   "metadata": {
    "ExecuteTime": {
     "end_time": "2021-04-17T02:13:29.185484Z",
     "start_time": "2021-04-17T02:12:47.169898Z"
    }
   },
   "outputs": [],
   "source": [
    "# 武汉\n",
    "from matplotlib import pyplot as plt\n",
    "import numpy as np\n",
    "import matplotlib\n",
    "from geemap import cartoee\n",
    "region = [113.6, 29.9, 115.1, 31.4] \n",
    "vis = {'min':0, 'max':1}\n",
    "fig = plt.figure(figsize=(12, 8))\n",
    "cmap = 'Blues'\n",
    "ax = cartoee.get_map(waterfrequency, region=region, vis_params=vis,cmap = cmap)\n",
    "cartoee.add_colorbar(ax, vis,cmap=cmap,loc=\"right\",label=\"water frequency\", orientation=\"vertical\")\n",
    "cartoee.add_gridlines(ax, interval=[0.5,0.5], linestyle=\":\")\n",
    "ax.set_title(label = 'waterbody frequency in 2018(wuhan)', fontsize=20)"
   ]
  },
  {
   "cell_type": "code",
   "execution_count": null,
   "metadata": {
    "ExecuteTime": {
     "end_time": "2021-04-17T02:17:10.315480Z",
     "start_time": "2021-04-17T02:16:34.194168Z"
    }
   },
   "outputs": [],
   "source": [
    "# 成都\n",
    "from matplotlib import pyplot as plt\n",
    "import numpy as np\n",
    "import matplotlib\n",
    "from geemap import cartoee\n",
    "region = [102.95, 30.0, 104.95, 31.5] \n",
    "vis = {'min':0, 'max':1}\n",
    "fig = plt.figure(figsize=(12, 8))\n",
    "cmap = 'Blues'\n",
    "ax = cartoee.get_map(waterfrequency, region=region, vis_params=vis,cmap = cmap)\n",
    "cartoee.add_colorbar(ax, vis,cmap=cmap,loc=\"right\",label=\"water frequency\", orientation=\"vertical\")\n",
    "cartoee.add_gridlines(ax, interval=[0.5,0.5], linestyle=\":\")\n",
    "ax.set_title(label = 'waterbody frequency in 2018(chengdu)', fontsize=20)"
   ]
  },
  {
   "cell_type": "code",
   "execution_count": null,
   "metadata": {
    "ExecuteTime": {
     "end_time": "2021-04-17T02:21:02.320920Z",
     "start_time": "2021-04-17T02:20:35.026183Z"
    }
   },
   "outputs": [],
   "source": [
    "# 南京\n",
    "from matplotlib import pyplot as plt\n",
    "import numpy as np\n",
    "import matplotlib\n",
    "from geemap import cartoee\n",
    "region = [118.3, 31.16, 119.3, 32.7] \n",
    "vis = {'min':0, 'max':1}\n",
    "fig = plt.figure(figsize=(12, 8))\n",
    "cmap = 'Blues'\n",
    "ax = cartoee.get_map(waterfrequency, region=region, vis_params=vis,cmap = cmap)\n",
    "cartoee.add_colorbar(ax, vis,cmap=cmap,loc=\"right\",label=\"water frequency\", orientation=\"vertical\")\n",
    "cartoee.add_gridlines(ax, interval=[0.3,0.3], linestyle=\":\")\n",
    "ax.set_title(label = 'waterbody frequency in 2018(nanjing)', fontsize=20)"
   ]
  },
  {
   "cell_type": "code",
   "execution_count": null,
   "metadata": {
    "ExecuteTime": {
     "end_time": "2021-04-17T02:05:22.822992Z",
     "start_time": "2021-04-17T02:04:37.947314Z"
    }
   },
   "outputs": [],
   "source": [
    "# 昆明\n",
    "from matplotlib import pyplot as plt\n",
    "import numpy as np\n",
    "import matplotlib\n",
    "from geemap import cartoee\n",
    "region = [102.1, 24.3, 103.7, 26.6] \n",
    "vis = {'min':0, 'max':1}\n",
    "fig = plt.figure(figsize=(12, 8))\n",
    "cmap = 'Blues'\n",
    "ax = cartoee.get_map(waterfrequency, region=region, vis_params=vis,cmap = cmap)\n",
    "cartoee.add_colorbar(ax, vis,cmap=cmap,loc=\"right\",label=\"water frequency\", orientation=\"vertical\")\n",
    "cartoee.add_gridlines(ax, interval=[0.3,0.3], linestyle=\":\")\n",
    "ax.set_title(label = 'waterbody frequency in 2018(kunming)', fontsize=20)"
   ]
  },
  {
   "cell_type": "markdown",
   "metadata": {},
   "source": [
    "## 永久性水体制图"
   ]
  },
  {
   "cell_type": "code",
   "execution_count": null,
   "metadata": {
    "ExecuteTime": {
     "end_time": "2021-04-17T02:45:28.060607Z",
     "start_time": "2021-04-17T02:45:28.057617Z"
    }
   },
   "outputs": [],
   "source": [
    "permanentwater_bi = waterfrequency.gte(0.75).select('frequency').rename('waterclass')"
   ]
  },
  {
   "cell_type": "code",
   "execution_count": null,
   "metadata": {
    "ExecuteTime": {
     "end_time": "2021-04-17T03:26:00.401797Z",
     "start_time": "2021-04-17T03:25:22.293330Z"
    }
   },
   "outputs": [],
   "source": [
    "# 武汉\n",
    "from matplotlib import pyplot as plt\n",
    "import numpy as np\n",
    "import matplotlib\n",
    "from geemap import cartoee\n",
    "region = [113.6, 29.9, 115.1, 31.4]\n",
    "vis = {'palette':['CDCDCD','0000ff'],'min':0,'max':1}\n",
    "fig = plt.figure(figsize=(12, 8))\n",
    "ax = cartoee.get_map(permanentwater_bi, region=region, vis_params=vis)\n",
    "cartoee.add_gridlines(ax, interval=[0.5,0.5], linestyle=\":\")\n",
    "ax.set_title(label = 'permanent surface water in 2018(wuhan)', fontsize=20)"
   ]
  },
  {
   "cell_type": "code",
   "execution_count": null,
   "metadata": {
    "ExecuteTime": {
     "end_time": "2021-04-17T03:34:51.456661Z",
     "start_time": "2021-04-17T03:34:23.357611Z"
    }
   },
   "outputs": [],
   "source": [
    "# 成都\n",
    "from matplotlib import pyplot as plt\n",
    "import numpy as np\n",
    "import matplotlib\n",
    "from geemap import cartoee\n",
    "region = [102.95, 30.0, 104.95, 31.5]\n",
    "vis = {'palette':['CDCDCD','0000ff'],'min':0,'max':1}\n",
    "fig = plt.figure(figsize=(12, 8))\n",
    "ax = cartoee.get_map(permanentwater_bi, region=region, vis_params=vis)\n",
    "cartoee.add_gridlines(ax, interval=[0.5,0.5], linestyle=\":\")\n",
    "ax.set_title(label = 'permanent surface water in 2018(chengdu)', fontsize=20)"
   ]
  },
  {
   "cell_type": "code",
   "execution_count": null,
   "metadata": {
    "ExecuteTime": {
     "end_time": "2021-04-17T03:38:55.705011Z",
     "start_time": "2021-04-17T03:38:32.414063Z"
    },
    "scrolled": false
   },
   "outputs": [],
   "source": [
    "# 南京\n",
    "from matplotlib import pyplot as plt\n",
    "import numpy as np\n",
    "import matplotlib\n",
    "from geemap import cartoee\n",
    "region = [118.3, 31.16, 119.3, 32.7]\n",
    "vis = {'palette':['CDCDCD','0000ff'],'min':0,'max':1}\n",
    "fig = plt.figure(figsize=(12, 8))\n",
    "ax = cartoee.get_map(permanentwater_bi, region=region, vis_params=vis)\n",
    "cartoee.add_gridlines(ax, interval=[0.3,0.3], linestyle=\":\")\n",
    "ax.set_title(label = 'permanent surface water in 2018(nanjing)', fontsize=20)"
   ]
  },
  {
   "cell_type": "code",
   "execution_count": null,
   "metadata": {
    "ExecuteTime": {
     "end_time": "2021-04-17T03:21:53.719526Z",
     "start_time": "2021-04-17T03:21:09.434498Z"
    }
   },
   "outputs": [],
   "source": [
    "# 昆明\n",
    "from matplotlib import pyplot as plt\n",
    "import numpy as np\n",
    "import matplotlib\n",
    "from geemap import cartoee\n",
    "region = [102.1, 24.3, 103.7, 26.6]\n",
    "vis = {'palette':['CDCDCD','0000ff'],'min':0,'max':1}\n",
    "fig = plt.figure(figsize=(12, 8))\n",
    "ax = cartoee.get_map(permanentwater_bi, region=region, vis_params=vis)\n",
    "cartoee.add_gridlines(ax, interval=[0.3,0.3], linestyle=\":\")\n",
    "ax.set_title(label = 'permanent surface water in 2018(kunming)', fontsize=20)"
   ]
  },
  {
   "cell_type": "markdown",
   "metadata": {},
   "source": [
    "# 附录"
   ]
  },
  {
   "cell_type": "code",
   "execution_count": null,
   "metadata": {
    "ExecuteTime": {
     "end_time": "2021-04-14T14:14:42.538928Z",
     "start_time": "2021-04-14T14:14:34.026797Z"
    }
   },
   "outputs": [],
   "source": [
    "# Map.addLayer(sample_image.first().clip(roi),visParams,'image first')\n",
    "permanent_image = sample_image.first().clip(roi).updateMask(permanentWaterExtent)\n",
    "Map.addLayer(permanent_image,visParams,'permanent image')\n",
    "permanent = permanentWaterExtent.updateMask(permanent_image.select('B2').gt(0))\n",
    "Map.addLayer(permanent,{'palette':['white','blue'],'min':0,'max':1},'permanent')\n",
    "\n",
    "\n",
    "season_image = sample_image.first().clip(roi).updateMask(seasonWaterExtent)\n",
    "seasonal = seasonWaterExtent.updateMask(season_image.select('B2').gt(0))\n",
    "Map.addLayer(seasonal,{'palette':['white','red'],'min':0,'max':1},'seasonal')\n",
    "\n",
    "land_image = sample_image.first().clip(roi).updateMask(landExtent)\n",
    "land = landExtent.updateMask(land_image.select('B2').gt(0)).remap([1],[0]).rename('waterclass')\n",
    "Map.addLayer(land,{'palette':['white','cyan'],'min':0,'max':1},'land')\n",
    "\n",
    "points_permanentwater = permanent.sample(**{\n",
    "    'region': roi,\n",
    "    'scale': 30,\n",
    "    'numPixels': 200,\n",
    "    'seed': 0,\n",
    "    'geometries': True  # Set this to False to ignore geometries\n",
    "})\n",
    "print(\"permanent : {}\".format(points_permanentwater.size().getInfo()))\n",
    "points_seasonalwater = seasonal.sample(**{\n",
    "    'region': roi,\n",
    "    'scale': 30,\n",
    "    'numPixels': 200,\n",
    "    'seed': 0,\n",
    "    'geometries': True  # Set this to False to ignore geometries\n",
    "})\n",
    "print('seasonal : {}'.format(points_seasonalwater.size().getInfo()))\n",
    "\n",
    "points_land = land.sample(**{\n",
    "    'region': roi,\n",
    "    'scale': 30,\n",
    "    'numPixels': 200,\n",
    "    'seed': 0,\n",
    "    'geometries': True  # Set this to False to ignore geometries\n",
    "})\n",
    "print('land : {}'.format(points_land.size().getInfo()))"
   ]
  },
  {
   "cell_type": "code",
   "execution_count": null,
   "metadata": {
    "ExecuteTime": {
     "end_time": "2021-03-31T03:33:02.143218Z",
     "start_time": "2021-03-31T03:33:00.115881Z"
    }
   },
   "outputs": [],
   "source": [
    "all_points = points_permanentwater.merge(points_seasonalwater).merge(points_land)\n",
    "print(all_points.size().getInfo())\n",
    "print(all_points.filter(ee.Filter.eq('waterclass',1)).size().getInfo())"
   ]
  },
  {
   "cell_type": "code",
   "execution_count": null,
   "metadata": {
    "ExecuteTime": {
     "end_time": "2021-03-30T07:38:47.630048Z",
     "start_time": "2021-03-30T07:38:46.372203Z"
    }
   },
   "outputs": [],
   "source": [
    "per_wuhan = landsat_images.mosaic().updateMask(permanentWaterExtent)\n",
    "Map.addLayer(per_wuhan,visParams,\"per wuhan\")"
   ]
  },
  {
   "cell_type": "code",
   "execution_count": null,
   "metadata": {
    "ExecuteTime": {
     "end_time": "2021-03-30T07:21:31.586542Z",
     "start_time": "2021-03-30T07:21:31.166728Z"
    }
   },
   "outputs": [],
   "source": [
    "dataset = ee.Image('JRC/GSW1_2/YearlyHistory/2018')\n",
    "\n",
    "visualization = {\n",
    "  'bands': ['waterClass'],\n",
    "  'min': 0.0,\n",
    "  'max': 3.0,\n",
    "  'palette': ['cccccc', 'ffffff', '99d9ea', '0000ff']\n",
    "}\n",
    "Map.addLayer(dataset.clip(roi), visualization, 'Water Class')"
   ]
  },
  {
   "cell_type": "code",
   "execution_count": null,
   "metadata": {
    "ExecuteTime": {
     "end_time": "2021-03-31T07:38:59.840699Z",
     "start_time": "2021-03-31T07:38:18.033763Z"
    }
   },
   "outputs": [],
   "source": [
    "# Maryland_waterclass显示\n",
    "from matplotlib import pyplot as plt\n",
    "import numpy as np\n",
    "import matplotlib\n",
    "from geemap import cartoee\n",
    "region = [113.6, 29.9, 115.1, 31.4] \n",
    "vis = {'palette':['cccccc', '99d9ea', '0000ff'],'min':0,'max':2}\n",
    "fig = plt.figure(figsize=(12, 8))\n",
    "# use cartoee to get a map\n",
    "ax = cartoee.get_map(Maryland_waterclass, region=region, vis_params=vis)\n",
    "# add a colorbar to the map using the visualization params we passed to the map\n",
    "# cartoee.add_colorbar(ax, vis,cmap=cmap,loc=\"right\",label=\"water frequency\", orientation=\"vertical\")\n",
    "# ticks=range(0,50,10)\n",
    "# add gridlines to the map at a specified interval\n",
    "cartoee.add_gridlines(ax, interval=[0.5,0.5], linestyle=\":\")\n",
    "ax.set_title(label = 'waterbody frequency(Maryland) in 2018', fontsize=20)\n",
    "\n",
    "# JRC_waterclass\n",
    "from matplotlib import pyplot as plt\n",
    "from geemap import cartoee\n",
    "import numpy as np\n",
    "import matplotlib\n",
    "region = [113.6, 29.9, 115.1, 31.4]\n",
    "vis = {'palette':['cccccc', '99d9ea', '0000ff'],'min':0,'max':2}\n",
    "fig = plt.figure(figsize=(12, 8))\n",
    "# use cartoee to get a map\n",
    "ax = cartoee.get_map(JRC_waterclass, region=region, vis_params=vis)\n",
    "# cartoee.add_colorbar(ax, vis,cmap=cmap,loc=\"right\",label=\"water frequency\", orientation=\"vertical\")\n",
    "# add gridlines to the map at a specified interval\n",
    "cartoee.add_gridlines(ax, interval=[0.5,0.5], linestyle=\":\")\n",
    "ax.set_title(label = 'waterbody frequency(JRC) in 2018', fontsize=20)\n",
    "\n",
    "# index_waterclass\n",
    "from matplotlib import pyplot as plt\n",
    "import numpy as np\n",
    "import matplotlib\n",
    "from geemap import cartoee\n",
    "region = [113.6, 29.9, 115.1, 31.4]\n",
    "vis = {'palette':['cccccc', '99d9ea', '0000ff'],'min':0,'max':2}\n",
    "fig = plt.figure(figsize=(12, 8))\n",
    "# use cartoee to get a map\n",
    "ax = cartoee.get_map(index_waterclass, region=region, vis_params=vis)\n",
    "\n",
    "# add gridlines to the map at a specified interval\n",
    "cartoee.add_gridlines(ax, interval=[0.5,0.5], linestyle=\":\")\n",
    "ax.set_title(label = 'waterbody frequency(INDEX) in 2018', fontsize=20)"
   ]
  },
  {
   "cell_type": "code",
   "execution_count": null,
   "metadata": {
    "ExecuteTime": {
     "end_time": "2021-03-31T07:20:45.018915Z",
     "start_time": "2021-03-31T07:20:11.521590Z"
    },
    "scrolled": false
   },
   "outputs": [],
   "source": [
    "# seasonWaterExtent\n",
    "from matplotlib import pyplot as plt\n",
    "import numpy as np\n",
    "import matplotlib\n",
    "from geemap import cartoee\n",
    "region = [113.6, 29.9, 115.1, 31.4]\n",
    "vis = {'palette':['cccccc', '99d9ea'],'min':0,'max':1}\n",
    "fig = plt.figure(figsize=(12, 8))\n",
    "ax = cartoee.get_map(seasonWaterExtent, region=region, vis_params=vis)\n",
    "cartoee.add_gridlines(ax, interval=[0.5,0.5], linestyle=\":\")\n",
    "ax.set_title(label = 'seasonal waterbody extent in 2018', fontsize=20)\n",
    "\n",
    "# permanentWaterExtent\n",
    "from matplotlib import pyplot as plt\n",
    "import numpy as np\n",
    "import matplotlib\n",
    "from geemap import cartoee\n",
    "region = [113.6, 29.9, 115.1, 31.4]\n",
    "vis = {'palette':['cccccc', '0000ff'],'min':0,'max':1}\n",
    "fig = plt.figure(figsize=(12, 8))\n",
    "ax = cartoee.get_map(permanentWaterExtent, region=region, vis_params=vis)\n",
    "cartoee.add_gridlines(ax, interval=[0.5,0.5], linestyle=\":\")\n",
    "ax.set_title(label = 'permanent waterbody extent in 2018', fontsize=20)\n",
    "\n",
    "# landExtent\n",
    "from matplotlib import pyplot as plt\n",
    "import numpy as np\n",
    "import matplotlib\n",
    "from geemap import cartoee\n",
    "region = [113.6, 29.9, 115.1, 31.4]\n",
    "vis = {'palette':['white','cccccc'],'min':0,'max':1}\n",
    "fig = plt.figure(figsize=(12, 8))\n",
    "ax = cartoee.get_map(landExtent, region=region, vis_params=vis)\n",
    "cartoee.add_gridlines(ax, interval=[0.5,0.5], linestyle=\":\")\n",
    "ax.set_title(label = 'land extent in 2018', fontsize=20)"
   ]
  }
 ],
 "metadata": {
  "hide_input": false,
  "kernelspec": {
   "display_name": "Python 3",
   "language": "python",
   "name": "python3"
  },
  "language_info": {
   "codemirror_mode": {
    "name": "ipython",
    "version": 3
   },
   "file_extension": ".py",
   "mimetype": "text/x-python",
   "name": "python",
   "nbconvert_exporter": "python",
   "pygments_lexer": "ipython3",
   "version": "3.8.5"
  },
  "toc": {
   "base_numbering": 1,
   "nav_menu": {},
   "number_sections": true,
   "sideBar": true,
   "skip_h1_title": false,
   "title_cell": "Table of Contents",
   "title_sidebar": "Contents",
   "toc_cell": false,
   "toc_position": {},
   "toc_section_display": true,
   "toc_window_display": false
  },
  "varInspector": {
   "cols": {
    "lenName": 16,
    "lenType": 16,
    "lenVar": 40
   },
   "kernels_config": {
    "python": {
     "delete_cmd_postfix": "",
     "delete_cmd_prefix": "del ",
     "library": "var_list.py",
     "varRefreshCmd": "print(var_dic_list())"
    },
    "r": {
     "delete_cmd_postfix": ") ",
     "delete_cmd_prefix": "rm(",
     "library": "var_list.r",
     "varRefreshCmd": "cat(var_dic_list()) "
    }
   },
   "types_to_exclude": [
    "module",
    "function",
    "builtin_function_or_method",
    "instance",
    "_Feature"
   ],
   "window_display": false
  }
 },
 "nbformat": 4,
 "nbformat_minor": 4
}
