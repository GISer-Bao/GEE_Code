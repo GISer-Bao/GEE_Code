{
 "cells": [
  {
   "cell_type": "code",
   "execution_count": 1,
   "metadata": {
    "ExecuteTime": {
     "end_time": "2021-07-15T08:45:50.064744Z",
     "start_time": "2021-07-15T08:45:50.054771Z"
    }
   },
   "outputs": [],
   "source": [
    "import os\n",
    "os.environ['HTTP_PROXY'] = \"http://127.0.0.1:10809\"\n",
    "os.environ['HTTPS_PROXY'] = \"http://127.0.0.1:10809\""
   ]
  },
  {
   "cell_type": "code",
   "execution_count": 2,
   "metadata": {
    "ExecuteTime": {
     "end_time": "2021-07-15T08:45:54.665635Z",
     "start_time": "2021-07-15T08:45:50.574071Z"
    },
    "scrolled": false
   },
   "outputs": [
    {
     "data": {
      "application/vnd.jupyter.widget-view+json": {
       "model_id": "a479afd8f0b84bc083cc40428a67109b",
       "version_major": 2,
       "version_minor": 0
      },
      "text/plain": [
       "Map(center=[40, -100], controls=(WidgetControl(options=['position', 'transparent_bg'], widget=HBox(children=(T…"
      ]
     },
     "metadata": {},
     "output_type": "display_data"
    }
   ],
   "source": [
    "import geemap\n",
    "import ee\n",
    "Map=geemap.Map()\n",
    "Map "
   ]
  },
  {
   "cell_type": "markdown",
   "metadata": {},
   "source": [
    "# ee.Reducer.mode()的用法"
   ]
  },
  {
   "cell_type": "code",
   "execution_count": null,
   "metadata": {
    "ExecuteTime": {
     "end_time": "2021-05-05T01:24:28.598461Z",
     "start_time": "2021-05-05T01:24:27.776674Z"
    }
   },
   "outputs": [],
   "source": [
    "lt = ee.List([0,0,0,0,0,1,1,1,1,2,2])\n",
    "mode = ee.Reducer.mode(2,1)\n",
    "lt_mode = lt.reduce(mode)\n",
    "print(lt_mode.getInfo())"
   ]
  },
  {
   "cell_type": "markdown",
   "metadata": {},
   "source": [
    "# 查看图像的投影和像元大小"
   ]
  },
  {
   "cell_type": "code",
   "execution_count": null,
   "metadata": {
    "ExecuteTime": {
     "end_time": "2021-05-04T03:08:51.420847Z",
     "start_time": "2021-05-04T03:08:46.954690Z"
    }
   },
   "outputs": [],
   "source": [
    "# projection and \n",
    "image = ee.Image('MODIS/MOD13A1/MOD13A1_005_2014_05_09')\n",
    "visParams = {'min': 0.15, 'max': 0.7} \n",
    "Map.setCenter(-77.5127,43.2642,11) \n",
    "Map.addLayer(image, visParams, 'original')\n",
    "\n",
    "print(image.bandNames().getInfo())\n",
    "print('Projection and transformation information:', image.projection().getInfo()['crs'])\n",
    "print('Pixel size in meters:', image.projection().nominalScale().getInfo())\n",
    "\n",
    "reprojected = image.reproject('EPSG:4326')\n",
    "Map.addLayer(reprojected, visParams, 'Reprojected')"
   ]
  },
  {
   "cell_type": "markdown",
   "metadata": {},
   "source": [
    "# 图像校正"
   ]
  },
  {
   "cell_type": "code",
   "execution_count": null,
   "metadata": {
    "ExecuteTime": {
     "end_time": "2021-05-03T09:41:47.492159Z",
     "start_time": "2021-05-03T09:41:44.413609Z"
    }
   },
   "outputs": [],
   "source": [
    "# registerion\n",
    "image1 = ee.Image('SKYSAT/GEN-A/PUBLIC/ORTHO/MULTISPECTRAL/s01_20150502T082736Z')\n",
    "image2 = ee.Image('SKYSAT/GEN-A/PUBLIC/ORTHO/MULTISPECTRAL/s01_20150305T081019Z')\n",
    "\n",
    "image1Orig = image1.resample('bicubic')\n",
    "image2Orig = image2.resample('bicubic')\n",
    " \n",
    "image1RedBand = image1Orig.select('R')\n",
    "image2RedBand = image2Orig.select('R')\n",
    " \n",
    "displacement = image2RedBand.displacement(**{\n",
    "    'referenceImage': image1RedBand,  \n",
    "    'maxOffset': 50.0,      \n",
    "    'patchWidth': 100.0   \n",
    "})  \n",
    "registered = image2Orig.displace(displacement)\n",
    " \n",
    "visParam = {'bands': ['R', 'G', 'B'], 'max': 4000}\n",
    "Map.addLayer(image1Orig, visParam, 'Reference'); \n",
    "Map.addLayer(image2Orig, visParam, 'Before Registration') \n",
    "Map.addLayer(registered, visParam, 'After Registration')"
   ]
  },
  {
   "cell_type": "markdown",
   "metadata": {},
   "source": [
    "# 计算熵"
   ]
  },
  {
   "cell_type": "code",
   "execution_count": null,
   "metadata": {},
   "outputs": [],
   "source": [
    "image = ee.Image('USDA/NAIP/DOQQ/m_4307663_se_18_1_20130619')\n",
    "\n",
    "Map.setCenter(-76.13, 43.03,16)\n",
    "Map.addLayer(image, {'max': 255}, 'Input image')\n",
    "\n",
    "nir = image.select('N')\n",
    "square = ee.Kernel.square(**{'radius': 3})\n",
    "entropy = nir.entropy(square)\n",
    "\n",
    "Map.addLayer(entropy,{'min': 1, 'max': 5, 'palette': ['0000CC', 'CC0000']}, 'entropy')\n",
    "\n",
    "# 直方图\n",
    "histogram = entropy.select('N').reduceRegion(**{\n",
    "    'reducer': ee.Reducer.histogram(100),\n",
    "    'geometry': image.geometry(), \n",
    "    'scale': 100,\n",
    "    'bestEffort': True\n",
    "})\n",
    "print(histogram.getInfo())"
   ]
  },
  {
   "cell_type": "markdown",
   "metadata": {},
   "source": [
    "# 图像融合"
   ]
  },
  {
   "cell_type": "code",
   "execution_count": null,
   "metadata": {},
   "outputs": [],
   "source": [
    "image = ee.Image('LANDSAT/LC08/C01/T1_TOA/LC08_121038_20160115')\n",
    "Map.addLayer(image,{'bands': ['B4', 'B3', 'B2'],'min':0,'max':3000}, 'RGB image')\n",
    "hsv = image.select(['B4', 'B3', 'B2']).rgbToHsv()\n",
    "\n",
    "combined = ee.Image.cat([hsv.select('hue'), hsv.select('saturation'), image_toa.select('B8')])\n",
    "\n",
    "sharpened = ee.Image(combined).hsvToRgb()\n",
    "Map.centerObject(image,8)\n",
    "Map.addLayer(sharpened,'','pan-sharpened')"
   ]
  },
  {
   "cell_type": "markdown",
   "metadata": {},
   "source": [
    "# 边缘检测"
   ]
  },
  {
   "cell_type": "code",
   "execution_count": null,
   "metadata": {},
   "outputs": [],
   "source": [
    "image = ee.Image('LANDSAT/LC08/C01/T1/LC08_015030_20140307').select(\"B8\")\n",
    "Map.setCenter(-76.1467, 43.0458,12)\n",
    "Map.addLayer(image, '', 'input image')\n",
    "\n",
    "canny = ee.Algorithms.CannyEdgeDetector(**{'image': image, 'threshold': 200, 'sigma': 1 })\n",
    "Map.addLayer(canny, {}, 'canny')\n",
    "\n",
    "hough = ee.Algorithms.HoughTransform(canny, 256, 7000, 80)\n",
    "Map.addLayer(hough, {}, 'hough')"
   ]
  },
  {
   "cell_type": "markdown",
   "metadata": {},
   "source": [
    "# 定义无geometry的要素"
   ]
  },
  {
   "cell_type": "code",
   "execution_count": null,
   "metadata": {},
   "outputs": [],
   "source": [
    "ab = ee.Feature(None,{'time': 0,'area': 1,'area_smoothed': 2})\n",
    "print(ab.getInfo())"
   ]
  },
  {
   "cell_type": "markdown",
   "metadata": {},
   "source": [
    "# 提取字典的属性"
   ]
  },
  {
   "cell_type": "code",
   "execution_count": null,
   "metadata": {},
   "outputs": [],
   "source": [
    "print(ee.Date('2020-01-01').getInfo())\n",
    "print(ee.Date('2020-01-01').getInfo()['value'])"
   ]
  },
  {
   "cell_type": "markdown",
   "metadata": {},
   "source": [
    "# 定义一个要素，没有几何属性"
   ]
  },
  {
   "cell_type": "code",
   "execution_count": null,
   "metadata": {},
   "outputs": [],
   "source": [
    "a = ee.Feature(None, {'foo': 1})\n",
    "print(a.getInfo())"
   ]
  },
  {
   "cell_type": "markdown",
   "metadata": {},
   "source": [
    "# 移除要素的某个属性"
   ]
  },
  {
   "cell_type": "code",
   "execution_count": null,
   "metadata": {},
   "outputs": [],
   "source": [
    "# feat为输入要输\n",
    "def removeProperty(feat):\n",
    "    selectProperties = ee.Feature(feat).propertyNames().filter(ee.Filter.neq('item', 'waterclass'))\n",
    "    return feat.select(selectProperties)"
   ]
  },
  {
   "cell_type": "markdown",
   "metadata": {},
   "source": [
    "# 多个列表的配对"
   ]
  },
  {
   "cell_type": "code",
   "execution_count": 4,
   "metadata": {
    "ExecuteTime": {
     "end_time": "2021-07-15T08:46:13.344749Z",
     "start_time": "2021-07-15T08:46:13.334748Z"
    }
   },
   "outputs": [],
   "source": [
    "list1 = ee.List(['20190101T160509_20190101T160509_T17RNJ',\n",
    "                 '20190104T160649_20190104T161509_T17RLH',\n",
    "                 '20190104T160649_20190104T161509_T17RMJ',\n",
    "                 '20190104T160649_20190104T161509_T17RMK'])\n",
    "list2 = ee.List(['17RNJ','17RLH','17RMJ','17RMK'])\n",
    "list3 = ee.List([1,2,3,4])"
   ]
  },
  {
   "cell_type": "code",
   "execution_count": 6,
   "metadata": {
    "ExecuteTime": {
     "end_time": "2021-07-15T08:46:25.422249Z",
     "start_time": "2021-07-15T08:46:24.814132Z"
    }
   },
   "outputs": [
    {
     "name": "stdout",
     "output_type": "stream",
     "text": [
      "[['20190101T160509_20190101T160509_T17RNJ', '17RNJ', 1], ['20190104T160649_20190104T161509_T17RLH', '17RLH', 2], ['20190104T160649_20190104T161509_T17RMJ', '17RMJ', 3], ['20190104T160649_20190104T161509_T17RMK', '17RMK', 4]]\n"
     ]
    }
   ],
   "source": [
    "a = ee.List.sequence(0,list1.length().subtract(1),1)\n",
    "paired = a.map(lambda i : [list1.get(i),list2.get(i),list3.get(i)])\n",
    "print(paired.getInfo())"
   ]
  },
  {
   "cell_type": "code",
   "execution_count": null,
   "metadata": {},
   "outputs": [],
   "source": []
  }
 ],
 "metadata": {
  "hide_input": false,
  "kernelspec": {
   "display_name": "Python 3",
   "language": "python",
   "name": "python3"
  },
  "language_info": {
   "codemirror_mode": {
    "name": "ipython",
    "version": 3
   },
   "file_extension": ".py",
   "mimetype": "text/x-python",
   "name": "python",
   "nbconvert_exporter": "python",
   "pygments_lexer": "ipython3",
   "version": "3.8.5"
  },
  "toc": {
   "base_numbering": 1,
   "nav_menu": {},
   "number_sections": true,
   "sideBar": true,
   "skip_h1_title": false,
   "title_cell": "Table of Contents",
   "title_sidebar": "Contents",
   "toc_cell": false,
   "toc_position": {},
   "toc_section_display": true,
   "toc_window_display": false
  },
  "varInspector": {
   "cols": {
    "lenName": 16,
    "lenType": 16,
    "lenVar": 40
   },
   "kernels_config": {
    "python": {
     "delete_cmd_postfix": "",
     "delete_cmd_prefix": "del ",
     "library": "var_list.py",
     "varRefreshCmd": "print(var_dic_list())"
    },
    "r": {
     "delete_cmd_postfix": ") ",
     "delete_cmd_prefix": "rm(",
     "library": "var_list.r",
     "varRefreshCmd": "cat(var_dic_list()) "
    }
   },
   "types_to_exclude": [
    "module",
    "function",
    "builtin_function_or_method",
    "instance",
    "_Feature"
   ],
   "window_display": false
  }
 },
 "nbformat": 4,
 "nbformat_minor": 4
}
