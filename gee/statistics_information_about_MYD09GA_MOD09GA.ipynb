{
 "cells": [
  {
   "cell_type": "code",
   "execution_count": 1,
   "metadata": {
    "ExecuteTime": {
     "end_time": "2021-09-30T09:06:49.295542Z",
     "start_time": "2021-09-30T09:06:49.285539Z"
    }
   },
   "outputs": [],
   "source": [
    "import os\n",
    "os.environ['HTTP_PROXY'] = \"http://127.0.0.1:10809\"\n",
    "os.environ['HTTPS_PROXY'] = \"http://127.0.0.1:10809\""
   ]
  },
  {
   "cell_type": "code",
   "execution_count": 2,
   "metadata": {
    "ExecuteTime": {
     "end_time": "2021-09-30T09:06:54.560094Z",
     "start_time": "2021-09-30T09:06:49.628646Z"
    },
    "scrolled": false
   },
   "outputs": [
    {
     "data": {
      "application/vnd.jupyter.widget-view+json": {
       "model_id": "a67db73116a045658bab4cc6baff31eb",
       "version_major": 2,
       "version_minor": 0
      },
      "text/plain": [
       "Map(center=[40, -100], controls=(WidgetControl(options=['position', 'transparent_bg'], widget=HBox(children=(T…"
      ]
     },
     "metadata": {},
     "output_type": "display_data"
    }
   ],
   "source": [
    "import ee\n",
    "import geemap\n",
    "import math\n",
    "Map = geemap.Map()\n",
    "Map"
   ]
  },
  {
   "cell_type": "code",
   "execution_count": 3,
   "metadata": {
    "ExecuteTime": {
     "end_time": "2021-09-30T09:06:55.886378Z",
     "start_time": "2021-09-30T09:06:54.751963Z"
    }
   },
   "outputs": [],
   "source": [
    "roi = ee.Feature(ee.FeatureCollection('users/311605001111/liangzi_30m_UTM50').first()).geometry()\n",
    "Map.addLayer(roi, {}, \"roi\")\n",
    "Map.centerObject(roi,8)"
   ]
  },
  {
   "cell_type": "code",
   "execution_count": null,
   "metadata": {
    "ExecuteTime": {
     "end_time": "2021-09-30T08:37:34.975569Z",
     "start_time": "2021-09-30T08:37:33.845453Z"
    }
   },
   "outputs": [],
   "source": [
    "# dataset = ee.ImageCollection('MODIS/006/MOD09GA').filter(ee.Filter.date('2020-03-01', '2020-12-31')).filterBounds(roi)\n",
    "# # print(dataset.first().getInfo())\n",
    "# print(ee.Date(dataset.first().get('system:time_start')).getInfo())\n",
    "# print(ee.Date(dataset.first().get('system:time_start')).format('YYYY-DD').getInfo())\n",
    "# print(ee.Date(dataset.first().get('system:time_start')).format('YYYY-MM-dd').getInfo())"
   ]
  },
  {
   "cell_type": "code",
   "execution_count": null,
   "metadata": {
    "ExecuteTime": {
     "end_time": "2021-07-09T08:17:57.193479Z",
     "start_time": "2021-07-09T08:17:57.178519Z"
    }
   },
   "outputs": [],
   "source": [
    "# # 网址：https://gis.stackexchange.com/questions/292835/using-cloud-confidence-to-create-cloud-mask-from-landsat-8-bqa\n",
    "\n",
    "# # Here is a more flexible approach that can handle dual (or larger) bit patterns. \n",
    "# # The bit shifts are performed server-side, using the ee.Image.rightShift() and ee.Image.mod() methods.\n",
    "\n",
    "# var RADIX = 2;  // Radix for binary (base 2) data.\n",
    "# var extractQABits = function (qaBand, bitStart, bitEnd) {\n",
    "#   var numBits = bitEnd - bitStart + 1;\n",
    "#   var qaBits = qaBand.rightShift(bitStart).mod(Math.pow(RADIX, numBits));\n",
    "#   return qaBits;\n",
    "# };"
   ]
  },
  {
   "cell_type": "code",
   "execution_count": null,
   "metadata": {
    "ExecuteTime": {
     "end_time": "2021-07-09T08:17:57.286339Z",
     "start_time": "2021-07-09T08:17:57.271283Z"
    }
   },
   "outputs": [],
   "source": [
    "## 二进制与十进制转化\n",
    "# def extractQABits(image):\n",
    "#     qa = image.clip(roi).select('state_1km')\n",
    "#     numBits = bitEnd - bitStart + 1\n",
    "#     qaBits = qa.rightShift(5).mod(math.pow(2, 2))\n",
    "#     return qaBits"
   ]
  },
  {
   "cell_type": "code",
   "execution_count": 4,
   "metadata": {
    "ExecuteTime": {
     "end_time": "2021-09-30T09:06:59.608766Z",
     "start_time": "2021-09-30T09:06:59.597766Z"
    }
   },
   "outputs": [],
   "source": [
    "# 把 'state_1km' 更换成相应的质量波段\n",
    "def cloud_cover(image):\n",
    "    qa = image.clip(roi).select('state_1km')\n",
    "    mask = qa.rightShift(0).mod(4)\n",
    "    all_pixels = mask.gte(0)\n",
    "    bad = mask.gt(0)\n",
    "    count_allPixels = all_pixels.reduceRegion(**{\n",
    "        'reducer': ee.Reducer.sum(),\n",
    "        'geometry': roi,\n",
    "        'scale': 1000,\n",
    "        'maxPixels': 1e14,\n",
    "    })\n",
    "    count_bad = bad.reduceRegion(**{\n",
    "        'reducer': ee.Reducer.sum(),\n",
    "        'geometry': roi,\n",
    "        'scale': 1000,\n",
    "        'maxPixels': 1e14,\n",
    "    })\n",
    "    cloud_percentage = ee.Number(count_bad.get('state_1km')).divide(ee.Number(count_allPixels.get('state_1km')))\n",
    "    return image.set({'cloud_percentage' : cloud_percentage})\n",
    "\n",
    "def add_property(image):\n",
    "    point = ee.Feature(ee.Geometry.Point([115.75820104148457, 29.251481709867686]))\n",
    "    point = point.set({'id': image.get('system:id')})\n",
    "    point = point.set({'time': ee.Date(image.get('system:time_start')).format('YYYY-DD')})\n",
    "    point = point.set({'cloud_percentage': image.get('cloud_percentage')})\n",
    "    return point"
   ]
  },
  {
   "cell_type": "code",
   "execution_count": null,
   "metadata": {
    "ExecuteTime": {
     "start_time": "2021-07-09T08:17:45.457Z"
    },
    "scrolled": false
   },
   "outputs": [],
   "source": [
    "for i in range(2015,2017,1):\n",
    "    dataset = ee.ImageCollection('MODIS/006/MOD09GA').filter(ee.Filter.date('{}-01-01'.format(i), '{}-12-31'.format(i))).filterBounds(roi).map(cloud_cover)\n",
    "    dataset_filter = dataset.filter(ee.Filter.lt('cloud_percentage',0.1))\n",
    "    points = dataset_filter.map(add_property)\n",
    "    geemap.ee_to_csv(ee.FeatureCollection(points),'MOD09GA_{}.csv'.format(i))"
   ]
  },
  {
   "cell_type": "code",
   "execution_count": null,
   "metadata": {
    "ExecuteTime": {
     "end_time": "2021-07-09T08:31:47.268281Z",
     "start_time": "2021-07-09T08:22:30.806327Z"
    }
   },
   "outputs": [],
   "source": [
    "for i in range(2008,2012,1):\n",
    "    dataset = ee.ImageCollection('MODIS/006/MYD09GA').filter(ee.Filter.date('{}-01-01'.format(i), '{}-12-31'.format(i))).filterBounds(roi).map(cloud_cover)\n",
    "    dataset_filter = dataset.filter(ee.Filter.lt('cloud_percentage',0.1))\n",
    "    points = dataset_filter.map(add_property)\n",
    "    geemap.ee_to_csv(ee.FeatureCollection(points),'taihu_MYD09GA_{}.csv'.format(i))"
   ]
  },
  {
   "cell_type": "code",
   "execution_count": null,
   "metadata": {
    "ExecuteTime": {
     "end_time": "2021-09-30T08:58:09.539871Z",
     "start_time": "2021-09-30T08:56:52.213582Z"
    }
   },
   "outputs": [],
   "source": [
    "dataset = ee.ImageCollection('MODIS/006/MYD09GA').filter(ee.Filter.date('2020-01-01', '2020-09-30')).filterBounds(roi).map(cloud_cover)\n",
    "dataset_filter = dataset.filter(ee.Filter.lt('cloud_percentage',0.1))\n",
    "points = dataset_filter.map(add_property)\n",
    "geemap.ee_to_csv(ee.FeatureCollection(points),'liangzi_MYD09GA_2020.csv')"
   ]
  },
  {
   "cell_type": "code",
   "execution_count": null,
   "metadata": {},
   "outputs": [],
   "source": []
  },
  {
   "cell_type": "code",
   "execution_count": null,
   "metadata": {},
   "outputs": [],
   "source": []
  },
  {
   "cell_type": "code",
   "execution_count": null,
   "metadata": {},
   "outputs": [],
   "source": []
  },
  {
   "cell_type": "code",
   "execution_count": 5,
   "metadata": {
    "ExecuteTime": {
     "end_time": "2021-09-30T09:11:31.207097Z",
     "start_time": "2021-09-30T09:07:18.669980Z"
    },
    "scrolled": true
   },
   "outputs": [
    {
     "name": "stdout",
     "output_type": "stream",
     "text": [
      "Generating URL ...\n",
      "Downloading data from https://earthengine.googleapis.com/v1alpha/projects/earthengine-legacy/tables/9ed921f3692779ff3c47edf609d73df8-1330b173389258cb9e80b5ac57af4f0c:getFeatures\n",
      "Please wait ...\n",
      "Data downloaded to C:\\Users\\DELL\\gee\\liangzi_MYD09GA_2020.csv\n",
      "Generating URL ...\n",
      "Downloading data from https://earthengine.googleapis.com/v1alpha/projects/earthengine-legacy/tables/dea45c49f964baf47d380e6cbb931096-fc0d549e66b8bfb9bba2da3003088602:getFeatures\n",
      "Please wait ...\n",
      "Data downloaded to C:\\Users\\DELL\\gee\\liangzi_MYD09GA_2021.csv\n"
     ]
    }
   ],
   "source": [
    "for i in range(2020,2022,1):\n",
    "    dataset = ee.ImageCollection('MODIS/006/MYD09GA').filter(ee.Filter.date('{}-01-01'.format(i), '{}-12-31'.format(i))).filterBounds(roi).map(cloud_cover)\n",
    "    dataset_filter = dataset.filter(ee.Filter.lt('cloud_percentage',0.1))\n",
    "    # print('{} year : {}'.format(i,dataset.size().getInfo()))\n",
    "    # print('{} year : {}'.format(i,dataset_filter.size().getInfo()))\n",
    "    points = dataset_filter.map(add_property)\n",
    "    geemap.ee_to_csv(ee.FeatureCollection(points),'liangzi_MYD09GA_{}.csv'.format(i))"
   ]
  },
  {
   "cell_type": "code",
   "execution_count": null,
   "metadata": {},
   "outputs": [],
   "source": []
  },
  {
   "cell_type": "markdown",
   "metadata": {},
   "source": [
    "# 验证代码"
   ]
  },
  {
   "cell_type": "code",
   "execution_count": null,
   "metadata": {
    "ExecuteTime": {
     "end_time": "2021-04-14T00:48:44.849090Z",
     "start_time": "2021-04-14T00:47:25.086931Z"
    }
   },
   "outputs": [],
   "source": [
    "dataset = ee.ImageCollection('MODIS/006/MOD09GA').filter(ee.Filter.date('2015-01-01', '2015-12-31')).filterBounds(roi).map(cloud_cover)\n",
    "dataset_filter = dataset.filter(ee.Filter.lt('cloud_percentage',0.2))\n",
    "\n",
    "print(dataset.size().getInfo())\n",
    "\n",
    "print(dataset_filter.size().getInfo())\n",
    "\n",
    "points = dataset_filter.map(add_property)\n",
    "geemap.ee_to_csv(ee.FeatureCollection(points),'MOD09GA.csv')"
   ]
  },
  {
   "cell_type": "code",
   "execution_count": null,
   "metadata": {
    "ExecuteTime": {
     "end_time": "2021-04-13T10:53:48.526799Z",
     "start_time": "2021-04-13T10:53:42.881Z"
    }
   },
   "outputs": [],
   "source": [
    "print(ee.Date(dataset.first().clip(roi).get('system:time_start')).format('YYYY-MM-dd').getInfo())\n",
    "print(dataset.first().clip(roi).get('system:id').getInfo())\n",
    "print(dataset.first().clip(roi).propertyNames().getInfo())"
   ]
  },
  {
   "cell_type": "code",
   "execution_count": null,
   "metadata": {
    "ExecuteTime": {
     "end_time": "2021-04-14T05:50:01.289369Z",
     "start_time": "2021-04-14T05:50:00.805412Z"
    }
   },
   "outputs": [],
   "source": [
    "dataset = ee.ImageCollection('MODIS/006/MYD09GA').filter(ee.Filter.date('2015-01-01', '2015-12-31')).filterBounds(roi)\n",
    "dinary_bit = dataset.first().clip(roi).select('state_1km').rightShift(0).mod(4)\n",
    "# dinary_bit = extractQABits(dataset.first())\n",
    "Map.addLayer(dinary_bit,{'min':0,'max':3,'palette':['white','blue']},'first image')"
   ]
  },
  {
   "cell_type": "code",
   "execution_count": null,
   "metadata": {
    "ExecuteTime": {
     "end_time": "2021-04-14T00:55:53.285902Z",
     "start_time": "2021-04-14T00:55:51.737796Z"
    }
   },
   "outputs": [],
   "source": [
    "dataset = ee.ImageCollection('MODIS/006/MYD09GA').filter(ee.Filter.date('2015-01-01', '2015-12-31')).filterBounds(roi)\n",
    "qa = dataset.first().select('state_1km')\n",
    "mask = qa.rightShift(0).mod(4)\n",
    "mask1 = mask.gte(0)\n",
    "bad = mask.gt(0)\n",
    "good = mask.eq(0)\n",
    "\n",
    "count_mask1 = mask1.reduceRegion(**{\n",
    "    'reducer': ee.Reducer.sum(),\n",
    "    'geometry': roi,\n",
    "    'scale': 1000,\n",
    "    'maxPixels': 1e14,\n",
    "})\n",
    "count_bad = bad.reduceRegion(**{\n",
    "    'reducer': ee.Reducer.sum(),\n",
    "    'geometry': roi,\n",
    "    'scale': 1000,\n",
    "    'maxPixels': 1e14,\n",
    "})\n",
    "count_good = good.reduceRegion(**{\n",
    "    'reducer': ee.Reducer.sum(),\n",
    "    'geometry': roi,\n",
    "    'scale': 1000,\n",
    "    'maxPixels': 1e14,\n",
    "})\n",
    "print(count_mask1.getInfo())\n",
    "print(count_bad.getInfo())\n",
    "print(count_good.getInfo())\n",
    "print(ee.Number(count_bad.get('state_1km')).divide(ee.Number(count_mask1.get('state_1km'))).getInfo())"
   ]
  }
 ],
 "metadata": {
  "hide_input": false,
  "kernelspec": {
   "display_name": "Python 3 (ipykernel)",
   "language": "python",
   "name": "python3"
  },
  "language_info": {
   "codemirror_mode": {
    "name": "ipython",
    "version": 3
   },
   "file_extension": ".py",
   "mimetype": "text/x-python",
   "name": "python",
   "nbconvert_exporter": "python",
   "pygments_lexer": "ipython3",
   "version": "3.8.5"
  },
  "toc": {
   "base_numbering": 1,
   "nav_menu": {},
   "number_sections": true,
   "sideBar": true,
   "skip_h1_title": false,
   "title_cell": "Table of Contents",
   "title_sidebar": "Contents",
   "toc_cell": false,
   "toc_position": {},
   "toc_section_display": true,
   "toc_window_display": false
  },
  "varInspector": {
   "cols": {
    "lenName": 16,
    "lenType": 16,
    "lenVar": 40
   },
   "kernels_config": {
    "python": {
     "delete_cmd_postfix": "",
     "delete_cmd_prefix": "del ",
     "library": "var_list.py",
     "varRefreshCmd": "print(var_dic_list())"
    },
    "r": {
     "delete_cmd_postfix": ") ",
     "delete_cmd_prefix": "rm(",
     "library": "var_list.r",
     "varRefreshCmd": "cat(var_dic_list()) "
    }
   },
   "types_to_exclude": [
    "module",
    "function",
    "builtin_function_or_method",
    "instance",
    "_Feature"
   ],
   "window_display": false
  }
 },
 "nbformat": 4,
 "nbformat_minor": 4
}
