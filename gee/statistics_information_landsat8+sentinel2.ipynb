{
 "cells": [
  {
   "cell_type": "code",
   "execution_count": 1,
   "metadata": {
    "ExecuteTime": {
     "end_time": "2021-09-06T03:12:53.436165Z",
     "start_time": "2021-09-06T03:12:53.423167Z"
    }
   },
   "outputs": [],
   "source": [
    "import os\n",
    "os.environ['HTTP_PROXY'] = \"http://127.0.0.1:10809\"\n",
    "os.environ['HTTPS_PROXY'] = \"http://127.0.0.1:10809\""
   ]
  },
  {
   "cell_type": "code",
   "execution_count": 2,
   "metadata": {
    "ExecuteTime": {
     "end_time": "2021-09-06T03:12:58.783447Z",
     "start_time": "2021-09-06T03:12:53.693327Z"
    }
   },
   "outputs": [
    {
     "data": {
      "application/vnd.jupyter.widget-view+json": {
       "model_id": "4097d76ecd974fa5a51b6d318c26dce6",
       "version_major": 2,
       "version_minor": 0
      },
      "text/plain": [
       "Map(center=[40, -100], controls=(WidgetControl(options=['position', 'transparent_bg'], widget=HBox(children=(T…"
      ]
     },
     "metadata": {},
     "output_type": "display_data"
    }
   ],
   "source": [
    "import geemap\n",
    "import ee\n",
    "Map=geemap.Map()\n",
    "Map"
   ]
  },
  {
   "cell_type": "code",
   "execution_count": 7,
   "metadata": {
    "ExecuteTime": {
     "end_time": "2021-09-06T03:22:32.124901Z",
     "start_time": "2021-09-06T03:22:30.375798Z"
    }
   },
   "outputs": [],
   "source": [
    "roi = ee.FeatureCollection('users/311605001111/region/taihu_vector')\n",
    "Map.addLayer(roi, {}, \"roi\")\n",
    "Map.centerObject(roi,7)\n",
    "\n",
    "def add_property(image):\n",
    "    point = ee.Feature(ee.Geometry.Point([115.75820104148457, 29.251481709867686]))\n",
    "    point = point.set({'id': image.get('LANDSAT_PRODUCT_ID')})\n",
    "    point = point.set({'time': ee.Date(image.get('system:time_start')).format('YYYY-MM-dd')})\n",
    "    point = point.set({'row': image.get('WRS_ROW')})\n",
    "    point = point.set({'path': image.get('WRS_PATH')})\n",
    "    point = point.set({'cloud': image.get('CLOUD_COVER')})\n",
    "    return point\n",
    "\n",
    "landsat_images = ee.ImageCollection('LANDSAT/LC08/C01/T1_SR') \\\n",
    "    .filterBounds(roi) \\\n",
    "    .filterDate('2013-01-01', '2021-08-29')\n",
    "\n",
    "filter_images = landsat_images.map(add_property)\n",
    "print(landsat_images.size().getInfo())\n",
    "geemap.ee_to_csv(ee.FeatureCollection(filter_images),'taihu_landsat8.csv')"
   ]
  },
  {
   "cell_type": "code",
   "execution_count": null,
   "metadata": {},
   "outputs": [],
   "source": []
  },
  {
   "cell_type": "code",
   "execution_count": null,
   "metadata": {},
   "outputs": [],
   "source": []
  },
  {
   "cell_type": "code",
   "execution_count": null,
   "metadata": {},
   "outputs": [],
   "source": []
  },
  {
   "cell_type": "markdown",
   "metadata": {},
   "source": [
    "# landsat8"
   ]
  },
  {
   "cell_type": "code",
   "execution_count": null,
   "metadata": {
    "ExecuteTime": {
     "end_time": "2021-06-03T07:01:20.323889Z",
     "start_time": "2021-06-03T07:01:19.203650Z"
    }
   },
   "outputs": [],
   "source": [
    "roi = ee.FeatureCollection('users/311605001111/Yangtze_huangchong')\n",
    "Map.addLayer(roi, {}, \"roi\")\n",
    "Map.centerObject(roi,6)"
   ]
  },
  {
   "cell_type": "code",
   "execution_count": null,
   "metadata": {
    "ExecuteTime": {
     "end_time": "2021-06-03T07:01:22.267265Z",
     "start_time": "2021-06-03T07:01:22.260283Z"
    }
   },
   "outputs": [],
   "source": [
    "# 去云、云阴影、雪掩膜函数\n",
    "def maskL8sr(image):\n",
    "    cloudShadowBitMask = (1 << 3)\n",
    "    cloudsBitMask = (1 << 5)\n",
    "    snowBitMask = (1 << 4)   \n",
    "    qa = image.select('pixel_qa')\n",
    "    mask = qa.bitwiseAnd(cloudShadowBitMask).eq(0) \\\n",
    "                   .And(qa.bitwiseAnd(cloudsBitMask).eq(0)) \\\n",
    "                   .And(qa.bitwiseAnd(snowBitMask).eq(0))\n",
    "    return image.updateMask(mask)\n",
    "\n",
    "visParams = {\n",
    "    'bands': ['B5', 'B6', 'B4'],\n",
    "    'min': 0,\n",
    "    'max': 3000,\n",
    "    'gamma': 1.4,\n",
    "}\n",
    "def area_after_clip(image):\n",
    "    image_area = image.clip(roi).select('B2').gt(0).multiply(ee.Image.pixelArea()).divide(1e6)\n",
    "    areas = image_area.reduceRegion(**{\n",
    "        'reducer': ee.Reducer.sum(),\n",
    "        'geometry': image.geometry(),\n",
    "        'scale': 30,\n",
    "        'maxPixels': 1e14\n",
    "    })\n",
    "    return image.set({'area': areas.get('B2')})\n",
    "\n",
    "def add_property(image):\n",
    "    point = ee.Feature(ee.Geometry.Point([115.75820104148457, 29.251481709867686]))\n",
    "    point = point.set({'id': image.get('LANDSAT_PRODUCT_ID')})\n",
    "    point = point.set({'time': ee.Date(image.get('system:time_start')).format('YYYY-MM-dd')})\n",
    "    point = point.set({'row': image.get('WRS_ROW')})\n",
    "    point = point.set({'path': image.get('WRS_PATH')})\n",
    "    point = point.set({'cloud': image.get('CLOUD_COVER')})\n",
    "    return point"
   ]
  },
  {
   "cell_type": "code",
   "execution_count": null,
   "metadata": {
    "ExecuteTime": {
     "end_time": "2021-06-03T06:25:40.603973Z",
     "start_time": "2021-06-03T06:25:39.486897Z"
    }
   },
   "outputs": [],
   "source": [
    "landsat_images = ee.ImageCollection('LANDSAT/LC08/C01/T1_SR') \\\n",
    "    .filterBounds(roi) \\\n",
    "    .filterDate('2019-01-01', '2021-06-03') \\\n",
    "    .filter(ee.Filter.lt('CLOUD_COVER',5)) \\\n",
    "    .map(maskL8sr)\n",
    "Map.addLayer(landsat_images.mosaic().clip(roi),visParams,'landsat image')"
   ]
  },
  {
   "cell_type": "code",
   "execution_count": null,
   "metadata": {
    "ExecuteTime": {
     "end_time": "2021-06-03T06:26:29.189999Z",
     "start_time": "2021-06-03T06:25:48.992576Z"
    }
   },
   "outputs": [],
   "source": [
    "# image = landsat_images.mosaic().clip(roi)\n",
    "# image_area = image.select('B2').gt(0).multiply(ee.Image.pixelArea()).divide(1e6)\n",
    "# areas = image_area.reduceRegion(**{\n",
    "#     'reducer': ee.Reducer.sum(),\n",
    "#     'geometry': roi.geometry(),\n",
    "#     'scale': 30,\n",
    "#     'maxPixels': 1e14\n",
    "# })\n",
    "# # print(areas.getInfo())\n",
    "\n",
    "\n",
    "# 筛选影像，影像覆盖研究区的范围 > 研究区的1/10\n",
    "sample_image = landsat_images.map(area_after_clip).filter(ee.Filter.gt('area',200))\n",
    "dates = sample_image.aggregate_array('system:time_start').map(lambda d: ee.Date(d).format('YYYY-MM-dd'))\n",
    "print(sample_image.size().getInfo())\n",
    "# print(dates.getInfo())"
   ]
  },
  {
   "cell_type": "code",
   "execution_count": null,
   "metadata": {
    "ExecuteTime": {
     "end_time": "2021-06-03T06:34:42.794915Z",
     "start_time": "2021-06-03T06:34:39.150640Z"
    }
   },
   "outputs": [],
   "source": [
    "filter_images = sample_image.map(add_property)\n",
    "print(sample_image.size().getInfo())\n",
    "geemap.ee_to_csv(ee.FeatureCollection(filter_images),'yangtzeRiver_landsat8.csv')"
   ]
  },
  {
   "cell_type": "markdown",
   "metadata": {},
   "source": [
    "# sentinel2"
   ]
  },
  {
   "cell_type": "code",
   "execution_count": null,
   "metadata": {
    "ExecuteTime": {
     "end_time": "2021-06-03T07:01:46.930687Z",
     "start_time": "2021-06-03T07:01:46.107824Z"
    }
   },
   "outputs": [],
   "source": [
    "roi = ee.FeatureCollection('users/311605001111/Yangtze_huangchong')\n",
    "Map.addLayer(roi, {}, \"roi\")\n",
    "Map.centerObject(roi,6)"
   ]
  },
  {
   "cell_type": "code",
   "execution_count": null,
   "metadata": {
    "ExecuteTime": {
     "end_time": "2021-06-03T07:04:10.683417Z",
     "start_time": "2021-06-03T07:04:10.676407Z"
    }
   },
   "outputs": [],
   "source": [
    "rgbVis = {\n",
    "  'min': 0.0,\n",
    "  'max': 0.3,\n",
    "  'bands': ['B4', 'B3', 'B2'],\n",
    "}\n",
    "\n",
    "def add_property(image):\n",
    "    point = ee.Feature(ee.Geometry.Point([115.75820104148457, 29.251481709867686]))\n",
    "    point = point.set({'id': image.get('id')})\n",
    "    point = point.set({'time': ee.Date(image.get('system:time_start')).format('YYYY-MM-dd')})\n",
    "    point = point.set({'satellite name': image.get('SPACECRAFT_NAME')})\n",
    "    point = point.set({'product_id': image.get('PRODUCT_ID')})\n",
    "    point = point.set({'mgrs_tile': image.get('MGRS_TILE')})\n",
    "    point = point.set({'cloud': image.get('CLOUDY_PIXEL_PERCENTAGE')})\n",
    "    return point\n",
    "\n",
    "def area_after_clip(image):\n",
    "    image_area = image.clip(roi).select('B2').gt(0).multiply(ee.Image.pixelArea()).divide(1e6)\n",
    "    areas = image_area.reduceRegion(**{\n",
    "        'reducer': ee.Reducer.sum(),\n",
    "        'geometry': image.geometry(),\n",
    "        'scale': 15,\n",
    "        'maxPixels': 1e14\n",
    "    })\n",
    "    return image.set({'area': areas.get('B2')})"
   ]
  },
  {
   "cell_type": "code",
   "execution_count": null,
   "metadata": {
    "ExecuteTime": {
     "end_time": "2021-06-03T07:04:14.917940Z",
     "start_time": "2021-06-03T07:04:13.388174Z"
    }
   },
   "outputs": [],
   "source": [
    "# 筛选数据（使用日期，云量，研究区），去云\n",
    "images = ee.ImageCollection(\"COPERNICUS/S2\") \\\n",
    "    .filterBounds(roi) \\\n",
    "    .filterDate('2019-01-01', '2021-06-03') \\\n",
    "    .filter(ee.Filter.lt('CLOUDY_PIXEL_PERCENTAGE', 5))\n",
    "print(images.size().getInfo())\n",
    "Map.addLayer(images.first(), rgbVis, 'RGB')\n",
    "# print(images.first().getInfo())"
   ]
  },
  {
   "cell_type": "code",
   "execution_count": null,
   "metadata": {
    "ExecuteTime": {
     "end_time": "2021-06-03T07:12:33.276975Z",
     "start_time": "2021-06-03T07:12:29.231485Z"
    }
   },
   "outputs": [],
   "source": [
    "points = images.map(add_property)\n",
    "\n",
    "geemap.ee_to_csv(ee.FeatureCollection(points),'yangtzeRiver_sentinel2.csv')"
   ]
  },
  {
   "cell_type": "code",
   "execution_count": null,
   "metadata": {},
   "outputs": [],
   "source": []
  }
 ],
 "metadata": {
  "hide_input": false,
  "kernelspec": {
   "display_name": "Python 3 (ipykernel)",
   "language": "python",
   "name": "python3"
  },
  "language_info": {
   "codemirror_mode": {
    "name": "ipython",
    "version": 3
   },
   "file_extension": ".py",
   "mimetype": "text/x-python",
   "name": "python",
   "nbconvert_exporter": "python",
   "pygments_lexer": "ipython3",
   "version": "3.8.5"
  },
  "toc": {
   "base_numbering": 1,
   "nav_menu": {},
   "number_sections": true,
   "sideBar": true,
   "skip_h1_title": false,
   "title_cell": "Table of Contents",
   "title_sidebar": "Contents",
   "toc_cell": false,
   "toc_position": {},
   "toc_section_display": true,
   "toc_window_display": false
  },
  "varInspector": {
   "cols": {
    "lenName": 16,
    "lenType": 16,
    "lenVar": 40
   },
   "kernels_config": {
    "python": {
     "delete_cmd_postfix": "",
     "delete_cmd_prefix": "del ",
     "library": "var_list.py",
     "varRefreshCmd": "print(var_dic_list())"
    },
    "r": {
     "delete_cmd_postfix": ") ",
     "delete_cmd_prefix": "rm(",
     "library": "var_list.r",
     "varRefreshCmd": "cat(var_dic_list()) "
    }
   },
   "types_to_exclude": [
    "module",
    "function",
    "builtin_function_or_method",
    "instance",
    "_Feature"
   ],
   "window_display": false
  }
 },
 "nbformat": 4,
 "nbformat_minor": 4
}
