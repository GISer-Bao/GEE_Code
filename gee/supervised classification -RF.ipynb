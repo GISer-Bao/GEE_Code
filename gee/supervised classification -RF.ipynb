{
 "cells": [
  {
   "cell_type": "code",
   "execution_count": 1,
   "metadata": {
    "ExecuteTime": {
     "end_time": "2020-09-11T05:53:31.230168Z",
     "start_time": "2020-09-11T05:53:31.225182Z"
    }
   },
   "outputs": [],
   "source": [
    "import os\n",
    "os.environ['HTTP_PROXY'] = \"http://127.0.0.1:10809\"\n",
    "os.environ['HTTPS_PROXY'] = \"http://127.0.0.1:10809\""
   ]
  },
  {
   "cell_type": "code",
   "execution_count": 2,
   "metadata": {
    "ExecuteTime": {
     "end_time": "2020-09-11T05:53:33.929967Z",
     "start_time": "2020-09-11T05:53:32.793018Z"
    }
   },
   "outputs": [],
   "source": [
    "import ee\n",
    "import geemap\n",
    "\n",
    "Map = geemap.Map()\n",
    "Map"
   ]
  },
  {
   "cell_type": "code",
   "execution_count": 4,
   "metadata": {
    "ExecuteTime": {
     "end_time": "2020-09-11T05:53:40.636288Z",
     "start_time": "2020-09-11T05:53:39.576087Z"
    }
   },
   "outputs": [],
   "source": [
    "point = ee.Geometry.Point([-122.4439, 37.7538])\n",
    "\n",
    "image = ee.ImageCollection('LANDSAT/LC08/C01/T1_SR') \\\n",
    "    .filterBounds(point) \\\n",
    "    .filterDate('2016-01-01', '2016-12-31') \\\n",
    "    .sort('CLOUD_COVER') \\\n",
    "    .first() \\\n",
    "    .select('B[1-7]')\n",
    "\n",
    "vis_params = {\n",
    "    'min': 0,\n",
    "    'max': 3000,\n",
    "    'bands': ['B5', 'B4', 'B3']\n",
    "}\n",
    "\n",
    "Map.centerObject(point, 8)\n",
    "Map.addLayer(image, vis_params, \"Landsat-8\")"
   ]
  },
  {
   "cell_type": "markdown",
   "metadata": {},
   "source": [
    "Check image properties"
   ]
  },
  {
   "cell_type": "code",
   "execution_count": 5,
   "metadata": {
    "ExecuteTime": {
     "end_time": "2020-09-11T05:53:51.217965Z",
     "start_time": "2020-09-11T05:53:50.217604Z"
    }
   },
   "outputs": [
    {
     "name": "stdout",
     "output_type": "stream",
     "text": [
      "Date: 2016-11-18\n",
      "cloud_cover: 0.08\n"
     ]
    }
   ],
   "source": [
    "# 影像的属性信息\n",
    "print('Date:',ee.Date(image.get('system:time_start')).format('YYYY-MM-dd').getInfo())\n",
    "print('cloud_cover:',image.get('CLOUD_COVER').getInfo())"
   ]
  },
  {
   "cell_type": "code",
   "execution_count": 6,
   "metadata": {
    "ExecuteTime": {
     "end_time": "2020-09-11T05:53:53.289391Z",
     "start_time": "2020-09-11T05:53:52.768782Z"
    },
    "scrolled": true
   },
   "outputs": [],
   "source": [
    "nlcd = ee.Image('USGS/NLCD/NLCD2016').select('landcover').clip(image.geometry())\n",
    "Map.addLayer(nlcd, {}, 'NLCD')\n",
    "\n",
    "# Make the training dataset.\n",
    "points = nlcd.sample(**{\n",
    "    'region': image.geometry(),\n",
    "    'scale': 30,\n",
    "    'numPixels': 5000,\n",
    "    'seed': 0,\n",
    "    'geometries': True  # Set this to False to ignore geometries\n",
    "})\n",
    "\n",
    "Map.addLayer(points, {}, 'training', False)\n",
    "\n",
    "print(points.size().getInfo())\n",
    "print(points.first().getInfo())"
   ]
  },
  {
   "cell_type": "code",
   "execution_count": 8,
   "metadata": {
    "ExecuteTime": {
     "end_time": "2020-09-11T05:54:01.567136Z",
     "start_time": "2020-09-11T05:54:01.561152Z"
    }
   },
   "outputs": [],
   "source": [
    "bands = ['B1','B2', 'B3', 'B4', 'B5', 'B6', 'B7']\n",
    "label = 'landcover'\n",
    "\n",
    "# Overlay the points on the imagery to get training.\n",
    "training = image.select(bands).sampleRegions(**{\n",
    "  'collection': points,\n",
    "  'properties': [label],\n",
    "  'scale': 30\n",
    "})"
   ]
  },
  {
   "cell_type": "code",
   "execution_count": null,
   "metadata": {
    "ExecuteTime": {
     "end_time": "2020-09-11T05:54:09.760135Z",
     "start_time": "2020-09-11T05:54:09.136775Z"
    }
   },
   "outputs": [],
   "source": [
    "# 做精度评价\n",
    "# 在training要素集中增加一个random属性，值为0到1的随机数\n",
    "withRandom = training.randomColumn('random')\n",
    "\n",
    "#把生成随机数大于0.7的分成测试数据，否则为训练数据。这样可以把数据分成两份\n",
    "split = 0.7\n",
    "trainingPartition = withRandom.filter(ee.Filter.lt('random', split))\n",
    "testingPartition = withRandom.filter(ee.Filter.gte('random', split))\n",
    "\n",
    "# 利用70%数据随机森林进行训练\n",
    "trainedClassifier = ee.Classifier.smileRandomForest(5).train(trainingPartition,label,bands)\n",
    "#对Landsat-8进行分类\n",
    "result=image.select(bands).classify(trainedClassifier)\n",
    "\n",
    "Map.addLayer(result.randomVisualizer(), {}, 'classfied')"
   ]
  },
  {
   "cell_type": "code",
   "execution_count": 10,
   "metadata": {
    "ExecuteTime": {
     "end_time": "2020-09-11T05:54:09.760135Z",
     "start_time": "2020-09-11T05:54:09.136775Z"
    },
    "scrolled": true
   },
   "outputs": [
    {
     "data": {
      "application/vnd.jupyter.widget-view+json": {
       "model_id": "d0a00666b3674672aadc4e795a6004a7",
       "version_major": 2,
       "version_minor": 0
      },
      "text/plain": [
       "Map(bottom=25611.0, center=[37.75379999999999, -122.44390000000001], controls=(WidgetControl(options=['positio…"
      ]
     },
     "metadata": {},
     "output_type": "display_data"
    }
   ],
   "source": [
    "class_values = nlcd.get('landcover_class_values').getInfo()\n",
    "class_palette = nlcd.get('landcover_class_palette').getInfo()\n",
    "landcover = result.set('classification_class_values', class_values)\n",
    "landcover = landcover.set('classification_class_palette', class_palette)\n",
    "\n",
    "Map.addLayer(landcover, {}, 'Land cover')\n",
    "\n",
    "print('Change layer opacity:')\n",
    "cluster_layer = Map.layers[-1]\n",
    "cluster_layer.interact(opacity=(0, 1, 0.1))\n",
    "\n",
    "Map.add_legend(builtin_legend='NLCD')"
   ]
  },
  {
   "cell_type": "code",
   "execution_count": 14,
   "metadata": {
    "ExecuteTime": {
     "end_time": "2020-09-11T05:54:40.902383Z",
     "start_time": "2020-09-11T05:54:40.898393Z"
    },
    "scrolled": true
   },
   "outputs": [],
   "source": [
    "train_accuracy = trainedClassifier.confusionMatrix()\n",
    "\n",
    "train_accuracy.getInfo()\n",
    "\n",
    "print('accuracy:',train_accuracy.accuracy().getInfo())\n",
    "print('kappa:',train_accuracy.kappa().getInfo())\n",
    "print('producersAccuracy:',train_accuracy.producersAccuracy().getInfo())\n",
    "print('consumersAccuracy:',train_accuracy.consumersAccuracy().getInfo())"
   ]
  },
  {
   "cell_type": "code",
   "execution_count": 16,
   "metadata": {
    "ExecuteTime": {
     "end_time": "2020-09-11T05:54:48.508985Z",
     "start_time": "2020-09-11T05:54:48.504995Z"
    }
   },
   "outputs": [],
   "source": [
    "validated = testingPartition.classify(trainedClassifier)\n",
    "\n",
    "test_accuracy = validated.errorMatrix('landcover', 'classification')\n",
    "\n",
    "print('accuracy:',test_accuracy.accuracy().getInfo())\n",
    "print('kappa:',test_accuracy.kappa().getInfo())\n",
    "print('producersAccuracy:',test_accuracy.producersAccuracy().getInfo())\n",
    "print('consumersAccuracy:',test_accuracy.consumersAccuracy().getInfo())"
   ]
  },
  {
   "cell_type": "code",
   "execution_count": null,
   "metadata": {
    "ExecuteTime": {
     "end_time": "2020-09-11T05:33:25.338429Z",
     "start_time": "2020-09-11T05:33:20.723459Z"
    }
   },
   "outputs": [],
   "source": [
    "import csv\n",
    "import os\n",
    "\n",
    "out_dir = os.path.join(os.path.expanduser('~'), 'Downloads')\n",
    "training_csv = os.path.join(out_dir, 'train_accuracy.csv')\n",
    "testing_csv = os.path.join(out_dir, 'test_accuracy.csv')\n",
    "\n",
    "with open(training_csv, \"w\", newline=\"\") as f:\n",
    "    writer = csv.writer(f)\n",
    "    writer.writerows(train_accuracy.getInfo())\n",
    "    \n",
    "with open(testing_csv, \"w\", newline=\"\") as f:\n",
    "    writer = csv.writer(f)\n",
    "    writer.writerows(test_accuracy.getInfo())"
   ]
  },
  {
   "cell_type": "code",
   "execution_count": null,
   "metadata": {},
   "outputs": [],
   "source": []
  }
 ],
 "metadata": {
  "hide_input": false,
  "kernelspec": {
   "display_name": "Python 3 (ipykernel)",
   "language": "python",
   "name": "python3"
  },
  "language_info": {
   "codemirror_mode": {
    "name": "ipython",
    "version": 3
   },
   "file_extension": ".py",
   "mimetype": "text/x-python",
   "name": "python",
   "nbconvert_exporter": "python",
   "pygments_lexer": "ipython3",
   "version": "3.8.5"
  },
  "toc": {
   "base_numbering": 1,
   "nav_menu": {},
   "number_sections": true,
   "sideBar": true,
   "skip_h1_title": false,
   "title_cell": "Table of Contents",
   "title_sidebar": "Contents",
   "toc_cell": false,
   "toc_position": {},
   "toc_section_display": true,
   "toc_window_display": false
  },
  "varInspector": {
   "cols": {
    "lenName": 16,
    "lenType": 16,
    "lenVar": 40
   },
   "kernels_config": {
    "python": {
     "delete_cmd_postfix": "",
     "delete_cmd_prefix": "del ",
     "library": "var_list.py",
     "varRefreshCmd": "print(var_dic_list())"
    },
    "r": {
     "delete_cmd_postfix": ") ",
     "delete_cmd_prefix": "rm(",
     "library": "var_list.r",
     "varRefreshCmd": "cat(var_dic_list()) "
    }
   },
   "types_to_exclude": [
    "module",
    "function",
    "builtin_function_or_method",
    "instance",
    "_Feature"
   ],
   "window_display": false
  }
 },
 "nbformat": 4,
 "nbformat_minor": 4
}
