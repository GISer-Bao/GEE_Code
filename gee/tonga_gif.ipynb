{
 "cells": [
  {
   "cell_type": "code",
   "execution_count": 1,
   "id": "ebea7dff",
   "metadata": {
    "ExecuteTime": {
     "end_time": "2022-02-23T07:35:47.561898Z",
     "start_time": "2022-02-23T07:35:47.552919Z"
    }
   },
   "outputs": [],
   "source": [
    "import os\n",
    "os.environ['HTTP_PROXY'] = \"http://127.0.0.1:10809\"\n",
    "os.environ['HTTPS_PROXY'] = \"http://127.0.0.1:10809\""
   ]
  },
  {
   "cell_type": "code",
   "execution_count": 2,
   "id": "2b0c28ef",
   "metadata": {
    "ExecuteTime": {
     "end_time": "2022-02-23T07:36:02.620868Z",
     "start_time": "2022-02-23T07:35:48.018236Z"
    }
   },
   "outputs": [
    {
     "data": {
      "application/vnd.jupyter.widget-view+json": {
       "model_id": "5c6d4721c6bd4955ac49918b5b6e9445",
       "version_major": 2,
       "version_minor": 0
      },
      "text/plain": [
       "Map(center=[20, 0], controls=(WidgetControl(options=['position', 'transparent_bg'], widget=HBox(children=(Togg…"
      ]
     },
     "metadata": {},
     "output_type": "display_data"
    }
   ],
   "source": [
    "import geemap\n",
    "import ee\n",
    "Map=geemap.Map()\n",
    "Map"
   ]
  },
  {
   "cell_type": "code",
   "execution_count": 3,
   "id": "b86a0e84",
   "metadata": {
    "ExecuteTime": {
     "end_time": "2022-02-23T07:36:03.156783Z",
     "start_time": "2022-02-23T07:36:03.145706Z"
    }
   },
   "outputs": [],
   "source": [
    "# (-175.385+177.0098) / (-173.0372+177.0098)\n",
    "\n",
    "# (-18.9768+20.550) / (-18.9768+22.0396)"
   ]
  },
  {
   "cell_type": "code",
   "execution_count": 4,
   "id": "5cd97db8",
   "metadata": {
    "ExecuteTime": {
     "end_time": "2022-02-23T07:36:05.630192Z",
     "start_time": "2022-02-23T07:36:03.679965Z"
    }
   },
   "outputs": [],
   "source": [
    "image1 = ee.Image(\"users/311605001111/tonga/20220106\")\n",
    "image2 = ee.Image(\"users/311605001111/tonga/20220107\")\n",
    "image3 = ee.Image(\"users/311605001111/tonga/20220108\")\n",
    "image10 = ee.Image(\"users/311605001111/tonga/20220110\")\n",
    "Map.addLayer(image1,{'palette':['white','green']},\"image1\")\n",
    "Map.addLayer(image2,{'palette':['white','green']},\"image2\")\n",
    "Map.addLayer(image3,{'palette':['white','green']},\"image3\")\n",
    "Map.addLayer(image10,{'palette':['white','green']},\"image10\")"
   ]
  },
  {
   "cell_type": "code",
   "execution_count": 5,
   "id": "d44af219",
   "metadata": {
    "ExecuteTime": {
     "end_time": "2022-02-23T07:36:06.132687Z",
     "start_time": "2022-02-23T07:36:06.118147Z"
    }
   },
   "outputs": [],
   "source": [
    "image06 = ee.Image(\"users/311605001111/tonga/20220106\")\n",
    "image07 = ee.Image(\"users/311605001111/tonga/20220107\")\n",
    "image08 = ee.Image(\"users/311605001111/tonga/20220108\")\n",
    "image09 = ee.Image(\"users/311605001111/tonga/20220109\")\n",
    "image10 = ee.Image(\"users/311605001111/tonga/20220110\")\n",
    "image11 = ee.Image(\"users/311605001111/tonga/20220111\")\n",
    "image12 = ee.Image(\"users/311605001111/tonga/20220112\")\n",
    "image13 = ee.Image(\"users/311605001111/tonga/20220113\")\n",
    "\n",
    "image15 = ee.Image(\"users/311605001111/tonga/20220115\")\n",
    "image16 = ee.Image(\"users/311605001111/tonga/20220116\")\n",
    "image17 = ee.Image(\"users/311605001111/tonga/20220117\")\n",
    "\n",
    "image19 = ee.Image(\"users/311605001111/tonga/20220119\")\n",
    "image20 = ee.Image(\"users/311605001111/tonga/20220120\")\n",
    "image21 = ee.Image(\"users/311605001111/tonga/20220121\")\n",
    "image22 = ee.Image(\"users/311605001111/tonga/20220122\")\n",
    "image23 = ee.Image(\"users/311605001111/tonga/20220123\")\n",
    "image24 = ee.Image(\"users/311605001111/tonga/20220124\")\n",
    "image25 = ee.Image(\"users/311605001111/tonga/20220125\")\n",
    "image26 = ee.Image(\"users/311605001111/tonga/20220126\")"
   ]
  },
  {
   "cell_type": "code",
   "execution_count": 6,
   "id": "bd6673e7",
   "metadata": {
    "ExecuteTime": {
     "end_time": "2022-02-23T07:36:06.652770Z",
     "start_time": "2022-02-23T07:36:06.637531Z"
    }
   },
   "outputs": [],
   "source": [
    "image0607 = ee.ImageCollection([image06.selfMask(),image07.selfMask()]).mean()\n",
    "image0809 = ee.ImageCollection([image08.selfMask(),image09.selfMask()]).mean()\n",
    "image1011 = ee.ImageCollection([image10.selfMask(),image11.selfMask()]).mean()\n",
    "image1213 = ee.ImageCollection([image12.selfMask(),image13.selfMask()]).mean()\n",
    "\n",
    "image1516 = ee.ImageCollection([image15.selfMask(),image16.selfMask()]).mean()\n",
    "image17 = ee.ImageCollection([image17.selfMask()]).mean()\n",
    "\n",
    "image1920 = ee.ImageCollection([image19.selfMask(),image20.selfMask()]).mean()\n",
    "image2122 = ee.ImageCollection([image21.selfMask(),image22.selfMask()]).mean()\n",
    "image2324 = ee.ImageCollection([image23.selfMask(),image24.selfMask()]).mean()\n",
    "image2526 = ee.ImageCollection([image25.selfMask(),image26.selfMask()]).mean()\n"
   ]
  },
  {
   "cell_type": "code",
   "execution_count": 7,
   "id": "86582dcd",
   "metadata": {
    "ExecuteTime": {
     "end_time": "2022-02-23T07:36:07.687100Z",
     "start_time": "2022-02-23T07:36:07.153197Z"
    }
   },
   "outputs": [],
   "source": [
    "roi = ee.Geometry.Rectangle([-177.0098, -22.0396,-173.0372, -18.9768])\n",
    "basemap = ee.Image.constant(0).clip(roi).rename('b1').float()\n",
    "qq = ee.ImageCollection([basemap,image1011]).sum().float()\n",
    "Map.addLayer(qq,{'palette':['white','#d6a51b'],'min': 0.0,'max': 100.0},'qq')"
   ]
  },
  {
   "cell_type": "code",
   "execution_count": 9,
   "id": "1ea50ce5",
   "metadata": {
    "ExecuteTime": {
     "end_time": "2022-02-23T07:37:32.483185Z",
     "start_time": "2022-02-23T07:37:31.712996Z"
    }
   },
   "outputs": [],
   "source": [
    "task = ee.batch.Export.image.toAsset(**{\n",
    "    'image': qq,\n",
    "    'description': '1011',\n",
    "    'assetId': 'users/311605001111/tonga_' + '20220110',\n",
    "    'scale': 300,\n",
    "    'region': roi,\n",
    "    'maxPixels':1e13,\n",
    "})\n",
    "task.start()"
   ]
  },
  {
   "cell_type": "code",
   "execution_count": null,
   "id": "90f6b41d",
   "metadata": {},
   "outputs": [],
   "source": []
  },
  {
   "cell_type": "code",
   "execution_count": null,
   "id": "210df830",
   "metadata": {},
   "outputs": [],
   "source": []
  },
  {
   "cell_type": "code",
   "execution_count": null,
   "id": "a8b7569b",
   "metadata": {
    "ExecuteTime": {
     "end_time": "2022-02-23T07:18:03.723021Z",
     "start_time": "2022-02-23T07:18:03.333454Z"
    }
   },
   "outputs": [],
   "source": [
    "# 火山位置\n",
    "triangle = ee.Geometry.Polygon([[-175.4312, -20.5783],[-175.3351, -20.5796],[-175.3767, -20.4986]])\n",
    "volcano = ee.Image.constant(0).clip(triangle).rename('b1').visualize(**{'palette':['red']})\n",
    "Map.addLayer(volcano,{},'volcano')"
   ]
  },
  {
   "cell_type": "code",
   "execution_count": null,
   "id": "d2feddcb",
   "metadata": {
    "ExecuteTime": {
     "end_time": "2022-02-23T07:18:10.557096Z",
     "start_time": "2022-02-23T07:18:07.370262Z"
    }
   },
   "outputs": [],
   "source": [
    "imgcol = ee.ImageCollection([image0607,image0809,image1011,image1213,image1516,image17,image1920,image2122,image2324,image2526])\n",
    "\n",
    "visParams = {'palette':['white','#d6a51b'],'min': 0.0,'max': 10.0}\n",
    "roi = ee.Geometry.Rectangle([-177.0098, -22.0396,-173.0372, -18.9768])\n",
    "basemap = ee.Image.constant(0).clip(roi).rename('b1')\n",
    "rgbVis = imgcol.map(lambda x: ee.ImageCollection([x,basemap]).sum().visualize(**visParams))\n",
    "\n",
    "\n",
    "gifParams = {\n",
    "  'region': roi,\n",
    "  'dimensions': 600,\n",
    "  'crs': 'EPSG:3857',\n",
    "  'framesPerSecond': 10\n",
    "}\n",
    "geemap.download_ee_video(rgbVis,gifParams,'tonga.gif')"
   ]
  },
  {
   "cell_type": "code",
   "execution_count": null,
   "id": "c56a7bb7",
   "metadata": {
    "ExecuteTime": {
     "end_time": "2022-02-23T07:01:52.366012Z",
     "start_time": "2022-02-23T07:01:52.336063Z"
    }
   },
   "outputs": [],
   "source": [
    "in_gif = os.path.abspath('../gee/tonga.gif')\n",
    "geemap.show_image(in_gif)"
   ]
  },
  {
   "cell_type": "code",
   "execution_count": null,
   "id": "4c3e8023",
   "metadata": {
    "ExecuteTime": {
     "end_time": "2022-02-23T07:18:16.884035Z",
     "start_time": "2022-02-23T07:18:15.640361Z"
    }
   },
   "outputs": [],
   "source": [
    "# 文件路径\n",
    "in_gif = os.path.abspath('../gee/tonga.gif')\n",
    "out_gif = os.path.join(os.path.expanduser('~'), 'Downloads/tonga_TSP.gif')\n",
    "# 添加日期\n",
    "dates = ['20220106-20220107','20220108-20220109','20220110-20220111','20220112-20220113','20220115-20220116','20220117','20220119-20220120','20220121-20220122','20220123-20220124','20220125-20220126']\n",
    "geemap.add_text_to_gif(in_gif, in_gif, xy=('3%', '5%'), text_sequence=dates, font_size=30, font_color='red',duration=1500,progress_bar_color='red')\n",
    "\n",
    "# 添加日期\n",
    "names = ['volcano','volcano','volcano','volcano','volcano','volcano','volcano','volcano','volcano','volcano']\n",
    "geemap.add_text_to_gif(in_gif, in_gif, xy=('43%', '51%'), text_sequence=names, font_size=14, font_color='red',duration=1500,progress_bar_color='red')\n",
    "\n",
    "\n",
    "# 添加图例\n",
    "colorbar = geemap.create_colorbar(width=250,height=30,palette=['white', '#d6a51b'],vertical=False,add_labels=True,font_size=20,labels=[0,10])\n",
    "geemap.add_image_to_gif(in_gif, in_gif, in_image=colorbar, xy = ('60%', '89%'), image_size=(250, 250))\n",
    "\n",
    "# 火山位置\n",
    "ee_logo = 'C:/Users/DELL/Downloads/pit1.png'\n",
    "geemap.add_image_to_gif(in_gif, out_gif, in_image=ee_logo, xy = ('41%', '51%'), image_size=(10, 10))\n",
    "geemap.show_image(out_gif)"
   ]
  },
  {
   "cell_type": "code",
   "execution_count": null,
   "id": "5dc1ea11",
   "metadata": {},
   "outputs": [],
   "source": []
  },
  {
   "cell_type": "code",
   "execution_count": null,
   "id": "d2cfd0c5",
   "metadata": {},
   "outputs": [],
   "source": []
  }
 ],
 "metadata": {
  "hide_input": false,
  "kernelspec": {
   "display_name": "Python 3 (ipykernel)",
   "language": "python",
   "name": "python3"
  },
  "language_info": {
   "codemirror_mode": {
    "name": "ipython",
    "version": 3
   },
   "file_extension": ".py",
   "mimetype": "text/x-python",
   "name": "python",
   "nbconvert_exporter": "python",
   "pygments_lexer": "ipython3",
   "version": "3.8.5"
  },
  "toc": {
   "base_numbering": 1,
   "nav_menu": {},
   "number_sections": true,
   "sideBar": true,
   "skip_h1_title": false,
   "title_cell": "Table of Contents",
   "title_sidebar": "Contents",
   "toc_cell": false,
   "toc_position": {},
   "toc_section_display": true,
   "toc_window_display": false
  },
  "varInspector": {
   "cols": {
    "lenName": 16,
    "lenType": 16,
    "lenVar": 40
   },
   "kernels_config": {
    "python": {
     "delete_cmd_postfix": "",
     "delete_cmd_prefix": "del ",
     "library": "var_list.py",
     "varRefreshCmd": "print(var_dic_list())"
    },
    "r": {
     "delete_cmd_postfix": ") ",
     "delete_cmd_prefix": "rm(",
     "library": "var_list.r",
     "varRefreshCmd": "cat(var_dic_list()) "
    }
   },
   "types_to_exclude": [
    "module",
    "function",
    "builtin_function_or_method",
    "instance",
    "_Feature"
   ],
   "window_display": false
  }
 },
 "nbformat": 4,
 "nbformat_minor": 5
}
