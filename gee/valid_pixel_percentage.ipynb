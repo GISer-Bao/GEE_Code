{
 "cells": [
  {
   "cell_type": "code",
   "execution_count": 1,
   "id": "c031b51b",
   "metadata": {
    "ExecuteTime": {
     "end_time": "2021-07-12T07:10:25.700862Z",
     "start_time": "2021-07-12T07:10:25.694879Z"
    }
   },
   "outputs": [],
   "source": [
    "import os\n",
    "os.environ['HTTP_PROXY'] = \"http://127.0.0.1:10809\"\n",
    "os.environ['HTTPS_PROXY'] = \"http://127.0.0.1:10809\""
   ]
  },
  {
   "cell_type": "code",
   "execution_count": 2,
   "id": "331d78eb",
   "metadata": {
    "ExecuteTime": {
     "end_time": "2021-07-12T07:10:29.974769Z",
     "start_time": "2021-07-12T07:10:26.047415Z"
    },
    "scrolled": false
   },
   "outputs": [
    {
     "data": {
      "application/vnd.jupyter.widget-view+json": {
       "model_id": "2275999713cb4e2c98f655b4310b3017",
       "version_major": 2,
       "version_minor": 0
      },
      "text/plain": [
       "Map(center=[40, -100], controls=(WidgetControl(options=['position', 'transparent_bg'], widget=HBox(children=(T…"
      ]
     },
     "metadata": {},
     "output_type": "display_data"
    }
   ],
   "source": [
    "import geemap\n",
    "import ee\n",
    "Map=geemap.Map()\n",
    "Map"
   ]
  },
  {
   "cell_type": "code",
   "execution_count": 3,
   "id": "68b91c9e",
   "metadata": {
    "ExecuteTime": {
     "end_time": "2021-07-12T07:10:30.708216Z",
     "start_time": "2021-07-12T07:10:30.023639Z"
    }
   },
   "outputs": [],
   "source": [
    "# 青海省部分地区\n",
    "roi = ee.Geometry.Rectangle([90.102623, 34.677942,90.7077, 35.317184])\n",
    "region = [90.102623, 34.677942,90.7077, 35.317184]\n",
    "# roi = ee.Geometry.Rectangle([114.059, 30.2318,114.656, 30.8052])\n",
    "# region = [114.059, 30.2318,114.656, 30.8052]\n",
    "Map.addLayer(roi, {}, \"roi\")\n",
    "Map.centerObject(roi,9)"
   ]
  },
  {
   "cell_type": "code",
   "execution_count": 4,
   "id": "bf210478",
   "metadata": {
    "ExecuteTime": {
     "end_time": "2021-07-12T07:10:30.772076Z",
     "start_time": "2021-07-12T07:10:30.757085Z"
    }
   },
   "outputs": [],
   "source": [
    "# 去云、云阴影、雪掩膜函数\n",
    "def maskL8sr(image):\n",
    "    cloudShadowBitMask = (1 << 3)\n",
    "    cloudsBitMask = (1 << 5)\n",
    "    snowBitMask = (1 << 4)   \n",
    "    qa = image.select('pixel_qa')\n",
    "    mask = qa.bitwiseAnd(cloudShadowBitMask).eq(0) \\\n",
    "                   .And(qa.bitwiseAnd(cloudsBitMask).eq(0)) \\\n",
    "                   .And(qa.bitwiseAnd(snowBitMask).eq(0))\n",
    "    return image.updateMask(mask)\n",
    "\n",
    "# AWEI(自动水体提取指数): AWEIsh = B2 + 2.5B3 - 1.5(B5+B6) - 0.25B7\n",
    "def water_index(image):\n",
    "    ndvi=image.normalizedDifference(['B5', 'B4']).rename('NDVI')\n",
    "    mndwi=image.normalizedDifference(['B3', 'B6']).rename(\"mNDWI\") \n",
    "    ndvi_mndwi = ndvi.subtract(mndwi).rename('ndvi_mndwi')\n",
    "    awei = image.expression('B2 + 2.5*B3 - 1.5*(B5+B6) - 0.25*B7',\n",
    "        {\n",
    "          'B2': image.select('B2'),\n",
    "          'B3': image.select('B3'),    \n",
    "          'B5': image.select('B5'),    \n",
    "          'B6': image.select('B6'),\n",
    "          'B7': image.select('B7'),\n",
    "        }).rename('AWEI')\n",
    "    return image.addBands(ndvi_mndwi).addBands(ndvi).addBands(mndwi).addBands(awei)\n",
    "\n",
    "visParams = {\n",
    "    'bands': ['B5', 'B6', 'B4'],\n",
    "    'min': 0,\n",
    "    'max': 3000,\n",
    "    'gamma': 1.4,\n",
    "}"
   ]
  },
  {
   "cell_type": "markdown",
   "id": "5ab00316",
   "metadata": {},
   "source": [
    "# 计算percentage"
   ]
  },
  {
   "cell_type": "code",
   "execution_count": 5,
   "id": "a92b4135",
   "metadata": {
    "ExecuteTime": {
     "end_time": "2021-07-12T07:10:33.080624Z",
     "start_time": "2021-07-12T07:10:30.820587Z"
    }
   },
   "outputs": [],
   "source": [
    "landsat_images = ee.ImageCollection('LANDSAT/LC08/C01/T1_SR') \\\n",
    "    .filterBounds(roi) \\\n",
    "    .filterDate('2018-01-01', '2018-12-31')\n",
    "\n",
    "water_mask = water_index(landsat_images.map(maskL8sr).mosaic()).select('ndvi_mndwi').lt(0).clip(roi)\n",
    "Map.addLayer(water_mask,{'palette':['white','blue'],'min':0,'max':1},\"water mask\")\n",
    "\n",
    "validPixel = landsat_images.map(maskL8sr).count().select('B3').clip(roi).rename('count')\n",
    "basemap = ee.Image.constant(0).clip(roi).rename('count')\n",
    "validPixel = ee.ImageCollection([validPixel,basemap]).sum()\n",
    "Map.addLayer(validPixel,{'palette':['white','#e40775'],'min':0,'max':63},\"validPixel\")\n",
    "\n",
    "allPixel = landsat_images.count().select('B3').clip(roi).rename('count')\n",
    "Map.addLayer(allPixel,{'palette':['white','green'],'min':0,'max':90},\"all Pixel\")\n",
    "\n",
    "water_mask = water_index(landsat_images.map(maskL8sr).mosaic()).select('ndvi_mndwi').lt(0).clip(roi)\n",
    "validPercent = validPixel.select('count').divide(allPixel.select('count')).updateMask(water_mask)\n",
    "Map.addLayer(validPercent,{'palette':['blue','red'],'min':0,'max':1},\"valid percent\")"
   ]
  },
  {
   "cell_type": "code",
   "execution_count": 6,
   "id": "7013ba22",
   "metadata": {
    "ExecuteTime": {
     "end_time": "2021-07-12T07:10:58.405813Z",
     "start_time": "2021-07-12T07:10:33.272431Z"
    }
   },
   "outputs": [
    {
     "name": "stdout",
     "output_type": "stream",
     "text": [
      "{'count_max': 34, 'count_min': 1}\n"
     ]
    }
   ],
   "source": [
    "minmax = validPixel.updateMask(water_mask).reduceRegion(**{\n",
    "    'reducer': ee.Reducer.minMax(),\n",
    "    'geometry': roi,\n",
    "    'scale': 30,\n",
    "    'maxPixels': 1e14,\n",
    "})\n",
    "print(minmax.getInfo())"
   ]
  },
  {
   "cell_type": "code",
   "execution_count": 7,
   "id": "663d616c",
   "metadata": {
    "ExecuteTime": {
     "end_time": "2021-07-12T07:11:00.529467Z",
     "start_time": "2021-07-12T07:10:58.692959Z"
    },
    "scrolled": false
   },
   "outputs": [
    {
     "name": "stdout",
     "output_type": "stream",
     "text": [
      "[0, 1, 2, 3, 4, 5, 6, 7, 8, 9, 10, 11, 12, 13, 14, 15, 16, 17, 18, 19, 20, 21, 22, 23, 24, 26, 26, 27, 28, 30, 30, 31, 32, 33, 34, 35, 36]\n",
      "[10180, 69359.37254901958, 232266.39607843145, 292799.4235294118, 367153.1450980391, 281297.70196078427, 470271.0000000006, 156419.9411764706, 619994.8823529416, 456529.32941176486, 573643.2, 449975.25490196084, 316099.66666666674, 143637.06666666642, 89857.07058823529, 48858.87843137255, 56913.2274509804, 17828.415686274508, 43442.92941176469, 40062.117647058825, 52873.592156862745, 43763.54509803922, 67393.3960784314, 55143.70588235295, 142451.92549019615, 41256.78823529414, 62246.2627450981, 23809.235294117658, 46741.35686274512, 26048.313725490207, 5531.498039215687, 8353.7882352941, 8604.07058823527, 2676.847058823528, 1464.8470588235307, 210, 24.250980392156862]\n"
     ]
    },
    {
     "data": {
      "image/png": "[encoded data removed]",
      "text/plain": [
       "<Figure size 432x288 with 1 Axes>"
      ]
     },
     "metadata": {
      "needs_background": "light"
     },
     "output_type": "display_data"
    }
   ],
   "source": [
    "all_HistogramCount = validPixel.reduceRegion(**{\n",
    "    'reducer': ee.Reducer.histogram(100,1),\n",
    "    'geometry': roi,\n",
    "    'scale': 30,\n",
    "})\n",
    "\n",
    "x = ee.Array(ee.Dictionary(all_HistogramCount.get('count')).get('bucketMeans')).int().getInfo()\n",
    "y = ee.Dictionary(all_HistogramCount.get('count')).get('histogram').getInfo()\n",
    "print(x)\n",
    "print(y)\n",
    "\n",
    "# -*- coding: utf-8 -*-\n",
    "import numpy as np  \n",
    "import matplotlib.mlab as mlab  \n",
    "import matplotlib.pyplot as plt   \n",
    "fig = plt.figure()\n",
    "plt.bar(x,y,0.8,color=\"green\")\n",
    "plt.xlabel(\"valid number\")\n",
    "plt.ylabel(\"count\")\n",
    "plt.title(\"the whole area\")\n",
    "\n",
    "plt.show()  \n",
    "# plt.savefig(\"barChart.jpg\")"
   ]
  },
  {
   "cell_type": "code",
   "execution_count": null,
   "id": "f6e5744f",
   "metadata": {
    "ExecuteTime": {
     "end_time": "2021-06-19T03:06:35.778419Z",
     "start_time": "2021-06-19T03:06:34.779473Z"
    }
   },
   "outputs": [],
   "source": [
    "water_HistogramCount = validPixel.updateMask(water_mask).reduceRegion(**{\n",
    "    'reducer': ee.Reducer.histogram(100,1),\n",
    "    'geometry': roi,\n",
    "    'scale': 30,\n",
    "})\n",
    "\n",
    "water_x = ee.Array(ee.Dictionary(water_HistogramCount.get('count')).get('bucketMeans')).int().getInfo()\n",
    "water_y = ee.Dictionary(water_HistogramCount.get('count')).get('histogram').getInfo()\n",
    "print(water_x)\n",
    "print(water_y)\n",
    "\n",
    "# -*- coding: utf-8 -*-\n",
    "import numpy as np  \n",
    "import matplotlib.mlab as mlab  \n",
    "import matplotlib.pyplot as plt   \n",
    "fig = plt.figure()\n",
    "plt.bar(water_x,water_y,0.8,color=\"green\")\n",
    "plt.xlabel(\"valid number\")\n",
    "plt.ylabel(\"count\")\n",
    "plt.title(\"the water area\")\n",
    "\n",
    "plt.show()  "
   ]
  },
  {
   "cell_type": "code",
   "execution_count": null,
   "id": "a53f2bc1",
   "metadata": {},
   "outputs": [],
   "source": []
  },
  {
   "cell_type": "code",
   "execution_count": null,
   "id": "3143c6f9",
   "metadata": {},
   "outputs": [],
   "source": []
  },
  {
   "cell_type": "code",
   "execution_count": null,
   "id": "8390a2de",
   "metadata": {
    "ExecuteTime": {
     "end_time": "2021-06-16T03:14:36.321614Z",
     "start_time": "2021-06-16T03:14:11.420336Z"
    }
   },
   "outputs": [],
   "source": [
    "minmax = validPixel.reduceRegion(**{\n",
    "    'reducer': ee.Reducer.minMax(),\n",
    "    'geometry': roi,\n",
    "    'scale': 30,\n",
    "    'maxPixels': 1e14,\n",
    "})\n",
    "print(minmax.getInfo())"
   ]
  },
  {
   "cell_type": "code",
   "execution_count": null,
   "id": "a9c8dbbd",
   "metadata": {
    "ExecuteTime": {
     "end_time": "2021-06-10T23:08:27.221235Z",
     "start_time": "2021-06-10T23:08:26.851584Z"
    }
   },
   "outputs": [],
   "source": [
    "minmax = allPixel.reduceRegion(**{\n",
    "    'reducer': ee.Reducer.minMax(),\n",
    "    'geometry': roi,\n",
    "    'scale': 30,\n",
    "    'maxPixels': 1e14,\n",
    "})\n",
    "print(minmax.getInfo())"
   ]
  },
  {
   "cell_type": "code",
   "execution_count": null,
   "id": "4345db4f",
   "metadata": {
    "ExecuteTime": {
     "end_time": "2021-06-10T23:08:28.828277Z",
     "start_time": "2021-06-10T23:08:28.496866Z"
    }
   },
   "outputs": [],
   "source": [
    "minmax = validPercent.reduceRegion(**{\n",
    "    'reducer': ee.Reducer.minMax(),\n",
    "    'geometry': roi,\n",
    "    'scale': 30,\n",
    "    'maxPixels': 1e14,\n",
    "})\n",
    "print(minmax.getInfo())"
   ]
  },
  {
   "cell_type": "code",
   "execution_count": null,
   "id": "dc9aafa9",
   "metadata": {
    "ExecuteTime": {
     "end_time": "2021-06-10T14:42:50.924754Z",
     "start_time": "2021-06-10T14:42:25.467930Z"
    }
   },
   "outputs": [],
   "source": [
    "from matplotlib import pyplot as plt\n",
    "import numpy as np\n",
    "import matplotlib\n",
    "from geemap import cartoee\n",
    "visParams = {\n",
    "  'min': 0.0,\n",
    "  'max': 35.0,\n",
    "  'palette': ['FFFFFF','0000FF'],\n",
    "}\n",
    "ax = cartoee.get_map(validPixel,region=region,vis_params=visParams)\n",
    "cartoee.add_colorbar(ax, vis_params=visParams,loc=\"right\",label=\"number\", orientation=\"vertical\")\n",
    "cartoee.add_gridlines(ax, interval=[0.1,0.1], linestyle=\":\")\n",
    "ax.set_title(label = 'valid Pixel in 2018', fontsize=14)"
   ]
  },
  {
   "cell_type": "code",
   "execution_count": null,
   "id": "405c004a",
   "metadata": {
    "ExecuteTime": {
     "end_time": "2021-06-10T14:43:03.054985Z",
     "start_time": "2021-06-10T14:42:52.556790Z"
    }
   },
   "outputs": [],
   "source": [
    "from matplotlib import pyplot as plt\n",
    "import numpy as np\n",
    "import matplotlib\n",
    "from geemap import cartoee\n",
    "visParams = {\n",
    "  'min': 0.0,\n",
    "  'max': 50.0,\n",
    "  'palette': ['FFFFFF','FF0000'],\n",
    "}\n",
    "ax = cartoee.get_map(allPixel,region=region,vis_params=visParams)\n",
    "cartoee.add_colorbar(ax, vis_params=visParams,loc=\"right\",label=\"number\", orientation=\"vertical\")\n",
    "cartoee.add_gridlines(ax, interval=[0.1,0.1], linestyle=\":\")\n",
    "ax.set_title(label = 'all Pixel in 2018', fontsize=14)"
   ]
  },
  {
   "cell_type": "code",
   "execution_count": null,
   "id": "23ca2a00",
   "metadata": {
    "ExecuteTime": {
     "end_time": "2021-06-10T14:56:01.986634Z",
     "start_time": "2021-06-10T14:55:30.367432Z"
    }
   },
   "outputs": [],
   "source": [
    "from matplotlib import pyplot as plt\n",
    "import numpy as np\n",
    "import matplotlib\n",
    "from geemap import cartoee\n",
    "visParams = {\n",
    "  'min': 0.0,\n",
    "  'max': 1.0,\n",
    "  'palette': ['FF0000','0000FF'],\n",
    "}\n",
    "ax = cartoee.get_map(validPercent,region=region,vis_params=visParams)\n",
    "cartoee.add_colorbar(ax, vis_params=visParams,loc=\"right\",label=\"percentage\", orientation=\"vertical\")\n",
    "cartoee.add_gridlines(ax, interval=[0.1,0.1], linestyle=\":\")\n",
    "ax.set_title(label = 'valid percentage in 2018', fontsize=14)"
   ]
  },
  {
   "cell_type": "code",
   "execution_count": null,
   "id": "306f025c",
   "metadata": {
    "ExecuteTime": {
     "end_time": "2021-06-10T14:43:30.088452Z",
     "start_time": "2021-06-10T14:43:25.568843Z"
    }
   },
   "outputs": [],
   "source": [
    "from matplotlib import pyplot as plt\n",
    "import numpy as np\n",
    "import matplotlib\n",
    "from geemap import cartoee\n",
    "visParams = {\n",
    "    'bands': ['B5', 'B6', 'B4'],\n",
    "    'min': 0,\n",
    "    'max': 3000,\n",
    "    'gamma': 1.4,\n",
    "}\n",
    "fig = plt.figure(figsize=(12, 8))\n",
    "ax = cartoee.get_map(landsat_images.map(maskL8sr).mosaic(), region=region, vis_params=visParams)\n",
    "cartoee.add_gridlines(ax, interval=[0.1,0.1], linestyle=\":\")\n",
    "ax.set_title(label = 'landsat8 image in 2018', fontsize=20)"
   ]
  },
  {
   "cell_type": "markdown",
   "id": "899df947",
   "metadata": {},
   "source": [
    "# 制作gif"
   ]
  },
  {
   "cell_type": "code",
   "execution_count": null,
   "id": "1c1eb2cd",
   "metadata": {
    "ExecuteTime": {
     "end_time": "2021-06-10T14:57:37.977121Z",
     "start_time": "2021-06-10T14:57:06.718826Z"
    }
   },
   "outputs": [],
   "source": [
    "visParams = {\n",
    "    'bands': ['B5', 'B6', 'B4'],\n",
    "    'min': 0,\n",
    "    'max': 3000,\n",
    "    'gamma': 1.4,\n",
    "}\n",
    "\n",
    "landsat_images = ee.ImageCollection('LANDSAT/LC08/C01/T1_SR') \\\n",
    "    .filterBounds(roi) \\\n",
    "    .filterDate('2018-01-01', '2018-12-31') \\\n",
    "    .sort('system:time_start')\n",
    "rgbVis = landsat_images.map(lambda x:x.visualize(**visParams).clip(roi))\n",
    "\n",
    "gifParams = {\n",
    "  'region': roi,\n",
    "  'dimensions': 600,\n",
    "  'crs': 'EPSG:3857',\n",
    "  'framesPerSecond': 1\n",
    "}\n",
    "\n",
    "geemap.download_ee_video(rgbVis,gifParams,'Qinghai_Province.gif')"
   ]
  },
  {
   "cell_type": "code",
   "execution_count": null,
   "id": "5a5b8026",
   "metadata": {
    "ExecuteTime": {
     "end_time": "2021-06-10T14:59:42.281319Z",
     "start_time": "2021-06-10T14:59:39.479206Z"
    }
   },
   "outputs": [],
   "source": [
    "in_gif = os.path.abspath('../gee/Qinghai_Province.gif')\n",
    "out_gif = os.path.join(os.path.expanduser('~'), 'Downloads/output2.gif')\n",
    "dates = landsat_images.aggregate_array('system:time_start').sort().map(lambda d: ee.Date(d).format('YYYY-MM-dd')).getInfo()\n",
    "\n",
    "geemap.add_text_to_gif(in_gif, out_gif, xy=('2%', '4%'), text_sequence=dates, font_size=25, font_color='red',duration=1000,)\n",
    "geemap.add_text_to_gif(out_gif, out_gif, xy=('33%', '4%'), text_sequence='Part of Qinghai Province',font_size=27, font_color='red',duration=1100,progress_bar_color='red')"
   ]
  },
  {
   "cell_type": "code",
   "execution_count": null,
   "id": "0610b217",
   "metadata": {
    "ExecuteTime": {
     "end_time": "2021-06-10T14:59:44.049647Z",
     "start_time": "2021-06-10T14:59:43.954901Z"
    },
    "scrolled": false
   },
   "outputs": [],
   "source": [
    "geemap.show_image(out_gif)"
   ]
  },
  {
   "cell_type": "code",
   "execution_count": null,
   "id": "90ba04dc",
   "metadata": {},
   "outputs": [],
   "source": []
  }
 ],
 "metadata": {
  "hide_input": false,
  "kernelspec": {
   "display_name": "Python 3 (ipykernel)",
   "language": "python",
   "name": "python3"
  },
  "language_info": {
   "codemirror_mode": {
    "name": "ipython",
    "version": 3
   },
   "file_extension": ".py",
   "mimetype": "text/x-python",
   "name": "python",
   "nbconvert_exporter": "python",
   "pygments_lexer": "ipython3",
   "version": "3.8.5"
  },
  "toc": {
   "base_numbering": 1,
   "nav_menu": {},
   "number_sections": true,
   "sideBar": true,
   "skip_h1_title": false,
   "title_cell": "Table of Contents",
   "title_sidebar": "Contents",
   "toc_cell": false,
   "toc_position": {},
   "toc_section_display": true,
   "toc_window_display": false
  },
  "varInspector": {
   "cols": {
    "lenName": 16,
    "lenType": 16,
    "lenVar": 40
   },
   "kernels_config": {
    "python": {
     "delete_cmd_postfix": "",
     "delete_cmd_prefix": "del ",
     "library": "var_list.py",
     "varRefreshCmd": "print(var_dic_list())"
    },
    "r": {
     "delete_cmd_postfix": ") ",
     "delete_cmd_prefix": "rm(",
     "library": "var_list.r",
     "varRefreshCmd": "cat(var_dic_list()) "
    }
   },
   "types_to_exclude": [
    "module",
    "function",
    "builtin_function_or_method",
    "instance",
    "_Feature"
   ],
   "window_display": false
  }
 },
 "nbformat": 4,
 "nbformat_minor": 5
}
