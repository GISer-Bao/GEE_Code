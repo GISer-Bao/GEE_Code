{
 "cells": [
  {
   "cell_type": "code",
   "execution_count": null,
   "metadata": {
    "ExecuteTime": {
     "end_time": "2021-08-10T07:30:19.943128Z",
     "start_time": "2021-08-10T07:30:19.939109Z"
    }
   },
   "outputs": [],
   "source": [
    "import os\n",
    "os.environ['HTTP_PROXY'] = \"http://127.0.0.1:10809\"\n",
    "os.environ['HTTPS_PROXY'] = \"http://127.0.0.1:10809\""
   ]
  },
  {
   "cell_type": "code",
   "execution_count": null,
   "metadata": {
    "ExecuteTime": {
     "end_time": "2021-08-10T07:30:25.640813Z",
     "start_time": "2021-08-10T07:30:20.227235Z"
    },
    "scrolled": false
   },
   "outputs": [],
   "source": [
    "import geemap\n",
    "import ee\n",
    "Map=geemap.Map()\n",
    "Map"
   ]
  },
  {
   "cell_type": "markdown",
   "metadata": {},
   "source": [
    "# 天津市"
   ]
  },
  {
   "cell_type": "markdown",
   "metadata": {
    "ExecuteTime": {
     "end_time": "2021-07-12T02:30:21.421669Z",
     "start_time": "2021-07-12T02:30:21.404712Z"
    }
   },
   "source": [
    "## 区域"
   ]
  },
  {
   "cell_type": "code",
   "execution_count": null,
   "metadata": {
    "ExecuteTime": {
     "end_time": "2021-08-10T07:30:32.068322Z",
     "start_time": "2021-08-10T07:30:30.428374Z"
    }
   },
   "outputs": [],
   "source": [
    "roi = ee.FeatureCollection('users/311605001111/ChinaCity').filter(ee.Filter.eq('市','天津市'))\n",
    "Map.addLayer(roi, {}, \"roi\")\n",
    "Map.centerObject(roi,8)\n",
    "\n",
    "bd = roi.first().geometry().bounds()\n",
    "print(bd.getInfo())"
   ]
  },
  {
   "cell_type": "markdown",
   "metadata": {},
   "source": [
    "##  制图"
   ]
  },
  {
   "cell_type": "code",
   "execution_count": null,
   "metadata": {
    "ExecuteTime": {
     "end_time": "2021-05-26T14:59:45.851073Z",
     "start_time": "2021-05-26T14:58:41.586368Z"
    }
   },
   "outputs": [],
   "source": [
    "# 水体频率\n",
    "from matplotlib import pyplot as plt\n",
    "from geemap import cartoee\n",
    "import numpy as np\n",
    "import matplotlib\n",
    "region = [116.502, 38.354, 118.259, 40.451]\n",
    "vis = {'palette':['white', 'blue'],'min':0,'max':1}\n",
    "fig = plt.figure(figsize=(12, 8))\n",
    "# use cartoee to get a map\n",
    "ax = cartoee.get_map(waterfrequency, region=region, vis_params=vis)\n",
    "cartoee.add_gridlines(ax, interval=[0.5,0.5], linestyle=\":\")\n",
    "ax.set_title(label = 'waterbody frequency(tianjing) in 2018', fontsize=20)"
   ]
  },
  {
   "cell_type": "code",
   "execution_count": null,
   "metadata": {
    "ExecuteTime": {
     "end_time": "2021-05-27T00:38:40.136391Z",
     "start_time": "2021-05-27T00:37:35.572283Z"
    }
   },
   "outputs": [],
   "source": [
    "# 永久性水体\n",
    "from matplotlib import pyplot as plt\n",
    "import numpy as np\n",
    "import matplotlib\n",
    "from geemap import cartoee\n",
    "region = [116.502, 38.354, 118.259, 40.451]\n",
    "vis = {'palette':['CDCDCD','blue'],'min':0,'max':1}\n",
    "fig = plt.figure(figsize=(12, 8))\n",
    "ax = cartoee.get_map(permanentwater, region=region, vis_params=vis)\n",
    "cartoee.add_gridlines(ax, interval=[0.5,0.5], linestyle=\":\")\n",
    "ax.set_title(label = 'permanent water(tianjing) in 2018', fontsize=20)"
   ]
  },
  {
   "cell_type": "markdown",
   "metadata": {},
   "source": [
    "# 苏州市"
   ]
  },
  {
   "cell_type": "markdown",
   "metadata": {
    "ExecuteTime": {
     "end_time": "2021-07-12T02:42:35.511709Z",
     "start_time": "2021-07-12T02:42:35.495785Z"
    }
   },
   "source": [
    "## 区域"
   ]
  },
  {
   "cell_type": "code",
   "execution_count": null,
   "metadata": {},
   "outputs": [],
   "source": [
    "roi = ee.FeatureCollection('users/311605001111/ChinaCity').filter(ee.Filter.eq('市','苏州市'))\n",
    "Map.addLayer(roi, {}, \"roi\")\n",
    "Map.centerObject(roi,8)\n",
    "\n",
    "bd = roi.first().geometry().bounds()\n",
    "print(bd.getInfo())"
   ]
  },
  {
   "cell_type": "markdown",
   "metadata": {},
   "source": [
    "## 制图"
   ]
  },
  {
   "cell_type": "code",
   "execution_count": null,
   "metadata": {},
   "outputs": [],
   "source": [
    "# 水体频率\n",
    "from matplotlib import pyplot as plt\n",
    "from geemap import cartoee\n",
    "import numpy as np\n",
    "import matplotlib\n",
    "region = [123.548, 45.176, 126.00, 47.676]\n",
    "vis = {'palette':['white', 'blue'],'min':0,'max':1}\n",
    "fig = plt.figure(figsize=(12, 8))\n",
    "# use cartoee to get a map\n",
    "ax = cartoee.get_map(waterfrequency, region=region, vis_params=vis)\n",
    "cartoee.add_gridlines(ax, interval=[0.5,0.5], linestyle=\":\")\n",
    "ax.set_title(label = 'waterbody frequency(suzhou) in 2018', fontsize=20)"
   ]
  },
  {
   "cell_type": "code",
   "execution_count": null,
   "metadata": {},
   "outputs": [],
   "source": [
    "# 永久性水体\n",
    "from matplotlib import pyplot as plt\n",
    "import numpy as np\n",
    "import matplotlib\n",
    "from geemap import cartoee\n",
    "region = [123.548, 45.176, 126.00, 47.676]\n",
    "vis = {'palette':['CDCDCD','blue'],'min':0,'max':1}\n",
    "fig = plt.figure(figsize=(12, 8))\n",
    "ax = cartoee.get_map(permanentwater, region=region, vis_params=vis)\n",
    "cartoee.add_gridlines(ax, interval=[0.5,0.5], linestyle=\":\")\n",
    "ax.set_title(label = 'permanent water(suzhou) in 2018', fontsize=20)"
   ]
  },
  {
   "cell_type": "markdown",
   "metadata": {},
   "source": [
    "# 青藏高原，那曲市"
   ]
  },
  {
   "cell_type": "markdown",
   "metadata": {},
   "source": [
    "## 区域"
   ]
  },
  {
   "cell_type": "code",
   "execution_count": null,
   "metadata": {
    "ExecuteTime": {
     "end_time": "2021-08-10T07:55:01.835881Z",
     "start_time": "2021-08-10T07:55:01.195546Z"
    }
   },
   "outputs": [],
   "source": [
    "roi = ee.Geometry.Rectangle([86.974365, 30.431624,91.650147, 33.694569])\n",
    "Map.addLayer(roi, {}, \"roi\")\n",
    "Map.centerObject(roi,6)\n",
    "\n",
    "# china_city = ee.FeatureCollection('users/311605001111/ChinaCity')\n",
    "# roi = china_city.filter(ee.Filter.eq('市','那曲市'))\n",
    "# Map.addLayer(roi, {}, \"roi\")\n",
    "# Map.centerObject(roi,6)\n",
    "\n",
    "# bd = roi.first().geometry().bounds()\n",
    "# print(bd.getInfo())"
   ]
  },
  {
   "cell_type": "markdown",
   "metadata": {},
   "source": [
    "## 制图"
   ]
  },
  {
   "cell_type": "code",
   "execution_count": null,
   "metadata": {},
   "outputs": [],
   "source": [
    "# 水体频率\n",
    "from matplotlib import pyplot as plt\n",
    "from geemap import cartoee\n",
    "import numpy as np\n",
    "import matplotlib\n",
    "region = [123.548, 45.176, 126.00, 47.676]\n",
    "vis = {'palette':['white', 'blue'],'min':0,'max':1}\n",
    "fig = plt.figure(figsize=(12, 8))\n",
    "# use cartoee to get a map\n",
    "ax = cartoee.get_map(waterfrequency, region=region, vis_params=vis)\n",
    "cartoee.add_gridlines(ax, interval=[0.5,0.5], linestyle=\":\")\n",
    "ax.set_title(label = 'waterbody frequency(naqu) in 2018', fontsize=20)"
   ]
  },
  {
   "cell_type": "code",
   "execution_count": null,
   "metadata": {},
   "outputs": [],
   "source": [
    "# 永久性水体\n",
    "from matplotlib import pyplot as plt\n",
    "import numpy as np\n",
    "import matplotlib\n",
    "from geemap import cartoee\n",
    "region = [123.548, 45.176, 126.00, 47.676]\n",
    "vis = {'palette':['CDCDCD','blue'],'min':0,'max':1}\n",
    "fig = plt.figure(figsize=(12, 8))\n",
    "ax = cartoee.get_map(permanentwater, region=region, vis_params=vis)\n",
    "cartoee.add_gridlines(ax, interval=[0.5,0.5], linestyle=\":\")\n",
    "ax.set_title(label = 'permanent water(naqu) in 2018', fontsize=20)"
   ]
  },
  {
   "cell_type": "markdown",
   "metadata": {},
   "source": [
    "# 大庆市"
   ]
  },
  {
   "cell_type": "markdown",
   "metadata": {},
   "source": [
    "## 区域"
   ]
  },
  {
   "cell_type": "code",
   "execution_count": 4,
   "metadata": {
    "ExecuteTime": {
     "end_time": "2021-08-20T06:28:40.767371Z",
     "start_time": "2021-08-20T06:28:38.132728Z"
    }
   },
   "outputs": [
    {
     "name": "stdout",
     "output_type": "stream",
     "text": [
      "{'geodesic': False, 'type': 'Polygon', 'coordinates': [[[123.74839723665539, 45.37697171070392], [125.80236172631132, 45.37697171070392], [125.80236172631132, 47.47640562757888], [123.74839723665539, 47.47640562757888], [123.74839723665539, 45.37697171070392]]]}\n"
     ]
    }
   ],
   "source": [
    "roi = ee.FeatureCollection('users/311605001111/region/ChinaCity').filter(ee.Filter.eq('市','大庆市'))\n",
    "Map.addLayer(roi, {}, \"roi\")\n",
    "Map.centerObject(roi,8)\n",
    "\n",
    "bd = roi.first().geometry().bounds()\n",
    "print(bd.getInfo())"
   ]
  },
  {
   "cell_type": "markdown",
   "metadata": {},
   "source": [
    "## 制图"
   ]
  },
  {
   "cell_type": "code",
   "execution_count": null,
   "metadata": {},
   "outputs": [],
   "source": [
    "# 水体频率\n",
    "from matplotlib import pyplot as plt\n",
    "from geemap import cartoee\n",
    "import numpy as np\n",
    "import matplotlib\n",
    "region = [123.548, 45.176, 126.002, 47.676]\n",
    "vis = {'palette':['white', 'blue'],'min':0,'max':1}\n",
    "fig = plt.figure(figsize=(12, 8))\n",
    "# use cartoee to get a map\n",
    "ax = cartoee.get_map(waterfrequency, region=region, vis_params=vis)\n",
    "cartoee.add_gridlines(ax, interval=[0.5,0.5], linestyle=\":\")\n",
    "ax.set_title(label = 'waterbody frequency(yueyang) in 2018', fontsize=20)"
   ]
  },
  {
   "cell_type": "code",
   "execution_count": 6,
   "metadata": {
    "ExecuteTime": {
     "end_time": "2021-08-20T06:28:50.470837Z",
     "start_time": "2021-08-20T06:28:47.454341Z"
    }
   },
   "outputs": [
    {
     "data": {
      "text/plain": [
       "Text(0.5, 1.0, 'permanent water(yueyang) in 2018')"
      ]
     },
     "execution_count": 6,
     "metadata": {},
     "output_type": "execute_result"
    },
    {
     "data": {
      "image/png": "[encoded data removed]",
      "text/plain": [
       "<Figure size 864x576 with 1 Axes>"
      ]
     },
     "metadata": {
      "needs_background": "light"
     },
     "output_type": "display_data"
    }
   ],
   "source": [
    "# 永久性水体\n",
    "from matplotlib import pyplot as plt\n",
    "import numpy as np\n",
    "import matplotlib\n",
    "from geemap import cartoee\n",
    "region = [123.548, 45.176, 126.002, 47.676]\n",
    "vis = {'palette':['CDCDCD','blue'],'min':0,'max':1}\n",
    "fig = plt.figure(figsize=(12, 8))\n",
    "ax = cartoee.get_map(JRC_waterclass.eq(2).selfMask(), region=region, vis_params=vis)\n",
    "cartoee.add_gridlines(ax, interval=[0.5,0.5], linestyle=\":\")\n",
    "ax.set_title(label = 'permanent water(yueyang) in 2018', fontsize=20)"
   ]
  },
  {
   "cell_type": "markdown",
   "metadata": {},
   "source": [
    "# 岳阳市"
   ]
  },
  {
   "cell_type": "markdown",
   "metadata": {},
   "source": [
    "## 区域"
   ]
  },
  {
   "cell_type": "code",
   "execution_count": null,
   "metadata": {
    "ExecuteTime": {
     "end_time": "2021-08-10T07:26:11.213241Z",
     "start_time": "2021-08-10T07:26:09.036267Z"
    }
   },
   "outputs": [],
   "source": [
    "roi = ee.FeatureCollection('users/311605001111/ChinaCity').filter(ee.Filter.eq('市','岳阳市'))\n",
    "Map.addLayer(roi, {}, \"roi\")\n",
    "Map.centerObject(roi,8)\n",
    "\n",
    "bd = roi.first().geometry().bounds()\n",
    "print(bd.getInfo())"
   ]
  },
  {
   "cell_type": "markdown",
   "metadata": {},
   "source": [
    "## 制图"
   ]
  },
  {
   "cell_type": "code",
   "execution_count": null,
   "metadata": {},
   "outputs": [],
   "source": [
    "# 水体频率\n",
    "from matplotlib import pyplot as plt\n",
    "from geemap import cartoee\n",
    "import numpy as np\n",
    "import matplotlib\n",
    "region = [112.109, 28.225, 114.351, 30.05]\n",
    "vis = {'palette':['white', 'blue'],'min':0,'max':1}\n",
    "fig = plt.figure(figsize=(12, 8))\n",
    "# use cartoee to get a map\n",
    "ax = cartoee.get_map(waterfrequency, region=region, vis_params=vis)\n",
    "cartoee.add_gridlines(ax, interval=[0.5,0.5], linestyle=\":\")\n",
    "ax.set_title(label = 'waterbody frequency(yueyang) in 2018', fontsize=20)"
   ]
  },
  {
   "cell_type": "code",
   "execution_count": null,
   "metadata": {},
   "outputs": [],
   "source": [
    "# 永久性水体\n",
    "from matplotlib import pyplot as plt\n",
    "import numpy as np\n",
    "import matplotlib\n",
    "from geemap import cartoee\n",
    "region = [112.109, 28.225, 114.351, 30.05]\n",
    "vis = {'palette':['CDCDCD','blue'],'min':0,'max':1}\n",
    "fig = plt.figure(figsize=(12, 8))\n",
    "ax = cartoee.get_map(permanentwater, region=region, vis_params=vis)\n",
    "cartoee.add_gridlines(ax, interval=[0.5,0.5], linestyle=\":\")\n",
    "ax.set_title(label = 'permanent water(yueyang) in 2018', fontsize=20)"
   ]
  },
  {
   "cell_type": "markdown",
   "metadata": {},
   "source": [
    "# 广东市，珠三角"
   ]
  },
  {
   "cell_type": "markdown",
   "metadata": {},
   "source": [
    "##  区域"
   ]
  },
  {
   "cell_type": "code",
   "execution_count": null,
   "metadata": {
    "ExecuteTime": {
     "end_time": "2021-08-10T07:41:25.821896Z",
     "start_time": "2021-08-10T07:41:24.518488Z"
    }
   },
   "outputs": [],
   "source": [
    "roi = ee.Geometry.Rectangle([112.846779, 22.565455,113.682786, 23.114128])\n",
    "Map.addLayer(roi, {}, \"roi\")\n",
    "Map.centerObject(roi,9)\n",
    "\n",
    "bd = roi.first().geometry().bounds()\n",
    "print(bd.getInfo())"
   ]
  },
  {
   "cell_type": "markdown",
   "metadata": {},
   "source": [
    "##  制图"
   ]
  },
  {
   "cell_type": "code",
   "execution_count": null,
   "metadata": {},
   "outputs": [],
   "source": [
    "# 水体频率\n",
    "from matplotlib import pyplot as plt\n",
    "from geemap import cartoee\n",
    "import numpy as np\n",
    "import matplotlib\n",
    "region = [112.746779, 22.465455,113.782786, 23.214128]\n",
    "vis = {'palette':['white', 'blue'],'min':0,'max':1}\n",
    "fig = plt.figure(figsize=(12, 8))\n",
    "# use cartoee to get a map\n",
    "ax = cartoee.get_map(waterfrequency, region=region, vis_params=vis)\n",
    "cartoee.add_gridlines(ax, interval=[0.5,0.5], linestyle=\":\")\n",
    "ax.set_title(label = 'waterbody frequency(Guangzhou) in 2018', fontsize=20)"
   ]
  },
  {
   "cell_type": "code",
   "execution_count": null,
   "metadata": {},
   "outputs": [],
   "source": [
    "# 永久性水体\n",
    "from matplotlib import pyplot as plt\n",
    "import numpy as np\n",
    "import matplotlib\n",
    "from geemap import cartoee\n",
    "region = [112.746779, 22.465455,113.782786, 23.214128]\n",
    "vis = {'palette':['CDCDCD','blue'],'min':0,'max':1}\n",
    "fig = plt.figure(figsize=(12, 8))\n",
    "ax = cartoee.get_map(permanentwater, region=region, vis_params=vis)\n",
    "cartoee.add_gridlines(ax, interval=[0.5,0.5], linestyle=\":\")\n",
    "ax.set_title(label = 'permanent water(Guangzhou) in 2018', fontsize=20)"
   ]
  },
  {
   "cell_type": "markdown",
   "metadata": {},
   "source": [
    "# 青海省部分地区"
   ]
  },
  {
   "cell_type": "markdown",
   "metadata": {},
   "source": [
    "## 区域"
   ]
  },
  {
   "cell_type": "code",
   "execution_count": null,
   "metadata": {
    "ExecuteTime": {
     "end_time": "2021-08-10T07:58:11.197455Z",
     "start_time": "2021-08-10T07:58:10.518184Z"
    }
   },
   "outputs": [],
   "source": [
    "roi = ee.Geometry.Rectangle([89.852623, 34.627942,92.3677, 36.067184])\n",
    "Map.addLayer(roi, {}, \"roi\")\n",
    "Map.centerObject(roi,7)\n",
    "\n",
    "# roi = ee.FeatureCollection('users/311605001111/ChinaCity').filter(ee.Filter.eq('市','海西蒙古族藏族自治州'))\n",
    "# Map.addLayer(roi, {}, \"roi\")\n",
    "# Map.centerObject(roi,6)\n",
    "\n",
    "# bd = roi.geometry().bounds()\n",
    "# print(bd.getInfo())"
   ]
  },
  {
   "cell_type": "code",
   "execution_count": null,
   "metadata": {
    "ExecuteTime": {
     "end_time": "2021-08-10T07:56:46.880808Z",
     "start_time": "2021-08-10T07:56:46.865815Z"
    }
   },
   "outputs": [],
   "source": [
    "Map"
   ]
  },
  {
   "cell_type": "markdown",
   "metadata": {
    "ExecuteTime": {
     "end_time": "2021-07-12T06:00:14.157408Z",
     "start_time": "2021-07-12T06:00:14.147411Z"
    }
   },
   "source": [
    "## 制图"
   ]
  },
  {
   "cell_type": "code",
   "execution_count": null,
   "metadata": {},
   "outputs": [],
   "source": [
    "# 水体频率\n",
    "from matplotlib import pyplot as plt\n",
    "from geemap import cartoee\n",
    "import numpy as np\n",
    "import matplotlib\n",
    "region = [89.752623, 33.637942,93.2677, 36.317184]\n",
    "vis = {'palette':['white', 'blue'],'min':0,'max':1}\n",
    "fig = plt.figure(figsize=(12, 8))\n",
    "# use cartoee to get a map\n",
    "ax = cartoee.get_map(waterfrequency, region=region, vis_params=vis)\n",
    "cartoee.add_gridlines(ax, interval=[0.5,0.5], linestyle=\":\")\n",
    "ax.set_title(label = 'waterbody frequency(qinghai) in 2018', fontsize=20)"
   ]
  },
  {
   "cell_type": "code",
   "execution_count": null,
   "metadata": {},
   "outputs": [],
   "source": [
    "# 永久性水体\n",
    "from matplotlib import pyplot as plt\n",
    "import numpy as np\n",
    "import matplotlib\n",
    "from geemap import cartoee\n",
    "region = [89.752623, 33.637942,93.2677, 36.317184]\n",
    "vis = {'palette':['CDCDCD','blue'],'min':0,'max':1}\n",
    "fig = plt.figure(figsize=(12, 8))\n",
    "ax = cartoee.get_map(permanentwater, region=region, vis_params=vis)\n",
    "cartoee.add_gridlines(ax, interval=[0.5,0.5], linestyle=\":\")\n",
    "ax.set_title(label = 'permanent water(qinghai) in 2018', fontsize=20)"
   ]
  },
  {
   "cell_type": "code",
   "execution_count": null,
   "metadata": {},
   "outputs": [],
   "source": []
  },
  {
   "cell_type": "code",
   "execution_count": null,
   "metadata": {},
   "outputs": [],
   "source": []
  },
  {
   "cell_type": "code",
   "execution_count": null,
   "metadata": {},
   "outputs": [],
   "source": []
  },
  {
   "cell_type": "code",
   "execution_count": null,
   "metadata": {},
   "outputs": [],
   "source": []
  },
  {
   "cell_type": "code",
   "execution_count": null,
   "metadata": {
    "ExecuteTime": {
     "end_time": "2021-05-21T12:04:59.009357Z",
     "start_time": "2021-05-21T12:04:57.164576Z"
    }
   },
   "outputs": [],
   "source": [
    "# 下载数据\n",
    "geemap.ee_export_image_to_drive(ee_object=image_9,description='RF_image9.tif',scale=30,region=roi)\n",
    "geemap.ee_export_image_to_drive(ee_object=percentile_waterclass,description='percentile_image9.tif',scale=30,region=roi)"
   ]
  }
 ],
 "metadata": {
  "hide_input": false,
  "kernelspec": {
   "display_name": "Python 3 (ipykernel)",
   "language": "python",
   "name": "python3"
  },
  "language_info": {
   "codemirror_mode": {
    "name": "ipython",
    "version": 3
   },
   "file_extension": ".py",
   "mimetype": "text/x-python",
   "name": "python",
   "nbconvert_exporter": "python",
   "pygments_lexer": "ipython3",
   "version": "3.8.5"
  },
  "toc": {
   "base_numbering": 1,
   "nav_menu": {},
   "number_sections": true,
   "sideBar": true,
   "skip_h1_title": false,
   "title_cell": "Table of Contents",
   "title_sidebar": "Contents",
   "toc_cell": false,
   "toc_position": {
    "height": "calc(100% - 180px)",
    "left": "10px",
    "top": "150px",
    "width": "263.097px"
   },
   "toc_section_display": true,
   "toc_window_display": true
  },
  "varInspector": {
   "cols": {
    "lenName": 16,
    "lenType": 16,
    "lenVar": 40
   },
   "kernels_config": {
    "python": {
     "delete_cmd_postfix": "",
     "delete_cmd_prefix": "del ",
     "library": "var_list.py",
     "varRefreshCmd": "print(var_dic_list())"
    },
    "r": {
     "delete_cmd_postfix": ") ",
     "delete_cmd_prefix": "rm(",
     "library": "var_list.r",
     "varRefreshCmd": "cat(var_dic_list()) "
    }
   },
   "types_to_exclude": [
    "module",
    "function",
    "builtin_function_or_method",
    "instance",
    "_Feature"
   ],
   "window_display": false
  }
 },
 "nbformat": 4,
 "nbformat_minor": 4
}
