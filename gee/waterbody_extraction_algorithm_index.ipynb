{
 "cells": [
  {
   "cell_type": "markdown",
   "metadata": {},
   "source": [
    "本例对比了三种水体提取算法，三种算法如下：\n",
    "\n",
    "（1）基于mNDWI（Modified Normal Differential Water Index），其中mNDWI的阈值设为0.15。提取结果的layer name 是 water_mndwi\n",
    "\n",
    "（2）基于NDVI（Normal Differential vegetation Index）、mNDWI（Modified Normal Differential Water Index）、EVI（enhanced vegetation index）的一种算法。原理：（mNDWI > NDVI and EVI < 0.1）OR （mNDWI > EVI and EVI < 0.1 ）。提取结果的layer name 是 water_ndvi_mndwi_evi\n",
    "\n",
    "（3）基于NDVI（Normal Differential vegetation Index）、mNDWI（Modified Normal Differential Water Index）的一种算法。原理：mNDWI > NDVI。提取结果的layer name 是 water_ndvi_mndwi\n",
    "\n",
    "（4）AWEI(自动水体提取指数): AWEIsh = B2 + 2.5B3 - 1.5(B5+B6) - 0.25B7"
   ]
  },
  {
   "cell_type": "code",
   "execution_count": null,
   "metadata": {
    "ExecuteTime": {
     "end_time": "2021-03-19T03:46:42.611222Z",
     "start_time": "2021-03-19T03:46:42.600221Z"
    }
   },
   "outputs": [],
   "source": [
    "import os\n",
    "os.environ['HTTP_PROXY'] = \"http://127.0.0.1:10809\"\n",
    "os.environ['HTTPS_PROXY'] = \"http://127.0.0.1:10809\""
   ]
  },
  {
   "cell_type": "code",
   "execution_count": null,
   "metadata": {
    "ExecuteTime": {
     "end_time": "2021-03-19T03:46:47.689376Z",
     "start_time": "2021-03-19T03:46:43.363027Z"
    },
    "scrolled": false
   },
   "outputs": [],
   "source": [
    "import geemap\n",
    "import ee\n",
    "Map=geemap.Map()\n",
    "Map"
   ]
  },
  {
   "cell_type": "code",
   "execution_count": null,
   "metadata": {
    "ExecuteTime": {
     "end_time": "2021-03-19T03:46:49.780625Z",
     "start_time": "2021-03-19T03:46:48.505279Z"
    }
   },
   "outputs": [],
   "source": [
    "roi = ee.FeatureCollection('users/311605001111/YangtzeCity/wuhan')\n",
    "Map.addLayer(roi, {}, \"roi\")\n",
    "Map.centerObject(roi,9)"
   ]
  },
  {
   "cell_type": "code",
   "execution_count": null,
   "metadata": {
    "ExecuteTime": {
     "end_time": "2021-03-19T03:46:51.732826Z",
     "start_time": "2021-03-19T03:46:51.706458Z"
    }
   },
   "outputs": [],
   "source": [
    "def NDVI(image):\n",
    "    ndvi=image.normalizedDifference(['B5', 'B4']).rename('NDVI')  \n",
    "    return image.addBands(ndvi)\n",
    "\n",
    "def mNDWI(image):\n",
    "    mndwi=image.normalizedDifference(['B3', 'B6']).rename(\"mNDWI\")\n",
    "    return image.addBands(mndwi)\n",
    "\n",
    "def EVI(image):\n",
    "    evi = image.expression('((nir - red) / (nir + 6*red - 7.5*blue + 1)) * 2.5 ',\n",
    "        {\n",
    "          'blue': image.select('B2'),   \n",
    "          'red': image.select('B4'),\n",
    "          'nir': image.select('B5'),\n",
    "        }).rename('EVI')\n",
    "    return image.addBands(evi)\n",
    "# AWEI(自动水体提取指数): AWEIsh = B2 + 2.5B3 - 1.5(B5+B6) - 0.25B7\n",
    "def AWEIsh(image):\n",
    "    awei = image.expression('B2 + 2.5*B3 - 1.5*(B5+B6) - 0.25*B7',\n",
    "        {\n",
    "          'B2': image.select('B2'),\n",
    "          'B3': image.select('B3'),    \n",
    "          'B5': image.select('B5'),    \n",
    "          'B6': image.select('B6'),\n",
    "          'B7': image.select('B7'),\n",
    "        }).rename('AWEI')\n",
    "    return image.addBands(awei)\n",
    "\n",
    "\n",
    "# 去云、云阴影、雪掩膜函数\n",
    "def maskL8sr(image):\n",
    "    cloudShadowBitMask = (1 << 3)\n",
    "    cloudsBitMask = (1 << 5)\n",
    "    snowBitMask = (1 << 4)   \n",
    "    qa = image.select('pixel_qa')\n",
    "    mask = qa.bitwiseAnd(cloudShadowBitMask).eq(0) \\\n",
    "                   .And(qa.bitwiseAnd(cloudsBitMask).eq(0)) \\\n",
    "                   .And(qa.bitwiseAnd(snowBitMask).eq(0))\n",
    "    return image.updateMask(mask)\n",
    "\n",
    "# 可视化参数设置\n",
    "vis_params = {\n",
    "  'bands': ['B5', 'B4', 'B3'],\n",
    "  'min': 0,\n",
    "  'max': 3000,\n",
    "  'gamma': 1.4,\n",
    "}"
   ]
  },
  {
   "cell_type": "code",
   "execution_count": null,
   "metadata": {
    "ExecuteTime": {
     "end_time": "2021-03-19T03:46:59.670480Z",
     "start_time": "2021-03-19T03:46:59.659480Z"
    },
    "scrolled": true
   },
   "outputs": [],
   "source": [
    "landsat_images = ee.ImageCollection('LANDSAT/LC08/C01/T1_SR') \\\n",
    "    .filterBounds(roi) \\\n",
    "    .filterDate('2016-07-01', '2016-07-31') \\\n",
    "    .map(maskL8sr)"
   ]
  },
  {
   "cell_type": "code",
   "execution_count": null,
   "metadata": {
    "ExecuteTime": {
     "end_time": "2021-03-19T03:47:04.468891Z",
     "start_time": "2021-03-19T03:47:03.795334Z"
    }
   },
   "outputs": [],
   "source": [
    "landsat_map = landsat_images.map(NDVI).map(mNDWI).map(EVI)\n",
    "wuhan_landsat = landsat_map.mosaic().clip(roi)\n",
    "Map.addLayer(wuhan_landsat,vis_params,'wuhan landsat')"
   ]
  },
  {
   "cell_type": "markdown",
   "metadata": {},
   "source": [
    "# 基于mNDWI的水体提取，阈值设为0.15"
   ]
  },
  {
   "cell_type": "code",
   "execution_count": null,
   "metadata": {
    "ExecuteTime": {
     "end_time": "2021-03-19T03:56:58.830675Z",
     "start_time": "2021-03-19T03:56:53.904811Z"
    }
   },
   "outputs": [],
   "source": [
    "histogram = wuhan_landsat.select('mNDWI').reduceRegion(**{\n",
    "    'reducer': ee.Reducer.histogram(100).combine(ee.Reducer.mean(),'',True).combine(ee.Reducer.variance(),'',True),\n",
    "    'geometry': roi.geometry(), \n",
    "    'scale': 30,\n",
    "    'bestEffort': True\n",
    "})\n",
    "\n",
    "def sumSquare(i,histogram,counts,means,size,mean):\n",
    "    aCounts = counts.slice(0, 0, i)\n",
    "    aCountTotal = aCounts.reduce(ee.Reducer.sum(), [0]).get([0])\n",
    "    aMeans = means.slice(0, 0, i)\n",
    "    aMean = aMeans.multiply(aCounts).reduce(ee.Reducer.sum(), [0]).get([0]).divide(aCountTotal)\n",
    "       \n",
    "    bCounts = counts.slice(0, i, size)\n",
    "    bCountTotal = bCounts.reduce(ee.Reducer.sum(), [0]).get([0])\n",
    "    bMeans = means.slice(0, i, size)\n",
    "    bMean = bMeans.multiply(bCounts).reduce(ee.Reducer.sum(), [0]).get([0]).divide(bCountTotal)\n",
    "\n",
    "    return aCountTotal.multiply(aMean.subtract(mean).pow(2)).add(bCountTotal.multiply(bMean.subtract(mean).pow(2)))\n",
    "# Return the DN that maximizes interclass variance in B5 (in the region).\n",
    "def otsu(histogram):\n",
    "    counts = ee.Array(ee.Dictionary(histogram).get('histogram'))\n",
    "    means = ee.Array(ee.Dictionary(histogram).get('bucketMeans'))\n",
    "    size = means.length().get([0])\n",
    "    mean = means.multiply(counts).reduce(ee.Reducer.sum(), [0]).get([0]).divide(counts.reduce(ee.Reducer.sum(), [0]).get([0]))\n",
    "    \n",
    "    indices = ee.List.sequence(1,size)\n",
    "    # Compute between sum of squares, where each mean partitions the data.\n",
    "    bss = indices.map(lambda i : sumSquare(i,histogram,counts,means,size,mean))\n",
    "    # Return the mean value corresponding to the maximum BSS.\n",
    "    return means.sort(bss).get([-1])\n",
    "dic= 'mNDWI' + \"_\" + 'histogram'\n",
    "threshold = otsu(histogram.get(dic))\n",
    "print('threshold : ', threshold.getInfo())"
   ]
  },
  {
   "cell_type": "code",
   "execution_count": null,
   "metadata": {
    "ExecuteTime": {
     "end_time": "2021-03-19T03:57:12.441388Z",
     "start_time": "2021-03-19T03:57:11.734896Z"
    }
   },
   "outputs": [],
   "source": [
    "water_mndwi = wuhan_landsat.select('mNDWI').gt(threshold).selfMask()\n",
    "\n",
    "Map.addLayer(water_mndwi,{'palette': 'cyan'},'water_mndwi')"
   ]
  },
  {
   "cell_type": "markdown",
   "metadata": {},
   "source": [
    "# 基于 NDVI、mNDWI、EVI的水体提取"
   ]
  },
  {
   "cell_type": "code",
   "execution_count": null,
   "metadata": {
    "ExecuteTime": {
     "end_time": "2021-03-19T03:47:55.098255Z",
     "start_time": "2021-03-19T03:47:53.347527Z"
    }
   },
   "outputs": [],
   "source": [
    "# 当mNDWI > NDVI and EVI < 0.1时(情况一)\n",
    "image_filter1 = wuhan_landsat.select('mNDWI').gt(wuhan_landsat.select('NDVI')).And(wuhan_landsat.select('EVI').lt(0.1))\n",
    "wuhan_water1 = image_filter1.selfMask()\n",
    "Map.addLayer(wuhan_water1,{'palette': 'green'},'water filter1')\n",
    "# mNDWI > EVI and EVI < 0.1 时（情况二）\n",
    "image_filter2 = wuhan_landsat.select('mNDWI').gt(wuhan_landsat.select('EVI')).And(wuhan_landsat.select('EVI').lt(0.1))\n",
    "wuhan_water2 = image_filter2.selfMask()\n",
    "Map.addLayer(wuhan_water2,{'palette': 'green'},'water filter2')\n",
    "# 情况一与情况二并集\n",
    "water_union = ee.ImageCollection([image_filter1,image_filter2]).sum().gt(0).selfMask()\n",
    "Map.addLayer(water_union,{ 'palette': ['red']},'water_union')\n",
    "# # 情况一与情况二并集\n",
    "# water_ndvi_mndwi_evi= wuhan_water1.select('mNDWI').Or(wuhan_water2.select('mNDWI'))\n",
    "# Map.addLayer(water_ndvi_mndwi_evi,{'palette': 'green'},'water_ndvi_mndwi_evi')"
   ]
  },
  {
   "cell_type": "markdown",
   "metadata": {},
   "source": [
    "# 基于 NDVI、mNDWI的水体提取"
   ]
  },
  {
   "cell_type": "code",
   "execution_count": null,
   "metadata": {
    "ExecuteTime": {
     "end_time": "2021-03-19T03:51:39.694624Z",
     "start_time": "2021-03-19T03:51:39.137776Z"
    }
   },
   "outputs": [],
   "source": [
    "# 当mNDWI > NDVI时\n",
    "wuhan_water = wuhan_landsat.select('mNDWI').gt(wuhan_landsat.select('NDVI'))\n",
    "water_ndvi_mndwi = wuhan_water.select('mNDWI').gt(0).selfMask()\n",
    "\n",
    "Map.addLayer(water_ndvi_mndwi,{'palette': 'blue'},'water_ndvi_mndwi')"
   ]
  },
  {
   "cell_type": "markdown",
   "metadata": {},
   "source": [
    "# 基于 AWEI 的水体提取"
   ]
  },
  {
   "cell_type": "code",
   "execution_count": null,
   "metadata": {
    "ExecuteTime": {
     "end_time": "2021-02-23T08:37:14.041003Z",
     "start_time": "2021-02-23T08:37:13.584380Z"
    }
   },
   "outputs": [],
   "source": [
    "water_awei = wuhan_landsat.select('AWEI').gt(0).selfMask()\n",
    "\n",
    "Map.addLayer(water_awei,{'palette': 'yellow'},'water_awei')"
   ]
  },
  {
   "cell_type": "code",
   "execution_count": null,
   "metadata": {},
   "outputs": [],
   "source": []
  },
  {
   "cell_type": "code",
   "execution_count": null,
   "metadata": {
    "ExecuteTime": {
     "end_time": "2021-02-23T08:38:22.918895Z",
     "start_time": "2021-02-23T08:38:21.864772Z"
    }
   },
   "outputs": [],
   "source": [
    "water_mndwi_rename = water_mndwi.select('mNDWI').rename('class')\n",
    "water_ndvi_mndwi_rename = water_ndvi_mndwi.select('mNDWI').rename('class')\n",
    "water_awei_rename = water_awei.select('AWEI').rename('class')\n",
    "wuhan_water = ee.ImageCollection([water_mndwi_rename,water_ndvi_mndwi_rename,water_awei_rename]).sum().eq(3).selfMask()\n",
    "Map.addLayer(wuhan_water,{'palette': '99d9ea'},'wuhan water')"
   ]
  },
  {
   "cell_type": "code",
   "execution_count": null,
   "metadata": {},
   "outputs": [],
   "source": []
  },
  {
   "cell_type": "code",
   "execution_count": null,
   "metadata": {
    "ExecuteTime": {
     "end_time": "2020-12-16T10:43:54.008734Z",
     "start_time": "2020-12-16T10:43:40.175720Z"
    }
   },
   "outputs": [],
   "source": [
    "image_filter1 = wuhan_landsat.select('mNDWI').gt(wuhan_landsat.select('NDVI')).And(wuhan_landsat.select('EVI').lt(0.1))\n",
    "wuhan_water1 = image_filter1.selfMask()\n",
    "image_filter = wuhan_landsat.select('mNDWI').gt(wuhan_landsat.select('NDVI'))\n",
    "\n",
    "Map.addLayer(image_filter,{'palette': 'blue'},'water')\n",
    "Map.addLayer(wuhan_water1,{'palette': 'blue'},'water1')\n",
    "Map.addLayer(image_filter1,{'min': 0, 'max': 1, 'palette': ['red', 'blue']},'image_filter1')"
   ]
  },
  {
   "cell_type": "code",
   "execution_count": null,
   "metadata": {
    "ExecuteTime": {
     "end_time": "2020-12-16T03:46:16.826079Z",
     "start_time": "2020-12-16T03:46:08.597052Z"
    }
   },
   "outputs": [],
   "source": [
    "image_filter2 = wuhan_landsat.select('mNDWI').gt(wuhan_landsat.select('EVI')).And(wuhan_landsat.select('EVI').lt(0.1))\n",
    "wuhan_water2 = image_filter2.selfMask()\n",
    "\n",
    "Map.addLayer(wuhan_water2,{'palette': 'yellow'},'water2')\n",
    "Map.addLayer(image_filter2,{'min': 0, 'max': 1, 'palette': ['red', 'blue']},'image_filter2')"
   ]
  },
  {
   "cell_type": "code",
   "execution_count": null,
   "metadata": {
    "ExecuteTime": {
     "end_time": "2020-09-27T14:08:52.306381Z",
     "start_time": "2020-09-27T14:08:50.722355Z"
    }
   },
   "outputs": [],
   "source": [
    "wuhan_waterbody = wuhan_water.select('mNDWI').Or(wuhan_water2.select('mNDWI'))\n",
    "Map.addLayer(wuhan_waterbody,{'palette': 'blue'},'wuhan_waterbody')"
   ]
  },
  {
   "cell_type": "code",
   "execution_count": null,
   "metadata": {},
   "outputs": [],
   "source": []
  },
  {
   "cell_type": "code",
   "execution_count": null,
   "metadata": {},
   "outputs": [],
   "source": []
  },
  {
   "cell_type": "code",
   "execution_count": null,
   "metadata": {
    "ExecuteTime": {
     "end_time": "2021-03-17T14:23:42.057553Z",
     "start_time": "2021-03-17T14:23:36.912503Z"
    }
   },
   "outputs": [],
   "source": [
    "from matplotlib import pyplot as plt\n",
    "import numpy as np\n",
    "import matplotlib\n",
    "from geemap import cartoee\n",
    "\n",
    "region = [113.6, 29.9, 115.1, 31.4] \n",
    "fig = plt.figure(figsize=(12, 8))\n",
    "# use cartoee to get a map\n",
    "ax = cartoee.get_map(water, region=region, vis_params=vis_params)\n",
    "# add gridlines to the map at a specified interval\n",
    "cartoee.add_gridlines(ax, interval=[0.5,0.5], linestyle=\":\")\n",
    "ax.set_title(label = 'water', fontsize=20)"
   ]
  }
 ],
 "metadata": {
  "hide_input": false,
  "kernelspec": {
   "display_name": "Python 3",
   "language": "python",
   "name": "python3"
  },
  "language_info": {
   "codemirror_mode": {
    "name": "ipython",
    "version": 3
   },
   "file_extension": ".py",
   "mimetype": "text/x-python",
   "name": "python",
   "nbconvert_exporter": "python",
   "pygments_lexer": "ipython3",
   "version": "3.8.5"
  },
  "toc": {
   "base_numbering": 1,
   "nav_menu": {},
   "number_sections": true,
   "sideBar": true,
   "skip_h1_title": false,
   "title_cell": "Table of Contents",
   "title_sidebar": "Contents",
   "toc_cell": false,
   "toc_position": {},
   "toc_section_display": true,
   "toc_window_display": false
  },
  "varInspector": {
   "cols": {
    "lenName": 16,
    "lenType": 16,
    "lenVar": 40
   },
   "kernels_config": {
    "python": {
     "delete_cmd_postfix": "",
     "delete_cmd_prefix": "del ",
     "library": "var_list.py",
     "varRefreshCmd": "print(var_dic_list())"
    },
    "r": {
     "delete_cmd_postfix": ") ",
     "delete_cmd_prefix": "rm(",
     "library": "var_list.r",
     "varRefreshCmd": "cat(var_dic_list()) "
    }
   },
   "types_to_exclude": [
    "module",
    "function",
    "builtin_function_or_method",
    "instance",
    "_Feature"
   ],
   "window_display": false
  }
 },
 "nbformat": 4,
 "nbformat_minor": 4
}
