{
 "cells": [
  {
   "cell_type": "code",
   "execution_count": 1,
   "metadata": {
    "ExecuteTime": {
     "end_time": "2021-05-12T03:19:58.023781Z",
     "start_time": "2021-05-12T03:19:58.005787Z"
    }
   },
   "outputs": [],
   "source": [
    "import os\n",
    "os.environ['HTTP_PROXY'] = \"http://127.0.0.1:10809\"\n",
    "os.environ['HTTPS_PROXY'] = \"http://127.0.0.1:10809\""
   ]
  },
  {
   "cell_type": "code",
   "execution_count": 2,
   "metadata": {
    "ExecuteTime": {
     "end_time": "2021-05-12T03:20:02.348153Z",
     "start_time": "2021-05-12T03:19:58.243886Z"
    },
    "scrolled": false
   },
   "outputs": [
    {
     "data": {
      "application/vnd.jupyter.widget-view+json": {
       "model_id": "e7c005adaea74c48b6d332ae76ffdff8",
       "version_major": 2,
       "version_minor": 0
      },
      "text/plain": [
       "Map(center=[40, -100], controls=(WidgetControl(options=['position'], widget=HBox(children=(ToggleButton(value=…"
      ]
     },
     "metadata": {},
     "output_type": "display_data"
    }
   ],
   "source": [
    "import geemap\n",
    "import ee\n",
    "Map=geemap.Map()\n",
    "Map"
   ]
  },
  {
   "cell_type": "code",
   "execution_count": 3,
   "metadata": {
    "ExecuteTime": {
     "end_time": "2021-05-12T03:20:03.321600Z",
     "start_time": "2021-05-12T03:20:02.574559Z"
    }
   },
   "outputs": [],
   "source": [
    "# 加载研究区域，武汉1+8城市圈\n",
    "wuhan18 = ee.FeatureCollection('users/311605001111/wuhan18')\n",
    "# wuhan18 = ee.FeatureCollection('users/311605001111/YangtzeCity/wuhan')\n",
    "Map.addLayer(wuhan18,{},\"wuhan1+8\")\n",
    "Map.centerObject(wuhan18,7)   # 设置以研究区居中\n"
   ]
  },
  {
   "cell_type": "code",
   "execution_count": 4,
   "metadata": {
    "ExecuteTime": {
     "end_time": "2021-05-12T03:20:03.523165Z",
     "start_time": "2021-05-12T03:20:03.508972Z"
    }
   },
   "outputs": [],
   "source": [
    "# AWEI(自动水体提取指数): AWEIsh = B2 + 2.5B3 - 1.5(B5+B6) - 0.25B7\n",
    "def AWEIsh(image):\n",
    "    awei = image.expression('B2 + 2.5*B3 - 1.5*(B5+B6) - 0.25*B7',\n",
    "        {\n",
    "          'B2': image.select('B2'),\n",
    "          'B3': image.select('B3'),    \n",
    "          'B5': image.select('B5'),    \n",
    "          'B6': image.select('B6'),\n",
    "          'B7': image.select('B7'),\n",
    "        }).rename('AWEI')\n",
    "    return image.addBands(awei)\n",
    "\n",
    "def identify_water(image):\n",
    "    return image.clip(wuhan18).select('AWEI').gt(0)\n",
    "\n",
    "\n",
    "# 去云、云阴影、雪掩膜函数\n",
    "def maskL8sr(image):\n",
    "    cloudShadowBitMask = (1 << 3)\n",
    "    cloudsBitMask = (1 << 5)\n",
    "    snowBitMask = (1 << 4)   \n",
    "    qa = image.select('pixel_qa')\n",
    "    mask = qa.bitwiseAnd(cloudShadowBitMask).eq(0) \\\n",
    "                   .And(qa.bitwiseAnd(cloudsBitMask).eq(0)) \\\n",
    "                   .And(qa.bitwiseAnd(snowBitMask).eq(0))\n",
    "    return image.updateMask(mask)\n",
    "\n",
    "def cloudMaskL457(image):\n",
    "    qa = image.select('pixel_qa')\n",
    "    cloud = qa.bitwiseAnd(1 << 5) \\\n",
    "              .And(qa.bitwiseAnd(1 << 7)) \\\n",
    "              .Or(qa.bitwiseAnd(1 << 3))\n",
    "    mask2 = image.mask().reduce(ee.Reducer.min())\n",
    "    return image.updateMask(cloud.Not()).updateMask(mask2)\n",
    "\n",
    "visParams = {\n",
    "  'bands': ['B4', 'B3', 'B2'],\n",
    "  'min': 0,\n",
    "  'max': 3000,\n",
    "  'gamma': 1.4,\n",
    "}"
   ]
  },
  {
   "cell_type": "code",
   "execution_count": 5,
   "metadata": {
    "ExecuteTime": {
     "end_time": "2021-05-12T03:20:07.231833Z",
     "start_time": "2021-05-12T03:20:03.709961Z"
    }
   },
   "outputs": [
    {
     "name": "stdout",
     "output_type": "stream",
     "text": [
      "[2768.137082705315, 3023.9160873942606, 3119.293185935407, 3027.811917777078, 2968.7220503356652, 2950.620795963503, 3192.771557206194]\n"
     ]
    }
   ],
   "source": [
    "def year_area(year):\n",
    "    Date_Start = ee.Date('0-01-01').advance(year,'year')\n",
    "    Date_End = ee.Date('0-12-31').advance(year,'year')\n",
    "    landsat_images = ee.ImageCollection('LANDSAT/LC08/C01/T1_SR') \\\n",
    "        .filterBounds(wuhan18) \\\n",
    "        .filterDate(Date_Start, Date_End) \\\n",
    "        .map(maskL8sr)\n",
    "    validPixel = landsat_images.count().select('B2').clip(wuhan18).rename('count')\n",
    "    waterbody_number = landsat_images.map(AWEIsh).map(identify_water).sum().select('AWEI').rename('number')\n",
    "    wuhan18_waterfrequency = waterbody_number.divide(validPixel).select('number').rename('frequency')\n",
    "    wuhan18_permanentwater = wuhan18_waterfrequency.gt(0.75)\n",
    "    waterarea = wuhan18_permanentwater.multiply(ee.Image.pixelArea()).divide(1e6)\n",
    "    areas = waterarea.reduceRegion(**{\n",
    "        'reducer': ee.Reducer.sum(),\n",
    "        'geometry': wuhan18,\n",
    "        'scale': 30,\n",
    "        'maxPixels': 1e14\n",
    "    })\n",
    "    return areas.get('frequency')\n",
    "date = ee.List.sequence(2014,2020,1)    \n",
    "wuhan18_area = date.map(year_area)\n",
    "print(wuhan18_area.getInfo())"
   ]
  },
  {
   "cell_type": "code",
   "execution_count": 6,
   "metadata": {
    "ExecuteTime": {
     "end_time": "2021-05-13T12:05:51.989067Z",
     "start_time": "2021-05-13T12:05:50.145413Z"
    }
   },
   "outputs": [
    {
     "data": {
      "image/png": "[encoded data removed]",
      "text/plain": [
       "<Figure size 432x288 with 1 Axes>"
      ]
     },
     "metadata": {
      "needs_background": "light"
     },
     "output_type": "display_data"
    }
   ],
   "source": [
    "import matplotlib.pyplot as plt\n",
    "import numpy as np\n",
    "year = np.arange(2014,2021,1)\n",
    "area1 = [2768.137082705315, 3023.9160873942606, 3119.293185935407, 3027.811917777078, 2968.7220503356652, 2950.620795963503, 3192.771557206194]\n",
    "area2 = [2843.6785682158943, 3051.331479556907, 3210.976012656668, 3038.5171037183222, 3024.134208590113, 3026.390101973377, 3285.282480995821]\n",
    "# plot permanent water and seasonal water(折线图)\n",
    "plt.title(\"Accuracy and Kappa of RandomForest Yearly\", fontsize=15)\n",
    "plt.xlabel(\"Year\", fontsize=14)\n",
    "plt.ylabel('Area', fontsize=14)\n",
    "plt.plot(year,area1,'*:b' ,label = 'no filter')\n",
    "plt.plot(year,area2,'^:r',label='filter')\n",
    "plt.legend()\n",
    "plt.show()"
   ]
  },
  {
   "cell_type": "code",
   "execution_count": null,
   "metadata": {},
   "outputs": [],
   "source": []
  },
  {
   "cell_type": "code",
   "execution_count": null,
   "metadata": {
    "ExecuteTime": {
     "end_time": "2021-05-12T02:57:40.602045Z",
     "start_time": "2021-05-12T02:50:09.046208Z"
    }
   },
   "outputs": [],
   "source": [
    "for i in range(2014,2021,1):\n",
    "    landsat_images = ee.ImageCollection('LANDSAT/LC08/C01/T1_SR') \\\n",
    "        .filterBounds(wuhan18) \\\n",
    "        .filterDate('{}-01-01'.format(i), '{}-12-31'.format(i)) \\\n",
    "        .map(maskL8sr)\n",
    "    print(landsat_images.size().getInfo())\n",
    "    validPixel = landsat_images.count().select('B2').clip(wuhan18).rename('count')\n",
    "    waterbody_number = landsat_images.map(AWEIsh).map(identify_water).sum().select('AWEI').rename('number')\n",
    "    wuhan18_waterfrequency = waterbody_number.divide(validPixel).select('number').rename('frequency')\n",
    "    wuhan18_permanentwater = wuhan18_waterfrequency.gt(0.75)\n",
    "    waterarea = wuhan18_permanentwater.multiply(ee.Image.pixelArea()).divide(1e6)\n",
    "    areas = waterarea.reduceRegion(**{\n",
    "        'reducer': ee.Reducer.sum(),\n",
    "        'geometry': wuhan18,\n",
    "        'scale': 30,\n",
    "        'maxPixels': 1e14\n",
    "    })\n",
    "    print(\"{} year,waterbody area in wuhan1+8 : {}\".format(i,areas.getInfo().get('frequency')))"
   ]
  },
  {
   "cell_type": "code",
   "execution_count": null,
   "metadata": {},
   "outputs": [],
   "source": []
  },
  {
   "cell_type": "code",
   "execution_count": null,
   "metadata": {},
   "outputs": [],
   "source": []
  },
  {
   "cell_type": "code",
   "execution_count": null,
   "metadata": {},
   "outputs": [],
   "source": []
  },
  {
   "cell_type": "code",
   "execution_count": null,
   "metadata": {
    "ExecuteTime": {
     "end_time": "2021-05-12T02:59:25.737204Z",
     "start_time": "2021-05-12T02:59:24.742893Z"
    }
   },
   "outputs": [],
   "source": [
    "# 'LANDSAT/LC08/C01/T1_SR'\n",
    "# 'LANDSAT/LT05/C01/T1_SR'\n",
    "landsat_images = ee.ImageCollection('LANDSAT/LC08/C01/T1_SR') \\\n",
    "    .filterBounds(wuhan18) \\\n",
    "    .filterDate('2014-01-01', '2014-12-31') \\\n",
    "    .filter(ee.Filter.lt('CLOUD_COVER',30)) \\\n",
    "    .map(maskL8sr)\n",
    "Map.addLayer(landsat_images.mosaic().clip(wuhan18),visParams,'landsat_image')\n",
    "\n",
    "print(landsat_images.size().getInfo())"
   ]
  },
  {
   "cell_type": "code",
   "execution_count": null,
   "metadata": {
    "ExecuteTime": {
     "end_time": "2021-05-12T02:32:47.998991Z",
     "start_time": "2021-05-12T02:32:47.192009Z"
    }
   },
   "outputs": [],
   "source": [
    "# 计算有效像元的个数\n",
    "validPixel = landsat5_images.count().select('B2').clip(wuhan18).rename('count')\n",
    "vis_validPixel = {'bands': ['count'], 'palette': ['ffffff', 'dd09ec'], 'min': 0.0, 'max': 40.0, 'opacity': 1.0}\n",
    "Map.addLayer(validPixel,vis_validPixel,'validPixel')\n",
    "\n",
    "# 计算某个像元判断为水体的个数\n",
    "landsat5_awei = landsat5_images.map(AWEIsh)\n",
    "waterbody_number = landsat5_awei.map(identify_water).sum().select('AWEI').rename('number')\n",
    "# waterbody_number  = landsat5_images.map(AWEIsh).select('AWEI').sum().rename('number')\n",
    "vis_waterNumber = {'bands': ['number'], 'palette': ['ffffff', 'dd09ec'], 'min': 0.0, 'max': 30.0, 'opacity': 1.0}\n",
    "Map.addLayer(waterbody_number,vis_waterNumber,'waterbody number')\n",
    "\n",
    "vis_frequency = {'bands': ['frequency'], 'palette': ['green', 'yellow','blue'], 'min': 0.0, 'max': 1.0, 'opacity': 1.0}\n",
    "# 水体频率的计算 NM,./\n",
    "wuhan18_waterfrequency = waterbody_number.divide(validPixel).select('number').rename('frequency')\n",
    "Map.addLayer(wuhan18_waterfrequency,vis_frequency,\"wuhan18 waterbody frequency\")\n",
    "# wuhan18_permanentwater = wuhan18_waterfrequency.gt(0.75).selfMask()\n",
    "wuhan18_permanentwater = wuhan18_waterfrequency.gt(0.75)\n",
    "Map.addLayer(wuhan18_permanentwater,{'min':0,'max':1,'palette':['white','blue']},\"wuhan18 permanent waterbody\")"
   ]
  },
  {
   "cell_type": "code",
   "execution_count": null,
   "metadata": {
    "ExecuteTime": {
     "end_time": "2021-05-12T02:35:18.437886Z",
     "start_time": "2021-05-12T02:33:15.287037Z"
    }
   },
   "outputs": [],
   "source": [
    "waterarea = wuhan18_permanentwater.multiply(ee.Image.pixelArea()).divide(1e6)\n",
    "areas = waterarea.reduceRegion(**{\n",
    "    'reducer': ee.Reducer.sum(),\n",
    "    'geometry': wuhan18,\n",
    "    'scale': 30,\n",
    "    'maxPixels': 1e14\n",
    "})\n",
    "print(areas.get('frequency').getInfo())\n",
    "# print(\"waterbody area in wuhan1+8 : {}\".format(areas.getInfo().get('frequency')))"
   ]
  },
  {
   "cell_type": "code",
   "execution_count": null,
   "metadata": {
    "ExecuteTime": {
     "start_time": "2021-05-12T02:21:09.533Z"
    }
   },
   "outputs": [],
   "source": [
    "# AWEI(自动水体提取指数): AWEIsh = B2 + 2.5B3 - 1.5(B5+B6) - 0.25B7\n",
    "def AWEIsh0(image):\n",
    "    awei = image.expression('B2 + 2.5*B3 - 1.5*(B5+B6) - 0.25*B7',\n",
    "        {\n",
    "          'B2': image.select('B2'),\n",
    "          'B3': image.select('B3'),    \n",
    "          'B5': image.select('B5'),    \n",
    "          'B6': image.select('B6'),\n",
    "          'B7': image.select('B7'),\n",
    "        }).rename('AWEI')\n",
    "    water_awei = awei.clip(wuhan18).select('AWEI').gt(0)\n",
    "    return image.addBands(water_awei)"
   ]
  }
 ],
 "metadata": {
  "hide_input": false,
  "kernelspec": {
   "display_name": "Python 3",
   "language": "python",
   "name": "python3"
  },
  "language_info": {
   "codemirror_mode": {
    "name": "ipython",
    "version": 3
   },
   "file_extension": ".py",
   "mimetype": "text/x-python",
   "name": "python",
   "nbconvert_exporter": "python",
   "pygments_lexer": "ipython3",
   "version": "3.8.5"
  },
  "toc": {
   "base_numbering": 1,
   "nav_menu": {},
   "number_sections": true,
   "sideBar": true,
   "skip_h1_title": false,
   "title_cell": "Table of Contents",
   "title_sidebar": "Contents",
   "toc_cell": false,
   "toc_position": {},
   "toc_section_display": true,
   "toc_window_display": false
  },
  "varInspector": {
   "cols": {
    "lenName": 16,
    "lenType": 16,
    "lenVar": 40
   },
   "kernels_config": {
    "python": {
     "delete_cmd_postfix": "",
     "delete_cmd_prefix": "del ",
     "library": "var_list.py",
     "varRefreshCmd": "print(var_dic_list())"
    },
    "r": {
     "delete_cmd_postfix": ") ",
     "delete_cmd_prefix": "rm(",
     "library": "var_list.r",
     "varRefreshCmd": "cat(var_dic_list()) "
    }
   },
   "types_to_exclude": [
    "module",
    "function",
    "builtin_function_or_method",
    "instance",
    "_Feature"
   ],
   "window_display": false
  }
 },
 "nbformat": 4,
 "nbformat_minor": 4
}
