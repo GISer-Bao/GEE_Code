{
 "cells": [
  {
   "cell_type": "code",
   "execution_count": 1,
   "metadata": {
    "ExecuteTime": {
     "end_time": "2021-08-26T05:54:20.308388Z",
     "start_time": "2021-08-26T05:54:20.294396Z"
    }
   },
   "outputs": [],
   "source": [
    "import os\n",
    "os.environ['HTTP_PROXY'] = \"http://127.0.0.1:10809\"\n",
    "os.environ['HTTPS_PROXY'] = \"http://127.0.0.1:10809\""
   ]
  },
  {
   "cell_type": "code",
   "execution_count": 2,
   "metadata": {
    "ExecuteTime": {
     "end_time": "2021-08-26T05:54:25.742038Z",
     "start_time": "2021-08-26T05:54:20.582925Z"
    },
    "scrolled": false
   },
   "outputs": [
    {
     "data": {
      "application/vnd.jupyter.widget-view+json": {
       "model_id": "a705f26968514bd095b94450a2cea227",
       "version_major": 2,
       "version_minor": 0
      },
      "text/plain": [
       "Map(center=[40, -100], controls=(WidgetControl(options=['position', 'transparent_bg'], widget=HBox(children=(T…"
      ]
     },
     "metadata": {},
     "output_type": "display_data"
    }
   ],
   "source": [
    "import geemap\n",
    "import ee\n",
    "Map=geemap.Map()\n",
    "Map"
   ]
  },
  {
   "cell_type": "code",
   "execution_count": 3,
   "metadata": {
    "ExecuteTime": {
     "end_time": "2021-08-26T05:54:26.739606Z",
     "start_time": "2021-08-26T05:54:25.928995Z"
    }
   },
   "outputs": [],
   "source": [
    "# 武汉市\n",
    "# roi = ee.FeatureCollection('users/311605001111/region/ChinaCity').filter(ee.Filter.eq('市','武汉市'))\n",
    "roi = ee.Geometry.Rectangle([112.7614, 22.2347,114.0514, 23.2547])\n",
    "Map.addLayer(roi, {}, \"roi\")\n",
    "Map.centerObject(roi,8)"
   ]
  },
  {
   "cell_type": "code",
   "execution_count": 4,
   "metadata": {
    "ExecuteTime": {
     "end_time": "2021-08-26T05:54:26.943857Z",
     "start_time": "2021-08-26T05:54:26.928999Z"
    }
   },
   "outputs": [],
   "source": [
    "# 移除无效像元\n",
    "elevation = ee.Image('USGS/SRTMGL1_003').select('elevation').clip(roi)\n",
    "def maskL8sr(image):\n",
    "    cloudShadowBitMask = (1 << 3)\n",
    "    cloudsBitMask = (1 << 5)\n",
    "    snowBitMask = (1 << 4)   \n",
    "    qa = image.select('pixel_qa')\n",
    "    mask = qa.bitwiseAnd(cloudShadowBitMask).eq(0) \\\n",
    "                   .And(qa.bitwiseAnd(cloudsBitMask).eq(0)) \\\n",
    "                   .And(qa.bitwiseAnd(snowBitMask).eq(0))\n",
    "    azimuth = image.get('SOLAR_AZIMUTH_ANGLE')\n",
    "    zenith = image.get('SOLAR_ZENITH_ANGLE')\n",
    "    return image.updateMask(mask).updateMask(ee.Terrain.hillShadow(elevation,azimuth,zenith,200,True))\n",
    "\n",
    "# 图像可视化参数\n",
    "visParams = {'bands': ['B5', 'B4', 'B3'],'min': 0,'max': 3000,'gamma': 1.4}\n",
    "\n",
    "## 指数的计算\n",
    "def water_index(img):\n",
    "    image = img.clip(roi)\n",
    "    ndvi=image.normalizedDifference(['B5', 'B4']).rename('NDVI')\n",
    "    ndwi=image.normalizedDifference(['B3', 'B5']).rename(\"NDWI\")\n",
    "    mndwi=image.normalizedDifference(['B3', 'B6']).rename(\"mNDWI\")\n",
    "    ndvi_mndwi = ndvi.subtract(mndwi).rename('ndvi_mndwi')\n",
    "    cwi=image.select('B3').divide(image.select('B6')).rename(\"CWI\")\n",
    "    awei = image.expression('B2 + 2.5*B3 - 1.5*(B5+B6) - 0.25*B7',\n",
    "        {\n",
    "          'B2': image.select('B2'),\n",
    "          'B3': image.select('B3'),    \n",
    "          'B5': image.select('B5'),    \n",
    "          'B6': image.select('B6'),\n",
    "          'B7': image.select('B7'),\n",
    "        }).rename('AWEI')\n",
    "    ewi = image.expression('(B3 - B5 - B6)/(B3 + B5 + B6)',\n",
    "        {\n",
    "          'B3': image.select('B3'),    \n",
    "          'B5': image.select('B5'),    \n",
    "          'B6': image.select('B6'),\n",
    "        }).rename('EWI')\n",
    "    evi = image.expression('2.5*(B5 - B4)/(B5 + 6*B4 - 7.5*B2 + 1)',\n",
    "        {\n",
    "          'B2': image.select('B2'),\n",
    "          'B4': image.select('B4'),\n",
    "          'B5': image.select('B5'),    \n",
    "        }).rename('EVI')\n",
    "    return image.addBands(ndvi).addBands(ndwi).addBands(mndwi).addBands(cwi).addBands(awei).addBands(ewi).addBands(evi).addBands(ndvi_mndwi)"
   ]
  },
  {
   "cell_type": "code",
   "execution_count": 5,
   "metadata": {
    "ExecuteTime": {
     "end_time": "2021-08-26T05:54:27.210036Z",
     "start_time": "2021-08-26T05:54:27.195138Z"
    }
   },
   "outputs": [],
   "source": [
    "landsat_images = ee.ImageCollection('LANDSAT/LC08/C01/T1_SR') \\\n",
    "    .filterBounds(roi) \\\n",
    "    .filterDate('2020-01-01', '2020-12-31') \\\n",
    "    .map(maskL8sr) \\\n",
    "    .map(water_index)\n",
    "# Map.addLayer(landsat_images.mosaic().clip(roi),visParams,'landsat image')"
   ]
  },
  {
   "cell_type": "code",
   "execution_count": 6,
   "metadata": {
    "ExecuteTime": {
     "end_time": "2021-08-26T05:54:27.927389Z",
     "start_time": "2021-08-26T05:54:27.444249Z"
    }
   },
   "outputs": [
    {
     "name": "stdout",
     "output_type": "stream",
     "text": [
      "{'type': 'Image', 'bands': [{'id': 'B1', 'data_type': {'type': 'PixelType', 'precision': 'int', 'min': -32768, 'max': 32767}, 'dimensions': [4480, 3839], 'origin': [953, 3277], 'crs': 'EPSG:32649', 'crs_transform': [30, 0, 651585, 0, -30, 2673315]}, {'id': 'B2', 'data_type': {'type': 'PixelType', 'precision': 'int', 'min': -32768, 'max': 32767}, 'dimensions': [4480, 3839], 'origin': [953, 3277], 'crs': 'EPSG:32649', 'crs_transform': [30, 0, 651585, 0, -30, 2673315]}, {'id': 'B3', 'data_type': {'type': 'PixelType', 'precision': 'int', 'min': -32768, 'max': 32767}, 'dimensions': [4480, 3839], 'origin': [953, 3277], 'crs': 'EPSG:32649', 'crs_transform': [30, 0, 651585, 0, -30, 2673315]}, {'id': 'B4', 'data_type': {'type': 'PixelType', 'precision': 'int', 'min': -32768, 'max': 32767}, 'dimensions': [4480, 3839], 'origin': [953, 3277], 'crs': 'EPSG:32649', 'crs_transform': [30, 0, 651585, 0, -30, 2673315]}, {'id': 'B5', 'data_type': {'type': 'PixelType', 'precision': 'int', 'min': -32768, 'max': 32767}, 'dimensions': [4480, 3839], 'origin': [953, 3277], 'crs': 'EPSG:32649', 'crs_transform': [30, 0, 651585, 0, -30, 2673315]}, {'id': 'B6', 'data_type': {'type': 'PixelType', 'precision': 'int', 'min': -32768, 'max': 32767}, 'dimensions': [4480, 3839], 'origin': [953, 3277], 'crs': 'EPSG:32649', 'crs_transform': [30, 0, 651585, 0, -30, 2673315]}, {'id': 'B7', 'data_type': {'type': 'PixelType', 'precision': 'int', 'min': -32768, 'max': 32767}, 'dimensions': [4480, 3839], 'origin': [953, 3277], 'crs': 'EPSG:32649', 'crs_transform': [30, 0, 651585, 0, -30, 2673315]}, {'id': 'B10', 'data_type': {'type': 'PixelType', 'precision': 'int', 'min': -32768, 'max': 32767}, 'dimensions': [4480, 3839], 'origin': [953, 3277], 'crs': 'EPSG:32649', 'crs_transform': [30, 0, 651585, 0, -30, 2673315]}, {'id': 'B11', 'data_type': {'type': 'PixelType', 'precision': 'int', 'min': -32768, 'max': 32767}, 'dimensions': [4480, 3839], 'origin': [953, 3277], 'crs': 'EPSG:32649', 'crs_transform': [30, 0, 651585, 0, -30, 2673315]}, {'id': 'sr_aerosol', 'data_type': {'type': 'PixelType', 'precision': 'int', 'min': 0, 'max': 255}, 'dimensions': [4480, 3839], 'origin': [953, 3277], 'crs': 'EPSG:32649', 'crs_transform': [30, 0, 651585, 0, -30, 2673315]}, {'id': 'pixel_qa', 'data_type': {'type': 'PixelType', 'precision': 'int', 'min': 0, 'max': 65535}, 'dimensions': [4480, 3839], 'origin': [953, 3277], 'crs': 'EPSG:32649', 'crs_transform': [30, 0, 651585, 0, -30, 2673315]}, {'id': 'radsat_qa', 'data_type': {'type': 'PixelType', 'precision': 'int', 'min': 0, 'max': 65535}, 'dimensions': [4480, 3839], 'origin': [953, 3277], 'crs': 'EPSG:32649', 'crs_transform': [30, 0, 651585, 0, -30, 2673315]}, {'id': 'NDVI', 'data_type': {'type': 'PixelType', 'precision': 'float', 'min': -1, 'max': 1}, 'dimensions': [4480, 3839], 'origin': [953, 3277], 'crs': 'EPSG:32649', 'crs_transform': [30, 0, 651585, 0, -30, 2673315]}, {'id': 'NDWI', 'data_type': {'type': 'PixelType', 'precision': 'float', 'min': -1, 'max': 1}, 'dimensions': [4480, 3839], 'origin': [953, 3277], 'crs': 'EPSG:32649', 'crs_transform': [30, 0, 651585, 0, -30, 2673315]}, {'id': 'mNDWI', 'data_type': {'type': 'PixelType', 'precision': 'float', 'min': -1, 'max': 1}, 'dimensions': [4480, 3839], 'origin': [953, 3277], 'crs': 'EPSG:32649', 'crs_transform': [30, 0, 651585, 0, -30, 2673315]}, {'id': 'CWI', 'data_type': {'type': 'PixelType', 'precision': 'float'}, 'dimensions': [4480, 3839], 'origin': [953, 3277], 'crs': 'EPSG:32649', 'crs_transform': [30, 0, 651585, 0, -30, 2673315]}, {'id': 'AWEI', 'data_type': {'type': 'PixelType', 'precision': 'double', 'min': -221180.75, 'max': 221180.5}, 'dimensions': [4480, 3839], 'origin': [953, 3277], 'crs': 'EPSG:32649', 'crs_transform': [30, 0, 651585, 0, -30, 2673315]}, {'id': 'EWI', 'data_type': {'type': 'PixelType', 'precision': 'float'}, 'dimensions': [4480, 3839], 'origin': [953, 3277], 'crs': 'EPSG:32649', 'crs_transform': [30, 0, 651585, 0, -30, 2673315]}, {'id': 'EVI', 'data_type': {'type': 'PixelType', 'precision': 'double'}, 'dimensions': [4480, 3839], 'origin': [953, 3277], 'crs': 'EPSG:32649', 'crs_transform': [30, 0, 651585, 0, -30, 2673315]}, {'id': 'ndvi_mndwi', 'data_type': {'type': 'PixelType', 'precision': 'float', 'min': -2, 'max': 2}, 'dimensions': [4480, 3839], 'origin': [953, 3277], 'crs': 'EPSG:32649', 'crs_transform': [30, 0, 651585, 0, -30, 2673315]}], 'id': 'LANDSAT/LC08/C01/T1_SR/LC08_122044_20200218', 'version': 1582963677940782, 'properties': {'system:footprint': {'type': 'Polygon', 'coordinates': [[[112.7614, 22.369410006164188], [113.16626312695237, 22.28700617323977], [113.41439791848968, 22.2359714950187], [114.05140000000002, 22.234700000000004], [114.05140000000002, 23.254700000000007], [112.7614, 23.254700000000003], [112.7614, 22.369410006164188]]]}, 'IMAGE_QUALITY_TIRS': 9, 'CLOUD_COVER': 0.05, 'EARTH_SUN_DISTANCE': 0.988164, 'LANDSAT_ID': 'LC08_L1TP_122044_20200218_20200225_01_T1', 'CLOUD_COVER_LAND': 0.05, 'GEOMETRIC_RMSE_MODEL': 7.484, 'SR_APP_VERSION': 'LaSRC_1.3.0', 'SATELLITE': 'LANDSAT_8', 'SOLAR_AZIMUTH_ANGLE': 140.233215, 'IMAGE_QUALITY_OLI': 9, 'system:time_end': 1581994328405, 'WRS_PATH': 122, 'system:time_start': 1581994328405, 'SENSING_TIME': '2020-02-18T02:52:08.4050280Z', 'ESPA_VERSION': '2_23_0_1b', 'SOLAR_ZENITH_ANGLE': 43.759773, 'WRS_ROW': 44, 'GEOMETRIC_RMSE_MODEL_Y': 5.532, 'LEVEL1_PRODUCTION_DATE': 1582631311000, 'GEOMETRIC_RMSE_MODEL_X': 5.041, 'system:asset_size': 629566861, 'PIXEL_QA_VERSION': 'generate_pixel_qa_1.6.0', 'system:index': 'LC08_122044_20200218'}}\n"
     ]
    }
   ],
   "source": [
    "a = landsat_images.sort('CLOUD_COVER').first()\n",
    "print(a.getInfo())"
   ]
  },
  {
   "cell_type": "markdown",
   "metadata": {},
   "source": [
    "# 加载样本集,AWEI,threshold = 0"
   ]
  },
  {
   "cell_type": "code",
   "execution_count": 7,
   "metadata": {
    "ExecuteTime": {
     "end_time": "2021-08-26T05:54:30.764153Z",
     "start_time": "2021-08-26T05:54:28.319264Z"
    }
   },
   "outputs": [
    {
     "name": "stdout",
     "output_type": "stream",
     "text": [
      "1423\n",
      "466\n",
      "957\n"
     ]
    }
   ],
   "source": [
    "# 加载样本集,AWEI,threshold = 0\n",
    "internal_awei0 = ee.FeatureCollection('users/311605001111/PearlRiverDelta_2020')\n",
    "# Map.addLayer(samples, {}, \"WuhanTrainingPoints_2020\")\n",
    "print(internal_awei0.size().getInfo())\n",
    "clt_water = internal_awei0.filter(ee.Filter.eq('waterclass',1))\n",
    "print(clt_water.size().getInfo())\n",
    "clt_nowater = internal_awei0.filter(ee.Filter.eq('waterclass',0))\n",
    "print(clt_nowater.size().getInfo())"
   ]
  },
  {
   "cell_type": "markdown",
   "metadata": {},
   "source": [
    "# k-mean均值过滤"
   ]
  },
  {
   "cell_type": "code",
   "execution_count": 8,
   "metadata": {
    "ExecuteTime": {
     "end_time": "2021-08-26T05:54:31.203647Z",
     "start_time": "2021-08-26T05:54:31.188988Z"
    }
   },
   "outputs": [],
   "source": [
    "bands = ['B2', 'B3', 'B4', 'B5', 'B6', 'B7','NDVI','NDWI','mNDWI','CWI','AWEI','EWI','EVI']\n",
    "# cluster与waterclass的对比\n",
    "def Compare(feature):\n",
    "    cluster = ee.Number(feature.get('cluster'))\n",
    "    waterclass = ee.Number(feature.get('waterclass'))\n",
    "    ft = ee.Algorithms.If(cluster.eq(waterclass),feature.set({'eq':1}),feature.set({'eq':0}))\n",
    "    return ft\n",
    "# k-mean聚类\n",
    "def k_mean(sampleSET):\n",
    "    clusterer = ee.Clusterer.wekaKMeans(2).train(sampleSET,bands)\n",
    "    result = sampleSET.cluster(clusterer)\n",
    "    right = result.map(Compare).filter(ee.Filter.eq('eq',0))\n",
    "    error = result.map(Compare).filter(ee.Filter.eq('eq',1))\n",
    "    filtered_sample = ee.FeatureCollection(ee.Algorithms.If(right.size().gt(error.size()),right,error))\n",
    "    return filtered_sample"
   ]
  },
  {
   "cell_type": "code",
   "execution_count": 9,
   "metadata": {
    "ExecuteTime": {
     "end_time": "2021-08-26T05:54:33.233543Z",
     "start_time": "2021-08-26T05:54:31.593910Z"
    }
   },
   "outputs": [
    {
     "name": "stdout",
     "output_type": "stream",
     "text": [
      "筛选后，剩余的样本数：  1407\n"
     ]
    }
   ],
   "source": [
    "filtered_awei0 = k_mean(internal_awei0)\n",
    "print(\"筛选后，剩余的样本数： \",filtered_awei0.size().getInfo())"
   ]
  },
  {
   "cell_type": "markdown",
   "metadata": {},
   "source": [
    "# 训练RF训练器"
   ]
  },
  {
   "cell_type": "code",
   "execution_count": 10,
   "metadata": {
    "ExecuteTime": {
     "end_time": "2021-08-26T05:54:33.622824Z",
     "start_time": "2021-08-26T05:54:33.608470Z"
    }
   },
   "outputs": [],
   "source": [
    "# RandomForest预测使用的波段\n",
    "bands = ['B2', 'B3', 'B4', 'B5', 'B6', 'B7','NDVI','NDWI','mNDWI','CWI','AWEI','EWI','EVI']\n",
    "# 分类标签\n",
    "label = 'waterclass'\n",
    "trainedClassifier_awei0_filter = ee.Classifier.smileRandomForest(100).train(filtered_awei0,label,bands)\n",
    "trainedClassifier_awei0 = ee.Classifier.smileRandomForest(100).train(internal_awei0,label,bands)"
   ]
  },
  {
   "cell_type": "markdown",
   "metadata": {},
   "source": [
    "# 单景影像的验证"
   ]
  },
  {
   "cell_type": "code",
   "execution_count": 11,
   "metadata": {
    "ExecuteTime": {
     "end_time": "2021-08-26T05:54:35.017318Z",
     "start_time": "2021-08-26T05:54:34.046100Z"
    }
   },
   "outputs": [],
   "source": [
    "# sentinel-2\n",
    "# 加载sentinel 图像\n",
    "def maskS2clouds(image):\n",
    "    qa = image.select('QA60')\n",
    "    cloudBitMask = 1 << 10\n",
    "    cirrusBitMask = 1 << 11\n",
    "    mask = qa.bitwiseAnd(cloudBitMask).eq(0) \\\n",
    "             .And(qa.bitwiseAnd(cirrusBitMask).eq(0))\n",
    "    return image.updateMask(mask).divide(10000)\n",
    "# sen2 = ee.Image('COPERNICUS/S2_SR/20200209T025851_20200209T030437_T50RKU')\n",
    "sen2 = ee.Image('COPERNICUS/S2_SR/20200130T025941_20200130T031015_T49QGE')\n",
    "Map.addLayer(maskS2clouds(sen2.clip(roi)),{'min': 0.0,'max': 0.3,'bands': ['B8', 'B4', 'B3']},'sen2')\n",
    "\n",
    "image2 = maskL8sr(water_index(ee.Image('LANDSAT/LC08/C01/T1_SR/LC08_122044_20200218')))\n",
    "Map.addLayer(image2.clip(roi),visParams,'image2')"
   ]
  },
  {
   "cell_type": "code",
   "execution_count": 12,
   "metadata": {
    "ExecuteTime": {
     "end_time": "2021-08-26T05:54:37.821344Z",
     "start_time": "2021-08-26T05:54:36.227388Z"
    }
   },
   "outputs": [
    {
     "name": "stdout",
     "output_type": "stream",
     "text": [
      "['20200115T030049_20200115T030323_T49QFE', '20200115T030049_20200115T030323_T49QHF', '20200130T025941_20200130T031015_T49QFE', '20200130T025941_20200130T031015_T49QFF', '20200130T025941_20200130T031015_T49QGE', '20200130T025941_20200130T031015_T49QGF', '20200130T025941_20200130T031015_T49QHE', '20200130T025941_20200130T031015_T49QHF', '20200315T025539_20200315T030729_T49QHF']\n"
     ]
    }
   ],
   "source": [
    "dataset = ee.ImageCollection('COPERNICUS/S2_SR') \\\n",
    "    .filterBounds(roi) \\\n",
    "    .filterDate('2020-01-01', '2020-03-31') \\\n",
    "    .filter(ee.Filter.lt('CLOUDY_PIXEL_PERCENTAGE',5))\n",
    "\n",
    "print(dataset.aggregate_array('system:index').getInfo())"
   ]
  },
  {
   "cell_type": "code",
   "execution_count": 18,
   "metadata": {
    "ExecuteTime": {
     "end_time": "2021-08-26T06:04:34.952797Z",
     "start_time": "2021-08-26T06:04:32.103609Z"
    }
   },
   "outputs": [],
   "source": [
    "classify2_awei0 = image2.clip(roi).select(bands).classify(trainedClassifier_awei0).eq(1).rename('waterclass')\n",
    "Map.addLayer(classify2_awei0.selfMask(),{'palette':['blue']}, 'classify2_awei0')\n",
    "\n",
    "classify2_awei0_filter = image2.clip(roi).select(bands).classify(trainedClassifier_awei0_filter).eq(1).rename('waterclass')\n",
    "Map.addLayer(classify2_awei0_filter.selfMask(),{'palette':['cyan']}, 'classify2_awei0_filter')"
   ]
  },
  {
   "cell_type": "code",
   "execution_count": 14,
   "metadata": {
    "ExecuteTime": {
     "end_time": "2021-08-26T05:54:44.452148Z",
     "start_time": "2021-08-26T05:54:43.830402Z"
    }
   },
   "outputs": [],
   "source": [
    "NDWI0 = image2.select('NDWI').gt(0)\n",
    "Map.addLayer(NDWI0.selfMask(),{'palette':['green']}, 'ndwi0')"
   ]
  },
  {
   "cell_type": "code",
   "execution_count": 15,
   "metadata": {
    "ExecuteTime": {
     "end_time": "2021-08-26T05:54:48.833672Z",
     "start_time": "2021-08-26T05:54:48.340716Z"
    }
   },
   "outputs": [],
   "source": [
    "mNDWI0 = image2.select('mNDWI').gt(0)\n",
    "Map.addLayer(mNDWI0.selfMask(),{'palette':['yellow']}, 'mndwi0')"
   ]
  },
  {
   "cell_type": "code",
   "execution_count": 16,
   "metadata": {
    "ExecuteTime": {
     "end_time": "2021-08-26T05:54:54.060631Z",
     "start_time": "2021-08-26T05:54:53.544291Z"
    }
   },
   "outputs": [],
   "source": [
    "awei0 = image2.select('AWEI').gt(0)\n",
    "Map.addLayer(awei0.selfMask(),{'palette':['red']}, 'awei0')"
   ]
  },
  {
   "cell_type": "code",
   "execution_count": null,
   "metadata": {
    "ExecuteTime": {
     "start_time": "2021-08-26T00:36:25.425Z"
    }
   },
   "outputs": [],
   "source": [
    "sen9 = ee.Image('COPERNICUS/S2_SR/20201225T030131_20201225T030129_T50RKU')\n",
    "Map.addLayer(maskS2clouds(sen9.clip(roi)),{'min': 0.0,'max': 0.3,'bands': ['B8', 'B4', 'B3']},'sen9')\n",
    "\n",
    "image9 = maskL8sr(water_index(ee.Image('LANDSAT/LC08/C01/T1_SR/LC08_123039_20201225')))\n",
    "Map.addLayer(image9.clip(roi),visParams,'image9')"
   ]
  },
  {
   "cell_type": "code",
   "execution_count": null,
   "metadata": {
    "ExecuteTime": {
     "end_time": "2021-08-13T01:38:12.279653Z",
     "start_time": "2021-08-13T01:38:08.869983Z"
    }
   },
   "outputs": [],
   "source": [
    "classify9_awei0_filter = image9.clip(roi).select(bands).classify(trainedClassifier_awei0_filter).eq(1).rename('waterclass')\n",
    "Map.addLayer(classify9_awei0_filter.selfMask(),{'palette':['cyan']}, 'classify9_awei0_filter')\n",
    "\n",
    "classify9_awei0 = image9.clip(roi).select(bands).classify(trainedClassifier_awei0).eq(1).rename('waterclass')\n",
    "Map.addLayer(classify9_awei0.selfMask(),{'palette':['blue']}, 'classify9_awei0')"
   ]
  },
  {
   "cell_type": "code",
   "execution_count": null,
   "metadata": {},
   "outputs": [],
   "source": []
  },
  {
   "cell_type": "code",
   "execution_count": null,
   "metadata": {},
   "outputs": [],
   "source": []
  },
  {
   "cell_type": "code",
   "execution_count": null,
   "metadata": {
    "ExecuteTime": {
     "end_time": "2021-07-22T13:49:14.966041Z",
     "start_time": "2021-07-22T13:49:14.070908Z"
    }
   },
   "outputs": [],
   "source": [
    "city = ee.FeatureCollection('users/311605001111/ChinaCity')\n",
    "Map.addLayer(city, {}, \"ChinaCity\")\n",
    "\n",
    "Maryland = ee.Image('users/311605001111/Maryland_nationwide_2018').clipToCollection(city)\n",
    "Map.addLayer(Maryland, {'palette':['white','blue'],'min':0,'max':100}, \"Maryland2018\")\n",
    "\n",
    "from matplotlib import pyplot as plt\n",
    "import numpy as np\n",
    "import matplotlib\n",
    "from geemap import cartoee\n",
    "region = [72, 17, 136, 55.5] \n",
    "vis = {'min':0, 'max':100}\n",
    "fig = plt.figure(figsize=(12, 8))\n",
    "cmap = 'Blues'\n",
    "ax = cartoee.get_map(Maryland, region=region, vis_params=vis,cmap = cmap)\n",
    "cartoee.add_colorbar(ax, vis,cmap=cmap,loc=\"right\",label=\"water frequency\", orientation=\"vertical\")\n",
    "cartoee.add_gridlines(ax, interval=[10,10], linestyle=\":\")\n",
    "ax.set_title(label = 'waterbody frequency in 2018(Maryland)', fontsize=20)"
   ]
  },
  {
   "cell_type": "code",
   "execution_count": null,
   "metadata": {
    "ExecuteTime": {
     "end_time": "2021-07-23T04:15:35.226415Z",
     "start_time": "2021-07-23T04:15:32.623663Z"
    }
   },
   "outputs": [],
   "source": [
    "basemap = ee.Image.constant(0).clipToCollection(city).rename('waterClass')\n",
    "jrc = ee.Image('JRC/GSW1_3/YearlyHistory/2018').remap([0,1,2,3],[0,0,1,2]).rename('waterClass').clipToCollection(city)\n",
    "JRC = ee.ImageCollection([jrc,basemap]).sum()\n",
    "Map.addLayer(JRC, {'palette':['ffffff', 'ffbbbb', '0000ff'],'min':0,'max':2}, \"Jrc\")\n",
    "\n",
    "from matplotlib import pyplot as plt\n",
    "import numpy as np\n",
    "import matplotlib\n",
    "from geemap import cartoee\n",
    "region = [72, 17, 136, 55.5] \n",
    "vis = {'palette':['ffffff', 'ffbbbb', '0000ff'],'min':0,'max':2}\n",
    "fig = plt.figure(figsize=(12, 8))\n",
    "ax = cartoee.get_map(JRC, region=region, vis_params=vis)\n",
    "cartoee.add_colorbar(ax, vis,loc=\"right\",label=\"water frequency\", orientation=\"vertical\",discrete=True)\n",
    "cartoee.add_gridlines(ax, interval=[10,10], linestyle=\":\")\n",
    "ax.set_title(label = 'waterbody frequency in 2018(JRC)', fontsize=20)"
   ]
  }
 ],
 "metadata": {
  "hide_input": false,
  "kernelspec": {
   "display_name": "Python 3 (ipykernel)",
   "language": "python",
   "name": "python3"
  },
  "language_info": {
   "codemirror_mode": {
    "name": "ipython",
    "version": 3
   },
   "file_extension": ".py",
   "mimetype": "text/x-python",
   "name": "python",
   "nbconvert_exporter": "python",
   "pygments_lexer": "ipython3",
   "version": "3.8.5"
  },
  "toc": {
   "base_numbering": 1,
   "nav_menu": {},
   "number_sections": true,
   "sideBar": true,
   "skip_h1_title": false,
   "title_cell": "Table of Contents",
   "title_sidebar": "Contents",
   "toc_cell": false,
   "toc_position": {},
   "toc_section_display": true,
   "toc_window_display": false
  },
  "varInspector": {
   "cols": {
    "lenName": 16,
    "lenType": 16,
    "lenVar": 40
   },
   "kernels_config": {
    "python": {
     "delete_cmd_postfix": "",
     "delete_cmd_prefix": "del ",
     "library": "var_list.py",
     "varRefreshCmd": "print(var_dic_list())"
    },
    "r": {
     "delete_cmd_postfix": ") ",
     "delete_cmd_prefix": "rm(",
     "library": "var_list.r",
     "varRefreshCmd": "cat(var_dic_list()) "
    }
   },
   "types_to_exclude": [
    "module",
    "function",
    "builtin_function_or_method",
    "instance",
    "_Feature"
   ],
   "window_display": false
  }
 },
 "nbformat": 4,
 "nbformat_minor": 4
}
