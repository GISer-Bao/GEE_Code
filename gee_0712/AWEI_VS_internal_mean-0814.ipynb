{
 "cells": [
  {
   "cell_type": "code",
   "execution_count": 10,
   "metadata": {
    "ExecuteTime": {
     "end_time": "2021-08-25T14:36:29.309240Z",
     "start_time": "2021-08-25T14:36:29.298242Z"
    }
   },
   "outputs": [],
   "source": [
    "import os\n",
    "os.environ['HTTP_PROXY'] = \"http://127.0.0.1:10809\"\n",
    "os.environ['HTTPS_PROXY'] = \"http://127.0.0.1:10809\""
   ]
  },
  {
   "cell_type": "code",
   "execution_count": 11,
   "metadata": {
    "ExecuteTime": {
     "end_time": "2021-08-25T14:36:29.778710Z",
     "start_time": "2021-08-25T14:36:29.555796Z"
    },
    "scrolled": false
   },
   "outputs": [
    {
     "data": {
      "application/vnd.jupyter.widget-view+json": {
       "model_id": "f2d0bfd2d8fc43858eb8481884508980",
       "version_major": 2,
       "version_minor": 0
      },
      "text/plain": [
       "Map(center=[40, -100], controls=(WidgetControl(options=['position', 'transparent_bg'], widget=HBox(children=(T…"
      ]
     },
     "metadata": {},
     "output_type": "display_data"
    }
   ],
   "source": [
    "import geemap\n",
    "import ee\n",
    "Map=geemap.Map()\n",
    "Map"
   ]
  },
  {
   "cell_type": "code",
   "execution_count": 12,
   "metadata": {
    "ExecuteTime": {
     "end_time": "2021-08-25T14:36:31.895508Z",
     "start_time": "2021-08-25T14:36:29.843255Z"
    }
   },
   "outputs": [],
   "source": [
    "# 武汉市\n",
    "roi = ee.FeatureCollection('users/311605001111/region/ChinaCity').filter(ee.Filter.eq('市','武汉市'))\n",
    "Map.addLayer(roi, {}, \"roi\")\n",
    "Map.centerObject(roi,8)"
   ]
  },
  {
   "cell_type": "code",
   "execution_count": 13,
   "metadata": {
    "ExecuteTime": {
     "end_time": "2021-08-25T14:36:32.021036Z",
     "start_time": "2021-08-25T14:36:32.000236Z"
    }
   },
   "outputs": [],
   "source": [
    "# 移除无效像元\n",
    "elevation = ee.Image('USGS/SRTMGL1_003').select('elevation').clip(roi)\n",
    "def maskL8sr(image):\n",
    "    cloudShadowBitMask = (1 << 3)\n",
    "    cloudsBitMask = (1 << 5)\n",
    "    snowBitMask = (1 << 4)   \n",
    "    qa = image.select('pixel_qa')\n",
    "    mask = qa.bitwiseAnd(cloudShadowBitMask).eq(0) \\\n",
    "                   .And(qa.bitwiseAnd(cloudsBitMask).eq(0)) \\\n",
    "                   .And(qa.bitwiseAnd(snowBitMask).eq(0))\n",
    "    azimuth = image.get('SOLAR_AZIMUTH_ANGLE')\n",
    "    zenith = image.get('SOLAR_ZENITH_ANGLE')\n",
    "    return image.updateMask(mask).updateMask(ee.Terrain.hillShadow(elevation,azimuth,zenith,200,True))\n",
    "\n",
    "# 图像可视化参数\n",
    "visParams = {'bands': ['B5', 'B6', 'B4'],'min': 0,'max': 3000,'gamma': 1.4}\n",
    "\n",
    "## 指数的计算\n",
    "def water_index(img):\n",
    "    image = img.clip(roi)\n",
    "    ndvi=image.normalizedDifference(['B5', 'B4']).rename('NDVI')\n",
    "    ndwi=image.normalizedDifference(['B3', 'B5']).rename(\"NDWI\")\n",
    "    mndwi=image.normalizedDifference(['B3', 'B6']).rename(\"mNDWI\")\n",
    "    ndvi_mndwi = ndvi.subtract(mndwi).rename('ndvi_mndwi')\n",
    "    cwi=image.select('B3').divide(image.select('B6')).rename(\"CWI\")\n",
    "    awei = image.expression('B2 + 2.5*B3 - 1.5*(B5+B6) - 0.25*B7',\n",
    "        {\n",
    "          'B2': image.select('B2'),\n",
    "          'B3': image.select('B3'),    \n",
    "          'B5': image.select('B5'),    \n",
    "          'B6': image.select('B6'),\n",
    "          'B7': image.select('B7'),\n",
    "        }).rename('AWEI')\n",
    "    ewi = image.expression('(B3 - B5 - B6)/(B3 + B5 + B6)',\n",
    "        {\n",
    "          'B3': image.select('B3'),    \n",
    "          'B5': image.select('B5'),    \n",
    "          'B6': image.select('B6'),\n",
    "        }).rename('EWI')\n",
    "    evi = image.expression('2.5*(B5 - B4)/(B5 + 6*B4 - 7.5*B2 + 1)',\n",
    "        {\n",
    "          'B2': image.select('B2'),\n",
    "          'B4': image.select('B4'),\n",
    "          'B5': image.select('B5'),    \n",
    "        }).rename('EVI')\n",
    "    return image.addBands(ndvi).addBands(ndwi).addBands(mndwi).addBands(cwi).addBands(awei).addBands(ewi).addBands(evi).addBands(ndvi_mndwi)\n",
    "\n",
    "# 计算研究区域内，影像面积\n",
    "def ImageArea(image):\n",
    "    image_area = image.select('B2').gt(0).multiply(ee.Image.pixelArea()).divide(1e6)\n",
    "    imageareas = image_area.reduceRegion(**{\n",
    "        'reducer': ee.Reducer.sum(),\n",
    "        'geometry': roi.geometry(),\n",
    "        'scale': 1000,\n",
    "        'maxPixels': 1e14,\n",
    "    })    \n",
    "    return image.set({'imagearea': imageareas.get('B2')})\n"
   ]
  },
  {
   "cell_type": "code",
   "execution_count": 14,
   "metadata": {
    "ExecuteTime": {
     "end_time": "2021-08-25T14:36:33.389093Z",
     "start_time": "2021-08-25T14:36:32.084565Z"
    }
   },
   "outputs": [],
   "source": [
    "landsat_images = ee.ImageCollection('LANDSAT/LC08/C01/T1_SR') \\\n",
    "    .filterBounds(roi) \\\n",
    "    .filterDate('2020-01-01', '2020-12-31') \\\n",
    "    .map(maskL8sr) \\\n",
    "    .map(water_index)\n",
    "Map.addLayer(landsat_images.mosaic().clip(roi),visParams,'landsat image')"
   ]
  },
  {
   "cell_type": "markdown",
   "metadata": {},
   "source": [
    "# 加载样本集,AWEI,threshold = 0"
   ]
  },
  {
   "cell_type": "code",
   "execution_count": 15,
   "metadata": {
    "ExecuteTime": {
     "end_time": "2021-08-25T14:36:34.726740Z",
     "start_time": "2021-08-25T14:36:33.454598Z"
    }
   },
   "outputs": [
    {
     "name": "stdout",
     "output_type": "stream",
     "text": [
      "4952\n",
      "1084\n",
      "3868\n"
     ]
    }
   ],
   "source": [
    "# 加载样本集,AWEI,threshold = 0\n",
    "internal_awei0 = ee.FeatureCollection('users/311605001111/wuhan_2020')\n",
    "# Map.addLayer(samples, {}, \"WuhanTrainingPoints_2020\")\n",
    "print(internal_awei0.size().getInfo())\n",
    "clt_water = internal_awei0.filter(ee.Filter.eq('waterclass',1))\n",
    "print(clt_water.size().getInfo())\n",
    "clt_nowater = internal_awei0.filter(ee.Filter.eq('waterclass',0))\n",
    "print(clt_nowater.size().getInfo())"
   ]
  },
  {
   "cell_type": "markdown",
   "metadata": {},
   "source": [
    "# 加载样本集,区间均值"
   ]
  },
  {
   "cell_type": "code",
   "execution_count": 18,
   "metadata": {
    "ExecuteTime": {
     "end_time": "2021-08-25T14:37:28.092983Z",
     "start_time": "2021-08-25T14:37:26.514890Z"
    }
   },
   "outputs": [
    {
     "name": "stdout",
     "output_type": "stream",
     "text": [
      "5950\n",
      "644\n",
      "5306\n"
     ]
    }
   ],
   "source": [
    "# 加载样本集,区间均值\n",
    "internal_mean40 = ee.FeatureCollection('users/311605001111/region_mean/wuhan_2020')\n",
    "# Map.addLayer(samples, {}, \"WuhanTrainingPoints_2020\")\n",
    "print(internal_mean40.size().getInfo())\n",
    "clt_water = internal_mean40.filter(ee.Filter.eq('waterclass',1))\n",
    "print(clt_water.size().getInfo())\n",
    "clt_nowater = internal_mean40.filter(ee.Filter.eq('waterclass',0))\n",
    "print(clt_nowater.size().getInfo())"
   ]
  },
  {
   "cell_type": "markdown",
   "metadata": {},
   "source": [
    "# k-mean均值过滤"
   ]
  },
  {
   "cell_type": "code",
   "execution_count": 19,
   "metadata": {
    "ExecuteTime": {
     "end_time": "2021-08-25T14:37:44.327359Z",
     "start_time": "2021-08-25T14:37:44.306727Z"
    }
   },
   "outputs": [],
   "source": [
    "bands = ['B2', 'B3', 'B4', 'B5', 'B6', 'B7','NDVI','NDWI','mNDWI','CWI','AWEI','EWI','EVI']\n",
    "# cluster与waterclass的对比\n",
    "def Compare(feature):\n",
    "    cluster = ee.Number(feature.get('cluster'))\n",
    "    waterclass = ee.Number(feature.get('waterclass'))\n",
    "    ft = ee.Algorithms.If(cluster.eq(waterclass),feature.set({'eq':1}),feature.set({'eq':0}))\n",
    "    return ft\n",
    "# k-mean聚类\n",
    "def k_mean(sampleSET):\n",
    "    clusterer = ee.Clusterer.wekaKMeans(2).train(sampleSET,bands)\n",
    "    result = sampleSET.cluster(clusterer)\n",
    "    right = result.map(Compare).filter(ee.Filter.eq('eq',0))\n",
    "    error = result.map(Compare).filter(ee.Filter.eq('eq',1))\n",
    "    filtered_sample = ee.FeatureCollection(ee.Algorithms.If(right.size().gt(error.size()),right,error))\n",
    "    return filtered_sample"
   ]
  },
  {
   "cell_type": "code",
   "execution_count": 20,
   "metadata": {
    "ExecuteTime": {
     "end_time": "2021-08-25T14:37:50.415442Z",
     "start_time": "2021-08-25T14:37:44.586704Z"
    }
   },
   "outputs": [
    {
     "name": "stdout",
     "output_type": "stream",
     "text": [
      "筛选后，剩余的样本数：  5775\n"
     ]
    }
   ],
   "source": [
    "filtered_mean40 = k_mean(internal_mean40)\n",
    "print(\"筛选后，剩余的样本数： \",filtered_mean40.size().getInfo())\n",
    "# a = filtered_mean40.filter(ee.Filter.eq('waterclass',1))\n",
    "# print('水体样本的数目：',a.size().getInfo())\n",
    "# a = filtered_mean40.filter(ee.Filter.eq('waterclass',0))\n",
    "# print('陆地样本的数目：',a.size().getInfo())"
   ]
  },
  {
   "cell_type": "code",
   "execution_count": 21,
   "metadata": {
    "ExecuteTime": {
     "end_time": "2021-08-25T14:37:54.553945Z",
     "start_time": "2021-08-25T14:37:50.480851Z"
    }
   },
   "outputs": [
    {
     "name": "stdout",
     "output_type": "stream",
     "text": [
      "筛选后，剩余的样本数：  4920\n"
     ]
    }
   ],
   "source": [
    "filtered_awei0 = k_mean(internal_awei0)\n",
    "print(\"筛选后，剩余的样本数： \",filtered_awei0.size().getInfo())"
   ]
  },
  {
   "cell_type": "markdown",
   "metadata": {},
   "source": [
    "# 训练RF训练器"
   ]
  },
  {
   "cell_type": "code",
   "execution_count": 22,
   "metadata": {
    "ExecuteTime": {
     "end_time": "2021-08-25T14:37:54.631745Z",
     "start_time": "2021-08-25T14:37:54.616865Z"
    }
   },
   "outputs": [],
   "source": [
    "# RandomForest预测使用的波段\n",
    "bands = ['B2', 'B3', 'B4', 'B5', 'B6', 'B7','NDVI','NDWI','mNDWI','CWI','AWEI','EWI','EVI']\n",
    "# 分类标签\n",
    "label = 'waterclass'\n",
    "\n",
    "\n",
    "trainedClassifier_mean40_filter = ee.Classifier.smileRandomForest(20).train(filtered_mean40,label,bands)\n",
    "trainedClassifier_mean40 = ee.Classifier.smileRandomForest(20).train(internal_mean40,label,bands)\n",
    "\n",
    "trainedClassifier_awei0_filter = ee.Classifier.smileRandomForest(20).train(filtered_awei0,label,bands)\n",
    "trainedClassifier_awei0 = ee.Classifier.smileRandomForest(20).train(internal_awei0,label,bands)"
   ]
  },
  {
   "cell_type": "markdown",
   "metadata": {},
   "source": [
    "# 单景影像的验证"
   ]
  },
  {
   "cell_type": "code",
   "execution_count": 23,
   "metadata": {
    "ExecuteTime": {
     "end_time": "2021-08-25T14:37:55.699908Z",
     "start_time": "2021-08-25T14:37:54.695050Z"
    }
   },
   "outputs": [],
   "source": [
    "# sentinel-2\n",
    "# 加载sentinel 图像\n",
    "def maskS2clouds(image):\n",
    "    qa = image.select('QA60')\n",
    "    cloudBitMask = 1 << 10\n",
    "    cirrusBitMask = 1 << 11\n",
    "    mask = qa.bitwiseAnd(cloudBitMask).eq(0) \\\n",
    "             .And(qa.bitwiseAnd(cirrusBitMask).eq(0))\n",
    "    return image.updateMask(mask).divide(10000)\n",
    "sen2 = ee.Image('COPERNICUS/S2_SR/20200209T025851_20200209T030437_T50RKU')\n",
    "Map.addLayer(maskS2clouds(sen2.clip(roi)),{'min': 0.0,'max': 0.3,'bands': ['B8', 'B4', 'B3']},'sen2')\n",
    "\n",
    "sen9 = ee.Image('COPERNICUS/S2_SR/20201225T030131_20201225T030129_T50RKU')\n",
    "Map.addLayer(maskS2clouds(sen9.clip(roi)),{'min': 0.0,'max': 0.3,'bands': ['B8', 'B4', 'B3']},'sen9')"
   ]
  },
  {
   "cell_type": "code",
   "execution_count": 24,
   "metadata": {
    "ExecuteTime": {
     "end_time": "2021-08-25T14:37:56.992727Z",
     "start_time": "2021-08-25T14:37:55.763287Z"
    }
   },
   "outputs": [],
   "source": [
    "image2 = maskL8sr(water_index(ee.Image('LANDSAT/LC08/C01/T1_SR/LC08_123039_20200209')))\n",
    "Map.addLayer(image2.clip(roi),visParams,'image2')\n",
    "\n",
    "image9 = maskL8sr(water_index(ee.Image('LANDSAT/LC08/C01/T1_SR/LC08_123039_20201225')))\n",
    "Map.addLayer(image9.clip(roi),visParams,'image9')"
   ]
  },
  {
   "cell_type": "code",
   "execution_count": 26,
   "metadata": {
    "ExecuteTime": {
     "end_time": "2021-08-25T14:47:00.101731Z",
     "start_time": "2021-08-25T14:46:51.378506Z"
    }
   },
   "outputs": [],
   "source": [
    "classify2_awei0_filter = image2.clip(roi).select(bands).classify(trainedClassifier_awei0_filter).eq(1).rename('waterclass')\n",
    "Map.addLayer(classify2_awei0_filter.selfMask(),{'palette':['cyan']}, 'classify2_awei0_filter')\n",
    "\n",
    "classify2_awei0 = image2.clip(roi).select(bands).classify(trainedClassifier_awei0).eq(1).rename('waterclass')\n",
    "Map.addLayer(classify2_awei0.selfMask(),{'palette':['blue']}, 'classify2_awei0')\n",
    "\n",
    "classify2_mean40_filter = image2.clip(roi).select(bands).classify(trainedClassifier_mean40_filter).eq(1).rename('waterclass')\n",
    "Map.addLayer(classify2_mean40_filter.selfMask(),{'palette':['yellow']}, 'classify2_mean40_filter')\n",
    "\n",
    "classify2_mean40 = image2.clip(roi).select(bands).classify(trainedClassifier_mean40).eq(1).rename('waterclass')\n",
    "Map.addLayer(classify2_mean40.selfMask(),{'palette':['green']}, 'classify2_mean40')"
   ]
  },
  {
   "cell_type": "code",
   "execution_count": null,
   "metadata": {
    "ExecuteTime": {
     "end_time": "2021-08-13T01:38:12.279653Z",
     "start_time": "2021-08-13T01:38:08.869983Z"
    }
   },
   "outputs": [],
   "source": [
    "classify9_awei0_filter = image9.clip(roi).select(bands).classify(trainedClassifier_awei0_filter).eq(1).rename('waterclass')\n",
    "Map.addLayer(classify9_awei0_filter.selfMask(),{'palette':['cyan']}, 'classify9_awei0_filter')\n",
    "\n",
    "classify9_awei0 = image9.clip(roi).select(bands).classify(trainedClassifier_awei0).eq(1).rename('waterclass')\n",
    "Map.addLayer(classify9_awei0.selfMask(),{'palette':['blue']}, 'classify9_awei0')\n",
    "\n",
    "classify9_mean40_filter = image9.clip(roi).select(bands).classify(trainedClassifier_mean40_filter).eq(1).rename('waterclass')\n",
    "Map.addLayer(classify9_mean40_filter.selfMask(),{'palette':['yellow']}, 'classify9_mean40_filter')\n",
    "\n",
    "classify9_mean40 = image9.clip(roi).select(bands).classify(trainedClassifier_mean40).eq(1).rename('waterclass')\n",
    "Map.addLayer(classify9_mean40.selfMask(),{'palette':['green']}, 'classify9_mean40')"
   ]
  },
  {
   "cell_type": "code",
   "execution_count": null,
   "metadata": {},
   "outputs": [],
   "source": []
  },
  {
   "cell_type": "code",
   "execution_count": null,
   "metadata": {},
   "outputs": [],
   "source": []
  },
  {
   "cell_type": "code",
   "execution_count": null,
   "metadata": {
    "ExecuteTime": {
     "end_time": "2021-07-22T13:49:14.966041Z",
     "start_time": "2021-07-22T13:49:14.070908Z"
    }
   },
   "outputs": [],
   "source": [
    "city = ee.FeatureCollection('users/311605001111/ChinaCity')\n",
    "Map.addLayer(city, {}, \"ChinaCity\")\n",
    "\n",
    "Maryland = ee.Image('users/311605001111/Maryland_nationwide_2018').clipToCollection(city)\n",
    "Map.addLayer(Maryland, {'palette':['white','blue'],'min':0,'max':100}, \"Maryland2018\")\n",
    "\n",
    "from matplotlib import pyplot as plt\n",
    "import numpy as np\n",
    "import matplotlib\n",
    "from geemap import cartoee\n",
    "region = [72, 17, 136, 55.5] \n",
    "vis = {'min':0, 'max':100}\n",
    "fig = plt.figure(figsize=(12, 8))\n",
    "cmap = 'Blues'\n",
    "ax = cartoee.get_map(Maryland, region=region, vis_params=vis,cmap = cmap)\n",
    "cartoee.add_colorbar(ax, vis,cmap=cmap,loc=\"right\",label=\"water frequency\", orientation=\"vertical\")\n",
    "cartoee.add_gridlines(ax, interval=[10,10], linestyle=\":\")\n",
    "ax.set_title(label = 'waterbody frequency in 2018(Maryland)', fontsize=20)"
   ]
  },
  {
   "cell_type": "code",
   "execution_count": null,
   "metadata": {
    "ExecuteTime": {
     "end_time": "2021-07-23T04:15:35.226415Z",
     "start_time": "2021-07-23T04:15:32.623663Z"
    }
   },
   "outputs": [],
   "source": [
    "basemap = ee.Image.constant(0).clipToCollection(city).rename('waterClass')\n",
    "jrc = ee.Image('JRC/GSW1_3/YearlyHistory/2018').remap([0,1,2,3],[0,0,1,2]).rename('waterClass').clipToCollection(city)\n",
    "JRC = ee.ImageCollection([jrc,basemap]).sum()\n",
    "Map.addLayer(JRC, {'palette':['ffffff', 'ffbbbb', '0000ff'],'min':0,'max':2}, \"Jrc\")\n",
    "\n",
    "from matplotlib import pyplot as plt\n",
    "import numpy as np\n",
    "import matplotlib\n",
    "from geemap import cartoee\n",
    "region = [72, 17, 136, 55.5] \n",
    "vis = {'palette':['ffffff', 'ffbbbb', '0000ff'],'min':0,'max':2}\n",
    "fig = plt.figure(figsize=(12, 8))\n",
    "ax = cartoee.get_map(JRC, region=region, vis_params=vis)\n",
    "cartoee.add_colorbar(ax, vis,loc=\"right\",label=\"water frequency\", orientation=\"vertical\",discrete=True)\n",
    "cartoee.add_gridlines(ax, interval=[10,10], linestyle=\":\")\n",
    "ax.set_title(label = 'waterbody frequency in 2018(JRC)', fontsize=20)"
   ]
  }
 ],
 "metadata": {
  "hide_input": false,
  "kernelspec": {
   "display_name": "Python 3 (ipykernel)",
   "language": "python",
   "name": "python3"
  },
  "language_info": {
   "codemirror_mode": {
    "name": "ipython",
    "version": 3
   },
   "file_extension": ".py",
   "mimetype": "text/x-python",
   "name": "python",
   "nbconvert_exporter": "python",
   "pygments_lexer": "ipython3",
   "version": "3.8.5"
  },
  "toc": {
   "base_numbering": 1,
   "nav_menu": {},
   "number_sections": true,
   "sideBar": true,
   "skip_h1_title": false,
   "title_cell": "Table of Contents",
   "title_sidebar": "Contents",
   "toc_cell": false,
   "toc_position": {},
   "toc_section_display": true,
   "toc_window_display": false
  },
  "varInspector": {
   "cols": {
    "lenName": 16,
    "lenType": 16,
    "lenVar": 40
   },
   "kernels_config": {
    "python": {
     "delete_cmd_postfix": "",
     "delete_cmd_prefix": "del ",
     "library": "var_list.py",
     "varRefreshCmd": "print(var_dic_list())"
    },
    "r": {
     "delete_cmd_postfix": ") ",
     "delete_cmd_prefix": "rm(",
     "library": "var_list.r",
     "varRefreshCmd": "cat(var_dic_list()) "
    }
   },
   "types_to_exclude": [
    "module",
    "function",
    "builtin_function_or_method",
    "instance",
    "_Feature"
   ],
   "window_display": false
  }
 },
 "nbformat": 4,
 "nbformat_minor": 4
}
