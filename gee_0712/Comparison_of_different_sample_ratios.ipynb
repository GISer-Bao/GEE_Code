{
 "cells": [
  {
   "cell_type": "code",
   "execution_count": 1,
   "id": "ff3ff6d3",
   "metadata": {
    "ExecuteTime": {
     "end_time": "2021-08-06T03:36:36.553328Z",
     "start_time": "2021-08-06T03:36:36.539365Z"
    }
   },
   "outputs": [],
   "source": [
    "import os\n",
    "os.environ['HTTP_PROXY'] = \"http://127.0.0.1:10809\"\n",
    "os.environ['HTTPS_PROXY'] = \"http://127.0.0.1:10809\""
   ]
  },
  {
   "cell_type": "code",
   "execution_count": 2,
   "id": "b63c2503",
   "metadata": {
    "ExecuteTime": {
     "end_time": "2021-08-06T03:36:41.957881Z",
     "start_time": "2021-08-06T03:36:36.795334Z"
    }
   },
   "outputs": [
    {
     "data": {
      "application/vnd.jupyter.widget-view+json": {
       "model_id": "cf8a85c413e24e5aa5948fd4e6517931",
       "version_major": 2,
       "version_minor": 0
      },
      "text/plain": [
       "Map(center=[40, -100], controls=(WidgetControl(options=['position', 'transparent_bg'], widget=HBox(children=(T…"
      ]
     },
     "metadata": {},
     "output_type": "display_data"
    }
   ],
   "source": [
    "import geemap\n",
    "import ee\n",
    "Map=geemap.Map()\n",
    "Map"
   ]
  },
  {
   "cell_type": "code",
   "execution_count": 3,
   "id": "104e49d4",
   "metadata": {
    "ExecuteTime": {
     "end_time": "2021-08-06T03:36:43.238415Z",
     "start_time": "2021-08-06T03:36:42.086716Z"
    }
   },
   "outputs": [],
   "source": [
    "# 研究区\n",
    "roi = ee.FeatureCollection('users/311605001111/ChinaCity').filter(ee.Filter.eq('市','武汉市'))\n",
    "# roi = ee.Geometry.Rectangle([89.8565, 34.6503,91.4664, 35.8282])\n",
    "Map.addLayer(roi, {}, \"roi\")\n",
    "Map.centerObject(roi,8)"
   ]
  },
  {
   "cell_type": "code",
   "execution_count": 4,
   "id": "77aa7fe9",
   "metadata": {
    "ExecuteTime": {
     "end_time": "2021-08-06T03:36:43.378811Z",
     "start_time": "2021-08-06T03:36:43.363551Z"
    }
   },
   "outputs": [],
   "source": [
    "# 去云、云阴影、雪掩膜函数\n",
    "def maskL8sr(image):\n",
    "    cloudShadowBitMask = (1 << 3)\n",
    "    cloudsBitMask = (1 << 5)\n",
    "    snowBitMask = (1 << 4)   \n",
    "    qa = image.select('pixel_qa')\n",
    "    mask = qa.bitwiseAnd(cloudShadowBitMask).eq(0) \\\n",
    "                   .And(qa.bitwiseAnd(cloudsBitMask).eq(0)) \\\n",
    "                   .And(qa.bitwiseAnd(snowBitMask).eq(0))\n",
    "    return image.updateMask(mask)\n",
    "\n",
    "# 图像可视化参数\n",
    "visParams = {\n",
    "    'bands': ['B5', 'B6', 'B4'],\n",
    "    'min': 0,\n",
    "    'max': 3000,\n",
    "    'gamma': 1.4,\n",
    "}\n",
    "\n",
    "## 计算相关水体指数，包括NDVI、mNDWI、AWEI\n",
    "# AWEI(自动水体提取指数): AWEIsh = B2 + 2.5B3 - 1.5(B5+B6) - 0.25B7\n",
    "def water_index(img):\n",
    "    image = img.clip(roi)\n",
    "    ndvi=image.normalizedDifference(['B5', 'B4']).rename('NDVI')\n",
    "    mndwi=image.normalizedDifference(['B3', 'B6']).rename(\"mNDWI\") \n",
    "    ndvi_mndwi = ndvi.subtract(mndwi).rename('ndvi_mndwi')\n",
    "    awei = image.expression('B2 + 2.5*B3 - 1.5*(B5+B6) - 0.25*B7',\n",
    "        {\n",
    "          'B2': image.select('B2'),\n",
    "          'B3': image.select('B3'),    \n",
    "          'B5': image.select('B5'),    \n",
    "          'B6': image.select('B6'),\n",
    "          'B7': image.select('B7'),\n",
    "        }).rename('AWEI')\n",
    "    return image.addBands(ndvi_mndwi).addBands(ndvi).addBands(mndwi).addBands(awei)\n",
    "\n",
    "# 计算研究区域内，影像面积\n",
    "def ImageArea(image):\n",
    "    image_area = image.select('B2').gt(0).multiply(ee.Image.pixelArea()).divide(1e6)\n",
    "    imageareas = image_area.reduceRegion(**{\n",
    "        'reducer': ee.Reducer.sum(),\n",
    "        'geometry': image.geometry(),\n",
    "        'scale': 1000,\n",
    "        'maxPixels': 1e14,\n",
    "    })    \n",
    "    return image.set({'imagearea': imageareas.get('B2')})"
   ]
  },
  {
   "cell_type": "code",
   "execution_count": 5,
   "id": "87e80662",
   "metadata": {
    "ExecuteTime": {
     "end_time": "2021-08-06T03:36:43.520038Z",
     "start_time": "2021-08-06T03:36:43.507757Z"
    }
   },
   "outputs": [],
   "source": [
    "# RandomForest预测使用的波段\n",
    "bands = ['B2', 'B3', 'B4', 'B5', 'B6', 'B7','NDVI','mNDWI','ndvi_mndwi','AWEI']\n",
    "# 分类标签\n",
    "label = 'waterclass'"
   ]
  },
  {
   "cell_type": "markdown",
   "id": "75df66ab",
   "metadata": {
    "ExecuteTime": {
     "end_time": "2021-08-04T04:06:13.721552Z",
     "start_time": "2021-08-04T04:06:13.704316Z"
    }
   },
   "source": [
    "# 加载图像"
   ]
  },
  {
   "cell_type": "code",
   "execution_count": 6,
   "id": "49015560",
   "metadata": {
    "ExecuteTime": {
     "end_time": "2021-08-06T03:36:44.548598Z",
     "start_time": "2021-08-06T03:36:43.646030Z"
    }
   },
   "outputs": [],
   "source": [
    "image_id = 'LC08_123039_20180915'\n",
    "id = 'LANDSAT/LC08/C01/T1_SR/' + image_id\n",
    "image2 = water_index(ee.Image(id))\n",
    "\n",
    "Map.addLayer(image2,visParams,'image2')\n",
    "Map.addLayer(maskL8sr(image2),visParams,'mask image2')"
   ]
  },
  {
   "cell_type": "markdown",
   "id": "c337d94e",
   "metadata": {},
   "source": [
    "# 不同的样本比例"
   ]
  },
  {
   "cell_type": "markdown",
   "id": "4c1a0f3f",
   "metadata": {},
   "source": [
    "## 陆地：水体 ≈ 7：3"
   ]
  },
  {
   "cell_type": "code",
   "execution_count": 25,
   "id": "0674dd0c",
   "metadata": {
    "ExecuteTime": {
     "end_time": "2021-08-06T03:41:39.214915Z",
     "start_time": "2021-08-06T03:41:37.700221Z"
    }
   },
   "outputs": [
    {
     "name": "stdout",
     "output_type": "stream",
     "text": [
      "{'type': 'Feature', 'geometry': {'type': 'Point', 'coordinates': [114.46774599337513, 30.65465203864643]}, 'id': '0000000000000000033e', 'properties': {'AWEI': -2612.5, 'B2': 748, 'B3': 1018, 'B4': 1062, 'B5': 2036, 'B6': 1692, 'B7': 1254, 'Image_id': 'LC08_122039_20180417', 'NDVI': 0.314396384764364, 'mNDWI': -0.248708487084871, 'ndvi_mndwi': 0.563104871849235, 'waterclass': 0}}\n",
      "total sample number:1135\n",
      "水体样本的数目： 310\n",
      "陆地样本的数目： 825\n"
     ]
    }
   ],
   "source": [
    "## 导入采集的样本集\n",
    "samples_73 = ee.FeatureCollection('users/311605001111/wuhan_8_3')\n",
    "print(samples_73.first().getInfo())\n",
    "print('total sample number:{}'.format(samples_73.size().getInfo()))\n",
    "a = samples_73.filter(ee.Filter.eq('waterclass',1))\n",
    "print('水体样本的数目：',a.size().getInfo())\n",
    "a = samples_73.filter(ee.Filter.eq('waterclass',0))\n",
    "print('陆地样本的数目：',a.size().getInfo())"
   ]
  },
  {
   "cell_type": "code",
   "execution_count": 26,
   "id": "af7168ac",
   "metadata": {
    "ExecuteTime": {
     "end_time": "2021-08-06T03:41:40.718799Z",
     "start_time": "2021-08-06T03:41:40.241306Z"
    }
   },
   "outputs": [],
   "source": [
    "trainedClassifier_73 = ee.Classifier.smileRandomForest(20).train(samples_73,label,bands)\n",
    "image_73 = maskL8sr(image2).select(bands).classify(trainedClassifier_73).eq(1).rename('waterclass')\n",
    "Map.addLayer(image_73.selfMask(),{'palette':['blue']},'image_73')"
   ]
  },
  {
   "cell_type": "markdown",
   "id": "c8c886f9",
   "metadata": {},
   "source": [
    "## 陆地：水体 ≈ 6：4"
   ]
  },
  {
   "cell_type": "code",
   "execution_count": 23,
   "id": "66d36b80",
   "metadata": {
    "ExecuteTime": {
     "end_time": "2021-08-06T03:41:33.536458Z",
     "start_time": "2021-08-06T03:41:32.049583Z"
    }
   },
   "outputs": [
    {
     "name": "stdout",
     "output_type": "stream",
     "text": [
      "{'type': 'Feature', 'geometry': {'type': 'Point', 'coordinates': [114.26044238540042, 30.673799418569924]}, 'id': '00000000000000000343', 'properties': {'AWEI': -208.25, 'B2': 746, 'B3': 957, 'B4': 949, 'B5': 1148, 'B6': 949, 'B7': 805, 'Image_id': 'LC08_123039_20181017', 'NDVI': 0.094897472579876, 'mNDWI': 0.004197271773347, 'ndvi_mndwi': 0.090700200806529, 'waterclass': 0}}\n",
      "total sample number:1340\n",
      "水体样本的数目： 515\n",
      "陆地样本的数目： 825\n"
     ]
    }
   ],
   "source": [
    "## 导入采集的样本集\n",
    "samples_64 = ee.FeatureCollection('users/311605001111/wuhan_8_5')\n",
    "print(samples_64.first().getInfo())\n",
    "print('total sample number:{}'.format(samples_64.size().getInfo()))\n",
    "a = samples_64.filter(ee.Filter.eq('waterclass',1))\n",
    "print('水体样本的数目：',a.size().getInfo())\n",
    "a = samples_64.filter(ee.Filter.eq('waterclass',0))\n",
    "print('陆地样本的数目：',a.size().getInfo())"
   ]
  },
  {
   "cell_type": "code",
   "execution_count": 24,
   "id": "99193272",
   "metadata": {
    "ExecuteTime": {
     "end_time": "2021-08-06T03:41:35.045189Z",
     "start_time": "2021-08-06T03:41:34.579772Z"
    }
   },
   "outputs": [],
   "source": [
    "trainedClassifier_64 = ee.Classifier.smileRandomForest(20).train(samples_64,label,bands)\n",
    "image_64 = maskL8sr(image2).select(bands).classify(trainedClassifier_64).eq(1).rename('waterclass')\n",
    "Map.addLayer(image_64.selfMask(),{'palette':['green']},'image_64')"
   ]
  },
  {
   "cell_type": "markdown",
   "id": "40527f7e",
   "metadata": {
    "ExecuteTime": {
     "end_time": "2021-08-04T04:08:17.291790Z",
     "start_time": "2021-08-04T04:08:17.275341Z"
    }
   },
   "source": [
    "## 陆地：水体 ≈ 5：5"
   ]
  },
  {
   "cell_type": "code",
   "execution_count": 21,
   "id": "a3c3c2de",
   "metadata": {
    "ExecuteTime": {
     "end_time": "2021-08-06T03:41:27.535522Z",
     "start_time": "2021-08-06T03:41:26.217819Z"
    }
   },
   "outputs": [
    {
     "name": "stdout",
     "output_type": "stream",
     "text": [
      "{'type': 'Feature', 'geometry': {'type': 'Point', 'coordinates': [114.46774599337513, 30.65465203864643]}, 'id': '000000000000000004e8', 'properties': {'AWEI': -2612.5, 'B2': 748, 'B3': 1018, 'B4': 1062, 'B5': 2036, 'B6': 1692, 'B7': 1254, 'Image_id': 'LC08_122039_20180417', 'NDVI': 0.314396384764364, 'mNDWI': -0.248708487084871, 'ndvi_mndwi': 0.563104871849235, 'waterclass': 0}}\n",
      "total sample number:1673\n",
      "水体样本的数目： 848\n",
      "陆地样本的数目： 825\n"
     ]
    }
   ],
   "source": [
    "## 导入采集的样本集\n",
    "samples_55 = ee.FeatureCollection('users/311605001111/wuhan_8_8')\n",
    "print(samples_55.first().getInfo())\n",
    "print('total sample number:{}'.format(samples_55.size().getInfo()))\n",
    "a = samples_55.filter(ee.Filter.eq('waterclass',1))\n",
    "print('水体样本的数目：',a.size().getInfo())\n",
    "a = samples_55.filter(ee.Filter.eq('waterclass',0))\n",
    "print('陆地样本的数目：',a.size().getInfo())"
   ]
  },
  {
   "cell_type": "code",
   "execution_count": 22,
   "id": "b5986ace",
   "metadata": {
    "ExecuteTime": {
     "end_time": "2021-08-06T03:41:29.077614Z",
     "start_time": "2021-08-06T03:41:28.612328Z"
    }
   },
   "outputs": [],
   "source": [
    "trainedClassifier_55 = ee.Classifier.smileRandomForest(20).train(samples_55,label,bands)\n",
    "image_55 = maskL8sr(image2).select(bands).classify(trainedClassifier_55).eq(1).rename('waterclass')\n",
    "Map.addLayer(image_55.selfMask(),{'palette':['red']},'image_55')"
   ]
  },
  {
   "cell_type": "markdown",
   "id": "b9974454",
   "metadata": {},
   "source": [
    "## 陆地：水体 ≈ 4：6"
   ]
  },
  {
   "cell_type": "code",
   "execution_count": 19,
   "id": "f7470091",
   "metadata": {
    "ExecuteTime": {
     "end_time": "2021-08-06T03:41:22.254954Z",
     "start_time": "2021-08-06T03:41:20.547263Z"
    },
    "scrolled": true
   },
   "outputs": [
    {
     "name": "stdout",
     "output_type": "stream",
     "text": [
      "{'type': 'Feature', 'geometry': {'type': 'Point', 'coordinates': [114.73338356133098, 30.693209885455573]}, 'id': '00000000000000000661', 'properties': {'AWEI': -5.5, 'B2': 709, 'B3': 851, 'B4': 775, 'B5': 1020, 'B6': 786, 'B7': 532, 'Image_id': 'LC08_122039_20181127', 'NDVI': 0.136490250696379, 'mNDWI': 0.039706780696396, 'ndvi_mndwi': 0.096783469999983, 'waterclass': 0}}\n",
      "total sample number:1950\n",
      "水体样本的数目： 1125\n",
      "陆地样本的数目： 825\n"
     ]
    }
   ],
   "source": [
    "## 导入采集的样本集\n",
    "samples_46 = ee.FeatureCollection('users/311605001111/wuhan_8_11')\n",
    "print(samples_46.first().getInfo())\n",
    "print('total sample number:{}'.format(samples_46.size().getInfo()))\n",
    "a = samples_46.filter(ee.Filter.eq('waterclass',1))\n",
    "print('水体样本的数目：',a.size().getInfo())\n",
    "a = samples_46.filter(ee.Filter.eq('waterclass',0))\n",
    "print('陆地样本的数目：',a.size().getInfo())"
   ]
  },
  {
   "cell_type": "code",
   "execution_count": 20,
   "id": "6c86d154",
   "metadata": {
    "ExecuteTime": {
     "end_time": "2021-08-06T03:41:23.888003Z",
     "start_time": "2021-08-06T03:41:23.391866Z"
    }
   },
   "outputs": [],
   "source": [
    "trainedClassifier_46 = ee.Classifier.smileRandomForest(20).train(samples_46,label,bands)\n",
    "image_46 = maskL8sr(image2).select(bands).classify(trainedClassifier_46).eq(1).rename('waterclass')\n",
    "Map.addLayer(image_46.selfMask(),{'palette':['yellow']},'image_46')"
   ]
  },
  {
   "cell_type": "markdown",
   "id": "134edda9",
   "metadata": {},
   "source": [
    "## 陆地：水体 ≈ 3：7"
   ]
  },
  {
   "cell_type": "code",
   "execution_count": 15,
   "id": "c5bb0d3a",
   "metadata": {
    "ExecuteTime": {
     "end_time": "2021-08-06T03:36:58.374735Z",
     "start_time": "2021-08-06T03:36:57.075698Z"
    }
   },
   "outputs": [
    {
     "name": "stdout",
     "output_type": "stream",
     "text": [
      "{'type': 'Feature', 'geometry': {'type': 'Point', 'coordinates': [114.36979737963514, 30.374312814517335]}, 'id': '00000000000000000660', 'properties': {'AWEI': -2435, 'B2': 846, 'B3': 1214, 'B4': 1327, 'B5': 1980, 'B6': 1942, 'B7': 1732, 'Image_id': 'LC08_123039_20180611', 'NDVI': 0.197459933474448, 'mNDWI': -0.230671736375158, 'ndvi_mndwi': 0.428131669849607, 'waterclass': 0}}\n",
      "total sample number:2361\n",
      "水体样本的数目： 1536\n",
      "陆地样本的数目： 825\n"
     ]
    }
   ],
   "source": [
    "## 导入采集的样本集\n",
    "samples_37 = ee.FeatureCollection('users/311605001111/wuhan_8_15')\n",
    "print(samples_37.first().getInfo())\n",
    "print('total sample number:{}'.format(samples_37.size().getInfo()))\n",
    "a = samples_37.filter(ee.Filter.eq('waterclass',1))\n",
    "print('水体样本的数目：',a.size().getInfo())\n",
    "a = samples_37.filter(ee.Filter.eq('waterclass',0))\n",
    "print('陆地样本的数目：',a.size().getInfo())"
   ]
  },
  {
   "cell_type": "code",
   "execution_count": 16,
   "id": "6ba3422d",
   "metadata": {
    "ExecuteTime": {
     "end_time": "2021-08-06T03:36:59.724540Z",
     "start_time": "2021-08-06T03:36:59.266297Z"
    }
   },
   "outputs": [],
   "source": [
    "trainedClassifier_37 = ee.Classifier.smileRandomForest(20).train(samples_37,label,bands)\n",
    "image_37 = maskL8sr(image2).select(bands).classify(trainedClassifier_37).eq(1).rename('waterclass')\n",
    "Map.addLayer(image_37.selfMask(),{'palette':['violet']},'image_37')"
   ]
  },
  {
   "cell_type": "code",
   "execution_count": null,
   "id": "2cd38f97",
   "metadata": {},
   "outputs": [],
   "source": []
  }
 ],
 "metadata": {
  "hide_input": false,
  "kernelspec": {
   "display_name": "Python 3 (ipykernel)",
   "language": "python",
   "name": "python3"
  },
  "language_info": {
   "codemirror_mode": {
    "name": "ipython",
    "version": 3
   },
   "file_extension": ".py",
   "mimetype": "text/x-python",
   "name": "python",
   "nbconvert_exporter": "python",
   "pygments_lexer": "ipython3",
   "version": "3.8.5"
  },
  "toc": {
   "base_numbering": 1,
   "nav_menu": {},
   "number_sections": true,
   "sideBar": true,
   "skip_h1_title": false,
   "title_cell": "Table of Contents",
   "title_sidebar": "Contents",
   "toc_cell": false,
   "toc_position": {},
   "toc_section_display": true,
   "toc_window_display": false
  },
  "varInspector": {
   "cols": {
    "lenName": 16,
    "lenType": 16,
    "lenVar": 40
   },
   "kernels_config": {
    "python": {
     "delete_cmd_postfix": "",
     "delete_cmd_prefix": "del ",
     "library": "var_list.py",
     "varRefreshCmd": "print(var_dic_list())"
    },
    "r": {
     "delete_cmd_postfix": ") ",
     "delete_cmd_prefix": "rm(",
     "library": "var_list.r",
     "varRefreshCmd": "cat(var_dic_list()) "
    }
   },
   "types_to_exclude": [
    "module",
    "function",
    "builtin_function_or_method",
    "instance",
    "_Feature"
   ],
   "window_display": false
  }
 },
 "nbformat": 4,
 "nbformat_minor": 5
}
