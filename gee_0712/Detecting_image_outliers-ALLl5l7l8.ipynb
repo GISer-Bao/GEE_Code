{
 "cells": [
  {
   "cell_type": "code",
   "execution_count": 1,
   "id": "07dc0489",
   "metadata": {
    "ExecuteTime": {
     "end_time": "2021-12-17T07:15:52.098672Z",
     "start_time": "2021-12-17T07:15:52.093689Z"
    }
   },
   "outputs": [],
   "source": [
    "import os\n",
    "os.environ['HTTP_PROXY'] = \"http://127.0.0.1:10809\"\n",
    "os.environ['HTTPS_PROXY'] = \"http://127.0.0.1:10809\""
   ]
  },
  {
   "cell_type": "code",
   "execution_count": 2,
   "id": "476c7da7",
   "metadata": {
    "ExecuteTime": {
     "end_time": "2021-12-17T07:15:57.686198Z",
     "start_time": "2021-12-17T07:15:52.349452Z"
    },
    "scrolled": false
   },
   "outputs": [
    {
     "data": {
      "application/vnd.jupyter.widget-view+json": {
       "model_id": "d30b1a9fc7444515bbbe3c4686a04a40",
       "version_major": 2,
       "version_minor": 0
      },
      "text/plain": [
       "Map(center=[40, -100], controls=(WidgetControl(options=['position', 'transparent_bg'], widget=HBox(children=(T…"
      ]
     },
     "metadata": {},
     "output_type": "display_data"
    }
   ],
   "source": [
    "import geemap\n",
    "import ee\n",
    "Map = geemap.Map()\n",
    "Map"
   ]
  },
  {
   "cell_type": "code",
   "execution_count": 3,
   "id": "4489e1f4",
   "metadata": {
    "ExecuteTime": {
     "end_time": "2021-12-17T07:15:58.440765Z",
     "start_time": "2021-12-17T07:15:57.798897Z"
    }
   },
   "outputs": [],
   "source": [
    "# # 大庆市\n",
    "# roi = ee.Geometry.Rectangle([123.9355, 45.8362,125.3055, 46.8762])\n",
    "# # 天津市\n",
    "# roi = ee.Geometry.Rectangle([115.9244, 38.6272,117.4944,39.6372])\n",
    "# # 武汉市\n",
    "roi = ee.Geometry.Rectangle([113.7393, 29.8642,115.0993, 30.9242])\n",
    "# # 珠三角\n",
    "# roi = ee.Geometry.Rectangle([112.7614, 22.2347,114.0514, 23.2547])\n",
    "# 青藏高原\n",
    "# roi = ee.Geometry.Rectangle([89.8826, 34.6579,91.3626, 35.8279])\n",
    "Map.addLayer(roi, {}, \"roi\")\n",
    "Map.centerObject(roi,8)"
   ]
  },
  {
   "cell_type": "code",
   "execution_count": 4,
   "id": "7b30ce5e",
   "metadata": {
    "ExecuteTime": {
     "end_time": "2021-12-17T07:15:58.566398Z",
     "start_time": "2021-12-17T07:15:58.552027Z"
    }
   },
   "outputs": [],
   "source": [
    "elevation = ee.Image('USGS/SRTMGL1_003').select('elevation').clip(roi)\n",
    "def maskSR(image):\n",
    "    cloudShadowBitMask = (1 << 3)\n",
    "    cloudsBitMask = (1 << 5)\n",
    "    snowBitMask = (1 << 4)   \n",
    "    qa = image.select('pixel_qa')\n",
    "    mask = qa.bitwiseAnd(cloudShadowBitMask).eq(0) \\\n",
    "                   .And(qa.bitwiseAnd(cloudsBitMask).eq(0)) \\\n",
    "                   .And(qa.bitwiseAnd(snowBitMask).eq(0))\n",
    "    azimuth = image.get('SOLAR_AZIMUTH_ANGLE')\n",
    "    zenith = image.get('SOLAR_ZENITH_ANGLE')\n",
    "    return image.updateMask(mask).updateMask(ee.Terrain.hillShadow(elevation,azimuth,zenith,200,True))\n",
    "# 图像可视化参数\n",
    "visParams = {'bands': ['B5', 'B6', 'B4'],'min': 0,'max': 3000,'gamma': 1.4}"
   ]
  },
  {
   "cell_type": "markdown",
   "id": "da7e10b1",
   "metadata": {},
   "source": [
    "# l5+l7+l8"
   ]
  },
  {
   "cell_type": "markdown",
   "id": "cca380fe",
   "metadata": {},
   "source": [
    "##  定义函数"
   ]
  },
  {
   "cell_type": "code",
   "execution_count": 5,
   "id": "5fd706d3",
   "metadata": {
    "ExecuteTime": {
     "end_time": "2021-12-17T07:15:58.691933Z",
     "start_time": "2021-12-17T07:15:58.677711Z"
    }
   },
   "outputs": [],
   "source": [
    "def detect_outlier(image):\n",
    "    a = image.clip(roi).lt(0)\n",
    "    max = a.reduceRegion(**{'reducer': ee.Reducer.max(),'geometry': roi,'scale': 30,'maxPixels': 1e14})\n",
    "    number = ee.Number(max.get('B2')).add(ee.Number(max.get('B3'))).add(ee.Number(max.get('B4'))).add(ee.Number(max.get('B5'))).add(ee.Number(max.get('B6'))).add(ee.Number(max.get('B7')))\n",
    "    return image.set({'outlier': number}).set({'outlier_B2': max.get('B2')}).set({'outlier_B3': max.get('B3')}).set({'outlier_B4': max.get('B4')}).set({'outlier_B5': max.get('B5')}).set({'outlier_B6': max.get('B6')}).set({'outlier_B7': max.get('B7')})"
   ]
  },
  {
   "cell_type": "code",
   "execution_count": 6,
   "id": "d1ac217e",
   "metadata": {
    "ExecuteTime": {
     "end_time": "2021-12-17T07:15:58.990101Z",
     "start_time": "2021-12-17T07:15:58.804873Z"
    }
   },
   "outputs": [],
   "source": [
    "\n",
    "# def detect_outlier(image):\n",
    "#     a = image.clip(roi).lt(0)\n",
    "#     max = a.reduceRegion(**{'reducer': ee.Reducer.max(),'geometry': roi,'scale': 30,'maxPixels': 1e14})\n",
    "#     number = max.get('pixel_qa')\n",
    "#     return image.set({'outlier': number})"
   ]
  },
  {
   "cell_type": "code",
   "execution_count": 7,
   "id": "8ea2e99e",
   "metadata": {
    "ExecuteTime": {
     "end_time": "2021-12-17T07:15:59.130393Z",
     "start_time": "2021-12-17T07:15:59.106034Z"
    }
   },
   "outputs": [],
   "source": [
    "def outlier_images(year):\n",
    "    start = ee.Algorithms.String(ee.Number(year).int()).cat(ee.String('-01-01'))\n",
    "    end = ee.Algorithms.String(ee.Number(year).int()).cat(ee.String('-12-31'))\n",
    "    l5 = ee.ImageCollection('LANDSAT/LT05/C01/T1_SR').filterBounds(roi).filterDate(start, end)\n",
    "    l7 = ee.ImageCollection('LANDSAT/LE07/C01/T1_SR').filterBounds(roi).filterDate(start, end)\n",
    "    l8 = ee.ImageCollection('LANDSAT/LC08/C01/T1_SR').filterBounds(roi).filterDate(start, end)\n",
    "    l5_bands = l5.select(['B1', 'B2', 'B3', 'B4', 'B5', 'B7','pixel_qa'],['B2', 'B3', 'B4', 'B5', 'B6', 'B7','pixel_qa'])\n",
    "    l7_bands = l7.select(['B1', 'B2', 'B3', 'B4', 'B5', 'B7','pixel_qa'],['B2', 'B3', 'B4', 'B5', 'B6', 'B7','pixel_qa'])\n",
    "    l8_bands = l8.select(['B2', 'B3', 'B4', 'B5', 'B6', 'B7','pixel_qa'])\n",
    "    l5_images = l5_bands.map(detect_outlier).filter(ee.Filter.gt('outlier',0))\n",
    "    l7_images = l7_bands.map(detect_outlier).filter(ee.Filter.gt('outlier',0))  \n",
    "    l8_images = l8_bands.map(detect_outlier).filter(ee.Filter.gt('outlier',0))   \n",
    "    return l5_images.size().add(l7_images.size()).add(l8_images.size())\n",
    "\n",
    "def normal_images(year):\n",
    "    start = ee.Algorithms.String(ee.Number(year).int()).cat(ee.String('-01-01'))\n",
    "    end = ee.Algorithms.String(ee.Number(year).int()).cat(ee.String('-12-31'))\n",
    "    l5 = ee.ImageCollection('LANDSAT/LT05/C01/T1_SR').filterBounds(roi).filterDate(start, end)\n",
    "    l7 = ee.ImageCollection('LANDSAT/LE07/C01/T1_SR').filterBounds(roi).filterDate(start, end)\n",
    "    l8 = ee.ImageCollection('LANDSAT/LC08/C01/T1_SR').filterBounds(roi).filterDate(start, end)\n",
    "    l5_bands = l5.select(['B1', 'B2', 'B3', 'B4', 'B5', 'B7','pixel_qa'],['B2', 'B3', 'B4', 'B5', 'B6', 'B7','pixel_qa'])\n",
    "    l7_bands = l7.select(['B1', 'B2', 'B3', 'B4', 'B5', 'B7','pixel_qa'],['B2', 'B3', 'B4', 'B5', 'B6', 'B7','pixel_qa'])\n",
    "    l8_bands = l8.select(['B2', 'B3', 'B4', 'B5', 'B6', 'B7','pixel_qa'])\n",
    "    l5_images = l5_bands.map(detect_outlier).filter(ee.Filter.lte('outlier',0))\n",
    "    l7_images = l7_bands.map(detect_outlier).filter(ee.Filter.lte('outlier',0))  \n",
    "    l8_images = l8_bands.map(detect_outlier).filter(ee.Filter.lte('outlier',0))   \n",
    "    return l5_images.size().add(l7_images.size()).add(l8_images.size())\n",
    "\n",
    "def l578(year):\n",
    "    start = ee.Algorithms.String(ee.Number(year).int()).cat(ee.String('-01-01'))\n",
    "    end = ee.Algorithms.String(ee.Number(year).int()).cat(ee.String('-12-31'))\n",
    "    l5 = ee.ImageCollection('LANDSAT/LT05/C01/T1_SR').filterBounds(roi).filterDate(start, end)\n",
    "    l7 = ee.ImageCollection('LANDSAT/LE07/C01/T1_SR').filterBounds(roi).filterDate(start, end)\n",
    "    l8 = ee.ImageCollection('LANDSAT/LC08/C01/T1_SR').filterBounds(roi).filterDate(start, end)\n",
    "    return l5.size().add(l7.size()).add(l8.size())"
   ]
  },
  {
   "cell_type": "markdown",
   "id": "b87184f5",
   "metadata": {},
   "source": [
    "## 计算"
   ]
  },
  {
   "cell_type": "code",
   "execution_count": null,
   "id": "b48ffadc",
   "metadata": {
    "ExecuteTime": {
     "end_time": "2021-12-17T07:15:19.260280Z",
     "start_time": "2021-12-17T07:14:29.469878Z"
    }
   },
   "outputs": [],
   "source": [
    "import numpy as np\n",
    "for i in np.arange(1999,2021,1):\n",
    "    print(outlier_images(int(i)).getInfo())\n",
    "\n",
    "import numpy as np\n",
    "for i in np.arange(1999,2021,1):\n",
    "    print(normal_images(int(i)).getInfo())\n",
    "\n",
    "import numpy as np\n",
    "for i in np.arange(1999,2021,1):\n",
    "    print(l578(int(i)).getInfo())"
   ]
  },
  {
   "cell_type": "code",
   "execution_count": 9,
   "id": "7f667b46",
   "metadata": {
    "ExecuteTime": {
     "end_time": "2021-12-17T07:19:05.611439Z",
     "start_time": "2021-12-17T07:18:19.941252Z"
    },
    "scrolled": true
   },
   "outputs": [
    {
     "ename": "EEException",
     "evalue": "Too many concurrent aggregations.",
     "output_type": "error",
     "traceback": [
      "\u001b[1;31m---------------------------------------------------------------------------\u001b[0m",
      "\u001b[1;31mHttpError\u001b[0m                                 Traceback (most recent call last)",
      "\u001b[1;32mD:\\ProgramData\\Anaconda3\\envs\\gee\\lib\\site-packages\\ee\\data.py\u001b[0m in \u001b[0;36m_execute_cloud_call\u001b[1;34m(call, num_retries)\u001b[0m\n\u001b[0;32m    344\u001b[0m   \u001b[1;32mtry\u001b[0m\u001b[1;33m:\u001b[0m\u001b[1;33m\u001b[0m\u001b[1;33m\u001b[0m\u001b[0m\n\u001b[1;32m--> 345\u001b[1;33m     \u001b[1;32mreturn\u001b[0m \u001b[0mcall\u001b[0m\u001b[1;33m.\u001b[0m\u001b[0mexecute\u001b[0m\u001b[1;33m(\u001b[0m\u001b[0mnum_retries\u001b[0m\u001b[1;33m=\u001b[0m\u001b[0mnum_retries\u001b[0m\u001b[1;33m)\u001b[0m\u001b[1;33m\u001b[0m\u001b[1;33m\u001b[0m\u001b[0m\n\u001b[0m\u001b[0;32m    346\u001b[0m   \u001b[1;32mexcept\u001b[0m \u001b[0mgoogleapiclient\u001b[0m\u001b[1;33m.\u001b[0m\u001b[0merrors\u001b[0m\u001b[1;33m.\u001b[0m\u001b[0mHttpError\u001b[0m \u001b[1;32mas\u001b[0m \u001b[0me\u001b[0m\u001b[1;33m:\u001b[0m\u001b[1;33m\u001b[0m\u001b[1;33m\u001b[0m\u001b[0m\n",
      "\u001b[1;32mD:\\ProgramData\\Anaconda3\\envs\\gee\\lib\\site-packages\\googleapiclient\\_helpers.py\u001b[0m in \u001b[0;36mpositional_wrapper\u001b[1;34m(*args, **kwargs)\u001b[0m\n\u001b[0;32m    130\u001b[0m                     \u001b[0mlogger\u001b[0m\u001b[1;33m.\u001b[0m\u001b[0mwarning\u001b[0m\u001b[1;33m(\u001b[0m\u001b[0mmessage\u001b[0m\u001b[1;33m)\u001b[0m\u001b[1;33m\u001b[0m\u001b[1;33m\u001b[0m\u001b[0m\n\u001b[1;32m--> 131\u001b[1;33m             \u001b[1;32mreturn\u001b[0m \u001b[0mwrapped\u001b[0m\u001b[1;33m(\u001b[0m\u001b[1;33m*\u001b[0m\u001b[0margs\u001b[0m\u001b[1;33m,\u001b[0m \u001b[1;33m**\u001b[0m\u001b[0mkwargs\u001b[0m\u001b[1;33m)\u001b[0m\u001b[1;33m\u001b[0m\u001b[1;33m\u001b[0m\u001b[0m\n\u001b[0m\u001b[0;32m    132\u001b[0m \u001b[1;33m\u001b[0m\u001b[0m\n",
      "\u001b[1;32mD:\\ProgramData\\Anaconda3\\envs\\gee\\lib\\site-packages\\googleapiclient\\http.py\u001b[0m in \u001b[0;36mexecute\u001b[1;34m(self, http, num_retries)\u001b[0m\n\u001b[0;32m    936\u001b[0m         \u001b[1;32mif\u001b[0m \u001b[0mresp\u001b[0m\u001b[1;33m.\u001b[0m\u001b[0mstatus\u001b[0m \u001b[1;33m>=\u001b[0m \u001b[1;36m300\u001b[0m\u001b[1;33m:\u001b[0m\u001b[1;33m\u001b[0m\u001b[1;33m\u001b[0m\u001b[0m\n\u001b[1;32m--> 937\u001b[1;33m             \u001b[1;32mraise\u001b[0m \u001b[0mHttpError\u001b[0m\u001b[1;33m(\u001b[0m\u001b[0mresp\u001b[0m\u001b[1;33m,\u001b[0m \u001b[0mcontent\u001b[0m\u001b[1;33m,\u001b[0m \u001b[0muri\u001b[0m\u001b[1;33m=\u001b[0m\u001b[0mself\u001b[0m\u001b[1;33m.\u001b[0m\u001b[0muri\u001b[0m\u001b[1;33m)\u001b[0m\u001b[1;33m\u001b[0m\u001b[1;33m\u001b[0m\u001b[0m\n\u001b[0m\u001b[0;32m    938\u001b[0m         \u001b[1;32mreturn\u001b[0m \u001b[0mself\u001b[0m\u001b[1;33m.\u001b[0m\u001b[0mpostproc\u001b[0m\u001b[1;33m(\u001b[0m\u001b[0mresp\u001b[0m\u001b[1;33m,\u001b[0m \u001b[0mcontent\u001b[0m\u001b[1;33m)\u001b[0m\u001b[1;33m\u001b[0m\u001b[1;33m\u001b[0m\u001b[0m\n",
      "\u001b[1;31mHttpError\u001b[0m: <HttpError 429 when requesting https://earthengine.googleapis.com/v1alpha/projects/earthengine-legacy/value:compute?prettyPrint=false&alt=json returned \"Too many concurrent aggregations.\". Details: \"Too many concurrent aggregations.\">",
      "\nDuring handling of the above exception, another exception occurred:\n",
      "\u001b[1;31mEEException\u001b[0m                               Traceback (most recent call last)",
      "\u001b[1;32m~\\AppData\\Local\\Temp/ipykernel_20232/2245604556.py\u001b[0m in \u001b[0;36m<module>\u001b[1;34m\u001b[0m\n\u001b[0;32m      1\u001b[0m \u001b[0ma\u001b[0m \u001b[1;33m=\u001b[0m \u001b[0mee\u001b[0m\u001b[1;33m.\u001b[0m\u001b[0mList\u001b[0m\u001b[1;33m.\u001b[0m\u001b[0msequence\u001b[0m\u001b[1;33m(\u001b[0m\u001b[1;36m2000\u001b[0m\u001b[1;33m,\u001b[0m\u001b[1;36m2020\u001b[0m\u001b[1;33m,\u001b[0m\u001b[1;36m1\u001b[0m\u001b[1;33m)\u001b[0m\u001b[1;33m\u001b[0m\u001b[1;33m\u001b[0m\u001b[0m\n\u001b[1;32m----> 2\u001b[1;33m \u001b[0moutlier\u001b[0m \u001b[1;33m=\u001b[0m \u001b[0ma\u001b[0m\u001b[1;33m.\u001b[0m\u001b[0mmap\u001b[0m\u001b[1;33m(\u001b[0m\u001b[0moutlier_images\u001b[0m\u001b[1;33m)\u001b[0m\u001b[1;33m.\u001b[0m\u001b[0mgetInfo\u001b[0m\u001b[1;33m(\u001b[0m\u001b[1;33m)\u001b[0m\u001b[1;33m\u001b[0m\u001b[1;33m\u001b[0m\u001b[0m\n\u001b[0m\u001b[0;32m      3\u001b[0m \u001b[0mprint\u001b[0m\u001b[1;33m(\u001b[0m\u001b[0moutlier\u001b[0m\u001b[1;33m)\u001b[0m\u001b[1;33m\u001b[0m\u001b[1;33m\u001b[0m\u001b[0m\n\u001b[0;32m      4\u001b[0m \u001b[1;33m\u001b[0m\u001b[0m\n\u001b[0;32m      5\u001b[0m \u001b[0mnormal\u001b[0m \u001b[1;33m=\u001b[0m \u001b[0ma\u001b[0m\u001b[1;33m.\u001b[0m\u001b[0mmap\u001b[0m\u001b[1;33m(\u001b[0m\u001b[0mnormal_images\u001b[0m\u001b[1;33m)\u001b[0m\u001b[1;33m.\u001b[0m\u001b[0mgetInfo\u001b[0m\u001b[1;33m(\u001b[0m\u001b[1;33m)\u001b[0m\u001b[1;33m\u001b[0m\u001b[1;33m\u001b[0m\u001b[0m\n",
      "\u001b[1;32mD:\\ProgramData\\Anaconda3\\envs\\gee\\lib\\site-packages\\ee\\computedobject.py\u001b[0m in \u001b[0;36mgetInfo\u001b[1;34m(self)\u001b[0m\n\u001b[0;32m     93\u001b[0m       \u001b[0mThe\u001b[0m \u001b[0mobject\u001b[0m \u001b[0mcan\u001b[0m \u001b[0mevaluate\u001b[0m \u001b[0mto\u001b[0m \u001b[0manything\u001b[0m\u001b[1;33m.\u001b[0m\u001b[1;33m\u001b[0m\u001b[1;33m\u001b[0m\u001b[0m\n\u001b[0;32m     94\u001b[0m     \"\"\"\n\u001b[1;32m---> 95\u001b[1;33m     \u001b[1;32mreturn\u001b[0m \u001b[0mdata\u001b[0m\u001b[1;33m.\u001b[0m\u001b[0mcomputeValue\u001b[0m\u001b[1;33m(\u001b[0m\u001b[0mself\u001b[0m\u001b[1;33m)\u001b[0m\u001b[1;33m\u001b[0m\u001b[1;33m\u001b[0m\u001b[0m\n\u001b[0m\u001b[0;32m     96\u001b[0m \u001b[1;33m\u001b[0m\u001b[0m\n\u001b[0;32m     97\u001b[0m   \u001b[1;32mdef\u001b[0m \u001b[0mencode\u001b[0m\u001b[1;33m(\u001b[0m\u001b[0mself\u001b[0m\u001b[1;33m,\u001b[0m \u001b[0mencoder\u001b[0m\u001b[1;33m)\u001b[0m\u001b[1;33m:\u001b[0m\u001b[1;33m\u001b[0m\u001b[1;33m\u001b[0m\u001b[0m\n",
      "\u001b[1;32mD:\\ProgramData\\Anaconda3\\envs\\gee\\lib\\site-packages\\ee\\data.py\u001b[0m in \u001b[0;36mcomputeValue\u001b[1;34m(obj)\u001b[0m\n\u001b[0;32m    704\u001b[0m   \"\"\"\n\u001b[0;32m    705\u001b[0m   \u001b[1;32mif\u001b[0m \u001b[0m_use_cloud_api\u001b[0m\u001b[1;33m:\u001b[0m\u001b[1;33m\u001b[0m\u001b[1;33m\u001b[0m\u001b[0m\n\u001b[1;32m--> 706\u001b[1;33m     return _execute_cloud_call(\n\u001b[0m\u001b[0;32m    707\u001b[0m         _get_cloud_api_resource().projects().value().compute(\n\u001b[0;32m    708\u001b[0m             \u001b[0mbody\u001b[0m\u001b[1;33m=\u001b[0m\u001b[1;33m{\u001b[0m\u001b[1;34m'expression'\u001b[0m\u001b[1;33m:\u001b[0m \u001b[0mserializer\u001b[0m\u001b[1;33m.\u001b[0m\u001b[0mencode\u001b[0m\u001b[1;33m(\u001b[0m\u001b[0mobj\u001b[0m\u001b[1;33m,\u001b[0m \u001b[0mfor_cloud_api\u001b[0m\u001b[1;33m=\u001b[0m\u001b[1;32mTrue\u001b[0m\u001b[1;33m)\u001b[0m\u001b[1;33m}\u001b[0m\u001b[1;33m,\u001b[0m\u001b[1;33m\u001b[0m\u001b[1;33m\u001b[0m\u001b[0m\n",
      "\u001b[1;32mD:\\ProgramData\\Anaconda3\\envs\\gee\\lib\\site-packages\\ee\\data.py\u001b[0m in \u001b[0;36m_execute_cloud_call\u001b[1;34m(call, num_retries)\u001b[0m\n\u001b[0;32m    345\u001b[0m     \u001b[1;32mreturn\u001b[0m \u001b[0mcall\u001b[0m\u001b[1;33m.\u001b[0m\u001b[0mexecute\u001b[0m\u001b[1;33m(\u001b[0m\u001b[0mnum_retries\u001b[0m\u001b[1;33m=\u001b[0m\u001b[0mnum_retries\u001b[0m\u001b[1;33m)\u001b[0m\u001b[1;33m\u001b[0m\u001b[1;33m\u001b[0m\u001b[0m\n\u001b[0;32m    346\u001b[0m   \u001b[1;32mexcept\u001b[0m \u001b[0mgoogleapiclient\u001b[0m\u001b[1;33m.\u001b[0m\u001b[0merrors\u001b[0m\u001b[1;33m.\u001b[0m\u001b[0mHttpError\u001b[0m \u001b[1;32mas\u001b[0m \u001b[0me\u001b[0m\u001b[1;33m:\u001b[0m\u001b[1;33m\u001b[0m\u001b[1;33m\u001b[0m\u001b[0m\n\u001b[1;32m--> 347\u001b[1;33m     \u001b[1;32mraise\u001b[0m \u001b[0m_translate_cloud_exception\u001b[0m\u001b[1;33m(\u001b[0m\u001b[0me\u001b[0m\u001b[1;33m)\u001b[0m\u001b[1;33m\u001b[0m\u001b[1;33m\u001b[0m\u001b[0m\n\u001b[0m\u001b[0;32m    348\u001b[0m \u001b[1;33m\u001b[0m\u001b[0m\n\u001b[0;32m    349\u001b[0m \u001b[1;33m\u001b[0m\u001b[0m\n",
      "\u001b[1;31mEEException\u001b[0m: Too many concurrent aggregations."
     ]
    }
   ],
   "source": [
    "a = ee.List.sequence(2000,2020,1)\n",
    "outlier = a.map(outlier_images).getInfo()\n",
    "print(outlier)\n",
    "\n",
    "normal = a.map(normal_images).getInfo()\n",
    "print(normal)\n",
    "\n",
    "l8_images = a.map(l578).getInfo()\n",
    "print(l8_images)"
   ]
  },
  {
   "cell_type": "code",
   "execution_count": null,
   "id": "755bbe63",
   "metadata": {
    "ExecuteTime": {
     "end_time": "2021-09-10T14:49:08.732454Z",
     "start_time": "2021-09-10T14:49:08.732454Z"
    }
   },
   "outputs": [],
   "source": [
    "# [0, 0, 0, 0, 0, 0, 0, 0, 0, 0, 0, 0, 0, 0, 0, 0, 0, 0, 0, 0, 0]\n",
    "# [70, 89, 81, 79, 93, 76, 80, 75, 80, 82, 69, 73, 33, 97, 87, 110, 109, 106, 104, 97, 85]\n",
    "# [70, 89, 81, 79, 93, 76, 80, 75, 80, 82, 69, 73, 33, 97, 87, 110, 109, 106, 104, 97, 85]"
   ]
  },
  {
   "cell_type": "markdown",
   "id": "f3998ea2",
   "metadata": {},
   "source": [
    "## 绘图"
   ]
  },
  {
   "cell_type": "code",
   "execution_count": 11,
   "id": "15921107",
   "metadata": {
    "ExecuteTime": {
     "end_time": "2021-12-17T07:21:08.302987Z",
     "start_time": "2021-12-17T07:21:08.286037Z"
    }
   },
   "outputs": [],
   "source": [
    "normal = [147, 157, 143, 126, 151, 134, 136, 149, 120, 118, 112, 104, 62, 105, 142, 139, 137, 133, 137, 150, 118]\n",
    "outlier = [35, 33, 21, 16, 27, 8, 17, 17, 22, 22, 19, 25, 12, 15, 24, 18, 11, 29, 14, 26, 21]"
   ]
  },
  {
   "cell_type": "code",
   "execution_count": 12,
   "id": "729e84b6",
   "metadata": {
    "ExecuteTime": {
     "end_time": "2021-12-17T07:21:09.242321Z",
     "start_time": "2021-12-17T07:21:08.765720Z"
    }
   },
   "outputs": [
    {
     "data": {
      "image/png": "[encoded data removed]",
      "text/plain": [
       "<Figure size 576x432 with 1 Axes>"
      ]
     },
     "metadata": {
      "needs_background": "light"
     },
     "output_type": "display_data"
    }
   ],
   "source": [
    "import matplotlib.pyplot as plt\n",
    "import matplotlib as mpl\n",
    "import numpy as np\n",
    "x = np.arange(2000,2021)\n",
    "plt.figure(figsize=(8, 6))\n",
    "plt.bar(x, normal, width=0.45,align=\"center\",label=\"normal images\")\n",
    "plt.bar(x, outlier, width=0.45, align=\"center\", bottom=normal, label=\"abnormal images\")\n",
    "# plt.bar(x, l8, width=0.45, align=\"center\", bottom=l7, label=\"Landsat8\")\n",
    "\n",
    "plt.ylim(0,300)\n",
    "plt.xlabel(\"Year\",size=20)\n",
    "plt.ylabel(\"Number of images\",size=20)\n",
    "plt.tick_params(labelsize=15)\n",
    "plt.xticks([2000,2005,2010,2015,2020])\n",
    "plt.yticks([50,100,150,200,250,300])\n",
    "# plt.legend(prop={'size':24},markerscale=20)\n",
    "plt.title('Region A',size=24)\n",
    "plt.show()"
   ]
  },
  {
   "cell_type": "code",
   "execution_count": null,
   "id": "eae753f9",
   "metadata": {
    "ExecuteTime": {
     "end_time": "2021-09-10T14:49:08.747063Z",
     "start_time": "2021-09-10T14:49:08.747063Z"
    }
   },
   "outputs": [],
   "source": [
    "# region a \n",
    "[147, 157, 143, 126, 151, 134, 136, 149, 120, 118, 112, 104, 62, 105, 142, 139, 137, 133, 137, 150, 118]\n",
    "[35, 33, 21, 16, 27, 8, 17, 17, 22, 22, 19, 25, 12, 15, 24, 18, 11, 29, 14, 26, 21]\n",
    "[182, 190, 164, 142, 178, 142, 153, 166, 142, 140, 131, 129, 74, 120, 166, 157, 148, 162, 151, 176, 139]\n",
    "\n",
    "# region b\n",
    "[138, 163, 147, 116, 151, 132, 134, 124, 102, 123, 113, 102, 59, 135, 166, 143, 153, 180, 187, 162, 184]\n",
    "[67, 71, 44, 48, 59, 62, 68, 62, 81, 67, 62, 72, 46, 63, 71, 80, 72, 46, 56, 56, 35]\n",
    "[205, 234, 191, 164, 210, 194, 202, 186, 183, 190, 175, 174, 105, 198, 237, 223, 225, 226, 243, 218, 219]\n",
    "\n",
    "# region c\n",
    "[58, 81, 75, 74, 91, 72, 69, 62, 75, 70, 58, 63, 28, 81, 66, 80, 90, 85, 92, 91, 76]\n",
    "[12, 8, 6, 5, 2, 4, 11, 13, 5, 12, 11, 10, 5, 16, 21, 30, 19, 21, 12, 6, 9]\n",
    "[70, 89, 81, 79, 93, 76, 80, 75, 80, 82, 69, 73, 33, 97, 87, 110, 109, 106, 104, 97, 85]\n",
    "\n",
    "# region d\n",
    "[108, 100, 91, 113, 156, 111, 110, 107, 119, 133, 70, 94, 33, 100, 114, 112, 107, 122, 120, 122, 130]\n",
    "[33, 25, 20, 10, 17, 11, 7, 13, 18, 19, 19, 26, 18, 11, 37, 41, 37, 42, 45, 32, 30]\n",
    "[141, 125, 111, 123, 173, 122, 117, 120, 137, 152, 89, 120, 51, 111, 151, 153, 144, 164, 165, 154, 160]\n",
    "\n",
    "# region e\n",
    "[114, 137, 132, 136, 168, 148, 147, 134, 111, 163, 159, 114, 64, 171, 213, 231, 219, 214, 229, 222, 222]\n",
    "[30, 47, 19, 16, 24, 15, 21, 12, 18, 17, 21, 28, 24, 18, 32, 28, 27, 30, 31, 18, 22]\n",
    "[144, 184, 151, 152, 192, 163, 168, 146, 129, 180, 180, 142, 88, 189, 245, 259, 246, 244, 260, 240, 244]"
   ]
  },
  {
   "cell_type": "code",
   "execution_count": null,
   "id": "b60c1903",
   "metadata": {},
   "outputs": [],
   "source": []
  },
  {
   "cell_type": "code",
   "execution_count": null,
   "id": "fc437c8d",
   "metadata": {},
   "outputs": [],
   "source": []
  },
  {
   "cell_type": "code",
   "execution_count": null,
   "id": "37ad10d4",
   "metadata": {},
   "outputs": [],
   "source": []
  },
  {
   "cell_type": "code",
   "execution_count": null,
   "id": "a5ca848c",
   "metadata": {},
   "outputs": [],
   "source": []
  },
  {
   "cell_type": "code",
   "execution_count": null,
   "id": "21900cf4",
   "metadata": {},
   "outputs": [],
   "source": []
  },
  {
   "cell_type": "code",
   "execution_count": null,
   "id": "315f9139",
   "metadata": {},
   "outputs": [],
   "source": []
  },
  {
   "cell_type": "code",
   "execution_count": null,
   "id": "1141a43f",
   "metadata": {
    "ExecuteTime": {
     "end_time": "2021-09-10T06:57:38.245674Z",
     "start_time": "2021-09-10T06:57:35.187300Z"
    }
   },
   "outputs": [],
   "source": [
    "def detect_outlier(image):\n",
    "    a = image.clip(roi).lt(0)\n",
    "    max = a.reduceRegion(**{'reducer': ee.Reducer.max(),'geometry': roi,'scale': 30,'maxPixels': 1e14})\n",
    "    number = ee.Number(max.get('B2')).add(ee.Number(max.get('B3'))).add(ee.Number(max.get('B4'))).add(ee.Number(max.get('B5'))).add(ee.Number(max.get('B6'))).add(ee.Number(max.get('B7')))\n",
    "    return image.set({'outlier': number})\n",
    "\n",
    "# 定义参数\n",
    "year = '2000'\n",
    "startDate = year + '-01-01'\n",
    "endDate = year + '-12-31'\n",
    "\n",
    "l8 = ee.ImageCollection('LANDSAT/LT05/C01/T1_SR') \\\n",
    "       .select(['B1', 'B2', 'B3', 'B4', 'B5', 'B7','pixel_qa'],['B2', 'B3', 'B4', 'B5', 'B6', 'B7','pixel_qa']) \\\n",
    "       .filterBounds(roi) \\\n",
    "       .filterDate(startDate, endDate)\n",
    "\n",
    "a = l8.map(detect_outlier)\n",
    "print(l8.size().getInfo())\n",
    "print(a.filter(ee.Filter.gt('outlier',0)).size().getInfo())\n",
    "print(a.filter(ee.Filter.lte('outlier',0)).size().getInfo())\n",
    "print(a.aggregate_array('outlier').getInfo())\n",
    "print(a.filter(ee.Filter.gt('outlier',0)).first().getInfo())"
   ]
  }
 ],
 "metadata": {
  "hide_input": false,
  "kernelspec": {
   "display_name": "Python 3 (ipykernel)",
   "language": "python",
   "name": "python3"
  },
  "language_info": {
   "codemirror_mode": {
    "name": "ipython",
    "version": 3
   },
   "file_extension": ".py",
   "mimetype": "text/x-python",
   "name": "python",
   "nbconvert_exporter": "python",
   "pygments_lexer": "ipython3",
   "version": "3.8.5"
  },
  "toc": {
   "base_numbering": 1,
   "nav_menu": {},
   "number_sections": true,
   "sideBar": true,
   "skip_h1_title": false,
   "title_cell": "Table of Contents",
   "title_sidebar": "Contents",
   "toc_cell": false,
   "toc_position": {
    "height": "47.4432px",
    "left": "599.994px",
    "top": "272.259px",
    "width": "251.974px"
   },
   "toc_section_display": true,
   "toc_window_display": true
  },
  "varInspector": {
   "cols": {
    "lenName": 16,
    "lenType": 16,
    "lenVar": 40
   },
   "kernels_config": {
    "python": {
     "delete_cmd_postfix": "",
     "delete_cmd_prefix": "del ",
     "library": "var_list.py",
     "varRefreshCmd": "print(var_dic_list())"
    },
    "r": {
     "delete_cmd_postfix": ") ",
     "delete_cmd_prefix": "rm(",
     "library": "var_list.r",
     "varRefreshCmd": "cat(var_dic_list()) "
    }
   },
   "types_to_exclude": [
    "module",
    "function",
    "builtin_function_or_method",
    "instance",
    "_Feature"
   ],
   "window_display": false
  }
 },
 "nbformat": 4,
 "nbformat_minor": 5
}
