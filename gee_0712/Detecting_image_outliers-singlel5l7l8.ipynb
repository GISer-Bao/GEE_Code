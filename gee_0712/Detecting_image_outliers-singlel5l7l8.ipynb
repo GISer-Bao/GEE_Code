{
 "cells": [
  {
   "cell_type": "code",
   "execution_count": 1,
   "id": "07dc0489",
   "metadata": {
    "ExecuteTime": {
     "end_time": "2021-12-17T07:40:07.963919Z",
     "start_time": "2021-12-17T07:40:07.956937Z"
    }
   },
   "outputs": [],
   "source": [
    "import os\n",
    "os.environ['HTTP_PROXY'] = \"http://127.0.0.1:10809\"\n",
    "os.environ['HTTPS_PROXY'] = \"http://127.0.0.1:10809\""
   ]
  },
  {
   "cell_type": "code",
   "execution_count": 2,
   "id": "476c7da7",
   "metadata": {
    "ExecuteTime": {
     "end_time": "2021-12-17T07:40:12.556006Z",
     "start_time": "2021-12-17T07:40:08.284656Z"
    },
    "scrolled": false
   },
   "outputs": [
    {
     "data": {
      "application/vnd.jupyter.widget-view+json": {
       "model_id": "d9bc514602a948e3a75ef7c170f436f1",
       "version_major": 2,
       "version_minor": 0
      },
      "text/plain": [
       "Map(center=[40, -100], controls=(WidgetControl(options=['position', 'transparent_bg'], widget=HBox(children=(T…"
      ]
     },
     "metadata": {},
     "output_type": "display_data"
    }
   ],
   "source": [
    "import geemap\n",
    "import ee\n",
    "Map = geemap.Map()\n",
    "Map"
   ]
  },
  {
   "cell_type": "code",
   "execution_count": 3,
   "id": "4489e1f4",
   "metadata": {
    "ExecuteTime": {
     "end_time": "2021-12-17T07:40:19.194856Z",
     "start_time": "2021-12-17T07:40:18.564545Z"
    }
   },
   "outputs": [],
   "source": [
    "# # 大庆市\n",
    "roi = ee.Geometry.Rectangle([123.9355, 45.8362,125.3055, 46.8762])\n",
    "# # 天津市\n",
    "# roi = ee.Geometry.Rectangle([115.9244, 38.6272,117.4944,39.6372])\n",
    "# # 武汉市\n",
    "# roi = ee.Geometry.Rectangle([113.7393, 29.8642,115.0993, 30.9242])\n",
    "# # 珠三角\n",
    "# roi = ee.Geometry.Rectangle([112.7614, 22.2347,114.0514, 23.2547])\n",
    "# 青藏高原\n",
    "# roi = ee.Geometry.Rectangle([89.8826, 34.6579,91.3626, 35.8279])\n",
    "Map.addLayer(roi, {}, \"roi\")\n",
    "Map.centerObject(roi,8)"
   ]
  },
  {
   "cell_type": "code",
   "execution_count": 4,
   "id": "7b30ce5e",
   "metadata": {
    "ExecuteTime": {
     "end_time": "2021-12-17T07:40:19.368048Z",
     "start_time": "2021-12-17T07:40:19.354877Z"
    }
   },
   "outputs": [],
   "source": [
    "elevation = ee.Image('USGS/SRTMGL1_003').select('elevation').clip(roi)\n",
    "def maskSR(image):\n",
    "    cloudShadowBitMask = (1 << 3)\n",
    "    cloudsBitMask = (1 << 5)\n",
    "    snowBitMask = (1 << 4)   \n",
    "    qa = image.select('pixel_qa')\n",
    "    mask = qa.bitwiseAnd(cloudShadowBitMask).eq(0) \\\n",
    "                   .And(qa.bitwiseAnd(cloudsBitMask).eq(0)) \\\n",
    "                   .And(qa.bitwiseAnd(snowBitMask).eq(0))\n",
    "    azimuth = image.get('SOLAR_AZIMUTH_ANGLE')\n",
    "    zenith = image.get('SOLAR_ZENITH_ANGLE')\n",
    "    return image.updateMask(mask).updateMask(ee.Terrain.hillShadow(elevation,azimuth,zenith,200,True))\n",
    "# 图像可视化参数\n",
    "visParams = {'bands': ['B5', 'B6', 'B4'],'min': 0,'max': 3000,'gamma': 1.4}"
   ]
  },
  {
   "cell_type": "code",
   "execution_count": null,
   "id": "a02ecfd3",
   "metadata": {},
   "outputs": [],
   "source": []
  },
  {
   "cell_type": "markdown",
   "id": "bd6ff8d1",
   "metadata": {
    "heading_collapsed": true
   },
   "source": [
    "# landsat8"
   ]
  },
  {
   "cell_type": "markdown",
   "id": "c924ff67",
   "metadata": {
    "heading_collapsed": true,
    "hidden": true
   },
   "source": [
    "## 定义函数"
   ]
  },
  {
   "cell_type": "code",
   "execution_count": null,
   "id": "b6acce44",
   "metadata": {
    "ExecuteTime": {
     "end_time": "2021-12-17T07:27:17.785590Z",
     "start_time": "2021-12-17T07:27:17.709914Z"
    },
    "hidden": true
   },
   "outputs": [],
   "source": [
    "def detect_outlier(image):\n",
    "    a = image.clip(roi).lt(0)\n",
    "    max = a.reduceRegion(**{'reducer': ee.Reducer.max(),'geometry': roi,'scale': 30,'maxPixels': 1e14})\n",
    "    number = ee.Number(max.get('B2')).add(ee.Number(max.get('B3'))).add(ee.Number(max.get('B4'))).add(ee.Number(max.get('B5'))).add(ee.Number(max.get('B6'))).add(ee.Number(max.get('B7')))\n",
    "    return image.set({'outlier': number}).set({'outlier_B2': max.get('B2')}).set({'outlier_B3': max.get('B3')}).set({'outlier_B4': max.get('B4')}).set({'outlier_B5': max.get('B5')}).set({'outlier_B6': max.get('B6')}).set({'outlier_B7': max.get('B7')})\n",
    "\n",
    "# def detect_outlier(image):\n",
    "#     a = image.clip(roi).lt(0)\n",
    "#     max = a.reduceRegion(**{'reducer': ee.Reducer.max(),'geometry': roi,'scale': 30,'maxPixels': 1e14,'tileScale': 4})\n",
    "#     return image.set({'outlier': max.get('B2')})"
   ]
  },
  {
   "cell_type": "code",
   "execution_count": null,
   "id": "7687a16e",
   "metadata": {
    "ExecuteTime": {
     "end_time": "2021-12-17T07:27:17.894308Z",
     "start_time": "2021-12-17T07:27:17.841552Z"
    },
    "hidden": true
   },
   "outputs": [],
   "source": [
    "def outlier_images(year):\n",
    "    start = ee.Algorithms.String(ee.Number(year).int()).cat(ee.String('-01-01'))\n",
    "    end = ee.Algorithms.String(ee.Number(year).int()).cat(ee.String('-12-31'))\n",
    "    landsat_images = ee.ImageCollection('LANDSAT/LC08/C01/T1_SR').filterBounds(roi).filterDate(start, end)\n",
    "    bands = landsat_images.select(['B2', 'B3', 'B4', 'B5', 'B6', 'B7','pixel_qa'])\n",
    "    dataset = bands.map(detect_outlier).filter(ee.Filter.gt('outlier',0))   \n",
    "    return dataset.size()\n",
    "\n",
    "def normal_images(year):\n",
    "    start = ee.Algorithms.String(ee.Number(year).int()).cat(ee.String('-01-01'))\n",
    "    end = ee.Algorithms.String(ee.Number(year).int()).cat(ee.String('-12-31'))\n",
    "    landsat_images = ee.ImageCollection('LANDSAT/LC08/C01/T1_SR').filterBounds(roi).filterDate(start, end)\n",
    "    bands = landsat_images.select(['B2', 'B3', 'B4', 'B5', 'B6', 'B7','pixel_qa'])\n",
    "    dataset = bands.map(detect_outlier).filter(ee.Filter.lte('outlier',0))   \n",
    "    return dataset.size()\n",
    "\n",
    "def l8(year):\n",
    "    start = ee.Algorithms.String(ee.Number(year).int()).cat(ee.String('-01-01'))\n",
    "    end = ee.Algorithms.String(ee.Number(year).int()).cat(ee.String('-12-31'))\n",
    "    dataset = ee.ImageCollection('LANDSAT/LC08/C01/T1_SR').filterBounds(roi).filterDate(start, end)\n",
    "    return dataset.size()"
   ]
  },
  {
   "cell_type": "markdown",
   "id": "45b8cc66",
   "metadata": {
    "heading_collapsed": true,
    "hidden": true
   },
   "source": [
    "## 计算"
   ]
  },
  {
   "cell_type": "code",
   "execution_count": null,
   "id": "4498457c",
   "metadata": {
    "ExecuteTime": {
     "start_time": "2021-12-17T07:27:29.450Z"
    },
    "hidden": true
   },
   "outputs": [],
   "source": [
    "import numpy as np\n",
    "for i in np.arange(2019,2021,1):\n",
    "    print(outlier_images(int(i)).getInfo())\n",
    "\n",
    "import numpy as np\n",
    "for i in np.arange(2013,2021,1):\n",
    "    print(normal_images(int(i)).getInfo())\n",
    "\n",
    "import numpy as np\n",
    "for i in np.arange(2013,2021,1):\n",
    "    print(l8(int(i)).getInfo())"
   ]
  },
  {
   "cell_type": "code",
   "execution_count": null,
   "id": "d675dba0",
   "metadata": {
    "ExecuteTime": {
     "end_time": "2021-12-17T07:25:44.106753Z",
     "start_time": "2021-12-17T07:25:11.373588Z"
    },
    "hidden": true,
    "scrolled": true
   },
   "outputs": [],
   "source": [
    "a = ee.List.sequence(2013,2020,1)\n",
    "outlier = a.map(outlier_images).getInfo()\n",
    "print(outlier)\n",
    "\n",
    "normal = a.map(normal_images).getInfo()\n",
    "print(normal)\n",
    "\n",
    "l8_images = a.map(l8).getInfo()\n",
    "print(l8_images)"
   ]
  },
  {
   "cell_type": "markdown",
   "id": "8f4d5dac",
   "metadata": {
    "heading_collapsed": true,
    "hidden": true
   },
   "source": [
    "## 绘图"
   ]
  },
  {
   "cell_type": "code",
   "execution_count": null,
   "id": "5f5429a6",
   "metadata": {
    "ExecuteTime": {
     "end_time": "2021-09-10T06:02:01.180879Z",
     "start_time": "2021-09-10T06:02:01.073165Z"
    },
    "hidden": true
   },
   "outputs": [],
   "source": [
    "import matplotlib.pyplot as plt\n",
    "import matplotlib as mpl\n",
    "import numpy as np\n",
    "x = np.arange(2013,2021)\n",
    "plt.figure(figsize=(8, 6))\n",
    "plt.bar(x, normal, width=0.45,align=\"center\",label=\"normal images\")\n",
    "plt.bar(x, outlier, width=0.45, align=\"center\", bottom=normal, label=\"abnormal images\")\n",
    "# plt.bar(x, l8, width=0.45, align=\"center\", bottom=l7, label=\"Landsat8\")\n",
    "\n",
    "plt.ylim(0,160)\n",
    "plt.xlabel(\"Year\",size=20)\n",
    "plt.ylabel(\"Number of images\",size=20)\n",
    "plt.tick_params(labelsize=15)\n",
    "# plt.xticks([2013,2020])\n",
    "plt.yticks([50,100,150])\n",
    "plt.legend(prop={'size':24},markerscale=20)\n",
    "plt.title('Region D',size=24)\n",
    "\n",
    "plt.show()"
   ]
  },
  {
   "cell_type": "code",
   "execution_count": null,
   "id": "3a3e779a",
   "metadata": {
    "hidden": true
   },
   "outputs": [],
   "source": [
    "# region a \n",
    "[58, 75, 78, 74, 71, 76, 80, 64]\n",
    "[9, 14, 7, 6, 17, 6, 9, 7]\n",
    "[67, 89, 85, 80, 88, 82, 89, 71]\n",
    "\n",
    "# region b\n",
    "[44, 72, 59, 74, 87, 92, 82, 90]\n",
    "[40, 47, 57, 49, 33, 38, 35, 20]\n",
    "[84, 119, 116, 123, 120, 130, 117, 110]\n",
    "\n",
    "# region c\n",
    "[39, 33, 41, 48, 46, 54, 54, 38]\n",
    "[14, 20, 24, 17, 21, 12, 6, 7]\n",
    "[53, 53, 65, 65, 67, 66, 60, 45]\n",
    "\n",
    "# region d\n",
    "[39, 60, 63, 60, 69, 63, 65, 69]\n",
    "[9, 27, 26, 30, 31, 31, 25, 20]\n",
    "[48, 87, 89, 90, 100, 94, 90, 89]\n",
    "\n",
    "# region e\n",
    "[78, 112, 121, 116, 116, 117, 119, 115]\n",
    "[11, 17, 12, 14, 15, 17, 10, 9]\n",
    "[89, 129, 133, 130, 131, 134, 129, 124]"
   ]
  },
  {
   "cell_type": "markdown",
   "id": "043505da",
   "metadata": {
    "heading_collapsed": true
   },
   "source": [
    "# landsat7"
   ]
  },
  {
   "cell_type": "markdown",
   "id": "da635aa9",
   "metadata": {
    "heading_collapsed": true,
    "hidden": true
   },
   "source": [
    "## 定义函数"
   ]
  },
  {
   "cell_type": "code",
   "execution_count": null,
   "id": "4d312628",
   "metadata": {
    "ExecuteTime": {
     "end_time": "2021-12-17T07:38:00.788298Z",
     "start_time": "2021-12-17T07:38:00.773387Z"
    },
    "hidden": true
   },
   "outputs": [],
   "source": [
    "def detect_outlier(image):\n",
    "    a = image.clip(roi).lt(0)\n",
    "    max = a.reduceRegion(**{'reducer': ee.Reducer.max(),'geometry': roi,'scale': 30,'maxPixels': 1e14})\n",
    "    number = ee.Number(max.get('B2')).add(ee.Number(max.get('B3'))).add(ee.Number(max.get('B4'))).add(ee.Number(max.get('B5'))).add(ee.Number(max.get('B6'))).add(ee.Number(max.get('B7')))\n",
    "    return image.set({'outlier': number}).set({'outlier_B2': max.get('B2')}).set({'outlier_B3': max.get('B3')}).set({'outlier_B4': max.get('B4')}).set({'outlier_B5': max.get('B5')}).set({'outlier_B6': max.get('B6')}).set({'outlier_B7': max.get('B7')})\n"
   ]
  },
  {
   "cell_type": "code",
   "execution_count": null,
   "id": "1e772724",
   "metadata": {
    "ExecuteTime": {
     "end_time": "2021-12-17T07:38:01.102138Z",
     "start_time": "2021-12-17T07:38:01.085156Z"
    },
    "hidden": true
   },
   "outputs": [],
   "source": [
    "def outlier_images(year):\n",
    "    start = ee.Algorithms.String(ee.Number(year).int()).cat(ee.String('-01-01'))\n",
    "    end = ee.Algorithms.String(ee.Number(year).int()).cat(ee.String('-12-31'))\n",
    "    landsat_images = ee.ImageCollection('LANDSAT/LE07/C01/T1_SR').filterBounds(roi).filterDate(start, end)\n",
    "    bands = landsat_images.select(['B1', 'B2', 'B3', 'B4', 'B5', 'B7','pixel_qa'],['B2', 'B3', 'B4', 'B5', 'B6', 'B7','pixel_qa'])\n",
    "    dataset = bands.map(detect_outlier).filter(ee.Filter.gt('outlier',0))   \n",
    "    return dataset.size()\n",
    "\n",
    "def normal_images(year):\n",
    "    start = ee.Algorithms.String(ee.Number(year).int()).cat(ee.String('-01-01'))\n",
    "    end = ee.Algorithms.String(ee.Number(year).int()).cat(ee.String('-12-31'))\n",
    "    landsat_images = ee.ImageCollection('LANDSAT/LE07/C01/T1_SR').filterBounds(roi).filterDate(start, end)\n",
    "    bands = landsat_images.select(['B1', 'B2', 'B3', 'B4', 'B5', 'B7','pixel_qa'],['B2', 'B3', 'B4', 'B5', 'B6', 'B7','pixel_qa'])\n",
    "    dataset = bands.map(detect_outlier).filter(ee.Filter.lte('outlier',0))   \n",
    "    return dataset.size()\n",
    "\n",
    "def l8(year):\n",
    "    start = ee.Algorithms.String(ee.Number(year).int()).cat(ee.String('-01-01'))\n",
    "    end = ee.Algorithms.String(ee.Number(year).int()).cat(ee.String('-12-31'))\n",
    "    dataset = ee.ImageCollection('LANDSAT/LE07/C01/T1_SR').filterBounds(roi).filterDate(start, end)\n",
    "    return dataset.size()"
   ]
  },
  {
   "cell_type": "markdown",
   "id": "6970f04c",
   "metadata": {
    "heading_collapsed": true,
    "hidden": true
   },
   "source": [
    "## 计算"
   ]
  },
  {
   "cell_type": "code",
   "execution_count": null,
   "id": "bec9ed0a",
   "metadata": {
    "ExecuteTime": {
     "end_time": "2021-09-10T07:53:50.630644Z",
     "start_time": "2021-09-10T07:42:02.758580Z"
    },
    "hidden": true
   },
   "outputs": [],
   "source": [
    "import numpy as np\n",
    "for i in np.arange(2000,2021,1):\n",
    "    print(outlier_images(int(i)).getInfo())\n",
    "\n",
    "import numpy as np\n",
    "for i in np.arange(2000,2021,1):\n",
    "    print(normal_images(int(i)).getInfo())\n",
    "\n",
    "import numpy as np\n",
    "for i in np.arange(2000,2021,1):\n",
    "    print(l8(int(i)).getInfo())"
   ]
  },
  {
   "cell_type": "code",
   "execution_count": null,
   "id": "798807e5",
   "metadata": {
    "ExecuteTime": {
     "end_time": "2021-09-10T07:54:07.054086Z",
     "start_time": "2021-09-10T07:53:51.009145Z"
    },
    "hidden": true,
    "scrolled": true
   },
   "outputs": [],
   "source": [
    "a = ee.List.sequence(2000,2020,1)\n",
    "outlier = a.map(outlier_images).getInfo()\n",
    "print(outlier)\n",
    "\n",
    "normal = a.map(normal_images).getInfo()\n",
    "print(normal)\n",
    "\n",
    "l8_images = a.map(l8).getInfo()\n",
    "print(l8_images)"
   ]
  },
  {
   "cell_type": "markdown",
   "id": "be625fb1",
   "metadata": {
    "heading_collapsed": true,
    "hidden": true
   },
   "source": [
    "## 绘图"
   ]
  },
  {
   "cell_type": "code",
   "execution_count": null,
   "id": "30bf77b1",
   "metadata": {
    "ExecuteTime": {
     "end_time": "2021-09-10T07:55:37.123687Z",
     "start_time": "2021-09-10T07:55:37.005059Z"
    },
    "hidden": true
   },
   "outputs": [],
   "source": [
    "import matplotlib.pyplot as plt\n",
    "import matplotlib as mpl\n",
    "import numpy as np\n",
    "x = np.arange(2000,2021)\n",
    "plt.figure(figsize=(8, 6))\n",
    "plt.bar(x, normal, width=0.45,align=\"center\",label=\"normal images\")\n",
    "plt.bar(x, outlier, width=0.45, align=\"center\", bottom=normal, label=\"abnormal images\")\n",
    "# plt.bar(x, l8, width=0.45, align=\"center\", bottom=l7, label=\"Landsat8\")\n",
    "\n",
    "plt.ylim(0,150)\n",
    "plt.xlabel(\"Year\",size=20)\n",
    "plt.ylabel(\"Number of images\",size=20)\n",
    "plt.tick_params(labelsize=15)\n",
    "plt.xticks([2000,2005,2010,2015,2020])\n",
    "plt.yticks([50,100,150])\n",
    "# plt.legend(prop={'size':24},markerscale=20)\n",
    "plt.title('Region A',size=24)\n",
    "plt.show()"
   ]
  },
  {
   "cell_type": "code",
   "execution_count": null,
   "id": "6860038b",
   "metadata": {
    "hidden": true
   },
   "outputs": [],
   "source": [
    "# region a \n",
    "[78, 80, 81, 52, 68, 66, 61, 78, 69, 49, 56, 59, 62, 47, 67, 61, 63, 62, 61, 70, 54]\n",
    "[10, 18, 15, 14, 20, 7, 11, 13, 17, 17, 11, 12, 12, 6, 10, 11, 5, 12, 8, 17, 14]\n",
    "[88, 98, 96, 66, 88, 73, 72, 91, 86, 66, 67, 71, 74, 53, 77, 72, 68, 74, 69, 87, 68]\n",
    "\n",
    "# region b\n",
    "[81, 98, 88, 61, 68, 65, 56, 63, 42, 43, 44, 49, 59, 91, 94, 84, 79, 93, 95, 80, 94]\n",
    "[25, 24, 23, 25, 38, 40, 47, 48, 69, 51, 38, 50, 46, 23, 24, 23, 23, 13, 18, 21, 15]\n",
    "[106, 122, 111, 86, 106, 105, 103, 111, 111, 94, 82, 99, 105, 114, 118, 107, 102, 106, 113, 101, 109]\n",
    "\n",
    "# region c\n",
    "[32, 44, 43, 33, 45, 35, 31, 25, 34, 27, 26, 30, 28, 42, 33, 39, 42, 39, 38, 37, 38]\n",
    "[5, 4, 3, 5, 2, 4, 11, 13, 5, 12, 10, 8, 5, 2, 1, 6, 2, 0, 0, 0, 2]\n",
    "[37, 48, 46, 38, 47, 39, 42, 38, 39, 39, 36, 38, 33, 44, 34, 45, 44, 39, 38, 37, 40]\n",
    "\n",
    "# region d\n",
    "[50, 48, 53, 39, 66, 46, 45, 49, 52, 50, 33, 50, 33, 61, 54, 49, 47, 53, 57, 57, 61]\n",
    "[20, 18, 17, 10, 14, 11, 5, 11, 17, 18, 15, 21, 18, 2, 10, 15, 7, 11, 14, 7, 10]\n",
    "[70, 66, 70, 49, 80, 57, 50, 60, 69, 68, 48, 71, 51, 63, 64, 64, 54, 64, 71, 64, 71]\n",
    "\n",
    "# region e\n",
    "outlier = [43, 55, 51, 43, 59, 59, 47, 57, 38, 57, 58, 49, 64, 93, 101, 110, 103, 98, 112, 103, 107]\n",
    "normal = [13, 14, 12, 11, 20, 13, 18, 12, 17, 14, 11, 14, 24, 7, 15, 16, 13, 15, 14, 8, 13]\n",
    "total = [56, 69, 63, 54, 79, 72, 65, 69, 55, 71, 69, 63, 88, 100, 116, 126, 116, 113, 126, 111, 120]"
   ]
  },
  {
   "cell_type": "code",
   "execution_count": null,
   "id": "eeee3647",
   "metadata": {
    "hidden": true
   },
   "outputs": [],
   "source": []
  },
  {
   "cell_type": "markdown",
   "id": "31fd900f",
   "metadata": {
    "heading_collapsed": true
   },
   "source": [
    "# Landsat5"
   ]
  },
  {
   "cell_type": "markdown",
   "id": "b63d1f67",
   "metadata": {
    "heading_collapsed": true,
    "hidden": true
   },
   "source": [
    "## 定义函数"
   ]
  },
  {
   "cell_type": "code",
   "execution_count": null,
   "id": "7153a097",
   "metadata": {
    "ExecuteTime": {
     "end_time": "2021-12-17T07:38:08.403879Z",
     "start_time": "2021-12-17T07:38:08.388604Z"
    },
    "hidden": true
   },
   "outputs": [],
   "source": [
    "def detect_outlier(image):\n",
    "    a = image.clip(roi).lt(0)\n",
    "    max = a.reduceRegion(**{'reducer': ee.Reducer.max(),'geometry': roi,'scale': 30,'maxPixels': 1e14})\n",
    "    number = ee.Number(max.get('B2')).add(ee.Number(max.get('B3'))).add(ee.Number(max.get('B4'))).add(ee.Number(max.get('B5'))).add(ee.Number(max.get('B6'))).add(ee.Number(max.get('B7')))\n",
    "    return image.set({'outlier': number}).set({'outlier_B2': max.get('B2')}).set({'outlier_B3': max.get('B3')}).set({'outlier_B4': max.get('B4')}).set({'outlier_B5': max.get('B5')}).set({'outlier_B6': max.get('B6')}).set({'outlier_B7': max.get('B7')})\n"
   ]
  },
  {
   "cell_type": "code",
   "execution_count": null,
   "id": "fe26ddeb",
   "metadata": {
    "ExecuteTime": {
     "end_time": "2021-12-17T07:38:08.562020Z",
     "start_time": "2021-12-17T07:38:08.547025Z"
    },
    "hidden": true
   },
   "outputs": [],
   "source": [
    "def outlier_images(year):\n",
    "    start = ee.Algorithms.String(ee.Number(year).int()).cat(ee.String('-01-01'))\n",
    "    end = ee.Algorithms.String(ee.Number(year).int()).cat(ee.String('-12-31'))\n",
    "    landsat_images = ee.ImageCollection('LANDSAT/LT05/C01/T1_SR').filterBounds(roi).filterDate(start, end)\n",
    "    bands = landsat_images.select(['B1', 'B2', 'B3', 'B4', 'B5', 'B7','pixel_qa'],['B2', 'B3', 'B4', 'B5', 'B6', 'B7','pixel_qa'])\n",
    "    dataset = bands.map(detect_outlier).filter(ee.Filter.gt('outlier',0))   \n",
    "    return dataset.size()\n",
    "\n",
    "def normal_images(year):\n",
    "    start = ee.Algorithms.String(ee.Number(year).int()).cat(ee.String('-01-01'))\n",
    "    end = ee.Algorithms.String(ee.Number(year).int()).cat(ee.String('-12-31'))\n",
    "    landsat_images = ee.ImageCollection('LANDSAT/LT05/C01/T1_SR').filterBounds(roi).filterDate(start, end)\n",
    "    bands = landsat_images.select(['B1', 'B2', 'B3', 'B4', 'B5', 'B7','pixel_qa'],['B2', 'B3', 'B4', 'B5', 'B6', 'B7','pixel_qa'])\n",
    "    dataset = bands.map(detect_outlier).filter(ee.Filter.lte('outlier',0))   \n",
    "    return dataset.size()\n",
    "\n",
    "def l8(year):\n",
    "    start = ee.Algorithms.String(ee.Number(year).int()).cat(ee.String('-01-01'))\n",
    "    end = ee.Algorithms.String(ee.Number(year).int()).cat(ee.String('-12-31'))\n",
    "    dataset = ee.ImageCollection('LANDSAT/LT05/C01/T1_SR').filterBounds(roi).filterDate(start, end)\n",
    "    return dataset.size()"
   ]
  },
  {
   "cell_type": "markdown",
   "id": "dca28557",
   "metadata": {
    "heading_collapsed": true,
    "hidden": true
   },
   "source": [
    "## 计算"
   ]
  },
  {
   "cell_type": "code",
   "execution_count": null,
   "id": "427cf859",
   "metadata": {
    "hidden": true
   },
   "outputs": [],
   "source": [
    "import numpy as np\n",
    "for i in np.arange(2000,2013,1):\n",
    "    print(outlier_images(int(i)).getInfo())\n",
    "\n",
    "import numpy as np\n",
    "for i in np.arange(2000,2013,1):\n",
    "    print(normal_images(int(i)).getInfo())\n",
    "\n",
    "import numpy as np\n",
    "for i in np.arange(2000,2013,1):\n",
    "    print(l8(int(i)).getInfo())"
   ]
  },
  {
   "cell_type": "code",
   "execution_count": null,
   "id": "0a652ac0",
   "metadata": {
    "hidden": true
   },
   "outputs": [],
   "source": [
    "a = ee.List.sequence(2000,2012,1)\n",
    "outlier = a.map(outlier_images).getInfo()\n",
    "print(outlier)\n",
    "\n",
    "normal = a.map(normal_images).getInfo()\n",
    "print(normal)\n",
    "\n",
    "l8_images = a.map(l8).getInfo()\n",
    "print(l8_images)"
   ]
  },
  {
   "cell_type": "markdown",
   "id": "d11ecbdd",
   "metadata": {
    "heading_collapsed": true,
    "hidden": true
   },
   "source": [
    "## 绘图"
   ]
  },
  {
   "cell_type": "code",
   "execution_count": null,
   "id": "84c1bf71",
   "metadata": {
    "hidden": true
   },
   "outputs": [],
   "source": [
    "import matplotlib.pyplot as plt\n",
    "import matplotlib as mpl\n",
    "import numpy as np\n",
    "x = np.arange(2000,2012)\n",
    "plt.figure(figsize=(8, 6))\n",
    "plt.bar(x, normal, width=0.45,align=\"center\",label=\"normal images\")\n",
    "plt.bar(x, outlier, width=0.45, align=\"center\", bottom=normal, label=\"abnormal images\")\n",
    "# plt.bar(x, l8, width=0.45, align=\"center\", bottom=l7, label=\"Landsat8\")\n",
    "\n",
    "plt.ylim(0,160)\n",
    "plt.xlabel(\"Year\",size=20)\n",
    "plt.ylabel(\"Number of images\",size=20)\n",
    "plt.tick_params(labelsize=15)\n",
    "# plt.xticks([2013,2020])\n",
    "plt.yticks([50,100,150])\n",
    "plt.legend(prop={'size':24},markerscale=20)\n",
    "plt.title('Region D',size=24)\n",
    "\n",
    "plt.show()"
   ]
  },
  {
   "cell_type": "code",
   "execution_count": null,
   "id": "6741553e",
   "metadata": {
    "hidden": true
   },
   "outputs": [],
   "source": [
    "# region a \n",
    "[69, 77, 62, 74, 83, 68, 75, 71, 51, 69, 56, 45]\n",
    "[25, 15, 6, 2, 7, 1, 6, 4, 5, 5, 8, 13]\n",
    "[94, 92, 68, 76, 90, 69, 81, 75, 56, 74, 64, 58]\n",
    "\n",
    "# region b\n",
    "[57, 65, 59, 55, 83, 67, 78, 61, 60, 80, 69, 53]\n",
    "[42, 47, 21, 23, 21, 22, 21, 14, 12, 16, 24, 22]\n",
    "[99, 112, 80, 78, 104, 89, 99, 75, 72, 96, 93, 75]\n",
    "\n",
    "# region c\n",
    "[26, 37, 32, 41, 46, 37, 38, 37, 41, 43, 32, 33]\n",
    "[7, 4, 3, 0, 0, 0, 0, 0, 0, 0, 1, 2]\n",
    "[33, 41, 35, 41, 46, 37, 38, 37, 41, 43, 33, 35]\n",
    "\n",
    "# region d\n",
    "[58, 52, 38, 74, 90, 65, 65, 58, 67, 83, 37, 44]\n",
    "[13, 7, 3, 0, 3, 0, 2, 2, 1, 1, 4, 5]\n",
    "[71, 59, 41, 74, 93, 65, 67, 60, 68, 84, 41, 49]\n",
    "\n",
    "# region e\n",
    "[71, 82, 81, 93, 109, 89, 100, 77, 73, 106, 101, 65]\n",
    "[17, 33, 7, 5, 4, 2, 3, 0, 1, 3, 10, 14]\n",
    "[88, 115, 88, 98, 113, 91, 103, 77, 74, 109, 111, 79]"
   ]
  },
  {
   "cell_type": "code",
   "execution_count": null,
   "id": "1a820931",
   "metadata": {
    "hidden": true
   },
   "outputs": [],
   "source": []
  },
  {
   "cell_type": "markdown",
   "id": "ea185893",
   "metadata": {},
   "source": [
    "# 合并绘图"
   ]
  },
  {
   "cell_type": "code",
   "execution_count": 20,
   "id": "5be2265f",
   "metadata": {
    "ExecuteTime": {
     "end_time": "2021-12-17T07:44:19.379157Z",
     "start_time": "2021-12-17T07:44:19.356187Z"
    }
   },
   "outputs": [],
   "source": [
    "# # # region a \n",
    "# outlier8 = [0, 0, 0, 0, 0, 0, 0, 0, 0, 0, 0, 0, 0, 0, 58, 75, 78, 74, 71, 76, 80, 64]\n",
    "# normal8 = [0, 0, 0, 0, 0, 0, 0, 0, 0, 0, 0, 0, 0, 0, 9, 14, 7, 6, 17, 6, 9, 7]\n",
    "# outlier7 = [18, 78, 80, 81, 52, 68, 66, 61, 78, 69, 49, 56, 59, 62, 47, 67, 61, 63, 62, 61, 70, 54]\n",
    "# normal7 = [3, 10, 18, 15, 14, 20, 7, 11, 13, 17, 17, 11, 12, 12, 6, 10, 11, 5, 12, 8, 17, 14]\n",
    "# outlier5 = [73, 69, 77, 62, 74, 83, 68, 75, 71, 51, 69, 56, 45, 0, 0, 0, 0, 0, 0, 0, 0, 0]\n",
    "# normal5 = [12, 25, 15, 6, 2, 7, 1, 6, 4, 5, 5, 8, 13, 0, 0, 0, 0, 0, 0, 0, 0, 0]\n",
    "\n",
    "# # region b\n",
    "# outlier8 = [0, 0, 0, 0, 0, 0, 0, 0, 0, 0, 0, 0, 0, 0, 44, 72, 59, 74, 87, 92, 82, 90]\n",
    "# normal8 = [0, 0, 0, 0, 0, 0, 0, 0, 0, 0, 0, 0, 0, 0, 40, 47, 57, 49, 33, 38, 35, 20]\n",
    "# outlier7 = [26, 81, 98, 88, 61, 68, 65, 56, 63, 42, 43, 44, 49, 59, 91, 94, 84, 79, 93, 95, 80, 94]\n",
    "# normal7 = [4, 25, 24, 23, 25, 38, 40, 47, 48, 69, 51, 38, 50, 46, 23, 24, 23, 23, 13, 18, 21, 15]\n",
    "# outlier5 = [69, 57, 65, 59, 55, 83, 67, 78, 61, 60, 80, 69, 53, 0, 0, 0, 0, 0, 0, 0, 0, 0]\n",
    "# normal5 = [33, 42, 47, 21, 23, 21, 22, 21, 14, 12, 16, 24, 22, 0, 0, 0, 0, 0, 0, 0, 0, 0]\n",
    "\n",
    "# # region c\n",
    "# outlier8 = [0, 0, 0, 0, 0, 0, 0, 0, 0, 0, 0, 0, 0, 0, 39, 33, 41, 48, 46, 54, 54, 38]\n",
    "# normal8 = [0, 0, 0, 0, 0, 0, 0, 0, 0, 0, 0, 0, 0, 0, 14, 20, 24, 17, 21, 12, 6, 7]\n",
    "# outlier7 = [7, 32, 44, 43, 33, 45, 35, 31, 25, 34, 27, 26, 30, 28, 42, 33, 39, 42, 39, 38, 37, 38]\n",
    "# normal7 = [0, 5, 4, 3, 5, 2, 4, 11, 13, 5, 12, 10, 8, 5, 2, 1, 6, 2, 0, 0, 0, 2]\n",
    "# outlier5 = [26, 26, 37, 32, 41, 46, 37, 38, 37, 41, 43, 32, 33, 0, 0, 0, 0, 0, 0, 0, 0, 0]\n",
    "# normal5 = [4, 7, 4, 3, 0, 0, 0, 0, 0, 0, 0, 1, 2, 0, 0, 0, 0, 0, 0, 0, 0, 0]\n",
    "\n",
    "# # region d\n",
    "# outlier8 = [0, 0, 0, 0, 0, 0, 0, 0, 0, 0, 0, 0, 0, 0, 39, 60, 63, 60, 69, 63, 65, 69]\n",
    "# normal8 = [0, 0, 0, 0, 0, 0, 0, 0, 0, 0, 0, 0, 0, 0, 9, 27, 26, 30, 31, 31, 25, 20]\n",
    "# outlier7 = [12, 50, 48, 53, 39, 66, 46, 45, 49, 52, 50, 33, 50, 33, 61, 54, 49, 47, 53, 57, 57, 61]\n",
    "# normal7 = [4, 20, 18, 17, 10, 14, 11, 5, 11, 17, 18, 15, 21, 18, 2, 10, 15, 7, 11, 14, 7, 10]\n",
    "# outlier5 = [52, 58, 52, 38, 74, 90, 65, 65, 58, 67, 83, 37, 44, 0, 0, 0, 0, 0, 0, 0, 0, 0]\n",
    "# normal5 = [16, 13, 7, 3, 0, 3, 0, 2, 2, 1, 1, 4, 5, 0, 0, 0, 0, 0, 0, 0, 0, 0]\n",
    "\n",
    "# region e\n",
    "outlier8 = [0, 0, 0, 0, 0, 0, 0, 0, 0, 0, 0, 0, 0, 0, 78, 112, 121, 116, 116, 117, 119, 115]\n",
    "normal8 = [0, 0, 0, 0, 0, 0, 0, 0, 0, 0, 0, 0, 0, 0, 11, 17, 12, 14, 15, 17, 10, 9]\n",
    "outlier7 = [12, 43, 55, 51, 43, 59, 59, 47, 57, 38, 57, 58, 49, 64, 93, 101, 110, 103, 98, 112, 103, 107]\n",
    "normal7 = [0, 13, 14, 12, 11, 20, 13, 18, 12, 17, 14, 11, 14, 24, 7, 15, 16, 13, 15, 14, 8, 13]\n",
    "outlier5 = [53, 71, 82, 81, 93, 109, 89, 100, 77, 73, 106, 101, 65, 0, 0, 0, 0, 0, 0, 0, 0, 0]\n",
    "normal5 = [17, 17, 33, 7, 5, 4, 2, 3, 0, 1, 3, 10, 14, 0, 0, 0, 0, 0, 0, 0, 0, 0]"
   ]
  },
  {
   "cell_type": "code",
   "execution_count": 21,
   "id": "af8d1fac",
   "metadata": {
    "ExecuteTime": {
     "end_time": "2021-12-17T07:44:19.907654Z",
     "start_time": "2021-12-17T07:44:19.900673Z"
    }
   },
   "outputs": [
    {
     "name": "stdout",
     "output_type": "stream",
     "text": [
      "[17, 30, 47, 19, 16, 24, 15, 21, 12, 18, 17, 21, 28, 24, 7, 15, 16, 13, 15, 14, 8, 13]\n",
      "[17, 30, 47, 19, 16, 24, 15, 21, 12, 18, 17, 21, 28, 24, 18, 32, 28, 27, 30, 31, 18, 22]\n",
      "[70, 101, 129, 100, 109, 133, 104, 121, 89, 91, 123, 122, 93, 24, 18, 32, 28, 27, 30, 31, 18, 22]\n",
      "[82, 144, 184, 151, 152, 192, 163, 168, 146, 129, 180, 180, 142, 88, 111, 133, 138, 130, 128, 143, 121, 129]\n"
     ]
    }
   ],
   "source": [
    "cum57 = list(map(sum, zip(list(normal5),list(normal7))))\n",
    "print(cum57)\n",
    "cum578 = list(map(sum, zip(list(normal5),list(normal7),list(normal8))))\n",
    "print(cum578)\n",
    "cum5785 = list(map(sum, zip(list(normal5),list(normal7),list(normal8),list(outlier5))))\n",
    "print(cum5785)\n",
    "cum57857 = list(map(sum, zip(list(normal5),list(normal7),list(normal8),list(outlier5),list(outlier7))))\n",
    "print(cum57857)\n",
    "# cum578578 = list(map(sum, zip(list(normal5),list(normal7),list(normal8),list(outlier5),list(outlier7),list(outlier8))))\n",
    "# print(cum578578)"
   ]
  },
  {
   "cell_type": "code",
   "execution_count": 22,
   "id": "af40335c",
   "metadata": {
    "ExecuteTime": {
     "end_time": "2021-12-17T07:44:30.802667Z",
     "start_time": "2021-12-17T07:44:30.588856Z"
    },
    "scrolled": false
   },
   "outputs": [
    {
     "data": {
      "image/png": "[encoded data removed]",
      "text/plain": [
       "<Figure size 576x432 with 1 Axes>"
      ]
     },
     "metadata": {
      "needs_background": "light"
     },
     "output_type": "display_data"
    }
   ],
   "source": [
    "import matplotlib.pyplot as plt\n",
    "import matplotlib as mpl\n",
    "import numpy as np\n",
    "x = np.arange(1999,2021)\n",
    "plt.figure(figsize=(8, 6))\n",
    "plt.bar(x, normal5, width=0.45,align=\"center\",label=\"landsat5-normal\")\n",
    "plt.bar(x, normal7, width=0.45, align=\"center\", bottom=normal5, label=\"landsat7-normal\")\n",
    "plt.bar(x, normal8, width=0.45, align=\"center\", bottom=cum57, label=\"landsat8-normal\")\n",
    "plt.bar(x, outlier5, width=0.45, align=\"center\", bottom=cum578, label=\"landsat5-abnormal\")\n",
    "plt.bar(x, outlier7, width=0.45, align=\"center\", bottom=cum5785, label=\"landsat7-abnormal\")\n",
    "plt.bar(x, outlier8, width=0.45, align=\"center\", bottom=cum57857, label=\"landsat8-abnormal\")\n",
    "\n",
    "\n",
    "plt.ylim(0,300)\n",
    "plt.xlabel(\"Year\",size=20)\n",
    "plt.ylabel(\"Number of images\",size=20)\n",
    "plt.tick_params(labelsize=15)\n",
    "plt.xticks([2000,2005,2010,2015,2020])\n",
    "plt.yticks([50,100,150,200,250,300])\n",
    "# plt.legend(prop={'size':20},markerscale=15)\n",
    "plt.title('Region E',size=24)\n",
    "plt.show()"
   ]
  },
  {
   "cell_type": "code",
   "execution_count": null,
   "id": "e89d6ebc",
   "metadata": {},
   "outputs": [],
   "source": []
  },
  {
   "cell_type": "markdown",
   "id": "0913926d",
   "metadata": {},
   "source": [
    "# 附录"
   ]
  },
  {
   "cell_type": "code",
   "execution_count": null,
   "id": "e7520826",
   "metadata": {
    "ExecuteTime": {
     "end_time": "2021-09-10T03:28:56.198702Z",
     "start_time": "2021-09-10T03:28:53.051409Z"
    }
   },
   "outputs": [],
   "source": [
    "def detect_outlier(image):\n",
    "    a = image.clip(roi).lt(0)\n",
    "    max = a.reduceRegion(**{'reducer': ee.Reducer.max(),'geometry': roi,'scale': 30,'maxPixels': 1e14})\n",
    "    number = ee.Number(max.get('B2')).add(ee.Number(max.get('B3'))).add(ee.Number(max.get('B4'))).add(ee.Number(max.get('B5'))).add(ee.Number(max.get('B6'))).add(ee.Number(max.get('B7')))\n",
    "    return image.set({'outlier': number})\n",
    "\n",
    "# 定义参数\n",
    "year = '2020'\n",
    "startDate = year + '-01-01'\n",
    "endDate = year + '-12-31'\n",
    "\n",
    "l8 = ee.ImageCollection('LANDSAT/LC08/C01/T1_SR') \\\n",
    "       .select(['B2', 'B3', 'B4', 'B5', 'B6', 'B7','pixel_qa']) \\\n",
    "       .filterBounds(roi) \\\n",
    "       .filterDate(startDate, endDate)\n",
    "\n",
    "a = l8.map(detect_outlier)\n",
    "print(l8.size().getInfo())\n",
    "print(a.filter(ee.Filter.gt('outlier',0)).size().getInfo())\n",
    "print(a.filter(ee.Filter.lt('outlier',1)).size().getInfo())\n",
    "print(a.aggregate_array('outlier').getInfo())"
   ]
  },
  {
   "cell_type": "code",
   "execution_count": null,
   "id": "549821ab",
   "metadata": {
    "ExecuteTime": {
     "end_time": "2021-09-10T03:45:31.683691Z",
     "start_time": "2021-09-10T03:45:28.276954Z"
    }
   },
   "outputs": [],
   "source": [
    "def detect_outlier(image):\n",
    "    a = image.clip(roi).lt(0)\n",
    "    max = a.reduceRegion(**{'reducer': ee.Reducer.max(),'geometry': roi,'scale': 30,'maxPixels': 1e14})\n",
    "    number = ee.Number(max.get('B2')).add(ee.Number(max.get('B3'))).add(ee.Number(max.get('B4'))).add(ee.Number(max.get('B5'))).add(ee.Number(max.get('B6'))).add(ee.Number(max.get('B7')))\n",
    "    return image.set({'outlier': number}).set({'outlier_B2': max.get('B2')}).set({'outlier_B3': max.get('B3')}).set({'outlier_B4': max.get('B4')}).set({'outlier_B5': max.get('B5')}).set({'outlier_B6': max.get('B6')}).set({'outlier_B7': max.get('B7')})\n",
    "\n",
    "# 定义参数\n",
    "year = '2020'\n",
    "startDate = year + '-01-01'\n",
    "endDate = year + '-12-31'\n",
    "\n",
    "l8 = ee.ImageCollection('LANDSAT/LC08/C01/T1_SR') \\\n",
    "       .select(['B2', 'B3', 'B4', 'B5', 'B6', 'B7','pixel_qa']) \\\n",
    "       .filterBounds(roi) \\\n",
    "       .filterDate(startDate, endDate)\n",
    "\n",
    "a = l8.map(detect_outlier)\n",
    "print(l8.size().getInfo())\n",
    "print(a.filter(ee.Filter.gt('outlier',0)).size().getInfo())\n",
    "print(a.filter(ee.Filter.lt('outlier',1)).size().getInfo())\n",
    "print(a.aggregate_array('outlier').getInfo())"
   ]
  },
  {
   "cell_type": "code",
   "execution_count": null,
   "id": "5314d253",
   "metadata": {},
   "outputs": [],
   "source": []
  },
  {
   "cell_type": "code",
   "execution_count": null,
   "id": "1f36db0c",
   "metadata": {
    "ExecuteTime": {
     "end_time": "2021-09-10T03:02:41.637201Z",
     "start_time": "2021-09-10T03:02:39.791737Z"
    }
   },
   "outputs": [],
   "source": [
    "image = ee.Image('LANDSAT/LC08/C01/T1_SR/LC08_138035_20200101').clip(roi)\n",
    "Map.addLayer(image.clip(roi),visParams,'image')\n",
    "mask_image = maskSR(image)\n",
    "Map.addLayer(mask_image.clip(roi),visParams,'mask image')"
   ]
  },
  {
   "cell_type": "code",
   "execution_count": null,
   "id": "ec73ff1c",
   "metadata": {
    "ExecuteTime": {
     "end_time": "2021-09-10T03:07:48.181759Z",
     "start_time": "2021-09-10T03:07:44.934112Z"
    }
   },
   "outputs": [],
   "source": [
    "outlier = image.select(['B2', 'B3', 'B4', 'B5', 'B6', 'B7','pixel_qa']).lt(0)\n",
    "max = outlier.reduceRegion(**{'reducer': ee.Reducer.max(),'geometry': roi,'scale': 30,'maxPixels': 1e14})\n",
    "print(max.getInfo())\n",
    "\n",
    "Map.addLayer(outlier,{'palette':['white','red'],'min':0,'max':1},\"outlier\")"
   ]
  }
 ],
 "metadata": {
  "hide_input": false,
  "kernelspec": {
   "display_name": "Python 3 (ipykernel)",
   "language": "python",
   "name": "python3"
  },
  "language_info": {
   "codemirror_mode": {
    "name": "ipython",
    "version": 3
   },
   "file_extension": ".py",
   "mimetype": "text/x-python",
   "name": "python",
   "nbconvert_exporter": "python",
   "pygments_lexer": "ipython3",
   "version": "3.8.5"
  },
  "toc": {
   "base_numbering": 1,
   "nav_menu": {},
   "number_sections": true,
   "sideBar": true,
   "skip_h1_title": false,
   "title_cell": "Table of Contents",
   "title_sidebar": "Contents",
   "toc_cell": false,
   "toc_position": {
    "height": "47.4432px",
    "left": "599.994px",
    "top": "272.259px",
    "width": "251.974px"
   },
   "toc_section_display": true,
   "toc_window_display": false
  },
  "varInspector": {
   "cols": {
    "lenName": 16,
    "lenType": 16,
    "lenVar": 40
   },
   "kernels_config": {
    "python": {
     "delete_cmd_postfix": "",
     "delete_cmd_prefix": "del ",
     "library": "var_list.py",
     "varRefreshCmd": "print(var_dic_list())"
    },
    "r": {
     "delete_cmd_postfix": ") ",
     "delete_cmd_prefix": "rm(",
     "library": "var_list.r",
     "varRefreshCmd": "cat(var_dic_list()) "
    }
   },
   "types_to_exclude": [
    "module",
    "function",
    "builtin_function_or_method",
    "instance",
    "_Feature"
   ],
   "window_display": false
  }
 },
 "nbformat": 4,
 "nbformat_minor": 5
}
