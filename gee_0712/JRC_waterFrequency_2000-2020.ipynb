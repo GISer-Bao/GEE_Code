{
 "cells": [
  {
   "cell_type": "code",
   "execution_count": 1,
   "id": "4947deaa",
   "metadata": {
    "ExecuteTime": {
     "end_time": "2021-09-06T09:50:34.503175Z",
     "start_time": "2021-09-06T09:50:34.492204Z"
    }
   },
   "outputs": [],
   "source": [
    "import os\n",
    "os.environ['HTTP_PROXY'] = \"http://127.0.0.1:10809\"\n",
    "os.environ['HTTPS_PROXY'] = \"http://127.0.0.1:10809\""
   ]
  },
  {
   "cell_type": "code",
   "execution_count": 2,
   "id": "e6bcbdab",
   "metadata": {
    "ExecuteTime": {
     "end_time": "2021-09-06T09:50:39.009342Z",
     "start_time": "2021-09-06T09:50:34.729389Z"
    }
   },
   "outputs": [
    {
     "data": {
      "application/vnd.jupyter.widget-view+json": {
       "model_id": "3c9f4486eee449c69acb5d89c6c5db2b",
       "version_major": 2,
       "version_minor": 0
      },
      "text/plain": [
       "Map(center=[40, -100], controls=(WidgetControl(options=['position', 'transparent_bg'], widget=HBox(children=(T…"
      ]
     },
     "metadata": {},
     "output_type": "display_data"
    }
   ],
   "source": [
    "import geemap\n",
    "import ee\n",
    "Map=geemap.Map()\n",
    "Map"
   ]
  },
  {
   "cell_type": "code",
   "execution_count": 3,
   "id": "25cde033",
   "metadata": {
    "ExecuteTime": {
     "end_time": "2021-09-06T09:50:40.041949Z",
     "start_time": "2021-09-06T09:50:39.074253Z"
    }
   },
   "outputs": [],
   "source": [
    "# # 大庆市\n",
    "# roi = ee.Geometry.Rectangle([123.9355, 45.8362,125.3055, 46.8762])\n",
    "# # 天津市\n",
    "# roi = ee.Geometry.Rectangle([115.9244, 38.6272,117.4944,39.6372])\n",
    "# # 武汉市\n",
    "# roi = ee.Geometry.Rectangle([113.7393, 29.8642,115.0993, 30.9242])\n",
    "# # 珠三角\n",
    "# roi = ee.Geometry.Rectangle([112.7614, 22.2347,114.0514, 23.2547])\n",
    "# 青藏高原\n",
    "roi = ee.Geometry.Rectangle([89.8826, 34.6579,91.3626, 35.8279])\n",
    "Map.addLayer(roi, {}, \"roi\")\n",
    "Map.centerObject(roi,8)"
   ]
  },
  {
   "cell_type": "code",
   "execution_count": 4,
   "id": "2d0c4bbb",
   "metadata": {
    "ExecuteTime": {
     "end_time": "2021-09-06T09:50:40.797023Z",
     "start_time": "2021-09-06T09:50:40.104124Z"
    }
   },
   "outputs": [],
   "source": [
    "# 去云、云阴影、雪掩膜函数\n",
    "def maskL8sr(image):\n",
    "    cloudShadowBitMask = (1 << 3)\n",
    "    cloudsBitMask = (1 << 5)\n",
    "    snowBitMask = (1 << 4)   \n",
    "    qa = image.select('pixel_qa')\n",
    "    mask = qa.bitwiseAnd(cloudShadowBitMask).eq(0) \\\n",
    "                   .And(qa.bitwiseAnd(cloudsBitMask).eq(0)) \\\n",
    "                   .And(qa.bitwiseAnd(snowBitMask).eq(0))\n",
    "    return image.updateMask(mask)\n",
    "\n",
    "visParams = {'bands': ['B5', 'B6', 'B4'],'min': 0,'max': 3000,'gamma': 1.4}\n",
    "\n",
    "landsat_images = ee.ImageCollection('LANDSAT/LC08/C01/T1_SR') \\\n",
    "    .filterBounds(roi) \\\n",
    "    .filterDate('2020-01-01', '2020-12-31') \\\n",
    "    .map(maskL8sr)\n",
    "Map.addLayer(landsat_images.mosaic().clip(roi),visParams,'landsat image')"
   ]
  },
  {
   "cell_type": "markdown",
   "id": "8541d6c3",
   "metadata": {},
   "source": [
    "# JRC水体频率，2000-2020"
   ]
  },
  {
   "cell_type": "code",
   "execution_count": 8,
   "id": "b974dc30",
   "metadata": {
    "ExecuteTime": {
     "end_time": "2021-09-06T09:55:35.309821Z",
     "start_time": "2021-09-06T09:55:33.139808Z"
    }
   },
   "outputs": [],
   "source": [
    "# dataset = ee.ImageCollection('JRC/GSW1_3/MonthlyHistory').filter(ee.Filter.gte('year',2000))\n",
    "# waterPixel = dataset.map(lambda i : i.clip(roi).eq(2)).sum()\n",
    "# validPixel = dataset.map(lambda i : i.clip(roi).gt(0)).sum()\n",
    "# Map.addLayer(waterPixel, {'palette':['white','red'],'min':0,'max':85}, 'waterPixel')\n",
    "# Map.addLayer(validPixel, {'palette':['white','red'],'min':0,'max':85}, 'validPixel')\n",
    "# waterFrequency = waterPixel.divide(validPixel).multiply(100)\n",
    "# Map.addLayer(waterFrequency, {'palette':['white','blue'],'min':0,'max':100}, 'waterFrequency')"
   ]
  },
  {
   "cell_type": "code",
   "execution_count": 5,
   "id": "250a3145",
   "metadata": {
    "ExecuteTime": {
     "end_time": "2021-09-06T09:50:46.912033Z",
     "start_time": "2021-09-06T09:50:46.177271Z"
    }
   },
   "outputs": [],
   "source": [
    "dataset = ee.ImageCollection('JRC/GSW1_3/MonthlyHistory').filter(ee.Filter.gte('year',2000))\n",
    "waterPixel = dataset.map(lambda i : i.clip(roi).eq(2)).sum()\n",
    "validPixel = dataset.map(lambda i : i.clip(roi).gt(0)).sum()\n",
    "waterFrequency = waterPixel.divide(validPixel).multiply(100)\n",
    "# Map.addLayer(waterFrequency, {'palette':['white','blue'],'min':0,'max':1}, 'waterFrequency')"
   ]
  },
  {
   "cell_type": "code",
   "execution_count": null,
   "id": "32868f6d",
   "metadata": {
    "ExecuteTime": {
     "start_time": "2021-09-06T09:49:57.439Z"
    }
   },
   "outputs": [],
   "source": [
    "minmax = waterPixel.reduceRegion(**{\n",
    "    'reducer': ee.Reducer.minMax(),\n",
    "    'geometry': roi,\n",
    "    'scale': 30,\n",
    "    'maxPixels': 1e14,\n",
    "    'tileScale': 2,\n",
    "})\n",
    "print(minmax.getInfo())"
   ]
  },
  {
   "cell_type": "code",
   "execution_count": null,
   "id": "3f1db149",
   "metadata": {
    "ExecuteTime": {
     "end_time": "2021-07-29T06:23:24.108294Z",
     "start_time": "2021-07-29T06:22:59.494205Z"
    }
   },
   "outputs": [],
   "source": [
    "minmax = validPixel.reduceRegion(**{\n",
    "    'reducer': ee.Reducer.minMax(),\n",
    "    'geometry': roi,\n",
    "    'scale': 30,\n",
    "    'tileScale': 2,\n",
    "})\n",
    "print(minmax.getInfo())"
   ]
  },
  {
   "cell_type": "code",
   "execution_count": null,
   "id": "c76ef129",
   "metadata": {
    "ExecuteTime": {
     "end_time": "2021-07-30T02:29:25.925710Z",
     "start_time": "2021-07-30T02:29:00.507460Z"
    }
   },
   "outputs": [],
   "source": [
    "from matplotlib import pyplot as plt\n",
    "import numpy as np\n",
    "import matplotlib\n",
    "from geemap import cartoee\n",
    "%pylab inline\n",
    "region = [113.6, 29.9, 115.1, 31.4]\n",
    "vis = {'min':0, 'max':1}\n",
    "fig = plt.figure(figsize=(12, 8))\n",
    "cmap = 'Blues'\n",
    "ax = cartoee.get_map(waterFrequency, region=region, vis_params=vis,cmap = cmap)\n",
    "cartoee.add_colorbar(ax, vis,cmap=cmap,loc=\"right\",label=\"water frequency\", orientation=\"vertical\")\n",
    "cartoee.add_gridlines(ax, interval=[0.2,0.2], linestyle=\":\")\n",
    "ax.set_title(label = 'JRC/2014-2020)', fontsize=20)"
   ]
  },
  {
   "cell_type": "code",
   "execution_count": null,
   "id": "726b8221",
   "metadata": {},
   "outputs": [],
   "source": []
  },
  {
   "cell_type": "code",
   "execution_count": null,
   "id": "d2b1d450",
   "metadata": {},
   "outputs": [],
   "source": []
  }
 ],
 "metadata": {
  "hide_input": false,
  "kernelspec": {
   "display_name": "Python 3 (ipykernel)",
   "language": "python",
   "name": "python3"
  },
  "language_info": {
   "codemirror_mode": {
    "name": "ipython",
    "version": 3
   },
   "file_extension": ".py",
   "mimetype": "text/x-python",
   "name": "python",
   "nbconvert_exporter": "python",
   "pygments_lexer": "ipython3",
   "version": "3.8.5"
  },
  "toc": {
   "base_numbering": 1,
   "nav_menu": {},
   "number_sections": true,
   "sideBar": true,
   "skip_h1_title": false,
   "title_cell": "Table of Contents",
   "title_sidebar": "Contents",
   "toc_cell": false,
   "toc_position": {},
   "toc_section_display": true,
   "toc_window_display": false
  },
  "varInspector": {
   "cols": {
    "lenName": 16,
    "lenType": 16,
    "lenVar": 40
   },
   "kernels_config": {
    "python": {
     "delete_cmd_postfix": "",
     "delete_cmd_prefix": "del ",
     "library": "var_list.py",
     "varRefreshCmd": "print(var_dic_list())"
    },
    "r": {
     "delete_cmd_postfix": ") ",
     "delete_cmd_prefix": "rm(",
     "library": "var_list.r",
     "varRefreshCmd": "cat(var_dic_list()) "
    }
   },
   "types_to_exclude": [
    "module",
    "function",
    "builtin_function_or_method",
    "instance",
    "_Feature"
   ],
   "window_display": false
  }
 },
 "nbformat": 4,
 "nbformat_minor": 5
}
