{
 "cells": [
  {
   "cell_type": "code",
   "execution_count": 1,
   "metadata": {
    "ExecuteTime": {
     "end_time": "2021-07-16T07:35:24.160664Z",
     "start_time": "2021-07-16T07:35:24.145705Z"
    }
   },
   "outputs": [],
   "source": [
    "import os\n",
    "os.environ['HTTP_PROXY'] = \"http://127.0.0.1:10809\"\n",
    "os.environ['HTTPS_PROXY'] = \"http://127.0.0.1:10809\""
   ]
  },
  {
   "cell_type": "code",
   "execution_count": 2,
   "metadata": {
    "ExecuteTime": {
     "end_time": "2021-07-16T07:35:29.478689Z",
     "start_time": "2021-07-16T07:35:24.409041Z"
    },
    "scrolled": false
   },
   "outputs": [
    {
     "data": {
      "application/vnd.jupyter.widget-view+json": {
       "model_id": "6951d7827f394c18a1063f00acefd81c",
       "version_major": 2,
       "version_minor": 0
      },
      "text/plain": [
       "Map(center=[40, -100], controls=(WidgetControl(options=['position', 'transparent_bg'], widget=HBox(children=(T…"
      ]
     },
     "metadata": {},
     "output_type": "display_data"
    }
   ],
   "source": [
    "import ee\n",
    "import geemap\n",
    "# 导入相关库\n",
    "import numpy as np\n",
    "import matplotlib.pyplot as plt\n",
    "Map = geemap.Map()\n",
    "Map"
   ]
  },
  {
   "cell_type": "code",
   "execution_count": 3,
   "metadata": {
    "ExecuteTime": {
     "end_time": "2021-07-16T07:35:30.931535Z",
     "start_time": "2021-07-16T07:35:29.698814Z"
    }
   },
   "outputs": [
    {
     "name": "stdout",
     "output_type": "stream",
     "text": [
      "2154\n"
     ]
    }
   ],
   "source": [
    "# 加载研究区域\n",
    "roi = ee.FeatureCollection('users/311605001111/YangtzeCity/wuhan').geometry()\n",
    "Map.addLayer(roi, {}, \"roi\")\n",
    "Map.centerObject(roi,9)\n",
    "\n",
    "# 加载样本集\n",
    "samples = ee.FeatureCollection('users/311605001111/sample_wuhan2018')\n",
    "# Map.addLayer(samples, {}, \"WuhanTrainingPoints_2020\")\n",
    "print(samples.size().getInfo())\n",
    "\n",
    "## 在样本集中，各类样本的个数\n",
    "# clt_water = samples.filter(ee.Filter.eq('waterclass',1))\n",
    "# print(clt_water.size().getInfo())\n",
    "# clt_nowater = samples.filter(ee.Filter.eq('waterclass',0))\n",
    "# print(clt_nowater.size().getInfo())"
   ]
  },
  {
   "cell_type": "code",
   "execution_count": 4,
   "metadata": {
    "ExecuteTime": {
     "end_time": "2021-07-16T07:35:31.851092Z",
     "start_time": "2021-07-16T07:35:31.150744Z"
    },
    "scrolled": true
   },
   "outputs": [],
   "source": [
    "## 加载影像\n",
    "\n",
    "# 去云、云阴影、雪掩膜函数\n",
    "def maskL8sr(image):\n",
    "    cloudShadowBitMask = (1 << 3)\n",
    "    cloudsBitMask = (1 << 5)\n",
    "    snowBitMask = (1 << 4)   \n",
    "    qa = image.select('pixel_qa')\n",
    "    mask = qa.bitwiseAnd(cloudShadowBitMask).eq(0) \\\n",
    "                   .And(qa.bitwiseAnd(cloudsBitMask).eq(0)) \\\n",
    "                   .And(qa.bitwiseAnd(snowBitMask).eq(0))\n",
    "    return image.updateMask(mask)\n",
    "# landsat影像可视化参数\n",
    "visParams = {\n",
    "    'bands': ['B5', 'B6', 'B4'],\n",
    "    'min': 0,\n",
    "    'max': 3000,\n",
    "    'gamma': 1.4,\n",
    "}\n",
    "\n",
    "landsat_images = ee.ImageCollection('LANDSAT/LC08/C01/T1_SR') \\\n",
    "    .filterBounds(roi) \\\n",
    "    .filterDate('2018-01-01', '2018-12-31') \\\n",
    "    .map(maskL8sr)\n",
    "Map.addLayer(landsat_images.mosaic().clip(roi),visParams,'landsat image')"
   ]
  },
  {
   "cell_type": "markdown",
   "metadata": {},
   "source": [
    "# 计算筛选掉的样本集"
   ]
  },
  {
   "cell_type": "code",
   "execution_count": 5,
   "metadata": {
    "ExecuteTime": {
     "end_time": "2021-07-16T07:35:32.526748Z",
     "start_time": "2021-07-16T07:35:32.073696Z"
    }
   },
   "outputs": [
    {
     "name": "stdout",
     "output_type": "stream",
     "text": [
      "{'type': 'Feature', 'geometry': {'type': 'Point', 'coordinates': [114.2550334958226, 30.706413283674824]}, 'id': '00000000000000000354', 'properties': {'AWEI': -3717.25, 'B2': 908, 'B3': 1163, 'B4': 1315, 'B5': 2545, 'B6': 2203, 'B7': 1643, 'Image_id': 'LC08_123039_20180408', 'NDVI': 0.318652849740933, 'cluster': 0, 'mNDWI': -0.308972073677956, 'ndvi_mndwi': 0.627624923418889, 'waterclass': 0}}\n"
     ]
    }
   ],
   "source": [
    "# K_mean聚类\n",
    "bands = ['B2', 'B3', 'B4', 'B5', 'B6', 'B7','NDVI','NDWI','mNDWI','CWI','AWEI','EWI','EVI']\n",
    "clusterer = ee.Clusterer.wekaKMeans(2).train(samples,bands)\n",
    "result = samples.cluster(clusterer)\n",
    "\n",
    "print(result.first().getInfo())"
   ]
  },
  {
   "cell_type": "code",
   "execution_count": 6,
   "metadata": {
    "ExecuteTime": {
     "end_time": "2021-07-16T07:35:33.613984Z",
     "start_time": "2021-07-16T07:35:32.744584Z"
    }
   },
   "outputs": [
    {
     "name": "stdout",
     "output_type": "stream",
     "text": [
      "聚类后的水体样本个数： 1207\n",
      "聚类后的非水体样本个数： 947\n"
     ]
    }
   ],
   "source": [
    "#聚类后的水体\n",
    "clt_water = result.filter(ee.Filter.eq('cluster',0))\n",
    "print(\"聚类后的水体样本个数：\",clt_water.size().getInfo())\n",
    "# Map.addLayer(clt_water,{'color': '7CFC00', 'pointSize': 4,'fillColor': '7CFC00'},\"clt_water\")\n",
    "#聚类后的非水体\n",
    "clt_nowater = result.filter(ee.Filter.eq('cluster',1))\n",
    "print(\"聚类后的非水体样本个数：\",clt_nowater.size().getInfo())\n",
    "# Map.addLayer(clt_nowater,{'color': 'f40101ff', 'pointSize': 4,'fillColor': 'ef0b0b56'},\"clt_nowater\")"
   ]
  },
  {
   "cell_type": "code",
   "execution_count": 7,
   "metadata": {
    "ExecuteTime": {
     "end_time": "2021-07-16T07:35:35.782111Z",
     "start_time": "2021-07-16T07:35:33.853282Z"
    },
    "scrolled": true
   },
   "outputs": [
    {
     "name": "stdout",
     "output_type": "stream",
     "text": [
      "164\n",
      "1990\n"
     ]
    }
   ],
   "source": [
    "# cluster与waterclass的对比\n",
    "def Compare(feature):\n",
    "    cluster = ee.Number(feature.get('cluster'))\n",
    "    waterclass = ee.Number(feature.get('waterclass'))\n",
    "    ft = ee.Algorithms.If(cluster.eq(waterclass),feature.set({'eq':1}),feature.set({'eq':0}))\n",
    "    return ft\n",
    "\n",
    "right = result.map(Compare).filter(ee.Filter.eq('eq',0))\n",
    "print(right.size().getInfo())\n",
    "# Map.addLayer(right,{'color': 'FF8C00', 'pointSize': 4,'fillColor': 'FF8C00'},\"right\")\n",
    "\n",
    "error = result.map(Compare).filter(ee.Filter.eq('eq',1))\n",
    "print(error.size().getInfo())\n",
    "# Map.addLayer(error,{'color': 'FF00FF', 'pointSize': 4,'fillColor': 'FF00FF'},\"error\")"
   ]
  },
  {
   "cell_type": "code",
   "execution_count": 8,
   "metadata": {
    "ExecuteTime": {
     "end_time": "2021-07-16T07:35:40.697041Z",
     "start_time": "2021-07-16T07:35:36.039108Z"
    }
   },
   "outputs": [
    {
     "name": "stdout",
     "output_type": "stream",
     "text": [
      "筛选后，剩余的样本数：  1990\n",
      "筛选后样本中，非水体的个数：  1200\n",
      "筛选后样本中，水体的个数：  790\n"
     ]
    }
   ],
   "source": [
    "# 过滤后的样本\n",
    "filtered_sample1 = ee.Algorithms.If(right.size().gt(error.size()),right,error)\n",
    "print(\"筛选后，剩余的样本数： \",ee.FeatureCollection(filtered_sample1).size().getInfo())\n",
    "\n",
    "land1 = ee.FeatureCollection(filtered_sample1).filter(ee.Filter.eq('waterclass',0))\n",
    "print(\"筛选后样本中，非水体的个数： \",land1.size().getInfo())\n",
    "water1 = ee.FeatureCollection(filtered_sample1).filter(ee.Filter.eq('waterclass',1))\n",
    "print(\"筛选后样本中，水体的个数： \",water1.size().getInfo())\n",
    "\n",
    "land1_random = land1.randomColumn().filter(ee.Filter.lt('random', 0.01))  # 15 \n",
    "water1_random = water1.randomColumn().filter(ee.Filter.lt('random', 0.02)) # 14\n",
    "# print(water1_random.size().getInfo())"
   ]
  },
  {
   "cell_type": "code",
   "execution_count": 10,
   "metadata": {
    "ExecuteTime": {
     "end_time": "2021-07-16T07:36:05.351186Z",
     "start_time": "2021-07-16T07:35:57.896525Z"
    }
   },
   "outputs": [
    {
     "name": "stdout",
     "output_type": "stream",
     "text": [
      "筛选掉的样本数：  164\n",
      "筛选掉的样本中，非水体的个数：  157\n",
      "筛选掉的样本中，水体的个数：  7\n",
      "8\n"
     ]
    }
   ],
   "source": [
    "# 过滤掉的样本\n",
    "filtered_sample = ee.Algorithms.If(right.size().lt(error.size()),right,error)\n",
    "print(\"筛选掉的样本数： \",ee.FeatureCollection(filtered_sample).size().getInfo())\n",
    "\n",
    "land = ee.FeatureCollection(filtered_sample).filter(ee.Filter.eq('waterclass',0))\n",
    "print(\"筛选掉的样本中，非水体的个数： \",land.size().getInfo())\n",
    "water = ee.FeatureCollection(filtered_sample).filter(ee.Filter.eq('waterclass',1))\n",
    "print(\"筛选掉的样本中，水体的个数： \",water.size().getInfo())\n",
    "\n",
    "land_random = land.randomColumn(seed = 1).filter(ee.Filter.lt('random', 0.05))  # 7\n",
    "# print(land_random.size().getInfo())"
   ]
  },
  {
   "cell_type": "code",
   "execution_count": null,
   "metadata": {
    "ExecuteTime": {
     "end_time": "2021-07-14T12:49:04.690892Z",
     "start_time": "2021-07-14T12:49:03.075882Z"
    },
    "scrolled": true
   },
   "outputs": [],
   "source": [
    "# 水体 \n",
    "id_list = ee.List(water.aggregate_array('Image_id')).getInfo()\n",
    "print(id_list)\n",
    "\n",
    "id_list = ee.List(water.aggregate_array('Image_id')).getInfo()\n",
    "vis_point = {'color': 'red', 'pointSize': 100,'fillColor': 'red'}\n",
    "for i in id_list:\n",
    "    id = 'LANDSAT/LC08/C01/T1_SR/' + i\n",
    "    image = maskL8sr(ee.Image(id)).clip(roi)\n",
    "    point = water.filter(ee.Filter.eq('Image_id',i))\n",
    "    Map.addLayer(image,visParams,i[-4:])\n",
    "    Map.addLayer(point,vis_point,i[-6:])\n",
    "    print(id)"
   ]
  },
  {
   "cell_type": "code",
   "execution_count": 14,
   "metadata": {
    "ExecuteTime": {
     "end_time": "2021-07-16T08:33:32.450839Z",
     "start_time": "2021-07-16T08:33:10.454555Z"
    }
   },
   "outputs": [
    {
     "name": "stdout",
     "output_type": "stream",
     "text": [
      "['LC08_123039_20180627', 'LC08_123039_20181017', 'LC08_122039_20180111', 'LC08_122039_20180417', 'LC08_123039_20181102', 'LC08_122039_20181127', 'LC08_122039_20181127', 'LC08_122039_20181127']\n",
      "LANDSAT/LC08/C01/T1_SR/LC08_123039_20180627\n",
      "LANDSAT/LC08/C01/T1_SR/LC08_123039_20181017\n",
      "LANDSAT/LC08/C01/T1_SR/LC08_122039_20180111\n",
      "LANDSAT/LC08/C01/T1_SR/LC08_122039_20180417\n",
      "LANDSAT/LC08/C01/T1_SR/LC08_123039_20181102\n",
      "LANDSAT/LC08/C01/T1_SR/LC08_122039_20181127\n",
      "LANDSAT/LC08/C01/T1_SR/LC08_122039_20181127\n",
      "LANDSAT/LC08/C01/T1_SR/LC08_122039_20181127\n"
     ]
    }
   ],
   "source": [
    "# 陆地 \n",
    "id_list = ee.List(land_random.aggregate_array('Image_id')).getInfo()\n",
    "print(id_list)\n",
    "\n",
    "id_list = ee.List(land_random.aggregate_array('Image_id')).getInfo()\n",
    "vis_point = {'color': 'red', 'pointSize': 100,'fillColor': 'red'}\n",
    "for i in id_list:\n",
    "    id = 'LANDSAT/LC08/C01/T1_SR/' + i\n",
    "    image = maskL8sr(ee.Image(id)).clip(roi)\n",
    "    point = land_random.filter(ee.Filter.eq('Image_id',i))\n",
    "    Map.addLayer(image,visParams,i[-4:])\n",
    "    Map.addLayer(point,vis_point,i[-6:])\n",
    "    print(id)"
   ]
  },
  {
   "cell_type": "code",
   "execution_count": 15,
   "metadata": {
    "ExecuteTime": {
     "end_time": "2021-07-16T10:11:25.846216Z",
     "start_time": "2021-07-16T10:11:18.679166Z"
    }
   },
   "outputs": [
    {
     "name": "stdout",
     "output_type": "stream",
     "text": [
      "{'type': 'Feature', 'geometry': {'type': 'Point', 'coordinates': [114.73338356133098, 30.693209885455573]}, 'id': '0000000000000000076b', 'properties': {'AWEI': -5.5, 'B2': 709, 'B3': 851, 'B4': 775, 'B5': 1020, 'B6': 786, 'B7': 532, 'Image_id': 'LC08_122039_20181127', 'NDVI': 0.136490250696379, 'cluster': 1, 'eq': 0, 'mNDWI': 0.039706780696396, 'ndvi_mndwi': 0.096783469999983, 'random': 0.04981373859295424, 'waterclass': 0}}\n",
      "{'type': 'Feature', 'geometry': {'type': 'Point', 'coordinates': [114.57574987999064, 30.414814829385783]}, 'id': '00000000000000000770', 'properties': {'AWEI': 593.75, 'B2': 598, 'B3': 664, 'B4': 583, 'B5': 635, 'B6': 429, 'B7': 273, 'Image_id': 'LC08_122039_20181127', 'NDVI': 0.042692939244663, 'cluster': 1, 'eq': 0, 'mNDWI': 0.215004574565416, 'ndvi_mndwi': -0.172311635320753, 'random': 0.04505962637263761, 'waterclass': 0}}\n",
      "{'type': 'Feature', 'geometry': {'type': 'Point', 'coordinates': [114.54757282043393, 30.42412543238538]}, 'id': '00000000000000000775', 'properties': {'AWEI': -346.5, 'B2': 545, 'B3': 643, 'B4': 568, 'B5': 833, 'B6': 757, 'B7': 456, 'Image_id': 'LC08_122039_20181127', 'NDVI': 0.189150606709493, 'cluster': 1, 'eq': 0, 'mNDWI': -0.081428571428571, 'ndvi_mndwi': 0.270579178138065, 'random': 0.0025308686307873307, 'waterclass': 0}}\n"
     ]
    }
   ],
   "source": [
    "print(ee.Feature(land_random.toList(8).get(5)).getInfo())\n",
    "\n",
    "print(ee.Feature(land_random.toList(8).get(6)).getInfo())\n",
    "\n",
    "print(ee.Feature(land_random.toList(8).get(7)).getInfo())"
   ]
  },
  {
   "cell_type": "code",
   "execution_count": null,
   "metadata": {},
   "outputs": [],
   "source": []
  }
 ],
 "metadata": {
  "hide_input": false,
  "kernelspec": {
   "display_name": "Python 3 (ipykernel)",
   "language": "python",
   "name": "python3"
  },
  "language_info": {
   "codemirror_mode": {
    "name": "ipython",
    "version": 3
   },
   "file_extension": ".py",
   "mimetype": "text/x-python",
   "name": "python",
   "nbconvert_exporter": "python",
   "pygments_lexer": "ipython3",
   "version": "3.8.5"
  },
  "toc": {
   "base_numbering": 1,
   "nav_menu": {},
   "number_sections": true,
   "sideBar": true,
   "skip_h1_title": false,
   "title_cell": "Table of Contents",
   "title_sidebar": "Contents",
   "toc_cell": false,
   "toc_position": {
    "height": "calc(100% - 180px)",
    "left": "10px",
    "top": "150px",
    "width": "256.108px"
   },
   "toc_section_display": true,
   "toc_window_display": false
  },
  "varInspector": {
   "cols": {
    "lenName": 16,
    "lenType": 16,
    "lenVar": 40
   },
   "kernels_config": {
    "python": {
     "delete_cmd_postfix": "",
     "delete_cmd_prefix": "del ",
     "library": "var_list.py",
     "varRefreshCmd": "print(var_dic_list())"
    },
    "r": {
     "delete_cmd_postfix": ") ",
     "delete_cmd_prefix": "rm(",
     "library": "var_list.r",
     "varRefreshCmd": "cat(var_dic_list()) "
    }
   },
   "types_to_exclude": [
    "module",
    "function",
    "builtin_function_or_method",
    "instance",
    "_Feature"
   ],
   "window_display": false
  }
 },
 "nbformat": 4,
 "nbformat_minor": 4
}
