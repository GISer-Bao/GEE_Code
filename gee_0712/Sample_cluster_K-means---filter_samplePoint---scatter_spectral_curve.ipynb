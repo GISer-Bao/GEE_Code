{
 "cells": [
  {
   "cell_type": "code",
   "execution_count": 1,
   "metadata": {
    "ExecuteTime": {
     "end_time": "2021-09-06T07:10:26.978524Z",
     "start_time": "2021-09-06T07:10:26.965532Z"
    }
   },
   "outputs": [],
   "source": [
    "import os\n",
    "os.environ['HTTP_PROXY'] = \"http://127.0.0.1:10809\"\n",
    "os.environ['HTTPS_PROXY'] = \"http://127.0.0.1:10809\""
   ]
  },
  {
   "cell_type": "code",
   "execution_count": 2,
   "metadata": {
    "ExecuteTime": {
     "end_time": "2021-09-06T07:10:39.597773Z",
     "start_time": "2021-09-06T07:10:27.228840Z"
    }
   },
   "outputs": [
    {
     "data": {
      "application/vnd.jupyter.widget-view+json": {
       "model_id": "bd318bd3ed7d4571ba2f5d6550faefe6",
       "version_major": 2,
       "version_minor": 0
      },
      "text/plain": [
       "Map(center=[40, -100], controls=(WidgetControl(options=['position', 'transparent_bg'], widget=HBox(children=(T…"
      ]
     },
     "metadata": {},
     "output_type": "display_data"
    }
   ],
   "source": [
    "import ee\n",
    "import geemap\n",
    "# 导入相关库\n",
    "import numpy as np\n",
    "import matplotlib.pyplot as plt\n",
    "Map = geemap.Map()\n",
    "Map"
   ]
  },
  {
   "cell_type": "code",
   "execution_count": 3,
   "metadata": {
    "ExecuteTime": {
     "end_time": "2021-09-06T07:10:42.911757Z",
     "start_time": "2021-09-06T07:10:39.694929Z"
    }
   },
   "outputs": [],
   "source": [
    "# # 大庆市\n",
    "# roi = ee.Geometry.Rectangle([123.9355, 45.8362,125.3055, 46.8762])\n",
    "# # 天津市\n",
    "# roi = ee.Geometry.Rectangle([115.9244, 38.6272,117.4944,39.6372])\n",
    "# # 武汉市\n",
    "roi = ee.Geometry.Rectangle([113.7393, 29.8642,115.0993, 30.9242])\n",
    "# # 珠三角\n",
    "# roi = ee.Geometry.Rectangle([112.7614, 22.2347,114.0514, 23.2547])\n",
    "# 青藏高原\n",
    "# roi = ee.Geometry.Rectangle([89.8826, 34.6579,91.3626, 35.8279])\n",
    "Map.addLayer(roi, {}, \"roi\")\n",
    "Map.centerObject(roi,7)\n",
    "## 加载影像\n",
    "# 去云、云阴影、雪掩膜函数\n",
    "def maskL8sr(image):\n",
    "    cloudShadowBitMask = (1 << 3)\n",
    "    cloudsBitMask = (1 << 5)\n",
    "    snowBitMask = (1 << 4)   \n",
    "    qa = image.select('pixel_qa')\n",
    "    mask = qa.bitwiseAnd(cloudShadowBitMask).eq(0) \\\n",
    "                   .And(qa.bitwiseAnd(cloudsBitMask).eq(0)) \\\n",
    "                   .And(qa.bitwiseAnd(snowBitMask).eq(0))\n",
    "    return image.updateMask(mask)\n",
    "# landsat影像可视化参数\n",
    "visParams = {\n",
    "    'bands': ['B5', 'B6', 'B4'],\n",
    "    'min': 0,\n",
    "    'max': 3000,\n",
    "    'gamma': 1.4,\n",
    "}\n",
    "\n",
    "landsat_images = ee.ImageCollection('LANDSAT/LC08/C01/T1_SR') \\\n",
    "    .filterBounds(roi) \\\n",
    "    .filterDate('2020-01-01', '2020-12-31') \\\n",
    "    .map(maskL8sr)\n",
    "Map.addLayer(landsat_images.mosaic().clip(roi),visParams,'landsat image')"
   ]
  },
  {
   "cell_type": "code",
   "execution_count": 4,
   "metadata": {
    "ExecuteTime": {
     "end_time": "2021-09-06T07:10:44.937470Z",
     "start_time": "2021-09-06T07:10:43.006459Z"
    }
   },
   "outputs": [
    {
     "name": "stdout",
     "output_type": "stream",
     "text": [
      "4952\n",
      "1084\n",
      "3868\n"
     ]
    }
   ],
   "source": [
    "# 加载样本集\n",
    "samples = ee.FeatureCollection('users/311605001111/wuhan_2020')\n",
    "print(samples.size().getInfo())\n",
    "# 在样本集中，各类样本的个数\n",
    "clt_water = samples.filter(ee.Filter.eq('waterclass',1))\n",
    "print(clt_water.size().getInfo())\n",
    "clt_nowater = samples.filter(ee.Filter.eq('waterclass',0))\n",
    "print(clt_nowater.size().getInfo())"
   ]
  },
  {
   "cell_type": "markdown",
   "metadata": {},
   "source": [
    "# 计算筛选掉的样本集"
   ]
  },
  {
   "cell_type": "code",
   "execution_count": 5,
   "metadata": {
    "ExecuteTime": {
     "end_time": "2021-09-06T07:10:45.577906Z",
     "start_time": "2021-09-06T07:10:45.032937Z"
    }
   },
   "outputs": [
    {
     "name": "stdout",
     "output_type": "stream",
     "text": [
      "{'type': 'Feature', 'geometry': {'type': 'Point', 'coordinates': [115.06952397604292, 29.89721575640495]}, 'id': '0000000000000000001a', 'properties': {'AWEI': -2945, 'B2': 548, 'B3': 765, 'B4': 794, 'B5': 1570, 'B6': 1810, 'B7': 1342, 'CWI': 0.422651933701657, 'EVI': 0.871910112359551, 'EWI': -0.630880579010856, 'Image_id': 'LANDSAT/LC08/C01/T1_SR/LC08_122039_20200218', 'NDVI': 0.328257191201354, 'NDWI': -0.34475374732334, 'cluster': 1, 'mNDWI': -0.405825242718447, 'waterclass': 0}}\n"
     ]
    }
   ],
   "source": [
    "# K_mean聚类\n",
    "bands = ['B2', 'B3', 'B4', 'B5', 'B6', 'B7','NDVI','NDWI','mNDWI','CWI','AWEI','EWI','EVI']\n",
    "clusterer = ee.Clusterer.wekaKMeans(2).train(samples,bands)\n",
    "result = samples.cluster(clusterer)\n",
    "# print(result.first().getInfo())\n",
    "\n",
    "#聚类后的水体\n",
    "clt_water = result.filter(ee.Filter.eq('cluster',0))\n",
    "print(\"聚类后的水体样本个数：\",clt_water.size().getInfo())\n",
    "# Map.addLayer(clt_water,{'color': '7CFC00', 'pointSize': 4,'fillColor': '7CFC00'},\"clt_water\")\n",
    "#聚类后的非水体\n",
    "clt_nowater = result.filter(ee.Filter.eq('cluster',1))\n",
    "print(\"聚类后的非水体样本个数：\",clt_nowater.size().getInfo())\n",
    "# Map.addLayer(clt_nowater,{'color': 'f40101ff', 'pointSize': 4,'fillColor': 'ef0b0b56'},\"clt_nowater\")\n",
    "\n",
    "# cluster与waterclass的对比\n",
    "def Compare(feature):\n",
    "    cluster = ee.Number(feature.get('cluster'))\n",
    "    waterclass = ee.Number(feature.get('waterclass'))\n",
    "    ft = ee.Algorithms.If(cluster.eq(waterclass),feature.set({'eq':1}),feature.set({'eq':0}))\n",
    "    return ft\n",
    "\n",
    "right = result.map(Compare).filter(ee.Filter.eq('eq',0))\n",
    "print(right.size().getInfo())\n",
    "# Map.addLayer(right,{'color': 'FF8C00', 'pointSize': 4,'fillColor': 'FF8C00'},\"right\")\n",
    "error = result.map(Compare).filter(ee.Filter.eq('eq',1))\n",
    "print(error.size().getInfo())\n",
    "# Map.addLayer(error,{'color': 'FF00FF', 'pointSize': 4,'fillColor': 'FF00FF'},\"error\")"
   ]
  },
  {
   "cell_type": "code",
   "execution_count": 8,
   "metadata": {
    "ExecuteTime": {
     "end_time": "2021-09-06T07:11:10.613928Z",
     "start_time": "2021-09-06T07:10:53.664768Z"
    }
   },
   "outputs": [
    {
     "name": "stdout",
     "output_type": "stream",
     "text": [
      "筛选后，剩余的样本数：  4920\n",
      "筛选后样本中，非水体的个数：  3842\n",
      "筛选后样本中，水体的个数：  1078\n"
     ]
    }
   ],
   "source": [
    "# 过滤后的样本\n",
    "filtered_sample1 = ee.Algorithms.If(right.size().gt(error.size()),right,error)\n",
    "print(\"筛选后，剩余的样本数： \",ee.FeatureCollection(filtered_sample1).size().getInfo())\n",
    "\n",
    "land1 = ee.FeatureCollection(filtered_sample1).filter(ee.Filter.eq('waterclass',0))\n",
    "print(\"筛选后样本中，非水体的个数： \",land1.size().getInfo())\n",
    "water1 = ee.FeatureCollection(filtered_sample1).filter(ee.Filter.eq('waterclass',1))\n",
    "print(\"筛选后样本中，水体的个数： \",water1.size().getInfo())\n",
    "\n",
    "# land1_random = land1.randomColumn().filter(ee.Filter.lt('random', 0.01))  # 15 \n",
    "# water1_random = water1.randomColumn().filter(ee.Filter.lt('random', 0.02)) # 14\n",
    "# # print(water1_random.size().getInfo())"
   ]
  },
  {
   "cell_type": "code",
   "execution_count": 14,
   "metadata": {
    "ExecuteTime": {
     "end_time": "2021-09-06T07:14:56.631082Z",
     "start_time": "2021-09-06T07:14:46.668484Z"
    }
   },
   "outputs": [
    {
     "name": "stdout",
     "output_type": "stream",
     "text": [
      "筛选掉的样本数：  32\n",
      "筛选掉的样本中，非水体的个数：  26\n",
      "筛选掉的样本中，水体的个数：  6\n"
     ]
    }
   ],
   "source": [
    "# 过滤后的样本\n",
    "filtered_sample = ee.Algorithms.If(right.size().lt(error.size()),right,error)\n",
    "print(\"筛选掉的样本数： \",ee.FeatureCollection(filtered_sample).size().getInfo())\n",
    "\n",
    "land = ee.FeatureCollection(filtered_sample).filter(ee.Filter.eq('waterclass',0))\n",
    "print(\"筛选掉的样本中，非水体的个数： \",land.size().getInfo())\n",
    "water = ee.FeatureCollection(filtered_sample).filter(ee.Filter.eq('waterclass',1))\n",
    "print(\"筛选掉的样本中，水体的个数： \",water.size().getInfo())\n"
   ]
  },
  {
   "cell_type": "code",
   "execution_count": null,
   "metadata": {},
   "outputs": [],
   "source": []
  },
  {
   "cell_type": "markdown",
   "metadata": {},
   "source": [
    "# 绘制散点图"
   ]
  },
  {
   "cell_type": "code",
   "execution_count": null,
   "metadata": {
    "ExecuteTime": {
     "end_time": "2021-09-06T06:36:21.086545Z",
     "start_time": "2021-09-06T06:36:03.124691Z"
    },
    "scrolled": false
   },
   "outputs": [],
   "source": [
    "# 样本总数\n",
    "filtered_sample1 = ee.FeatureCollection(filtered_sample1)\n",
    "# samples 只初始样本\n",
    "filtered_sample = samples\n",
    "print(filtered_sample.size().getInfo())\n",
    "# filtered_sample = ee.FeatureCollection(filtered_sample)\n",
    "x = 'B3'\n",
    "y = 'B6'\n",
    "# 过滤后的样本\n",
    "land_x1 = np.array(filtered_sample1.filter(ee.Filter.eq('waterclass',0)).aggregate_array(x).getInfo())\n",
    "land_y1 = np.array(filtered_sample1.filter(ee.Filter.eq('waterclass',0)).aggregate_array(y).getInfo()) \n",
    "water_x1 = np.array(filtered_sample1.filter(ee.Filter.eq('waterclass',1)).aggregate_array(x).getInfo()) \n",
    "water_y1 = np.array(filtered_sample1.filter(ee.Filter.eq('waterclass',1)).aggregate_array(y).getInfo()) \n",
    "# 过滤diao的样本\n",
    "land_x = np.array(filtered_sample.filter(ee.Filter.eq('waterclass',0)).aggregate_array(x).getInfo())\n",
    "land_y = np.array(filtered_sample.filter(ee.Filter.eq('waterclass',0)).aggregate_array(y).getInfo()) \n",
    "water_x = np.array(filtered_sample.filter(ee.Filter.eq('waterclass',1)).aggregate_array(x).getInfo()) \n",
    "water_y = np.array(filtered_sample.filter(ee.Filter.eq('waterclass',1)).aggregate_array(y).getInfo()) \n",
    "\n",
    "plt.figure(figsize=(8, 6))\n",
    "plt.scatter(water_x,water_y,s=3,c='blue', label = 'water')\n",
    "plt.scatter(land_x,land_y,s=3,c='red', label = 'land')\n",
    "# plt.scatter(water_x1,water_y1,s=3,c='blue', label = 'retain_water')\n",
    "# plt.scatter(land_x1,land_y1,s=3,c='red', label = 'retain_land')\n",
    "\n",
    "plt.xlabel(x)    \n",
    "plt.ylabel(y)\n",
    "# plt.xlim(0,6300)\n",
    "# plt.ylim(-100,2700)\n",
    "# plt.title('B4/B5--remain')\n",
    "# B3/B6\n",
    "plt.xlim(0,2400)\n",
    "plt.ylim(-100,4000)\n",
    "plt.tick_params(labelsize=18)\n",
    "\n",
    "plt.xlabel(x,fontsize=25)    \n",
    "plt.ylabel(y,fontsize=25)\n",
    "\n",
    "plt.title('B3/B6',fontsize=27)\n",
    "plt.legend(prop={'size':18},markerscale=6)\n",
    "# loc = 'upper right'\n",
    "plt.show()"
   ]
  },
  {
   "cell_type": "code",
   "execution_count": null,
   "metadata": {
    "ExecuteTime": {
     "end_time": "2021-08-25T02:18:31.959244Z",
     "start_time": "2021-08-25T02:18:22.822373Z"
    },
    "scrolled": false
   },
   "outputs": [],
   "source": [
    "# 样本总数\n",
    "filtered_sample1 = ee.FeatureCollection(filtered_sample1)\n",
    "filtered_sample = ee.FeatureCollection(filtered_sample)\n",
    "x = 'B3'\n",
    "y = 'B6'\n",
    "# 过滤后的样本\n",
    "land_x1 = np.array(filtered_sample1.filter(ee.Filter.eq('waterclass',0)).aggregate_array(x).getInfo())\n",
    "land_y1 = np.array(filtered_sample1.filter(ee.Filter.eq('waterclass',0)).aggregate_array(y).getInfo()) \n",
    "water_x1 = np.array(filtered_sample1.filter(ee.Filter.eq('waterclass',1)).aggregate_array(x).getInfo()) \n",
    "water_y1 = np.array(filtered_sample1.filter(ee.Filter.eq('waterclass',1)).aggregate_array(y).getInfo()) \n",
    "# 过滤diao的样本\n",
    "land_x = np.array(filtered_sample.filter(ee.Filter.eq('waterclass',0)).aggregate_array(x).getInfo())\n",
    "land_y = np.array(filtered_sample.filter(ee.Filter.eq('waterclass',0)).aggregate_array(y).getInfo()) \n",
    "water_x = np.array(filtered_sample.filter(ee.Filter.eq('waterclass',1)).aggregate_array(x).getInfo()) \n",
    "water_y = np.array(filtered_sample.filter(ee.Filter.eq('waterclass',1)).aggregate_array(y).getInfo()) \n",
    "\n",
    "plt.figure(figsize=(8, 6))\n",
    "plt.scatter(water_x,water_y,s=5,c='blue', label = 'filter_water')\n",
    "plt.scatter(land_x,land_y,s=5,c='red', label = 'filter_land')\n",
    "plt.scatter(water_x1,water_y1,s=2,c='#7fb80e', label = 'remain_water')\n",
    "plt.scatter(land_x1,land_y1,s=2,c='#9e17d6', label = 'remain_land')\n",
    "\n",
    "plt.xlabel(x)    \n",
    "plt.ylabel(y)\n",
    "# plt.xlim(0,6300)\n",
    "# plt.ylim(-100,2700)\n",
    "# plt.title('B4/B5--remain')\n",
    "plt.xlim(0,2400)\n",
    "plt.ylim(-100,4000)\n",
    "plt.title('B3/B6')\n",
    "plt.legend(prop={'size':11},markerscale=3,loc = 'upper right')\n",
    "plt.show()"
   ]
  },
  {
   "cell_type": "code",
   "execution_count": 15,
   "metadata": {
    "ExecuteTime": {
     "end_time": "2021-09-06T07:15:51.370281Z",
     "start_time": "2021-09-06T07:15:07.766101Z"
    }
   },
   "outputs": [
    {
     "name": "stdout",
     "output_type": "stream",
     "text": [
      "32\n"
     ]
    },
    {
     "data": {
      "image/png": "[encoded data removed]",
      "text/plain": [
       "<Figure size 576x432 with 1 Axes>"
      ]
     },
     "metadata": {
      "needs_background": "light"
     },
     "output_type": "display_data"
    }
   ],
   "source": [
    "# %matplotlib notebook\n",
    "## 数据\n",
    "# 样本总数\n",
    "filtered_sample1 = ee.FeatureCollection(filtered_sample1)\n",
    "filtered_sample = ee.FeatureCollection(filtered_sample)\n",
    "print(filtered_sample.size().getInfo())\n",
    "x = 'NDVI'\n",
    "y = 'mNDWI'\n",
    "z = 'AWEI'\n",
    "# 全部样本\n",
    "land_x1 =np.array(filtered_sample1.filter(ee.Filter.eq('waterclass',0)).aggregate_array(x).getInfo()) \n",
    "land_y1 =np.array(filtered_sample1.filter(ee.Filter.eq('waterclass',0)).aggregate_array(y).getInfo()) \n",
    "land_z1 =np.array(filtered_sample1.filter(ee.Filter.eq('waterclass',0)).aggregate_array(z).getInfo()) \n",
    "water_x1 =np.array(filtered_sample1.filter(ee.Filter.eq('waterclass',1)).aggregate_array(x).getInfo()) \n",
    "water_y1 =np.array(filtered_sample1.filter(ee.Filter.eq('waterclass',1)).aggregate_array(y).getInfo()) \n",
    "water_z1 =np.array(filtered_sample1.filter(ee.Filter.eq('waterclass',1)).aggregate_array(z).getInfo()) \n",
    "\n",
    "land_x =np.array(filtered_sample.filter(ee.Filter.eq('waterclass',0)).aggregate_array(x).getInfo()) \n",
    "land_y =np.array(filtered_sample.filter(ee.Filter.eq('waterclass',0)).aggregate_array(y).getInfo()) \n",
    "land_z =np.array(filtered_sample.filter(ee.Filter.eq('waterclass',0)).aggregate_array(z).getInfo()) \n",
    "water_x =np.array(filtered_sample.filter(ee.Filter.eq('waterclass',1)).aggregate_array(x).getInfo()) \n",
    "water_y =np.array(filtered_sample.filter(ee.Filter.eq('waterclass',1)).aggregate_array(y).getInfo()) \n",
    "water_z =np.array(filtered_sample.filter(ee.Filter.eq('waterclass',1)).aggregate_array(z).getInfo()) \n",
    "\n",
    "# 创建一个三维的绘图工程\n",
    "plt.figure(figsize=(8, 6))\n",
    "ax = plt.subplot(111, projection='3d')  \n",
    "# 绘制数据点\n",
    "ax.scatter(water_x, water_y, water_z, s=2, c='blue', label = 'water')\n",
    "ax.scatter(land_x, land_y, land_z, s=2,c='red', label = 'land')  \n",
    "\n",
    "# ax.scatter(water_x1, water_y1, water_z1, s=2, c='blue', label = 'retian_water')\n",
    "# ax.scatter(land_x1, land_y1, land_z1, s=2,c='red', label = 'retain_land')  \n",
    "\n",
    "# 坐标轴\n",
    "ax.set_xlim3d(-0.85,1.1)\n",
    "ax.set_ylim3d(-0.8,1.1)\n",
    "ax.set_zlim3d(-15000,5300)\n",
    "plt.tick_params(labelsize=14)\n",
    "ax.set_xlabel(x,labelpad = 16,fontsize = 16)\n",
    "ax.set_ylabel(y,labelpad = 16,fontsize = 16)\n",
    "ax.set_zlabel(z,labelpad = 16,rotation=90,fontsize = 16)\n",
    "plt.xticks([-0.5,0,0.5,1.0])\n",
    "plt.yticks([-0.5,0,0.5,1.0])\n",
    "plt.title('Title: NDVI/MNDWI/AWEI',fontsize = 20) \n",
    "plt.legend(loc='upper right',markerscale=4,prop={'size':14})\n",
    "plt.show()"
   ]
  },
  {
   "cell_type": "code",
   "execution_count": null,
   "metadata": {},
   "outputs": [],
   "source": []
  },
  {
   "cell_type": "markdown",
   "metadata": {},
   "source": [
    "# 绘制折线图"
   ]
  },
  {
   "cell_type": "markdown",
   "metadata": {},
   "source": [
    "##  过滤掉的"
   ]
  },
  {
   "cell_type": "code",
   "execution_count": null,
   "metadata": {
    "ExecuteTime": {
     "end_time": "2021-07-22T08:11:37.980413Z",
     "start_time": "2021-07-22T08:11:24.114519Z"
    },
    "scrolled": true
   },
   "outputs": [],
   "source": [
    "print(water.size().getInfo())\n",
    "# 过滤掉的样本点中水体的光谱曲线特征\n",
    "water_B2 = ee.List(water.aggregate_array('B2')).getInfo()\n",
    "water_B3 = ee.List(water.aggregate_array('B3')).getInfo()\n",
    "water_B4 = ee.List(water.aggregate_array('B4')).getInfo()\n",
    "water_B5 = ee.List(water.aggregate_array('B5')).getInfo()\n",
    "water_B6 = ee.List(water.aggregate_array('B6')).getInfo()\n",
    "water_B7 = ee.List(water.aggregate_array('B7')).getInfo()\n",
    "\n",
    "x = [1,2,3,4,5,6]\n",
    "for i in range(water.size().getInfo()):\n",
    "    a = []\n",
    "    a.extend((water_B2[i]/10000,water_B3[i]/10000,water_B4[i]/10000,water_B5[i]/10000,water_B6[i]/10000,water_B7[i]/10000))\n",
    "    plt.plot(x,a,'b-',linewidth=0.5)\n",
    "plt.xticks(ticks=[1,2,3,4,5,6],labels=['B2','B3','B4','B5','B6','B7'],fontsize=12)\n",
    "plt.yticks(fontsize=11)\n",
    "plt.ylim(0,0.55)\n",
    "plt.legend(['filter water'],prop={'size':15})\n",
    "plt.xlabel('Band',fontsize=13)\n",
    "plt.ylabel(\"Surface reflectance\",fontsize=14)\n",
    "plt.title(\"the spectral curve of water in filter sample\",fontsize=16) \n",
    "# plt.title(\"the spectral curve of water in filter sample\",fontdict = {'fontsize':10}) "
   ]
  },
  {
   "cell_type": "code",
   "execution_count": null,
   "metadata": {
    "ExecuteTime": {
     "end_time": "2021-07-22T08:11:53.565868Z",
     "start_time": "2021-07-22T08:11:38.157272Z"
    }
   },
   "outputs": [],
   "source": [
    "land_random = land.randomColumn(seed=1).filter(ee.Filter.lt('random', 0.07))  # 7\n",
    "print(land_random.size().getInfo())\n",
    "\n",
    "# 过滤掉的样本点中陆地的光谱曲线特征\n",
    "land_B2 = ee.List(land_random.aggregate_array('B2')).getInfo()\n",
    "land_B3 = ee.List(land_random.aggregate_array('B3')).getInfo()\n",
    "land_B4 = ee.List(land_random.aggregate_array('B4')).getInfo()\n",
    "land_B5 = ee.List(land_random.aggregate_array('B5')).getInfo()\n",
    "land_B6 = ee.List(land_random.aggregate_array('B6')).getInfo()\n",
    "land_B7 = ee.List(land_random.aggregate_array('B7')).getInfo()\n",
    "\n",
    "x = [1,2,3,4,5,6]\n",
    "for i in range(land_random.size().getInfo()):\n",
    "    a = []\n",
    "    a.extend((land_B2[i]/10000,land_B3[i]/10000,land_B4[i]/10000,land_B5[i]/10000,land_B6[i]/10000,land_B7[i]/10000))\n",
    "    plt.plot(x,a,'r-',linewidth=0.5)\n",
    "plt.xticks(ticks=[1,2,3,4,5,6],labels=['B2','B3','B4','B5','B6','B7'],fontsize=12)\n",
    "plt.yticks(fontsize=11)\n",
    "plt.ylim(0,0.55)\n",
    "plt.legend(['filter land'],prop={'size':15})\n",
    "plt.xlabel('Band',fontsize=13)\n",
    "plt.ylabel(\"Surface reflectance\",fontsize=14)\n",
    "plt.title(\"the spectral curve of land in filter sample\",fontsize=16) "
   ]
  },
  {
   "cell_type": "code",
   "execution_count": null,
   "metadata": {
    "ExecuteTime": {
     "end_time": "2021-07-22T08:12:20.530959Z",
     "start_time": "2021-07-22T08:11:53.748626Z"
    }
   },
   "outputs": [],
   "source": [
    "number = ee.Algorithms.If(ee.Number(land_random.size()).gt(ee.Number(water.size())),ee.Number(water.size()),ee.Number(land_random.size()))\n",
    "print(number.getInfo())  \n",
    "\n",
    "water_B2 = ee.List(water.aggregate_array('B2')).getInfo()\n",
    "water_B3 = ee.List(water.aggregate_array('B3')).getInfo()\n",
    "water_B4 = ee.List(water.aggregate_array('B4')).getInfo()\n",
    "water_B5 = ee.List(water.aggregate_array('B5')).getInfo()\n",
    "water_B6 = ee.List(water.aggregate_array('B6')).getInfo()\n",
    "water_B7 = ee.List(water.aggregate_array('B7')).getInfo()\n",
    "\n",
    "land_B2 = ee.List(land_random.aggregate_array('B2')).getInfo()\n",
    "land_B3 = ee.List(land_random.aggregate_array('B3')).getInfo()\n",
    "land_B4 = ee.List(land_random.aggregate_array('B4')).getInfo()\n",
    "land_B5 = ee.List(land_random.aggregate_array('B5')).getInfo()\n",
    "land_B6 = ee.List(land_random.aggregate_array('B6')).getInfo()\n",
    "land_B7 = ee.List(land_random.aggregate_array('B7')).getInfo()\n",
    "\n",
    "x = [1,2,3,4,5,6]\n",
    "for i in range(number.getInfo()):\n",
    "    a = []\n",
    "    a.extend((water_B2[i]/10000,water_B3[i]/10000,water_B4[i]/10000,water_B5[i]/10000,water_B6[i]/10000,water_B7[i]/10000))\n",
    "    b = []\n",
    "    b.extend((land_B2[i]/10000,land_B3[i]/10000,land_B4[i]/10000,land_B5[i]/10000,land_B6[i]/10000,land_B7[i]/10000))    \n",
    "    plt.plot(x,a,'b-',linewidth=0.5)\n",
    "    plt.plot(x,b,'r-',linewidth=0.5)\n",
    "plt.xticks(ticks=[1,2,3,4,5,6],labels=['B2','B3','B4','B5','B6','B7'],fontsize=12)\n",
    "plt.yticks(fontsize=11)\n",
    "plt.ylim(0,0.55)\n",
    "plt.legend(['filter water','filter land'],prop={'size':15})\n",
    "plt.xlabel('Band',fontsize=13)\n",
    "plt.ylabel(\"Surface reflectance\",fontsize=14)\n",
    "plt.title(\"the spectral curve of land and water in filter sample\",fontsize=14.5)"
   ]
  },
  {
   "cell_type": "code",
   "execution_count": null,
   "metadata": {},
   "outputs": [],
   "source": []
  },
  {
   "cell_type": "markdown",
   "metadata": {},
   "source": [
    "## 过滤后的"
   ]
  },
  {
   "cell_type": "code",
   "execution_count": null,
   "metadata": {
    "ExecuteTime": {
     "end_time": "2021-07-22T08:17:23.733599Z",
     "start_time": "2021-07-22T08:17:17.516001Z"
    }
   },
   "outputs": [],
   "source": [
    "land1_random = land1.randomColumn(seed=1).filter(ee.Filter.lt('random', 0.02))  # 15 \n",
    "print(land1_random.size().getInfo())\n",
    "water1_random = water1.randomColumn(seed=1).filter(ee.Filter.lt('random', 0.03)) # 14\n",
    "print(water1_random.size().getInfo())\n",
    "\n",
    "number1 = ee.Algorithms.If(ee.Number(land1_random.size()).gt(ee.Number(water1_random.size())),ee.Number(water1_random.size()),ee.Number(land1_random.size()))\n",
    "print(number1.getInfo())                    "
   ]
  },
  {
   "cell_type": "code",
   "execution_count": null,
   "metadata": {
    "ExecuteTime": {
     "end_time": "2021-07-22T08:17:37.998720Z",
     "start_time": "2021-07-22T08:17:23.970535Z"
    },
    "scrolled": true
   },
   "outputs": [],
   "source": [
    "# 过滤后的样本点中水体的光谱曲线特征\n",
    "water_B2 = ee.List(water1_random.aggregate_array('B2')).getInfo()\n",
    "water_B3 = ee.List(water1_random.aggregate_array('B3')).getInfo()\n",
    "water_B4 = ee.List(water1_random.aggregate_array('B4')).getInfo()\n",
    "water_B5 = ee.List(water1_random.aggregate_array('B5')).getInfo()\n",
    "water_B6 = ee.List(water1_random.aggregate_array('B6')).getInfo()\n",
    "water_B7 = ee.List(water1_random.aggregate_array('B7')).getInfo()\n",
    "\n",
    "x = [1,2,3,4,5,6]\n",
    "for i in range(water1_random.size().getInfo()):\n",
    "    a = []\n",
    "    a.extend((water_B2[i]/10000,water_B3[i]/10000,water_B4[i]/10000,water_B5[i]/10000,water_B6[i]/10000,water_B7[i]/10000))\n",
    "    plt.plot(x,a,'b-',linewidth=0.5)\n",
    "plt.xticks(ticks=[1,2,3,4,5,6],labels=['B2','B3','B4','B5','B6','B7'],fontsize=12)\n",
    "plt.yticks(fontsize=11)\n",
    "plt.ylim(0,0.55)\n",
    "plt.legend(['remain water'],prop={'size':15})\n",
    "plt.xlabel('Band',fontsize=13)\n",
    "plt.ylabel(\"Surface reflectance\",fontsize=14)\n",
    "plt.title(\"the spectral curve of water in remain sample\",fontsize=16) "
   ]
  },
  {
   "cell_type": "code",
   "execution_count": null,
   "metadata": {
    "ExecuteTime": {
     "end_time": "2021-07-22T08:17:51.574532Z",
     "start_time": "2021-07-22T08:17:38.239877Z"
    }
   },
   "outputs": [],
   "source": [
    "# 过滤后的样本点中陆地的光谱曲线特征\n",
    "land_B2 = ee.List(land1_random.aggregate_array('B2')).getInfo()\n",
    "land_B3 = ee.List(land1_random.aggregate_array('B3')).getInfo()\n",
    "land_B4 = ee.List(land1_random.aggregate_array('B4')).getInfo()\n",
    "land_B5 = ee.List(land1_random.aggregate_array('B5')).getInfo()\n",
    "land_B6 = ee.List(land1_random.aggregate_array('B6')).getInfo()\n",
    "land_B7 = ee.List(land1_random.aggregate_array('B7')).getInfo()\n",
    "\n",
    "x = [1,2,3,4,5,6]\n",
    "for i in range(land1_random.size().getInfo()):\n",
    "    a = []\n",
    "    a.extend((land_B2[i]/10000,land_B3[i]/10000,land_B4[i]/10000,land_B5[i]/10000,land_B6[i]/10000,land_B7[i]/10000))\n",
    "    plt.plot(x,a,'r-',linewidth=0.5)\n",
    "plt.xticks(ticks=[1,2,3,4,5,6],labels=['B2','B3','B4','B5','B6','B7'],fontsize=12)\n",
    "plt.yticks(fontsize=11)\n",
    "plt.ylim(0,0.55)\n",
    "plt.legend(['remain land'],prop={'size':15})\n",
    "plt.xlabel('Band',fontsize=13)\n",
    "plt.ylabel(\"surface reflectance\",fontsize=14)\n",
    "plt.title(\"the spectral curve of land in filter sample\",fontsize=16) "
   ]
  },
  {
   "cell_type": "code",
   "execution_count": null,
   "metadata": {
    "ExecuteTime": {
     "end_time": "2021-07-22T08:18:17.365586Z",
     "start_time": "2021-07-22T08:17:51.812215Z"
    }
   },
   "outputs": [],
   "source": [
    "water_B2 = ee.List(water1_random.aggregate_array('B2')).getInfo()\n",
    "water_B3 = ee.List(water1_random.aggregate_array('B3')).getInfo()\n",
    "water_B4 = ee.List(water1_random.aggregate_array('B4')).getInfo()\n",
    "water_B5 = ee.List(water1_random.aggregate_array('B5')).getInfo()\n",
    "water_B6 = ee.List(water1_random.aggregate_array('B6')).getInfo()\n",
    "water_B7 = ee.List(water1_random.aggregate_array('B7')).getInfo()\n",
    "\n",
    "land_B2 = ee.List(land1_random.aggregate_array('B2')).getInfo()\n",
    "land_B3 = ee.List(land1_random.aggregate_array('B3')).getInfo()\n",
    "land_B4 = ee.List(land1_random.aggregate_array('B4')).getInfo()\n",
    "land_B5 = ee.List(land1_random.aggregate_array('B5')).getInfo()\n",
    "land_B6 = ee.List(land1_random.aggregate_array('B6')).getInfo()\n",
    "land_B7 = ee.List(land1_random.aggregate_array('B7')).getInfo()\n",
    "\n",
    "x = [1,2,3,4,5,6]\n",
    "for i in range(number1.getInfo()):\n",
    "    a = []\n",
    "    a.extend((water_B2[i]/10000,water_B3[i]/10000,water_B4[i]/10000,water_B5[i]/10000,water_B6[i]/10000,water_B7[i]/10000))\n",
    "    b = []\n",
    "    b.extend((land_B2[i]/10000,land_B3[i]/10000,land_B4[i]/10000,land_B5[i]/10000,land_B6[i]/10000,land_B7[i]/10000))    \n",
    "    plt.plot(x,a,'b-',linewidth=0.5)\n",
    "    plt.plot(x,b,'r-',linewidth=0.5)\n",
    "plt.xticks(ticks=[1,2,3,4,5,6],labels=['B2','B3','B4','B5','B6','B7'],fontsize=12)\n",
    "plt.yticks(fontsize=11)\n",
    "plt.ylim(0,0.55)\n",
    "plt.legend(['remain water','remain land'],prop={'size':15})\n",
    "plt.xlabel('Band',fontsize=13)\n",
    "plt.ylabel(\"Surface reflectance\",fontsize=14)\n",
    "plt.title(\"the spectral curve of land and water in filter sample\",fontsize=14.5)"
   ]
  },
  {
   "cell_type": "code",
   "execution_count": null,
   "metadata": {},
   "outputs": [],
   "source": []
  },
  {
   "cell_type": "code",
   "execution_count": null,
   "metadata": {},
   "outputs": [],
   "source": []
  }
 ],
 "metadata": {
  "hide_input": false,
  "kernelspec": {
   "display_name": "Python 3 (ipykernel)",
   "language": "python",
   "name": "python3"
  },
  "language_info": {
   "codemirror_mode": {
    "name": "ipython",
    "version": 3
   },
   "file_extension": ".py",
   "mimetype": "text/x-python",
   "name": "python",
   "nbconvert_exporter": "python",
   "pygments_lexer": "ipython3",
   "version": "3.8.5"
  },
  "toc": {
   "base_numbering": 1,
   "nav_menu": {},
   "number_sections": true,
   "sideBar": true,
   "skip_h1_title": false,
   "title_cell": "Table of Contents",
   "title_sidebar": "Contents",
   "toc_cell": false,
   "toc_position": {
    "height": "calc(100% - 180px)",
    "left": "10px",
    "top": "150px",
    "width": "256.108px"
   },
   "toc_section_display": true,
   "toc_window_display": false
  },
  "varInspector": {
   "cols": {
    "lenName": 16,
    "lenType": 16,
    "lenVar": 40
   },
   "kernels_config": {
    "python": {
     "delete_cmd_postfix": "",
     "delete_cmd_prefix": "del ",
     "library": "var_list.py",
     "varRefreshCmd": "print(var_dic_list())"
    },
    "r": {
     "delete_cmd_postfix": ") ",
     "delete_cmd_prefix": "rm(",
     "library": "var_list.r",
     "varRefreshCmd": "cat(var_dic_list()) "
    }
   },
   "types_to_exclude": [
    "module",
    "function",
    "builtin_function_or_method",
    "instance",
    "_Feature"
   ],
   "window_display": false
  }
 },
 "nbformat": 4,
 "nbformat_minor": 4
}
