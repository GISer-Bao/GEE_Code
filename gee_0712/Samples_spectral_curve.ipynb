{
 "cells": [
  {
   "cell_type": "code",
   "execution_count": 1,
   "metadata": {
    "ExecuteTime": {
     "end_time": "2021-09-14T08:52:58.850115Z",
     "start_time": "2021-09-14T08:52:58.835992Z"
    }
   },
   "outputs": [],
   "source": [
    "import os\n",
    "os.environ['HTTP_PROXY'] = \"http://127.0.0.1:10809\"\n",
    "os.environ['HTTPS_PROXY'] = \"http://127.0.0.1:10809\""
   ]
  },
  {
   "cell_type": "code",
   "execution_count": 2,
   "metadata": {
    "ExecuteTime": {
     "end_time": "2021-09-14T08:53:03.766825Z",
     "start_time": "2021-09-14T08:52:59.084613Z"
    }
   },
   "outputs": [
    {
     "data": {
      "application/vnd.jupyter.widget-view+json": {
       "model_id": "b1b58874a80a4f56ade9e028e2245990",
       "version_major": 2,
       "version_minor": 0
      },
      "text/plain": [
       "Map(center=[40, -100], controls=(WidgetControl(options=['position', 'transparent_bg'], widget=HBox(children=(T…"
      ]
     },
     "metadata": {},
     "output_type": "display_data"
    }
   ],
   "source": [
    "import ee\n",
    "import geemap\n",
    "# 导入相关库\n",
    "import numpy as np\n",
    "import matplotlib.pyplot as plt\n",
    "Map = geemap.Map()\n",
    "Map"
   ]
  },
  {
   "cell_type": "code",
   "execution_count": 21,
   "metadata": {
    "ExecuteTime": {
     "end_time": "2021-09-14T10:09:43.943916Z",
     "start_time": "2021-09-14T10:09:42.756865Z"
    }
   },
   "outputs": [
    {
     "name": "stdout",
     "output_type": "stream",
     "text": [
      "sample number:4236\n",
      "water sample number:648\n",
      "nowater sample number:3588\n"
     ]
    }
   ],
   "source": [
    "samples = ee.FeatureCollection('users/311605001111/wuhan_new2020_awei0_noseason')\n",
    "print('sample number:{}'.format(samples.size().getInfo()))\n",
    "\n",
    "# 水体的样本点数\n",
    "samplepoint_water = samples.filter(ee.Filter.eq('waterclass',1))\n",
    "print('water sample number:{}'.format(samplepoint_water.size().getInfo()))\n",
    "\n",
    "# 非水体的样本点数\n",
    "samplepoint_land = samples.filter(ee.Filter.eq('waterclass',0))\n",
    "print('nowater sample number:{}'.format(samplepoint_land.size().getInfo()))"
   ]
  },
  {
   "cell_type": "markdown",
   "metadata": {},
   "source": [
    "# 绘制折线图"
   ]
  },
  {
   "cell_type": "code",
   "execution_count": 36,
   "metadata": {
    "ExecuteTime": {
     "end_time": "2021-09-14T10:12:05.721565Z",
     "start_time": "2021-09-14T10:12:05.252690Z"
    }
   },
   "outputs": [
    {
     "name": "stdout",
     "output_type": "stream",
     "text": [
      "16\n"
     ]
    }
   ],
   "source": [
    "water = samplepoint_water.randomColumn(seed=1).filter(ee.Filter.lt('random', 0.04))\n",
    "print(water.size().getInfo())"
   ]
  },
  {
   "cell_type": "code",
   "execution_count": 37,
   "metadata": {
    "ExecuteTime": {
     "end_time": "2021-09-14T10:12:09.446547Z",
     "start_time": "2021-09-14T10:12:06.451960Z"
    },
    "scrolled": true
   },
   "outputs": [
    {
     "data": {
      "text/plain": [
       "Text(0.5, 1.0, 'the spectral curve of water body')"
      ]
     },
     "execution_count": 37,
     "metadata": {},
     "output_type": "execute_result"
    },
    {
     "data": {
      "image/png": "[encoded data removed]",
      "text/plain": [
       "<Figure size 432x288 with 1 Axes>"
      ]
     },
     "metadata": {
      "needs_background": "light"
     },
     "output_type": "display_data"
    }
   ],
   "source": [
    "# 水体的光谱曲线特征\n",
    "water_B2 = ee.List(water.aggregate_array('B2')).getInfo()\n",
    "water_B3 = ee.List(water.aggregate_array('B3')).getInfo()\n",
    "water_B4 = ee.List(water.aggregate_array('B4')).getInfo()\n",
    "water_B5 = ee.List(water.aggregate_array('B5')).getInfo()\n",
    "water_B6 = ee.List(water.aggregate_array('B6')).getInfo()\n",
    "water_B7 = ee.List(water.aggregate_array('B7')).getInfo()\n",
    "\n",
    "x = [1,2,3,4,5,6]\n",
    "for i in range(water.size().getInfo()):\n",
    "    a = []\n",
    "    a.extend((water_B2[i]/10000,water_B3[i]/10000,water_B4[i]/10000,water_B5[i]/10000,water_B6[i]/10000,water_B7[i]/10000))\n",
    "    plt.plot(x,a,'b-',linewidth=0.5)\n",
    "plt.xticks(ticks=[1,2,3,4,5,6],labels=['B2','B3','B4','B5','B6','B7'],fontsize=12)\n",
    "plt.yticks(fontsize=11)\n",
    "plt.ylim(0,0.55)\n",
    "plt.legend(['water'],prop={'size':15})\n",
    "plt.xlabel('Band',fontsize=13)\n",
    "plt.ylabel(\"Surface reflectance\",fontsize=14)\n",
    "plt.title(\"the spectral curve of water body\",fontsize=16) \n",
    "# plt.title(\"the spectral curve of water in filter sample\",fontdict = {'fontsize':10}) "
   ]
  },
  {
   "cell_type": "code",
   "execution_count": 38,
   "metadata": {
    "ExecuteTime": {
     "end_time": "2021-09-14T10:12:24.054550Z",
     "start_time": "2021-09-14T10:12:22.915827Z"
    }
   },
   "outputs": [
    {
     "name": "stdout",
     "output_type": "stream",
     "text": [
      "sample number:716\n",
      "water sample number:436\n",
      "nowater sample number:280\n"
     ]
    }
   ],
   "source": [
    "samples = ee.FeatureCollection('users/311605001111/wuhan_new2020_awei0_season')\n",
    "print('sample number:{}'.format(samples.size().getInfo()))\n",
    "\n",
    "# 水体的样本点数\n",
    "samplepoint_water = samples.filter(ee.Filter.eq('waterclass',1))\n",
    "print('water sample number:{}'.format(samplepoint_water.size().getInfo()))\n",
    "\n",
    "# 非水体的样本点数\n",
    "samplepoint_land = samples.filter(ee.Filter.eq('waterclass',0))\n",
    "print('nowater sample number:{}'.format(samplepoint_land.size().getInfo()))"
   ]
  },
  {
   "cell_type": "code",
   "execution_count": 41,
   "metadata": {
    "ExecuteTime": {
     "end_time": "2021-09-14T10:12:39.754907Z",
     "start_time": "2021-09-14T10:12:39.420527Z"
    }
   },
   "outputs": [
    {
     "name": "stdout",
     "output_type": "stream",
     "text": [
      "24\n"
     ]
    }
   ],
   "source": [
    "land_random = samplepoint_water.randomColumn(seed=1).filter(ee.Filter.lt('random', 0.05))\n",
    "print(land_random.size().getInfo())"
   ]
  },
  {
   "cell_type": "code",
   "execution_count": 42,
   "metadata": {
    "ExecuteTime": {
     "end_time": "2021-09-14T10:12:42.618434Z",
     "start_time": "2021-09-14T10:12:39.802794Z"
    }
   },
   "outputs": [
    {
     "data": {
      "text/plain": [
       "Text(0.5, 1.0, 'the spectral curve of water body')"
      ]
     },
     "execution_count": 42,
     "metadata": {},
     "output_type": "execute_result"
    },
    {
     "data": {
      "image/png": "[encoded data removed]",
      "text/plain": [
       "<Figure size 432x288 with 1 Axes>"
      ]
     },
     "metadata": {
      "needs_background": "light"
     },
     "output_type": "display_data"
    }
   ],
   "source": [
    "# 过滤掉的样本点中陆地的光谱曲线特征\n",
    "land_B2 = ee.List(land_random.aggregate_array('B2')).getInfo()\n",
    "land_B3 = ee.List(land_random.aggregate_array('B3')).getInfo()\n",
    "land_B4 = ee.List(land_random.aggregate_array('B4')).getInfo()\n",
    "land_B5 = ee.List(land_random.aggregate_array('B5')).getInfo()\n",
    "land_B6 = ee.List(land_random.aggregate_array('B6')).getInfo()\n",
    "land_B7 = ee.List(land_random.aggregate_array('B7')).getInfo()\n",
    "\n",
    "x = [1,2,3,4,5,6]\n",
    "for i in range(land_random.size().getInfo()):\n",
    "    a = []\n",
    "    a.extend((land_B2[i]/10000,land_B3[i]/10000,land_B4[i]/10000,land_B5[i]/10000,land_B6[i]/10000,land_B7[i]/10000))\n",
    "    plt.plot(x,a,'r-',linewidth=0.5)\n",
    "plt.xticks(ticks=[1,2,3,4,5,6],labels=['B2','B3','B4','B5','B6','B7'],fontsize=12)\n",
    "plt.yticks(fontsize=11)\n",
    "plt.ylim(0,0.55)\n",
    "plt.legend(['water'],prop={'size':15})\n",
    "plt.xlabel('Band',fontsize=13)\n",
    "plt.ylabel(\"Surface reflectance\",fontsize=14)\n",
    "plt.title(\"the spectral curve of water body\",fontsize=16) "
   ]
  },
  {
   "cell_type": "code",
   "execution_count": null,
   "metadata": {
    "ExecuteTime": {
     "end_time": "2021-07-22T08:12:20.530959Z",
     "start_time": "2021-07-22T08:11:53.748626Z"
    }
   },
   "outputs": [],
   "source": [
    "number = ee.Algorithms.If(ee.Number(land_random.size()).gt(ee.Number(water.size())),ee.Number(water.size()),ee.Number(land_random.size()))\n",
    "print(number.getInfo())  \n",
    "\n",
    "water_B2 = ee.List(water.aggregate_array('B2')).getInfo()\n",
    "water_B3 = ee.List(water.aggregate_array('B3')).getInfo()\n",
    "water_B4 = ee.List(water.aggregate_array('B4')).getInfo()\n",
    "water_B5 = ee.List(water.aggregate_array('B5')).getInfo()\n",
    "water_B6 = ee.List(water.aggregate_array('B6')).getInfo()\n",
    "water_B7 = ee.List(water.aggregate_array('B7')).getInfo()\n",
    "\n",
    "land_B2 = ee.List(land_random.aggregate_array('B2')).getInfo()\n",
    "land_B3 = ee.List(land_random.aggregate_array('B3')).getInfo()\n",
    "land_B4 = ee.List(land_random.aggregate_array('B4')).getInfo()\n",
    "land_B5 = ee.List(land_random.aggregate_array('B5')).getInfo()\n",
    "land_B6 = ee.List(land_random.aggregate_array('B6')).getInfo()\n",
    "land_B7 = ee.List(land_random.aggregate_array('B7')).getInfo()\n",
    "\n",
    "x = [1,2,3,4,5,6]\n",
    "for i in range(number.getInfo()):\n",
    "    a = []\n",
    "    a.extend((water_B2[i]/10000,water_B3[i]/10000,water_B4[i]/10000,water_B5[i]/10000,water_B6[i]/10000,water_B7[i]/10000))\n",
    "    b = []\n",
    "    b.extend((land_B2[i]/10000,land_B3[i]/10000,land_B4[i]/10000,land_B5[i]/10000,land_B6[i]/10000,land_B7[i]/10000))    \n",
    "    plt.plot(x,a,'b-',linewidth=0.5)\n",
    "    plt.plot(x,b,'r-',linewidth=0.5)\n",
    "plt.xticks(ticks=[1,2,3,4,5,6],labels=['B2','B3','B4','B5','B6','B7'],fontsize=12)\n",
    "plt.yticks(fontsize=11)\n",
    "plt.ylim(0,0.55)\n",
    "plt.legend(['filter water','filter land'],prop={'size':15})\n",
    "plt.xlabel('Band',fontsize=13)\n",
    "plt.ylabel(\"Surface reflectance\",fontsize=14)\n",
    "plt.title(\"the spectral curve of land and water in filter sample\",fontsize=14.5)"
   ]
  },
  {
   "cell_type": "code",
   "execution_count": null,
   "metadata": {},
   "outputs": [],
   "source": []
  }
 ],
 "metadata": {
  "hide_input": false,
  "kernelspec": {
   "display_name": "Python 3 (ipykernel)",
   "language": "python",
   "name": "python3"
  },
  "language_info": {
   "codemirror_mode": {
    "name": "ipython",
    "version": 3
   },
   "file_extension": ".py",
   "mimetype": "text/x-python",
   "name": "python",
   "nbconvert_exporter": "python",
   "pygments_lexer": "ipython3",
   "version": "3.8.5"
  },
  "toc": {
   "base_numbering": 1,
   "nav_menu": {},
   "number_sections": true,
   "sideBar": true,
   "skip_h1_title": false,
   "title_cell": "Table of Contents",
   "title_sidebar": "Contents",
   "toc_cell": false,
   "toc_position": {
    "height": "calc(100% - 180px)",
    "left": "10px",
    "top": "150px",
    "width": "256.108px"
   },
   "toc_section_display": true,
   "toc_window_display": false
  },
  "varInspector": {
   "cols": {
    "lenName": 16,
    "lenType": 16,
    "lenVar": 40
   },
   "kernels_config": {
    "python": {
     "delete_cmd_postfix": "",
     "delete_cmd_prefix": "del ",
     "library": "var_list.py",
     "varRefreshCmd": "print(var_dic_list())"
    },
    "r": {
     "delete_cmd_postfix": ") ",
     "delete_cmd_prefix": "rm(",
     "library": "var_list.r",
     "varRefreshCmd": "cat(var_dic_list()) "
    }
   },
   "types_to_exclude": [
    "module",
    "function",
    "builtin_function_or_method",
    "instance",
    "_Feature"
   ],
   "window_display": false
  }
 },
 "nbformat": 4,
 "nbformat_minor": 4
}
