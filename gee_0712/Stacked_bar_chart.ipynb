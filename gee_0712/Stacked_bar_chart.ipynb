{
 "cells": [
  {
   "cell_type": "code",
   "execution_count": 1,
   "id": "8d0e9a6c",
   "metadata": {
    "ExecuteTime": {
     "end_time": "2021-09-11T13:27:35.267175Z",
     "start_time": "2021-09-11T13:27:35.251186Z"
    }
   },
   "outputs": [],
   "source": [
    "import os\n",
    "os.environ['HTTP_PROXY'] = \"http://127.0.0.1:10809\"\n",
    "os.environ['HTTPS_PROXY'] = \"http://127.0.0.1:10809\""
   ]
  },
  {
   "cell_type": "code",
   "execution_count": 2,
   "id": "478b0f3a",
   "metadata": {
    "ExecuteTime": {
     "end_time": "2021-09-11T13:27:40.488206Z",
     "start_time": "2021-09-11T13:27:35.538473Z"
    }
   },
   "outputs": [
    {
     "data": {
      "application/vnd.jupyter.widget-view+json": {
       "model_id": "fcce9d058a684aa899d887bba22443e4",
       "version_major": 2,
       "version_minor": 0
      },
      "text/plain": [
       "Map(center=[40, -100], controls=(WidgetControl(options=['position', 'transparent_bg'], widget=HBox(children=(T…"
      ]
     },
     "metadata": {},
     "output_type": "display_data"
    }
   ],
   "source": [
    "import geemap\n",
    "import ee\n",
    "Map = geemap.Map()\n",
    "Map"
   ]
  },
  {
   "cell_type": "markdown",
   "id": "5f36a8ba",
   "metadata": {},
   "source": [
    "# 影像数目的分布，2000-2020，堆积柱状图"
   ]
  },
  {
   "cell_type": "code",
   "execution_count": 3,
   "id": "5dea2a5d",
   "metadata": {
    "ExecuteTime": {
     "end_time": "2021-09-11T13:27:41.190583Z",
     "start_time": "2021-09-11T13:27:40.536045Z"
    }
   },
   "outputs": [],
   "source": [
    "# 大庆市\n",
    "roi = ee.Geometry.Rectangle([123.9355, 45.8362,125.3055, 46.8762])\n",
    "# 天津市\n",
    "# roi = ee.Geometry.Rectangle([115.9244, 38.6272,117.4944,39.6372])\n",
    "# 武汉市\n",
    "# roi = ee.Geometry.Rectangle([113.7393, 29.8642,115.0993, 30.9242])\n",
    "# 珠三角\n",
    "# roi = ee.Geometry.Rectangle([112.7614, 22.2347,114.0514, 23.2547])\n",
    "# 青藏高原\n",
    "# roi = ee.Geometry.Rectangle([89.8826, 34.6579,91.3626, 35.8279])\n",
    "Map.addLayer(roi, {}, \"roi\")\n",
    "Map.centerObject(roi,7)"
   ]
  },
  {
   "cell_type": "code",
   "execution_count": null,
   "id": "75424e82",
   "metadata": {
    "ExecuteTime": {
     "end_time": "2021-09-03T02:01:27.909580Z",
     "start_time": "2021-09-03T02:01:26.740654Z"
    }
   },
   "outputs": [],
   "source": [
    "a = ee.List.sequence(2000,2020,1)\n",
    "# landsat5\n",
    "def l5(year):\n",
    "    start = ee.Algorithms.String(ee.Number(year).int()).cat(ee.String('-01-01'))\n",
    "    end = ee.Algorithms.String(ee.Number(year).int()).cat(ee.String('-12-31'))\n",
    "    dataset = ee.ImageCollection('LANDSAT/LT05/C01/T1_SR').filterBounds(roi).filterDate(start, end)\n",
    "    return dataset.size()\n",
    "print(a.map(l5).getInfo())\n",
    "\n",
    "# landsat7\n",
    "def l7(year):\n",
    "    start = ee.Algorithms.String(ee.Number(year).int()).cat(ee.String('-01-01'))\n",
    "    end = ee.Algorithms.String(ee.Number(year).int()).cat(ee.String('-12-31'))\n",
    "    dataset = ee.ImageCollection('LANDSAT/LE07/C01/T1_SR').filterBounds(roi).filterDate(start, end)\n",
    "    return dataset.size()\n",
    "print(a.map(l7).getInfo())\n",
    "\n",
    "# landsat8\n",
    "def l8(year):\n",
    "    start = ee.Algorithms.String(ee.Number(year).int()).cat(ee.String('-01-01'))\n",
    "    end = ee.Algorithms.String(ee.Number(year).int()).cat(ee.String('-12-31'))\n",
    "    dataset = ee.ImageCollection('LANDSAT/LC08/C01/T1_SR').filterBounds(roi).filterDate(start, end)\n",
    "    return dataset.size()\n",
    "print(a.map(l8).getInfo())"
   ]
  },
  {
   "cell_type": "code",
   "execution_count": null,
   "id": "4f0103d8",
   "metadata": {
    "ExecuteTime": {
     "end_time": "2021-09-03T02:01:33.687076Z",
     "start_time": "2021-09-03T02:01:28.330444Z"
    }
   },
   "outputs": [],
   "source": [
    "a = ee.List.sequence(2000,2020,1)\n",
    "l5 = a.map(l5).getInfo()\n",
    "l7 = a.map(l7).getInfo()\n",
    "l8 = a.map(l8).getInfo()"
   ]
  },
  {
   "cell_type": "code",
   "execution_count": null,
   "id": "682ea85c",
   "metadata": {
    "ExecuteTime": {
     "end_time": "2021-09-03T02:10:28.107044Z",
     "start_time": "2021-09-03T02:10:27.930562Z"
    }
   },
   "outputs": [],
   "source": [
    "import matplotlib.pyplot as plt\n",
    "import matplotlib as mpl\n",
    "import numpy as np\n",
    "x = np.arange(2000,2021)\n",
    "plt.figure(figsize=(8, 6))\n",
    "plt.bar(x, l5, width=0.45,align=\"center\",label=\"Landsat5\")\n",
    "plt.bar(x, l7, width=0.45, align=\"center\", bottom=l5, label=\"Landsat7\")\n",
    "plt.bar(x, l8, width=0.45, align=\"center\", bottom=l7, label=\"Landsat8\")\n",
    "\n",
    "plt.ylim(0,280)\n",
    "plt.xlabel(\"Year\",size=18)\n",
    "plt.ylabel(\"Number of images\",size=18)\n",
    "plt.tick_params(labelsize=15)\n",
    "plt.xticks([2000,2005,2010,2015,2020])\n",
    "plt.yticks([50,100,150,200,250])\n",
    "plt.legend(prop={'size':13})\n",
    "plt.title('Region A',size=20)\n",
    "\n",
    "plt.show()"
   ]
  },
  {
   "cell_type": "code",
   "execution_count": null,
   "id": "138190d0",
   "metadata": {},
   "outputs": [],
   "source": []
  },
  {
   "cell_type": "markdown",
   "id": "a8a38055",
   "metadata": {},
   "source": [
    "# 有效像元分布，2000-2020"
   ]
  },
  {
   "cell_type": "markdown",
   "id": "7e4f3684",
   "metadata": {},
   "source": [
    "## 计算"
   ]
  },
  {
   "cell_type": "code",
   "execution_count": null,
   "id": "94221614",
   "metadata": {},
   "outputs": [],
   "source": [
    "# 大庆市\n",
    "# roi = ee.Geometry.Rectangle([123.9355, 45.8362,125.3055, 46.8762])\n",
    "# 天津市\n",
    "# roi = ee.Geometry.Rectangle([115.9244, 38.6272,117.4944,39.6372])\n",
    "# 武汉市\n",
    "roi = ee.Geometry.Rectangle([113.7393, 29.8642,115.0993, 30.9242])\n",
    "# 珠三角\n",
    "# roi = ee.Geometry.Rectangle([112.7614, 22.2347,114.0514, 23.2547])\n",
    "# 青藏高原\n",
    "# roi = ee.Geometry.Rectangle([89.8826, 34.6579,91.3626, 35.8279])\n",
    "Map.addLayer(roi, {}, \"roi\")\n",
    "Map.centerObject(roi,7)"
   ]
  },
  {
   "cell_type": "code",
   "execution_count": null,
   "id": "69f5c97c",
   "metadata": {},
   "outputs": [],
   "source": [
    "# 移除无效像元\n",
    "elevation = ee.Image('USGS/SRTMGL1_003').select('elevation').clip(roi)\n",
    "def maskSR(image):\n",
    "    cloudShadowBitMask = (1 << 3)\n",
    "    cloudsBitMask = (1 << 5)\n",
    "    snowBitMask = (1 << 4)   \n",
    "    qa = image.select('pixel_qa')\n",
    "    mask = qa.bitwiseAnd(cloudShadowBitMask).eq(0) \\\n",
    "                   .And(qa.bitwiseAnd(cloudsBitMask).eq(0)) \\\n",
    "                   .And(qa.bitwiseAnd(snowBitMask).eq(0))\n",
    "    azimuth = image.get('SOLAR_AZIMUTH_ANGLE')\n",
    "    zenith = image.get('SOLAR_ZENITH_ANGLE')\n",
    "    return image.updateMask(mask).updateMask(ee.Terrain.hillShadow(elevation,azimuth,zenith,200,True))\n",
    "# 图像可视化参数\n",
    "visParams = {'bands': ['B5', 'B4', 'B3'],'min': 0,'max': 3000,'gamma': 1.4}"
   ]
  },
  {
   "cell_type": "code",
   "execution_count": null,
   "id": "b29dd715",
   "metadata": {},
   "outputs": [],
   "source": [
    "l8 = ee.ImageCollection('LANDSAT/LC08/C01/T1_SR') \\\n",
    "       .select(['B2', 'B3', 'B4', 'B5', 'B6', 'B7','pixel_qa']) \\\n",
    "       .filterBounds(roi) \\\n",
    "       .filterDate('2013-01-01', '2020-12-31') \\\n",
    "       .map(maskSR)\n",
    "l7 = ee.ImageCollection('LANDSAT/LE07/C01/T1_SR') \\\n",
    "       .select(['B1', 'B2', 'B3', 'B4', 'B5', 'B7','pixel_qa'],['B2', 'B3', 'B4', 'B5', 'B6', 'B7','pixel_qa']) \\\n",
    "       .filterBounds(roi) \\\n",
    "       .filterDate('2000-01-01', '2020-12-31')\\\n",
    "       .map(maskSR)          \n",
    "l5 = ee.ImageCollection('LANDSAT/LT05/C01/T1_SR') \\\n",
    "       .select(['B1', 'B2', 'B3', 'B4', 'B5', 'B7','pixel_qa'],['B2', 'B3', 'B4', 'B5', 'B6', 'B7','pixel_qa']) \\\n",
    "       .filterBounds(roi) \\\n",
    "       .filterDate('2000-01-01', '2012-12-31') \\\n",
    "       .map(maskSR)\n",
    "print(l8.size().getInfo())\n",
    "print(l7.size().getInfo())\n",
    "print(l5.size().getInfo())\n",
    "landsat_images =l8.merge(l7).merge(l5)\n",
    "print(landsat_images.size().getInfo())\n",
    "Map.addLayer(l8.map(maskSR).median().clip(roi), visParams,'image mosaic')"
   ]
  },
  {
   "cell_type": "code",
   "execution_count": null,
   "id": "26ccc73c",
   "metadata": {},
   "outputs": [],
   "source": [
    "validPixel = ee.ImageCollection(landsat_images).count().select('B3').clip(roi).rename('count')\n",
    "Map.addLayer(validPixel, {'palette':['white','blue'],'min':0,'max':1000},'validPixel')"
   ]
  },
  {
   "cell_type": "code",
   "execution_count": null,
   "id": "41988864",
   "metadata": {},
   "outputs": [],
   "source": [
    "task = ee.batch.Export.image.toAsset(**{\n",
    "    'image': validPixel,\n",
    "    'description': 'validPixel',\n",
    "    'assetId': 'users/311605001111/validPixel_wuhan',\n",
    "    'scale': 30,\n",
    "    'region': roi,\n",
    "    'maxPixels':1e13,\n",
    "})\n",
    "task.start()"
   ]
  },
  {
   "cell_type": "code",
   "execution_count": null,
   "id": "464dde28",
   "metadata": {},
   "outputs": [],
   "source": []
  },
  {
   "cell_type": "markdown",
   "id": "93f94500",
   "metadata": {},
   "source": [
    "## 制图"
   ]
  },
  {
   "cell_type": "code",
   "execution_count": null,
   "id": "82716c29",
   "metadata": {
    "ExecuteTime": {
     "end_time": "2021-09-03T01:36:39.298203Z",
     "start_time": "2021-09-03T01:36:36.073108Z"
    }
   },
   "outputs": [],
   "source": [
    "## 大庆\n",
    "validPixel = ee.Image('users/311605001111/validPixel_daqing')\n",
    "roi = ee.Geometry.Rectangle([123.9355, 45.8362,125.3055, 46.8762])\n",
    "minmax = validPixel.reduceRegion(**{\n",
    "    'reducer': ee.Reducer.minMax(),\n",
    "    'geometry': roi,\n",
    "    'scale': 30,\n",
    "    'maxPixels': 1e14,\n",
    "})\n",
    "print(minmax.getInfo())\n",
    "\n",
    "# 有效像元\n",
    "from matplotlib import pyplot as plt\n",
    "import numpy as np\n",
    "import matplotlib\n",
    "from geemap import cartoee\n",
    "region = [123.9355, 45.8362,125.3055, 46.8762] \n",
    "fig = plt.figure(figsize=(10, 6))\n",
    "visParams = {'min': 0.0,'max': 1300}\n",
    "\n",
    "ax = cartoee.get_map(validPixel,cmap=\"rainbow\",region=region,vis_params=visParams)\n",
    "# cartoee.add_colorbar(ax,vis_params=visParams,cmap=\"rainbow\",loc=\"right\",label=\"number\",orientation=\"vertical\")\n",
    "cartoee.add_gridlines(ax, interval=[0.3,0.3], linestyle=\":\")\n",
    "ax.set_title(label = 'Region A', fontsize=18)"
   ]
  },
  {
   "cell_type": "code",
   "execution_count": null,
   "id": "ba27b281",
   "metadata": {
    "ExecuteTime": {
     "end_time": "2021-09-03T01:36:43.351956Z",
     "start_time": "2021-09-03T01:36:39.689867Z"
    }
   },
   "outputs": [],
   "source": [
    "## 天津\n",
    "validPixel = ee.Image('users/311605001111/validPixel_tianjin')\n",
    "roi = ee.Geometry.Rectangle([115.9244, 38.6272,117.4944,39.6372])\n",
    "minmax = validPixel.reduceRegion(**{\n",
    "    'reducer': ee.Reducer.minMax(),\n",
    "    'geometry': roi,\n",
    "    'scale': 30,\n",
    "    'maxPixels': 1e14,\n",
    "})\n",
    "print(minmax.getInfo())\n",
    "\n",
    "# 有效像元\n",
    "from matplotlib import pyplot as plt\n",
    "import numpy as np\n",
    "import matplotlib\n",
    "from geemap import cartoee\n",
    "region = [115.9244, 38.6272,117.4944,39.6372] \n",
    "fig = plt.figure(figsize=(10, 8))\n",
    "visParams = {'min': 0.0,'max': 1300}\n",
    "\n",
    "ax = cartoee.get_map(validPixel,cmap=\"rainbow\",region=region,vis_params=visParams)\n",
    "# cartoee.add_colorbar(ax,vis_params=visParams,cmap=\"rainbow\",loc=\"right\",label=\"number\",orientation=\"vertical\")\n",
    "cartoee.add_gridlines(ax, interval=[0.3,0.3], linestyle=\":\")\n",
    "ax.set_title(label = 'Region B', fontsize=18)"
   ]
  },
  {
   "cell_type": "code",
   "execution_count": null,
   "id": "b737901b",
   "metadata": {
    "ExecuteTime": {
     "end_time": "2021-09-03T01:36:47.880508Z",
     "start_time": "2021-09-03T01:36:43.744836Z"
    }
   },
   "outputs": [],
   "source": [
    "## 武汉\n",
    "validPixel = ee.Image('users/311605001111/validPixel_wuhan')\n",
    "roi = ee.Geometry.Rectangle([113.7393, 29.8642,115.0993, 30.9242])\n",
    "minmax = validPixel.reduceRegion(**{\n",
    "    'reducer': ee.Reducer.minMax(),\n",
    "    'geometry': roi,\n",
    "    'scale': 30,\n",
    "    'maxPixels': 1e14,\n",
    "})\n",
    "print(minmax.getInfo())\n",
    "\n",
    "# 有效像元\n",
    "from matplotlib import pyplot as plt\n",
    "import numpy as np\n",
    "import matplotlib\n",
    "from geemap import cartoee\n",
    "region = [113.7393, 29.8642,115.0993, 30.9242] \n",
    "fig = plt.figure(figsize=(10, 6))\n",
    "visParams = {'min': 0.0,'max': 1300}\n",
    "\n",
    "ax = cartoee.get_map(validPixel,cmap=\"rainbow\",region=region,vis_params=visParams)\n",
    "# cartoee.add_colorbar(ax,vis_params=visParams,cmap=\"rainbow\",loc=\"right\",label=\"number\",orientation=\"vertical\")\n",
    "cartoee.add_gridlines(ax, interval=[0.3,0.3], linestyle=\":\")\n",
    "ax.set_title(label = 'Region C', fontsize=18)"
   ]
  },
  {
   "cell_type": "code",
   "execution_count": null,
   "id": "77985132",
   "metadata": {
    "ExecuteTime": {
     "end_time": "2021-09-03T01:36:52.466370Z",
     "start_time": "2021-09-03T01:36:48.348634Z"
    }
   },
   "outputs": [],
   "source": [
    "## 珠三角\n",
    "validPixel = ee.Image('users/311605001111/validPixel_PRD')\n",
    "roi = ee.Geometry.Rectangle([112.7614, 22.2347,114.0514, 23.2547])\n",
    "minmax = validPixel.reduceRegion(**{\n",
    "    'reducer': ee.Reducer.minMax(),\n",
    "    'geometry': roi,\n",
    "    'scale': 30,\n",
    "    'maxPixels': 1e14,\n",
    "})\n",
    "print(minmax.getInfo())\n",
    "\n",
    "# 有效像元\n",
    "from matplotlib import pyplot as plt\n",
    "import numpy as np\n",
    "import matplotlib\n",
    "from geemap import cartoee\n",
    "region = [112.7614, 22.2347,114.0514, 23.2547] \n",
    "fig = plt.figure(figsize=(10, 6))\n",
    "visParams = {'min': 0.0,'max': 1300}\n",
    "\n",
    "ax = cartoee.get_map(validPixel,cmap=\"rainbow\",region=region,vis_params=visParams)\n",
    "# cartoee.add_colorbar(ax,vis_params=visParams,cmap=\"rainbow\",loc=\"right\",label=\"number\",orientation=\"vertical\")\n",
    "cartoee.add_gridlines(ax, interval=[0.3,0.3], linestyle=\":\")\n",
    "ax.set_title(label = 'Region D', fontsize=18)"
   ]
  },
  {
   "cell_type": "code",
   "execution_count": null,
   "id": "371e7106",
   "metadata": {
    "ExecuteTime": {
     "end_time": "2021-09-03T01:36:57.479217Z",
     "start_time": "2021-09-03T01:36:52.876088Z"
    }
   },
   "outputs": [],
   "source": [
    "## 青藏高原\n",
    "validPixel = ee.Image('users/311605001111/validPixel_Tibetan')\n",
    "roi = ee.Geometry.Rectangle([89.8826, 34.6579,91.3626, 35.8279])\n",
    "minmax = validPixel.reduceRegion(**{\n",
    "    'reducer': ee.Reducer.minMax(),\n",
    "    'geometry': roi,\n",
    "    'scale': 30,\n",
    "    'maxPixels': 1e14,\n",
    "})\n",
    "print(minmax.getInfo())\n",
    "\n",
    "# 有效像元\n",
    "from matplotlib import pyplot as plt\n",
    "import numpy as np\n",
    "import matplotlib\n",
    "from geemap import cartoee\n",
    "region = [89.8826, 34.6579,91.3626, 35.8279] \n",
    "fig = plt.figure(figsize=(10, 6))\n",
    "visParams = {'min': 0.0,'max': 1300}\n",
    "\n",
    "ax = cartoee.get_map(validPixel,cmap=\"rainbow\",region=region,vis_params=visParams)\n",
    "# cartoee.add_colorbar(ax,vis_params=visParams,cmap=\"rainbow\",loc=\"right\",label=\"number\",orientation=\"vertical\")\n",
    "cartoee.add_gridlines(ax, interval=[0.3,0.3], linestyle=\":\")\n",
    "ax.set_title(label = 'Region E', fontsize=18)"
   ]
  },
  {
   "cell_type": "code",
   "execution_count": null,
   "id": "6624cff7",
   "metadata": {},
   "outputs": [],
   "source": []
  },
  {
   "cell_type": "code",
   "execution_count": null,
   "id": "ff902bf6",
   "metadata": {},
   "outputs": [],
   "source": []
  }
 ],
 "metadata": {
  "hide_input": false,
  "kernelspec": {
   "display_name": "Python 3 (ipykernel)",
   "language": "python",
   "name": "python3"
  },
  "language_info": {
   "codemirror_mode": {
    "name": "ipython",
    "version": 3
   },
   "file_extension": ".py",
   "mimetype": "text/x-python",
   "name": "python",
   "nbconvert_exporter": "python",
   "pygments_lexer": "ipython3",
   "version": "3.8.5"
  },
  "toc": {
   "base_numbering": 1,
   "nav_menu": {},
   "number_sections": true,
   "sideBar": true,
   "skip_h1_title": false,
   "title_cell": "Table of Contents",
   "title_sidebar": "Contents",
   "toc_cell": false,
   "toc_position": {},
   "toc_section_display": true,
   "toc_window_display": true
  },
  "varInspector": {
   "cols": {
    "lenName": 16,
    "lenType": 16,
    "lenVar": 40
   },
   "kernels_config": {
    "python": {
     "delete_cmd_postfix": "",
     "delete_cmd_prefix": "del ",
     "library": "var_list.py",
     "varRefreshCmd": "print(var_dic_list())"
    },
    "r": {
     "delete_cmd_postfix": ") ",
     "delete_cmd_prefix": "rm(",
     "library": "var_list.r",
     "varRefreshCmd": "cat(var_dic_list()) "
    }
   },
   "types_to_exclude": [
    "module",
    "function",
    "builtin_function_or_method",
    "instance",
    "_Feature"
   ],
   "window_display": false
  }
 },
 "nbformat": 4,
 "nbformat_minor": 5
}
