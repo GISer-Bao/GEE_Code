{
 "cells": [
  {
   "cell_type": "code",
   "execution_count": 1,
   "id": "d9388850",
   "metadata": {
    "ExecuteTime": {
     "end_time": "2021-08-13T03:37:47.181114Z",
     "start_time": "2021-08-13T03:37:47.167117Z"
    }
   },
   "outputs": [],
   "source": [
    "import os\n",
    "os.environ['HTTP_PROXY'] = \"http://127.0.0.1:10809\"\n",
    "os.environ['HTTPS_PROXY'] = \"http://127.0.0.1:10809\""
   ]
  },
  {
   "cell_type": "code",
   "execution_count": 2,
   "id": "ecccba17",
   "metadata": {
    "ExecuteTime": {
     "end_time": "2021-08-13T03:37:54.579099Z",
     "start_time": "2021-08-13T03:37:47.392010Z"
    },
    "scrolled": false
   },
   "outputs": [
    {
     "data": {
      "application/vnd.jupyter.widget-view+json": {
       "model_id": "d75c77065f8b499fb54965daf301d65a",
       "version_major": 2,
       "version_minor": 0
      },
      "text/plain": [
       "Map(center=[40, -100], controls=(WidgetControl(options=['position', 'transparent_bg'], widget=HBox(children=(T…"
      ]
     },
     "metadata": {},
     "output_type": "display_data"
    }
   ],
   "source": [
    "import geemap\n",
    "import ee\n",
    "Map=geemap.Map()\n",
    "Map"
   ]
  },
  {
   "cell_type": "code",
   "execution_count": 3,
   "id": "52599ca6",
   "metadata": {
    "ExecuteTime": {
     "end_time": "2021-08-13T03:37:55.747283Z",
     "start_time": "2021-08-13T03:37:54.674878Z"
    }
   },
   "outputs": [],
   "source": [
    "# 研究区\n",
    "roi = ee.FeatureCollection('users/311605001111/ChinaCity').filter(ee.Filter.eq('市','武汉市'))\n",
    "# roi = ee.Geometry.Rectangle([89.8565, 34.6503,91.4664, 35.8282])\n",
    "Map.addLayer(roi, {}, \"roi\")\n",
    "Map.centerObject(roi,9)"
   ]
  },
  {
   "cell_type": "markdown",
   "id": "9930ac52",
   "metadata": {},
   "source": [
    "# 加载sentinel-2图像"
   ]
  },
  {
   "cell_type": "code",
   "execution_count": 4,
   "id": "aa197a6e",
   "metadata": {
    "ExecuteTime": {
     "end_time": "2021-08-13T03:37:56.352104Z",
     "start_time": "2021-08-13T03:37:55.841520Z"
    }
   },
   "outputs": [],
   "source": [
    "# 加载sentinel 图像\n",
    "def maskS2clouds(image):\n",
    "    qa = image.select('QA60')\n",
    "    cloudBitMask = 1 << 10\n",
    "    cirrusBitMask = 1 << 11\n",
    "    mask = qa.bitwiseAnd(cloudBitMask).eq(0) \\\n",
    "             .And(qa.bitwiseAnd(cirrusBitMask).eq(0))\n",
    "    return image.updateMask(mask).divide(10000)\n",
    "s2 = ee.Image('COPERNICUS/S2_SR/20200209T025851_20200209T030437_T50RKU')\n",
    "Map.addLayer(maskS2clouds(s2.clip(roi)),{'min': 0.0,'max': 0.3,'bands': ['B8', 'B4', 'B3']},'S2')"
   ]
  },
  {
   "cell_type": "markdown",
   "id": "d5331971",
   "metadata": {},
   "source": [
    "# 加载Landsat8图像"
   ]
  },
  {
   "cell_type": "code",
   "execution_count": 5,
   "id": "9a66afee",
   "metadata": {
    "ExecuteTime": {
     "end_time": "2021-08-13T03:37:56.460636Z",
     "start_time": "2021-08-13T03:37:56.445676Z"
    }
   },
   "outputs": [],
   "source": [
    "# 去云、云阴影、雪掩膜函数\n",
    "def maskL8sr(image):\n",
    "    cloudShadowBitMask = (1 << 3)\n",
    "    cloudsBitMask = (1 << 5)\n",
    "    snowBitMask = (1 << 4)   \n",
    "    qa = image.select('pixel_qa')\n",
    "    mask = qa.bitwiseAnd(cloudShadowBitMask).eq(0) \\\n",
    "                   .And(qa.bitwiseAnd(cloudsBitMask).eq(0)) \\\n",
    "                   .And(qa.bitwiseAnd(snowBitMask).eq(0))\n",
    "    return image.updateMask(mask)\n",
    "\n",
    "# 图像可视化参数\n",
    "visParams = {'bands': ['B5', 'B4', 'B3'],'min': 0,'max': 3000,'gamma': 1.4}\n",
    "\n",
    "## 指数的计算\n",
    "def water_index(img):\n",
    "    image = img.clip(roi)\n",
    "    ndvi=image.normalizedDifference(['B5', 'B4']).rename('NDVI')\n",
    "    ndwi=image.normalizedDifference(['B3', 'B5']).rename(\"NDWI\")\n",
    "    mndwi=image.normalizedDifference(['B3', 'B6']).rename(\"mNDWI\")\n",
    "    ndvi_mndwi = ndvi.subtract(mndwi).rename('ndvi_mndwi')\n",
    "    cwi=image.select('B3').divide(image.select('B6')).rename(\"CWI\")\n",
    "    awei = image.expression('B2 + 2.5*B3 - 1.5*(B5+B6) - 0.25*B7',\n",
    "        {\n",
    "          'B2': image.select('B2'),\n",
    "          'B3': image.select('B3'),    \n",
    "          'B5': image.select('B5'),    \n",
    "          'B6': image.select('B6'),\n",
    "          'B7': image.select('B7'),\n",
    "        }).rename('AWEI')\n",
    "    ewi = image.expression('(B3 - B5 - B6)/(B3 + B5 + B6)',\n",
    "        {\n",
    "          'B3': image.select('B3'),    \n",
    "          'B5': image.select('B5'),    \n",
    "          'B6': image.select('B6'),\n",
    "        }).rename('EWI')\n",
    "    evi = image.expression('2.5*(B5 - B4)/(B5 + 6*B4 - 7.5*B2 + 1)',\n",
    "        {\n",
    "          'B2': image.select('B2'),\n",
    "          'B4': image.select('B4'),\n",
    "          'B5': image.select('B5'),    \n",
    "        }).rename('EVI')\n",
    "    return image.addBands(ndvi).addBands(ndwi).addBands(mndwi).addBands(cwi).addBands(awei).addBands(ewi).addBands(evi).addBands(ndvi_mndwi)\n",
    "\n",
    "# 计算研究区域内，影像面积\n",
    "def ImageArea(image):\n",
    "    image_area = image.select('B2').gt(0).multiply(ee.Image.pixelArea()).divide(1e6)\n",
    "    imageareas = image_area.reduceRegion(**{\n",
    "        'reducer': ee.Reducer.sum(),\n",
    "        'geometry': image.geometry(),\n",
    "        'scale': 1000,\n",
    "        'maxPixels': 1e14,\n",
    "    })    \n",
    "    return image.set({'imagearea': imageareas.get('B2')})\n",
    "\n",
    "# 移除山地阴影\n",
    "elevation = ee.Image('USGS/SRTMGL1_003').select('elevation').clip(roi)# .reproject('EPSG:3857',None,30)\n",
    "def removeShadow(image):\n",
    "    azimuth = image.get('SOLAR_AZIMUTH_ANGLE')\n",
    "    zenith = image.get('SOLAR_ZENITH_ANGLE')\n",
    "    return image.updateMask(ee.Terrain.hillShadow(elevation,azimuth,zenith,200,True))"
   ]
  },
  {
   "cell_type": "code",
   "execution_count": 6,
   "id": "31955011",
   "metadata": {
    "ExecuteTime": {
     "end_time": "2021-08-13T03:37:56.995195Z",
     "start_time": "2021-08-13T03:37:56.556674Z"
    }
   },
   "outputs": [],
   "source": [
    "image_id = 'LC08_123039_20200209'\n",
    "id = 'LANDSAT/LC08/C01/T1_SR/' + image_id\n",
    "image2 = water_index(ee.Image(id))\n",
    "\n",
    "# Map.addLayer(image2,visParams,'image2')\n",
    "Map.addLayer(maskL8sr(image2),visParams,'mask image2')"
   ]
  },
  {
   "cell_type": "markdown",
   "id": "0d146e75",
   "metadata": {},
   "source": [
    "# 加载样本数据"
   ]
  },
  {
   "cell_type": "markdown",
   "id": "3bd1752d",
   "metadata": {},
   "source": [
    "## 无季节性样本"
   ]
  },
  {
   "cell_type": "code",
   "execution_count": 7,
   "id": "8441f4e8",
   "metadata": {
    "ExecuteTime": {
     "end_time": "2021-08-13T03:37:58.199819Z",
     "start_time": "2021-08-13T03:37:57.091906Z"
    }
   },
   "outputs": [
    {
     "name": "stdout",
     "output_type": "stream",
     "text": [
      "total sample number:959\n",
      "水体样本的数目： 357\n",
      "陆地样本的数目： 602\n"
     ]
    }
   ],
   "source": [
    "## 导入采集的样本集\n",
    "samples_season = ee.FeatureCollection('users/311605001111/wuhan_new2020_noseason')\n",
    "# print(samples_season.first().getInfo())\n",
    "print('total sample number:{}'.format(samples_season.size().getInfo()))\n",
    "a = samples_season.filter(ee.Filter.eq('waterclass',1))\n",
    "print('水体样本的数目：',a.size().getInfo())\n",
    "a = samples_season.filter(ee.Filter.eq('waterclass',0))\n",
    "print('陆地样本的数目：',a.size().getInfo())"
   ]
  },
  {
   "cell_type": "markdown",
   "id": "f2328aff",
   "metadata": {},
   "source": [
    "## 全部样本"
   ]
  },
  {
   "cell_type": "code",
   "execution_count": 8,
   "id": "a5a3c928",
   "metadata": {
    "ExecuteTime": {
     "end_time": "2021-08-13T03:37:59.386093Z",
     "start_time": "2021-08-13T03:37:58.357842Z"
    }
   },
   "outputs": [
    {
     "name": "stdout",
     "output_type": "stream",
     "text": [
      "total sample number:1529\n",
      "水体样本的数目： 553\n",
      "陆地样本的数目： 976\n"
     ]
    }
   ],
   "source": [
    "## 导入采集的样本集\n",
    "samples = ee.FeatureCollection('users/311605001111/wuhan_new2020')\n",
    "# print(samples.first().getInfo())\n",
    "print('total sample number:{}'.format(samples.size().getInfo()))\n",
    "a = samples.filter(ee.Filter.eq('waterclass',1))\n",
    "print('水体样本的数目：',a.size().getInfo())\n",
    "a = samples.filter(ee.Filter.eq('waterclass',0))\n",
    "print('陆地样本的数目：',a.size().getInfo())"
   ]
  },
  {
   "cell_type": "code",
   "execution_count": null,
   "id": "6c2a74ce",
   "metadata": {},
   "outputs": [],
   "source": []
  },
  {
   "cell_type": "markdown",
   "id": "b24abe93",
   "metadata": {
    "ExecuteTime": {
     "end_time": "2021-08-04T02:58:39.320146Z",
     "start_time": "2021-08-04T02:58:39.306183Z"
    }
   },
   "source": [
    "# k-mean均值聚类，样本过滤"
   ]
  },
  {
   "cell_type": "code",
   "execution_count": 9,
   "id": "72636392",
   "metadata": {
    "ExecuteTime": {
     "end_time": "2021-08-13T03:38:06.509568Z",
     "start_time": "2021-08-13T03:38:06.492574Z"
    }
   },
   "outputs": [],
   "source": [
    "bands = ['B2', 'B3', 'B4', 'B5', 'B6', 'B7','NDVI','NDWI','mNDWI','CWI','AWEI','EWI','EVI']\n",
    "# cluster与waterclass的对比\n",
    "def Compare(feature):\n",
    "    cluster = ee.Number(feature.get('cluster'))\n",
    "    waterclass = ee.Number(feature.get('waterclass'))\n",
    "    ft = ee.Algorithms.If(cluster.eq(waterclass),feature.set({'eq':1}),feature.set({'eq':0}))\n",
    "    return ft\n",
    "# k-mean聚类\n",
    "def k_mean(sampleSET):\n",
    "    clusterer = ee.Clusterer.wekaKMeans(2).train(sampleSET,bands)\n",
    "    result = sampleSET.cluster(clusterer)\n",
    "    right = result.map(Compare).filter(ee.Filter.eq('eq',0))\n",
    "    error = result.map(Compare).filter(ee.Filter.eq('eq',1))\n",
    "    filtered_sample = ee.FeatureCollection(ee.Algorithms.If(right.size().gt(error.size()),right,error))\n",
    "    return filtered_sample"
   ]
  },
  {
   "cell_type": "code",
   "execution_count": 10,
   "id": "9232be06",
   "metadata": {
    "ExecuteTime": {
     "end_time": "2021-08-13T03:38:11.271764Z",
     "start_time": "2021-08-13T03:38:06.711704Z"
    }
   },
   "outputs": [
    {
     "name": "stdout",
     "output_type": "stream",
     "text": [
      "筛选后，剩余的样本数：  1448\n",
      "水体样本的数目： 550\n",
      "陆地样本的数目： 898\n"
     ]
    }
   ],
   "source": [
    "filtered_samples = k_mean(samples)\n",
    "print(\"筛选后，剩余的样本数： \",filtered_samples.size().getInfo())\n",
    "a = filtered_samples.filter(ee.Filter.eq('waterclass',1))\n",
    "print('水体样本的数目：',a.size().getInfo())\n",
    "a = filtered_samples.filter(ee.Filter.eq('waterclass',0))\n",
    "print('陆地样本的数目：',a.size().getInfo())"
   ]
  },
  {
   "cell_type": "markdown",
   "id": "42251f8b",
   "metadata": {},
   "source": [
    "# 训练RF训练器"
   ]
  },
  {
   "cell_type": "code",
   "execution_count": 12,
   "id": "c60fcb37",
   "metadata": {
    "ExecuteTime": {
     "end_time": "2021-08-13T03:38:24.029501Z",
     "start_time": "2021-08-13T03:38:24.020497Z"
    }
   },
   "outputs": [],
   "source": [
    "# RandomForest预测使用的波段\n",
    "bands = ['B2', 'B3', 'B4', 'B5', 'B6', 'B7','NDVI','NDWI','mNDWI','CWI','AWEI','EWI','EVI']\n",
    "# 分类标签\n",
    "label = 'waterclass'"
   ]
  },
  {
   "cell_type": "code",
   "execution_count": 13,
   "id": "a85243e7",
   "metadata": {
    "ExecuteTime": {
     "end_time": "2021-08-13T03:38:24.821376Z",
     "start_time": "2021-08-13T03:38:24.294107Z"
    }
   },
   "outputs": [],
   "source": [
    "trainedClassifier_noseason = ee.Classifier.smileRandomForest(20).train(samples_season,label,bands)\n",
    "# train_accuracy = trainedClassifier.confusionMatrix()\n",
    "# print(train_accuracy.getInfo())\n",
    "# print(train_accuracy.accuracy().getInfo())\n",
    "# print(train_accuracy.kappa().getInfo())\n",
    "\n",
    "image_noseason = maskL8sr(image2).select(bands).classify(trainedClassifier_noseason).eq(1).rename('waterclass')\n",
    "Map.addLayer(image_noseason.selfMask(),{'palette':['green']},'image_noseason')"
   ]
  },
  {
   "cell_type": "markdown",
   "id": "ac8e3083",
   "metadata": {},
   "source": [
    "## 过滤后"
   ]
  },
  {
   "cell_type": "code",
   "execution_count": 14,
   "id": "1690a3fd",
   "metadata": {
    "ExecuteTime": {
     "end_time": "2021-08-13T03:38:26.678363Z",
     "start_time": "2021-08-13T03:38:25.296703Z"
    }
   },
   "outputs": [],
   "source": [
    "post_trainedClassifier = ee.Classifier.smileRandomForest(20).train(filtered_samples,label,bands)\n",
    "post_image = maskL8sr(image2).select(bands).classify(post_trainedClassifier).eq(1).rename('waterclass')\n",
    "Map.addLayer(post_image.selfMask(),{'palette':['yellow']},'post_image')"
   ]
  },
  {
   "cell_type": "markdown",
   "id": "cf204cbe",
   "metadata": {
    "ExecuteTime": {
     "end_time": "2021-08-04T03:11:23.480553Z",
     "start_time": "2021-08-04T03:11:23.475536Z"
    }
   },
   "source": [
    "## 过滤前"
   ]
  },
  {
   "cell_type": "code",
   "execution_count": 15,
   "id": "0c5907c8",
   "metadata": {
    "ExecuteTime": {
     "end_time": "2021-08-13T03:38:27.953025Z",
     "start_time": "2021-08-13T03:38:27.467684Z"
    }
   },
   "outputs": [],
   "source": [
    "pro_trainedClassifier = ee.Classifier.smileRandomForest(20).train(samples,label,bands)\n",
    "# train_accuracy = trainedClassifier.confusionMatrix()\n",
    "# print(train_accuracy.getInfo())\n",
    "# print(train_accuracy.accuracy().getInfo())\n",
    "# print(train_accuracy.kappa().getInfo())\n",
    "\n",
    "pro_image = maskL8sr(image2).select(bands).classify(pro_trainedClassifier).eq(1).rename('waterclass')\n",
    "Map.addLayer(pro_image.selfMask(),{'palette':['blue']},'pro_image')"
   ]
  },
  {
   "cell_type": "code",
   "execution_count": null,
   "id": "70c2029d",
   "metadata": {},
   "outputs": [],
   "source": []
  },
  {
   "cell_type": "code",
   "execution_count": null,
   "id": "cd6fbfc4",
   "metadata": {},
   "outputs": [],
   "source": []
  }
 ],
 "metadata": {
  "hide_input": false,
  "kernelspec": {
   "display_name": "Python 3 (ipykernel)",
   "language": "python",
   "name": "python3"
  },
  "language_info": {
   "codemirror_mode": {
    "name": "ipython",
    "version": 3
   },
   "file_extension": ".py",
   "mimetype": "text/x-python",
   "name": "python",
   "nbconvert_exporter": "python",
   "pygments_lexer": "ipython3",
   "version": "3.8.5"
  },
  "toc": {
   "base_numbering": 1,
   "nav_menu": {},
   "number_sections": true,
   "sideBar": true,
   "skip_h1_title": false,
   "title_cell": "Table of Contents",
   "title_sidebar": "Contents",
   "toc_cell": false,
   "toc_position": {},
   "toc_section_display": true,
   "toc_window_display": true
  },
  "varInspector": {
   "cols": {
    "lenName": 16,
    "lenType": 16,
    "lenVar": 40
   },
   "kernels_config": {
    "python": {
     "delete_cmd_postfix": "",
     "delete_cmd_prefix": "del ",
     "library": "var_list.py",
     "varRefreshCmd": "print(var_dic_list())"
    },
    "r": {
     "delete_cmd_postfix": ") ",
     "delete_cmd_prefix": "rm(",
     "library": "var_list.r",
     "varRefreshCmd": "cat(var_dic_list()) "
    }
   },
   "types_to_exclude": [
    "module",
    "function",
    "builtin_function_or_method",
    "instance",
    "_Feature"
   ],
   "window_display": false
  }
 },
 "nbformat": 4,
 "nbformat_minor": 5
}
