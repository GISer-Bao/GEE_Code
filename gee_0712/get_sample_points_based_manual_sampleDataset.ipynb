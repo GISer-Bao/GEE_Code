{
 "cells": [
  {
   "cell_type": "code",
   "execution_count": 1,
   "metadata": {
    "ExecuteTime": {
     "end_time": "2021-08-25T03:23:51.506268Z",
     "start_time": "2021-08-25T03:23:51.495331Z"
    }
   },
   "outputs": [],
   "source": [
    "import os\n",
    "os.environ['HTTP_PROXY'] = \"http://127.0.0.1:10809\"\n",
    "os.environ['HTTPS_PROXY'] = \"http://127.0.0.1:10809\""
   ]
  },
  {
   "cell_type": "code",
   "execution_count": 2,
   "metadata": {
    "ExecuteTime": {
     "end_time": "2021-08-25T03:23:56.158169Z",
     "start_time": "2021-08-25T03:23:51.735778Z"
    },
    "scrolled": false
   },
   "outputs": [
    {
     "data": {
      "application/vnd.jupyter.widget-view+json": {
       "model_id": "ca149873140641dc89935c9c79e27594",
       "version_major": 2,
       "version_minor": 0
      },
      "text/plain": [
       "Map(center=[40, -100], controls=(WidgetControl(options=['position', 'transparent_bg'], widget=HBox(children=(T…"
      ]
     },
     "metadata": {},
     "output_type": "display_data"
    }
   ],
   "source": [
    "import geemap\n",
    "import ee\n",
    "Map=geemap.Map()\n",
    "Map"
   ]
  },
  {
   "cell_type": "code",
   "execution_count": 3,
   "metadata": {
    "ExecuteTime": {
     "end_time": "2021-08-25T03:23:57.319608Z",
     "start_time": "2021-08-25T03:23:56.190084Z"
    }
   },
   "outputs": [],
   "source": [
    "# 大庆市\n",
    "# roi = ee.FeatureCollection('users/311605001111/ChinaCity').filter(ee.Filter.eq('市','大庆市'))\n",
    "# 天津市\n",
    "# roi = ee.FeatureCollection('users/311605001111/ChinaCity').filter(ee.Filter.eq('市','天津市'))\n",
    "# 武汉市\n",
    "roi = ee.FeatureCollection('users/311605001111/region/ChinaCity').filter(ee.Filter.eq('市','武汉市'))\n",
    "# 珠三角\n",
    "# roi = ee.Geometry.Rectangle([112.846779, 22.565455,113.682786, 23.114128])\n",
    "# 青藏高原\n",
    "# roi = ee.Geometry.Rectangle([86.974365, 30.431624,91.650147, 33.694569])\n",
    "Map.addLayer(roi, {}, \"roi\")\n",
    "Map.centerObject(roi,9)"
   ]
  },
  {
   "cell_type": "code",
   "execution_count": 4,
   "metadata": {
    "ExecuteTime": {
     "end_time": "2021-08-25T03:23:57.367481Z",
     "start_time": "2021-08-25T03:23:57.352521Z"
    }
   },
   "outputs": [],
   "source": [
    "# 移除无效像元\n",
    "elevation = ee.Image('USGS/SRTMGL1_003').select('elevation').clip(roi)\n",
    "def maskSR(image):\n",
    "    cloudShadowBitMask = (1 << 3)\n",
    "    cloudsBitMask = (1 << 5)\n",
    "    snowBitMask = (1 << 4)   \n",
    "    qa = image.select('pixel_qa')\n",
    "    mask = qa.bitwiseAnd(cloudShadowBitMask).eq(0) \\\n",
    "                   .And(qa.bitwiseAnd(cloudsBitMask).eq(0)) \\\n",
    "                   .And(qa.bitwiseAnd(snowBitMask).eq(0))\n",
    "    azimuth = image.get('SOLAR_AZIMUTH_ANGLE')\n",
    "    zenith = image.get('SOLAR_ZENITH_ANGLE')\n",
    "    return image.updateMask(mask).updateMask(ee.Terrain.hillShadow(elevation,azimuth,zenith,200,True))\n",
    "\n",
    "# 图像可视化参数\n",
    "visParams = {'bands': ['B5', 'B6', 'B4'],'min': 0,'max': 3000,'gamma': 1.4}\n",
    "\n",
    "## 指数的计算\n",
    "def water_index(img):\n",
    "    image = img.clip(roi)\n",
    "    ndvi=image.normalizedDifference(['B5', 'B4']).rename('NDVI')\n",
    "    ndwi=image.normalizedDifference(['B3', 'B5']).rename(\"NDWI\")\n",
    "    mndwi=image.normalizedDifference(['B3', 'B6']).rename(\"mNDWI\")\n",
    "    ndvi_mndwi = ndvi.subtract(mndwi).rename('ndvi_mndwi')\n",
    "    cwi=image.select('B3').divide(image.select('B6')).rename(\"CWI\")\n",
    "    awei = image.expression('B2 + 2.5*B3 - 1.5*(B5+B6) - 0.25*B7',\n",
    "        {\n",
    "          'B2': image.select('B2'),\n",
    "          'B3': image.select('B3'),    \n",
    "          'B5': image.select('B5'),    \n",
    "          'B6': image.select('B6'),\n",
    "          'B7': image.select('B7'),\n",
    "        }).rename('AWEI')\n",
    "    ewi = image.expression('(B3 - B5 - B6)/(B3 + B5 + B6)',\n",
    "        {\n",
    "          'B3': image.select('B3'),    \n",
    "          'B5': image.select('B5'),    \n",
    "          'B6': image.select('B6'),\n",
    "        }).rename('EWI')\n",
    "    evi = image.expression('2.5*(B5 - B4)/(B5 + 6*B4 - 7.5*B2 + 1)',\n",
    "        {\n",
    "          'B2': image.select('B2'),\n",
    "          'B4': image.select('B4'),\n",
    "          'B5': image.select('B5'),    \n",
    "        }).rename('EVI')\n",
    "    return image.addBands(ndvi).addBands(ndwi).addBands(mndwi).addBands(cwi).addBands(awei).addBands(ewi).addBands(evi).addBands(ndvi_mndwi)\n"
   ]
  },
  {
   "cell_type": "code",
   "execution_count": 5,
   "metadata": {
    "ExecuteTime": {
     "end_time": "2021-08-25T03:23:58.161936Z",
     "start_time": "2021-08-25T03:23:57.400609Z"
    }
   },
   "outputs": [],
   "source": [
    "l8 = ee.ImageCollection('LANDSAT/LC08/C01/T1_SR') \\\n",
    "       .select(['B2', 'B3', 'B4', 'B5', 'B6', 'B7','pixel_qa']) \\\n",
    "       .filterBounds(roi) \\\n",
    "       .filterDate('2018-01-01', '2018-12-31')\\\n",
    "       .map(maskSR)\\\n",
    "       .map(water_index)\n",
    "Map.addLayer(l8.mosaic().clip(roi), visParams,'image mosaic')"
   ]
  },
  {
   "cell_type": "code",
   "execution_count": 28,
   "metadata": {
    "ExecuteTime": {
     "end_time": "2021-08-25T03:38:18.736221Z",
     "start_time": "2021-08-25T03:38:18.719020Z"
    }
   },
   "outputs": [],
   "source": [
    "def sample(image_id):\n",
    "    man_point = ee.FeatureCollection('users/311605001111/manual_samples/WUHAN_2018').filter(ee.Filter.eq('Image_id',image_id))\n",
    "    water_image = ee.Image.constant(1).toFloat().rename('label')\n",
    "    land_image = ee.Image.constant(0).toFloat().rename('label')\n",
    "    water = water_image.clipToCollection(man_point.filter(ee.Filter.eq('label',1)))\n",
    "    land = land_image.clipToCollection(man_point.filter(ee.Filter.eq('label',0)))\n",
    "    image_waterclass = ee.ImageCollection([water,land]).sum()\n",
    "    validation_points = image_waterclass.sample(**{\n",
    "        'region': roi,\n",
    "        'scale': 30,\n",
    "        'numPixels': 30000,\n",
    "        'seed': 0,\n",
    "        'geometries': True,\n",
    "        'tileScale': 2,\n",
    "    })\n",
    "    image = l8.filter(ee.Filter.eq('system:index',image_id)).first()\n",
    "    sample_points = image.select(['AWEI']).sampleRegions(**{\n",
    "        'collection': validation_points,\n",
    "        'properties': ['label'],\n",
    "        'scale': 30,\n",
    "        'geometries': True,\n",
    "        'tileScale': 2,\n",
    "    })\n",
    "    return ee.FeatureCollection(sample_points)"
   ]
  },
  {
   "cell_type": "code",
   "execution_count": 29,
   "metadata": {
    "ExecuteTime": {
     "end_time": "2021-08-25T03:38:19.647565Z",
     "start_time": "2021-08-25T03:38:19.350510Z"
    },
    "scrolled": true
   },
   "outputs": [
    {
     "name": "stdout",
     "output_type": "stream",
     "text": [
      "908\n"
     ]
    }
   ],
   "source": [
    "# 加载样本集\n",
    "samples = ee.FeatureCollection('users/311605001111/manual_samples/WUHAN_2018')\n",
    "print(samples.size().getInfo())\n",
    "\n",
    "# # 在样本集中，各类样本的个数\n",
    "# clt_water = samples.filter(ee.Filter.eq('label',1))\n",
    "# print(clt_water.size().getInfo())\n",
    "# clt_nowater = samples.filter(ee.Filter.eq('label',0))\n",
    "# print(clt_nowater.size().getInfo())"
   ]
  },
  {
   "cell_type": "code",
   "execution_count": 30,
   "metadata": {
    "ExecuteTime": {
     "end_time": "2021-08-25T03:38:39.160653Z",
     "start_time": "2021-08-25T03:38:22.198658Z"
    }
   },
   "outputs": [
    {
     "name": "stdout",
     "output_type": "stream",
     "text": [
      "3426\n",
      "{'type': 'Feature', 'geometry': {'geodesic': False, 'type': 'Point', 'coordinates': [114.67564868561135, 30.581283003170444]}, 'id': '0_33_0', 'properties': {'AWEI': 2372.75, 'label': 1}}\n"
     ]
    }
   ],
   "source": [
    "a = samples.distinct('Image_id').aggregate_array('Image_id')\n",
    "b = ee.FeatureCollection(a.map(sample)).flatten()\n",
    "print(b.size().getInfo())\n",
    "print(b.first().getInfo())"
   ]
  },
  {
   "cell_type": "code",
   "execution_count": 17,
   "metadata": {
    "ExecuteTime": {
     "end_time": "2021-08-25T03:30:18.178653Z",
     "start_time": "2021-08-25T03:30:13.824736Z"
    }
   },
   "outputs": [
    {
     "name": "stdout",
     "output_type": "stream",
     "text": [
      "368\n"
     ]
    },
    {
     "data": {
      "text/plain": [
       "(array([ 4.,  8.,  9.,  7.,  3.,  6., 11., 17., 19., 12., 19., 31., 33.,\n",
       "        31., 44., 28., 18., 14.,  9.,  3., 12.,  2.,  4.,  5.,  3.,  0.,\n",
       "        10.,  1.,  1.,  4.]),\n",
       " array([ 589.25 ,  706.425,  823.6  ,  940.775, 1057.95 , 1175.125,\n",
       "        1292.3  , 1409.475, 1526.65 , 1643.825, 1761.   , 1878.175,\n",
       "        1995.35 , 2112.525, 2229.7  , 2346.875, 2464.05 , 2581.225,\n",
       "        2698.4  , 2815.575, 2932.75 , 3049.925, 3167.1  , 3284.275,\n",
       "        3401.45 , 3518.625, 3635.8  , 3752.975, 3870.15 , 3987.325,\n",
       "        4104.5  ]),\n",
       " <BarContainer object of 30 artists>)"
      ]
     },
     "execution_count": 17,
     "metadata": {},
     "output_type": "execute_result"
    },
    {
     "data": {
      "image/png": "[encoded data removed]",
      "text/plain": [
       "<Figure size 432x288 with 1 Axes>"
      ]
     },
     "metadata": {
      "needs_background": "light"
     },
     "output_type": "display_data"
    }
   ],
   "source": [
    "clt_water = b.filter(ee.Filter.eq('label',1))\n",
    "print(clt_water.size().getInfo())\n",
    "\n",
    "import numpy as np\n",
    "import matplotlib.pyplot as plt\n",
    "a = clt_water.aggregate_array('AWEI').getInfo()\n",
    "plt.xlim(-11000,4000)\n",
    "plt.hist(a,bins=30)\n",
    "\n",
    "clt_nowater = b.filter(ee.Filter.eq('label',0))\n",
    "print(clt_nowater.size().getInfo())\n",
    "a = clt_nowater.aggregate_array('AWEI').getInfo()\n",
    "plt.xlim(-11000,4000)\n",
    "plt.hist(a,bins=30)"
   ]
  },
  {
   "cell_type": "code",
   "execution_count": 32,
   "metadata": {
    "ExecuteTime": {
     "end_time": "2021-08-25T03:42:08.801620Z",
     "start_time": "2021-08-25T03:41:49.782471Z"
    }
   },
   "outputs": [
    {
     "data": {
      "text/plain": [
       "<matplotlib.legend.Legend at 0x2501c2ec3d0>"
      ]
     },
     "execution_count": 32,
     "metadata": {},
     "output_type": "execute_result"
    },
    {
     "data": {
      "image/png": "[encoded data removed]",
      "text/plain": [
       "<Figure size 432x288 with 1 Axes>"
      ]
     },
     "metadata": {
      "needs_background": "light"
     },
     "output_type": "display_data"
    }
   ],
   "source": [
    "import numpy as np\n",
    "import matplotlib.pyplot as plt\n",
    "clt_water = b.filter(ee.Filter.eq('label',1)).aggregate_array('AWEI').getInfo()\n",
    "# print(clt_nowater.size().getInfo())\n",
    "clt_nowater = b.filter(ee.Filter.eq('label',0)).aggregate_array('AWEI').getInfo()\n",
    "# print(clt_nowater.size().getInfo())\n",
    "\n",
    "plt.xlim(-12000,4000)\n",
    "plt.hist(clt_water,bins=30,label='water')\n",
    "plt.hist(clt_nowater,bins=30,label='land')\n",
    "plt.legend()"
   ]
  },
  {
   "cell_type": "code",
   "execution_count": null,
   "metadata": {},
   "outputs": [],
   "source": []
  }
 ],
 "metadata": {
  "hide_input": false,
  "kernelspec": {
   "display_name": "Python 3 (ipykernel)",
   "language": "python",
   "name": "python3"
  },
  "language_info": {
   "codemirror_mode": {
    "name": "ipython",
    "version": 3
   },
   "file_extension": ".py",
   "mimetype": "text/x-python",
   "name": "python",
   "nbconvert_exporter": "python",
   "pygments_lexer": "ipython3",
   "version": "3.8.5"
  },
  "toc": {
   "base_numbering": 1,
   "nav_menu": {},
   "number_sections": true,
   "sideBar": true,
   "skip_h1_title": false,
   "title_cell": "Table of Contents",
   "title_sidebar": "Contents",
   "toc_cell": false,
   "toc_position": {
    "height": "calc(100% - 180px)",
    "left": "10px",
    "top": "150px",
    "width": "216.094px"
   },
   "toc_section_display": true,
   "toc_window_display": false
  },
  "varInspector": {
   "cols": {
    "lenName": 16,
    "lenType": 16,
    "lenVar": 40
   },
   "kernels_config": {
    "python": {
     "delete_cmd_postfix": "",
     "delete_cmd_prefix": "del ",
     "library": "var_list.py",
     "varRefreshCmd": "print(var_dic_list())"
    },
    "r": {
     "delete_cmd_postfix": ") ",
     "delete_cmd_prefix": "rm(",
     "library": "var_list.r",
     "varRefreshCmd": "cat(var_dic_list()) "
    }
   },
   "types_to_exclude": [
    "module",
    "function",
    "builtin_function_or_method",
    "instance",
    "_Feature"
   ],
   "window_display": false
  }
 },
 "nbformat": 4,
 "nbformat_minor": 4
}
