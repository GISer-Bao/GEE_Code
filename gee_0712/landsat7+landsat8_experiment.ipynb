{
 "cells": [
  {
   "cell_type": "code",
   "execution_count": 1,
   "id": "07dc0489",
   "metadata": {
    "ExecuteTime": {
     "end_time": "2021-08-14T08:48:52.481254Z",
     "start_time": "2021-08-14T08:48:52.478234Z"
    }
   },
   "outputs": [],
   "source": [
    "import os\n",
    "os.environ['HTTP_PROXY'] = \"http://127.0.0.1:10809\"\n",
    "os.environ['HTTPS_PROXY'] = \"http://127.0.0.1:10809\""
   ]
  },
  {
   "cell_type": "code",
   "execution_count": 2,
   "id": "476c7da7",
   "metadata": {
    "ExecuteTime": {
     "end_time": "2021-08-14T08:48:57.829864Z",
     "start_time": "2021-08-14T08:48:52.889564Z"
    },
    "scrolled": false
   },
   "outputs": [
    {
     "data": {
      "application/vnd.jupyter.widget-view+json": {
       "model_id": "475abafbc124488780228b07589b8d96",
       "version_major": 2,
       "version_minor": 0
      },
      "text/plain": [
       "Map(center=[40, -100], controls=(WidgetControl(options=['position', 'transparent_bg'], widget=HBox(children=(T…"
      ]
     },
     "metadata": {},
     "output_type": "display_data"
    }
   ],
   "source": [
    "import geemap\n",
    "import ee\n",
    "Map = geemap.Map()\n",
    "Map"
   ]
  },
  {
   "cell_type": "code",
   "execution_count": 3,
   "id": "2a806412",
   "metadata": {
    "ExecuteTime": {
     "end_time": "2021-08-14T08:48:59.520517Z",
     "start_time": "2021-08-14T08:48:58.279699Z"
    }
   },
   "outputs": [],
   "source": [
    "roi = ee.FeatureCollection('users/311605001111/ChinaCity').filter(ee.Filter.eq('市','武汉市'))\n",
    "Map.addLayer(roi, {}, \"roi\")\n",
    "Map.centerObject(roi,9)"
   ]
  },
  {
   "cell_type": "markdown",
   "id": "29c3f00f",
   "metadata": {},
   "source": [
    "# 训练RF训练器"
   ]
  },
  {
   "cell_type": "code",
   "execution_count": null,
   "id": "5254fec1",
   "metadata": {
    "ExecuteTime": {
     "end_time": "2021-08-14T08:49:01.703087Z",
     "start_time": "2021-08-14T08:49:01.688092Z"
    }
   },
   "outputs": [],
   "source": [
    "# 加载样本集\n",
    "samples = ee.FeatureCollection('users/311605001111/wuhan_new2020')\n",
    "\n",
    "bands = ['B2', 'B3', 'B4', 'B5', 'B6', 'B7','NDVI','NDWI','mNDWI','CWI','AWEI','EWI','EVI']\n",
    "# cluster与waterclass的对比\n",
    "def Compare(feature):\n",
    "    cluster = ee.Number(feature.get('cluster'))\n",
    "    waterclass = ee.Number(feature.get('waterclass'))\n",
    "    ft = ee.Algorithms.If(cluster.eq(waterclass),feature.set({'eq':1}),feature.set({'eq':0}))\n",
    "    return ft\n",
    "# k-mean聚类\n",
    "def k_mean(sampleSET):\n",
    "    clusterer = ee.Clusterer.wekaKMeans(2).train(sampleSET,bands)\n",
    "    result = sampleSET.cluster(clusterer)\n",
    "    right = result.map(Compare).filter(ee.Filter.eq('eq',0))\n",
    "    error = result.map(Compare).filter(ee.Filter.eq('eq',1))\n",
    "    filtered_sample = ee.FeatureCollection(ee.Algorithms.If(right.size().gt(error.size()),right,error))\n",
    "    return filtered_sample\n",
    "\n",
    "filtered_samples = k_mean(samples)\n",
    "print(\"筛选后，剩余的样本数： \",filtered_samples.size().getInfo())\n",
    "\n",
    "# RandomForest预测使用的波段\n",
    "bands = ['B2', 'B3', 'B4', 'B5', 'B6', 'B7','NDVI','NDWI','mNDWI','CWI','AWEI','EWI','EVI']\n",
    "# 分类标签\n",
    "label = 'waterclass'\n",
    "trainedClassifier_filter = ee.Classifier.smileRandomForest(20).train(filtered_samples,label,bands)"
   ]
  },
  {
   "cell_type": "markdown",
   "id": "5cebd0cb",
   "metadata": {},
   "source": [
    "# 函数定义"
   ]
  },
  {
   "cell_type": "code",
   "execution_count": 5,
   "id": "b39f6495",
   "metadata": {
    "ExecuteTime": {
     "end_time": "2021-08-14T08:49:01.703087Z",
     "start_time": "2021-08-14T08:49:01.688092Z"
    }
   },
   "outputs": [],
   "source": [
    "## 指数的计算\n",
    "def water_index(img):\n",
    "    image = img.clip(roi)\n",
    "    ndvi=image.normalizedDifference(['B5', 'B4']).rename('NDVI')\n",
    "    ndwi=image.normalizedDifference(['B3', 'B5']).rename(\"NDWI\")\n",
    "    mndwi=image.normalizedDifference(['B3', 'B6']).rename(\"mNDWI\")\n",
    "    ndvi_mndwi = ndvi.subtract(mndwi).rename('ndvi_mndwi')\n",
    "    cwi=image.select('B3').divide(image.select('B6')).rename(\"CWI\")\n",
    "    awei = image.expression('B2 + 2.5*B3 - 1.5*(B5+B6) - 0.25*B7',\n",
    "        {\n",
    "          'B2': image.select('B2'),\n",
    "          'B3': image.select('B3'),    \n",
    "          'B5': image.select('B5'),    \n",
    "          'B6': image.select('B6'),\n",
    "          'B7': image.select('B7'),\n",
    "        }).rename('AWEI')\n",
    "    ewi = image.expression('(B3 - B5 - B6)/(B3 + B5 + B6)',\n",
    "        {\n",
    "          'B3': image.select('B3'),    \n",
    "          'B5': image.select('B5'),    \n",
    "          'B6': image.select('B6'),\n",
    "        }).rename('EWI')\n",
    "    evi = image.expression('2.5*(B5 - B4)/(B5 + 6*B4 - 7.5*B2 + 1)',\n",
    "        {\n",
    "          'B2': image.select('B2'),\n",
    "          'B4': image.select('B4'),\n",
    "          'B5': image.select('B5'),    \n",
    "        }).rename('EVI')\n",
    "    return image.addBands(ndvi).addBands(ndwi).addBands(mndwi).addBands(cwi).addBands(awei).addBands(ewi).addBands(evi).addBands(ndvi_mndwi)\n",
    "\n",
    "def maskSR(image):\n",
    "    cloudShadowBitMask = (1 << 3)\n",
    "    cloudsBitMask = (1 << 5)\n",
    "    snowBitMask = (1 << 4)   \n",
    "    qa = image.select('pixel_qa')\n",
    "    mask = qa.bitwiseAnd(cloudShadowBitMask).eq(0) \\\n",
    "                   .And(qa.bitwiseAnd(cloudsBitMask).eq(0)) \\\n",
    "                   .And(qa.bitwiseAnd(snowBitMask).eq(0))\n",
    "    return image.updateMask(mask)\n",
    "\n",
    "visParams = {'bands': ['B5', 'B6', 'B4'],'min': 0,'max': 3000,'gamma': 1.4}"
   ]
  },
  {
   "cell_type": "markdown",
   "id": "f86c945b",
   "metadata": {},
   "source": [
    "# Landsat7与Landsat8合并"
   ]
  },
  {
   "cell_type": "code",
   "execution_count": 11,
   "id": "fca1cf9c",
   "metadata": {
    "ExecuteTime": {
     "end_time": "2021-08-14T08:56:05.844982Z",
     "start_time": "2021-08-14T08:55:59.502406Z"
    }
   },
   "outputs": [
    {
     "name": "stdout",
     "output_type": "stream",
     "text": [
      "51\n",
      "47\n",
      "98\n",
      "LANDSAT/LE07/C01/T1_SR/LE07_122038_20200210\n",
      "LANDSAT/LC08/C01/T1_SR/LC08_122038_20200218\n",
      "LANDSAT/LC08/C01/T1_SR/LC08_122038_20200218\n"
     ]
    }
   ],
   "source": [
    "l7 = ee.ImageCollection('LANDSAT/LE07/C01/T1_SR') \\\n",
    "           .select(['B1', 'B2', 'B3', 'B4', 'B5', 'B7','pixel_qa'],['B2', 'B3', 'B4', 'B5', 'B6', 'B7','pixel_qa']) \\\n",
    "           .filterBounds(roi) \\\n",
    "           .filterDate('2020-01-01', '2020-12-31')\n",
    "           \n",
    "l8 = ee.ImageCollection('LANDSAT/LC08/C01/T1_SR') \\\n",
    "       .select(['B2', 'B3', 'B4', 'B5', 'B6', 'B7','pixel_qa']) \\\n",
    "       .filterBounds(roi) \\\n",
    "       .filterDate('2020-01-01', '2020-12-31')\n",
    "landsat_images = l8.merge(l7).map(water_index).map(maskSR)\n",
    "Map.addLayer(l8.mosaic().clip(roi), visParams,'image mosaic')\n",
    "print(l7.size().getInfo())\n",
    "print(l8.size().getInfo())\n",
    "print(landsat_images.size().getInfo())\n",
    "# print(l7.first().get('system:id').getInfo())\n",
    "# print(l8.first().get('system:id').getInfo())\n",
    "# print(landsat_images.first().get('system:id').getInfo())"
   ]
  },
  {
   "cell_type": "markdown",
   "id": "b553e01e",
   "metadata": {},
   "source": [
    "# 计算水体频率"
   ]
  },
  {
   "cell_type": "markdown",
   "id": "ffe8fd04",
   "metadata": {},
   "source": [
    "## Landsat7"
   ]
  },
  {
   "cell_type": "code",
   "execution_count": null,
   "id": "188a539f",
   "metadata": {
    "ExecuteTime": {
     "end_time": "2021-08-14T03:55:22.307798Z",
     "start_time": "2021-08-14T03:55:17.539036Z"
    }
   },
   "outputs": [],
   "source": [
    "dataset = l7.map(water_index).map(maskSR)\n",
    "# 水体的有效个数\n",
    "waterpixel_count = dataset.map(lambda i : i.select(bands).classify(trainedClassifier_filter).eq(1).rename('waterclass')).sum()\n",
    "Map.addLayer(waterpixel_count,{'palette':['white','#3dd633'],'min':0,'max':35},\"waterPixelCount7\")\n",
    "# 像元的有效个数\n",
    "validPixel = dataset.count().select('B3').clip(roi).rename('count')\n",
    "Map.addLayer(validPixel,{'palette':['white','#e40775'],'min':0,'max':35},\"validPixel7\")\n",
    "# 水体频率\n",
    "waterfrequency = waterpixel_count.select('waterclass').divide(validPixel.select('count')).rename('frequency')\n",
    "Map.addLayer(waterfrequency,{'palette':['white','blue'],'min':0,'max':1},\"frequency7\")\n",
    "permanentwater = waterfrequency.gte(0.75).select('frequency').rename('waterclass')\n",
    "Map.addLayer(permanentwater.selfMask(),{'palette':['blue']},\"permanent water7\")"
   ]
  },
  {
   "cell_type": "markdown",
   "id": "ee4bb855",
   "metadata": {},
   "source": [
    "## landsat8"
   ]
  },
  {
   "cell_type": "code",
   "execution_count": null,
   "id": "83ee694a",
   "metadata": {
    "ExecuteTime": {
     "end_time": "2021-08-14T03:55:29.937207Z",
     "start_time": "2021-08-14T03:55:25.302324Z"
    }
   },
   "outputs": [],
   "source": [
    "dataset = l8.map(water_index).map(maskSR)\n",
    "# 水体的有效个数\n",
    "waterpixel_count = dataset.map(lambda i : i.select(bands).classify(trainedClassifier_filter).eq(1).rename('waterclass')).sum()\n",
    "Map.addLayer(waterpixel_count,{'palette':['white','#3dd633'],'min':0,'max':35},\"waterPixelCount8\")\n",
    "# 像元的有效个数\n",
    "validPixel = dataset.count().select('B3').clip(roi).rename('count')\n",
    "Map.addLayer(validPixel,{'palette':['white','#e40775'],'min':0,'max':35},\"validPixel8\")\n",
    "# 水体频率\n",
    "waterfrequency = waterpixel_count.select('waterclass').divide(validPixel.select('count')).rename('frequency')\n",
    "Map.addLayer(waterfrequency,{'palette':['white','blue'],'min':0,'max':1},\"frequency8\")\n",
    "permanentwater = waterfrequency.gte(0.75).select('frequency').rename('waterclass')\n",
    "Map.addLayer(permanentwater.selfMask(),{'palette':['blue']},\"permanent water8\")"
   ]
  },
  {
   "cell_type": "markdown",
   "id": "c9dcd26e",
   "metadata": {},
   "source": [
    "## landsat7+landsat8"
   ]
  },
  {
   "cell_type": "code",
   "execution_count": null,
   "id": "ab8fb049",
   "metadata": {
    "ExecuteTime": {
     "end_time": "2021-08-14T03:55:37.544085Z",
     "start_time": "2021-08-14T03:55:33.005610Z"
    }
   },
   "outputs": [],
   "source": [
    "dataset = landsat_images\n",
    "# 水体的有效个数\n",
    "waterpixel_count = dataset.map(lambda i : i.select(bands).classify(trainedClassifier_filter).eq(1).rename('waterclass')).sum()\n",
    "Map.addLayer(waterpixel_count,{'palette':['white','#3dd633'],'min':0,'max':35},\"waterPixelCount78\")\n",
    "# 像元的有效个数\n",
    "validPixel = dataset.count().select('B3').clip(roi).rename('count')\n",
    "Map.addLayer(validPixel,{'palette':['white','#e40775'],'min':0,'max':35},\"validPixel78\")\n",
    "# 水体频率\n",
    "waterfrequency = waterpixel_count.select('waterclass').divide(validPixel.select('count')).rename('frequency')\n",
    "Map.addLayer(waterfrequency,{'palette':['white','blue'],'min':0,'max':1},\"frequency78\")\n",
    "permanentwater = waterfrequency.gte(0.75).select('frequency').rename('waterclass')\n",
    "Map.addLayer(permanentwater.selfMask(),{'palette':['blue']},\"permanent water78\")"
   ]
  },
  {
   "cell_type": "markdown",
   "id": "c2c3d15b",
   "metadata": {},
   "source": [
    "# 制图"
   ]
  },
  {
   "cell_type": "code",
   "execution_count": null,
   "id": "4c81f1e8",
   "metadata": {
    "ExecuteTime": {
     "end_time": "2021-08-14T01:48:25.813494Z",
     "start_time": "2021-08-14T01:46:51.670202Z"
    }
   },
   "outputs": [],
   "source": [
    "# validPixel,waterpixel_count\n",
    "minmax = validPixel.reduceRegion(**{\n",
    "    'reducer': ee.Reducer.minMax(),\n",
    "    'geometry': roi,\n",
    "    'scale': 30,\n",
    "    'maxPixels': 1e14,\n",
    "})\n",
    "print(minmax.getInfo())\n",
    "\n",
    "minmax = waterpixel_count.reduceRegion(**{\n",
    "    'reducer': ee.Reducer.minMax(),\n",
    "    'geometry': roi,\n",
    "    'scale': 30,\n",
    "    'maxPixels': 1e14,\n",
    "})\n",
    "print(minmax.getInfo())"
   ]
  },
  {
   "cell_type": "markdown",
   "id": "c0982c28",
   "metadata": {},
   "source": [
    "## 水体像元"
   ]
  },
  {
   "cell_type": "code",
   "execution_count": null,
   "id": "3ae23af8",
   "metadata": {
    "ExecuteTime": {
     "end_time": "2021-08-14T01:34:34.834973Z",
     "start_time": "2021-08-14T01:33:05.647125Z"
    }
   },
   "outputs": [],
   "source": [
    "# 水体像元\n",
    "from matplotlib import pyplot as plt\n",
    "import numpy as np\n",
    "import matplotlib\n",
    "from geemap import cartoee\n",
    "region = [113.6, 29.9, 115.1, 31.4] \n",
    "fig = plt.figure(figsize=(12, 8))\n",
    "visParams = {'min': 0.0,'max': 30.0,'palette': ['FFFFFF','0000FF']}\n",
    "ax = cartoee.get_map(waterpixel_count,region=region,vis_params=visParams)\n",
    "cartoee.add_colorbar(ax, vis_params=visParams,loc=\"right\",label=\"number\", orientation=\"vertical\")\n",
    "cartoee.add_gridlines(ax, interval=[0.5,0.5], linestyle=\":\")\n",
    "ax.set_title(label = 'water pixels in 2020(landsat7+landsat8)', fontsize=20)"
   ]
  },
  {
   "cell_type": "markdown",
   "id": "61d18639",
   "metadata": {},
   "source": [
    "## 有效像元"
   ]
  },
  {
   "cell_type": "code",
   "execution_count": null,
   "id": "0a199092",
   "metadata": {
    "ExecuteTime": {
     "end_time": "2021-08-14T01:34:56.154943Z",
     "start_time": "2021-08-14T01:34:37.335573Z"
    }
   },
   "outputs": [],
   "source": [
    "# 有效像元\n",
    "from matplotlib import pyplot as plt\n",
    "import numpy as np\n",
    "import matplotlib\n",
    "from geemap import cartoee\n",
    "region = [113.6, 29.9, 115.1, 31.4] \n",
    "fig = plt.figure(figsize=(12, 8))\n",
    "visParams = {'min': 0.0,'max': 48.0,'palette': ['FFFFFF','FF0000']}\n",
    "ax = cartoee.get_map(validPixel,region=region,vis_params=visParams)\n",
    "cartoee.add_colorbar(ax, vis_params=visParams,loc=\"right\",label=\"number\", orientation=\"vertical\")\n",
    "cartoee.add_gridlines(ax, interval=[0.5,0.5], linestyle=\":\")\n",
    "ax.set_title(label = 'valid pixels in 2020(landsat7+landsat8)', fontsize=20)"
   ]
  },
  {
   "cell_type": "markdown",
   "id": "758c1573",
   "metadata": {},
   "source": [
    "## 水体频率"
   ]
  },
  {
   "cell_type": "code",
   "execution_count": null,
   "id": "e11db30d",
   "metadata": {
    "ExecuteTime": {
     "end_time": "2021-08-14T01:35:49.132626Z",
     "start_time": "2021-08-14T01:34:58.623177Z"
    }
   },
   "outputs": [],
   "source": [
    "# 水体频率\n",
    "from matplotlib import pyplot as plt\n",
    "import numpy as np\n",
    "import matplotlib\n",
    "from geemap import cartoee\n",
    "region = [113.6, 29.9, 115.1, 31.4] \n",
    "vis = {'min':0, 'max':1}\n",
    "fig = plt.figure(figsize=(12, 8))\n",
    "cmap = 'Blues'\n",
    "ax = cartoee.get_map(waterfrequency,region=region, vis_params=vis,cmap = cmap)\n",
    "cartoee.add_colorbar(ax, vis,cmap=cmap,loc=\"right\",label=\"water frequency\", orientation=\"vertical\")\n",
    "cartoee.add_gridlines(ax, interval=[0.5,0.5], linestyle=\":\")\n",
    "ax.set_title(label = 'waterbody frequency in 2020(landsat7+landsat8)', fontsize=20)"
   ]
  },
  {
   "cell_type": "markdown",
   "id": "2a896c8f",
   "metadata": {},
   "source": [
    "## 永久性水体"
   ]
  },
  {
   "cell_type": "code",
   "execution_count": null,
   "id": "70f75999",
   "metadata": {
    "ExecuteTime": {
     "end_time": "2021-08-14T01:44:19.369337Z",
     "start_time": "2021-08-14T01:43:39.822353Z"
    }
   },
   "outputs": [],
   "source": [
    "# 永久性水体\n",
    "from matplotlib import pyplot as plt\n",
    "import numpy as np\n",
    "import matplotlib\n",
    "from geemap import cartoee\n",
    "region = [113.6, 29.9, 115.1, 31.4] \n",
    "vis = {'palette':['D4D4D4','blue'],'min':0,'max':1}\n",
    "fig = plt.figure(figsize=(12, 8))\n",
    "ax = cartoee.get_map(permanentwater, region=region, vis_params=vis)\n",
    "cartoee.add_gridlines(ax, interval=[0.5,0.5], linestyle=\":\")\n",
    "ax.set_title(label = 'permanent water in 2020(landsat8)', fontsize=20)"
   ]
  },
  {
   "cell_type": "code",
   "execution_count": null,
   "id": "6b6238ad",
   "metadata": {},
   "outputs": [],
   "source": []
  },
  {
   "cell_type": "code",
   "execution_count": null,
   "id": "ee12f153",
   "metadata": {},
   "outputs": [],
   "source": []
  },
  {
   "cell_type": "code",
   "execution_count": null,
   "id": "9f1e957a",
   "metadata": {},
   "outputs": [],
   "source": []
  },
  {
   "cell_type": "code",
   "execution_count": null,
   "id": "2d4a42da",
   "metadata": {},
   "outputs": [],
   "source": []
  },
  {
   "cell_type": "code",
   "execution_count": null,
   "id": "8d2d6cdf",
   "metadata": {},
   "outputs": [],
   "source": []
  },
  {
   "cell_type": "code",
   "execution_count": null,
   "id": "0129bd86",
   "metadata": {},
   "outputs": [],
   "source": []
  },
  {
   "cell_type": "code",
   "execution_count": null,
   "id": "86d7e467",
   "metadata": {},
   "outputs": [],
   "source": []
  },
  {
   "cell_type": "code",
   "execution_count": null,
   "id": "c07724a6",
   "metadata": {},
   "outputs": [],
   "source": []
  },
  {
   "cell_type": "code",
   "execution_count": null,
   "id": "f2c9f655",
   "metadata": {
    "ExecuteTime": {
     "end_time": "2021-08-10T04:42:57.658385Z",
     "start_time": "2021-08-10T04:42:56.959482Z"
    }
   },
   "outputs": [],
   "source": [
    "# # # 大庆市\n",
    "# # roi = ee.FeatureCollection('users/311605001111/ChinaCity').filter(ee.Filter.eq('市','大庆市'))\n",
    "# # # 天津市\n",
    "# # roi = ee.FeatureCollection('users/311605001111/ChinaCity').filter(ee.Filter.eq('市','天津市'))\n",
    "# # 武汉市\n",
    "# roi = ee.FeatureCollection('users/311605001111/ChinaCity').filter(ee.Filter.eq('市','武汉市'))\n",
    "# # # 珠三角\n",
    "# # roi = ee.Geometry.Rectangle([112.846779, 22.565455,113.682786, 23.114128])\n",
    "# # # 青藏高原\n",
    "# # roi = ee.Geometry.Rectangle([86.974365, 30.431624,91.650147, 33.694569])\n",
    "# Map.addLayer(roi, {}, \"roi\")\n",
    "# Map.centerObject(roi,9)"
   ]
  },
  {
   "cell_type": "code",
   "execution_count": null,
   "id": "d9310cb4",
   "metadata": {
    "ExecuteTime": {
     "end_time": "2021-08-12T12:00:16.312576Z",
     "start_time": "2021-08-12T12:00:14.318334Z"
    }
   },
   "outputs": [],
   "source": [
    "def maskL8sr(image):\n",
    "    cloudShadowBitMask = (1 << 3)\n",
    "    cloudsBitMask = (1 << 5)\n",
    "    snowBitMask = (1 << 4)   \n",
    "    qa = image.select('pixel_qa')\n",
    "    mask = qa.bitwiseAnd(cloudShadowBitMask).eq(0) \\\n",
    "                   .And(qa.bitwiseAnd(cloudsBitMask).eq(0)) \\\n",
    "                   .And(qa.bitwiseAnd(snowBitMask).eq(0))\n",
    "    return image.updateMask(mask)\n",
    "\n",
    "dataset = ee.ImageCollection('LANDSAT/LC08/C01/T1_SR') \\\n",
    "            .filterBounds(roi) \\\n",
    "            .filterDate('2020-01-01', '2020-12-31') \\\n",
    "            .filter(ee.Filter.lt('CLOUD_COVER',5)) \\\n",
    "            .map(maskL8sr)\n",
    "visParams = {\n",
    "    'bands': ['B5', 'B6', 'B4'],\n",
    "    'min': 0,\n",
    "    'max': 3000,\n",
    "    'gamma': 1.4,\n",
    "}\n",
    "\n",
    "print(dataset.size().getInfo())\n",
    "print(dataset.aggregate_array('system:index').getInfo())"
   ]
  },
  {
   "cell_type": "code",
   "execution_count": null,
   "id": "e463c29d",
   "metadata": {},
   "outputs": [],
   "source": [
    "def cloudMaskL457(image):\n",
    "    cloudShadowBitMask = (1 << 3)\n",
    "    cloudsBitMask = (1 << 5)\n",
    "    snowBitMask = (1 << 4)   \n",
    "    qa = image.select('pixel_qa')\n",
    "    mask = qa.bitwiseAnd(cloudShadowBitMask).eq(0) \\\n",
    "                   .And(qa.bitwiseAnd(cloudsBitMask).eq(0)) \\\n",
    "                   .And(qa.bitwiseAnd(snowBitMask).eq(0))\n",
    "    return image.updateMask(mask)\n",
    "visParams = {\n",
    "  'bands': ['B4', 'B3', 'B2'],\n",
    "  'min': 0,\n",
    "  'max': 3000,\n",
    "  'gamma': 1.4,\n",
    "}\n",
    "dataset = ee.ImageCollection('LANDSAT/LE07/C01/T1_SR') \\\n",
    "            .filterBounds(roi) \\\n",
    "            .filterDate('2020-02-01', '2020-03-31') \\\n",
    "            .filter(ee.Filter.lt('CLOUD_COVER',5))\n",
    "\n",
    "Map.addLayer(dataset.first().clip(roi), visParams,'first')\n",
    "Map.addLayer(cloudMaskL457(dataset.first()).clip(roi), visParams,'mask first')\n",
    "# LE07_123038_20200217"
   ]
  },
  {
   "cell_type": "code",
   "execution_count": null,
   "id": "944f5279",
   "metadata": {
    "ExecuteTime": {
     "end_time": "2021-08-12T12:08:15.888972Z",
     "start_time": "2021-08-12T12:08:15.869655Z"
    }
   },
   "outputs": [],
   "source": [
    "# sentinel-2数据\n",
    "def maskS2clouds(image):\n",
    "    qa = image.select('QA60')\n",
    "    cloudBitMask = 1 << 10\n",
    "    cirrusBitMask = 1 << 11\n",
    "    mask = qa.bitwiseAnd(cloudBitMask).eq(0) \\\n",
    "             .And(qa.bitwiseAnd(cirrusBitMask).eq(0))\n",
    "    return image.updateMask(mask).divide(10000)\n",
    "visualization = {\n",
    "  'min': 0.0,\n",
    "  'max': 0.3,\n",
    "  'bands': ['B8', 'B3', 'B2'],\n",
    "}\n",
    "\n",
    "# dataset = ee.ImageCollection('COPERNICUS/S2_SR') \\\n",
    "#     .filterBounds(roi) \\\n",
    "#     .filterDate('2020-06-01', '2020-07-31') \\\n",
    "#     .filter(ee.Filter.eq('MGRS_TILE','49RGP')) \\\n",
    "#     .filter(ee.Filter.lt('CLOUDY_PIXEL_PERCENTAGE',5)) \\\n",
    "#     .map(maskS2clouds)\n",
    "# Map.addLayer(dataset.first().clip(roi), visualization, 'RGB')\n",
    "\n",
    "dataset = ee.ImageCollection('COPERNICUS/S2_SR') \\\n",
    "    .filterBounds(bound) \\\n",
    "    .filterDate('2020-03-01', '2020-04-30') \\\n",
    "    .filter(ee.Filter.lt('CLOUDY_PIXEL_PERCENTAGE',5)) \\\n",
    "    .map(maskS2clouds)\n",
    "\n",
    "print(dataset.size().getInfo())\n",
    "print(dataset.aggregate_array('system:index').getInfo())"
   ]
  },
  {
   "cell_type": "code",
   "execution_count": null,
   "id": "1713ccfa",
   "metadata": {},
   "outputs": [],
   "source": [
    "first = ee.Image('LANDSAT/LE07/C01/T1_SR/LE07_123038_20200217')\n",
    "Map.addLayer(first.clip(roi), {'bands': ['B4', 'B3', 'B2'],'min': 0,'max': 3000,'gamma': 1.4},'first image ')"
   ]
  }
 ],
 "metadata": {
  "hide_input": false,
  "kernelspec": {
   "display_name": "Python 3 (ipykernel)",
   "language": "python",
   "name": "python3"
  },
  "language_info": {
   "codemirror_mode": {
    "name": "ipython",
    "version": 3
   },
   "file_extension": ".py",
   "mimetype": "text/x-python",
   "name": "python",
   "nbconvert_exporter": "python",
   "pygments_lexer": "ipython3",
   "version": "3.8.5"
  },
  "toc": {
   "base_numbering": 1,
   "nav_menu": {},
   "number_sections": true,
   "sideBar": true,
   "skip_h1_title": false,
   "title_cell": "Table of Contents",
   "title_sidebar": "Contents",
   "toc_cell": false,
   "toc_position": {
    "height": "47.4432px",
    "left": "599.994px",
    "top": "272.259px",
    "width": "251.974px"
   },
   "toc_section_display": true,
   "toc_window_display": true
  },
  "varInspector": {
   "cols": {
    "lenName": 16,
    "lenType": 16,
    "lenVar": 40
   },
   "kernels_config": {
    "python": {
     "delete_cmd_postfix": "",
     "delete_cmd_prefix": "del ",
     "library": "var_list.py",
     "varRefreshCmd": "print(var_dic_list())"
    },
    "r": {
     "delete_cmd_postfix": ") ",
     "delete_cmd_prefix": "rm(",
     "library": "var_list.r",
     "varRefreshCmd": "cat(var_dic_list()) "
    }
   },
   "types_to_exclude": [
    "module",
    "function",
    "builtin_function_or_method",
    "instance",
    "_Feature"
   ],
   "window_display": false
  }
 },
 "nbformat": 4,
 "nbformat_minor": 5
}
