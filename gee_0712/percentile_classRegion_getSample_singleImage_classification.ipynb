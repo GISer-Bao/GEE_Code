{
 "cells": [
  {
   "cell_type": "code",
   "execution_count": 1,
   "metadata": {
    "ExecuteTime": {
     "end_time": "2021-07-30T04:17:02.574390Z",
     "start_time": "2021-07-30T04:17:02.563436Z"
    }
   },
   "outputs": [],
   "source": [
    "import os\n",
    "os.environ['HTTP_PROXY'] = \"http://127.0.0.1:10809\"\n",
    "os.environ['HTTPS_PROXY'] = \"http://127.0.0.1:10809\""
   ]
  },
  {
   "cell_type": "code",
   "execution_count": 2,
   "metadata": {
    "ExecuteTime": {
     "end_time": "2021-07-30T04:17:06.847767Z",
     "start_time": "2021-07-30T04:17:02.904452Z"
    },
    "scrolled": false
   },
   "outputs": [
    {
     "data": {
      "application/vnd.jupyter.widget-view+json": {
       "model_id": "8caa3c17c9fe43cfac72135d6d8da428",
       "version_major": 2,
       "version_minor": 0
      },
      "text/plain": [
       "Map(center=[40, -100], controls=(WidgetControl(options=['position', 'transparent_bg'], widget=HBox(children=(T…"
      ]
     },
     "metadata": {},
     "output_type": "display_data"
    }
   ],
   "source": [
    "import geemap\n",
    "import ee\n",
    "Map=geemap.Map()\n",
    "Map"
   ]
  },
  {
   "cell_type": "code",
   "execution_count": 3,
   "metadata": {
    "ExecuteTime": {
     "end_time": "2021-07-30T04:17:08.535735Z",
     "start_time": "2021-07-30T04:17:07.192761Z"
    }
   },
   "outputs": [],
   "source": [
    "# roi = ee.Feature(ee.FeatureCollection('users/311605001111/YangtzeCity/wuhan').first()).geometry()\n",
    "# Map.addLayer(roi, {}, \"roi\")\n",
    "# Map.centerObject(roi,8)\n",
    "\n",
    "# # 青海省部分地区\n",
    "roi = ee.FeatureCollection('users/311605001111/ChinaCity').filter(ee.Filter.eq('市','天津市'))\n",
    "# roi = ee.Geometry.Rectangle([89.8565, 34.6503,91.4664, 35.8282])\n",
    "Map.addLayer(roi, {}, \"roi\")\n",
    "Map.centerObject(roi,7)"
   ]
  },
  {
   "cell_type": "code",
   "execution_count": 4,
   "metadata": {
    "ExecuteTime": {
     "end_time": "2021-07-30T04:17:08.881511Z",
     "start_time": "2021-07-30T04:17:08.867121Z"
    }
   },
   "outputs": [],
   "source": [
    "# 去云、云阴影、雪掩膜函数\n",
    "def maskL8sr(image):\n",
    "    cloudShadowBitMask = (1 << 3)\n",
    "    cloudsBitMask = (1 << 5)\n",
    "    snowBitMask = (1 << 4)   \n",
    "    qa = image.select('pixel_qa')\n",
    "    mask = qa.bitwiseAnd(cloudShadowBitMask).eq(0) \\\n",
    "                   .And(qa.bitwiseAnd(cloudsBitMask).eq(0)) \\\n",
    "                   .And(qa.bitwiseAnd(snowBitMask).eq(0))\n",
    "    return image.updateMask(mask)\n",
    "\n",
    "def maskL8sr_reverse(image):\n",
    "    cloudShadowBitMask = (1 << 3)\n",
    "    cloudsBitMask = (1 << 5)\n",
    "    snowBitMask = (1 << 4)   \n",
    "    qa = image.select('pixel_qa')\n",
    "    mask = qa.bitwiseAnd(cloudShadowBitMask).eq(0) \\\n",
    "                   .And(qa.bitwiseAnd(cloudsBitMask).eq(0)) \\\n",
    "                   .And(qa.bitwiseAnd(snowBitMask).eq(0))\n",
    "    return image.updateMask(mask.remap([0,1],[1,0]))\n",
    "\n",
    "# 图像可视化参数\n",
    "visParams = {\n",
    "    'bands': ['B5', 'B6', 'B4'],\n",
    "    'min': 0,\n",
    "    'max': 3000,\n",
    "    'gamma': 1.4,\n",
    "}\n",
    "\n",
    "## 指数的计算\n",
    "def water_index(img):\n",
    "    image = img.clip(roi)\n",
    "    ndvi=image.normalizedDifference(['B5', 'B4']).rename('NDVI')\n",
    "    ndwi=image.normalizedDifference(['B3', 'B5']).rename(\"NDWI\")\n",
    "    mndwi=image.normalizedDifference(['B3', 'B6']).rename(\"mNDWI\") \n",
    "    cwi=image.select('B3').divide(image.select('B6')).rename(\"CWI\")\n",
    "    awei = image.expression('B2 + 2.5*B3 - 1.5*(B5+B6) - 0.25*B7',\n",
    "        {\n",
    "          'B2': image.select('B2'),\n",
    "          'B3': image.select('B3'),    \n",
    "          'B5': image.select('B5'),    \n",
    "          'B6': image.select('B6'),\n",
    "          'B7': image.select('B7'),\n",
    "        }).rename('AWEI')\n",
    "    ewi = image.expression('(B3 - B5 - B6)/(B3 + B5 + B6)',\n",
    "        {\n",
    "          'B3': image.select('B3'),    \n",
    "          'B5': image.select('B5'),    \n",
    "          'B6': image.select('B6'),\n",
    "        }).rename('EWI')\n",
    "    evi = image.expression('2.5*(B5 - B4)/(B5 + 6*B4 - 7.5*B2 + 1)',\n",
    "        {\n",
    "          'B2': image.select('B2'),\n",
    "          'B4': image.select('B4'),\n",
    "          'B5': image.select('B5'),    \n",
    "        }).rename('EVI')\n",
    "    return image.addBands(ndvi).addBands(ndwi).addBands(mndwi).addBands(cwi).addBands(awei).addBands(ewi).addBands(evi)\n",
    "\n",
    "# 计算研究区域内，影像面积\n",
    "def ImageArea(image):\n",
    "    image_area = image.select('B2').gt(0).multiply(ee.Image.pixelArea()).divide(1e6)\n",
    "    imageareas = image_area.reduceRegion(**{\n",
    "        'reducer': ee.Reducer.sum(),\n",
    "        'geometry': image.geometry(),\n",
    "        'scale': 1000,\n",
    "        'maxPixels': 1e14,\n",
    "    })    \n",
    "    return image.set({'imagearea': imageareas.get('B2')})"
   ]
  },
  {
   "cell_type": "markdown",
   "metadata": {},
   "source": [
    "# RF训练"
   ]
  },
  {
   "cell_type": "code",
   "execution_count": 5,
   "metadata": {
    "ExecuteTime": {
     "end_time": "2021-07-30T04:17:10.219250Z",
     "start_time": "2021-07-30T04:17:09.209256Z"
    },
    "scrolled": true
   },
   "outputs": [
    {
     "name": "stdout",
     "output_type": "stream",
     "text": [
      "{'type': 'Feature', 'geometry': {'type': 'Point', 'coordinates': [117.52114219432853, 39.65410342583302]}, 'id': '000000000000000004c8', 'properties': {'AWEI': -3582.75, 'B2': 657, 'B3': 1063, 'B4': 1084, 'B5': 2405, 'B6': 1965, 'B7': 1369, 'Image_id': 'LC08_122033_20180417', 'NDVI': 0.378618515333907, 'mNDWI': -0.297886393659181, 'ndvi_mndwi': 0.676504908993087, 'waterclass': 0}}\n",
      "total sample number:3244\n",
      "水体样本的数目： 784\n"
     ]
    }
   ],
   "source": [
    "## 导入采集的样本集\n",
    "points_collection = ee.FeatureCollection('users/311605001111/tianjing_2018')\n",
    "print(points_collection.first().getInfo())\n",
    "print('total sample number:{}'.format(points_collection.size().getInfo()))\n",
    "a = points_collection.filter(ee.Filter.eq('waterclass',1))\n",
    "print('水体样本的数目：',a.size().getInfo())\n",
    "\n",
    "\n",
    "# RandomForest预测使用的波段\n",
    "bands = ['B2', 'B3', 'B4', 'B5', 'B6', 'B7','NDVI','NDWI','mNDWI','CWI','AWEI','EWI','EVI']\n",
    "# 分类标签\n",
    "label = 'waterclass'\n",
    "trainedClassifier = ee.Classifier.smileRandomForest(20).train(points_collection,label,bands)\n",
    "# train_accuracy = trainedClassifier.confusionMatrix()\n",
    "# print(train_accuracy.getInfo())\n",
    "# print(train_accuracy.accuracy().getInfo())\n",
    "# print(train_accuracy.kappa().getInfo())"
   ]
  },
  {
   "cell_type": "code",
   "execution_count": 6,
   "metadata": {
    "ExecuteTime": {
     "end_time": "2021-07-30T04:17:19.880173Z",
     "start_time": "2021-07-30T04:17:18.929825Z"
    }
   },
   "outputs": [],
   "source": [
    "# 'LC08_122033_20180111'\n",
    "# 'LC08_123033_20180203'\n",
    "# 'LC08_122033_20180316'\n",
    "# 'LC08_123033_20180408'\n",
    "# 'LC08_122033_20180503'\n",
    "# 'LC08_122033_20180620'\n",
    "# 'LC08_122033_20180706' \n",
    "# 'LC08_122033_20180823'\n",
    "# 'LC08_122033_20180924'\n",
    "# 'LC08_122033_20181026'\n",
    "# 'LC08_123033_20181001'\n",
    "# 'LC08_123032_20181118'\n",
    "image_id = 'LC08_123033_20181001'\n",
    "id = 'LANDSAT/LC08/C01/T1_SR/' + image_id\n",
    "image2 = water_index(ee.Image(id))\n",
    "\n",
    "Map.addLayer(image2,visParams,'image2')\n",
    "Map.addLayer(maskL8sr(image2),visParams,'mask image2')"
   ]
  },
  {
   "cell_type": "markdown",
   "metadata": {},
   "source": [
    "# 校正"
   ]
  },
  {
   "cell_type": "code",
   "execution_count": 7,
   "metadata": {
    "ExecuteTime": {
     "end_time": "2021-07-30T04:17:52.848457Z",
     "start_time": "2021-07-30T04:17:52.833498Z"
    }
   },
   "outputs": [],
   "source": [
    "# img指经过指数计算，但未做云掩膜的图像\n",
    "def AutomaticCorrection(img):\n",
    "    image = maskL8sr(img).select(bands).classify(trainedClassifier).eq(1).rename('waterclass')\n",
    "    invalidPixel = maskL8sr_reverse(img).select('B2').gt(0).remap([0,1],[1,0]).rename('waterclass').float()\n",
    "    class_image = ee.ImageCollection([invalidPixel,image.remap([0,1],[1,2]).rename('waterclass').float()]).sum()\n",
    "    water = class_image.eq(2).selfMask()\n",
    "    no_data = class_image.eq(0).selfMask()\n",
    "    occurrence = ee.Image('JRC/GSW1_3/GlobalSurfaceWater').select('occurrence')\n",
    "    occurrence_water = occurrence.updateMask(water)\n",
    "    occurrence_no_data = occurrence.updateMask(no_data)\n",
    "    occurrence_HistogramCount = occurrence_water.reduceRegion(**{\n",
    "        'reducer': ee.Reducer.histogram(100,1),\n",
    "        'geometry': img.geometry(),\n",
    "        'scale': 30,\n",
    "        'bestEffort': True\n",
    "    })\n",
    "    histogram = ee.List(ee.Dictionary(occurrence_HistogramCount.get('occurrence')).get('histogram'))\n",
    "    bucketMeans = ee.List(ee.Dictionary(occurrence_HistogramCount.get('occurrence')).get('bucketMeans'))    \n",
    "    count_threshold = ee.Number(histogram.reduce(ee.Reducer.sum())).multiply(0.0017)\n",
    "    index = histogram.map(lambda i : ee.Algorithms.If(ee.Number(i).gte(ee.Number(count_threshold)),ee.Number(i))).removeAll([None]).get(0)\n",
    "    occurrence_threshold = bucketMeans.get(histogram.indexOf(index))\n",
    "    occurrence_corrected_water = occurrence_no_data.gte(ee.Number(occurrence_threshold)).selfMask().select('occurrence').rename('waterclass')\n",
    "    basemap = img.select('B2').gt(0).remap([0,1],[1,0]).rename('waterclass')\n",
    "    enhanced_water = ee.ImageCollection([basemap,water,occurrence_corrected_water]).sum()\n",
    "    return enhanced_water.set({'occurrence_threshold':occurrence_threshold})"
   ]
  },
  {
   "cell_type": "code",
   "execution_count": 8,
   "metadata": {
    "ExecuteTime": {
     "end_time": "2021-07-30T04:17:58.947202Z",
     "start_time": "2021-07-30T04:17:53.297050Z"
    }
   },
   "outputs": [
    {
     "name": "stdout",
     "output_type": "stream",
     "text": [
      "5\n"
     ]
    }
   ],
   "source": [
    "a = AutomaticCorrection(image2)\n",
    "print(a.get('occurrence_threshold').getInfo())\n",
    "Map.addLayer(a.selfMask(),{'palette':['red']},\"a\")"
   ]
  },
  {
   "cell_type": "markdown",
   "metadata": {},
   "source": [
    "# 验证"
   ]
  },
  {
   "cell_type": "code",
   "execution_count": 9,
   "metadata": {
    "ExecuteTime": {
     "end_time": "2021-07-30T04:18:20.821921Z",
     "start_time": "2021-07-30T04:18:20.305629Z"
    }
   },
   "outputs": [],
   "source": [
    "img = image2\n",
    "image = maskL8sr(img).select(bands).classify(trainedClassifier).eq(1).rename('waterclass')\n",
    "Map.addLayer(image.selfMask(),{'palette':['blue']},\"water\")"
   ]
  },
  {
   "cell_type": "code",
   "execution_count": null,
   "metadata": {
    "ExecuteTime": {
     "end_time": "2021-07-30T01:18:21.654555Z",
     "start_time": "2021-07-30T01:18:21.297747Z"
    }
   },
   "outputs": [],
   "source": [
    "### 人工选取的样本点\n",
    "# 要求：水体类别属性为 label; 影像属性为 Image_id 。\n",
    "man_point = ee.FeatureCollection('users/311605001111/tianjin_2018').filter(ee.Filter.eq('Image_id',image_id))\n",
    "print(man_point.size().getInfo())\n",
    "\n",
    "water_image = ee.Image.constant(1).toFloat().rename('label')\n",
    "land_image = ee.Image.constant(0).toFloat().rename('label')\n",
    "water = water_image.clipToCollection(man_point.filter(ee.Filter.eq('label',1)))\n",
    "land = land_image.clipToCollection(man_point.filter(ee.Filter.eq('label',0)))\n",
    "image_waterclass = ee.ImageCollection([water,land]).sum()\n",
    "# Map.addLayer(image_waterclass,{'palette':['green','blue'],'min':0,'max':1},\"image_waterclass\")"
   ]
  },
  {
   "cell_type": "code",
   "execution_count": null,
   "metadata": {
    "ExecuteTime": {
     "end_time": "2021-07-30T01:18:37.340274Z",
     "start_time": "2021-07-30T01:18:23.479944Z"
    }
   },
   "outputs": [],
   "source": [
    "# 采样\n",
    "validation_points = image_waterclass.sample(**{\n",
    "    'region': roi,\n",
    "    'scale': 30,\n",
    "    'numPixels': 300000,\n",
    "    'seed': 0,\n",
    "    'geometries': True,\n",
    "})\n",
    "\n",
    "print(validation_points.size().getInfo())\n",
    "print(validation_points.first().getInfo())"
   ]
  },
  {
   "cell_type": "code",
   "execution_count": null,
   "metadata": {
    "ExecuteTime": {
     "end_time": "2021-07-30T01:19:06.510244Z",
     "start_time": "2021-07-30T01:18:39.094574Z"
    }
   },
   "outputs": [],
   "source": [
    "# 采样\n",
    "inter_points = image.sampleRegions(**{\n",
    "    'collection': validation_points,\n",
    "    'properties': ['label'],\n",
    "    'scale': 30,\n",
    "    'geometries': True,\n",
    "})\n",
    "\n",
    "print(inter_points.size().getInfo())\n",
    "print(inter_points.first().getInfo())"
   ]
  },
  {
   "cell_type": "code",
   "execution_count": null,
   "metadata": {
    "ExecuteTime": {
     "end_time": "2021-07-30T01:19:35.862758Z",
     "start_time": "2021-07-30T01:19:08.297865Z"
    }
   },
   "outputs": [],
   "source": [
    "# 利用误差矩阵进行验证\n",
    "test_accuracy = inter_points.errorMatrix('label', 'waterclass')\n",
    "print(test_accuracy.getInfo())\n",
    "print('total caccuracy:{}'.format(test_accuracy.accuracy().getInfo()))\n",
    "print('kappa:{}'.format(test_accuracy.kappa().getInfo()))"
   ]
  },
  {
   "cell_type": "code",
   "execution_count": null,
   "metadata": {
    "ExecuteTime": {
     "end_time": "2021-07-30T01:03:41.745872Z",
     "start_time": "2021-07-30T01:03:41.144926Z"
    }
   },
   "outputs": [],
   "source": [
    "# Map.addLayer(land_random,{'color': 'red', 'pointSize': 100,'fillColor': 'red'},'points');"
   ]
  },
  {
   "cell_type": "markdown",
   "metadata": {},
   "source": [
    "# 制图"
   ]
  },
  {
   "cell_type": "code",
   "execution_count": null,
   "metadata": {
    "ExecuteTime": {
     "end_time": "2021-07-16T13:54:18.379134Z",
     "start_time": "2021-07-16T13:53:57.267470Z"
    }
   },
   "outputs": [],
   "source": [
    "from matplotlib import pyplot as plt\n",
    "import numpy as np\n",
    "import matplotlib\n",
    "from geemap import cartoee\n",
    "%pylab inline\n",
    "region = [89.8565, 34.6503,91.4664, 35.8282] \n",
    "vis = {'min':0, 'max':1}\n",
    "fig = plt.figure(figsize=(12, 8))\n",
    "cmap = 'Blues'\n",
    "ax = cartoee.get_map(waterfrequency, region=region, vis_params=vis,cmap = cmap)\n",
    "cartoee.add_colorbar(ax, vis,cmap=cmap,loc=\"right\",label=\"water frequency\", orientation=\"vertical\")\n",
    "cartoee.add_gridlines(ax, interval=[0.2,0.2], linestyle=\":\")\n",
    "ax.set_title(label = 'waterbody frequency(Auto-Correction/validPixel/2018)', fontsize=20)"
   ]
  },
  {
   "cell_type": "code",
   "execution_count": null,
   "metadata": {
    "ExecuteTime": {
     "end_time": "2021-07-16T13:56:51.764515Z",
     "start_time": "2021-07-16T13:56:29.252696Z"
    }
   },
   "outputs": [],
   "source": [
    "# permanent waterbody\n",
    "from matplotlib import pyplot as plt\n",
    "import numpy as np\n",
    "import matplotlib\n",
    "from geemap import cartoee\n",
    "region = [89.8565, 34.6503,91.4664, 35.8282] \n",
    "vis = {'palette':['D3D3D3','blue'],'min':0,'max':1}\n",
    "fig = plt.figure(figsize=(12, 8))\n",
    "ax = cartoee.get_map(permanentwater, region=region, vis_params=vis)\n",
    "cartoee.add_gridlines(ax, interval=[0.2,0.2], linestyle=\":\")\n",
    "ax.set_title(label = 'permanent water(Auto-Correction/validPixel/2018)', fontsize=20)"
   ]
  },
  {
   "cell_type": "code",
   "execution_count": null,
   "metadata": {},
   "outputs": [],
   "source": []
  }
 ],
 "metadata": {
  "hide_input": false,
  "kernelspec": {
   "display_name": "Python 3 (ipykernel)",
   "language": "python",
   "name": "python3"
  },
  "language_info": {
   "codemirror_mode": {
    "name": "ipython",
    "version": 3
   },
   "file_extension": ".py",
   "mimetype": "text/x-python",
   "name": "python",
   "nbconvert_exporter": "python",
   "pygments_lexer": "ipython3",
   "version": "3.8.5"
  },
  "toc": {
   "base_numbering": 1,
   "nav_menu": {},
   "number_sections": true,
   "sideBar": true,
   "skip_h1_title": false,
   "title_cell": "Table of Contents",
   "title_sidebar": "Contents",
   "toc_cell": false,
   "toc_position": {
    "height": "calc(100% - 180px)",
    "left": "10px",
    "top": "150px",
    "width": "216.094px"
   },
   "toc_section_display": true,
   "toc_window_display": true
  },
  "varInspector": {
   "cols": {
    "lenName": 16,
    "lenType": 16,
    "lenVar": 40
   },
   "kernels_config": {
    "python": {
     "delete_cmd_postfix": "",
     "delete_cmd_prefix": "del ",
     "library": "var_list.py",
     "varRefreshCmd": "print(var_dic_list())"
    },
    "r": {
     "delete_cmd_postfix": ") ",
     "delete_cmd_prefix": "rm(",
     "library": "var_list.r",
     "varRefreshCmd": "cat(var_dic_list()) "
    }
   },
   "types_to_exclude": [
    "module",
    "function",
    "builtin_function_or_method",
    "instance",
    "_Feature"
   ],
   "window_display": false
  }
 },
 "nbformat": 4,
 "nbformat_minor": 4
}
