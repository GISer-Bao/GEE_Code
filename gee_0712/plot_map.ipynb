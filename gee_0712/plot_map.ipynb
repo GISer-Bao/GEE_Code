{
 "cells": [
  {
   "cell_type": "markdown",
   "id": "559256a8",
   "metadata": {},
   "source": [
    "# 统计最大最小值"
   ]
  },
  {
   "cell_type": "code",
   "execution_count": null,
   "id": "83c56a6f",
   "metadata": {
    "ExecuteTime": {
     "end_time": "2021-08-13T14:46:31.593420Z",
     "start_time": "2021-08-13T14:45:14.088318Z"
    }
   },
   "outputs": [],
   "source": [
    "# 统计最大最小值\n",
    "minmax = waterpixel_count.reduceRegion(**{\n",
    "    'reducer': ee.Reducer.minMax(),\n",
    "    'geometry': roi,\n",
    "    'scale': 30,\n",
    "    'maxPixels': 1e14,\n",
    "})\n",
    "print(minmax.getInfo())"
   ]
  },
  {
   "cell_type": "markdown",
   "id": "db487017",
   "metadata": {},
   "source": [
    "# 水体像元"
   ]
  },
  {
   "cell_type": "code",
   "execution_count": null,
   "id": "f6b1bb29",
   "metadata": {
    "ExecuteTime": {
     "end_time": "2021-08-13T14:49:06.919010Z",
     "start_time": "2021-08-13T14:49:03.232523Z"
    },
    "scrolled": true
   },
   "outputs": [],
   "source": [
    "# 水体像元\n",
    "from matplotlib import pyplot as plt\n",
    "import numpy as np\n",
    "import matplotlib\n",
    "from geemap import cartoee\n",
    "region = [113.6, 29.9, 115.1, 31.4] \n",
    "fig = plt.figure(figsize=(12, 8))\n",
    "visParams = {'min': 0.0,'max': 20.0,'palette': ['FFFFFF','0000FF']}\n",
    "ax = cartoee.get_map(waterpixel_count,region=region,vis_params=visParams)\n",
    "cartoee.add_colorbar(ax, vis_params=visParams,loc=\"right\",label=\"number\", orientation=\"vertical\")\n",
    "cartoee.add_gridlines(ax, interval=[0.5,0.5], linestyle=\":\")\n",
    "ax.set_title(label = 'water pixels in 2020(landsat7)', fontsize=14)"
   ]
  },
  {
   "cell_type": "markdown",
   "id": "bb5557f7",
   "metadata": {},
   "source": [
    "# 有效像元"
   ]
  },
  {
   "cell_type": "code",
   "execution_count": null,
   "id": "cff058ee",
   "metadata": {
    "ExecuteTime": {
     "end_time": "2021-08-13T14:44:20.579242Z",
     "start_time": "2021-08-13T14:44:16.607981Z"
    }
   },
   "outputs": [],
   "source": [
    "# 有效像元\n",
    "from matplotlib import pyplot as plt\n",
    "import numpy as np\n",
    "import matplotlib\n",
    "from geemap import cartoee\n",
    "region = [113.6, 29.9, 115.1, 31.4] \n",
    "fig = plt.figure(figsize=(12, 8))\n",
    "visParams = {'min': 0.0,'max': 30.0,'palette': ['FFFFFF','FF0000']}\n",
    "ax = cartoee.get_map(validPixel,region=region,vis_params=visParams)\n",
    "cartoee.add_colorbar(ax, vis_params=visParams,loc=\"right\",label=\"number\", orientation=\"vertical\")\n",
    "cartoee.add_gridlines(ax, interval=[0.5,0.5], linestyle=\":\")\n",
    "ax.set_title(label = 'valid pixels in 2020(landsat7)', fontsize=14)"
   ]
  },
  {
   "cell_type": "markdown",
   "id": "56f338ec",
   "metadata": {},
   "source": [
    "# 水体频率"
   ]
  },
  {
   "cell_type": "code",
   "execution_count": null,
   "id": "e11db30d",
   "metadata": {
    "ExecuteTime": {
     "end_time": "2021-08-13T14:42:52.502061Z",
     "start_time": "2021-08-13T14:42:27.923953Z"
    }
   },
   "outputs": [],
   "source": [
    "# 水体频率\n",
    "from matplotlib import pyplot as plt\n",
    "import numpy as np\n",
    "import matplotlib\n",
    "from geemap import cartoee\n",
    "region = [113.6, 29.9, 115.1, 31.4] \n",
    "vis = {'min':0, 'max':1}\n",
    "fig = plt.figure(figsize=(12, 8))\n",
    "cmap = 'Blues'\n",
    "ax = cartoee.get_map(waterfrequency,region=region, vis_params=vis,cmap = cmap)\n",
    "cartoee.add_colorbar(ax, vis,cmap=cmap,loc=\"right\",label=\"water frequency\", orientation=\"vertical\")\n",
    "cartoee.add_gridlines(ax, interval=[0.5,0.5], linestyle=\":\")\n",
    "ax.set_title(label = 'waterbody frequency in 2020(landsat7)', fontsize=20)"
   ]
  },
  {
   "cell_type": "markdown",
   "id": "43dc574a",
   "metadata": {},
   "source": [
    "# 永久性水体"
   ]
  },
  {
   "cell_type": "code",
   "execution_count": null,
   "id": "f314c792",
   "metadata": {
    "ExecuteTime": {
     "end_time": "2021-08-13T14:32:43.855761Z",
     "start_time": "2021-08-13T14:32:30.912116Z"
    }
   },
   "outputs": [],
   "source": [
    "# 永久性水体\n",
    "from matplotlib import pyplot as plt\n",
    "import numpy as np\n",
    "import matplotlib\n",
    "from geemap import cartoee\n",
    "region = [113.6, 29.9, 115.1, 31.4] \n",
    "vis = {'palette':['D4D4D4','blue'],'min':0,'max':1}\n",
    "fig = plt.figure(figsize=(12, 8))\n",
    "ax = cartoee.get_map(permanentwater, region=region, vis_params=vis)\n",
    "cartoee.add_gridlines(ax, interval=[0.5,0.5], linestyle=\":\")\n",
    "ax.set_title(label = 'permanent water in 2020(landsat7)', fontsize=20)"
   ]
  },
  {
   "cell_type": "code",
   "execution_count": null,
   "id": "6b6238ad",
   "metadata": {},
   "outputs": [],
   "source": []
  }
 ],
 "metadata": {
  "hide_input": false,
  "kernelspec": {
   "display_name": "Python 3 (ipykernel)",
   "language": "python",
   "name": "python3"
  },
  "language_info": {
   "codemirror_mode": {
    "name": "ipython",
    "version": 3
   },
   "file_extension": ".py",
   "mimetype": "text/x-python",
   "name": "python",
   "nbconvert_exporter": "python",
   "pygments_lexer": "ipython3",
   "version": "3.8.5"
  },
  "toc": {
   "base_numbering": 1,
   "nav_menu": {},
   "number_sections": true,
   "sideBar": true,
   "skip_h1_title": false,
   "title_cell": "Table of Contents",
   "title_sidebar": "Contents",
   "toc_cell": false,
   "toc_position": {
    "height": "47.4432px",
    "left": "599.994px",
    "top": "272.259px",
    "width": "251.974px"
   },
   "toc_section_display": true,
   "toc_window_display": true
  },
  "varInspector": {
   "cols": {
    "lenName": 16,
    "lenType": 16,
    "lenVar": 40
   },
   "kernels_config": {
    "python": {
     "delete_cmd_postfix": "",
     "delete_cmd_prefix": "del ",
     "library": "var_list.py",
     "varRefreshCmd": "print(var_dic_list())"
    },
    "r": {
     "delete_cmd_postfix": ") ",
     "delete_cmd_prefix": "rm(",
     "library": "var_list.r",
     "varRefreshCmd": "cat(var_dic_list()) "
    }
   },
   "types_to_exclude": [
    "module",
    "function",
    "builtin_function_or_method",
    "instance",
    "_Feature"
   ],
   "window_display": false
  }
 },
 "nbformat": 4,
 "nbformat_minor": 5
}
