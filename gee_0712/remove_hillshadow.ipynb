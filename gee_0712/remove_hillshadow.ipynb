{
 "cells": [
  {
   "cell_type": "code",
   "execution_count": 1,
   "id": "48f07320",
   "metadata": {
    "ExecuteTime": {
     "end_time": "2021-11-16T04:31:57.338062Z",
     "start_time": "2021-11-16T04:31:57.325097Z"
    }
   },
   "outputs": [],
   "source": [
    "import os\n",
    "os.environ['HTTP_PROXY'] = \"http://127.0.0.1:10809\"\n",
    "os.environ['HTTPS_PROXY'] = \"http://127.0.0.1:10809\""
   ]
  },
  {
   "cell_type": "code",
   "execution_count": 2,
   "id": "2e2f175b",
   "metadata": {
    "ExecuteTime": {
     "end_time": "2021-11-16T04:32:02.325782Z",
     "start_time": "2021-11-16T04:31:57.743030Z"
    },
    "scrolled": false
   },
   "outputs": [
    {
     "data": {
      "application/vnd.jupyter.widget-view+json": {
       "model_id": "63f8602c63fb4365803f26fc4b57bb12",
       "version_major": 2,
       "version_minor": 0
      },
      "text/plain": [
       "Map(center=[40, -100], controls=(WidgetControl(options=['position', 'transparent_bg'], widget=HBox(children=(T…"
      ]
     },
     "metadata": {},
     "output_type": "display_data"
    }
   ],
   "source": [
    "import geemap\n",
    "import ee\n",
    "Map = geemap.Map()\n",
    "Map"
   ]
  },
  {
   "cell_type": "code",
   "execution_count": 3,
   "id": "82640ffb",
   "metadata": {
    "ExecuteTime": {
     "end_time": "2021-11-16T04:32:03.030846Z",
     "start_time": "2021-11-16T04:32:02.421526Z"
    }
   },
   "outputs": [],
   "source": [
    "# # 大庆市\n",
    "roi = ee.Geometry.Rectangle([123.9355, 45.8362,125.3055, 46.8762])\n",
    "# # 天津市\n",
    "# roi = ee.Geometry.Rectangle([115.9244, 38.6272,117.4944,39.6372])\n",
    "# # 武汉市\n",
    "# roi = ee.Geometry.Rectangle([113.7393, 29.8642,115.0993, 30.9242])\n",
    "# # 珠三角\n",
    "# roi = ee.Geometry.Rectangle([112.7614, 22.2347,114.0514, 23.2547])\n",
    "# 青藏高原\n",
    "# roi = ee.Geometry.Rectangle([89.8826, 34.6579,91.3626, 35.8279])\n",
    "Map.addLayer(roi, {}, \"roi\")\n",
    "Map.centerObject(roi,7)"
   ]
  },
  {
   "cell_type": "markdown",
   "id": "e4014aa6",
   "metadata": {},
   "source": [
    "# landsat8"
   ]
  },
  {
   "cell_type": "code",
   "execution_count": null,
   "id": "05ef728b",
   "metadata": {
    "ExecuteTime": {
     "end_time": "2021-11-16T02:41:01.873769Z",
     "start_time": "2021-11-16T02:41:00.542109Z"
    }
   },
   "outputs": [],
   "source": [
    "visParams = {'bands': ['B5', 'B6', 'B4'],'min': 0,'max': 3000,'gamma': 1.4}\n",
    "\n",
    "# ,LANDSAT/LC08/C01/T1_SR/LC08_123039_20200803\n",
    "image = ee.Image('LANDSAT/LC08/C01/T1_SR/LC08_118028_20200613')\n",
    "Map.addLayer(image,visParams,'image')\n",
    "Map.centerObject(image,7)\n",
    "print(image.get('SOLAR_AZIMUTH_ANGLE').getInfo())\n",
    "print(image.get('SOLAR_ZENITH_ANGLE').getInfo())"
   ]
  },
  {
   "cell_type": "code",
   "execution_count": null,
   "id": "06c8f9ea",
   "metadata": {
    "ExecuteTime": {
     "end_time": "2021-11-16T04:24:50.779629Z",
     "start_time": "2021-11-16T04:24:49.507999Z"
    }
   },
   "outputs": [],
   "source": [
    "a = image.clip(roi)\n",
    "print(a.geometry().getInfo())"
   ]
  },
  {
   "cell_type": "code",
   "execution_count": null,
   "id": "00573502",
   "metadata": {
    "ExecuteTime": {
     "end_time": "2021-11-16T04:26:49.016614Z",
     "start_time": "2021-11-16T04:26:48.668546Z"
    }
   },
   "outputs": [],
   "source": [
    "polyson = ee.Geometry.Polygon([[[125.30550000000001, 46.46529007795952], [125.22422552962367, 46.2338567558239], [125.08639241302929, 45.83729986498], [125.30550000000001, 45.8362], [125.30550000000001, 46.46529007795952]]])\n",
    "Map.addLayer(polyson, {}, \"polyson\")"
   ]
  },
  {
   "cell_type": "code",
   "execution_count": null,
   "id": "1f5a0f37",
   "metadata": {
    "ExecuteTime": {
     "end_time": "2021-11-16T02:41:28.499866Z",
     "start_time": "2021-11-16T02:41:28.165132Z"
    }
   },
   "outputs": [],
   "source": [
    "a = str(image.select('B2').getInfo()['bands'][0]['crs'])\n",
    "print(a)"
   ]
  },
  {
   "cell_type": "markdown",
   "id": "870b45fe",
   "metadata": {},
   "source": [
    "# sentinel2"
   ]
  },
  {
   "cell_type": "code",
   "execution_count": null,
   "id": "010bc91e",
   "metadata": {
    "ExecuteTime": {
     "start_time": "2021-11-15T06:09:15.632Z"
    }
   },
   "outputs": [],
   "source": [
    "# 20200427T030539_20200427T031145_T49REQ\n",
    "# 20200427T030539_20200427T031145_T49REP\n",
    "# 20200427T030539_20200427T031145_T49REN\n",
    "# sentinel-2数据\n",
    "\n",
    "def maskS2clouds(image):\n",
    "    qa = image.select('QA60')\n",
    "    cloudBitMask = 1 << 10\n",
    "    cirrusBitMask = 1 << 11\n",
    "    mask = qa.bitwiseAnd(cloudBitMask).eq(0) \\\n",
    "             .And(qa.bitwiseAnd(cirrusBitMask).eq(0))\n",
    "    return image.updateMask(mask).divide(10000)\n",
    "\n",
    "s2 = ee.Image('COPERNICUS/S2_SR/20200427T030539_20200427T031145_T49REP')\n",
    "Map.addLayer(s2.clip(bound), {'bands': ['B8', 'B11', 'B4'], 'min':0,'max': 3000}, 'S2')"
   ]
  },
  {
   "cell_type": "markdown",
   "id": "594ad8c0",
   "metadata": {},
   "source": [
    "# 去阴影"
   ]
  },
  {
   "cell_type": "code",
   "execution_count": null,
   "id": "b2eee324",
   "metadata": {
    "ExecuteTime": {
     "end_time": "2021-11-16T02:45:04.388189Z",
     "start_time": "2021-11-16T02:45:04.373372Z"
    }
   },
   "outputs": [],
   "source": [
    "elevation = ee.Image('USGS/SRTMGL1_003').select('elevation').clip(roi).reproject('EPSG:3857',None,30)\n",
    "def maskSR(img):\n",
    "    cloudShadowBitMask = (1 << 3)\n",
    "    cloudsBitMask = (1 << 5)\n",
    "    snowBitMask = (1 << 4)   \n",
    "    qa = img.select('pixel_qa')\n",
    "    mask = qa.bitwiseAnd(cloudShadowBitMask).eq(0) \\\n",
    "                   .And(qa.bitwiseAnd(cloudsBitMask).eq(0)) \\\n",
    "                   .And(qa.bitwiseAnd(snowBitMask).eq(0))\n",
    "    azimuth = img.get('SOLAR_AZIMUTH_ANGLE')\n",
    "    zenith = img.get('SOLAR_ZENITH_ANGLE')\n",
    "    image = img.lt(0)\n",
    "    bands = image.select('B2').add(image.select('B3')).add(image.select('B4')).add(image.select('B5')).add(image.select('B6')).add(image.select('B7'))\n",
    "    outlier = bands.gt(0).remap([0,1],[1,0]).rename('outlier')\n",
    "    return img.updateMask(mask).updateMask(ee.Terrain.hillShadow(elevation,azimuth,zenith,200,True)).updateMask(outlier)"
   ]
  },
  {
   "cell_type": "code",
   "execution_count": null,
   "id": "544cef3f",
   "metadata": {
    "ExecuteTime": {
     "end_time": "2021-11-16T02:45:06.830937Z",
     "start_time": "2021-11-16T02:45:06.205065Z"
    }
   },
   "outputs": [],
   "source": [
    "mask_image = maskSR(image)\n",
    "Map.addLayer(mask_image,visParams,'mask_image')"
   ]
  },
  {
   "cell_type": "code",
   "execution_count": null,
   "id": "622a122b",
   "metadata": {},
   "outputs": [],
   "source": []
  },
  {
   "cell_type": "code",
   "execution_count": null,
   "id": "5a41ca61",
   "metadata": {},
   "outputs": [],
   "source": []
  },
  {
   "cell_type": "code",
   "execution_count": null,
   "id": "61a21f9b",
   "metadata": {
    "ExecuteTime": {
     "end_time": "2021-11-16T02:34:16.940717Z",
     "start_time": "2021-11-16T02:34:16.502728Z"
    },
    "scrolled": true
   },
   "outputs": [],
   "source": [
    "azimuth = image.get('SOLAR_AZIMUTH_ANGLE')\n",
    "zenith = image.get('SOLAR_ZENITH_ANGLE')\n",
    "DEM_Mercator = ee.Image('USGS/SRTMGL1_003').select('elevation').reproject('EPSG:3857',None,30)\n",
    "Shadow_pro=ee.Terrain.hillShadow(DEM_Mercator,azimuth,zenith,200,True)\n",
    "# Map.addLayer(Shadow_pro.remap([0,1],[1,0]).selfMask(),{'palette':['red']},'Shadow_pro')\n",
    "Map.addLayer(image.updateMask(Shadow_pro),visParams,'Shadow_pro200')"
   ]
  },
  {
   "cell_type": "code",
   "execution_count": null,
   "id": "0391beef",
   "metadata": {
    "ExecuteTime": {
     "end_time": "2021-11-15T08:08:28.012980Z",
     "start_time": "2021-11-15T08:08:27.559749Z"
    }
   },
   "outputs": [],
   "source": [
    "azimuth = image.get('SOLAR_AZIMUTH_ANGLE')\n",
    "zenith = image.get('SOLAR_ZENITH_ANGLE')\n",
    "hillshade = ee.Terrain.hillshade(ee.Image('USGS/SRTMGL1_003').select('elevation').clip(image.geometry()),azimuth,zenith)\n",
    "Map.addLayer(hillshade,{},'hillshade')\n",
    "\n",
    "shade = hillshade.eq(0)\n",
    "Map.addLayer(shade.selfMask(),{'palette':['blue']},'shade')"
   ]
  },
  {
   "cell_type": "code",
   "execution_count": null,
   "id": "e7891cf1",
   "metadata": {
    "ExecuteTime": {
     "end_time": "2021-11-15T08:11:11.270980Z",
     "start_time": "2021-11-15T08:11:10.791868Z"
    }
   },
   "outputs": [],
   "source": [
    "# ee.Algorithms.HillShadow\n",
    "DEM_Mercator_nopro = ee.Image('USGS/SRTMGL1_003').select('elevation').clip(image.geometry()).reproject('EPSG:3857',None,30)\n",
    "Shadow_nopro = ee.Algorithms.HillShadow(DEM_Mercator_nopro,azimuth,zenith,200)\n",
    "Map.addLayer(Shadow_nopro.remap([0,1],[1,0]).selfMask(),{'palette':['red']},'Shadow_1')\n",
    "# Map.addLayer(image.updateMask(Shadow_nopro),visParams,'Shadow_nopro')"
   ]
  },
  {
   "cell_type": "code",
   "execution_count": null,
   "id": "47c74680",
   "metadata": {},
   "outputs": [],
   "source": []
  },
  {
   "cell_type": "code",
   "execution_count": null,
   "id": "46dcf9ea",
   "metadata": {
    "ExecuteTime": {
     "end_time": "2021-11-16T02:34:08.581817Z",
     "start_time": "2021-11-16T02:34:08.351381Z"
    }
   },
   "outputs": [],
   "source": [
    "# 最终版\n",
    "DEM_Mercator_nopro = ee.Image('USGS/SRTMGL1_003').select('elevation').clip(image.geometry()).reproject('EPSG:3857',None,30)\n",
    "Shadow_nopro = ee.Terrain.hillShadow(DEM_Mercator_nopro,azimuth,zenith,200,True)\n",
    "Map.addLayer(Shadow_nopro.remap([0,1],[1,0]).selfMask(),{'palette':['red']},'Shadow_1')"
   ]
  },
  {
   "cell_type": "code",
   "execution_count": null,
   "id": "c1330148",
   "metadata": {},
   "outputs": [],
   "source": []
  }
 ],
 "metadata": {
  "hide_input": false,
  "kernelspec": {
   "display_name": "Python 3 (ipykernel)",
   "language": "python",
   "name": "python3"
  },
  "language_info": {
   "codemirror_mode": {
    "name": "ipython",
    "version": 3
   },
   "file_extension": ".py",
   "mimetype": "text/x-python",
   "name": "python",
   "nbconvert_exporter": "python",
   "pygments_lexer": "ipython3",
   "version": "3.8.5"
  },
  "toc": {
   "base_numbering": 1,
   "nav_menu": {},
   "number_sections": true,
   "sideBar": true,
   "skip_h1_title": false,
   "title_cell": "Table of Contents",
   "title_sidebar": "Contents",
   "toc_cell": false,
   "toc_position": {},
   "toc_section_display": true,
   "toc_window_display": false
  },
  "varInspector": {
   "cols": {
    "lenName": 16,
    "lenType": 16,
    "lenVar": 40
   },
   "kernels_config": {
    "python": {
     "delete_cmd_postfix": "",
     "delete_cmd_prefix": "del ",
     "library": "var_list.py",
     "varRefreshCmd": "print(var_dic_list())"
    },
    "r": {
     "delete_cmd_postfix": ") ",
     "delete_cmd_prefix": "rm(",
     "library": "var_list.r",
     "varRefreshCmd": "cat(var_dic_list()) "
    }
   },
   "types_to_exclude": [
    "module",
    "function",
    "builtin_function_or_method",
    "instance",
    "_Feature"
   ],
   "window_display": false
  }
 },
 "nbformat": 4,
 "nbformat_minor": 5
}
