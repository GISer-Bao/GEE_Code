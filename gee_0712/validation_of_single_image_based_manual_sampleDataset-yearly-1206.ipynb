{
 "cells": [
  {
   "cell_type": "code",
   "execution_count": 1,
   "metadata": {
    "ExecuteTime": {
     "end_time": "2022-04-06T12:56:18.738448Z",
     "start_time": "2022-04-06T12:56:18.729252Z"
    }
   },
   "outputs": [],
   "source": [
    "import os\n",
    "os.environ['HTTP_PROXY'] = \"http://127.0.0.1:10809\"\n",
    "os.environ['HTTPS_PROXY'] = \"http://127.0.0.1:10809\""
   ]
  },
  {
   "cell_type": "code",
   "execution_count": 2,
   "metadata": {
    "ExecuteTime": {
     "end_time": "2022-04-06T12:56:25.104706Z",
     "start_time": "2022-04-06T12:56:19.095779Z"
    },
    "scrolled": false
   },
   "outputs": [
    {
     "data": {
      "application/vnd.jupyter.widget-view+json": {
       "model_id": "1297e805d23b428db5efd0a14853249a",
       "version_major": 2,
       "version_minor": 0
      },
      "text/plain": [
       "Map(center=[20, 0], controls=(WidgetControl(options=['position', 'transparent_bg'], widget=HBox(children=(Togg…"
      ]
     },
     "metadata": {},
     "output_type": "display_data"
    }
   ],
   "source": [
    "import geemap\n",
    "import ee\n",
    "Map=geemap.Map()\n",
    "Map"
   ]
  },
  {
   "cell_type": "code",
   "execution_count": 15,
   "metadata": {
    "ExecuteTime": {
     "end_time": "2022-04-06T12:58:46.837902Z",
     "start_time": "2022-04-06T12:58:46.118849Z"
    }
   },
   "outputs": [],
   "source": [
    "## 大庆市\n",
    "# roi = ee.Geometry.Rectangle([123.9355, 45.8362,125.3055, 46.8762])\n",
    "## 天津市\n",
    "# roi = ee.Geometry.Rectangle([115.9244, 38.6272,117.4944,39.6372])\n",
    "## 武汉市\n",
    "# roi = ee.Geometry.Rectangle([113.7393, 29.8642,115.0993, 30.9242])\n",
    "## 珠三角\n",
    "# roi = ee.Geometry.Rectangle([112.7614, 22.2347,114.0514, 23.2547])\n",
    "## 青藏高原\n",
    "roi = ee.Geometry.Rectangle([89.8826, 34.6579,91.3626, 35.8279])\n",
    "Map.addLayer(roi, {}, \"roi\")\n",
    "Map.centerObject(roi,7)"
   ]
  },
  {
   "cell_type": "code",
   "execution_count": 16,
   "metadata": {
    "ExecuteTime": {
     "end_time": "2022-04-06T12:58:47.231475Z",
     "start_time": "2022-04-06T12:58:47.216198Z"
    }
   },
   "outputs": [],
   "source": [
    "# region = 'daqing'\n",
    "# sample_region = 'DAQING'\n",
    "# region = 'tianjin'\n",
    "# sample_region = 'TIANJIN'\n",
    "# region = 'wuhan'\n",
    "# sample_region = 'WUHAN'\n",
    "# region = 'prd'\n",
    "# sample_region = 'PRD'\n",
    "region = 'tibet'\n",
    "sample_region = 'TIBET'"
   ]
  },
  {
   "cell_type": "code",
   "execution_count": 17,
   "metadata": {
    "ExecuteTime": {
     "end_time": "2022-04-06T12:58:47.639291Z",
     "start_time": "2022-04-06T12:58:47.626300Z"
    }
   },
   "outputs": [],
   "source": [
    "elevation = ee.Image(\"users/311605001111/hillshade_\" + region)\n",
    "def maskSR(img):\n",
    "    cloudShadowBitMask = (1 << 3)\n",
    "    cloudsBitMask = (1 << 5)\n",
    "    snowBitMask = (1 << 4)   \n",
    "    qa = img.select('pixel_qa')\n",
    "    mask = qa.bitwiseAnd(cloudShadowBitMask).eq(0) \\\n",
    "                   .And(qa.bitwiseAnd(cloudsBitMask).eq(0)) \\\n",
    "                   .And(qa.bitwiseAnd(snowBitMask).eq(0))\n",
    "    azimuth = img.get('SOLAR_AZIMUTH_ANGLE')\n",
    "    zenith = img.get('SOLAR_ZENITH_ANGLE')\n",
    "    image = img.lt(0)\n",
    "    bands = image.select('B2').add(image.select('B3')).add(image.select('B4')).add(image.select('B5')).add(image.select('B6')).add(image.select('B7'))\n",
    "    outlier = bands.gt(0).remap([0,1],[1,0]).rename('outlier')\n",
    "    return img.updateMask(mask).updateMask(ee.Terrain.hillShadow(elevation,azimuth,zenith,200,True)).updateMask(outlier)\n",
    "\n",
    "# 图像可视化参数\n",
    "visParams = {'bands': ['B5', 'B6', 'B4'],'min': 0,'max': 3000,'gamma': 1.4}\n",
    "\n",
    "## 指数的计算\n",
    "# AWEI(自动水体提取指数): AWEIsh = B2 + 2.5B3 - 1.5(B5+B6) - 0.25B7\n",
    "def water_index(img):\n",
    "    image = ee.Image(img).clip(roi)\n",
    "    ndvi=image.normalizedDifference(['B5', 'B4']).rename('NDVI')\n",
    "    ndwi=image.normalizedDifference(['B3', 'B5']).rename(\"NDWI\")\n",
    "    mndwi=image.normalizedDifference(['B3', 'B6']).rename(\"mNDWI\")\n",
    "    ndvi_mndwi = ndvi.subtract(mndwi).rename('ndvi_mndwi')\n",
    "    cwi=image.select('B3').divide(image.select('B6')).rename(\"CWI\")\n",
    "    awei = image.expression('B2 + 2.5*B3 - 1.5*(B5+B6) - 0.25*B7',\n",
    "        {\n",
    "          'B2': image.select('B2'),\n",
    "          'B3': image.select('B3'),    \n",
    "          'B5': image.select('B5'),    \n",
    "          'B6': image.select('B6'),\n",
    "          'B7': image.select('B7'),\n",
    "        }).rename('AWEI')\n",
    "    ewi = image.expression('(B3 - B5 - B6)/(B3 + B5 + B6)',\n",
    "        {\n",
    "          'B3': image.select('B3'),    \n",
    "          'B5': image.select('B5'),    \n",
    "          'B6': image.select('B6'),\n",
    "        }).rename('EWI')\n",
    "    evi = image.expression('2.5*(B5 - B4)/(B5 + 6*B4 - 7.5*B2 + 1)',\n",
    "        {\n",
    "          'B2': image.select('B2'),\n",
    "          'B4': image.select('B4'),\n",
    "          'B5': image.select('B5'),    \n",
    "        }).rename('EVI')\n",
    "    return image.addBands(ndvi).addBands(ndwi).addBands(mndwi).addBands(cwi).addBands(awei).addBands(ewi).addBands(evi).addBands(ndvi_mndwi)"
   ]
  },
  {
   "cell_type": "code",
   "execution_count": 18,
   "metadata": {
    "ExecuteTime": {
     "end_time": "2022-04-06T12:58:51.789669Z",
     "start_time": "2022-04-06T12:58:48.099579Z"
    }
   },
   "outputs": [
    {
     "name": "stdout",
     "output_type": "stream",
     "text": [
      "2000\n",
      "manual-sample number:1279\n",
      "2015\n",
      "manual-sample number:2258\n",
      "2020\n",
      "manual-sample number:2424\n"
     ]
    }
   ],
   "source": [
    "# TIME = [['2000'],['2005'],['2010'],['2015'],['2020']]\n",
    "TIME = [['2000'],['2015'],['2020']]\n",
    "# TIME = [['2020']]\n",
    "for time in TIME:\n",
    "    print(time[0])\n",
    "    ## 导入人工采集的样本\n",
    "    manual_samples1 = ee.FeatureCollection('users/311605001111/manual_samples/' + sample_region +'_' + time[0] + 'merge')\n",
    "    # print(manual_samples1.size().getInfo())\n",
    "    manual_samples2 = ee.FeatureCollection('users/311605001111/manual_samples/' + region +'_supply_' + time[0])\n",
    "    manual_samples = ee.FeatureCollection([manual_samples1,manual_samples2]).flatten()\n",
    "    print('manual-sample number:{}'.format(manual_samples.size().getInfo()))\n",
    "    \n",
    "    dataset_id = sample_region + '_' + time[0]\n",
    "    assetID = 'users/311605001111/manual_samples/' + dataset_id\n",
    "    task = ee.batch.Export.table.toAsset(**{\n",
    "        'collection': manual_samples,\n",
    "        'description': dataset_id,\n",
    "        'assetId': assetID\n",
    "    })\n",
    "    task.start()"
   ]
  },
  {
   "cell_type": "code",
   "execution_count": null,
   "metadata": {},
   "outputs": [],
   "source": []
  },
  {
   "cell_type": "code",
   "execution_count": null,
   "metadata": {},
   "outputs": [],
   "source": []
  },
  {
   "cell_type": "markdown",
   "metadata": {},
   "source": [
    "# 循环"
   ]
  },
  {
   "cell_type": "code",
   "execution_count": null,
   "metadata": {
    "ExecuteTime": {
     "end_time": "2022-04-06T12:46:29.842659Z",
     "start_time": "2022-04-06T12:46:29.822713Z"
    }
   },
   "outputs": [],
   "source": [
    "def image_accuracy(img):\n",
    "    image = maskSR(water_index(img)).select(bands).classify(trainedClassifier).eq(1).rename('waterclass')\n",
    "    manual_point = manual_samples.filter(ee.Filter.eq('Image_id',img.get('system:id'))).map(lambda i : i.centroid())\n",
    "    inter_points = image.sampleRegions(**{\n",
    "        'collection': manual_point,\n",
    "        'properties': ['label'],\n",
    "        'scale': 30,\n",
    "        'geometries': True,\n",
    "    })\n",
    "    inter_samples = inter_points.map(lambda i : i.setMulti({'Image_id':img.get('system:id')}))\n",
    "    return inter_samples\n",
    "\n",
    "# def removeProperty(feat):\n",
    "#     selectProperties = ee.Feature(feat).propertyNames().filter(ee.Filter.neq('item', 'random')).filter(ee.Filter.neq('item', 'waterclass'))  \n",
    "#     return feat.select(selectProperties)\n",
    "def removeProperty(feat):\n",
    "    selectProperties = ee.Feature(feat).propertyNames().filter(ee.Filter.neq('item', 'random'))\n",
    "    return feat.select(selectProperties)"
   ]
  },
  {
   "cell_type": "code",
   "execution_count": null,
   "metadata": {
    "ExecuteTime": {
     "end_time": "2022-04-06T10:42:48.408523Z",
     "start_time": "2022-04-06T10:42:16.323052Z"
    }
   },
   "outputs": [],
   "source": [
    "# TIME = [['2000','0105'],['2005','0105'],['2010','0610'],['2015','1115'],['2020','1620']]\n",
    "TIME = [['2000'],['2005'],['2010'],['2015'],['2020']]\n",
    "# TIME = [['2000'],['2015'],['2020']]\n",
    "# TIME = [['2020']]\n",
    "for time in TIME:\n",
    "    print(time[0])\n",
    "    ## 导入人工采集的样本\n",
    "    # manual_samples1 = ee.FeatureCollection('users/311605001111/manual_samples/' + sample_region +'_' + time[0] + 'merge')\n",
    "    # print(manual_samples1.size().getInfo())\n",
    "    # manual_samples2 = ee.FeatureCollection('users/311605001111/manual_samples/' + region +'_supply_' + time[0])\n",
    "    # manual_samples = ee.FeatureCollection([manual_samples1,manual_samples2]).flatten()\n",
    "    \n",
    "    manual_samples = ee.FeatureCollection('users/311605001111/manual_samples/' + sample_region +'_' + time[0] + 'merge')\n",
    "    print('manual-sample number:{}'.format(manual_samples.size().getInfo()))\n",
    "\n",
    "    # 图像集，image_col\n",
    "    image_id = ee.List(manual_samples.distinct('Image_id').aggregate_array('Image_id'))\n",
    "    image_set = ee.List([])\n",
    "    for i in image_id.getInfo():\n",
    "        if 'LT05' in i:\n",
    "            image_set = image_set.add(ee.Image(str(i)).select(['B1', 'B2', 'B3', 'B4', 'B5', 'B7','pixel_qa'],['B2', 'B3', 'B4', 'B5', 'B6', 'B7','pixel_qa']))\n",
    "        elif 'LE07' in i:\n",
    "            image_set = image_set.add(ee.Image(str(i)).select(['B1', 'B2', 'B3', 'B4', 'B5', 'B7','pixel_qa'],['B2', 'B3', 'B4', 'B5', 'B6', 'B7','pixel_qa']))\n",
    "        else:\n",
    "            image_set = image_set.add(ee.Image(str(i)).select(['B2', 'B3', 'B4', 'B5', 'B6', 'B7','pixel_qa']))\n",
    "    image_col = ee.ImageCollection(image_set)\n",
    "    ## 导入自动采集的样本\n",
    "    auto_samples = ee.FeatureCollection('users/311605001111/SAMPLE_' + sample_region + '/' + region + '_kmean100_9920_v2')\n",
    "    print('auto-sample number:{}'.format(auto_samples.size().getInfo()))\n",
    "    label = 'waterclass'\n",
    "    bands = ['B2', 'B3', 'B4', 'B5', 'B6', 'B7','NDVI','NDWI','mNDWI','CWI','AWEI','EWI','EVI']\n",
    "    trainedClassifier = ee.Classifier.smileRandomForest(150).train(auto_samples,label,bands)\n",
    "    samples_dataset = image_col.map(image_accuracy).flatten()\n",
    "    # 利用误差矩阵进行验证\n",
    "    test_accuracy = samples_dataset.errorMatrix('label', 'waterclass')\n",
    "    print(test_accuracy.getInfo())\n",
    "    print('total accuracy:{}'.format(test_accuracy.accuracy().getInfo()))\n",
    "    print('kappa:{}'.format(test_accuracy.kappa().getInfo()))    \n",
    "    \n",
    "#     water = samples_dataset.filter(ee.Filter.eq('label',1)).randomColumn('random').sort('random').limit(200)\n",
    "#     no_water = samples_dataset.filter(ee.Filter.eq('label',0)).randomColumn('random').sort('random').limit(800)\n",
    "#     com_SamplePoints = ee.FeatureCollection([water,no_water]).flatten()\n",
    "#     test_accuracy = com_SamplePoints.errorMatrix('label', 'waterclass')\n",
    "#     print(test_accuracy.getInfo())\n",
    "#     print('total accuracy:{}'.format(test_accuracy.accuracy().getInfo()))\n",
    "#     print('kappa:{}'.format(test_accuracy.kappa().getInfo()))\n"
   ]
  },
  {
   "cell_type": "code",
   "execution_count": null,
   "metadata": {},
   "outputs": [],
   "source": []
  },
  {
   "cell_type": "code",
   "execution_count": null,
   "metadata": {},
   "outputs": [],
   "source": []
  },
  {
   "cell_type": "code",
   "execution_count": null,
   "metadata": {
    "ExecuteTime": {
     "start_time": "2022-04-06T09:18:21.014Z"
    }
   },
   "outputs": [],
   "source": [
    "## 情况一\n",
    "# TIME = [['2000','0105'],['2005','0105'],['2010','0610'],['2015','1115'],['2020','1620']]\n",
    "# TIME = [['2000'],['2005'],['2010'],['2015'],['2020']]\n",
    "TIME = ['2000','2005','2010','2015','2020']\n",
    "for time in TIME:\n",
    "    print(time)\n",
    "    ## 导入人工采集的样本\n",
    "    manual_samples = ee.FeatureCollection('users/311605001111/manual_samples/' + sample_region +'_' + time + 'merge')\n",
    "    print('manual-sample number:{}'.format(manual_samples.size().getInfo()))\n",
    "    # 图像集，image_col\n",
    "    image_id = ee.List(manual_samples.distinct('Image_id').aggregate_array('Image_id'))\n",
    "    image_set = ee.List([])\n",
    "    for i in image_id.getInfo():\n",
    "        if 'LT05' in i:\n",
    "            image_set = image_set.add(ee.Image(str(i)).select(['B1', 'B2', 'B3', 'B4', 'B5', 'B7','pixel_qa'],['B2', 'B3', 'B4', 'B5', 'B6', 'B7','pixel_qa']))\n",
    "        elif 'LE07' in i:\n",
    "            image_set = image_set.add(ee.Image(str(i)).select(['B1', 'B2', 'B3', 'B4', 'B5', 'B7','pixel_qa'],['B2', 'B3', 'B4', 'B5', 'B6', 'B7','pixel_qa']))\n",
    "        else:\n",
    "            image_set = image_set.add(ee.Image(str(i)).select(['B2', 'B3', 'B4', 'B5', 'B6', 'B7','pixel_qa']))\n",
    "    image_col = ee.ImageCollection(image_set)\n",
    "    ## 导入自动采集的样本\n",
    "    auto_samples = ee.FeatureCollection('users/311605001111/SAMPLE_' + sample_region + '/' + region + '_kmean100_9920_v2')\n",
    "    print('auto-sample number:{}'.format(auto_samples.size().getInfo()))\n",
    "    label = 'waterclass'\n",
    "    bands = ['B2', 'B3', 'B4', 'B5', 'B6', 'B7','NDVI','NDWI','mNDWI','CWI','AWEI','EWI','EVI']\n",
    "    trainedClassifier = ee.Classifier.smileRandomForest(150).train(auto_samples,label,bands)\n",
    "    samples_dataset = image_col.map(image_accuracy).flatten()\n",
    "    # 利用误差矩阵进行验证\n",
    "    water = samples_dataset.filter(ee.Filter.eq('label',1)).randomColumn('random').sort('random').limit(200)\n",
    "    no_water = samples_dataset.filter(ee.Filter.eq('label',0)).randomColumn('random').sort('random').limit(800)\n",
    "    com_SamplePoints = ee.FeatureCollection([water,no_water]).flatten()\n",
    "    test_accuracy = com_SamplePoints.errorMatrix('label', 'waterclass')\n",
    "    print(test_accuracy.getInfo())\n",
    "    print('total accuracy:{}'.format(test_accuracy.accuracy().getInfo()))\n",
    "    print('kappa:{}'.format(test_accuracy.kappa().getInfo()))\n",
    "    dataset_id = sample_region + time\n",
    "    assetID = 'users/311605001111/man_samples_1000' + '/' + dataset_id\n",
    "    task = ee.batch.Export.table.toAsset(**{\n",
    "        'collection': com_SamplePoints.map(removeProperty),\n",
    "        'description': dataset_id,\n",
    "        'assetId': assetID\n",
    "    })\n",
    "    task.start()\n"
   ]
  },
  {
   "cell_type": "code",
   "execution_count": null,
   "metadata": {
    "ExecuteTime": {
     "start_time": "2022-04-06T09:18:21.383Z"
    }
   },
   "outputs": [],
   "source": [
    "## 情况二\n",
    "# TIME = [['2000','0105'],['2005','0105'],['2010','0610'],['2015','1115'],['2020','1620']]\n",
    "# TIME = ['2000','2005','2010','2015','2020']\n",
    "TIME = ['2005']\n",
    "for time in TIME:\n",
    "    print(time)\n",
    "    ## 导入人工采集的样本\n",
    "    manual_samples = ee.FeatureCollection('users/311605001111/manual_samples/' + sample_region +'_' + time + 'merge')\n",
    "    print('manual-sample number:{}'.format(manual_samples.size().getInfo()))\n",
    "    # 图像集，image_col\n",
    "    image_id = ee.List(manual_samples.distinct('Image_id').aggregate_array('Image_id'))\n",
    "    image_set = ee.List([])\n",
    "    for i in image_id.getInfo():\n",
    "        if 'LT05' in i:\n",
    "            image_set = image_set.add(ee.Image(str(i)).select(['B1', 'B2', 'B3', 'B4', 'B5', 'B7','pixel_qa'],['B2', 'B3', 'B4', 'B5', 'B6', 'B7','pixel_qa']))\n",
    "        elif 'LE07' in i:\n",
    "            image_set = image_set.add(ee.Image(str(i)).select(['B1', 'B2', 'B3', 'B4', 'B5', 'B7','pixel_qa'],['B2', 'B3', 'B4', 'B5', 'B6', 'B7','pixel_qa']))\n",
    "        else:\n",
    "            image_set = image_set.add(ee.Image(str(i)).select(['B2', 'B3', 'B4', 'B5', 'B6', 'B7','pixel_qa']))\n",
    "    image_col = ee.ImageCollection(image_set)\n",
    "    ## 导入自动采集的样本\n",
    "    auto_samples = ee.FeatureCollection('users/311605001111/SAMPLE_' + sample_region + '/' + region + '_kmean100_9920_v2')\n",
    "    print('auto-sample number:{}'.format(auto_samples.size().getInfo()))\n",
    "    label = 'waterclass'\n",
    "    bands = ['B2', 'B3', 'B4', 'B5', 'B6', 'B7','NDVI','NDWI','mNDWI','CWI','AWEI','EWI','EVI']\n",
    "    trainedClassifier = ee.Classifier.smileRandomForest(150).train(auto_samples,label,bands)\n",
    "    samples_dataset = image_col.map(image_accuracy).flatten()\n",
    "    # 利用误差矩阵进行验证\n",
    "    diff_water = samples_dataset.filter(ee.Filter.eq('label',1)).filter(ee.Filter.eq('waterclass',0))\n",
    "    diff_nowater = samples_dataset.filter(ee.Filter.eq('label',0)).filter(ee.Filter.eq('waterclass',1))\n",
    "    cor_water = samples_dataset.filter(ee.Filter.eq('label',1)).filter(ee.Filter.eq('waterclass',1)).randomColumn('random').sort('random').limit(200-diff_water.size().getInfo())\n",
    "    cor_nowater = samples_dataset.filter(ee.Filter.eq('label',0)).filter(ee.Filter.eq('waterclass',0)).randomColumn('random').sort('random').limit(800-diff_nowater.size().getInfo())\n",
    "    total_samples = ee.FeatureCollection([diff_water,diff_nowater,cor_water,cor_nowater]).flatten()\n",
    "    test_accuracy = total_samples.errorMatrix('label', 'waterclass')\n",
    "    print(test_accuracy.getInfo())\n",
    "    print('total accuracy:{}'.format(test_accuracy.accuracy().getInfo()))\n",
    "    print('kappa:{}'.format(test_accuracy.kappa().getInfo()))\n",
    "    dataset_id = sample_region + time\n",
    "    assetID = 'users/311605001111/man_samples_1000' + '/' + dataset_id\n",
    "    task = ee.batch.Export.table.toAsset(**{\n",
    "        'collection': total_samples.map(removeProperty),\n",
    "        'description': dataset_id,\n",
    "        'assetId': assetID\n",
    "    })\n",
    "    task.start()"
   ]
  },
  {
   "cell_type": "code",
   "execution_count": null,
   "metadata": {},
   "outputs": [],
   "source": []
  },
  {
   "cell_type": "markdown",
   "metadata": {
    "heading_collapsed": true
   },
   "source": [
    "# 异常点"
   ]
  },
  {
   "cell_type": "code",
   "execution_count": null,
   "metadata": {
    "ExecuteTime": {
     "end_time": "2021-12-29T14:46:58.759069Z",
     "start_time": "2021-12-29T14:46:41.591657Z"
    },
    "hidden": true
   },
   "outputs": [],
   "source": [
    "time = '2005'\n",
    "\n",
    "manual_samples = ee.FeatureCollection('users/311605001111/manual_samples/' + sample_region +'_' + time + 'merge')\n",
    "print('manual-sample number:{}'.format(manual_samples.size().getInfo()))\n",
    "# 图像集，image_col\n",
    "image_id = ee.List(manual_samples.distinct('Image_id').aggregate_array('Image_id'))\n",
    "image_set = ee.List([])\n",
    "for i in image_id.getInfo():\n",
    "    if 'LT05' in i:\n",
    "        image_set = image_set.add(ee.Image(str(i)).select(['B1', 'B2', 'B3', 'B4', 'B5', 'B7','pixel_qa'],['B2', 'B3', 'B4', 'B5', 'B6', 'B7','pixel_qa']))\n",
    "    elif 'LE07' in i:\n",
    "        image_set = image_set.add(ee.Image(str(i)).select(['B1', 'B2', 'B3', 'B4', 'B5', 'B7','pixel_qa'],['B2', 'B3', 'B4', 'B5', 'B6', 'B7','pixel_qa']))\n",
    "    else:\n",
    "        image_set = image_set.add(ee.Image(str(i)).select(['B2', 'B3', 'B4', 'B5', 'B6', 'B7','pixel_qa']))\n",
    "image_col = ee.ImageCollection(image_set)\n",
    "## 导入自动采集的样本\n",
    "auto_samples = ee.FeatureCollection('users/311605001111/SAMPLE_' + sample_region + '/' + region + '_kmean100_9920_v2')\n",
    "print('auto-sample number:{}'.format(auto_samples.size().getInfo()))\n",
    "label = 'waterclass'\n",
    "bands = ['B2', 'B3', 'B4', 'B5', 'B6', 'B7','NDVI','NDWI','mNDWI','CWI','AWEI','EWI','EVI']\n",
    "trainedClassifier = ee.Classifier.smileRandomForest(150).train(auto_samples,label,bands)\n",
    "samples_dataset = image_col.map(image_accuracy).flatten()\n",
    "# 利用误差矩阵进行验证\n",
    "water = samples_dataset.filter(ee.Filter.eq('label',1)).randomColumn('random',1,'uniform').sort('random').limit(200)\n",
    "no_water = samples_dataset.filter(ee.Filter.eq('label',0)).randomColumn('random',1,'uniform').sort('random').limit(800)\n",
    "com_SamplePoints = ee.FeatureCollection([water,no_water]).flatten()\n",
    "test_accuracy = com_SamplePoints.errorMatrix('label', 'waterclass')\n",
    "print(test_accuracy.getInfo())\n",
    "print('total accuracy:{}'.format(test_accuracy.accuracy().getInfo()))\n",
    "print('kappa:{}'.format(test_accuracy.kappa().getInfo()))\n",
    "test_accuracy = samples_dataset.errorMatrix('label', 'waterclass')\n",
    "print(test_accuracy.getInfo())\n",
    "print('total accuracy:{}'.format(test_accuracy.accuracy().getInfo()))\n",
    "print('kappa:{}'.format(test_accuracy.kappa().getInfo()))"
   ]
  },
  {
   "cell_type": "code",
   "execution_count": null,
   "metadata": {
    "ExecuteTime": {
     "end_time": "2021-12-29T14:47:12.805927Z",
     "start_time": "2021-12-29T14:47:06.223398Z"
    },
    "hidden": true
   },
   "outputs": [],
   "source": [
    "manual_samples = ee.FeatureCollection('users/311605001111/manual_samples/' + sample_region +'_' + time + 'merge')\n",
    "id_col = ee.List(manual_samples.distinct('Image_id').aggregate_array('Image_id'))\n",
    "print(id_col.getInfo())\n",
    "for i in id_col.getInfo():\n",
    "    print(i)\n",
    "    diff_water = samples_dataset.filter(ee.Filter.eq('label',1)).filter(ee.Filter.eq('waterclass',0))\n",
    "    diff_nowater = samples_dataset.filter(ee.Filter.eq('label',0)).filter(ee.Filter.eq('waterclass',1))\n",
    "    all_outlier = ee.FeatureCollection([diff_water,diff_nowater]).flatten()\n",
    "    outlier = all_outlier.filter(ee.Filter.eq('Image_id',i))\n",
    "    print(outlier.size().getInfo())"
   ]
  },
  {
   "cell_type": "code",
   "execution_count": null,
   "metadata": {
    "ExecuteTime": {
     "end_time": "2021-12-29T14:47:47.213888Z",
     "start_time": "2021-12-29T14:47:45.238911Z"
    },
    "hidden": true,
    "scrolled": false
   },
   "outputs": [],
   "source": [
    "diff_water = samples_dataset.filter(ee.Filter.eq('label',1)).filter(ee.Filter.eq('waterclass',0))\n",
    "diff_nowater = samples_dataset.filter(ee.Filter.eq('label',0)).filter(ee.Filter.eq('waterclass',1))\n",
    "all_outlier = ee.FeatureCollection([diff_water,diff_nowater]).flatten()\n",
    "outlier = all_outlier.filter(ee.Filter.eq('Image_id','LANDSAT/LT05/C01/T1_SR/LT05_119028_20050713')).map(lambda i : i.centroid())\n",
    "print(outlier.size().getInfo())\n",
    "print(outlier.getInfo())"
   ]
  },
  {
   "cell_type": "code",
   "execution_count": null,
   "metadata": {
    "ExecuteTime": {
     "end_time": "2021-12-29T14:49:15.818885Z",
     "start_time": "2021-12-29T14:49:15.031465Z"
    },
    "hidden": true
   },
   "outputs": [],
   "source": [
    "task = ee.batch.Export.table.toDrive(**{\n",
    "    'collection': ee.FeatureCollection(outlier),\n",
    "    'description':'outlier',\n",
    "    'folder':'qq',\n",
    "    'fileFormat': 'shp',\n",
    "    'selectors':['label','Image_id']\n",
    "})\n",
    "task.start()"
   ]
  },
  {
   "cell_type": "code",
   "execution_count": null,
   "metadata": {
    "hidden": true
   },
   "outputs": [],
   "source": [
    "# LC08_122044_20201202\n",
    "[113.44828144105588, 23.11162081260809]\n",
    "[113.81352665544533, 22.96499602660751]\n",
    "[113.66542356355623, 22.86844354358508] \n",
    "[112.88283089228791, 22.409063926472744]\n",
    "[113.76768604046451, 23.154266767565872]\n",
    "[113.04889464681561, 23.170678206544128]\n",
    "\n",
    "# LC08_122044_20200828\n",
    "[112.89919260995767, 22.433796784823013]\n",
    "[113.76768604046451, 23.154266767565872]\n",
    "[112.9445469331655, 22.467933444907203]\n",
    "[113.21129997788758, 22.416550451733233]\n",
    "[113.43795458267364, 22.49995940023891]\n",
    "[112.97702456228362, 23.0245051963048]\n",
    "\n",
    "# LE07_122044_20200226\n",
    "[113.44798873260294, 23.111625356385463]\n",
    "[113.44798873260294, 23.111625356385463]\n",
    "[113.91624732089959, 22.376117488935375] \n",
    "[113.44798873260294, 23.111625356385463]\n",
    "[113.88793431073869, 22.54125771572865]\n"
   ]
  },
  {
   "cell_type": "markdown",
   "metadata": {
    "heading_collapsed": true
   },
   "source": [
    "# 分解"
   ]
  },
  {
   "cell_type": "markdown",
   "metadata": {
    "heading_collapsed": true,
    "hidden": true
   },
   "source": [
    "##  RF训练"
   ]
  },
  {
   "cell_type": "code",
   "execution_count": null,
   "metadata": {
    "ExecuteTime": {
     "end_time": "2021-12-06T13:54:01.363441Z",
     "start_time": "2021-12-06T13:54:01.355428Z"
    },
    "hidden": true
   },
   "outputs": [],
   "source": [
    "year = '2010'\n",
    "year_time = '0610'"
   ]
  },
  {
   "cell_type": "code",
   "execution_count": null,
   "metadata": {
    "ExecuteTime": {
     "end_time": "2021-12-06T13:54:04.001732Z",
     "start_time": "2021-12-06T13:54:02.026572Z"
    },
    "hidden": true,
    "scrolled": true
   },
   "outputs": [],
   "source": [
    "### 将人工选取样本的影像变成影像集\n",
    "## 导入人工采集的样本\n",
    "manual_samples = ee.FeatureCollection('users/311605001111/manual_samples/' + sample_region +'_' + year + 'merge')\n",
    "print('manual-sample number:{}'.format(manual_samples.size().getInfo()))\n",
    "# 水体的样本点数\n",
    "samplepoint_water = manual_samples.filter(ee.Filter.eq('label',1))\n",
    "print('water sample number:{}'.format(samplepoint_water.size().getInfo()))\n",
    "# 非水体的样本点数\n",
    "samplepoint_land = manual_samples.filter(ee.Filter.eq('label',0))\n",
    "print('nowater sample number:{}'.format(samplepoint_land.size().getInfo()))\n",
    "\n",
    "\n",
    "image_id = ee.List(manual_samples.distinct('Image_id').aggregate_array('Image_id'))\n",
    "image_set = ee.List([])\n",
    "for i in image_id.getInfo():\n",
    "    if 'LT05' in i:\n",
    "        image_set = image_set.add(ee.Image(str(i)).select(['B1', 'B2', 'B3', 'B4', 'B5', 'B7','pixel_qa'],['B2', 'B3', 'B4', 'B5', 'B6', 'B7','pixel_qa']))\n",
    "    elif 'LE07' in i:\n",
    "        image_set = image_set.add(ee.Image(str(i)).select(['B1', 'B2', 'B3', 'B4', 'B5', 'B7','pixel_qa'],['B2', 'B3', 'B4', 'B5', 'B6', 'B7','pixel_qa']))\n",
    "    else:\n",
    "        image_set = image_set.add(ee.Image(str(i)).select(['B2', 'B3', 'B4', 'B5', 'B6', 'B7','pixel_qa']))\n",
    "# 图像集，image_col\n",
    "image_col = ee.ImageCollection(image_set)\n",
    "print(image_col.aggregate_array('system:id').getInfo())"
   ]
  },
  {
   "cell_type": "code",
   "execution_count": null,
   "metadata": {
    "ExecuteTime": {
     "end_time": "2021-12-06T13:54:04.593843Z",
     "start_time": "2021-12-06T13:54:04.142132Z"
    },
    "hidden": true
   },
   "outputs": [],
   "source": [
    "## 导入自动采集的样本\n",
    "samples = ee.FeatureCollection('users/311605001111/SAMPLE_' + sample_region + '/' + region + '_kmean100_' + year_time)\n",
    "print('auto-sample number:{}'.format(samples.size().getInfo()))\n",
    "\n",
    "label = 'waterclass'\n",
    "bands = ['B2', 'B3', 'B4', 'B5', 'B6', 'B7','NDVI','NDWI','mNDWI','CWI','AWEI','EWI','EVI']\n",
    "auto_samples = samples\n",
    "trainedClassifier = ee.Classifier.smileRandomForest(150).train(auto_samples,label,bands)"
   ]
  },
  {
   "cell_type": "markdown",
   "metadata": {
    "heading_collapsed": true,
    "hidden": true
   },
   "source": [
    "##  精度验证函数"
   ]
  },
  {
   "cell_type": "code",
   "execution_count": null,
   "metadata": {
    "ExecuteTime": {
     "end_time": "2021-12-06T13:54:10.938973Z",
     "start_time": "2021-12-06T13:54:09.753525Z"
    },
    "hidden": true
   },
   "outputs": [],
   "source": [
    "def image_accuracy(img):\n",
    "    image = maskSR(water_index(img)).select(bands).classify(trainedClassifier).eq(1).rename('waterclass')\n",
    "    manual_point = manual_samples.filter(ee.Filter.eq('Image_id',img.get('system:id'))).map(lambda i : i.centroid())\n",
    "    inter_points = image.sampleRegions(**{\n",
    "        'collection': manual_point,\n",
    "        'properties': ['label'],\n",
    "        'scale': 30,\n",
    "        'geometries': True,\n",
    "    })\n",
    "    inter_samples = inter_points.map(lambda i : i.setMulti({'Image_id':img.get('system:id')}))\n",
    "    return inter_samples\n",
    "\n",
    "samples_dataset = image_col.map(image_accuracy).flatten()\n",
    "print(samples_dataset.size().getInfo())"
   ]
  },
  {
   "cell_type": "code",
   "execution_count": null,
   "metadata": {
    "ExecuteTime": {
     "end_time": "2021-12-06T13:54:24.548113Z",
     "start_time": "2021-12-06T13:54:12.735703Z"
    },
    "hidden": true,
    "scrolled": false
   },
   "outputs": [],
   "source": [
    "# 利用误差矩阵进行验证\n",
    "water = samples_dataset.filter(ee.Filter.eq('label',1)).randomColumn('random').sort('random').limit(200)\n",
    "no_water = samples_dataset.filter(ee.Filter.eq('label',0)).randomColumn('random').sort('random').limit(800)\n",
    "com_SamplePoints = ee.FeatureCollection([water,no_water]).flatten()\n",
    "test_accuracy = com_SamplePoints.errorMatrix('label', 'waterclass')\n",
    "print(test_accuracy.getInfo())\n",
    "print('total accuracy:{}'.format(test_accuracy.accuracy().getInfo()))\n",
    "print('kappa:{}'.format(test_accuracy.kappa().getInfo()))\n",
    "\n",
    "test_accuracy = samples_dataset.errorMatrix('label', 'waterclass')\n",
    "print(test_accuracy.getInfo())\n",
    "print('total accuracy:{}'.format(test_accuracy.accuracy().getInfo()))\n",
    "print('kappa:{}'.format(test_accuracy.kappa().getInfo()))"
   ]
  },
  {
   "cell_type": "code",
   "execution_count": null,
   "metadata": {
    "ExecuteTime": {
     "end_time": "2021-09-29T03:26:05.424403Z",
     "start_time": "2021-09-29T03:25:28.620787Z"
    },
    "hidden": true
   },
   "outputs": [],
   "source": [
    "# 利用误差矩阵进行验证\n",
    "diff_water = samples_dataset.filter(ee.Filter.eq('label',1)).filter(ee.Filter.eq('waterclass',0))\n",
    "diff_nowater = samples_dataset.filter(ee.Filter.eq('label',0)).filter(ee.Filter.eq('waterclass',1))\n",
    "cor_water = samples_dataset.filter(ee.Filter.eq('label',1)).filter(ee.Filter.eq('waterclass',1)).randomColumn('random').sort('random').limit(200-diff_water.size().getInfo())\n",
    "cor_nowater = samples_dataset.filter(ee.Filter.eq('label',0)).filter(ee.Filter.eq('waterclass',0)).randomColumn('random').sort('random').limit(800-diff_nowater.size().getInfo())\n",
    "total_samples = ee.FeatureCollection([diff_water,diff_nowater,cor_water,cor_nowater]).flatten()\n",
    "\n",
    "test_accuracy = total_samples.errorMatrix('label', 'waterclass')\n",
    "print(test_accuracy.getInfo())\n",
    "print('total accuracy:{}'.format(test_accuracy.accuracy().getInfo()))\n",
    "print('kappa:{}'.format(test_accuracy.kappa().getInfo()))"
   ]
  },
  {
   "cell_type": "code",
   "execution_count": null,
   "metadata": {
    "hidden": true
   },
   "outputs": [],
   "source": []
  },
  {
   "cell_type": "code",
   "execution_count": null,
   "metadata": {
    "hidden": true
   },
   "outputs": [],
   "source": []
  },
  {
   "cell_type": "markdown",
   "metadata": {
    "heading_collapsed": true
   },
   "source": [
    "# 附录"
   ]
  },
  {
   "cell_type": "code",
   "execution_count": null,
   "metadata": {
    "ExecuteTime": {
     "end_time": "2021-09-28T12:22:16.067969Z",
     "start_time": "2021-09-28T12:21:47.229088Z"
    },
    "hidden": true,
    "scrolled": true
   },
   "outputs": [],
   "source": [
    "a = samples_dataset.filter(ee.Filter.eq('label',0)).filter(ee.Filter.eq('waterclass',1))\n",
    "id = samples_dataset.filter(ee.Filter.eq('label',0)).filter(ee.Filter.eq('waterclass',1)).distinct('Image_id').aggregate_array('Image_id')\n",
    "\n",
    "for i in range(0,id.size().getInfo(),1):\n",
    "    print(id.get(i).getInfo())\n",
    "    print('total:',a.filter(ee.Filter.eq('Image_id',id.get(i))).size().getInfo())"
   ]
  },
  {
   "cell_type": "code",
   "execution_count": null,
   "metadata": {
    "ExecuteTime": {
     "end_time": "2021-09-28T02:56:41.554018Z",
     "start_time": "2021-09-28T02:56:05.922058Z"
    },
    "hidden": true
   },
   "outputs": [],
   "source": [
    "a = samples_dataset.filter(ee.Filter.eq('label',1)).filter(ee.Filter.eq('waterclass',0))\n",
    "id = samples_dataset.filter(ee.Filter.eq('label',1)).filter(ee.Filter.eq('waterclass',0)).distinct('Image_id').aggregate_array('Image_id')\n",
    "\n",
    "for i in range(0,id.size().getInfo(),1):\n",
    "    print(id.get(i).getInfo())\n",
    "    print('total:',a.filter(ee.Filter.eq('Image_id',id.get(i))).size().getInfo())"
   ]
  },
  {
   "cell_type": "code",
   "execution_count": null,
   "metadata": {
    "ExecuteTime": {
     "end_time": "2021-09-28T10:05:45.379433Z",
     "start_time": "2021-09-28T10:05:30.593024Z"
    },
    "hidden": true,
    "scrolled": true
   },
   "outputs": [],
   "source": [
    "q = a.filter(ee.Filter.eq('Image_id','LANDSAT/LT05/C01/T1_SR/LT05_122039_20051107'))\n",
    "print(q.size().getInfo())"
   ]
  },
  {
   "cell_type": "code",
   "execution_count": null,
   "metadata": {
    "ExecuteTime": {
     "end_time": "2021-09-28T10:07:25.306138Z",
     "start_time": "2021-09-28T10:07:24.281258Z"
    },
    "hidden": true
   },
   "outputs": [],
   "source": [
    "# shp格式\n",
    "selector = ['Image_id','label','waterclass']\n",
    "geemap.ee_export_vector_to_drive(q, description='LT05_122039_20051107_cor', folder='corPoints3', file_format='shp', selectors=selector)"
   ]
  },
  {
   "cell_type": "code",
   "execution_count": null,
   "metadata": {
    "hidden": true
   },
   "outputs": [],
   "source": []
  },
  {
   "cell_type": "code",
   "execution_count": null,
   "metadata": {
    "ExecuteTime": {
     "end_time": "2021-09-26T04:15:37.064033Z",
     "start_time": "2021-09-26T04:15:28.804774Z"
    },
    "hidden": true
   },
   "outputs": [],
   "source": [
    "print(samples_dataset.filter(ee.Filter.eq('label',0)).filter(ee.Filter.eq('waterclass',1)).size().getInfo())\n",
    "\n",
    "print(samples_dataset.filter(ee.Filter.eq('label',0)).filter(ee.Filter.eq('waterclass',1)).distinct('Image_id').aggregate_array('Image_id').getInfo())\n",
    "\n",
    "# print(samples_dataset.filter(ee.Filter.eq('label',1)).filter(ee.Filter.eq('waterclass',0)).first().getInfo())"
   ]
  },
  {
   "cell_type": "code",
   "execution_count": null,
   "metadata": {
    "ExecuteTime": {
     "end_time": "2021-09-26T04:16:37.098113Z",
     "start_time": "2021-09-26T04:16:17.769048Z"
    },
    "hidden": true
   },
   "outputs": [],
   "source": [
    "a = samples_dataset.filter(ee.Filter.eq('label',1)).filter(ee.Filter.eq('waterclass',0))\n",
    "id = samples_dataset.filter(ee.Filter.eq('label',1)).filter(ee.Filter.eq('waterclass',0)).distinct('Image_id').aggregate_array('Image_id')\n",
    "\n",
    "for i in range(0,id.size().getInfo(),1):\n",
    "    print(id.get(i).getInfo())\n",
    "    print('total:',a.filter(ee.Filter.eq('Image_id',id.get(i))).size().getInfo())"
   ]
  },
  {
   "cell_type": "code",
   "execution_count": null,
   "metadata": {
    "hidden": true
   },
   "outputs": [],
   "source": []
  },
  {
   "cell_type": "code",
   "execution_count": null,
   "metadata": {
    "ExecuteTime": {
     "end_time": "2021-09-26T01:15:37.863344Z",
     "start_time": "2021-09-26T01:15:19.087602Z"
    },
    "hidden": true
   },
   "outputs": [],
   "source": [
    "for i in range(0,image_id.size().getInfo(),1):\n",
    "    print(com_SamplePoints.filter(ee.Filter.eq('Image_id',image_id.get(i))).size().getInfo())\n",
    "    print(image_id.get(i).getInfo())\n",
    "    print('water:',com_SamplePoints.filter(ee.Filter.eq('Image_id',image_id.get(i))).filter(ee.Filter.eq('label',1)).size().getInfo())\n",
    "    print('no-water:',com_SamplePoints.filter(ee.Filter.eq('Image_id',image_id.get(i))).filter(ee.Filter.eq('label',0)).size().getInfo())"
   ]
  },
  {
   "cell_type": "code",
   "execution_count": null,
   "metadata": {
    "ExecuteTime": {
     "end_time": "2021-09-17T12:42:25.861432Z",
     "start_time": "2021-09-17T12:42:12.880096Z"
    },
    "hidden": true
   },
   "outputs": [],
   "source": [
    "print(samples_dataset.filter(ee.Filter.eq('label',1)).filter(ee.Filter.eq('waterclass',0)).size().getInfo())\n",
    "\n",
    "print(samples_dataset.filter(ee.Filter.eq('label',1)).filter(ee.Filter.eq('waterclass',0)).distinct('Image_id').aggregate_array('Image_id').getInfo())\n",
    "\n",
    "print(samples_dataset.filter(ee.Filter.eq('label',1)).filter(ee.Filter.eq('waterclass',0)).first().getInfo())"
   ]
  },
  {
   "cell_type": "code",
   "execution_count": null,
   "metadata": {
    "ExecuteTime": {
     "end_time": "2021-09-17T04:15:56.104466Z",
     "start_time": "2021-09-17T04:15:45.272390Z"
    },
    "hidden": true
   },
   "outputs": [],
   "source": []
  },
  {
   "cell_type": "markdown",
   "metadata": {
    "heading_collapsed": true
   },
   "source": [
    "# 样本分布"
   ]
  },
  {
   "cell_type": "code",
   "execution_count": null,
   "metadata": {
    "ExecuteTime": {
     "end_time": "2021-12-28T07:47:11.533507Z",
     "start_time": "2021-12-28T07:47:10.316435Z"
    },
    "hidden": true
   },
   "outputs": [],
   "source": [
    "elevation = ee.Image(\"users/311605001111/hillshade_\" + region)\n",
    "def maskSR(img):\n",
    "    cloudShadowBitMask = (1 << 3)\n",
    "    cloudsBitMask = (1 << 5)\n",
    "    snowBitMask = (1 << 4)   \n",
    "    qa = img.select('pixel_qa')\n",
    "    mask = qa.bitwiseAnd(cloudShadowBitMask).eq(0) \\\n",
    "                   .And(qa.bitwiseAnd(cloudsBitMask).eq(0)) \\\n",
    "                   .And(qa.bitwiseAnd(snowBitMask).eq(0))\n",
    "    azimuth = img.get('SOLAR_AZIMUTH_ANGLE')\n",
    "    zenith = img.get('SOLAR_ZENITH_ANGLE')\n",
    "    image = img.lt(0)\n",
    "    bands = image.select('B2').add(image.select('B3')).add(image.select('B4')).add(image.select('B5')).add(image.select('B6')).add(image.select('B7'))\n",
    "    outlier = bands.gt(0).remap([0,1],[1,0]).rename('outlier')\n",
    "    return img.updateMask(mask).updateMask(ee.Terrain.hillShadow(elevation,azimuth,zenith,200,True)).updateMask(outlier)\n",
    "\n",
    "# 图像可视化参数\n",
    "visParams = {'bands': ['B4', 'B3', 'B2'],'min': 0,'max': 3000,'gamma': 1.4}\n",
    "\n",
    "l8 = ee.ImageCollection('LANDSAT/LC08/C01/T1_SR') \\\n",
    "       .select(['B2', 'B3', 'B4', 'B5', 'B6', 'B7','pixel_qa']) \\\n",
    "       .filterBounds(roi) \\\n",
    "       .filterDate('2020-01-01', '2020-12-31')\n",
    "image = l8.map(maskSR).median().clip(roi)\n",
    "refer_img = image.visualize(**{'bands': ['B4', 'B3', 'B2'],'min': 0,'max': 3000,'gamma': 1.4})\n",
    "Map.addLayer(image, visParams,'image median')\n",
    "\n",
    "task = ee.batch.Export.image.toAsset(**{\n",
    "    'image': refer_img,\n",
    "    'description': region,\n",
    "    'assetId': 'users/311605001111/basemap_image/' + region,\n",
    "    'scale': 30,\n",
    "    'region': roi,\n",
    "    'maxPixels': 1e13,\n",
    "})\n",
    "task.start()"
   ]
  },
  {
   "cell_type": "code",
   "execution_count": null,
   "metadata": {
    "hidden": true
   },
   "outputs": [],
   "source": []
  },
  {
   "cell_type": "code",
   "execution_count": null,
   "metadata": {
    "ExecuteTime": {
     "end_time": "2022-03-21T02:18:34.079044Z",
     "start_time": "2022-03-21T02:18:34.069071Z"
    },
    "hidden": true
   },
   "outputs": [],
   "source": [
    "# region = 'daqing'\n",
    "# sample_region = 'DAQING'\n",
    "# region = 'tianjin'\n",
    "# sample_region = 'TIANJIN'\n",
    "# region = 'wuhan'\n",
    "# sample_region = 'WUHAN'\n",
    "region = 'prd'\n",
    "sample_region = 'PRD'\n",
    "# region = 'tibet'\n",
    "# sample_region = 'TIBET'"
   ]
  },
  {
   "cell_type": "code",
   "execution_count": null,
   "metadata": {
    "ExecuteTime": {
     "end_time": "2022-03-21T02:18:59.018950Z",
     "start_time": "2022-03-21T02:18:46.875134Z"
    },
    "hidden": true
   },
   "outputs": [],
   "source": [
    "# 合成影像\n",
    "from matplotlib import pyplot as plt\n",
    "import numpy as np\n",
    "import matplotlib\n",
    "from geemap import cartoee\n",
    "# # 大庆市\n",
    "# re = [125.3055, 45.8362, 123.9355, 46.8762]\n",
    "# # 天津市\n",
    "# re = [117.4944, 38.6272, 115.9244, 39.6372]\n",
    "# # 武汉市\n",
    "# re = [115.0993, 29.8642, 113.7393, 30.9242]\n",
    "# # 珠三角\n",
    "re = [114.0514, 22.2347, 112.7614, 23.2547]\n",
    "# 青藏高原\n",
    "# re = [91.3626, 34.6579, 89.8826, 35.8279]\n",
    "\n",
    "fig = plt.figure(figsize=(12, 8))\n",
    "refer_img = ee.Image('users/311605001111/basemap_image/' + region).visualize(**{'opacity':0.85})\n",
    "# refer_img = image.visualize(**{'bands': ['B4', 'B3', 'B2'],'min': 0,'max': 3000,'gamma': 1.4,'opacity':0.7})\n",
    "manual_samples = ee.FeatureCollection('users/311605001111/man_samples_1000/' + sample_region + '2020')\n",
    "print('manual-sample number:{}'.format(manual_samples.size().getInfo()))\n",
    "nowater = manual_samples.filter(ee.Filter.eq('label',0)).draw('red')\n",
    "water = manual_samples.filter(ee.Filter.eq('label',1)).draw('blue')\n",
    "blend = refer_img.blend(nowater).blend(water)\n",
    "Map.addLayer(blend, {}, \"Blend\")\n",
    "\n",
    "ax = cartoee.get_map(blend, region=re)\n",
    "cartoee.add_gridlines(ax, interval=[0.3,0.3], linestyle=\":\")\n",
    "ax.set_title(label = '(d)        Region D', fontsize=28)"
   ]
  },
  {
   "cell_type": "code",
   "execution_count": null,
   "metadata": {
    "hidden": true
   },
   "outputs": [],
   "source": []
  },
  {
   "cell_type": "code",
   "execution_count": null,
   "metadata": {
    "hidden": true
   },
   "outputs": [],
   "source": []
  }
 ],
 "metadata": {
  "hide_input": false,
  "kernelspec": {
   "display_name": "Python 3 (ipykernel)",
   "language": "python",
   "name": "python3"
  },
  "language_info": {
   "codemirror_mode": {
    "name": "ipython",
    "version": 3
   },
   "file_extension": ".py",
   "mimetype": "text/x-python",
   "name": "python",
   "nbconvert_exporter": "python",
   "pygments_lexer": "ipython3",
   "version": "3.8.12"
  },
  "toc": {
   "base_numbering": 1,
   "nav_menu": {},
   "number_sections": true,
   "sideBar": true,
   "skip_h1_title": false,
   "title_cell": "Table of Contents",
   "title_sidebar": "Contents",
   "toc_cell": false,
   "toc_position": {
    "height": "calc(100% - 180px)",
    "left": "10px",
    "top": "150px",
    "width": "216.094px"
   },
   "toc_section_display": true,
   "toc_window_display": true
  },
  "varInspector": {
   "cols": {
    "lenName": 16,
    "lenType": 16,
    "lenVar": 40
   },
   "kernels_config": {
    "python": {
     "delete_cmd_postfix": "",
     "delete_cmd_prefix": "del ",
     "library": "var_list.py",
     "varRefreshCmd": "print(var_dic_list())"
    },
    "r": {
     "delete_cmd_postfix": ") ",
     "delete_cmd_prefix": "rm(",
     "library": "var_list.r",
     "varRefreshCmd": "cat(var_dic_list()) "
    }
   },
   "types_to_exclude": [
    "module",
    "function",
    "builtin_function_or_method",
    "instance",
    "_Feature"
   ],
   "window_display": false
  }
 },
 "nbformat": 4,
 "nbformat_minor": 4
}
