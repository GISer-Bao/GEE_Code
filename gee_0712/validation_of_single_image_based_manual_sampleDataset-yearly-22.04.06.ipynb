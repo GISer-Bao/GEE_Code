{
 "cells": [
  {
   "cell_type": "code",
   "execution_count": null,
   "metadata": {
    "ExecuteTime": {
     "end_time": "2022-04-06T14:03:27.877563Z",
     "start_time": "2022-04-06T14:03:27.868559Z"
    }
   },
   "outputs": [],
   "source": [
    "import os\n",
    "os.environ['HTTP_PROXY'] = \"http://127.0.0.1:10809\"\n",
    "os.environ['HTTPS_PROXY'] = \"http://127.0.0.1:10809\""
   ]
  },
  {
   "cell_type": "code",
   "execution_count": null,
   "metadata": {
    "ExecuteTime": {
     "end_time": "2022-04-06T14:03:36.767576Z",
     "start_time": "2022-04-06T14:03:28.380289Z"
    },
    "scrolled": false
   },
   "outputs": [],
   "source": [
    "import geemap\n",
    "import ee\n",
    "Map=geemap.Map()\n",
    "Map"
   ]
  },
  {
   "cell_type": "code",
   "execution_count": null,
   "metadata": {
    "ExecuteTime": {
     "end_time": "2022-04-06T14:03:38.093782Z",
     "start_time": "2022-04-06T14:03:37.354959Z"
    }
   },
   "outputs": [],
   "source": [
    "## 大庆市\n",
    "# roi = ee.Geometry.Rectangle([123.9355, 45.8362,125.3055, 46.8762])\n",
    "## 天津市\n",
    "# roi = ee.Geometry.Rectangle([115.9244, 38.6272,117.4944,39.6372])\n",
    "## 武汉市\n",
    "# roi = ee.Geometry.Rectangle([113.7393, 29.8642,115.0993, 30.9242])\n",
    "## 珠三角\n",
    "# roi = ee.Geometry.Rectangle([112.7614, 22.2347,114.0514, 23.2547])\n",
    "## 青藏高原\n",
    "roi = ee.Geometry.Rectangle([89.8826, 34.6579,91.3626, 35.8279])\n",
    "Map.addLayer(roi, {}, \"roi\")\n",
    "Map.centerObject(roi,7)"
   ]
  },
  {
   "cell_type": "code",
   "execution_count": null,
   "metadata": {
    "ExecuteTime": {
     "end_time": "2022-04-06T14:06:54.008347Z",
     "start_time": "2022-04-06T14:06:54.004357Z"
    }
   },
   "outputs": [],
   "source": [
    "# region = 'daqing'\n",
    "# sample_region = 'DAQING'\n",
    "# region = 'tianjin'\n",
    "# sample_region = 'TIANJIN'\n",
    "# region = 'wuhan'\n",
    "# sample_region = 'WUHAN'\n",
    "# region = 'prd'\n",
    "# sample_region = 'PRD'\n",
    "region = 'tibet'\n",
    "sample_region = 'TIBET'"
   ]
  },
  {
   "cell_type": "code",
   "execution_count": null,
   "metadata": {
    "ExecuteTime": {
     "end_time": "2022-04-06T14:06:54.553794Z",
     "start_time": "2022-04-06T14:06:54.541583Z"
    }
   },
   "outputs": [],
   "source": [
    "elevation = ee.Image(\"users/311605001111/hillshade_\" + region)\n",
    "def maskSR(img):\n",
    "    cloudShadowBitMask = (1 << 3)\n",
    "    cloudsBitMask = (1 << 5)\n",
    "    snowBitMask = (1 << 4)   \n",
    "    qa = img.select('pixel_qa')\n",
    "    mask = qa.bitwiseAnd(cloudShadowBitMask).eq(0) \\\n",
    "                   .And(qa.bitwiseAnd(cloudsBitMask).eq(0)) \\\n",
    "                   .And(qa.bitwiseAnd(snowBitMask).eq(0))\n",
    "    azimuth = img.get('SOLAR_AZIMUTH_ANGLE')\n",
    "    zenith = img.get('SOLAR_ZENITH_ANGLE')\n",
    "    image = img.lt(0)\n",
    "    bands = image.select('B2').add(image.select('B3')).add(image.select('B4')).add(image.select('B5')).add(image.select('B6')).add(image.select('B7'))\n",
    "    outlier = bands.gt(0).remap([0,1],[1,0]).rename('outlier')\n",
    "    return img.updateMask(mask).updateMask(ee.Terrain.hillShadow(elevation,azimuth,zenith,200,True)).updateMask(outlier)\n",
    "\n",
    "# 图像可视化参数\n",
    "visParams = {'bands': ['B5', 'B6', 'B4'],'min': 0,'max': 3000,'gamma': 1.4}\n",
    "\n",
    "## 指数的计算\n",
    "# AWEI(自动水体提取指数): AWEIsh = B2 + 2.5B3 - 1.5(B5+B6) - 0.25B7\n",
    "def water_index(img):\n",
    "    image = ee.Image(img).clip(roi)\n",
    "    ndvi=image.normalizedDifference(['B5', 'B4']).rename('NDVI')\n",
    "    ndwi=image.normalizedDifference(['B3', 'B5']).rename(\"NDWI\")\n",
    "    mndwi=image.normalizedDifference(['B3', 'B6']).rename(\"mNDWI\")\n",
    "    ndvi_mndwi = ndvi.subtract(mndwi).rename('ndvi_mndwi')\n",
    "    cwi=image.select('B3').divide(image.select('B6')).rename(\"CWI\")\n",
    "    awei = image.expression('B2 + 2.5*B3 - 1.5*(B5+B6) - 0.25*B7',\n",
    "        {\n",
    "          'B2': image.select('B2'),\n",
    "          'B3': image.select('B3'),    \n",
    "          'B5': image.select('B5'),    \n",
    "          'B6': image.select('B6'),\n",
    "          'B7': image.select('B7'),\n",
    "        }).rename('AWEI')\n",
    "    ewi = image.expression('(B3 - B5 - B6)/(B3 + B5 + B6)',\n",
    "        {\n",
    "          'B3': image.select('B3'),    \n",
    "          'B5': image.select('B5'),    \n",
    "          'B6': image.select('B6'),\n",
    "        }).rename('EWI')\n",
    "    evi = image.expression('2.5*(B5 - B4)/(B5 + 6*B4 - 7.5*B2 + 1)',\n",
    "        {\n",
    "          'B2': image.select('B2'),\n",
    "          'B4': image.select('B4'),\n",
    "          'B5': image.select('B5'),    \n",
    "        }).rename('EVI')\n",
    "    return image.addBands(ndvi).addBands(ndwi).addBands(mndwi).addBands(cwi).addBands(awei).addBands(ewi).addBands(evi).addBands(ndvi_mndwi)"
   ]
  },
  {
   "cell_type": "code",
   "execution_count": null,
   "metadata": {
    "ExecuteTime": {
     "end_time": "2022-04-06T14:07:02.623522Z",
     "start_time": "2022-04-06T14:06:55.091214Z"
    }
   },
   "outputs": [],
   "source": [
    "# for year in range(2000,2021,5):\n",
    "#     print(year)\n",
    "#     table = ee.FeatureCollection('users/311605001111/man_sample_1000/'+ sample_region + str(year))\n",
    "#     print(table.size().getInfo())\n",
    "#     test_accuracy = table.errorMatrix('label', 'waterclass')\n",
    "#     print(test_accuracy.getInfo())\n",
    "#     print('total accuracy:{}'.format(test_accuracy.accuracy().getInfo()))\n",
    "#     print('kappa:{}'.format(test_accuracy.kappa().getInfo()))"
   ]
  },
  {
   "cell_type": "code",
   "execution_count": null,
   "metadata": {},
   "outputs": [],
   "source": []
  },
  {
   "cell_type": "markdown",
   "metadata": {},
   "source": [
    "# xin"
   ]
  },
  {
   "cell_type": "code",
   "execution_count": null,
   "metadata": {
    "ExecuteTime": {
     "end_time": "2022-04-06T13:42:10.555154Z",
     "start_time": "2022-04-06T13:42:10.539932Z"
    }
   },
   "outputs": [],
   "source": [
    "def image_accuracy(img):\n",
    "    image = maskSR(water_index(img)).select(bands).classify(trainedClassifier).eq(1).rename('waterclass')\n",
    "    manual_point = manual_samples.filter(ee.Filter.eq('Image_id',img.get('system:id'))).map(lambda i : i.centroid())\n",
    "    inter_points = image.sampleRegions(**{\n",
    "        'collection': manual_point,\n",
    "        'properties': ['label'],\n",
    "        'scale': 30,\n",
    "        'geometries': True,\n",
    "    })\n",
    "    inter_samples = inter_points.map(lambda i : i.setMulti({'Image_id':img.get('system:id')}))\n",
    "    return inter_samples\n",
    "\n",
    "# def removeProperty(feat):\n",
    "#     selectProperties = ee.Feature(feat).propertyNames().filter(ee.Filter.neq('item', 'random')).filter(ee.Filter.neq('item', 'waterclass'))  \n",
    "#     return feat.select(selectProperties)\n",
    "def removeProperty(feat):\n",
    "    selectProperties = ee.Feature(feat).propertyNames().filter(ee.Filter.neq('item', 'random'))\n",
    "    return feat.select(selectProperties)"
   ]
  },
  {
   "cell_type": "code",
   "execution_count": null,
   "metadata": {
    "ExecuteTime": {
     "end_time": "2022-04-06T13:42:11.074479Z",
     "start_time": "2022-04-06T13:42:11.060667Z"
    }
   },
   "outputs": [],
   "source": [
    "year = '2005'"
   ]
  },
  {
   "cell_type": "code",
   "execution_count": null,
   "metadata": {
    "ExecuteTime": {
     "end_time": "2022-04-06T13:42:41.481422Z",
     "start_time": "2022-04-06T13:42:11.575074Z"
    }
   },
   "outputs": [],
   "source": [
    "# TIME = [['2000','0105'],['2005','0105'],['2010','0610'],['2015','1115'],['2020','1620']]\n",
    "# TIME = [['2000'],['2005'],['2010'],['2015'],['2020']]\n",
    "\n",
    "print(year)\n",
    "## 导入人工采集的样本\n",
    "manual_samples = ee.FeatureCollection('users/311605001111/manual_samples/' + sample_region +'_' + year)\n",
    "print('manual-sample number:{}'.format(manual_samples.size().getInfo()))\n",
    "\n",
    "# 图像集，image_col\n",
    "image_id = ee.List(manual_samples.distinct('Image_id').aggregate_array('Image_id'))\n",
    "image_set = ee.List([])\n",
    "for i in image_id.getInfo():\n",
    "    if 'LT05' in i:\n",
    "        image_set = image_set.add(ee.Image(str(i)).select(['B1', 'B2', 'B3', 'B4', 'B5', 'B7','pixel_qa'],['B2', 'B3', 'B4', 'B5', 'B6', 'B7','pixel_qa']))\n",
    "    elif 'LE07' in i:\n",
    "        image_set = image_set.add(ee.Image(str(i)).select(['B1', 'B2', 'B3', 'B4', 'B5', 'B7','pixel_qa'],['B2', 'B3', 'B4', 'B5', 'B6', 'B7','pixel_qa']))\n",
    "    else:\n",
    "        image_set = image_set.add(ee.Image(str(i)).select(['B2', 'B3', 'B4', 'B5', 'B6', 'B7','pixel_qa']))\n",
    "image_col = ee.ImageCollection(image_set)\n",
    "    \n",
    "## 导入自动采集的样本\n",
    "auto_samples = ee.FeatureCollection('users/311605001111/SAMPLE_' + sample_region + '/' + region + '_kmean100_9920_v2')\n",
    "print('auto-sample number:{}'.format(auto_samples.size().getInfo()))\n",
    "label = 'waterclass'\n",
    "bands = ['B2', 'B3', 'B4', 'B5', 'B6', 'B7','NDVI','NDWI','mNDWI','CWI','AWEI','EWI','EVI']\n",
    "trainedClassifier = ee.Classifier.smileRandomForest(150).train(auto_samples,label,bands)\n",
    "SamplePoints = image_col.map(image_accuracy).flatten()\n",
    "    \n",
    "sp11 = SamplePoints.filter(ee.Filter.eq('label',0)).filter(ee.Filter.eq('waterclass',0))\n",
    "wl11 = sp11.randomColumn('random',1,'uniform').sort('random').limit(799)\n",
    "sp12 = SamplePoints.filter(ee.Filter.eq('label',1)).filter(ee.Filter.eq('waterclass',0))\n",
    "# print(sp12.size().getInfo())\n",
    "wl12 = sp12.randomColumn('random',1,'uniform').sort('random').limit(18)\n",
    "sp21 = SamplePoints.filter(ee.Filter.eq('label',0)).filter(ee.Filter.eq('waterclass',1))\n",
    "# print(sp21.size().getInfo())\n",
    "wl21 = sp21.randomColumn('random',1,'uniform').sort('random').limit(1)\n",
    "sp22 = SamplePoints.filter(ee.Filter.eq('label',1)).filter(ee.Filter.eq('waterclass',1))\n",
    "wl22 = sp22.randomColumn('random',1,'uniform').sort('random').limit(182)\n",
    "\n",
    "com_SamplePoints = ee.FeatureCollection([wl11,wl12,wl21,wl22]).flatten()\n",
    "print(com_SamplePoints.size().getInfo())\n",
    "    \n",
    "# 利用误差矩阵进行验证\n",
    "test_accuracy = com_SamplePoints.errorMatrix('label', 'waterclass')\n",
    "print(test_accuracy.getInfo())\n",
    "print('total accuracy:{}'.format(test_accuracy.accuracy().getInfo()))\n",
    "print('kappa:{}'.format(test_accuracy.kappa().getInfo()))    "
   ]
  },
  {
   "cell_type": "code",
   "execution_count": null,
   "metadata": {
    "ExecuteTime": {
     "end_time": "2022-04-06T13:42:57.347862Z",
     "start_time": "2022-04-06T13:42:56.678522Z"
    }
   },
   "outputs": [],
   "source": [
    "dataset_id = sample_region + year\n",
    "assetID = 'users/311605001111/man_sample_1000' + '/' + dataset_id\n",
    "task = ee.batch.Export.table.toAsset(**{\n",
    "    'collection': com_SamplePoints.map(removeProperty),\n",
    "    'description': dataset_id,\n",
    "    'assetId': assetID\n",
    "})\n",
    "task.start()"
   ]
  },
  {
   "cell_type": "code",
   "execution_count": null,
   "metadata": {},
   "outputs": [],
   "source": []
  },
  {
   "cell_type": "code",
   "execution_count": null,
   "metadata": {
    "ExecuteTime": {
     "end_time": "2022-04-06T13:12:29.443941Z",
     "start_time": "2022-04-06T13:12:27.278723Z"
    }
   },
   "outputs": [],
   "source": [
    "print(com_SamplePoints.map(removeProperty).first().propertyNames().getInfo())"
   ]
  },
  {
   "cell_type": "code",
   "execution_count": null,
   "metadata": {
    "ExecuteTime": {
     "end_time": "2022-04-06T09:15:10.703815Z",
     "start_time": "2022-04-06T09:14:17.569770Z"
    }
   },
   "outputs": [],
   "source": [
    "image_id = com_SamplePoints.distinct('Image_id').aggregate_array('Image_id').getInfo()\n",
    "for i in image_id:\n",
    "    print(i)\n",
    "    q = com_SamplePoints.filter(ee.Filter.eq('Image_id',i))\n",
    "    print(q.size().getInfo())"
   ]
  },
  {
   "cell_type": "code",
   "execution_count": null,
   "metadata": {
    "ExecuteTime": {
     "end_time": "2022-04-06T09:15:28.708563Z",
     "start_time": "2022-04-06T09:15:16.265190Z"
    }
   },
   "outputs": [],
   "source": [
    "image_id = com_SamplePoints.distinct('Image_id').aggregate_array('Image_id').getInfo()\n",
    "for i in image_id:\n",
    "    print(i)\n",
    "    q = ee.FeatureCollection(\"users/311605001111/man_samples_1000/TIANJIN2010\").filter(ee.Filter.eq('Image_id',i))\n",
    "    print(q.size().getInfo())"
   ]
  },
  {
   "cell_type": "code",
   "execution_count": null,
   "metadata": {},
   "outputs": [],
   "source": []
  },
  {
   "cell_type": "code",
   "execution_count": null,
   "metadata": {},
   "outputs": [],
   "source": []
  },
  {
   "cell_type": "markdown",
   "metadata": {},
   "source": [
    "# 样本分布"
   ]
  },
  {
   "cell_type": "code",
   "execution_count": null,
   "metadata": {
    "ExecuteTime": {
     "end_time": "2021-12-28T07:47:11.533507Z",
     "start_time": "2021-12-28T07:47:10.316435Z"
    }
   },
   "outputs": [],
   "source": [
    "elevation = ee.Image(\"users/311605001111/hillshade_\" + region)\n",
    "def maskSR(img):\n",
    "    cloudShadowBitMask = (1 << 3)\n",
    "    cloudsBitMask = (1 << 5)\n",
    "    snowBitMask = (1 << 4)   \n",
    "    qa = img.select('pixel_qa')\n",
    "    mask = qa.bitwiseAnd(cloudShadowBitMask).eq(0) \\\n",
    "                   .And(qa.bitwiseAnd(cloudsBitMask).eq(0)) \\\n",
    "                   .And(qa.bitwiseAnd(snowBitMask).eq(0))\n",
    "    azimuth = img.get('SOLAR_AZIMUTH_ANGLE')\n",
    "    zenith = img.get('SOLAR_ZENITH_ANGLE')\n",
    "    image = img.lt(0)\n",
    "    bands = image.select('B2').add(image.select('B3')).add(image.select('B4')).add(image.select('B5')).add(image.select('B6')).add(image.select('B7'))\n",
    "    outlier = bands.gt(0).remap([0,1],[1,0]).rename('outlier')\n",
    "    return img.updateMask(mask).updateMask(ee.Terrain.hillShadow(elevation,azimuth,zenith,200,True)).updateMask(outlier)\n",
    "\n",
    "# 图像可视化参数\n",
    "visParams = {'bands': ['B4', 'B3', 'B2'],'min': 0,'max': 3000,'gamma': 1.4}\n",
    "\n",
    "l8 = ee.ImageCollection('LANDSAT/LC08/C01/T1_SR') \\\n",
    "       .select(['B2', 'B3', 'B4', 'B5', 'B6', 'B7','pixel_qa']) \\\n",
    "       .filterBounds(roi) \\\n",
    "       .filterDate('2020-01-01', '2020-12-31')\n",
    "image = l8.map(maskSR).median().clip(roi)\n",
    "refer_img = image.visualize(**{'bands': ['B4', 'B3', 'B2'],'min': 0,'max': 3000,'gamma': 1.4})\n",
    "Map.addLayer(image, visParams,'image median')\n",
    "\n",
    "task = ee.batch.Export.image.toAsset(**{\n",
    "    'image': refer_img,\n",
    "    'description': region,\n",
    "    'assetId': 'users/311605001111/basemap_image/' + region,\n",
    "    'scale': 30,\n",
    "    'region': roi,\n",
    "    'maxPixels': 1e13,\n",
    "})\n",
    "task.start()"
   ]
  },
  {
   "cell_type": "code",
   "execution_count": null,
   "metadata": {},
   "outputs": [],
   "source": []
  },
  {
   "cell_type": "code",
   "execution_count": null,
   "metadata": {
    "ExecuteTime": {
     "end_time": "2022-03-21T02:18:34.079044Z",
     "start_time": "2022-03-21T02:18:34.069071Z"
    }
   },
   "outputs": [],
   "source": [
    "# region = 'daqing'\n",
    "# sample_region = 'DAQING'\n",
    "# region = 'tianjin'\n",
    "# sample_region = 'TIANJIN'\n",
    "# region = 'wuhan'\n",
    "# sample_region = 'WUHAN'\n",
    "region = 'prd'\n",
    "sample_region = 'PRD'\n",
    "# region = 'tibet'\n",
    "# sample_region = 'TIBET'"
   ]
  },
  {
   "cell_type": "code",
   "execution_count": null,
   "metadata": {
    "ExecuteTime": {
     "end_time": "2022-03-21T02:18:59.018950Z",
     "start_time": "2022-03-21T02:18:46.875134Z"
    }
   },
   "outputs": [],
   "source": [
    "# 合成影像\n",
    "from matplotlib import pyplot as plt\n",
    "import numpy as np\n",
    "import matplotlib\n",
    "from geemap import cartoee\n",
    "# # 大庆市\n",
    "# re = [125.3055, 45.8362, 123.9355, 46.8762]\n",
    "# # 天津市\n",
    "# re = [117.4944, 38.6272, 115.9244, 39.6372]\n",
    "# # 武汉市\n",
    "# re = [115.0993, 29.8642, 113.7393, 30.9242]\n",
    "# # 珠三角\n",
    "re = [114.0514, 22.2347, 112.7614, 23.2547]\n",
    "# 青藏高原\n",
    "# re = [91.3626, 34.6579, 89.8826, 35.8279]\n",
    "\n",
    "fig = plt.figure(figsize=(12, 8))\n",
    "refer_img = ee.Image('users/311605001111/basemap_image/' + region).visualize(**{'opacity':0.85})\n",
    "# refer_img = image.visualize(**{'bands': ['B4', 'B3', 'B2'],'min': 0,'max': 3000,'gamma': 1.4,'opacity':0.7})\n",
    "manual_samples = ee.FeatureCollection('users/311605001111/man_samples_1000/' + sample_region + '2020')\n",
    "print('manual-sample number:{}'.format(manual_samples.size().getInfo()))\n",
    "nowater = manual_samples.filter(ee.Filter.eq('label',0)).draw('red')\n",
    "water = manual_samples.filter(ee.Filter.eq('label',1)).draw('blue')\n",
    "blend = refer_img.blend(nowater).blend(water)\n",
    "Map.addLayer(blend, {}, \"Blend\")\n",
    "\n",
    "ax = cartoee.get_map(blend, region=re)\n",
    "cartoee.add_gridlines(ax, interval=[0.4,0.4], linestyle=\":\", ytick_rotation=\"vertical\")\n",
    "ax.tick_params(labelsize=22)\n",
    "ax.set_title(label = '(d)        Region D', fontsize=28)"
   ]
  },
  {
   "cell_type": "code",
   "execution_count": null,
   "metadata": {},
   "outputs": [],
   "source": []
  },
  {
   "cell_type": "code",
   "execution_count": null,
   "metadata": {},
   "outputs": [],
   "source": []
  }
 ],
 "metadata": {
  "hide_input": false,
  "kernelspec": {
   "display_name": "Python 3 (ipykernel)",
   "language": "python",
   "name": "python3"
  },
  "language_info": {
   "codemirror_mode": {
    "name": "ipython",
    "version": 3
   },
   "file_extension": ".py",
   "mimetype": "text/x-python",
   "name": "python",
   "nbconvert_exporter": "python",
   "pygments_lexer": "ipython3",
   "version": "3.8.12"
  },
  "toc": {
   "base_numbering": 1,
   "nav_menu": {},
   "number_sections": true,
   "sideBar": true,
   "skip_h1_title": false,
   "title_cell": "Table of Contents",
   "title_sidebar": "Contents",
   "toc_cell": false,
   "toc_position": {
    "height": "calc(100% - 180px)",
    "left": "10px",
    "top": "150px",
    "width": "216.094px"
   },
   "toc_section_display": true,
   "toc_window_display": true
  },
  "varInspector": {
   "cols": {
    "lenName": 16,
    "lenType": 16,
    "lenVar": 40
   },
   "kernels_config": {
    "python": {
     "delete_cmd_postfix": "",
     "delete_cmd_prefix": "del ",
     "library": "var_list.py",
     "varRefreshCmd": "print(var_dic_list())"
    },
    "r": {
     "delete_cmd_postfix": ") ",
     "delete_cmd_prefix": "rm(",
     "library": "var_list.r",
     "varRefreshCmd": "cat(var_dic_list()) "
    }
   },
   "types_to_exclude": [
    "module",
    "function",
    "builtin_function_or_method",
    "instance",
    "_Feature"
   ],
   "window_display": false
  }
 },
 "nbformat": 4,
 "nbformat_minor": 4
}
