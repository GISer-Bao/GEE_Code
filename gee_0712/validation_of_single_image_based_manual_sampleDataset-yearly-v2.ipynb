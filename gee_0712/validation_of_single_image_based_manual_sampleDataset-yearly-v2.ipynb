{
 "cells": [
  {
   "cell_type": "code",
   "execution_count": 1,
   "metadata": {
    "ExecuteTime": {
     "end_time": "2021-09-19T13:23:56.486304Z",
     "start_time": "2021-09-19T13:23:56.468075Z"
    }
   },
   "outputs": [],
   "source": [
    "import os\n",
    "os.environ['HTTP_PROXY'] = \"http://127.0.0.1:10809\"\n",
    "os.environ['HTTPS_PROXY'] = \"http://127.0.0.1:10809\""
   ]
  },
  {
   "cell_type": "code",
   "execution_count": 2,
   "metadata": {
    "ExecuteTime": {
     "end_time": "2021-09-19T13:24:01.830861Z",
     "start_time": "2021-09-19T13:23:56.747756Z"
    },
    "scrolled": false
   },
   "outputs": [
    {
     "data": {
      "application/vnd.jupyter.widget-view+json": {
       "model_id": "88f604045d714a03a14bd33128649677",
       "version_major": 2,
       "version_minor": 0
      },
      "text/plain": [
       "Map(center=[40, -100], controls=(WidgetControl(options=['position', 'transparent_bg'], widget=HBox(children=(T…"
      ]
     },
     "metadata": {},
     "output_type": "display_data"
    }
   ],
   "source": [
    "import geemap\n",
    "import ee\n",
    "Map=geemap.Map()\n",
    "Map"
   ]
  },
  {
   "cell_type": "code",
   "execution_count": 3,
   "metadata": {
    "ExecuteTime": {
     "end_time": "2021-09-19T13:24:02.786762Z",
     "start_time": "2021-09-19T13:24:01.894695Z"
    }
   },
   "outputs": [],
   "source": [
    "## 大庆市\n",
    "roi = ee.Geometry.Rectangle([123.9355, 45.8362,125.3055, 46.8762])\n",
    "## 天津市\n",
    "# roi = ee.Geometry.Rectangle([115.9244, 38.6272,117.4944,39.6372])\n",
    "## 武汉市\n",
    "# roi = ee.Geometry.Rectangle([113.7393, 29.8642,115.0993, 30.9242])\n",
    "## 珠三角\n",
    "# roi = ee.Geometry.Rectangle([112.7614, 22.2347,114.0514, 23.2547])\n",
    "## 青藏高原\n",
    "# roi = ee.Geometry.Rectangle([89.8826, 34.6579,91.3626, 35.8279])\n",
    "Map.addLayer(roi, {}, \"roi\")\n",
    "Map.centerObject(roi,7)"
   ]
  },
  {
   "cell_type": "code",
   "execution_count": null,
   "metadata": {},
   "outputs": [],
   "source": []
  },
  {
   "cell_type": "code",
   "execution_count": null,
   "metadata": {
    "ExecuteTime": {
     "end_time": "2021-09-17T12:43:32.369152Z",
     "start_time": "2021-09-17T12:43:31.945440Z"
    }
   },
   "outputs": [],
   "source": [
    "# visParams = {'bands': ['B4', 'B3', 'B2'],'min': 0,'max': 3000,'gamma': 1.4}\n",
    "# image = ee.Image('LANDSAT/LE07/C01/T1_SR/LE07_119028_20000418')\n",
    "# Map.addLayer(image.clip(roi),visParams,'image')"
   ]
  },
  {
   "cell_type": "code",
   "execution_count": null,
   "metadata": {
    "ExecuteTime": {
     "end_time": "2021-09-17T12:43:49.864790Z",
     "start_time": "2021-09-17T12:43:48.963320Z"
    }
   },
   "outputs": [],
   "source": [
    "# manual_samples = ee.FeatureCollection('users/311605001111/DAQING_2000').filter(ee.Filter.eq('Image_id','LANDSAT/LE07/C01/T1_SR/LE07_119028_20000418'))\n",
    "\n",
    "# manual_polyson = ee.Image().byte().paint(manual_samples,'label').paint(manual_samples, 0, 2)\n",
    "# Map.addLayer(manual_polyson, {'palette': ['red', 'blue'],'min':0, 'max':1}, 'manual_polyson')\n",
    "\n",
    "# manual_point = manual_samples.map(lambda i : i.centroid())\n",
    "# Map.addLayer(manual_point,{'color': 'yellow', 'pointSize': 100,'fillColor': 'yellow'},'manual_point')"
   ]
  },
  {
   "cell_type": "code",
   "execution_count": null,
   "metadata": {},
   "outputs": [],
   "source": []
  },
  {
   "cell_type": "code",
   "execution_count": 4,
   "metadata": {
    "ExecuteTime": {
     "end_time": "2021-09-19T13:24:02.866548Z",
     "start_time": "2021-09-19T13:24:02.851600Z"
    }
   },
   "outputs": [],
   "source": [
    "elevation = ee.Image('USGS/SRTMGL1_003').select('elevation').clip(roi)\n",
    "def maskSR(img):\n",
    "    cloudShadowBitMask = (1 << 3)\n",
    "    cloudsBitMask = (1 << 5)\n",
    "    snowBitMask = (1 << 4)   \n",
    "    qa = img.select('pixel_qa')\n",
    "    mask = qa.bitwiseAnd(cloudShadowBitMask).eq(0) \\\n",
    "                   .And(qa.bitwiseAnd(cloudsBitMask).eq(0)) \\\n",
    "                   .And(qa.bitwiseAnd(snowBitMask).eq(0))\n",
    "    azimuth = img.get('SOLAR_AZIMUTH_ANGLE')\n",
    "    zenith = img.get('SOLAR_ZENITH_ANGLE')\n",
    "    image = img.lt(0)\n",
    "    bands = image.select('B2').add(image.select('B3')).add(image.select('B4')).add(image.select('B5')).add(image.select('B6')).add(image.select('B7'))\n",
    "    outlier = bands.gt(0).remap([0,1],[1,0]).rename('outlier')\n",
    "    return img.updateMask(mask).updateMask(ee.Terrain.hillShadow(elevation,azimuth,zenith,200,True)).updateMask(outlier)\n",
    "\n",
    "# 图像可视化参数\n",
    "visParams = {'bands': ['B5', 'B6', 'B4'],'min': 0,'max': 3000,'gamma': 1.4}\n",
    "\n",
    "## 指数的计算\n",
    "# AWEI(自动水体提取指数): AWEIsh = B2 + 2.5B3 - 1.5(B5+B6) - 0.25B7\n",
    "def water_index(img):\n",
    "    image = ee.Image(img).clip(roi)\n",
    "    ndvi=image.normalizedDifference(['B5', 'B4']).rename('NDVI')\n",
    "    ndwi=image.normalizedDifference(['B3', 'B5']).rename(\"NDWI\")\n",
    "    mndwi=image.normalizedDifference(['B3', 'B6']).rename(\"mNDWI\")\n",
    "    ndvi_mndwi = ndvi.subtract(mndwi).rename('ndvi_mndwi')\n",
    "    cwi=image.select('B3').divide(image.select('B6')).rename(\"CWI\")\n",
    "    awei = image.expression('B2 + 2.5*B3 - 1.5*(B5+B6) - 0.25*B7',\n",
    "        {\n",
    "          'B2': image.select('B2'),\n",
    "          'B3': image.select('B3'),    \n",
    "          'B5': image.select('B5'),    \n",
    "          'B6': image.select('B6'),\n",
    "          'B7': image.select('B7'),\n",
    "        }).rename('AWEI')\n",
    "    ewi = image.expression('(B3 - B5 - B6)/(B3 + B5 + B6)',\n",
    "        {\n",
    "          'B3': image.select('B3'),    \n",
    "          'B5': image.select('B5'),    \n",
    "          'B6': image.select('B6'),\n",
    "        }).rename('EWI')\n",
    "    evi = image.expression('2.5*(B5 - B4)/(B5 + 6*B4 - 7.5*B2 + 1)',\n",
    "        {\n",
    "          'B2': image.select('B2'),\n",
    "          'B4': image.select('B4'),\n",
    "          'B5': image.select('B5'),    \n",
    "        }).rename('EVI')\n",
    "    return image.addBands(ndvi).addBands(ndwi).addBands(mndwi).addBands(cwi).addBands(awei).addBands(ewi).addBands(evi).addBands(ndvi_mndwi)"
   ]
  },
  {
   "cell_type": "markdown",
   "metadata": {},
   "source": [
    "# RF训练"
   ]
  },
  {
   "cell_type": "code",
   "execution_count": 5,
   "metadata": {
    "ExecuteTime": {
     "end_time": "2021-09-19T13:24:05.035962Z",
     "start_time": "2021-09-19T13:24:02.963318Z"
    },
    "scrolled": true
   },
   "outputs": [
    {
     "name": "stdout",
     "output_type": "stream",
     "text": [
      "manual-sample number:2091\n",
      "water sample number:705\n",
      "nowater sample number:1386\n",
      "['LANDSAT/LC08/C01/T1_SR/LC08_120028_20151004', 'LANDSAT/LC08/C01/T1_SR/LC08_120028_20150614', 'LANDSAT/LC08/C01/T1_SR/LC08_119028_20150911', 'LANDSAT/LC08/C01/T1_SR/LC08_119028_20150709', 'LANDSAT/LC08/C01/T1_SR/LC08_119028_20150522', 'LANDSAT/LC08/C01/T1_SR/LC08_119028_20150420']\n"
     ]
    }
   ],
   "source": [
    "### 将人工选取样本的影像变成影像集\n",
    "## 导入人工采集的样本\n",
    "manual_samples = ee.FeatureCollection('users/311605001111/DAQING_2015merge')\n",
    "print('manual-sample number:{}'.format(manual_samples.size().getInfo()))\n",
    "# 水体的样本点数\n",
    "samplepoint_water = manual_samples.filter(ee.Filter.eq('label',1))\n",
    "print('water sample number:{}'.format(samplepoint_water.size().getInfo()))\n",
    "# 非水体的样本点数\n",
    "samplepoint_land = manual_samples.filter(ee.Filter.eq('label',0))\n",
    "print('nowater sample number:{}'.format(samplepoint_land.size().getInfo()))\n",
    "\n",
    "\n",
    "image_id = ee.List(manual_samples.distinct('Image_id').aggregate_array('Image_id'))\n",
    "image_set = ee.List([])\n",
    "for i in image_id.getInfo():\n",
    "    if 'LT05' in i:\n",
    "        image_set = image_set.add(ee.Image(str(i)).select(['B1', 'B2', 'B3', 'B4', 'B5', 'B7','pixel_qa'],['B2', 'B3', 'B4', 'B5', 'B6', 'B7','pixel_qa']))\n",
    "    elif 'LE07' in i:\n",
    "        image_set = image_set.add(ee.Image(str(i)).select(['B1', 'B2', 'B3', 'B4', 'B5', 'B7','pixel_qa'],['B2', 'B3', 'B4', 'B5', 'B6', 'B7','pixel_qa']))\n",
    "    else:\n",
    "        image_set = image_set.add(ee.Image(str(i)).select(['B2', 'B3', 'B4', 'B5', 'B6', 'B7','pixel_qa']))\n",
    "# 图像集，image_col\n",
    "image_col = ee.ImageCollection(image_set)\n",
    "Map.addLayer(image_col.first().clip(roi), visParams,'image')\n",
    "print(image_col.aggregate_array('system:id').getInfo())"
   ]
  },
  {
   "cell_type": "code",
   "execution_count": 6,
   "metadata": {
    "ExecuteTime": {
     "end_time": "2021-09-19T13:24:11.754438Z",
     "start_time": "2021-09-19T13:24:07.500515Z"
    }
   },
   "outputs": [
    {
     "name": "stdout",
     "output_type": "stream",
     "text": [
      "auto-sample number:4385\n",
      "筛选后，剩余的样本数：  4360\n"
     ]
    }
   ],
   "source": [
    "## 导入自动采集的样本\n",
    "samples = ee.FeatureCollection('users/311605001111/daqing_2015')\n",
    "print('auto-sample number:{}'.format(samples.size().getInfo()))\n",
    "\n",
    "label = 'waterclass'\n",
    "bands = ['B2', 'B3', 'B4', 'B5', 'B6', 'B7','NDVI','NDWI','mNDWI','CWI','AWEI','EWI','EVI']\n",
    "# cluster与waterclass的对比\n",
    "def Compare(feature):\n",
    "    cluster = ee.Number(feature.get('cluster'))\n",
    "    waterclass = ee.Number(feature.get('waterclass'))\n",
    "    ft = ee.Algorithms.If(cluster.eq(waterclass),feature.set({'eq':1}),feature.set({'eq':0}))\n",
    "    return ft\n",
    "# k-mean聚类\n",
    "def k_mean(sampleSET):\n",
    "    clusterer = ee.Clusterer.wekaKMeans(2).train(sampleSET,bands)\n",
    "    result = sampleSET.cluster(clusterer)\n",
    "    right = result.map(Compare).filter(ee.Filter.eq('eq',0))\n",
    "    error = result.map(Compare).filter(ee.Filter.eq('eq',1))\n",
    "    filtered_sample = ee.FeatureCollection(ee.Algorithms.If(right.size().gt(error.size()),right,error))\n",
    "    return filtered_sample\n",
    "\n",
    "auto_samples = k_mean(samples)\n",
    "print(\"筛选后，剩余的样本数： \",auto_samples.size().getInfo())\n",
    "\n",
    "trainedClassifier = ee.Classifier.smileRandomForest(20).train(auto_samples,label,bands)"
   ]
  },
  {
   "cell_type": "markdown",
   "metadata": {},
   "source": [
    "# 精度验证函数"
   ]
  },
  {
   "cell_type": "code",
   "execution_count": 7,
   "metadata": {
    "ExecuteTime": {
     "end_time": "2021-09-19T13:24:11.849265Z",
     "start_time": "2021-09-19T13:24:11.834265Z"
    }
   },
   "outputs": [],
   "source": [
    "def image_accuracy(img):\n",
    "    image = maskSR(water_index(img)).select(bands).classify(trainedClassifier).eq(1).rename('waterclass')\n",
    "    manual_point = manual_samples.filter(ee.Filter.eq('Image_id',img.get('system:id'))).map(lambda i : i.centroid())\n",
    "    inter_points = image.sampleRegions(**{\n",
    "        'collection': manual_point,\n",
    "        'properties': ['label'],\n",
    "        'scale': 30,\n",
    "        'geometries': True,\n",
    "    })\n",
    "    inter_samples = inter_points.map(lambda i : i.setMulti({'Image_id':img.get('system:id')}))\n",
    "    return inter_samples"
   ]
  },
  {
   "cell_type": "code",
   "execution_count": 8,
   "metadata": {
    "ExecuteTime": {
     "end_time": "2021-09-19T13:24:23.297990Z",
     "start_time": "2021-09-19T13:24:11.913814Z"
    },
    "scrolled": false
   },
   "outputs": [
    {
     "name": "stdout",
     "output_type": "stream",
     "text": [
      "2091\n",
      "{'type': 'Feature', 'geometry': {'geodesic': False, 'type': 'Point', 'coordinates': [123.97489231462039, 46.80917364338088]}, 'id': 'LC08_120028_20151004_00000000000000000080_0', 'properties': {'Image_id': 'LANDSAT/LC08/C01/T1_SR/LC08_120028_20151004', 'label': 0, 'waterclass': 0}}\n"
     ]
    }
   ],
   "source": [
    "samples_dataset = image_col.map(image_accuracy).flatten()\n",
    "print(samples_dataset.size().getInfo())\n",
    "print(samples_dataset.first().getInfo())\n",
    "# print(samples_dataset.distinct('Image_id').aggregate_array('Image_id').getInfo())\n",
    "# print(samples_dataset.distinct('Image_id').size().getInfo())"
   ]
  },
  {
   "cell_type": "code",
   "execution_count": 11,
   "metadata": {
    "ExecuteTime": {
     "end_time": "2021-09-19T13:50:17.557159Z",
     "start_time": "2021-09-19T13:49:59.808186Z"
    },
    "scrolled": false
   },
   "outputs": [
    {
     "name": "stdout",
     "output_type": "stream",
     "text": [
      "[[797, 3], [1, 199]]\n",
      "total accuracy:0.996\n",
      "kappa:0.987546699875467\n"
     ]
    }
   ],
   "source": [
    "# 利用误差矩阵进行验证\n",
    "water = samples_dataset.filter(ee.Filter.eq('label',1)).randomColumn('random').sort('random').limit(200)\n",
    "no_water = samples_dataset.filter(ee.Filter.eq('label',0)).randomColumn('random').sort('random').limit(800)\n",
    "com_SamplePoints = ee.FeatureCollection([water,no_water]).flatten()\n",
    "test_accuracy = com_SamplePoints.errorMatrix('label', 'waterclass')\n",
    "print(test_accuracy.getInfo())\n",
    "print('total accuracy:{}'.format(test_accuracy.accuracy().getInfo()))\n",
    "print('kappa:{}'.format(test_accuracy.kappa().getInfo()))"
   ]
  },
  {
   "cell_type": "code",
   "execution_count": null,
   "metadata": {},
   "outputs": [],
   "source": []
  },
  {
   "cell_type": "code",
   "execution_count": null,
   "metadata": {
    "ExecuteTime": {
     "start_time": "2021-09-19T14:05:59.575Z"
    }
   },
   "outputs": [
    {
     "name": "stdout",
     "output_type": "stream",
     "text": [
      "165\n",
      "LANDSAT/LC08/C01/T1_SR/LC08_120028_20151004\n",
      "water: 40\n",
      "no-water: 125\n",
      "187\n",
      "LANDSAT/LC08/C01/T1_SR/LC08_120028_20150614\n",
      "water: 41\n",
      "no-water: 146\n",
      "158\n",
      "LANDSAT/LC08/C01/T1_SR/LC08_119028_20150911\n",
      "water: 33\n",
      "no-water: 125\n",
      "158\n",
      "LANDSAT/LC08/C01/T1_SR/LC08_119028_20150709\n",
      "water: 27\n",
      "no-water: 131\n"
     ]
    }
   ],
   "source": [
    "for i in range(0,image_id.size().getInfo(),1):\n",
    "    print(com_SamplePoints.filter(ee.Filter.eq('Image_id',image_id.get(i))).size().getInfo())\n",
    "    print(image_id.get(i).getInfo())\n",
    "    print('water:',com_SamplePoints.filter(ee.Filter.eq('Image_id',image_id.get(i))).filter(ee.Filter.eq('label',1)).size().getInfo())\n",
    "    print('no-water:',com_SamplePoints.filter(ee.Filter.eq('Image_id',image_id.get(i))).filter(ee.Filter.eq('label',0)).size().getInfo())"
   ]
  },
  {
   "cell_type": "code",
   "execution_count": null,
   "metadata": {
    "ExecuteTime": {
     "end_time": "2021-09-17T12:42:25.861432Z",
     "start_time": "2021-09-17T12:42:12.880096Z"
    }
   },
   "outputs": [],
   "source": [
    "print(samples_dataset.filter(ee.Filter.eq('label',1)).filter(ee.Filter.eq('waterclass',0)).size().getInfo())\n",
    "\n",
    "print(samples_dataset.filter(ee.Filter.eq('label',1)).filter(ee.Filter.eq('waterclass',0)).distinct('Image_id').aggregate_array('Image_id').getInfo())\n",
    "\n",
    "print(samples_dataset.filter(ee.Filter.eq('label',1)).filter(ee.Filter.eq('waterclass',0)).first().getInfo())"
   ]
  },
  {
   "cell_type": "code",
   "execution_count": null,
   "metadata": {},
   "outputs": [],
   "source": []
  },
  {
   "cell_type": "code",
   "execution_count": null,
   "metadata": {
    "ExecuteTime": {
     "end_time": "2021-09-17T04:15:56.104466Z",
     "start_time": "2021-09-17T04:15:45.272390Z"
    }
   },
   "outputs": [],
   "source": [
    "print(samples_dataset.filter(ee.Filter.eq('label',1)).filter(ee.Filter.eq('waterclass',0)).filter(ee.Filter.eq('Image_id','LANDSAT/LE07/C01/T1_SR/LE07_123039_20000226')).size().getInfo())\n",
    "\n",
    "print(samples_dataset.filter(ee.Filter.eq('label',1)).filter(ee.Filter.eq('waterclass',0)).filter(ee.Filter.eq('Image_id','LANDSAT/LE07/C01/T1_SR/LE07_122039_20000306')).size().getInfo())\n",
    "\n",
    "print(samples_dataset.filter(ee.Filter.eq('label',1)).filter(ee.Filter.eq('waterclass',0)).filter(ee.Filter.eq('Image_id','LANDSAT/LT05/C01/T1_SR/LT05_123039_20000727')).size().getInfo())\n",
    "\n",
    "print(samples_dataset.filter(ee.Filter.eq('label',1)).filter(ee.Filter.eq('waterclass',0)).filter(ee.Filter.eq('Image_id','LANDSAT/LT05/C01/T1_SR/LT05_122039_20000922')).size().getInfo())\n",
    "\n",
    "print(samples_dataset.filter(ee.Filter.eq('label',1)).filter(ee.Filter.eq('waterclass',0)).filter(ee.Filter.eq('Image_id','LANDSAT/LT05/C01/T1_SR/LT05_122039_20001008')).size().getInfo())"
   ]
  },
  {
   "cell_type": "markdown",
   "metadata": {
    "heading_collapsed": true
   },
   "source": [
    "# 样本分布"
   ]
  },
  {
   "cell_type": "code",
   "execution_count": null,
   "metadata": {
    "ExecuteTime": {
     "end_time": "2021-09-16T12:18:20.716664Z",
     "start_time": "2021-09-16T12:18:19.745904Z"
    },
    "hidden": true
   },
   "outputs": [],
   "source": [
    "elevation = ee.Image('USGS/SRTMGL1_003').select('elevation').clip(roi)\n",
    "def maskSR(img):\n",
    "    cloudShadowBitMask = (1 << 3)\n",
    "    cloudsBitMask = (1 << 5)\n",
    "    snowBitMask = (1 << 4)   \n",
    "    qa = img.select('pixel_qa')\n",
    "    mask = qa.bitwiseAnd(cloudShadowBitMask).eq(0) \\\n",
    "                   .And(qa.bitwiseAnd(cloudsBitMask).eq(0)) \\\n",
    "                   .And(qa.bitwiseAnd(snowBitMask).eq(0))\n",
    "    azimuth = img.get('SOLAR_AZIMUTH_ANGLE')\n",
    "    zenith = img.get('SOLAR_ZENITH_ANGLE')\n",
    "    image = img.lt(0)\n",
    "    bands = image.select('B2').add(image.select('B3')).add(image.select('B4')).add(image.select('B5')).add(image.select('B6')).add(image.select('B7'))\n",
    "    outlier = bands.gt(0).remap([0,1],[1,0]).rename('outlier')\n",
    "    return img.updateMask(mask).updateMask(ee.Terrain.hillShadow(elevation,azimuth,zenith,200,True)).updateMask(outlier)\n",
    "\n",
    "# 图像可视化参数\n",
    "visParams = {'bands': ['B5', 'B6', 'B4'],'min': 0,'max': 3000,'gamma': 1.4}\n",
    "\n",
    "l8 = ee.ImageCollection('LANDSAT/LC08/C01/T1_SR') \\\n",
    "       .select(['B2', 'B3', 'B4', 'B5', 'B6', 'B7','pixel_qa']) \\\n",
    "       .filterBounds(roi) \\\n",
    "       .filter(ee.Filter.lt('CLOUD_COVER',30)) \\\n",
    "       .filterDate('2020-01-01', '2020-12-31')          \n",
    "Map.addLayer(l8.map(maskSR).mosaic().clip(roi), visParams,'image mosaic')\n",
    "print(l8.size().getInfo())"
   ]
  },
  {
   "cell_type": "code",
   "execution_count": null,
   "metadata": {
    "ExecuteTime": {
     "end_time": "2021-09-16T12:18:30.080587Z",
     "start_time": "2021-09-16T12:18:29.178887Z"
    },
    "hidden": true
   },
   "outputs": [],
   "source": [
    "refer_img = l8.map(maskSR).median().clip(roi).visualize(**{'bands': ['B5', 'B6', 'B4'],'min': 0,'max': 3000,'gamma': 1.4,'opacity':0.65})\n",
    "manual_samples = ee.FeatureCollection('users/311605001111/PRD_2020').map(lambda i : i.centroid())\n",
    "print('manual-sample number:{}'.format(manual_samples.size().getInfo()))\n",
    "\n",
    "blend = refer_img.blend(manual_samples.filter(ee.Filter.eq('label',0)).draw('red')).blend(manual_samples.filter(ee.Filter.eq('label',1)).draw('yellow'))\n",
    "Map.addLayer(blend, {}, \"Blend\")"
   ]
  },
  {
   "cell_type": "code",
   "execution_count": null,
   "metadata": {
    "ExecuteTime": {
     "end_time": "2021-09-16T12:19:01.331210Z",
     "start_time": "2021-09-16T12:18:43.323013Z"
    },
    "hidden": true
   },
   "outputs": [],
   "source": [
    "# 合成影像\n",
    "from matplotlib import pyplot as plt\n",
    "import numpy as np\n",
    "import matplotlib\n",
    "from geemap import cartoee\n",
    "# # 大庆市\n",
    "# region = [123.9355, 45.8362,125.3055, 46.8762]\n",
    "# # 天津市\n",
    "# region = [115.9244, 38.6272,117.4944,39.6372]\n",
    "# # 武汉市\n",
    "# region = [113.7393, 29.8642,115.0993, 30.9242]\n",
    "# # 珠三角\n",
    "region = [112.7614, 22.2347,114.0514, 23.2547]\n",
    "# 青藏高原\n",
    "# region = [89.8826, 34.6579,91.3626, 35.8279]\n",
    "fig = plt.figure(figsize=(12, 8))\n",
    "# use cartoee to get a map\n",
    "ax = cartoee.get_map(blend, region=region)\n",
    "cartoee.add_gridlines(ax, interval=[0.3,0.2], linestyle=\":\")\n",
    "ax.set_title(label = 'Region D', fontsize=28)"
   ]
  },
  {
   "cell_type": "code",
   "execution_count": null,
   "metadata": {
    "hidden": true
   },
   "outputs": [],
   "source": []
  },
  {
   "cell_type": "code",
   "execution_count": null,
   "metadata": {
    "hidden": true
   },
   "outputs": [],
   "source": []
  },
  {
   "cell_type": "markdown",
   "metadata": {},
   "source": [
    "# 附录"
   ]
  },
  {
   "cell_type": "code",
   "execution_count": null,
   "metadata": {
    "ExecuteTime": {
     "end_time": "2021-09-15T08:58:05.465579Z",
     "start_time": "2021-09-15T08:58:02.107407Z"
    }
   },
   "outputs": [],
   "source": [
    "# 图像\n",
    "img = water_index(ee.Image('LANDSAT/LC08/C01/T1_SR/LC08_122033_20200218'))\n",
    "visParams = {'bands': ['B5', 'B4', 'B3'],'min': 0,'max': 3000,'gamma': 1.4}\n",
    "Map.addLayer(img.clip(roi),visParams,'img')\n",
    "\n",
    "# 分类图像\n",
    "image = maskSR(water_index(img)).select(bands).classify(trainedClassifier).eq(1).rename('waterclass')\n",
    "# Map.addLayer(image,{'palette':['white','blue'],'min':0,'max':1},'image')\n",
    "Map.addLayer(image.selfMask(),{'palette':['blue']},'image')\n",
    "# 点\n",
    "a = ee.Geometry.Point([117.00910929827164, 38.890901875718455])\n",
    "vis_point = {'color': 'yellow', 'pointSize': 100,'fillColor': 'yellow'}\n",
    "Map.addLayer(a,vis_point,'a')"
   ]
  },
  {
   "cell_type": "code",
   "execution_count": null,
   "metadata": {
    "ExecuteTime": {
     "end_time": "2021-09-15T08:38:28.423435Z",
     "start_time": "2021-09-15T08:38:18.566691Z"
    }
   },
   "outputs": [],
   "source": [
    "miss = samples_dataset.filter(ee.Filter.eq('label',0)).filter(ee.Filter.eq('waterclass',1))\n",
    "print(miss.size().getInfo())\n",
    "print(miss.getInfo())\n",
    "print(miss.distinct('Image_id').aggregate_array('Image_id').getInfo())"
   ]
  },
  {
   "cell_type": "code",
   "execution_count": null,
   "metadata": {},
   "outputs": [],
   "source": []
  },
  {
   "cell_type": "code",
   "execution_count": null,
   "metadata": {},
   "outputs": [],
   "source": []
  }
 ],
 "metadata": {
  "hide_input": false,
  "kernelspec": {
   "display_name": "Python 3 (ipykernel)",
   "language": "python",
   "name": "python3"
  },
  "language_info": {
   "codemirror_mode": {
    "name": "ipython",
    "version": 3
   },
   "file_extension": ".py",
   "mimetype": "text/x-python",
   "name": "python",
   "nbconvert_exporter": "python",
   "pygments_lexer": "ipython3",
   "version": "3.8.5"
  },
  "toc": {
   "base_numbering": 1,
   "nav_menu": {},
   "number_sections": true,
   "sideBar": true,
   "skip_h1_title": false,
   "title_cell": "Table of Contents",
   "title_sidebar": "Contents",
   "toc_cell": false,
   "toc_position": {
    "height": "calc(100% - 180px)",
    "left": "10px",
    "top": "150px",
    "width": "216.094px"
   },
   "toc_section_display": true,
   "toc_window_display": false
  },
  "varInspector": {
   "cols": {
    "lenName": 16,
    "lenType": 16,
    "lenVar": 40
   },
   "kernels_config": {
    "python": {
     "delete_cmd_postfix": "",
     "delete_cmd_prefix": "del ",
     "library": "var_list.py",
     "varRefreshCmd": "print(var_dic_list())"
    },
    "r": {
     "delete_cmd_postfix": ") ",
     "delete_cmd_prefix": "rm(",
     "library": "var_list.r",
     "varRefreshCmd": "cat(var_dic_list()) "
    }
   },
   "types_to_exclude": [
    "module",
    "function",
    "builtin_function_or_method",
    "instance",
    "_Feature"
   ],
   "window_display": false
  }
 },
 "nbformat": 4,
 "nbformat_minor": 4
}
