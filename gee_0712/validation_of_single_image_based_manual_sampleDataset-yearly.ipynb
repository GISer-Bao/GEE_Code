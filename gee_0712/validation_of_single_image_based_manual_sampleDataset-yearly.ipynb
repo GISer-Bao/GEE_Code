{
 "cells": [
  {
   "cell_type": "code",
   "execution_count": 1,
   "metadata": {
    "ExecuteTime": {
     "end_time": "2021-09-15T07:58:49.812913Z",
     "start_time": "2021-09-15T07:58:49.806930Z"
    }
   },
   "outputs": [],
   "source": [
    "import os\n",
    "os.environ['HTTP_PROXY'] = \"http://127.0.0.1:10809\"\n",
    "os.environ['HTTPS_PROXY'] = \"http://127.0.0.1:10809\""
   ]
  },
  {
   "cell_type": "code",
   "execution_count": 2,
   "metadata": {
    "ExecuteTime": {
     "end_time": "2021-09-15T07:58:55.881141Z",
     "start_time": "2021-09-15T07:58:50.564827Z"
    },
    "scrolled": false
   },
   "outputs": [
    {
     "data": {
      "application/vnd.jupyter.widget-view+json": {
       "model_id": "84a45b133ebf4187bd69a9d92576bf93",
       "version_major": 2,
       "version_minor": 0
      },
      "text/plain": [
       "Map(center=[40, -100], controls=(WidgetControl(options=['position', 'transparent_bg'], widget=HBox(children=(T…"
      ]
     },
     "metadata": {},
     "output_type": "display_data"
    }
   ],
   "source": [
    "import geemap\n",
    "import ee\n",
    "Map=geemap.Map()\n",
    "Map"
   ]
  },
  {
   "cell_type": "code",
   "execution_count": 3,
   "metadata": {
    "ExecuteTime": {
     "end_time": "2021-09-15T07:58:57.406762Z",
     "start_time": "2021-09-15T07:58:56.662001Z"
    }
   },
   "outputs": [],
   "source": [
    "## 大庆市\n",
    "# roi = ee.Geometry.Rectangle([123.9355, 45.8362,125.3055, 46.8762])\n",
    "## 天津市\n",
    "# roi = ee.Geometry.Rectangle([115.9244, 38.6272,117.4944,39.6372])\n",
    "## 武汉市\n",
    "# roi = ee.Geometry.Rectangle([113.7393, 29.8642,115.0993, 30.9242])\n",
    "## 珠三角\n",
    "# roi = ee.Geometry.Rectangle([112.7614, 22.2347,114.0514, 23.2547])\n",
    "## 青藏高原\n",
    "roi = ee.Geometry.Rectangle([89.8826, 34.6579,91.3626, 35.8279])\n",
    "Map.addLayer(roi, {}, \"roi\")\n",
    "Map.centerObject(roi,7)"
   ]
  },
  {
   "cell_type": "code",
   "execution_count": 4,
   "metadata": {
    "ExecuteTime": {
     "end_time": "2021-09-15T07:58:58.202434Z",
     "start_time": "2021-09-15T07:58:58.187407Z"
    }
   },
   "outputs": [],
   "source": [
    "elevation = ee.Image('USGS/SRTMGL1_003').select('elevation').clip(roi)\n",
    "def maskSR(img):\n",
    "    cloudShadowBitMask = (1 << 3)\n",
    "    cloudsBitMask = (1 << 5)\n",
    "    snowBitMask = (1 << 4)   \n",
    "    qa = img.select('pixel_qa')\n",
    "    mask = qa.bitwiseAnd(cloudShadowBitMask).eq(0) \\\n",
    "                   .And(qa.bitwiseAnd(cloudsBitMask).eq(0)) \\\n",
    "                   .And(qa.bitwiseAnd(snowBitMask).eq(0))\n",
    "    azimuth = img.get('SOLAR_AZIMUTH_ANGLE')\n",
    "    zenith = img.get('SOLAR_ZENITH_ANGLE')\n",
    "    image = img.lt(0)\n",
    "    bands = image.select('B2').add(image.select('B3')).add(image.select('B4')).add(image.select('B5')).add(image.select('B6')).add(image.select('B7'))\n",
    "    outlier = bands.gt(0).remap([0,1],[1,0]).rename('outlier')\n",
    "    return img.updateMask(mask).updateMask(ee.Terrain.hillShadow(elevation,azimuth,zenith,200,True)).updateMask(outlier)\n",
    "\n",
    "# 图像可视化参数\n",
    "visParams = {'bands': ['B5', 'B6', 'B4'],'min': 0,'max': 3000,'gamma': 1.4}\n",
    "\n",
    "## 指数的计算\n",
    "# AWEI(自动水体提取指数): AWEIsh = B2 + 2.5B3 - 1.5(B5+B6) - 0.25B7\n",
    "def water_index(img):\n",
    "    image = ee.Image(img).clip(roi)\n",
    "    ndvi=image.normalizedDifference(['B5', 'B4']).rename('NDVI')\n",
    "    ndwi=image.normalizedDifference(['B3', 'B5']).rename(\"NDWI\")\n",
    "    mndwi=image.normalizedDifference(['B3', 'B6']).rename(\"mNDWI\")\n",
    "    ndvi_mndwi = ndvi.subtract(mndwi).rename('ndvi_mndwi')\n",
    "    cwi=image.select('B3').divide(image.select('B6')).rename(\"CWI\")\n",
    "    awei = image.expression('B2 + 2.5*B3 - 1.5*(B5+B6) - 0.25*B7',\n",
    "        {\n",
    "          'B2': image.select('B2'),\n",
    "          'B3': image.select('B3'),    \n",
    "          'B5': image.select('B5'),    \n",
    "          'B6': image.select('B6'),\n",
    "          'B7': image.select('B7'),\n",
    "        }).rename('AWEI')\n",
    "    ewi = image.expression('(B3 - B5 - B6)/(B3 + B5 + B6)',\n",
    "        {\n",
    "          'B3': image.select('B3'),    \n",
    "          'B5': image.select('B5'),    \n",
    "          'B6': image.select('B6'),\n",
    "        }).rename('EWI')\n",
    "    evi = image.expression('2.5*(B5 - B4)/(B5 + 6*B4 - 7.5*B2 + 1)',\n",
    "        {\n",
    "          'B2': image.select('B2'),\n",
    "          'B4': image.select('B4'),\n",
    "          'B5': image.select('B5'),    \n",
    "        }).rename('EVI')\n",
    "    return image.addBands(ndvi).addBands(ndwi).addBands(mndwi).addBands(cwi).addBands(awei).addBands(ewi).addBands(evi).addBands(ndvi_mndwi)"
   ]
  },
  {
   "cell_type": "markdown",
   "metadata": {},
   "source": [
    "# RF训练"
   ]
  },
  {
   "cell_type": "code",
   "execution_count": 5,
   "metadata": {
    "ExecuteTime": {
     "end_time": "2021-09-15T07:59:01.733015Z",
     "start_time": "2021-09-15T07:58:59.064526Z"
    }
   },
   "outputs": [
    {
     "name": "stdout",
     "output_type": "stream",
     "text": [
      "manual-sample number:2090\n",
      "water sample number:505\n",
      "nowater sample number:1585\n",
      "['LANDSAT/LC08/C01/T1_SR/LC08_139036_20150907', 'LANDSAT/LC08/C01/T1_SR/LC08_139035_20150822', 'LANDSAT/LC08/C01/T1_SR/LC08_139036_20150705', 'LANDSAT/LC08/C01/T1_SR/LC08_139035_20150416', 'LANDSAT/LE07/C01/T1_SR/LE07_139035_20151102', 'LANDSAT/LE07/C01/T1_SR/LE07_139036_20151001']\n"
     ]
    }
   ],
   "source": [
    "### 将人工选取样本的影像变成影像集\n",
    "## 导入人工采集的样本\n",
    "manual_samples = ee.FeatureCollection('users/311605001111/TIBET_2015')\n",
    "print('manual-sample number:{}'.format(manual_samples.size().getInfo()))\n",
    "# 水体的样本点数\n",
    "samplepoint_water = manual_samples.filter(ee.Filter.eq('label',1))\n",
    "print('water sample number:{}'.format(samplepoint_water.size().getInfo()))\n",
    "# 非水体的样本点数\n",
    "samplepoint_land = manual_samples.filter(ee.Filter.eq('label',0))\n",
    "print('nowater sample number:{}'.format(samplepoint_land.size().getInfo()))\n",
    "\n",
    "\n",
    "image_id = ee.List(manual_samples.distinct('Image_id').aggregate_array('Image_id'))\n",
    "image_set = ee.List([])\n",
    "for i in image_id.getInfo():\n",
    "    if 'LT05' in i:\n",
    "        image_set = image_set.add(ee.Image(str(i)).select(['B1', 'B2', 'B3', 'B4', 'B5', 'B7','pixel_qa'],['B2', 'B3', 'B4', 'B5', 'B6', 'B7','pixel_qa']))\n",
    "    elif 'LE07' in i:\n",
    "        image_set = image_set.add(ee.Image(str(i)).select(['B1', 'B2', 'B3', 'B4', 'B5', 'B7','pixel_qa'],['B2', 'B3', 'B4', 'B5', 'B6', 'B7','pixel_qa']))\n",
    "    else:\n",
    "        image_set = image_set.add(ee.Image(str(i)).select(['B2', 'B3', 'B4', 'B5', 'B6', 'B7','pixel_qa']))\n",
    "# 图像集，image_col\n",
    "image_col = ee.ImageCollection(image_set)\n",
    "Map.addLayer(image_col.first().clip(roi), visParams,'image')\n",
    "print(image_col.aggregate_array('system:id').getInfo())"
   ]
  },
  {
   "cell_type": "code",
   "execution_count": 6,
   "metadata": {
    "ExecuteTime": {
     "end_time": "2021-09-15T07:59:07.599254Z",
     "start_time": "2021-09-15T07:59:02.580072Z"
    }
   },
   "outputs": [
    {
     "name": "stdout",
     "output_type": "stream",
     "text": [
      "auto-sample number:5578\n",
      "筛选后，剩余的样本数：  5565\n"
     ]
    }
   ],
   "source": [
    "## 导入自动采集的样本\n",
    "samples = ee.FeatureCollection('users/311605001111/tibetan_2015')\n",
    "print('auto-sample number:{}'.format(samples.size().getInfo()))\n",
    "\n",
    "label = 'waterclass'\n",
    "bands = ['B2', 'B3', 'B4', 'B5', 'B6', 'B7','NDVI','NDWI','mNDWI','CWI','AWEI','EWI','EVI']\n",
    "# cluster与waterclass的对比\n",
    "def Compare(feature):\n",
    "    cluster = ee.Number(feature.get('cluster'))\n",
    "    waterclass = ee.Number(feature.get('waterclass'))\n",
    "    ft = ee.Algorithms.If(cluster.eq(waterclass),feature.set({'eq':1}),feature.set({'eq':0}))\n",
    "    return ft\n",
    "# k-mean聚类\n",
    "def k_mean(sampleSET):\n",
    "    clusterer = ee.Clusterer.wekaKMeans(2).train(sampleSET,bands)\n",
    "    result = sampleSET.cluster(clusterer)\n",
    "    right = result.map(Compare).filter(ee.Filter.eq('eq',0))\n",
    "    error = result.map(Compare).filter(ee.Filter.eq('eq',1))\n",
    "    filtered_sample = ee.FeatureCollection(ee.Algorithms.If(right.size().gt(error.size()),right,error))\n",
    "    return filtered_sample\n",
    "\n",
    "auto_samples = k_mean(samples)\n",
    "print(\"筛选后，剩余的样本数： \",auto_samples.size().getInfo())\n",
    "\n",
    "trainedClassifier = ee.Classifier.smileRandomForest(20).train(auto_samples,label,bands)"
   ]
  },
  {
   "cell_type": "markdown",
   "metadata": {},
   "source": [
    "# 精度验证函数"
   ]
  },
  {
   "cell_type": "code",
   "execution_count": 13,
   "metadata": {
    "ExecuteTime": {
     "end_time": "2021-09-15T08:02:47.206293Z",
     "start_time": "2021-09-15T08:02:47.198315Z"
    }
   },
   "outputs": [],
   "source": [
    "def image_accuracy(img):\n",
    "    image = maskSR(water_index(img)).select(bands).classify(trainedClassifier).eq(1).rename('waterclass')\n",
    "    manual_point = manual_samples.filter(ee.Filter.eq('Image_id',img.get('system:id')))\n",
    "    water_image = ee.Image.constant(1).toFloat().rename('label').clipToCollection(manual_point.filter(ee.Filter.eq('label',1)))\n",
    "    land_image = ee.Image.constant(0).toFloat().rename('label').clipToCollection(manual_point.filter(ee.Filter.eq('label',0))) \n",
    "    water_samples = water_image.sample(**{\n",
    "        'region': roi,\n",
    "        'scale': 30,\n",
    "        'numPixels': 4800,\n",
    "        'seed': 0,\n",
    "        'geometries': True,\n",
    "        'tileScale': 2,\n",
    "    })\n",
    "    land_samples = land_image.sample(**{\n",
    "        'region': roi,\n",
    "        'scale': 30,\n",
    "        'numPixels': 7800,\n",
    "        'seed': 0,\n",
    "        'geometries': True,\n",
    "        'tileScale': 2,\n",
    "    })\n",
    "    all_samples = ee.FeatureCollection([water_samples,land_samples]).flatten()\n",
    "    inter_points = image.sampleRegions(**{\n",
    "        'collection': all_samples,\n",
    "        'properties': ['label'],\n",
    "        'scale': 30,\n",
    "        'geometries': True,\n",
    "    })\n",
    "    inter_samples = inter_points.map(lambda i : i.setMulti({'Image_id':img.get('system:id')}))\n",
    "    return inter_samples"
   ]
  },
  {
   "cell_type": "code",
   "execution_count": 14,
   "metadata": {
    "ExecuteTime": {
     "end_time": "2021-09-15T08:03:17.563531Z",
     "start_time": "2021-09-15T08:03:05.972123Z"
    }
   },
   "outputs": [
    {
     "name": "stdout",
     "output_type": "stream",
     "text": [
      "807\n",
      "{'type': 'Feature', 'geometry': {'geodesic': False, 'type': 'Point', 'coordinates': [90.50782751534706, 34.88775711465849]}, 'id': 'LC08_139036_20150907_0_38_0', 'properties': {'Image_id': 'LANDSAT/LC08/C01/T1_SR/LC08_139036_20150907', 'label': 1, 'waterclass': 1}}\n"
     ]
    }
   ],
   "source": [
    "samples_dataset = image_col.map(image_accuracy).flatten()\n",
    "print(samples_dataset.size().getInfo())\n",
    "print(samples_dataset.first().getInfo())\n",
    "# print(samples_dataset.distinct('Image_id').aggregate_array('Image_id').getInfo())\n",
    "# print(samples_dataset.distinct('Image_id').size().getInfo())"
   ]
  },
  {
   "cell_type": "code",
   "execution_count": 15,
   "metadata": {
    "ExecuteTime": {
     "end_time": "2021-09-15T08:03:57.360109Z",
     "start_time": "2021-09-15T08:03:36.158567Z"
    }
   },
   "outputs": [
    {
     "name": "stdout",
     "output_type": "stream",
     "text": [
      "[[402, 0], [0, 405]]\n",
      "total accuracy:1\n",
      "kappa:1\n"
     ]
    }
   ],
   "source": [
    "# 利用误差矩阵进行验证\n",
    "test_accuracy = samples_dataset.errorMatrix('label', 'waterclass')\n",
    "print(test_accuracy.getInfo())\n",
    "print('total accuracy:{}'.format(test_accuracy.accuracy().getInfo()))\n",
    "print('kappa:{}'.format(test_accuracy.kappa().getInfo()))"
   ]
  },
  {
   "cell_type": "code",
   "execution_count": null,
   "metadata": {},
   "outputs": [],
   "source": []
  },
  {
   "cell_type": "code",
   "execution_count": null,
   "metadata": {
    "ExecuteTime": {
     "end_time": "2021-09-13T13:56:19.590005Z",
     "start_time": "2021-09-13T13:56:14.067460Z"
    }
   },
   "outputs": [],
   "source": [
    "miss = samples_dataset.filter(ee.Filter.eq('label',0)).filter(ee.Filter.eq('waterclass',1))\n",
    "print(miss.size().getInfo())\n",
    "print(miss.first().getInfo())\n",
    "print(miss.distinct('Image_id').aggregate_array('Image_id').getInfo())"
   ]
  },
  {
   "cell_type": "code",
   "execution_count": null,
   "metadata": {},
   "outputs": [],
   "source": []
  },
  {
   "cell_type": "code",
   "execution_count": null,
   "metadata": {},
   "outputs": [],
   "source": []
  },
  {
   "cell_type": "code",
   "execution_count": null,
   "metadata": {},
   "outputs": [],
   "source": []
  },
  {
   "cell_type": "markdown",
   "metadata": {},
   "source": [
    "# 附录"
   ]
  },
  {
   "cell_type": "code",
   "execution_count": null,
   "metadata": {
    "ExecuteTime": {
     "end_time": "2021-09-13T08:33:29.726653Z",
     "start_time": "2021-09-13T08:33:29.260723Z"
    }
   },
   "outputs": [],
   "source": [
    "id = 'LANDSAT/LC08/C01/T1_SR/LC08_123039_20200209'\n",
    "img = maskL8sr(water_index(ee.Image(id)))\n",
    "Map.addLayer(img.clip(roi), visParams,'image')"
   ]
  },
  {
   "cell_type": "code",
   "execution_count": null,
   "metadata": {
    "ExecuteTime": {
     "end_time": "2021-09-13T08:33:30.701083Z",
     "start_time": "2021-09-13T08:33:30.294886Z"
    }
   },
   "outputs": [],
   "source": [
    "munal_sample = ee.FeatureCollection('users/311605001111/WUHAN_2020').filter(ee.Filter.eq('Image_id','LANDSAT/LC08/C01/T1_SR/LC08_122039_20200218'))\n",
    "empty = ee.Image().byte()\n",
    "outlines = empty.paint(munal_sample,'label',1);\n",
    "Map.addLayer(outlines, {'palette': ['red', 'blue'],'min':0, 'max':1}, 'different color edges')"
   ]
  },
  {
   "cell_type": "code",
   "execution_count": null,
   "metadata": {
    "ExecuteTime": {
     "end_time": "2021-09-13T08:21:16.736328Z",
     "start_time": "2021-09-13T08:21:11.918672Z"
    }
   },
   "outputs": [],
   "source": [
    "# RF分类图像\n",
    "image = maskL8sr(img).select(bands).classify(trainedClassifier).eq(1).rename('waterclass')\n",
    "# 采样图像\n",
    "man_point = ee.FeatureCollection('users/311605001111/WUHAN_2020').filter(ee.Filter.eq('Image_id',id))\n",
    "water_image = ee.Image.constant(1).toFloat().rename('label')\n",
    "land_image = ee.Image.constant(0).toFloat().rename('label') \n",
    "water = water_image.clipToCollection(man_point.filter(ee.Filter.eq('label',1)))\n",
    "land = land_image.clipToCollection(man_point.filter(ee.Filter.eq('label',0)))\n",
    "water_samples = water.sample(**{\n",
    "    'region': roi,\n",
    "    'scale': 30,\n",
    "    'numPixels': 6000,\n",
    "    'seed': 0,\n",
    "    'geometries': True,\n",
    "})\n",
    "Map.addLayer(water_samples,{'color': 'yellow', 'pointSize': 100,'fillColor': 'yellow'},'water_samples')\n",
    "print(water_samples.size().getInfo())\n",
    "land_samples = land.sample(**{\n",
    "    'region': roi,\n",
    "    'scale': 30,\n",
    "    'numPixels': 100000,\n",
    "    'seed': 0,\n",
    "    'geometries': True,\n",
    "})\n",
    "Map.addLayer(land_samples,{'color': 'blue', 'pointSize': 100,'fillColor': 'blue'},'land_samples')\n",
    "print(land_samples.size().getInfo())"
   ]
  },
  {
   "cell_type": "code",
   "execution_count": null,
   "metadata": {
    "ExecuteTime": {
     "end_time": "2021-08-02T07:31:11.452420Z",
     "start_time": "2021-08-02T07:31:02.098253Z"
    },
    "scrolled": false
   },
   "outputs": [],
   "source": [
    "inter_points = image.sampleRegions(**{\n",
    "    'collection': validation_points,\n",
    "    'properties': ['label'],\n",
    "    'scale': 30,\n",
    "    'geometries': True,\n",
    "})\n",
    "print(inter_points.size().getInfo())\n",
    "# 利用误差矩阵进行验证\n",
    "test_accuracy = inter_points.errorMatrix('label', 'waterclass')\n",
    "print(test_accuracy.getInfo())\n",
    "print('total accuracy:{}'.format(test_accuracy.accuracy().getInfo()))\n",
    "print('kappa:{}'.format(test_accuracy.kappa().getInfo()))"
   ]
  },
  {
   "cell_type": "code",
   "execution_count": null,
   "metadata": {},
   "outputs": [],
   "source": []
  },
  {
   "cell_type": "code",
   "execution_count": null,
   "metadata": {},
   "outputs": [],
   "source": []
  }
 ],
 "metadata": {
  "hide_input": false,
  "kernelspec": {
   "display_name": "Python 3 (ipykernel)",
   "language": "python",
   "name": "python3"
  },
  "language_info": {
   "codemirror_mode": {
    "name": "ipython",
    "version": 3
   },
   "file_extension": ".py",
   "mimetype": "text/x-python",
   "name": "python",
   "nbconvert_exporter": "python",
   "pygments_lexer": "ipython3",
   "version": "3.8.5"
  },
  "toc": {
   "base_numbering": 1,
   "nav_menu": {},
   "number_sections": true,
   "sideBar": true,
   "skip_h1_title": false,
   "title_cell": "Table of Contents",
   "title_sidebar": "Contents",
   "toc_cell": false,
   "toc_position": {
    "height": "calc(100% - 180px)",
    "left": "10px",
    "top": "150px",
    "width": "216.094px"
   },
   "toc_section_display": true,
   "toc_window_display": false
  },
  "varInspector": {
   "cols": {
    "lenName": 16,
    "lenType": 16,
    "lenVar": 40
   },
   "kernels_config": {
    "python": {
     "delete_cmd_postfix": "",
     "delete_cmd_prefix": "del ",
     "library": "var_list.py",
     "varRefreshCmd": "print(var_dic_list())"
    },
    "r": {
     "delete_cmd_postfix": ") ",
     "delete_cmd_prefix": "rm(",
     "library": "var_list.r",
     "varRefreshCmd": "cat(var_dic_list()) "
    }
   },
   "types_to_exclude": [
    "module",
    "function",
    "builtin_function_or_method",
    "instance",
    "_Feature"
   ],
   "window_display": false
  }
 },
 "nbformat": 4,
 "nbformat_minor": 4
}
