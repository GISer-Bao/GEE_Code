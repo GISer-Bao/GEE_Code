{
 "cells": [
  {
   "cell_type": "code",
   "execution_count": 1,
   "id": "83c41e75",
   "metadata": {
    "ExecuteTime": {
     "end_time": "2021-12-30T03:44:44.021105Z",
     "start_time": "2021-12-30T03:44:44.010134Z"
    }
   },
   "outputs": [],
   "source": [
    "import os\n",
    "os.environ['HTTP_PROXY'] = \"http://127.0.0.1:10809\"\n",
    "os.environ['HTTPS_PROXY'] = \"http://127.0.0.1:10809\""
   ]
  },
  {
   "cell_type": "code",
   "execution_count": 2,
   "id": "3d074b7e",
   "metadata": {
    "ExecuteTime": {
     "end_time": "2021-12-30T03:44:49.179773Z",
     "start_time": "2021-12-30T03:44:44.441613Z"
    }
   },
   "outputs": [
    {
     "data": {
      "application/vnd.jupyter.widget-view+json": {
       "model_id": "fcce7c3ffd88431199f4d2e9b6fac41f",
       "version_major": 2,
       "version_minor": 0
      },
      "text/plain": [
       "Map(center=[20, 0], controls=(WidgetControl(options=['position', 'transparent_bg'], widget=HBox(children=(Togg…"
      ]
     },
     "metadata": {},
     "output_type": "display_data"
    }
   ],
   "source": [
    "import geemap\n",
    "import ee\n",
    "Map=geemap.Map()\n",
    "Map"
   ]
  },
  {
   "cell_type": "code",
   "execution_count": null,
   "id": "fd8b7ae8",
   "metadata": {},
   "outputs": [],
   "source": []
  },
  {
   "cell_type": "markdown",
   "id": "1160b4a4",
   "metadata": {},
   "source": [
    "# 验证区域"
   ]
  },
  {
   "cell_type": "code",
   "execution_count": 3,
   "id": "9d514775",
   "metadata": {
    "ExecuteTime": {
     "end_time": "2021-12-30T03:44:53.108878Z",
     "start_time": "2021-12-30T03:44:51.266525Z"
    }
   },
   "outputs": [
    {
     "name": "stdout",
     "output_type": "stream",
     "text": [
      "12158.079571090786\n",
      "15207.935347027158\n",
      "15374.677415453567\n",
      "15004.019123792765\n",
      "17485.59784367786\n"
     ]
    },
    {
     "ename": "NameError",
     "evalue": "name 'roi' is not defined",
     "output_type": "error",
     "traceback": [
      "\u001b[1;31m---------------------------------------------------------------------------\u001b[0m",
      "\u001b[1;31mNameError\u001b[0m                                 Traceback (most recent call last)",
      "\u001b[1;32m~\\AppData\\Local\\Temp/ipykernel_14128/987292865.py\u001b[0m in \u001b[0;36m<module>\u001b[1;34m\u001b[0m\n\u001b[0;32m     14\u001b[0m \u001b[0mtibet\u001b[0m \u001b[1;33m=\u001b[0m \u001b[0mee\u001b[0m\u001b[1;33m.\u001b[0m\u001b[0mGeometry\u001b[0m\u001b[1;33m.\u001b[0m\u001b[0mRectangle\u001b[0m\u001b[1;33m(\u001b[0m\u001b[1;33m[\u001b[0m\u001b[1;36m89.8826\u001b[0m\u001b[1;33m,\u001b[0m \u001b[1;36m34.6579\u001b[0m\u001b[1;33m,\u001b[0m\u001b[1;36m91.3626\u001b[0m\u001b[1;33m,\u001b[0m \u001b[1;36m35.8279\u001b[0m\u001b[1;33m]\u001b[0m\u001b[1;33m)\u001b[0m\u001b[1;33m\u001b[0m\u001b[1;33m\u001b[0m\u001b[0m\n\u001b[0;32m     15\u001b[0m \u001b[0mprint\u001b[0m\u001b[1;33m(\u001b[0m\u001b[1;33m(\u001b[0m\u001b[0mtibet\u001b[0m\u001b[1;33m.\u001b[0m\u001b[0marea\u001b[0m\u001b[1;33m(\u001b[0m\u001b[1;33m)\u001b[0m\u001b[1;33m.\u001b[0m\u001b[0mgetInfo\u001b[0m\u001b[1;33m(\u001b[0m\u001b[1;33m)\u001b[0m\u001b[1;33m)\u001b[0m\u001b[1;33m/\u001b[0m\u001b[1;36m1000000\u001b[0m\u001b[1;33m)\u001b[0m\u001b[1;33m\u001b[0m\u001b[1;33m\u001b[0m\u001b[0m\n\u001b[1;32m---> 16\u001b[1;33m \u001b[0mMap\u001b[0m\u001b[1;33m.\u001b[0m\u001b[0maddLayer\u001b[0m\u001b[1;33m(\u001b[0m\u001b[0mroi\u001b[0m\u001b[1;33m,\u001b[0m \u001b[1;33m{\u001b[0m\u001b[1;33m}\u001b[0m\u001b[1;33m,\u001b[0m \u001b[1;34m\"roi\"\u001b[0m\u001b[1;33m)\u001b[0m\u001b[1;33m\u001b[0m\u001b[1;33m\u001b[0m\u001b[0m\n\u001b[0m\u001b[0;32m     17\u001b[0m \u001b[0mMap\u001b[0m\u001b[1;33m.\u001b[0m\u001b[0mcenterObject\u001b[0m\u001b[1;33m(\u001b[0m\u001b[0mroi\u001b[0m\u001b[1;33m,\u001b[0m\u001b[1;36m7\u001b[0m\u001b[1;33m)\u001b[0m\u001b[1;33m\u001b[0m\u001b[1;33m\u001b[0m\u001b[0m\n",
      "\u001b[1;31mNameError\u001b[0m: name 'roi' is not defined"
     ]
    }
   ],
   "source": [
    "# 大庆市\n",
    "daqing = ee.Geometry.Rectangle([123.9355, 45.8362,125.3055, 46.8762])\n",
    "print((daqing.area().getInfo())/1000000)\n",
    "# 天津市\n",
    "tianjin = ee.Geometry.Rectangle([115.9244, 38.6272,117.4944,39.6372])\n",
    "print((tianjin.area().getInfo())/1000000)\n",
    "# 武汉市\n",
    "wuhan = ee.Geometry.Rectangle([113.7393, 29.8642,115.0993, 30.9242])\n",
    "print((wuhan.area().getInfo())/1000000)\n",
    "# 珠三角\n",
    "pearl = ee.Geometry.Rectangle([112.7614, 22.2347,114.0514, 23.2547])\n",
    "print((pearl.area().getInfo())/1000000)\n",
    "# 青藏高原\n",
    "tibet = ee.Geometry.Rectangle([89.8826, 34.6579,91.3626, 35.8279])\n",
    "print((tibet.area().getInfo())/1000000)\n",
    "Map.addLayer(roi, {}, \"roi\")\n",
    "Map.centerObject(roi,7)"
   ]
  },
  {
   "cell_type": "code",
   "execution_count": null,
   "id": "e85b8873",
   "metadata": {},
   "outputs": [],
   "source": []
  }
 ],
 "metadata": {
  "hide_input": false,
  "kernelspec": {
   "display_name": "Python 3 (ipykernel)",
   "language": "python",
   "name": "python3"
  },
  "language_info": {
   "codemirror_mode": {
    "name": "ipython",
    "version": 3
   },
   "file_extension": ".py",
   "mimetype": "text/x-python",
   "name": "python",
   "nbconvert_exporter": "python",
   "pygments_lexer": "ipython3",
   "version": "3.8.5"
  },
  "toc": {
   "base_numbering": 1,
   "nav_menu": {},
   "number_sections": true,
   "sideBar": true,
   "skip_h1_title": false,
   "title_cell": "Table of Contents",
   "title_sidebar": "Contents",
   "toc_cell": false,
   "toc_position": {},
   "toc_section_display": true,
   "toc_window_display": false
  },
  "varInspector": {
   "cols": {
    "lenName": 16,
    "lenType": 16,
    "lenVar": 40
   },
   "kernels_config": {
    "python": {
     "delete_cmd_postfix": "",
     "delete_cmd_prefix": "del ",
     "library": "var_list.py",
     "varRefreshCmd": "print(var_dic_list())"
    },
    "r": {
     "delete_cmd_postfix": ") ",
     "delete_cmd_prefix": "rm(",
     "library": "var_list.r",
     "varRefreshCmd": "cat(var_dic_list()) "
    }
   },
   "types_to_exclude": [
    "module",
    "function",
    "builtin_function_or_method",
    "instance",
    "_Feature"
   ],
   "window_display": false
  }
 },
 "nbformat": 4,
 "nbformat_minor": 5
}
