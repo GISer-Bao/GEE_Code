{
 "cells": [
  {
   "cell_type": "code",
   "execution_count": 1,
   "metadata": {
    "ExecuteTime": {
     "end_time": "2022-04-08T11:50:44.102262Z",
     "start_time": "2022-04-08T11:50:44.085308Z"
    }
   },
   "outputs": [],
   "source": [
    "import os\n",
    "os.environ['HTTP_PROXY'] = \"http://127.0.0.1:10809\"\n",
    "os.environ['HTTPS_PROXY'] = \"http://127.0.0.1:10809\""
   ]
  },
  {
   "cell_type": "code",
   "execution_count": 2,
   "metadata": {
    "ExecuteTime": {
     "end_time": "2022-04-08T11:50:53.433339Z",
     "start_time": "2022-04-08T11:50:44.357580Z"
    }
   },
   "outputs": [
    {
     "data": {
      "application/vnd.jupyter.widget-view+json": {
       "model_id": "9e6d2304625e4b2a8481af1d3781bd7f",
       "version_major": 2,
       "version_minor": 0
      },
      "text/plain": [
       "Map(center=[20, 0], controls=(WidgetControl(options=['position', 'transparent_bg'], widget=HBox(children=(Togg…"
      ]
     },
     "metadata": {},
     "output_type": "display_data"
    }
   ],
   "source": [
    "import ee\n",
    "import geemap\n",
    "# 导入相关库\n",
    "import numpy as np\n",
    "import matplotlib.pyplot as plt\n",
    "from mpl_toolkits.mplot3d import Axes3D\n",
    "Map = geemap.Map()\n",
    "Map"
   ]
  },
  {
   "cell_type": "code",
   "execution_count": 3,
   "metadata": {
    "ExecuteTime": {
     "end_time": "2022-04-08T11:50:54.205271Z",
     "start_time": "2022-04-08T11:50:53.561963Z"
    }
   },
   "outputs": [],
   "source": [
    "# # 大庆市\n",
    "# roi = ee.Geometry.Rectangle([123.9355, 45.8362,125.3055, 46.8762])\n",
    "# # 天津市\n",
    "# roi = ee.Geometry.Rectangle([115.9244, 38.6272,117.4944,39.6372])\n",
    "# # 武汉市\n",
    "# roi = ee.Geometry.Rectangle([113.7393, 29.8642,115.0993, 30.9242])\n",
    "# # 珠三角\n",
    "roi = ee.Geometry.Rectangle([112.7614, 22.2347,114.0514, 23.2547])\n",
    "# 青藏高原\n",
    "# roi = ee.Geometry.Rectangle([89.8826, 34.6579,91.3626, 35.8279])\n",
    "Map.addLayer(roi, {}, \"roi\")\n",
    "Map.centerObject(roi,8)"
   ]
  },
  {
   "cell_type": "code",
   "execution_count": 4,
   "metadata": {
    "ExecuteTime": {
     "end_time": "2022-04-08T11:50:54.771766Z",
     "start_time": "2022-04-08T11:50:54.331940Z"
    },
    "scrolled": true
   },
   "outputs": [],
   "source": [
    "# 去云、云阴影、雪掩膜函数\n",
    "def maskL8sr(image):\n",
    "    cloudShadowBitMask = (1 << 3)\n",
    "    cloudsBitMask = (1 << 5)\n",
    "    snowBitMask = (1 << 4)   \n",
    "    qa = image.select('pixel_qa')\n",
    "    mask = qa.bitwiseAnd(cloudShadowBitMask).eq(0) \\\n",
    "                   .And(qa.bitwiseAnd(cloudsBitMask).eq(0)) \\\n",
    "                   .And(qa.bitwiseAnd(snowBitMask).eq(0))\n",
    "    return image.updateMask(mask)\n",
    "# landsat影像可视化参数\n",
    "visParams = {'bands': ['B5', 'B6', 'B4'],'min': 0,'max': 3000,'gamma': 1.4}\n",
    "landsat_images = ee.ImageCollection('LANDSAT/LC08/C01/T1_SR').filterBounds(roi).filterDate('2020-01-01', '2020-12-31').map(maskL8sr)\n",
    "Map.addLayer(landsat_images.median().clip(roi),visParams,'landsat image')"
   ]
  },
  {
   "cell_type": "markdown",
   "metadata": {},
   "source": [
    "# k-mean筛选"
   ]
  },
  {
   "cell_type": "code",
   "execution_count": 5,
   "metadata": {
    "ExecuteTime": {
     "end_time": "2022-04-08T11:50:54.913348Z",
     "start_time": "2022-04-08T11:50:54.902377Z"
    }
   },
   "outputs": [],
   "source": [
    "## 异常值去除\n",
    "bands = ['B2', 'B3', 'B4', 'B5', 'B6', 'B7','NDVI','NDWI','mNDWI','CWI','AWEI','EWI','EVI']\n",
    "#### cluster与waterclass的对比\n",
    "def Compare(feature):\n",
    "    cluster = ee.Number(feature.get('cluster'))\n",
    "    waterclass = ee.Number(feature.get('waterclass'))\n",
    "    ft = ee.Algorithms.If(cluster.eq(waterclass),feature.set({'eq':1}),feature.set({'eq':0}))\n",
    "    return ft\n",
    "#### k-mean聚类\n",
    "def k_mean(sampleSET):\n",
    "    clusterer = ee.Clusterer.wekaKMeans(2).train(sampleSET,bands)\n",
    "    result = sampleSET.cluster(clusterer)\n",
    "    right = result.map(Compare).filter(ee.Filter.eq('eq',0))\n",
    "    error = result.map(Compare).filter(ee.Filter.eq('eq',1))\n",
    "    filtered_sample = ee.FeatureCollection(ee.Algorithms.If(right.size().gt(error.size()),right,error))\n",
    "    return filtered_sample\n",
    "def k_mean_outlier(sampleSET):\n",
    "    clusterer = ee.Clusterer.wekaKMeans(2).train(sampleSET,bands)\n",
    "    result = sampleSET.cluster(clusterer)\n",
    "    right = result.map(Compare).filter(ee.Filter.eq('eq',0))\n",
    "    error = result.map(Compare).filter(ee.Filter.eq('eq',1))\n",
    "    filtered_sample = ee.FeatureCollection(ee.Algorithms.If(right.size().lt(error.size()),right,error))\n",
    "    return filtered_sample"
   ]
  },
  {
   "cell_type": "code",
   "execution_count": 9,
   "metadata": {
    "ExecuteTime": {
     "end_time": "2022-04-08T11:51:22.382880Z",
     "start_time": "2022-04-08T11:51:18.013565Z"
    }
   },
   "outputs": [
    {
     "name": "stdout",
     "output_type": "stream",
     "text": [
      "抽样的永久性水体：  500\n",
      "抽样的非水体：  3000\n",
      "抽样的季节性水体：  500\n",
      "筛选前，剩余的样本数：  4000\n"
     ]
    }
   ],
   "source": [
    "# region = 'daqing'\n",
    "# sample_region = 'DAQING'\n",
    "# region = 'tianjin'\n",
    "# sample_region = 'TIANJIN'\n",
    "# region = 'wuhan'\n",
    "# sample_region = 'WUHAN'\n",
    "region = 'prd'\n",
    "sample_region = 'PRD'\n",
    "# region = 'tibet'\n",
    "# sample_region = 'TIBET'\n",
    "\n",
    "name = 'Region D'\n",
    "year = 2019\n",
    "\n",
    "pw_nw_n = ee.FeatureCollection('users/311605001111/SAMPLE_' + sample_region + '/' + region + '_kmean100_noseason' + str(year))\n",
    "pw_nw = pw_nw_n.map(lambda i : i.set({'AWEI':ee.Number(i.get('AWEI')).divide(10000)}))\n",
    "permanent_water = pw_nw.filter(ee.Filter.eq('waterclass',1)).randomColumn('random',1,'uniform').sort('random').limit(500)\n",
    "no_water = pw_nw.filter(ee.Filter.eq('waterclass',0)).randomColumn('random',1,'uniform').sort('random').limit(3000)\n",
    "print('抽样的永久性水体： ',permanent_water.size().getInfo())\n",
    "print('抽样的非水体： ',no_water.size().getInfo())\n",
    "## 季节性样本，抽样\n",
    "sww = ee.FeatureCollection('users/311605001111/SAMPLE_' + sample_region + '/' + region + '_kmean100_season' + str(year)+'_v2')\n",
    "# sww = ee.FeatureCollection('users/311605001111/SAMPLE_' + sample_region + '/' + region + '_kmean100_season' + str(year))\n",
    "sw = sww.map(lambda i : i.set({'AWEI':ee.Number(i.get('AWEI')).divide(10000)})).randomColumn('random',1,'uniform').sort('random').limit(500)\n",
    "print('抽样的季节性水体： ',sw.size().getInfo())\n",
    "## 季节性样本，分类\n",
    "bands = ['B2', 'B3', 'B4', 'B5', 'B6', 'B7','NDVI','NDWI','mNDWI','CWI','AWEI','EWI','EVI']\n",
    "cluster_samples = ee.FeatureCollection([permanent_water,no_water]).flatten()\n",
    "clusterer = ee.Clusterer.wekaKMeans(2).train(cluster_samples,bands)\n",
    "q = ee.FeatureCollection(sw.cluster(clusterer))\n",
    "q1 = q.filter(ee.Filter.eq('cluster',1))\n",
    "q0 = q.filter(ee.Filter.eq('cluster',0))\n",
    "b1 = ee.FeatureCollection(q1).filter(ee.Filter.lt('AWEI',0)).size()\n",
    "b2 = ee.FeatureCollection(q1).filter(ee.Filter.gt('AWEI',0)).size()\n",
    "c1 = ee.FeatureCollection(q0).filter(ee.Filter.lt('AWEI',0)).size()\n",
    "c2 = ee.FeatureCollection(q0).filter(ee.Filter.gt('AWEI',0)).size()\n",
    "qq1 = ee.Algorithms.If(ee.Number(b1).lt(ee.Number(b2)),q1.map(lambda i:i.set({'waterclass':1})),q1.map(lambda i:i.set({'waterclass':0})))\n",
    "qq0 = ee.Algorithms.If(ee.Number(c1).lt(ee.Number(c2)),q0.map(lambda i:i.set({'waterclass':1})),q0.map(lambda i:i.set({'waterclass':0})))\n",
    "seasonWater = ee.FeatureCollection([qq1,qq0]).flatten()\n",
    "## 合并\n",
    "total_Samples = ee.FeatureCollection([permanent_water,no_water,seasonWater]).flatten()\n",
    "print(\"筛选前，剩余的样本数： \",total_Samples.size().getInfo())\n"
   ]
  },
  {
   "cell_type": "code",
   "execution_count": 14,
   "metadata": {
    "ExecuteTime": {
     "end_time": "2022-04-08T11:52:07.948090Z",
     "start_time": "2022-04-08T11:52:04.109362Z"
    }
   },
   "outputs": [
    {
     "name": "stdout",
     "output_type": "stream",
     "text": [
      "1229\n"
     ]
    }
   ],
   "source": [
    "total_Samples = total_Samples.filterBounds(ee.Geometry.Rectangle([112.9587, 22.2386, 113.8923, 22.8829]))\n",
    "print(total_Samples.size().getInfo())"
   ]
  },
  {
   "cell_type": "code",
   "execution_count": null,
   "metadata": {
    "ExecuteTime": {
     "end_time": "2022-04-08T09:48:59.414587Z",
     "start_time": "2022-04-08T09:48:54.182580Z"
    }
   },
   "outputs": [],
   "source": []
  },
  {
   "cell_type": "markdown",
   "metadata": {},
   "source": [
    "## 筛选前"
   ]
  },
  {
   "cell_type": "code",
   "execution_count": 20,
   "metadata": {
    "ExecuteTime": {
     "end_time": "2022-04-08T12:08:38.921770Z",
     "start_time": "2022-04-08T12:08:27.909947Z"
    }
   },
   "outputs": [
    {
     "data": {
      "image/png": "[encoded data removed]",
      "text/plain": [
       "<Figure size 576x432 with 1 Axes>"
      ]
     },
     "metadata": {
      "needs_background": "light"
     },
     "output_type": "display_data"
    }
   ],
   "source": [
    "x = 'NDVI'\n",
    "y = 'mNDWI'\n",
    "\n",
    "land_x = np.array(total_Samples.filter(ee.Filter.eq('waterclass',0)).aggregate_array(x).getInfo())\n",
    "land_y = np.array(total_Samples.filter(ee.Filter.eq('waterclass',0)).aggregate_array(y).getInfo())  \n",
    "water_x = np.array(total_Samples.filter(ee.Filter.eq('waterclass',1)).aggregate_array(x).getInfo()) \n",
    "water_y = np.array(total_Samples.filter(ee.Filter.eq('waterclass',1)).aggregate_array(y).getInfo()) \n",
    "\n",
    "plt.figure(figsize=(8, 6))\n",
    "\n",
    "plt.scatter(water_x, water_y, s=3, c='#CC00CC', label = 'water')\n",
    "plt.scatter(land_x, land_y, s=3,c='#33cc33', label = 'land')\n",
    "\n",
    "plt.xlim(-0.85,1.1)\n",
    "plt.ylim(-0.8,1.1)\n",
    "plt.tick_params(labelsize=14)\n",
    "plt.xlabel(x,labelpad = 14,fontsize = 16)    \n",
    "plt.ylabel(y,labelpad = 14,fontsize = 16)\n",
    "plt.xticks([-0.5,0,0.5,1.0])\n",
    "plt.yticks([-0.5,0,0.5,1.0])\n",
    "plt.title(name + ' / initial samples set',fontsize = 20) \n",
    "plt.legend(loc='upper right',markerscale=4,prop={'size':10})\n",
    "plt.show()"
   ]
  },
  {
   "cell_type": "code",
   "execution_count": null,
   "metadata": {},
   "outputs": [],
   "source": []
  },
  {
   "cell_type": "code",
   "execution_count": null,
   "metadata": {},
   "outputs": [],
   "source": []
  },
  {
   "cell_type": "code",
   "execution_count": 15,
   "metadata": {
    "ExecuteTime": {
     "end_time": "2022-04-08T11:52:13.824439Z",
     "start_time": "2022-04-08T11:52:10.589089Z"
    }
   },
   "outputs": [
    {
     "name": "stdout",
     "output_type": "stream",
     "text": [
      "3500\n",
      "500\n"
     ]
    }
   ],
   "source": [
    "# 永久水+ 陆地\n",
    "filtered_samples1 = ee.FeatureCollection([permanent_water,no_water]).flatten()\n",
    "print(filtered_samples1.size().getInfo())\n",
    "# 季节性水体的样本\n",
    "filtered_samples = ee.FeatureCollection([seasonWater]).flatten()\n",
    "print(filtered_samples.size().getInfo())"
   ]
  },
  {
   "cell_type": "code",
   "execution_count": 16,
   "metadata": {
    "ExecuteTime": {
     "end_time": "2022-04-08T11:52:27.132880Z",
     "start_time": "2022-04-08T11:52:15.346402Z"
    }
   },
   "outputs": [
    {
     "data": {
      "image/png": "[encoded data removed]",
      "text/plain": [
       "<Figure size 576x432 with 1 Axes>"
      ]
     },
     "metadata": {
      "needs_background": "light"
     },
     "output_type": "display_data"
    }
   ],
   "source": [
    "x = 'NDVI'\n",
    "y = 'mNDWI'\n",
    "\n",
    "# 永久性水体、非水体的样本\n",
    "land_x1 = np.array(filtered_samples1.filter(ee.Filter.eq('waterclass',0)).aggregate_array(x).getInfo())\n",
    "land_y1 = np.array(filtered_samples1.filter(ee.Filter.eq('waterclass',0)).aggregate_array(y).getInfo()) \n",
    "water_x1 = np.array(filtered_samples1.filter(ee.Filter.eq('waterclass',1)).aggregate_array(x).getInfo()) \n",
    "water_y1 = np.array(filtered_samples1.filter(ee.Filter.eq('waterclass',1)).aggregate_array(y).getInfo()) \n",
    "# 季节性水体的样本\n",
    "land_x = np.array(filtered_samples.filter(ee.Filter.eq('waterclass',0)).aggregate_array(x).getInfo())\n",
    "land_y = np.array(filtered_samples.filter(ee.Filter.eq('waterclass',0)).aggregate_array(y).getInfo()) \n",
    "water_x = np.array(filtered_samples.filter(ee.Filter.eq('waterclass',1)).aggregate_array(x).getInfo()) \n",
    "water_y = np.array(filtered_samples.filter(ee.Filter.eq('waterclass',1)).aggregate_array(y).getInfo()) \n",
    "\n",
    "plt.figure(figsize=(8, 6))\n",
    "\n",
    "# plt.scatter(water_x, water_y, s=3, c='blue', label = 'season_water')\n",
    "# plt.scatter(land_x, land_y, s=3,c='red', label = 'season_land')  \n",
    "# plt.scatter(water_x1, water_y1, s=2, c='#4ad6c3', label = 'permanent_water')\n",
    "# plt.scatter(land_x1, land_y1, s=2,c='#bfd69b', label = 'land')\n",
    "plt.scatter(water_x, water_y, s=3, c='blue')\n",
    "plt.scatter(land_x, land_y, s=3,c='red')  \n",
    "plt.scatter(water_x1, water_y1, s=3, c='blue', label = 'water')\n",
    "plt.scatter(land_x1, land_y1, s=3,c='red', label = 'land')\n",
    "\n",
    "\n",
    "\n",
    "plt.xlim(-0.85,1.1)\n",
    "plt.ylim(-0.8,1.1)\n",
    "plt.tick_params(labelsize=14)\n",
    "plt.xlabel(x,labelpad = 16,fontsize = 16)    \n",
    "plt.ylabel(y,labelpad = 16,fontsize = 16)\n",
    "plt.xticks([-0.5,0,0.5,1.0])\n",
    "plt.yticks([-0.5,0,0.5,1.0])\n",
    "plt.title(name + ' / initial samples set',fontsize = 20) \n",
    "plt.legend(loc='upper right',markerscale=4,prop={'size':10})\n",
    "plt.show()"
   ]
  },
  {
   "cell_type": "code",
   "execution_count": null,
   "metadata": {},
   "outputs": [],
   "source": []
  },
  {
   "cell_type": "markdown",
   "metadata": {},
   "source": [
    "## 筛选后"
   ]
  },
  {
   "cell_type": "code",
   "execution_count": null,
   "metadata": {
    "ExecuteTime": {
     "end_time": "2022-04-08T08:51:06.571325Z",
     "start_time": "2022-04-08T08:50:13.663370Z"
    }
   },
   "outputs": [],
   "source": [
    "samples = k_mean(total_Samples)\n",
    "print(\"筛选后，剩余的样本数： \",samples.size().getInfo())\n",
    "# 永久性水体、非水体的样本\n",
    "permanent_w = samples.filter(ee.Filter.eq('point_type','permanent_water'))\n",
    "no_w = samples.filter(ee.Filter.eq('point_type','no_water'))\n",
    "filtered_samples1 = ee.FeatureCollection([permanent_w,no_w]).flatten()\n",
    "print(filtered_samples1.size().getInfo())\n",
    "# 季节性水体的样本\n",
    "filtered_samples = samples.filter(ee.Filter.eq('point_type','season'))\n",
    "print(filtered_samples.size().getInfo())"
   ]
  },
  {
   "cell_type": "code",
   "execution_count": null,
   "metadata": {
    "ExecuteTime": {
     "end_time": "2022-04-08T08:53:34.543568Z",
     "start_time": "2022-04-08T08:51:15.680960Z"
    }
   },
   "outputs": [],
   "source": [
    "x = 'NDVI'\n",
    "y = 'mNDWI'\n",
    "\n",
    "# 永久性水体、非水体的样本\n",
    "land_x1 = np.array(filtered_samples1.filter(ee.Filter.eq('waterclass',0)).aggregate_array(x).getInfo())\n",
    "land_y1 = np.array(filtered_samples1.filter(ee.Filter.eq('waterclass',0)).aggregate_array(y).getInfo()) \n",
    "water_x1 = np.array(filtered_samples1.filter(ee.Filter.eq('waterclass',1)).aggregate_array(x).getInfo()) \n",
    "water_y1 = np.array(filtered_samples1.filter(ee.Filter.eq('waterclass',1)).aggregate_array(y).getInfo()) \n",
    "# 季节性水体的样本\n",
    "land_x = np.array(filtered_samples.filter(ee.Filter.eq('waterclass',0)).aggregate_array(x).getInfo())\n",
    "land_y = np.array(filtered_samples.filter(ee.Filter.eq('waterclass',0)).aggregate_array(y).getInfo()) \n",
    "water_x = np.array(filtered_samples.filter(ee.Filter.eq('waterclass',1)).aggregate_array(x).getInfo()) \n",
    "water_y = np.array(filtered_samples.filter(ee.Filter.eq('waterclass',1)).aggregate_array(y).getInfo()) \n",
    "\n",
    "plt.figure(figsize=(8, 6))\n",
    "\n",
    "plt.scatter(water_x, water_y, s=3, c='blue', label = 'season_water')\n",
    "plt.scatter(land_x, land_y, s=3,c='red', label = 'season_land')  \n",
    "plt.scatter(water_x1, water_y1, s=2, c='#4ad6c3', label = 'permanent_water')\n",
    "plt.scatter(land_x1, land_y1, s=2,c='#bfd69b', label = 'land')\n",
    "\n",
    "\n",
    "plt.xlim(-0.85,1.1)\n",
    "plt.ylim(-0.8,1.1)\n",
    "plt.tick_params(labelsize=14)\n",
    "plt.xlabel(x,labelpad = 16,fontsize = 16)    \n",
    "plt.ylabel(y,labelpad = 16,fontsize = 16)\n",
    "plt.xticks([-0.5,0,0.5,1.0])\n",
    "plt.yticks([-0.5,0,0.5,1.0])\n",
    "plt.title(name + ' / filtered samples set',fontsize = 20) \n",
    "plt.legend(loc='upper right',markerscale=4,prop={'size':10})\n",
    "plt.show()"
   ]
  },
  {
   "cell_type": "code",
   "execution_count": null,
   "metadata": {},
   "outputs": [],
   "source": []
  },
  {
   "cell_type": "code",
   "execution_count": null,
   "metadata": {},
   "outputs": [],
   "source": []
  },
  {
   "cell_type": "markdown",
   "metadata": {},
   "source": [
    "## 异常值"
   ]
  },
  {
   "cell_type": "code",
   "execution_count": null,
   "metadata": {
    "ExecuteTime": {
     "end_time": "2022-04-08T08:55:56.025795Z",
     "start_time": "2022-04-08T08:54:42.692925Z"
    }
   },
   "outputs": [],
   "source": [
    "samples = k_mean_outlier(total_Samples)\n",
    "print(\"异常点： \",samples.size().getInfo())\n",
    "# 永久性水体、非水体的样本\n",
    "permanent_w = samples.filter(ee.Filter.eq('point_type','permanent_water'))\n",
    "no_w = samples.filter(ee.Filter.eq('point_type','no_water'))\n",
    "filtered_samples1 = ee.FeatureCollection([permanent_w,no_w]).flatten()\n",
    "print(filtered_samples1.size().getInfo())\n",
    "# 季节性水体的样本\n",
    "filtered_samples = samples.filter(ee.Filter.eq('point_type','season'))\n",
    "print(filtered_samples.size().getInfo())"
   ]
  },
  {
   "cell_type": "code",
   "execution_count": null,
   "metadata": {
    "ExecuteTime": {
     "end_time": "2022-04-08T08:58:19.519254Z",
     "start_time": "2022-04-08T08:56:04.889090Z"
    }
   },
   "outputs": [],
   "source": [
    "x = 'NDVI'\n",
    "y = 'mNDWI'\n",
    "\n",
    "# 永久性水体、非水体的样本\n",
    "land_x1 = np.array(filtered_samples1.filter(ee.Filter.eq('waterclass',0)).aggregate_array(x).getInfo())\n",
    "land_y1 = np.array(filtered_samples1.filter(ee.Filter.eq('waterclass',0)).aggregate_array(y).getInfo()) \n",
    "water_x1 = np.array(filtered_samples1.filter(ee.Filter.eq('waterclass',1)).aggregate_array(x).getInfo()) \n",
    "water_y1 = np.array(filtered_samples1.filter(ee.Filter.eq('waterclass',1)).aggregate_array(y).getInfo()) \n",
    "# 季节性水体的样本\n",
    "land_x = np.array(filtered_samples.filter(ee.Filter.eq('waterclass',0)).aggregate_array(x).getInfo())\n",
    "land_y = np.array(filtered_samples.filter(ee.Filter.eq('waterclass',0)).aggregate_array(y).getInfo()) \n",
    "water_x = np.array(filtered_samples.filter(ee.Filter.eq('waterclass',1)).aggregate_array(x).getInfo()) \n",
    "water_y = np.array(filtered_samples.filter(ee.Filter.eq('waterclass',1)).aggregate_array(y).getInfo()) \n",
    "\n",
    "plt.figure(figsize=(8, 6))\n",
    "\n",
    "plt.scatter(water_x, water_y, s=3, c='blue', label = 'season_water')\n",
    "plt.scatter(land_x, land_y, s=3,c='red', label = 'season_land')  \n",
    "plt.scatter(water_x1, water_y1, s=2, c='#4ad6c3', label = 'permanent_water')\n",
    "plt.scatter(land_x1, land_y1, s=2,c='#bfd69b', label = 'land')\n",
    "\n",
    "\n",
    "plt.xlim(-0.85,1.1)\n",
    "plt.ylim(-0.8,1.1)\n",
    "plt.tick_params(labelsize=14)\n",
    "plt.xlabel(x,labelpad = 16,fontsize = 16)    \n",
    "plt.ylabel(y,labelpad = 16,fontsize = 16)\n",
    "plt.xticks([-0.5,0,0.5,1.0])\n",
    "plt.yticks([-0.5,0,0.5,1.0])\n",
    "plt.title(name + ' / outlier samples',fontsize = 20) \n",
    "plt.legend(loc='upper right',markerscale=4,prop={'size':10})\n",
    "plt.show()"
   ]
  },
  {
   "cell_type": "code",
   "execution_count": null,
   "metadata": {},
   "outputs": [],
   "source": []
  },
  {
   "cell_type": "code",
   "execution_count": null,
   "metadata": {},
   "outputs": [],
   "source": []
  }
 ],
 "metadata": {
  "hide_input": false,
  "kernelspec": {
   "display_name": "Python 3 (ipykernel)",
   "language": "python",
   "name": "python3"
  },
  "language_info": {
   "codemirror_mode": {
    "name": "ipython",
    "version": 3
   },
   "file_extension": ".py",
   "mimetype": "text/x-python",
   "name": "python",
   "nbconvert_exporter": "python",
   "pygments_lexer": "ipython3",
   "version": "3.8.12"
  },
  "toc": {
   "base_numbering": 1,
   "nav_menu": {},
   "number_sections": true,
   "sideBar": true,
   "skip_h1_title": false,
   "title_cell": "Table of Contents",
   "title_sidebar": "Contents",
   "toc_cell": false,
   "toc_position": {
    "height": "calc(100% - 180px)",
    "left": "10px",
    "top": "150px",
    "width": "256.108px"
   },
   "toc_section_display": true,
   "toc_window_display": true
  },
  "varInspector": {
   "cols": {
    "lenName": 16,
    "lenType": 16,
    "lenVar": 40
   },
   "kernels_config": {
    "python": {
     "delete_cmd_postfix": "",
     "delete_cmd_prefix": "del ",
     "library": "var_list.py",
     "varRefreshCmd": "print(var_dic_list())"
    },
    "r": {
     "delete_cmd_postfix": ") ",
     "delete_cmd_prefix": "rm(",
     "library": "var_list.r",
     "varRefreshCmd": "cat(var_dic_list()) "
    }
   },
   "types_to_exclude": [
    "module",
    "function",
    "builtin_function_or_method",
    "instance",
    "_Feature"
   ],
   "window_display": false
  }
 },
 "nbformat": 4,
 "nbformat_minor": 4
}
