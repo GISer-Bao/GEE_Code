{
 "cells": [
  {
   "cell_type": "code",
   "execution_count": null,
   "metadata": {
    "ExecuteTime": {
     "end_time": "2022-02-25T02:59:03.134024Z",
     "start_time": "2022-02-25T02:59:03.120061Z"
    }
   },
   "outputs": [],
   "source": [
    "import os\n",
    "os.environ['HTTP_PROXY'] = \"http://127.0.0.1:10809\"\n",
    "os.environ['HTTPS_PROXY'] = \"http://127.0.0.1:10809\""
   ]
  },
  {
   "cell_type": "code",
   "execution_count": null,
   "metadata": {
    "ExecuteTime": {
     "end_time": "2022-02-25T02:59:17.090443Z",
     "start_time": "2022-02-25T02:59:03.377230Z"
    }
   },
   "outputs": [],
   "source": [
    "import ee\n",
    "import geemap\n",
    "# 导入相关库\n",
    "import numpy as np\n",
    "import matplotlib.pyplot as plt\n",
    "from mpl_toolkits.mplot3d import Axes3D\n",
    "Map = geemap.Map()\n",
    "Map"
   ]
  },
  {
   "cell_type": "code",
   "execution_count": null,
   "metadata": {
    "ExecuteTime": {
     "end_time": "2022-02-25T02:59:19.145984Z",
     "start_time": "2022-02-25T02:59:17.142395Z"
    }
   },
   "outputs": [],
   "source": [
    "# # 大庆市\n",
    "# roi = ee.Geometry.Rectangle([123.9355, 45.8362,125.3055, 46.8762])\n",
    "# # 天津市\n",
    "# roi = ee.Geometry.Rectangle([115.9244, 38.6272,117.4944,39.6372])\n",
    "# # 武汉市\n",
    "roi = ee.Geometry.Rectangle([113.7393, 29.8642,115.0993, 30.9242])\n",
    "# # 珠三角\n",
    "# roi = ee.Geometry.Rectangle([112.7614, 22.2347,114.0514, 23.2547])\n",
    "# 青藏高原\n",
    "# roi = ee.Geometry.Rectangle([89.8826, 34.6579,91.3626, 35.8279])\n",
    "Map.addLayer(roi, {}, \"roi\")\n",
    "Map.centerObject(roi,8)"
   ]
  },
  {
   "cell_type": "code",
   "execution_count": null,
   "metadata": {
    "ExecuteTime": {
     "end_time": "2022-02-25T02:59:19.741087Z",
     "start_time": "2022-02-25T02:59:19.194823Z"
    },
    "scrolled": true
   },
   "outputs": [],
   "source": [
    "# 去云、云阴影、雪掩膜函数\n",
    "def maskL8sr(image):\n",
    "    cloudShadowBitMask = (1 << 3)\n",
    "    cloudsBitMask = (1 << 5)\n",
    "    snowBitMask = (1 << 4)   \n",
    "    qa = image.select('pixel_qa')\n",
    "    mask = qa.bitwiseAnd(cloudShadowBitMask).eq(0) \\\n",
    "                   .And(qa.bitwiseAnd(cloudsBitMask).eq(0)) \\\n",
    "                   .And(qa.bitwiseAnd(snowBitMask).eq(0))\n",
    "    return image.updateMask(mask)\n",
    "# landsat影像可视化参数\n",
    "visParams = {'bands': ['B5', 'B6', 'B4'],'min': 0,'max': 3000,'gamma': 1.4}\n",
    "landsat_images = ee.ImageCollection('LANDSAT/LC08/C01/T1_SR').filterBounds(roi).filterDate('2020-01-01', '2020-12-31').map(maskL8sr)\n",
    "Map.addLayer(landsat_images.median().clip(roi),visParams,'landsat image')"
   ]
  },
  {
   "cell_type": "markdown",
   "metadata": {},
   "source": [
    "# 绘制散点图"
   ]
  },
  {
   "cell_type": "code",
   "execution_count": null,
   "metadata": {
    "ExecuteTime": {
     "end_time": "2021-12-09T09:20:14.836765Z",
     "start_time": "2021-12-09T09:20:14.822475Z"
    }
   },
   "outputs": [],
   "source": [
    "region = 'wuhan'\n",
    "sample_region = 'WUHAN'\n",
    "year = 2020"
   ]
  },
  {
   "cell_type": "code",
   "execution_count": null,
   "metadata": {
    "ExecuteTime": {
     "end_time": "2021-12-09T01:19:29.540047Z",
     "start_time": "2021-12-09T01:19:26.252173Z"
    }
   },
   "outputs": [],
   "source": [
    "pw_nw = ee.FeatureCollection('users/311605001111/SAMPLE_' + sample_region + '/' + region + '_kmean100_noseason' + str(year))\n",
    "permanent_water = pw_nw.filter(ee.Filter.eq('waterclass',1)).randomColumn('random',1,'uniform').sort('random').limit(500)\n",
    "no_water = pw_nw.filter(ee.Filter.eq('waterclass',0)).randomColumn('random',1,'uniform').sort('random').limit(3000)\n",
    "print('抽样的永久性水体： ',permanent_water.size().getInfo())\n",
    "print('抽样的非水体： ',no_water.size().getInfo())\n",
    "## 季节性样本，抽样\n",
    "# sw = ee.FeatureCollection('users/311605001111/SAMPLE_' + sample_region + '/' + region + '_kmean100_season' + str(year)+'_v2').randomColumn('random',1,'uniform').sort('random').limit(500)\n",
    "sw = ee.FeatureCollection('users/311605001111/SAMPLE_' + sample_region + '/' + region + '_kmean100_season' + str(year)).randomColumn('random',1,'uniform').sort('random').limit(500)\n",
    "print('抽样的季节性水体： ',sw.size().getInfo())\n",
    "## 季节性样本，分类\n",
    "bands = ['B2', 'B3', 'B4', 'B5', 'B6', 'B7','NDVI','NDWI','mNDWI','CWI','AWEI','EWI','EVI']\n",
    "cluster_samples = ee.FeatureCollection([permanent_water,no_water]).flatten()\n",
    "clusterer = ee.Clusterer.wekaKMeans(2).train(cluster_samples,bands)\n",
    "q = ee.FeatureCollection(sw.cluster(clusterer))\n",
    "q1 = q.filter(ee.Filter.eq('cluster',1))\n",
    "q0 = q.filter(ee.Filter.eq('cluster',0))\n",
    "b1 = ee.FeatureCollection(q1).filter(ee.Filter.lt('AWEI',0)).size()\n",
    "b2 = ee.FeatureCollection(q1).filter(ee.Filter.gt('AWEI',0)).size()\n",
    "c1 = ee.FeatureCollection(q0).filter(ee.Filter.lt('AWEI',0)).size()\n",
    "c2 = ee.FeatureCollection(q0).filter(ee.Filter.gt('AWEI',0)).size()\n",
    "qq1 = ee.Algorithms.If(ee.Number(b1).lt(ee.Number(b2)),q1.map(lambda i:i.set({'waterclass':1})),q1.map(lambda i:i.set({'waterclass':0})))\n",
    "qq0 = ee.Algorithms.If(ee.Number(c1).lt(ee.Number(c2)),q0.map(lambda i:i.set({'waterclass':1})),q0.map(lambda i:i.set({'waterclass':0})))\n",
    "seasonWater = ee.FeatureCollection([qq1,qq0]).flatten()\n",
    "## 合并\n",
    "total_Samples = ee.FeatureCollection([permanent_water,no_water,seasonWater]).flatten()\n",
    "print(\"筛选前，剩余的样本数： \",total_Samples.size().getInfo())"
   ]
  },
  {
   "cell_type": "code",
   "execution_count": null,
   "metadata": {},
   "outputs": [],
   "source": []
  },
  {
   "cell_type": "markdown",
   "metadata": {},
   "source": [
    "## 二维散点图"
   ]
  },
  {
   "cell_type": "code",
   "execution_count": null,
   "metadata": {
    "ExecuteTime": {
     "end_time": "2021-09-06T01:06:37.559265Z",
     "start_time": "2021-09-06T01:06:36.682095Z"
    }
   },
   "outputs": [],
   "source": [
    "# 永久性水体、非水体的样本\n",
    "filtered_sample1 = ee.FeatureCollection('users/311605001111/daqing_new_noseason2020')\n",
    "print(filtered_sample1.size().getInfo())\n",
    "\n",
    "# 季节性水体的样本\n",
    "filtered_sample = ee.FeatureCollection('users/311605001111/daqing_new_season2020')\n",
    "print(filtered_sample.size().getInfo())"
   ]
  },
  {
   "cell_type": "code",
   "execution_count": null,
   "metadata": {
    "ExecuteTime": {
     "end_time": "2021-09-06T01:31:41.351833Z",
     "start_time": "2021-09-06T01:31:36.308778Z"
    },
    "scrolled": false
   },
   "outputs": [],
   "source": [
    "# x = 'B5'\n",
    "# y = 'B4'\n",
    "x = 'B3'\n",
    "y = 'B6'\n",
    "# 永久性水体、非水体的样本\n",
    "land_x1 = np.array(filtered_sample1.filter(ee.Filter.eq('waterclass',0)).aggregate_array(x).getInfo())\n",
    "land_y1 = np.array(filtered_sample1.filter(ee.Filter.eq('waterclass',0)).aggregate_array(y).getInfo()) \n",
    "water_x1 = np.array(filtered_sample1.filter(ee.Filter.eq('waterclass',1)).aggregate_array(x).getInfo()) \n",
    "water_y1 = np.array(filtered_sample1.filter(ee.Filter.eq('waterclass',1)).aggregate_array(y).getInfo()) \n",
    "# 季节性水体的样本\n",
    "land_x = np.array(filtered_sample.filter(ee.Filter.eq('waterclass',0)).aggregate_array(x).getInfo())\n",
    "land_y = np.array(filtered_sample.filter(ee.Filter.eq('waterclass',0)).aggregate_array(y).getInfo()) \n",
    "water_x = np.array(filtered_sample.filter(ee.Filter.eq('waterclass',1)).aggregate_array(x).getInfo()) \n",
    "water_y = np.array(filtered_sample.filter(ee.Filter.eq('waterclass',1)).aggregate_array(y).getInfo()) \n",
    "\n",
    "plt.figure(figsize=(8, 6))\n",
    "\n",
    "plt.scatter(water_x,water_y,s=5,c='blue', label = 'season_water')\n",
    "plt.scatter(land_x,land_y,s=5,c='red', label = 'season_land')\n",
    "# plt.scatter(water_x1,water_y1,s=2,c='#4ad6c3', label = 'permanent_water')\n",
    "# plt.scatter(land_x1,land_y1,s=2,c='#bfd69b', label = 'land')\n",
    "\n",
    "# # B5/B4\n",
    "# plt.xlim(0,6300)\n",
    "# plt.ylim(-100,2700)\n",
    "# plt.title('B4/B5')\n",
    "\n",
    "# B3/B6\n",
    "plt.xlim(0,2400)\n",
    "plt.ylim(-100,4000)\n",
    "plt.tick_params(labelsize=18)\n",
    "\n",
    "plt.xlabel(x,fontsize=25)    \n",
    "plt.ylabel(y,fontsize=25)\n",
    "\n",
    "plt.title('B3/B6',fontsize=27)\n",
    "plt.legend(prop={'size':18},markerscale=6,loc = 'upper right')\n",
    "# plt.legend(prop={'size':11},markerscale=3,loc = 'lower right')\n",
    "plt.show()"
   ]
  },
  {
   "cell_type": "markdown",
   "metadata": {
    "heading_collapsed": true
   },
   "source": [
    "## 三维散点图"
   ]
  },
  {
   "cell_type": "code",
   "execution_count": null,
   "metadata": {
    "ExecuteTime": {
     "end_time": "2021-12-09T01:20:21.108746Z",
     "start_time": "2021-12-09T01:20:17.755246Z"
    },
    "hidden": true
   },
   "outputs": [],
   "source": [
    "# print(no_water.filter(ee.Filter.eq('waterclass',1)).size().getInfo())\n",
    "# 永久性水体、非水体的样本\n",
    "permanent_water = total_Samples.filter(ee.Filter.eq('point_type','permanent_water'))\n",
    "no_water = total_Samples.filter(ee.Filter.eq('point_type','no_water'))\n",
    "\n",
    "filtered_sample1 = ee.FeatureCollection([permanent_water,no_water]).flatten()\n",
    "print(filtered_sample1.size().getInfo())\n",
    "\n",
    "# 季节性水体的样本\n",
    "filtered_sample = total_Samples.filter(ee.Filter.eq('point_type','season'))\n",
    "print(filtered_sample.size().getInfo())"
   ]
  },
  {
   "cell_type": "markdown",
   "metadata": {
    "heading_collapsed": true,
    "hidden": true
   },
   "source": [
    "### 静态"
   ]
  },
  {
   "cell_type": "code",
   "execution_count": null,
   "metadata": {
    "ExecuteTime": {
     "end_time": "2021-12-09T01:15:52.970005Z",
     "start_time": "2021-12-09T01:14:16.884526Z"
    },
    "hidden": true
   },
   "outputs": [],
   "source": [
    "%matplotlib inline\n",
    "\n",
    "x = 'NDVI'\n",
    "y = 'mNDWI'\n",
    "z = 'AWEI'\n",
    "# 全部样本\n",
    "land_x1 =np.array(filtered_sample1.filter(ee.Filter.eq('waterclass',0)).aggregate_array(x).getInfo()) \n",
    "land_y1 =np.array(filtered_sample1.filter(ee.Filter.eq('waterclass',0)).aggregate_array(y).getInfo()) \n",
    "land_z1 =np.array(filtered_sample1.filter(ee.Filter.eq('waterclass',0)).aggregate_array(z).getInfo()) \n",
    "water_x1 =np.array(filtered_sample1.filter(ee.Filter.eq('waterclass',1)).aggregate_array(x).getInfo()) \n",
    "water_y1 =np.array(filtered_sample1.filter(ee.Filter.eq('waterclass',1)).aggregate_array(y).getInfo()) \n",
    "water_z1 =np.array(filtered_sample1.filter(ee.Filter.eq('waterclass',1)).aggregate_array(z).getInfo()) \n",
    "\n",
    "land_x =np.array(filtered_sample.filter(ee.Filter.eq('waterclass',0)).aggregate_array(x).getInfo()) \n",
    "land_y =np.array(filtered_sample.filter(ee.Filter.eq('waterclass',0)).aggregate_array(y).getInfo()) \n",
    "land_z =np.array(filtered_sample.filter(ee.Filter.eq('waterclass',0)).aggregate_array(z).getInfo()) \n",
    "water_x =np.array(filtered_sample.filter(ee.Filter.eq('waterclass',1)).aggregate_array(x).getInfo()) \n",
    "water_y =np.array(filtered_sample.filter(ee.Filter.eq('waterclass',1)).aggregate_array(y).getInfo()) \n",
    "water_z =np.array(filtered_sample.filter(ee.Filter.eq('waterclass',1)).aggregate_array(z).getInfo()) \n",
    "\n",
    "# 创建一个三维的绘图工程\n",
    "plt.figure(figsize=(8, 6))\n",
    "\n",
    "ax = plt.subplot(111, projection='3d')  \n",
    "# 绘制数据点\n",
    "ax.scatter(water_x1, water_y1, water_z1, s=2, c='blue', label = 'permanent_water')\n",
    "ax.scatter(land_x1, land_y1, land_z1, s=2,c='red', label = 'land')\n",
    "# ax.scatter(water_x, water_y, water_z, s=3, c='blue', label = 'season_water')\n",
    "# ax.scatter(land_x, land_y, land_z, s=3,c='red', label = 'season_land')  \n",
    "ax.view_init(32,-51)\n",
    "# 坐标轴\n",
    "ax.set_xlim3d(-0.85,1.1)\n",
    "ax.set_ylim3d(-0.8,1.1)\n",
    "ax.set_zlim3d(-15000,5300)\n",
    "ax.set_xlabel(x,fontsize = 11)\n",
    "ax.set_ylabel(y,fontsize = 11)\n",
    "ax.set_zlabel(z,labelpad = 11,rotation=90,fontsize = 11)\n",
    "plt.xticks([-0.5,0,0.5,1.0])\n",
    "plt.yticks([-0.5,0,0.5,1.0])\n",
    "plt.title('Title: NDVI/MNDWI/AWEI') \n",
    "plt.legend(loc='upper right',markerscale=4,prop={'size':10})\n",
    "plt.show()"
   ]
  },
  {
   "cell_type": "markdown",
   "metadata": {
    "hidden": true
   },
   "source": [
    "### 动态"
   ]
  },
  {
   "cell_type": "code",
   "execution_count": null,
   "metadata": {
    "ExecuteTime": {
     "end_time": "2021-12-09T01:20:42.239602Z",
     "start_time": "2021-12-09T01:20:25.484934Z"
    },
    "hidden": true
   },
   "outputs": [],
   "source": [
    "%matplotlib notebook\n",
    "\n",
    "x = 'NDVI'\n",
    "y = 'mNDWI'\n",
    "z = 'AWEI'\n",
    "# 全部样本\n",
    "land_x1 =np.array(filtered_sample1.filter(ee.Filter.eq('waterclass',0)).aggregate_array(x).getInfo()) \n",
    "land_y1 =np.array(filtered_sample1.filter(ee.Filter.eq('waterclass',0)).aggregate_array(y).getInfo()) \n",
    "land_z1 =np.array(filtered_sample1.filter(ee.Filter.eq('waterclass',0)).aggregate_array(z).getInfo()) \n",
    "water_x1 =np.array(filtered_sample1.filter(ee.Filter.eq('waterclass',1)).aggregate_array(x).getInfo()) \n",
    "water_y1 =np.array(filtered_sample1.filter(ee.Filter.eq('waterclass',1)).aggregate_array(y).getInfo()) \n",
    "water_z1 =np.array(filtered_sample1.filter(ee.Filter.eq('waterclass',1)).aggregate_array(z).getInfo()) \n",
    "\n",
    "land_x =np.array(filtered_sample.filter(ee.Filter.eq('waterclass',0)).aggregate_array(x).getInfo()) \n",
    "land_y =np.array(filtered_sample.filter(ee.Filter.eq('waterclass',0)).aggregate_array(y).getInfo()) \n",
    "land_z =np.array(filtered_sample.filter(ee.Filter.eq('waterclass',0)).aggregate_array(z).getInfo()) \n",
    "water_x =np.array(filtered_sample.filter(ee.Filter.eq('waterclass',1)).aggregate_array(x).getInfo()) \n",
    "water_y =np.array(filtered_sample.filter(ee.Filter.eq('waterclass',1)).aggregate_array(y).getInfo()) \n",
    "water_z =np.array(filtered_sample.filter(ee.Filter.eq('waterclass',1)).aggregate_array(z).getInfo()) \n",
    "\n",
    "# 创建一个三维的绘图工程\n",
    "plt.figure(figsize=(10,8))\n",
    "\n",
    "ax = plt.subplot(111, projection='3d')  \n",
    "# 绘制数据点\n",
    "ax.scatter(water_x1, water_y1, water_z1, s=2, c='blue', label = 'permanent_water')\n",
    "ax.scatter(land_x1, land_y1, land_z1, s=2,c='red', label = 'land')\n",
    "# ax.scatter(water_x, water_y, water_z, s=3, c='blue', label = 'season_water')\n",
    "# ax.scatter(land_x, land_y, land_z, s=3,c='red', label = 'season_land')  \n",
    "ax.view_init(32,-51)\n",
    "# 坐标轴\n",
    "ax.set_xlim3d(-0.85,1.1)\n",
    "ax.set_ylim3d(-0.8,1.1)\n",
    "ax.set_zlim3d(-15000,5300)\n",
    "ax.set_xlabel(x,fontsize = 11)\n",
    "ax.set_ylabel(y,fontsize = 11)\n",
    "ax.set_zlabel(z,labelpad = 11,rotation=90,fontsize = 11)\n",
    "plt.xticks([-0.5,0,0.5,1.0])\n",
    "plt.yticks([-0.5,0,0.5,1.0])\n",
    "plt.title('Title: NDVI/MNDWI/AWEI') \n",
    "plt.legend(loc='upper right',markerscale=6,prop={'size':16})\n",
    "plt.show()"
   ]
  },
  {
   "cell_type": "markdown",
   "metadata": {
    "heading_collapsed": true
   },
   "source": [
    "# k-mean筛选"
   ]
  },
  {
   "cell_type": "code",
   "execution_count": null,
   "metadata": {
    "ExecuteTime": {
     "end_time": "2021-12-27T07:10:15.090959Z",
     "start_time": "2021-12-27T07:10:15.072976Z"
    },
    "hidden": true
   },
   "outputs": [],
   "source": [
    "## 异常值去除\n",
    "bands = ['B2', 'B3', 'B4', 'B5', 'B6', 'B7','NDVI','NDWI','mNDWI','CWI','AWEI','EWI','EVI']\n",
    "#### cluster与waterclass的对比\n",
    "def Compare(feature):\n",
    "    cluster = ee.Number(feature.get('cluster'))\n",
    "    waterclass = ee.Number(feature.get('waterclass'))\n",
    "    ft = ee.Algorithms.If(cluster.eq(waterclass),feature.set({'eq':1}),feature.set({'eq':0}))\n",
    "    return ft\n",
    "#### k-mean聚类\n",
    "def k_mean(sampleSET):\n",
    "    clusterer = ee.Clusterer.wekaKMeans(2).train(sampleSET,bands)\n",
    "    result = sampleSET.cluster(clusterer)\n",
    "    right = result.map(Compare).filter(ee.Filter.eq('eq',0))\n",
    "    error = result.map(Compare).filter(ee.Filter.eq('eq',1))\n",
    "    filtered_sample = ee.FeatureCollection(ee.Algorithms.If(right.size().gt(error.size()),right,error))\n",
    "    return filtered_sample\n",
    "def k_mean_outlier(sampleSET):\n",
    "    clusterer = ee.Clusterer.wekaKMeans(2).train(sampleSET,bands)\n",
    "    result = sampleSET.cluster(clusterer)\n",
    "    right = result.map(Compare).filter(ee.Filter.eq('eq',0))\n",
    "    error = result.map(Compare).filter(ee.Filter.eq('eq',1))\n",
    "    filtered_sample = ee.FeatureCollection(ee.Algorithms.If(right.size().lt(error.size()),right,error))\n",
    "    return filtered_sample"
   ]
  },
  {
   "cell_type": "code",
   "execution_count": null,
   "metadata": {
    "ExecuteTime": {
     "end_time": "2021-12-27T07:10:20.512620Z",
     "start_time": "2021-12-27T07:10:20.497311Z"
    },
    "hidden": true
   },
   "outputs": [],
   "source": [
    "region = 'wuhan'\n",
    "sample_region = 'WUHAN'\n",
    "year = 2019"
   ]
  },
  {
   "cell_type": "code",
   "execution_count": null,
   "metadata": {
    "ExecuteTime": {
     "end_time": "2021-12-27T07:10:46.637599Z",
     "start_time": "2021-12-27T07:10:21.969912Z"
    },
    "hidden": true
   },
   "outputs": [],
   "source": [
    "pw_nw = ee.FeatureCollection('users/311605001111/SAMPLE_' + sample_region + '/' + region + '_kmean100_noseason' + str(year))\n",
    "permanent_water = pw_nw.filter(ee.Filter.eq('waterclass',1)).randomColumn('random',1,'uniform').sort('random').limit(500)\n",
    "no_water = pw_nw.filter(ee.Filter.eq('waterclass',0)).randomColumn('random',1,'uniform').sort('random').limit(3000)\n",
    "print('抽样的永久性水体： ',permanent_water.size().getInfo())\n",
    "print('抽样的非水体： ',no_water.size().getInfo())\n",
    "## 季节性样本，抽样\n",
    "# sw = ee.FeatureCollection('users/311605001111/SAMPLE_' + sample_region + '/' + region + '_kmean100_season' + str(year)+'_v2').randomColumn('random',1,'uniform').sort('random').limit(500)\n",
    "sw = ee.FeatureCollection('users/311605001111/SAMPLE_' + sample_region + '/' + region + '_kmean100_season' + str(year)).randomColumn('random',1,'uniform').sort('random').limit(500)\n",
    "print('抽样的季节性水体： ',sw.size().getInfo())\n",
    "## 季节性样本，分类\n",
    "bands = ['B2', 'B3', 'B4', 'B5', 'B6', 'B7','NDVI','NDWI','mNDWI','CWI','AWEI','EWI','EVI']\n",
    "cluster_samples = ee.FeatureCollection([permanent_water,no_water]).flatten()\n",
    "clusterer = ee.Clusterer.wekaKMeans(2).train(cluster_samples,bands)\n",
    "q = ee.FeatureCollection(sw.cluster(clusterer))\n",
    "q1 = q.filter(ee.Filter.eq('cluster',1))\n",
    "q0 = q.filter(ee.Filter.eq('cluster',0))\n",
    "b1 = ee.FeatureCollection(q1).filter(ee.Filter.lt('AWEI',0)).size()\n",
    "b2 = ee.FeatureCollection(q1).filter(ee.Filter.gt('AWEI',0)).size()\n",
    "c1 = ee.FeatureCollection(q0).filter(ee.Filter.lt('AWEI',0)).size()\n",
    "c2 = ee.FeatureCollection(q0).filter(ee.Filter.gt('AWEI',0)).size()\n",
    "qq1 = ee.Algorithms.If(ee.Number(b1).lt(ee.Number(b2)),q1.map(lambda i:i.set({'waterclass':1})),q1.map(lambda i:i.set({'waterclass':0})))\n",
    "qq0 = ee.Algorithms.If(ee.Number(c1).lt(ee.Number(c2)),q0.map(lambda i:i.set({'waterclass':1})),q0.map(lambda i:i.set({'waterclass':0})))\n",
    "seasonWater = ee.FeatureCollection([qq1,qq0]).flatten()\n",
    "## 合并\n",
    "total_Samples = ee.FeatureCollection([permanent_water,no_water,seasonWater]).flatten()\n",
    "print(\"筛选前，剩余的样本数： \",total_Samples.size().getInfo())\n",
    "\n",
    "## 异常值去除\n",
    "filtered_samples = k_mean(total_Samples)\n",
    "print(\"筛选后，剩余的样本数： \",filtered_samples.size().getInfo())\n",
    "filtered_samples1 = k_mean_outlier(total_Samples)\n",
    "print(\"异常点： \",filtered_samples1.size().getInfo())\n",
    "print(\"比例： \",filtered_samples1.size().getInfo() / total_Samples.size().getInfo())\n",
    "\n",
    "# # 永久性水体、非水体的样本\n",
    "# samples = k_mean(total_Samples)\n",
    "# permanent_water = samples.filter(ee.Filter.eq('point_type','permanent_water'))\n",
    "# no_water = samples.filter(ee.Filter.eq('point_type','no_water'))\n",
    "# filtered_samples1 = ee.FeatureCollection([permanent_water,no_water]).flatten()\n",
    "# print(filtered_samples1.size().getInfo())\n",
    "# # 季节性水体的样本\n",
    "# filtered_samples = samples.filter(ee.Filter.eq('point_type','season'))\n",
    "# print(filtered_samples.size().getInfo())"
   ]
  },
  {
   "cell_type": "code",
   "execution_count": null,
   "metadata": {
    "ExecuteTime": {
     "end_time": "2021-12-16T07:22:57.120393Z",
     "start_time": "2021-12-16T07:22:56.683412Z"
    },
    "hidden": true
   },
   "outputs": [],
   "source": [
    "# filtered_samples = ee.FeatureCollection('users/311605001111/SAMPLE_' + sample_region + '/' + region + str(year))\n",
    "# print('筛选前，剩余的样本数： ',filtered_samples.size().getInfo())"
   ]
  },
  {
   "cell_type": "code",
   "execution_count": null,
   "metadata": {
    "ExecuteTime": {
     "end_time": "2021-12-27T07:26:26.785266Z",
     "start_time": "2021-12-27T07:25:27.442366Z"
    },
    "hidden": true
   },
   "outputs": [],
   "source": [
    "# %matplotlib notebook\n",
    "%matplotlib inline\n",
    "x = 'NDVI'\n",
    "y = 'mNDWI'\n",
    "z = 'AWEI'\n",
    "\n",
    "land_x =np.array(filtered_samples.filter(ee.Filter.eq('waterclass',0)).aggregate_array(x).getInfo()) \n",
    "land_y =np.array(filtered_samples.filter(ee.Filter.eq('waterclass',0)).aggregate_array(y).getInfo()) \n",
    "land_z =np.array(filtered_samples.filter(ee.Filter.eq('waterclass',0)).aggregate_array(z).getInfo()) \n",
    "water_x =np.array(filtered_samples.filter(ee.Filter.eq('waterclass',1)).aggregate_array(x).getInfo()) \n",
    "water_y =np.array(filtered_samples.filter(ee.Filter.eq('waterclass',1)).aggregate_array(y).getInfo()) \n",
    "water_z =np.array(filtered_samples.filter(ee.Filter.eq('waterclass',1)).aggregate_array(z).getInfo()) \n",
    "\n",
    "\n",
    "land_x1 =np.array(filtered_samples1.filter(ee.Filter.eq('waterclass',0)).aggregate_array(x).getInfo()) \n",
    "land_y1 =np.array(filtered_samples1.filter(ee.Filter.eq('waterclass',0)).aggregate_array(y).getInfo()) \n",
    "land_z1 =np.array(filtered_samples1.filter(ee.Filter.eq('waterclass',0)).aggregate_array(z).getInfo()) \n",
    "water_x1 =np.array(filtered_samples1.filter(ee.Filter.eq('waterclass',1)).aggregate_array(x).getInfo()) \n",
    "water_y1 =np.array(filtered_samples1.filter(ee.Filter.eq('waterclass',1)).aggregate_array(y).getInfo()) \n",
    "water_z1 =np.array(filtered_samples1.filter(ee.Filter.eq('waterclass',1)).aggregate_array(z).getInfo()) \n",
    "# 创建一个三维的绘图工程\n",
    "# plt.figure(figsize=(10, 8))\n",
    "plt.figure(figsize=(8, 6))\n",
    "\n",
    "ax = plt.subplot(111, projection='3d')  \n",
    "# 绘制数据点\n",
    "# ax.scatter(water_x, water_y, water_z, s=3, c='blue', label = 'water')\n",
    "# ax.scatter(land_x, land_y, land_z, s=3,c='red', label = 'land')  \n",
    "# ax.scatter(water_x1, water_y1, water_z1, s=4, c='blue', label = 'remian_water')\n",
    "# ax.scatter(land_x1, land_y1, land_z1, s=4,c='red', label = 'remain_land')\n",
    "\n",
    "# ax.scatter(water_x, water_y, water_z, s=3, c='blue', label = 'water')\n",
    "# ax.scatter(land_x, land_y, land_z, s=3,c='red', label = 'land') \n",
    "# ax.scatter(water_x1, water_y1, water_z1, s=3, c='blue')\n",
    "# ax.scatter(land_x1, land_y1, land_z1, s=3,c='red')\n",
    "\n",
    "# ax.scatter(water_x, water_y, water_z, s=3, c='blue', label = 'remain_water')\n",
    "# ax.scatter(land_x, land_y, land_z, s=3,c='red', label = 'remain_land')\n",
    "# ax.scatter(water_x1, water_y1, water_z1, s=3, c='blue', label = 'outlier_water')\n",
    "# ax.scatter(land_x1, land_y1, land_z1, s=3,c='red', label = 'outlier_land')\n",
    "\n",
    "# ax.scatter(water_x, water_y, water_z, s=2, c='blue', label = 'remain_water')\n",
    "# ax.scatter(land_x, land_y, land_z, s=2,c='red', label = 'remain_land')  \n",
    "# ax.scatter(water_x1, water_y1, water_z1, s=4, c='#15ff06', label = 'outlier_water')\n",
    "# ax.scatter(land_x1, land_y1, land_z1, s=4,c='#08ffff', label = 'outlier_land')\n",
    "\n",
    "\n",
    "\n",
    "# ax.scatter(water_x, water_y, water_z, s=3, c='blue', label = 'season_water')\n",
    "# ax.scatter(land_x, land_y, land_z, s=3,c='red', label = 'season_land')  \n",
    "# ax.scatter(water_x1, water_y1, water_z1, s=2, c='#4ad6c3', label = 'permanent_water')\n",
    "# ax.scatter(land_x1, land_y1, land_z1, s=2,c='#bfd69b', label = 'land')\n",
    "\n",
    "# ax.view_init(32,-51)\n",
    "# 坐标轴\n",
    "ax.set_xlim3d(-0.85,1.1)\n",
    "ax.set_ylim3d(-0.8,1.1)\n",
    "ax.set_zlim3d(-15000,5300)\n",
    "plt.tick_params(labelsize=14)\n",
    "ax.set_xlabel(x,labelpad = 16,fontsize = 16)\n",
    "ax.set_ylabel(y,labelpad = 16,fontsize = 16)\n",
    "ax.set_zlabel(z,labelpad = 16,rotation=90,fontsize = 16)\n",
    "plt.xticks([-0.5,0,0.5,1.0])\n",
    "plt.yticks([-0.5,0,0.5,1.0])\n",
    "plt.title('Title: NDVI/MNDWI/AWEI',fontsize = 20) \n",
    "plt.legend(loc='upper right',markerscale=4,prop={'size':10})\n",
    "plt.show()"
   ]
  },
  {
   "cell_type": "code",
   "execution_count": null,
   "metadata": {
    "hidden": true
   },
   "outputs": [],
   "source": []
  },
  {
   "cell_type": "code",
   "execution_count": null,
   "metadata": {
    "hidden": true
   },
   "outputs": [],
   "source": [
    "# %matplotlib notebook\n",
    "%matplotlib inline\n",
    "x = 'NDVI'\n",
    "y = 'mNDWI'\n",
    "z = 'AWEI'\n",
    "\n",
    "land_x =np.array(filtered_samples.filter(ee.Filter.eq('waterclass',0)).aggregate_array(x).getInfo()) \n",
    "land_y =np.array(filtered_samples.filter(ee.Filter.eq('waterclass',0)).aggregate_array(y).getInfo()) \n",
    "land_z =np.array(filtered_samples.filter(ee.Filter.eq('waterclass',0)).aggregate_array(z).getInfo()) \n",
    "water_x =np.array(filtered_samples.filter(ee.Filter.eq('waterclass',1)).aggregate_array(x).getInfo()) \n",
    "water_y =np.array(filtered_samples.filter(ee.Filter.eq('waterclass',1)).aggregate_array(y).getInfo()) \n",
    "water_z =np.array(filtered_samples.filter(ee.Filter.eq('waterclass',1)).aggregate_array(z).getInfo()) \n",
    "\n",
    "\n",
    "land_x1 =np.array(filtered_samples1.filter(ee.Filter.eq('waterclass',0)).aggregate_array(x).getInfo()) \n",
    "land_y1 =np.array(filtered_samples1.filter(ee.Filter.eq('waterclass',0)).aggregate_array(y).getInfo()) \n",
    "land_z1 =np.array(filtered_samples1.filter(ee.Filter.eq('waterclass',0)).aggregate_array(z).getInfo()) \n",
    "water_x1 =np.array(filtered_samples1.filter(ee.Filter.eq('waterclass',1)).aggregate_array(x).getInfo()) \n",
    "water_y1 =np.array(filtered_samples1.filter(ee.Filter.eq('waterclass',1)).aggregate_array(y).getInfo()) \n",
    "water_z1 =np.array(filtered_samples1.filter(ee.Filter.eq('waterclass',1)).aggregate_array(z).getInfo()) \n",
    "# 创建一个三维的绘图工程\n",
    "# plt.figure(figsize=(10, 8))\n",
    "plt.figure(figsize=(8, 6))\n",
    "\n",
    "ax = plt.subplot(111, projection='3d')  \n",
    "# 绘制数据点\n",
    "# ax.scatter(water_x, water_y, water_z, s=3, c='blue', label = 'water')\n",
    "# ax.scatter(land_x, land_y, land_z, s=3,c='red', label = 'land')  \n",
    "# ax.scatter(water_x1, water_y1, water_z1, s=4, c='blue', label = 'remian_water')\n",
    "# ax.scatter(land_x1, land_y1, land_z1, s=4,c='red', label = 'remain_land')\n",
    "\n",
    "# ax.scatter(water_x, water_y, water_z, s=3, c='blue', label = 'water')\n",
    "# ax.scatter(land_x, land_y, land_z, s=3,c='red', label = 'land') \n",
    "# ax.scatter(water_x1, water_y1, water_z1, s=3, c='blue')\n",
    "# ax.scatter(land_x1, land_y1, land_z1, s=3,c='red')\n",
    "\n",
    "# ax.scatter(water_x, water_y, water_z, s=3, c='blue', label = 'remain_water')\n",
    "# ax.scatter(land_x, land_y, land_z, s=3,c='red', label = 'remain_land')\n",
    "# ax.scatter(water_x1, water_y1, water_z1, s=3, c='blue', label = 'outlier_water')\n",
    "# ax.scatter(land_x1, land_y1, land_z1, s=3,c='red', label = 'outlier_land')\n",
    "\n",
    "# ax.scatter(water_x, water_y, water_z, s=2, c='blue', label = 'remain_water')\n",
    "# ax.scatter(land_x, land_y, land_z, s=2,c='red', label = 'remain_land')  \n",
    "# ax.scatter(water_x1, water_y1, water_z1, s=4, c='#15ff06', label = 'outlier_water')\n",
    "# ax.scatter(land_x1, land_y1, land_z1, s=4,c='#08ffff', label = 'outlier_land')\n",
    "\n",
    "\n",
    "\n",
    "# ax.scatter(water_x, water_y, water_z, s=3, c='blue', label = 'season_water')\n",
    "# ax.scatter(land_x, land_y, land_z, s=3,c='red', label = 'season_land')  \n",
    "# ax.scatter(water_x1, water_y1, water_z1, s=2, c='#4ad6c3', label = 'permanent_water')\n",
    "# ax.scatter(land_x1, land_y1, land_z1, s=2,c='#bfd69b', label = 'land')\n",
    "\n",
    "# ax.view_init(32,-51)\n",
    "# 坐标轴\n",
    "ax.set_xlim3d(-0.85,1.1)\n",
    "ax.set_ylim3d(-0.8,1.1)\n",
    "ax.set_zlim3d(-15000,5300)\n",
    "plt.tick_params(labelsize=14)\n",
    "ax.set_xlabel(x,labelpad = 16,fontsize = 16)\n",
    "ax.set_ylabel(y,labelpad = 16,fontsize = 16)\n",
    "ax.set_zlabel(z,labelpad = 16,rotation=90,fontsize = 16)\n",
    "plt.xticks([-0.5,0,0.5,1.0])\n",
    "plt.yticks([-0.5,0,0.5,1.0])\n",
    "plt.title('Title: NDVI/MNDWI/AWEI',fontsize = 20) \n",
    "plt.legend(loc='upper right',markerscale=4,prop={'size':10})\n",
    "plt.show()"
   ]
  },
  {
   "cell_type": "code",
   "execution_count": null,
   "metadata": {
    "hidden": true
   },
   "outputs": [],
   "source": []
  },
  {
   "cell_type": "code",
   "execution_count": null,
   "metadata": {
    "ExecuteTime": {
     "end_time": "2021-12-16T08:17:10.595454Z",
     "start_time": "2021-12-16T08:16:03.925482Z"
    },
    "hidden": true
   },
   "outputs": [],
   "source": [
    "# 坐标轴\n",
    "# ax.set_xlim3d(-0.85,1.1)\n",
    "# ax.set_ylim3d(-0.8,1.1)\n",
    "# ax.set_zlim3d(-15000,5300)\n",
    "# ax.set_xlabel(x,fontsize = 11)\n",
    "# ax.set_ylabel(y,fontsize = 11)\n",
    "# ax.set_zlabel(z,labelpad = 11,rotation=90,fontsize = 11)\n",
    "# plt.xticks([-0.5,0,0.5,1.0])\n",
    "# plt.yticks([-0.5,0,0.5,1.0])\n",
    "# plt.title('Title: NDVI/MNDWI/AWEI') \n",
    "# plt.legend(loc='upper right',markerscale=4,prop={'size':12})\n",
    "# plt.show()"
   ]
  },
  {
   "cell_type": "code",
   "execution_count": null,
   "metadata": {
    "hidden": true
   },
   "outputs": [],
   "source": []
  },
  {
   "cell_type": "code",
   "execution_count": null,
   "metadata": {
    "hidden": true
   },
   "outputs": [],
   "source": []
  },
  {
   "cell_type": "code",
   "execution_count": null,
   "metadata": {
    "hidden": true
   },
   "outputs": [],
   "source": []
  },
  {
   "cell_type": "code",
   "execution_count": null,
   "metadata": {
    "hidden": true
   },
   "outputs": [],
   "source": []
  },
  {
   "cell_type": "code",
   "execution_count": null,
   "metadata": {
    "hidden": true
   },
   "outputs": [],
   "source": []
  },
  {
   "cell_type": "code",
   "execution_count": null,
   "metadata": {
    "hidden": true
   },
   "outputs": [],
   "source": []
  },
  {
   "cell_type": "code",
   "execution_count": null,
   "metadata": {
    "hidden": true
   },
   "outputs": [],
   "source": []
  },
  {
   "cell_type": "code",
   "execution_count": null,
   "metadata": {
    "ExecuteTime": {
     "end_time": "2021-12-16T09:02:54.090577Z",
     "start_time": "2021-12-16T09:02:53.838025Z"
    },
    "hidden": true
   },
   "outputs": [],
   "source": [
    "x = 'NDVI'\n",
    "y = 'mNDWI'\n",
    "z = 'AWEI'\n",
    "# 全部样本\n",
    "land_x1 =np.array(filtered_sample1.filter(ee.Filter.eq('waterclass',0)).aggregate_array(x).getInfo()) \n",
    "land_y1 =np.array(filtered_sample1.filter(ee.Filter.eq('waterclass',0)).aggregate_array(y).getInfo()) \n",
    "land_z1 =np.array(filtered_sample1.filter(ee.Filter.eq('waterclass',0)).aggregate_array(z).getInfo()) \n",
    "water_x1 =np.array(filtered_sample1.filter(ee.Filter.eq('waterclass',1)).aggregate_array(x).getInfo()) \n",
    "water_y1 =np.array(filtered_sample1.filter(ee.Filter.eq('waterclass',1)).aggregate_array(y).getInfo()) \n",
    "water_z1 =np.array(filtered_sample1.filter(ee.Filter.eq('waterclass',1)).aggregate_array(z).getInfo()) \n",
    "\n",
    "land_x =np.array(filtered_sample.filter(ee.Filter.eq('waterclass',0)).aggregate_array(x).getInfo()) \n",
    "land_y =np.array(filtered_sample.filter(ee.Filter.eq('waterclass',0)).aggregate_array(y).getInfo()) \n",
    "land_z =np.array(filtered_sample.filter(ee.Filter.eq('waterclass',0)).aggregate_array(z).getInfo()) \n",
    "water_x =np.array(filtered_sample.filter(ee.Filter.eq('waterclass',1)).aggregate_array(x).getInfo()) \n",
    "water_y =np.array(filtered_sample.filter(ee.Filter.eq('waterclass',1)).aggregate_array(y).getInfo()) \n",
    "water_z =np.array(filtered_sample.filter(ee.Filter.eq('waterclass',1)).aggregate_array(z).getInfo()) \n",
    "\n",
    "# 创建一个三维的绘图工程\n",
    "# plt.figure(figsize=(10, 8))\n",
    "plt.figure(figsize=(8, 6))\n",
    "\n",
    "ax = plt.subplot(111, projection='3d')  \n",
    "# 绘制数据点\n",
    "ax.scatter(water_x, water_y, water_z, s=3, c='blue', label = 'season_water')\n",
    "ax.scatter(land_x, land_y, land_z, s=3,c='red', label = 'season_land')  \n",
    "ax.scatter(water_x1, water_y1, water_z1, s=2, c='#4ad6c3', label = 'permanent_water')\n",
    "ax.scatter(land_x1, land_y1, land_z1, s=2,c='#bfd69b', label = 'land')\n",
    "\n",
    "# ax.view_init(30,-50)\n",
    "# 坐标轴\n",
    "ax.set_xlim3d(-0.85,1.1)\n",
    "ax.set_ylim3d(-0.8,1.1)\n",
    "ax.set_zlim3d(-15000,5300)\n",
    "plt.tick_params(labelsize=14)\n",
    "ax.set_xlabel(x,labelpad = 16,fontsize = 16)\n",
    "ax.set_ylabel(y,labelpad = 16,fontsize = 16)\n",
    "ax.set_zlabel(z,labelpad = 16,rotation=90,fontsize = 16)\n",
    "plt.xticks([-0.5,0,0.5,1.0])\n",
    "plt.yticks([-0.5,0,0.5,1.0])\n",
    "plt.title('Title: NDVI/MNDWI/AWEI',fontsize = 20) \n",
    "plt.legend(loc='upper right',markerscale=4,prop={'size':14})\n",
    "plt.show()\n"
   ]
  },
  {
   "cell_type": "code",
   "execution_count": null,
   "metadata": {
    "hidden": true
   },
   "outputs": [],
   "source": []
  }
 ],
 "metadata": {
  "hide_input": false,
  "kernelspec": {
   "display_name": "Python 3 (ipykernel)",
   "language": "python",
   "name": "python3"
  },
  "language_info": {
   "codemirror_mode": {
    "name": "ipython",
    "version": 3
   },
   "file_extension": ".py",
   "mimetype": "text/x-python",
   "name": "python",
   "nbconvert_exporter": "python",
   "pygments_lexer": "ipython3",
   "version": "3.8.12"
  },
  "toc": {
   "base_numbering": 1,
   "nav_menu": {},
   "number_sections": true,
   "sideBar": true,
   "skip_h1_title": false,
   "title_cell": "Table of Contents",
   "title_sidebar": "Contents",
   "toc_cell": false,
   "toc_position": {
    "height": "calc(100% - 180px)",
    "left": "10px",
    "top": "150px",
    "width": "256.108px"
   },
   "toc_section_display": true,
   "toc_window_display": false
  },
  "varInspector": {
   "cols": {
    "lenName": 16,
    "lenType": 16,
    "lenVar": 40
   },
   "kernels_config": {
    "python": {
     "delete_cmd_postfix": "",
     "delete_cmd_prefix": "del ",
     "library": "var_list.py",
     "varRefreshCmd": "print(var_dic_list())"
    },
    "r": {
     "delete_cmd_postfix": ") ",
     "delete_cmd_prefix": "rm(",
     "library": "var_list.r",
     "varRefreshCmd": "cat(var_dic_list()) "
    }
   },
   "types_to_exclude": [
    "module",
    "function",
    "builtin_function_or_method",
    "instance",
    "_Feature"
   ],
   "window_display": false
  }
 },
 "nbformat": 4,
 "nbformat_minor": 4
}
