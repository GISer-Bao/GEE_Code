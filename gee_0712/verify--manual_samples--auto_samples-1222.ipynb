{
 "cells": [
  {
   "cell_type": "code",
   "execution_count": 1,
   "id": "cfadc710",
   "metadata": {
    "ExecuteTime": {
     "end_time": "2022-04-04T05:34:13.736535Z",
     "start_time": "2022-04-04T05:34:13.731549Z"
    }
   },
   "outputs": [],
   "source": [
    "import os\n",
    "os.environ['HTTP_PROXY'] = \"http://127.0.0.1:10809\"\n",
    "os.environ['HTTPS_PROXY'] = \"http://127.0.0.1:10809\""
   ]
  },
  {
   "cell_type": "code",
   "execution_count": 2,
   "id": "787205e4",
   "metadata": {
    "ExecuteTime": {
     "end_time": "2022-04-04T05:34:19.701611Z",
     "start_time": "2022-04-04T05:34:14.045187Z"
    }
   },
   "outputs": [
    {
     "data": {
      "application/vnd.jupyter.widget-view+json": {
       "model_id": "b5e564c04fbc4d92a56c2edf9ef9b2f3",
       "version_major": 2,
       "version_minor": 0
      },
      "text/plain": [
       "Map(center=[20, 0], controls=(WidgetControl(options=['position', 'transparent_bg'], widget=HBox(children=(Togg…"
      ]
     },
     "metadata": {},
     "output_type": "display_data"
    }
   ],
   "source": [
    "import geemap\n",
    "import ee\n",
    "Map=geemap.Map()\n",
    "Map"
   ]
  },
  {
   "cell_type": "code",
   "execution_count": 3,
   "id": "643d7ca2",
   "metadata": {
    "ExecuteTime": {
     "end_time": "2022-04-04T05:34:36.960692Z",
     "start_time": "2022-04-04T05:34:36.275776Z"
    }
   },
   "outputs": [],
   "source": [
    "## 大庆市\n",
    "# roi = ee.Geometry.Rectangle([123.9355, 45.8362,125.3055, 46.8762])\n",
    "## 天津市\n",
    "roi = ee.Geometry.Rectangle([115.9244, 38.6272,117.4944,39.6372])\n",
    "## 武汉市\n",
    "# roi = ee.Geometry.Rectangle([113.7393, 29.8642,115.0993, 30.9242])\n",
    "## 珠三角\n",
    "# roi = ee.Geometry.Rectangle([112.7614, 22.2347,114.0514, 23.2547])\n",
    "## 青藏高原\n",
    "# roi = ee.Geometry.Rectangle([89.8826, 34.6579,91.3626, 35.8279])\n",
    "Map.addLayer(roi, {}, \"roi\")\n",
    "Map.centerObject(roi,7)\n"
   ]
  },
  {
   "cell_type": "code",
   "execution_count": 4,
   "id": "2c7a52ce",
   "metadata": {
    "ExecuteTime": {
     "end_time": "2022-04-04T05:34:37.744011Z",
     "start_time": "2022-04-04T05:34:37.739018Z"
    }
   },
   "outputs": [],
   "source": [
    "# 定义参数\n",
    "# region = 'daqing'\n",
    "# sample_region = 'DAQING'\n",
    "region = 'tianjin'\n",
    "sample_region = 'TIANJIN'\n",
    "# region = 'wuhan'\n",
    "# sample_region = 'WUHAN'\n",
    "# region = 'prd'\n",
    "# sample_region = 'PRD'\n",
    "# region = 'tibet'\n",
    "# sample_region = 'TIBET'"
   ]
  },
  {
   "cell_type": "code",
   "execution_count": 5,
   "id": "d3f5eb17",
   "metadata": {
    "ExecuteTime": {
     "end_time": "2022-04-04T05:34:39.265641Z",
     "start_time": "2022-04-04T05:34:39.243819Z"
    }
   },
   "outputs": [],
   "source": [
    "### 验证函数\n",
    "water_image = ee.Image.constant(1).toFloat().rename('label')\n",
    "land_image = ee.Image.constant(0).toFloat().rename('label')\n",
    "def verify(img_id):\n",
    "    auto_point = auto_samples.filter(ee.Filter.eq('Image_id',img_id))\n",
    "    man_point = man_samples.filter(ee.Filter.eq('Image_id',img_id))\n",
    "    water = water_image.clipToCollection(man_point.filter(ee.Filter.eq('label',1)))\n",
    "    land = land_image.clipToCollection(man_point.filter(ee.Filter.eq('label',0)))\n",
    "    image_waterclass = ee.ImageCollection([water,land]).sum()\n",
    "    inter_points = image_waterclass.sampleRegions(**{\n",
    "        'collection': auto_point,\n",
    "        'properties': ['waterclass','Image_id','point_type'],\n",
    "        'scale': 30,\n",
    "        'geometries': True,\n",
    "    })\n",
    "    return inter_points\n",
    "\n",
    "def removeProperty(feat):\n",
    "    selectProperties = ee.Feature(feat).propertyNames().filter(ee.Filter.neq('item', 'random')).filter(ee.Filter.neq('item', 'waterclass'))  \n",
    "    return feat.select(selectProperties)"
   ]
  },
  {
   "cell_type": "code",
   "execution_count": null,
   "id": "4d2367db",
   "metadata": {},
   "outputs": [],
   "source": []
  },
  {
   "cell_type": "code",
   "execution_count": 6,
   "id": "6ea2f873",
   "metadata": {
    "ExecuteTime": {
     "end_time": "2022-04-04T05:35:30.708163Z",
     "start_time": "2022-04-04T05:34:40.754006Z"
    }
   },
   "outputs": [
    {
     "name": "stdout",
     "output_type": "stream",
     "text": [
      "1999\n",
      "[[185, 4], [0, 64]]\n",
      "total accuracy:0.9841897233201581\n",
      "kappa:0.9590150656082941\n",
      "[[158, 3], [0, 39]]\n",
      "total accuracy:0.985\n",
      "kappa:0.9535747446610956\n",
      "2004\n",
      "[[207, 2], [0, 93]]\n",
      "total accuracy:0.9933774834437086\n",
      "kappa:0.9845547997749705\n",
      "[[150, 2], [0, 48]]\n",
      "total accuracy:0.99\n",
      "kappa:0.9729729729729729\n",
      "2009\n",
      "[[214, 0], [2, 77]]\n",
      "total accuracy:0.9931740614334471\n",
      "kappa:0.9825293661677896\n",
      "[[160, 0], [1, 39]]\n",
      "total accuracy:0.995\n",
      "kappa:0.9842271293375394\n",
      "2014\n",
      "[[244, 1], [4, 75]]\n",
      "total accuracy:0.9845679012345679\n",
      "kappa:0.9576049408562757\n",
      "[[164, 1], [3, 32]]\n",
      "total accuracy:0.98\n",
      "kappa:0.929140832595217\n",
      "2019\n",
      "[[203, 1], [1, 71]]\n",
      "total accuracy:0.9927536231884058\n",
      "kappa:0.9812091503267973\n",
      "[[165, 0], [0, 35]]\n",
      "total accuracy:1\n",
      "kappa:1\n"
     ]
    }
   ],
   "source": [
    "# TIME = [['1999','1999'],['2004','2004'],['2009','2009'],['2014','2014'],['2019','2019']]\n",
    "TIME = ['1999','2004','2009','2014','2019']\n",
    "# TIME = ['2019']\n",
    "for time in TIME:\n",
    "    print(time)\n",
    "    # 人工选取的样本点\n",
    "    man_samples = ee.FeatureCollection('users/311605001111/validation_samples_of_aut-datasets/' + region + '_' + time)\n",
    "    # print('manual-sample number:{}'.format(man_samples.size().getInfo()))\n",
    "    auto_samples = ee.FeatureCollection('users/311605001111/SAMPLE_' + sample_region + '/' + region + time + '_awei')\n",
    "    # print('auto-sample number:{}'.format(auto_samples.size().getInfo()))\n",
    "    ### 唯一ID\n",
    "    manual_samples = man_samples.distinct('Image_id')\n",
    "    automatic_samples = auto_samples.distinct('Image_id')\n",
    "    filter = ee.Filter.equals(**{'leftField': 'Image_id','rightField': 'Image_id'})\n",
    "    id_col = ee.List(ee.Join.simple().apply(automatic_samples, manual_samples, filter).aggregate_array('Image_id'))\n",
    "    # print(id_col.size().getInfo())\n",
    "    SamplePoints = ee.FeatureCollection(id_col.map(verify)).flatten()\n",
    "\n",
    "    permanent_water = SamplePoints.filter(ee.Filter.eq('point_type','permanent_water')).randomColumn('random',1,'uniform').sort('random').limit(25)\n",
    "    season_water = SamplePoints.filter(ee.Filter.eq('point_type','season')).randomColumn('random',1,'uniform').sort('random').limit(25)\n",
    "    no_water = SamplePoints.filter(ee.Filter.eq('point_type','no_water')).randomColumn('random',1,'uniform').sort('random').limit(150)\n",
    "    com_SamplePoints = ee.FeatureCollection([permanent_water,season_water,no_water]).flatten()\n",
    "    \n",
    "    test_accuracy = SamplePoints.errorMatrix('label', 'waterclass')\n",
    "    print(test_accuracy.getInfo())\n",
    "    print('total accuracy:{}'.format(test_accuracy.accuracy().getInfo()))\n",
    "    print('kappa:{}'.format(test_accuracy.kappa().getInfo()))\n",
    "\n",
    "    test_accuracy = com_SamplePoints.errorMatrix('label', 'waterclass')\n",
    "    print(test_accuracy.getInfo())\n",
    "    print('total accuracy:{}'.format(test_accuracy.accuracy().getInfo()))\n",
    "    print('kappa:{}'.format(test_accuracy.kappa().getInfo()))"
   ]
  },
  {
   "cell_type": "code",
   "execution_count": null,
   "id": "399249d7",
   "metadata": {},
   "outputs": [],
   "source": []
  },
  {
   "cell_type": "code",
   "execution_count": null,
   "id": "226dd6b6",
   "metadata": {
    "ExecuteTime": {
     "end_time": "2022-04-04T03:55:28.907641Z",
     "start_time": "2022-04-04T03:55:19.144831Z"
    }
   },
   "outputs": [],
   "source": [
    "# TIME = [['1999','1999'],['2004','2004'],['2009','2009'],['2014','2014'],['2019','2019']]\n",
    "# TIME = ['1999','2004','2009','2014','2019']\n",
    "TIME = ['2019']\n",
    "for time in TIME:\n",
    "    print(time)\n",
    "    # 人工选取的样本点\n",
    "    man_samples = ee.FeatureCollection('users/311605001111/validation_samples_of_aut-datasets/' + region + '_' + time)\n",
    "    print('manual-sample number:{}'.format(man_samples.size().getInfo()))\n",
    "    auto_samples = ee.FeatureCollection('users/311605001111/SAMPLE_' + sample_region + '/' + region + time + '_awei')\n",
    "    # auto_samples = samples.map(lambda i :i.set({'year': ee.String(i.get('Image_id')).slice(-8,-4)})).filter(ee.Filter.eq('year',time[0]))\n",
    "    print('auto-sample number:{}'.format(auto_samples.size().getInfo()))\n",
    "    ### 唯一ID\n",
    "    manual_samples = man_samples.distinct('Image_id')\n",
    "    automatic_samples = auto_samples.distinct('Image_id')\n",
    "    filter = ee.Filter.equals(**{'leftField': 'Image_id','rightField': 'Image_id'})\n",
    "    id_col = ee.List(ee.Join.simple().apply(automatic_samples, manual_samples, filter).aggregate_array('Image_id'))\n",
    "    print(id_col.size().getInfo())\n",
    "    SamplePoints = ee.FeatureCollection(id_col.map(verify)).flatten()\n",
    "\n",
    "    permanent_water = SamplePoints.filter(ee.Filter.eq('point_type','permanent_water')).randomColumn('random',1,'uniform').sort('random').limit(25)\n",
    "    season_water = SamplePoints.filter(ee.Filter.eq('point_type','season')).randomColumn('random',1,'uniform').sort('random').limit(25)\n",
    "    no_water = SamplePoints.filter(ee.Filter.eq('point_type','no_water')).randomColumn('random',1,'uniform').sort('random').limit(150)\n",
    "    com_SamplePoints = ee.FeatureCollection([permanent_water,season_water,no_water]).flatten()\n",
    "    print(com_SamplePoints.size().getInfo())\n",
    "    test_accuracy = com_SamplePoints.errorMatrix('label', 'waterclass')\n",
    "    print(test_accuracy.getInfo())\n",
    "    print('total accuracy:{}'.format(test_accuracy.accuracy().getInfo()))\n",
    "    print('kappa:{}'.format(test_accuracy.kappa().getInfo()))\n",
    "#     dataset_id = sample_region + time\n",
    "#     assetID = 'users/311605001111/man_samples_200' + '/' + dataset_id\n",
    "#     task = ee.batch.Export.table.toAsset(**{\n",
    "#         'collection': com_SamplePoints.map(removeProperty),\n",
    "#         'description': dataset_id,\n",
    "#         'assetId': assetID\n",
    "#     })\n",
    "#     task.start()"
   ]
  },
  {
   "cell_type": "code",
   "execution_count": null,
   "id": "cc4794d8",
   "metadata": {},
   "outputs": [],
   "source": []
  },
  {
   "cell_type": "markdown",
   "id": "be856bb9",
   "metadata": {
    "heading_collapsed": true
   },
   "source": [
    "# 查询异常点分布"
   ]
  },
  {
   "cell_type": "code",
   "execution_count": null,
   "id": "ba4fe983",
   "metadata": {
    "ExecuteTime": {
     "end_time": "2021-12-27T08:33:56.861092Z",
     "start_time": "2021-12-27T08:33:55.079291Z"
    },
    "hidden": true,
    "scrolled": true
   },
   "outputs": [],
   "source": [
    "region = 'prd'\n",
    "sample_region = 'PRD'\n",
    "time = '2014'\n",
    "# 核心代码\n",
    "###数据\n",
    "man_samples = ee.FeatureCollection('users/311605001111/validation_samples_of_aut-datasets/' + region + '_' + time)\n",
    "print('manual-sample number:{}'.format(man_samples.size().getInfo()))\n",
    "auto_samples = ee.FeatureCollection('users/311605001111/SAMPLE_' + sample_region + '/' + region + time)\n",
    "print('auto-sample number:{}'.format(auto_samples.size().getInfo()))\n",
    "### 唯一ID\n",
    "manual_samples = man_samples.distinct('Image_id')\n",
    "automatic_samples = auto_samples.distinct('Image_id')\n",
    "filter = ee.Filter.equals(**{'leftField': 'Image_id','rightField': 'Image_id'})\n",
    "id_col = ee.List(ee.Join.simple().apply(automatic_samples, manual_samples, filter).aggregate_array('Image_id'))\n",
    "print(id_col.size().getInfo())\n",
    "print(id_col.getInfo())"
   ]
  },
  {
   "cell_type": "code",
   "execution_count": null,
   "id": "89b4340d",
   "metadata": {
    "ExecuteTime": {
     "end_time": "2021-12-24T10:05:38.220129Z",
     "start_time": "2021-12-24T10:05:37.131898Z"
    },
    "hidden": true
   },
   "outputs": [],
   "source": [
    "### 验证函数\n",
    "water_image = ee.Image.constant(1).toFloat().rename('label')\n",
    "land_image = ee.Image.constant(0).toFloat().rename('label')\n",
    "def verify(img_id):\n",
    "    auto_point = auto_samples.filter(ee.Filter.eq('Image_id',img_id))\n",
    "    man_point = man_samples.filter(ee.Filter.eq('Image_id',img_id))\n",
    "    water = water_image.clipToCollection(man_point.filter(ee.Filter.eq('label',1)))\n",
    "    land = land_image.clipToCollection(man_point.filter(ee.Filter.eq('label',0)))\n",
    "    image_waterclass = ee.ImageCollection([water,land]).sum()\n",
    "    inter_points = image_waterclass.sampleRegions(**{\n",
    "        'collection': auto_point,\n",
    "        'properties': ['waterclass','Image_id','point_type'],\n",
    "        'scale': 30,\n",
    "        'geometries': True,\n",
    "    })\n",
    "    return inter_points\n",
    "\n",
    "### 精度验证\n",
    "SamplePoints = ee.FeatureCollection(id_col.map(verify)).flatten()\n",
    "print(SamplePoints.size().getInfo())"
   ]
  },
  {
   "cell_type": "code",
   "execution_count": null,
   "id": "e8ae342c",
   "metadata": {
    "ExecuteTime": {
     "end_time": "2021-12-24T10:05:52.162229Z",
     "start_time": "2021-12-24T10:05:38.503754Z"
    },
    "hidden": true
   },
   "outputs": [],
   "source": [
    "permanent_water = SamplePoints.filter(ee.Filter.eq('point_type','permanent_water')).randomColumn('random',1,'uniform').sort('random').limit(25)\n",
    "season_water = SamplePoints.filter(ee.Filter.eq('point_type','season')).randomColumn('random',1,'uniform').sort('random').limit(25)\n",
    "no_water = SamplePoints.filter(ee.Filter.eq('point_type','no_water')).randomColumn('random',1,'uniform').sort('random').limit(150)\n",
    "com_SamplePoints = ee.FeatureCollection([permanent_water,season_water,no_water]).flatten()\n",
    "print(com_SamplePoints.size().getInfo())\n",
    "\n",
    "test_accuracy = SamplePoints.errorMatrix('label', 'waterclass')\n",
    "print(test_accuracy.getInfo())\n",
    "print('total accuracy:{}'.format(test_accuracy.accuracy().getInfo()))\n",
    "print('kappa:{}'.format(test_accuracy.kappa().getInfo()))\n",
    "\n",
    "test_accuracy = com_SamplePoints.errorMatrix('label', 'waterclass')\n",
    "print(test_accuracy.getInfo())\n",
    "print('total accuracy:{}'.format(test_accuracy.accuracy().getInfo()))\n",
    "print('kappa:{}'.format(test_accuracy.kappa().getInfo()))"
   ]
  },
  {
   "cell_type": "code",
   "execution_count": null,
   "id": "ed1e65b6",
   "metadata": {
    "ExecuteTime": {
     "end_time": "2021-12-24T10:06:13.177717Z",
     "start_time": "2021-12-24T10:05:52.445671Z"
    },
    "hidden": true,
    "scrolled": false
   },
   "outputs": [],
   "source": [
    "for i in id_col.getInfo():\n",
    "    print(i)\n",
    "    diff_water = SamplePoints.filter(ee.Filter.eq('label',1)).filter(ee.Filter.eq('waterclass',0))\n",
    "    diff_nowater = SamplePoints.filter(ee.Filter.eq('label',0)).filter(ee.Filter.eq('waterclass',1))\n",
    "    all_outlier = ee.FeatureCollection([diff_water,diff_nowater]).flatten()\n",
    "    outlier = all_outlier.filter(ee.Filter.eq('Image_id',i))\n",
    "    print(outlier.size().getInfo())\n",
    "    "
   ]
  },
  {
   "cell_type": "code",
   "execution_count": null,
   "id": "484ac7fb",
   "metadata": {
    "ExecuteTime": {
     "end_time": "2021-12-24T09:40:50.635093Z",
     "start_time": "2021-12-24T09:40:46.347160Z"
    },
    "hidden": true
   },
   "outputs": [],
   "source": [
    "diff_water = SamplePoints.filter(ee.Filter.eq('label',1)).filter(ee.Filter.eq('waterclass',0))\n",
    "diff_nowater = SamplePoints.filter(ee.Filter.eq('label',0)).filter(ee.Filter.eq('waterclass',1))\n",
    "all_outlier = ee.FeatureCollection([diff_water,diff_nowater]).flatten()\n",
    "outlier = all_outlier.filter(ee.Filter.eq('Image_id','LANDSAT/LE07/C01/T1_SR/LE07_122045_20090907'))\n",
    "print(outlier.size().getInfo())\n",
    "print(outlier.getInfo())"
   ]
  },
  {
   "cell_type": "code",
   "execution_count": null,
   "id": "cbf766d5",
   "metadata": {
    "hidden": true
   },
   "outputs": [],
   "source": []
  },
  {
   "cell_type": "markdown",
   "id": "9cce71d7",
   "metadata": {},
   "source": [
    "# 验证点，空间分布"
   ]
  },
  {
   "cell_type": "code",
   "execution_count": null,
   "id": "ad9f1493",
   "metadata": {
    "ExecuteTime": {
     "end_time": "2021-12-27T09:27:20.640703Z",
     "start_time": "2021-12-27T09:27:19.723455Z"
    }
   },
   "outputs": [],
   "source": [
    "elevation = ee.Image(\"users/311605001111/hillshade_\" + region)\n",
    "def maskSR(img):\n",
    "    cloudShadowBitMask = (1 << 3)\n",
    "    cloudsBitMask = (1 << 5)\n",
    "    snowBitMask = (1 << 4)   \n",
    "    qa = img.select('pixel_qa')\n",
    "    mask = qa.bitwiseAnd(cloudShadowBitMask).eq(0) \\\n",
    "                   .And(qa.bitwiseAnd(cloudsBitMask).eq(0)) \\\n",
    "                   .And(qa.bitwiseAnd(snowBitMask).eq(0))\n",
    "    azimuth = img.get('SOLAR_AZIMUTH_ANGLE')\n",
    "    zenith = img.get('SOLAR_ZENITH_ANGLE')\n",
    "    image = img.lt(0)\n",
    "    bands = image.select('B2').add(image.select('B3')).add(image.select('B4')).add(image.select('B5')).add(image.select('B6')).add(image.select('B7'))\n",
    "    outlier = bands.gt(0).remap([0,1],[1,0]).rename('outlier')\n",
    "    return img.updateMask(mask).updateMask(ee.Terrain.hillShadow(elevation,azimuth,zenith,200,True)).updateMask(outlier)\n",
    "\n",
    "# 图像可视化参数\n",
    "visParams = {'bands': ['B4', 'B3', 'B2'],'min': 0,'max': 3000,'gamma': 1.4}\n",
    "\n",
    "# l8 = ee.ImageCollection('LANDSAT/LC08/C01/T1_SR') \\\n",
    "#        .select(['B2', 'B3', 'B4', 'B5', 'B6', 'B7','pixel_qa']) \\\n",
    "#        .filterBounds(roi) \\\n",
    "#        .filter(ee.Filter.lt('CLOUD_COVER',30)) \\\n",
    "#        .filterDate('2019-01-01', '2019-12-31')\n",
    "l8 = ee.ImageCollection('LANDSAT/LC08/C01/T1_SR') \\\n",
    "       .select(['B2', 'B3', 'B4', 'B5', 'B6', 'B7','pixel_qa']) \\\n",
    "       .filterBounds(roi) \\\n",
    "       .filterDate('2019-01-01', '2019-12-31')\n",
    "image = l8.map(maskSR).median().clip(roi)\n",
    "Map.addLayer(image, visParams,'image mosaic')\n",
    "print(l8.size().getInfo())"
   ]
  },
  {
   "cell_type": "code",
   "execution_count": null,
   "id": "cd9feb81",
   "metadata": {},
   "outputs": [],
   "source": []
  },
  {
   "cell_type": "code",
   "execution_count": null,
   "id": "e918c82c",
   "metadata": {
    "ExecuteTime": {
     "end_time": "2022-03-20T02:09:30.286441Z",
     "start_time": "2022-03-20T02:09:30.276468Z"
    }
   },
   "outputs": [],
   "source": [
    "# region = 'daqing'\n",
    "# sample_region = 'DAQING'\n",
    "# region = 'tianjin'\n",
    "# sample_region = 'TIANJIN'\n",
    "# region = 'wuhan'\n",
    "# sample_region = 'WUHAN'\n",
    "region = 'prd'\n",
    "sample_region = 'PRD'\n",
    "# region = 'tibet'\n",
    "# sample_region = 'TIBET'"
   ]
  },
  {
   "cell_type": "code",
   "execution_count": null,
   "id": "f866cb4e",
   "metadata": {
    "ExecuteTime": {
     "end_time": "2022-03-20T02:09:44.137066Z",
     "start_time": "2022-03-20T02:09:30.741596Z"
    },
    "scrolled": false
   },
   "outputs": [],
   "source": [
    "# 合成影像\n",
    "from matplotlib import pyplot as plt\n",
    "import numpy as np\n",
    "import matplotlib\n",
    "from geemap import cartoee\n",
    "# # 大庆市\n",
    "# re = [125.3055, 45.8362, 123.9355, 46.8762]\n",
    "# # 天津市\n",
    "# re = [117.4944, 38.6272, 115.9244, 39.6372]\n",
    "# # 武汉市\n",
    "# re = [115.0993, 29.8642, 113.7393, 30.9242]\n",
    "# # 珠三角\n",
    "re = [114.0514, 22.2347, 112.7614, 23.2547]\n",
    "# 青藏高原\n",
    "# re = [91.3626, 34.6579, 89.8826, 35.8279]\n",
    "\n",
    "fig = plt.figure(figsize=(12, 8))\n",
    "refer_img = ee.Image('users/311605001111/basemap_image/' + region).visualize(**{'opacity':0.85})\n",
    "manual_samples = ee.FeatureCollection('users/311605001111/man_samples_200/' + sample_region + '2019')\n",
    "pwater = manual_samples.filter(ee.Filter.eq('point_type','permanent_water')).draw('blue')\n",
    "nwater = manual_samples.filter(ee.Filter.eq('point_type','no_water')).draw('red')\n",
    "swater = manual_samples.filter(ee.Filter.eq('point_type','season')).filter(ee.Filter.eq('label',1)).draw('blue')\n",
    "snowater = manual_samples.filter(ee.Filter.eq('point_type','season')).filter(ee.Filter.eq('label',0)).draw('red')\n",
    "blend = refer_img.blend(pwater).blend(nwater).blend(swater).blend(snowater)\n",
    "Map.addLayer(blend, {}, \"Blend\")\n",
    "# use cartoee to get a map\n",
    "ax = cartoee.get_map(blend, region=re)\n",
    "cartoee.add_gridlines(ax, interval=[0.4,0.4], linestyle=\":\", ytick_rotation=\"vertical\")\n",
    "ax.set_title(label = '(d)      Region D', fontsize=28)"
   ]
  },
  {
   "cell_type": "code",
   "execution_count": null,
   "id": "0e672e2c",
   "metadata": {},
   "outputs": [],
   "source": []
  },
  {
   "cell_type": "code",
   "execution_count": null,
   "id": "b3990f70",
   "metadata": {
    "ExecuteTime": {
     "end_time": "2022-02-25T01:45:34.273793Z",
     "start_time": "2022-02-25T01:45:28.307276Z"
    }
   },
   "outputs": [],
   "source": [
    "# 合成影像\n",
    "from matplotlib import pyplot as plt\n",
    "import numpy as np\n",
    "import matplotlib\n",
    "from geemap import cartoee\n",
    "# # 大庆市\n",
    "# re = [123.9355, 45.8362,125.3055, 46.8762]\n",
    "# # 天津市\n",
    "# re = [115.9244, 38.6272,117.4944,39.6372]\n",
    "# # 武汉市\n",
    "# re = [113.7393, 29.8642,115.0993, 30.9242]\n",
    "# # 珠三角\n",
    "# re = [112.7614, 22.2347,114.0514, 23.2547]\n",
    "# 青藏高原\n",
    "re = [89.8826, 34.6579,91.3626, 35.8279]\n",
    "fig = plt.figure(figsize=(12, 8))\n",
    "refer_img = ee.Image('users/311605001111/basemap_image/' + region).visualize(**{'opacity':0.85})\n",
    "manual_samples = ee.FeatureCollection('users/311605001111/man_samples_200/' + sample_region + '2019')\n",
    "pwater = manual_samples.filter(ee.Filter.eq('point_type','permanent_water')).draw('blue')\n",
    "nwater = manual_samples.filter(ee.Filter.eq('point_type','no_water')).draw('red')\n",
    "swater = manual_samples.filter(ee.Filter.eq('point_type','season')).draw('yellow')\n",
    "blend = refer_img.blend(pwater).blend(nwater).blend(swater)\n",
    "Map.addLayer(blend, {}, \"Blend\")\n",
    "# use cartoee to get a map\n",
    "ax = cartoee.get_map(blend, region=re)\n",
    "cartoee.add_gridlines(ax, interval=[0.4,0.4], linestyle=\":\", ytick_rotation=\"vertical\")\n",
    "\n",
    "ax.set_title(label = 'Region E', fontsize=28)"
   ]
  },
  {
   "cell_type": "code",
   "execution_count": null,
   "id": "1dc3a670",
   "metadata": {},
   "outputs": [],
   "source": []
  },
  {
   "cell_type": "code",
   "execution_count": null,
   "id": "a52e406a",
   "metadata": {},
   "outputs": [],
   "source": []
  }
 ],
 "metadata": {
  "hide_input": false,
  "kernelspec": {
   "display_name": "Python 3 (ipykernel)",
   "language": "python",
   "name": "python3"
  },
  "language_info": {
   "codemirror_mode": {
    "name": "ipython",
    "version": 3
   },
   "file_extension": ".py",
   "mimetype": "text/x-python",
   "name": "python",
   "nbconvert_exporter": "python",
   "pygments_lexer": "ipython3",
   "version": "3.8.12"
  },
  "toc": {
   "base_numbering": 1,
   "nav_menu": {},
   "number_sections": true,
   "sideBar": true,
   "skip_h1_title": false,
   "title_cell": "Table of Contents",
   "title_sidebar": "Contents",
   "toc_cell": false,
   "toc_position": {},
   "toc_section_display": true,
   "toc_window_display": true
  },
  "varInspector": {
   "cols": {
    "lenName": 16,
    "lenType": 16,
    "lenVar": 40
   },
   "kernels_config": {
    "python": {
     "delete_cmd_postfix": "",
     "delete_cmd_prefix": "del ",
     "library": "var_list.py",
     "varRefreshCmd": "print(var_dic_list())"
    },
    "r": {
     "delete_cmd_postfix": ") ",
     "delete_cmd_prefix": "rm(",
     "library": "var_list.r",
     "varRefreshCmd": "cat(var_dic_list()) "
    }
   },
   "types_to_exclude": [
    "module",
    "function",
    "builtin_function_or_method",
    "instance",
    "_Feature"
   ],
   "window_display": false
  }
 },
 "nbformat": 4,
 "nbformat_minor": 5
}
