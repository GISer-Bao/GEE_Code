{
 "cells": [
  {
   "cell_type": "code",
   "execution_count": 3,
   "id": "cfadc710",
   "metadata": {
    "ExecuteTime": {
     "end_time": "2021-09-28T12:11:36.057140Z",
     "start_time": "2021-09-28T12:11:36.044204Z"
    }
   },
   "outputs": [],
   "source": [
    "import os\n",
    "os.environ['HTTP_PROXY'] = \"http://127.0.0.1:10809\"\n",
    "os.environ['HTTPS_PROXY'] = \"http://127.0.0.1:10809\""
   ]
  },
  {
   "cell_type": "code",
   "execution_count": 4,
   "id": "787205e4",
   "metadata": {
    "ExecuteTime": {
     "end_time": "2021-09-28T12:11:41.635256Z",
     "start_time": "2021-09-28T12:11:36.459616Z"
    }
   },
   "outputs": [
    {
     "data": {
      "application/vnd.jupyter.widget-view+json": {
       "model_id": "4ee350fc79014ce39588f1c78cb485cb",
       "version_major": 2,
       "version_minor": 0
      },
      "text/plain": [
       "Map(center=[40, -100], controls=(WidgetControl(options=['position', 'transparent_bg'], widget=HBox(children=(T…"
      ]
     },
     "metadata": {},
     "output_type": "display_data"
    }
   ],
   "source": [
    "import geemap\n",
    "import ee\n",
    "Map=geemap.Map()\n",
    "Map"
   ]
  },
  {
   "cell_type": "markdown",
   "id": "57b4b476",
   "metadata": {
    "ExecuteTime": {
     "end_time": "2021-07-15T06:59:34.151155Z",
     "start_time": "2021-07-15T06:59:32.150981Z"
    }
   },
   "source": [
    "# 加载研究区"
   ]
  },
  {
   "cell_type": "code",
   "execution_count": 5,
   "id": "643d7ca2",
   "metadata": {
    "ExecuteTime": {
     "end_time": "2021-09-28T12:11:42.996984Z",
     "start_time": "2021-09-28T12:11:41.983320Z"
    }
   },
   "outputs": [],
   "source": [
    "## 大庆市\n",
    "# roi = ee.Geometry.Rectangle([123.9355, 45.8362,125.3055, 46.8762])\n",
    "## 天津市\n",
    "# roi = ee.Geometry.Rectangle([115.9244, 38.6272,117.4944,39.6372])\n",
    "## 武汉市\n",
    "# roi = ee.Geometry.Rectangle([113.7393, 29.8642,115.0993, 30.9242])\n",
    "## 珠三角\n",
    "# roi = ee.Geometry.Rectangle([112.7614, 22.2347,114.0514, 23.2547])\n",
    "## 青藏高原\n",
    "roi = ee.Geometry.Rectangle([89.8826, 34.6579,91.3626, 35.8279])\n",
    "Map.addLayer(roi, {}, \"roi\")\n",
    "Map.centerObject(roi,7)\n"
   ]
  },
  {
   "cell_type": "code",
   "execution_count": null,
   "id": "024b0aea",
   "metadata": {},
   "outputs": [],
   "source": []
  },
  {
   "cell_type": "markdown",
   "id": "7e56bf46",
   "metadata": {
    "heading_collapsed": true
   },
   "source": [
    "# 加载自动选取的样本点和人工选取的样本点"
   ]
  },
  {
   "cell_type": "markdown",
   "id": "f9888ade",
   "metadata": {
    "hidden": true
   },
   "source": [
    "## 加载人工选取的样本点"
   ]
  },
  {
   "cell_type": "code",
   "execution_count": null,
   "id": "c7f0732b",
   "metadata": {
    "ExecuteTime": {
     "end_time": "2021-09-16T10:26:58.537869Z",
     "start_time": "2021-09-16T10:26:58.197257Z"
    },
    "hidden": true
   },
   "outputs": [],
   "source": [
    "### 人工选取的样本点\n",
    "# 要求：水体类别属性为 label; 影像属性为 Image_id 。\n",
    "man_samples = ee.FeatureCollection('users/311605001111/TIANJIN_2020')\n",
    "print(man_samples.size().getInfo())"
   ]
  },
  {
   "cell_type": "markdown",
   "id": "506395f3",
   "metadata": {
    "hidden": true
   },
   "source": [
    "## 加载自动选取的样本点"
   ]
  },
  {
   "cell_type": "code",
   "execution_count": null,
   "id": "a7000232",
   "metadata": {
    "ExecuteTime": {
     "end_time": "2021-09-16T10:26:58.880714Z",
     "start_time": "2021-09-16T10:26:58.538838Z"
    },
    "hidden": true
   },
   "outputs": [],
   "source": [
    "### 自动选取的样本点\n",
    "# 要求：水体类别属性为 waterclass; 影像属性为 Image_id 。\n",
    "auto_samples = ee.FeatureCollection('users/311605001111/tianjin_2020')\n",
    "# auto_samples = ee.FeatureCollection('users/311605001111/PearlRiverDelta_2018')\n",
    "print(auto_samples.size().getInfo())"
   ]
  },
  {
   "cell_type": "markdown",
   "id": "df4f1a79",
   "metadata": {
    "heading_collapsed": true
   },
   "source": [
    "# 获取人工点和自动点都采集的影像ID"
   ]
  },
  {
   "cell_type": "code",
   "execution_count": null,
   "id": "17b1f772",
   "metadata": {
    "ExecuteTime": {
     "start_time": "2021-09-16T10:26:52.332Z"
    },
    "hidden": true
   },
   "outputs": [],
   "source": [
    "manual_samples = man_samples.distinct('Image_id')\n",
    "id = ee.List(manual_samples.aggregate_array('Image_id'))\n",
    "print(id.size().getInfo())\n",
    "print(id.getInfo())\n",
    "\n",
    "\n",
    "automatic_samples = auto_samples.distinct('Image_id')\n",
    "id = ee.List(automatic_samples.aggregate_array('Image_id'))\n",
    "print(id.size().getInfo())\n",
    "print(id.getInfo())"
   ]
  },
  {
   "cell_type": "code",
   "execution_count": null,
   "id": "7f3d68c9",
   "metadata": {
    "ExecuteTime": {
     "start_time": "2021-09-16T10:26:52.335Z"
    },
    "hidden": true
   },
   "outputs": [],
   "source": [
    "filter = ee.Filter.equals(**{'leftField': 'Image_id','rightField': 'Image_id'})\n",
    "id_col = ee.List(ee.Join.simple().apply(automatic_samples, manual_samples, filter).aggregate_array('Image_id'))\n",
    "print(id_col.size().getInfo())\n",
    "print(id_col.getInfo())"
   ]
  },
  {
   "cell_type": "markdown",
   "id": "346a9647",
   "metadata": {
    "heading_collapsed": true
   },
   "source": [
    "# 在同一景影像上，人工点与自动点的验证函数"
   ]
  },
  {
   "cell_type": "code",
   "execution_count": null,
   "id": "271ea78d",
   "metadata": {
    "ExecuteTime": {
     "start_time": "2021-09-16T10:26:52.337Z"
    },
    "hidden": true
   },
   "outputs": [],
   "source": [
    "# 验证函数\n",
    "water_image = ee.Image.constant(1).toFloat().rename('label')\n",
    "land_image = ee.Image.constant(0).toFloat().rename('label')\n",
    "def verify(img_id):\n",
    "    auto_point = auto_samples.filter(ee.Filter.eq('Image_id',img_id))\n",
    "    man_point = man_samples.filter(ee.Filter.eq('Image_id',img_id))\n",
    "    water = water_image.clipToCollection(man_point.filter(ee.Filter.eq('label',1)))\n",
    "    land = land_image.clipToCollection(man_point.filter(ee.Filter.eq('label',0)))\n",
    "    image_waterclass = ee.ImageCollection([water,land]).sum()\n",
    "    inter_points = image_waterclass.sampleRegions(**{\n",
    "        'collection': auto_point,\n",
    "        'properties': ['waterclass'],\n",
    "        'scale': 30,\n",
    "        'geometries': True,\n",
    "    })\n",
    "    return inter_points"
   ]
  },
  {
   "cell_type": "markdown",
   "id": "98becc76",
   "metadata": {
    "heading_collapsed": true
   },
   "source": [
    "# 验证"
   ]
  },
  {
   "cell_type": "code",
   "execution_count": null,
   "id": "9b42ca64",
   "metadata": {
    "ExecuteTime": {
     "start_time": "2021-09-16T10:26:52.340Z"
    },
    "hidden": true,
    "scrolled": true
   },
   "outputs": [],
   "source": [
    "# com_SamplePoints = ee.FeatureCollection(id_col.map(verify)).flatten()\n",
    "# print(com_SamplePoints.aggregate_array('label').getInfo())\n",
    "# print(com_SamplePoints.size().getInfo())"
   ]
  },
  {
   "cell_type": "code",
   "execution_count": null,
   "id": "f44755c6",
   "metadata": {
    "ExecuteTime": {
     "start_time": "2021-09-16T10:26:52.342Z"
    },
    "hidden": true
   },
   "outputs": [],
   "source": [
    "# 利用误差矩阵进行验证\n",
    "com_SamplePoints = ee.FeatureCollection(id_col.map(verify)).flatten()\n",
    "test_accuracy = com_SamplePoints.errorMatrix('label', 'waterclass')\n",
    "print(test_accuracy.getInfo())\n",
    "print('total caccuracy:{}'.format(test_accuracy.accuracy().getInfo()))\n",
    "print('kappa:{}'.format(test_accuracy.kappa().getInfo()))"
   ]
  },
  {
   "cell_type": "markdown",
   "id": "b56943a0",
   "metadata": {},
   "source": [
    "# 核心代码"
   ]
  },
  {
   "cell_type": "code",
   "execution_count": 7,
   "id": "ed1e65b6",
   "metadata": {
    "ExecuteTime": {
     "end_time": "2021-09-28T12:12:53.008152Z",
     "start_time": "2021-09-28T12:12:00.027874Z"
    },
    "scrolled": false
   },
   "outputs": [
    {
     "name": "stdout",
     "output_type": "stream",
     "text": [
      "manual-sample number:1983\n",
      "auto-sample number:3771\n",
      "筛选后，剩余的样本数：  3699\n",
      "[[955, 1], [0, 178]]\n",
      "total accuracy:0.9991181657848325\n",
      "kappa:0.9966755981871165\n",
      "[[400, 0], [0, 100]]\n",
      "total accuracy:1\n",
      "kappa:1\n"
     ]
    }
   ],
   "source": [
    "# 核心代码\n",
    "\n",
    "###数据\n",
    "# 人工选取的样本点\n",
    "man_samples = ee.FeatureCollection('users/311605001111/WUHAN_2000merge')\n",
    "print('manual-sample number:{}'.format(man_samples.size().getInfo()))\n",
    "# 自动选取的样本点\n",
    "samples = ee.FeatureCollection('users/311605001111/wuhan_2000')\n",
    "print('auto-sample number:{}'.format(samples.size().getInfo()))\n",
    "bands = ['B2', 'B3', 'B4', 'B5', 'B6', 'B7','NDVI','NDWI','mNDWI','CWI','AWEI','EWI','EVI']\n",
    "# cluster与waterclass的对比\n",
    "def Compare(feature):\n",
    "    cluster = ee.Number(feature.get('cluster'))\n",
    "    waterclass = ee.Number(feature.get('waterclass'))\n",
    "    ft = ee.Algorithms.If(cluster.eq(waterclass),feature.set({'eq':1}),feature.set({'eq':0}))\n",
    "    return ft\n",
    "# k-mean聚类\n",
    "def k_mean(sampleSET):\n",
    "    clusterer = ee.Clusterer.wekaKMeans(2).train(sampleSET,bands)\n",
    "    result = sampleSET.cluster(clusterer)\n",
    "    right = result.map(Compare).filter(ee.Filter.eq('eq',0))\n",
    "    error = result.map(Compare).filter(ee.Filter.eq('eq',1))\n",
    "    filtered_sample = ee.FeatureCollection(ee.Algorithms.If(right.size().gt(error.size()),right,error))\n",
    "    return filtered_sample\n",
    "auto_samples = k_mean(samples)\n",
    "print(\"筛选后，剩余的样本数： \",auto_samples.size().getInfo())\n",
    "\n",
    "\n",
    "\n",
    "### 唯一ID\n",
    "manual_samples = man_samples.distinct('Image_id')\n",
    "automatic_samples = auto_samples.distinct('Image_id')\n",
    "filter = ee.Filter.equals(**{'leftField': 'Image_id','rightField': 'Image_id'})\n",
    "id_col = ee.List(ee.Join.simple().apply(automatic_samples, manual_samples, filter).aggregate_array('Image_id'))\n",
    "\n",
    "### 验证函数\n",
    "water_image = ee.Image.constant(1).toFloat().rename('label')\n",
    "land_image = ee.Image.constant(0).toFloat().rename('label')\n",
    "def verify(img_id):\n",
    "    auto_point = auto_samples.filter(ee.Filter.eq('Image_id',img_id))\n",
    "    man_point = man_samples.filter(ee.Filter.eq('Image_id',img_id))\n",
    "    water = water_image.clipToCollection(man_point.filter(ee.Filter.eq('label',1)))\n",
    "    land = land_image.clipToCollection(man_point.filter(ee.Filter.eq('label',0)))\n",
    "    image_waterclass = ee.ImageCollection([water,land]).sum()\n",
    "    inter_points = image_waterclass.sampleRegions(**{\n",
    "        'collection': auto_point,\n",
    "        'properties': ['waterclass','Image_id'],\n",
    "        'scale': 30,\n",
    "        'geometries': True,\n",
    "    })\n",
    "    return inter_points\n",
    "\n",
    "### 精度验证\n",
    "SamplePoints = ee.FeatureCollection(id_col.map(verify)).flatten()\n",
    "water = SamplePoints.filter(ee.Filter.eq('label',1)).randomColumn('random').sort('random').limit(100)\n",
    "no_water = SamplePoints.filter(ee.Filter.eq('label',0)).randomColumn('random').sort('random').limit(400)\n",
    "com_SamplePoints = ee.FeatureCollection([water,no_water]).flatten()\n",
    "\n",
    "test_accuracy = SamplePoints.errorMatrix('label', 'waterclass')\n",
    "print(test_accuracy.getInfo())\n",
    "print('total accuracy:{}'.format(test_accuracy.accuracy().getInfo()))\n",
    "print('kappa:{}'.format(test_accuracy.kappa().getInfo()))\n",
    "\n",
    "test_accuracy = com_SamplePoints.errorMatrix('label', 'waterclass')\n",
    "print(test_accuracy.getInfo())\n",
    "print('total accuracy:{}'.format(test_accuracy.accuracy().getInfo()))\n",
    "print('kappa:{}'.format(test_accuracy.kappa().getInfo()))"
   ]
  },
  {
   "cell_type": "code",
   "execution_count": 8,
   "id": "6ffbf599",
   "metadata": {
    "ExecuteTime": {
     "end_time": "2021-09-28T12:13:34.868126Z",
     "start_time": "2021-09-28T12:12:55.514749Z"
    }
   },
   "outputs": [
    {
     "name": "stdout",
     "output_type": "stream",
     "text": [
      "[[399, 1], [0, 100]]\n",
      "total accuracy:0.998\n",
      "kappa:0.9937733499377335\n"
     ]
    }
   ],
   "source": [
    "# 利用误差矩阵进行验证\n",
    "diff_water = SamplePoints.filter(ee.Filter.eq('label',1)).filter(ee.Filter.eq('waterclass',0))\n",
    "diff_nowater = SamplePoints.filter(ee.Filter.eq('label',0)).filter(ee.Filter.eq('waterclass',1))\n",
    "cor_water = SamplePoints.filter(ee.Filter.eq('label',1)).filter(ee.Filter.eq('waterclass',1)).randomColumn('random').sort('random').limit(100-diff_water.size().getInfo())\n",
    "cor_nowater = SamplePoints.filter(ee.Filter.eq('label',0)).filter(ee.Filter.eq('waterclass',0)).randomColumn('random').sort('random').limit(400-diff_nowater.size().getInfo())\n",
    "total_samples = ee.FeatureCollection([diff_water,diff_nowater,cor_water,cor_nowater]).flatten()\n",
    "\n",
    "test_accuracy = total_samples.errorMatrix('label', 'waterclass')\n",
    "print(test_accuracy.getInfo())\n",
    "print('total accuracy:{}'.format(test_accuracy.accuracy().getInfo()))\n",
    "print('kappa:{}'.format(test_accuracy.kappa().getInfo()))"
   ]
  },
  {
   "cell_type": "code",
   "execution_count": null,
   "id": "d3e3f3ec",
   "metadata": {
    "ExecuteTime": {
     "end_time": "2021-09-28T12:11:58.047423Z",
     "start_time": "2021-09-28T12:11:58.047423Z"
    }
   },
   "outputs": [],
   "source": [
    "a = SamplePoints.filter(ee.Filter.eq('label',0)).filter(ee.Filter.eq('waterclass',1))\n",
    "id = SamplePoints.filter(ee.Filter.eq('label',0)).filter(ee.Filter.eq('waterclass',1)).distinct('Image_id').aggregate_array('Image_id')\n",
    "\n",
    "for i in range(0,id.size().getInfo(),1):\n",
    "    print(id.get(i).getInfo())\n",
    "    print('total:',a.filter(ee.Filter.eq('Image_id',id.get(i))).size().getInfo())"
   ]
  },
  {
   "cell_type": "code",
   "execution_count": null,
   "id": "1460ea1e",
   "metadata": {
    "ExecuteTime": {
     "end_time": "2021-09-27T12:16:51.095468Z",
     "start_time": "2021-09-27T12:16:46.534128Z"
    }
   },
   "outputs": [],
   "source": [
    "q = a.filter(ee.Filter.eq('Image_id','LANDSAT/LE07/C01/T1_SR/LE07_123033_20001210'))\n",
    "print(q.getInfo())"
   ]
  },
  {
   "cell_type": "code",
   "execution_count": null,
   "id": "22a3df65",
   "metadata": {},
   "outputs": [],
   "source": [
    "116.00273148914086, 38.82783660973387\n"
   ]
  },
  {
   "cell_type": "code",
   "execution_count": null,
   "id": "391ac81d",
   "metadata": {},
   "outputs": [],
   "source": [
    "var b = ee.Geometry.Point([117.00910929827164, 38.890901875718455]);\n",
    "Map.addLayer(b,{'color': 'red', 'pointSize': 100,'fillColor': 'red'},'b');\n",
    "Map.centerObject(b,14);"
   ]
  },
  {
   "cell_type": "code",
   "execution_count": null,
   "id": "7276f6ca",
   "metadata": {},
   "outputs": [],
   "source": []
  },
  {
   "cell_type": "code",
   "execution_count": null,
   "id": "7d40a39f",
   "metadata": {
    "ExecuteTime": {
     "end_time": "2021-09-27T08:18:26.811095Z",
     "start_time": "2021-09-27T08:18:22.015063Z"
    }
   },
   "outputs": [],
   "source": [
    "# LANDSAT/LE07/C01/T1_SR/LE07_122039_20000306\n",
    "# LANDSAT/LT05/C01/T1_SR/LT05_123039_20000727\n",
    "\n",
    "a = SamplePoints.filter(ee.Filter.eq('Image_id','LANDSAT/LT05/C01/T1_SR/LT05_119028_20101015')).filter(ee.Filter.eq('label',1))\n",
    "print(a.size().getInfo())\n",
    "\n",
    "# shp格式\n",
    "selector = ['Image_id','label','waterclass']\n",
    "geemap.ee_export_vector_to_drive(a, description='LT05_119028_20101015_cor', folder='corPoints2', file_format='shp', selectors=selector)"
   ]
  },
  {
   "cell_type": "code",
   "execution_count": null,
   "id": "8a2d9f17",
   "metadata": {
    "ExecuteTime": {
     "end_time": "2021-09-28T08:44:44.365787Z",
     "start_time": "2021-09-28T08:39:31.706530Z"
    },
    "scrolled": false
   },
   "outputs": [],
   "source": [
    "print('total water:',auto_samples.filter(ee.Filter.eq('waterclass',1)).size().getInfo())\n",
    "print('total no-water:',auto_samples.filter(ee.Filter.eq('waterclass',0)).size().getInfo())\n",
    "id = auto_samples.distinct('Image_id').aggregate_array('Image_id')\n",
    "print(id.getInfo())\n",
    "\n",
    "# 在各景的分布（选择前的）\n",
    "for i in range(0,id.size().getInfo(),1):\n",
    "    print(id.get(i).getInfo())\n",
    "    print('water:',auto_samples.filter(ee.Filter.eq('Image_id',id.get(i))).filter(ee.Filter.eq('waterclass',1)).size().getInfo())\n",
    "    print('no-water:',auto_samples.filter(ee.Filter.eq('Image_id',id.get(i))).filter(ee.Filter.eq('waterclass',0)).size().getInfo())"
   ]
  },
  {
   "cell_type": "code",
   "execution_count": null,
   "id": "c0eec64d",
   "metadata": {
    "ExecuteTime": {
     "end_time": "2021-09-28T08:49:45.120307Z",
     "start_time": "2021-09-28T08:49:36.537558Z"
    },
    "scrolled": false
   },
   "outputs": [],
   "source": [
    "a = ee.FeatureCollection('users/311605001111/TIANJIN_2020merge')\n",
    "print('total water:',a.filter(ee.Filter.eq('label',1)).size().getInfo())\n",
    "print('total no-water:',a.filter(ee.Filter.eq('label',0)).size().getInfo())\n",
    "id = a.distinct('Image_id').aggregate_array('Image_id')\n",
    "print(id.getInfo())\n",
    "\n",
    "# 在各景的分布（选择前的）\n",
    "for i in range(0,id.size().getInfo(),1):\n",
    "    print(id.get(i).getInfo())\n",
    "    print('water:',a.filter(ee.Filter.eq('Image_id',id.get(i))).filter(ee.Filter.eq('label',1)).size().getInfo())\n",
    "    print('no-water:',a.filter(ee.Filter.eq('Image_id',id.get(i))).filter(ee.Filter.eq('label',0)).size().getInfo())"
   ]
  },
  {
   "cell_type": "code",
   "execution_count": null,
   "id": "bdce27d6",
   "metadata": {
    "ExecuteTime": {
     "end_time": "2021-09-22T07:23:45.399876Z",
     "start_time": "2021-09-22T07:20:32.341223Z"
    }
   },
   "outputs": [],
   "source": [
    "# 在各景的分布（选择后的）\n",
    "for i in range(0,id_col.size().getInfo(),1):\n",
    "    print(com_SamplePoints.filter(ee.Filter.eq('Image_id',id_col.get(i))).size().getInfo())\n",
    "    print(id_col.get(i).getInfo())\n",
    "    print('water:',com_SamplePoints.filter(ee.Filter.eq('Image_id',id_col.get(i))).filter(ee.Filter.eq('label',1)).size().getInfo())\n",
    "    print('no-water:',com_SamplePoints.filter(ee.Filter.eq('Image_id',id_col.get(i))).filter(ee.Filter.eq('label',0)).size().getInfo())"
   ]
  },
  {
   "cell_type": "code",
   "execution_count": null,
   "id": "a4e2e5f4",
   "metadata": {
    "ExecuteTime": {
     "end_time": "2021-09-28T08:45:57.048901Z",
     "start_time": "2021-09-28T08:44:46.907270Z"
    },
    "scrolled": false
   },
   "outputs": [],
   "source": [
    "# 在各景的分布（选择前的\n",
    "\n",
    "for i in range(0,id_col.size().getInfo(),1):\n",
    "    print(ee.FeatureCollection(id_col.map(verify).get(i)).size().getInfo())\n",
    "    print(ee.FeatureCollection(id_col.map(verify).get(i)).distinct('Image_id').aggregate_array('Image_id').getInfo())\n",
    "    print('water:',ee.FeatureCollection(id_col.map(verify).get(i)).filter(ee.Filter.eq('label',1)).size().getInfo())\n",
    "    print('no-water:',ee.FeatureCollection(id_col.map(verify).get(i)).filter(ee.Filter.eq('label',0)).size().getInfo())"
   ]
  },
  {
   "cell_type": "markdown",
   "id": "9cce71d7",
   "metadata": {},
   "source": [
    "# 验证点，空间分布"
   ]
  },
  {
   "cell_type": "code",
   "execution_count": null,
   "id": "ad9f1493",
   "metadata": {
    "ExecuteTime": {
     "end_time": "2021-09-16T10:28:38.834359Z",
     "start_time": "2021-09-16T10:28:37.899197Z"
    }
   },
   "outputs": [],
   "source": [
    "elevation = ee.Image('USGS/SRTMGL1_003').select('elevation').clip(roi)\n",
    "def maskSR(img):\n",
    "    cloudShadowBitMask = (1 << 3)\n",
    "    cloudsBitMask = (1 << 5)\n",
    "    snowBitMask = (1 << 4)   \n",
    "    qa = img.select('pixel_qa')\n",
    "    mask = qa.bitwiseAnd(cloudShadowBitMask).eq(0) \\\n",
    "                   .And(qa.bitwiseAnd(cloudsBitMask).eq(0)) \\\n",
    "                   .And(qa.bitwiseAnd(snowBitMask).eq(0))\n",
    "    azimuth = img.get('SOLAR_AZIMUTH_ANGLE')\n",
    "    zenith = img.get('SOLAR_ZENITH_ANGLE')\n",
    "    image = img.lt(0)\n",
    "    bands = image.select('B2').add(image.select('B3')).add(image.select('B4')).add(image.select('B5')).add(image.select('B6')).add(image.select('B7'))\n",
    "    outlier = bands.gt(0).remap([0,1],[1,0]).rename('outlier')\n",
    "    return img.updateMask(mask).updateMask(ee.Terrain.hillShadow(elevation,azimuth,zenith,200,True)).updateMask(outlier)\n",
    "\n",
    "# 图像可视化参数\n",
    "visParams = {'bands': ['B5', 'B6', 'B4'],'min': 0,'max': 3000,'gamma': 1.4}\n",
    "\n",
    "l8 = ee.ImageCollection('LANDSAT/LC08/C01/T1_SR') \\\n",
    "       .select(['B2', 'B3', 'B4', 'B5', 'B6', 'B7','pixel_qa']) \\\n",
    "       .filterBounds(roi) \\\n",
    "       .filter(ee.Filter.lt('CLOUD_COVER',30)) \\\n",
    "       .filterDate('2020-01-01', '2020-12-31')          \n",
    "Map.addLayer(l8.map(maskSR).mosaic().clip(roi), visParams,'image mosaic')\n",
    "print(l8.size().getInfo())"
   ]
  },
  {
   "cell_type": "code",
   "execution_count": null,
   "id": "37d870f5",
   "metadata": {
    "ExecuteTime": {
     "end_time": "2021-09-16T10:28:44.334623Z",
     "start_time": "2021-09-16T10:28:40.205165Z"
    }
   },
   "outputs": [],
   "source": [
    "# q = com_SamplePoints.draw('red')\n",
    "# Map.addLayer(q, {}, 'q')\n",
    "\n",
    "refer_img = l8.map(maskSR).median().clip(roi).visualize(**{'bands': ['B5', 'B6', 'B4'],'min': 0,'max': 3000,'gamma': 1.4,'opacity':0.65})\n",
    "blend = refer_img.blend(com_SamplePoints.filter(ee.Filter.eq('label',0)).draw('red')).blend(com_SamplePoints.filter(ee.Filter.eq('label',1)).draw('yellow'))\n",
    "Map.addLayer(blend, {}, \"Blend\")"
   ]
  },
  {
   "cell_type": "code",
   "execution_count": null,
   "id": "f866cb4e",
   "metadata": {
    "ExecuteTime": {
     "end_time": "2021-09-16T10:29:19.043342Z",
     "start_time": "2021-09-16T10:28:46.685819Z"
    },
    "scrolled": false
   },
   "outputs": [],
   "source": [
    "# 合成影像\n",
    "from matplotlib import pyplot as plt\n",
    "import numpy as np\n",
    "import matplotlib\n",
    "from geemap import cartoee\n",
    "# # 大庆市\n",
    "# region = [123.9355, 45.8362,125.3055, 46.8762]\n",
    "# # 天津市\n",
    "# region = [115.9244, 38.6272,117.4944,39.6372]\n",
    "# # 武汉市\n",
    "# region = [113.7393, 29.8642,115.0993, 30.9242]\n",
    "# # 珠三角\n",
    "# region = [112.7614, 22.2347,114.0514, 23.2547]\n",
    "# 青藏高原\n",
    "region = [89.8826, 34.6579,91.3626, 35.8279]\n",
    "fig = plt.figure(figsize=(12, 8))\n",
    "# use cartoee to get a map\n",
    "ax = cartoee.get_map(blend, region=region)\n",
    "cartoee.add_gridlines(ax, interval=[0.3,0.2], linestyle=\":\")\n",
    "ax.set_title(label = 'Region E', fontsize=28)"
   ]
  },
  {
   "cell_type": "code",
   "execution_count": null,
   "id": "747788c1",
   "metadata": {},
   "outputs": [],
   "source": []
  },
  {
   "cell_type": "code",
   "execution_count": null,
   "id": "1f132cf0",
   "metadata": {},
   "outputs": [],
   "source": []
  },
  {
   "cell_type": "code",
   "execution_count": null,
   "id": "f08c3dfd",
   "metadata": {
    "ExecuteTime": {
     "start_time": "2021-09-16T10:26:52.357Z"
    }
   },
   "outputs": [],
   "source": [
    "samples = ee.FeatureCollection('users/311605001111/PearlRiverDelta_2015')\n",
    "print('sample number:{}'.format(samples.size().getInfo()))\n",
    "\n",
    "# 水体的样本点数\n",
    "samplepoint_water = samples.filter(ee.Filter.eq('waterclass',1))\n",
    "print('water sample number:{}'.format(samplepoint_water.size().getInfo()))\n",
    "\n",
    "# 非水体的样本点数\n",
    "samplepoint_land = samples.filter(ee.Filter.eq('waterclass',0))\n",
    "print('nowater sample number:{}'.format(samplepoint_land.size().getInfo()))"
   ]
  },
  {
   "cell_type": "markdown",
   "id": "3c9060be",
   "metadata": {},
   "source": [
    "## 循环"
   ]
  },
  {
   "cell_type": "code",
   "execution_count": null,
   "id": "df98438b",
   "metadata": {
    "ExecuteTime": {
     "start_time": "2021-09-16T10:26:52.360Z"
    }
   },
   "outputs": [],
   "source": [
    "# cluster与waterclass的对比\n",
    "def Compare(feature):\n",
    "    cluster = ee.Number(feature.get('cluster'))\n",
    "    waterclass = ee.Number(feature.get('waterclass'))\n",
    "    ft = ee.Algorithms.If(cluster.eq(waterclass),feature.set({'eq':1}),feature.set({'eq':0}))\n",
    "    return ft\n",
    "# k-mean聚类\n",
    "def k_mean(sampleSET):\n",
    "    clusterer = ee.Clusterer.wekaKMeans(2).train(sampleSET,bands)\n",
    "    result = sampleSET.cluster(clusterer)\n",
    "    right = result.map(Compare).filter(ee.Filter.eq('eq',0))\n",
    "    error = result.map(Compare).filter(ee.Filter.eq('eq',1))\n",
    "    filtered_sample = ee.FeatureCollection(ee.Algorithms.If(right.size().gt(error.size()),right,error))\n",
    "    return filtered_sample\n",
    "def verify(img_id):\n",
    "    auto_point = auto_samples.filter(ee.Filter.eq('Image_id',img_id))\n",
    "    man_point = man_samples.filter(ee.Filter.eq('Image_id',img_id))\n",
    "    water = water_image.clipToCollection(man_point.filter(ee.Filter.eq('label',1)))\n",
    "    land = land_image.clipToCollection(man_point.filter(ee.Filter.eq('label',0)))\n",
    "    image_waterclass = ee.ImageCollection([water,land]).sum()\n",
    "    inter_points = image_waterclass.sampleRegions(**{\n",
    "        'collection': auto_point,\n",
    "        'properties': ['waterclass','Image_id'],\n",
    "        'scale': 30,\n",
    "        'geometries': True,\n",
    "    })\n",
    "    return inter_points\n",
    "\n",
    "\n",
    "for i in ['2000','2005','2010','2015','2020']:\n",
    "    print(\"{} year\".format(i))\n",
    "    id_man = 'users/311605001111/DAQING_' + i\n",
    "    id_auto = 'users/311605001111/daqing_' + i\n",
    "    man_samples = ee.FeatureCollection(id_man)\n",
    "    print('manual-sample number:{}'.format(man_samples.size().getInfo()))\n",
    "    samples = ee.FeatureCollection(id_auto)\n",
    "    print('auto-sample number:{}'.format(samples.size().getInfo()))\n",
    "    bands = ['B2', 'B3', 'B4', 'B5', 'B6', 'B7','NDVI','NDWI','mNDWI','CWI','AWEI','EWI','EVI']\n",
    "    auto_samples = k_mean(samples)\n",
    "    print(\"筛选后，剩余的样本数： \",auto_samples.size().getInfo())\n",
    "    ### 唯一ID\n",
    "    manual_samples = man_samples.distinct('Image_id')\n",
    "    automatic_samples = auto_samples.distinct('Image_id')\n",
    "    filter = ee.Filter.equals(**{'leftField': 'Image_id','rightField': 'Image_id'})\n",
    "    id_col = ee.List(ee.Join.simple().apply(automatic_samples, manual_samples, filter).aggregate_array('Image_id'))\n",
    "    ### 验证函数\n",
    "    water_image = ee.Image.constant(1).toFloat().rename('label')\n",
    "    land_image = ee.Image.constant(0).toFloat().rename('label')\n",
    "    ### 精度验证\n",
    "    com_SamplePoints = ee.FeatureCollection(id_col.map(verify)).flatten()\n",
    "    print(\"consistent sample number:\",com_SamplePoints.size().getInfo())\n",
    "    test_accuracy = com_SamplePoints.errorMatrix('label', 'waterclass')\n",
    "    print(test_accuracy.getInfo())\n",
    "    print('total accuracy:{}'.format(test_accuracy.accuracy().getInfo()))\n",
    "    print('kappa:{}'.format(test_accuracy.kappa().getInfo()))"
   ]
  },
  {
   "cell_type": "code",
   "execution_count": null,
   "id": "021695c1",
   "metadata": {},
   "outputs": [],
   "source": []
  },
  {
   "cell_type": "code",
   "execution_count": null,
   "id": "2be8a0ec",
   "metadata": {
    "ExecuteTime": {
     "start_time": "2021-09-16T10:26:52.363Z"
    },
    "scrolled": false
   },
   "outputs": [],
   "source": [
    "miss = com_SamplePoints.filter(ee.Filter.eq('label',0)).filter(ee.Filter.eq('waterclass',1)).filter(ee.Filter.eq('Image_id','LANDSAT/LT05/C01/T1_SR/LT05_122039_20051107'))\n",
    "print(miss.size().getInfo())\n",
    "print(miss.distinct('Image_id').getInfo())"
   ]
  },
  {
   "cell_type": "code",
   "execution_count": null,
   "id": "7661fe42",
   "metadata": {
    "ExecuteTime": {
     "start_time": "2021-09-16T10:26:52.366Z"
    }
   },
   "outputs": [],
   "source": [
    "miss = com_SamplePoints.filter(ee.Filter.eq('label',0)).filter(ee.Filter.eq('waterclass',1)).filter(ee.Filter.eq('Image_id','LANDSAT/LT05/C01/T1_SR/LT05_122039_20051107'))\n",
    "print(miss.size().getInfo())\n",
    "print(miss.distinct('Image_id').aggregate_array('Image_id').getInfo())"
   ]
  },
  {
   "cell_type": "code",
   "execution_count": null,
   "id": "fa211a2c",
   "metadata": {},
   "outputs": [],
   "source": []
  },
  {
   "cell_type": "code",
   "execution_count": null,
   "id": "a7ba5370",
   "metadata": {},
   "outputs": [],
   "source": []
  },
  {
   "cell_type": "code",
   "execution_count": null,
   "id": "252a51f6",
   "metadata": {},
   "outputs": [],
   "source": []
  },
  {
   "cell_type": "code",
   "execution_count": null,
   "id": "48323d99",
   "metadata": {},
   "outputs": [],
   "source": []
  },
  {
   "cell_type": "code",
   "execution_count": null,
   "id": "41e144ac",
   "metadata": {},
   "outputs": [],
   "source": []
  },
  {
   "cell_type": "code",
   "execution_count": null,
   "id": "1eebf04e",
   "metadata": {
    "ExecuteTime": {
     "start_time": "2021-09-16T10:26:52.911Z"
    }
   },
   "outputs": [],
   "source": [
    "LANDSAT/LE07/C01/T1_SR/LE07_122044_20201124\n",
    "LANDSAT/LE07/C01/T1_SR/LE07_122044_20201124\n",
    "LANDSAT/LE07/C01/T1_SR/LE07_122044_20200921\n",
    "LANDSAT/LE07/C01/T1_SR/LE07_122044_20200921\n",
    "LANDSAT/LE07/C01/T1_SR/LE07_122044_20200921"
   ]
  },
  {
   "cell_type": "code",
   "execution_count": null,
   "id": "0fbcfd5d",
   "metadata": {},
   "outputs": [],
   "source": []
  }
 ],
 "metadata": {
  "hide_input": false,
  "kernelspec": {
   "display_name": "Python 3 (ipykernel)",
   "language": "python",
   "name": "python3"
  },
  "language_info": {
   "codemirror_mode": {
    "name": "ipython",
    "version": 3
   },
   "file_extension": ".py",
   "mimetype": "text/x-python",
   "name": "python",
   "nbconvert_exporter": "python",
   "pygments_lexer": "ipython3",
   "version": "3.8.5"
  },
  "toc": {
   "base_numbering": 1,
   "nav_menu": {},
   "number_sections": true,
   "sideBar": true,
   "skip_h1_title": false,
   "title_cell": "Table of Contents",
   "title_sidebar": "Contents",
   "toc_cell": false,
   "toc_position": {},
   "toc_section_display": true,
   "toc_window_display": false
  },
  "varInspector": {
   "cols": {
    "lenName": 16,
    "lenType": 16,
    "lenVar": 40
   },
   "kernels_config": {
    "python": {
     "delete_cmd_postfix": "",
     "delete_cmd_prefix": "del ",
     "library": "var_list.py",
     "varRefreshCmd": "print(var_dic_list())"
    },
    "r": {
     "delete_cmd_postfix": ") ",
     "delete_cmd_prefix": "rm(",
     "library": "var_list.r",
     "varRefreshCmd": "cat(var_dic_list()) "
    }
   },
   "types_to_exclude": [
    "module",
    "function",
    "builtin_function_or_method",
    "instance",
    "_Feature"
   ],
   "window_display": false
  }
 },
 "nbformat": 4,
 "nbformat_minor": 5
}
