{
 "cells": [
  {
   "cell_type": "code",
   "execution_count": 1,
   "id": "477011db",
   "metadata": {
    "ExecuteTime": {
     "end_time": "2021-08-14T07:22:14.626006Z",
     "start_time": "2021-08-14T07:22:14.610398Z"
    }
   },
   "outputs": [],
   "source": [
    "import os\n",
    "os.environ['HTTP_PROXY'] = \"http://127.0.0.1:10809\"\n",
    "os.environ['HTTPS_PROXY'] = \"http://127.0.0.1:10809\""
   ]
  },
  {
   "cell_type": "code",
   "execution_count": 2,
   "id": "2fc34cc6",
   "metadata": {
    "ExecuteTime": {
     "end_time": "2021-08-14T07:22:19.973857Z",
     "start_time": "2021-08-14T07:22:15.017963Z"
    }
   },
   "outputs": [
    {
     "data": {
      "application/vnd.jupyter.widget-view+json": {
       "model_id": "0bc7401aed9c49538ddc51d503529fe0",
       "version_major": 2,
       "version_minor": 0
      },
      "text/plain": [
       "Map(center=[40, -100], controls=(WidgetControl(options=['position', 'transparent_bg'], widget=HBox(children=(T…"
      ]
     },
     "metadata": {},
     "output_type": "display_data"
    }
   ],
   "source": [
    "import geemap\n",
    "import ee\n",
    "Map = geemap.Map()\n",
    "Map"
   ]
  },
  {
   "cell_type": "markdown",
   "id": "b0375f32",
   "metadata": {},
   "source": [
    "# 训练特征波段的选择及计算"
   ]
  },
  {
   "cell_type": "code",
   "execution_count": null,
   "id": "24ec27e3",
   "metadata": {},
   "outputs": [],
   "source": [
    "## 指数的计算\n",
    "def water_index(img):\n",
    "    image = img.clip(roi)\n",
    "    ndvi=image.normalizedDifference(['B5', 'B4']).rename('NDVI')\n",
    "    ndwi=image.normalizedDifference(['B3', 'B5']).rename(\"NDWI\")\n",
    "    mndwi=image.normalizedDifference(['B3', 'B6']).rename(\"mNDWI\")\n",
    "    ndvi_mndwi = ndvi.subtract(mndwi).rename('ndvi_mndwi')\n",
    "    cwi=image.select('B3').divide(image.select('B6')).rename(\"CWI\")\n",
    "    awei = image.expression('B2 + 2.5*B3 - 1.5*(B5+B6) - 0.25*B7',\n",
    "        {\n",
    "          'B2': image.select('B2'),\n",
    "          'B3': image.select('B3'),    \n",
    "          'B5': image.select('B5'),    \n",
    "          'B6': image.select('B6'),\n",
    "          'B7': image.select('B7'),\n",
    "        }).rename('AWEI')\n",
    "    ewi = image.expression('(B3 - B5 - B6)/(B3 + B5 + B6)',\n",
    "        {\n",
    "          'B3': image.select('B3'),    \n",
    "          'B5': image.select('B5'),    \n",
    "          'B6': image.select('B6'),\n",
    "        }).rename('EWI')\n",
    "    evi = image.expression('2.5*(B5 - B4)/(B5 + 6*B4 - 7.5*B2 + 1)',\n",
    "        {\n",
    "          'B2': image.select('B2'),\n",
    "          'B4': image.select('B4'),\n",
    "          'B5': image.select('B5'),    \n",
    "        }).rename('EVI')\n",
    "    return image.addBands(ndvi).addBands(ndwi).addBands(mndwi).addBands(cwi).addBands(awei).addBands(ewi).addBands(evi).addBands(ndvi_mndwi)\n",
    "\n",
    "# 移除山地阴影\n",
    "elevation = ee.Image('USGS/SRTMGL1_003').select('elevation').clip(roi)# .reproject('EPSG:3857',None,30)\n",
    "def removeShadow(image):\n",
    "    azimuth = image.get('SOLAR_AZIMUTH_ANGLE')\n",
    "    zenith = image.get('SOLAR_ZENITH_ANGLE')\n",
    "    return image.updateMask(ee.Terrain.hillShadow(elevation,azimuth,zenith,200,True))"
   ]
  },
  {
   "cell_type": "code",
   "execution_count": null,
   "id": "a2872002",
   "metadata": {},
   "outputs": [],
   "source": [
    "['Image_id','B2', 'B3', 'B4', 'B5', 'B6', 'B7','NDVI','NDWI','mNDWI','CWI','AWEI','EWI','EVI','waterclass']\n",
    "['B2', 'B3', 'B4', 'B5', 'B6', 'B7','NDVI','NDWI','mNDWI','CWI','AWEI','EWI','EVI']"
   ]
  },
  {
   "cell_type": "markdown",
   "id": "59c56fc2",
   "metadata": {},
   "source": [
    "# k-mena聚类定义成函数"
   ]
  },
  {
   "cell_type": "code",
   "execution_count": null,
   "id": "e904d604",
   "metadata": {},
   "outputs": [],
   "source": [
    "bands = ['B2', 'B3', 'B4', 'B5', 'B6', 'B7','NDVI','NDWI','mNDWI','CWI','AWEI','EWI','EVI']\n",
    "# cluster与waterclass的对比\n",
    "def Compare(feature):\n",
    "    cluster = ee.Number(feature.get('cluster'))\n",
    "    waterclass = ee.Number(feature.get('waterclass'))\n",
    "    ft = ee.Algorithms.If(cluster.eq(waterclass),feature.set({'eq':1}),feature.set({'eq':0}))\n",
    "    return ft\n",
    "# k-mean聚类\n",
    "def k_mean(sampleSET):\n",
    "    clusterer = ee.Clusterer.wekaKMeans(2).train(sampleSET,bands)\n",
    "    result = sampleSET.cluster(clusterer)\n",
    "    right = result.map(Compare).filter(ee.Filter.eq('eq',0))\n",
    "    error = result.map(Compare).filter(ee.Filter.eq('eq',1))\n",
    "    filtered_sample = ee.FeatureCollection(ee.Algorithms.If(right.size().gt(error.size()),right,error))\n",
    "    return filtered_sample"
   ]
  },
  {
   "cell_type": "code",
   "execution_count": null,
   "id": "df9e3a09",
   "metadata": {},
   "outputs": [],
   "source": [
    "# 旧版本\n",
    "# K_mean聚类\n",
    "bands = ['B2', 'B3', 'B4', 'B5', 'B6', 'B7','NDVI','NDWI','mNDWI','CWI','AWEI','EWI','EVI']\n",
    "clusterer = ee.Clusterer.wekaKMeans(2).train(internal_mean40,bands)\n",
    "result = internal_mean40.cluster(clusterer)\n",
    "\n",
    "# cluster与waterclass的对比\n",
    "def Compare(feature):\n",
    "    cluster = ee.Number(feature.get('cluster'))\n",
    "    waterclass = ee.Number(feature.get('waterclass'))\n",
    "    ft = ee.Algorithms.If(cluster.eq(waterclass),feature.set({'eq':1}),feature.set({'eq':0}))\n",
    "    return ft\n",
    "right = result.map(Compare).filter(ee.Filter.eq('eq',0))\n",
    "error = result.map(Compare).filter(ee.Filter.eq('eq',1))\n",
    "# 过滤后的样本\n",
    "filtered_sample = ee.Algorithms.If(right.size().gt(error.size()),right,error)\n",
    "print(\"筛选后，剩余的样本数： \",ee.FeatureCollection(filtered_sample).size().getInfo())"
   ]
  },
  {
   "cell_type": "markdown",
   "id": "ad15f95d",
   "metadata": {},
   "source": [
    "# 研究区域"
   ]
  },
  {
   "cell_type": "code",
   "execution_count": 3,
   "id": "dfe10931",
   "metadata": {
    "ExecuteTime": {
     "end_time": "2021-08-14T07:22:24.064037Z",
     "start_time": "2021-08-14T07:22:23.359664Z"
    }
   },
   "outputs": [],
   "source": [
    "city = ee.FeatureCollection('users/311605001111/ChinaCity')\n",
    "Map.addLayer(city, {}, \"ChinaCity\")"
   ]
  },
  {
   "cell_type": "code",
   "execution_count": 5,
   "id": "1934aa9f",
   "metadata": {
    "ExecuteTime": {
     "end_time": "2021-08-14T07:23:52.886405Z",
     "start_time": "2021-08-14T07:23:41.370300Z"
    }
   },
   "outputs": [
    {
     "name": "stdout",
     "output_type": "stream",
     "text": [
      "15263.918996471826\n",
      "15207.935347027158\n",
      "15374.677415453567\n",
      "15004.019123792765\n",
      "17485.59784367786\n"
     ]
    }
   ],
   "source": [
    "# 大庆市\n",
    "daqing = ee.Geometry.Rectangle([123.9655, 45.8362,125.6855, 46.8762])\n",
    "print((daqing.area().getInfo())/1000000)\n",
    "# 天津市\n",
    "tianjin = ee.Geometry.Rectangle([115.9244, 38.6272,117.4944,39.6372])\n",
    "print((tianjin.area().getInfo())/1000000)\n",
    "# 武汉市\n",
    "wuhan = ee.Geometry.Rectangle([113.7393, 29.8642,115.0993, 30.9242])\n",
    "print((wuhan.area().getInfo())/1000000)\n",
    "# 珠三角\n",
    "pearl = ee.Geometry.Rectangle([112.7614, 22.2347,114.0514, 23.2547])\n",
    "print((pearl.area().getInfo())/1000000)\n",
    "# 青藏高原\n",
    "tibet = ee.Geometry.Rectangle([89.8826, 34.6579,91.3626, 35.8279])\n",
    "print((tibet.area().getInfo())/1000000)\n",
    "\n",
    "\n",
    "Map.addLayer(daqing, {'color':'red'}, \"daqing\")\n",
    "Map.addLayer(tianjin, {'color':'red'}, \"tianjin\")\n",
    "Map.addLayer(wuhan, {'color':'red'}, \"wuhan\")\n",
    "Map.addLayer(pearl, {'color':'red'}, \"pearl\")\n",
    "Map.addLayer(tibet, {'color':'red'}, \"tibet\")\n",
    "Map.centerObject(city,4)"
   ]
  },
  {
   "cell_type": "markdown",
   "id": "bd50b28d",
   "metadata": {},
   "source": [
    "# 数据，Landsat7+Landsat数据"
   ]
  },
  {
   "cell_type": "code",
   "execution_count": 6,
   "id": "5188083f",
   "metadata": {
    "ExecuteTime": {
     "end_time": "2021-08-14T07:26:26.738332Z",
     "start_time": "2021-08-14T07:26:26.734369Z"
    }
   },
   "outputs": [],
   "source": [
    "roi = pearl"
   ]
  },
  {
   "cell_type": "code",
   "execution_count": 8,
   "id": "eb85473e",
   "metadata": {
    "ExecuteTime": {
     "end_time": "2021-08-14T07:26:54.526733Z",
     "start_time": "2021-08-14T07:26:52.992709Z"
    }
   },
   "outputs": [
    {
     "name": "stdout",
     "output_type": "stream",
     "text": [
      "71\n",
      "89\n",
      "160\n"
     ]
    }
   ],
   "source": [
    "def maskSR(image):\n",
    "    cloudShadowBitMask = (1 << 3)\n",
    "    cloudsBitMask = (1 << 5)\n",
    "    snowBitMask = (1 << 4)   \n",
    "    qa = image.select('pixel_qa')\n",
    "    mask = qa.bitwiseAnd(cloudShadowBitMask).eq(0) \\\n",
    "                   .And(qa.bitwiseAnd(cloudsBitMask).eq(0)) \\\n",
    "                   .And(qa.bitwiseAnd(snowBitMask).eq(0))\n",
    "    return image.updateMask(mask)\n",
    "\n",
    "visParams = {'bands': ['B5', 'B6', 'B4'],'min': 0,'max': 3000,'gamma': 1.4}\n",
    "l7 = ee.ImageCollection('LANDSAT/LE07/C01/T1_SR') \\\n",
    "           .select(['B1', 'B2', 'B3', 'B4', 'B5', 'B7','pixel_qa'],['B2', 'B3', 'B4', 'B5', 'B6', 'B7','pixel_qa']) \\\n",
    "           .filterBounds(roi) \\\n",
    "           .filterDate('2020-01-01', '2020-12-31')\n",
    "           \n",
    "l8 = ee.ImageCollection('LANDSAT/LC08/C01/T1_SR') \\\n",
    "       .select(['B2', 'B3', 'B4', 'B5', 'B6', 'B7','pixel_qa']) \\\n",
    "       .filterBounds(roi) \\\n",
    "       .filterDate('2020-01-01', '2020-12-31')          \n",
    "landsat_images = l8.merge(l7).map(maskSR)\n",
    "Map.addLayer(l8.map(maskSR).mosaic().clip(roi), visParams,'image mosaic')\n",
    "print(l7.size().getInfo())\n",
    "print(l8.size().getInfo())\n",
    "print(landsat_images.size().getInfo())"
   ]
  },
  {
   "cell_type": "markdown",
   "id": "134e5117",
   "metadata": {},
   "source": [
    "# 分区采样"
   ]
  },
  {
   "cell_type": "code",
   "execution_count": null,
   "id": "fa637033",
   "metadata": {},
   "outputs": [],
   "source": [
    "# 设置采样个数\n",
    "number = 400 # 陆地\n",
    "# number1 = 1500 # 水体\n",
    "# 基于图像的样本采集函数\n",
    "def imageSample(image):\n",
    "    # 永久性水体\n",
    "    permanent_points = image.updateMask(permanentWaterExtent).sample(**{\n",
    "        'region': roi,\n",
    "        'scale': 30,\n",
    "        'numPixels': number,\n",
    "        'seed': 0,\n",
    "        'geometries': True,\n",
    "        'tileScale': 2,\n",
    "    })\n",
    "    water_points = permanent_points.map(lambda i : i.setMulti({'waterclass':1,'Image_id':image.get('system:id')}))\n",
    "    # 陆地\n",
    "    land_points = image.updateMask(landExtent).sample(**{\n",
    "        'region': image.geometry(),\n",
    "        'scale': 30,\n",
    "        'numPixels': number,\n",
    "        'seed': 0,\n",
    "        'geometries': True,\n",
    "        'tileScale': 2,\n",
    "    })\n",
    "    nowater_points = land_points.map(lambda i : i.setMulti({'waterclass':0,'Image_id':image.get('system:id')}))\n",
    "    # 季节性水体\n",
    "    awei = image.updateMask(seasonWaterExtent).select('AWEI').gt(ee.Image.constant(image.get('mean')))\n",
    "    seasonWater = image.updateMask(awei).sample(**{\n",
    "        'region': roi,\n",
    "        'scale': 30,\n",
    "        'numPixels': number,\n",
    "        'seed': 0,\n",
    "        'geometries': True,\n",
    "        'tileScale': 2,\n",
    "    })\n",
    "    seasonWater_points = seasonWater.map(lambda i : i.setMulti({'waterclass':1,'Image_id':image.get('system:id')}))\n",
    "    seasonLand= image.updateMask(awei.remap([0,1],[1,0])).sample(**{\n",
    "        'region': roi,\n",
    "        'scale': 30,\n",
    "        'numPixels': number,\n",
    "        'seed': 0,\n",
    "        'geometries': True,\n",
    "        'tileScale': 2,\n",
    "    })\n",
    "    seasonLand_points = seasonLand.map(lambda i : i.setMulti({'waterclass':0,'Image_id':image.get('system:id')}))\n",
    "    sample_points = ee.FeatureCollection([water_points,nowater_points,seasonWater_points,seasonLand_points]).flatten()\n",
    "    return sample_points"
   ]
  }
 ],
 "metadata": {
  "hide_input": false,
  "kernelspec": {
   "display_name": "Python 3 (ipykernel)",
   "language": "python",
   "name": "python3"
  },
  "language_info": {
   "codemirror_mode": {
    "name": "ipython",
    "version": 3
   },
   "file_extension": ".py",
   "mimetype": "text/x-python",
   "name": "python",
   "nbconvert_exporter": "python",
   "pygments_lexer": "ipython3",
   "version": "3.8.5"
  },
  "toc": {
   "base_numbering": 1,
   "nav_menu": {},
   "number_sections": true,
   "sideBar": true,
   "skip_h1_title": false,
   "title_cell": "Table of Contents",
   "title_sidebar": "Contents",
   "toc_cell": false,
   "toc_position": {},
   "toc_section_display": true,
   "toc_window_display": false
  },
  "varInspector": {
   "cols": {
    "lenName": 16,
    "lenType": 16,
    "lenVar": 40
   },
   "kernels_config": {
    "python": {
     "delete_cmd_postfix": "",
     "delete_cmd_prefix": "del ",
     "library": "var_list.py",
     "varRefreshCmd": "print(var_dic_list())"
    },
    "r": {
     "delete_cmd_postfix": ") ",
     "delete_cmd_prefix": "rm(",
     "library": "var_list.r",
     "varRefreshCmd": "cat(var_dic_list()) "
    }
   },
   "types_to_exclude": [
    "module",
    "function",
    "builtin_function_or_method",
    "instance",
    "_Feature"
   ],
   "window_display": false
  }
 },
 "nbformat": 4,
 "nbformat_minor": 5
}
