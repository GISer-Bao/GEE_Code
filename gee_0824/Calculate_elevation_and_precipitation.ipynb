{
 "cells": [
  {
   "cell_type": "code",
   "execution_count": 1,
   "id": "9c8c5d3e",
   "metadata": {
    "ExecuteTime": {
     "end_time": "2022-02-10T08:25:57.981244Z",
     "start_time": "2022-02-10T08:25:57.964286Z"
    }
   },
   "outputs": [],
   "source": [
    "import os\n",
    "os.environ['HTTP_PROXY'] = \"http://127.0.0.1:10809\"\n",
    "os.environ['HTTPS_PROXY'] = \"http://127.0.0.1:10809\""
   ]
  },
  {
   "cell_type": "code",
   "execution_count": 2,
   "id": "3490d183",
   "metadata": {
    "ExecuteTime": {
     "end_time": "2022-02-10T08:26:05.795005Z",
     "start_time": "2022-02-10T08:25:58.397131Z"
    }
   },
   "outputs": [
    {
     "data": {
      "application/vnd.jupyter.widget-view+json": {
       "model_id": "f161bbd634d54429b1c67413c4195318",
       "version_major": 2,
       "version_minor": 0
      },
      "text/plain": [
       "Map(center=[20, 0], controls=(WidgetControl(options=['position', 'transparent_bg'], widget=HBox(children=(Togg…"
      ]
     },
     "metadata": {},
     "output_type": "display_data"
    }
   ],
   "source": [
    "import geemap\n",
    "import ee\n",
    "Map = geemap.Map()\n",
    "Map"
   ]
  },
  {
   "cell_type": "code",
   "execution_count": null,
   "id": "00df5bdd",
   "metadata": {},
   "outputs": [],
   "source": []
  },
  {
   "cell_type": "markdown",
   "id": "5b64567f",
   "metadata": {
    "heading_collapsed": true
   },
   "source": [
    "# 计算高程"
   ]
  },
  {
   "cell_type": "code",
   "execution_count": null,
   "id": "d4ad6f53",
   "metadata": {
    "ExecuteTime": {
     "end_time": "2022-01-13T03:11:16.050613Z",
     "start_time": "2022-01-13T03:11:15.043055Z"
    },
    "hidden": true
   },
   "outputs": [],
   "source": [
    "# 大庆市\n",
    "# roi = ee.Geometry.Rectangle([123.9355, 45.8362,125.3055, 46.8762])\n",
    "# 天津市\n",
    "# roi = ee.Geometry.Rectangle([115.9244, 38.6272,117.4944,39.6372])\n",
    "# 武汉市\n",
    "# roi = ee.Geometry.Rectangle([113.7393, 29.8642,115.0993, 30.9242])\n",
    "# 珠三角\n",
    "roi = ee.Geometry.Rectangle([112.7614, 22.2347,114.0514, 23.2547])\n",
    "# 青藏高原\n",
    "# roi = ee.Geometry.Rectangle([89.8826, 34.6579,91.3626, 35.8279])\n",
    "Map.addLayer(roi, {}, \"roi\")\n",
    "Map.centerObject(roi,7)"
   ]
  },
  {
   "cell_type": "code",
   "execution_count": null,
   "id": "42cea18e",
   "metadata": {
    "ExecuteTime": {
     "end_time": "2022-01-13T03:11:17.741856Z",
     "start_time": "2022-01-13T03:11:16.920672Z"
    },
    "hidden": true
   },
   "outputs": [],
   "source": [
    "# 计算区域高程\n",
    "elevation = ee.Image('USGS/SRTMGL1_003').select('elevation').clip(roi)\n",
    "minmax = elevation.reduceRegion(**{\n",
    "    'reducer': ee.Reducer.minMax(),\n",
    "    'geometry': roi,\n",
    "    'scale': 30,\n",
    "    'maxPixels': 1e14,\n",
    "})\n",
    "print(minmax.getInfo())"
   ]
  },
  {
   "cell_type": "markdown",
   "id": "dbce3998",
   "metadata": {
    "ExecuteTime": {
     "end_time": "2022-01-13T03:13:50.194615Z",
     "start_time": "2022-01-13T03:13:50.184636Z"
    }
   },
   "source": [
    "# 计算降雨"
   ]
  },
  {
   "cell_type": "code",
   "execution_count": 3,
   "id": "e1848aab",
   "metadata": {
    "ExecuteTime": {
     "end_time": "2022-02-10T08:26:21.938149Z",
     "start_time": "2022-02-10T08:26:21.158206Z"
    }
   },
   "outputs": [],
   "source": [
    "# 大庆市\n",
    "# roi = ee.Geometry.Rectangle([123.9355, 45.8362,125.3055, 46.8762])\n",
    "# 天津市\n",
    "# roi = ee.Geometry.Rectangle([115.9244, 38.6272,117.4944,39.6372])\n",
    "# 武汉市\n",
    "# roi = ee.Geometry.Rectangle([113.7393, 29.8642,115.0993, 30.9242])\n",
    "# 珠三角\n",
    "# roi = ee.Geometry.Rectangle([112.7614, 22.2347,114.0514, 23.2547])\n",
    "# 青藏高原\n",
    "roi = ee.Geometry.Rectangle([89.8826, 34.6579,91.3626, 35.8279])\n",
    "Map.addLayer(roi, {}, \"roi\")\n",
    "Map.centerObject(roi,7)"
   ]
  },
  {
   "cell_type": "code",
   "execution_count": 4,
   "id": "aa136424",
   "metadata": {
    "ExecuteTime": {
     "end_time": "2022-02-10T08:27:38.297019Z",
     "start_time": "2022-02-10T08:26:22.280521Z"
    },
    "scrolled": false
   },
   "outputs": [
    {
     "name": "stdout",
     "output_type": "stream",
     "text": [
      "[0.5549607160452371, 0.5264014813344923, 0.5416603381219236, 0.579788105057839, 0.5136030718201744, 0.5163553066014391, 0.5656145445217168, 0.5571801750139909, 0.49250266632042256, 0.5239975167971547, 0.6001935464041819, 0.588218146880009, 0.5340043401782483, 0.6040264793323109, 0.501744651064556, 0.5567782024821686, 0.43643440644438086, 0.5908823809989177, 0.6077103785696186, 0.6500532677273545, 0.5442086784963965]\n",
      "551.7294476291684\n"
     ]
    }
   ],
   "source": [
    "import numpy as np\n",
    "total_precip = []\n",
    "for year in range(1999,2020,1):\n",
    "    startDate = str(year) + '-01-01'\n",
    "    endDate = str(year) + '-12-31'\n",
    "    dataset = ee.ImageCollection(\"ECMWF/ERA5/MONTHLY\").select('total_precipitation')\n",
    "    precip = dataset.filterDate(startDate, endDate).filterBounds(roi).sum()\n",
    "    mean = precip.reduceRegion(**{\n",
    "        'reducer': ee.Reducer.mean(),\n",
    "        'geometry': roi,\n",
    "        'scale': 30,\n",
    "        'maxPixels': 1e14,\n",
    "    })\n",
    "    # print('{} year: {}'.format(year,mean.get('total_precipitation').getInfo()))\n",
    "    total_precip.append(mean.get('total_precipitation').getInfo())\n",
    "print(total_precip)\n",
    "a = np.mean(total_precip)\n",
    "print(a * 1000)"
   ]
  },
  {
   "cell_type": "code",
   "execution_count": null,
   "id": "d1f00966",
   "metadata": {},
   "outputs": [],
   "source": [
    "## 数据地址\n",
    "# https://developers.google.com/earth-engine/datasets/catalog/ECMWF_ERA5_MONTHLY#description"
   ]
  },
  {
   "cell_type": "code",
   "execution_count": null,
   "id": "93ba2f1c",
   "metadata": {},
   "outputs": [],
   "source": [
    "# 大庆市\n",
    "468.64445781233803\n",
    "# 天津市\n",
    "569.5559105292251\n",
    "# 武汉市\n",
    "1382.479354558\n",
    "# 珠三角\n",
    "1880.7383048600047\n",
    "# 青藏高原\n",
    "551.7294476291684"
   ]
  },
  {
   "cell_type": "code",
   "execution_count": null,
   "id": "23394963",
   "metadata": {
    "ExecuteTime": {
     "end_time": "2022-01-13T06:04:13.837941Z",
     "start_time": "2022-01-13T06:04:07.802899Z"
    }
   },
   "outputs": [],
   "source": [
    "dataset = ee.ImageCollection('NASA/GPM_L3/IMERG_MONTHLY_V06').select('precipitation').filterDate('2019-01-01', '2019-12-31').filterBounds(roi)\n",
    "precip = dataset.map(lambda i : i.multiply(0.72))\n",
    "mean = precip.sum().reduceRegion(**{\n",
    "    'reducer': ee.Reducer.mean(),\n",
    "    'geometry': roi,\n",
    "    'scale': 30,\n",
    "    'maxPixels': 1e14,\n",
    "})\n",
    "print(mean.getInfo())"
   ]
  },
  {
   "cell_type": "code",
   "execution_count": null,
   "id": "6beb708c",
   "metadata": {},
   "outputs": [],
   "source": []
  }
 ],
 "metadata": {
  "hide_input": false,
  "kernelspec": {
   "display_name": "Python 3 (ipykernel)",
   "language": "python",
   "name": "python3"
  },
  "language_info": {
   "codemirror_mode": {
    "name": "ipython",
    "version": 3
   },
   "file_extension": ".py",
   "mimetype": "text/x-python",
   "name": "python",
   "nbconvert_exporter": "python",
   "pygments_lexer": "ipython3",
   "version": "3.8.12"
  },
  "toc": {
   "base_numbering": 1,
   "nav_menu": {},
   "number_sections": true,
   "sideBar": true,
   "skip_h1_title": false,
   "title_cell": "Table of Contents",
   "title_sidebar": "Contents",
   "toc_cell": false,
   "toc_position": {},
   "toc_section_display": true,
   "toc_window_display": false
  },
  "varInspector": {
   "cols": {
    "lenName": 16,
    "lenType": 16,
    "lenVar": 40
   },
   "kernels_config": {
    "python": {
     "delete_cmd_postfix": "",
     "delete_cmd_prefix": "del ",
     "library": "var_list.py",
     "varRefreshCmd": "print(var_dic_list())"
    },
    "r": {
     "delete_cmd_postfix": ") ",
     "delete_cmd_prefix": "rm(",
     "library": "var_list.r",
     "varRefreshCmd": "cat(var_dic_list()) "
    }
   },
   "types_to_exclude": [
    "module",
    "function",
    "builtin_function_or_method",
    "instance",
    "_Feature"
   ],
   "window_display": false
  }
 },
 "nbformat": 4,
 "nbformat_minor": 5
}
