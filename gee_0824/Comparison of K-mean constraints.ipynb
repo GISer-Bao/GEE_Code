{
 "cells": [
  {
   "cell_type": "code",
   "execution_count": 1,
   "id": "6bd39e71",
   "metadata": {
    "ExecuteTime": {
     "end_time": "2021-12-01T13:13:50.626622Z",
     "start_time": "2021-12-01T13:13:50.611694Z"
    }
   },
   "outputs": [],
   "source": [
    "import os\n",
    "os.environ['HTTP_PROXY'] = \"http://127.0.0.1:10809\"\n",
    "os.environ['HTTPS_PROXY'] = \"http://127.0.0.1:10809\""
   ]
  },
  {
   "cell_type": "code",
   "execution_count": 2,
   "id": "4108399f",
   "metadata": {
    "ExecuteTime": {
     "end_time": "2021-12-01T13:14:23.851463Z",
     "start_time": "2021-12-01T13:13:51.066677Z"
    },
    "scrolled": false
   },
   "outputs": [
    {
     "data": {
      "application/vnd.jupyter.widget-view+json": {
       "model_id": "1548ade211224aff994b10e079c340a0",
       "version_major": 2,
       "version_minor": 0
      },
      "text/plain": [
       "Map(center=[40, -100], controls=(WidgetControl(options=['position', 'transparent_bg'], widget=HBox(children=(T…"
      ]
     },
     "metadata": {},
     "output_type": "display_data"
    }
   ],
   "source": [
    "import geemap\n",
    "import ee\n",
    "Map=geemap.Map()\n",
    "Map"
   ]
  },
  {
   "cell_type": "code",
   "execution_count": 5,
   "id": "cd096dc6",
   "metadata": {
    "ExecuteTime": {
     "end_time": "2021-12-01T13:15:11.365610Z",
     "start_time": "2021-12-01T13:15:09.986228Z"
    }
   },
   "outputs": [],
   "source": [
    "# # 大庆市\n",
    "# roi = ee.Geometry.Rectangle([123.9355, 45.8362,125.3055, 46.8762])\n",
    "# # 天津市\n",
    "# roi = ee.Geometry.Rectangle([115.9244, 38.6272,117.4944,39.6372])\n",
    "# # 武汉市\n",
    "# roi = ee.Geometry.Rectangle([113.7393, 29.8642,115.0993, 30.9242])\n",
    "# # 珠三角\n",
    "# roi = ee.Geometry.Rectangle([112.7614, 22.2347,114.0514, 23.2547])\n",
    "# 青藏高原\n",
    "roi = ee.Geometry.Rectangle([89.8826, 34.6579,91.3626, 35.8279])\n",
    "Map.addLayer(roi, {}, \"roi\")\n",
    "Map.centerObject(roi,7)"
   ]
  },
  {
   "cell_type": "code",
   "execution_count": 6,
   "id": "94636d87",
   "metadata": {
    "ExecuteTime": {
     "end_time": "2021-12-01T13:15:18.212157Z",
     "start_time": "2021-12-01T13:15:11.494141Z"
    }
   },
   "outputs": [
    {
     "name": "stdout",
     "output_type": "stream",
     "text": [
      "{'elevation_max': 5896, 'elevation_min': 4753}\n"
     ]
    }
   ],
   "source": [
    "# 计算区域高程\n",
    "elevation = ee.Image('USGS/SRTMGL1_003').select('elevation').clip(roi)\n",
    "minmax = elevation.reduceRegion(**{\n",
    "    'reducer': ee.Reducer.minMax(),\n",
    "    'geometry': roi,\n",
    "    'scale': 30,\n",
    "    'maxPixels': 1e14,\n",
    "})\n",
    "print(minmax.getInfo())"
   ]
  },
  {
   "cell_type": "code",
   "execution_count": null,
   "id": "01d7f679",
   "metadata": {
    "ExecuteTime": {
     "end_time": "2021-12-01T10:05:09.010561Z",
     "start_time": "2021-12-01T10:04:33.056497Z"
    }
   },
   "outputs": [],
   "source": [
    "region = 'tianjin'\n",
    "\n",
    "## 永久性水体样本和非水体样本，抽样\n",
    "pw_nw = ee.FeatureCollection('users/311605001111/' + region + '_kmean100_noseason2016')\n",
    "permanent_water = pw_nw.filter(ee.Filter.eq('waterclass',1)).randomColumn('random',1,'uniform').filter(ee.Filter.lt('random',0.4))\n",
    "no_water = pw_nw.filter(ee.Filter.eq('waterclass',0)).randomColumn('random',1,'uniform').filter(ee.Filter.lt('random',0.2))\n",
    "print('抽样的永久性水体： ',permanent_water.size().getInfo())\n",
    "print('抽样的非水体： ',no_water.size().getInfo())\n",
    "\n",
    "## 季节性样本，抽样\n",
    "sw = ee.FeatureCollection('users/311605001111/' + region + '_kmean100_season2016').randomColumn('random',1,'uniform').filter(ee.Filter.lt('random',0.4))\n",
    "print('抽样的季节性水体： ',sw.size().getInfo())\n",
    "\n",
    "## 季节性样本，分类\n",
    "bands = ['B2', 'B3', 'B4', 'B5', 'B6', 'B7','NDVI','NDWI','mNDWI','CWI','AWEI','EWI','EVI']\n",
    "cluster_samples = ee.FeatureCollection([permanent_water,no_water]).flatten()\n",
    "clusterer = ee.Clusterer.wekaKMeans(2).train(cluster_samples,bands)\n",
    "q = ee.FeatureCollection(sw.cluster(clusterer))\n",
    "q1 = q.filter(ee.Filter.eq('cluster',1))\n",
    "q0 = q.filter(ee.Filter.eq('cluster',0))\n",
    "b1 = ee.FeatureCollection(q1).filter(ee.Filter.lt('AWEI',0)).size()\n",
    "b2 = ee.FeatureCollection(q1).filter(ee.Filter.gt('AWEI',0)).size()\n",
    "c1 = ee.FeatureCollection(q0).filter(ee.Filter.lt('AWEI',0)).size()\n",
    "c2 = ee.FeatureCollection(q0).filter(ee.Filter.gt('AWEI',0)).size()\n",
    "\n",
    "qq1 = ee.Algorithms.If(ee.Number(b1).lt(ee.Number(b2)),q1.map(lambda i:i.set({'waterclass':1})),q1.map(lambda i:i.set({'waterclass':0})))\n",
    "qq0 = ee.Algorithms.If(ee.Number(c1).lt(ee.Number(c2)),q0.map(lambda i:i.set({'waterclass':1})),q0.map(lambda i:i.set({'waterclass':0})))\n",
    "seasonWater = ee.FeatureCollection([qq1,qq0]).flatten()\n",
    "\n",
    "## 合并\n",
    "total_Samples = ee.FeatureCollection([permanent_water,no_water,seasonWater]).flatten()\n",
    "print(\"筛选前，总的样本数： \",total_Samples.size().getInfo())\n",
    "\n",
    "## 异常值去除\n",
    "bands = ['B2', 'B3', 'B4', 'B5', 'B6', 'B7','NDVI','NDWI','mNDWI','CWI','AWEI','EWI','EVI']\n",
    "#### cluster与waterclass的对比\n",
    "def Compare(feature):\n",
    "    cluster = ee.Number(feature.get('cluster'))\n",
    "    waterclass = ee.Number(feature.get('waterclass'))\n",
    "    ft = ee.Algorithms.If(cluster.eq(waterclass),feature.set({'eq':1}),feature.set({'eq':0}))\n",
    "    return ft\n",
    "#### k-mean聚类\n",
    "def k_mean(sampleSET):\n",
    "    clusterer = ee.Clusterer.wekaKMeans(2).train(sampleSET,bands)\n",
    "    result = sampleSET.cluster(clusterer)\n",
    "    right = result.map(Compare).filter(ee.Filter.eq('eq',0))\n",
    "    error = result.map(Compare).filter(ee.Filter.eq('eq',1))\n",
    "    filtered_sample = ee.FeatureCollection(ee.Algorithms.If(right.size().gt(error.size()),right,error))\n",
    "    return filtered_sample\n",
    "\n",
    "filtered_samples = k_mean(total_Samples)\n",
    "print(\"筛选后，剩余的样本数： \",filtered_samples.size().getInfo())\n",
    "\n",
    "print('no-water')\n",
    "print(filtered_samples.filter(ee.Filter.eq('waterclass',0)).filter(ee.Filter.lt('AWEI',0)).size().getInfo())\n",
    "print(filtered_samples.filter(ee.Filter.eq('waterclass',0)).filter(ee.Filter.gt('AWEI',0)).size().getInfo())\n",
    "print('water')\n",
    "print(filtered_samples.filter(ee.Filter.eq('waterclass',1)).filter(ee.Filter.lt('AWEI',0)).size().getInfo())\n",
    "print(filtered_samples.filter(ee.Filter.eq('waterclass',1)).filter(ee.Filter.gt('AWEI',0)).size().getInfo())"
   ]
  },
  {
   "cell_type": "markdown",
   "id": "6e648211",
   "metadata": {
    "ExecuteTime": {
     "end_time": "2021-12-01T08:29:10.750708Z",
     "start_time": "2021-12-01T08:29:10.732725Z"
    }
   },
   "source": [
    "# 比较"
   ]
  },
  {
   "cell_type": "markdown",
   "id": "a2ae04a6",
   "metadata": {},
   "source": [
    "## 约束"
   ]
  },
  {
   "cell_type": "code",
   "execution_count": null,
   "id": "9b6de422",
   "metadata": {
    "ExecuteTime": {
     "end_time": "2021-12-01T10:07:17.660896Z",
     "start_time": "2021-12-01T10:07:13.416105Z"
    }
   },
   "outputs": [],
   "source": [
    "region = 'prd'\n",
    "\n",
    "## 永久性水体样本和非水体样本，抽样\n",
    "pw_nw = ee.FeatureCollection('users/311605001111/' + region + '_kmean100_noseason2016')\n",
    "permanent_water = pw_nw.filter(ee.Filter.eq('waterclass',1)).randomColumn('random',1,'uniform').filter(ee.Filter.lt('random',0.4))\n",
    "no_water = pw_nw.filter(ee.Filter.eq('waterclass',0)).randomColumn('random',1,'uniform').filter(ee.Filter.lt('random',0.2))\n",
    "print('抽样的永久性水体： ',permanent_water.size().getInfo())\n",
    "print('抽样的非水体： ',no_water.size().getInfo())\n",
    "\n",
    "## 季节性样本，抽样\n",
    "sw = ee.FeatureCollection('users/311605001111/' + region + '_kmean100_season2016').randomColumn('random',1,'uniform').filter(ee.Filter.lt('random',0.4))\n",
    "print('抽样的季节性水体： ',sw.size().getInfo())\n",
    "\n",
    "## 季节性样本，分类\n",
    "bands = ['B2', 'B3', 'B4', 'B5', 'B6', 'B7','NDVI','NDWI','mNDWI','CWI','AWEI','EWI','EVI']\n",
    "cluster_samples = ee.FeatureCollection([permanent_water,no_water]).flatten()\n",
    "clusterer = ee.Clusterer.wekaKMeans(2).train(cluster_samples,bands)\n",
    "q = ee.FeatureCollection(sw.cluster(clusterer))\n",
    "q1 = q.filter(ee.Filter.eq('cluster',1))\n",
    "q0 = q.filter(ee.Filter.eq('cluster',0))\n",
    "b1 = ee.FeatureCollection(q1).filter(ee.Filter.lt('AWEI',0)).size()\n",
    "b2 = ee.FeatureCollection(q1).filter(ee.Filter.gt('AWEI',0)).size()\n",
    "c1 = ee.FeatureCollection(q0).filter(ee.Filter.lt('AWEI',0)).size()\n",
    "c2 = ee.FeatureCollection(q0).filter(ee.Filter.gt('AWEI',0)).size()\n",
    "\n",
    "qq1 = ee.Algorithms.If(ee.Number(b1).lt(ee.Number(b2)),q1.map(lambda i:i.set({'waterclass':1})),q1.map(lambda i:i.set({'waterclass':0})))\n",
    "qq0 = ee.Algorithms.If(ee.Number(c1).lt(ee.Number(c2)),q0.map(lambda i:i.set({'waterclass':1})),q0.map(lambda i:i.set({'waterclass':0})))\n",
    "seasonWater1 = ee.FeatureCollection([qq1,qq0]).flatten()\n",
    "\n",
    "\n",
    "m1 = seasonWater1.filter(ee.Filter.eq('waterclass',0)).filter(ee.Filter.lt('AWEI',0)).size()\n",
    "print(m1.getInfo())\n",
    "m2 = seasonWater1.filter(ee.Filter.eq('waterclass',0)).filter(ee.Filter.gt('AWEI',0)).size()\n",
    "print(m2.getInfo())\n",
    "\n",
    "n1 = seasonWater1.filter(ee.Filter.eq('waterclass',1)).filter(ee.Filter.lt('AWEI',0)).size()\n",
    "print(n1.getInfo())\n",
    "n2 = seasonWater1.filter(ee.Filter.eq('waterclass',1)).filter(ee.Filter.gt('AWEI',0)).size()\n",
    "print(n2.getInfo())"
   ]
  },
  {
   "cell_type": "markdown",
   "id": "e8261234",
   "metadata": {},
   "source": [
    "## 绘图"
   ]
  },
  {
   "cell_type": "code",
   "execution_count": null,
   "id": "b20db4ef",
   "metadata": {
    "ExecuteTime": {
     "end_time": "2021-12-01T09:19:19.978280Z",
     "start_time": "2021-12-01T09:19:14.925980Z"
    }
   },
   "outputs": [],
   "source": [
    "import numpy as np\n",
    "import matplotlib.pyplot as plt\n",
    "from mpl_toolkits.mplot3d import Axes3D\n",
    "%matplotlib inline\n",
    "\n",
    "x = 'NDVI'\n",
    "y = 'mNDWI'\n",
    "z = 'AWEI'\n",
    "filtered_samples = seasonWater1\n",
    "land_x =np.array(filtered_samples.filter(ee.Filter.eq('waterclass',0)).aggregate_array(x).getInfo()) \n",
    "land_y =np.array(filtered_samples.filter(ee.Filter.eq('waterclass',0)).aggregate_array(y).getInfo()) \n",
    "land_z =np.array(filtered_samples.filter(ee.Filter.eq('waterclass',0)).aggregate_array(z).getInfo()) \n",
    "water_x =np.array(filtered_samples.filter(ee.Filter.eq('waterclass',1)).aggregate_array(x).getInfo()) \n",
    "water_y =np.array(filtered_samples.filter(ee.Filter.eq('waterclass',1)).aggregate_array(y).getInfo()) \n",
    "water_z =np.array(filtered_samples.filter(ee.Filter.eq('waterclass',1)).aggregate_array(z).getInfo()) \n",
    "\n",
    "# 创建一个三维的绘图工程\n",
    "plt.figure(figsize=(10, 8))\n",
    "\n",
    "ax = plt.subplot(111, projection='3d')  \n",
    "# 绘制数据点\n",
    "ax.scatter(water_x, water_y, water_z, s=2, c='blue', label = 'water')\n",
    "ax.scatter(land_x, land_y, land_z, s=2,c='red', label = 'land')  \n",
    "\n",
    "ax.view_init(32,-51)\n",
    "# 坐标轴\n",
    "ax.set_xlim3d(-0.85,1.1)\n",
    "ax.set_ylim3d(-0.8,1.1)\n",
    "ax.set_zlim3d(-15000,5300)\n",
    "ax.set_xlabel(x,fontsize = 11)\n",
    "ax.set_ylabel(y,fontsize = 11)\n",
    "ax.set_zlabel(z,labelpad = 11,rotation=90,fontsize = 11)\n",
    "plt.xticks([-0.5,0,0.5,1.0])\n",
    "plt.yticks([-0.5,0,0.5,1.0])\n",
    "plt.title('Title: NDVI/MNDWI/AWEI') \n",
    "plt.legend(loc='upper right',markerscale=4,prop={'size':12})\n",
    "plt.show()"
   ]
  },
  {
   "cell_type": "code",
   "execution_count": null,
   "id": "1cf902b4",
   "metadata": {
    "ExecuteTime": {
     "end_time": "2021-12-01T09:27:39.400210Z",
     "start_time": "2021-12-01T09:27:35.972174Z"
    }
   },
   "outputs": [],
   "source": [
    "x = 'NDWI'\n",
    "y = 'mNDWI'\n",
    "z = 'AWEI'\n",
    "filtered_samples = seasonWater1\n",
    "land_x =np.array(filtered_samples.filter(ee.Filter.eq('waterclass',0)).aggregate_array(x).getInfo()) \n",
    "land_y =np.array(filtered_samples.filter(ee.Filter.eq('waterclass',0)).aggregate_array(y).getInfo()) \n",
    "land_z =np.array(filtered_samples.filter(ee.Filter.eq('waterclass',0)).aggregate_array(z).getInfo()) \n",
    "water_x =np.array(filtered_samples.filter(ee.Filter.eq('waterclass',1)).aggregate_array(x).getInfo()) \n",
    "water_y =np.array(filtered_samples.filter(ee.Filter.eq('waterclass',1)).aggregate_array(y).getInfo()) \n",
    "water_z =np.array(filtered_samples.filter(ee.Filter.eq('waterclass',1)).aggregate_array(z).getInfo()) \n",
    "\n",
    "plt.figure(figsize=(8, 6))\n",
    "plt.scatter(water_x,water_y,s=5,c='blue', label = 'season_water')\n",
    "plt.scatter(land_x,land_y,s=5,c='red', label = 'season_land')\n",
    "\n",
    "# B3/B6\n",
    "plt.xlim(-1,1)\n",
    "plt.ylim(-1,1)\n",
    "plt.tick_params(labelsize=18)\n",
    "\n",
    "plt.xlabel(x,fontsize=25)    \n",
    "plt.ylabel(y,fontsize=25)\n",
    "\n",
    "plt.title('B3/B6',fontsize=27)\n",
    "plt.legend(prop={'size':18},markerscale=6,loc = 'upper right')\n",
    "# plt.legend(prop={'size':11},markerscale=3,loc = 'lower right')\n",
    "plt.show()"
   ]
  },
  {
   "cell_type": "markdown",
   "id": "ed1e85e8",
   "metadata": {},
   "source": [
    "## 不约束"
   ]
  },
  {
   "cell_type": "code",
   "execution_count": null,
   "id": "0014335a",
   "metadata": {
    "ExecuteTime": {
     "end_time": "2021-12-01T10:07:22.590529Z",
     "start_time": "2021-12-01T10:07:19.448987Z"
    }
   },
   "outputs": [],
   "source": [
    "region = 'prd'\n",
    "\n",
    "## 季节性样本，抽样\n",
    "sw = ee.FeatureCollection('users/311605001111/' + region + '_kmean100_season2016').randomColumn('random',1,'uniform').filter(ee.Filter.lt('random',0.4))\n",
    "print('抽样的季节性水体： ',sw.size().getInfo())\n",
    "\n",
    "## 季节性样本，分类\n",
    "bands = ['B2', 'B3', 'B4', 'B5', 'B6', 'B7','NDVI','NDWI','mNDWI','CWI','AWEI','EWI','EVI']\n",
    "clusterer = ee.Clusterer.wekaKMeans(2).train(sw,bands)\n",
    "q = ee.FeatureCollection(sw.cluster(clusterer))\n",
    "q1 = q.filter(ee.Filter.eq('cluster',1))\n",
    "q0 = q.filter(ee.Filter.eq('cluster',0))\n",
    "b1 = ee.FeatureCollection(q1).filter(ee.Filter.lt('AWEI',0)).size()\n",
    "b2 = ee.FeatureCollection(q1).filter(ee.Filter.gt('AWEI',0)).size()\n",
    "c1 = ee.FeatureCollection(q0).filter(ee.Filter.lt('AWEI',0)).size()\n",
    "c2 = ee.FeatureCollection(q0).filter(ee.Filter.gt('AWEI',0)).size()\n",
    "\n",
    "qq1 = ee.Algorithms.If(ee.Number(b1).lt(ee.Number(b2)),q1.map(lambda i:i.set({'waterclass':1})),q1.map(lambda i:i.set({'waterclass':0})))\n",
    "qq0 = ee.Algorithms.If(ee.Number(c1).lt(ee.Number(c2)),q0.map(lambda i:i.set({'waterclass':1})),q0.map(lambda i:i.set({'waterclass':0})))\n",
    "seasonWater = ee.FeatureCollection([qq1,qq0]).flatten()\n",
    "\n",
    "m1 = ee.FeatureCollection(qq0).filter(ee.Filter.lt('AWEI',0)).size()\n",
    "print(m1.getInfo())\n",
    "m2 = ee.FeatureCollection(qq0).filter(ee.Filter.gt('AWEI',0)).size()\n",
    "print(m2.getInfo())\n",
    "\n",
    "n1 = ee.FeatureCollection(qq1).filter(ee.Filter.lt('AWEI',0)).size()\n",
    "print(n1.getInfo())\n",
    "n2 = ee.FeatureCollection(qq1).filter(ee.Filter.gt('AWEI',0)).size()\n",
    "print(n2.getInfo())"
   ]
  },
  {
   "cell_type": "markdown",
   "id": "58a8ed08",
   "metadata": {},
   "source": [
    "## 绘图"
   ]
  },
  {
   "cell_type": "code",
   "execution_count": null,
   "id": "9f3634e9",
   "metadata": {
    "ExecuteTime": {
     "end_time": "2021-12-01T09:19:45.515185Z",
     "start_time": "2021-12-01T09:19:40.403731Z"
    }
   },
   "outputs": [],
   "source": [
    "import numpy as np\n",
    "import matplotlib.pyplot as plt\n",
    "from mpl_toolkits.mplot3d import Axes3D\n",
    "%matplotlib inline\n",
    "\n",
    "x = 'NDVI'\n",
    "y = 'mNDWI'\n",
    "z = 'AWEI'\n",
    "filtered_samples = seasonWater\n",
    "land_x =np.array(filtered_samples.filter(ee.Filter.eq('waterclass',0)).aggregate_array(x).getInfo()) \n",
    "land_y =np.array(filtered_samples.filter(ee.Filter.eq('waterclass',0)).aggregate_array(y).getInfo()) \n",
    "land_z =np.array(filtered_samples.filter(ee.Filter.eq('waterclass',0)).aggregate_array(z).getInfo()) \n",
    "water_x =np.array(filtered_samples.filter(ee.Filter.eq('waterclass',1)).aggregate_array(x).getInfo()) \n",
    "water_y =np.array(filtered_samples.filter(ee.Filter.eq('waterclass',1)).aggregate_array(y).getInfo()) \n",
    "water_z =np.array(filtered_samples.filter(ee.Filter.eq('waterclass',1)).aggregate_array(z).getInfo()) \n",
    "\n",
    "# 创建一个三维的绘图工程\n",
    "plt.figure(figsize=(10, 8))\n",
    "\n",
    "ax = plt.subplot(111, projection='3d')  \n",
    "# 绘制数据点\n",
    "ax.scatter(water_x, water_y, water_z, s=2, c='blue', label = 'remain_water')\n",
    "ax.scatter(land_x, land_y, land_z, s=2,c='red', label = 'remain_land')  \n",
    "\n",
    "ax.view_init(32,-51)\n",
    "# 坐标轴\n",
    "ax.set_xlim3d(-0.85,1.1)\n",
    "ax.set_ylim3d(-0.8,1.1)\n",
    "ax.set_zlim3d(-15000,5300)\n",
    "ax.set_xlabel(x,fontsize = 11)\n",
    "ax.set_ylabel(y,fontsize = 11)\n",
    "ax.set_zlabel(z,labelpad = 11,rotation=90,fontsize = 11)\n",
    "plt.xticks([-0.5,0,0.5,1.0])\n",
    "plt.yticks([-0.5,0,0.5,1.0])\n",
    "plt.title('Title: NDVI/MNDWI/AWEI') \n",
    "plt.legend(loc='upper right',markerscale=4,prop={'size':12})\n",
    "plt.show()"
   ]
  },
  {
   "cell_type": "code",
   "execution_count": null,
   "id": "e04a959e",
   "metadata": {
    "ExecuteTime": {
     "end_time": "2021-12-01T09:28:15.262791Z",
     "start_time": "2021-12-01T09:28:11.579037Z"
    }
   },
   "outputs": [],
   "source": [
    "x = 'NDWI'\n",
    "y = 'mNDWI'\n",
    "z = 'AWEI'\n",
    "filtered_samples = seasonWater\n",
    "land_x =np.array(filtered_samples.filter(ee.Filter.eq('waterclass',0)).aggregate_array(x).getInfo()) \n",
    "land_y =np.array(filtered_samples.filter(ee.Filter.eq('waterclass',0)).aggregate_array(y).getInfo()) \n",
    "land_z =np.array(filtered_samples.filter(ee.Filter.eq('waterclass',0)).aggregate_array(z).getInfo()) \n",
    "water_x =np.array(filtered_samples.filter(ee.Filter.eq('waterclass',1)).aggregate_array(x).getInfo()) \n",
    "water_y =np.array(filtered_samples.filter(ee.Filter.eq('waterclass',1)).aggregate_array(y).getInfo()) \n",
    "water_z =np.array(filtered_samples.filter(ee.Filter.eq('waterclass',1)).aggregate_array(z).getInfo()) \n",
    "\n",
    "plt.figure(figsize=(8, 6))\n",
    "plt.scatter(water_x,water_y,s=5,c='blue', label = 'season_water')\n",
    "plt.scatter(land_x,land_y,s=5,c='red', label = 'season_land')\n",
    "\n",
    "# B3/B6\n",
    "plt.xlim(-1,1)\n",
    "plt.ylim(-1,1)\n",
    "plt.tick_params(labelsize=18)\n",
    "\n",
    "plt.xlabel(x,fontsize=25)    \n",
    "plt.ylabel(y,fontsize=25)\n",
    "\n",
    "plt.title('B3/B6',fontsize=27)\n",
    "plt.legend(prop={'size':18},markerscale=6,loc = 'upper right')\n",
    "# plt.legend(prop={'size':11},markerscale=3,loc = 'lower right')\n",
    "plt.show()"
   ]
  },
  {
   "cell_type": "code",
   "execution_count": null,
   "id": "f1e7073c",
   "metadata": {},
   "outputs": [],
   "source": []
  }
 ],
 "metadata": {
  "hide_input": false,
  "kernelspec": {
   "display_name": "Python 3 (ipykernel)",
   "language": "python",
   "name": "python3"
  },
  "language_info": {
   "codemirror_mode": {
    "name": "ipython",
    "version": 3
   },
   "file_extension": ".py",
   "mimetype": "text/x-python",
   "name": "python",
   "nbconvert_exporter": "python",
   "pygments_lexer": "ipython3",
   "version": "3.8.5"
  },
  "toc": {
   "base_numbering": 1,
   "nav_menu": {},
   "number_sections": true,
   "sideBar": true,
   "skip_h1_title": false,
   "title_cell": "Table of Contents",
   "title_sidebar": "Contents",
   "toc_cell": false,
   "toc_position": {},
   "toc_section_display": true,
   "toc_window_display": false
  },
  "varInspector": {
   "cols": {
    "lenName": 16,
    "lenType": 16,
    "lenVar": 40
   },
   "kernels_config": {
    "python": {
     "delete_cmd_postfix": "",
     "delete_cmd_prefix": "del ",
     "library": "var_list.py",
     "varRefreshCmd": "print(var_dic_list())"
    },
    "r": {
     "delete_cmd_postfix": ") ",
     "delete_cmd_prefix": "rm(",
     "library": "var_list.r",
     "varRefreshCmd": "cat(var_dic_list()) "
    }
   },
   "types_to_exclude": [
    "module",
    "function",
    "builtin_function_or_method",
    "instance",
    "_Feature"
   ],
   "window_display": false
  }
 },
 "nbformat": 4,
 "nbformat_minor": 5
}
