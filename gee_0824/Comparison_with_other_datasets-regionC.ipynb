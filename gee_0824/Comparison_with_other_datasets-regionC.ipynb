{
 "cells": [
  {
   "cell_type": "code",
   "execution_count": 1,
   "id": "53e5383b",
   "metadata": {
    "ExecuteTime": {
     "end_time": "2022-05-28T07:25:36.033492Z",
     "start_time": "2022-05-28T07:25:36.020483Z"
    }
   },
   "outputs": [],
   "source": [
    "import os\n",
    "os.environ['HTTP_PROXY'] = \"http://127.0.0.1:10809\"\n",
    "os.environ['HTTPS_PROXY'] = \"http://127.0.0.1:10809\""
   ]
  },
  {
   "cell_type": "code",
   "execution_count": 2,
   "id": "e5cc23a8",
   "metadata": {
    "ExecuteTime": {
     "end_time": "2022-05-28T07:25:43.677292Z",
     "start_time": "2022-05-28T07:25:36.523311Z"
    },
    "scrolled": false
   },
   "outputs": [
    {
     "name": "stderr",
     "output_type": "stream",
     "text": [
      "*** Earth Engine *** FINAL DEADLINE: ee.Authenticate will fail after 2022-06-06. Please upgrade. https://developers.google.com/earth-engine/guides/python_install\n"
     ]
    },
    {
     "data": {
      "application/vnd.jupyter.widget-view+json": {
       "model_id": "b47d3c5b39234094bdf89b115bc9df30",
       "version_major": 2,
       "version_minor": 0
      },
      "text/plain": [
       "Map(center=[20, 0], controls=(WidgetControl(options=['position', 'transparent_bg'], widget=HBox(children=(Togg…"
      ]
     },
     "metadata": {},
     "output_type": "display_data"
    }
   ],
   "source": [
    "import geemap\n",
    "import ee\n",
    "Map=geemap.Map()\n",
    "Map"
   ]
  },
  {
   "cell_type": "code",
   "execution_count": null,
   "id": "74ecf405",
   "metadata": {},
   "outputs": [],
   "source": [
    "114.1917, 30.3742,114.2449, 30.4138"
   ]
  },
  {
   "cell_type": "code",
   "execution_count": null,
   "id": "91200795",
   "metadata": {
    "ExecuteTime": {
     "end_time": "2022-03-03T07:53:46.698839Z",
     "start_time": "2022-03-03T07:53:45.527970Z"
    }
   },
   "outputs": [],
   "source": [
    "# # 大庆市\n",
    "# roi = ee.Geometry.Rectangle([123.9355, 45.8362,125.3055, 46.8762])\n",
    "# # 天津市\n",
    "# roi = ee.Geometry.Rectangle([115.9244, 38.6272,117.4944,39.6372])\n",
    "# # 武汉市\n",
    "roi = ee.Geometry.Rectangle([113.7393, 29.8642,115.0993, 30.9242])\n",
    "# # 珠三角\n",
    "# roi = ee.Geometry.Rectangle([112.7614, 22.2347,114.0514, 23.2547])\n",
    "# 青藏高原\n",
    "# roi = ee.Geometry.Rectangle([89.8826, 34.6579,91.3626, 35.8279])\n",
    "Map.addLayer(roi, {}, \"roi\")\n",
    "Map.centerObject(roi,7)"
   ]
  },
  {
   "cell_type": "code",
   "execution_count": null,
   "id": "e6f21e19",
   "metadata": {
    "ExecuteTime": {
     "end_time": "2022-03-01T13:35:58.682927Z",
     "start_time": "2022-03-01T13:35:58.668965Z"
    }
   },
   "outputs": [],
   "source": [
    "# # 114.5713, 30.6201, 114.6410, 30.6889\n",
    "# # 113.7452, 30.1890,113.7776, 30.2260\n",
    "# # 114.4544, 30.7685,114.5423, 30.8368\n",
    "# q = ee.Geometry.Rectangle([114.5713, 30.6201, 114.6410, 30.6889])\n",
    "# Map.addLayer(q, {}, \"q\")\n",
    "# Map.centerObject(q,14)"
   ]
  },
  {
   "cell_type": "code",
   "execution_count": null,
   "id": "4022549b",
   "metadata": {
    "ExecuteTime": {
     "end_time": "2022-03-03T07:53:46.762669Z",
     "start_time": "2022-03-03T07:53:46.747709Z"
    }
   },
   "outputs": [],
   "source": [
    "region = 'wuhan'\n",
    "elevation = ee.Image(\"users/311605001111/hillshade_\" + region)\n",
    "def maskSR(img):\n",
    "    cloudShadowBitMask = (1 << 3)\n",
    "    cloudsBitMask = (1 << 5)\n",
    "    snowBitMask = (1 << 4)   \n",
    "    qa = img.select('pixel_qa')\n",
    "    mask = qa.bitwiseAnd(cloudShadowBitMask).eq(0) \\\n",
    "                   .And(qa.bitwiseAnd(cloudsBitMask).eq(0)) \\\n",
    "                   .And(qa.bitwiseAnd(snowBitMask).eq(0))\n",
    "    azimuth = img.get('SOLAR_AZIMUTH_ANGLE')\n",
    "    zenith = img.get('SOLAR_ZENITH_ANGLE')\n",
    "    image = img.lt(0)\n",
    "    bands = image.select('B2').add(image.select('B3')).add(image.select('B4')).add(image.select('B5')).add(image.select('B6')).add(image.select('B7'))\n",
    "    outlier = bands.gt(0).remap([0,1],[1,0]).rename('outlier')\n",
    "    return img.updateMask(mask).updateMask(ee.Terrain.hillShadow(elevation,azimuth,zenith,200,True)).updateMask(outlier)"
   ]
  },
  {
   "cell_type": "markdown",
   "id": "ef6721c6",
   "metadata": {},
   "source": [
    "# 单景"
   ]
  },
  {
   "cell_type": "code",
   "execution_count": null,
   "id": "ced46d31",
   "metadata": {
    "ExecuteTime": {
     "end_time": "2022-03-03T07:54:25.640770Z",
     "start_time": "2022-03-03T07:54:22.495149Z"
    }
   },
   "outputs": [],
   "source": [
    "l5 = ee.ImageCollection('LANDSAT/LT05/C01/T1_SR') \\\n",
    "       .select(['B1', 'B2', 'B3', 'B4', 'B5', 'B7','pixel_qa'],['B2', 'B3', 'B4', 'B5', 'B6', 'B7','pixel_qa']) \\\n",
    "       .filterBounds(roi)        \n",
    "# l8 = ee.ImageCollection('LANDSAT/LC08/C01/T1_SR') \\\n",
    "#        .select(['B2', 'B3', 'B4', 'B5', 'B6', 'B7','pixel_qa']) \\\n",
    "#        .filterBounds(roi) \\\n",
    "#        .filter(ee.Filter.lt('CLOUD_COVER',80))\n",
    "l8 = ee.ImageCollection('LANDSAT/LC08/C01/T1_SR') \\\n",
    "       .select(['B2', 'B3', 'B4', 'B5', 'B6', 'B7','pixel_qa']) \\\n",
    "       .filterBounds(roi)\n",
    "l58 = l8.merge(l5)\n",
    "visParams = {'bands': ['B5', 'B4', 'B3'],'min': 0,'max': 3000,'gamma': 1.4}\n",
    "\n",
    "year = 2000\n",
    "startDate = str(year) + '-01-01'\n",
    "endDate = str(year) + '-12-31'\n",
    "refer_img = l58.filterDate(startDate, endDate).map(maskSR).median().clip(roi)\n",
    "Map.addLayer(refer_img, visParams,'refer_img')\n",
    "\n",
    "basemap = ee.Image.constant(0).clip(roi).rename('waterclass')\n",
    "\n",
    "result = ee.Image('users/311605001111/WF/' + region + '_WF_' + str(year)).rename('waterclass')\n",
    "permanent = result.gte(0.75).remap([0,1],[0,2]).rename('waterclass')\n",
    "season= ee.ImageCollection([result.gte(0.25),result.lt(0.75)]).sum().eq(2).rename('waterclass')\n",
    "pw = ee.ImageCollection([permanent,season,basemap]).sum()\n",
    "Map.addLayer(pw.selfMask(),{'palette':['#87CEFA', 'blue'],'min':1,'max':2},\"pw\")\n",
    "\n",
    "pw_no = ee.Image('users/311605001111/WF_nocorrect/' + region + '_WF_' + str(year)).gte(0.75)\n",
    "Map.addLayer(pw_no.selfMask(),{'palette':['purple']},\"pw_no\")\n",
    "\n",
    "\n",
    "# JRC\n",
    "JRC = ee.Image('JRC/GSW1_3/YearlyHistory/' + str(year)).clip(roi).remap([0,1,2,3],[0,0,1,2]).rename('waterclass')\n",
    "jrc_waterclass = ee.ImageCollection([JRC,basemap]).sum()\n",
    "Map.addLayer(jrc_waterclass.selfMask(),{'palette':['#bfd69b', 'green'],'min':1,'max':2},\"jrc\")\n",
    "\n",
    "# Maryland\n",
    "Maryland = ee.Image('users/311605001111/Maryland/Maryland_nationwide_' + str(year)).clip(roi).select('b1').rename('waterclass')\n",
    "Maryland_permanent = Maryland.select('waterclass').gte(75).remap([0,1],[0,2]).rename('waterclass')\n",
    "Maryland_season= ee.ImageCollection([Maryland.gte(25),Maryland.lt(75)]).sum().eq(2)\n",
    "maryland_waterclass = ee.ImageCollection([Maryland_permanent,Maryland_season,basemap]).sum()\n",
    "Map.addLayer(maryland_waterclass.selfMask(),{'palette':['#4ad6c3','red'],'min':1,'max':2},\"maryland\")\n"
   ]
  },
  {
   "cell_type": "code",
   "execution_count": null,
   "id": "ef376906",
   "metadata": {},
   "outputs": [],
   "source": []
  },
  {
   "cell_type": "code",
   "execution_count": null,
   "id": "a29107c6",
   "metadata": {},
   "outputs": [],
   "source": []
  },
  {
   "cell_type": "code",
   "execution_count": null,
   "id": "f21359ec",
   "metadata": {
    "ExecuteTime": {
     "end_time": "2021-12-30T06:05:57.523853Z",
     "start_time": "2021-12-30T06:05:55.637326Z"
    }
   },
   "outputs": [],
   "source": [
    "l5 = ee.ImageCollection('LANDSAT/LT05/C01/T1_SR') \\\n",
    "       .select(['B1', 'B2', 'B3', 'B4', 'B5', 'B7','pixel_qa'],['B2', 'B3', 'B4', 'B5', 'B6', 'B7','pixel_qa']) \\\n",
    "       .filterBounds(roi)        \n",
    "# l8 = ee.ImageCollection('LANDSAT/LC08/C01/T1_SR') \\\n",
    "#        .select(['B2', 'B3', 'B4', 'B5', 'B6', 'B7','pixel_qa']) \\\n",
    "#        .filterBounds(roi) \\\n",
    "#        .filter(ee.Filter.lt('CLOUD_COVER',80))\n",
    "l8 = ee.ImageCollection('LANDSAT/LC08/C01/T1_SR') \\\n",
    "       .select(['B2', 'B3', 'B4', 'B5', 'B6', 'B7','pixel_qa']) \\\n",
    "       .filterBounds(roi)\n",
    "l58 = l8.merge(l5)\n",
    "visParams = {'bands': ['B5', 'B4', 'B3'],'min': 0,'max': 3000,'gamma': 1.4}\n",
    "\n",
    "year = 1999\n",
    "startDate = str(year) + '-01-01'\n",
    "endDate = str(year) + '-12-31'\n",
    "refer_img = l58.filterDate(startDate, endDate).map(maskSR).median().clip(roi)\n",
    "Map.addLayer(refer_img, visParams,'refer_img')\n",
    "\n",
    "pw = ee.Image('users/311605001111/WF/wuhan_WF_' + str(year)).gte(0.75)\n",
    "Map.addLayer(pw.selfMask(),{'palette':['blue']},\"pw\")\n",
    "\n",
    "# pw_no = ee.Image('users/311605001111/WF_nocorrect/wuhan_WF_' + str(year)).gte(0.75)\n",
    "# Map.addLayer(pw_no.selfMask(),{'palette':['purple']},\"pw_no\")\n",
    "\n",
    "jrc = ee.Image('JRC/GSW1_3/YearlyHistory/' + str(year)).gte(3).clip(roi)\n",
    "Map.addLayer(jrc.selfMask(),{'palette':['green']},\"jrc\")\n",
    "\n",
    "# maryland = ee.Image('users/311605001111/Maryland/Maryland_nationwide_' + str(year)).clip(roi).gte(75)\n",
    "# Map.addLayer(maryland.selfMask(),{'palette':['red']},\"maryland\")"
   ]
  },
  {
   "cell_type": "code",
   "execution_count": null,
   "id": "76a7a51d",
   "metadata": {},
   "outputs": [],
   "source": []
  },
  {
   "cell_type": "code",
   "execution_count": null,
   "id": "7c1f6c85",
   "metadata": {
    "ExecuteTime": {
     "end_time": "2021-12-30T06:03:25.845499Z",
     "start_time": "2021-12-30T06:02:45.844996Z"
    },
    "scrolled": false
   },
   "outputs": [],
   "source": [
    "from matplotlib import pyplot as plt\n",
    "import numpy as np\n",
    "import matplotlib\n",
    "from geemap import cartoee\n",
    "\n",
    "year = 1999\n",
    "days_31 = [1,3,5,7,8,10,12]\n",
    "days_30 = [4,6,9,11]\n",
    "days_28 = [2]\n",
    "visParams = {'bands': ['B5', 'B4', 'B3'],'min': 0,'max': 3000,'gamma': 1.4}\n",
    "region = [113.8638, 30.5915, 114.4089, 30.9231]\n",
    "l5 = ee.ImageCollection('LANDSAT/LT05/C01/T1_SR').select(['B1', 'B2', 'B3', 'B4', 'B5', 'B7','pixel_qa'],['B2', 'B3', 'B4', 'B5', 'B6', 'B7','pixel_qa'])\n",
    "for i in range(1,13,1):\n",
    "    if i in days_31:\n",
    "        images = l5.filterDate('{}-{}-01'.format(year,i),'{}-{}-31'.format(year,i)).map(maskSR).median().clip(roi)\n",
    "    elif i in days_30:\n",
    "        images = l5.filterDate('{}-{}-01'.format(year,i),'{}-{}-30'.format(year,i)).map(maskSR).median().clip(roi)\n",
    "    else:\n",
    "        images = l5.filterDate('{}-{}-01'.format(year,i),'{}-{}-28'.format(year,i)).map(maskSR).median().clip(roi)\n",
    "    refer_img = images.visualize(**visParams)\n",
    "    fig = plt.figure(figsize=(12, 8))\n",
    "    ax = cartoee.get_map(refer_img, region=region)\n",
    "    cartoee.add_gridlines(ax, interval=[0.1,0.1], linestyle=\":\")\n",
    "    label = 'Experimental result ('+ str(i) + \")\"\n",
    "    ax.set_title(label = label, fontsize=28)"
   ]
  },
  {
   "cell_type": "markdown",
   "id": "20f58207",
   "metadata": {
    "heading_collapsed": true
   },
   "source": [
    "# 对比区域"
   ]
  },
  {
   "cell_type": "markdown",
   "id": "f65fb86a",
   "metadata": {
    "heading_collapsed": true,
    "hidden": true
   },
   "source": [
    "## 区域一"
   ]
  },
  {
   "cell_type": "code",
   "execution_count": null,
   "id": "1107d528",
   "metadata": {
    "hidden": true
   },
   "outputs": [],
   "source": [
    "# 114.5713, 30.6201, 114.6410, 30.6889\n",
    "# 113.7452, 30.1890,113.7776, 30.2260\n",
    "# 114.4544, 30.7685,114.5423, 30.8368"
   ]
  },
  {
   "cell_type": "code",
   "execution_count": null,
   "id": "d0458a50",
   "metadata": {
    "ExecuteTime": {
     "end_time": "2021-12-16T13:39:31.951053Z",
     "start_time": "2021-12-16T13:37:51.589737Z"
    },
    "hidden": true,
    "scrolled": false
   },
   "outputs": [],
   "source": [
    "# 区域一\n",
    "from matplotlib import pyplot as plt\n",
    "import numpy as np\n",
    "import matplotlib\n",
    "from geemap import cartoee\n",
    "roi = ee.Geometry.Rectangle([114.5713, 30.6201, 114.6410, 30.6889])\n",
    "l5 = ee.ImageCollection('LANDSAT/LT05/C01/T1_SR') \\\n",
    "       .select(['B1', 'B2', 'B3', 'B4', 'B5', 'B7','pixel_qa'],['B2', 'B3', 'B4', 'B5', 'B6', 'B7','pixel_qa']) \\\n",
    "       .filterBounds(roi)        \n",
    "l8 = ee.ImageCollection('LANDSAT/LC08/C01/T1_SR') \\\n",
    "       .select(['B2', 'B3', 'B4', 'B5', 'B6', 'B7','pixel_qa']) \\\n",
    "       .filterBounds(roi)\n",
    "l58 = l8.merge(l5)\n",
    "visParams = {'bands': ['B5', 'B4', 'B3'],'min': 0,'max': 3000,'gamma': 1.4}\n",
    "region = [114.5713, 30.6201, 114.6410, 30.6889]\n",
    "\n",
    "\n",
    "for year in range(2000,2021,5):\n",
    "    startDate = str(year) + '-01-01'\n",
    "    endDate = str(year) + '-12-31'\n",
    "    refer_img = l58.filterDate(startDate, endDate).map(maskSR).median().clip(roi).visualize(**visParams)\n",
    "    # pw = ee.Image('JRC/GSW1_3/YearlyHistory/' + str(year)).gte(3).clip(roi)\n",
    "    # label = 'GSWD ('+ str(year) + \")\"\n",
    "    # pw = ee.Image('users/311605001111/WF/wuhan_WF_' + str(year)).gte(0.75)\n",
    "    # label = 'Experimental result ('+ str(year) + \")\"\n",
    "    pw = ee.Image('users/311605001111/Maryland/Maryland_nationwide_' + str(year)).clip(roi).gte(75)\n",
    "    label = 'GLAD ('+ str(year) + \")\"\n",
    "    blend = refer_img.blend(pw.selfMask().visualize(**{'palette':['blue']}))\n",
    "    fig = plt.figure(figsize=(12, 8))\n",
    "    ax = cartoee.get_map(blend, region=region)\n",
    "    cartoee.add_gridlines(ax, interval=[0.03,0.03], linestyle=\":\")\n",
    "    ax.set_title(label = label, fontsize=28)"
   ]
  },
  {
   "cell_type": "code",
   "execution_count": null,
   "id": "fa32c2ed",
   "metadata": {
    "ExecuteTime": {
     "end_time": "2021-12-16T13:43:43.859980Z",
     "start_time": "2021-12-16T13:41:58.468115Z"
    },
    "hidden": true,
    "scrolled": false
   },
   "outputs": [],
   "source": [
    "# 区域一\n",
    "from matplotlib import pyplot as plt\n",
    "import numpy as np\n",
    "import matplotlib\n",
    "from geemap import cartoee\n",
    "roi = ee.Geometry.Rectangle([114.5713, 30.6201, 114.6410, 30.6889])\n",
    "l5 = ee.ImageCollection('LANDSAT/LT05/C01/T1_SR') \\\n",
    "       .select(['B1', 'B2', 'B3', 'B4', 'B5', 'B7','pixel_qa'],['B2', 'B3', 'B4', 'B5', 'B6', 'B7','pixel_qa']) \\\n",
    "       .filterBounds(roi)        \n",
    "l8 = ee.ImageCollection('LANDSAT/LC08/C01/T1_SR') \\\n",
    "       .select(['B2', 'B3', 'B4', 'B5', 'B6', 'B7','pixel_qa']) \\\n",
    "       .filterBounds(roi)\n",
    "l58 = l8.merge(l5)\n",
    "visParams = {'bands': ['B5', 'B4', 'B3'],'min': 0,'max': 3000,'gamma': 1.4}\n",
    "region = [114.5713, 30.6201, 114.6410, 30.6889]\n",
    "\n",
    "\n",
    "for year in range(2000,2021,5):\n",
    "    startDate = str(year) + '-01-01'\n",
    "    endDate = str(year) + '-12-31'\n",
    "    refer_img = l58.filterDate(startDate, endDate).map(maskSR).median().clip(roi).visualize(**visParams)\n",
    "    # pw = ee.Image('JRC/GSW1_3/YearlyHistory/' + str(year)).gte(3).clip(roi)\n",
    "    pw = ee.Image('users/311605001111/WF/wuhan_WF_' + str(year)).gte(0.75)\n",
    "    # pw = ee.Image('users/311605001111/Maryland/Maryland_nationwide_' + str(year)).clip(roi).gte(75)\n",
    "    blend = refer_img.blend(pw.selfMask().visualize(**{'palette':['blue']}))\n",
    "    fig = plt.figure(figsize=(12, 8))\n",
    "    ax = cartoee.get_map(blend, region=region)\n",
    "    # cartoee.add_gridlines(ax, interval=[0.1,0.1], linestyle=\":\")\n",
    "    label = 'Experimental result ('+ str(year) + \")\"\n",
    "    ax.set_title(label = label, fontsize=28)"
   ]
  },
  {
   "cell_type": "markdown",
   "id": "29ce3db2",
   "metadata": {
    "hidden": true
   },
   "source": [
    "##  区域二"
   ]
  },
  {
   "cell_type": "code",
   "execution_count": null,
   "id": "e0f2d671",
   "metadata": {
    "hidden": true
   },
   "outputs": [],
   "source": [
    "113.7452, 30.1890,113.7776, 30.2260"
   ]
  },
  {
   "cell_type": "code",
   "execution_count": null,
   "id": "1558906c",
   "metadata": {
    "ExecuteTime": {
     "end_time": "2021-12-16T14:03:52.008758Z",
     "start_time": "2021-12-16T14:02:29.994444Z"
    },
    "hidden": true,
    "scrolled": false
   },
   "outputs": [],
   "source": [
    "# 区域二\n",
    "from matplotlib import pyplot as plt\n",
    "import numpy as np\n",
    "import matplotlib\n",
    "from geemap import cartoee\n",
    "roi = ee.Geometry.Rectangle([113.7452, 30.1890,113.7776, 30.2260])\n",
    "l5 = ee.ImageCollection('LANDSAT/LT05/C01/T1_SR') \\\n",
    "       .select(['B1', 'B2', 'B3', 'B4', 'B5', 'B7','pixel_qa'],['B2', 'B3', 'B4', 'B5', 'B6', 'B7','pixel_qa']) \\\n",
    "       .filterBounds(roi)        \n",
    "l8 = ee.ImageCollection('LANDSAT/LC08/C01/T1_SR') \\\n",
    "       .select(['B2', 'B3', 'B4', 'B5', 'B6', 'B7','pixel_qa']) \\\n",
    "       .filterBounds(roi)\n",
    "l58 = l8.merge(l5)\n",
    "visParams = {'bands': ['B5', 'B4', 'B3'],'min': 0,'max': 3000,'gamma': 1.4}\n",
    "region = [113.7452, 30.1890,113.7776, 30.2260]\n",
    "\n",
    "\n",
    "for year in range(2000,2021,5):\n",
    "    startDate = str(year) + '-01-01'\n",
    "    endDate = str(year) + '-12-31'\n",
    "    refer_img = l58.filterDate(startDate, endDate).map(maskSR).median().clip(roi).visualize(**visParams)\n",
    "    # pw = ee.Image('JRC/GSW1_3/YearlyHistory/' + str(year)).gte(3).clip(roi)\n",
    "    # label = 'GSWD ('+ str(year) + \")\"\n",
    "    pw = ee.Image('users/311605001111/WF/wuhan_WF_' + str(year)).gte(0.75)\n",
    "    label = 'Experimental result ('+ str(year) + \")\"\n",
    "    # pw = ee.Image('users/311605001111/Maryland/Maryland_nationwide_' + str(year)).clip(roi).gte(75)\n",
    "    # label = 'GLAD ('+ str(year) + \")\"\n",
    "    blend = refer_img.blend(pw.selfMask().visualize(**{'palette':['blue']}))\n",
    "    fig = plt.figure(figsize=(12, 8))\n",
    "    ax = cartoee.get_map(blend, region=region)\n",
    "    cartoee.add_gridlines(ax, interval=[0.02,0.02], linestyle=\":\")\n",
    "    ax.set_title(label = label, fontsize=28)"
   ]
  },
  {
   "cell_type": "code",
   "execution_count": null,
   "id": "c227d0c6",
   "metadata": {
    "hidden": true
   },
   "outputs": [],
   "source": []
  },
  {
   "cell_type": "code",
   "execution_count": null,
   "id": "8975c755",
   "metadata": {
    "hidden": true
   },
   "outputs": [],
   "source": []
  }
 ],
 "metadata": {
  "hide_input": false,
  "kernelspec": {
   "display_name": "Python 3 (ipykernel)",
   "language": "python",
   "name": "python3"
  },
  "language_info": {
   "codemirror_mode": {
    "name": "ipython",
    "version": 3
   },
   "file_extension": ".py",
   "mimetype": "text/x-python",
   "name": "python",
   "nbconvert_exporter": "python",
   "pygments_lexer": "ipython3",
   "version": "3.8.12"
  },
  "toc": {
   "base_numbering": 1,
   "nav_menu": {},
   "number_sections": true,
   "sideBar": true,
   "skip_h1_title": false,
   "title_cell": "Table of Contents",
   "title_sidebar": "Contents",
   "toc_cell": false,
   "toc_position": {},
   "toc_section_display": true,
   "toc_window_display": true
  },
  "varInspector": {
   "cols": {
    "lenName": 16,
    "lenType": 16,
    "lenVar": 40
   },
   "kernels_config": {
    "python": {
     "delete_cmd_postfix": "",
     "delete_cmd_prefix": "del ",
     "library": "var_list.py",
     "varRefreshCmd": "print(var_dic_list())"
    },
    "r": {
     "delete_cmd_postfix": ") ",
     "delete_cmd_prefix": "rm(",
     "library": "var_list.r",
     "varRefreshCmd": "cat(var_dic_list()) "
    }
   },
   "types_to_exclude": [
    "module",
    "function",
    "builtin_function_or_method",
    "instance",
    "_Feature"
   ],
   "window_display": false
  }
 },
 "nbformat": 4,
 "nbformat_minor": 5
}
