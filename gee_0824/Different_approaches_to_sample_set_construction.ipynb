{
 "cells": [
  {
   "cell_type": "code",
   "execution_count": 1,
   "metadata": {
    "ExecuteTime": {
     "end_time": "2021-12-04T11:10:14.564359Z",
     "start_time": "2021-12-04T11:10:14.552126Z"
    }
   },
   "outputs": [],
   "source": [
    "import os\n",
    "os.environ['HTTP_PROXY'] = \"http://127.0.0.1:10809\"\n",
    "os.environ['HTTPS_PROXY'] = \"http://127.0.0.1:10809\""
   ]
  },
  {
   "cell_type": "code",
   "execution_count": 2,
   "metadata": {
    "ExecuteTime": {
     "end_time": "2021-12-04T11:10:21.682041Z",
     "start_time": "2021-12-04T11:10:16.672384Z"
    },
    "scrolled": false
   },
   "outputs": [
    {
     "data": {
      "application/vnd.jupyter.widget-view+json": {
       "model_id": "f96cb381750f426aa58883ad64092039",
       "version_major": 2,
       "version_minor": 0
      },
      "text/plain": [
       "Map(center=[40, -100], controls=(WidgetControl(options=['position', 'transparent_bg'], widget=HBox(children=(T…"
      ]
     },
     "metadata": {},
     "output_type": "display_data"
    }
   ],
   "source": [
    "import geemap\n",
    "import ee\n",
    "Map=geemap.Map()\n",
    "Map"
   ]
  },
  {
   "cell_type": "code",
   "execution_count": 3,
   "metadata": {
    "ExecuteTime": {
     "end_time": "2021-12-04T11:10:23.750129Z",
     "start_time": "2021-12-04T11:10:23.741100Z"
    }
   },
   "outputs": [],
   "source": [
    "# 定义参数\n",
    "region = 'tianjin'\n",
    "year = '2016'\n",
    "startDate = year + '-01-01'\n",
    "endDate = year + '-12-31'"
   ]
  },
  {
   "cell_type": "code",
   "execution_count": 4,
   "metadata": {
    "ExecuteTime": {
     "end_time": "2021-12-04T11:10:26.688064Z",
     "start_time": "2021-12-04T11:10:25.794320Z"
    }
   },
   "outputs": [],
   "source": [
    "# # 大庆市\n",
    "# roi = ee.Geometry.Rectangle([123.9355, 45.8362,125.3055, 46.8762])\n",
    "# # 天津市\n",
    "roi = ee.Geometry.Rectangle([115.9244, 38.6272,117.4944,39.6372])\n",
    "# # 武汉市\n",
    "# roi = ee.Geometry.Rectangle([113.7393, 29.8642,115.0993, 30.9242])\n",
    "# # 珠三角\n",
    "# roi = ee.Geometry.Rectangle([112.7614, 22.2347,114.0514, 23.2547])\n",
    "# 青藏高原\n",
    "# roi = ee.Geometry.Rectangle([89.8826, 34.6579,91.3626, 35.8279])\n",
    "Map.addLayer(roi, {}, \"roi\")\n",
    "Map.centerObject(roi,7)"
   ]
  },
  {
   "cell_type": "code",
   "execution_count": 5,
   "metadata": {
    "ExecuteTime": {
     "end_time": "2021-12-04T11:10:28.733978Z",
     "start_time": "2021-12-04T11:10:28.719052Z"
    }
   },
   "outputs": [],
   "source": [
    "# 移除无效像元\n",
    "# .reproject('EPSG:3857',None,30)\n",
    "# elevation = ee.Image('USGS/SRTMGL1_003').select('elevation').clip(roi)\n",
    "elevation = ee.Image(\"users/311605001111/hillshade_\" + region)\n",
    "def maskSR(img):\n",
    "    cloudShadowBitMask = (1 << 3)\n",
    "    cloudsBitMask = (1 << 5)\n",
    "    snowBitMask = (1 << 4)   \n",
    "    qa = img.select('pixel_qa')\n",
    "    mask = qa.bitwiseAnd(cloudShadowBitMask).eq(0) \\\n",
    "                   .And(qa.bitwiseAnd(cloudsBitMask).eq(0)) \\\n",
    "                   .And(qa.bitwiseAnd(snowBitMask).eq(0))\n",
    "    azimuth = img.get('SOLAR_AZIMUTH_ANGLE')\n",
    "    zenith = img.get('SOLAR_ZENITH_ANGLE')\n",
    "    image = img.lt(0)\n",
    "    bands = image.select('B2').add(image.select('B3')).add(image.select('B4')).add(image.select('B5')).add(image.select('B6')).add(image.select('B7'))\n",
    "    outlier = bands.gt(0).remap([0,1],[1,0]).rename('outlier')\n",
    "    return img.updateMask(mask).updateMask(ee.Terrain.hillShadow(elevation,azimuth,zenith,200,True)).updateMask(outlier)\n",
    "def maskSR_reverse(img):\n",
    "    cloudShadowBitMask = (1 << 3)\n",
    "    cloudsBitMask = (1 << 5)\n",
    "    snowBitMask = (1 << 4)   \n",
    "    qa = img.select('pixel_qa')\n",
    "    mask = qa.bitwiseAnd(cloudShadowBitMask).eq(0) \\\n",
    "                   .And(qa.bitwiseAnd(cloudsBitMask).eq(0)) \\\n",
    "                   .And(qa.bitwiseAnd(snowBitMask).eq(0))\n",
    "    image_cloud = img.updateMask(mask.remap([0,1],[1,0]))\n",
    "    azimuth = img.get('SOLAR_AZIMUTH_ANGLE')\n",
    "    zenith = img.get('SOLAR_ZENITH_ANGLE')\n",
    "    image_shadow = img.updateMask(ee.Terrain.hillShadow(elevation,azimuth,zenith,200,True).remap([0,1],[1,0]))\n",
    "    image = img.lt(0)\n",
    "    bands = image.select('B2').add(image.select('B3')).add(image.select('B4')).add(image.select('B5')).add(image.select('B6')).add(image.select('B7'))\n",
    "    image_outlier = img.updateMask(bands.gt(0).rename('outlier'))\n",
    "    return ee.ImageCollection([image_cloud,image_shadow,image_outlier]).sum()\n",
    "\n",
    "\n",
    "# 图像可视化参数\n",
    "visParams = {'bands': ['B5', 'B6', 'B4'],'min': 0,'max': 3000,'gamma': 1.4}\n",
    "\n",
    "## 指数的计算\n",
    "def water_index(img):\n",
    "    image = img.clip(roi)\n",
    "    ndvi=image.normalizedDifference(['B5', 'B4']).rename('NDVI')\n",
    "    ndwi=image.normalizedDifference(['B3', 'B5']).rename(\"NDWI\")\n",
    "    mndwi=image.normalizedDifference(['B3', 'B6']).rename(\"mNDWI\")\n",
    "    ndvi_mndwi = ndvi.subtract(mndwi).rename('ndvi_mndwi')\n",
    "    cwi=image.select('B3').divide(image.select('B6')).rename(\"CWI\")\n",
    "    awei = image.expression('(B2 + 2.5*B3 - 1.5*(B5+B6) - 0.25*B7)/10000',\n",
    "        {\n",
    "          'B2': image.select('B2'),\n",
    "          'B3': image.select('B3'),    \n",
    "          'B5': image.select('B5'),    \n",
    "          'B6': image.select('B6'),\n",
    "          'B7': image.select('B7'),\n",
    "        }).rename('AWEI')\n",
    "    ewi = image.expression('(B3 - B5 - B6)/(B3 + B5 + B6)',\n",
    "        {\n",
    "          'B3': image.select('B3'),    \n",
    "          'B5': image.select('B5'),    \n",
    "          'B6': image.select('B6'),\n",
    "        }).rename('EWI')\n",
    "    evi = image.expression('2.5*(B5 - B4)/(B5 + 6*B4 - 7.5*B2 + 1)',\n",
    "        {\n",
    "          'B2': image.select('B2'),\n",
    "          'B4': image.select('B4'),\n",
    "          'B5': image.select('B5'),    \n",
    "        }).rename('EVI')\n",
    "    return image.addBands(ndvi).addBands(ndwi).addBands(mndwi).addBands(cwi).addBands(awei).addBands(ewi).addBands(evi).addBands(ndvi_mndwi)\n",
    "\n",
    "# 计算研究区域内，影像面积\n",
    "def ImageArea(image):\n",
    "    image_area = image.select('B2').gt(0).multiply(ee.Image.pixelArea()).divide(1e6)\n",
    "    imageareas = image_area.reduceRegion(**{\n",
    "        'reducer': ee.Reducer.sum(),\n",
    "        'geometry': roi,\n",
    "        'scale': 1000,\n",
    "        'maxPixels': 1e14,\n",
    "        'bestEffort': True,\n",
    "    })    \n",
    "    return image.set({'imagearea': imageareas.get('B2')})\n"
   ]
  },
  {
   "cell_type": "code",
   "execution_count": 6,
   "metadata": {
    "ExecuteTime": {
     "end_time": "2021-12-04T11:10:30.825370Z",
     "start_time": "2021-12-04T11:10:30.814733Z"
    },
    "scrolled": false
   },
   "outputs": [],
   "source": [
    "# l7 = ee.ImageCollection('LANDSAT/LE07/C01/T1_SR') \\\n",
    "#        .select(['B1', 'B2', 'B3', 'B4', 'B5', 'B7','pixel_qa'],['B2', 'B3', 'B4', 'B5', 'B6', 'B7','pixel_qa']) \\\n",
    "#        .filterBounds(roi) \\\n",
    "#        .filterDate(startDate, endDate)\n",
    "           \n",
    "# l8 = ee.ImageCollection('LANDSAT/LC08/C01/T1_SR') \\\n",
    "#        .select(['B2', 'B3', 'B4', 'B5', 'B6', 'B7','pixel_qa']) \\\n",
    "#        .filterBounds(roi) \\\n",
    "#        .filterDate(startDate, endDate)          \n",
    "# landsat_images = l8.merge(l7).map(water_index).map(maskSR)\n",
    "# Map.addLayer(l8.map(maskSR).mosaic().clip(roi), visParams,'image mosaic')\n",
    "# print(l7.size().getInfo())\n",
    "# print(l8.size().getInfo())\n",
    "# print(landsat_images.size().getInfo())"
   ]
  },
  {
   "cell_type": "code",
   "execution_count": 7,
   "metadata": {
    "ExecuteTime": {
     "end_time": "2021-12-04T11:10:33.413466Z",
     "start_time": "2021-12-04T11:10:31.281485Z"
    }
   },
   "outputs": [
    {
     "name": "stdout",
     "output_type": "stream",
     "text": [
      "0\n",
      "102\n",
      "123\n",
      "225\n"
     ]
    }
   ],
   "source": [
    "l5 = ee.ImageCollection('LANDSAT/LT05/C01/T1_SR') \\\n",
    "       .select(['B1', 'B2', 'B3', 'B4', 'B5', 'B7','pixel_qa'],['B2', 'B3', 'B4', 'B5', 'B6', 'B7','pixel_qa']) \\\n",
    "       .filterBounds(roi) \\\n",
    "       .filterDate(startDate, endDate)  \n",
    "l7 = ee.ImageCollection('LANDSAT/LE07/C01/T1_SR') \\\n",
    "       .select(['B1', 'B2', 'B3', 'B4', 'B5', 'B7','pixel_qa'],['B2', 'B3', 'B4', 'B5', 'B6', 'B7','pixel_qa']) \\\n",
    "       .filterBounds(roi) \\\n",
    "       .filterDate(startDate, endDate)           \n",
    "l8 = ee.ImageCollection('LANDSAT/LC08/C01/T1_SR') \\\n",
    "       .select(['B2', 'B3', 'B4', 'B5', 'B6', 'B7','pixel_qa']) \\\n",
    "       .filterBounds(roi) \\\n",
    "       .filterDate(startDate, endDate)\n",
    "landsat_images = l8.merge(l7).merge(l5).map(water_index)\n",
    "Map.addLayer(l8.map(maskSR).mosaic().clip(roi), visParams,'image mosaic')\n",
    "print(l5.size().getInfo( ))\n",
    "print(l7.size().getInfo())\n",
    "print(l8.size().getInfo())\n",
    "print(landsat_images.size().getInfo())"
   ]
  },
  {
   "cell_type": "markdown",
   "metadata": {},
   "source": [
    "# 筛选得出采样影像"
   ]
  },
  {
   "cell_type": "markdown",
   "metadata": {
    "heading_collapsed": true
   },
   "source": [
    "## 方案一"
   ]
  },
  {
   "cell_type": "code",
   "execution_count": null,
   "metadata": {
    "ExecuteTime": {
     "end_time": "2021-11-26T08:45:33.210510Z",
     "start_time": "2021-11-26T08:45:05.064545Z"
    },
    "hidden": true
   },
   "outputs": [],
   "source": [
    "# 筛选图像\n",
    "image_area = landsat_images.mosaic().select('B2').gt(0).multiply(ee.Image.pixelArea()).divide(1e6)\n",
    "areas = image_area.reduceRegion(**{\n",
    "    'reducer': ee.Reducer.sum(),\n",
    "    'geometry': roi,\n",
    "    'scale': 1000,\n",
    "    'maxPixels': 1e14\n",
    "})\n",
    "print(areas.getInfo())\n",
    "# 筛选影像，影像覆盖研究区的范围 > 研究区的1/3\n",
    "sample_image = landsat_images.map(ImageArea).filter(ee.Filter.gt('imagearea',ee.Number(areas.get('B2')).divide(3)))\n",
    "dates = sample_image.aggregate_array('system:time_start').sort().map(lambda d: ee.Date(d).format('YYYY-MM-dd'))\n",
    "print(sample_image.size().getInfo())\n",
    "# print(sample_image.aggregate_array('system:id').getInfo())\n",
    "print(dates.getInfo())\n",
    "\n",
    "landsat_image = sample_image.map(lambda i : i.setMulti({'path_row': ee.String(i.get('system:id')).slice(-15,-9),'month':ee.Number.parse(ee.String(i.get('system:index')).slice(-4,-2))}))\n",
    "path_row = landsat_image.distinct('path_row').aggregate_array('path_row')\n",
    "print(landsat_image.aggregate_array('month').getInfo())\n",
    "print(path_row.getInfo())"
   ]
  },
  {
   "cell_type": "markdown",
   "metadata": {
    "heading_collapsed": true
   },
   "source": [
    "## 方案二"
   ]
  },
  {
   "cell_type": "code",
   "execution_count": null,
   "metadata": {
    "ExecuteTime": {
     "end_time": "2021-11-24T02:51:30.362794Z",
     "start_time": "2021-11-24T02:51:14.326880Z"
    },
    "hidden": true
   },
   "outputs": [],
   "source": [
    "# 影像筛选函数\n",
    "def filter_image(id):\n",
    "    # l8\n",
    "    images_l8 = l8.map(lambda i:i.setMulti({'path_row': ee.String(i.get('system:id')).slice(-15,-9),'month':ee.Number.parse(ee.String(i.get('system:id')).slice(-4,-2))}))\n",
    "    month_l8 = images_l8.map(lambda i:i.set({'img_id':i.get('system:index')})).filter(ee.Filter.eq('path_row',id))\n",
    "    first_quarter_l8 = ee.ImageCollection(month_l8.filter(ee.Filter.lte('month',3)).filter(ee.Filter.gte('month',1)).randomColumn('random',1,'uniform').sort('random')).first()\n",
    "    second_quarter_l8 = ee.ImageCollection(month_l8.filter(ee.Filter.lte('month',6)).filter(ee.Filter.gte('month',4)).randomColumn('random',1,'uniform').sort('random')).first()\n",
    "    third_quarter_l8 = ee.ImageCollection(month_l8.filter(ee.Filter.lte('month',9)).filter(ee.Filter.gte('month',7)).randomColumn('random',1,'uniform').sort('random')).first()\n",
    "    fourth_quarter_l8 = ee.ImageCollection(month_l8.filter(ee.Filter.lte('month',12)).filter(ee.Filter.gte('month',10)).randomColumn('random',1,'uniform').sort('random')).first()\n",
    "    # l7\n",
    "    images_l7 = l7.map(lambda i:i.setMulti({'path_row': ee.String(i.get('system:id')).slice(-15,-9),'month':ee.Number.parse(ee.String(i.get('system:id')).slice(-4,-2))}))\n",
    "    month_l7 = images_l7.map(lambda i:i.set({'img_id':i.get('system:index')})).filter(ee.Filter.eq('path_row',id))\n",
    "    first_quarter_l7 = ee.ImageCollection(month_l7.filter(ee.Filter.lte('month',3)).filter(ee.Filter.gte('month',1)).randomColumn('random',1,'uniform').sort('random')).first()\n",
    "    second_quarter_l7 = ee.ImageCollection(month_l7.filter(ee.Filter.lte('month',6)).filter(ee.Filter.gte('month',4)).randomColumn('random',1,'uniform').sort('random')).first()\n",
    "    third_quarter_l7 = ee.ImageCollection(month_l7.filter(ee.Filter.lte('month',9)).filter(ee.Filter.gte('month',7)).randomColumn('random',1,'uniform').sort('random')).first()\n",
    "    fourth_quarter_l7 = ee.ImageCollection(month_l7.filter(ee.Filter.lte('month',12)).filter(ee.Filter.gte('month',10)).randomColumn('random',1,'uniform').sort('random')).first()\n",
    "    # l5\n",
    "    images_l5 = l5.map(lambda i:i.setMulti({'path_row': ee.String(i.get('system:id')).slice(-15,-9),'month':ee.Number.parse(ee.String(i.get('system:id')).slice(-4,-2))}))\n",
    "    month_l5 = images_l5.map(lambda i:i.set({'img_id':i.get('system:index')})).filter(ee.Filter.eq('path_row',id))\n",
    "    first_quarter_l5 = ee.ImageCollection(month_l5.filter(ee.Filter.lte('month',3)).filter(ee.Filter.gte('month',1)).randomColumn('random',1,'uniform').sort('random')).first()\n",
    "    second_quarter_l5 = ee.ImageCollection(month_l5.filter(ee.Filter.lte('month',6)).filter(ee.Filter.gte('month',4)).randomColumn('random',1,'uniform').sort('random')).first()\n",
    "    third_quarter_l5 = ee.ImageCollection(month_l5.filter(ee.Filter.lte('month',9)).filter(ee.Filter.gte('month',7)).randomColumn('random',1,'uniform').sort('random')).first()\n",
    "    fourth_quarter_l5 = ee.ImageCollection(month_l5.filter(ee.Filter.lte('month',12)).filter(ee.Filter.gte('month',10)).randomColumn('random',1,'uniform').sort('random')).first()\n",
    "    img_col = ee.ImageCollection([first_quarter_l8,second_quarter_l8,third_quarter_l8,fourth_quarter_l8,first_quarter_l7,second_quarter_l7,third_quarter_l7,fourth_quarter_l7,first_quarter_l5,second_quarter_l5,third_quarter_l5,fourth_quarter_l5])\n",
    "    return img_col\n",
    "\n",
    "## 计算唯一的行列号\n",
    "l5 = ee.ImageCollection('LANDSAT/LT05/C01/T1_SR').filterBounds(roi).filterDate(startDate, endDate)  \n",
    "l7 = ee.ImageCollection('LANDSAT/LE07/C01/T1_SR').filterBounds(roi).filterDate(startDate, endDate)           \n",
    "l8 = ee.ImageCollection('LANDSAT/LC08/C01/T1_SR').filterBounds(roi).filterDate(startDate, endDate)\n",
    "region_images = l8.merge(l7).merge(l5)\n",
    "landsat_image = region_images.map(lambda i : i.setMulti({'path_row': ee.String(i.get('system:id')).slice(-15,-9),'month':ee.Number.parse(ee.String(i.get('system:id')).slice(-4,-2))}))\n",
    "path_row = landsat_image.distinct('path_row').aggregate_array('path_row')\n",
    "print(path_row.getInfo())\n",
    "\n",
    "## 计算在每个行列号上选择的月份和卫星类型\n",
    "select_image = path_row.map(filter_image)\n",
    "number = path_row.size().getInfo()\n",
    "print(path_row.size().getInfo())\n",
    "for i in range(0,number):\n",
    "    print(ee.ImageCollection(select_image .get(i)).aggregate_array('month').getInfo())\n",
    "    print(ee.ImageCollection(select_image .get(i)).aggregate_array('SATELLITE').getInfo())\n",
    "\n",
    "## 合并在各个行列号上选择的影像\n",
    "img_col = ee.ImageCollection([])\n",
    "for i in range(0,number):\n",
    "    img_col = img_col.merge(ee.ImageCollection(select_image.get(i)))\n",
    "sample_image = img_col.map(water_index).map(maskSR)\n",
    "print(sample_image.size().getInfo())\n",
    "print(sample_image.aggregate_array('path_row').getInfo())\n",
    "print(sample_image.aggregate_array('month').getInfo())"
   ]
  },
  {
   "cell_type": "markdown",
   "metadata": {
    "heading_collapsed": true
   },
   "source": [
    "## 方案三"
   ]
  },
  {
   "cell_type": "code",
   "execution_count": null,
   "metadata": {
    "ExecuteTime": {
     "end_time": "2021-11-29T08:43:47.679439Z",
     "start_time": "2021-11-29T08:43:44.062174Z"
    },
    "hidden": true
   },
   "outputs": [],
   "source": [
    "## 计算无效像元比\n",
    "def filter_image(img):\n",
    "    validPixel = maskSR(img).select('pixel_qa').gt(0).rename('waterclass').float()\n",
    "    invalidPixel = maskSR_reverse(img).select('pixel_qa').gt(0).remap([0,1],[1,0]).rename('waterclass').float()\n",
    "    class_image = ee.ImageCollection([invalidPixel,validPixel]).sum()\n",
    "    invalidPixels = class_image.eq(0).multiply(ee.Image.pixelArea()).divide(1e6)\n",
    "    invalidarea = invalidPixels.reduceRegion(**{'reducer': ee.Reducer.sum(),'geometry': roi,'scale': 200,'maxPixels': 1e14,'tileScale': 2}).get('waterclass')\n",
    "    region = class_image.gte(0).multiply(ee.Image.pixelArea()).divide(1e6)\n",
    "    regionarea = region.reduceRegion(**{'reducer': ee.Reducer.sum(),'geometry': roi,'scale': 200,'maxPixels': 1e14,'tileScale': 2}).get('waterclass')\n",
    "    rate = ee.Number(invalidarea).divide(ee.Number(regionarea)).multiply(100)\n",
    "    return img.set({'invalid_rate':rate})\n",
    "\n",
    "sample_image = landsat_images.map(filter_image).filter(ee.Filter.lt('invalid_rate',85)).map(maskSR)\n",
    "print(sample_image.size().getInfo())\n",
    "# print(sample_image.aggregate_array('invalid_rate').getInfo())"
   ]
  },
  {
   "cell_type": "code",
   "execution_count": null,
   "metadata": {
    "ExecuteTime": {
     "end_time": "2021-11-26T10:36:30.880726Z",
     "start_time": "2021-11-26T10:36:24.961639Z"
    },
    "hidden": true
   },
   "outputs": [],
   "source": [
    "# sample_image = l8.map(water_index).map(filter_image).filter(ee.Filter.lt('invalid_rate',85)).map(maskSR)\n",
    "# print(sample_image.size().getInfo())\n",
    "# print(sample_image.aggregate_array('invalid_rate').getInfo())\n",
    "\n",
    "# sample_image = l7.map(water_index).map(filter_image).filter(ee.Filter.lt('invalid_rate',85)).map(maskSR)\n",
    "# print(sample_image.size().getInfo())\n",
    "# print(sample_image.aggregate_array('invalid_rate').getInfo())"
   ]
  },
  {
   "cell_type": "markdown",
   "metadata": {},
   "source": [
    "## 方案四"
   ]
  },
  {
   "cell_type": "code",
   "execution_count": 8,
   "metadata": {
    "ExecuteTime": {
     "end_time": "2021-12-04T11:10:41.262894Z",
     "start_time": "2021-12-04T11:10:40.798139Z"
    }
   },
   "outputs": [
    {
     "name": "stdout",
     "output_type": "stream",
     "text": [
      "225\n"
     ]
    }
   ],
   "source": [
    "sample_image = landsat_images.map(maskSR)\n",
    "print(sample_image.size().getInfo())"
   ]
  },
  {
   "cell_type": "code",
   "execution_count": null,
   "metadata": {},
   "outputs": [],
   "source": []
  },
  {
   "cell_type": "markdown",
   "metadata": {},
   "source": [
    "# 多水体频率数据集的类别范围确定"
   ]
  },
  {
   "cell_type": "markdown",
   "metadata": {
    "heading_collapsed": true
   },
   "source": [
    "## 方案一"
   ]
  },
  {
   "cell_type": "code",
   "execution_count": null,
   "metadata": {
    "ExecuteTime": {
     "end_time": "2021-10-19T08:52:41.757419Z",
     "start_time": "2021-10-19T08:52:41.742297Z"
    },
    "hidden": true
   },
   "outputs": [],
   "source": [
    "#### 设置年份\n",
    "JRC_id = 'JRC/GSW1_3/YearlyHistory/' + year\n",
    "Maryland_id = 'users/311605001111/Maryland/Maryland_nationwide_' + year\n",
    "# ndvi_mndwi水体频率\n",
    "basemap = ee.Image.constant(0).clip(roi).rename('waterclass')\n",
    "water_layer = landsat_images.map(lambda i : i.select('ndvi_mndwi').lt(0)).sum()\n",
    "validPixel_layer = landsat_images.count().select('B3').clip(roi).rename('count')\n",
    "index_waterfrequency = water_layer.select('ndvi_mndwi').divide(validPixel_layer.select('count')).select('ndvi_mndwi').rename('frequency')\n",
    "index_permanent = index_waterfrequency.gte(0.75).remap([0,1],[0,2]).rename('waterclass')\n",
    "index_season= ee.ImageCollection([index_waterfrequency.gte(0.25),index_waterfrequency.lt(0.75)]).sum().eq(2).rename('waterclass')\n",
    "index_waterclass = ee.ImageCollection([index_permanent,index_season,basemap]).sum()\n",
    "# JRC\n",
    "JRC = ee.Image(JRC_id).clip(roi).remap([0,1,2,3],[0,0,1,2]).rename('waterclass')\n",
    "JRC_waterclass = ee.ImageCollection([JRC,basemap]).sum()\n",
    "# Maryland\n",
    "Maryland = ee.Image(Maryland_id).clip(roi).select('b1').rename('waterclass')\n",
    "Maryland_permanent = Maryland.select('waterclass').gte(75).remap([0,1],[0,2]).rename('waterclass')\n",
    "Maryland_season= ee.ImageCollection([Maryland.gte(25),Maryland.lt(75)]).sum().eq(2)\n",
    "Maryland_waterclass = ee.ImageCollection([Maryland_permanent,Maryland_season,basemap]).sum()\n",
    "# 三者的交集\n",
    "permanentWaterExtent = ee.ImageCollection([index_waterclass.eq(2),JRC_waterclass.eq(2),Maryland_waterclass.eq(2)]).sum().eq(3)\n",
    "landExtent = ee.ImageCollection([index_waterclass.eq(0),JRC_waterclass.eq(0),Maryland_waterclass.eq(0)]).sum().eq(3)\n",
    "seasonWaterExtent = ee.ImageCollection([permanentWaterExtent,landExtent]).sum().remap([0,1],[1,0]).rename('waterclass')\n",
    "\n",
    "# Map.addLayer(permanentWaterExtent.selfMask(),{'palette':['blue']},\"permanent_water\")\n",
    "# Map.addLayer(seasonWaterExtent.selfMask(),{'palette':['green']},\"season water\")"
   ]
  },
  {
   "cell_type": "markdown",
   "metadata": {
    "heading_collapsed": true
   },
   "source": [
    "## 方案二"
   ]
  },
  {
   "cell_type": "code",
   "execution_count": null,
   "metadata": {
    "ExecuteTime": {
     "end_time": "2021-10-20T08:52:34.550002Z",
     "start_time": "2021-10-20T08:52:34.531031Z"
    },
    "hidden": true
   },
   "outputs": [],
   "source": [
    "#### 设置年份\n",
    "JRC_id = 'JRC/GSW1_3/YearlyHistory/' + year\n",
    "Maryland_id = 'users/311605001111/Maryland/Maryland_nationwide_' + year\n",
    "# ndvi_mndwi水体频率\n",
    "basemap = ee.Image.constant(0).clip(roi).rename('waterclass')\n",
    "water_layer = landsat_images.map(lambda i : i.select('ndvi_mndwi').lt(0)).sum()\n",
    "validPixel_layer = landsat_images.count().select('B3').clip(roi).rename('count')\n",
    "index_waterfrequency = water_layer.select('ndvi_mndwi').divide(validPixel_layer.select('count')).select('ndvi_mndwi').rename('frequency')\n",
    "index_permanent = index_waterfrequency.gte(0.75).remap([0,1],[0,2]).rename('waterclass')\n",
    "index_season= ee.ImageCollection([index_waterfrequency.gte(0.25),index_waterfrequency.lt(0.75)]).sum().eq(2).rename('waterclass')\n",
    "index_waterclass = ee.ImageCollection([index_permanent,index_season,basemap]).sum()\n",
    "# JRC\n",
    "JRC = ee.Image(JRC_id).clip(roi).remap([0,1,2,3],[0,0,1,2]).rename('waterclass')\n",
    "JRC_waterclass = ee.ImageCollection([JRC,basemap]).sum()\n",
    "# Maryland\n",
    "Maryland = ee.Image(Maryland_id).clip(roi).select('b1').rename('waterclass')\n",
    "Maryland_permanent = Maryland.select('waterclass').gte(75).remap([0,1],[0,2]).rename('waterclass')\n",
    "Maryland_season= ee.ImageCollection([Maryland.gte(25),Maryland.lt(75)]).sum().eq(2)\n",
    "Maryland_waterclass = ee.ImageCollection([Maryland_permanent,Maryland_season,basemap]).sum()\n",
    "# 三者的交集\n",
    "permanentWaterExtent = ee.ImageCollection([index_waterclass.eq(2),JRC_waterclass.eq(2),Maryland_waterclass.eq(2)]).sum().eq(3)\n",
    "landExtent = ee.ImageCollection([index_waterclass.eq(0),JRC_waterclass.eq(0),Maryland_waterclass.eq(0)]).sum().eq(3)\n",
    "seasonWaterExtent = ee.ImageCollection([index_waterclass.eq(1),JRC_waterclass.eq(1),Maryland_waterclass.eq(1)]).sum().eq(3)"
   ]
  },
  {
   "cell_type": "markdown",
   "metadata": {
    "heading_collapsed": true
   },
   "source": [
    "##  方案三"
   ]
  },
  {
   "cell_type": "code",
   "execution_count": null,
   "metadata": {
    "ExecuteTime": {
     "end_time": "2021-10-21T11:10:58.245332Z",
     "start_time": "2021-10-21T11:10:58.234332Z"
    },
    "hidden": true
   },
   "outputs": [],
   "source": [
    "#### 设置年份\n",
    "JRC_id = 'JRC/GSW1_3/YearlyHistory/' + year\n",
    "Maryland_id = 'users/311605001111/Maryland/Maryland_nationwide_' + year\n",
    "basemap = ee.Image.constant(0).clip(roi).rename('waterclass')\n",
    "# JRC\n",
    "JRC = ee.Image(JRC_id).clip(roi).remap([0,1,2,3],[0,0,1,2]).rename('waterclass')\n",
    "JRC_waterclass = ee.ImageCollection([JRC,basemap]).sum()\n",
    "# Maryland\n",
    "Maryland = ee.Image(Maryland_id).clip(roi).select('b1').rename('waterclass')\n",
    "Maryland_permanent = Maryland.select('waterclass').gte(75).remap([0,1],[0,2]).rename('waterclass')\n",
    "Maryland_season= ee.ImageCollection([Maryland.gte(25),Maryland.lt(75)]).sum().eq(2)\n",
    "Maryland_waterclass = ee.ImageCollection([Maryland_permanent,Maryland_season,basemap]).sum()\n",
    "# 三者的交集\n",
    "permanentWaterExtent = ee.ImageCollection([JRC_waterclass.eq(2),Maryland_waterclass.eq(2)]).sum().eq(2)\n",
    "landExtent = ee.ImageCollection([JRC_waterclass.eq(0),Maryland_waterclass.eq(0)]).sum().eq(2)\n",
    "seasonWaterExtent = ee.ImageCollection([JRC_waterclass.eq(1),Maryland_waterclass.eq(1)]).sum().eq(2)"
   ]
  },
  {
   "cell_type": "markdown",
   "metadata": {
    "heading_collapsed": true
   },
   "source": [
    "## 方案四"
   ]
  },
  {
   "cell_type": "code",
   "execution_count": null,
   "metadata": {
    "ExecuteTime": {
     "end_time": "2021-11-24T02:51:42.744636Z",
     "start_time": "2021-11-24T02:51:42.724623Z"
    },
    "hidden": true
   },
   "outputs": [],
   "source": [
    "#### 设置年份\n",
    "Maryland_id = 'users/311605001111/Maryland/Maryland_nationwide_' + year\n",
    "basemap = ee.Image.constant(0).clip(roi).rename('waterclass')\n",
    "# JRC\n",
    "dataset = ee.ImageCollection('JRC/GSW1_3/MonthlyHistory').filter(ee.Filter.eq('year',int(year)))\n",
    "waterpixel = dataset.map(lambda i : i.clip(roi).eq(2)).sum()\n",
    "validpixel = dataset.map(lambda i : i.clip(roi).gt(0)).sum()\n",
    "waterfrequency = waterpixel.divide(validpixel).multiply(100).rename('waterclass')\n",
    "JRC_permanent = waterfrequency.select('waterclass').gt(75).remap([0,1],[0,2]).rename('waterclass')\n",
    "JRC_season= ee.ImageCollection([waterfrequency.gte(25),waterfrequency.lte(75)]).sum().eq(2)\n",
    "JRC_waterclass = ee.ImageCollection([JRC_permanent,JRC_season,basemap]).sum()\n",
    "# Maryland\n",
    "Maryland = ee.Image(Maryland_id).clip(roi).select('b1').rename('waterclass')\n",
    "Maryland_permanent = Maryland.select('waterclass').gt(75).remap([0,1],[0,2]).rename('waterclass')\n",
    "Maryland_season= ee.ImageCollection([Maryland.gte(25),Maryland.lte(75)]).sum().eq(2)\n",
    "Maryland_waterclass = ee.ImageCollection([Maryland_permanent,Maryland_season,basemap]).sum()\n",
    "# 三者的交集\n",
    "permanentWaterExtent = ee.ImageCollection([JRC_waterclass.eq(2),Maryland_waterclass.eq(2)]).sum().eq(2)\n",
    "landExtent = ee.ImageCollection([JRC_waterclass.eq(0),Maryland_waterclass.eq(0)]).sum().eq(2)\n",
    "seasonWaterExtent_min = ee.ImageCollection([JRC_waterclass.eq(1),Maryland_waterclass.eq(1)]).sum().eq(2)\n",
    "seasonWaterExtent_max = ee.ImageCollection([permanentWaterExtent,landExtent]).sum().remap([0,1],[1,0]).rename('waterclass')"
   ]
  },
  {
   "cell_type": "markdown",
   "metadata": {},
   "source": [
    "## 方案五"
   ]
  },
  {
   "cell_type": "code",
   "execution_count": 9,
   "metadata": {
    "ExecuteTime": {
     "end_time": "2021-12-04T11:10:45.754417Z",
     "start_time": "2021-12-04T11:10:45.740671Z"
    }
   },
   "outputs": [],
   "source": [
    "#### 设置年份\n",
    "JRC_id = 'JRC/GSW1_3/YearlyHistory/' + year\n",
    "Maryland_id = 'users/311605001111/MARYLAND/Maryland_nationwide_' + year\n",
    "basemap = ee.Image.constant(0).clip(roi).rename('waterclass')\n",
    "# JRC\n",
    "JRC = ee.Image(JRC_id).clip(roi).remap([0,1,2,3],[0,0,1,2]).rename('waterclass')\n",
    "JRC_waterclass = ee.ImageCollection([JRC,basemap]).sum()\n",
    "# Maryland\n",
    "Maryland = ee.Image(Maryland_id).clip(roi).select('b1').rename('waterclass')\n",
    "Maryland_permanent = Maryland.select('waterclass').gte(75).remap([0,1],[0,2]).rename('waterclass')\n",
    "Maryland_season= ee.ImageCollection([Maryland.gte(25),Maryland.lt(75)]).sum().eq(2)\n",
    "Maryland_waterclass = ee.ImageCollection([Maryland_permanent,Maryland_season,basemap]).sum()\n",
    "# 三者的交集\n",
    "permanentWaterExtent = ee.ImageCollection([JRC_waterclass.eq(2),Maryland_waterclass.eq(2)]).sum().eq(2)\n",
    "landExtent = ee.ImageCollection([JRC_waterclass.eq(0),Maryland_waterclass.eq(0)]).sum().eq(2)\n",
    "seasonWaterExtent_min = ee.ImageCollection([JRC_waterclass.eq(1),Maryland_waterclass.eq(1)]).sum().eq(2)\n",
    "seasonWaterExtent_max = ee.ImageCollection([permanentWaterExtent,landExtent]).sum().remap([0,1],[1,0]).rename('waterclass')"
   ]
  },
  {
   "cell_type": "markdown",
   "metadata": {},
   "source": [
    "# 采样函数"
   ]
  },
  {
   "cell_type": "markdown",
   "metadata": {
    "heading_collapsed": true
   },
   "source": [
    "## 三类，AWEI为0"
   ]
  },
  {
   "cell_type": "code",
   "execution_count": null,
   "metadata": {
    "ExecuteTime": {
     "end_time": "2021-10-20T11:21:13.792936Z",
     "start_time": "2021-10-20T11:21:13.783967Z"
    },
    "hidden": true
   },
   "outputs": [],
   "source": [
    "### 一般阈值：AWEI=0\n",
    "# 设置采样个数\n",
    "number_land = 250\n",
    "number_water = 500\n",
    "# 基于图像的样本采集函数\n",
    "def imageSample(image):\n",
    "    # 永久性水体\n",
    "    permanent_points = image.updateMask(permanentWaterExtent).sample(**{\n",
    "        'region': roi,\n",
    "        'scale': 30,\n",
    "        'numPixels': number_water,\n",
    "        'seed': 0,\n",
    "        'geometries': True,\n",
    "        'tileScale': 2,\n",
    "    })\n",
    "    water_points = permanent_points.map(lambda i : i.setMulti({'waterclass':1,'Image_id':image.get('system:id')}))\n",
    "    # 陆地\n",
    "    land_points = image.updateMask(landExtent).sample(**{\n",
    "        'region': image.geometry(),\n",
    "        'scale': 30,\n",
    "        'numPixels': number_land,\n",
    "        'seed': 0,\n",
    "        'geometries': True,\n",
    "        'tileScale': 2,\n",
    "    })\n",
    "    nowater_points = land_points.map(lambda i : i.setMulti({'waterclass':0,'Image_id':image.get('system:id')}))\n",
    "    # 季节性水体\n",
    "    awei = image.updateMask(seasonWaterExtent).select('AWEI').gt(0)\n",
    "    seasonWater = image.updateMask(awei).sample(**{\n",
    "        'region': roi,\n",
    "        'scale': 30,\n",
    "        'numPixels': number_water,\n",
    "        'seed': 0,\n",
    "        'geometries': True,\n",
    "        'tileScale': 2,\n",
    "    })\n",
    "    seasonWater_points = seasonWater.map(lambda i : i.setMulti({'waterclass':1,'Image_id':image.get('system:id')}))\n",
    "    seasonLand= image.updateMask(awei.remap([0,1],[1,0])).sample(**{\n",
    "        'region': roi,\n",
    "        'scale': 30,\n",
    "        'numPixels': number_land,\n",
    "        'seed': 0,\n",
    "        'geometries': True,\n",
    "        'tileScale': 2,\n",
    "    })\n",
    "    seasonLand_points = seasonLand.map(lambda i : i.setMulti({'waterclass':0,'Image_id':image.get('system:id')}))\n",
    "    sample_points = ee.FeatureCollection([water_points,nowater_points,seasonWater_points,seasonLand_points]).flatten()\n",
    "    return sample_points"
   ]
  },
  {
   "cell_type": "markdown",
   "metadata": {},
   "source": [
    "## 只有永久和非水体"
   ]
  },
  {
   "cell_type": "code",
   "execution_count": 10,
   "metadata": {
    "ExecuteTime": {
     "end_time": "2021-12-04T11:10:54.244249Z",
     "start_time": "2021-12-04T11:10:54.231100Z"
    }
   },
   "outputs": [],
   "source": [
    "# 设置采样个数\n",
    "# number_land = 150\n",
    "# number_water = 2000\n",
    "number_land = 250\n",
    "number_water = 1500\n",
    "\n",
    "# 基于图像的样本采集函数\n",
    "def imageSample(image):\n",
    "    # 永久性水体\n",
    "    permanent_points = image.updateMask(permanentWaterExtent).sample(**{\n",
    "        'region': roi,\n",
    "        'scale': 30,\n",
    "        'numPixels': number_water,\n",
    "        'seed': 0,\n",
    "        'geometries': True,\n",
    "        'tileScale': 2,\n",
    "    })\n",
    "    water_points = permanent_points.map(lambda i : i.setMulti({'waterclass':1,'point_type':'permanent_water','Image_id':image.get('system:id')}))\n",
    "    # 陆地\n",
    "    land_points = image.updateMask(landExtent).sample(**{\n",
    "        'region': image.geometry(),\n",
    "        'scale': 30,\n",
    "        'numPixels': number_land,\n",
    "        'seed': 0,\n",
    "        'geometries': True,\n",
    "        'tileScale': 2,\n",
    "    })\n",
    "    nowater_points = land_points.map(lambda i : i.setMulti({'waterclass':0,'point_type':'no_water','Image_id':image.get('system:id')}))\n",
    "    sample_points = ee.FeatureCollection([water_points,nowater_points]).flatten()\n",
    "    return sample_points"
   ]
  },
  {
   "cell_type": "markdown",
   "metadata": {
    "heading_collapsed": true
   },
   "source": [
    "## 季节性，先awei,后RF"
   ]
  },
  {
   "cell_type": "code",
   "execution_count": null,
   "metadata": {
    "ExecuteTime": {
     "end_time": "2021-10-21T01:34:26.093247Z",
     "start_time": "2021-10-21T01:34:26.080175Z"
    },
    "hidden": true
   },
   "outputs": [],
   "source": [
    "training = 2000\n",
    "collect = 500\n",
    "def season(image):\n",
    "    awei = image.updateMask(seasonWaterExtent_min).select('AWEI').gt(0)\n",
    "    seasonWater = image.updateMask(awei).sample(**{\n",
    "        'region': roi,\n",
    "        'scale': 30,\n",
    "        'numPixels': training,\n",
    "        'seed': 0,\n",
    "        'geometries': True,\n",
    "        'tileScale': 2,\n",
    "    })\n",
    "    seasonWater_points = seasonWater.map(lambda i : i.set({'waterclass':1}))\n",
    "    seasonLand= image.updateMask(awei.remap([0,1],[1,0])).sample(**{\n",
    "        'region': roi,\n",
    "        'scale': 30,\n",
    "        'numPixels': training,\n",
    "        'seed': 0,\n",
    "        'geometries': True,\n",
    "        'tileScale': 2,\n",
    "    })\n",
    "    seasonLand_points = seasonLand.map(lambda i : i.set({'waterclass':0}))\n",
    "    sample_points = ee.FeatureCollection([seasonWater_points,seasonLand_points]).flatten()\n",
    "    label = 'waterclass'\n",
    "    bands = ['B2', 'B3', 'B4', 'B5', 'B6', 'B7','NDVI','NDWI','mNDWI','CWI','AWEI','EWI','EVI']\n",
    "    trainedClassifier = ee.Classifier.smileRandomForest(20).train(sample_points,label,bands)\n",
    "    classify_image = image.updateMask(seasonWaterExtent_max).select(bands).classify(trainedClassifier).eq(1).rename('waterclass')   \n",
    "    seasonWater = image.updateMask(classify_image).sample(**{\n",
    "        'region': roi,\n",
    "        'scale': 30,\n",
    "        'numPixels': collect,\n",
    "        'seed': 0,\n",
    "        'geometries': True,\n",
    "        'tileScale': 2,\n",
    "    })\n",
    "    sw = seasonWater.map(lambda i : i.setMulti({'waterclass':1,'Image_id':image.get('system:id')}))\n",
    "    seasonLand = image.updateMask(classify_image.remap([0,1],[1,0])).sample(**{\n",
    "        'region': roi,\n",
    "        'scale': 30,\n",
    "        'numPixels': collect,\n",
    "        'seed': 0,\n",
    "        'geometries': True,\n",
    "        'tileScale': 2,\n",
    "    })\n",
    "    sl = seasonLand.map(lambda i : i.setMulti({'waterclass':0,'Image_id':image.get('system:id')}))\n",
    "    sample_points = ee.FeatureCollection([sw,sl]).flatten()\n",
    "    return sample_points"
   ]
  },
  {
   "cell_type": "markdown",
   "metadata": {
    "heading_collapsed": true
   },
   "source": [
    "## 季节性，先k-mean，后RF"
   ]
  },
  {
   "cell_type": "markdown",
   "metadata": {
    "hidden": true
   },
   "source": [
    "### 先筛选可能只有一类样本的情况"
   ]
  },
  {
   "cell_type": "code",
   "execution_count": null,
   "metadata": {
    "ExecuteTime": {
     "end_time": "2021-10-21T11:57:34.495136Z",
     "start_time": "2021-10-21T11:57:34.481883Z"
    },
    "hidden": true
   },
   "outputs": [],
   "source": [
    "def filter_image(image):\n",
    "    samples = image.updateMask(seasonWaterExtent_min).sample(**{\n",
    "        'region': roi,\n",
    "        'scale': 30,\n",
    "        'numPixels': training,\n",
    "        'seed': 0,\n",
    "        'geometries': True,\n",
    "        'tileScale': 2,\n",
    "    })\n",
    "    label = 'waterclass'\n",
    "    bands = ['B2', 'B3', 'B4', 'B5', 'B6', 'B7','NDVI','NDWI','mNDWI','CWI','AWEI','EWI','EVI']\n",
    "    cluster_samples = ee.FeatureCollection('users/311605001111/daqing_new_noseason2020')\n",
    "    clusterer = ee.Clusterer.wekaXMeans(2,2).train(cluster_samples,bands)\n",
    "    q = ee.FeatureCollection(samples.cluster(clusterer))\n",
    "    q1 = q.filter(ee.Filter.eq('cluster',1)).size()\n",
    "    q0 = q.filter(ee.Filter.eq('cluster',0)).size()\n",
    "    return image.setMulti({'wc':q1,'nwc':q0})"
   ]
  },
  {
   "cell_type": "code",
   "execution_count": null,
   "metadata": {
    "ExecuteTime": {
     "end_time": "2021-10-21T11:57:40.018665Z",
     "start_time": "2021-10-21T11:57:40.003580Z"
    },
    "hidden": true
   },
   "outputs": [],
   "source": [
    "training = 1000\n",
    "collect = 500\n",
    "def season(image):\n",
    "    samples = image.updateMask(seasonWaterExtent_min).sample(**{\n",
    "        'region': roi,\n",
    "        'scale': 30,\n",
    "        'numPixels': training,\n",
    "        'seed': 0,\n",
    "        'geometries': True,\n",
    "        'tileScale': 2,\n",
    "    })\n",
    "    label = 'waterclass'\n",
    "    bands = ['B2', 'B3', 'B4', 'B5', 'B6', 'B7','NDVI','NDWI','mNDWI','CWI','AWEI','EWI','EVI']\n",
    "    cluster_samples = ee.FeatureCollection('users/311605001111/daqing_new_noseason2020')\n",
    "    clusterer = ee.Clusterer.wekaXMeans(2,2).train(cluster_samples,bands)\n",
    "    q = ee.FeatureCollection(samples.cluster(clusterer))\n",
    "    q1 = q.filter(ee.Filter.eq('cluster',1))\n",
    "    q0 = q.filter(ee.Filter.eq('cluster',0))\n",
    "    qq1 = ee.Algorithms.If(q1.aggregate_mean('AWEI').gt(0),q1.map(lambda i:i.set({'waterclass':1})),q1.map(lambda i:i.set({'waterclass':0})))\n",
    "    qq0 = ee.Algorithms.If(q0.aggregate_mean('AWEI').gt(0),q0.map(lambda i:i.set({'waterclass':1})),q0.map(lambda i:i.set({'waterclass':0})))\n",
    "    cluster_result = ee.FeatureCollection([qq1,qq0]).flatten()\n",
    "    trainedClassifier = ee.Classifier.smileRandomForest(20).train(cluster_result,label,bands)\n",
    "    classify_image = image.updateMask(seasonWaterExtent_max).select(bands).classify(trainedClassifier).eq(1).rename('waterclass')   \n",
    "    seasonWater = image.updateMask(classify_image).sample(**{\n",
    "        'region': roi,\n",
    "        'scale': 30,\n",
    "        'numPixels': collect,\n",
    "        'seed': 0,\n",
    "        'geometries': True,\n",
    "        'tileScale': 2,\n",
    "    })\n",
    "    sw = seasonWater.map(lambda i : i.setMulti({'waterclass':1,'Image_id':image.get('system:id')}))\n",
    "    seasonLand = image.updateMask(classify_image.remap([0,1],[1,0])).sample(**{\n",
    "        'region': roi,\n",
    "        'scale': 30,\n",
    "        'numPixels': collect,\n",
    "        'seed': 0,\n",
    "        'geometries': True,\n",
    "        'tileScale': 2,\n",
    "    })\n",
    "    sl = seasonLand.map(lambda i : i.setMulti({'waterclass':0,'Image_id':image.get('system:id')}))\n",
    "    sample_points = ee.FeatureCollection([sw,sl]).flatten()\n",
    "    return sample_points"
   ]
  },
  {
   "cell_type": "markdown",
   "metadata": {
    "heading_collapsed": true
   },
   "source": [
    "## 季节性，k-mean"
   ]
  },
  {
   "cell_type": "code",
   "execution_count": null,
   "metadata": {
    "ExecuteTime": {
     "end_time": "2021-12-04T08:06:59.169486Z",
     "start_time": "2021-12-04T08:06:59.160509Z"
    },
    "hidden": true
   },
   "outputs": [],
   "source": [
    "training = 500\n",
    "# collect = 500"
   ]
  },
  {
   "cell_type": "code",
   "execution_count": null,
   "metadata": {
    "ExecuteTime": {
     "end_time": "2021-12-04T08:07:07.569877Z",
     "start_time": "2021-12-04T08:07:07.555915Z"
    },
    "hidden": true
   },
   "outputs": [],
   "source": [
    "def filter_image(image):\n",
    "    samples = image.updateMask(seasonWaterExtent_min).sample(**{\n",
    "        'region': roi,\n",
    "        'scale': 30,\n",
    "        'numPixels': training,\n",
    "        'seed': 0,\n",
    "        'geometries': True,\n",
    "        'tileScale': 2,\n",
    "    })\n",
    "    label = 'waterclass'\n",
    "    bands = ['B2', 'B3', 'B4', 'B5', 'B6', 'B7','NDVI','NDWI','mNDWI','CWI','AWEI','EWI','EVI']\n",
    "    cluster_samples = ee.FeatureCollection('users/311605001111/tibet_kmean100_noseason_sample2016')\n",
    "    clusterer = ee.Clusterer.wekaKMeans(2).train(cluster_samples,bands)\n",
    "    q = ee.FeatureCollection(samples.cluster(clusterer))\n",
    "    q1 = q.filter(ee.Filter.eq('cluster',1)).size()\n",
    "    q0 = q.filter(ee.Filter.eq('cluster',0)).size()\n",
    "    return image.setMulti({'wc':q1,'nwc':q0})"
   ]
  },
  {
   "cell_type": "code",
   "execution_count": null,
   "metadata": {
    "ExecuteTime": {
     "end_time": "2021-11-30T14:35:07.223095Z",
     "start_time": "2021-11-30T14:35:07.209102Z"
    },
    "hidden": true
   },
   "outputs": [],
   "source": [
    "# def season(image):\n",
    "#     samples = image.updateMask(seasonWaterExtent_min).sample(**{\n",
    "#         'region': roi,\n",
    "#         'scale': 30,\n",
    "#         'numPixels': training,\n",
    "#         'seed': 0,\n",
    "#         'geometries': True,\n",
    "#         'tileScale': 2,\n",
    "#     })\n",
    "#     season_points = samples.map(lambda i : i.setMulti({'point_type':'season_water','Image_id':image.get('system:id')}))\n",
    "#     label = 'waterclass'\n",
    "#     bands = ['B2', 'B3', 'B4', 'B5', 'B6', 'B7','NDVI','NDWI','mNDWI','CWI','AWEI','EWI','EVI']\n",
    "#     cluster_samples = ee.FeatureCollection('users/311605001111/tianjin_kmean100_noseason_sample2020')\n",
    "#     clusterer = ee.Clusterer.wekaKMeans(2).train(cluster_samples,bands)\n",
    "#     q = ee.FeatureCollection(season_points.cluster(clusterer))\n",
    "#     q1 = q.filter(ee.Filter.eq('cluster',1))\n",
    "#     q0 = q.filter(ee.Filter.eq('cluster',0))\n",
    "#     qq1 = ee.Algorithms.If(q1.aggregate_mean('AWEI').gt(0),q1.map(lambda i:i.set({'waterclass':1})),q1.map(lambda i:i.set({'waterclass':0})))\n",
    "#     qq0 = ee.Algorithms.If(q0.aggregate_mean('AWEI').gt(0),q0.map(lambda i:i.set({'waterclass':1})),q0.map(lambda i:i.set({'waterclass':0})))\n",
    "#     cluster_result = ee.FeatureCollection([qq1,qq0]).flatten()\n",
    "#     return cluster_result"
   ]
  },
  {
   "cell_type": "code",
   "execution_count": null,
   "metadata": {
    "ExecuteTime": {
     "end_time": "2021-12-01T06:28:40.441601Z",
     "start_time": "2021-12-01T06:28:40.433622Z"
    },
    "hidden": true
   },
   "outputs": [],
   "source": [
    "def season(image):\n",
    "    samples = image.updateMask(seasonWaterExtent_min).sample(**{\n",
    "        'region': roi,\n",
    "        'scale': 30,\n",
    "        'numPixels': training,\n",
    "        'seed': 0,\n",
    "        'geometries': True,\n",
    "        'tileScale': 2,\n",
    "    })\n",
    "    season_points = samples.map(lambda i : i.setMulti({'point_type':'season_water','Image_id':image.get('system:id')}))\n",
    "    label = 'waterclass'\n",
    "    bands = ['B2', 'B3', 'B4', 'B5', 'B6', 'B7','NDVI','NDWI','mNDWI','CWI','AWEI','EWI','EVI']\n",
    "    cluster_samples = ee.FeatureCollection('users/311605001111/tibet_kmean100_noseason_sample2016')\n",
    "    clusterer = ee.Clusterer.wekaKMeans(2).train(cluster_samples,bands)\n",
    "    q = ee.FeatureCollection(season_points.cluster(clusterer))\n",
    "    q1 = q.filter(ee.Filter.eq('cluster',1))\n",
    "    q0 = q.filter(ee.Filter.eq('cluster',0))\n",
    "    b1 = ee.FeatureCollection(q1).filter(ee.Filter.lt('AWEI',0)).size()\n",
    "    b2 = ee.FeatureCollection(q1).filter(ee.Filter.gt('AWEI',0)).size()\n",
    "    c1 = ee.FeatureCollection(q0).filter(ee.Filter.lt('AWEI',0)).size()\n",
    "    c2 = ee.FeatureCollection(q0).filter(ee.Filter.gt('AWEI',0)).size()\n",
    "    qq1 = ee.Algorithms.If(ee.Number(b1).lt(ee.Number(b2)),q1.map(lambda i:i.set({'waterclass':1})),q1.map(lambda i:i.set({'waterclass':0})))\n",
    "    qq0 = ee.Algorithms.If(ee.Number(c1).lt(ee.Number(c2)),q0.map(lambda i:i.set({'waterclass':1})),q0.map(lambda i:i.set({'waterclass':0})))\n",
    "    cluster_result = ee.FeatureCollection([qq1,qq0]).flatten()\n",
    "    return cluster_result\n"
   ]
  },
  {
   "cell_type": "markdown",
   "metadata": {},
   "source": [
    "## 季节性，随机选点"
   ]
  },
  {
   "cell_type": "code",
   "execution_count": 11,
   "metadata": {
    "ExecuteTime": {
     "end_time": "2021-12-04T11:11:02.673302Z",
     "start_time": "2021-12-04T11:11:02.659339Z"
    }
   },
   "outputs": [],
   "source": [
    "## 设置采样个数\n",
    "training = 1500\n",
    "\n",
    "def season(image):\n",
    "    season_points = image.updateMask(seasonWaterExtent_min).sample(**{\n",
    "        'region': roi,\n",
    "        'scale': 30,\n",
    "        'numPixels': training,\n",
    "        'seed': 0,\n",
    "        'geometries': True,\n",
    "        'tileScale': 2,\n",
    "    })\n",
    "    water_points = season_points.map(lambda i : i.setMulti({'point_type':'season','Image_id':image.get('system:id')}))\n",
    "    return water_points"
   ]
  },
  {
   "cell_type": "markdown",
   "metadata": {
    "heading_collapsed": true
   },
   "source": [
    "# 抽样"
   ]
  },
  {
   "cell_type": "code",
   "execution_count": null,
   "metadata": {
    "ExecuteTime": {
     "end_time": "2021-11-30T13:10:59.489234Z",
     "start_time": "2021-11-30T13:10:59.459316Z"
    },
    "hidden": true
   },
   "outputs": [],
   "source": [
    "## 永久性水体样本和非水体样本，抽样\n",
    "pw_nw = sample_image.map(imageSample).flatten()\n",
    "permanent_water = pw_nw.filter(ee.Filter.eq('waterclass',1)).randomColumn('random',1,'uniform').filter(ee.Filter.lt('random',0.2))\n",
    "no_water = pw_nw.filter(ee.Filter.eq('waterclass',0)).randomColumn('random',1,'uniform').filter(ee.Filter.lt('random',0.2))\n",
    "\n",
    "## 季节性样本，抽样\n",
    "sw = sample_image.map(season).flatten().randomColumn('random',1,'uniform').filter(ee.Filter.lt('random',0.4))\n",
    "\n",
    "## 季节性样本，分类\n",
    "bands = ['B2', 'B3', 'B4', 'B5', 'B6', 'B7','NDVI','NDWI','mNDWI','CWI','AWEI','EWI','EVI']\n",
    "cluster_samples = ee.FeatureCollection([permanent_water,no_water]).flatten()\n",
    "clusterer = ee.Clusterer.wekaKMeans(2).train(cluster_samples,bands)\n",
    "q = ee.FeatureCollection(sw.cluster(clusterer))\n",
    "q1 = q.filter(ee.Filter.eq('cluster',1))\n",
    "q0 = q.filter(ee.Filter.eq('cluster',0))\n",
    "b1 = ee.FeatureCollection(q1).filter(ee.Filter.lt('AWEI',0)).size()\n",
    "b2 = ee.FeatureCollection(q1).filter(ee.Filter.gt('AWEI',0)).size()\n",
    "c1 = ee.FeatureCollection(q0).filter(ee.Filter.lt('AWEI',0)).size()\n",
    "c2 = ee.FeatureCollection(q0).filter(ee.Filter.gt('AWEI',0)).size()\n",
    "qq1 = ee.Algorithms.If(ee.Number(b1).lt(ee.Number(b2)),q1.map(lambda i:i.set({'waterclass':1})),q1.map(lambda i:i.set({'waterclass':0})))\n",
    "qq0 = ee.Algorithms.If(ee.Number(c1).lt(ee.Number(c2)),q0.map(lambda i:i.set({'waterclass':1})),q0.map(lambda i:i.set({'waterclass':0})))\n",
    "seasonWater = ee.FeatureCollection([qq1,qq0]).flatten()\n",
    "\n",
    "## 合并\n",
    "total_Samples = ee.FeatureCollection([permanent_water,no_water,seasonWater]).flatten()\n",
    "\n",
    "## 异常值去除\n",
    "bands = ['B2', 'B3', 'B4', 'B5', 'B6', 'B7','NDVI','NDWI','mNDWI','CWI','AWEI','EWI','EVI']\n",
    "#### cluster与waterclass的对比\n",
    "def Compare(feature):\n",
    "    cluster = ee.Number(feature.get('cluster'))\n",
    "    waterclass = ee.Number(feature.get('waterclass'))\n",
    "    ft = ee.Algorithms.If(cluster.eq(waterclass),feature.set({'eq':1}),feature.set({'eq':0}))\n",
    "    return ft\n",
    "#### k-mean聚类\n",
    "def k_mean(sampleSET):\n",
    "    clusterer = ee.Clusterer.wekaKMeans(2).train(sampleSET,bands)\n",
    "    result = sampleSET.cluster(clusterer)\n",
    "    right = result.map(Compare).filter(ee.Filter.eq('eq',0))\n",
    "    error = result.map(Compare).filter(ee.Filter.eq('eq',1))\n",
    "    filtered_sample = ee.FeatureCollection(ee.Algorithms.If(right.size().gt(error.size()),right,error))\n",
    "    return filtered_sample\n",
    "\n",
    "filtered_samples = k_mean(total_Samples)"
   ]
  },
  {
   "cell_type": "code",
   "execution_count": null,
   "metadata": {
    "ExecuteTime": {
     "end_time": "2021-11-30T13:11:13.973927Z",
     "start_time": "2021-11-30T13:11:12.907694Z"
    },
    "hidden": true
   },
   "outputs": [],
   "source": [
    "# 总的样本点数\n",
    "points_collection = k_mean(total_Samples)\n",
    "dataset_id = region + '_sample_' + year\n",
    "assetID = 'users/311605001111/' + dataset_id\n",
    "task = ee.batch.Export.table.toAsset(**{\n",
    "    'collection': points_collection,\n",
    "    'description': dataset_id,\n",
    "    'assetId': assetID\n",
    "})\n",
    "task.start()"
   ]
  },
  {
   "cell_type": "code",
   "execution_count": null,
   "metadata": {
    "hidden": true
   },
   "outputs": [],
   "source": []
  },
  {
   "cell_type": "code",
   "execution_count": null,
   "metadata": {
    "hidden": true
   },
   "outputs": [],
   "source": []
  },
  {
   "cell_type": "markdown",
   "metadata": {},
   "source": [
    "# 基于影像，进行样本采集"
   ]
  },
  {
   "cell_type": "code",
   "execution_count": 12,
   "metadata": {
    "ExecuteTime": {
     "end_time": "2021-12-04T11:11:11.825544Z",
     "start_time": "2021-12-04T11:11:11.078269Z"
    }
   },
   "outputs": [],
   "source": [
    "## 永久性水体样本和非水体样本，抽样\n",
    "# pw_nw = sample_image.map(imageSample).flatten()\n",
    "# permanent_water = pw_nw.filter(ee.Filter.eq('waterclass',1)).randomColumn('random',1,'uniform').filter(ee.Filter.lt('random',0.2))\n",
    "# no_water = pw_nw.filter(ee.Filter.eq('waterclass',0)).randomColumn('random',1,'uniform').filter(ee.Filter.lt('random',0.2))\n",
    "# points_collection = ee.FeatureCollection([permanent_water,no_water]).flatten()\n",
    "# 总的样本点数\n",
    "points_collection = sample_image.map(imageSample).flatten()\n",
    "dataset_id = region + '_kmean100_noseason_v2' + year\n",
    "assetID = 'users/311605001111/' + dataset_id\n",
    "task = ee.batch.Export.table.toAsset(**{\n",
    "    'collection': points_collection,\n",
    "    'description': dataset_id,\n",
    "    'assetId': assetID\n",
    "})\n",
    "task.start()"
   ]
  },
  {
   "cell_type": "code",
   "execution_count": 13,
   "metadata": {
    "ExecuteTime": {
     "end_time": "2021-12-04T11:11:25.150022Z",
     "start_time": "2021-12-04T11:11:24.399034Z"
    }
   },
   "outputs": [],
   "source": [
    "# 随机采样，并输出\n",
    "# q3 = sample_image.map(season,True).flatten()\n",
    "# label = 'waterclass'\n",
    "# bands = ['B2', 'B3', 'B4', 'B5', 'B6', 'B7','NDVI','NDWI','mNDWI','CWI','AWEI','EWI','EVI']\n",
    "# cluster_samples = ee.FeatureCollection('users/311605001111/wuhan_kmean85_noseason2020')\n",
    "# clusterer = ee.Clusterer.wekaKMeans(2).train(cluster_samples,bands)\n",
    "# q = ee.FeatureCollection(q3.cluster(clusterer))\n",
    "# q1 = q.filter(ee.Filter.eq('cluster',1))\n",
    "# q0 = q.filter(ee.Filter.eq('cluster',0))\n",
    "# qq1 = ee.Algorithms.If(q1.aggregate_mean('AWEI').gt(0),q1.map(lambda i:i.set({'waterclass':1})),q1.map(lambda i:i.set({'waterclass':0})))\n",
    "# qq0 = ee.Algorithms.If(q0.aggregate_mean('AWEI').gt(0),q0.map(lambda i:i.set({'waterclass':1})),q0.map(lambda i:i.set({'waterclass':0})))\n",
    "# points_collection = ee.FeatureCollection([qq1,qq0]).flatten()\n",
    "\n",
    "points_collection = sample_image.map(season).flatten()\n",
    "dataset_id = region + '_kmean100_season_v2' + year\n",
    "assetID = 'users/311605001111/' + dataset_id\n",
    "task = ee.batch.Export.table.toAsset(**{\n",
    "    'collection': points_collection,\n",
    "    'description': dataset_id,\n",
    "    'assetId': assetID\n",
    "})\n",
    "task.start()"
   ]
  },
  {
   "cell_type": "code",
   "execution_count": null,
   "metadata": {
    "ExecuteTime": {
     "end_time": "2021-12-01T06:28:57.107326Z",
     "start_time": "2021-12-01T06:28:56.108672Z"
    }
   },
   "outputs": [],
   "source": [
    "# points_collection = sample_image.map(imageSample).flatten()\n",
    "points_collection = sample_image.map(filter_image).filter(ee.Filter.gt('wc',0)).filter(ee.Filter.gt('nwc',0)).map(season).flatten()\n",
    "\n",
    "dataset_id = region + '_kmean100_season_sample' + year\n",
    "assetID = 'users/311605001111/' + dataset_id\n",
    "task = ee.batch.Export.table.toAsset(**{\n",
    "    'collection': points_collection,\n",
    "    'description': dataset_id,\n",
    "    'assetId': assetID\n",
    "})\n",
    "task.start()"
   ]
  },
  {
   "cell_type": "code",
   "execution_count": null,
   "metadata": {},
   "outputs": [],
   "source": []
  },
  {
   "cell_type": "code",
   "execution_count": null,
   "metadata": {},
   "outputs": [],
   "source": []
  },
  {
   "cell_type": "code",
   "execution_count": null,
   "metadata": {},
   "outputs": [],
   "source": []
  },
  {
   "cell_type": "code",
   "execution_count": null,
   "metadata": {},
   "outputs": [],
   "source": []
  },
  {
   "cell_type": "code",
   "execution_count": null,
   "metadata": {
    "ExecuteTime": {
     "end_time": "2021-08-25T06:07:58.576746Z",
     "start_time": "2021-08-25T06:07:56.965673Z"
    }
   },
   "outputs": [],
   "source": [
    "folder = 'wuhan'\n",
    "label = 'wuhan_new' + year + '_l78_awei0'\n",
    "# label = 'tianjin_' + 'new2020_l78'\n",
    "# csv格式\n",
    "selector = ['Image_id','B2', 'B3', 'B4', 'B5', 'B6', 'B7','NDVI','NDWI','mNDWI','CWI','AWEI','EWI','EVI','waterclass']\n",
    "geemap.ee_export_vector_to_drive(points_collection, description=label, folder=folder, file_format='csv', selectors=selector)\n",
    "\n",
    "# shp格式\n",
    "selector = ['Image_id','B2', 'B3', 'B4', 'B5', 'B6', 'B7','NDVI','NDWI','mNDWI','CWI','AWEI','EWI','EVI','waterclass']\n",
    "geemap.ee_export_vector_to_drive(points_collection, description=label, folder=folder, file_format='shp', selectors=selector)"
   ]
  },
  {
   "cell_type": "code",
   "execution_count": null,
   "metadata": {},
   "outputs": [],
   "source": []
  },
  {
   "cell_type": "code",
   "execution_count": null,
   "metadata": {},
   "outputs": [],
   "source": []
  },
  {
   "cell_type": "code",
   "execution_count": null,
   "metadata": {
    "ExecuteTime": {
     "end_time": "2021-10-21T11:37:08.384128Z",
     "start_time": "2021-10-21T11:37:07.818528Z"
    }
   },
   "outputs": [],
   "source": [
    "image = maskSR(water_index(ee.Image('LANDSAT/LC08/C01/T1_SR/LC08_119028_20200316'))).clip(roi)\n",
    "visParams = {'bands': ['B5', 'B4', 'B3'],'min': 0,'max': 3000,'gamma': 1.4}\n",
    "Map.addLayer(image.clip(roi), visParams,'image')"
   ]
  },
  {
   "cell_type": "code",
   "execution_count": null,
   "metadata": {
    "ExecuteTime": {
     "end_time": "2021-10-21T11:37:35.766271Z",
     "start_time": "2021-10-21T11:37:35.746361Z"
    }
   },
   "outputs": [],
   "source": [
    "#### 设置年份\n",
    "JRC_id = 'JRC/GSW1_3/YearlyHistory/' + year\n",
    "Maryland_id = 'users/311605001111/Maryland/Maryland_nationwide_' + year\n",
    "basemap = ee.Image.constant(0).clip(roi).rename('waterclass')\n",
    "# JRC\n",
    "JRC = ee.Image(JRC_id).clip(roi).remap([0,1,2,3],[0,0,1,2]).rename('waterclass')\n",
    "JRC_waterclass = ee.ImageCollection([JRC,basemap]).sum()\n",
    "# Maryland\n",
    "Maryland = ee.Image(Maryland_id).clip(roi).select('b1').rename('waterclass')\n",
    "Maryland_permanent = Maryland.select('waterclass').gte(75).remap([0,1],[0,2]).rename('waterclass')\n",
    "Maryland_season= ee.ImageCollection([Maryland.gte(25),Maryland.lt(75)]).sum().eq(2)\n",
    "Maryland_waterclass = ee.ImageCollection([Maryland_permanent,Maryland_season,basemap]).sum()\n",
    "# 三者的交集\n",
    "permanentWaterExtent = ee.ImageCollection([JRC_waterclass.eq(2),Maryland_waterclass.eq(2)]).sum().eq(2)\n",
    "landExtent = ee.ImageCollection([JRC_waterclass.eq(0),Maryland_waterclass.eq(0)]).sum().eq(2)\n",
    "seasonWaterExtent_min = ee.ImageCollection([JRC_waterclass.eq(1),Maryland_waterclass.eq(1)]).sum().eq(2)\n",
    "seasonWaterExtent_max = ee.ImageCollection([permanentWaterExtent,landExtent]).sum().remap([0,1],[1,0]).rename('waterclass')"
   ]
  },
  {
   "cell_type": "code",
   "execution_count": null,
   "metadata": {},
   "outputs": [],
   "source": [
    "def filter_image(image):\n",
    "    samples = image.updateMask(seasonWaterExtent_min).sample(**{\n",
    "        'region': roi,\n",
    "        'scale': 30,\n",
    "        'numPixels': training,\n",
    "        'seed': 0,\n",
    "        'geometries': True,\n",
    "        'tileScale': 2,\n",
    "    })\n",
    "    label = 'waterclass'\n",
    "    bands = ['B2', 'B3', 'B4', 'B5', 'B6', 'B7','NDVI','NDWI','mNDWI','CWI','AWEI','EWI','EVI']\n",
    "    cluster_samples = ee.FeatureCollection('users/311605001111/daqing_new_noseason2020')\n",
    "    clusterer = ee.Clusterer.wekaXMeans(2,2).train(cluster_samples,bands)\n",
    "    q = ee.FeatureCollection(samples.cluster(clusterer))\n",
    "    q1 = q.filter(ee.Filter.eq('cluster',1)).size()\n",
    "    q0 = q.filter(ee.Filter.eq('cluster',0)).size()\n",
    "    return image.setMulti({'wc':q1,'nwc':q0})"
   ]
  },
  {
   "cell_type": "code",
   "execution_count": null,
   "metadata": {
    "ExecuteTime": {
     "end_time": "2021-10-21T11:38:49.394198Z",
     "start_time": "2021-10-21T11:38:46.019367Z"
    }
   },
   "outputs": [],
   "source": [
    "col_samples = image.updateMask(seasonWaterExtent_min).sample(**{\n",
    "    'region': roi,\n",
    "    'scale': 30,\n",
    "    'numPixels': 2000,\n",
    "    'seed': 0,\n",
    "    'geometries': True,\n",
    "    'tileScale': 2,\n",
    "})\n",
    "\n",
    "bands = ['B2', 'B3', 'B4', 'B5', 'B6', 'B7','NDVI','NDWI','mNDWI','CWI','AWEI','EWI','EVI']\n",
    "samples = ee.FeatureCollection('users/311605001111/daqing_new_noseason2020')\n",
    "clusterer = ee.Clusterer.wekaKMeans(2).train(samples,bands)\n",
    "q = ee.FeatureCollection(col_samples.cluster(clusterer))\n",
    "q1 = q.filter(ee.Filter.eq('cluster',1))\n",
    "q0 = q.filter(ee.Filter.eq('cluster',0))\n",
    "qq1 = ee.Algorithms.If(q1.aggregate_mean('AWEI').gt(0),q1.map(lambda i:i.set({'waterclass':1})),q1.map(lambda i:i.set({'waterclass':0})))\n",
    "qq2 = ee.Algorithms.If(q0.aggregate_mean('AWEI').gt(0),q0.map(lambda i:i.set({'waterclass':1})),q0.map(lambda i:i.set({'waterclass':0})))\n",
    "qq = ee.FeatureCollection([qq1,qq2]).flatten()\n",
    "print(q.size().getInfo())\n",
    "print(q.first().getInfo())\n",
    "print(q.aggregate_array('cluster').getInfo())\n",
    "print(q.aggregate_array('waterclass').getInfo())\n",
    "\n",
    "print(q1.aggregate_mean('AWEI').getInfo())\n",
    "print(q0.aggregate_mean('AWEI').getInfo())"
   ]
  },
  {
   "cell_type": "code",
   "execution_count": null,
   "metadata": {},
   "outputs": [],
   "source": [
    "id = ['LANDSAT/LE07/C01/T1_SR/LE07_122039_20150212', 'LANDSAT/LE07/C01/T1_SR/LE07_123039_20150307', 'LANDSAT/LE07/C01/T1_SR/LE07_123039_20150611', 'LANDSAT/LE07/C01/T1_SR/LE07_123039_20150713', 'LANDSAT/LE07/C01/T1_SR/LE07_123039_20150729', 'LANDSAT/LE07/C01/T1_SR/LE07_123039_20150830', 'LANDSAT/LE07/C01/T1_SR/LE07_123039_20150915', 'LANDSAT/LE07/C01/T1_SR/LE07_123039_20151017', 'LANDSAT/LE07/C01/T1_SR/LE07_123039_20151102']\n",
    "\n",
    "for i in id:\n",
    "    print(i)\n",
    "    image = maskSR(water_index(ee.Image(ee.String(i)).select(['B1', 'B2', 'B3', 'B4', 'B5', 'B7','pixel_qa'],['B2', 'B3', 'B4', 'B5', 'B6', 'B7','pixel_qa']))).clip(roi)\n",
    "    col_samples = image.updateMask(seasonWaterExtent_min).sample(**{\n",
    "        'region': roi,\n",
    "        'scale': 30,\n",
    "        'numPixels': 2000,\n",
    "        'seed': 0,\n",
    "        'geometries': True,\n",
    "        'tileScale': 2,\n",
    "    })\n",
    "    bands = ['B2', 'B3', 'B4', 'B5', 'B6', 'B7','NDVI','NDWI','mNDWI','CWI','AWEI','EWI','EVI']\n",
    "    samples = ee.FeatureCollection('users/311605001111/wuhan_new_noseason2020')\n",
    "    clusterer = ee.Clusterer.wekaKMeans(2).train(samples,bands)\n",
    "    q = ee.FeatureCollection(col_samples.cluster(clusterer))\n",
    "    q1 = q.filter(ee.Filter.eq('cluster',1))\n",
    "    q0 = q.filter(ee.Filter.eq('cluster',0))\n",
    "    print(q1.aggregate_mean('AWEI').getInfo())\n",
    "    print(q0.aggregate_mean('AWEI').getInfo())  "
   ]
  },
  {
   "cell_type": "code",
   "execution_count": null,
   "metadata": {},
   "outputs": [],
   "source": []
  }
 ],
 "metadata": {
  "hide_input": false,
  "kernelspec": {
   "display_name": "Python 3 (ipykernel)",
   "language": "python",
   "name": "python3"
  },
  "language_info": {
   "codemirror_mode": {
    "name": "ipython",
    "version": 3
   },
   "file_extension": ".py",
   "mimetype": "text/x-python",
   "name": "python",
   "nbconvert_exporter": "python",
   "pygments_lexer": "ipython3",
   "version": "3.8.12"
  },
  "toc": {
   "base_numbering": 1,
   "nav_menu": {
    "height": "172.997px",
    "width": "221.989px"
   },
   "number_sections": true,
   "sideBar": true,
   "skip_h1_title": false,
   "title_cell": "Table of Contents",
   "title_sidebar": "Contents",
   "toc_cell": false,
   "toc_position": {
    "height": "calc(100% - 180px)",
    "left": "10px",
    "top": "150px",
    "width": "349.091px"
   },
   "toc_section_display": true,
   "toc_window_display": false
  },
  "varInspector": {
   "cols": {
    "lenName": 16,
    "lenType": 16,
    "lenVar": 40
   },
   "kernels_config": {
    "python": {
     "delete_cmd_postfix": "",
     "delete_cmd_prefix": "del ",
     "library": "var_list.py",
     "varRefreshCmd": "print(var_dic_list())"
    },
    "r": {
     "delete_cmd_postfix": ") ",
     "delete_cmd_prefix": "rm(",
     "library": "var_list.r",
     "varRefreshCmd": "cat(var_dic_list()) "
    }
   },
   "types_to_exclude": [
    "module",
    "function",
    "builtin_function_or_method",
    "instance",
    "_Feature"
   ],
   "window_display": false
  }
 },
 "nbformat": 4,
 "nbformat_minor": 4
}
