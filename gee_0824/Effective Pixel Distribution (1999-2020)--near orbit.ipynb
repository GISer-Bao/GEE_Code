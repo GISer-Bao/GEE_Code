{
 "cells": [
  {
   "cell_type": "code",
   "execution_count": null,
   "id": "8d0e9a6c",
   "metadata": {
    "ExecuteTime": {
     "end_time": "2022-03-08T06:23:48.247218Z",
     "start_time": "2022-03-08T06:23:48.243229Z"
    }
   },
   "outputs": [],
   "source": [
    "import os\n",
    "os.environ['HTTP_PROXY'] = \"http://127.0.0.1:10809\"\n",
    "os.environ['HTTPS_PROXY'] = \"http://127.0.0.1:10809\""
   ]
  },
  {
   "cell_type": "code",
   "execution_count": null,
   "id": "478b0f3a",
   "metadata": {
    "ExecuteTime": {
     "end_time": "2022-03-08T06:23:53.478266Z",
     "start_time": "2022-03-08T06:23:48.731923Z"
    }
   },
   "outputs": [],
   "source": [
    "import geemap\n",
    "import ee\n",
    "Map = geemap.Map()\n",
    "Map"
   ]
  },
  {
   "cell_type": "markdown",
   "id": "a8a38055",
   "metadata": {},
   "source": [
    "# 有效像元分布，2000-2020"
   ]
  },
  {
   "cell_type": "markdown",
   "id": "7e4f3684",
   "metadata": {},
   "source": [
    "## 计算"
   ]
  },
  {
   "cell_type": "code",
   "execution_count": null,
   "id": "94221614",
   "metadata": {
    "ExecuteTime": {
     "end_time": "2022-03-08T06:24:31.636005Z",
     "start_time": "2022-03-08T06:24:30.962805Z"
    }
   },
   "outputs": [],
   "source": [
    "# 大庆市\n",
    "# roi = ee.Geometry.Rectangle([123.9355, 45.8362,125.3055, 46.8762])\n",
    "# 天津市\n",
    "# roi = ee.Geometry.Rectangle([115.9244, 38.6272,117.4944,39.6372])\n",
    "# 武汉市\n",
    "roi = ee.Geometry.Rectangle([113.7393, 29.8642,115.0993, 30.9242])\n",
    "# 珠三角\n",
    "# roi = ee.Geometry.Rectangle([112.7614, 22.2347,114.0514, 23.2547])\n",
    "# 青藏高原\n",
    "# roi = ee.Geometry.Rectangle([89.8826, 34.6579,91.3626, 35.8279])\n",
    "Map.addLayer(roi, {}, \"roi\")\n",
    "Map.centerObject(roi,7)"
   ]
  },
  {
   "cell_type": "code",
   "execution_count": null,
   "id": "6b358c3f",
   "metadata": {
    "ExecuteTime": {
     "end_time": "2022-03-08T06:24:32.700161Z",
     "start_time": "2022-03-08T06:24:32.687196Z"
    }
   },
   "outputs": [],
   "source": [
    "region = 'wuhan'\n",
    "elevation = ee.Image(\"users/311605001111/hillshade_\" + region)\n",
    "def maskSR(img):\n",
    "    cloudShadowBitMask = (1 << 3)\n",
    "    cloudsBitMask = (1 << 5)\n",
    "    snowBitMask = (1 << 4)   \n",
    "    qa = img.select('pixel_qa')\n",
    "    mask = qa.bitwiseAnd(cloudShadowBitMask).eq(0) \\\n",
    "                   .And(qa.bitwiseAnd(cloudsBitMask).eq(0)) \\\n",
    "                   .And(qa.bitwiseAnd(snowBitMask).eq(0))\n",
    "    azimuth = img.get('SOLAR_AZIMUTH_ANGLE')\n",
    "    zenith = img.get('SOLAR_ZENITH_ANGLE')\n",
    "    image = img.lt(0)\n",
    "    bands = image.select('B2').add(image.select('B3')).add(image.select('B4')).add(image.select('B5')).add(image.select('B6')).add(image.select('B7'))\n",
    "    outlier = bands.gt(0).remap([0,1],[1,0]).rename('outlier')\n",
    "    return img.updateMask(mask).updateMask(ee.Terrain.hillShadow(elevation,azimuth,zenith,200,True)).updateMask(outlier)"
   ]
  },
  {
   "cell_type": "code",
   "execution_count": null,
   "id": "733c8251",
   "metadata": {
    "ExecuteTime": {
     "end_time": "2022-03-08T06:24:33.728413Z",
     "start_time": "2022-03-08T06:24:33.720435Z"
    }
   },
   "outputs": [],
   "source": [
    "def near_orbit(imgCol):\n",
    "    imgCol_date = imgCol.map(lambda i:i.set({'date': ee.String(i.get('system:id')).slice(-8,)}))\n",
    "    dates = ee.List(imgCol_date.distinct('date').aggregate_array('date'))\n",
    "    imgCol_median = ee.ImageCollection(dates.map(lambda i:imgCol_date.filter(ee.Filter.eq('date',i)).median().copyProperties(imgCol_date.filter(ee.Filter.eq('date',i)).first())))\n",
    "    return imgCol_median"
   ]
  },
  {
   "cell_type": "code",
   "execution_count": null,
   "id": "4457a4a1",
   "metadata": {
    "ExecuteTime": {
     "end_time": "2022-03-08T06:24:37.194151Z",
     "start_time": "2022-03-08T06:24:35.850741Z"
    }
   },
   "outputs": [],
   "source": [
    "l8 = ee.ImageCollection('LANDSAT/LC08/C01/T1_SR') \\\n",
    "       .select(['B2', 'B3', 'B4', 'B5', 'B6', 'B7','pixel_qa']) \\\n",
    "       .filterBounds(roi) \\\n",
    "       .filterDate('2013-01-01', '2020-12-31') \n",
    "l7 = ee.ImageCollection('LANDSAT/LE07/C01/T1_SR') \\\n",
    "       .select(['B1', 'B2', 'B3', 'B4', 'B5', 'B7','pixel_qa'],['B2', 'B3', 'B4', 'B5', 'B6', 'B7','pixel_qa']) \\\n",
    "       .filterBounds(roi) \\\n",
    "       .filterDate('1999-01-01', '2020-12-31')        \n",
    "l5 = ee.ImageCollection('LANDSAT/LT05/C01/T1_SR') \\\n",
    "       .select(['B1', 'B2', 'B3', 'B4', 'B5', 'B7','pixel_qa'],['B2', 'B3', 'B4', 'B5', 'B6', 'B7','pixel_qa']) \\\n",
    "       .filterBounds(roi) \\\n",
    "       .filterDate('1999-01-01', '2012-12-31')\n",
    "print(l8.size().getInfo())\n",
    "print(l7.size().getInfo())\n",
    "print(l5.size().getInfo())\n",
    "\n",
    "\n",
    "landsat_images =near_orbit(l8.map(maskSR)).merge(near_orbit(l7.map(maskSR))).merge(near_orbit(l5.map(maskSR)))\n",
    "validPixel = ee.ImageCollection(landsat_images).count().select('B3').clip(roi).rename('count')"
   ]
  },
  {
   "cell_type": "code",
   "execution_count": null,
   "id": "505ec887",
   "metadata": {
    "ExecuteTime": {
     "end_time": "2022-03-08T06:24:37.194151Z",
     "start_time": "2022-03-08T06:24:35.850741Z"
    }
   },
   "outputs": [],
   "source": [
    "task = ee.batch.Export.image.toAsset(**{\n",
    "    'image': validPixel,\n",
    "    'description': region,\n",
    "    'assetId': 'users/311605001111/validPixel_' + region,\n",
    "    'scale': 30,\n",
    "    'region': roi,\n",
    "    'maxPixels':1e13,\n",
    "})\n",
    "task.start()"
   ]
  },
  {
   "cell_type": "code",
   "execution_count": null,
   "id": "b29dd715",
   "metadata": {
    "ExecuteTime": {
     "end_time": "2022-03-08T06:24:37.194151Z",
     "start_time": "2022-03-08T06:24:35.850741Z"
    }
   },
   "outputs": [],
   "source": [
    "validPixel = ee.ImageCollection(landsat_images).count().select('B3').clip(roi).rename('count')\n",
    "Map.addLayer(validPixel, {'palette':['white','blue'],'min':0,'max':1000},'validPixel')"
   ]
  },
  {
   "cell_type": "markdown",
   "id": "93f94500",
   "metadata": {},
   "source": [
    "## 制图"
   ]
  },
  {
   "cell_type": "code",
   "execution_count": null,
   "id": "82716c29",
   "metadata": {
    "ExecuteTime": {
     "end_time": "2022-03-08T02:14:38.900530Z",
     "start_time": "2022-03-08T02:14:32.160563Z"
    }
   },
   "outputs": [],
   "source": [
    "## 大庆\n",
    "# validPixel = ee.Image('users/311605001111/validPixel_daqing' + 'v2')\n",
    "validPixel = ee.Image('users/311605001111/validPixel_daqing')\n",
    "roi = ee.Geometry.Rectangle([123.9355, 45.8362,125.3055, 46.8762])\n",
    "minmax = validPixel.reduceRegion(**{\n",
    "    'reducer': ee.Reducer.minMax(),\n",
    "    'geometry': roi,\n",
    "    'scale': 30,\n",
    "    'maxPixels': 1e14,\n",
    "})\n",
    "print(minmax.getInfo())\n",
    "\n",
    "# 有效像元\n",
    "from matplotlib import pyplot as plt\n",
    "import numpy as np\n",
    "import matplotlib\n",
    "from geemap import cartoee\n",
    "region = [123.9355, 45.8362,125.3055, 46.8762] \n",
    "fig = plt.figure(figsize=(10, 6))\n",
    "visParams = {'min': 0.0,'max': 1400}\n",
    "\n",
    "ax = cartoee.get_map(validPixel,cmap=\"rainbow\",region=region,vis_params=visParams)\n",
    "# cartoee.add_colorbar(ax,vis_params=visParams,cmap=\"rainbow\",loc=\"right\",label=\"number\",orientation=\"vertical\")\n",
    "cartoee.add_gridlines(ax, interval=[0.3,0.3], linestyle=\":\")\n",
    "ax.set_title(label = 'Region A', fontsize=18)"
   ]
  },
  {
   "cell_type": "code",
   "execution_count": null,
   "id": "ba27b281",
   "metadata": {
    "ExecuteTime": {
     "end_time": "2021-12-17T07:06:30.504902Z",
     "start_time": "2021-12-17T07:06:26.165599Z"
    }
   },
   "outputs": [],
   "source": [
    "## 天津\n",
    "validPixel = ee.Image('users/311605001111/validPixel_tianjin' + 'v2')\n",
    "roi = ee.Geometry.Rectangle([115.9244, 38.6272,117.4944,39.6372])\n",
    "minmax = validPixel.reduceRegion(**{\n",
    "    'reducer': ee.Reducer.minMax(),\n",
    "    'geometry': roi,\n",
    "    'scale': 30,\n",
    "    'maxPixels': 1e14,\n",
    "})\n",
    "print(minmax.getInfo())\n",
    "\n",
    "# 有效像元\n",
    "from matplotlib import pyplot as plt\n",
    "import numpy as np\n",
    "import matplotlib\n",
    "from geemap import cartoee\n",
    "region = [115.9244, 38.6272,117.4944,39.6372] \n",
    "fig = plt.figure(figsize=(10, 8))\n",
    "visParams = {'min': 0.0,'max': 1400}\n",
    "\n",
    "ax = cartoee.get_map(validPixel,cmap=\"rainbow\",region=region,vis_params=visParams)\n",
    "# cartoee.add_colorbar(ax,vis_params=visParams,cmap=\"rainbow\",loc=\"right\",label=\"number\",orientation=\"vertical\")\n",
    "cartoee.add_gridlines(ax, interval=[0.3,0.3], linestyle=\":\")\n",
    "ax.set_title(label = 'Region B', fontsize=18)"
   ]
  },
  {
   "cell_type": "code",
   "execution_count": null,
   "id": "b737901b",
   "metadata": {
    "ExecuteTime": {
     "end_time": "2021-12-17T07:06:35.627388Z",
     "start_time": "2021-12-17T07:06:30.584689Z"
    }
   },
   "outputs": [],
   "source": [
    "## 武汉\n",
    "validPixel = ee.Image('users/311605001111/validPixel_wuhan' + 'v2')\n",
    "roi = ee.Geometry.Rectangle([113.7393, 29.8642,115.0993, 30.9242])\n",
    "minmax = validPixel.reduceRegion(**{\n",
    "    'reducer': ee.Reducer.minMax(),\n",
    "    'geometry': roi,\n",
    "    'scale': 30,\n",
    "    'maxPixels': 1e14,\n",
    "})\n",
    "print(minmax.getInfo())\n",
    "\n",
    "# 有效像元\n",
    "from matplotlib import pyplot as plt\n",
    "import numpy as np\n",
    "import matplotlib\n",
    "from geemap import cartoee\n",
    "region = [113.7393, 29.8642,115.0993, 30.9242] \n",
    "fig = plt.figure(figsize=(10, 6))\n",
    "visParams = {'min': 0.0,'max': 1400}\n",
    "\n",
    "ax = cartoee.get_map(validPixel,cmap=\"rainbow\",region=region,vis_params=visParams)\n",
    "# cartoee.add_colorbar(ax,vis_params=visParams,cmap=\"rainbow\",loc=\"right\",label=\"number\",orientation=\"vertical\")\n",
    "cartoee.add_gridlines(ax, interval=[0.3,0.3], linestyle=\":\")\n",
    "ax.set_title(label = 'Region C', fontsize=18)"
   ]
  },
  {
   "cell_type": "code",
   "execution_count": null,
   "id": "77985132",
   "metadata": {
    "ExecuteTime": {
     "end_time": "2021-12-17T07:06:40.929198Z",
     "start_time": "2021-12-17T07:06:35.707145Z"
    }
   },
   "outputs": [],
   "source": [
    "## 珠三角\n",
    "validPixel = ee.Image('users/311605001111/validPixel_prd' + 'v2')\n",
    "roi = ee.Geometry.Rectangle([112.7614, 22.2347,114.0514, 23.2547])\n",
    "minmax = validPixel.reduceRegion(**{\n",
    "    'reducer': ee.Reducer.minMax(),\n",
    "    'geometry': roi,\n",
    "    'scale': 30,\n",
    "    'maxPixels': 1e14,\n",
    "})\n",
    "print(minmax.getInfo())\n",
    "\n",
    "# 有效像元\n",
    "from matplotlib import pyplot as plt\n",
    "import numpy as np\n",
    "import matplotlib\n",
    "from geemap import cartoee\n",
    "region = [112.7614, 22.2347,114.0514, 23.2547] \n",
    "fig = plt.figure(figsize=(10, 6))\n",
    "visParams = {'min': 0.0,'max': 1400}\n",
    "\n",
    "ax = cartoee.get_map(validPixel,cmap=\"rainbow\",region=region,vis_params=visParams)\n",
    "# cartoee.add_colorbar(ax,vis_params=visParams,cmap=\"rainbow\",loc=\"right\",label=\"number\",orientation=\"vertical\")\n",
    "cartoee.add_gridlines(ax, interval=[0.3,0.3], linestyle=\":\")\n",
    "ax.set_title(label = 'Region D', fontsize=18)"
   ]
  },
  {
   "cell_type": "code",
   "execution_count": null,
   "id": "371e7106",
   "metadata": {
    "ExecuteTime": {
     "end_time": "2021-12-17T07:07:50.810378Z",
     "start_time": "2021-12-17T07:07:43.231424Z"
    }
   },
   "outputs": [],
   "source": [
    "## 青藏高原\n",
    "validPixel = ee.Image('users/311605001111/validPixel_tibet' + 'v2')\n",
    "roi = ee.Geometry.Rectangle([89.8826, 34.6579,91.3626, 35.8279])\n",
    "minmax = validPixel.reduceRegion(**{\n",
    "    'reducer': ee.Reducer.minMax(),\n",
    "    'geometry': roi,\n",
    "    'scale': 30,\n",
    "    'maxPixels': 1e14,\n",
    "})\n",
    "print(minmax.getInfo())\n",
    "\n",
    "# 有效像元\n",
    "from matplotlib import pyplot as plt\n",
    "import numpy as np\n",
    "import matplotlib\n",
    "from geemap import cartoee\n",
    "region = [89.8826, 34.6579,91.3626, 35.8279] \n",
    "fig = plt.figure(figsize=(10, 6))\n",
    "visParams = {'min': 0.0,'max': 1400}\n",
    "\n",
    "ax = cartoee.get_map(validPixel,cmap=\"rainbow\",region=region,vis_params=visParams)\n",
    "cartoee.add_colorbar(ax,vis_params=visParams,cmap=\"rainbow\",loc=\"right\",label=\"number\",orientation=\"vertical\")\n",
    "cartoee.add_gridlines(ax, interval=[0.3,0.3], linestyle=\":\")\n",
    "ax.set_title(label = 'Region E', fontsize=18)"
   ]
  },
  {
   "cell_type": "code",
   "execution_count": null,
   "id": "6624cff7",
   "metadata": {},
   "outputs": [],
   "source": []
  },
  {
   "cell_type": "code",
   "execution_count": null,
   "id": "ff902bf6",
   "metadata": {},
   "outputs": [],
   "source": []
  }
 ],
 "metadata": {
  "hide_input": false,
  "kernelspec": {
   "display_name": "Python 3 (ipykernel)",
   "language": "python",
   "name": "python3"
  },
  "language_info": {
   "codemirror_mode": {
    "name": "ipython",
    "version": 3
   },
   "file_extension": ".py",
   "mimetype": "text/x-python",
   "name": "python",
   "nbconvert_exporter": "python",
   "pygments_lexer": "ipython3",
   "version": "3.8.12"
  },
  "toc": {
   "base_numbering": 1,
   "nav_menu": {},
   "number_sections": true,
   "sideBar": true,
   "skip_h1_title": false,
   "title_cell": "Table of Contents",
   "title_sidebar": "Contents",
   "toc_cell": false,
   "toc_position": {},
   "toc_section_display": true,
   "toc_window_display": true
  },
  "varInspector": {
   "cols": {
    "lenName": 16,
    "lenType": 16,
    "lenVar": 40
   },
   "kernels_config": {
    "python": {
     "delete_cmd_postfix": "",
     "delete_cmd_prefix": "del ",
     "library": "var_list.py",
     "varRefreshCmd": "print(var_dic_list())"
    },
    "r": {
     "delete_cmd_postfix": ") ",
     "delete_cmd_prefix": "rm(",
     "library": "var_list.r",
     "varRefreshCmd": "cat(var_dic_list()) "
    }
   },
   "types_to_exclude": [
    "module",
    "function",
    "builtin_function_or_method",
    "instance",
    "_Feature"
   ],
   "window_display": false
  }
 },
 "nbformat": 4,
 "nbformat_minor": 5
}
