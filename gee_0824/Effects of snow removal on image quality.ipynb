{
 "cells": [
  {
   "cell_type": "code",
   "execution_count": 1,
   "id": "8d0e9a6c",
   "metadata": {
    "ExecuteTime": {
     "end_time": "2021-10-15T07:42:02.682793Z",
     "start_time": "2021-10-15T07:42:02.676780Z"
    }
   },
   "outputs": [],
   "source": [
    "import os\n",
    "os.environ['HTTP_PROXY'] = \"http://127.0.0.1:10809\"\n",
    "os.environ['HTTPS_PROXY'] = \"http://127.0.0.1:10809\""
   ]
  },
  {
   "cell_type": "code",
   "execution_count": 2,
   "id": "478b0f3a",
   "metadata": {
    "ExecuteTime": {
     "end_time": "2021-10-15T07:42:08.561620Z",
     "start_time": "2021-10-15T07:42:03.509266Z"
    },
    "scrolled": false
   },
   "outputs": [
    {
     "data": {
      "application/vnd.jupyter.widget-view+json": {
       "model_id": "d23b543c18d34e63a01c19b3be99db7f",
       "version_major": 2,
       "version_minor": 0
      },
      "text/plain": [
       "Map(center=[40, -100], controls=(WidgetControl(options=['position', 'transparent_bg'], widget=HBox(children=(T…"
      ]
     },
     "metadata": {},
     "output_type": "display_data"
    }
   ],
   "source": [
    "import geemap\n",
    "import ee\n",
    "Map = geemap.Map()\n",
    "Map"
   ]
  },
  {
   "cell_type": "code",
   "execution_count": null,
   "id": "7fede4ff",
   "metadata": {
    "ExecuteTime": {
     "end_time": "2021-10-12T02:41:40.583609Z",
     "start_time": "2021-10-12T02:41:39.964883Z"
    }
   },
   "outputs": [],
   "source": [
    "# 大庆市\n",
    "# roi = ee.Geometry.Rectangle([123.9355, 45.8362,125.3055, 46.8762])\n",
    "# 天津市\n",
    "# roi = ee.Geometry.Rectangle([115.9244, 38.6272,117.4944,39.6372])\n",
    "# 武汉市\n",
    "# roi = ee.Geometry.Rectangle([113.7393, 29.8642,115.0993, 30.9242])\n",
    "# 珠三角\n",
    "# roi = ee.Geometry.Rectangle([112.7614, 22.2347,114.0514, 23.2547])\n",
    "# 青藏高原\n",
    "roi = ee.Geometry.Rectangle([89.8826, 34.6579,91.3626, 35.8279])\n",
    "Map.addLayer(roi, {}, \"roi\")\n",
    "Map.centerObject(roi,7)"
   ]
  },
  {
   "cell_type": "markdown",
   "id": "133eb427",
   "metadata": {},
   "source": [
    "# 验证"
   ]
  },
  {
   "cell_type": "code",
   "execution_count": null,
   "id": "45db080e",
   "metadata": {
    "ExecuteTime": {
     "end_time": "2021-10-12T02:41:40.722270Z",
     "start_time": "2021-10-12T02:41:40.707340Z"
    }
   },
   "outputs": [],
   "source": [
    "# 去云、云阴影\n",
    "def maskSR(image):\n",
    "    cloudShadowBitMask = (1 << 3)\n",
    "    cloudsBitMask = (1 << 5)  \n",
    "    qa = image.select('pixel_qa')\n",
    "    mask = qa.bitwiseAnd(cloudShadowBitMask).eq(0) \\\n",
    "             .And(qa.bitwiseAnd(cloudsBitMask).eq(0))\n",
    "    return image.updateMask(mask)\n",
    "\n",
    "# 去云、云阴影、积雪\n",
    "def maskSR2(image):\n",
    "    cloudShadowBitMask = (1 << 3)\n",
    "    cloudsBitMask = (1 << 5)\n",
    "    snowBitMask = (1 << 4)   \n",
    "    qa = image.select('pixel_qa')\n",
    "    mask = qa.bitwiseAnd(cloudShadowBitMask).eq(0) \\\n",
    "                   .And(qa.bitwiseAnd(cloudsBitMask).eq(0)) \\\n",
    "                   .And(qa.bitwiseAnd(snowBitMask).eq(0))\n",
    "    return image.updateMask(mask)\n",
    "# 图像可视化参数\n",
    "visParams = {'bands': ['B4', 'B3', 'B2'],'min': 0,'max': 3000,'gamma': 1.4}"
   ]
  },
  {
   "cell_type": "code",
   "execution_count": null,
   "id": "41c0ac2f",
   "metadata": {
    "ExecuteTime": {
     "end_time": "2021-10-12T02:41:40.722270Z",
     "start_time": "2021-10-12T02:41:40.707340Z"
    }
   },
   "outputs": [],
   "source": [
    "## 指数的计算\n",
    "def water_index(img):\n",
    "    image = img.clip(roi)\n",
    "    ndvi=image.normalizedDifference(['B5', 'B4']).rename('NDVI')\n",
    "    ndwi=image.normalizedDifference(['B3', 'B5']).rename(\"NDWI\")\n",
    "    mndwi=image.normalizedDifference(['B3', 'B6']).rename(\"mNDWI\")\n",
    "    ndvi_mndwi = ndvi.subtract(mndwi).rename('ndvi_mndwi')\n",
    "    cwi=image.select('B3').divide(image.select('B6')).rename(\"CWI\")\n",
    "    awei = image.expression('B2 + 2.5*B3 - 1.5*(B5+B6) - 0.25*B7',\n",
    "        {\n",
    "          'B2': image.select('B2'),\n",
    "          'B3': image.select('B3'),    \n",
    "          'B5': image.select('B5'),    \n",
    "          'B6': image.select('B6'),\n",
    "          'B7': image.select('B7'),\n",
    "        }).rename('AWEI')\n",
    "    ewi = image.expression('(B3 - B5 - B6)/(B3 + B5 + B6)',\n",
    "        {\n",
    "          'B3': image.select('B3'),    \n",
    "          'B5': image.select('B5'),    \n",
    "          'B6': image.select('B6'),\n",
    "        }).rename('EWI')\n",
    "    evi = image.expression('2.5*(B5 - B4)/(B5 + 6*B4 - 7.5*B2 + 1)',\n",
    "        {\n",
    "          'B2': image.select('B2'),\n",
    "          'B4': image.select('B4'),\n",
    "          'B5': image.select('B5'),    \n",
    "        }).rename('EVI')\n",
    "    return image.addBands(ndvi).addBands(ndwi).addBands(mndwi).addBands(cwi).addBands(awei).addBands(ewi).addBands(evi).addBands(ndvi_mndwi)"
   ]
  },
  {
   "cell_type": "code",
   "execution_count": null,
   "id": "b990d0ab",
   "metadata": {
    "ExecuteTime": {
     "end_time": "2021-10-12T02:41:45.681158Z",
     "start_time": "2021-10-12T02:41:40.909001Z"
    }
   },
   "outputs": [],
   "source": [
    "# # 加载样本集,PearlRiverDeltanew2020_l78,TibetPlateau_new2020_l78,daqing_new2020_l78,tianjin_new2020_l78,wuhan_new2020_l78\n",
    "samples = ee.FeatureCollection('users/311605001111/wuhan_tibetan/tibetan_2016')\n",
    "print(\"初始的样本数： \",samples.size().getInfo())\n",
    "\n",
    "bands = ['B2', 'B3', 'B4', 'B5', 'B6', 'B7','NDVI','NDWI','mNDWI','CWI','AWEI','EWI','EVI']\n",
    "# cluster与waterclass的对比\n",
    "def Compare(feature):\n",
    "    cluster = ee.Number(feature.get('cluster'))\n",
    "    waterclass = ee.Number(feature.get('waterclass'))\n",
    "    ft = ee.Algorithms.If(cluster.eq(waterclass),feature.set({'eq':1}),feature.set({'eq':0}))\n",
    "    return ft\n",
    "# k-mean聚类\n",
    "def k_mean(sampleSET):\n",
    "    clusterer = ee.Clusterer.wekaKMeans(2).train(sampleSET,bands)\n",
    "    result = sampleSET.cluster(clusterer)\n",
    "    right = result.map(Compare).filter(ee.Filter.eq('eq',0))\n",
    "    error = result.map(Compare).filter(ee.Filter.eq('eq',1))\n",
    "    filtered_sample = ee.FeatureCollection(ee.Algorithms.If(right.size().gt(error.size()),right,error))\n",
    "    return filtered_sample\n",
    "filtered_samples = k_mean(samples)\n",
    "print(\"筛选后，剩余的样本数： \",filtered_samples.size().getInfo())\n",
    "\n",
    "\n",
    "# RandomForest预测使用的波段，分类标签\n",
    "label = 'waterclass'\n",
    "bands = ['B2', 'B3', 'B4', 'B5', 'B6', 'B7','NDVI','NDWI','mNDWI','CWI','AWEI','EWI','EVI']\n",
    "trainedClassifier = ee.Classifier.smileRandomForest(20).train(filtered_samples,label,bands)"
   ]
  },
  {
   "cell_type": "code",
   "execution_count": null,
   "id": "8906998b",
   "metadata": {
    "ExecuteTime": {
     "end_time": "2021-10-12T02:42:00.348222Z",
     "start_time": "2021-10-12T02:41:59.473730Z"
    },
    "scrolled": true
   },
   "outputs": [],
   "source": [
    "# The reference image\n",
    "l8 = ee.ImageCollection('LANDSAT/LC08/C01/T1_SR') \\\n",
    "       .select(['B2', 'B3', 'B4', 'B5', 'B6', 'B7','pixel_qa']) \\\n",
    "       .filterBounds(roi) \\\n",
    "       .filterDate('2016-01-01', '2016-12-31') \\\n",
    "       .filter(ee.Filter.eq('WRS_PATH',139)) \\\n",
    "       .filter(ee.Filter.eq('WRS_ROW',36))\n",
    "print(l8.aggregate_array('system:id').getInfo())\n",
    "Map.addLayer(l8.map(maskSR).median().clip(roi), visParams,'image mosaic')"
   ]
  },
  {
   "cell_type": "code",
   "execution_count": null,
   "id": "c90957f7",
   "metadata": {},
   "outputs": [],
   "source": [
    "'LANDSAT/LC08/C01/T1_SR/LC08_139036_20200108', \n",
    "'LANDSAT/LC08/C01/T1_SR/LC08_139036_20200225', \n",
    "'LANDSAT/LC08/C01/T1_SR/LC08_139036_20200312', \n",
    "'LANDSAT/LC08/C01/T1_SR/LC08_139036_20200328', \n",
    "'LANDSAT/LC08/C01/T1_SR/LC08_139036_20200413', \n",
    "'LANDSAT/LC08/C01/T1_SR/LC08_139036_20200429', \n",
    "'LANDSAT/LC08/C01/T1_SR/LC08_139036_20200515', \n",
    "'LANDSAT/LC08/C01/T1_SR/LC08_139036_20200531', \n",
    "'LANDSAT/LC08/C01/T1_SR/LC08_139036_20200702', \n",
    "'LANDSAT/LC08/C01/T1_SR/LC08_139036_20200718', \n",
    "'LANDSAT/LC08/C01/T1_SR/LC08_139036_20200819', \n",
    "'LANDSAT/LC08/C01/T1_SR/LC08_139036_20200904', \n",
    "'LANDSAT/LC08/C01/T1_SR/LC08_139036_20200920', \n",
    "'LANDSAT/LC08/C01/T1_SR/LC08_139036_20201006', \n",
    "'LANDSAT/LC08/C01/T1_SR/LC08_139036_20201022', \n",
    "'LANDSAT/LC08/C01/T1_SR/LC08_139036_20201123', \n",
    "'LANDSAT/LC08/C01/T1_SR/LC08_139036_20201209', \n",
    "'LANDSAT/LC08/C01/T1_SR/LC08_139036_20201225'"
   ]
  },
  {
   "cell_type": "code",
   "execution_count": null,
   "id": "6887d289",
   "metadata": {
    "ExecuteTime": {
     "end_time": "2021-10-12T02:51:36.027247Z",
     "start_time": "2021-10-12T02:51:33.777458Z"
    }
   },
   "outputs": [],
   "source": [
    "# 影像的对比\n",
    "\n",
    "# visParams = {'bands': ['B5', 'B6', 'B4'],'min': 0,'max': 3000,'gamma': 1.4}\n",
    "visParams = {'bands': ['B4', 'B3', 'B2'],'min': 0,'max': 3000,'gamma': 1.4}\n",
    "\n",
    "image = ee.Image('LANDSAT/LC08/C01/T1_SR/LC08_139036_20160402').clip(roi)\n",
    "Map.addLayer(image, visParams,'image')\n",
    "\n",
    "image_mask = maskSR(image)\n",
    "Map.addLayer(image_mask, visParams,'image_snow')\n",
    "image_mask2 = maskSR2(image)\n",
    "Map.addLayer(image_mask2, visParams,'image_nosnow')"
   ]
  },
  {
   "cell_type": "code",
   "execution_count": null,
   "id": "06ba7234",
   "metadata": {
    "ExecuteTime": {
     "end_time": "2021-10-12T02:51:42.673181Z",
     "start_time": "2021-10-12T02:51:37.240690Z"
    }
   },
   "outputs": [],
   "source": [
    "# 分类结果的对比\n",
    "classify_image = water_index(image_mask).select(bands).classify(trainedClassifier).eq(1)\n",
    "Map.addLayer(classify_image,{'palette':['white','green'],'min':0,'max':1},\"classify_image\")\n",
    "\n",
    "classify_image2 = water_index(image_mask2).select(bands).classify(trainedClassifier).eq(1)\n",
    "Map.addLayer(classify_image2,{'palette':['white','green'],'min':0,'max':1},\"classify_image2\")"
   ]
  },
  {
   "cell_type": "code",
   "execution_count": null,
   "id": "807aa43c",
   "metadata": {
    "ExecuteTime": {
     "end_time": "2021-10-09T11:47:53.782311Z",
     "start_time": "2021-10-09T11:47:48.111150Z"
    },
    "scrolled": false
   },
   "outputs": [],
   "source": [
    "# 制图\n",
    "from matplotlib import pyplot as plt\n",
    "import numpy as np\n",
    "import matplotlib\n",
    "from geemap import cartoee\n",
    "region = [89.8826, 34.6579,91.3626, 35.7279]\n",
    "fig = plt.figure(figsize=(12, 8))\n",
    "image = ee.Image('LANDSAT/LC08/C01/T1_SR/LC08_139036_20201225').clip(roi)\n",
    "visParams = {'bands': ['B4', 'B3', 'B2'],'min': 0,'max': 3000,'gamma': 1.4}\n",
    "# use cartoee to get a map\n",
    "ax = cartoee.get_map(image, region=region,vis_params=visParams)\n",
    "# add gridlines to the map at a specified interval\n",
    "cartoee.add_gridlines(ax, interval=[0.3,0.2], linestyle=\":\")\n",
    "ax.set_title(label = 'DATE : 20201225', fontsize=28)"
   ]
  },
  {
   "cell_type": "code",
   "execution_count": null,
   "id": "0e6e65b2",
   "metadata": {},
   "outputs": [],
   "source": []
  },
  {
   "cell_type": "code",
   "execution_count": null,
   "id": "d1ad8a22",
   "metadata": {},
   "outputs": [],
   "source": []
  }
 ],
 "metadata": {
  "hide_input": false,
  "kernelspec": {
   "display_name": "Python 3 (ipykernel)",
   "language": "python",
   "name": "python3"
  },
  "language_info": {
   "codemirror_mode": {
    "name": "ipython",
    "version": 3
   },
   "file_extension": ".py",
   "mimetype": "text/x-python",
   "name": "python",
   "nbconvert_exporter": "python",
   "pygments_lexer": "ipython3",
   "version": "3.8.5"
  },
  "toc": {
   "base_numbering": 1,
   "nav_menu": {},
   "number_sections": true,
   "sideBar": true,
   "skip_h1_title": false,
   "title_cell": "Table of Contents",
   "title_sidebar": "Contents",
   "toc_cell": false,
   "toc_position": {},
   "toc_section_display": true,
   "toc_window_display": false
  },
  "varInspector": {
   "cols": {
    "lenName": 16,
    "lenType": 16,
    "lenVar": 40
   },
   "kernels_config": {
    "python": {
     "delete_cmd_postfix": "",
     "delete_cmd_prefix": "del ",
     "library": "var_list.py",
     "varRefreshCmd": "print(var_dic_list())"
    },
    "r": {
     "delete_cmd_postfix": ") ",
     "delete_cmd_prefix": "rm(",
     "library": "var_list.r",
     "varRefreshCmd": "cat(var_dic_list()) "
    }
   },
   "types_to_exclude": [
    "module",
    "function",
    "builtin_function_or_method",
    "instance",
    "_Feature"
   ],
   "window_display": false
  }
 },
 "nbformat": 4,
 "nbformat_minor": 5
}
