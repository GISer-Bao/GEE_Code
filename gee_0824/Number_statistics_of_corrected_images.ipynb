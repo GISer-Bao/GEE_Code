{
 "cells": [
  {
   "cell_type": "code",
   "execution_count": 1,
   "metadata": {
    "ExecuteTime": {
     "end_time": "2022-03-23T09:39:51.192589Z",
     "start_time": "2022-03-23T09:39:51.187631Z"
    }
   },
   "outputs": [],
   "source": [
    "import os\n",
    "os.environ['HTTP_PROXY'] = \"http://127.0.0.1:10809\"\n",
    "os.environ['HTTPS_PROXY'] = \"http://127.0.0.1:10809\""
   ]
  },
  {
   "cell_type": "code",
   "execution_count": 2,
   "metadata": {
    "ExecuteTime": {
     "end_time": "2022-03-23T09:39:56.285321Z",
     "start_time": "2022-03-23T09:39:51.497995Z"
    },
    "scrolled": false
   },
   "outputs": [
    {
     "data": {
      "application/vnd.jupyter.widget-view+json": {
       "model_id": "ef1e28b72b5a4b828d037ba4fdd6cee7",
       "version_major": 2,
       "version_minor": 0
      },
      "text/plain": [
       "Map(center=[20, 0], controls=(WidgetControl(options=['position', 'transparent_bg'], widget=HBox(children=(Togg…"
      ]
     },
     "metadata": {},
     "output_type": "display_data"
    }
   ],
   "source": [
    "import geemap\n",
    "import ee\n",
    "Map=geemap.Map()\n",
    "Map"
   ]
  },
  {
   "cell_type": "code",
   "execution_count": 3,
   "metadata": {
    "ExecuteTime": {
     "end_time": "2022-03-23T09:39:57.114126Z",
     "start_time": "2022-03-23T09:39:56.445268Z"
    }
   },
   "outputs": [],
   "source": [
    "# # 大庆市\n",
    "roi = ee.Geometry.Rectangle([123.9355, 45.8362,125.3055, 46.8762])\n",
    "# # 天津市\n",
    "# roi = ee.Geometry.Rectangle([115.9244, 38.6272,117.4944,39.6372])\n",
    "# # 武汉市\n",
    "# roi = ee.Geometry.Rectangle([113.7393, 29.8642,115.0993, 30.9242])\n",
    "# # 珠三角\n",
    "# roi = ee.Geometry.Rectangle([112.7614, 22.2347,114.0514, 23.2547])\n",
    "# 青藏高原\n",
    "# roi = ee.Geometry.Rectangle([89.8826, 34.6579,91.3626, 35.8279])\n",
    "Map.addLayer(roi, {}, \"roi\")\n",
    "Map.centerObject(roi,7)"
   ]
  },
  {
   "cell_type": "code",
   "execution_count": 4,
   "metadata": {
    "ExecuteTime": {
     "end_time": "2022-03-23T09:39:57.273236Z",
     "start_time": "2022-03-23T09:39:57.258030Z"
    }
   },
   "outputs": [],
   "source": [
    "region = 'daqing'\n",
    "sample_region = 'DAQING'\n",
    "# region = 'tianjin'\n",
    "# sample_region = 'TIANJIN'\n",
    "# region = 'wuhan'\n",
    "# sample_region = 'WUHAN'\n",
    "# region = 'prd'\n",
    "# sample_region = 'PRD'\n",
    "# region = 'tibet'\n",
    "# sample_region = 'TIBET'"
   ]
  },
  {
   "cell_type": "code",
   "execution_count": 5,
   "metadata": {
    "ExecuteTime": {
     "end_time": "2022-03-23T09:39:57.446917Z",
     "start_time": "2022-03-23T09:39:57.418969Z"
    }
   },
   "outputs": [],
   "source": [
    "## 指数的计算\n",
    "def water_index(img):\n",
    "    image = img.clip(roi)\n",
    "    ndvi=image.normalizedDifference(['B5', 'B4']).rename('NDVI')\n",
    "    ndwi=image.normalizedDifference(['B3', 'B5']).rename(\"NDWI\")\n",
    "    mndwi=image.normalizedDifference(['B3', 'B6']).rename(\"mNDWI\")\n",
    "    ndvi_mndwi = ndvi.subtract(mndwi).rename('ndvi_mndwi')\n",
    "    cwi=image.select('B3').divide(image.select('B6')).rename(\"CWI\")\n",
    "    awei = image.expression('(B2 + 2.5*B3 - 1.5*(B5+B6) - 0.25*B7)/10000',\n",
    "        {\n",
    "          'B2': image.select('B2'),\n",
    "          'B3': image.select('B3'),    \n",
    "          'B5': image.select('B5'),    \n",
    "          'B6': image.select('B6'),\n",
    "          'B7': image.select('B7'),\n",
    "        }).rename('AWEI')\n",
    "    ewi = image.expression('(B3 - B5 - B6)/(B3 + B5 + B6)',\n",
    "        {\n",
    "          'B3': image.select('B3'),    \n",
    "          'B5': image.select('B5'),    \n",
    "          'B6': image.select('B6'),\n",
    "        }).rename('EWI')\n",
    "    evi = image.expression('2.5*(B5 - B4)/(B5 + 6*B4 - 7.5*B2 + 1)',\n",
    "        {\n",
    "          'B2': image.select('B2'),\n",
    "          'B4': image.select('B4'),\n",
    "          'B5': image.select('B5'),    \n",
    "        }).rename('EVI')\n",
    "    return image.addBands(ndvi).addBands(ndwi).addBands(mndwi).addBands(cwi).addBands(awei).addBands(ewi).addBands(evi).addBands(ndvi_mndwi)\n",
    "\n",
    "elevation = ee.Image(\"users/311605001111/hillshade_\" + region)\n",
    "def maskSR(img):\n",
    "    cloudShadowBitMask = (1 << 3)\n",
    "    cloudsBitMask = (1 << 5)\n",
    "    snowBitMask = (1 << 4)   \n",
    "    qa = img.select('pixel_qa')\n",
    "    mask = qa.bitwiseAnd(cloudShadowBitMask).eq(0) \\\n",
    "                   .And(qa.bitwiseAnd(cloudsBitMask).eq(0)) \\\n",
    "                   .And(qa.bitwiseAnd(snowBitMask).eq(0))\n",
    "    azimuth = img.get('SOLAR_AZIMUTH_ANGLE')\n",
    "    zenith = img.get('SOLAR_ZENITH_ANGLE')\n",
    "    image = img.lt(0)\n",
    "    bands = image.select('B2').add(image.select('B3')).add(image.select('B4')).add(image.select('B5')).add(image.select('B6')).add(image.select('B7'))\n",
    "    outlier = bands.gt(0).remap([0,1],[1,0]).rename('outlier')\n",
    "    return img.updateMask(mask).updateMask(ee.Terrain.hillShadow(elevation,azimuth,zenith,200,True)).updateMask(outlier)\n",
    "\n",
    "def maskSR_reverse(img):\n",
    "    cloudShadowBitMask = (1 << 3)\n",
    "    cloudsBitMask = (1 << 5)\n",
    "    snowBitMask = (1 << 4)   \n",
    "    qa = img.select('pixel_qa')\n",
    "    mask = qa.bitwiseAnd(cloudShadowBitMask).eq(0) \\\n",
    "                   .And(qa.bitwiseAnd(cloudsBitMask).eq(0)) \\\n",
    "                   .And(qa.bitwiseAnd(snowBitMask).eq(0))\n",
    "    image_cloud = img.updateMask(mask.remap([0,1],[1,0]))\n",
    "    azimuth = img.get('SOLAR_AZIMUTH_ANGLE')\n",
    "    zenith = img.get('SOLAR_ZENITH_ANGLE')\n",
    "    image_shadow = img.updateMask(ee.Terrain.hillShadow(elevation,azimuth,zenith,200,True).remap([0,1],[1,0]))\n",
    "    image = img.lt(0)\n",
    "    bands = image.select('B2').add(image.select('B3')).add(image.select('B4')).add(image.select('B5')).add(image.select('B6')).add(image.select('B7'))\n",
    "    image_outlier = img.updateMask(bands.gt(0).rename('outlier'))\n",
    "    return ee.ImageCollection([image_cloud,image_shadow,image_outlier]).sum()\n",
    "\n",
    "# 图像可视化参数\n",
    "visParams = {'bands': ['B5', 'B6', 'B4'],'min': 0,'max': 3000,'gamma': 1.4}"
   ]
  },
  {
   "cell_type": "code",
   "execution_count": 6,
   "metadata": {
    "ExecuteTime": {
     "end_time": "2022-03-23T09:39:57.601544Z",
     "start_time": "2022-03-23T09:39:57.586584Z"
    }
   },
   "outputs": [],
   "source": [
    "# def Compare(feature):\n",
    "#     cluster = ee.Number(feature.get('cluster'))\n",
    "#     waterclass = ee.Number(feature.get('waterclass'))\n",
    "#     ft = ee.Algorithms.If(cluster.eq(waterclass),feature.set({'eq':1}),feature.set({'eq':0}))\n",
    "#     return ft\n",
    "# # k-mean聚类\n",
    "# def k_mean(sampleSET):\n",
    "#     clusterer = ee.Clusterer.wekaKMeans(2).train(sampleSET,bands)\n",
    "#     result = sampleSET.cluster(clusterer)\n",
    "#     right = result.map(Compare).filter(ee.Filter.eq('eq',0))\n",
    "#     error = result.map(Compare).filter(ee.Filter.eq('eq',1))\n",
    "#     filtered_sample = ee.FeatureCollection(ee.Algorithms.If(right.size().gt(error.size()),right,error))\n",
    "#     return filtered_sample\n",
    "\n",
    "def classified_image(img):  \n",
    "    image = maskSR(img).select(bands).classify(trainedClassifier).eq(1).remap([0,1],[1,2]).rename('waterclass').float()\n",
    "    invalidPixel = maskSR_reverse(img).select('pixel_qa').gt(0).remap([0,1],[1,0]).rename('waterclass').float()\n",
    "    class_image = ee.ImageCollection([invalidPixel,image]).sum()\n",
    "    invalidPixels = class_image.eq(0).multiply(ee.Image.pixelArea()).divide(1e6)\n",
    "    invalidarea = invalidPixels.reduceRegion(**{'reducer': ee.Reducer.sum(),'geometry': roi,'scale': 500,'maxPixels': 1e14,'tileScale': 2}).get('waterclass')\n",
    "    region = class_image.gte(0).multiply(ee.Image.pixelArea()).divide(1e6)\n",
    "    regionarea = region.reduceRegion(**{'reducer': ee.Reducer.sum(),'geometry': roi,'scale': 500,'maxPixels': 1e14,'tileScale': 2}).get('waterclass')\n",
    "    rate = ee.Number(invalidarea).divide(ee.Number(regionarea)).multiply(100)\n",
    "    return class_image.set({'system:id':img.get('system:id')}).set({'CLOUD_COVER':img.get('CLOUD_COVER')}).set({'invalid_percentage':rate})\n",
    "\n",
    "def waterArea(image):\n",
    "    classified_image = image.select('waterclass').eq(2).rename('waterclass')\n",
    "    water_area = classified_image.multiply(ee.Image.pixelArea()).divide(1e6)\n",
    "    waterarea = water_area.reduceRegion(**{\n",
    "        'reducer': ee.Reducer.sum(),\n",
    "        'geometry': roi,\n",
    "        'scale': 200,\n",
    "        'maxPixels': 1e14,\n",
    "        'tileScale': 2,\n",
    "    })\n",
    "    return image.set({'waterarea': waterarea.get('waterclass')})\n",
    "\n",
    "# img指经过指数计算，但未做云掩膜的图像\n",
    "def occurrence_Histogram(class_image):\n",
    "    water = class_image.eq(2).selfMask()\n",
    "    no_data = class_image.eq(0).selfMask()\n",
    "    occurrence = ee.Image('JRC/GSW1_3/GlobalSurfaceWater').select('occurrence')\n",
    "    occurrence_water = occurrence.updateMask(water)\n",
    "    occurrence_no_data = occurrence.updateMask(no_data)\n",
    "    occurrence_HistogramCount = occurrence_water.reduceRegion(**{\n",
    "        'reducer': ee.Reducer.histogram(100,1),\n",
    "        'geometry': roi,\n",
    "        'scale': 30,\n",
    "        'bestEffort': True,\n",
    "        'tileScale': 2,\n",
    "    })\n",
    "    return class_image.set({'occurrence_HistogramCount': occurrence_HistogramCount.get('occurrence')})\n",
    "\n",
    "def AutomaticCorrection_threshold(class_image):\n",
    "    histogram = ee.List(ee.Dictionary(class_image.get('occurrence_HistogramCount')).get('histogram'))\n",
    "    bucketMeans = ee.List(ee.Dictionary(class_image.get('occurrence_HistogramCount')).get('bucketMeans'))\n",
    "    count_threshold = ee.Number(histogram.reduce(ee.Reducer.sum())).multiply(0.0017)\n",
    "    index = histogram.map(lambda i : ee.Algorithms.If(ee.Number(i).gte(ee.Number(count_threshold)),ee.Number(i))).removeAll([None]).get(0)\n",
    "    occurrence_threshold = bucketMeans.get(histogram.indexOf(index))\n",
    "    return class_image.set({'occurrence_threshold':occurrence_threshold})\n",
    "\n",
    "# img指经过指数计算(需要校正的图像)，但未做云掩膜的图像\n",
    "def AutomaticCorrection_enhanced(class_image):\n",
    "    basemap = ee.Image.constant(0).toFloat().updateMask(class_image.gte(0)).rename('waterclass')\n",
    "    water = class_image.eq(2).selfMask()\n",
    "    occurrence = ee.Image('JRC/GSW1_3/GlobalSurfaceWater').select('occurrence')\n",
    "    occurrence_no_data = occurrence.updateMask(class_image.eq(0).selfMask())\n",
    "    occurrence_threshold = class_image.get('occurrence_threshold')\n",
    "    occurrence_corrected_water = occurrence_no_data.gte(ee.Number(occurrence_threshold)).selfMask().select('occurrence').rename('waterclass')\n",
    "    enhanced_water = ee.ImageCollection([basemap,water,occurrence_corrected_water]).sum()\n",
    "    return enhanced_water"
   ]
  },
  {
   "cell_type": "markdown",
   "metadata": {},
   "source": [
    "# 5-year interval"
   ]
  },
  {
   "cell_type": "code",
   "execution_count": 7,
   "metadata": {
    "ExecuteTime": {
     "end_time": "2022-03-23T09:42:43.503507Z",
     "start_time": "2022-03-23T09:39:57.743758Z"
    }
   },
   "outputs": [
    {
     "name": "stdout",
     "output_type": "stream",
     "text": [
      "2000\n",
      "invalid_percentage:  31\n",
      "2005\n",
      "invalid_percentage:  29\n",
      "2010\n",
      "invalid_percentage:  43\n",
      "2015\n",
      "invalid_percentage:  35\n",
      "2020\n",
      "invalid_percentage:  26\n"
     ]
    }
   ],
   "source": [
    "# TIME = [['2000','0105'],['2005','0105'],['2010','0610'],['2015','1115'],['2020','1620']],[['2000'],['2005'],['2010'],['2015'],['2020']]\n",
    "TIME = [['2000'],['2005'],['2010'],['2015'],['2020']]\n",
    "# TIME = [['2015']]\n",
    "for time in TIME:\n",
    "    print(time[0])\n",
    "    startDate = time[0] + '-01-01'\n",
    "    endDate = time[0] + '-12-31'\n",
    "    l5 = ee.ImageCollection('LANDSAT/LT05/C01/T1_SR') \\\n",
    "           .select(['B1', 'B2', 'B3', 'B4', 'B5', 'B7','pixel_qa'],['B2', 'B3', 'B4', 'B5', 'B6', 'B7','pixel_qa']) \\\n",
    "           .filterBounds(roi) \\\n",
    "           .filterDate(startDate, endDate)  \n",
    "    l7 = ee.ImageCollection('LANDSAT/LE07/C01/T1_SR') \\\n",
    "           .select(['B1', 'B2', 'B3', 'B4', 'B5', 'B7','pixel_qa'],['B2', 'B3', 'B4', 'B5', 'B6', 'B7','pixel_qa']) \\\n",
    "           .filterBounds(roi) \\\n",
    "           .filterDate(startDate, endDate)           \n",
    "    l8 = ee.ImageCollection('LANDSAT/LC08/C01/T1_SR') \\\n",
    "           .select(['B2', 'B3', 'B4', 'B5', 'B6', 'B7','pixel_qa']) \\\n",
    "           .filterBounds(roi) \\\n",
    "           .filterDate(startDate, endDate)\n",
    "    landsat_image = l8.merge(l7).merge(l5).map(water_index)\n",
    "    # print(landsat_image.size().getInfo())\n",
    "    label = 'waterclass'\n",
    "    bands = ['B2', 'B3', 'B4', 'B5', 'B6', 'B7','NDVI','NDWI','mNDWI','CWI','AWEI','EWI','EVI']\n",
    "    # 'TIBET','tibet' 需要修改\n",
    "    # filtered_samples = ee.FeatureCollection('users/311605001111/SAMPLE_' + sample_region + '/' + region + '_kmean100_' + time[1] + '_v2')\n",
    "    filtered_samples = ee.FeatureCollection('users/311605001111/SAMPLE_' + sample_region + '/' + region + '_kmean100_9920_v2')\n",
    "    trainedClassifier = ee.Classifier.smileRandomForest(150).train(filtered_samples,label,bands)\n",
    "    landsat_images = landsat_image.map(classified_image).filter(ee.Filter.gte('invalid_percentage',5)).filter(ee.Filter.lt('invalid_percentage',95))\n",
    "    No_correct_image5 = landsat_image.map(classified_image).filter(ee.Filter.lt('invalid_percentage',5))\n",
    "    print('invalid_percentage: ',No_correct_image5.size().getInfo())\n",
    "    No_correct_image6 = landsat_image.map(classified_image).filter(ee.Filter.gte('invalid_percentage',95))\n",
    "#     # 两步筛选\n",
    "#     probable_correct_image = landsat_images.map(waterArea).filter(ee.Filter.gt('waterarea',5))\n",
    "#     No_correct_image1 = landsat_images.map(waterArea).filter(ee.Filter.lte('waterarea',5))\n",
    "#     occurrence_threshold = probable_correct_image.map(occurrence_Histogram).filter(ee.Filter.neq('occurrence_HistogramCount',None)).map(AutomaticCorrection_threshold)\n",
    "#     correct_image = occurrence_threshold.filter(ee.Filter.gt('occurrence_threshold',5)).filter(ee.Filter.lte('occurrence_threshold',75))\n",
    "#     No_correct_image2 = occurrence_threshold.filter(ee.Filter.lte('occurrence_threshold',5))\n",
    "#     No_correct_image3 = occurrence_threshold.filter(ee.Filter.gt('occurrence_threshold',75))\n",
    "#     No_correct_image4 = probable_correct_image.map(occurrence_Histogram).filter(ee.Filter.eq('occurrence_HistogramCount',None))\n",
    "#     correct_image = correct_image\n",
    "#     print('correct: ',correct_image.size().getInfo())\n",
    "#     No_correct_image = No_correct_image1.merge(No_correct_image2).merge(No_correct_image3).merge(No_correct_image4).merge(No_correct_image5).merge(No_correct_image6)\n",
    "#     # print('nocorrect: ',No_correct_image.size().getInfo())"
   ]
  },
  {
   "cell_type": "code",
   "execution_count": null,
   "metadata": {},
   "outputs": [],
   "source": []
  },
  {
   "cell_type": "code",
   "execution_count": null,
   "metadata": {
    "ExecuteTime": {
     "end_time": "2022-03-10T02:34:53.471033Z",
     "start_time": "2022-03-10T02:34:46.138340Z"
    }
   },
   "outputs": [],
   "source": [
    "print(correct_image.aggregate_array('system:id').getInfo())"
   ]
  },
  {
   "cell_type": "code",
   "execution_count": null,
   "metadata": {},
   "outputs": [],
   "source": [
    "['LANDSAT/LC08/C01/T1_SR/LC08_138035_20150628',\n",
    " 'LANDSAT/LC08/C01/T1_SR/LC08_138035_20150714',\n",
    " 'LANDSAT/LC08/C01/T1_SR/LC08_138035_20150730',\n",
    " 'LANDSAT/LC08/C01/T1_SR/LC08_138035_20150815',\n",
    " 'LANDSAT/LC08/C01/T1_SR/LC08_138035_20150831',\n",
    " 'LANDSAT/LC08/C01/T1_SR/LC08_138035_20150916',\n",
    " 'LANDSAT/LC08/C01/T1_SR/LC08_138035_20151018',\n",
    " 'LANDSAT/LC08/C01/T1_SR/LC08_138035_20151119',\n",
    " 'LANDSAT/LC08/C01/T1_SR/LC08_138035_20151205',\n",
    " 'LANDSAT/LC08/C01/T1_SR/LC08_138036_20150511',\n",
    " 'LANDSAT/LC08/C01/T1_SR/LC08_138036_20150628',\n",
    " 'LANDSAT/LC08/C01/T1_SR/LC08_138036_20150714',\n",
    " 'LANDSAT/LC08/C01/T1_SR/LC08_138036_20150730',\n",
    " 'LANDSAT/LC08/C01/T1_SR/LC08_138036_20150815',\n",
    " 'LANDSAT/LC08/C01/T1_SR/LC08_138036_20150831',\n",
    " 'LANDSAT/LC08/C01/T1_SR/LC08_138036_20150916',\n",
    " 'LANDSAT/LC08/C01/T1_SR/LC08_138036_20151018',\n",
    " 'LANDSAT/LC08/C01/T1_SR/LC08_138036_20151103',\n",
    " 'LANDSAT/LC08/C01/T1_SR/LC08_138036_20151119',\n",
    " 'LANDSAT/LC08/C01/T1_SR/LC08_139035_20150110',\n",
    " 'LANDSAT/LC08/C01/T1_SR/LC08_139035_20150126',\n",
    " 'LANDSAT/LC08/C01/T1_SR/LC08_139035_20150227',\n",
    " 'LANDSAT/LC08/C01/T1_SR/LC08_139035_20150315',\n",
    " 'LANDSAT/LC08/C01/T1_SR/LC08_139035_20150416',\n",
    " 'LANDSAT/LC08/C01/T1_SR/LC08_139035_20150518',\n",
    " 'LANDSAT/LC08/C01/T1_SR/LC08_139035_20150603',\n",
    " 'LANDSAT/LC08/C01/T1_SR/LC08_139035_20150619',\n",
    " 'LANDSAT/LC08/C01/T1_SR/LC08_139035_20150705',\n",
    " 'LANDSAT/LC08/C01/T1_SR/LC08_139035_20150806',\n",
    " 'LANDSAT/LC08/C01/T1_SR/LC08_139035_20150822',\n",
    " 'LANDSAT/LC08/C01/T1_SR/LC08_139035_20150907',\n",
    " 'LANDSAT/LC08/C01/T1_SR/LC08_139035_20150923',\n",
    " 'LANDSAT/LC08/C01/T1_SR/LC08_139035_20151009',\n",
    " 'LANDSAT/LC08/C01/T1_SR/LC08_139035_20151025',\n",
    " 'LANDSAT/LC08/C01/T1_SR/LC08_139035_20151110',\n",
    " 'LANDSAT/LC08/C01/T1_SR/LC08_139035_20151126',\n",
    " 'LANDSAT/LC08/C01/T1_SR/LC08_139036_20150110',\n",
    " 'LANDSAT/LC08/C01/T1_SR/LC08_139036_20150126',\n",
    " 'LANDSAT/LC08/C01/T1_SR/LC08_139036_20150227',\n",
    " 'LANDSAT/LC08/C01/T1_SR/LC08_139036_20150315',\n",
    " 'LANDSAT/LC08/C01/T1_SR/LC08_139036_20150416',\n",
    " 'LANDSAT/LC08/C01/T1_SR/LC08_139036_20150518',\n",
    " 'LANDSAT/LC08/C01/T1_SR/LC08_139036_20150603',\n",
    " 'LANDSAT/LC08/C01/T1_SR/LC08_139036_20150619',\n",
    " 'LANDSAT/LC08/C01/T1_SR/LC08_139036_20150822',\n",
    " 'LANDSAT/LC08/C01/T1_SR/LC08_139036_20150907',\n",
    " 'LANDSAT/LC08/C01/T1_SR/LC08_139036_20150923',\n",
    " 'LANDSAT/LC08/C01/T1_SR/LC08_139036_20151009',\n",
    " 'LANDSAT/LC08/C01/T1_SR/LC08_139036_20151025',\n",
    " 'LANDSAT/LC08/C01/T1_SR/LC08_139036_20151110'\n",
    " 'LANDSAT/LC08/C01/T1_SR/LC08_139036_20151126',\n",
    " 'LANDSAT/LC08/C01/T1_SR/LC08_139036_20151212',\n",
    " 'LANDSAT/LC08/C01/T1_SR/LC08_140035_20150525', \n",
    " 'LANDSAT/LC08/C01/T1_SR/LC08_140035_20150626', \n",
    " 'LANDSAT/LC08/C01/T1_SR/LC08_140035_20150712', \n",
    " 'LANDSAT/LC08/C01/T1_SR/LC08_140035_20150728', \n",
    " 'LANDSAT/LC08/C01/T1_SR/LC08_140035_20150813', \n",
    " 'LANDSAT/LC08/C01/T1_SR/LC08_140035_20150914',\n",
    " 'LANDSAT/LC08/C01/T1_SR/LC08_140035_20151016',\n",
    " 'LANDSAT/LC08/C01/T1_SR/LC08_140035_20151101',\n",
    " 'LANDSAT/LC08/C01/T1_SR/LC08_140035_20151203',\n",
    " 'LANDSAT/LC08/C01/T1_SR/LC08_140036_20150525',\n",
    " 'LANDSAT/LC08/C01/T1_SR/LC08_140036_20150712',\n",
    " 'LANDSAT/LC08/C01/T1_SR/LC08_140036_20150728', \n",
    " 'LANDSAT/LC08/C01/T1_SR/LC08_140036_20150813',\n",
    " 'LANDSAT/LC08/C01/T1_SR/LC08_140036_20151016',\n",
    " 'LANDSAT/LC08/C01/T1_SR/LC08_140036_20151101',\n",
    " 'LANDSAT/LC08/C01/T1_SR/LC08_140036_20151117',\n",
    " 'LANDSAT/LC08/C01/T1_SR/LC08_140036_20151203', \n",
    " 'LANDSAT/LE07/C01/T1_SR/LE07_138035_20150212',\n",
    " 'LANDSAT/LE07/C01/T1_SR/LE07_138035_20150316',\n",
    " 'LANDSAT/LE07/C01/T1_SR/LE07_138035_20150401',\n",
    " 'LANDSAT/LE07/C01/T1_SR/LE07_138035_20150706',\n",
    " 'LANDSAT/LE07/C01/T1_SR/LE07_138035_20150807',\n",
    " 'LANDSAT/LE07/C01/T1_SR/LE07_138036_20150620',\n",
    " 'LANDSAT/LE07/C01/T1_SR/LE07_138036_20150706',\n",
    " 'LANDSAT/LE07/C01/T1_SR/LE07_138036_20150722',\n",
    " 'LANDSAT/LE07/C01/T1_SR/LE07_138036_20150807',\n",
    " 'LANDSAT/LE07/C01/T1_SR/LE07_138036_20150908',\n",
    " 'LANDSAT/LE07/C01/T1_SR/LE07_138036_20151026', \n",
    " 'LANDSAT/LE07/C01/T1_SR/LE07_139035_20150102', \n",
    " 'LANDSAT/LE07/C01/T1_SR/LE07_139035_20150203', \n",
    " 'LANDSAT/LE07/C01/T1_SR/LE07_139035_20150323',\n",
    " 'LANDSAT/LE07/C01/T1_SR/LE07_139035_20150424',\n",
    " 'LANDSAT/LE07/C01/T1_SR/LE07_139035_20150510',\n",
    " 'LANDSAT/LE07/C01/T1_SR/LE07_139035_20150526',\n",
    " 'LANDSAT/LE07/C01/T1_SR/LE07_139035_20150627',\n",
    " 'LANDSAT/LE07/C01/T1_SR/LE07_139035_20150713',\n",
    " 'LANDSAT/LE07/C01/T1_SR/LE07_139035_20150729',\n",
    " 'LANDSAT/LE07/C01/T1_SR/LE07_139035_20150814', \n",
    " 'LANDSAT/LE07/C01/T1_SR/LE07_139035_20150830', \n",
    " 'LANDSAT/LE07/C01/T1_SR/LE07_139035_20150915', \n",
    " 'LANDSAT/LE07/C01/T1_SR/LE07_139035_20151017', \n",
    " 'LANDSAT/LE07/C01/T1_SR/LE07_139035_20151118', \n",
    " 'LANDSAT/LE07/C01/T1_SR/LE07_139035_20151204', \n",
    " 'LANDSAT/LE07/C01/T1_SR/LE07_139035_20151220',\n",
    " 'LANDSAT/LE07/C01/T1_SR/LE07_139036_20150102', \n",
    " 'LANDSAT/LE07/C01/T1_SR/LE07_139036_20150118', \n",
    " 'LANDSAT/LE07/C01/T1_SR/LE07_139036_20150203',\n",
    " 'LANDSAT/LE07/C01/T1_SR/LE07_139036_20150307',\n",
    " 'LANDSAT/LE07/C01/T1_SR/LE07_139036_20150424',\n",
    " 'LANDSAT/LE07/C01/T1_SR/LE07_139036_20150510',\n",
    " 'LANDSAT/LE07/C01/T1_SR/LE07_139036_20150526', \n",
    " 'LANDSAT/LE07/C01/T1_SR/LE07_139036_20150611', \n",
    " 'LANDSAT/LE07/C01/T1_SR/LE07_139036_20150627', \n",
    " 'LANDSAT/LE07/C01/T1_SR/LE07_139036_20150713', \n",
    " 'LANDSAT/LE07/C01/T1_SR/LE07_139036_20150729', \n",
    " 'LANDSAT/LE07/C01/T1_SR/LE07_139036_20150814', \n",
    " 'LANDSAT/LE07/C01/T1_SR/LE07_139036_20150830', \n",
    " 'LANDSAT/LE07/C01/T1_SR/LE07_139036_20150915', \n",
    " 'LANDSAT/LE07/C01/T1_SR/LE07_139036_20151017',\n",
    " 'LANDSAT/LE07/C01/T1_SR/LE07_139036_20151102',\n",
    " 'LANDSAT/LE07/C01/T1_SR/LE07_139036_20151118',\n",
    " 'LANDSAT/LE07/C01/T1_SR/LE07_139036_20151220',\n",
    " 'LANDSAT/LE07/C01/T1_SR/LE07_140035_20150415', \n",
    " 'LANDSAT/LE07/C01/T1_SR/LE07_140035_20150517', \n",
    " 'LANDSAT/LE07/C01/T1_SR/LE07_140035_20150618', \n",
    " 'LANDSAT/LE07/C01/T1_SR/LE07_140035_20150704', \n",
    " 'LANDSAT/LE07/C01/T1_SR/LE07_140035_20150720', \n",
    " 'LANDSAT/LE07/C01/T1_SR/LE07_140035_20150821', \n",
    " 'LANDSAT/LE07/C01/T1_SR/LE07_140035_20150922', \n",
    " 'LANDSAT/LE07/C01/T1_SR/LE07_140035_20151008', \n",
    " 'LANDSAT/LE07/C01/T1_SR/LE07_140035_20151024', \n",
    " 'LANDSAT/LE07/C01/T1_SR/LE07_140035_20151109', \n",
    " 'LANDSAT/LE07/C01/T1_SR/LE07_140035_20151125', \n",
    " 'LANDSAT/LE07/C01/T1_SR/LE07_140035_20151211', \n",
    " 'LANDSAT/LE07/C01/T1_SR/LE07_140036_20150517', \n",
    " 'LANDSAT/LE07/C01/T1_SR/LE07_140036_20150618', \n",
    " 'LANDSAT/LE07/C01/T1_SR/LE07_140036_20150720', \n",
    " 'LANDSAT/LE07/C01/T1_SR/LE07_140036_20150821', \n",
    " 'LANDSAT/LE07/C01/T1_SR/LE07_140036_20150922', \n",
    " 'LANDSAT/LE07/C01/T1_SR/LE07_140036_20151008', \n",
    " 'LANDSAT/LE07/C01/T1_SR/LE07_140036_20151024', \n",
    " 'LANDSAT/LE07/C01/T1_SR/LE07_140036_20151109', \n",
    " 'LANDSAT/LE07/C01/T1_SR/LE07_140036_20151125', \n",
    " 'LANDSAT/LE07/C01/T1_SR/LE07_140036_20151211']"
   ]
  },
  {
   "cell_type": "code",
   "execution_count": null,
   "metadata": {},
   "outputs": [],
   "source": []
  },
  {
   "cell_type": "code",
   "execution_count": null,
   "metadata": {},
   "outputs": [],
   "source": [
    "## tibet\n",
    "2000\n",
    "144\n",
    "correct:  11\n",
    "nocorrect:  133\n",
    "2005\n",
    "163\n",
    "correct:  44\n",
    "nocorrect:  119\n",
    "2010\n",
    "180\n",
    "correct:  90\n",
    "nocorrect:  90\n",
    "2015\n",
    "259\n",
    "correct:  136\n",
    "nocorrect:  123\n",
    "2020\n",
    "244\n",
    "correct:  48\n",
    "nocorrect:  196"
   ]
  },
  {
   "cell_type": "code",
   "execution_count": null,
   "metadata": {},
   "outputs": [],
   "source": []
  },
  {
   "cell_type": "markdown",
   "metadata": {},
   "source": [
    "# Proportion of corrected images"
   ]
  },
  {
   "cell_type": "code",
   "execution_count": 11,
   "metadata": {
    "ExecuteTime": {
     "end_time": "2022-03-23T09:59:19.629083Z",
     "start_time": "2022-03-23T09:59:19.617116Z"
    }
   },
   "outputs": [
    {
     "name": "stdout",
     "output_type": "stream",
     "text": [
      "A\n",
      "751\n",
      "127\n",
      "0.16910785619174434\n",
      "B\n",
      "1016\n",
      "8\n",
      "0.007874015748031496\n",
      "C\n",
      "410\n",
      "34\n",
      "0.08292682926829269\n",
      "D\n",
      "675\n",
      "87\n",
      "0.1288888888888889\n",
      "E\n",
      "990\n",
      "329\n",
      "0.3323232323232323\n"
     ]
    }
   ],
   "source": [
    "print('A')\n",
    "print(182+142+131+157+139)\n",
    "print(30+29+21+44+3)\n",
    "print((30+29+21+44+3)/(182+142+131+157+139))\n",
    "\n",
    "print('B')\n",
    "print(205+194+175+223+219)\n",
    "print(2+3+1+2+0)\n",
    "print((2+3+1+2+0)/(205+194+175+223+219))\n",
    "\n",
    "print('C')\n",
    "print(70+76+69+110+85)\n",
    "print(4+10+3+15+2)\n",
    "print((4+10+3+15+2)/(70+76+69+110+85))\n",
    "\n",
    "print('D')\n",
    "print(141+155+89+153+137)\n",
    "print(20+13+16+15+23)\n",
    "print((20+13+16+15+23)/(141+155+89+153+137))\n",
    "\n",
    "print('E')\n",
    "print(144+163+180+259+244)\n",
    "print(11+44+90+136+48)\n",
    "print((11+44+90+136+48)/(144+163+180+259+244))"
   ]
  },
  {
   "cell_type": "code",
   "execution_count": null,
   "metadata": {},
   "outputs": [],
   "source": []
  },
  {
   "cell_type": "code",
   "execution_count": 13,
   "metadata": {
    "ExecuteTime": {
     "end_time": "2022-03-23T10:06:44.288131Z",
     "start_time": "2022-03-23T10:06:44.265195Z"
    }
   },
   "outputs": [
    {
     "name": "stdout",
     "output_type": "stream",
     "text": [
      "A\n",
      "164\n",
      "127\n",
      "291\n",
      "0.5292096219931272\n",
      "B\n",
      "386\n",
      "8\n",
      "394\n",
      "0.02030456852791878\n",
      "C\n",
      "102\n",
      "34\n",
      "136\n",
      "0.25\n",
      "D\n",
      "84\n",
      "87\n",
      "171\n",
      "0.5087719298245614\n",
      "E\n",
      "65\n",
      "329\n",
      "394\n",
      "0.8350253807106599\n"
     ]
    }
   ],
   "source": [
    "print('A')\n",
    "print(31+29+43+35+26)\n",
    "print(30+29+21+44+3)\n",
    "print(31+29+43+35+26+30+29+21+44+3)\n",
    "print((30+29+21+44+30)/(31+29+43+35+26+30+29+21+44+3))\n",
    "\n",
    "print('B')\n",
    "print(74+79+68+78+87)\n",
    "print(2+3+1+2+0)\n",
    "print(74+79+68+78+87+2+3+1+2+0)\n",
    "print((2+3+1+2+0)/(74+79+68+78+87+2+3+1+2+0))\n",
    "\n",
    "print('C')\n",
    "print(18+17+18+25+24)\n",
    "print(4+10+3+15+2)\n",
    "print(18+17+18+25+24+4+10+3+15+2)\n",
    "print((4+10+3+15+2)/(18+17+18+25+24+4+10+3+15+2))\n",
    "\n",
    "print('D')\n",
    "print(19+13+17+24+11)\n",
    "print(20+13+16+15+23)\n",
    "print(19+13+17+24+11+20+13+16+15+23)\n",
    "print((20+13+16+15+23)/(19+13+17+24+11+20+13+16+15+23))\n",
    "\n",
    "print('E')\n",
    "print(5+6+6+17+31)\n",
    "print(11+44+90+136+48)\n",
    "print(5+6+6+17+31+11+44+90+136+48)\n",
    "print((11+44+90+136+48)/(5+6+6+17+31+11+44+90+136+48))"
   ]
  },
  {
   "cell_type": "code",
   "execution_count": null,
   "metadata": {},
   "outputs": [],
   "source": []
  },
  {
   "cell_type": "code",
   "execution_count": null,
   "metadata": {},
   "outputs": [],
   "source": []
  }
 ],
 "metadata": {
  "hide_input": false,
  "kernelspec": {
   "display_name": "Python 3 (ipykernel)",
   "language": "python",
   "name": "python3"
  },
  "language_info": {
   "codemirror_mode": {
    "name": "ipython",
    "version": 3
   },
   "file_extension": ".py",
   "mimetype": "text/x-python",
   "name": "python",
   "nbconvert_exporter": "python",
   "pygments_lexer": "ipython3",
   "version": "3.8.12"
  },
  "toc": {
   "base_numbering": 1,
   "nav_menu": {},
   "number_sections": true,
   "sideBar": true,
   "skip_h1_title": false,
   "title_cell": "Table of Contents",
   "title_sidebar": "Contents",
   "toc_cell": false,
   "toc_position": {
    "height": "calc(100% - 180px)",
    "left": "10px",
    "top": "150px",
    "width": "263.097px"
   },
   "toc_section_display": true,
   "toc_window_display": true
  },
  "varInspector": {
   "cols": {
    "lenName": 16,
    "lenType": 16,
    "lenVar": 40
   },
   "kernels_config": {
    "python": {
     "delete_cmd_postfix": "",
     "delete_cmd_prefix": "del ",
     "library": "var_list.py",
     "varRefreshCmd": "print(var_dic_list())"
    },
    "r": {
     "delete_cmd_postfix": ") ",
     "delete_cmd_prefix": "rm(",
     "library": "var_list.r",
     "varRefreshCmd": "cat(var_dic_list()) "
    }
   },
   "types_to_exclude": [
    "module",
    "function",
    "builtin_function_or_method",
    "instance",
    "_Feature"
   ],
   "window_display": false
  }
 },
 "nbformat": 4,
 "nbformat_minor": 4
}
