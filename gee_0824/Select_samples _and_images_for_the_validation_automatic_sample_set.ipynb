{
 "cells": [
  {
   "cell_type": "code",
   "execution_count": 1,
   "id": "6bd39e71",
   "metadata": {
    "ExecuteTime": {
     "end_time": "2021-12-17T00:23:33.250349Z",
     "start_time": "2021-12-17T00:23:33.239378Z"
    }
   },
   "outputs": [],
   "source": [
    "import os\n",
    "os.environ['HTTP_PROXY'] = \"http://127.0.0.1:10809\"\n",
    "os.environ['HTTPS_PROXY'] = \"http://127.0.0.1:10809\""
   ]
  },
  {
   "cell_type": "code",
   "execution_count": 2,
   "id": "4108399f",
   "metadata": {
    "ExecuteTime": {
     "end_time": "2021-12-17T00:23:39.624482Z",
     "start_time": "2021-12-17T00:23:34.511204Z"
    },
    "scrolled": false
   },
   "outputs": [
    {
     "data": {
      "application/vnd.jupyter.widget-view+json": {
       "model_id": "45521c65f6f84b8795a19fa74c3a4e26",
       "version_major": 2,
       "version_minor": 0
      },
      "text/plain": [
       "Map(center=[40, -100], controls=(WidgetControl(options=['position', 'transparent_bg'], widget=HBox(children=(T…"
      ]
     },
     "metadata": {},
     "output_type": "display_data"
    }
   ],
   "source": [
    "import geemap\n",
    "import ee\n",
    "Map=geemap.Map()\n",
    "Map"
   ]
  },
  {
   "cell_type": "code",
   "execution_count": 5,
   "id": "cd096dc6",
   "metadata": {
    "ExecuteTime": {
     "end_time": "2021-12-17T00:23:50.882512Z",
     "start_time": "2021-12-17T00:23:50.235729Z"
    }
   },
   "outputs": [],
   "source": [
    "# # 大庆市\n",
    "# roi = ee.Geometry.Rectangle([123.9355, 45.8362,125.3055, 46.8762])\n",
    "# # 天津市\n",
    "# roi = ee.Geometry.Rectangle([115.9244, 38.6272,117.4944,39.6372])\n",
    "# # 武汉市\n",
    "# roi = ee.Geometry.Rectangle([113.7393, 29.8642,115.0993, 30.9242])\n",
    "# # 珠三角\n",
    "# roi = ee.Geometry.Rectangle([112.7614, 22.2347,114.0514, 23.2547])\n",
    "# 青藏高原\n",
    "roi = ee.Geometry.Rectangle([89.8826, 34.6579,91.3626, 35.8279])\n",
    "Map.addLayer(roi, {}, \"roi\")\n",
    "Map.centerObject(roi,7)"
   ]
  },
  {
   "cell_type": "code",
   "execution_count": 6,
   "id": "389a58e2",
   "metadata": {
    "ExecuteTime": {
     "end_time": "2021-12-17T00:23:52.189076Z",
     "start_time": "2021-12-17T00:23:52.180102Z"
    }
   },
   "outputs": [],
   "source": [
    "# 定义参数\n",
    "region = 'prd'"
   ]
  },
  {
   "cell_type": "code",
   "execution_count": 7,
   "id": "cb5bf1fe",
   "metadata": {
    "ExecuteTime": {
     "end_time": "2021-12-17T00:23:58.335116Z",
     "start_time": "2021-12-17T00:23:58.316166Z"
    }
   },
   "outputs": [],
   "source": [
    "# 移除无效像元\n",
    "elevation = ee.Image(\"users/311605001111/hillshade_\" + region)\n",
    "def maskSR(img):\n",
    "    cloudShadowBitMask = (1 << 3)\n",
    "    cloudsBitMask = (1 << 5)\n",
    "    snowBitMask = (1 << 4)   \n",
    "    qa = img.select('pixel_qa')\n",
    "    mask = qa.bitwiseAnd(cloudShadowBitMask).eq(0) \\\n",
    "                   .And(qa.bitwiseAnd(cloudsBitMask).eq(0)) \\\n",
    "                   .And(qa.bitwiseAnd(snowBitMask).eq(0))\n",
    "    azimuth = img.get('SOLAR_AZIMUTH_ANGLE')\n",
    "    zenith = img.get('SOLAR_ZENITH_ANGLE')\n",
    "    image = img.lt(0)\n",
    "    bands = image.select('B2').add(image.select('B3')).add(image.select('B4')).add(image.select('B5')).add(image.select('B6')).add(image.select('B7'))\n",
    "    outlier = bands.gt(0).remap([0,1],[1,0]).rename('outlier')\n",
    "    return img.updateMask(mask).updateMask(ee.Terrain.hillShadow(elevation,azimuth,zenith,200,True)).updateMask(outlier)\n",
    "def maskSR_reverse(img):\n",
    "    cloudShadowBitMask = (1 << 3)\n",
    "    cloudsBitMask = (1 << 5)\n",
    "    snowBitMask = (1 << 4)   \n",
    "    qa = img.select('pixel_qa')\n",
    "    mask = qa.bitwiseAnd(cloudShadowBitMask).eq(0) \\\n",
    "                   .And(qa.bitwiseAnd(cloudsBitMask).eq(0)) \\\n",
    "                   .And(qa.bitwiseAnd(snowBitMask).eq(0))\n",
    "    image_cloud = img.updateMask(mask.remap([0,1],[1,0]))\n",
    "    azimuth = img.get('SOLAR_AZIMUTH_ANGLE')\n",
    "    zenith = img.get('SOLAR_ZENITH_ANGLE')\n",
    "    image_shadow = img.updateMask(ee.Terrain.hillShadow(elevation,azimuth,zenith,200,True).remap([0,1],[1,0]))\n",
    "    image = img.lt(0)\n",
    "    bands = image.select('B2').add(image.select('B3')).add(image.select('B4')).add(image.select('B5')).add(image.select('B6')).add(image.select('B7'))\n",
    "    image_outlier = img.updateMask(bands.gt(0).rename('outlier'))\n",
    "    return ee.ImageCollection([image_cloud,image_shadow,image_outlier]).sum()\n",
    "\n",
    "\n",
    "# 图像可视化参数\n",
    "visParams = {'bands': ['B5', 'B6', 'B4'],'min': 0,'max': 3000,'gamma': 1.4}\n",
    "\n",
    "def invalid_pixels(img):\n",
    "    validPixel = maskSR(img).select('pixel_qa').gt(0).rename('waterclass').float()\n",
    "    invalidPixel = maskSR_reverse(img).select('pixel_qa').gt(0).remap([0,1],[1,0]).rename('waterclass').float()\n",
    "    class_image = ee.ImageCollection([invalidPixel,validPixel]).sum()\n",
    "    invalidPixels = class_image.eq(0).multiply(ee.Image.pixelArea()).divide(1e6)\n",
    "    invalidarea = invalidPixels.reduceRegion(**{'reducer': ee.Reducer.sum(),'geometry': roi,'scale': 1000,'maxPixels': 1e14,'tileScale': 2}).get('waterclass')\n",
    "    region = class_image.gte(0).multiply(ee.Image.pixelArea()).divide(1e6)\n",
    "    regionarea = region.reduceRegion(**{'reducer': ee.Reducer.sum(),'geometry': roi,'scale': 1000,'maxPixels': 1e14,'tileScale': 2}).get('waterclass')\n",
    "    rate = ee.Number(invalidarea).divide(ee.Number(regionarea)).multiply(100)\n",
    "    return img.set({'invalid_rate':rate})"
   ]
  },
  {
   "cell_type": "markdown",
   "id": "567e5646",
   "metadata": {},
   "source": [
    "# 唯一的行列号"
   ]
  },
  {
   "cell_type": "code",
   "execution_count": null,
   "id": "8d9c512f",
   "metadata": {
    "ExecuteTime": {
     "start_time": "2021-12-10T01:51:09.778Z"
    }
   },
   "outputs": [],
   "source": [
    "for year in range(1999,2021,5):\n",
    "    print(year)\n",
    "    startDate = str(year) + '-01-01'\n",
    "    endDate = str(year) + '-12-31'\n",
    "    landsat5 = ee.ImageCollection('LANDSAT/LT05/C01/T1_SR').filterBounds(roi).filterDate(startDate, endDate).map(invalid_pixels)  \n",
    "    landsat7 = ee.ImageCollection('LANDSAT/LE07/C01/T1_SR').filterBounds(roi).filterDate(startDate, endDate).map(invalid_pixels)           \n",
    "    landsat8 = ee.ImageCollection('LANDSAT/LC08/C01/T1_SR').filterBounds(roi).filterDate(startDate, endDate).map(invalid_pixels)\n",
    "    # l8 = landsat8.merge(landsat7).merge(landsat5)\n",
    "    landsat_image = landsat5.map(lambda i : i.setMulti({'path_row': ee.String(i.get('system:id')).slice(-15,-9)}))\n",
    "    path_row = landsat_image.distinct('path_row').aggregate_array('path_row')\n",
    "    print(path_row.getInfo())\n",
    "    landsat_image = landsat7.map(lambda i : i.setMulti({'path_row': ee.String(i.get('system:id')).slice(-15,-9)}))\n",
    "    path_row = landsat_image.distinct('path_row').aggregate_array('path_row')\n",
    "    print(path_row.getInfo())\n",
    "    landsat_image = landsat8.map(lambda i : i.setMulti({'path_row': ee.String(i.get('system:id')).slice(-15,-9)}))\n",
    "    path_row = landsat_image.distinct('path_row').aggregate_array('path_row')\n",
    "    print(path_row.getInfo())"
   ]
  },
  {
   "cell_type": "code",
   "execution_count": null,
   "id": "2f0414a8",
   "metadata": {
    "ExecuteTime": {
     "end_time": "2021-12-09T13:18:43.985363Z",
     "start_time": "2021-12-09T13:18:42.540304Z"
    }
   },
   "outputs": [],
   "source": [
    "# ['122039', '122040', '123038', '123039']\n",
    "# 显示边界范围\n",
    "year = '2019'\n",
    "startDate = year + '-01-01'\n",
    "endDate = year + '-12-31'\n",
    "landsat5 = ee.ImageCollection('LANDSAT/LT05/C01/T1_SR').filterBounds(roi).filterDate(startDate, endDate)\n",
    "landsat7 = ee.ImageCollection('LANDSAT/LE07/C01/T1_SR').filterBounds(roi).filterDate(startDate, endDate)         \n",
    "landsat8 = ee.ImageCollection('LANDSAT/LC08/C01/T1_SR').filterBounds(roi).filterDate(startDate, endDate)\n",
    "l8 = landsat8.merge(landsat7).merge(landsat5).map(lambda i : i.setMulti({'path_row': ee.String(i.get('system:id')).slice(-15,-9)}))\n",
    "# '118027'需替换\n",
    "q = l8.filter(ee.Filter.eq('path_row','123045'))\n",
    "print(q.size().getInfo())\n",
    "Map.addLayer(q.first().geometry(), {'color': 'green','opaticy':0.001}, \"q\")"
   ]
  },
  {
   "cell_type": "markdown",
   "id": "20275aa6",
   "metadata": {},
   "source": [
    "# 选择影像"
   ]
  },
  {
   "cell_type": "markdown",
   "id": "4a1f85b6",
   "metadata": {},
   "source": [
    "## 获取影像ID"
   ]
  },
  {
   "cell_type": "code",
   "execution_count": null,
   "id": "f4803197",
   "metadata": {
    "ExecuteTime": {
     "end_time": "2021-12-11T02:33:59.951151Z",
     "start_time": "2021-12-11T02:33:59.944190Z"
    }
   },
   "outputs": [],
   "source": [
    "###### 加载行列号\n",
    "### daqing\n",
    "### ['119027', '119028', '120027', '120028'],'118028'\n",
    "# path_row = ee.List(['119028', '120027', '120028'])\n",
    "### tianjin\n",
    "### ['122033', '123032', '123033'],'122032','124032','124033'\n",
    "# path_row = ee.List(['122033', '123032', '123033'])\n",
    "### wuhan\n",
    "### ['122039', '123038', '123039']\n",
    "# path_row = ee.List(['122039', '123038', '123039'])\n",
    "### prd\n",
    "### ['122044', '122045', '123044'],'121044','121045'\n",
    "# path_row = ee.List(['122044', '122045', '123044'])\n",
    "### tibet\n",
    "### ['138035', '138036', '139035', '139036'],'140036','140035'\n",
    "path_row = ee.List(['138035', '138036', '139035', '139036'])\n",
    "\n",
    "## 时间\n",
    "year = '2019'\n",
    "startDate = year + '-01-01'\n",
    "endDate = year + '-12-31'"
   ]
  },
  {
   "cell_type": "code",
   "execution_count": null,
   "id": "24ab0799",
   "metadata": {
    "ExecuteTime": {
     "end_time": "2021-12-11T02:34:01.136838Z",
     "start_time": "2021-12-11T02:34:01.069924Z"
    }
   },
   "outputs": [],
   "source": [
    "# 影像筛选函数\n",
    "l5 = ee.ImageCollection('LANDSAT/LT05/C01/T1_SR').filterBounds(roi).filterDate(startDate, endDate).map(invalid_pixels)  \n",
    "l7 = ee.ImageCollection('LANDSAT/LE07/C01/T1_SR').filterBounds(roi).filterDate(startDate, endDate).map(invalid_pixels)           \n",
    "l8 = ee.ImageCollection('LANDSAT/LC08/C01/T1_SR').filterBounds(roi).filterDate(startDate, endDate).map(invalid_pixels)\n",
    "# def filter_image(id):\n",
    "#     images_l8 = landsat8.map(lambda i:i.setMulti({'path_row': ee.String(i.get('system:id')).slice(-15,-9),'month':ee.Number.parse(ee.String(i.get('system:id')).slice(-4,-2))}))\n",
    "#     month_l8 = images_l8.map(lambda i:i.set({'img_id':i.get('system:index')})).filter(ee.Filter.eq('path_row',id))\n",
    "#     first_quarter_l8 = ee.ImageCollection(month_l8.filter(ee.Filter.lte('month',3)).filter(ee.Filter.gte('month',1)).sort('invalid_rate').first()).first()\n",
    "#     second_quarter_l8 = ee.ImageCollection(month_l8.filter(ee.Filter.lte('month',6)).filter(ee.Filter.gte('month',4)).sort('invalid_rate').first()).first()\n",
    "#     third_quarter_l8 = ee.ImageCollection(month_l8.filter(ee.Filter.lte('month',9)).filter(ee.Filter.gte('month',7)).sort('invalid_rate').first()).first()\n",
    "#     fourth_quarter_l8 = ee.ImageCollection(month_l8.filter(ee.Filter.lte('month',12)).filter(ee.Filter.gte('month',10)).sort('invalid_rate').first()).first()\n",
    "#     img_col = ee.ImageCollection([first_quarter_l8,second_quarter_l8,third_quarter_l8,fourth_quarter_l8])\n",
    "#     return img_col\n",
    "def filter_image(id):\n",
    "    # l8\n",
    "    images_l8 = l8.map(lambda i:i.setMulti({'path_row': ee.String(i.get('system:id')).slice(-15,-9),'month':ee.Number.parse(ee.String(i.get('system:id')).slice(-4,-2))}))\n",
    "    month_l8 = images_l8.map(lambda i:i.set({'img_id':i.get('system:id')})).filter(ee.Filter.eq('path_row',id))\n",
    "    first_quarter_l8 = ee.ImageCollection(month_l8.filter(ee.Filter.lte('month',3)).filter(ee.Filter.gte('month',1)).sort('invalid_rate')).first()\n",
    "    second_quarter_l8 = ee.ImageCollection(month_l8.filter(ee.Filter.lte('month',6)).filter(ee.Filter.gte('month',4)).sort('invalid_rate')).first()\n",
    "    third_quarter_l8 = ee.ImageCollection(month_l8.filter(ee.Filter.lte('month',9)).filter(ee.Filter.gte('month',7)).sort('invalid_rate')).first()\n",
    "    fourth_quarter_l8 = ee.ImageCollection(month_l8.filter(ee.Filter.lte('month',12)).filter(ee.Filter.gte('month',10)).sort('invalid_rate')).first()\n",
    "    # l7\n",
    "    images_l7 = l7.map(lambda i:i.setMulti({'path_row': ee.String(i.get('system:id')).slice(-15,-9),'month':ee.Number.parse(ee.String(i.get('system:id')).slice(-4,-2))}))\n",
    "    month_l7 = images_l7.map(lambda i:i.set({'img_id':i.get('system:id')})).filter(ee.Filter.eq('path_row',id))\n",
    "    first_quarter_l7 = ee.ImageCollection(month_l7.filter(ee.Filter.lte('month',3)).filter(ee.Filter.gte('month',1)).sort('invalid_rate')).first()\n",
    "    second_quarter_l7 = ee.ImageCollection(month_l7.filter(ee.Filter.lte('month',6)).filter(ee.Filter.gte('month',4)).sort('invalid_rate')).first()\n",
    "    third_quarter_l7 = ee.ImageCollection(month_l7.filter(ee.Filter.lte('month',9)).filter(ee.Filter.gte('month',7)).sort('invalid_rate')).first()\n",
    "    fourth_quarter_l7 = ee.ImageCollection(month_l7.filter(ee.Filter.lte('month',12)).filter(ee.Filter.gte('month',10)).sort('invalid_rate')).first()\n",
    "    # l5\n",
    "    images_l5 = l5.map(lambda i:i.setMulti({'path_row': ee.String(i.get('system:id')).slice(-15,-9),'month':ee.Number.parse(ee.String(i.get('system:id')).slice(-4,-2))}))\n",
    "    month_l5 = images_l5.map(lambda i:i.set({'img_id':i.get('system:id')})).filter(ee.Filter.eq('path_row',id))\n",
    "    first_quarter_l5 = ee.ImageCollection(month_l5.filter(ee.Filter.lte('month',3)).filter(ee.Filter.gte('month',1)).sort('invalid_rate')).first()\n",
    "    second_quarter_l5 = ee.ImageCollection(month_l5.filter(ee.Filter.lte('month',6)).filter(ee.Filter.gte('month',4)).sort('invalid_rate')).first()\n",
    "    third_quarter_l5 = ee.ImageCollection(month_l5.filter(ee.Filter.lte('month',9)).filter(ee.Filter.gte('month',7)).sort('invalid_rate')).first()\n",
    "    fourth_quarter_l5 = ee.ImageCollection(month_l5.filter(ee.Filter.lte('month',12)).filter(ee.Filter.gte('month',10)).sort('invalid_rate')).first()\n",
    "    img_col = ee.ImageCollection([first_quarter_l8,second_quarter_l8,third_quarter_l8,fourth_quarter_l8,first_quarter_l7,second_quarter_l7,third_quarter_l7,fourth_quarter_l7,first_quarter_l5,second_quarter_l5,third_quarter_l5,fourth_quarter_l5])\n",
    "    return img_col"
   ]
  },
  {
   "cell_type": "code",
   "execution_count": null,
   "id": "0373334c",
   "metadata": {
    "ExecuteTime": {
     "end_time": "2021-12-11T02:38:49.225059Z",
     "start_time": "2021-12-11T02:34:07.433334Z"
    },
    "scrolled": false
   },
   "outputs": [],
   "source": [
    "## 计算在每个行列号上选择的月份和卫星类型\n",
    "# landsat5 = ee.ImageCollection('LANDSAT/LT05/C01/T1_SR').filterBounds(roi).filterDate(startDate, endDate).map(invalid_pixels)  \n",
    "# landsat7 = ee.ImageCollection('LANDSAT/LE07/C01/T1_SR').filterBounds(roi).filterDate(startDate, endDate).map(invalid_pixels)           \n",
    "# landsat8 = ee.ImageCollection('LANDSAT/LC08/C01/T1_SR').filterBounds(roi).filterDate(startDate, endDate).map(invalid_pixels)\n",
    "# l8 = landsat8.merge(landsat7).merge(landsat5)\n",
    "select_image = path_row.map(filter_image)\n",
    "number = path_row.size().getInfo()\n",
    "for i in range(0,number):\n",
    "    print(ee.ImageCollection(select_image .get(i)).aggregate_array('month').getInfo())\n",
    "    print(ee.ImageCollection(select_image .get(i)).aggregate_array('SATELLITE').getInfo())\n",
    "    print(ee.ImageCollection(select_image .get(i)).aggregate_array('invalid_rate').getInfo())\n",
    "    print(ee.ImageCollection(select_image .get(i)).aggregate_array('img_id').getInfo())"
   ]
  },
  {
   "cell_type": "code",
   "execution_count": 11,
   "id": "fcfb246e",
   "metadata": {
    "ExecuteTime": {
     "end_time": "2021-12-17T00:25:10.429833Z",
     "start_time": "2021-12-17T00:25:09.891048Z"
    }
   },
   "outputs": [],
   "source": [
    "year = '1999'\n",
    "startDate = year + '-01-01'\n",
    "endDate = year + '-12-31'\n",
    "landsat5 = ee.ImageCollection('LANDSAT/LT05/C01/T1_SR').filterBounds(roi).filterDate(startDate, endDate)\n",
    "landsat7 = ee.ImageCollection('LANDSAT/LE07/C01/T1_SR').filterBounds(roi).filterDate(startDate, endDate)         \n",
    "landsat8 = ee.ImageCollection('LANDSAT/LC08/C01/T1_SR').filterBounds(roi).filterDate(startDate, endDate)\n",
    "l8 = landsat8.merge(landsat7).merge(landsat5).map(lambda i : i.setMulti({'path_row': ee.String(i.get('system:id')).slice(-15,-9)}))\n",
    "# '118027'需替换,'138035', '138036', '139035', '139036'\n",
    "q = l8.filter(ee.Filter.eq('path_row','139035'))\n",
    "Map.addLayer(q.first().geometry(), {'color': 'green','opaticy':0.001}, \"q\")\n",
    "# q1 = l8.filter(ee.Filter.eq('path_row','119027'))\n",
    "# Map.addLayer(q1.first().geometry(), {'color': 'green','opaticy':0.001}, \"q1\")"
   ]
  },
  {
   "cell_type": "code",
   "execution_count": 9,
   "id": "c923d8cc",
   "metadata": {
    "ExecuteTime": {
     "end_time": "2021-12-17T00:24:32.741793Z",
     "start_time": "2021-12-17T00:24:32.726804Z"
    }
   },
   "outputs": [
    {
     "data": {
      "application/vnd.jupyter.widget-view+json": {
       "model_id": "45521c65f6f84b8795a19fa74c3a4e26",
       "version_major": 2,
       "version_minor": 0
      },
      "text/plain": [
       "Map(bottom=13252.0, center=[35.24374500727302, 90.62259999999999], controls=(WidgetControl(options=['position'…"
      ]
     },
     "metadata": {},
     "output_type": "display_data"
    }
   ],
   "source": [
    "Map"
   ]
  },
  {
   "cell_type": "code",
   "execution_count": null,
   "id": "6291badb",
   "metadata": {
    "ExecuteTime": {
     "end_time": "2021-12-10T01:11:47.751561Z",
     "start_time": "2021-12-10T01:11:39.951423Z"
    }
   },
   "outputs": [],
   "source": [
    "## 合并在各个行列号上选择的影像\n",
    "img_col = ee.ImageCollection([])\n",
    "for i in range(0,number):\n",
    "    img_col = img_col.merge(ee.ImageCollection(select_image.get(i)))\n",
    "sample_image = img_col\n",
    "print(sample_image.size().getInfo())\n",
    "print(sample_image.aggregate_array('month').getInfo())\n",
    "print(sample_image.aggregate_array('img_id').getInfo())"
   ]
  },
  {
   "cell_type": "markdown",
   "id": "9c1cb729",
   "metadata": {},
   "source": [
    "## 加载样本集"
   ]
  },
  {
   "cell_type": "code",
   "execution_count": null,
   "id": "d84be67e",
   "metadata": {
    "ExecuteTime": {
     "end_time": "2021-12-13T01:54:00.246648Z",
     "start_time": "2021-12-13T01:54:00.240276Z"
    }
   },
   "outputs": [],
   "source": [
    "region = 'wuhan'\n",
    "sample_region = 'WUHAN'\n",
    "year = '2009'\n",
    "## 永久性水体样本和非水体样本，抽样\n",
    "pw_nw = ee.FeatureCollection('users/311605001111/SAMPLE_' + sample_region + '/' + region + year)\n",
    "permanent_water = pw_nw.filter(ee.Filter.eq('point_type','permanent_water'))\n",
    "no_water = pw_nw.filter(ee.Filter.eq('point_type','no_water'))\n",
    "season_water = pw_nw.filter(ee.Filter.eq('point_type','season'))\n",
    "\n",
    "# def filter_sample_pw(id):\n",
    "#     pw_sample = pepermanent_water.filter(ee.Filter.eq('img_id',id))\n",
    "#     nw_sample = no_water.filter(ee.Filter.eq('img_id',id))\n",
    "    \n",
    "# def filter_sample_nw(id):\n",
    "#     pw_sample = pepermanent_water.filter(ee.Filter.eq('img_id',id))\n",
    "#     nw_sample = no_water.filter(ee.Filter.eq('img_id',id))\n",
    "\n",
    "# def filter_sample_sw(id):\n",
    "#     pw_sample = pepermanent_water.filter(ee.Filter.eq('img_id',id))\n",
    "#     nw_sample = no_water.filter(ee.Filter.eq('img_id',id))"
   ]
  },
  {
   "cell_type": "code",
   "execution_count": null,
   "id": "c49483d6",
   "metadata": {
    "ExecuteTime": {
     "end_time": "2021-12-13T01:54:08.955657Z",
     "start_time": "2021-12-13T01:54:08.086432Z"
    }
   },
   "outputs": [],
   "source": [
    "print(pw_nw.first().getInfo())"
   ]
  },
  {
   "cell_type": "code",
   "execution_count": null,
   "id": "5865fef4",
   "metadata": {
    "ExecuteTime": {
     "end_time": "2021-12-10T00:58:15.504094Z",
     "start_time": "2021-12-10T00:57:59.348870Z"
    }
   },
   "outputs": [],
   "source": [
    "zz = sample_image.aggregate_array('img_id').map(lambda id : pw_nw.filter(ee.Filter.eq('Image_id',id))).flatten()\n",
    "print(zz.flatten().size().getInfo())\n",
    "img_col = ee.ImageCollection([])\n",
    "number = sample_image.size().getInfo()\n",
    "for i in range(0,number):\n",
    "    img_col = img_col.merge(ee.FeatureCollection(zz.get(i)))\n",
    "print(img_col.size().getInfo())"
   ]
  },
  {
   "cell_type": "code",
   "execution_count": null,
   "id": "216c6151",
   "metadata": {
    "ExecuteTime": {
     "end_time": "2021-12-10T00:58:38.640858Z",
     "start_time": "2021-12-10T00:58:24.085005Z"
    }
   },
   "outputs": [],
   "source": [
    "zz = sample_image.aggregate_array('img_id').map(lambda id : permanent_water.filter(ee.Filter.eq('Image_id',id))).flatten()\n",
    "print(zz.flatten().size().getInfo())\n",
    "img_col = ee.ImageCollection([])\n",
    "number = sample_image.size().getInfo()\n",
    "for i in range(0,number):\n",
    "    img_col = img_col.merge(ee.FeatureCollection(zz.get(i)))\n",
    "print(img_col.size().getInfo())"
   ]
  },
  {
   "cell_type": "code",
   "execution_count": null,
   "id": "d9c6bbed",
   "metadata": {
    "ExecuteTime": {
     "end_time": "2021-12-10T00:59:05.249171Z",
     "start_time": "2021-12-10T00:58:48.910538Z"
    }
   },
   "outputs": [],
   "source": [
    "zz = sample_image.aggregate_array('img_id').map(lambda id : no_water.filter(ee.Filter.eq('Image_id',id))).flatten()\n",
    "print(zz.flatten().size().getInfo())\n",
    "img_col = ee.ImageCollection([])\n",
    "number = sample_image.size().getInfo()\n",
    "for i in range(0,number):\n",
    "    img_col = img_col.merge(ee.FeatureCollection(zz.get(i)))\n",
    "print(img_col.size().getInfo())"
   ]
  },
  {
   "cell_type": "code",
   "execution_count": null,
   "id": "f8b57b7f",
   "metadata": {
    "ExecuteTime": {
     "end_time": "2021-12-10T00:59:31.081387Z",
     "start_time": "2021-12-10T00:59:15.963896Z"
    }
   },
   "outputs": [],
   "source": [
    "zz = sample_image.aggregate_array('img_id').map(lambda id : season_water.filter(ee.Filter.eq('Image_id',id))).flatten()\n",
    "print(zz.flatten().size().getInfo())\n",
    "img_col = ee.ImageCollection([])\n",
    "number = sample_image.size().getInfo()\n",
    "for i in range(0,number):\n",
    "    img_col = img_col.merge(ee.FeatureCollection(zz.get(i)))\n",
    "print(img_col.size().getInfo())"
   ]
  },
  {
   "cell_type": "code",
   "execution_count": null,
   "id": "cd6f216e",
   "metadata": {
    "ExecuteTime": {
     "end_time": "2021-12-10T00:36:13.514259Z",
     "start_time": "2021-12-10T00:36:07.519285Z"
    }
   },
   "outputs": [],
   "source": [
    "zz = sample_image.aggregate_array('img_id').map(lambda id : season_water.filter(ee.Filter.eq('Image_id',id))).flatten()\n",
    "print(zz.size().getInfo())"
   ]
  },
  {
   "cell_type": "code",
   "execution_count": null,
   "id": "9175b808",
   "metadata": {},
   "outputs": [],
   "source": []
  },
  {
   "cell_type": "code",
   "execution_count": null,
   "id": "ac738c02",
   "metadata": {
    "ExecuteTime": {
     "end_time": "2021-12-09T14:53:37.414848Z",
     "start_time": "2021-12-09T14:53:36.612398Z"
    }
   },
   "outputs": [],
   "source": [
    "region = 'wuhan'\n",
    "sample_region = 'WUHAN'\n",
    "year = '2019'\n",
    "## 永久性水体样本和非水体样本，抽样\n",
    "pw_nw = ee.FeatureCollection('users/311605001111/SAMPLE_' + sample_region + '/' + region + year)\n",
    "print(pw_nw.size().getInfo())\n",
    "permanent_water = pw_nw.filter(ee.Filter.eq('waterclass',1))\n",
    "no_water = pw_nw.filter(ee.Filter.eq('waterclass',0))\n",
    "print(pw_nw.first().getInfo())"
   ]
  },
  {
   "cell_type": "code",
   "execution_count": null,
   "id": "e620e50b",
   "metadata": {},
   "outputs": [],
   "source": [
    "permanent_water = pw_nw.filter(ee.Filter.eq('point_type','permanent_water')).filter(ee.Filter.eq('Image_id',id))\n",
    "no_water = pw_nw.filter(ee.Filter.eq('point_type','no_water')).filter(ee.Filter.eq('Image_id',id))\n",
    "season_water = pw_nw.filter(ee.Filter.eq('point_type','season')).filter(ee.Filter.eq('Image_id',id))"
   ]
  },
  {
   "cell_type": "code",
   "execution_count": null,
   "id": "4f667d53",
   "metadata": {},
   "outputs": [],
   "source": []
  },
  {
   "cell_type": "code",
   "execution_count": null,
   "id": "2240a905",
   "metadata": {},
   "outputs": [],
   "source": []
  },
  {
   "cell_type": "code",
   "execution_count": null,
   "id": "5257519f",
   "metadata": {},
   "outputs": [],
   "source": []
  },
  {
   "cell_type": "code",
   "execution_count": null,
   "id": "28d06158",
   "metadata": {},
   "outputs": [],
   "source": []
  },
  {
   "cell_type": "code",
   "execution_count": null,
   "id": "af89a767",
   "metadata": {},
   "outputs": [],
   "source": []
  },
  {
   "cell_type": "code",
   "execution_count": null,
   "id": "d1a9e4d5",
   "metadata": {},
   "outputs": [],
   "source": []
  },
  {
   "cell_type": "code",
   "execution_count": null,
   "id": "ec7771e4",
   "metadata": {},
   "outputs": [],
   "source": []
  },
  {
   "cell_type": "code",
   "execution_count": null,
   "id": "58f4ec7b",
   "metadata": {},
   "outputs": [],
   "source": []
  },
  {
   "cell_type": "code",
   "execution_count": null,
   "id": "3dd45b4c",
   "metadata": {
    "ExecuteTime": {
     "end_time": "2021-12-09T12:30:46.915904Z",
     "start_time": "2021-12-09T12:30:44.230906Z"
    }
   },
   "outputs": [],
   "source": [
    "# 影像筛选函数\n",
    "def filter_image(id):\n",
    "    # l8\n",
    "    images_l8 = l8.map(lambda i:i.setMulti({'path_row': ee.String(i.get('system:id')).slice(-15,-9),'month':ee.Number.parse(ee.String(i.get('system:id')).slice(-4,-2))}))\n",
    "    month_l8 = images_l8.map(lambda i:i.set({'img_id':i.get('system:index')})).filter(ee.Filter.eq('path_row',id))\n",
    "    first_quarter_l8 = ee.ImageCollection(month_l8.filter(ee.Filter.lte('month',3)).filter(ee.Filter.gte('month',1)).randomColumn('random',1,'uniform').sort('random')).first()\n",
    "    second_quarter_l8 = ee.ImageCollection(month_l8.filter(ee.Filter.lte('month',6)).filter(ee.Filter.gte('month',4)).randomColumn('random',1,'uniform').sort('random')).first()\n",
    "    third_quarter_l8 = ee.ImageCollection(month_l8.filter(ee.Filter.lte('month',9)).filter(ee.Filter.gte('month',7)).randomColumn('random',1,'uniform').sort('random')).first()\n",
    "    fourth_quarter_l8 = ee.ImageCollection(month_l8.filter(ee.Filter.lte('month',12)).filter(ee.Filter.gte('month',10)).randomColumn('random',1,'uniform').sort('random')).first()\n",
    "    # l7\n",
    "    images_l7 = l7.map(lambda i:i.setMulti({'path_row': ee.String(i.get('system:id')).slice(-15,-9),'month':ee.Number.parse(ee.String(i.get('system:id')).slice(-4,-2))}))\n",
    "    month_l7 = images_l7.map(lambda i:i.set({'img_id':i.get('system:index')})).filter(ee.Filter.eq('path_row',id))\n",
    "    first_quarter_l7 = ee.ImageCollection(month_l7.filter(ee.Filter.lte('month',3)).filter(ee.Filter.gte('month',1)).randomColumn('random',1,'uniform').sort('random')).first()\n",
    "    second_quarter_l7 = ee.ImageCollection(month_l7.filter(ee.Filter.lte('month',6)).filter(ee.Filter.gte('month',4)).randomColumn('random',1,'uniform').sort('random')).first()\n",
    "    third_quarter_l7 = ee.ImageCollection(month_l7.filter(ee.Filter.lte('month',9)).filter(ee.Filter.gte('month',7)).randomColumn('random',1,'uniform').sort('random')).first()\n",
    "    fourth_quarter_l7 = ee.ImageCollection(month_l7.filter(ee.Filter.lte('month',12)).filter(ee.Filter.gte('month',10)).randomColumn('random',1,'uniform').sort('random')).first()\n",
    "    # l5\n",
    "    images_l5 = l5.map(lambda i:i.setMulti({'path_row': ee.String(i.get('system:id')).slice(-15,-9),'month':ee.Number.parse(ee.String(i.get('system:id')).slice(-4,-2))}))\n",
    "    month_l5 = images_l5.map(lambda i:i.set({'img_id':i.get('system:index')})).filter(ee.Filter.eq('path_row',id))\n",
    "    first_quarter_l5 = ee.ImageCollection(month_l5.filter(ee.Filter.lte('month',3)).filter(ee.Filter.gte('month',1)).randomColumn('random',1,'uniform').sort('random')).first()\n",
    "    second_quarter_l5 = ee.ImageCollection(month_l5.filter(ee.Filter.lte('month',6)).filter(ee.Filter.gte('month',4)).randomColumn('random',1,'uniform').sort('random')).first()\n",
    "    third_quarter_l5 = ee.ImageCollection(month_l5.filter(ee.Filter.lte('month',9)).filter(ee.Filter.gte('month',7)).randomColumn('random',1,'uniform').sort('random')).first()\n",
    "    fourth_quarter_l5 = ee.ImageCollection(month_l5.filter(ee.Filter.lte('month',12)).filter(ee.Filter.gte('month',10)).randomColumn('random',1,'uniform').sort('random')).first()\n",
    "    img_col = ee.ImageCollection([first_quarter_l8,second_quarter_l8,third_quarter_l8,fourth_quarter_l8,first_quarter_l7,second_quarter_l7,third_quarter_l7,fourth_quarter_l7,first_quarter_l5,second_quarter_l5,third_quarter_l5,fourth_quarter_l5])\n",
    "    return img_col\n",
    "\n",
    "## 计算唯一的行列号\n",
    "l5 = ee.ImageCollection('LANDSAT/LT05/C01/T1_SR').filterBounds(roi).filterDate(startDate, endDate)  \n",
    "l7 = ee.ImageCollection('LANDSAT/LE07/C01/T1_SR').filterBounds(roi).filterDate(startDate, endDate)           \n",
    "l8 = ee.ImageCollection('LANDSAT/LC08/C01/T1_SR').filterBounds(roi).filterDate(startDate, endDate)\n",
    "region_images = l8.merge(l7).merge(l5).map(filter_image)\n",
    "landsat_image = region_images.map(lambda i : i.setMulti({'path_row': ee.String(i.get('system:id')).slice(-15,-9),'month':ee.Number.parse(ee.String(i.get('system:id')).slice(-4,-2))}))\n",
    "path_row = landsat_image.distinct('path_row').aggregate_array('path_row')\n",
    "print(path_row.getInfo())\n",
    "\n",
    "## 计算在每个行列号上选择的月份和卫星类型\n",
    "select_image = path_row.map(filter_image)\n",
    "number = path_row.size().getInfo()\n",
    "print(path_row.size().getInfo())\n",
    "for i in range(0,number):\n",
    "    print(ee.ImageCollection(select_image .get(i)).aggregate_array('month').getInfo())\n",
    "    print(ee.ImageCollection(select_image .get(i)).aggregate_array('SATELLITE').getInfo())"
   ]
  },
  {
   "cell_type": "code",
   "execution_count": null,
   "id": "36b16caa",
   "metadata": {
    "ExecuteTime": {
     "end_time": "2021-12-09T10:05:18.611954Z",
     "start_time": "2021-12-09T10:05:15.635471Z"
    }
   },
   "outputs": [],
   "source": [
    "## 合并在各个行列号上选择的影像\n",
    "img_col = ee.ImageCollection([])\n",
    "for i in range(0,number):\n",
    "    img_col = img_col.merge(ee.ImageCollection(select_image.get(i)))\n",
    "sample_image = img_col.map(water_index).map(maskSR)\n",
    "print(sample_image.size().getInfo())\n",
    "print(sample_image.aggregate_array('path_row').getInfo())\n",
    "print(sample_image.aggregate_array('month').getInfo())"
   ]
  },
  {
   "cell_type": "code",
   "execution_count": null,
   "id": "d36bda6b",
   "metadata": {},
   "outputs": [],
   "source": []
  }
 ],
 "metadata": {
  "hide_input": false,
  "kernelspec": {
   "display_name": "Python 3 (ipykernel)",
   "language": "python",
   "name": "python3"
  },
  "language_info": {
   "codemirror_mode": {
    "name": "ipython",
    "version": 3
   },
   "file_extension": ".py",
   "mimetype": "text/x-python",
   "name": "python",
   "nbconvert_exporter": "python",
   "pygments_lexer": "ipython3",
   "version": "3.8.12"
  },
  "toc": {
   "base_numbering": 1,
   "nav_menu": {},
   "number_sections": true,
   "sideBar": true,
   "skip_h1_title": false,
   "title_cell": "Table of Contents",
   "title_sidebar": "Contents",
   "toc_cell": false,
   "toc_position": {},
   "toc_section_display": true,
   "toc_window_display": false
  },
  "varInspector": {
   "cols": {
    "lenName": 16,
    "lenType": 16,
    "lenVar": 40
   },
   "kernels_config": {
    "python": {
     "delete_cmd_postfix": "",
     "delete_cmd_prefix": "del ",
     "library": "var_list.py",
     "varRefreshCmd": "print(var_dic_list())"
    },
    "r": {
     "delete_cmd_postfix": ") ",
     "delete_cmd_prefix": "rm(",
     "library": "var_list.r",
     "varRefreshCmd": "cat(var_dic_list()) "
    }
   },
   "types_to_exclude": [
    "module",
    "function",
    "builtin_function_or_method",
    "instance",
    "_Feature"
   ],
   "window_display": false
  }
 },
 "nbformat": 4,
 "nbformat_minor": 5
}
