{
 "cells": [
  {
   "cell_type": "code",
   "execution_count": 1,
   "id": "6bd39e71",
   "metadata": {
    "ExecuteTime": {
     "end_time": "2022-02-23T01:56:14.299227Z",
     "start_time": "2022-02-23T01:56:14.289283Z"
    }
   },
   "outputs": [],
   "source": [
    "import os\n",
    "os.environ['HTTP_PROXY'] = \"http://127.0.0.1:10809\"\n",
    "os.environ['HTTPS_PROXY'] = \"http://127.0.0.1:10809\""
   ]
  },
  {
   "cell_type": "code",
   "execution_count": 2,
   "id": "4108399f",
   "metadata": {
    "ExecuteTime": {
     "end_time": "2022-02-23T01:56:18.432830Z",
     "start_time": "2022-02-23T01:56:14.508846Z"
    },
    "scrolled": false
   },
   "outputs": [
    {
     "data": {
      "application/vnd.jupyter.widget-view+json": {
       "model_id": "155337dc273245528af7c7d00c0998ea",
       "version_major": 2,
       "version_minor": 0
      },
      "text/plain": [
       "Map(center=[20, 0], controls=(WidgetControl(options=['position', 'transparent_bg'], widget=HBox(children=(Togg…"
      ]
     },
     "metadata": {},
     "output_type": "display_data"
    }
   ],
   "source": [
    "import geemap\n",
    "import ee\n",
    "Map=geemap.Map()\n",
    "Map"
   ]
  },
  {
   "cell_type": "code",
   "execution_count": null,
   "id": "cd096dc6",
   "metadata": {
    "ExecuteTime": {
     "end_time": "2021-12-24T10:02:05.023865Z",
     "start_time": "2021-12-24T10:02:04.371552Z"
    }
   },
   "outputs": [],
   "source": [
    "# # 大庆市\n",
    "# roi = ee.Geometry.Rectangle([123.9355, 45.8362,125.3055, 46.8762])\n",
    "# # 天津市\n",
    "# roi = ee.Geometry.Rectangle([115.9244, 38.6272,117.4944,39.6372])\n",
    "# # 武汉市\n",
    "# roi = ee.Geometry.Rectangle([113.7393, 29.8642,115.0993, 30.9242])\n",
    "# # 珠三角\n",
    "# roi = ee.Geometry.Rectangle([112.7614, 22.2347,114.0514, 23.2547])\n",
    "# 青藏高原\n",
    "roi = ee.Geometry.Rectangle([89.8826, 34.6579,91.3626, 35.8279])\n",
    "Map.addLayer(roi, {}, \"roi\")\n",
    "Map.centerObject(roi,7)"
   ]
  },
  {
   "cell_type": "code",
   "execution_count": null,
   "id": "324c7216",
   "metadata": {
    "ExecuteTime": {
     "end_time": "2021-12-24T10:02:06.190451Z",
     "start_time": "2021-12-24T10:02:05.072311Z"
    }
   },
   "outputs": [],
   "source": [
    "# l8 = ee.ImageCollection('LANDSAT/LC08/C01/T1_SR').filterBounds(roi).filterDate('2020-08-01','2020-10-31').filter(ee.Filter.lt('CLOUD_COVER',20))\n",
    "# visParams = {'bands': ['B5', 'B6', 'B4'],'min': 0,'max': 3000,'gamma': 1.4}\n",
    "# # Map.addLayer(l8, visParams,'image mosaic')\n",
    "# print(l8.aggregate_array('system:index').getInfo())\n",
    "\n",
    "landsat5 = ee.ImageCollection('LANDSAT/LT05/C01/T1_SR').select(['B1', 'B2', 'B3', 'B4', 'B5', 'B7','pixel_qa'],['B2', 'B3', 'B4', 'B5', 'B6', 'B7','pixel_qa'])\n",
    "l5 = landsat5.filterBounds(roi).filterDate('2000-08-01','2000-10-31').filter(ee.Filter.lt('CLOUD_COVER',10))\n",
    "print(l5.aggregate_array('system:index').getInfo())\n",
    "\n",
    "a = ee.Image('LANDSAT/LC08/C01/T1_SR/LC08_122033_20200828')\n",
    "visParams = {'bands': ['B5', 'B6', 'B4'],'min': 0,'max': 3000,'gamma': 1.4}\n",
    "Map.addLayer(a, visParams,'a')"
   ]
  },
  {
   "cell_type": "markdown",
   "id": "b9f5fde6",
   "metadata": {},
   "source": [
    "## 循环，生成总的样本集"
   ]
  },
  {
   "cell_type": "code",
   "execution_count": null,
   "id": "8c775375",
   "metadata": {
    "ExecuteTime": {
     "end_time": "2021-12-24T10:02:06.252075Z",
     "start_time": "2021-12-24T10:02:06.237703Z"
    }
   },
   "outputs": [],
   "source": [
    "## 异常值去除\n",
    "bands = ['B2', 'B3', 'B4', 'B5', 'B6', 'B7','NDVI','NDWI','mNDWI','CWI','AWEI','EWI','EVI']\n",
    "#### cluster与waterclass的对比\n",
    "def Compare(feature):\n",
    "    cluster = ee.Number(feature.get('cluster'))\n",
    "    waterclass = ee.Number(feature.get('waterclass'))\n",
    "    ft = ee.Algorithms.If(cluster.eq(waterclass),feature.set({'eq':1}),feature.set({'eq':0}))\n",
    "    return ft\n",
    "#### k-mean聚类\n",
    "def k_mean(sampleSET):\n",
    "    clusterer = ee.Clusterer.wekaKMeans(2).train(sampleSET,bands)\n",
    "    result = sampleSET.cluster(clusterer)\n",
    "    right = result.map(Compare).filter(ee.Filter.eq('eq',0))\n",
    "    error = result.map(Compare).filter(ee.Filter.eq('eq',1))\n",
    "    filtered_sample = ee.FeatureCollection(ee.Algorithms.If(right.size().gt(error.size()),right,error))\n",
    "    return filtered_sample"
   ]
  },
  {
   "cell_type": "code",
   "execution_count": null,
   "id": "4db1e0b8",
   "metadata": {
    "ExecuteTime": {
     "end_time": "2021-12-09T07:09:13.078518Z",
     "start_time": "2021-12-09T07:09:13.063523Z"
    }
   },
   "outputs": [],
   "source": [
    "# region = 'tibet'\n",
    "# sample_region = 'TIBET'\n",
    "# for year in range(2000,2021,1):\n",
    "#     print(year)\n",
    "#     sw = ee.FeatureCollection('users/311605001111/SAMPLE_' + sample_region + '/' + region + '_kmean100_season' + str(year)+'_v2').randomColumn('random',1,'uniform').sort('random').limit(500)\n",
    "#     print('抽样的季节性水体： ',sw.size().getInfo())"
   ]
  },
  {
   "cell_type": "code",
   "execution_count": null,
   "id": "8b8728e7",
   "metadata": {
    "ExecuteTime": {
     "end_time": "2021-12-24T10:10:19.210019Z",
     "start_time": "2021-12-24T10:06:16.737960Z"
    },
    "scrolled": false
   },
   "outputs": [],
   "source": [
    "region = 'tibet'\n",
    "sample_region = 'TIBET'\n",
    "totalSamples = ee.FeatureCollection([])\n",
    "for year in range(1999,2021,5):\n",
    "    print(year)\n",
    "    ## 永久性水体样本和非水体样本，抽样\n",
    "    # pw_nw = ee.FeatureCollection('users/311605001111/' + region + '_kmean100_noseason' + str(year))\n",
    "    pw_nw = ee.FeatureCollection('users/311605001111/SAMPLE_' + sample_region + '/' + region + '_kmean100_noseason' + str(year))\n",
    "    permanent_water = pw_nw.filter(ee.Filter.eq('waterclass',1)).randomColumn('random',1,'uniform').sort('random').limit(500)\n",
    "    no_water = pw_nw.filter(ee.Filter.eq('waterclass',0)).randomColumn('random',1,'uniform').sort('random').limit(3000)\n",
    "    print('抽样的永久性水体： ',permanent_water.size().getInfo())\n",
    "    print('抽样的非水体： ',no_water.size().getInfo())\n",
    "    ## 季节性样本，抽样\n",
    "    sw = ee.FeatureCollection('users/311605001111/SAMPLE_' + sample_region + '/' + region + '_kmean100_season' + str(year)+'_v2').randomColumn('random',1,'uniform').sort('random').limit(500)\n",
    "    # sw = ee.FeatureCollection('users/311605001111/SAMPLE_' + sample_region + '/' + region + '_kmean100_season' + str(year)).randomColumn('random',1,'uniform').sort('random').limit(500)\n",
    "    print('抽样的季节性水体： ',sw.size().getInfo())\n",
    "    ## 季节性样本，分类\n",
    "    bands = ['B2', 'B3', 'B4', 'B5', 'B6', 'B7','NDVI','NDWI','mNDWI','CWI','AWEI','EWI','EVI']\n",
    "    cluster_samples = ee.FeatureCollection([permanent_water,no_water]).flatten()\n",
    "    clusterer = ee.Clusterer.wekaKMeans(2).train(cluster_samples,bands)\n",
    "    q = ee.FeatureCollection(sw.cluster(clusterer))\n",
    "    q1 = q.filter(ee.Filter.eq('cluster',1))\n",
    "    q0 = q.filter(ee.Filter.eq('cluster',0))\n",
    "    b1 = ee.FeatureCollection(q1).filter(ee.Filter.lt('AWEI',0)).size()\n",
    "    b2 = ee.FeatureCollection(q1).filter(ee.Filter.gt('AWEI',0)).size()\n",
    "    c1 = ee.FeatureCollection(q0).filter(ee.Filter.lt('AWEI',0)).size()\n",
    "    c2 = ee.FeatureCollection(q0).filter(ee.Filter.gt('AWEI',0)).size()\n",
    "    qq1 = ee.Algorithms.If(ee.Number(b1).lt(ee.Number(b2)),q1.map(lambda i:i.set({'waterclass':1})),q1.map(lambda i:i.set({'waterclass':0})))\n",
    "    qq0 = ee.Algorithms.If(ee.Number(c1).lt(ee.Number(c2)),q0.map(lambda i:i.set({'waterclass':1})),q0.map(lambda i:i.set({'waterclass':0})))\n",
    "    seasonWater = ee.FeatureCollection([qq1,qq0]).flatten()\n",
    "    ## 合并\n",
    "    total_Samples = ee.FeatureCollection([permanent_water,no_water,seasonWater]).flatten()\n",
    "    print(\"筛选前，剩余的样本数： \",total_Samples.size().getInfo())\n",
    "    ## 异常值去除\n",
    "    filtered_samples = k_mean(total_Samples)\n",
    "    print(\"筛选后，剩余的样本数： \",filtered_samples.size().getInfo())\n",
    "    print('no-water')\n",
    "    print(filtered_samples.filter(ee.Filter.eq('waterclass',0)).filter(ee.Filter.lt('AWEI',0)).size().getInfo())\n",
    "    print(filtered_samples.filter(ee.Filter.eq('waterclass',0)).filter(ee.Filter.gt('AWEI',0)).size().getInfo())\n",
    "    print('water')\n",
    "    print(filtered_samples.filter(ee.Filter.eq('waterclass',1)).filter(ee.Filter.lt('AWEI',0)).size().getInfo())\n",
    "    print(filtered_samples.filter(ee.Filter.eq('waterclass',1)).filter(ee.Filter.gt('AWEI',0)).size().getInfo())\n",
    "    totalSamples = totalSamples.merge(filtered_samples)\n",
    "    print(\"总样本： \",totalSamples.size().getInfo())"
   ]
  },
  {
   "cell_type": "code",
   "execution_count": null,
   "id": "7c513a61",
   "metadata": {
    "ExecuteTime": {
     "end_time": "2021-12-24T10:13:13.394579Z",
     "start_time": "2021-12-24T10:13:07.240116Z"
    }
   },
   "outputs": [],
   "source": [
    "dataset_id = region + '_kmean100_9920_v2'\n",
    "assetID = 'users/311605001111/SAMPLE_' + sample_region + '/' + dataset_id\n",
    "task = ee.batch.Export.table.toAsset(**{\n",
    "    'collection': totalSamples,\n",
    "    'description': dataset_id,\n",
    "    'assetId': assetID\n",
    "})\n",
    "task.start()"
   ]
  },
  {
   "cell_type": "markdown",
   "id": "a9bcc326",
   "metadata": {
    "ExecuteTime": {
     "end_time": "2021-12-09T14:38:57.544789Z",
     "start_time": "2021-12-09T14:38:57.529901Z"
    }
   },
   "source": [
    "## 分年份生成样本集"
   ]
  },
  {
   "cell_type": "code",
   "execution_count": null,
   "id": "ec9dfb35",
   "metadata": {
    "ExecuteTime": {
     "end_time": "2021-12-24T05:31:05.393369Z",
     "start_time": "2021-12-24T05:31:05.388383Z"
    }
   },
   "outputs": [],
   "source": [
    "## 异常值去除\n",
    "bands = ['B2', 'B3', 'B4', 'B5', 'B6', 'B7','NDVI','NDWI','mNDWI','CWI','AWEI','EWI','EVI']\n",
    "#### cluster与waterclass的对比\n",
    "def Compare(feature):\n",
    "    cluster = ee.Number(feature.get('cluster'))\n",
    "    waterclass = ee.Number(feature.get('waterclass'))\n",
    "    ft = ee.Algorithms.If(cluster.eq(waterclass),feature.set({'eq':1}),feature.set({'eq':0}))\n",
    "    return ft\n",
    "#### k-mean聚类\n",
    "def k_mean(sampleSET):\n",
    "    clusterer = ee.Clusterer.wekaKMeans(2).train(sampleSET,bands)\n",
    "    result = sampleSET.cluster(clusterer)\n",
    "    right = result.map(Compare).filter(ee.Filter.eq('eq',0))\n",
    "    error = result.map(Compare).filter(ee.Filter.eq('eq',1))\n",
    "    filtered_sample = ee.FeatureCollection(ee.Algorithms.If(right.size().gt(error.size()),right,error))\n",
    "    return filtered_sample"
   ]
  },
  {
   "cell_type": "code",
   "execution_count": null,
   "id": "4711ee37",
   "metadata": {
    "ExecuteTime": {
     "end_time": "2021-12-24T05:31:36.429073Z",
     "start_time": "2021-12-24T05:31:26.628409Z"
    },
    "scrolled": false
   },
   "outputs": [],
   "source": [
    "region = 'tibet'\n",
    "sample_region = 'TIBET'\n",
    "for year in range(1999,2000,5):\n",
    "    print(year)\n",
    "    ## 永久性水体样本和非水体样本，抽样\n",
    "    # pw_nw = ee.FeatureCollection('users/311605001111/' + region + '_kmean100_noseason' + str(year))\n",
    "    pw_nw = ee.FeatureCollection('users/311605001111/SAMPLE_' + sample_region + '/' + region + '_kmean100_noseason' + str(year))\n",
    "    permanent_water = pw_nw.filter(ee.Filter.eq('waterclass',1)).randomColumn('random',1,'uniform').sort('random').limit(500)\n",
    "    no_water = pw_nw.filter(ee.Filter.eq('waterclass',0)).randomColumn('random',1,'uniform').sort('random').limit(3000)\n",
    "    print('抽样的永久性水体： ',permanent_water.size().getInfo())\n",
    "    print('抽样的非水体： ',no_water.size().getInfo())\n",
    "    ## 季节性样本，抽样\n",
    "    sw = ee.FeatureCollection('users/311605001111/SAMPLE_' + sample_region + '/' + region + '_kmean100_season' + str(year)+'_v2').randomColumn('random',1,'uniform').sort('random').limit(500)\n",
    "    # sw = ee.FeatureCollection('users/311605001111/SAMPLE_' + sample_region + '/' + region + '_kmean100_season' + str(year)).randomColumn('random',1,'uniform').sort('random').limit(500)\n",
    "    print('抽样的季节性水体： ',sw.size().getInfo())\n",
    "    ## 季节性样本，分类\n",
    "    bands = ['B2', 'B3', 'B4', 'B5', 'B6', 'B7','NDVI','NDWI','mNDWI','CWI','AWEI','EWI','EVI']\n",
    "    cluster_samples = ee.FeatureCollection([permanent_water,no_water]).flatten()\n",
    "    clusterer = ee.Clusterer.wekaKMeans(2).train(cluster_samples,bands)\n",
    "    q = ee.FeatureCollection(sw.cluster(clusterer))\n",
    "    q1 = q.filter(ee.Filter.eq('cluster',1))\n",
    "    q0 = q.filter(ee.Filter.eq('cluster',0))\n",
    "    b1 = ee.FeatureCollection(q1).filter(ee.Filter.lt('AWEI',0)).size()\n",
    "    b2 = ee.FeatureCollection(q1).filter(ee.Filter.gt('AWEI',0)).size()\n",
    "    c1 = ee.FeatureCollection(q0).filter(ee.Filter.lt('AWEI',0)).size()\n",
    "    c2 = ee.FeatureCollection(q0).filter(ee.Filter.gt('AWEI',0)).size()\n",
    "    qq1 = ee.Algorithms.If(ee.Number(b1).lt(ee.Number(b2)),q1.map(lambda i:i.set({'waterclass':1})),q1.map(lambda i:i.set({'waterclass':0})))\n",
    "    qq0 = ee.Algorithms.If(ee.Number(c1).lt(ee.Number(c2)),q0.map(lambda i:i.set({'waterclass':1})),q0.map(lambda i:i.set({'waterclass':0})))\n",
    "    seasonWater = ee.FeatureCollection([qq1,qq0]).flatten()\n",
    "    ## 合并\n",
    "    total_Samples = ee.FeatureCollection([permanent_water,no_water,seasonWater]).flatten()\n",
    "    print(\"筛选前，剩余的样本数： \",total_Samples.size().getInfo())\n",
    "    ## 异常值去除\n",
    "    filtered_samples = k_mean(total_Samples)\n",
    "    print(\"筛选后，剩余的样本数： \",filtered_samples.size().getInfo())\n",
    "    dataset_id = region + str(year)\n",
    "    assetID = 'users/311605001111/SAMPLE_' + sample_region + '/' + dataset_id\n",
    "    task = ee.batch.Export.table.toAsset(**{\n",
    "        'collection': filtered_samples,\n",
    "        'description': dataset_id,\n",
    "        'assetId': assetID\n",
    "    })\n",
    "    task.start()"
   ]
  },
  {
   "cell_type": "markdown",
   "id": "8126fba0",
   "metadata": {},
   "source": [
    "### 验证"
   ]
  },
  {
   "cell_type": "code",
   "execution_count": null,
   "id": "4b80bb4e",
   "metadata": {},
   "outputs": [],
   "source": [
    "region = 'tibet'\n",
    "sample_region = 'TIBET'\n",
    "totalSamples = ee.FeatureCollection([])\n",
    "for year in range(1999,2021,5):\n",
    "    print(year)\n",
    "    pw_nw = ee.FeatureCollection('users/311605001111/SAMPLE_' + sample_region + '/' + region + str(year))\n",
    "    print('xxxxxx： ',pw_nw.size().getInfo())\n",
    "    totalSamples = totalSamples.merge(pw_nw)\n",
    "    print(\"总样本： \",totalSamples.size().getInfo())"
   ]
  },
  {
   "cell_type": "code",
   "execution_count": null,
   "id": "6f43b27e",
   "metadata": {},
   "outputs": [],
   "source": []
  },
  {
   "cell_type": "markdown",
   "id": "9983d8ba",
   "metadata": {},
   "source": [
    "## 单个"
   ]
  },
  {
   "cell_type": "code",
   "execution_count": null,
   "id": "176721c0",
   "metadata": {
    "ExecuteTime": {
     "end_time": "2021-12-24T05:26:47.773424Z",
     "start_time": "2021-12-24T05:26:10.277748Z"
    }
   },
   "outputs": [],
   "source": [
    "region = 'tibet'\n",
    "sample_region = 'TIBET'\n",
    "year = 1999\n",
    "\n",
    "## 永久性水体样本和非水体样本，抽样\n",
    "pw_nw = ee.FeatureCollection('users/311605001111/SAMPLE_' + sample_region + '/' + region + '_kmean100_noseason' + str(year))\n",
    "permanent_water = pw_nw.filter(ee.Filter.eq('waterclass',1)).randomColumn('random',1,'uniform').sort('random').limit(500)\n",
    "no_water = pw_nw.filter(ee.Filter.eq('waterclass',0)).randomColumn('random',1,'uniform').sort('random').limit(3000)\n",
    "print('抽样的永久性水体： ',permanent_water.size().getInfo())\n",
    "print('抽样的非水体： ',no_water.size().getInfo())\n",
    "\n",
    "## 季节性样本，抽样\n",
    "sw = ee.FeatureCollection('users/311605001111/SAMPLE_' + sample_region + '/' + region + '_kmean100_season' + str(year)+'_v3').randomColumn('random',1,'uniform').sort('random').limit(500)\n",
    "# sw = ee.FeatureCollection('users/311605001111/SAMPLE_' + sample_region + '/' + region + '_kmean100_season' + str(year)).randomColumn('random',1,'uniform').sort('random').limit(500)\n",
    "print('抽样的季节性水体： ',sw.size().getInfo())\n",
    "\n",
    "## 季节性样本，分类\n",
    "bands = ['B2', 'B3', 'B4', 'B5', 'B6', 'B7','NDVI','NDWI','mNDWI','CWI','AWEI','EWI','EVI']\n",
    "cluster_samples = ee.FeatureCollection([permanent_water,no_water]).flatten()\n",
    "clusterer = ee.Clusterer.wekaKMeans(2).train(cluster_samples,bands)\n",
    "q = ee.FeatureCollection(sw.cluster(clusterer))\n",
    "q1 = q.filter(ee.Filter.eq('cluster',1))\n",
    "q0 = q.filter(ee.Filter.eq('cluster',0))\n",
    "b1 = ee.FeatureCollection(q1).filter(ee.Filter.lt('AWEI',0)).size()\n",
    "b2 = ee.FeatureCollection(q1).filter(ee.Filter.gt('AWEI',0)).size()\n",
    "c1 = ee.FeatureCollection(q0).filter(ee.Filter.lt('AWEI',0)).size()\n",
    "c2 = ee.FeatureCollection(q0).filter(ee.Filter.gt('AWEI',0)).size()\n",
    "\n",
    "qq1 = ee.Algorithms.If(ee.Number(b1).lt(ee.Number(b2)),q1.map(lambda i:i.set({'waterclass':1})),q1.map(lambda i:i.set({'waterclass':0})))\n",
    "qq0 = ee.Algorithms.If(ee.Number(c1).lt(ee.Number(c2)),q0.map(lambda i:i.set({'waterclass':1})),q0.map(lambda i:i.set({'waterclass':0})))\n",
    "seasonWater = ee.FeatureCollection([qq1,qq0]).flatten()\n",
    "\n",
    "## 合并\n",
    "total_Samples = ee.FeatureCollection([permanent_water,no_water,seasonWater]).flatten()\n",
    "print(\"筛选前，总的样本数： \",total_Samples.size().getInfo())\n",
    "\n",
    "## 异常值去除\n",
    "bands = ['B2', 'B3', 'B4', 'B5', 'B6', 'B7','NDVI','NDWI','mNDWI','CWI','AWEI','EWI','EVI']\n",
    "#### cluster与waterclass的对比\n",
    "def Compare(feature):\n",
    "    cluster = ee.Number(feature.get('cluster'))\n",
    "    waterclass = ee.Number(feature.get('waterclass'))\n",
    "    ft = ee.Algorithms.If(cluster.eq(waterclass),feature.set({'eq':1}),feature.set({'eq':0}))\n",
    "    return ft\n",
    "#### k-mean聚类\n",
    "def k_mean(sampleSET):\n",
    "    clusterer = ee.Clusterer.wekaKMeans(2).train(sampleSET,bands)\n",
    "    result = sampleSET.cluster(clusterer)\n",
    "    right = result.map(Compare).filter(ee.Filter.eq('eq',0))\n",
    "    error = result.map(Compare).filter(ee.Filter.eq('eq',1))\n",
    "    filtered_sample = ee.FeatureCollection(ee.Algorithms.If(right.size().gt(error.size()),right,error))\n",
    "    return filtered_sample\n",
    "\n",
    "filtered_samples = k_mean(total_Samples)\n",
    "print(\"筛选后，剩余的样本数： \",filtered_samples.size().getInfo())\n",
    "\n",
    "print('no-water')\n",
    "print(filtered_samples.filter(ee.Filter.eq('waterclass',0)).filter(ee.Filter.lt('AWEI',0)).size().getInfo())\n",
    "print(filtered_samples.filter(ee.Filter.eq('waterclass',0)).filter(ee.Filter.gt('AWEI',0)).size().getInfo())\n",
    "print('water')\n",
    "print(filtered_samples.filter(ee.Filter.eq('waterclass',1)).filter(ee.Filter.lt('AWEI',0)).size().getInfo())\n",
    "print(filtered_samples.filter(ee.Filter.eq('waterclass',1)).filter(ee.Filter.gt('AWEI',0)).size().getInfo())\n",
    "\n",
    "print('no-water')\n",
    "print(filtered_samples.filter(ee.Filter.eq('waterclass',0)).filter(ee.Filter.lt('mNDWI',0)).size().getInfo())\n",
    "print(filtered_samples.filter(ee.Filter.eq('waterclass',0)).filter(ee.Filter.gt('mNDWI',0)).size().getInfo())\n",
    "print('water')\n",
    "print(filtered_samples.filter(ee.Filter.eq('waterclass',1)).filter(ee.Filter.lt('mNDWI',0)).size().getInfo())\n",
    "print(filtered_samples.filter(ee.Filter.eq('waterclass',1)).filter(ee.Filter.gt('mNDWI',0)).size().getInfo())"
   ]
  },
  {
   "cell_type": "code",
   "execution_count": null,
   "id": "8c874acf",
   "metadata": {
    "ExecuteTime": {
     "end_time": "2021-12-17T14:53:42.364176Z",
     "start_time": "2021-12-17T14:53:25.266834Z"
    }
   },
   "outputs": [],
   "source": [
    "region = 'daqing'\n",
    "sample_region = 'DAQING'\n",
    "year = 2019\n",
    "\n",
    "## 永久性水体样本和非水体样本，抽样\n",
    "pw_nw = ee.FeatureCollection('users/311605001111/SAMPLE_' + sample_region + '/' + region + '_kmean100_noseason' + str(year))\n",
    "permanent_water = pw_nw.filter(ee.Filter.eq('waterclass',1)).randomColumn('random',1,'uniform').sort('random').limit(500)\n",
    "no_water = pw_nw.filter(ee.Filter.eq('waterclass',0)).randomColumn('random',1,'uniform').sort('random').limit(3000)\n",
    "print('抽样的永久性水体： ',permanent_water.size().getInfo())\n",
    "print('抽样的非水体： ',no_water.size().getInfo())\n",
    "\n",
    "## 季节性样本，抽样\n",
    "# sw = ee.FeatureCollection('users/311605001111/SAMPLE_' + sample_region + '/' + region + '_kmean100_season' + str(year)+'_v2').randomColumn('random',1,'uniform').sort('random').limit(500)\n",
    "sw = ee.FeatureCollection('users/311605001111/SAMPLE_' + sample_region + '/' + region + '_kmean100_season' + str(year)).randomColumn('random',1,'uniform').sort('random').limit(500)\n",
    "print('抽样的季节性水体： ',sw.size().getInfo())\n",
    "\n",
    "## 季节性样本，分类\n",
    "bands = ['B2', 'B3', 'B4', 'B5', 'B6', 'B7','NDVI','NDWI','mNDWI','CWI','AWEI','EWI','EVI']\n",
    "cluster_samples = ee.FeatureCollection([permanent_water,no_water]).flatten()\n",
    "\n",
    "# clusterer = ee.Clusterer.wekaKMeans(2).train(cluster_samples,bands)\n",
    "clusterer = ee.Clusterer.wekaKMeans(2).train(sw,bands)\n",
    "\n",
    "q = ee.FeatureCollection(sw.cluster(clusterer))\n",
    "q1 = q.filter(ee.Filter.eq('cluster',1))\n",
    "q0 = q.filter(ee.Filter.eq('cluster',0))\n",
    "b1 = ee.FeatureCollection(q1).filter(ee.Filter.lt('AWEI',0)).size()\n",
    "b2 = ee.FeatureCollection(q1).filter(ee.Filter.gt('AWEI',0)).size()\n",
    "c1 = ee.FeatureCollection(q0).filter(ee.Filter.lt('AWEI',0)).size()\n",
    "c2 = ee.FeatureCollection(q0).filter(ee.Filter.gt('AWEI',0)).size()\n",
    "# b1 = ee.FeatureCollection(q1).filter(ee.Filter.lt('mNDWI',0)).size()\n",
    "# b2 = ee.FeatureCollection(q1).filter(ee.Filter.gt('mNDWI',0)).size()\n",
    "# c1 = ee.FeatureCollection(q0).filter(ee.Filter.lt('mNDWI',0)).size()\n",
    "# c2 = ee.FeatureCollection(q0).filter(ee.Filter.gt('mNDWI',0)).size()\n",
    "\n",
    "qq1 = ee.Algorithms.If(ee.Number(b1).lt(ee.Number(b2)),q1.map(lambda i:i.set({'waterclass':1})),q1.map(lambda i:i.set({'waterclass':0})))\n",
    "qq0 = ee.Algorithms.If(ee.Number(c1).lt(ee.Number(c2)),q0.map(lambda i:i.set({'waterclass':1})),q0.map(lambda i:i.set({'waterclass':0})))\n",
    "seasonWater = ee.FeatureCollection([qq1,qq0]).flatten()\n",
    "\n",
    "## 合并\n",
    "total_Samples = ee.FeatureCollection([permanent_water,no_water,seasonWater]).flatten()\n",
    "print(\"筛选前，总的样本数： \",total_Samples.size().getInfo())\n",
    "\n",
    "print('season')\n",
    "print('no-water')\n",
    "print(seasonWater.filter(ee.Filter.eq('waterclass',0)).filter(ee.Filter.lt('AWEI',0)).size().getInfo())\n",
    "print(seasonWater.filter(ee.Filter.eq('waterclass',0)).filter(ee.Filter.gt('AWEI',0)).size().getInfo())\n",
    "print('water')\n",
    "print(seasonWater.filter(ee.Filter.eq('waterclass',1)).filter(ee.Filter.lt('AWEI',0)).size().getInfo())\n",
    "print(seasonWater.filter(ee.Filter.eq('waterclass',1)).filter(ee.Filter.gt('AWEI',0)).size().getInfo())\n",
    "\n",
    "print('no-water')\n",
    "print(seasonWater.filter(ee.Filter.eq('waterclass',0)).filter(ee.Filter.lt('mNDWI',0)).size().getInfo())\n",
    "print(seasonWater.filter(ee.Filter.eq('waterclass',0)).filter(ee.Filter.gt('mNDWI',0)).size().getInfo())\n",
    "print('water')\n",
    "print(seasonWater.filter(ee.Filter.eq('waterclass',1)).filter(ee.Filter.lt('mNDWI',0)).size().getInfo())\n",
    "print(seasonWater.filter(ee.Filter.eq('waterclass',1)).filter(ee.Filter.gt('mNDWI',0)).size().getInfo())\n",
    "\n",
    "print('permanent and land')\n",
    "print('no-water')\n",
    "print(cluster_samples.filter(ee.Filter.eq('waterclass',0)).filter(ee.Filter.lt('AWEI',0)).size().getInfo())\n",
    "print(cluster_samples.filter(ee.Filter.eq('waterclass',0)).filter(ee.Filter.gt('AWEI',0)).size().getInfo())\n",
    "print('water')\n",
    "print(cluster_samples.filter(ee.Filter.eq('waterclass',1)).filter(ee.Filter.lt('AWEI',0)).size().getInfo())\n",
    "print(cluster_samples.filter(ee.Filter.eq('waterclass',1)).filter(ee.Filter.gt('AWEI',0)).size().getInfo())\n",
    "\n",
    "print('no-water')\n",
    "print(cluster_samples.filter(ee.Filter.eq('waterclass',0)).filter(ee.Filter.lt('mNDWI',0)).size().getInfo())\n",
    "print(cluster_samples.filter(ee.Filter.eq('waterclass',0)).filter(ee.Filter.gt('mNDWI',0)).size().getInfo())\n",
    "print('water')\n",
    "print(cluster_samples.filter(ee.Filter.eq('waterclass',1)).filter(ee.Filter.lt('mNDWI',0)).size().getInfo())\n",
    "print(cluster_samples.filter(ee.Filter.eq('waterclass',1)).filter(ee.Filter.gt('mNDWI',0)).size().getInfo())"
   ]
  },
  {
   "cell_type": "code",
   "execution_count": null,
   "id": "19a77c87",
   "metadata": {},
   "outputs": [],
   "source": [
    "抽样的永久性水体：  500\n",
    "抽样的非水体：  3000\n",
    "抽样的季节性水体：  500\n",
    "筛选前，总的样本数：  4000\n",
    "season\n",
    "no-water\n",
    "311\n",
    "3\n",
    "water\n",
    "43\n",
    "143\n",
    "no-water\n",
    "295\n",
    "19\n",
    "water\n",
    "17\n",
    "169\n",
    "permanent and land\n",
    "no-water\n",
    "2990\n",
    "10\n",
    "water\n",
    "9\n",
    "491\n",
    "no-water\n",
    "2959\n",
    "41\n",
    "water\n",
    "7\n",
    "493"
   ]
  },
  {
   "cell_type": "markdown",
   "id": "c768e7d3",
   "metadata": {
    "heading_collapsed": true
   },
   "source": [
    "# 可用于实验的影像ID--各区域"
   ]
  },
  {
   "cell_type": "code",
   "execution_count": null,
   "id": "ad931785",
   "metadata": {
    "hidden": true
   },
   "outputs": [],
   "source": [
    "# 区域 A \n",
    "'LANDSAT/LC08/C01/T1_SR/LC08_119028_20201111' \n",
    "'LANDSAT/LC08/C01/T1_SR/LC08_120027_20200526' \n",
    "'LANDSAT/LC08/C01/T1_SR/LC08_120028_20200526'\n",
    "\n",
    "# 区域 B\n",
    "'LANDSAT/LC08/C01/T1_SR/LC08_122033_20200422'\n",
    "'LANDSAT/LC08/C01/T1_SR/LC08_122033_20200828'\n",
    "\n",
    "'LANDSAT/LC08/C01/T1_SR/LC08_123033_20200904' \n",
    "'LANDSAT/LC08/C01/T1_SR/LC08_123033_20200920' \n",
    "'LANDSAT/LC08/C01/T1_SR/LC08_123033_20201022' \n",
    "'LANDSAT/LC08/C01/T1_SR/LC08_123033_20201225'\n",
    "\n",
    "# 区域 C\n",
    "'LANDSAT/LC08/C01/T1_SR/LC08_122039_20200218' \n",
    "'LANDSAT/LC08/C01/T1_SR/LC08_122039_20200305' \n",
    "'LANDSAT/LC08/C01/T1_SR/LC08_122039_20200828'\n",
    "  \n",
    "'LANDSAT/LC08/C01/T1_SR/LC08_123039_20200209'\n",
    "'LANDSAT/LC08/C01/T1_SR/LC08_123039_20200413'\n",
    "'LANDSAT/LC08/C01/T1_SR/LC08_123039_20200429'\n",
    "'LANDSAT/LC08/C01/T1_SR/LC08_123039_20200803'\n",
    "'LANDSAT/LC08/C01/T1_SR/LC08_123039_20201022'\n",
    "'LANDSAT/LC08/C01/T1_SR/LC08_123039_20201225'\n",
    "\n",
    "# 区域 D\n",
    "'LANDSAT/LC08/C01/T1_SR/LC08_122044_20200218'\n",
    "'LANDSAT/LC08/C01/T1_SR/LC08_122044_20201116'\n",
    "\n",
    "'LANDSAT/LC08/C01/T1_SR/LC08_122045_20201202'\n",
    "\n",
    "# 区域 E\n",
    "'LANDSAT/LC08/C01/T1_SR/LC08_138036_20200929'\n",
    "'LANDSAT/LC08/C01/T1_SR/LC08_138036_20201015'\n",
    "'LANDSAT/LC08/C01/T1_SR/LC08_138036_20201031' \n",
    " \n",
    "'LANDSAT/LC08/C01/T1_SR/LC08_139035_20200819'\n",
    "'LANDSAT/LC08/C01/T1_SR/LC08_139035_20201006'\n",
    " \n",
    "'LANDSAT/LC08/C01/T1_SR/LC08_139036_20200819'\n",
    "'LANDSAT/LC08/C01/T1_SR/LC08_139036_20201006'"
   ]
  },
  {
   "cell_type": "markdown",
   "id": "691ea4cb",
   "metadata": {},
   "source": [
    "# 计算山地阴影"
   ]
  },
  {
   "cell_type": "code",
   "execution_count": null,
   "id": "8d8d5d7e",
   "metadata": {},
   "outputs": [],
   "source": [
    "# 计算山地阴影\n",
    "# Define a function to compute a hillshade from terrain data for the given sun azimuth and elevation.\n",
    "def hillshade(image):    \n",
    "    # Convert angles to radians\n",
    "    azimuth = ee.Image(ee.Number(img.get('SOLAR_AZIMUTH_ANGLE'))).rename('azimuth').clip(roi).toFloat().multiply(math.pi).divide(180)\n",
    "    zenith = ee.Image(ee.Number(img.get('SOLAR_ZENITH_ANGLE'))).rename('zenith').clip(roi).toFloat().multiply(math.pi).divide(180)\n",
    "    # calcluate slope and aspect\n",
    "    terrain = ee.Algorithms.Terrain(ee.Image('CGIAR/SRTM90_V4'))\n",
    "    slope = terrain.select('slope').rename('slope').clip(roi).toFloat().multiply(math.pi).divide(180)\n",
    "    aspect = terrain.select('aspect').rename('aspect').clip(roi).toFloat().multiply(math.pi).divide(180)\n",
    "    # Note that methods on images are needed to do the computation.\n",
    "    # The following implements: Hillshade = cos(Azimuth - Aspect) * sin(Slope) * sin(Zenith) + cos(Zenith) * cos(Slope)\n",
    "    return azimuth.subtract(aspect).cos().multiply(slope.sin()).multiply(zenith.sin()).add(zenith.cos().multiply(slope.cos()))"
   ]
  },
  {
   "cell_type": "markdown",
   "id": "250e2f32",
   "metadata": {
    "heading_collapsed": true
   },
   "source": [
    "# 计算区域高程的最值"
   ]
  },
  {
   "cell_type": "code",
   "execution_count": null,
   "id": "c5e46090",
   "metadata": {
    "hidden": true
   },
   "outputs": [],
   "source": [
    "# 计算区域高程\n",
    "elevation = ee.Image('USGS/SRTMGL1_003').select('elevation').clip(roi)\n",
    "minmax = elevation.reduceRegion(**{\n",
    "    'reducer': ee.Reducer.minMax(),\n",
    "    'geometry': roi,\n",
    "    'scale': 30,\n",
    "    'maxPixels': 1e14,\n",
    "})\n",
    "print(minmax.getInfo())"
   ]
  },
  {
   "cell_type": "markdown",
   "id": "1e398a0e",
   "metadata": {
    "heading_collapsed": true
   },
   "source": [
    "# 计算“pixel_qa”的最大值和最小值"
   ]
  },
  {
   "cell_type": "code",
   "execution_count": null,
   "id": "f6c27a03",
   "metadata": {
    "hidden": true
   },
   "outputs": [],
   "source": [
    "def maxmin(image):\n",
    "    minmax = image.select('pixel_qa').reduceRegion(**{\n",
    "        'reducer': ee.Reducer.minMax(),\n",
    "        'geometry': roi,\n",
    "        'scale': 30,\n",
    "        'maxPixels': 1e14,\n",
    "    })\n",
    "    return image.set({'max':minmax.get('pixel_qa_max')}).set({'min':minmax.get('pixel_qa_min')})\n",
    "\n",
    "l7 = ee.ImageCollection('LANDSAT/LE07/C01/T1_SR') \\\n",
    "           .select(['B1', 'B2', 'B3', 'B4', 'B5', 'B7','pixel_qa'],['B2', 'B3', 'B4', 'B5', 'B6', 'B7','pixel_qa']) \\\n",
    "           .filterBounds(roi) \\\n",
    "           .filterDate('2014-01-01', '2020-12-31')\n",
    "           \n",
    "l8 = ee.ImageCollection('LANDSAT/LC08/C01/T1_SR') \\\n",
    "       .select(['B2', 'B3', 'B4', 'B5', 'B6', 'B7','pixel_qa']) \\\n",
    "       .filterBounds(roi) \\\n",
    "       .filterDate('2014-01-01', '2020-12-31')\n",
    "\n",
    "landsat_image = l8.merge(l7).map(maxmin)\n",
    "# Map.addLayer(l8.map(maskSR).median().clip(roi), visParams,'image mosaic')\n",
    "print(landsat_image.aggregate_array('max').getInfo())\n",
    "print(landsat_image.size().getInfo())"
   ]
  },
  {
   "cell_type": "markdown",
   "id": "26f28bcf",
   "metadata": {
    "heading_collapsed": true
   },
   "source": [
    "# 筛选影像函数"
   ]
  },
  {
   "cell_type": "markdown",
   "id": "772bde26",
   "metadata": {
    "hidden": true
   },
   "source": [
    "## 单个数据集"
   ]
  },
  {
   "cell_type": "code",
   "execution_count": null,
   "id": "be3e65a7",
   "metadata": {
    "hidden": true
   },
   "outputs": [],
   "source": [
    "# 影像筛选函数\n",
    "def filter_image(id):\n",
    "    l8 = ee.ImageCollection('LANDSAT/LC08/C01/T1_SR').select(['B2', 'B3', 'B4', 'B5', 'B6', 'B7','pixel_qa']).filterBounds(roi).filterDate('2020-01-01', '2020-12-31')\n",
    "    images = l8.map(lambda i:i.setMulti({'path_row': ee.String(i.get('system:index')).slice(5,11),'month':ee.Number.parse(ee.String(i.get('system:index')).slice(-4,-2))}))\n",
    "    month = images.map(lambda i:i.set({'img_id':i.get('system:index')})).filter(ee.Filter.eq('path_row',id))\n",
    "    first_quarter = ee.ImageCollection(month.filter(ee.Filter.lte('month',3)).filter(ee.Filter.gte('month',1)).randomColumn('random',1,'uniform').sort('random')).first()\n",
    "    second_quarter = ee.ImageCollection(month.filter(ee.Filter.lte('month',6)).filter(ee.Filter.gte('month',4)).randomColumn('random',1,'uniform').sort('random')).first()\n",
    "    third_quarter = ee.ImageCollection(month.filter(ee.Filter.lte('month',9)).filter(ee.Filter.gte('month',7)).randomColumn('random',1,'uniform').sort('random')).first()\n",
    "    fourth_quarter = ee.ImageCollection(month.filter(ee.Filter.lte('month',12)).filter(ee.Filter.gte('month',10)).randomColumn('random',1,'uniform').sort('random')).first()\n",
    "    img_col = ee.ImageCollection([first_quarter,second_quarter,third_quarter,fourth_quarter])\n",
    "    return img_col\n",
    "\n",
    "## 计算唯一的行列号\n",
    "region_images = ee.ImageCollection('LANDSAT/LC08/C01/T1_SR').filterBounds(roi).filterDate('2020-01-01', '2020-12-31')\n",
    "landsat_image = region_images.map(lambda i : i.setMulti({'path_row': ee.String(i.get('system:index')).slice(5,11),'month':ee.Number.parse(ee.String(i.get('system:index')).slice(-4,-2))}))\n",
    "path_row = landsat_image.distinct('path_row').aggregate_array('path_row')\n",
    "print(path_row.getInfo())\n",
    "\n",
    "## 计算在每个行列号上选择的月份\n",
    "select_image = path_row.map(filter_image)\n",
    "number = path_row.size().getInfo()\n",
    "print(path_row.size().getInfo())\n",
    "for i in range(0,number):\n",
    "    print(ee.ImageCollection(select_image .get(i)).aggregate_array('month').getInfo())\n",
    "\n",
    "\n",
    "## 合并在各个行列号上选择的影像\n",
    "img_col = ee.ImageCollection([])\n",
    "for i in range(0,number):\n",
    "    img_col = img_col.merge(ee.ImageCollection(select_image.get(i)))\n",
    "\n",
    "print(img_col.size().getInfo())\n",
    "print(img_col.aggregate_array('path_row').getInfo())\n",
    "print(img_col.aggregate_array('month').getInfo())"
   ]
  },
  {
   "cell_type": "markdown",
   "id": "4f4ce438",
   "metadata": {
    "hidden": true
   },
   "source": [
    "## 综合版"
   ]
  },
  {
   "cell_type": "markdown",
   "id": "006e6906",
   "metadata": {
    "hidden": true
   },
   "source": [
    "### 加载数据集"
   ]
  },
  {
   "cell_type": "code",
   "execution_count": null,
   "id": "feb1a739",
   "metadata": {
    "hidden": true
   },
   "outputs": [],
   "source": [
    "# 定义参数\n",
    "year = '2000'\n",
    "startDate = year + '-01-01'\n",
    "endDate = year + '-12-31'\n",
    "\n",
    "l5 = ee.ImageCollection('LANDSAT/LT05/C01/T1_SR') \\\n",
    "       .select(['B1', 'B2', 'B3', 'B4', 'B5', 'B7','pixel_qa'],['B2', 'B3', 'B4', 'B5', 'B6', 'B7','pixel_qa']) \\\n",
    "       .filterBounds(roi) \\\n",
    "       .filterDate(startDate, endDate)  \n",
    "l7 = ee.ImageCollection('LANDSAT/LE07/C01/T1_SR') \\\n",
    "       .select(['B1', 'B2', 'B3', 'B4', 'B5', 'B7','pixel_qa'],['B2', 'B3', 'B4', 'B5', 'B6', 'B7','pixel_qa']) \\\n",
    "       .filterBounds(roi) \\\n",
    "       .filterDate(startDate, endDate)           \n",
    "l8 = ee.ImageCollection('LANDSAT/LC08/C01/T1_SR') \\\n",
    "       .select(['B2', 'B3', 'B4', 'B5', 'B6', 'B7','pixel_qa']) \\\n",
    "       .filterBounds(roi) \\\n",
    "       .filterDate(startDate, endDate)\n",
    "landsat_images = l8.merge(l7).merge(l5)\n",
    "# 图像可视化参数\n",
    "visParams = {'bands': ['B5', 'B6', 'B4'],'min': 0,'max': 3000,'gamma': 1.4}\n",
    "Map.addLayer(l8.mosaic().clip(roi), visParams,'image mosaic')\n",
    "print(l5.size().getInfo( ))\n",
    "print(l7.size().getInfo())\n",
    "print(l8.size().getInfo())\n",
    "print(landsat_images.size().getInfo())"
   ]
  },
  {
   "cell_type": "markdown",
   "id": "7446dcbf",
   "metadata": {
    "hidden": true
   },
   "source": [
    "### 函数定义"
   ]
  },
  {
   "cell_type": "code",
   "execution_count": null,
   "id": "61ce1d7f",
   "metadata": {
    "hidden": true
   },
   "outputs": [],
   "source": [
    "# 影像筛选函数\n",
    "def filter_image(id):\n",
    "    # l8\n",
    "    images_l8 = l8.map(lambda i:i.setMulti({'path_row': ee.String(i.get('system:id')).slice(-15,-9),'month':ee.Number.parse(ee.String(i.get('system:id')).slice(-4,-2))}))\n",
    "    month_l8 = images_l8.map(lambda i:i.set({'img_id':i.get('system:index')})).filter(ee.Filter.eq('path_row',id))\n",
    "    first_quarter_l8 = ee.ImageCollection(month_l8.filter(ee.Filter.lte('month',3)).filter(ee.Filter.gte('month',1)).randomColumn('random',1,'uniform').sort('random')).first()\n",
    "    second_quarter_l8 = ee.ImageCollection(month_l8.filter(ee.Filter.lte('month',6)).filter(ee.Filter.gte('month',4)).randomColumn('random',1,'uniform').sort('random')).first()\n",
    "    third_quarter_l8 = ee.ImageCollection(month_l8.filter(ee.Filter.lte('month',9)).filter(ee.Filter.gte('month',7)).randomColumn('random',1,'uniform').sort('random')).first()\n",
    "    fourth_quarter_l8 = ee.ImageCollection(month_l8.filter(ee.Filter.lte('month',12)).filter(ee.Filter.gte('month',10)).randomColumn('random',1,'uniform').sort('random')).first()\n",
    "    # l7\n",
    "    images_l7 = l7.map(lambda i:i.setMulti({'path_row': ee.String(i.get('system:id')).slice(-15,-9),'month':ee.Number.parse(ee.String(i.get('system:id')).slice(-4,-2))}))\n",
    "    month_l7 = images_l7.map(lambda i:i.set({'img_id':i.get('system:index')})).filter(ee.Filter.eq('path_row',id))\n",
    "    first_quarter_l7 = ee.ImageCollection(month_l7.filter(ee.Filter.lte('month',3)).filter(ee.Filter.gte('month',1)).randomColumn('random',1,'uniform').sort('random')).first()\n",
    "    second_quarter_l7 = ee.ImageCollection(month_l7.filter(ee.Filter.lte('month',6)).filter(ee.Filter.gte('month',4)).randomColumn('random',1,'uniform').sort('random')).first()\n",
    "    third_quarter_l7 = ee.ImageCollection(month_l7.filter(ee.Filter.lte('month',9)).filter(ee.Filter.gte('month',7)).randomColumn('random',1,'uniform').sort('random')).first()\n",
    "    fourth_quarter_l7 = ee.ImageCollection(month_l7.filter(ee.Filter.lte('month',12)).filter(ee.Filter.gte('month',10)).randomColumn('random',1,'uniform').sort('random')).first()\n",
    "    # l5\n",
    "    images_l5 = l5.map(lambda i:i.setMulti({'path_row': ee.String(i.get('system:id')).slice(-15,-9),'month':ee.Number.parse(ee.String(i.get('system:id')).slice(-4,-2))}))\n",
    "    month_l5 = images_l5.map(lambda i:i.set({'img_id':i.get('system:index')})).filter(ee.Filter.eq('path_row',id))\n",
    "    first_quarter_l5 = ee.ImageCollection(month_l5.filter(ee.Filter.lte('month',3)).filter(ee.Filter.gte('month',1)).randomColumn('random',1,'uniform').sort('random')).first()\n",
    "    second_quarter_l5 = ee.ImageCollection(month_l5.filter(ee.Filter.lte('month',6)).filter(ee.Filter.gte('month',4)).randomColumn('random',1,'uniform').sort('random')).first()\n",
    "    third_quarter_l5 = ee.ImageCollection(month_l5.filter(ee.Filter.lte('month',9)).filter(ee.Filter.gte('month',7)).randomColumn('random',1,'uniform').sort('random')).first()\n",
    "    fourth_quarter_l5 = ee.ImageCollection(month_l5.filter(ee.Filter.lte('month',12)).filter(ee.Filter.gte('month',10)).randomColumn('random',1,'uniform').sort('random')).first()\n",
    "    img_col = ee.ImageCollection([first_quarter_l8,second_quarter_l8,third_quarter_l8,fourth_quarter_l8,first_quarter_l7,second_quarter_l7,third_quarter_l7,fourth_quarter_l7,first_quarter_l5,second_quarter_l5,third_quarter_l5,fourth_quarter_l5])\n",
    "    return img_col\n",
    "\n",
    "## 计算唯一的行列号\n",
    "l5 = ee.ImageCollection('LANDSAT/LT05/C01/T1_SR').filterBounds(roi).filterDate(startDate, endDate)  \n",
    "l7 = ee.ImageCollection('LANDSAT/LE07/C01/T1_SR').filterBounds(roi).filterDate(startDate, endDate)           \n",
    "l8 = ee.ImageCollection('LANDSAT/LC08/C01/T1_SR').filterBounds(roi).filterDate(startDate, endDate)\n",
    "region_images = l8.merge(l7).merge(l5)\n",
    "landsat_image = region_images.map(lambda i : i.setMulti({'path_row': ee.String(i.get('system:id')).slice(-15,-9),'month':ee.Number.parse(ee.String(i.get('system:id')).slice(-4,-2))}))\n",
    "path_row = landsat_image.distinct('path_row').aggregate_array('path_row')\n",
    "print(path_row.getInfo())\n",
    "\n",
    "## 计算在每个行列号上选择的月份和卫星类型\n",
    "select_image = path_row.map(filter_image)\n",
    "number = path_row.size().getInfo()\n",
    "print(path_row.size().getInfo())\n",
    "for i in range(0,number):\n",
    "    print(ee.ImageCollection(select_image .get(i)).aggregate_array('month').getInfo())\n",
    "    print(ee.ImageCollection(select_image .get(i)).aggregate_array('SATELLITE').getInfo())\n",
    "\n",
    "## 合并在各个行列号上选择的影像\n",
    "img_col = ee.ImageCollection([])\n",
    "for i in range(0,number):\n",
    "    img_col = img_col.merge(ee.ImageCollection(select_image.get(i)))\n",
    "\n",
    "print(img_col.size().getInfo())\n",
    "print(img_col.aggregate_array('path_row').getInfo())\n",
    "print(img_col.aggregate_array('month').getInfo())"
   ]
  },
  {
   "cell_type": "code",
   "execution_count": null,
   "id": "add6a11c",
   "metadata": {
    "hidden": true
   },
   "outputs": [],
   "source": [
    "print('landsat5')\n",
    "for year in range(2000,2012,1):\n",
    "    print(year)\n",
    "    startDate = str(year) + '-01-01'\n",
    "    endDate = str(year) + '-12-31'\n",
    "    region_images = ee.ImageCollection('LANDSAT/LT05/C01/T1_SR').filterBounds(roi).filterDate(startDate, endDate)\n",
    "    landsat_image = region_images.map(lambda i : i.setMulti({'path_row': ee.String(i.get('system:index')).slice(5,11),'month':ee.Number.parse(ee.String(i.get('system:index')).slice(-4,-2))}))\n",
    "    path_row = landsat_image.distinct('path_row').aggregate_array('path_row')\n",
    "    print(path_row.getInfo())\n",
    "print('landsat7')\n",
    "for year in range(2000,2021,1):\n",
    "    print(year)\n",
    "    startDate = str(year) + '-01-01'\n",
    "    endDate = str(year) + '-12-31'\n",
    "    region_images = ee.ImageCollection('LANDSAT/LE07/C01/T1_SR').filterBounds(roi).filterDate(startDate, endDate)\n",
    "    landsat_image = region_images.map(lambda i : i.setMulti({'path_row': ee.String(i.get('system:index')).slice(5,11),'month':ee.Number.parse(ee.String(i.get('system:index')).slice(-4,-2))}))\n",
    "    path_row = landsat_image.distinct('path_row').aggregate_array('path_row')\n",
    "    print(path_row.getInfo())\n",
    "print('landsat8')\n",
    "for year in range(2013,2021,1):\n",
    "    print(year)\n",
    "    startDate = str(year) + '-01-01'\n",
    "    endDate = str(year) + '-12-31'\n",
    "    region_images = ee.ImageCollection('LANDSAT/LC08/C01/T1_SR').filterBounds(roi).filterDate(startDate, endDate)\n",
    "    landsat_image = region_images.map(lambda i : i.setMulti({'path_row': ee.String(i.get('system:index')).slice(5,11),'month':ee.Number.parse(ee.String(i.get('system:index')).slice(-4,-2))}))\n",
    "    path_row = landsat_image.distinct('path_row').aggregate_array('path_row')\n",
    "    print(path_row.getInfo())"
   ]
  },
  {
   "cell_type": "markdown",
   "id": "31c8d342",
   "metadata": {
    "heading_collapsed": true
   },
   "source": [
    "# 样本集--按比例划分"
   ]
  },
  {
   "cell_type": "code",
   "execution_count": null,
   "id": "29a41adf",
   "metadata": {
    "ExecuteTime": {
     "end_time": "2021-11-24T03:07:42.839057Z",
     "start_time": "2021-11-24T03:07:37.859689Z"
    },
    "hidden": true
   },
   "outputs": [],
   "source": [
    "region = 'wuhan_1124'\n",
    "year = '2020'\n",
    "\n",
    "# 汇总\n",
    "## 非水样本\n",
    "nowater = ee.FeatureCollection('users/311605001111/' + region + 'noseason' + year).filter(ee.Filter.eq('waterclass',0))\n",
    "nowatersample = nowater.randomColumn('random',1,'uniform').filter(ee.Filter.lt('random', 2400/nowater.size().getInfo()))\n",
    "## 水样本\n",
    "water = ee.FeatureCollection('users/311605001111/' + region + 'noseason' + year).filter(ee.Filter.eq('waterclass',1))\n",
    "watersample = water.randomColumn('random',1,'uniform').filter(ee.Filter.lt('random', 300/water.size().getInfo()))\n",
    "## 季节性水体样本\n",
    "sample = ee.FeatureCollection('users/311605001111/' + region + 'season' + year)\n",
    "seasonsample = sample.randomColumn('random',1,'uniform').filter(ee.Filter.lt('random', 300/sample.size().getInfo()))\n",
    "## 合并\n",
    "all_sample = ee.FeatureCollection([nowatersample,watersample,seasonsample]).flatten()\n",
    "print(all_sample.size().getInfo())\n",
    "\n",
    "## 计算\n",
    "w = all_sample.filter(ee.Filter.eq('waterclass',1))\n",
    "print(w.size().getInfo())\n",
    "nw = all_sample.filter(ee.Filter.eq('waterclass',0))\n",
    "print(nw.size().getInfo())\n",
    "print(w.size().getInfo() / all_sample.size().getInfo())\n",
    "print(nw.size().getInfo() / all_sample.size().getInfo())"
   ]
  },
  {
   "cell_type": "markdown",
   "id": "cb9011a6",
   "metadata": {
    "heading_collapsed": true,
    "hidden": true
   },
   "source": [
    "## 细节"
   ]
  },
  {
   "cell_type": "code",
   "execution_count": null,
   "id": "9121cb63",
   "metadata": {
    "ExecuteTime": {
     "end_time": "2021-11-24T03:07:55.890045Z",
     "start_time": "2021-11-24T03:07:55.474538Z"
    },
    "hidden": true
   },
   "outputs": [],
   "source": [
    "q1 = ee.FeatureCollection('users/311605001111/' + region + 'noseason' + year)\n",
    "q2 = ee.FeatureCollection('users/311605001111/' + region + 'season' + year)\n",
    "q = ee.FeatureCollection([q1,q2]).flatten()\n",
    "print(q.size().getInfo())"
   ]
  },
  {
   "cell_type": "code",
   "execution_count": null,
   "id": "d95c62d5",
   "metadata": {
    "ExecuteTime": {
     "end_time": "2021-11-24T03:11:42.362481Z",
     "start_time": "2021-11-24T03:11:33.777710Z"
    },
    "hidden": true
   },
   "outputs": [],
   "source": [
    "nowater = ee.FeatureCollection('users/311605001111/' + region + 'noseason' + year).filter(ee.Filter.eq('waterclass',0))\n",
    "print(nowater.size().getInfo())\n",
    "nowatersample = nowater.randomColumn('random',1,'uniform').filter(ee.Filter.lt('random', 2400/nowater.size().getInfo()))\n",
    "print(nowatersample.size().getInfo())\n",
    "\n",
    "water = ee.FeatureCollection('users/311605001111/' + region + 'noseason' + year).filter(ee.Filter.eq('waterclass',1))\n",
    "print(water.size().getInfo())\n",
    "watersample = water.randomColumn('random',1,'uniform').filter(ee.Filter.lt('random', 300/water.size().getInfo()))\n",
    "print(watersample.size().getInfo())\n",
    "\n",
    "q2 = ee.FeatureCollection('users/311605001111/' + region + 'season' + year)\n",
    "print(q2.size().getInfo())\n",
    "seasonsample = q2.randomColumn('random',1,'uniform').filter(ee.Filter.lt('random', 300/q2.size().getInfo()))\n",
    "print(seasonsample.size().getInfo())\n",
    "\n",
    "all_sample = ee.FeatureCollection([nowatersample,watersample,seasonsample]).flatten()\n",
    "print(all_sample.size().getInfo())\n",
    "w = all_sample.filter(ee.Filter.eq('waterclass',1))\n",
    "print(w.size().getInfo())\n",
    "nw = all_sample.filter(ee.Filter.eq('waterclass',0))\n",
    "print(nw.size().getInfo())\n",
    "\n",
    "print(w.size().getInfo() / all_sample.size().getInfo())\n",
    "print(nw.size().getInfo() / all_sample.size().getInfo())"
   ]
  },
  {
   "cell_type": "markdown",
   "id": "0a29f078",
   "metadata": {
    "heading_collapsed": true
   },
   "source": [
    "# 计算无效像元百分比"
   ]
  },
  {
   "cell_type": "code",
   "execution_count": null,
   "id": "abb42f24",
   "metadata": {
    "hidden": true
   },
   "outputs": [],
   "source": [
    "def classified_image(img):\n",
    "    image = maskSR(img).select(bands).classify(trainedClassifier).eq(1).remap([0,1],[1,2]).rename('waterclass').float()\n",
    "    invalidPixel = maskSR_reverse(img).select('pixel_qa').gt(0).remap([0,1],[1,0]).rename('waterclass').float()\n",
    "    class_image = ee.ImageCollection([invalidPixel,image]).sum()\n",
    "    invalidPixels = class_image.eq(0).multiply(ee.Image.pixelArea()).divide(1e6)\n",
    "    invalidarea = invalidPixels.reduceRegion(**{'reducer': ee.Reducer.sum(),'geometry': roi,'scale': 200,'maxPixels': 1e14,'tileScale': 2}).get('waterclass')\n",
    "    region = class_image.gte(0).multiply(ee.Image.pixelArea()).divide(1e6)\n",
    "    regionarea = region.reduceRegion(**{'reducer': ee.Reducer.sum(),'geometry': roi,'scale': 200,'maxPixels': 1e14,'tileScale': 2}).get('waterclass')\n",
    "    rate = ee.Number(invalidarea).divide(ee.Number(regionarea)).multiply(100)\n",
    "    return class_image.set({'system:id':img.get('system:id')}).set({'CLOUD_COVER':img.get('CLOUD_COVER')}).set({'invalid_percentage':rate})"
   ]
  },
  {
   "cell_type": "markdown",
   "id": "7f26bbaf",
   "metadata": {
    "heading_collapsed": true
   },
   "source": [
    "# 绘制直方图"
   ]
  },
  {
   "cell_type": "code",
   "execution_count": null,
   "id": "b5807339",
   "metadata": {
    "hidden": true
   },
   "outputs": [],
   "source": [
    "import collections\n",
    "import matplotlib.pyplot as plt\n",
    "import numpy as np\n",
    "month = [3, 9, 10, 11, 11, 3, 8, 9, 12]\n",
    "\n",
    "a = dict(collections.Counter(month))\n",
    "x = list(a.keys())\n",
    "y = list(a.values())\n",
    "\n",
    "fig, ax = plt.subplots(figsize=(10, 8))\n",
    "ax.bar(x=x,height=y,width=0.6,align=\"center\",color=\"grey\",edgecolor=\"red\",linewidth=2.0)\n",
    "ax.set_title(\"Distribution of selected images -- \" + region + '('+ year + ')', fontsize=32)\n",
    "plt.xlabel(\"month\", fontsize=28)\n",
    "plt.ylabel('number of images', fontsize=28)\n",
    "plt.xticks(x,fontsize = 34)\n",
    "plt.yticks([1,2,3,4],fontsize = 34)\n",
    "\n",
    "xticks = ax.get_xticks()\n",
    "for i in range(len(y)):\n",
    "    xy = (xticks[i], y[i] * 1.03)\n",
    "    s = str(y[i])\n",
    "    ax.annotate(s=s,xy=xy,fontsize=32,color=\"blue\",ha=\"center\",va=\"baseline\")\n",
    "plt.show()"
   ]
  },
  {
   "cell_type": "markdown",
   "id": "1c9c35a6",
   "metadata": {
    "heading_collapsed": true
   },
   "source": [
    "# 各类区域制图"
   ]
  },
  {
   "cell_type": "code",
   "execution_count": null,
   "id": "e370074a",
   "metadata": {
    "hidden": true
   },
   "outputs": [],
   "source": [
    "def maskSR(img):\n",
    "    cloudShadowBitMask = (1 << 3)\n",
    "    cloudsBitMask = (1 << 5) \n",
    "    qa = img.select('pixel_qa')\n",
    "    mask = qa.bitwiseAnd(cloudShadowBitMask).eq(0) \\\n",
    "                   .And(qa.bitwiseAnd(cloudsBitMask).eq(0))\n",
    "    return img.updateMask(mask)\n",
    "#### 设置年份\n",
    "year = '2020'\n",
    "JRC_id = 'JRC/GSW1_3/YearlyHistory/' + year\n",
    "Maryland_id = 'users/311605001111/Maryland/Maryland_nationwide_' + year\n",
    "basemap = ee.Image.constant(0).clip(roi).rename('waterclass')\n",
    "# JRC\n",
    "JRC = ee.Image(JRC_id).clip(roi).remap([0,1,2,3],[0,0,1,2]).rename('waterclass')\n",
    "JRC_waterclass = ee.ImageCollection([JRC,basemap]).sum()\n",
    "# Maryland\n",
    "Maryland = ee.Image(Maryland_id).clip(roi).select('b1').rename('waterclass')\n",
    "Maryland_permanent = Maryland.select('waterclass').gte(75).remap([0,1],[0,2]).rename('waterclass')\n",
    "Maryland_season= ee.ImageCollection([Maryland.gte(25),Maryland.lt(75)]).sum().eq(2)\n",
    "Maryland_waterclass = ee.ImageCollection([Maryland_permanent,Maryland_season,basemap]).sum()\n",
    "# 三者的交集\n",
    "permanentWaterExtent = ee.ImageCollection([JRC_waterclass.eq(2),Maryland_waterclass.eq(2)]).sum().eq(2)\n",
    "landExtent = ee.ImageCollection([JRC_waterclass.eq(0),Maryland_waterclass.eq(0)]).sum().eq(2)\n",
    "seasonWaterExtent_min = ee.ImageCollection([JRC_waterclass.eq(1),Maryland_waterclass.eq(1)]).sum().eq(2)\n",
    "seasonWaterExtent_max = ee.ImageCollection([permanentWaterExtent,landExtent]).sum().remap([0,1],[1,0]).rename('waterclass')"
   ]
  },
  {
   "cell_type": "code",
   "execution_count": null,
   "id": "63fdc764",
   "metadata": {
    "hidden": true
   },
   "outputs": [],
   "source": [
    "l8 = ee.ImageCollection('LANDSAT/LC08/C01/T1_SR').filterBounds(roi).filterDate('2020-01-01','2020-12-31').map(maskSR).median().clip(roi)\n",
    "visParams = {'bands': ['B5', 'B6', 'B4'],'min': 0,'max': 3000,'gamma': 1.4}\n",
    "Map.addLayer(l8, visParams,'image mosaic')\n",
    "\n",
    "permanent_points = l8.updateMask(permanentWaterExtent)\n",
    "land_points = l8.updateMask(landExtent)\n",
    "season_points = l8.updateMask(seasonWaterExtent_min)\n",
    "Map.addLayer(permanent_points, visParams,'permanent_points')\n",
    "Map.addLayer(land_points, visParams,'land_points')\n",
    "Map.addLayer(season_points, visParams,'season_points')\n",
    "\n",
    "from matplotlib import pyplot as plt\n",
    "import numpy as np\n",
    "import matplotlib\n",
    "from geemap import cartoee\n",
    "region = [113.7393, 29.8642,115.0993, 30.9242]\n",
    "visParams = {'bands': ['B5', 'B4', 'B3'],'min': 0,'max': 3000,'gamma': 1.4}\n",
    "refer_img = season_points.visualize(**visParams)\n",
    "blend = refer_img\n",
    "fig = plt.figure(figsize=(12, 8))\n",
    "ax = cartoee.get_map(blend, region=region)\n",
    "# label = 'permanent_points'\n",
    "# ax.set_title(label = label, fontsize=28)"
   ]
  },
  {
   "cell_type": "code",
   "execution_count": null,
   "id": "0251d15b",
   "metadata": {
    "hidden": true
   },
   "outputs": [],
   "source": []
  },
  {
   "cell_type": "code",
   "execution_count": null,
   "id": "9145396e",
   "metadata": {
    "hidden": true
   },
   "outputs": [],
   "source": []
  },
  {
   "cell_type": "code",
   "execution_count": null,
   "id": "0a6ada48",
   "metadata": {
    "hidden": true
   },
   "outputs": [],
   "source": []
  }
 ],
 "metadata": {
  "hide_input": false,
  "kernelspec": {
   "display_name": "Python 3 (ipykernel)",
   "language": "python",
   "name": "python3"
  },
  "language_info": {
   "codemirror_mode": {
    "name": "ipython",
    "version": 3
   },
   "file_extension": ".py",
   "mimetype": "text/x-python",
   "name": "python",
   "nbconvert_exporter": "python",
   "pygments_lexer": "ipython3",
   "version": "3.8.12"
  },
  "toc": {
   "base_numbering": 1,
   "nav_menu": {},
   "number_sections": true,
   "sideBar": true,
   "skip_h1_title": false,
   "title_cell": "Table of Contents",
   "title_sidebar": "Contents",
   "toc_cell": false,
   "toc_position": {},
   "toc_section_display": true,
   "toc_window_display": true
  },
  "varInspector": {
   "cols": {
    "lenName": 16,
    "lenType": 16,
    "lenVar": 40
   },
   "kernels_config": {
    "python": {
     "delete_cmd_postfix": "",
     "delete_cmd_prefix": "del ",
     "library": "var_list.py",
     "varRefreshCmd": "print(var_dic_list())"
    },
    "r": {
     "delete_cmd_postfix": ") ",
     "delete_cmd_prefix": "rm(",
     "library": "var_list.r",
     "varRefreshCmd": "cat(var_dic_list()) "
    }
   },
   "types_to_exclude": [
    "module",
    "function",
    "builtin_function_or_method",
    "instance",
    "_Feature"
   ],
   "window_display": false
  }
 },
 "nbformat": 4,
 "nbformat_minor": 5
}
