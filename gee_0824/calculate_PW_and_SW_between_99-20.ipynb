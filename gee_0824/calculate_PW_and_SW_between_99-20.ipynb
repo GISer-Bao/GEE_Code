{
 "cells": [
  {
   "cell_type": "code",
   "execution_count": 1,
   "id": "37cf6722",
   "metadata": {
    "ExecuteTime": {
     "end_time": "2022-03-19T02:50:40.349037Z",
     "start_time": "2022-03-19T02:50:40.333083Z"
    }
   },
   "outputs": [],
   "source": [
    "import os\n",
    "os.environ['HTTP_PROXY'] = \"http://127.0.0.1:10809\"\n",
    "os.environ['HTTPS_PROXY'] = \"http://127.0.0.1:10809\""
   ]
  },
  {
   "cell_type": "code",
   "execution_count": 2,
   "id": "8ddfd4d1",
   "metadata": {
    "ExecuteTime": {
     "end_time": "2022-03-19T02:50:46.981039Z",
     "start_time": "2022-03-19T02:50:40.692164Z"
    }
   },
   "outputs": [
    {
     "data": {
      "application/vnd.jupyter.widget-view+json": {
       "model_id": "5fa5140fcca340db95f2d5a328660550",
       "version_major": 2,
       "version_minor": 0
      },
      "text/plain": [
       "Map(center=[20, 0], controls=(WidgetControl(options=['position', 'transparent_bg'], widget=HBox(children=(Togg…"
      ]
     },
     "metadata": {},
     "output_type": "display_data"
    }
   ],
   "source": [
    "import geemap\n",
    "import ee\n",
    "Map=geemap.Map()\n",
    "Map"
   ]
  },
  {
   "cell_type": "code",
   "execution_count": 3,
   "id": "acf2a883",
   "metadata": {
    "ExecuteTime": {
     "end_time": "2022-03-19T02:50:47.696429Z",
     "start_time": "2022-03-19T02:50:47.029908Z"
    }
   },
   "outputs": [],
   "source": [
    "# # 大庆市\n",
    "# roi = ee.Geometry.Rectangle([123.9355, 45.8362,125.3055, 46.8762])\n",
    "# # 天津市\n",
    "# roi = ee.Geometry.Rectangle([115.9244, 38.6272,117.4944,39.6372])\n",
    "# # 武汉市\n",
    "roi = ee.Geometry.Rectangle([113.7393, 29.8642,115.0993, 30.9242])\n",
    "# # 珠三角\n",
    "# roi = ee.Geometry.Rectangle([112.7614, 22.2347,114.0514, 23.2547])\n",
    "# 青藏高原\n",
    "# roi = ee.Geometry.Rectangle([89.8826, 34.6579,91.3626, 35.8279])\n",
    "Map.addLayer(roi, {}, \"roi\")\n",
    "Map.centerObject(roi,7)"
   ]
  },
  {
   "cell_type": "code",
   "execution_count": 4,
   "id": "9e0dd71b",
   "metadata": {
    "ExecuteTime": {
     "end_time": "2022-03-19T02:50:47.757793Z",
     "start_time": "2022-03-19T02:50:47.743308Z"
    }
   },
   "outputs": [],
   "source": [
    "region = 'wuhan'\n",
    "elevation = ee.Image(\"users/311605001111/hillshade_\" + region)\n",
    "def maskSR(img):\n",
    "    cloudShadowBitMask = (1 << 3)\n",
    "    cloudsBitMask = (1 << 5)\n",
    "    snowBitMask = (1 << 4)   \n",
    "    qa = img.select('pixel_qa')\n",
    "    mask = qa.bitwiseAnd(cloudShadowBitMask).eq(0) \\\n",
    "                   .And(qa.bitwiseAnd(cloudsBitMask).eq(0)) \\\n",
    "                   .And(qa.bitwiseAnd(snowBitMask).eq(0))\n",
    "    azimuth = img.get('SOLAR_AZIMUTH_ANGLE')\n",
    "    zenith = img.get('SOLAR_ZENITH_ANGLE')\n",
    "    image = img.lt(0)\n",
    "    bands = image.select('B2').add(image.select('B3')).add(image.select('B4')).add(image.select('B5')).add(image.select('B6')).add(image.select('B7'))\n",
    "    outlier = bands.gt(0).remap([0,1],[1,0]).rename('outlier')\n",
    "    return img.updateMask(mask).updateMask(ee.Terrain.hillShadow(elevation,azimuth,zenith,200,True)).updateMask(outlier)"
   ]
  },
  {
   "cell_type": "code",
   "execution_count": 5,
   "id": "9122ee52",
   "metadata": {
    "ExecuteTime": {
     "end_time": "2022-03-19T02:50:49.038335Z",
     "start_time": "2022-03-19T02:50:47.804742Z"
    }
   },
   "outputs": [],
   "source": [
    "l5 = ee.ImageCollection('LANDSAT/LT05/C01/T1_SR') \\\n",
    "       .select(['B1', 'B2', 'B3', 'B4', 'B5', 'B7','pixel_qa'],['B2', 'B3', 'B4', 'B5', 'B6', 'B7','pixel_qa']) \\\n",
    "       .filterBounds(roi)        \n",
    "l8 = ee.ImageCollection('LANDSAT/LC08/C01/T1_SR') \\\n",
    "       .select(['B2', 'B3', 'B4', 'B5', 'B6', 'B7','pixel_qa']) \\\n",
    "       .filterBounds(roi)\n",
    "l58 = l8.merge(l5)\n",
    "visParams = {'bands': ['B5', 'B4', 'B3'],'min': 0,'max': 3000,'gamma': 1.4}\n",
    "\n",
    "year = 2020\n",
    "startDate = str(year) + '-01-01'\n",
    "endDate = str(year) + '-12-31'\n",
    "refer_img = l58.filterDate(startDate, endDate).map(maskSR).median().clip(roi)\n",
    "Map.addLayer(refer_img, visParams,'refer_img')"
   ]
  },
  {
   "cell_type": "code",
   "execution_count": null,
   "id": "d310e436",
   "metadata": {},
   "outputs": [],
   "source": []
  },
  {
   "cell_type": "markdown",
   "id": "0e586323",
   "metadata": {},
   "source": [
    "# PW和SW的面积（1999-2020）"
   ]
  },
  {
   "cell_type": "markdown",
   "id": "ce27d11c",
   "metadata": {
    "heading_collapsed": true
   },
   "source": [
    "## 多个，our result"
   ]
  },
  {
   "cell_type": "code",
   "execution_count": null,
   "id": "5b41c8ef",
   "metadata": {
    "ExecuteTime": {
     "end_time": "2022-03-10T08:05:30.180424Z",
     "start_time": "2022-03-10T08:05:19.062130Z"
    },
    "hidden": true
   },
   "outputs": [],
   "source": [
    "pwater = []\n",
    "swater = []\n",
    "mwater = []\n",
    "\n",
    "# item = [['region A','daqing'],['region B','tianjin'],['region C','wuhan'],['region D','prd'],['region E','tibet']]\n",
    "item = [['region A','daqing','(a1)'],['region B','tianjin','(b1)'],['region C','wuhan','(c1)'],['region D','prd','(d1)'],['region E','tibet','(e1)']]\n",
    "for it in item:\n",
    "    if it[0] == 'region A':\n",
    "        re = [123.9355, 45.8362,125.3055, 46.8762]\n",
    "    elif it[0] == 'region B':\n",
    "        re = [115.9244, 38.6272,117.4944,39.6372]\n",
    "    elif it[0] == 'region C':\n",
    "        re = [113.7393, 29.8642,115.0993, 30.9242]\n",
    "    elif it[0] == 'region D':\n",
    "        re = [112.7614, 22.2347,114.0514, 23.2547]   \n",
    "    elif it[0] == 'region E':\n",
    "        re = [89.8826, 34.6579,91.3626, 35.8279]\n",
    "    \n",
    "    roi = ee.Geometry.Rectangle(re)\n",
    "    basemap = ee.Image.constant(0).clip(roi).rename('waterclass')\n",
    "    frequency = ee.Image('users/311605001111/WF/' + it[1] + '_WF_9920')\n",
    "    permanent = frequency.gte(0.75).remap([0,1],[0,2]).rename('waterclass')\n",
    "    season= ee.ImageCollection([frequency.gte(0.25),frequency.lt(0.75)]).sum().eq(2).rename('waterclass')\n",
    "    pw = ee.ImageCollection([permanent,season,basemap]).sum()\n",
    "    \n",
    "    pw_pw_area = pw.eq(2).multiply(ee.Image.pixelArea()).divide(1e6)\n",
    "    areas = pw_pw_area.reduceRegion(**{'reducer': ee.Reducer.sum(),'geometry': roi,'scale': 30,'maxPixels': 1e14 })\n",
    "    print('PW: ',areas.get('waterclass').getInfo())\n",
    "    pwater.append(areas.get('waterclass').getInfo())\n",
    "    \n",
    "    pw_sw_area = pw.eq(1).multiply(ee.Image.pixelArea()).divide(1e6)\n",
    "    areas = pw_sw_area.reduceRegion(**{'reducer': ee.Reducer.sum(),'geometry': roi,'scale': 30,'maxPixels': 1e14 })\n",
    "    print('SW: ',areas.get('waterclass').getInfo())\n",
    "    swater.append(areas.get('waterclass').getInfo())\n",
    "    \n",
    "    pw_max_area = pw.gt(0).multiply(ee.Image.pixelArea()).divide(1e6)\n",
    "    areas = pw_max_area.reduceRegion(**{'reducer': ee.Reducer.sum(),'geometry': roi,'scale': 30,'maxPixels': 1e14 })\n",
    "    print('MW: ',areas.get('waterclass').getInfo())\n",
    "    mwater.append(areas.get('waterclass').getInfo())"
   ]
  },
  {
   "cell_type": "code",
   "execution_count": null,
   "id": "62ebeaa8",
   "metadata": {
    "ExecuteTime": {
     "end_time": "2022-03-10T08:05:38.338576Z",
     "start_time": "2022-03-10T08:05:38.334587Z"
    },
    "hidden": true
   },
   "outputs": [],
   "source": [
    "print(pwater)\n",
    "print(swater)\n",
    "print(mwater)"
   ]
  },
  {
   "cell_type": "code",
   "execution_count": null,
   "id": "331e0b04",
   "metadata": {
    "hidden": true
   },
   "outputs": [],
   "source": []
  },
  {
   "cell_type": "markdown",
   "id": "a2296510",
   "metadata": {},
   "source": [
    "## 多个,jrc"
   ]
  },
  {
   "cell_type": "code",
   "execution_count": null,
   "id": "4ca606cf",
   "metadata": {
    "ExecuteTime": {
     "end_time": "2022-03-18T08:01:19.975367Z",
     "start_time": "2022-03-18T08:01:18.751105Z"
    }
   },
   "outputs": [],
   "source": [
    "# occurrence9920 = ee.Image(\"users/311605001111/JRC_wuhan_9920\").select(['waterclass'],['occurrence'])\n",
    "# Map.addLayer(occurrence9920,{'palette':['white','green'],'min':0,'max':1}, 'occurrence9920')\n",
    "\n",
    "# frequency = ee.Image(\"users/311605001111/JRC_wuhan_9920\").select(['waterclass'],['occurrence'])\n",
    "# permanent = frequency.gte(0.75).remap([0,1],[0,2]).rename('waterclass')\n",
    "# season= ee.ImageCollection([frequency.gte(0.25),frequency.lt(0.75)]).sum().eq(2).rename('waterclass')\n",
    "# pw = ee.ImageCollection([permanent,season]).sum()\n",
    "# Map.addLayer(pw,{'min': 0.0,'max': 2.0,'palette': ['ffffff', 'fffcb8', '0905ff']}, 'pw')"
   ]
  },
  {
   "cell_type": "code",
   "execution_count": null,
   "id": "326edbf1",
   "metadata": {},
   "outputs": [],
   "source": [
    "from matplotlib import pyplot as plt\n",
    "import numpy as np\n",
    "import matplotlib\n",
    "from geemap import cartoee\n",
    "\n",
    "# item = [['region A','daqing'],['region B','tianjin'],['region C','wuhan'],['region D','prd'],['region E','tibet']]\n",
    "item = [['region A','daqing','(a1)'],['region B','tianjin','(b1)'],['region C','wuhan','(c1)'],['region D','prd','(d1)'],['region E','tibet','(e1)']]\n",
    "for it in item:\n",
    "    if it[0] == 'region A':\n",
    "        re = [123.9355, 45.8362,125.3055, 46.8762]\n",
    "    elif it[0] == 'region B':\n",
    "        re = [115.9244, 38.6272,117.4944,39.6372]\n",
    "    elif it[0] == 'region C':\n",
    "        re = [113.7393, 29.8642,115.0993, 30.9242]\n",
    "    elif it[0] == 'region D':\n",
    "        re = [112.7614, 22.2347,114.0514, 23.2547]   \n",
    "    elif it[0] == 'region E':\n",
    "        re = [89.8826, 34.6579,91.3626, 35.8279]\n",
    "    \n",
    "    fig = plt.figure(figsize=(12, 8))\n",
    "    vis = {'min': 0,'max': 2,'palette':['#FFFFFF','#87CEFA','#0000FF']}\n",
    "    \n",
    "    basemap = ee.Image.constant(0).clip(ee.Geometry.Rectangle(re)).rename('waterclass')\n",
    "    frequency = ee.Image('users/311605001111/JRC/' + 'JRC_' + it[1] + '_9920')\n",
    "    permanent = frequency.gte(0.75).remap([0,1],[0,2]).rename('waterclass')\n",
    "    season= ee.ImageCollection([frequency.gte(0.25),frequency.lt(0.75)]).sum().eq(2).rename('waterclass')\n",
    "    pw = ee.ImageCollection([permanent,season]).sum().visualize(**vis)\n",
    "    \n",
    "    ax = cartoee.get_map(pw,region=re)\n",
    "    cartoee.add_gridlines(ax, interval=[0.3,0.2], linestyle=\":\")\n",
    "    # cartoee.add_colorbar(ax, vis,cmap = 'Blues',loc=\"right\",label=\"water frequency\", orientation=\"vertical\")\n",
    "    # ax.set_title(label = it[0] + ' (1999-2020)', fontsize=20)\n",
    "    ax.set_title(label = it[2] + '     GSWD ' + '(' + it[0] + ' / 1999-2020)', fontsize=20)"
   ]
  },
  {
   "cell_type": "code",
   "execution_count": 8,
   "id": "1bd3293c",
   "metadata": {
    "ExecuteTime": {
     "end_time": "2022-03-19T02:52:46.152957Z",
     "start_time": "2022-03-19T02:52:33.477701Z"
    }
   },
   "outputs": [
    {
     "name": "stdout",
     "output_type": "stream",
     "text": [
      "PW:  984.9442066775243\n",
      "SW:  548.6490503931666\n",
      "MW:  1533.5932570707064\n",
      "PW:  166.46215825629653\n",
      "SW:  764.8019590304176\n",
      "MW:  931.264117286713\n",
      "PW:  1550.7322660466464\n",
      "SW:  1714.0019471622788\n",
      "MW:  3264.7342132091653\n",
      "PW:  2466.975588165705\n",
      "SW:  1043.1979278209185\n",
      "MW:  3510.1735159868094\n",
      "PW:  2137.720719789316\n",
      "SW:  267.7133821797643\n",
      "MW:  2405.4341019690855\n"
     ]
    }
   ],
   "source": [
    "pwater = []\n",
    "swater = []\n",
    "mwater = []\n",
    "\n",
    "item = [['region A','daqing'],['region B','tianjin'],['region C','wuhan'],['region D','prd'],['region E','tibet']]\n",
    "\n",
    "for it in item:\n",
    "    if it[0] == 'region A':\n",
    "        re = [123.9355, 45.8362,125.3055, 46.8762]\n",
    "    elif it[0] == 'region B':\n",
    "        re = [115.9244, 38.6272,117.4944,39.6372]\n",
    "    elif it[0] == 'region C':\n",
    "        re = [113.7393, 29.8642,115.0993, 30.9242]\n",
    "    elif it[0] == 'region D':\n",
    "        re = [112.7614, 22.2347,114.0514, 23.2547]   \n",
    "    elif it[0] == 'region E':\n",
    "        re = [89.8826, 34.6579,91.3626, 35.8279]\n",
    "   \n",
    "    roi = ee.Geometry.Rectangle(re)\n",
    "    basemap = ee.Image.constant(0).clip(ee.Geometry.Rectangle(re)).rename('waterclass')\n",
    "    frequency = ee.Image('users/311605001111/JRC/' + 'JRC_' + it[1] + '_9920')\n",
    "    permanent = frequency.gte(0.75).remap([0,1],[0,2]).rename('waterclass')\n",
    "    season= ee.ImageCollection([frequency.gte(0.25),frequency.lt(0.75)]).sum().eq(2).rename('waterclass')\n",
    "    pw = ee.ImageCollection([permanent,season]).sum()\n",
    "    \n",
    "    pw_pw_area = pw.eq(2).multiply(ee.Image.pixelArea()).divide(1e6)\n",
    "    areas = pw_pw_area.reduceRegion(**{'reducer': ee.Reducer.sum(),'geometry': roi,'scale': 30,'maxPixels': 1e14 })\n",
    "    print('PW: ',areas.get('waterclass').getInfo())\n",
    "    pwater.append(areas.get('waterclass').getInfo())\n",
    "    \n",
    "    pw_sw_area = pw.eq(1).multiply(ee.Image.pixelArea()).divide(1e6)\n",
    "    areas = pw_sw_area.reduceRegion(**{'reducer': ee.Reducer.sum(),'geometry': roi,'scale': 30,'maxPixels': 1e14 })\n",
    "    print('SW: ',areas.get('waterclass').getInfo())\n",
    "    swater.append(areas.get('waterclass').getInfo())\n",
    "    \n",
    "    pw_max_area = pw.gt(0).multiply(ee.Image.pixelArea()).divide(1e6)\n",
    "    areas = pw_max_area.reduceRegion(**{'reducer': ee.Reducer.sum(),'geometry': roi,'scale': 30,'maxPixels': 1e14 })\n",
    "    print('MW: ',areas.get('waterclass').getInfo())\n",
    "    mwater.append(areas.get('waterclass').getInfo())"
   ]
  },
  {
   "cell_type": "code",
   "execution_count": null,
   "id": "f07ddc96",
   "metadata": {
    "ExecuteTime": {
     "end_time": "2022-03-18T12:58:03.109048Z",
     "start_time": "2022-03-18T12:58:03.094050Z"
    }
   },
   "outputs": [],
   "source": [
    "print(pwater)\n",
    "print(swater)\n",
    "print(mwater)"
   ]
  },
  {
   "cell_type": "markdown",
   "id": "5280882f",
   "metadata": {
    "ExecuteTime": {
     "end_time": "2022-03-10T08:07:20.349815Z",
     "start_time": "2022-03-10T08:07:20.326878Z"
    }
   },
   "source": [
    "##  制图"
   ]
  },
  {
   "cell_type": "code",
   "execution_count": null,
   "id": "1caeac72",
   "metadata": {
    "ExecuteTime": {
     "end_time": "2022-03-18T12:58:29.529953Z",
     "start_time": "2022-03-18T12:58:29.510006Z"
    }
   },
   "outputs": [],
   "source": [
    "# our result\n",
    "our_pw = [1073.6583851042938, 231.29111243872381, 1664.908380786999, 2457.1143701154424, 2101.613526165305]\n",
    "our_sw = [700.0475015721559, 636.0955432330977, 1370.5313876992209, 796.8368395648121, 322.9033363355685]\n",
    "our_mw = [1773.7058866764949, 867.3866556717976, 3035.4397684865316, 3253.9512096804483, 2424.5168625007195]\n",
    "\n",
    "# jrc\n",
    "# jrc_pw = [993.9115928846336, 160.49209321191506, 1478.898685273799, 2439.0017645175226, 2148.8082088924098]\n",
    "# jrc_sw = [690.2540363991794, 653.8117290643022, 1197.6200670173885, 748.7212888136327, 318.49179606343296]\n",
    "# jrc_mw = [1684.1656292838272, 814.3038222762314, 2676.5187522913843, 3187.7230533313846, 2467.3000049557513]\n",
    "\n",
    "jrc_pw = [984.9442066775242, 166.46215825629656, 1550.7322660466466, 2466.9755881657047, 2137.7207197893163]\n",
    "jrc_sw = [548.6490503931665, 764.8019590304176, 1714.0019471622793, 1043.1979278209185, 267.7133821797643]\n",
    "jrc_mw = [1533.5932570707064, 931.264117286713, 3264.7342132091653, 3510.1735159868094, 2405.434101969085]"
   ]
  },
  {
   "cell_type": "markdown",
   "id": "dd1b2903",
   "metadata": {
    "heading_collapsed": true
   },
   "source": [
    "### 一张图"
   ]
  },
  {
   "cell_type": "code",
   "execution_count": null,
   "id": "6a12818d",
   "metadata": {
    "ExecuteTime": {
     "end_time": "2022-03-18T12:58:40.436172Z",
     "start_time": "2022-03-18T12:58:31.277919Z"
    },
    "hidden": true
   },
   "outputs": [],
   "source": [
    "import matplotlib.pyplot as plt\n",
    "import numpy as np\n",
    "import pandas as pd\n",
    "from sklearn.linear_model import LinearRegression\n",
    "\n",
    "plt.figure(figsize=(8,6))\n",
    "year = np.arange(1,6,1)\n",
    "\n",
    "plt.plot(year, our_pw,'*-b' ,label = 'Our result--PW')\n",
    "plt.plot(year, jrc_pw,'*-r' ,label = 'GSWD--PW')\n",
    "\n",
    "plt.plot(year, our_sw,'x--b',label = 'Our result--SW')\n",
    "plt.plot(year, jrc_sw,'x--r',label = 'GSWD--SW')\n",
    "\n",
    "plt.plot(year, our_mw,'^:b',label = 'Our result--MW')\n",
    "plt.plot(year, jrc_mw,'^:r',label = 'GSWD--MW')\n",
    "# plt.plot(year, our_wo,'o-.m' ,label = 'Our result--SW')\n",
    "\n",
    "\n",
    "\n",
    "# plt.title(\"Area change in various water (region C / 2000-2020)\", fontsize=18)\n",
    "plt.title(\"Water area in each areas (1999-2020)\", fontsize=18)\n",
    "plt.xlabel(\"Region\", fontsize=18)\n",
    "plt.ylabel('Area/km²', fontsize=18)\n",
    "\n",
    "plt.ylim(0,4000)\n",
    "plt.tick_params(labelsize=15)\n",
    "plt.xticks([1,2,3,4,5],['region A','region B','region C','region D','region E'])\n",
    "plt.legend(prop={'size':12},loc='upper left')\n",
    "plt.show()"
   ]
  },
  {
   "cell_type": "markdown",
   "id": "c8054b80",
   "metadata": {
    "heading_collapsed": true
   },
   "source": [
    "### 多张图"
   ]
  },
  {
   "cell_type": "code",
   "execution_count": null,
   "id": "66a9b4d0",
   "metadata": {
    "ExecuteTime": {
     "end_time": "2022-03-18T12:58:40.765980Z",
     "start_time": "2022-03-18T12:58:40.655935Z"
    },
    "hidden": true
   },
   "outputs": [],
   "source": [
    "import matplotlib.pyplot as plt\n",
    "import numpy as np\n",
    "import pandas as pd\n",
    "from sklearn.linear_model import LinearRegression\n",
    "\n",
    "plt.figure(figsize=(8,6))\n",
    "year = np.arange(1,6,1)\n",
    "\n",
    "plt.plot(year, our_pw,'*-b' ,label = 'Our result')\n",
    "plt.plot(year, jrc_pw,'^--r' ,label = 'GSWD')\n",
    "\n",
    "\n",
    "\n",
    "# plt.title(\"Area change in various water (region C / 2000-2020)\", fontsize=18)\n",
    "plt.title(\"Area of permanent water in each areas (1999-2020)\", fontsize=18)\n",
    "plt.xlabel(\"Region\", fontsize=18)\n",
    "plt.ylabel('Area/km²', fontsize=18)\n",
    "\n",
    "plt.ylim(0,4000)\n",
    "plt.tick_params(labelsize=15)\n",
    "plt.xticks([1,2,3,4,5],['region A','region B','region C','region D','region E'])\n",
    "plt.legend(prop={'size':12},loc='upper left')\n",
    "plt.show()"
   ]
  },
  {
   "cell_type": "code",
   "execution_count": null,
   "id": "88e64ff0",
   "metadata": {
    "ExecuteTime": {
     "end_time": "2022-03-18T12:58:41.111761Z",
     "start_time": "2022-03-18T12:58:40.988092Z"
    },
    "hidden": true
   },
   "outputs": [],
   "source": [
    "import matplotlib.pyplot as plt\n",
    "import numpy as np\n",
    "import pandas as pd\n",
    "from sklearn.linear_model import LinearRegression\n",
    "\n",
    "plt.figure(figsize=(8,6))\n",
    "year = np.arange(1,6,1)\n",
    "\n",
    "plt.plot(year, our_sw,'*-b',label = 'Our result')\n",
    "plt.plot(year, jrc_sw,'^--r',label = 'GSWD')\n",
    "\n",
    "\n",
    "\n",
    "# plt.title(\"Area change in various water (region C / 2000-2020)\", fontsize=18)\n",
    "plt.title(\"Area of seasonal water in each areas (1999-2020)\", fontsize=18)\n",
    "plt.xlabel(\"Region\", fontsize=18)\n",
    "plt.ylabel('Area/km²', fontsize=18)\n",
    "\n",
    "plt.ylim(0,4000)\n",
    "plt.tick_params(labelsize=15)\n",
    "plt.xticks([1,2,3,4,5],['region A','region B','region C','region D','region E'])\n",
    "plt.legend(prop={'size':12},loc='upper left')\n",
    "plt.show()"
   ]
  },
  {
   "cell_type": "code",
   "execution_count": null,
   "id": "614e8220",
   "metadata": {
    "ExecuteTime": {
     "end_time": "2022-03-18T12:58:41.476904Z",
     "start_time": "2022-03-18T12:58:41.367162Z"
    },
    "hidden": true
   },
   "outputs": [],
   "source": [
    "import matplotlib.pyplot as plt\n",
    "import numpy as np\n",
    "import pandas as pd\n",
    "from sklearn.linear_model import LinearRegression\n",
    "\n",
    "plt.figure(figsize=(8,6))\n",
    "year = np.arange(1,6,1)\n",
    "\n",
    "plt.plot(year, our_mw,'*-b',label = 'Our result')\n",
    "plt.plot(year, jrc_mw,'^--r',label = 'GSWD')\n",
    "\n",
    "\n",
    "# plt.title(\"Area change in various water (region C / 2000-2020)\", fontsize=18)\n",
    "plt.title(\"Area of maximum water in each areas (1999-2020)\", fontsize=18)\n",
    "plt.xlabel(\"Region\", fontsize=18)\n",
    "plt.ylabel('Area/km²', fontsize=18)\n",
    "\n",
    "plt.ylim(0,4000)\n",
    "plt.tick_params(labelsize=15)\n",
    "plt.xticks([1,2,3,4,5],['region A','region B','region C','region D','region E'])\n",
    "plt.legend(prop={'size':12},loc='upper left')\n",
    "plt.show()"
   ]
  },
  {
   "cell_type": "markdown",
   "id": "086a9401",
   "metadata": {
    "heading_collapsed": true
   },
   "source": [
    "## 单个"
   ]
  },
  {
   "cell_type": "code",
   "execution_count": null,
   "id": "5e870a2c",
   "metadata": {
    "ExecuteTime": {
     "end_time": "2022-03-09T09:10:15.791132Z",
     "start_time": "2022-03-09T09:10:09.460442Z"
    },
    "hidden": true
   },
   "outputs": [],
   "source": [
    "# 实验结果\n",
    "basemap = ee.Image.constant(0).clip(roi).rename('waterclass')\n",
    "result = ee.Image('users/311605001111/WF/' + region + '_WF_' + '9920').rename('waterclass')\n",
    "permanent = result.gte(0.75).remap([0,1],[0,2]).rename('waterclass')\n",
    "season= ee.ImageCollection([result.gte(0.25),result.lt(0.75)]).sum().eq(2).rename('waterclass')\n",
    "pw = ee.ImageCollection([permanent,season,basemap]).sum()\n",
    "Map.addLayer(pw.selfMask(),{'palette':['#87CEFA', 'blue'],'min':1,'max':2},\"pw\")\n",
    "\n",
    "pw_area = pw.eq(2).multiply(ee.Image.pixelArea()).divide(1e6)\n",
    "areas = pw_area.reduceRegion(**{'reducer': ee.Reducer.sum(),'geometry': roi,'scale': 30,'maxPixels': 1e14 })\n",
    "print('PW: ',areas.get('waterclass').getInfo())\n",
    "\n",
    "pw_no_area = pw.eq(1).multiply(ee.Image.pixelArea()).divide(1e6)\n",
    "areas = pw_no_area.reduceRegion(**{'reducer': ee.Reducer.sum(),'geometry': roi,'scale': 30,'maxPixels': 1e14 })\n",
    "print('SW: ',areas.get('waterclass').getInfo())"
   ]
  },
  {
   "cell_type": "code",
   "execution_count": null,
   "id": "62f50983",
   "metadata": {
    "ExecuteTime": {
     "end_time": "2022-03-09T09:10:23.339150Z",
     "start_time": "2022-03-09T09:10:15.889315Z"
    },
    "hidden": true
   },
   "outputs": [],
   "source": [
    "# JRC\n",
    "\n",
    "frequency = ee.Image('users/311605001111/' + 'JRC_' + region + '_9920')\n",
    "# basemap = ee.Image.constant(0).clip(roi).rename('waterclass')\n",
    "# dataset = ee.ImageCollection('JRC/GSW1_3/MonthlyHistory').filterDate('1999-01-01', '2020-12-31')\n",
    "# water_pixels = dataset.map(lambda i : i.select('water').clip(roi).gt(1)).sum()\n",
    "# valid_pixels = dataset.map(lambda i : i.select('water').clip(roi).gt(0)).sum()\n",
    "# frequency = water_pixels.divide(valid_pixels).rename('waterclass')\n",
    "# Map.addLayer(frequency.selfMask(),{'palette':['white', 'blue'],'min':0,'max':1},\"frequency\")\n",
    "\n",
    "permanent = frequency.gte(0.75).remap([0,1],[0,2]).rename('waterclass')\n",
    "season= ee.ImageCollection([frequency.gte(0.25),frequency.lt(0.75)]).sum().eq(2).rename('waterclass')\n",
    "jrc_waterclass = ee.ImageCollection([permanent,season,basemap]).sum()\n",
    "Map.addLayer(jrc_waterclass.selfMask(),{'palette':['#bfd69b', 'green'],'min':1,'max':2},\"jrc\")\n",
    "\n",
    "pw_area = jrc_waterclass.eq(2).multiply(ee.Image.pixelArea()).divide(1e6)\n",
    "areas = pw_area.reduceRegion(**{'reducer': ee.Reducer.sum(),'geometry': roi,'scale': 30,'maxPixels': 1e14 })\n",
    "print('PW: ',areas.get('waterclass').getInfo())\n",
    "\n",
    "pw_no_area = jrc_waterclass.eq(1).multiply(ee.Image.pixelArea()).divide(1e6)\n",
    "areas = pw_no_area.reduceRegion(**{'reducer': ee.Reducer.sum(),'geometry': roi,'scale': 30,'maxPixels': 1e14 })\n",
    "print('SW: ',areas.get('waterclass').getInfo())"
   ]
  },
  {
   "cell_type": "code",
   "execution_count": null,
   "id": "6aabd30a",
   "metadata": {
    "ExecuteTime": {
     "end_time": "2022-03-03T01:28:31.202316Z",
     "start_time": "2022-03-03T01:28:25.577323Z"
    },
    "hidden": true
   },
   "outputs": [],
   "source": [
    "# 实验结果（未校正）\n",
    "basemap = ee.Image.constant(0).clip(roi).rename('waterclass')\n",
    "result = ee.Image('users/311605001111/WF_nocorrect/' + region + '_WF_' + '9920').rename('waterclass')\n",
    "permanent = result.gte(0.75).remap([0,1],[0,2]).rename('waterclass')\n",
    "season= ee.ImageCollection([result.gte(0.25),result.lt(0.75)]).sum().eq(2).rename('waterclass')\n",
    "pw_no = ee.ImageCollection([permanent,season,basemap]).sum()\n",
    "Map.addLayer(pw_no.selfMask(),{'palette':['purple']},\"pw_no\")\n",
    "\n",
    "pw_area = pw_no.eq(2).multiply(ee.Image.pixelArea()).divide(1e6)\n",
    "areas = pw_area.reduceRegion(**{'reducer': ee.Reducer.sum(),'geometry': roi,'scale': 30,'maxPixels': 1e14 })\n",
    "print('PW: ',areas.get('waterclass').getInfo())\n",
    "\n",
    "pw_no_area = pw_no.eq(1).multiply(ee.Image.pixelArea()).divide(1e6)\n",
    "areas = pw_no_area.reduceRegion(**{'reducer': ee.Reducer.sum(),'geometry': roi,'scale': 30,'maxPixels': 1e14 })\n",
    "print('SW: ',areas.get('waterclass').getInfo())"
   ]
  },
  {
   "cell_type": "code",
   "execution_count": null,
   "id": "6e502712",
   "metadata": {
    "ExecuteTime": {
     "end_time": "2022-03-02T13:18:10.228271Z",
     "start_time": "2022-03-02T13:18:08.940389Z"
    },
    "hidden": true
   },
   "outputs": [],
   "source": [
    "# Maryland\n",
    "\n",
    "basemap = ee.Image.constant(0).clip(roi).rename('waterclass')\n",
    "Maryland = ee.Image(\"users/311605001111/MARYLAND_99-20\").clip(roi).select('b1').rename('waterclass')\n",
    "Maryland_permanent = Maryland.select('waterclass').eq(2).remap([0,1],[0,2]).rename('waterclass')\n",
    "Maryland_season= Maryland.select('waterclass').eq(7).rename('waterclass')\n",
    "maryland_waterclass = ee.ImageCollection([Maryland_permanent,Maryland_season,basemap]).sum()\n",
    "Map.addLayer(maryland_waterclass.selfMask(),{'palette':['#4ad6c3','red'],'min':1,'max':2},\"maryland\")\n",
    "\n",
    "pw_area = maryland_waterclass.eq(2).multiply(ee.Image.pixelArea()).divide(1e6)\n",
    "areas = pw_area.reduceRegion(**{'reducer': ee.Reducer.sum(),'geometry': roi,'scale': 30,'maxPixels': 1e14 })\n",
    "print('PW: ',areas.get('waterclass').getInfo())\n",
    "\n",
    "pw_no_area = maryland_waterclass.eq(1).multiply(ee.Image.pixelArea()).divide(1e6)\n",
    "areas = pw_no_area.reduceRegion(**{'reducer': ee.Reducer.sum(),'geometry': roi,'scale': 30,'maxPixels': 1e14 })\n",
    "print('SW: ',areas.get('waterclass').getInfo())"
   ]
  },
  {
   "cell_type": "code",
   "execution_count": null,
   "id": "33f7de4c",
   "metadata": {
    "hidden": true
   },
   "outputs": [],
   "source": []
  },
  {
   "cell_type": "markdown",
   "id": "c539c883",
   "metadata": {
    "heading_collapsed": true
   },
   "source": [
    "# PW和SW的面积（2000，2005，2010，2015，2020）"
   ]
  },
  {
   "cell_type": "code",
   "execution_count": null,
   "id": "990f5996",
   "metadata": {
    "ExecuteTime": {
     "end_time": "2022-03-03T07:46:12.751339Z",
     "start_time": "2022-03-03T07:46:10.991014Z"
    },
    "hidden": true
   },
   "outputs": [],
   "source": [
    "# # 大庆市\n",
    "# region = 'daqing'\n",
    "# roi = ee.Geometry.Rectangle([123.9355, 45.8362,125.3055, 46.8762])\n",
    "# # 天津市\n",
    "# region = 'tianjin'\n",
    "# roi = ee.Geometry.Rectangle([115.9244, 38.6272,117.4944,39.6372])\n",
    "# # 武汉市\n",
    "region = 'wuhan'\n",
    "roi = ee.Geometry.Rectangle([113.7393, 29.8642,115.0993, 30.9242])\n",
    "# # 珠三角\n",
    "# region = 'prd'\n",
    "# roi = ee.Geometry.Rectangle([112.7614, 22.2347,114.0514, 23.2547])\n",
    "# 青藏高原\n",
    "# region = 'tibet'\n",
    "# roi = ee.Geometry.Rectangle([89.8826, 34.6579,91.3626, 35.8279])\n",
    "Map.addLayer(roi, {}, \"roi\")\n",
    "Map.centerObject(roi,7)"
   ]
  },
  {
   "cell_type": "markdown",
   "id": "571b60bd",
   "metadata": {
    "hidden": true
   },
   "source": [
    "## JRC"
   ]
  },
  {
   "cell_type": "code",
   "execution_count": null,
   "id": "4f2ab2a3",
   "metadata": {
    "ExecuteTime": {
     "end_time": "2022-03-03T07:46:32.354903Z",
     "start_time": "2022-03-03T07:46:18.526900Z"
    },
    "hidden": true
   },
   "outputs": [],
   "source": [
    "pwater = []\n",
    "swater = []\n",
    "for year in range(2000,2021,5):\n",
    "    print(year)\n",
    "    basemap = ee.Image.constant(0).clip(roi).rename('waterclass')\n",
    "    \n",
    "    JRC = ee.Image('JRC/GSW1_3/YearlyHistory/' + str(year)).clip(roi).remap([0,1,2,3],[0,0,1,2]).rename('waterclass')\n",
    "    pw = ee.ImageCollection([JRC,basemap]).sum()\n",
    "    # Map.addLayer(pw.selfMask(),{'palette':['#87CEFA', 'blue'],'min':1,'max':2},\"pw\")\n",
    "    \n",
    "    pw_area = pw.eq(2).multiply(ee.Image.pixelArea()).divide(1e6)\n",
    "    areas = pw_area.reduceRegion(**{'reducer': ee.Reducer.sum(),'geometry': roi,'scale': 30,'maxPixels': 1e14 })\n",
    "    print('PW: ',areas.get('waterclass').getInfo())\n",
    "    pwater.append(areas.get('waterclass').getInfo())\n",
    "    \n",
    "    pw_no_area = pw.eq(1).multiply(ee.Image.pixelArea()).divide(1e6)\n",
    "    areas = pw_no_area.reduceRegion(**{'reducer': ee.Reducer.sum(),'geometry': roi,'scale': 30,'maxPixels': 1e14 })\n",
    "    print('SW: ',areas.get('waterclass').getInfo())\n",
    "    swater.append(areas.get('waterclass').getInfo())"
   ]
  },
  {
   "cell_type": "code",
   "execution_count": null,
   "id": "c3738444",
   "metadata": {
    "ExecuteTime": {
     "end_time": "2022-03-03T07:46:32.465608Z",
     "start_time": "2022-03-03T07:46:32.450648Z"
    },
    "hidden": true
   },
   "outputs": [],
   "source": [
    "print(pwater)\n",
    "print(swater)"
   ]
  },
  {
   "cell_type": "markdown",
   "id": "2efb6776",
   "metadata": {
    "hidden": true
   },
   "source": [
    "## Maryland"
   ]
  },
  {
   "cell_type": "code",
   "execution_count": null,
   "id": "81097a81",
   "metadata": {
    "ExecuteTime": {
     "end_time": "2022-03-03T07:46:43.858182Z",
     "start_time": "2022-03-03T07:46:32.562349Z"
    },
    "hidden": true
   },
   "outputs": [],
   "source": [
    "pwater = []\n",
    "swater = []\n",
    "for year in range(2000,2021,5):\n",
    "    print(year)\n",
    "    basemap = ee.Image.constant(0).clip(roi).rename('waterclass')\n",
    "    \n",
    "    Maryland = ee.Image('users/311605001111/Maryland/Maryland_nationwide_' + str(year)).clip(roi).select('b1').rename('waterclass')\n",
    "    Maryland_permanent = Maryland.select('waterclass').gte(75).remap([0,1],[0,2]).rename('waterclass')\n",
    "    Maryland_season= ee.ImageCollection([Maryland.gte(25),Maryland.lt(75)]).sum().eq(2)\n",
    "    pw = ee.ImageCollection([Maryland_permanent,Maryland_season,basemap]).sum()    \n",
    "    # Map.addLayer(pw.selfMask(),{'palette':['#87CEFA', 'blue'],'min':1,'max':2},\"pw\")\n",
    "    \n",
    "    pw_area = pw.eq(2).multiply(ee.Image.pixelArea()).divide(1e6)\n",
    "    areas = pw_area.reduceRegion(**{'reducer': ee.Reducer.sum(),'geometry': roi,'scale': 30,'maxPixels': 1e14 })\n",
    "    print('PW: ',areas.get('waterclass').getInfo())\n",
    "    pwater.append(areas.get('waterclass').getInfo())\n",
    "    \n",
    "    pw_no_area = pw.eq(1).multiply(ee.Image.pixelArea()).divide(1e6)\n",
    "    areas = pw_no_area.reduceRegion(**{'reducer': ee.Reducer.sum(),'geometry': roi,'scale': 30,'maxPixels': 1e14 })\n",
    "    print('SW: ',areas.get('waterclass').getInfo())\n",
    "    swater.append(areas.get('waterclass').getInfo())"
   ]
  },
  {
   "cell_type": "code",
   "execution_count": null,
   "id": "c6a51d3b",
   "metadata": {
    "ExecuteTime": {
     "end_time": "2022-03-03T07:46:43.968857Z",
     "start_time": "2022-03-03T07:46:43.953898Z"
    },
    "hidden": true
   },
   "outputs": [],
   "source": [
    "print(pwater)\n",
    "print(swater)"
   ]
  },
  {
   "cell_type": "code",
   "execution_count": null,
   "id": "476b7b97",
   "metadata": {
    "hidden": true
   },
   "outputs": [],
   "source": []
  },
  {
   "cell_type": "markdown",
   "id": "436d6cde",
   "metadata": {
    "hidden": true
   },
   "source": [
    "## Our result"
   ]
  },
  {
   "cell_type": "code",
   "execution_count": null,
   "id": "dc6137b6",
   "metadata": {
    "ExecuteTime": {
     "end_time": "2022-03-03T07:46:54.801927Z",
     "start_time": "2022-03-03T07:46:44.063604Z"
    },
    "hidden": true,
    "scrolled": true
   },
   "outputs": [],
   "source": [
    "# 计算\n",
    "pwater = []\n",
    "swater = []\n",
    "for year in range(2000,2021,5):\n",
    "    print(year)\n",
    "    basemap = ee.Image.constant(0).clip(roi).rename('waterclass')\n",
    "    result = ee.Image('users/311605001111/WF/' + region + '_WF_' + str(year)).rename('waterclass')\n",
    "    permanent = result.gte(0.75).remap([0,1],[0,2]).rename('waterclass')\n",
    "    season= ee.ImageCollection([result.gte(0.25),result.lt(0.75)]).sum().eq(2).rename('waterclass')\n",
    "    pw = ee.ImageCollection([permanent,season,basemap]).sum()\n",
    "    # Map.addLayer(pw.selfMask(),{'palette':['#87CEFA', 'blue'],'min':1,'max':2},\"pw\")\n",
    "    \n",
    "    pw_area = pw.eq(2).multiply(ee.Image.pixelArea()).divide(1e6)\n",
    "    areas = pw_area.reduceRegion(**{'reducer': ee.Reducer.sum(),'geometry': roi,'scale': 30,'maxPixels': 1e14 })\n",
    "    print('PW: ',areas.get('waterclass').getInfo())\n",
    "    pwater.append(areas.get('waterclass').getInfo())\n",
    "    \n",
    "    pw_no_area = pw.eq(1).multiply(ee.Image.pixelArea()).divide(1e6)\n",
    "    areas = pw_no_area.reduceRegion(**{'reducer': ee.Reducer.sum(),'geometry': roi,'scale': 30,'maxPixels': 1e14 })\n",
    "    print('SW: ',areas.get('waterclass').getInfo())\n",
    "    swater.append(areas.get('waterclass').getInfo())"
   ]
  },
  {
   "cell_type": "code",
   "execution_count": null,
   "id": "064423f0",
   "metadata": {
    "ExecuteTime": {
     "end_time": "2022-03-03T07:46:54.913601Z",
     "start_time": "2022-03-03T07:46:54.898641Z"
    },
    "hidden": true,
    "scrolled": true
   },
   "outputs": [],
   "source": [
    "print(pwater)\n",
    "print(swater)"
   ]
  },
  {
   "cell_type": "code",
   "execution_count": null,
   "id": "5173d11f",
   "metadata": {
    "hidden": true
   },
   "outputs": [],
   "source": []
  },
  {
   "cell_type": "code",
   "execution_count": null,
   "id": "ec9db4cc",
   "metadata": {
    "ExecuteTime": {
     "end_time": "2022-03-02T08:06:44.067368Z",
     "start_time": "2022-03-02T08:06:44.052242Z"
    },
    "hidden": true
   },
   "outputs": [],
   "source": [
    "# region A\n",
    "# pwater = [1294.7238098718306, 1162.2147299209773, 1175.6265415699902, 1425.1934993771754, 1522.2998796074125]\n",
    "# swater = [529.3891544596097, 614.8230854039382, 505.9648056078811, 576.7378436699851, 759.116174734088]\n",
    "\n",
    "# # region B\n",
    "# pwater = [389.8300949300209, 499.66594719242994, 359.6137283771112, 367.38701840706244, 483.3019181285885]\n",
    "# swater = [307.02835881440876, 322.3283737304871, 399.6433022098337, 381.20521895196885, 446.7491821932476]\n",
    "\n",
    "# region C\n",
    "pwater = [1742.803061500307, 1767.3411693457658, 2014.336046780104, 1881.047325368986, 1967.926536578787]\n",
    "swater = [1200.29945551262, 1264.7137798028177, 1171.6298557849873, 960.8201012417004, 1135.8482452760952]\n",
    "\n",
    "# # region D\n",
    "# pwater = [2736.3767901270767, 2743.354059797078, 2616.636802060956, 2445.557540189891, 2353.0231161996153]\n",
    "# swater = [655.1116738118164, 689.4101057420261, 542.3113952600945, 453.368261613696, 434.7849028281628]\n",
    "\n",
    "# # region E\n",
    "# pwater = [1795.6140424029343, 2032.8778920203717, 2159.4533749978427, 2287.5011316205296, 2572.575699173833]\n",
    "# swater = [86.32433359075402, 113.03516058995584, 128.6198355527511, 138.5201381679648, 85.35564178690635]"
   ]
  },
  {
   "cell_type": "code",
   "execution_count": null,
   "id": "d8964c96",
   "metadata": {
    "hidden": true
   },
   "outputs": [],
   "source": []
  },
  {
   "cell_type": "markdown",
   "id": "6bbdf6b7",
   "metadata": {
    "hidden": true
   },
   "source": [
    "## 制图"
   ]
  },
  {
   "cell_type": "code",
   "execution_count": null,
   "id": "54628d0f",
   "metadata": {
    "hidden": true
   },
   "outputs": [],
   "source": []
  },
  {
   "cell_type": "code",
   "execution_count": null,
   "id": "51eae4dc",
   "metadata": {
    "hidden": true
   },
   "outputs": [],
   "source": []
  },
  {
   "cell_type": "code",
   "execution_count": null,
   "id": "a4d014f7",
   "metadata": {
    "ExecuteTime": {
     "end_time": "2022-03-03T08:07:14.526063Z",
     "start_time": "2022-03-03T08:07:14.513098Z"
    },
    "hidden": true
   },
   "outputs": [],
   "source": [
    "# JRC\n",
    "# pwater = [1197.703182934414, 1218.5285708682795, 1374.655082180913, 1410.6191766351205, 1450.0363113039618]\n",
    "# swater = [1699.645732732901, 1779.9593796751194, 1642.1531701698925, 1397.7903686379516, 1816.1106822093943]\n",
    "\n",
    "# # Maryland\n",
    "# pwater = [2369.184113423742, 2032.2425352816872, 2596.2345063417843, 2126.259792251638, 2200.3939879603254]\n",
    "# swater = [1310.530862357164, 1463.0638249783008, 1434.584744375592, 1264.094984787088, 1536.293257519056]\n",
    "\n",
    "# # our result\n",
    "pwater = [1742.803061500307, 1767.3411693457658, 2014.336046780104, 1881.047325368986, 1967.926536578787]\n",
    "swater = [1200.29945551262, 1264.7137798028177, 1171.6298557849873, 960.8201012417004, 1135.8482452760952]"
   ]
  },
  {
   "cell_type": "code",
   "execution_count": null,
   "id": "3c3acc37",
   "metadata": {
    "ExecuteTime": {
     "end_time": "2022-03-03T08:07:15.177353Z",
     "start_time": "2022-03-03T08:07:15.167349Z"
    },
    "hidden": true
   },
   "outputs": [],
   "source": [
    "jrc = np.array(pwater) + np.array(swater)\n",
    "print(jrc)"
   ]
  },
  {
   "cell_type": "code",
   "execution_count": null,
   "id": "2d385cef",
   "metadata": {
    "ExecuteTime": {
     "end_time": "2022-03-03T09:04:12.330516Z",
     "start_time": "2022-03-03T09:04:12.300523Z"
    },
    "hidden": true
   },
   "outputs": [],
   "source": [
    "jrc = [2897.34891567, 2998.48795054, 3016.80825235, 2808.40954527, 3266.14699351]\n",
    "maryland = [3679.71497578, 3495.30636026, 4030.81925072, 3390.35477704, 3736.68724548]\n",
    "our = [2943.10251701, 3032.05494915, 3185.96590257, 2841.86742661, 3103.77478185]"
   ]
  },
  {
   "cell_type": "code",
   "execution_count": null,
   "id": "07aec7a9",
   "metadata": {
    "ExecuteTime": {
     "end_time": "2022-03-03T08:13:03.632190Z",
     "start_time": "2022-03-03T08:13:03.616233Z"
    },
    "hidden": true
   },
   "outputs": [],
   "source": [
    "# jrc = [1197.703182934414, 1218.5285708682795, 1374.655082180913, 1410.6191766351205, 1450.0363113039618]\n",
    "# maryland = [2369.184113423742, 2032.2425352816872, 2596.2345063417843, 2126.259792251638, 2200.3939879603254]\n",
    "# our = [1742.803061500307, 1767.3411693457658, 2014.336046780104, 1881.047325368986, 1967.926536578787]"
   ]
  },
  {
   "cell_type": "code",
   "execution_count": null,
   "id": "3cee4f26",
   "metadata": {
    "ExecuteTime": {
     "end_time": "2022-03-03T09:04:20.955267Z",
     "start_time": "2022-03-03T09:04:20.809665Z"
    },
    "hidden": true
   },
   "outputs": [],
   "source": [
    "import matplotlib.pyplot as plt\n",
    "import numpy as np\n",
    "import pandas as pd\n",
    "from sklearn.linear_model import LinearRegression\n",
    "\n",
    "plt.figure(figsize=(8,6))\n",
    "year = np.arange(2000,2021,5)\n",
    "plt.plot(year, our,'*-b' ,label = 'our result')\n",
    "plt.plot(year, jrc,'^--r',label = 'GSWD')\n",
    "plt.plot(year, maryland,'2:g',label = 'GLAD')\n",
    "# plt.title(\"Area change in various water (region C / 2000-2020)\", fontsize=18)\n",
    "plt.title(\"maximum water area (region C / 2000-2020)\", fontsize=18)\n",
    "plt.xlabel(\"Year\", fontsize=18)\n",
    "plt.ylabel('Area/km²', fontsize=18)\n",
    "\n",
    "# year = np.arange(2000,2021,1).reshape(-1,1)\n",
    "# model = LinearRegression()  # 创建模型\n",
    "# model.fit(year, pw)  # 拟合\n",
    "# x = [[2000],[2005],[2010],[2015],[2020]]\n",
    "# y = model.predict(x)\n",
    "# plt.plot(x, y, 'g-',label = 'Fitting trend')\n",
    "plt.ylim(0,4200)\n",
    "plt.tick_params(labelsize=15)\n",
    "plt.xticks([2000,2005,2010,2015,2020])\n",
    "plt.legend(prop={'size':15})\n",
    "plt.show()"
   ]
  },
  {
   "cell_type": "code",
   "execution_count": null,
   "id": "5631c53e",
   "metadata": {
    "ExecuteTime": {
     "end_time": "2022-03-03T07:50:56.346227Z",
     "start_time": "2022-03-03T07:50:52.303035Z"
    },
    "hidden": true
   },
   "outputs": [],
   "source": [
    "import matplotlib.pyplot as plt\n",
    "import numpy as np\n",
    "import pandas as pd\n",
    "from sklearn.linear_model import LinearRegression\n",
    "\n",
    "plt.figure(figsize=(8,6))\n",
    "year = np.arange(2000,2021,5)\n",
    "plt.plot(year, pwater,'*-b' ,label = 'Permanent water')\n",
    "plt.plot(year, swater,'^--r',label = 'Seasonal water')\n",
    "# plt.title(\"Area change in various water (region C / 2000-2020)\", fontsize=18)\n",
    "plt.title(\"GSWD (region C / 2000-2020)\", fontsize=18)\n",
    "plt.xlabel(\"Year\", fontsize=18)\n",
    "plt.ylabel('Area/km²', fontsize=18)\n",
    "\n",
    "# year = np.arange(2000,2021,1).reshape(-1,1)\n",
    "# model = LinearRegression()  # 创建模型\n",
    "# model.fit(year, pw)  # 拟合\n",
    "# x = [[2000],[2005],[2010],[2015],[2020]]\n",
    "# y = model.predict(x)\n",
    "# plt.plot(x, y, 'g-',label = 'Fitting trend')\n",
    "plt.ylim(0,3000)\n",
    "plt.tick_params(labelsize=15)\n",
    "plt.xticks([2000,2005,2010,2015,2020])\n",
    "plt.legend(prop={'size':15})\n",
    "plt.show()"
   ]
  },
  {
   "cell_type": "code",
   "execution_count": null,
   "id": "d936539b",
   "metadata": {
    "hidden": true
   },
   "outputs": [],
   "source": []
  }
 ],
 "metadata": {
  "hide_input": false,
  "kernelspec": {
   "display_name": "Python 3 (ipykernel)",
   "language": "python",
   "name": "python3"
  },
  "language_info": {
   "codemirror_mode": {
    "name": "ipython",
    "version": 3
   },
   "file_extension": ".py",
   "mimetype": "text/x-python",
   "name": "python",
   "nbconvert_exporter": "python",
   "pygments_lexer": "ipython3",
   "version": "3.8.12"
  },
  "toc": {
   "base_numbering": 1,
   "nav_menu": {},
   "number_sections": true,
   "sideBar": true,
   "skip_h1_title": false,
   "title_cell": "Table of Contents",
   "title_sidebar": "Contents",
   "toc_cell": false,
   "toc_position": {
    "height": "calc(100% - 180px)",
    "left": "10px",
    "top": "150px",
    "width": "250.099px"
   },
   "toc_section_display": true,
   "toc_window_display": true
  },
  "varInspector": {
   "cols": {
    "lenName": 16,
    "lenType": 16,
    "lenVar": 40
   },
   "kernels_config": {
    "python": {
     "delete_cmd_postfix": "",
     "delete_cmd_prefix": "del ",
     "library": "var_list.py",
     "varRefreshCmd": "print(var_dic_list())"
    },
    "r": {
     "delete_cmd_postfix": ") ",
     "delete_cmd_prefix": "rm(",
     "library": "var_list.r",
     "varRefreshCmd": "cat(var_dic_list()) "
    }
   },
   "types_to_exclude": [
    "module",
    "function",
    "builtin_function_or_method",
    "instance",
    "_Feature"
   ],
   "window_display": false
  }
 },
 "nbformat": 4,
 "nbformat_minor": 5
}
