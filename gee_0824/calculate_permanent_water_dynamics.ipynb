{
 "cells": [
  {
   "cell_type": "code",
   "execution_count": 1,
   "id": "a8699a55",
   "metadata": {
    "ExecuteTime": {
     "end_time": "2021-12-30T09:28:43.156334Z",
     "start_time": "2021-12-30T09:28:43.148356Z"
    }
   },
   "outputs": [],
   "source": [
    "import os\n",
    "os.environ['HTTP_PROXY'] = \"http://127.0.0.1:10809\"\n",
    "os.environ['HTTPS_PROXY'] = \"http://127.0.0.1:10809\""
   ]
  },
  {
   "cell_type": "code",
   "execution_count": 2,
   "id": "3149fc51",
   "metadata": {
    "ExecuteTime": {
     "end_time": "2021-12-30T09:28:52.337140Z",
     "start_time": "2021-12-30T09:28:43.474670Z"
    },
    "scrolled": false
   },
   "outputs": [
    {
     "data": {
      "application/vnd.jupyter.widget-view+json": {
       "model_id": "6adc2920b33248bb8fb5212703d18fab",
       "version_major": 2,
       "version_minor": 0
      },
      "text/plain": [
       "Map(center=[20, 0], controls=(WidgetControl(options=['position', 'transparent_bg'], widget=HBox(children=(Togg…"
      ]
     },
     "metadata": {},
     "output_type": "display_data"
    }
   ],
   "source": [
    "import geemap\n",
    "import ee\n",
    "Map=geemap.Map()\n",
    "Map"
   ]
  },
  {
   "cell_type": "code",
   "execution_count": 3,
   "id": "f5fe8671",
   "metadata": {
    "ExecuteTime": {
     "end_time": "2021-12-30T09:28:53.367043Z",
     "start_time": "2021-12-30T09:28:52.634827Z"
    }
   },
   "outputs": [],
   "source": [
    "# # 大庆市\n",
    "# roi = ee.Geometry.Rectangle([123.9355, 45.8362,125.3055, 46.8762])\n",
    "# # 天津市\n",
    "# roi = ee.Geometry.Rectangle([115.9244, 38.6272,117.4944,39.6372])\n",
    "# # 武汉市\n",
    "roi = ee.Geometry.Rectangle([113.7393, 29.8642,115.0993, 30.9242])\n",
    "# # 珠三角\n",
    "# roi = ee.Geometry.Rectangle([112.7614, 22.2347,114.0514, 23.2547])\n",
    "# 青藏高原\n",
    "# roi = ee.Geometry.Rectangle([89.8826, 34.6579,91.3626, 35.8279])\n",
    "Map.addLayer(roi, {}, \"roi\")\n",
    "Map.centerObject(roi,7)"
   ]
  },
  {
   "cell_type": "code",
   "execution_count": null,
   "id": "e731dca6",
   "metadata": {},
   "outputs": [],
   "source": []
  },
  {
   "cell_type": "markdown",
   "id": "86d57e8d",
   "metadata": {
    "heading_collapsed": true
   },
   "source": [
    "# Experimental result  vs JRC , permanent, 2000-2020"
   ]
  },
  {
   "cell_type": "code",
   "execution_count": null,
   "id": "b7a0963e",
   "metadata": {
    "ExecuteTime": {
     "start_time": "2021-10-13T13:05:14.218Z"
    },
    "hidden": true
   },
   "outputs": [],
   "source": [
    "pw = []\n",
    "jrc = []\n",
    "for year in range(2000,2021,1):\n",
    "    pw_area = ee.Image('users/311605001111/WF/tibet_WF_' + str(year)).gte(0.75).multiply(ee.Image.pixelArea()).divide(1e6)\n",
    "    areas = pw_area.reduceRegion(**{'reducer': ee.Reducer.sum(),'geometry': roi,'scale': 30,'maxPixels': 1e14 })\n",
    "    pw.append(areas.get('frequency').getInfo())\n",
    "    JRC = ee.Image('JRC/GSW1_3/YearlyHistory/' + str(year)).gte(3).multiply(ee.Image.pixelArea()).divide(1e6)\n",
    "    jrc_areas = JRC.reduceRegion(**{'reducer': ee.Reducer.sum(),'geometry': roi,'scale': 30,'maxPixels': 1e14 })\n",
    "    jrc.append(jrc_areas.get('waterClass').getInfo())\n",
    "print(pw)\n",
    "print(jrc)\n",
    "\n",
    "import matplotlib.pyplot as plt\n",
    "import numpy as np\n",
    "import pandas as pd\n",
    "from sklearn.linear_model import LinearRegression\n",
    "\n",
    "# plot permanent water and seasonal water(折线图)\n",
    "plt.figure(figsize=(8,6))\n",
    "year = np.arange(2000,2021,1)\n",
    "plt.plot(year, jrc,'*-b' ,label = 'JRC')\n",
    "plt.plot(year, pw,'^--r',label = 'Result')\n",
    "plt.title(\"Annual minimum water area(region C)\", fontsize=20)\n",
    "plt.xlabel(\"Year\", fontsize=18)\n",
    "plt.ylabel('Area/km²', fontsize=18)\n",
    "\n",
    "\n",
    "plt.tick_params(labelsize=15)\n",
    "plt.xticks([2000,2005,2010,2015,2020])\n",
    "plt.legend(prop={'size':16})\n",
    "plt.show()"
   ]
  },
  {
   "cell_type": "code",
   "execution_count": null,
   "id": "31baf67c",
   "metadata": {
    "hidden": true
   },
   "outputs": [],
   "source": []
  },
  {
   "cell_type": "markdown",
   "id": "fb86e4c5",
   "metadata": {
    "heading_collapsed": true
   },
   "source": [
    "# 两个时期的变化对比"
   ]
  },
  {
   "cell_type": "code",
   "execution_count": 4,
   "id": "0c7815a8",
   "metadata": {
    "ExecuteTime": {
     "end_time": "2021-12-30T09:29:08.175851Z",
     "start_time": "2021-12-30T09:29:05.708189Z"
    },
    "hidden": true
   },
   "outputs": [],
   "source": [
    "def maskSR(image):\n",
    "    cloudShadowBitMask = (1 << 3)\n",
    "    cloudsBitMask = (1 << 5)\n",
    "    qa = image.select('pixel_qa')\n",
    "    mask = qa.bitwiseAnd(cloudShadowBitMask).eq(0).And(qa.bitwiseAnd(cloudsBitMask).eq(0))\n",
    "    return image.updateMask(mask)\n",
    "l2020 = ee.ImageCollection('LANDSAT/LC08/C01/T1_SR').filterBounds(roi).filterDate('2013-01-01', '2020-12-31')\n",
    "l2000 = ee.ImageCollection('LANDSAT/LT05/C01/T1_SR').filterBounds(roi).filterDate('2000-01-01', '2012-12-31')\n",
    "Map.addLayer(l2020.map(maskSR).median().clip(roi), {'bands': ['B5', 'B4', 'B3'],'min': 0,'max': 3000,'gamma': 1.4},'image 2020')\n",
    "Map.addLayer(l2000.map(maskSR).median().clip(roi), {'bands': ['B4', 'B3', 'B2'],'min': 0,'max': 3000,'gamma': 1.4},'image 2000')\n",
    "\n",
    "\n",
    "wf0012 = ee.Image(\"users/311605001111/WF/wuhan_WF_9912\").gte(0.75).multiply(-2)\n",
    "Map.addLayer(wf0012,{'palette':['white','blue'],'min':0.25,'max':1},\"0012\")\n",
    "wf1320 = ee.Image(\"users/311605001111/WF/wuhan_WF_1320\").gte(0.75)\n",
    "Map.addLayer(wf1320,{'palette':['white','blue'],'min':0.25,'max':1},\"1320\")\n",
    "change = wf1320.subtract(wf0012)\n",
    "Map.addLayer(change,{'palette':['white','purple','red','blue'],'min':0,'max':3},\"change\")\n",
    "# Map.addLayer(change.selfMask(),{'palette':['blue']},\"change\")"
   ]
  },
  {
   "cell_type": "code",
   "execution_count": 6,
   "id": "d3d2584f",
   "metadata": {
    "ExecuteTime": {
     "end_time": "2021-12-30T09:29:49.600181Z",
     "start_time": "2021-12-30T09:29:44.619462Z"
    },
    "hidden": true
   },
   "outputs": [
    {
     "name": "stdout",
     "output_type": "stream",
     "text": [
      "242.01061075082345\n",
      "1961.4510441465134\n",
      "0.12338345709572862\n"
     ]
    }
   ],
   "source": [
    "change_area = change.eq(1).multiply(ee.Image.pixelArea()).divide(1e6).reduceRegion(**{'reducer': ee.Reducer.sum(),'geometry': roi,'scale': 30,'maxPixels': 1e14 })\n",
    "print(change_area.get('frequency').getInfo())\n",
    "total_area = change.gte(1).multiply(ee.Image.pixelArea()).divide(1e6).reduceRegion(**{'reducer': ee.Reducer.sum(),'geometry': roi,'scale': 30,'maxPixels': 1e14 })\n",
    "print(total_area.get('frequency').getInfo())\n",
    "\n",
    "print(change_area.get('frequency').getInfo()/total_area.get('frequency').getInfo())"
   ]
  },
  {
   "cell_type": "code",
   "execution_count": null,
   "id": "d4b0fef6",
   "metadata": {
    "hidden": true
   },
   "outputs": [],
   "source": [
    "#### wuhan,放大区域\n",
    "## a\n",
    "114.4418, 30.7134,114.5024, 30.7618\n",
    "## b\n",
    "114.0303, 30.6364,114.0838, 30.6842\n",
    "## c\n",
    "114.3783, 30.5665,114.4162, 30.5944\n",
    "## d\n",
    "113.7921, 30.2900,113.8624, 30.3382\n",
    "## e\n",
    "113.7753, 30.1524,113.8238, 30.1999\n",
    "\n",
    "#### tibet,放大区域\n",
    "## a\n",
    "90.5181, 35.1563,90.6495, 35.2483\n",
    "## b\n",
    "90.2220, 34.7622,90.2968, 34.8177"
   ]
  },
  {
   "cell_type": "code",
   "execution_count": null,
   "id": "b352cb66",
   "metadata": {
    "ExecuteTime": {
     "end_time": "2021-12-30T09:14:46.328574Z",
     "start_time": "2021-12-30T09:14:42.909914Z"
    },
    "hidden": true
   },
   "outputs": [],
   "source": [
    "# 水体频率\n",
    "from matplotlib import pyplot as plt\n",
    "import numpy as np\n",
    "import matplotlib\n",
    "from geemap import cartoee\n",
    "year = 2020\n",
    "region = [90.2220, 34.7622,90.2968, 34.8177] \n",
    "fig = plt.figure(figsize=(12, 8))\n",
    "vis = {'palette':['white','purple','red','blue'],'min':0,'max':3}\n",
    "pw = change.visualize(**vis)\n",
    "Map.addLayer(pw,{},'pw')\n",
    "ax = cartoee.get_map(pw,region=region)\n",
    "# cartoee.add_gridlines(ax, interval=[0.3,0.2], linestyle=\":\")\n",
    "# cartoee.add_colorbar(ax, vis,cmap = 'Blues',loc=\"right\",label=\"water frequency\", orientation=\"vertical\")\n",
    "# ax.set_title(label = 'waterbody frequency in 2020(landsat7)', fontsize=20)"
   ]
  },
  {
   "cell_type": "code",
   "execution_count": null,
   "id": "66921968",
   "metadata": {
    "hidden": true
   },
   "outputs": [],
   "source": []
  },
  {
   "cell_type": "markdown",
   "id": "b025f5c1",
   "metadata": {
    "heading_collapsed": true
   },
   "source": [
    "# 各类水体占比"
   ]
  },
  {
   "cell_type": "code",
   "execution_count": null,
   "id": "86254575",
   "metadata": {
    "ExecuteTime": {
     "end_time": "2021-10-12T04:16:44.970167Z",
     "start_time": "2021-10-12T04:16:42.808159Z"
    },
    "hidden": true
   },
   "outputs": [],
   "source": [
    "# 各类水体占比，wuhan，2020\n",
    "wf = ee.Image(\"users/311605001111/WF/wuhan_WF_2020\")\n",
    "# Map.addLayer(wf,{'palette':['white','green'],'min':0,'max':1},\"water frequency\")\n",
    "\n",
    "basemap = ee.Image.constant(0).clip(roi).rename('waterclass')\n",
    "wf_permanent = wf.gte(0.75).remap([0,1],[0,2]).rename('waterclass')\n",
    "wf_season= ee.ImageCollection([wf.gte(0.25),wf.lt(0.75)]).sum().eq(2).rename('waterclass')\n",
    "wf_waterclass = ee.ImageCollection([wf_permanent,wf_season,basemap]).sum()\n",
    "\n",
    "pw_area = wf_waterclass.gte(1).multiply(ee.Image.pixelArea()).divide(1e6).reduceRegion(**{'reducer': ee.Reducer.sum(),'geometry': roi,'scale': 30,'maxPixels': 1e14 })\n",
    "print(pw_area.get('waterclass').getInfo())\n",
    "area = wf_waterclass.gte(0).multiply(ee.Image.pixelArea()).divide(1e6).reduceRegion(**{'reducer': ee.Reducer.sum(),'geometry': roi,'scale': 30,'maxPixels': 1e14 })\n",
    "print(area.get('waterclass').getInfo())\n",
    "print(pw_area.get('waterclass').getInfo()/area.get('waterclass').getInfo())\n",
    "\n",
    "\n",
    "# 各类水体占比，wuhan，2020\n",
    "wf = ee.Image(\"users/311605001111/WF/tibetan_WF_2020\")\n",
    "# Map.addLayer(wf,{'palette':['white','green'],'min':0,'max':1},\"water frequency\")\n",
    "\n",
    "basemap = ee.Image.constant(0).clip(roi).rename('waterclass')\n",
    "wf_permanent = wf.gte(0.75).remap([0,1],[0,2]).rename('waterclass')\n",
    "wf_season= ee.ImageCollection([wf.gte(0.25),wf.lt(0.75)]).sum().eq(2).rename('waterclass')\n",
    "wf_waterclass = ee.ImageCollection([wf_permanent,wf_season,basemap]).sum()\n",
    "\n",
    "pw_area = wf_waterclass.gte(1).reduceRegion(**{'reducer': ee.Reducer.sum(),'geometry': roi,'scale': 30,'maxPixels': 1e14 })\n",
    "print(pw_area.get('waterclass').getInfo())\n",
    "area = wf_waterclass.gte(0).reduceRegion(**{'reducer': ee.Reducer.sum(),'geometry': roi,'scale': 30,'maxPixels': 1e14 })\n",
    "print(area.get('waterclass').getInfo())\n",
    "print(pw_area.get('waterclass').getInfo()/area.get('waterclass').getInfo())"
   ]
  },
  {
   "cell_type": "code",
   "execution_count": null,
   "id": "20d53430",
   "metadata": {
    "ExecuteTime": {
     "end_time": "2021-12-30T07:12:20.014129Z",
     "start_time": "2021-12-30T07:12:19.830648Z"
    },
    "hidden": true
   },
   "outputs": [],
   "source": [
    "# 各类水体面积制图，直方图\n",
    "import matplotlib.pyplot as plt\n",
    "plt.figure(figsize=(8,6))\n",
    "plt.title(\"region E\", fontsize=20)\n",
    "plt.bar([1, 3, 5], [2572.576, 85.356, 14827.301], label='2020')\n",
    "plt.bar([2, 4, 6], [2107.397, 316.785, 15061.051], label='1999-2020')\n",
    "plt.xlabel(\"water type\", fontsize=18)\n",
    "plt.ylabel('Area/km²', fontsize=18)\n",
    "plt.tick_params(labelsize=15)\n",
    "plt.xticks([1.5,3.5,5.5],['PW','SW','NW'])\n",
    "plt.legend(prop={'size':18})\n",
    "plt.show()\n",
    "\n",
    "# 各类水体面积制图，直方图\n",
    "import matplotlib.pyplot as plt\n",
    "plt.figure(figsize=(8,6))\n",
    "plt.title(\"region C\", fontsize=20)\n",
    "plt.bar([1, 3, 5], [1967.926, 1135.848, 12254.523], label='2020')\n",
    "plt.bar([2, 4, 6], [1685.267, 1447.814, 12225.217], label='1999-2020')\n",
    "plt.xlabel(\"water type\", fontsize=18)\n",
    "plt.ylabel('Area/km²', fontsize=18)\n",
    "plt.tick_params(labelsize=15)\n",
    "plt.xticks([1.5,3.5,5.5],['PW','SW','NW'])\n",
    "plt.legend(prop={'size':18})\n",
    "plt.show()"
   ]
  },
  {
   "cell_type": "code",
   "execution_count": null,
   "id": "e0013161",
   "metadata": {
    "hidden": true
   },
   "outputs": [],
   "source": []
  },
  {
   "cell_type": "markdown",
   "id": "bd617214",
   "metadata": {
    "heading_collapsed": true
   },
   "source": [
    "# 比较，2020，1999-2020"
   ]
  },
  {
   "cell_type": "code",
   "execution_count": null,
   "id": "5cfc9654",
   "metadata": {
    "ExecuteTime": {
     "end_time": "2021-12-30T07:09:37.140271Z",
     "start_time": "2021-12-30T07:09:36.478148Z"
    },
    "hidden": true
   },
   "outputs": [],
   "source": [
    "# # 大庆市\n",
    "# roi = ee.Geometry.Rectangle([123.9355, 45.8362,125.3055, 46.8762])\n",
    "# # 天津市\n",
    "# roi = ee.Geometry.Rectangle([115.9244, 38.6272,117.4944,39.6372])\n",
    "# # 武汉市\n",
    "roi = ee.Geometry.Rectangle([113.7393, 29.8642,115.0993, 30.9242])\n",
    "# # 珠三角\n",
    "# roi = ee.Geometry.Rectangle([112.7614, 22.2347,114.0514, 23.2547])\n",
    "# 青藏高原\n",
    "# roi = ee.Geometry.Rectangle([89.8826, 34.6579,91.3626, 35.8279])\n",
    "Map.addLayer(roi, {}, \"roi\")\n",
    "Map.centerObject(roi,7)"
   ]
  },
  {
   "cell_type": "code",
   "execution_count": null,
   "id": "ba70de0e",
   "metadata": {
    "ExecuteTime": {
     "end_time": "2021-12-30T07:09:40.415073Z",
     "start_time": "2021-12-30T07:09:37.406497Z"
    },
    "hidden": true
   },
   "outputs": [],
   "source": [
    "# tibet\n",
    "region = 'wuhan'\n",
    "\n",
    "wf = ee.Image('users/311605001111/WF/' + region + '_WF_2020')\n",
    "basemap = ee.Image.constant(0).clip(roi).rename('waterclass')\n",
    "wf_permanent = wf.gte(0.75).remap([0,1],[0,2]).rename('waterclass')\n",
    "wf_season= ee.ImageCollection([wf.gte(0.25),wf.lt(0.75)]).sum().eq(2).rename('waterclass')\n",
    "wf_waterclass = ee.ImageCollection([wf_permanent,wf_season,basemap]).sum()\n",
    "pw_area = wf_waterclass.eq(1).multiply(ee.Image.pixelArea()).divide(1e6).reduceRegion(**{'reducer': ee.Reducer.sum(),'geometry': roi,'scale': 30,'maxPixels': 1e14 })\n",
    "print(pw_area.get('waterclass').getInfo())\n",
    "area = wf_waterclass.gte(1).multiply(ee.Image.pixelArea()).divide(1e6).reduceRegion(**{'reducer': ee.Reducer.sum(),'geometry': roi,'scale': 30,'maxPixels': 1e14 })\n",
    "print(area.get('waterclass').getInfo())\n",
    "# print(pw_area.get('waterclass').getInfo()/ 15374.677415453567)\n",
    "print(pw_area.get('waterclass').getInfo()/ area.get('waterclass').getInfo())\n",
    "\n",
    "wf = ee.Image('users/311605001111/WF/' + region + '_WF_9920')\n",
    "basemap = ee.Image.constant(0).clip(roi).rename('waterclass')\n",
    "wf_permanent = wf.gte(0.75).remap([0,1],[0,2]).rename('waterclass')\n",
    "wf_season= ee.ImageCollection([wf.gte(0.25),wf.lt(0.75)]).sum().eq(2).rename('waterclass')\n",
    "wf_waterclass = ee.ImageCollection([wf_permanent,wf_season,basemap]).sum()\n",
    "print('pw')\n",
    "pw_area = wf_waterclass.eq(1).multiply(ee.Image.pixelArea()).divide(1e6).reduceRegion(**{'reducer': ee.Reducer.sum(),'geometry': roi,'scale': 30,'maxPixels': 1e14 })\n",
    "print(pw_area.get('waterclass').getInfo())\n",
    "area = wf_waterclass.gte(1).multiply(ee.Image.pixelArea()).divide(1e6).reduceRegion(**{'reducer': ee.Reducer.sum(),'geometry': roi,'scale': 30,'maxPixels': 1e14 })\n",
    "print(area.get('waterclass').getInfo())\n",
    "# print(pw_area.get('waterclass').getInfo()/ 15374.677415453567)\n",
    "print(pw_area.get('waterclass').getInfo()/ area.get('waterclass').getInfo())"
   ]
  },
  {
   "cell_type": "code",
   "execution_count": null,
   "id": "fc976df5",
   "metadata": {
    "ExecuteTime": {
     "end_time": "2021-12-30T06:58:48.170652Z",
     "start_time": "2021-12-30T06:58:46.438375Z"
    },
    "hidden": true
   },
   "outputs": [],
   "source": [
    "# # 大庆市\n",
    "# roi = ee.Geometry.Rectangle([123.9355, 45.8362,125.3055, 46.8762])\n",
    "# # 天津市\n",
    "# roi = ee.Geometry.Rectangle([115.9244, 38.6272,117.4944,39.6372])\n",
    "# # 武汉市\n",
    "# roi = ee.Geometry.Rectangle([113.7393, 29.8642,115.0993, 30.9242])\n",
    "# # 珠三角\n",
    "# roi = ee.Geometry.Rectangle([112.7614, 22.2347,114.0514, 23.2547])\n",
    "# 青藏高原\n",
    "roi = ee.Geometry.Rectangle([89.8826, 34.6579,91.3626, 35.8279])\n",
    "Map.addLayer(roi, {}, \"roi\")\n",
    "Map.centerObject(roi,7)"
   ]
  },
  {
   "cell_type": "code",
   "execution_count": null,
   "id": "0fc383af",
   "metadata": {
    "ExecuteTime": {
     "end_time": "2021-12-30T07:01:52.580992Z",
     "start_time": "2021-12-30T07:01:51.135381Z"
    },
    "hidden": true
   },
   "outputs": [],
   "source": [
    "# tibet\n",
    "region = 'tibet'\n",
    "\n",
    "wf = ee.Image('users/311605001111/WF/' + region + '_WF_2020')\n",
    "basemap = ee.Image.constant(0).clip(roi).rename('waterclass')\n",
    "wf_permanent = wf.gte(0.75).remap([0,1],[0,2]).rename('waterclass')\n",
    "wf_season= ee.ImageCollection([wf.gte(0.25),wf.lt(0.75)]).sum().eq(2).rename('waterclass')\n",
    "wf_waterclass = ee.ImageCollection([wf_permanent,wf_season,basemap]).sum()\n",
    "pw_area = wf_waterclass.eq(0).multiply(ee.Image.pixelArea()).divide(1e6).reduceRegion(**{'reducer': ee.Reducer.sum(),'geometry': roi,'scale': 30,'maxPixels': 1e14 })\n",
    "print(pw_area.get('waterclass').getInfo())\n",
    "# area = wf_waterclass.gte(1).multiply(ee.Image.pixelArea()).divide(1e6).reduceRegion(**{'reducer': ee.Reducer.sum(),'geometry': roi,'scale': 30,'maxPixels': 1e14 })\n",
    "# print(area.get('waterclass').getInfo())\n",
    "print(pw_area.get('waterclass').getInfo()/ 17485.59784367786)\n",
    "# print(pw_area.get('waterclass').getInfo()/ area.get('waterclass').getInfo())\n",
    "\n",
    "\n",
    "wf = ee.Image('users/311605001111/WF/' + region + '_WF_9920')\n",
    "basemap = ee.Image.constant(0).clip(roi).rename('waterclass')\n",
    "wf_permanent = wf.gte(0.75).remap([0,1],[0,2]).rename('waterclass')\n",
    "wf_season= ee.ImageCollection([wf.gte(0.25),wf.lt(0.75)]).sum().eq(2).rename('waterclass')\n",
    "wf_waterclass = ee.ImageCollection([wf_permanent,wf_season,basemap]).sum()\n",
    "print('pw')\n",
    "pw_area = wf_waterclass.eq(0).multiply(ee.Image.pixelArea()).divide(1e6).reduceRegion(**{'reducer': ee.Reducer.sum(),'geometry': roi,'scale': 30,'maxPixels': 1e14 })\n",
    "print(pw_area.get('waterclass').getInfo())\n",
    "# area = wf_waterclass.gte(1).multiply(ee.Image.pixelArea()).divide(1e6).reduceRegion(**{'reducer': ee.Reducer.sum(),'geometry': roi,'scale': 30,'maxPixels': 1e14 })\n",
    "# print(area.get('waterclass').getInfo())\n",
    "print(pw_area.get('waterclass').getInfo()/ 17485.59784367786)\n",
    "# print(pw_area.get('waterclass').getInfo()/ area.get('waterclass').getInfo())"
   ]
  },
  {
   "cell_type": "code",
   "execution_count": null,
   "id": "e73dcd39",
   "metadata": {
    "hidden": true
   },
   "outputs": [],
   "source": []
  },
  {
   "cell_type": "code",
   "execution_count": null,
   "id": "01c4e871",
   "metadata": {
    "hidden": true
   },
   "outputs": [],
   "source": []
  },
  {
   "cell_type": "code",
   "execution_count": null,
   "id": "445d5c27",
   "metadata": {
    "hidden": true
   },
   "outputs": [],
   "source": []
  },
  {
   "cell_type": "markdown",
   "id": "5f998d82",
   "metadata": {
    "heading_collapsed": true
   },
   "source": [
    "# 计算水体频率，2000-2012，2013-2020，2000-2020"
   ]
  },
  {
   "cell_type": "markdown",
   "id": "60843b79",
   "metadata": {
    "heading_collapsed": true,
    "hidden": true
   },
   "source": [
    "##  tibetan"
   ]
  },
  {
   "cell_type": "code",
   "execution_count": null,
   "id": "1df4d734",
   "metadata": {
    "ExecuteTime": {
     "end_time": "2021-12-30T02:49:54.092334Z",
     "start_time": "2021-12-30T02:49:54.084356Z"
    },
    "hidden": true
   },
   "outputs": [],
   "source": [
    "# 有效像元\n",
    "image99 = ee.Image(\"users/311605001111/WP-VP/tibet_VP_1999\")\n",
    "image0 = ee.Image(\"users/311605001111/WP-VP/tibet_VP_2000\")\n",
    "image1 = ee.Image(\"users/311605001111/WP-VP/tibet_VP_2001\")\n",
    "image2 = ee.Image(\"users/311605001111/WP-VP/tibet_VP_2002\")\n",
    "image3 = ee.Image(\"users/311605001111/WP-VP/tibet_VP_2003\")\n",
    "image4 = ee.Image(\"users/311605001111/WP-VP/tibet_VP_2004\")\n",
    "image5 = ee.Image(\"users/311605001111/WP-VP/tibet_VP_2005\")\n",
    "image6 = ee.Image(\"users/311605001111/WP-VP/tibet_VP_2006\")\n",
    "image7 = ee.Image(\"users/311605001111/WP-VP/tibet_VP_2007\")\n",
    "image8 = ee.Image(\"users/311605001111/WP-VP/tibet_VP_2008\")\n",
    "image9 = ee.Image(\"users/311605001111/WP-VP/tibet_VP_2009\")\n",
    "image10 = ee.Image(\"users/311605001111/WP-VP/tibet_VP_2010\")\n",
    "image11 = ee.Image(\"users/311605001111/WP-VP/tibet_VP_2011\")\n",
    "image12 = ee.Image(\"users/311605001111/WP-VP/tibet_VP_2012\")\n",
    "image13 = ee.Image(\"users/311605001111/WP-VP/tibet_VP_2013\")\n",
    "image14 = ee.Image(\"users/311605001111/WP-VP/tibet_VP_2014\")\n",
    "image15 = ee.Image(\"users/311605001111/WP-VP/tibet_VP_2015\")\n",
    "image16 = ee.Image(\"users/311605001111/WP-VP/tibet_VP_2016\")\n",
    "image17 = ee.Image(\"users/311605001111/WP-VP/tibet_VP_2017\")\n",
    "image18 = ee.Image(\"users/311605001111/WP-VP/tibet_VP_2018\")\n",
    "image19 = ee.Image(\"users/311605001111/WP-VP/tibet_VP_2019\")\n",
    "image20 = ee.Image(\"users/311605001111/WP-VP/tibet_VP_2020\")\n",
    "\n",
    "validPixel = ee.ImageCollection([image99,image0,image1,image2,image3,image4,image5,image6,image7,image8,image9,image10,image11,image12,image13,image14,image15,image16,image17,image18,image19,image20]).sum()\n",
    "validPixel13 = ee.ImageCollection([image99,image0,image1,image2,image3,image4,image5,image6,image7,image8,image9,image10,image11,image12]).sum()\n",
    "validPixel8 = ee.ImageCollection([image13,image14,image15,image16,image17,image18,image19,image20]).sum()"
   ]
  },
  {
   "cell_type": "code",
   "execution_count": null,
   "id": "a5a0fbf0",
   "metadata": {
    "ExecuteTime": {
     "end_time": "2021-12-30T02:49:56.467359Z",
     "start_time": "2021-12-30T02:49:56.451432Z"
    },
    "hidden": true
   },
   "outputs": [],
   "source": [
    "# 水体像元\n",
    "image99 = ee.Image(\"users/311605001111/WP-VP/tibet_WP_1999\")\n",
    "image0 = ee.Image(\"users/311605001111/WP-VP/tibet_WP_2000\")\n",
    "image1 = ee.Image(\"users/311605001111/WP-VP/tibet_WP_2001\")\n",
    "image2 = ee.Image(\"users/311605001111/WP-VP/tibet_WP_2002\")\n",
    "image3 = ee.Image(\"users/311605001111/WP-VP/tibet_WP_2003\")\n",
    "image4 = ee.Image(\"users/311605001111/WP-VP/tibet_WP_2004\")\n",
    "image5 = ee.Image(\"users/311605001111/WP-VP/tibet_WP_2005\")\n",
    "image6 = ee.Image(\"users/311605001111/WP-VP/tibet_WP_2006\")\n",
    "image7 = ee.Image(\"users/311605001111/WP-VP/tibet_WP_2007\")\n",
    "image8 = ee.Image(\"users/311605001111/WP-VP/tibet_WP_2008\")\n",
    "image9 = ee.Image(\"users/311605001111/WP-VP/tibet_WP_2009\")\n",
    "image10 = ee.Image(\"users/311605001111/WP-VP/tibet_WP_2010\")\n",
    "image11 = ee.Image(\"users/311605001111/WP-VP/tibet_WP_2011\")\n",
    "image12 = ee.Image(\"users/311605001111/WP-VP/tibet_WP_2012\")\n",
    "image13 = ee.Image(\"users/311605001111/WP-VP/tibet_WP_2013\")\n",
    "image14 = ee.Image(\"users/311605001111/WP-VP/tibet_WP_2014\")\n",
    "image15 = ee.Image(\"users/311605001111/WP-VP/tibet_WP_2015\")\n",
    "image16 = ee.Image(\"users/311605001111/WP-VP/tibet_WP_2016\")\n",
    "image17 = ee.Image(\"users/311605001111/WP-VP/tibet_WP_2017\")\n",
    "image18 = ee.Image(\"users/311605001111/WP-VP/tibet_WP_2018\")\n",
    "image19 = ee.Image(\"users/311605001111/WP-VP/tibet_WP_2019\")\n",
    "image20 = ee.Image(\"users/311605001111/WP-VP/tibet_WP_2020\")\n",
    "\n",
    "waterPixel = ee.ImageCollection([image99,image0,image1,image2,image3,image4,image5,image6,image7,image8,image9,image10,image11,image12,image13,image14,image15,image16,image17,image18,image19,image20]).sum()\n",
    "waterPixel13 = ee.ImageCollection([image99,image0,image1,image2,image3,image4,image5,image6,image7,image8,image9,image10,image11,image12]).sum()\n",
    "waterPixel8 = ee.ImageCollection([image13,image14,image15,image16,image17,image18,image19,image20]).sum()"
   ]
  },
  {
   "cell_type": "code",
   "execution_count": null,
   "id": "0c5c9a79",
   "metadata": {
    "ExecuteTime": {
     "end_time": "2021-12-30T02:50:26.174011Z",
     "start_time": "2021-12-30T02:50:20.388395Z"
    },
    "hidden": true
   },
   "outputs": [],
   "source": [
    "waterfrequency = waterPixel.divide(validPixel).rename('frequency')\n",
    "Map.addLayer(waterfrequency,{'palette':['white','green'],'min':0,'max':1},\"water frequency\")\n",
    "\n",
    "dataset_id = 'tibet_WF_' + '9920'\n",
    "assetID = 'users/311605001111/WF/' + dataset_id\n",
    "task = ee.batch.Export.image.toAsset(**{\n",
    "    'image': waterfrequency,\n",
    "    'description': dataset_id,\n",
    "    'assetId': assetID,\n",
    "    'scale': 30,\n",
    "    'region': roi,\n",
    "    'maxPixels': 1e13,\n",
    "})\n",
    "task.start()"
   ]
  },
  {
   "cell_type": "code",
   "execution_count": null,
   "id": "41f7dbc6",
   "metadata": {
    "ExecuteTime": {
     "end_time": "2021-12-30T02:50:38.774928Z",
     "start_time": "2021-12-30T02:50:37.795164Z"
    },
    "hidden": true
   },
   "outputs": [],
   "source": [
    "waterfrequency13 = waterPixel13.divide(validPixel13).rename('frequency')\n",
    "# Map.addLayer(waterfrequency,{'palette':['white','green'],'min':0,'max':1},\"water frequency\")\n",
    "\n",
    "dataset_id = 'tibet_WF_' + '9912'\n",
    "assetID = 'users/311605001111/WF/' + dataset_id\n",
    "task = ee.batch.Export.image.toAsset(**{\n",
    "    'image': waterfrequency13,\n",
    "    'description': dataset_id,\n",
    "    'assetId': assetID,\n",
    "    'scale': 30,\n",
    "    'region': roi,\n",
    "    'maxPixels': 1e13,\n",
    "})\n",
    "task.start()"
   ]
  },
  {
   "cell_type": "code",
   "execution_count": null,
   "id": "09196c1e",
   "metadata": {
    "ExecuteTime": {
     "end_time": "2021-12-30T02:50:55.249404Z",
     "start_time": "2021-12-30T02:50:54.499301Z"
    },
    "hidden": true
   },
   "outputs": [],
   "source": [
    "waterfrequency8 = waterPixel8.divide(validPixel8).rename('frequency')\n",
    "# Map.addLayer(waterfrequency,{'palette':['white','green'],'min':0,'max':1},\"water frequency\")\n",
    "dataset_id = 'tibet_WF_' + '1320'\n",
    "assetID = 'users/311605001111/WF/' + dataset_id\n",
    "task = ee.batch.Export.image.toAsset(**{\n",
    "    'image': waterfrequency8,\n",
    "    'description': dataset_id,\n",
    "    'assetId': assetID,\n",
    "    'scale': 30,\n",
    "    'region': roi,\n",
    "    'maxPixels': 1e13,\n",
    "})\n",
    "task.start()"
   ]
  },
  {
   "cell_type": "code",
   "execution_count": null,
   "id": "86ded0b2",
   "metadata": {
    "hidden": true
   },
   "outputs": [],
   "source": []
  },
  {
   "cell_type": "markdown",
   "id": "9f34870c",
   "metadata": {
    "heading_collapsed": true,
    "hidden": true
   },
   "source": [
    "## wuhan"
   ]
  },
  {
   "cell_type": "code",
   "execution_count": null,
   "id": "7f8aa25b",
   "metadata": {
    "ExecuteTime": {
     "end_time": "2021-12-30T06:42:58.274219Z",
     "start_time": "2021-12-30T06:42:58.261254Z"
    },
    "hidden": true
   },
   "outputs": [],
   "source": [
    "# 有效像元\n",
    "image99 = ee.Image(\"users/311605001111/WP-VP/wuhan_VP_1999\").float()\n",
    "image0 = ee.Image(\"users/311605001111/WP-VP/wuhan_VP_2000\").float()\n",
    "image1 = ee.Image(\"users/311605001111/WP-VP/wuhan_VP_2001\").float()\n",
    "image2 = ee.Image(\"users/311605001111/WP-VP/wuhan_VP_2002\").float()\n",
    "image3 = ee.Image(\"users/311605001111/WP-VP/wuhan_VP_2003\").float()\n",
    "image4 = ee.Image(\"users/311605001111/WP-VP/wuhan_VP_2004\").float()\n",
    "image5 = ee.Image(\"users/311605001111/WP-VP/wuhan_VP_2005\").float()\n",
    "image6 = ee.Image(\"users/311605001111/WP-VP/wuhan_VP_2006\").float()\n",
    "image7 = ee.Image(\"users/311605001111/WP-VP/wuhan_VP_2007\").float()\n",
    "image8 = ee.Image(\"users/311605001111/WP-VP/wuhan_VP_2008\").float()\n",
    "image9 = ee.Image(\"users/311605001111/WP-VP/wuhan_VP_2009\").float()\n",
    "image10 = ee.Image(\"users/311605001111/WP-VP/wuhan_VP_2010\").float()\n",
    "image11 = ee.Image(\"users/311605001111/WP-VP/wuhan_VP_2011\").float()\n",
    "image12 = ee.Image(\"users/311605001111/WP-VP/wuhan_VP_2012\").float()\n",
    "image13 = ee.Image(\"users/311605001111/WP-VP/wuhan_VP_2013\").float()\n",
    "image14 = ee.Image(\"users/311605001111/WP-VP/wuhan_VP_2014\").float()\n",
    "image15 = ee.Image(\"users/311605001111/WP-VP/wuhan_VP_2015\").float()\n",
    "image16 = ee.Image(\"users/311605001111/WP-VP/wuhan_VP_2016\").float()\n",
    "image17 = ee.Image(\"users/311605001111/WP-VP/wuhan_VP_2017\").float()\n",
    "image18 = ee.Image(\"users/311605001111/WP-VP/wuhan_VP_2018\").float()\n",
    "image19 = ee.Image(\"users/311605001111/WP-VP/wuhan_VP_2019\").float()\n",
    "image20 = ee.Image(\"users/311605001111/WP-VP/wuhan_VP_2020\").float()\n",
    "\n",
    "validPixel = ee.ImageCollection([image99,image0,image1,image2,image3,image4,image5,image6,image7,image8,image9,image10,image11,image12,image13,image14,image15,image16,image17,image18,image19,image20]).sum()\n",
    "validPixel13 = ee.ImageCollection([image99,image0,image1,image2,image3,image4,image5,image6,image7,image8,image9,image10,image11,image12]).sum()\n",
    "validPixel8 = ee.ImageCollection([image13,image14,image15,image16,image17,image18,image19,image20]).sum()"
   ]
  },
  {
   "cell_type": "code",
   "execution_count": null,
   "id": "b7a445b8",
   "metadata": {
    "ExecuteTime": {
     "end_time": "2021-12-30T06:43:03.113255Z",
     "start_time": "2021-12-30T06:43:03.102285Z"
    },
    "hidden": true
   },
   "outputs": [],
   "source": [
    "# 水体像元\n",
    "image99 = ee.Image(\"users/311605001111/WP-VP/wuhan_WP_1999\").float()\n",
    "image0 = ee.Image(\"users/311605001111/WP-VP/wuhan_WP_2000\").float()\n",
    "image1 = ee.Image(\"users/311605001111/WP-VP/wuhan_WP_2001\").float()\n",
    "image2 = ee.Image(\"users/311605001111/WP-VP/wuhan_WP_2002\").float()\n",
    "image3 = ee.Image(\"users/311605001111/WP-VP/wuhan_WP_2003\").float()\n",
    "image4 = ee.Image(\"users/311605001111/WP-VP/wuhan_WP_2004\").float()\n",
    "image5 = ee.Image(\"users/311605001111/WP-VP/wuhan_WP_2005\").float()\n",
    "image6 = ee.Image(\"users/311605001111/WP-VP/wuhan_WP_2006\").float()\n",
    "image7 = ee.Image(\"users/311605001111/WP-VP/wuhan_WP_2007\").float()\n",
    "image8 = ee.Image(\"users/311605001111/WP-VP/wuhan_WP_2008\").float()\n",
    "image9 = ee.Image(\"users/311605001111/WP-VP/wuhan_WP_2009\").float()\n",
    "image10 = ee.Image(\"users/311605001111/WP-VP/wuhan_WP_2010\").float()\n",
    "image11 = ee.Image(\"users/311605001111/WP-VP/wuhan_WP_2011\").float()\n",
    "image12 = ee.Image(\"users/311605001111/WP-VP/wuhan_WP_2012\").float()\n",
    "image13 = ee.Image(\"users/311605001111/WP-VP/wuhan_WP_2013\").float()\n",
    "image14 = ee.Image(\"users/311605001111/WP-VP/wuhan_WP_2014\").float()\n",
    "image15 = ee.Image(\"users/311605001111/WP-VP/wuhan_WP_2015\").float()\n",
    "image16 = ee.Image(\"users/311605001111/WP-VP/wuhan_WP_2016\").float()\n",
    "image17 = ee.Image(\"users/311605001111/WP-VP/wuhan_WP_2017\").float()\n",
    "image18 = ee.Image(\"users/311605001111/WP-VP/wuhan_WP_2018\").float()\n",
    "image19 = ee.Image(\"users/311605001111/WP-VP/wuhan_WP_2019\").float()\n",
    "image20 = ee.Image(\"users/311605001111/WP-VP/wuhan_WP_2020\").float()\n",
    "\n",
    "waterPixel = ee.ImageCollection([image99,image0,image1,image2,image3,image4,image5,image6,image7,image8,image9,image10,image11,image12,image13,image14,image15,image16,image17,image18,image19,image20]).sum()\n",
    "waterPixel13 = ee.ImageCollection([image99,image0,image1,image2,image3,image4,image5,image6,image7,image8,image9,image10,image11,image12]).sum()\n",
    "waterPixel8 = ee.ImageCollection([image13,image14,image15,image16,image17,image18,image19,image20]).sum()"
   ]
  },
  {
   "cell_type": "code",
   "execution_count": null,
   "id": "550a7337",
   "metadata": {
    "ExecuteTime": {
     "end_time": "2021-12-30T06:43:33.499570Z",
     "start_time": "2021-12-30T06:43:32.061053Z"
    },
    "hidden": true
   },
   "outputs": [],
   "source": [
    "waterfrequency = waterPixel.divide(validPixel).rename('frequency')\n",
    "Map.addLayer(waterfrequency,{'palette':['white','green'],'min':0,'max':1},\"water frequency\")\n",
    "\n",
    "dataset_id = 'wuhan_WF_' + '9920'\n",
    "assetID = 'users/311605001111/WF/' + dataset_id\n",
    "task = ee.batch.Export.image.toAsset(**{\n",
    "    'image': waterfrequency,\n",
    "    'description': dataset_id,\n",
    "    'assetId': assetID,\n",
    "    'scale': 30,\n",
    "    'region': roi,\n",
    "    'maxPixels': 1e13,\n",
    "})\n",
    "task.start()"
   ]
  },
  {
   "cell_type": "code",
   "execution_count": null,
   "id": "e530f647",
   "metadata": {
    "ExecuteTime": {
     "end_time": "2021-12-30T06:44:05.598626Z",
     "start_time": "2021-12-30T06:44:04.862494Z"
    },
    "hidden": true
   },
   "outputs": [],
   "source": [
    "waterfrequency13 = waterPixel13.divide(validPixel13).rename('frequency')\n",
    "# Map.addLayer(waterfrequency,{'palette':['white','green'],'min':0,'max':1},\"water frequency\")\n",
    "\n",
    "dataset_id = 'wuhan_WF_' + '9912'\n",
    "assetID = 'users/311605001111/WF/' + dataset_id\n",
    "task = ee.batch.Export.image.toAsset(**{\n",
    "    'image': waterfrequency13,\n",
    "    'description': dataset_id,\n",
    "    'assetId': assetID,\n",
    "    'scale': 30,\n",
    "    'region': roi,\n",
    "    'maxPixels': 1e13,\n",
    "})\n",
    "task.start()"
   ]
  },
  {
   "cell_type": "code",
   "execution_count": null,
   "id": "b6c2c39c",
   "metadata": {
    "ExecuteTime": {
     "end_time": "2021-12-30T06:43:35.970069Z",
     "start_time": "2021-12-30T06:43:35.237663Z"
    },
    "hidden": true
   },
   "outputs": [],
   "source": [
    "waterfrequency8 = waterPixel8.divide(validPixel8).rename('frequency')\n",
    "# Map.addLayer(waterfrequency,{'palette':['white','green'],'min':0,'max':1},\"water frequency\")\n",
    "\n",
    "dataset_id = 'wuhan_WF_' + '1320'\n",
    "assetID = 'users/311605001111/WF/' + dataset_id\n",
    "task = ee.batch.Export.image.toAsset(**{\n",
    "    'image': waterfrequency8,\n",
    "    'description': dataset_id,\n",
    "    'assetId': assetID,\n",
    "    'scale': 30,\n",
    "    'region': roi,\n",
    "    'maxPixels': 1e13,\n",
    "})\n",
    "task.start()"
   ]
  },
  {
   "cell_type": "code",
   "execution_count": null,
   "id": "4b748c08",
   "metadata": {
    "hidden": true
   },
   "outputs": [],
   "source": []
  },
  {
   "cell_type": "markdown",
   "id": "f780b006",
   "metadata": {
    "heading_collapsed": true
   },
   "source": [
    "# 计算面积及趋势，校正前与校正后"
   ]
  },
  {
   "cell_type": "markdown",
   "id": "92b51491",
   "metadata": {
    "hidden": true
   },
   "source": [
    "## 最小面积"
   ]
  },
  {
   "cell_type": "code",
   "execution_count": null,
   "id": "fe65bf3a",
   "metadata": {
    "ExecuteTime": {
     "end_time": "2021-12-30T03:25:09.207073Z",
     "start_time": "2021-12-30T03:25:08.081802Z"
    },
    "hidden": true
   },
   "outputs": [],
   "source": [
    "# # 大庆市\n",
    "# roi = ee.Geometry.Rectangle([123.9355, 45.8362,125.3055, 46.8762])\n",
    "# # 天津市\n",
    "# roi = ee.Geometry.Rectangle([115.9244, 38.6272,117.4944,39.6372])\n",
    "# # 武汉市\n",
    "roi = ee.Geometry.Rectangle([113.7393, 29.8642,115.0993, 30.9242])\n",
    "# # 珠三角\n",
    "# roi = ee.Geometry.Rectangle([112.7614, 22.2347,114.0514, 23.2547])\n",
    "# 青藏高原\n",
    "# roi = ee.Geometry.Rectangle([89.8826, 34.6579,91.3626, 35.8279])\n",
    "Map.addLayer(roi, {}, \"roi\")\n",
    "Map.centerObject(roi,7)"
   ]
  },
  {
   "cell_type": "code",
   "execution_count": null,
   "id": "973cee42",
   "metadata": {
    "ExecuteTime": {
     "end_time": "2021-12-30T03:25:27.228760Z",
     "start_time": "2021-12-30T03:25:09.272921Z"
    },
    "hidden": true
   },
   "outputs": [],
   "source": [
    "# 计算面积\n",
    "re = 'wuhan'\n",
    "pw_no = []\n",
    "pw = []\n",
    "for year in range(2000,2021,1):\n",
    "    pw_area = ee.Image('users/311605001111/WF/'+ re + '_WF_' + str(year)).gte(0.75).multiply(ee.Image.pixelArea()).divide(1e6)\n",
    "    areas = pw_area.reduceRegion(**{'reducer': ee.Reducer.sum(),'geometry': roi,'scale': 30,'maxPixels': 1e14 })\n",
    "    pw.append(areas.get('frequency').getInfo())\n",
    "    pw_no_area = ee.Image('users/311605001111/WF_nocorrect/' + re + '_WF_' + str(year)).gte(0.75).multiply(ee.Image.pixelArea()).divide(1e6)\n",
    "    areas = pw_no_area.reduceRegion(**{'reducer': ee.Reducer.sum(),'geometry': roi,'scale': 30,'maxPixels': 1e14 })\n",
    "    pw_no.append(areas.get('frequency').getInfo())\n",
    "\n",
    "print(pw)\n",
    "print(pw_no)"
   ]
  },
  {
   "cell_type": "code",
   "execution_count": null,
   "id": "2b339be7",
   "metadata": {
    "ExecuteTime": {
     "end_time": "2021-12-30T03:25:27.402168Z",
     "start_time": "2021-12-30T03:25:27.293431Z"
    },
    "hidden": true
   },
   "outputs": [],
   "source": [
    "import matplotlib.pyplot as plt\n",
    "import numpy as np\n",
    "import pandas as pd\n",
    "from sklearn.linear_model import LinearRegression\n",
    "\n",
    "plt.figure(figsize=(8,6))\n",
    "year = np.arange(2000,2021,1)\n",
    "plt.plot(year, pw_no,'*-b' ,label = 'Before correction')\n",
    "plt.plot(year, pw,'^--r',label = 'After correction')\n",
    "plt.title(\"Annual minimum water area(region C)\", fontsize=20)\n",
    "plt.xlabel(\"Year\", fontsize=18)\n",
    "plt.ylabel('Area/km²', fontsize=18)\n",
    "\n",
    "year = np.arange(2000,2021,1).reshape(-1,1)\n",
    "model = LinearRegression()  # 创建模型\n",
    "model.fit(year, pw)  # 拟合\n",
    "x = [[2000],[2005],[2010],[2015],[2020]]\n",
    "y = model.predict(x)\n",
    "plt.plot(x, y, 'g-',label = 'Fitting trend')\n",
    "\n",
    "plt.tick_params(labelsize=15)\n",
    "plt.xticks([2000,2005,2010,2015,2020])\n",
    "plt.legend(prop={'size':15})\n",
    "plt.show()"
   ]
  },
  {
   "cell_type": "code",
   "execution_count": null,
   "id": "e7e37b31",
   "metadata": {
    "hidden": true
   },
   "outputs": [],
   "source": []
  },
  {
   "cell_type": "code",
   "execution_count": null,
   "id": "8a4ae997",
   "metadata": {
    "ExecuteTime": {
     "end_time": "2021-12-30T05:32:02.259538Z",
     "start_time": "2021-12-30T05:32:02.239592Z"
    },
    "hidden": true
   },
   "outputs": [],
   "source": [
    "## WUHAN\n",
    "wuhan = [2398.950777750184, 1742.8030615226294, 1828.2091128396241, 2090.4535433473698, 2138.736503590754, 1739.0688696166856, 1767.3411693673304, 1710.2390605628846, 1815.8135340201165, 1706.0139576459253, 1882.1369948587621, 2014.3360468078395, 1833.225413689255, 2055.943986936598, 1889.5416669547126, 1870.0400291467226, 1881.0473253924222, 1942.578887656528, 1862.986985017366, 1842.0526327837024, 1872.7606165067114, 1967.9265366016166]\n",
    "wuhan_no = [2457.136192107628, 1674.0707124845433, 1752.8559947485119, 2010.7967729997138, 2071.19157907065, 1811.5829773712348, 1617.0989891192637, 1703.7302437256399, 1685.3743135839816, 1728.6444598924727, 1845.7745514544379, 2045.2888031372784, 1734.4539147723572, 1958.5449877728195, 1873.5955681731118, 1871.3600703869186, 1930.062232861054, 1979.1979729923567, 1827.5594563310176, 1794.7825691585028, 1833.0607390354073, 1953.5220370067966]"
   ]
  },
  {
   "cell_type": "code",
   "execution_count": null,
   "id": "3aed4211",
   "metadata": {
    "ExecuteTime": {
     "end_time": "2021-12-30T05:32:02.725925Z",
     "start_time": "2021-12-30T05:32:02.711993Z"
    },
    "hidden": true
   },
   "outputs": [],
   "source": [
    "## tibet\n",
    "tibet = [1782.2733800481428, 1795.614042410124, 1762.8202364992812, 1822.7315809449021, 1958.1379549389019, 1986.9382663011393, 2032.8778920316033, 2067.4037299380448, 2072.462038737297, 2086.9691817955936, 2116.9879140745456, 2159.4533750086784, 2240.115411350907, 2276.329986691964, 2322.7076210290734, 2268.1952218014376, 2287.5011316323553, 2260.6199980205656, 2315.5543970223653, 2372.009359575668, 2599.3791057861467, 2572.5756991874923]\n",
    "tibet_no = [1765.28922724515, 1793.3787730584177, 1767.024804868841, 1828.767532018362, 1963.389024426214, 1974.1213245577803, 1993.023937641452, 2019.3218589689595, 2069.5799653607132, 2082.5413293942597, 2109.895312146683, 2177.649359272074, 2260.0860751694813, 2265.7539541586307, 2338.1338218471406, 2312.0242609540533, 2331.585749846577, 2303.2956855327966, 2358.61739627326, 2369.998679345598, 2527.9263220197727, 2574.342391361047]"
   ]
  },
  {
   "cell_type": "code",
   "execution_count": null,
   "id": "aa4d46f5",
   "metadata": {
    "ExecuteTime": {
     "end_time": "2021-12-30T05:32:03.426153Z",
     "start_time": "2021-12-30T05:32:03.406237Z"
    },
    "hidden": true
   },
   "outputs": [],
   "source": [
    "# 计算变化率\n",
    "q = wuhan\n",
    "rt = []\n",
    "ch = []\n",
    "for i in range(1,22,1):\n",
    "    rate = ((q[i] - q[i-1])/ q[i-1])*100\n",
    "    rt.append(rate)\n",
    "    change = q[i] - q[i-1]\n",
    "    ch.append(change)\n",
    "\n",
    "print(rt)\n",
    "print(ch)\n",
    "\n",
    "print('min')\n",
    "print(rt.index(min(rt)) + 2000)\n",
    "print(min(rt))\n",
    "print(ch[rt.index(min(rt))])\n",
    "\n",
    "print('max')\n",
    "print(rt.index(max(rt)) + 2000)\n",
    "print(max(rt))\n",
    "print(ch[rt.index(max(rt))])"
   ]
  },
  {
   "cell_type": "code",
   "execution_count": null,
   "id": "12948baa",
   "metadata": {
    "ExecuteTime": {
     "end_time": "2021-12-30T05:32:04.050872Z",
     "start_time": "2021-12-30T05:32:04.029938Z"
    },
    "hidden": true
   },
   "outputs": [],
   "source": [
    "q = wuhan\n",
    "area = []\n",
    "for i in range(0,22,1):\n",
    "    rate = (q[i]/ 15374.677415453567) * 100\n",
    "    area.append(rate)\n",
    "\n",
    "print(q)\n",
    "print(area)\n",
    "\n",
    "print('min')\n",
    "print(area.index(min(area)) + 1999)\n",
    "print(min(area))\n",
    "print(q[area.index(min(area))])\n",
    "\n",
    "print('max')\n",
    "print(area.index(max(area)) + 1999)\n",
    "print(max(area))\n",
    "print(q[area.index(max(area))])"
   ]
  },
  {
   "cell_type": "markdown",
   "id": "ab80b736",
   "metadata": {
    "hidden": true
   },
   "source": [
    "## 最大面积"
   ]
  },
  {
   "cell_type": "code",
   "execution_count": null,
   "id": "fa0a81fa",
   "metadata": {
    "ExecuteTime": {
     "end_time": "2021-12-30T03:25:57.477139Z",
     "start_time": "2021-12-30T03:25:56.731816Z"
    },
    "hidden": true
   },
   "outputs": [],
   "source": [
    "# # 大庆市\n",
    "# roi = ee.Geometry.Rectangle([123.9355, 45.8362,125.3055, 46.8762])\n",
    "# # 天津市\n",
    "# roi = ee.Geometry.Rectangle([115.9244, 38.6272,117.4944,39.6372])\n",
    "# # 武汉市\n",
    "roi = ee.Geometry.Rectangle([113.7393, 29.8642,115.0993, 30.9242])\n",
    "# # 珠三角\n",
    "# roi = ee.Geometry.Rectangle([112.7614, 22.2347,114.0514, 23.2547])\n",
    "# 青藏高原\n",
    "# roi = ee.Geometry.Rectangle([89.8826, 34.6579,91.3626, 35.8279])\n",
    "Map.addLayer(roi, {}, \"roi\")\n",
    "Map.centerObject(roi,7)"
   ]
  },
  {
   "cell_type": "code",
   "execution_count": null,
   "id": "d2615cdb",
   "metadata": {
    "ExecuteTime": {
     "end_time": "2021-12-30T03:26:13.479722Z",
     "start_time": "2021-12-30T03:25:57.542312Z"
    },
    "hidden": true
   },
   "outputs": [],
   "source": [
    "# 计算面积\n",
    "re = 'wuhan'\n",
    "pw_no = []\n",
    "pw = []\n",
    "for year in range(2000,2021,1):\n",
    "    pw_area = ee.Image('users/311605001111/WF/'+ re + '_WF_' + str(year)).gte(0.25).multiply(ee.Image.pixelArea()).divide(1e6)\n",
    "    areas = pw_area.reduceRegion(**{'reducer': ee.Reducer.sum(),'geometry': roi,'scale': 30,'maxPixels': 1e14 })\n",
    "    pw.append(areas.get('frequency').getInfo())\n",
    "    pw_no_area = ee.Image('users/311605001111/WF_nocorrect/' + re + '_WF_' + str(year)).gte(0.25).multiply(ee.Image.pixelArea()).divide(1e6)\n",
    "    areas = pw_no_area.reduceRegion(**{'reducer': ee.Reducer.sum(),'geometry': roi,'scale': 30,'maxPixels': 1e14 })\n",
    "    pw_no.append(areas.get('frequency').getInfo())\n",
    "\n",
    "print(pw)\n",
    "print(pw_no)"
   ]
  },
  {
   "cell_type": "code",
   "execution_count": null,
   "id": "3b880930",
   "metadata": {
    "ExecuteTime": {
     "end_time": "2021-12-30T03:26:13.650040Z",
     "start_time": "2021-12-30T03:26:13.543701Z"
    },
    "hidden": true
   },
   "outputs": [],
   "source": [
    "import matplotlib.pyplot as plt\n",
    "import numpy as np\n",
    "import pandas as pd\n",
    "from sklearn.linear_model import LinearRegression\n",
    "\n",
    "plt.figure(figsize=(8,6))\n",
    "year = np.arange(2000,2021,1)\n",
    "plt.plot(year, pw_no,'*-b' ,label = 'Before correction')\n",
    "plt.plot(year, pw,'^--r',label = 'After correction')\n",
    "plt.title(\"Annual maximum water area(region C)\", fontsize=20)\n",
    "plt.xlabel(\"Year\", fontsize=18)\n",
    "plt.ylabel('Area/km²', fontsize=18)\n",
    "\n",
    "year = np.arange(2000,2021,1).reshape(-1,1)\n",
    "model = LinearRegression()  # 创建模型\n",
    "model.fit(year, pw)  # 拟合\n",
    "x = [[2000],[2005],[2010],[2015],[2020]]\n",
    "y = model.predict(x)\n",
    "plt.plot(x, y, 'g-',label = 'Fitting trend')\n",
    "\n",
    "plt.tick_params(labelsize=15)\n",
    "plt.xticks([2000,2005,2010,2015,2020])\n",
    "plt.legend(prop={'size':15})\n",
    "plt.show()"
   ]
  },
  {
   "cell_type": "code",
   "execution_count": null,
   "id": "e4e7bc53",
   "metadata": {
    "hidden": true
   },
   "outputs": [],
   "source": []
  },
  {
   "cell_type": "code",
   "execution_count": null,
   "id": "a745f614",
   "metadata": {
    "ExecuteTime": {
     "end_time": "2021-12-30T05:32:13.521739Z",
     "start_time": "2021-12-30T05:32:13.503788Z"
    },
    "hidden": true
   },
   "outputs": [],
   "source": [
    "## wuhan\n",
    "wuhan = [4025.3122052125505, 2943.102517047763, 2922.9489180227474, 3354.159406783633, 3427.536155619044, 3010.801189581255, 3032.0549491848324, 2755.7707815095673, 2977.761331499893, 2935.8043150977874, 2954.909659473998, 3185.965902603649, 3021.295640554084, 3168.5326471552567, 2783.191822046776, 2879.8157243784813, 2841.867426644913, 2939.1305525922685, 2895.014091059462, 2922.4190100785745, 2881.678214724469, 3103.77478189314]\n",
    "wuhan_no = [3878.958202332838, 2818.2595219398677, 2813.7504869118657, 3132.797263890634, 3322.918153084958, 2926.643229196115, 2701.629035183967, 2627.6673316895767, 2779.3520767819923, 2902.455644784429, 2825.0528482139307, 3120.2480117503396, 2695.8147808230506, 2978.547823133063, 2587.872288431195, 2747.4332223672823, 2568.5396323542536, 2996.9207133796813, 2759.5166260444526, 2590.7408817185224, 2639.6148390735043, 3057.659995232]"
   ]
  },
  {
   "cell_type": "code",
   "execution_count": null,
   "id": "2bc48d17",
   "metadata": {
    "ExecuteTime": {
     "end_time": "2021-12-30T05:32:14.038826Z",
     "start_time": "2021-12-30T05:32:14.022871Z"
    },
    "hidden": true
   },
   "outputs": [],
   "source": [
    "## tibet\n",
    "tibet = [1873.5692704849382, 1881.9383760012586, 1920.5577944327529, 2042.375092361062, 2093.4125657781856, 2088.7158678282667, 2145.9130526218664, 2152.2085717180958, 2169.3869019393055, 2177.0899761375053, 2229.6202141706713, 2288.0732105631987, 2396.616952137828, 2421.7569595520176, 2432.0276577346312, 2426.5877014260905, 2426.021269800562, 2427.4678722246103, 2494.1936548128374, 2641.9567676427973, 2678.8707099750045, 2657.931340974722]\n",
    "tibet_no = [1837.7257387350464, 1877.5227279576743, 1913.7128994417287, 2023.9521999517074, 2063.296854045944, 2061.185020539416, 2111.1565627381055, 2121.2104277787707, 2152.6514793039655, 2152.5295163220985, 2213.9858939490273, 2284.8690345208242, 2359.4526954647076, 2403.519331716726, 2397.878161209701, 2393.3447181958486, 2394.4004138034, 2391.3992569219117, 2467.5488220585016, 2518.3605248060103, 2623.382365427767, 2643.9312035434777]"
   ]
  },
  {
   "cell_type": "code",
   "execution_count": null,
   "id": "66bebdf3",
   "metadata": {
    "ExecuteTime": {
     "end_time": "2021-12-30T05:32:20.306761Z",
     "start_time": "2021-12-30T05:32:20.294804Z"
    },
    "hidden": true
   },
   "outputs": [],
   "source": [
    "# 计算变化率\n",
    "q = wuhan\n",
    "rt = []\n",
    "ch = []\n",
    "for i in range(1,22,1):\n",
    "    rate = ((q[i] - q[i-1])/ q[i-1])*100\n",
    "    rt.append(rate)\n",
    "    change = q[i] - q[i-1]\n",
    "    ch.append(change)\n",
    "\n",
    "print(rt)\n",
    "print(ch)\n",
    "\n",
    "print('min')\n",
    "print(rt.index(min(rt)) + 2000)\n",
    "print(min(rt))\n",
    "print(ch[rt.index(min(rt))])\n",
    "\n",
    "print('max')\n",
    "print(rt.index(max(rt)) + 2000)\n",
    "print(max(rt))\n",
    "print(ch[rt.index(max(rt))])"
   ]
  },
  {
   "cell_type": "code",
   "execution_count": null,
   "id": "67a49b4f",
   "metadata": {
    "ExecuteTime": {
     "end_time": "2021-12-30T05:32:22.265402Z",
     "start_time": "2021-12-30T05:32:22.246452Z"
    },
    "hidden": true
   },
   "outputs": [],
   "source": [
    "q = wuhan\n",
    "area = []\n",
    "for i in range(0,22,1):\n",
    "    rate = (q[i]/ 15374.677415453567) * 100\n",
    "    area.append(rate)\n",
    "\n",
    "print(q)\n",
    "print(area)\n",
    "\n",
    "print('min')\n",
    "print(area.index(min(area)) + 1999)\n",
    "print(min(area))\n",
    "print(q[area.index(min(area))])\n",
    "\n",
    "print('max')\n",
    "print(area.index(max(area)) + 1999)\n",
    "print(max(area))\n",
    "print(q[area.index(max(area))])"
   ]
  },
  {
   "cell_type": "code",
   "execution_count": null,
   "id": "376cc349",
   "metadata": {
    "hidden": true
   },
   "outputs": [],
   "source": []
  }
 ],
 "metadata": {
  "hide_input": false,
  "kernelspec": {
   "display_name": "Python 3 (ipykernel)",
   "language": "python",
   "name": "python3"
  },
  "language_info": {
   "codemirror_mode": {
    "name": "ipython",
    "version": 3
   },
   "file_extension": ".py",
   "mimetype": "text/x-python",
   "name": "python",
   "nbconvert_exporter": "python",
   "pygments_lexer": "ipython3",
   "version": "3.8.12"
  },
  "toc": {
   "base_numbering": 1,
   "nav_menu": {},
   "number_sections": true,
   "sideBar": true,
   "skip_h1_title": false,
   "title_cell": "Table of Contents",
   "title_sidebar": "Contents",
   "toc_cell": false,
   "toc_position": {
    "height": "calc(100% - 180px)",
    "left": "10px",
    "top": "150px",
    "width": "269.091px"
   },
   "toc_section_display": true,
   "toc_window_display": true
  },
  "varInspector": {
   "cols": {
    "lenName": 16,
    "lenType": 16,
    "lenVar": 40
   },
   "kernels_config": {
    "python": {
     "delete_cmd_postfix": "",
     "delete_cmd_prefix": "del ",
     "library": "var_list.py",
     "varRefreshCmd": "print(var_dic_list())"
    },
    "r": {
     "delete_cmd_postfix": ") ",
     "delete_cmd_prefix": "rm(",
     "library": "var_list.r",
     "varRefreshCmd": "cat(var_dic_list()) "
    }
   },
   "types_to_exclude": [
    "module",
    "function",
    "builtin_function_or_method",
    "instance",
    "_Feature"
   ],
   "window_display": false
  }
 },
 "nbformat": 4,
 "nbformat_minor": 5
}
