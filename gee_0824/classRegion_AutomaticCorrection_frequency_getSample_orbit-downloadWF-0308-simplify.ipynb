{
 "cells": [
  {
   "cell_type": "code",
   "execution_count": 1,
   "metadata": {
    "ExecuteTime": {
     "end_time": "2022-03-07T12:47:15.233108Z",
     "start_time": "2022-03-07T12:47:15.223135Z"
    }
   },
   "outputs": [],
   "source": [
    "import os\n",
    "os.environ['HTTP_PROXY'] = \"http://127.0.0.1:10809\"\n",
    "os.environ['HTTPS_PROXY'] = \"http://127.0.0.1:10809\""
   ]
  },
  {
   "cell_type": "code",
   "execution_count": 2,
   "metadata": {
    "ExecuteTime": {
     "end_time": "2022-03-07T12:47:23.119099Z",
     "start_time": "2022-03-07T12:47:16.575573Z"
    },
    "scrolled": false
   },
   "outputs": [
    {
     "data": {
      "application/vnd.jupyter.widget-view+json": {
       "model_id": "4a98ec7b0c994109a49161a711e4d12a",
       "version_major": 2,
       "version_minor": 0
      },
      "text/plain": [
       "Map(center=[20, 0], controls=(WidgetControl(options=['position', 'transparent_bg'], widget=HBox(children=(Togg…"
      ]
     },
     "metadata": {},
     "output_type": "display_data"
    }
   ],
   "source": [
    "import geemap\n",
    "import ee\n",
    "Map=geemap.Map()\n",
    "Map"
   ]
  },
  {
   "cell_type": "code",
   "execution_count": 6,
   "metadata": {
    "ExecuteTime": {
     "end_time": "2022-03-07T12:47:43.184262Z",
     "start_time": "2022-03-07T12:47:41.990406Z"
    }
   },
   "outputs": [],
   "source": [
    "# # 大庆市\n",
    "# roi = ee.Geometry.Rectangle([123.9355, 45.8362,125.3055, 46.8762])\n",
    "# # 天津市\n",
    "# roi = ee.Geometry.Rectangle([115.9244, 38.6272,117.4944,39.6372])\n",
    "# # 武汉市\n",
    "# roi = ee.Geometry.Rectangle([113.7393, 29.8642,115.0993, 30.9242])\n",
    "# # 珠三角\n",
    "# roi = ee.Geometry.Rectangle([112.7614, 22.2347,114.0514, 23.2547])\n",
    "# 青藏高原\n",
    "roi = ee.Geometry.Rectangle([89.8826, 34.6579,91.3626, 35.8279])\n",
    "Map.addLayer(roi, {}, \"roi\")\n",
    "Map.centerObject(roi,7)"
   ]
  },
  {
   "cell_type": "code",
   "execution_count": 7,
   "metadata": {
    "ExecuteTime": {
     "end_time": "2022-03-07T12:47:43.295013Z",
     "start_time": "2022-03-07T12:47:43.280680Z"
    }
   },
   "outputs": [],
   "source": [
    "# region = 'daqing'\n",
    "# sample_region = 'DAQING'\n",
    "# region = 'tianjin'\n",
    "# sample_region = 'TIANJIN'\n",
    "# region = 'wuhan'\n",
    "# sample_region = 'WUHAN'\n",
    "# region = 'prd'\n",
    "# sample_region = 'PRD'\n",
    "region = 'tibet'\n",
    "sample_region = 'TIBET'"
   ]
  },
  {
   "cell_type": "code",
   "execution_count": 8,
   "metadata": {
    "ExecuteTime": {
     "end_time": "2022-03-07T12:47:43.420740Z",
     "start_time": "2022-03-07T12:47:43.392009Z"
    }
   },
   "outputs": [],
   "source": [
    "## 指数的计算\n",
    "def water_index(img):\n",
    "    image = img.clip(roi)\n",
    "    ndvi=image.normalizedDifference(['B5', 'B4']).rename('NDVI')\n",
    "    ndwi=image.normalizedDifference(['B3', 'B5']).rename(\"NDWI\")\n",
    "    mndwi=image.normalizedDifference(['B3', 'B6']).rename(\"mNDWI\")\n",
    "    ndvi_mndwi = ndvi.subtract(mndwi).rename('ndvi_mndwi')\n",
    "    cwi=image.select('B3').divide(image.select('B6')).rename(\"CWI\")\n",
    "    awei = image.expression('(B2 + 2.5*B3 - 1.5*(B5+B6) - 0.25*B7)/10000',\n",
    "        {\n",
    "          'B2': image.select('B2'),\n",
    "          'B3': image.select('B3'),    \n",
    "          'B5': image.select('B5'),    \n",
    "          'B6': image.select('B6'),\n",
    "          'B7': image.select('B7'),\n",
    "        }).rename('AWEI')\n",
    "    ewi = image.expression('(B3 - B5 - B6)/(B3 + B5 + B6)',\n",
    "        {\n",
    "          'B3': image.select('B3'),    \n",
    "          'B5': image.select('B5'),    \n",
    "          'B6': image.select('B6'),\n",
    "        }).rename('EWI')\n",
    "    evi = image.expression('2.5*(B5 - B4)/(B5 + 6*B4 - 7.5*B2 + 1)',\n",
    "        {\n",
    "          'B2': image.select('B2'),\n",
    "          'B4': image.select('B4'),\n",
    "          'B5': image.select('B5'),    \n",
    "        }).rename('EVI')\n",
    "    return image.addBands(ndvi).addBands(ndwi).addBands(mndwi).addBands(cwi).addBands(awei).addBands(ewi).addBands(evi).addBands(ndvi_mndwi)\n",
    "\n",
    "elevation = ee.Image(\"users/311605001111/hillshade_\" + region)\n",
    "def maskSR(img):\n",
    "    cloudShadowBitMask = (1 << 3)\n",
    "    cloudsBitMask = (1 << 5)\n",
    "    snowBitMask = (1 << 4)   \n",
    "    qa = img.select('pixel_qa')\n",
    "    mask = qa.bitwiseAnd(cloudShadowBitMask).eq(0) \\\n",
    "                   .And(qa.bitwiseAnd(cloudsBitMask).eq(0)) \\\n",
    "                   .And(qa.bitwiseAnd(snowBitMask).eq(0))\n",
    "    azimuth = img.get('SOLAR_AZIMUTH_ANGLE')\n",
    "    zenith = img.get('SOLAR_ZENITH_ANGLE')\n",
    "    image = img.lt(0)\n",
    "    bands = image.select('B2').add(image.select('B3')).add(image.select('B4')).add(image.select('B5')).add(image.select('B6')).add(image.select('B7'))\n",
    "    outlier = bands.gt(0).remap([0,1],[1,0]).rename('outlier')\n",
    "    return img.updateMask(mask).updateMask(ee.Terrain.hillShadow(elevation,azimuth,zenith,200,True)).updateMask(outlier)\n",
    "\n",
    "def maskSR_reverse(img):\n",
    "    cloudShadowBitMask = (1 << 3)\n",
    "    cloudsBitMask = (1 << 5)\n",
    "    snowBitMask = (1 << 4)   \n",
    "    qa = img.select('pixel_qa')\n",
    "    mask = qa.bitwiseAnd(cloudShadowBitMask).eq(0) \\\n",
    "                   .And(qa.bitwiseAnd(cloudsBitMask).eq(0)) \\\n",
    "                   .And(qa.bitwiseAnd(snowBitMask).eq(0))\n",
    "    image_cloud = img.updateMask(mask.remap([0,1],[1,0]))\n",
    "    azimuth = img.get('SOLAR_AZIMUTH_ANGLE')\n",
    "    zenith = img.get('SOLAR_ZENITH_ANGLE')\n",
    "    image_shadow = img.updateMask(ee.Terrain.hillShadow(elevation,azimuth,zenith,200,True).remap([0,1],[1,0]))\n",
    "    image = img.lt(0)\n",
    "    bands = image.select('B2').add(image.select('B3')).add(image.select('B4')).add(image.select('B5')).add(image.select('B6')).add(image.select('B7'))\n",
    "    image_outlier = img.updateMask(bands.gt(0).rename('outlier'))\n",
    "    return ee.ImageCollection([image_cloud,image_shadow,image_outlier]).sum()\n",
    "\n",
    "# 图像可视化参数\n",
    "visParams = {'bands': ['B5', 'B6', 'B4'],'min': 0,'max': 3000,'gamma': 1.4}"
   ]
  },
  {
   "cell_type": "code",
   "execution_count": null,
   "metadata": {},
   "outputs": [],
   "source": [
    "def near_orbit(imgCol):\n",
    "    imgCol_date = imgCol.map(lambda i:i.set({'date': ee.String(i.get('system:id')).slice(-8,)}))\n",
    "    dates = ee.List(imgCol_date.distinct('date').aggregate_array('date'))\n",
    "    imgCol_median = ee.ImageCollection(dates.map(lambda i:imgCol_date.filter(ee.Filter.eq('date',i)).median().copyProperties(imgCol_date.filter(ee.Filter.eq('date',i)).first())))\n",
    "    return imgCol_median"
   ]
  },
  {
   "cell_type": "code",
   "execution_count": 9,
   "metadata": {
    "ExecuteTime": {
     "end_time": "2022-03-07T12:47:44.537335Z",
     "start_time": "2022-03-07T12:47:44.519412Z"
    }
   },
   "outputs": [],
   "source": [
    "# def Compare(feature):\n",
    "#     cluster = ee.Number(feature.get('cluster'))\n",
    "#     waterclass = ee.Number(feature.get('waterclass'))\n",
    "#     ft = ee.Algorithms.If(cluster.eq(waterclass),feature.set({'eq':1}),feature.set({'eq':0}))\n",
    "#     return ft\n",
    "# # k-mean聚类\n",
    "# def k_mean(sampleSET):\n",
    "#     clusterer = ee.Clusterer.wekaKMeans(2).train(sampleSET,bands)\n",
    "#     result = sampleSET.cluster(clusterer)\n",
    "#     right = result.map(Compare).filter(ee.Filter.eq('eq',0))\n",
    "#     error = result.map(Compare).filter(ee.Filter.eq('eq',1))\n",
    "#     filtered_sample = ee.FeatureCollection(ee.Algorithms.If(right.size().gt(error.size()),right,error))\n",
    "#     return filtered_sample\n",
    "\n",
    "def classified_image(img):\n",
    "    image = maskSR(img).select(bands).classify(trainedClassifier).eq(1).remap([0,1],[1,2]).rename('waterclass').float()\n",
    "    invalidPixel = maskSR_reverse(img).select('pixel_qa').gt(0).remap([0,1],[1,0]).rename('waterclass').float()\n",
    "    class_image = ee.ImageCollection([invalidPixel,image]).sum()\n",
    "    invalidPixels = class_image.eq(0).multiply(ee.Image.pixelArea()).divide(1e6)\n",
    "    invalidarea = invalidPixels.reduceRegion(**{'reducer': ee.Reducer.sum(),'geometry': roi,'scale': 500,'maxPixels': 1e14,'tileScale': 2}).get('waterclass')\n",
    "    region = class_image.gte(0).multiply(ee.Image.pixelArea()).divide(1e6)\n",
    "    regionarea = region.reduceRegion(**{'reducer': ee.Reducer.sum(),'geometry': roi,'scale': 500,'maxPixels': 1e14,'tileScale': 2}).get('waterclass')\n",
    "    rate = ee.Number(invalidarea).divide(ee.Number(regionarea)).multiply(100)\n",
    "    return class_image.set({'system:id':img.get('system:id')}).set({'CLOUD_COVER':img.get('CLOUD_COVER')}).set({'invalid_percentage':rate})\n",
    "\n",
    "def waterArea(image):\n",
    "    classified_image = image.select('waterclass').eq(2).rename('waterclass')\n",
    "    water_area = classified_image.multiply(ee.Image.pixelArea()).divide(1e6)\n",
    "    waterarea = water_area.reduceRegion(**{\n",
    "        'reducer': ee.Reducer.sum(),\n",
    "        'geometry': roi,\n",
    "        'scale': 200,\n",
    "        'maxPixels': 1e14,\n",
    "        'tileScale': 2,\n",
    "    })\n",
    "    return image.set({'waterarea': waterarea.get('waterclass')})\n",
    "\n",
    "# img指经过指数计算，但未做云掩膜的图像\n",
    "def occurrence_Histogram(class_image):\n",
    "    water = class_image.eq(2).selfMask()\n",
    "    no_data = class_image.eq(0).selfMask()\n",
    "    occurrence = ee.Image('JRC/GSW1_3/GlobalSurfaceWater').select('occurrence')\n",
    "    occurrence_water = occurrence.updateMask(water)\n",
    "    occurrence_no_data = occurrence.updateMask(no_data)\n",
    "    occurrence_HistogramCount = occurrence_water.reduceRegion(**{\n",
    "        'reducer': ee.Reducer.histogram(100,1),\n",
    "        'geometry': roi,\n",
    "        'scale': 30,\n",
    "        'bestEffort': True,\n",
    "        'tileScale': 2,\n",
    "    })\n",
    "    return class_image.set({'occurrence_HistogramCount': occurrence_HistogramCount.get('occurrence')})\n",
    "\n",
    "def AutomaticCorrection_threshold(class_image):\n",
    "    histogram = ee.List(ee.Dictionary(class_image.get('occurrence_HistogramCount')).get('histogram'))\n",
    "    bucketMeans = ee.List(ee.Dictionary(class_image.get('occurrence_HistogramCount')).get('bucketMeans'))\n",
    "    count_threshold = ee.Number(histogram.reduce(ee.Reducer.sum())).multiply(0.0017)\n",
    "    index = histogram.map(lambda i : ee.Algorithms.If(ee.Number(i).gte(ee.Number(count_threshold)),ee.Number(i))).removeAll([None]).get(0)\n",
    "    occurrence_threshold = bucketMeans.get(histogram.indexOf(index))\n",
    "    return class_image.set({'occurrence_threshold':occurrence_threshold})\n",
    "\n",
    "# img指经过指数计算(需要校正的图像)，但未做云掩膜的图像\n",
    "def AutomaticCorrection_enhanced(class_image):\n",
    "    basemap = ee.Image.constant(0).toFloat().updateMask(class_image.gte(0)).rename('waterclass')\n",
    "    water = class_image.eq(2).selfMask()\n",
    "    occurrence = ee.Image('JRC/GSW1_3/GlobalSurfaceWater').select('occurrence')\n",
    "    occurrence_no_data = occurrence.updateMask(class_image.eq(0).selfMask())\n",
    "    occurrence_threshold = class_image.get('occurrence_threshold')\n",
    "    occurrence_corrected_water = occurrence_no_data.gte(ee.Number(occurrence_threshold)).selfMask().select('occurrence').rename('waterclass')\n",
    "    enhanced_water = ee.ImageCollection([basemap,water,occurrence_corrected_water]).sum()\n",
    "    return enhanced_water"
   ]
  },
  {
   "cell_type": "markdown",
   "metadata": {},
   "source": [
    "# 5-year interval"
   ]
  },
  {
   "cell_type": "code",
   "execution_count": 10,
   "metadata": {
    "ExecuteTime": {
     "end_time": "2022-03-07T12:48:32.316317Z",
     "start_time": "2022-03-07T12:47:46.030940Z"
    }
   },
   "outputs": [
    {
     "name": "stdout",
     "output_type": "stream",
     "text": [
      "2000\n",
      "2005\n",
      "2010\n",
      "2015\n",
      "2020\n"
     ]
    }
   ],
   "source": [
    "# TIME = [['2000','0105'],['2005','0105'],['2010','0610'],['2015','1115'],['2020','1620']],[['2000'],['2005'],['2010'],['2015'],['2020']]\n",
    "TIME = [['2000'],['2005'],['2010'],['2015'],['2020']]\n",
    "# TIME = [['2010'],['2015']]\n",
    "for time in TIME:\n",
    "    print(time[0])\n",
    "    startDate = time[0] + '-01-01'\n",
    "    endDate = time[0] + '-12-31'\n",
    "    l5 = ee.ImageCollection('LANDSAT/LT05/C01/T1_SR') \\\n",
    "           .select(['B1', 'B2', 'B3', 'B4', 'B5', 'B7','pixel_qa'],['B2', 'B3', 'B4', 'B5', 'B6', 'B7','pixel_qa']) \\\n",
    "           .filterBounds(roi) \\\n",
    "           .filterDate(startDate, endDate)  \n",
    "    l7 = ee.ImageCollection('LANDSAT/LE07/C01/T1_SR') \\\n",
    "           .select(['B1', 'B2', 'B3', 'B4', 'B5', 'B7','pixel_qa'],['B2', 'B3', 'B4', 'B5', 'B6', 'B7','pixel_qa']) \\\n",
    "           .filterBounds(roi) \\\n",
    "           .filterDate(startDate, endDate)           \n",
    "    l8 = ee.ImageCollection('LANDSAT/LC08/C01/T1_SR') \\\n",
    "           .select(['B2', 'B3', 'B4', 'B5', 'B6', 'B7','pixel_qa']) \\\n",
    "           .filterBounds(roi) \\\n",
    "           .filterDate(startDate, endDate)\n",
    "    landsat_image = l8.merge(l7).merge(l5).map(water_index)\n",
    "    label = 'waterclass'\n",
    "    bands = ['B2', 'B3', 'B4', 'B5', 'B6', 'B7','NDVI','NDWI','mNDWI','CWI','AWEI','EWI','EVI']\n",
    "    # 'TIBET','tibet' 需要修改\n",
    "    # filtered_samples = ee.FeatureCollection('users/311605001111/SAMPLE_' + sample_region + '/' + region + '_kmean100_' + time[1] + '_v2')\n",
    "    filtered_samples = ee.FeatureCollection('users/311605001111/SAMPLE_' + sample_region + '/' + region + '_kmean100_9920_v2')\n",
    "    trainedClassifier = ee.Classifier.smileRandomForest(150).train(filtered_samples,label,bands)\n",
    "    landsat_images = landsat_image.map(classified_image).filter(ee.Filter.gte('invalid_percentage',5)).filter(ee.Filter.lt('invalid_percentage',95))\n",
    "    No_correct_image5 = landsat_image.map(classified_image).filter(ee.Filter.lt('invalid_percentage',5))\n",
    "    No_correct_image6 = landsat_image.map(classified_image).filter(ee.Filter.gte('invalid_percentage',95))\n",
    "    # 两步筛选\n",
    "    probable_correct_image = landsat_images.map(waterArea).filter(ee.Filter.gt('waterarea',5))\n",
    "    No_correct_image1 = landsat_images.map(waterArea).filter(ee.Filter.lte('waterarea',5))\n",
    "    occurrence_threshold = probable_correct_image.map(occurrence_Histogram).filter(ee.Filter.neq('occurrence_HistogramCount',None)).map(AutomaticCorrection_threshold)\n",
    "    correct_image = occurrence_threshold.filter(ee.Filter.gt('occurrence_threshold',5)).filter(ee.Filter.lte('occurrence_threshold',75))\n",
    "    No_correct_image2 = occurrence_threshold.filter(ee.Filter.lte('occurrence_threshold',5))\n",
    "    No_correct_image3 = occurrence_threshold.filter(ee.Filter.gt('occurrence_threshold',75))\n",
    "    No_correct_image4 = probable_correct_image.map(occurrence_Histogram).filter(ee.Filter.eq('occurrence_HistogramCount',None))\n",
    "    correct_image = correct_image\n",
    "    # print('correct: ',correct_image.size().getInfo())\n",
    "    No_correct_image = No_correct_image1.merge(No_correct_image2).merge(No_correct_image3).merge(No_correct_image4).merge(No_correct_image5).merge(No_correct_image6)\n",
    "    # print('nocorrect: ',No_correct_image.size().getInfo())\n",
    "    # 水体频率\n",
    "    if correct_image.size().getInfo() == 0 :\n",
    "        No_Correct_waterPixel = No_correct_image.map(lambda i : i.select('waterclass').eq(2)).sum()\n",
    "        No_Correct_validPixel = No_correct_image.map(lambda i : i.select('waterclass').gt(0)).sum()\n",
    "        waterfrequency = No_Correct_waterPixel.divide(No_Correct_validPixel).rename('frequency')\n",
    "    else:\n",
    "        correct_waterPixel = correct_image.map(AutomaticCorrection_enhanced).sum()\n",
    "        correct_validPixel = correct_image.map(lambda i : i.select('waterclass').gte(0)).sum()\n",
    "        No_Correct_waterPixel = No_correct_image.map(lambda i : i.select('waterclass').eq(2)).sum()\n",
    "        No_Correct_validPixel = No_correct_image.map(lambda i : i.select('waterclass').gt(0)).sum()\n",
    "        waterPixel = ee.ImageCollection([correct_waterPixel,No_Correct_waterPixel]).sum()\n",
    "        validPixel = ee.ImageCollection([correct_validPixel,No_Correct_validPixel]).sum()\n",
    "        waterfrequency = waterPixel.divide(validPixel).rename('frequency')\n",
    "    # Map.addLayer(waterfrequency,{'palette':['white','green'],'min':0,'max':1},\"water frequency\")\n",
    "    dataset_id = region + '_WF_' + time[0]\n",
    "    assetID = 'users/311605001111/WF/' + dataset_id\n",
    "    task = ee.batch.Export.image.toAsset(**{\n",
    "        'image': waterfrequency,\n",
    "        'description': dataset_id,\n",
    "        'assetId': assetID,\n",
    "        'scale': 30,\n",
    "        'region': roi,\n",
    "        'maxPixels': 1e13,\n",
    "    })\n",
    "    task.start()"
   ]
  },
  {
   "cell_type": "code",
   "execution_count": null,
   "metadata": {},
   "outputs": [],
   "source": []
  },
  {
   "cell_type": "code",
   "execution_count": null,
   "metadata": {},
   "outputs": [],
   "source": []
  },
  {
   "cell_type": "markdown",
   "metadata": {
    "heading_collapsed": true
   },
   "source": [
    "# every year"
   ]
  },
  {
   "cell_type": "code",
   "execution_count": null,
   "metadata": {
    "ExecuteTime": {
     "end_time": "2021-12-28T12:59:39.770891Z",
     "start_time": "2021-12-28T12:57:16.054894Z"
    },
    "hidden": true,
    "scrolled": true
   },
   "outputs": [],
   "source": [
    "for time in range(1999,2000,1):\n",
    "    print(time)\n",
    "    startDate = str(time) + '-01-01'\n",
    "    endDate = str(time) + '-12-31'\n",
    "    l5 = ee.ImageCollection('LANDSAT/LT05/C01/T1_SR') \\\n",
    "           .select(['B1', 'B2', 'B3', 'B4', 'B5', 'B7','pixel_qa'],['B2', 'B3', 'B4', 'B5', 'B6', 'B7','pixel_qa']) \\\n",
    "           .filterBounds(roi) \\\n",
    "           .filterDate(startDate, endDate)  \n",
    "    l7 = ee.ImageCollection('LANDSAT/LE07/C01/T1_SR') \\\n",
    "           .select(['B1', 'B2', 'B3', 'B4', 'B5', 'B7','pixel_qa'],['B2', 'B3', 'B4', 'B5', 'B6', 'B7','pixel_qa']) \\\n",
    "           .filterBounds(roi) \\\n",
    "           .filterDate(startDate, endDate)           \n",
    "    l8 = ee.ImageCollection('LANDSAT/LC08/C01/T1_SR') \\\n",
    "           .select(['B2', 'B3', 'B4', 'B5', 'B6', 'B7','pixel_qa']) \\\n",
    "           .filterBounds(roi) \\\n",
    "           .filterDate(startDate, endDate)\n",
    "    landsat_image = l8.merge(l7).merge(l5).map(water_index)\n",
    "    label = 'waterclass'\n",
    "    bands = ['B2', 'B3', 'B4', 'B5', 'B6', 'B7','NDVI','NDWI','mNDWI','CWI','AWEI','EWI','EVI']\n",
    "    filtered_samples = ee.FeatureCollection('users/311605001111/SAMPLE_' + sample_region + '/' + region + '_kmean100_9920_v2')\n",
    "    trainedClassifier = ee.Classifier.smileRandomForest(150).train(filtered_samples,label,bands)\n",
    "    landsat_images = landsat_image.map(classified_image).filter(ee.Filter.gte('invalid_percentage',5)).filter(ee.Filter.lt('invalid_percentage',95))\n",
    "    # 两步筛选\n",
    "    probable_correct_image = landsat_images.map(waterArea).filter(ee.Filter.gt('waterarea',5))\n",
    "    No_correct_image1 = landsat_images.map(waterArea).filter(ee.Filter.lte('waterarea',5))\n",
    "    occurrence_threshold = probable_correct_image.map(occurrence_Histogram).filter(ee.Filter.neq('occurrence_HistogramCount',None)).map(AutomaticCorrection_threshold)\n",
    "    correct_image = occurrence_threshold.filter(ee.Filter.gt('occurrence_threshold',5)).filter(ee.Filter.lte('occurrence_threshold',75))\n",
    "    No_correct_image2 = occurrence_threshold.filter(ee.Filter.lte('occurrence_threshold',5))\n",
    "    No_correct_image3 = occurrence_threshold.filter(ee.Filter.gt('occurrence_threshold',75))\n",
    "    No_correct_image4 = probable_correct_image.map(occurrence_Histogram).filter(ee.Filter.eq('occurrence_HistogramCount',None))\n",
    "    correct_image = correct_image\n",
    "    # print('correct: ',correct_image.size().getInfo())\n",
    "    No_correct_image = No_correct_image1.merge(No_correct_image2).merge(No_correct_image3).merge(No_correct_image4)\n",
    "    # print('nocorrect: ',No_correct_image.size().getInfo())\n",
    "    # 水体频率\n",
    "    if correct_image.size().getInfo() == 0 :\n",
    "        No_Correct_waterPixel = No_correct_image.map(lambda i : i.select('waterclass').eq(2)).sum()\n",
    "        No_Correct_validPixel = No_correct_image.map(lambda i : i.select('waterclass').gt(0)).sum()\n",
    "        waterfrequency = No_Correct_waterPixel.divide(No_Correct_validPixel).rename('frequency')\n",
    "    else:\n",
    "        correct_waterPixel = correct_image.map(AutomaticCorrection_enhanced).sum()\n",
    "        correct_validPixel = correct_image.map(lambda i : i.select('waterclass').gte(0)).sum()\n",
    "        No_Correct_waterPixel = No_correct_image.map(lambda i : i.select('waterclass').eq(2)).sum()\n",
    "        No_Correct_validPixel = No_correct_image.map(lambda i : i.select('waterclass').gt(0)).sum()\n",
    "        waterPixel = ee.ImageCollection([correct_waterPixel,No_Correct_waterPixel]).sum()\n",
    "        validPixel = ee.ImageCollection([correct_validPixel,No_Correct_validPixel]).sum()\n",
    "        waterfrequency = waterPixel.divide(validPixel).rename('frequency')\n",
    "    # Map.addLayer(waterfrequency,{'palette':['white','green'],'min':0,'max':1},\"water frequency\")\n",
    "    dataset_id = region + '_WF_' + str(time)\n",
    "    assetID = 'users/311605001111/WF/' + dataset_id\n",
    "    task = ee.batch.Export.image.toAsset(**{\n",
    "        'image': waterfrequency,\n",
    "        'description': dataset_id,\n",
    "        'assetId': assetID,\n",
    "        'scale': 30,\n",
    "        'region': roi,\n",
    "        'maxPixels': 1e13,\n",
    "    })\n",
    "    task.start()"
   ]
  },
  {
   "cell_type": "code",
   "execution_count": null,
   "metadata": {
    "hidden": true
   },
   "outputs": [],
   "source": []
  },
  {
   "cell_type": "code",
   "execution_count": null,
   "metadata": {
    "hidden": true
   },
   "outputs": [],
   "source": []
  },
  {
   "cell_type": "code",
   "execution_count": null,
   "metadata": {
    "hidden": true
   },
   "outputs": [],
   "source": []
  },
  {
   "cell_type": "markdown",
   "metadata": {},
   "source": [
    "# 计算水体频率"
   ]
  },
  {
   "cell_type": "code",
   "execution_count": null,
   "metadata": {
    "ExecuteTime": {
     "end_time": "2021-09-30T10:34:27.961282Z",
     "start_time": "2021-09-30T10:34:27.945324Z"
    }
   },
   "outputs": [],
   "source": [
    "# img指经过指数计算(需要校正的图像)，但未做云掩膜的图像\n",
    "def AutomaticCorrection_enhanced(class_image):\n",
    "    basemap = ee.Image.constant(0).toFloat().updateMask(class_image.gte(0)).rename('waterclass')\n",
    "    water = class_image.eq(2).selfMask()\n",
    "    occurrence = ee.Image('JRC/GSW1_3/GlobalSurfaceWater').select('occurrence')\n",
    "    occurrence_no_data = occurrence.updateMask(class_image.eq(0).selfMask())\n",
    "    occurrence_threshold = class_image.get('occurrence_threshold')\n",
    "    occurrence_corrected_water = occurrence_no_data.gte(ee.Number(occurrence_threshold)).selfMask().select('occurrence').rename('waterclass')\n",
    "    enhanced_water = ee.ImageCollection([basemap,water,occurrence_corrected_water]).sum()\n",
    "    return enhanced_water"
   ]
  },
  {
   "cell_type": "code",
   "execution_count": null,
   "metadata": {
    "ExecuteTime": {
     "end_time": "2021-09-30T10:34:30.854623Z",
     "start_time": "2021-09-30T10:34:30.840017Z"
    }
   },
   "outputs": [],
   "source": [
    "## 水体频率\n",
    "# 校正图像\n",
    "correct_waterPixel = correct_image.map(AutomaticCorrection_enhanced).sum()\n",
    "correct_validPixel = correct_image.map(lambda i : i.select('waterclass').gte(0)).sum()\n",
    "# 未校正图像\n",
    "No_Correct_waterPixel = No_correct_image.map(lambda i : i.select('waterclass').eq(2)).sum()\n",
    "No_Correct_validPixel = No_correct_image.map(lambda i : i.select('waterclass').gt(0)).sum()"
   ]
  },
  {
   "cell_type": "code",
   "execution_count": null,
   "metadata": {
    "ExecuteTime": {
     "end_time": "2021-09-30T10:34:51.627255Z",
     "start_time": "2021-09-30T10:34:36.435844Z"
    }
   },
   "outputs": [],
   "source": [
    "# 水体频率\n",
    "waterPixel = ee.ImageCollection([correct_waterPixel,No_Correct_waterPixel]).sum()\n",
    "Map.addLayer(waterPixel,{'palette':['white','#3dd633'],'min':0,'max':35},\"waterPixelCount\")\n",
    "validPixel = ee.ImageCollection([correct_validPixel,No_Correct_validPixel]).sum()\n",
    "Map.addLayer(validPixel,{'palette':['white','#e40775'],'min':0,'max':35},\"validPixel\")\n",
    "waterfrequency = waterPixel.divide(validPixel).rename('frequency')\n",
    "Map.addLayer(waterfrequency,{'palette':['white','green'],'min':0,'max':1},\"water frequency\")\n",
    "permanentwater = waterfrequency.gte(0.75)\n",
    "Map.addLayer(permanentwater.selfMask(),{'palette':['blue']},\"permanent water\")"
   ]
  },
  {
   "cell_type": "code",
   "execution_count": null,
   "metadata": {
    "ExecuteTime": {
     "end_time": "2021-09-30T10:35:51.528123Z",
     "start_time": "2021-09-30T10:35:06.563587Z"
    }
   },
   "outputs": [],
   "source": [
    "# 水体频率\n",
    "from matplotlib import pyplot as plt\n",
    "import numpy as np\n",
    "import matplotlib\n",
    "from geemap import cartoee\n",
    "region = [89.8826, 34.6579,91.3626, 35.8279]\n",
    "vis = {'min':0, 'max':1}\n",
    "fig = plt.figure(figsize=(12, 8))\n",
    "cmap = 'Blues'\n",
    "ax = cartoee.get_map(waterfrequency, region=region, vis_params=vis,cmap = cmap)\n",
    "# cartoee.add_colorbar(ax, vis,cmap=cmap,loc=\"right\",label=\"water frequency\", orientation=\"vertical\")\n",
    "cartoee.add_gridlines(ax, interval=[0.3,0.2], linestyle=\":\")\n",
    "ax.set_title(label = 'region E/2020', fontsize=28)"
   ]
  },
  {
   "cell_type": "code",
   "execution_count": null,
   "metadata": {
    "ExecuteTime": {
     "end_time": "2021-09-30T10:36:13.512729Z",
     "start_time": "2021-09-30T10:36:06.629866Z"
    }
   },
   "outputs": [],
   "source": [
    "# 永久性水体---v2\n",
    "from matplotlib import pyplot as plt\n",
    "import numpy as np\n",
    "import matplotlib\n",
    "from geemap import cartoee\n",
    "region = [89.8826, 34.6579,91.3626, 35.8279]\n",
    "vis = {'palette':['blue']}\n",
    "fig = plt.figure(figsize=(12, 8))\n",
    "ax = cartoee.get_map(permanentwater.selfMask(), region=region, vis_params=vis)\n",
    "cartoee.add_gridlines(ax, interval=[0.3,0.2], linestyle=\":\")\n",
    "ax.set_title(label = 'region E/2020', fontsize=28)"
   ]
  },
  {
   "cell_type": "code",
   "execution_count": null,
   "metadata": {
    "ExecuteTime": {
     "end_time": "2021-09-30T09:16:52.969808Z",
     "start_time": "2021-09-30T09:16:52.969808Z"
    }
   },
   "outputs": [],
   "source": [
    "refer_img = l8.map(maskSR).median().clip(roi).visualize(**visParams)\n",
    "blend = refer_img.blend(permanentwater.selfMask().visualize(**{'palette':['blue']}))\n",
    "Map.addLayer(blend, {}, \"Blend\")"
   ]
  },
  {
   "cell_type": "markdown",
   "metadata": {},
   "source": [
    "# 其他数据集"
   ]
  },
  {
   "cell_type": "code",
   "execution_count": null,
   "metadata": {
    "ExecuteTime": {
     "end_time": "2021-09-09T01:18:49.416958Z",
     "start_time": "2021-09-09T01:18:48.423331Z"
    }
   },
   "outputs": [],
   "source": [
    "year = '2020'\n",
    "#### 设置年份\n",
    "JRC_id = 'JRC/GSW1_3/YearlyHistory/' + year\n",
    "Maryland_id = 'users/311605001111/Maryland/Maryland_nationwide_' + year\n",
    "basemap = ee.Image.constant(0).clip(roi).rename('waterclass')\n",
    "# JRC\n",
    "JRC = ee.Image(JRC_id).clip(roi).remap([0,1,2,3],[0,0,1,2]).rename('waterclass')\n",
    "JRC_waterclass = ee.ImageCollection([JRC,basemap]).sum()\n",
    "# Maryland\n",
    "Maryland = ee.Image(Maryland_id).clip(roi).select('b1').rename('waterclass')\n",
    "Maryland_permanent = Maryland.select('waterclass').gte(75).remap([0,1],[0,2]).rename('waterclass')\n",
    "Maryland_season= ee.ImageCollection([Maryland.gte(25),Maryland.lt(75)]).sum().eq(2)\n",
    "Maryland_waterclass = ee.ImageCollection([Maryland_permanent,Maryland_season,basemap]).sum()\n",
    "\n",
    "Map.addLayer(Maryland_waterclass.eq(2).selfMask(),{'palette':['red']},\"Maryland permanent\")\n",
    "Map.addLayer(JRC_waterclass.eq(2).selfMask(),{'palette':['green']},\"JRC permanent\")"
   ]
  },
  {
   "cell_type": "code",
   "execution_count": null,
   "metadata": {},
   "outputs": [],
   "source": [
    "# # JRC permanent waterbody\n",
    "from matplotlib import pyplot as plt\n",
    "import numpy as np\n",
    "import matplotlib\n",
    "from geemap import cartoee\n",
    "region = [112.7614, 22.2347,114.0514, 23.2547]\n",
    "vis = {'palette':['D3D3D3','blue'],'min':0,'max':1}\n",
    "fig = plt.figure(figsize=(12, 8))\n",
    "ax = cartoee.get_map(JRC_waterclass.eq(2).selfMask(), region=region, vis_params=vis)\n",
    "cartoee.add_gridlines(ax, interval=[0.3,0.2], linestyle=\":\")\n",
    "ax.set_title(label = 'JRC permanent water(PearlRiverDelta/2020)', fontsize=28)\n",
    "\n",
    "# # Maryland permanent waterbody\n",
    "from matplotlib import pyplot as plt\n",
    "import numpy as np\n",
    "import matplotlib\n",
    "from geemap import cartoee\n",
    "region = [112.7614, 22.2347,114.0514, 23.2547]\n",
    "vis = {'palette':['D3D3D3','blue'],'min':0,'max':1}\n",
    "fig = plt.figure(figsize=(12, 8))\n",
    "ax = cartoee.get_map(Maryland_waterclass.eq(2).selfMask(), region=region, vis_params=vis)\n",
    "cartoee.add_gridlines(ax, interval=[0.3,0.2], linestyle=\":\")\n",
    "ax.set_title(label = 'Maryland permanent water(PearlRiverDelta/2020)', fontsize=23)"
   ]
  },
  {
   "cell_type": "code",
   "execution_count": null,
   "metadata": {
    "ExecuteTime": {
     "end_time": "2021-09-08T14:37:40.381741Z",
     "start_time": "2021-09-08T14:37:40.381741Z"
    }
   },
   "outputs": [],
   "source": [
    "# landsat_images = l8.map(water_index)\n",
    "landsat_images = landsat_images\n",
    "waterPixel = landsat_images.map(lambda i : i.select('waterclass').eq(2)).sum()\n",
    "validPixel = landsat_images.map(lambda i : i.select('waterclass').gt(0)).sum()\n",
    "\n",
    "# 水体频率\n",
    "waterfrequency = waterPixel.select('waterclass').divide(validPixel.select('count')).rename('frequency')\n",
    "Map.addLayer(waterfrequency,{'palette':['white','green'],'min':0,'max':1},\"water frequency no\")\n",
    "permanentwater = waterfrequency.gte(0.75)\n",
    "Map.addLayer(permanentwater.selfMask(),{'palette':['cyan']},\"permanent water no\")"
   ]
  },
  {
   "cell_type": "markdown",
   "metadata": {},
   "source": [
    "# 制图"
   ]
  },
  {
   "cell_type": "code",
   "execution_count": null,
   "metadata": {},
   "outputs": [],
   "source": [
    "# 永久性水体---v1\n",
    "from matplotlib import pyplot as plt\n",
    "import numpy as np\n",
    "import matplotlib\n",
    "from geemap import cartoee\n",
    "region = [115.9244, 38.6272,117.4944,39.6372]\n",
    "vis = {'palette':['D3D3D3','blue'],'min':0,'max':1}\n",
    "fig = plt.figure(figsize=(12, 8))\n",
    "ax = cartoee.get_map(permanentwater, region=region, vis_params=vis)\n",
    "cartoee.add_gridlines(ax, interval=[0.3,0.2], linestyle=\":\")\n",
    "ax.set_title(label = 'permanent water(daqing/2020)', fontsize=28)\n",
    "\n",
    "# 永久性水体---v2\n",
    "from matplotlib import pyplot as plt\n",
    "import numpy as np\n",
    "import matplotlib\n",
    "from geemap import cartoee\n",
    "region = [112.7614, 22.2347,114.0514, 23.2547]\n",
    "vis = {'palette':['blue']}\n",
    "fig = plt.figure(figsize=(12, 8))\n",
    "ax = cartoee.get_map(permanentwater.selfMask(), region=region, vis_params=vis)\n",
    "cartoee.add_gridlines(ax, interval=[0.3,0.2], linestyle=\":\")\n",
    "ax.set_title(label = 'permanent water(PearlRiverDelta/2020)', fontsize=28)\n",
    "\n",
    "# 水体频率\n",
    "from matplotlib import pyplot as plt\n",
    "import numpy as np\n",
    "import matplotlib\n",
    "from geemap import cartoee\n",
    "region = [115.9244, 38.6272,117.4944,39.6372]\n",
    "vis = {'min':0, 'max':1}\n",
    "fig = plt.figure(figsize=(12, 8))\n",
    "cmap = 'Blues'\n",
    "ax = cartoee.get_map(waterfrequency, region=region, vis_params=vis,cmap = cmap)\n",
    "cartoee.add_colorbar(ax, vis,cmap=cmap,loc=\"right\",label=\"water frequency\", orientation=\"vertical\")\n",
    "cartoee.add_gridlines(ax, interval=[0.3,0.2], linestyle=\":\")\n",
    "ax.set_title(label = 'waterbody frequency(Auto-Correction/2020)', fontsize=28)\n",
    "\n",
    "# 参考影像\n",
    "from matplotlib import pyplot as plt\n",
    "import numpy as np\n",
    "import matplotlib\n",
    "from geemap import cartoee\n",
    "region = [123.9355, 45.8362,125.3055, 46.8762]\n",
    "fig = plt.figure(figsize=(12, 8))\n",
    "visParams = {'bands': ['B5', 'B6', 'B4'],'min': 0,'max': 3000,'gamma': 1.4}\n",
    "# use cartoee to get a map\n",
    "a = l8.filter(ee.Filter.lt('CLOUD_COVER',35)).map(maskSR).median().clip(roi)\n",
    "ax = cartoee.get_map(a, region=region,vis_params=visParams)\n",
    "# add gridlines to the map at a specified interval\n",
    "cartoee.add_gridlines(ax, interval=[0.3,0.2], linestyle=\":\")\n",
    "ax.set_title(label = 'refer image(median composite image/2020)', fontsize=28)\n",
    "\n",
    "# 合成影像\n",
    "from matplotlib import pyplot as plt\n",
    "import numpy as np\n",
    "import matplotlib\n",
    "from geemap import cartoee\n",
    "\n",
    "region = [90.8867, 35.4570,91.3632, 35.7387]\n",
    "fig = plt.figure(figsize=(12, 8))\n",
    "visParams = {'bands': ['B5', 'B6', 'B4'],'min': 0,'max': 3000,'gamma': 1.4}\n",
    "# use cartoee to get a map\n",
    "ax = cartoee.get_map(blend, region=region)\n",
    "# add gridlines to the map at a specified interval\n",
    "cartoee.add_gridlines(ax, interval=[0.2,0.1], linestyle=\":\")\n",
    "ax.set_title(label = 'Experimental results', fontsize=28)"
   ]
  },
  {
   "cell_type": "code",
   "execution_count": null,
   "metadata": {},
   "outputs": [],
   "source": []
  }
 ],
 "metadata": {
  "hide_input": false,
  "kernelspec": {
   "display_name": "Python 3 (ipykernel)",
   "language": "python",
   "name": "python3"
  },
  "language_info": {
   "codemirror_mode": {
    "name": "ipython",
    "version": 3
   },
   "file_extension": ".py",
   "mimetype": "text/x-python",
   "name": "python",
   "nbconvert_exporter": "python",
   "pygments_lexer": "ipython3",
   "version": "3.8.12"
  },
  "toc": {
   "base_numbering": 1,
   "nav_menu": {},
   "number_sections": true,
   "sideBar": true,
   "skip_h1_title": false,
   "title_cell": "Table of Contents",
   "title_sidebar": "Contents",
   "toc_cell": false,
   "toc_position": {
    "height": "calc(100% - 180px)",
    "left": "10px",
    "top": "150px",
    "width": "263.097px"
   },
   "toc_section_display": true,
   "toc_window_display": false
  },
  "varInspector": {
   "cols": {
    "lenName": 16,
    "lenType": 16,
    "lenVar": 40
   },
   "kernels_config": {
    "python": {
     "delete_cmd_postfix": "",
     "delete_cmd_prefix": "del ",
     "library": "var_list.py",
     "varRefreshCmd": "print(var_dic_list())"
    },
    "r": {
     "delete_cmd_postfix": ") ",
     "delete_cmd_prefix": "rm(",
     "library": "var_list.r",
     "varRefreshCmd": "cat(var_dic_list()) "
    }
   },
   "types_to_exclude": [
    "module",
    "function",
    "builtin_function_or_method",
    "instance",
    "_Feature"
   ],
   "window_display": false
  }
 },
 "nbformat": 4,
 "nbformat_minor": 4
}
