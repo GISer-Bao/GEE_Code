{
 "cells": [
  {
   "cell_type": "code",
   "execution_count": 1,
   "metadata": {
    "ExecuteTime": {
     "end_time": "2022-02-24T01:08:04.914729Z",
     "start_time": "2022-02-24T01:08:04.896810Z"
    }
   },
   "outputs": [],
   "source": [
    "import os\n",
    "os.environ['HTTP_PROXY'] = \"http://127.0.0.1:10809\"\n",
    "os.environ['HTTPS_PROXY'] = \"http://127.0.0.1:10809\""
   ]
  },
  {
   "cell_type": "code",
   "execution_count": 2,
   "metadata": {
    "ExecuteTime": {
     "end_time": "2022-02-24T01:08:09.288365Z",
     "start_time": "2022-02-24T01:08:05.234911Z"
    },
    "scrolled": false
   },
   "outputs": [
    {
     "data": {
      "application/vnd.jupyter.widget-view+json": {
       "model_id": "af1ac29063ae47bc91141534d831d746",
       "version_major": 2,
       "version_minor": 0
      },
      "text/plain": [
       "Map(center=[20, 0], controls=(WidgetControl(options=['position', 'transparent_bg'], widget=HBox(children=(Togg…"
      ]
     },
     "metadata": {},
     "output_type": "display_data"
    }
   ],
   "source": [
    "import geemap\n",
    "import ee\n",
    "Map=geemap.Map()\n",
    "Map"
   ]
  },
  {
   "cell_type": "code",
   "execution_count": 3,
   "metadata": {
    "ExecuteTime": {
     "end_time": "2022-02-24T01:08:09.620986Z",
     "start_time": "2022-02-24T01:08:09.606577Z"
    }
   },
   "outputs": [],
   "source": [
    "# 定义参数\n",
    "region = 'daqing'\n",
    "year = '2000'\n",
    "startDate = year + '-01-01'\n",
    "endDate = year + '-12-31'"
   ]
  },
  {
   "cell_type": "code",
   "execution_count": 4,
   "metadata": {
    "ExecuteTime": {
     "end_time": "2022-02-24T01:08:10.669903Z",
     "start_time": "2022-02-24T01:08:09.970404Z"
    }
   },
   "outputs": [],
   "source": [
    "# # 大庆市\n",
    "roi = ee.Geometry.Rectangle([123.9355, 45.8362,125.3055, 46.8762])\n",
    "# # 天津市\n",
    "# roi = ee.Geometry.Rectangle([115.9244, 38.6272,117.4944,39.6372])\n",
    "# # 武汉市\n",
    "# roi = ee.Geometry.Rectangle([113.7393, 29.8642,115.0993, 30.9242])\n",
    "# # 珠三角\n",
    "# roi = ee.Geometry.Rectangle([112.7614, 22.2347,114.0514, 23.2547])\n",
    "# 青藏高原\n",
    "# roi = ee.Geometry.Rectangle([89.8826, 34.6579,91.3626, 35.8279])\n",
    "Map.addLayer(roi, {}, \"roi\")\n",
    "Map.centerObject(roi,9)"
   ]
  },
  {
   "cell_type": "code",
   "execution_count": 5,
   "metadata": {
    "ExecuteTime": {
     "end_time": "2022-02-24T01:08:11.015374Z",
     "start_time": "2022-02-24T01:08:11.001214Z"
    }
   },
   "outputs": [],
   "source": [
    "## 指数的计算\n",
    "def water_index(img):\n",
    "    image = img\n",
    "    ndvi=image.normalizedDifference(['B5', 'B4']).rename('NDVI')\n",
    "    ndwi=image.normalizedDifference(['B3', 'B5']).rename(\"NDWI\")\n",
    "    mndwi=image.normalizedDifference(['B3', 'B6']).rename(\"mNDWI\")\n",
    "    ndvi_mndwi = ndvi.subtract(mndwi).rename('ndvi_mndwi')\n",
    "    cwi=image.select('B3').divide(image.select('B6')).rename(\"CWI\")\n",
    "    awei = image.expression('(B2 + 2.5*B3 - 1.5*(B5+B6) - 0.25*B7)/10000',\n",
    "        {\n",
    "          'B2': image.select('B2'),\n",
    "          'B3': image.select('B3'),    \n",
    "          'B5': image.select('B5'),    \n",
    "          'B6': image.select('B6'),\n",
    "          'B7': image.select('B7'),\n",
    "        }).rename('AWEI')\n",
    "    ewi = image.expression('(B3 - B5 - B6)/(B3 + B5 + B6)',\n",
    "        {\n",
    "          'B3': image.select('B3'),    \n",
    "          'B5': image.select('B5'),    \n",
    "          'B6': image.select('B6'),\n",
    "        }).rename('EWI')\n",
    "    evi = image.expression('2.5*(B5 - B4)/(B5 + 6*B4 - 7.5*B2 + 1)',\n",
    "        {\n",
    "          'B2': image.select('B2'),\n",
    "          'B4': image.select('B4'),\n",
    "          'B5': image.select('B5'),    \n",
    "        }).rename('EVI')\n",
    "    return image.addBands(ndvi).addBands(ndwi).addBands(mndwi).addBands(cwi).addBands(awei).addBands(ewi).addBands(evi).addBands(ndvi_mndwi)\n",
    "\n",
    "elevation = ee.Image(\"users/311605001111/hillshade_\" + region)\n",
    "def maskSR(img):\n",
    "    cloudShadowBitMask = (1 << 3)\n",
    "    cloudsBitMask = (1 << 5)\n",
    "    snowBitMask = (1 << 4)   \n",
    "    qa = img.select('pixel_qa')\n",
    "    mask = qa.bitwiseAnd(cloudShadowBitMask).eq(0) \\\n",
    "                   .And(qa.bitwiseAnd(cloudsBitMask).eq(0)) \\\n",
    "                   .And(qa.bitwiseAnd(snowBitMask).eq(0))\n",
    "    azimuth = img.get('SOLAR_AZIMUTH_ANGLE')\n",
    "    zenith = img.get('SOLAR_ZENITH_ANGLE')\n",
    "    image = img.lt(0)\n",
    "    bands = image.select('B2').add(image.select('B3')).add(image.select('B4')).add(image.select('B5')).add(image.select('B6')).add(image.select('B7'))\n",
    "    outlier = bands.gt(0).remap([0,1],[1,0]).rename('outlier')\n",
    "    return img.updateMask(mask).updateMask(outlier)\n",
    "\n",
    "# 图像可视化参数\n",
    "visParams = {'bands': ['B5', 'B6', 'B4'],'min': 0,'max': 3000,'gamma': 1.4}"
   ]
  },
  {
   "cell_type": "markdown",
   "metadata": {},
   "source": [
    "# 数据集"
   ]
  },
  {
   "cell_type": "code",
   "execution_count": null,
   "metadata": {
    "ExecuteTime": {
     "end_time": "2022-02-20T09:34:23.737560Z",
     "start_time": "2022-02-20T09:34:23.723172Z"
    }
   },
   "outputs": [],
   "source": [
    "# l8 = ee.ImageCollection('LANDSAT/LC08/C01/T1_SR').filterBounds(roi).filterDate('2015-04-01','2015-10-31').filter(ee.Filter.lt('CLOUD_COVER',10))\n",
    "# print(l8.aggregate_array('system:id').getInfo())\n",
    "\n",
    "# l5 = ee.ImageCollection('LANDSAT/LT05/C01/T1_SR').filterBounds(roi).filterDate('2000-04-01','2000-10-31').filter(ee.Filter.lt('CLOUD_COVER',10))\n",
    "# print(l5.aggregate_array('system:id').getInfo())"
   ]
  },
  {
   "cell_type": "code",
   "execution_count": 6,
   "metadata": {
    "ExecuteTime": {
     "end_time": "2022-02-24T01:08:19.785829Z",
     "start_time": "2022-02-24T01:08:19.289138Z"
    }
   },
   "outputs": [
    {
     "data": {
      "application/vnd.jupyter.widget-view+json": {
       "model_id": "af1ac29063ae47bc91141534d831d746",
       "version_major": 2,
       "version_minor": 0
      },
      "text/plain": [
       "Map(bottom=46743.0, center=[46.356595404115275, 124.62049999999992], controls=(WidgetControl(options=['positio…"
      ]
     },
     "metadata": {},
     "output_type": "display_data"
    }
   ],
   "source": [
    "#  'LANDSAT/LT05/C01/T1_SR/LT05_119028_20000528', \n",
    "#  'LANDSAT/LT05/C01/T1_SR/LT05_119028_20000816',\n",
    "  \n",
    "#  'LANDSAT/LT05/C01/T1_SR/LT05_120028_20000706', \n",
    "#  'LANDSAT/LT05/C01/T1_SR/LT05_120028_20000924', \n",
    "\n",
    "a = ee.Image('LANDSAT/LT05/C01/T1_SR/LT05_119028_20000816').select(['B1', 'B2', 'B3', 'B4', 'B5', 'B7','pixel_qa'],['B2', 'B3', 'B4', 'B5', 'B6', 'B7','pixel_qa'])\n",
    "# a = ee.Image('LANDSAT/LC08/C01/T1_SR/LC08_120028_20200526')\n",
    "image = maskSR(water_index(a))\n",
    "visParams = {'bands': ['B5', 'B4', 'B3'],'min': 0,'max': 3000,'gamma': 1.4}\n",
    "Map.addLayer(image.clip(roi), visParams,'a image')\n",
    "Map"
   ]
  },
  {
   "cell_type": "code",
   "execution_count": null,
   "metadata": {},
   "outputs": [],
   "source": []
  },
  {
   "cell_type": "code",
   "execution_count": null,
   "metadata": {
    "ExecuteTime": {
     "end_time": "2022-02-20T08:39:23.599250Z",
     "start_time": "2022-02-20T08:39:23.585170Z"
    }
   },
   "outputs": [],
   "source": [
    "# # dataset = ee.ImageCollection('COPERNICUS/S2_SR') \\\n",
    "# #             .filterDate('2020-05-25', '2020-05-28') \\\n",
    "# #             .filter(ee.Filter.lt('CLOUDY_PIXEL_PERCENTAGE',20)) \\\n",
    "# #             .filterBounds(roi)\n",
    "# # print(dataset.size().getInfo())\n",
    "# # print(dataset.aggregate_array('system:id').getInfo())\n",
    "\n",
    "# # sentinel-2\n",
    "# # 加载sentinel 图像\n",
    "# def maskS2clouds(image):\n",
    "#     qa = image.select('QA60')\n",
    "#     cloudBitMask = 1 << 10\n",
    "#     cirrusBitMask = 1 << 11\n",
    "#     mask = qa.bitwiseAnd(cloudBitMask).eq(0) \\\n",
    "#              .And(qa.bitwiseAnd(cirrusBitMask).eq(0))\n",
    "#     return image.updateMask(mask).divide(10000)\n",
    "# sen1 = ee.Image('COPERNICUS/S2_SR/20200526T024551_20200526T024552_T51TWL')\n",
    "# sen2 = ee.Image('COPERNICUS/S2_SR/20200526T024551_20200526T024552_T51TWM')\n",
    "# sen3 = ee.Image('COPERNICUS/S2_SR/20200526T024551_20200526T024552_T51TWN')\n",
    "# sen4 = ee.Image('COPERNICUS/S2_SR/20200526T024551_20200526T024552_T51TXL')\n",
    "# sen5 = ee.Image('COPERNICUS/S2_SR/20200526T024551_20200526T024552_T51TXM')\n",
    "# sen6 = ee.Image('COPERNICUS/S2_SR/20200526T024551_20200526T024552_T51TXN')\n",
    "# # sen2 = ee.Image('COPERNICUS/S2_SR/20201225T030131_20201225T030129_T50RKU')\n",
    "# # sen3 = ee.Image('COPERNICUS/S2_SR/20201225T030131_20201225T030129_T50RLU')\n",
    "\n",
    "# sen14 = ee.ImageCollection([sen1,sen2,sen3,sen4,sen5,sen6])\n",
    "# Map.addLayer(maskS2clouds(sen14.mosaic().clip(roi)),{'min': 0.0,'max': 0.3,'bands': ['B8', 'B4', 'B3']},'sen14')"
   ]
  },
  {
   "cell_type": "code",
   "execution_count": null,
   "metadata": {
    "ExecuteTime": {
     "end_time": "2022-02-20T08:39:24.276846Z",
     "start_time": "2022-02-20T08:39:24.262495Z"
    }
   },
   "outputs": [],
   "source": [
    "# 'LANDSAT/LC08/C01/T1_SR/LC08_119028_20201111' \n",
    "# 'LANDSAT/LC08/C01/T1_SR/LC08_120027_20200526' \n",
    "# 'LANDSAT/LC08/C01/T1_SR/LC08_120028_20200526'\n",
    "# image = maskSR(water_index(ee.Image('LANDSAT/LC08/C01/T1_SR/LC08_120028_20200526'))).clip(roi)\n",
    "# visParams = {'bands': ['B5', 'B4', 'B3'],'min': 0,'max': 3000,'gamma': 1.4}\n",
    "# Map.addLayer(image.clip(roi), visParams,'image')\n",
    "\n",
    "\n",
    "# a = ee.Image('LANDSAT/LC08/C01/T1_SR/LC08_122033_20200828').select(['B1', 'B2', 'B3', 'B4', 'B5', 'B7','pixel_qa'],['B2', 'B3', 'B4', 'B5', 'B6', 'B7','pixel_qa'])\n",
    "# a = ee.Image('LANDSAT/LC08/C01/T1_SR/LC08_120028_20200526')\n",
    "# image = maskSR(water_index(a)).clip(roi)\n",
    "# visParams = {'bands': ['B5', 'B4', 'B3'],'min': 0,'max': 3000,'gamma': 1.4}\n",
    "# Map.addLayer(image, visParams,'image')"
   ]
  },
  {
   "cell_type": "code",
   "execution_count": null,
   "metadata": {
    "ExecuteTime": {
     "end_time": "2022-02-19T13:25:01.515677Z",
     "start_time": "2022-02-19T13:25:01.501486Z"
    }
   },
   "outputs": [],
   "source": [
    "\n",
    "#  'LANDSAT/LC08/C01/T1_SR/LC08_120028_20150614', \n",
    "#  'LANDSAT/LC08/C01/T1_SR/LC08_120028_20150801', \n",
    "#  'LANDSAT/LC08/C01/T1_SR/LC08_120028_20151004'\n",
    "\n",
    "# a = ee.Image('LANDSAT/LC08/C01/T1_SR/LC08_120028_20150614')\n",
    "# image = maskSR(water_index(a))\n",
    "# visParams = {'bands': ['B5', 'B4', 'B3'],'min': 0,'max': 3000,'gamma': 1.4}\n",
    "# Map.addLayer(image.clip(roi), visParams,'image')"
   ]
  },
  {
   "cell_type": "code",
   "execution_count": null,
   "metadata": {},
   "outputs": [],
   "source": []
  },
  {
   "cell_type": "markdown",
   "metadata": {},
   "source": [
    "# 直方图"
   ]
  },
  {
   "cell_type": "code",
   "execution_count": null,
   "metadata": {
    "ExecuteTime": {
     "end_time": "2022-02-20T08:40:57.855415Z",
     "start_time": "2022-02-20T08:40:57.282986Z"
    }
   },
   "outputs": [],
   "source": [
    "# 直方图\n",
    "%matplotlib inline\n",
    "# import matplotlib.pyplot as plt\n",
    "from bqplot import pyplot as plt\n",
    "from bqplot import Bars\n",
    "\n",
    "index = 'NDWI'\n",
    "region = 'region A'\n",
    "histogram = image.select(index).reduceRegion(**{\n",
    "  'reducer': ee.Reducer.histogram(100),\n",
    "  'geometry': image.geometry(),\n",
    "  'scale': 30,\n",
    "  'bestEffort': True\n",
    "})\n",
    "\n",
    "hist_dict = histogram.getInfo()\n",
    "x = hist_dict[index]['bucketMeans']\n",
    "y = hist_dict[index]['histogram']\n",
    "\n",
    "fig = plt.figure(title = region + ' / '+ index)\n",
    "axes_options = {\"x\": dict(label = index + ' value')}\n",
    "line = plt.bar(x, y,axes_options=axes_options)\n",
    "line.scales[\"x\"].min = -1\n",
    "line.scales[\"x\"].max = 1\n",
    "plt.show()"
   ]
  },
  {
   "cell_type": "code",
   "execution_count": null,
   "metadata": {
    "ExecuteTime": {
     "end_time": "2022-02-20T08:42:21.105328Z",
     "start_time": "2022-02-20T08:42:20.074110Z"
    }
   },
   "outputs": [],
   "source": [
    "# 直方图\n",
    "%matplotlib inline\n",
    "# import matplotlib.pyplot as plt\n",
    "from bqplot import pyplot as plt\n",
    "from bqplot import Bars\n",
    "\n",
    "index = 'mNDWI'\n",
    "region = 'region A'\n",
    "histogram = image.select(index).reduceRegion(**{\n",
    "  'reducer': ee.Reducer.histogram(100),\n",
    "  'geometry': image.geometry(),\n",
    "  'scale': 30,\n",
    "  'bestEffort': True\n",
    "})\n",
    "\n",
    "hist_dict = histogram.getInfo()\n",
    "x = hist_dict[index]['bucketMeans']\n",
    "y = hist_dict[index]['histogram']\n",
    "\n",
    "fig = plt.figure(title = region + ' / '+ index)\n",
    "axes_options = {\"x\": dict(label = index + ' value')}\n",
    "line = plt.bar(x, y,axes_options=axes_options)\n",
    "line.scales[\"x\"].min = -1\n",
    "line.scales[\"x\"].max = 1\n",
    "plt.show()\n",
    "# fig"
   ]
  },
  {
   "cell_type": "code",
   "execution_count": null,
   "metadata": {},
   "outputs": [],
   "source": []
  },
  {
   "cell_type": "markdown",
   "metadata": {},
   "source": [
    "# k-mean聚类，RF训练"
   ]
  },
  {
   "cell_type": "code",
   "execution_count": null,
   "metadata": {
    "ExecuteTime": {
     "end_time": "2022-02-20T09:34:27.849215Z",
     "start_time": "2022-02-20T09:34:27.839218Z"
    }
   },
   "outputs": [],
   "source": [
    "bands = ['B2', 'B3', 'B4', 'B5', 'B6', 'B7','NDVI','NDWI','mNDWI','CWI','AWEI','EWI','EVI']\n",
    "# cluster与waterclass的对比\n",
    "def Compare(feature):\n",
    "    cluster = ee.Number(feature.get('cluster'))\n",
    "    waterclass = ee.Number(feature.get('waterclass'))\n",
    "    ft = ee.Algorithms.If(cluster.eq(waterclass),feature.set({'eq':1}),feature.set({'eq':0}))\n",
    "    return ft\n",
    "# k-mean聚类\n",
    "def k_mean(sampleSET):\n",
    "    clusterer = ee.Clusterer.wekaKMeans(2).train(sampleSET,bands)\n",
    "    result = sampleSET.cluster(clusterer)\n",
    "    right = result.map(Compare).filter(ee.Filter.eq('eq',0))\n",
    "    error = result.map(Compare).filter(ee.Filter.eq('eq',1))\n",
    "    filtered_sample = ee.FeatureCollection(ee.Algorithms.If(right.size().gt(error.size()),right,error))\n",
    "    return filtered_sample"
   ]
  },
  {
   "cell_type": "code",
   "execution_count": null,
   "metadata": {
    "ExecuteTime": {
     "end_time": "2022-02-20T09:34:28.885935Z",
     "start_time": "2022-02-20T09:34:28.871303Z"
    }
   },
   "outputs": [],
   "source": [
    "region = 'daqing'\n",
    "sample_region = 'DAQING'"
   ]
  },
  {
   "cell_type": "code",
   "execution_count": null,
   "metadata": {
    "ExecuteTime": {
     "end_time": "2022-02-19T13:14:32.948920Z",
     "start_time": "2022-02-19T13:14:30.962821Z"
    }
   },
   "outputs": [],
   "source": [
    "def sumSquare(i,histogram,counts,means,size,mean):\n",
    "    aCounts = counts.slice(0, 0, i)\n",
    "    aCountTotal = aCounts.reduce(ee.Reducer.sum(), [0]).get([0])\n",
    "    aMeans = means.slice(0, 0, i)\n",
    "    aMean = aMeans.multiply(aCounts).reduce(ee.Reducer.sum(), [0]).get([0]).divide(aCountTotal)\n",
    "       \n",
    "    bCounts = counts.slice(0, i, size)\n",
    "    bCountTotal = bCounts.reduce(ee.Reducer.sum(), [0]).get([0])\n",
    "    bMeans = means.slice(0, i, size)\n",
    "    bMean = bMeans.multiply(bCounts).reduce(ee.Reducer.sum(), [0]).get([0]).divide(bCountTotal)\n",
    "\n",
    "    return aCountTotal.multiply(aMean.subtract(mean).pow(2)).add(bCountTotal.multiply(bMean.subtract(mean).pow(2)))\n",
    "# 'B5_histogram'和 polygon、B5 要根据情景进行变更,\n",
    "# Return the DN that maximizes interclass variance in B5 (in the region).\n",
    "\n",
    "def otsu(image,band):\n",
    "    histogram = image.select(band).reduceRegion(**{\n",
    "        'reducer': ee.Reducer.histogram(100),\n",
    "        'geometry': image.geometry(), \n",
    "        'scale': 30,\n",
    "        'bestEffort': True\n",
    "    })\n",
    "    counts = ee.Array(ee.Dictionary(histogram.get(band)).get('histogram'))\n",
    "    means = ee.Array(ee.Dictionary(histogram.get(band)).get('bucketMeans'))\n",
    "    size = means.length().get([0])\n",
    "    mean = means.multiply(counts).reduce(ee.Reducer.sum(), [0]).get([0]).divide(counts.reduce(ee.Reducer.sum(), [0]).get([0]))\n",
    "    \n",
    "    indices = ee.List.sequence(1,size)\n",
    "    # Compute between sum of squares, where each mean partitions the data.\n",
    "    bss = indices.map(lambda i : sumSquare(i,histogram.get(band),counts,means,size,mean))\n",
    "    # Return the mean value corresponding to the maximum BSS.\n",
    "    return means.sort(bss).get([-1])\n",
    "\n",
    "threshold = otsu(image,'AWEI')\n",
    "print(threshold.getInfo())\n",
    "threshold = otsu(image,'NDWI')\n",
    "print(threshold.getInfo())\n",
    "threshold = otsu(image,'mNDWI')\n",
    "print(threshold.getInfo())"
   ]
  },
  {
   "cell_type": "code",
   "execution_count": null,
   "metadata": {},
   "outputs": [],
   "source": []
  },
  {
   "cell_type": "code",
   "execution_count": null,
   "metadata": {
    "ExecuteTime": {
     "end_time": "2022-02-20T09:35:12.920812Z",
     "start_time": "2022-02-20T09:35:12.910811Z"
    }
   },
   "outputs": [],
   "source": [
    "def otsu(histogram):\n",
    "    counts = ee.Array(ee.Dictionary(histogram).get('histogram'))\n",
    "    means = ee.Array(ee.Dictionary(histogram).get('bucketMeans'))\n",
    "    size = means.length().get([0])\n",
    "    total = counts.reduce(ee.Reducer.sum(), [0]).get([0])\n",
    "    sum = means.multiply(counts).reduce(ee.Reducer.sum(), [0]).get([0])\n",
    "    mean = sum.divide(total)\n",
    "\n",
    "    indices = ee.List.sequence(1, size)\n",
    "\n",
    "  # Compute between sum of squares, where each mean partitions the data.\n",
    "\n",
    "    def func_xxx(i):\n",
    "        aCounts = counts.slice(0, 0, i)\n",
    "        aCount = aCounts.reduce(ee.Reducer.sum(), [0]).get([0])\n",
    "        aMeans = means.slice(0, 0, i)\n",
    "        aMean = aMeans.multiply(aCounts) \\\n",
    "            .reduce(ee.Reducer.sum(), [0]).get([0]) \\\n",
    "            .divide(aCount)\n",
    "        bCount = total.subtract(aCount)\n",
    "        bMean = sum.subtract(aCount.multiply(aMean)).divide(bCount)\n",
    "        return aCount.multiply(aMean.subtract(mean).pow(2)).add(\n",
    "              bCount.multiply(bMean.subtract(mean).pow(2)))\n",
    "\n",
    "    bss = indices.map(func_xxx)\n",
    "\n",
    "    # Return the mean value corresponding to the maximum BSS.\n",
    "    return means.sort(bss).get([-1])\n",
    "\n",
    "def otsu_value(image):\n",
    "    histogram = image.select('NDWI').reduceRegion(**{\n",
    "      'reducer': ee.Reducer.histogram(100),\n",
    "      'geometry': image.geometry(),\n",
    "      'scale': 30,\n",
    "      'bestEffort': True\n",
    "    })\n",
    "    threshold = otsu(histogram.get('NDWI'))  \n",
    "    return image.set({\"threshold\": threshold})    "
   ]
  },
  {
   "cell_type": "code",
   "execution_count": null,
   "metadata": {
    "ExecuteTime": {
     "end_time": "2022-02-20T09:35:56.066159Z",
     "start_time": "2022-02-20T09:35:55.473073Z"
    }
   },
   "outputs": [],
   "source": [
    "a = otsu_value(image)\n",
    "print(a.get('threshold').getInfo())"
   ]
  },
  {
   "cell_type": "code",
   "execution_count": null,
   "metadata": {},
   "outputs": [],
   "source": []
  },
  {
   "cell_type": "code",
   "execution_count": null,
   "metadata": {},
   "outputs": [],
   "source": []
  },
  {
   "cell_type": "code",
   "execution_count": null,
   "metadata": {
    "ExecuteTime": {
     "end_time": "2022-02-19T13:16:49.048780Z",
     "start_time": "2022-02-19T13:16:48.426619Z"
    }
   },
   "outputs": [],
   "source": [
    "# ## 方法一\n",
    "# histogram = image.select('NDWI').reduceRegion(**{\n",
    "#   'reducer': ee.Reducer.histogram(100),\n",
    "#   'geometry': image.geometry(),\n",
    "#   'scale': 30,\n",
    "#   'bestEffort': True\n",
    "# })\n",
    "# def otsu(histogram):\n",
    "#     counts = ee.Array(ee.Dictionary(histogram).get('histogram'))\n",
    "#     means = ee.Array(ee.Dictionary(histogram).get('bucketMeans'))\n",
    "#     size = means.length().get([0])\n",
    "#     total = counts.reduce(ee.Reducer.sum(), [0]).get([0])\n",
    "#     sum = means.multiply(counts).reduce(ee.Reducer.sum(), [0]).get([0])\n",
    "#     mean = sum.divide(total)\n",
    "\n",
    "#     indices = ee.List.sequence(1, size)\n",
    "\n",
    "#   # Compute between sum of squares, where each mean partitions the data.\n",
    "\n",
    "#     def func_xxx(i):\n",
    "#         aCounts = counts.slice(0, 0, i)\n",
    "#         aCount = aCounts.reduce(ee.Reducer.sum(), [0]).get([0])\n",
    "#         aMeans = means.slice(0, 0, i)\n",
    "#         aMean = aMeans.multiply(aCounts) \\\n",
    "#             .reduce(ee.Reducer.sum(), [0]).get([0]) \\\n",
    "#             .divide(aCount)\n",
    "#         bCount = total.subtract(aCount)\n",
    "#         bMean = sum.subtract(aCount.multiply(aMean)).divide(bCount)\n",
    "#         return aCount.multiply(aMean.subtract(mean).pow(2)).add(\n",
    "#               bCount.multiply(bMean.subtract(mean).pow(2)))\n",
    "\n",
    "#     bss = indices.map(func_xxx)\n",
    "\n",
    "#     # Return the mean value corresponding to the maximum BSS.\n",
    "#     return means.sort(bss).get([-1])\n",
    "# threshold = otsu(histogram.get('N'))\n",
    "# print('threshold', threshold.getInfo())"
   ]
  },
  {
   "cell_type": "code",
   "execution_count": null,
   "metadata": {},
   "outputs": [],
   "source": []
  },
  {
   "cell_type": "code",
   "execution_count": null,
   "metadata": {},
   "outputs": [],
   "source": []
  },
  {
   "cell_type": "code",
   "execution_count": null,
   "metadata": {},
   "outputs": [],
   "source": [
    "-0.2349105369902031\n",
    "-0.3516368104040866\n",
    "0.11709049858762309"
   ]
  },
  {
   "cell_type": "code",
   "execution_count": null,
   "metadata": {
    "ExecuteTime": {
     "end_time": "2022-02-19T07:18:08.960229Z",
     "start_time": "2022-02-19T07:18:07.253604Z"
    }
   },
   "outputs": [],
   "source": [
    "awei = image.select('AWEI').gt(-0.2349105369902031)\n",
    "Map.addLayer(awei.clip(roi).selfMask(),{'palette':['#16d60a']},'awei')\n",
    "\n",
    "ndwi = image.select('NDWI').gt(-0.3516368104040866)\n",
    "Map.addLayer(ndwi.clip(roi).selfMask(),{'palette':['#7960ff']},'ndwi')\n",
    "\n",
    "mndwi = image.select('mNDWI').gt(0.11709049858762309)\n",
    "Map.addLayer(mndwi.clip(roi).selfMask(),{'palette':['#7960ff']},'mndwi')"
   ]
  },
  {
   "cell_type": "code",
   "execution_count": null,
   "metadata": {
    "ExecuteTime": {
     "end_time": "2022-02-19T07:18:12.930082Z",
     "start_time": "2022-02-19T07:18:11.897105Z"
    }
   },
   "outputs": [],
   "source": [
    "totalSamples = ee.FeatureCollection('users/311605001111/SAMPLE_' + sample_region + '/' + region + '_kmean100_9920' + '_v2')\n",
    "print(totalSamples.size().getInfo())\n",
    "label = 'waterclass'\n",
    "bands = ['B2', 'B3', 'B4', 'B5', 'B6', 'B7','NDVI','NDWI','mNDWI','CWI','AWEI','EWI','EVI']\n",
    "trainedClassifier = ee.Classifier.smileRandomForest(150).train(totalSamples,label,bands)\n",
    "new_result = image.select(bands).classify(trainedClassifier).eq(1).rename('waterclass') \n",
    "Map.addLayer(new_result.clip(roi).selfMask(),{'palette':['blue']},\"new_result\") "
   ]
  },
  {
   "cell_type": "code",
   "execution_count": null,
   "metadata": {
    "ExecuteTime": {
     "end_time": "2022-02-19T07:18:28.242419Z",
     "start_time": "2022-02-19T07:18:16.835660Z"
    }
   },
   "outputs": [],
   "source": [
    "a = ee.FeatureCollection('users/311605001111/auto_sample_awei0/' + region + '_2000')\n",
    "totalSamples = k_mean(a)\n",
    "print(totalSamples.size().getInfo())\n",
    "label = 'waterclass'\n",
    "bands = ['B2', 'B3', 'B4', 'B5', 'B6', 'B7','NDVI','NDWI','mNDWI','CWI','AWEI','EWI','EVI']\n",
    "trainedClassifier2 = ee.Classifier.smileRandomForest(150).train(totalSamples,label,bands)\n",
    "old_result = image.select(bands).classify(trainedClassifier2).eq(1).rename('waterclass') \n",
    "Map.addLayer(old_result.clip(roi).selfMask(),{'palette':['purple']},\"old_result\") "
   ]
  },
  {
   "cell_type": "code",
   "execution_count": null,
   "metadata": {
    "ExecuteTime": {
     "end_time": "2022-02-19T07:18:33.365632Z",
     "start_time": "2022-02-19T07:18:32.775471Z"
    }
   },
   "outputs": [],
   "source": [
    "q = new_result.subtract(mndwi)\n",
    "Map.addLayer(q.clip(roi),{'palette':['red','white','blue']},\"q\") "
   ]
  },
  {
   "cell_type": "code",
   "execution_count": null,
   "metadata": {},
   "outputs": [],
   "source": []
  },
  {
   "cell_type": "code",
   "execution_count": null,
   "metadata": {},
   "outputs": [],
   "source": []
  },
  {
   "cell_type": "code",
   "execution_count": null,
   "metadata": {},
   "outputs": [],
   "source": []
  },
  {
   "cell_type": "code",
   "execution_count": null,
   "metadata": {
    "ExecuteTime": {
     "end_time": "2022-02-11T07:33:51.723506Z",
     "start_time": "2022-02-11T07:33:50.075107Z"
    }
   },
   "outputs": [],
   "source": [
    "awei = image.select('AWEI').gt(0)\n",
    "Map.addLayer(awei.selfMask(),{'palette':['#16d60a']},'awei')\n",
    "\n",
    "ndwi = image.select('NDWI').gt(0)\n",
    "Map.addLayer(ndwi.selfMask(),{'palette':['#7960ff']},'ndwi')\n",
    "\n",
    "mndwi = image.select('mNDWI').gt(0)\n",
    "Map.addLayer(mndwi.selfMask(),{'palette':['#7960ff']},'mndwi')"
   ]
  },
  {
   "cell_type": "markdown",
   "metadata": {},
   "source": [
    "# 制图"
   ]
  },
  {
   "cell_type": "code",
   "execution_count": null,
   "metadata": {},
   "outputs": [],
   "source": [
    "# 120027\n",
    "# re = [114.5845, 30.3420, 114.6457, 30.3818]\n",
    "# re = [123.9587, 46.8551, 123.9959, 46.8764]\n",
    "# re = [124.2623, 46.4508, 124.3289, 46.4910]\n",
    "# re = [124.6407, 46.7487, 124.6622, 46.7698]\n",
    "# re = [124.7252, 46.7461,124.7462, 46.7587]\n",
    "# re = [124.6761, 46.7060,124.6918, 46.7161]\n",
    "# 120028\n",
    "# re = [124.0545, 45.8369, 124.1701, 45.9004]\n",
    "# re = [124.3168, 45.8474, 124.3614, 45.8782]\n",
    "# 119028\n",
    "# re = [124.1115, 45.9352, 124.2177, 46.0075]"
   ]
  },
  {
   "cell_type": "code",
   "execution_count": null,
   "metadata": {
    "ExecuteTime": {
     "end_time": "2022-02-15T07:55:32.961315Z",
     "start_time": "2022-02-15T07:55:32.947353Z"
    }
   },
   "outputs": [],
   "source": [
    "region = 'daqing'\n",
    "sample_region = 'DAQING'"
   ]
  },
  {
   "cell_type": "code",
   "execution_count": null,
   "metadata": {
    "ExecuteTime": {
     "end_time": "2022-02-19T08:06:36.785809Z",
     "start_time": "2022-02-19T08:06:30.027575Z"
    },
    "scrolled": false
   },
   "outputs": [],
   "source": [
    "from matplotlib import pyplot as plt\n",
    "import numpy as np\n",
    "import matplotlib\n",
    "from geemap import cartoee\n",
    "re = [123.9355, 45.8362,125.3055, 46.8762]\n",
    "# re = [124.0277, 46.2409,124.1474, 46.3380]\n",
    "visParams = {'bands': ['B5', 'B4', 'B3'],'min': 0,'max': 3000,'gamma': 1.4}\n",
    "# image = maskSR(water_index(ee.Image('LANDSAT/LC08/C01/T1_SR/LC08_119028_20201111'))).clip(roi)\n",
    "# image = water_index(ee.Image('LANDSAT/LC08/C01/T1_SR/LC08_120028_20150614')).clip(roi)\n",
    "\n",
    "a = ee.Image('LANDSAT/LT05/C01/T1_SR/LT05_119028_20000816').select(['B1', 'B2', 'B3', 'B4', 'B5', 'B7','pixel_qa'],['B2', 'B3', 'B4', 'B5', 'B6', 'B7','pixel_qa'])\n",
    "image = maskSR(water_index(a)).clip(roi)\n",
    "# image = water_index(a).clip(roi)\n",
    "refer_img = image.visualize(**visParams)\n",
    "fig = plt.figure(figsize=(12, 8))\n",
    "ax = cartoee.get_map(refer_img, region=re)\n",
    "cartoee.add_gridlines(ax, interval=[0.3,0.2], linestyle=\":\")\n",
    "ax.set_title(label = 'Raw image (20000816)', fontsize=28)"
   ]
  },
  {
   "cell_type": "code",
   "execution_count": null,
   "metadata": {
    "ExecuteTime": {
     "end_time": "2022-02-19T12:16:25.909490Z",
     "start_time": "2022-02-19T12:15:58.420219Z"
    },
    "scrolled": false
   },
   "outputs": [],
   "source": [
    "from matplotlib import pyplot as plt\n",
    "import numpy as np\n",
    "import matplotlib\n",
    "from geemap import cartoee\n",
    "\n",
    "item = [['new_result','Our result'],['ndwi','NDWI (T=0)'],['mndwi','mNDWI (T=0.118)'],['awei','AWEI (T=-0.235)']]\n",
    "# re = [123.9355, 45.8362,125.3055, 46.8762]\n",
    "re = [124.0277, 46.2409,124.1474, 46.3380]\n",
    "visParams = {'bands': ['B5', 'B4', 'B3'],'min': 0,'max': 3000,'gamma': 1.4}\n",
    "# image = maskSR(water_index(ee.Image('LANDSAT/LC08/C01/T1_SR/LC08_120028_20150614'))).clip(roi)\n",
    "# image = water_index(ee.Image('LANDSAT/LC08/C01/T1_SR/LC08_120028_20150614')).clip(roi)\n",
    "\n",
    "a = ee.Image('LANDSAT/LT05/C01/T1_SR/LT05_119028_20000816').select(['B1', 'B2', 'B3', 'B4', 'B5', 'B7','pixel_qa'],['B2', 'B3', 'B4', 'B5', 'B6', 'B7','pixel_qa'])\n",
    "# image = maskSR(water_index(a)).clip(roi)\n",
    "image = water_index(a).clip(roi)\n",
    "for it in item:\n",
    "    if it[0] == 'new_result':\n",
    "        totalSamples = ee.FeatureCollection('users/311605001111/SAMPLE_' + sample_region + '/' + region + '_kmean100_9920' + '_v2')\n",
    "        label = 'waterclass'\n",
    "        bands = ['B2', 'B3', 'B4', 'B5', 'B6', 'B7','NDVI','NDWI','mNDWI','CWI','AWEI','EWI','EVI']\n",
    "        trainedClassifier = ee.Classifier.smileRandomForest(150).train(totalSamples,label,bands)\n",
    "        classify_result = image.select(bands).classify(trainedClassifier).eq(1).rename('waterclass')  \n",
    "    elif it[0] == 'ndwi':\n",
    "        classify_result = image.select('NDWI').gt(0)\n",
    "    elif it[0] == 'mndwi':\n",
    "        classify_result = image.select('mNDWI').gt(0.11709049858762309)\n",
    "    elif it[0] == 'awei':\n",
    "        classify_result = image.select('AWEI').gt(-0.2349105369902031)\n",
    "    refer_img = image.visualize(**visParams)\n",
    "    pw = classify_result.selfMask().visualize(**{'palette':['blue']})\n",
    "    blend = refer_img.blend(pw)\n",
    "    fig = plt.figure(figsize=(12, 8))\n",
    "    ax = cartoee.get_map(blend, region=re)\n",
    "    cartoee.add_gridlines(ax, interval=[0.3,0.2], linestyle=\":\")\n",
    "    ax.set_title(label = it[1], fontsize=28)"
   ]
  },
  {
   "cell_type": "code",
   "execution_count": null,
   "metadata": {},
   "outputs": [],
   "source": []
  },
  {
   "cell_type": "code",
   "execution_count": null,
   "metadata": {},
   "outputs": [],
   "source": []
  }
 ],
 "metadata": {
  "hide_input": false,
  "kernelspec": {
   "display_name": "Python 3 (ipykernel)",
   "language": "python",
   "name": "python3"
  },
  "language_info": {
   "codemirror_mode": {
    "name": "ipython",
    "version": 3
   },
   "file_extension": ".py",
   "mimetype": "text/x-python",
   "name": "python",
   "nbconvert_exporter": "python",
   "pygments_lexer": "ipython3",
   "version": "3.8.12"
  },
  "toc": {
   "base_numbering": 1,
   "nav_menu": {},
   "number_sections": true,
   "sideBar": true,
   "skip_h1_title": false,
   "title_cell": "Table of Contents",
   "title_sidebar": "Contents",
   "toc_cell": false,
   "toc_position": {
    "height": "calc(100% - 180px)",
    "left": "10px",
    "top": "150px",
    "width": "263.097px"
   },
   "toc_section_display": true,
   "toc_window_display": false
  },
  "varInspector": {
   "cols": {
    "lenName": 16,
    "lenType": 16,
    "lenVar": 40
   },
   "kernels_config": {
    "python": {
     "delete_cmd_postfix": "",
     "delete_cmd_prefix": "del ",
     "library": "var_list.py",
     "varRefreshCmd": "print(var_dic_list())"
    },
    "r": {
     "delete_cmd_postfix": ") ",
     "delete_cmd_prefix": "rm(",
     "library": "var_list.r",
     "varRefreshCmd": "cat(var_dic_list()) "
    }
   },
   "types_to_exclude": [
    "module",
    "function",
    "builtin_function_or_method",
    "instance",
    "_Feature"
   ],
   "window_display": false
  }
 },
 "nbformat": 4,
 "nbformat_minor": 4
}
