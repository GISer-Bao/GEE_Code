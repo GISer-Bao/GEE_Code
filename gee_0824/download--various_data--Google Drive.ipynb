{
 "cells": [
  {
   "cell_type": "markdown",
   "metadata": {},
   "source": [
    "NOTE : Considering some of GEE's user limits and avoiding some system errors, such as \"ERROR: user memory limit exceeded\",\"TimeoutError\", etc,we will process or download some data beforehand and upload it to GEE Assets, where it will be called up when needed."
   ]
  },
  {
   "cell_type": "markdown",
   "metadata": {},
   "source": [
    "Special reminder: the following variables or parameters need to be modified\n",
    "\n",
    "Must be amended : \"roi\",\"region\",\"elevation\"\n",
    "\n",
    "May have to be modified (Depending on your actual situation) : "
   ]
  },
  {
   "cell_type": "code",
   "execution_count": 1,
   "metadata": {
    "ExecuteTime": {
     "end_time": "2022-04-06T14:09:40.932200Z",
     "start_time": "2022-04-06T14:09:40.915216Z"
    }
   },
   "outputs": [],
   "source": [
    "#### If you are trying to use geemap in coutries where Gooogle Services are blocked (e.g., China), \n",
    "#### you will need a VPN,then replace \"10809\" with your \"proxy port number\"to connect to Earth Engine servers.\n",
    "#### Otherwise, you might encounter a connection timeout issue.\n",
    "\n",
    "import os\n",
    "os.environ['HTTP_PROXY'] = \"http://127.0.0.1:10809\"\n",
    "os.environ['HTTPS_PROXY'] = \"http://127.0.0.1:10809\""
   ]
  },
  {
   "cell_type": "code",
   "execution_count": 2,
   "metadata": {
    "ExecuteTime": {
     "end_time": "2022-04-06T14:09:47.238905Z",
     "start_time": "2022-04-06T14:09:41.341967Z"
    },
    "scrolled": false
   },
   "outputs": [
    {
     "data": {
      "application/vnd.jupyter.widget-view+json": {
       "model_id": "5da627a083564571b8613cb18e4cb0aa",
       "version_major": 2,
       "version_minor": 0
      },
      "text/plain": [
       "Map(center=[20, 0], controls=(WidgetControl(options=['position', 'transparent_bg'], widget=HBox(children=(Togg…"
      ]
     },
     "metadata": {},
     "output_type": "display_data"
    }
   ],
   "source": [
    "#### Initializing GEE\n",
    "\n",
    "import geemap\n",
    "import ee\n",
    "Map=geemap.Map()\n",
    "Map"
   ]
  },
  {
   "cell_type": "code",
   "execution_count": 11,
   "metadata": {
    "ExecuteTime": {
     "end_time": "2022-04-06T14:12:49.805270Z",
     "start_time": "2022-04-06T14:12:49.130637Z"
    }
   },
   "outputs": [],
   "source": [
    "## 大庆市\n",
    "# region = 'daqing'\n",
    "# sample_region = 'DAQING'\n",
    "# region_order = 'region_A'\n",
    "# roi = ee.Geometry.Rectangle([123.9355, 45.8362,125.3055, 46.8762])\n",
    "## 天津市\n",
    "# region = 'tianjin'\n",
    "# sample_region = 'TIANJIN'\n",
    "# region_order = 'region_B'\n",
    "# roi = ee.Geometry.Rectangle([115.9244, 38.6272,117.4944,39.6372])\n",
    "## 武汉市\n",
    "# region = 'wuhan'\n",
    "# sample_region = 'WUHAN'\n",
    "# region_order = 'region_C'\n",
    "# roi = ee.Geometry.Rectangle([113.7393, 29.8642,115.0993, 30.9242])\n",
    "## 珠三角\n",
    "# region = 'prd'\n",
    "# sample_region = 'PRD'\n",
    "# region_order = 'region_D'\n",
    "# roi = ee.Geometry.Rectangle([112.7614, 22.2347,114.0514, 23.2547])\n",
    "## 青藏高原\n",
    "region = 'tibet'\n",
    "sample_region = 'TIBET'\n",
    "region_order = 'region_E'\n",
    "roi = ee.Geometry.Rectangle([89.8826, 34.6579,91.3626, 35.8279])\n",
    "Map.addLayer(roi, {}, \"roi\")\n",
    "Map.centerObject(roi,7)"
   ]
  },
  {
   "cell_type": "code",
   "execution_count": null,
   "metadata": {},
   "outputs": [],
   "source": []
  },
  {
   "cell_type": "markdown",
   "metadata": {},
   "source": [
    "# 下载 water occurrence "
   ]
  },
  {
   "cell_type": "markdown",
   "metadata": {
    "heading_collapsed": true
   },
   "source": [
    "## water occurrence"
   ]
  },
  {
   "cell_type": "code",
   "execution_count": null,
   "metadata": {
    "ExecuteTime": {
     "end_time": "2022-04-04T02:30:10.834441Z",
     "start_time": "2022-04-04T02:30:06.980186Z"
    },
    "hidden": true
   },
   "outputs": [],
   "source": [
    "## water occurrence with  correction\n",
    "year_list = [2000,2005,2010,2015,2020,9920]\n",
    "# year_list = [9920]\n",
    "for year in year_list:\n",
    "    print(year)\n",
    "    data_id = 'users/311605001111/WF/'+ region + '_WF_' + str(year)\n",
    "    waterfrequency = ee.Image(data_id)\n",
    "    \n",
    "    dataset_id = region_order + '_WO_' + str(year)\n",
    "    folder = 'Water_occurrence'\n",
    "    task = ee.batch.Export.image.toDrive(**{\n",
    "        'image': waterfrequency,\n",
    "        'description': dataset_id,\n",
    "        'folder': folder,\n",
    "        'scale': 30,\n",
    "        'region': roi,\n",
    "        'maxPixels': 1e13,\n",
    "    })\n",
    "    task.start()"
   ]
  },
  {
   "cell_type": "code",
   "execution_count": null,
   "metadata": {
    "ExecuteTime": {
     "end_time": "2022-04-04T02:30:14.157694Z",
     "start_time": "2022-04-04T02:30:10.928337Z"
    },
    "hidden": true
   },
   "outputs": [],
   "source": [
    "## water occurrence with w/o correction\n",
    "year_list = [2000,2005,2010,2015,2020]\n",
    "for year in year_list:\n",
    "    print(year)\n",
    "    data_id = 'users/311605001111/WF_nocorrect/'+ region + '_WF_' + str(year)\n",
    "    waterfrequency = ee.Image(data_id)\n",
    "    \n",
    "    dataset_id = region_order + '_WO_uncorrected_' + str(year)\n",
    "    folder = 'Water_occurrence_uncorrected'\n",
    "    task = ee.batch.Export.image.toDrive(**{\n",
    "        'image': waterfrequency,\n",
    "        'description': dataset_id,\n",
    "        'folder': folder,\n",
    "        'scale': 30,\n",
    "        'region': roi,\n",
    "        'maxPixels': 1e13,\n",
    "    })\n",
    "    task.start()"
   ]
  },
  {
   "cell_type": "code",
   "execution_count": null,
   "metadata": {
    "hidden": true
   },
   "outputs": [],
   "source": []
  },
  {
   "cell_type": "markdown",
   "metadata": {
    "heading_collapsed": true
   },
   "source": [
    "## valid pixels"
   ]
  },
  {
   "cell_type": "code",
   "execution_count": null,
   "metadata": {
    "hidden": true
   },
   "outputs": [],
   "source": [
    "# users/311605001111/WP-VP/wuhan_VP_2020"
   ]
  },
  {
   "cell_type": "code",
   "execution_count": null,
   "metadata": {
    "ExecuteTime": {
     "end_time": "2022-04-05T01:35:13.520766Z",
     "start_time": "2022-04-05T01:35:10.410671Z"
    },
    "hidden": true
   },
   "outputs": [],
   "source": [
    "## water occurrence with w/o correction\n",
    "year_list = [2000,2005,2010,2015,2020]\n",
    "for year in year_list:\n",
    "    print(year)\n",
    "    VP_id = 'users/311605001111/WP-VP/'+ region + '_VP_' + str(year)\n",
    "    VP = ee.Image(VP_id).float()    \n",
    "\n",
    "    dataset_id = region_order + '_VP_' + str(year)\n",
    "    folder = 'Valid_Pixels'\n",
    "    task1 = ee.batch.Export.image.toDrive(**{\n",
    "        'image': VP,\n",
    "        'description': dataset_id,\n",
    "        'folder': folder,\n",
    "        'scale': 30,\n",
    "        'region': roi,\n",
    "        'maxPixels': 1e13,\n",
    "    })\n",
    "    task1.start()"
   ]
  },
  {
   "cell_type": "code",
   "execution_count": null,
   "metadata": {
    "ExecuteTime": {
     "end_time": "2022-04-05T01:30:59.124564Z",
     "start_time": "2022-04-05T01:30:58.433420Z"
    },
    "hidden": true
   },
   "outputs": [],
   "source": [
    "## water occurrence with w/o correction\n",
    "# year_list = [2000,2005,2010,2015,2020]\n",
    "year_list = [2020]\n",
    "for year in year_list:\n",
    "    print(year)\n",
    "    WP_id = 'users/311605001111/WP-VP/'+ region + '_WP_' + str(year)\n",
    "    WP = ee.Image(WP_id).float()    \n",
    "\n",
    "    dataset_id = region_order + '_WP_' + str(year)\n",
    "    folder = 'Water_Pixels'\n",
    "    task2 = ee.batch.Export.image.toDrive(**{\n",
    "        'image': WP,\n",
    "        'description': dataset_id,\n",
    "        'folder': folder,\n",
    "        'scale': 30,\n",
    "        'region': roi,\n",
    "        'maxPixels': 1e13,\n",
    "    })\n",
    "    task2.start()"
   ]
  },
  {
   "cell_type": "code",
   "execution_count": null,
   "metadata": {
    "ExecuteTime": {
     "end_time": "2022-04-04T05:54:29.092458Z",
     "start_time": "2022-04-04T05:54:29.078285Z"
    },
    "hidden": true
   },
   "outputs": [],
   "source": [
    "# users/311605001111/WP-VP-nocorrect/daqing_VP_2010"
   ]
  },
  {
   "cell_type": "code",
   "execution_count": null,
   "metadata": {
    "ExecuteTime": {
     "end_time": "2022-04-05T01:32:36.824532Z",
     "start_time": "2022-04-05T01:32:33.672891Z"
    },
    "hidden": true
   },
   "outputs": [],
   "source": [
    "## water occurrence with w/o correction\n",
    "year_list = [2000,2005,2010,2015,2020]\n",
    "for year in year_list:\n",
    "    print(year)\n",
    "    VP_id = 'users/311605001111/WP-VP-nocorrect/'+ region + '_VP_' + str(year)\n",
    "    VP = ee.Image(VP_id).float()\n",
    "    \n",
    "    dataset_id = region_order + '_VP_uncorrected_' + str(year)\n",
    "    folder = 'Valid_Pixels_uncorrected'\n",
    "    task = ee.batch.Export.image.toDrive(**{\n",
    "        'image': VP,\n",
    "        'description': dataset_id,\n",
    "        'folder': folder,\n",
    "        'scale': 30,\n",
    "        'region': roi,\n",
    "        'maxPixels': 1e13,\n",
    "    })\n",
    "    task.start()"
   ]
  },
  {
   "cell_type": "code",
   "execution_count": null,
   "metadata": {
    "ExecuteTime": {
     "end_time": "2022-04-05T01:32:40.148158Z",
     "start_time": "2022-04-05T01:32:37.074192Z"
    },
    "hidden": true
   },
   "outputs": [],
   "source": [
    "## water occurrence with w/o correction\n",
    "year_list = [2000,2005,2010,2015,2020]\n",
    "for year in year_list:\n",
    "    print(year)\n",
    "    WP_id = 'users/311605001111/WP-VP-nocorrect/'+ region + '_WP_' + str(year)\n",
    "    WP = ee.Image(WP_id).float()\n",
    "    \n",
    "    dataset_id = region_order + '_WP_uncorrected_' + str(year)\n",
    "    folder = 'Water_Pixels_uncorrected'\n",
    "    task = ee.batch.Export.image.toDrive(**{\n",
    "        'image': WP,\n",
    "        'description': dataset_id,\n",
    "        'folder': folder,\n",
    "        'scale': 30,\n",
    "        'region': roi,\n",
    "        'maxPixels': 1e13,\n",
    "    })\n",
    "    task.start()"
   ]
  },
  {
   "cell_type": "markdown",
   "metadata": {},
   "source": [
    "## samples"
   ]
  },
  {
   "cell_type": "code",
   "execution_count": null,
   "metadata": {
    "ExecuteTime": {
     "end_time": "2022-04-06T07:30:13.315167Z",
     "start_time": "2022-04-06T07:30:07.277109Z"
    }
   },
   "outputs": [],
   "source": [
    "## 验证数据集精度\n",
    "year_list = [1999,2004,2009,2014,2019]\n",
    "for year in year_list:\n",
    "    data_id = 'users/311605001111/man_sample_200/' + sample_region + str(year)\n",
    "    samples = ee.FeatureCollection(data_id)\n",
    "    print(samples.size().getInfo())\n",
    "    dataset_id = region_order + '_' + str(year)\n",
    "    folder = 'Validation_points_for_auto-construction_sample_sets'\n",
    "\n",
    "    task = ee.batch.Export.table.toDrive(**{\n",
    "        'collection': samples,\n",
    "        'description':dataset_id,\n",
    "        'folder': folder,\n",
    "        'fileFormat': 'shp',\n",
    "    })\n",
    "    task.start()"
   ]
  },
  {
   "cell_type": "code",
   "execution_count": null,
   "metadata": {},
   "outputs": [],
   "source": []
  },
  {
   "cell_type": "code",
   "execution_count": 12,
   "metadata": {
    "ExecuteTime": {
     "end_time": "2022-04-06T14:12:56.890085Z",
     "start_time": "2022-04-06T14:12:52.099233Z"
    }
   },
   "outputs": [
    {
     "name": "stdout",
     "output_type": "stream",
     "text": [
      "1000\n",
      "1000\n",
      "1000\n",
      "1000\n",
      "1000\n"
     ]
    }
   ],
   "source": [
    "## 验证产品精度\n",
    "year_list = [2000,2005,2010,2015,2020]\n",
    "for year in year_list:\n",
    "    data_id = 'users/311605001111/man_sample_1000/' + sample_region + str(year)\n",
    "    samples = ee.FeatureCollection(data_id)\n",
    "    print(samples.size().getInfo())\n",
    "    dataset_id = region_order + '_' + str(year)\n",
    "    folder = 'Validation_sample_sets'\n",
    "\n",
    "    task = ee.batch.Export.table.toDrive(**{\n",
    "        'collection': samples,\n",
    "        'description':dataset_id,\n",
    "        'folder': folder,\n",
    "        'fileFormat': 'shp',\n",
    "    })\n",
    "    task.start()"
   ]
  },
  {
   "cell_type": "code",
   "execution_count": null,
   "metadata": {},
   "outputs": [],
   "source": []
  },
  {
   "cell_type": "code",
   "execution_count": null,
   "metadata": {
    "ExecuteTime": {
     "end_time": "2022-04-06T07:50:54.781837Z",
     "start_time": "2022-04-06T07:50:48.813439Z"
    }
   },
   "outputs": [],
   "source": [
    "## 训练样本\n",
    "year_list = [2000,2005,2010,2015,2020]\n",
    "item = [['region_A','daqing','DAQING'],['region_B','tianjin','TIANJIN'],['region_C','wuhan','WUHAN'],['region_D','prd','PRD'],['region_E','tibet','TIBET']]\n",
    "for it in item:\n",
    "    \n",
    "    data_id = 'users/311605001111/SAMPLE_' + it[2] + '/' + it[1] + '_kmean100_9920_all'\n",
    "    samples = ee.FeatureCollection(data_id)\n",
    "    print(samples.size().getInfo())\n",
    "    dataset_id = it[0] + '_9920'\n",
    "    folder =  'training_sample_sets'\n",
    "\n",
    "    task = ee.batch.Export.table.toDrive(**{\n",
    "        'collection': samples,\n",
    "        'description':dataset_id,\n",
    "        'folder': folder,\n",
    "        'fileFormat': 'shp',\n",
    "    })\n",
    "    task.start()"
   ]
  },
  {
   "cell_type": "code",
   "execution_count": null,
   "metadata": {},
   "outputs": [],
   "source": []
  }
 ],
 "metadata": {
  "hide_input": false,
  "kernelspec": {
   "display_name": "Python 3 (ipykernel)",
   "language": "python",
   "name": "python3"
  },
  "language_info": {
   "codemirror_mode": {
    "name": "ipython",
    "version": 3
   },
   "file_extension": ".py",
   "mimetype": "text/x-python",
   "name": "python",
   "nbconvert_exporter": "python",
   "pygments_lexer": "ipython3",
   "version": "3.8.12"
  },
  "toc": {
   "base_numbering": 1,
   "nav_menu": {},
   "number_sections": true,
   "sideBar": true,
   "skip_h1_title": false,
   "title_cell": "Table of Contents",
   "title_sidebar": "Contents",
   "toc_cell": false,
   "toc_position": {
    "height": "calc(100% - 180px)",
    "left": "10px",
    "top": "150px",
    "width": "263.097px"
   },
   "toc_section_display": true,
   "toc_window_display": false
  },
  "varInspector": {
   "cols": {
    "lenName": 16,
    "lenType": 16,
    "lenVar": 40
   },
   "kernels_config": {
    "python": {
     "delete_cmd_postfix": "",
     "delete_cmd_prefix": "del ",
     "library": "var_list.py",
     "varRefreshCmd": "print(var_dic_list())"
    },
    "r": {
     "delete_cmd_postfix": ") ",
     "delete_cmd_prefix": "rm(",
     "library": "var_list.r",
     "varRefreshCmd": "cat(var_dic_list()) "
    }
   },
   "types_to_exclude": [
    "module",
    "function",
    "builtin_function_or_method",
    "instance",
    "_Feature"
   ],
   "window_display": false
  }
 },
 "nbformat": 4,
 "nbformat_minor": 4
}
