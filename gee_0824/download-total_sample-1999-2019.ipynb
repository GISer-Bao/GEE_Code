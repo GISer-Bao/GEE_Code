{
 "cells": [
  {
   "cell_type": "code",
   "execution_count": 1,
   "id": "cfadc710",
   "metadata": {
    "ExecuteTime": {
     "end_time": "2022-04-06T07:30:55.451158Z",
     "start_time": "2022-04-06T07:30:55.438531Z"
    }
   },
   "outputs": [],
   "source": [
    "import os\n",
    "os.environ['HTTP_PROXY'] = \"http://127.0.0.1:10809\"\n",
    "os.environ['HTTPS_PROXY'] = \"http://127.0.0.1:10809\""
   ]
  },
  {
   "cell_type": "code",
   "execution_count": 2,
   "id": "787205e4",
   "metadata": {
    "ExecuteTime": {
     "end_time": "2022-04-06T07:31:00.958249Z",
     "start_time": "2022-04-06T07:30:55.732592Z"
    }
   },
   "outputs": [
    {
     "data": {
      "application/vnd.jupyter.widget-view+json": {
       "model_id": "d845b545e0a3440ea2df51348feca058",
       "version_major": 2,
       "version_minor": 0
      },
      "text/plain": [
       "Map(center=[20, 0], controls=(WidgetControl(options=['position', 'transparent_bg'], widget=HBox(children=(Togg…"
      ]
     },
     "metadata": {},
     "output_type": "display_data"
    }
   ],
   "source": [
    "import geemap\n",
    "import ee\n",
    "Map=geemap.Map()\n",
    "Map"
   ]
  },
  {
   "cell_type": "code",
   "execution_count": 3,
   "id": "2c7a52ce",
   "metadata": {
    "ExecuteTime": {
     "end_time": "2022-04-06T07:31:07.149945Z",
     "start_time": "2022-04-06T07:31:07.131992Z"
    }
   },
   "outputs": [],
   "source": [
    "# 定义参数\n",
    "# region = 'daqing'\n",
    "# sample_region = 'DAQING'\n",
    "# region = 'tianjin'\n",
    "# sample_region = 'TIANJIN'\n",
    "region = 'wuhan'\n",
    "sample_region = 'WUHAN'\n",
    "# region = 'prd'\n",
    "# sample_region = 'PRD'\n",
    "# region = 'tibet'\n",
    "# sample_region = 'TIBET'"
   ]
  },
  {
   "cell_type": "code",
   "execution_count": null,
   "id": "87b247de",
   "metadata": {},
   "outputs": [],
   "source": []
  },
  {
   "cell_type": "markdown",
   "id": "5b123a0f",
   "metadata": {},
   "source": [
    "# "
   ]
  },
  {
   "cell_type": "markdown",
   "id": "f063863d",
   "metadata": {},
   "source": [
    "## 1999"
   ]
  },
  {
   "cell_type": "code",
   "execution_count": 9,
   "id": "37947a43",
   "metadata": {
    "ExecuteTime": {
     "end_time": "2022-04-06T07:32:22.234344Z",
     "start_time": "2022-04-06T07:32:21.221847Z"
    }
   },
   "outputs": [
    {
     "name": "stdout",
     "output_type": "stream",
     "text": [
      "3591\n",
      "200\n",
      "9\n"
     ]
    }
   ],
   "source": [
    "sample1999 = ee.FeatureCollection('users/311605001111/SAMPLE_' + sample_region + '/' + region + '1999')\n",
    "validation_sample1999 = ee.FeatureCollection('users/311605001111/validation_point_200/' + sample_region + '1999')\n",
    "\n",
    "print(sample1999.size().getInfo())\n",
    "print(validation_sample1999.size().getInfo())\n",
    "\n",
    "image_list = validation_sample1999.distinct('Image_id').aggregate_array('Image_id').getInfo()\n",
    "print(len(image_list))"
   ]
  },
  {
   "cell_type": "code",
   "execution_count": 10,
   "id": "ae36d905",
   "metadata": {
    "ExecuteTime": {
     "end_time": "2022-04-06T07:32:23.498622Z",
     "start_time": "2022-04-06T07:32:22.346318Z"
    }
   },
   "outputs": [
    {
     "name": "stdout",
     "output_type": "stream",
     "text": [
      "3591\n"
     ]
    }
   ],
   "source": [
    "filter_points = sample1999.filter(ee.Filter.neq('Image_id',image_list[0]))\\\n",
    "                          .filter(ee.Filter.neq('Image_id',image_list[1]))\\\n",
    "                          .filter(ee.Filter.neq('Image_id',image_list[2]))\\\n",
    "                          .filter(ee.Filter.neq('Image_id',image_list[3]))\\\n",
    "                          .filter(ee.Filter.neq('Image_id',image_list[4]))\\\n",
    "                          .filter(ee.Filter.neq('Image_id',image_list[5]))\\\n",
    "                          .filter(ee.Filter.neq('Image_id',image_list[6]))\\\n",
    "                          .filter(ee.Filter.neq('Image_id',image_list[7]))\\\n",
    "                          .filter(ee.Filter.neq('Image_id',image_list[8]))\n",
    "\n",
    "id_list = validation_sample1999.distinct('Image_id').aggregate_array('Image_id')\n",
    "remian_points = ee.FeatureCollection(id_list.map(lambda i : sample1999.filter(ee.Filter.eq('Image_id',i)))).flatten()\n",
    "remian_points2 = remian_points.randomColumn('random',1,'uniform').sort('random').limit(remian_points.size().getInfo()-200)\n",
    "total_points1999 = ee.FeatureCollection([filter_points,remian_points2,validation_sample1999]).flatten()\n",
    "print(total_points1999.size().getInfo())"
   ]
  },
  {
   "cell_type": "code",
   "execution_count": null,
   "id": "1c1246b4",
   "metadata": {},
   "outputs": [],
   "source": []
  },
  {
   "cell_type": "markdown",
   "id": "86688f0f",
   "metadata": {},
   "source": [
    "## 2004"
   ]
  },
  {
   "cell_type": "code",
   "execution_count": 11,
   "id": "9bc60f5d",
   "metadata": {
    "ExecuteTime": {
     "end_time": "2022-04-06T07:32:24.982938Z",
     "start_time": "2022-04-06T07:32:23.626353Z"
    }
   },
   "outputs": [
    {
     "name": "stdout",
     "output_type": "stream",
     "text": [
      "3934\n",
      "200\n",
      "13\n"
     ]
    }
   ],
   "source": [
    "sample2004 = ee.FeatureCollection('users/311605001111/SAMPLE_' + sample_region + '/' + region + '2004')\n",
    "validation_sample2004 = ee.FeatureCollection('users/311605001111/validation_point_200/' + sample_region + '2004')\n",
    "\n",
    "print(sample2004.size().getInfo())\n",
    "print(validation_sample2004.size().getInfo())\n",
    "\n",
    "image_list = validation_sample2004.distinct('Image_id').aggregate_array('Image_id').getInfo()\n",
    "print(len(image_list))"
   ]
  },
  {
   "cell_type": "code",
   "execution_count": 12,
   "id": "32351a1a",
   "metadata": {
    "ExecuteTime": {
     "end_time": "2022-04-06T07:32:26.979370Z",
     "start_time": "2022-04-06T07:32:25.093643Z"
    }
   },
   "outputs": [
    {
     "name": "stdout",
     "output_type": "stream",
     "text": [
      "3934\n"
     ]
    }
   ],
   "source": [
    "filter_points = sample2004.filter(ee.Filter.neq('Image_id',image_list[0]))\\\n",
    "                          .filter(ee.Filter.neq('Image_id',image_list[1]))\\\n",
    "                          .filter(ee.Filter.neq('Image_id',image_list[2]))\\\n",
    "                          .filter(ee.Filter.neq('Image_id',image_list[3]))\\\n",
    "                          .filter(ee.Filter.neq('Image_id',image_list[4]))\\\n",
    "                          .filter(ee.Filter.neq('Image_id',image_list[5]))\\\n",
    "                          .filter(ee.Filter.neq('Image_id',image_list[6]))\\\n",
    "                          .filter(ee.Filter.neq('Image_id',image_list[7]))\\\n",
    "                          .filter(ee.Filter.neq('Image_id',image_list[8]))\\\n",
    "                          .filter(ee.Filter.neq('Image_id',image_list[9]))\\\n",
    "                          .filter(ee.Filter.neq('Image_id',image_list[10]))\\\n",
    "                          .filter(ee.Filter.neq('Image_id',image_list[11]))\\\n",
    "                          .filter(ee.Filter.neq('Image_id',image_list[12]))\n",
    "\n",
    "id_list = validation_sample2004.distinct('Image_id').aggregate_array('Image_id')\n",
    "remian_points = ee.FeatureCollection(id_list.map(lambda i : sample2004.filter(ee.Filter.eq('Image_id',i)))).flatten()\n",
    "remian_points2 = remian_points.randomColumn('random',1,'uniform').sort('random').limit(remian_points.size().getInfo()-200)\n",
    "total_points2004 = ee.FeatureCollection([filter_points,remian_points2,validation_sample2004]).flatten()\n",
    "print(total_points2004.size().getInfo())"
   ]
  },
  {
   "cell_type": "code",
   "execution_count": null,
   "id": "62e354be",
   "metadata": {},
   "outputs": [],
   "source": []
  },
  {
   "cell_type": "markdown",
   "id": "93b26027",
   "metadata": {},
   "source": [
    "## 2009"
   ]
  },
  {
   "cell_type": "code",
   "execution_count": 13,
   "id": "aa29a09c",
   "metadata": {
    "ExecuteTime": {
     "end_time": "2022-04-06T07:32:28.242367Z",
     "start_time": "2022-04-06T07:32:27.214204Z"
    }
   },
   "outputs": [
    {
     "name": "stdout",
     "output_type": "stream",
     "text": [
      "3950\n",
      "200\n",
      "13\n"
     ]
    }
   ],
   "source": [
    "sample2009 = ee.FeatureCollection('users/311605001111/SAMPLE_' + sample_region + '/' + region + '2009')\n",
    "validation_sample2009 = ee.FeatureCollection('users/311605001111/validation_point_200/' + sample_region + '2009')\n",
    "\n",
    "print(sample2009.size().getInfo())\n",
    "print(validation_sample2009.size().getInfo())\n",
    "\n",
    "image_list = validation_sample2009.distinct('Image_id').aggregate_array('Image_id').getInfo()\n",
    "print(len(image_list))"
   ]
  },
  {
   "cell_type": "code",
   "execution_count": 14,
   "id": "7633d989",
   "metadata": {
    "ExecuteTime": {
     "end_time": "2022-04-06T07:32:29.489592Z",
     "start_time": "2022-04-06T07:32:28.461055Z"
    }
   },
   "outputs": [
    {
     "name": "stdout",
     "output_type": "stream",
     "text": [
      "3950\n"
     ]
    }
   ],
   "source": [
    "filter_points = sample2009.filter(ee.Filter.neq('Image_id',image_list[0]))\\\n",
    "                          .filter(ee.Filter.neq('Image_id',image_list[1]))\\\n",
    "                          .filter(ee.Filter.neq('Image_id',image_list[2]))\\\n",
    "                          .filter(ee.Filter.neq('Image_id',image_list[3]))\\\n",
    "                          .filter(ee.Filter.neq('Image_id',image_list[4]))\\\n",
    "                          .filter(ee.Filter.neq('Image_id',image_list[5]))\\\n",
    "                          .filter(ee.Filter.neq('Image_id',image_list[6]))\\\n",
    "                          .filter(ee.Filter.neq('Image_id',image_list[7]))\\\n",
    "                          .filter(ee.Filter.neq('Image_id',image_list[8]))\\\n",
    "                          .filter(ee.Filter.neq('Image_id',image_list[9]))\\\n",
    "                          .filter(ee.Filter.neq('Image_id',image_list[10]))\\\n",
    "                          .filter(ee.Filter.neq('Image_id',image_list[11]))\\\n",
    "                          .filter(ee.Filter.neq('Image_id',image_list[12]))\n",
    "\n",
    "id_list = validation_sample2009.distinct('Image_id').aggregate_array('Image_id')\n",
    "remian_points = ee.FeatureCollection(id_list.map(lambda i : sample2009.filter(ee.Filter.eq('Image_id',i)))).flatten()\n",
    "remian_points2 = remian_points.randomColumn('random',1,'uniform').sort('random').limit(remian_points.size().getInfo()-200)\n",
    "total_points2009 = ee.FeatureCollection([filter_points,remian_points2,validation_sample2009]).flatten()\n",
    "print(total_points2009.size().getInfo())"
   ]
  },
  {
   "cell_type": "code",
   "execution_count": null,
   "id": "6aff7e9f",
   "metadata": {},
   "outputs": [],
   "source": []
  },
  {
   "cell_type": "markdown",
   "id": "d3aaf83e",
   "metadata": {},
   "source": [
    "## 2014"
   ]
  },
  {
   "cell_type": "code",
   "execution_count": 15,
   "id": "47dadca6",
   "metadata": {
    "ExecuteTime": {
     "end_time": "2022-04-06T07:32:30.753346Z",
     "start_time": "2022-04-06T07:32:29.711961Z"
    }
   },
   "outputs": [
    {
     "name": "stdout",
     "output_type": "stream",
     "text": [
      "3937\n",
      "200\n",
      "13\n"
     ]
    }
   ],
   "source": [
    "sample2014 = ee.FeatureCollection('users/311605001111/SAMPLE_' + sample_region + '/' + region + '2014')\n",
    "validation_sample2014 = ee.FeatureCollection('users/311605001111/validation_point_200/' + sample_region + '2014')\n",
    "\n",
    "print(sample2014.size().getInfo())\n",
    "print(validation_sample2014.size().getInfo())\n",
    "\n",
    "image_list = validation_sample2014.distinct('Image_id').aggregate_array('Image_id').getInfo()\n",
    "print(len(image_list))"
   ]
  },
  {
   "cell_type": "code",
   "execution_count": 16,
   "id": "0e04f5ea",
   "metadata": {
    "ExecuteTime": {
     "end_time": "2022-04-06T07:32:32.121224Z",
     "start_time": "2022-04-06T07:32:30.970132Z"
    }
   },
   "outputs": [
    {
     "name": "stdout",
     "output_type": "stream",
     "text": [
      "3937\n"
     ]
    }
   ],
   "source": [
    "filter_points = sample2014.filter(ee.Filter.neq('Image_id',image_list[0]))\\\n",
    "                          .filter(ee.Filter.neq('Image_id',image_list[1]))\\\n",
    "                          .filter(ee.Filter.neq('Image_id',image_list[2]))\\\n",
    "                          .filter(ee.Filter.neq('Image_id',image_list[3]))\\\n",
    "                          .filter(ee.Filter.neq('Image_id',image_list[4]))\\\n",
    "                          .filter(ee.Filter.neq('Image_id',image_list[5]))\\\n",
    "                          .filter(ee.Filter.neq('Image_id',image_list[6]))\\\n",
    "                          .filter(ee.Filter.neq('Image_id',image_list[7]))\\\n",
    "                          .filter(ee.Filter.neq('Image_id',image_list[8]))\\\n",
    "                          .filter(ee.Filter.neq('Image_id',image_list[9]))\\\n",
    "                          .filter(ee.Filter.neq('Image_id',image_list[10]))\\\n",
    "                          .filter(ee.Filter.neq('Image_id',image_list[11]))\\\n",
    "                          .filter(ee.Filter.neq('Image_id',image_list[12]))\n",
    "\n",
    "id_list = validation_sample2014.distinct('Image_id').aggregate_array('Image_id')\n",
    "remian_points = ee.FeatureCollection(id_list.map(lambda i : sample2014.filter(ee.Filter.eq('Image_id',i)))).flatten()\n",
    "remian_points2 = remian_points.randomColumn('random',1,'uniform').sort('random').limit(remian_points.size().getInfo()-200)\n",
    "total_points2014 = ee.FeatureCollection([filter_points,remian_points2,validation_sample2014]).flatten()\n",
    "print(total_points2014.size().getInfo())"
   ]
  },
  {
   "cell_type": "code",
   "execution_count": null,
   "id": "3300e82c",
   "metadata": {},
   "outputs": [],
   "source": []
  },
  {
   "cell_type": "markdown",
   "id": "1de767d8",
   "metadata": {},
   "source": [
    "## 2019"
   ]
  },
  {
   "cell_type": "code",
   "execution_count": 17,
   "id": "65d6bb99",
   "metadata": {
    "ExecuteTime": {
     "end_time": "2022-04-06T07:32:33.354184Z",
     "start_time": "2022-04-06T07:32:32.340205Z"
    }
   },
   "outputs": [
    {
     "name": "stdout",
     "output_type": "stream",
     "text": [
      "3974\n",
      "200\n",
      "14\n"
     ]
    }
   ],
   "source": [
    "sample2019 = ee.FeatureCollection('users/311605001111/SAMPLE_' + sample_region + '/' + region + '2019')\n",
    "validation_sample2019 = ee.FeatureCollection('users/311605001111/validation_point_200/' + sample_region + '2019')\n",
    "\n",
    "print(sample2019.size().getInfo())\n",
    "print(validation_sample2019.size().getInfo())\n",
    "\n",
    "image_list = validation_sample2019.distinct('Image_id').aggregate_array('Image_id').getInfo()\n",
    "print(len(image_list))"
   ]
  },
  {
   "cell_type": "code",
   "execution_count": 18,
   "id": "cbe41d19",
   "metadata": {
    "ExecuteTime": {
     "end_time": "2022-04-06T07:32:34.805453Z",
     "start_time": "2022-04-06T07:32:33.589733Z"
    }
   },
   "outputs": [
    {
     "name": "stdout",
     "output_type": "stream",
     "text": [
      "3974\n"
     ]
    }
   ],
   "source": [
    "filter_points = sample2019.filter(ee.Filter.neq('Image_id',image_list[0]))\\\n",
    "                          .filter(ee.Filter.neq('Image_id',image_list[1]))\\\n",
    "                          .filter(ee.Filter.neq('Image_id',image_list[2]))\\\n",
    "                          .filter(ee.Filter.neq('Image_id',image_list[3]))\\\n",
    "                          .filter(ee.Filter.neq('Image_id',image_list[4]))\\\n",
    "                          .filter(ee.Filter.neq('Image_id',image_list[5]))\\\n",
    "                          .filter(ee.Filter.neq('Image_id',image_list[6]))\\\n",
    "                          .filter(ee.Filter.neq('Image_id',image_list[7]))\\\n",
    "                          .filter(ee.Filter.neq('Image_id',image_list[8]))\\\n",
    "                          .filter(ee.Filter.neq('Image_id',image_list[9]))\\\n",
    "                          .filter(ee.Filter.neq('Image_id',image_list[10]))\\\n",
    "                          .filter(ee.Filter.neq('Image_id',image_list[11]))\\\n",
    "                          .filter(ee.Filter.neq('Image_id',image_list[12]))\\\n",
    "                          .filter(ee.Filter.neq('Image_id',image_list[13]))\n",
    "\n",
    "id_list = validation_sample2019.distinct('Image_id').aggregate_array('Image_id')\n",
    "remian_points = ee.FeatureCollection(id_list.map(lambda i : sample2019.filter(ee.Filter.eq('Image_id',i)))).flatten()\n",
    "remian_points2 = remian_points.randomColumn('random',1,'uniform').sort('random').limit(remian_points.size().getInfo()-200)\n",
    "total_points2019 = ee.FeatureCollection([filter_points,remian_points2,validation_sample2019]).flatten()\n",
    "print(total_points2019.size().getInfo())"
   ]
  },
  {
   "cell_type": "code",
   "execution_count": null,
   "id": "f3ed4df0",
   "metadata": {},
   "outputs": [],
   "source": []
  },
  {
   "cell_type": "code",
   "execution_count": 20,
   "id": "a161bac0",
   "metadata": {
    "ExecuteTime": {
     "end_time": "2022-04-06T07:41:13.269691Z",
     "start_time": "2022-04-06T07:41:09.612533Z"
    }
   },
   "outputs": [
    {
     "name": "stdout",
     "output_type": "stream",
     "text": [
      "19386\n",
      "19386\n"
     ]
    }
   ],
   "source": [
    "total_points = ee.FeatureCollection([total_points1999,total_points2004,total_points2009,total_points2014,total_points2019]).flatten()\n",
    "print(total_points.size().getInfo())\n",
    "table = ee.FeatureCollection('users/311605001111/SAMPLE_'+ sample_region + '/' + region + '_kmean100_9920_v2')\n",
    "print(table.size().getInfo())\n",
    "\n",
    "dataset_id = region + '_kmean100_9920_all'\n",
    "assetID = 'users/311605001111/SAMPLE_' + sample_region + '/' + dataset_id\n",
    "task = ee.batch.Export.table.toAsset(**{\n",
    "    'collection': total_points,\n",
    "    'description': dataset_id,\n",
    "    'assetId': assetID\n",
    "})\n",
    "task.start()"
   ]
  },
  {
   "cell_type": "code",
   "execution_count": null,
   "id": "2b1e48e0",
   "metadata": {},
   "outputs": [],
   "source": []
  },
  {
   "cell_type": "markdown",
   "id": "7e6faa1a",
   "metadata": {},
   "source": [
    "# appendix"
   ]
  },
  {
   "cell_type": "code",
   "execution_count": null,
   "id": "0458c9d6",
   "metadata": {
    "ExecuteTime": {
     "end_time": "2022-04-06T05:38:47.150972Z",
     "start_time": "2022-04-06T05:38:45.786724Z"
    }
   },
   "outputs": [],
   "source": [
    "sample2019 = ee.FeatureCollection('users/311605001111/SAMPLE_' + sample_region + '/' + region + '2019')\n",
    "# sample2019 = ee.FeatureCollection('users/311605001111/SAMPLE_' + sample_region + '/' + region + '2019' + '_awei')\n",
    "validation_sample2019 = ee.FeatureCollection('users/311605001111/validation_point_200/' + sample_region + '2019')\n",
    "\n",
    "print(sample2019.size().getInfo())\n",
    "print(validation_sample2019.size().getInfo())\n",
    "# print(sample2019.first().getInfo())\n",
    "# print(validation_sample2019.first().getInfo())\n",
    "\n",
    "image_list = validation_sample2019.distinct('Image_id').aggregate_array('Image_id').getInfo()\n",
    "print(len(image_list))"
   ]
  },
  {
   "cell_type": "code",
   "execution_count": null,
   "id": "c8e4f493",
   "metadata": {
    "ExecuteTime": {
     "end_time": "2022-04-06T05:38:48.508023Z",
     "start_time": "2022-04-06T05:38:47.229152Z"
    }
   },
   "outputs": [],
   "source": [
    "filter_points = sample2019.filter(ee.Filter.neq('Image_id',image_list[0]))\\\n",
    "                          .filter(ee.Filter.neq('Image_id',image_list[1]))\\\n",
    "                          .filter(ee.Filter.neq('Image_id',image_list[2]))\\\n",
    "                          .filter(ee.Filter.neq('Image_id',image_list[3]))\\\n",
    "                          .filter(ee.Filter.neq('Image_id',image_list[4]))\\\n",
    "                          .filter(ee.Filter.neq('Image_id',image_list[5]))\\\n",
    "                          .filter(ee.Filter.neq('Image_id',image_list[6]))\\\n",
    "                          .filter(ee.Filter.neq('Image_id',image_list[7]))\\\n",
    "                          .filter(ee.Filter.neq('Image_id',image_list[8]))\\\n",
    "                          .filter(ee.Filter.neq('Image_id',image_list[9]))\\\n",
    "                          .filter(ee.Filter.neq('Image_id',image_list[10]))\\\n",
    "                          .filter(ee.Filter.neq('Image_id',image_list[11]))\\\n",
    "                          .filter(ee.Filter.neq('Image_id',image_list[12]))\\\n",
    "                          .filter(ee.Filter.neq('Image_id',image_list[13]))\n",
    "\n",
    "id_list = validation_sample2019.distinct('Image_id').aggregate_array('Image_id')\n",
    "remian_points = ee.FeatureCollection(id_list.map(lambda i : sample2019.filter(ee.Filter.eq('Image_id',i)))).flatten()\n",
    "remian_points2 = remian_points.randomColumn('random',1,'uniform').sort('random').limit(remian_points.size().getInfo()-200)\n",
    "total_points2019 = ee.FeatureCollection([filter_points,remian_points2,validation_sample2019]).flatten()\n",
    "print(total_points2019.size().getInfo())\n",
    "# print(filter_points.size().getInfo())\n",
    "# print(remian_points2.size().getInfo())\n",
    "# print(filter_points.first().getInfo())\n",
    "# print(remian_points2.first().getInfo())"
   ]
  },
  {
   "cell_type": "code",
   "execution_count": null,
   "id": "d1748363",
   "metadata": {},
   "outputs": [],
   "source": []
  }
 ],
 "metadata": {
  "hide_input": false,
  "kernelspec": {
   "display_name": "Python 3 (ipykernel)",
   "language": "python",
   "name": "python3"
  },
  "language_info": {
   "codemirror_mode": {
    "name": "ipython",
    "version": 3
   },
   "file_extension": ".py",
   "mimetype": "text/x-python",
   "name": "python",
   "nbconvert_exporter": "python",
   "pygments_lexer": "ipython3",
   "version": "3.8.12"
  },
  "toc": {
   "base_numbering": 1,
   "nav_menu": {},
   "number_sections": true,
   "sideBar": true,
   "skip_h1_title": false,
   "title_cell": "Table of Contents",
   "title_sidebar": "Contents",
   "toc_cell": false,
   "toc_position": {},
   "toc_section_display": true,
   "toc_window_display": false
  },
  "varInspector": {
   "cols": {
    "lenName": 16,
    "lenType": 16,
    "lenVar": 40
   },
   "kernels_config": {
    "python": {
     "delete_cmd_postfix": "",
     "delete_cmd_prefix": "del ",
     "library": "var_list.py",
     "varRefreshCmd": "print(var_dic_list())"
    },
    "r": {
     "delete_cmd_postfix": ") ",
     "delete_cmd_prefix": "rm(",
     "library": "var_list.r",
     "varRefreshCmd": "cat(var_dic_list()) "
    }
   },
   "types_to_exclude": [
    "module",
    "function",
    "builtin_function_or_method",
    "instance",
    "_Feature"
   ],
   "window_display": false
  }
 },
 "nbformat": 4,
 "nbformat_minor": 5
}
