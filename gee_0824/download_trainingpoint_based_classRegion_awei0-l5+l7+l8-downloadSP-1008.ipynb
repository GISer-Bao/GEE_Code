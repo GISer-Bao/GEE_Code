{
 "cells": [
  {
   "cell_type": "code",
   "execution_count": 1,
   "metadata": {
    "ExecuteTime": {
     "end_time": "2021-10-08T12:58:16.784255Z",
     "start_time": "2021-10-08T12:58:16.779269Z"
    }
   },
   "outputs": [],
   "source": [
    "import os\n",
    "os.environ['HTTP_PROXY'] = \"http://127.0.0.1:10809\"\n",
    "os.environ['HTTPS_PROXY'] = \"http://127.0.0.1:10809\""
   ]
  },
  {
   "cell_type": "code",
   "execution_count": 2,
   "metadata": {
    "ExecuteTime": {
     "end_time": "2021-10-08T12:58:22.383388Z",
     "start_time": "2021-10-08T12:58:17.617223Z"
    },
    "scrolled": false
   },
   "outputs": [
    {
     "data": {
      "application/vnd.jupyter.widget-view+json": {
       "model_id": "db9dd2def50f4bae8b0a014240598142",
       "version_major": 2,
       "version_minor": 0
      },
      "text/plain": [
       "Map(center=[40, -100], controls=(WidgetControl(options=['position', 'transparent_bg'], widget=HBox(children=(T…"
      ]
     },
     "metadata": {},
     "output_type": "display_data"
    }
   ],
   "source": [
    "import geemap\n",
    "import ee\n",
    "Map=geemap.Map()\n",
    "Map"
   ]
  },
  {
   "cell_type": "code",
   "execution_count": 3,
   "metadata": {
    "ExecuteTime": {
     "end_time": "2021-10-08T12:58:29.453657Z",
     "start_time": "2021-10-08T12:58:29.442688Z"
    }
   },
   "outputs": [],
   "source": [
    "# 定义参数\n",
    "year = '2000'\n",
    "startDate = year + '-01-01'\n",
    "endDate = year + '-12-31'"
   ]
  },
  {
   "cell_type": "code",
   "execution_count": 4,
   "metadata": {
    "ExecuteTime": {
     "end_time": "2021-10-08T12:58:40.010614Z",
     "start_time": "2021-10-08T12:58:39.361703Z"
    }
   },
   "outputs": [],
   "source": [
    "# # 大庆市\n",
    "# roi = ee.Geometry.Rectangle([123.9355, 45.8362,125.3055, 46.8762])\n",
    "# # 天津市\n",
    "# roi = ee.Geometry.Rectangle([115.9244, 38.6272,117.4944,39.6372])\n",
    "# # 武汉市\n",
    "roi = ee.Geometry.Rectangle([113.7393, 29.8642,115.0993, 30.9242])\n",
    "# # 珠三角\n",
    "# roi = ee.Geometry.Rectangle([112.7614, 22.2347,114.0514, 23.2547])\n",
    "# 青藏高原\n",
    "# roi = ee.Geometry.Rectangle([89.8826, 34.6579,91.3626, 35.8279])\n",
    "Map.addLayer(roi, {}, \"roi\")\n",
    "Map.centerObject(roi,7)"
   ]
  },
  {
   "cell_type": "code",
   "execution_count": 5,
   "metadata": {
    "ExecuteTime": {
     "end_time": "2021-10-08T12:58:43.241676Z",
     "start_time": "2021-10-08T12:58:43.226714Z"
    }
   },
   "outputs": [],
   "source": [
    "# 移除无效像元\n",
    "elevation = ee.Image('USGS/SRTMGL1_003').select('elevation').clip(roi)\n",
    "def maskSR(img):\n",
    "    cloudShadowBitMask = (1 << 3)\n",
    "    cloudsBitMask = (1 << 5)\n",
    "    snowBitMask = (1 << 4)   \n",
    "    qa = img.select('pixel_qa')\n",
    "    mask = qa.bitwiseAnd(cloudShadowBitMask).eq(0) \\\n",
    "                   .And(qa.bitwiseAnd(cloudsBitMask).eq(0)) \\\n",
    "                   .And(qa.bitwiseAnd(snowBitMask).eq(0))\n",
    "    azimuth = img.get('SOLAR_AZIMUTH_ANGLE')\n",
    "    zenith = img.get('SOLAR_ZENITH_ANGLE')\n",
    "    image = img.lt(0)\n",
    "    bands = image.select('B2').add(image.select('B3')).add(image.select('B4')).add(image.select('B5')).add(image.select('B6')).add(image.select('B7'))\n",
    "    outlier = bands.gt(0).remap([0,1],[1,0]).rename('outlier')\n",
    "    return img.updateMask(mask).updateMask(ee.Terrain.hillShadow(elevation,azimuth,zenith,200,True)).updateMask(outlier)\n",
    "\n",
    "# 图像可视化参数\n",
    "visParams = {'bands': ['B5', 'B6', 'B4'],'min': 0,'max': 3000,'gamma': 1.4}\n",
    "\n",
    "## 指数的计算\n",
    "def water_index(img):\n",
    "    image = img.clip(roi)\n",
    "    ndvi=image.normalizedDifference(['B5', 'B4']).rename('NDVI')\n",
    "    ndwi=image.normalizedDifference(['B3', 'B5']).rename(\"NDWI\")\n",
    "    mndwi=image.normalizedDifference(['B3', 'B6']).rename(\"mNDWI\")\n",
    "    ndvi_mndwi = ndvi.subtract(mndwi).rename('ndvi_mndwi')\n",
    "    cwi=image.select('B3').divide(image.select('B6')).rename(\"CWI\")\n",
    "    awei = image.expression('B2 + 2.5*B3 - 1.5*(B5+B6) - 0.25*B7',\n",
    "        {\n",
    "          'B2': image.select('B2'),\n",
    "          'B3': image.select('B3'),    \n",
    "          'B5': image.select('B5'),    \n",
    "          'B6': image.select('B6'),\n",
    "          'B7': image.select('B7'),\n",
    "        }).rename('AWEI')\n",
    "    ewi = image.expression('(B3 - B5 - B6)/(B3 + B5 + B6)',\n",
    "        {\n",
    "          'B3': image.select('B3'),    \n",
    "          'B5': image.select('B5'),    \n",
    "          'B6': image.select('B6'),\n",
    "        }).rename('EWI')\n",
    "    evi = image.expression('2.5*(B5 - B4)/(B5 + 6*B4 - 7.5*B2 + 1)',\n",
    "        {\n",
    "          'B2': image.select('B2'),\n",
    "          'B4': image.select('B4'),\n",
    "          'B5': image.select('B5'),    \n",
    "        }).rename('EVI')\n",
    "    return image.addBands(ndvi).addBands(ndwi).addBands(mndwi).addBands(cwi).addBands(awei).addBands(ewi).addBands(evi).addBands(ndvi_mndwi)\n",
    "\n",
    "# 计算研究区域内，影像面积\n",
    "def ImageArea(image):\n",
    "    image_area = image.select('B2').gt(0).multiply(ee.Image.pixelArea()).divide(1e6)\n",
    "    imageareas = image_area.reduceRegion(**{\n",
    "        'reducer': ee.Reducer.sum(),\n",
    "        'geometry': roi,\n",
    "        'scale': 1000,\n",
    "        'maxPixels': 1e14,\n",
    "    })    \n",
    "    return image.set({'imagearea': imageareas.get('B2')})\n"
   ]
  },
  {
   "cell_type": "code",
   "execution_count": 6,
   "metadata": {
    "ExecuteTime": {
     "end_time": "2021-10-08T12:58:45.271259Z",
     "start_time": "2021-10-08T12:58:45.251353Z"
    }
   },
   "outputs": [],
   "source": [
    "### 一般阈值：AWEI=0\n",
    "# 设置采样个数\n",
    "number_land = 250\n",
    "number_water = 500\n",
    "# 基于图像的样本采集函数\n",
    "def imageSample(image):\n",
    "    # 永久性水体\n",
    "    permanent_points = image.updateMask(permanentWaterExtent).sample(**{\n",
    "        'region': roi,\n",
    "        'scale': 30,\n",
    "        'numPixels': number_water,\n",
    "        'seed': 0,\n",
    "        'geometries': True,\n",
    "        'tileScale': 2,\n",
    "    })\n",
    "    water_points = permanent_points.map(lambda i : i.setMulti({'waterclass':1,'Image_id':image.get('system:id')}))\n",
    "    # 陆地\n",
    "    land_points = image.updateMask(landExtent).sample(**{\n",
    "        'region': image.geometry(),\n",
    "        'scale': 30,\n",
    "        'numPixels': number_land,\n",
    "        'seed': 0,\n",
    "        'geometries': True,\n",
    "        'tileScale': 2,\n",
    "    })\n",
    "    nowater_points = land_points.map(lambda i : i.setMulti({'waterclass':0,'Image_id':image.get('system:id')}))\n",
    "    # 季节性水体\n",
    "    awei = image.updateMask(seasonWaterExtent).select('AWEI').gt(0)\n",
    "    seasonWater = image.updateMask(awei).sample(**{\n",
    "        'region': roi,\n",
    "        'scale': 30,\n",
    "        'numPixels': number_water,\n",
    "        'seed': 0,\n",
    "        'geometries': True,\n",
    "        'tileScale': 2,\n",
    "    })\n",
    "    seasonWater_points = seasonWater.map(lambda i : i.setMulti({'waterclass':1,'Image_id':image.get('system:id')}))\n",
    "    seasonLand= image.updateMask(awei.remap([0,1],[1,0])).sample(**{\n",
    "        'region': roi,\n",
    "        'scale': 30,\n",
    "        'numPixels': number_land,\n",
    "        'seed': 0,\n",
    "        'geometries': True,\n",
    "        'tileScale': 2,\n",
    "    })\n",
    "    seasonLand_points = seasonLand.map(lambda i : i.setMulti({'waterclass':0,'Image_id':image.get('system:id')}))\n",
    "    sample_points = ee.FeatureCollection([water_points,nowater_points,seasonWater_points,seasonLand_points]).flatten()\n",
    "    return sample_points"
   ]
  },
  {
   "cell_type": "code",
   "execution_count": 9,
   "metadata": {
    "ExecuteTime": {
     "end_time": "2021-10-08T13:00:43.883350Z",
     "start_time": "2021-10-08T13:00:41.114000Z"
    }
   },
   "outputs": [
    {
     "name": "stdout",
     "output_type": "stream",
     "text": [
      "2000\n",
      "影像总数： 70\n"
     ]
    }
   ],
   "source": [
    "for year in range(2000,2001,1):\n",
    "    print(year)\n",
    "    startDate = str(year) + '-01-01'\n",
    "    endDate = str(year) + '-12-31'\n",
    "    l5 = ee.ImageCollection('LANDSAT/LT05/C01/T1_SR') \\\n",
    "           .select(['B1', 'B2', 'B3', 'B4', 'B5', 'B7','pixel_qa'],['B2', 'B3', 'B4', 'B5', 'B6', 'B7','pixel_qa']) \\\n",
    "           .filterBounds(roi) \\\n",
    "           .filterDate(startDate, endDate)  \n",
    "    l7 = ee.ImageCollection('LANDSAT/LE07/C01/T1_SR') \\\n",
    "           .select(['B1', 'B2', 'B3', 'B4', 'B5', 'B7','pixel_qa'],['B2', 'B3', 'B4', 'B5', 'B6', 'B7','pixel_qa']) \\\n",
    "           .filterBounds(roi) \\\n",
    "           .filterDate(startDate, endDate)           \n",
    "    l8 = ee.ImageCollection('LANDSAT/LC08/C01/T1_SR') \\\n",
    "           .select(['B2', 'B3', 'B4', 'B5', 'B6', 'B7','pixel_qa']) \\\n",
    "           .filterBounds(roi) \\\n",
    "           .filterDate(startDate, endDate)\n",
    "    landsat_images = l8.merge(l7).merge(l5).map(water_index)\n",
    "    print('影像总数：',landsat_images.size().getInfo())\n",
    "    image_area = landsat_images.mosaic().select('B2').gt(0).multiply(ee.Image.pixelArea()).divide(1e6)\n",
    "    areas = image_area.reduceRegion(**{'reducer': ee.Reducer.sum(),'geometry': roi,'scale': 1000,'maxPixels': 1e14 })\n",
    "    sample_image = landsat_images.map(ImageArea).filter(ee.Filter.gt('imagearea',ee.Number(areas.get('B2')).divide(3)))\n",
    "    # 计算交集\n",
    "    JRC_id = 'JRC/GSW1_3/YearlyHistory/' + str(year)\n",
    "    Maryland_id = 'users/311605001111/Maryland/Maryland_nationwide_' + str(year)\n",
    "    basemap = ee.Image.constant(0).clip(roi).rename('waterclass')\n",
    "    water_layer = landsat_images.map(lambda i : i.select('ndvi_mndwi').lt(0)).sum()\n",
    "    validPixel_layer = landsat_images.count().select('B3').clip(roi).rename('count')\n",
    "    index_waterfrequency = water_layer.select('ndvi_mndwi').divide(validPixel_layer.select('count')).select('ndvi_mndwi').rename('frequency')\n",
    "    index_permanent = index_waterfrequency.gte(0.75).remap([0,1],[0,2]).rename('waterclass')\n",
    "    index_season= ee.ImageCollection([index_waterfrequency.gte(0.25),index_waterfrequency.lt(0.75)]).sum().eq(2).rename('waterclass')\n",
    "    index_waterclass = ee.ImageCollection([index_permanent,index_season,basemap]).sum()\n",
    "    JRC = ee.Image(JRC_id).clip(roi).remap([0,1,2,3],[0,0,1,2]).rename('waterclass')\n",
    "    JRC_waterclass = ee.ImageCollection([JRC,basemap]).sum()\n",
    "    Maryland = ee.Image(Maryland_id).clip(roi).select('b1').rename('waterclass')\n",
    "    Maryland_permanent = Maryland.select('waterclass').gte(75).remap([0,1],[0,2]).rename('waterclass')\n",
    "    Maryland_season= ee.ImageCollection([Maryland.gte(25),Maryland.lt(75)]).sum().eq(2)\n",
    "    Maryland_waterclass = ee.ImageCollection([Maryland_permanent,Maryland_season,basemap]).sum()\n",
    "    permanentWaterExtent = ee.ImageCollection([index_waterclass.eq(2),JRC_waterclass.eq(2),Maryland_waterclass.eq(2)]).sum().eq(3)\n",
    "    landExtent = ee.ImageCollection([index_waterclass.eq(0),JRC_waterclass.eq(0),Maryland_waterclass.eq(0)]).sum().eq(3)\n",
    "    seasonWaterExtent = ee.ImageCollection([permanentWaterExtent,landExtent]).sum().remap([0,1],[1,0]).rename('waterclass')\n",
    "    # 采样\n",
    "    points_collection = sample_image.map(imageSample).flatten()\n",
    "    # 'wuhan' 需要修改\n",
    "    dataset_id = 'wuhan_' + str(year)\n",
    "    assetID = 'users/311605001111/' + dataset_id\n",
    "    task = ee.batch.Export.table.toAsset(**{\n",
    "        'collection': points_collection,\n",
    "        'description': dataset_id,\n",
    "        'assetId': assetID\n",
    "    })\n",
    "    task.start()"
   ]
  },
  {
   "cell_type": "code",
   "execution_count": null,
   "metadata": {},
   "outputs": [],
   "source": []
  },
  {
   "cell_type": "code",
   "execution_count": null,
   "metadata": {},
   "outputs": [],
   "source": []
  }
 ],
 "metadata": {
  "hide_input": false,
  "kernelspec": {
   "display_name": "Python 3 (ipykernel)",
   "language": "python",
   "name": "python3"
  },
  "language_info": {
   "codemirror_mode": {
    "name": "ipython",
    "version": 3
   },
   "file_extension": ".py",
   "mimetype": "text/x-python",
   "name": "python",
   "nbconvert_exporter": "python",
   "pygments_lexer": "ipython3",
   "version": "3.8.12"
  },
  "toc": {
   "base_numbering": 1,
   "nav_menu": {
    "height": "172.997px",
    "width": "221.989px"
   },
   "number_sections": true,
   "sideBar": true,
   "skip_h1_title": false,
   "title_cell": "Table of Contents",
   "title_sidebar": "Contents",
   "toc_cell": false,
   "toc_position": {
    "height": "calc(100% - 180px)",
    "left": "10px",
    "top": "150px",
    "width": "349.091px"
   },
   "toc_section_display": true,
   "toc_window_display": false
  },
  "varInspector": {
   "cols": {
    "lenName": 16,
    "lenType": 16,
    "lenVar": 40
   },
   "kernels_config": {
    "python": {
     "delete_cmd_postfix": "",
     "delete_cmd_prefix": "del ",
     "library": "var_list.py",
     "varRefreshCmd": "print(var_dic_list())"
    },
    "r": {
     "delete_cmd_postfix": ") ",
     "delete_cmd_prefix": "rm(",
     "library": "var_list.r",
     "varRefreshCmd": "cat(var_dic_list()) "
    }
   },
   "types_to_exclude": [
    "module",
    "function",
    "builtin_function_or_method",
    "instance",
    "_Feature"
   ],
   "window_display": false
  }
 },
 "nbformat": 4,
 "nbformat_minor": 4
}
