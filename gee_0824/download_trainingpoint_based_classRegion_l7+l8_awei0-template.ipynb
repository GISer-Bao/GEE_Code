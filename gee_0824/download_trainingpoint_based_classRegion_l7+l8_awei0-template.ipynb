{
 "cells": [
  {
   "cell_type": "code",
   "execution_count": 1,
   "metadata": {
    "ExecuteTime": {
     "end_time": "2021-08-24T07:17:26.753502Z",
     "start_time": "2021-08-24T07:17:26.739870Z"
    }
   },
   "outputs": [],
   "source": [
    "import os\n",
    "os.environ['HTTP_PROXY'] = \"http://127.0.0.1:10809\"\n",
    "os.environ['HTTPS_PROXY'] = \"http://127.0.0.1:10809\""
   ]
  },
  {
   "cell_type": "code",
   "execution_count": 2,
   "metadata": {
    "ExecuteTime": {
     "end_time": "2021-08-24T07:17:31.507355Z",
     "start_time": "2021-08-24T07:17:27.019852Z"
    },
    "scrolled": false
   },
   "outputs": [
    {
     "data": {
      "application/vnd.jupyter.widget-view+json": {
       "model_id": "6bc4a8fff9e44acabbedb7ae96938f2e",
       "version_major": 2,
       "version_minor": 0
      },
      "text/plain": [
       "Map(center=[40, -100], controls=(WidgetControl(options=['position', 'transparent_bg'], widget=HBox(children=(T…"
      ]
     },
     "metadata": {},
     "output_type": "display_data"
    }
   ],
   "source": [
    "import geemap\n",
    "import ee\n",
    "Map=geemap.Map()\n",
    "Map"
   ]
  },
  {
   "cell_type": "code",
   "execution_count": 3,
   "metadata": {
    "ExecuteTime": {
     "end_time": "2021-08-24T07:17:31.617284Z",
     "start_time": "2021-08-24T07:17:31.603296Z"
    }
   },
   "outputs": [],
   "source": [
    "# 定义参数\n",
    "year = '2020'\n",
    "startDate = year + '-01-01'\n",
    "endDate = year + '-12-31'"
   ]
  },
  {
   "cell_type": "code",
   "execution_count": 4,
   "metadata": {
    "ExecuteTime": {
     "end_time": "2021-08-24T07:17:32.864543Z",
     "start_time": "2021-08-24T07:17:31.744867Z"
    }
   },
   "outputs": [],
   "source": [
    "# 武汉市\n",
    "# roi = ee.FeatureCollection('users/311605001111/ChinaCity').filter(ee.Filter.eq('市',city))\n",
    "roi = ee.Geometry.Rectangle([115.9244, 38.6272,117.4944,39.6372])\n",
    "Map.addLayer(roi, {}, \"roi\")\n",
    "Map.centerObject(roi,8)"
   ]
  },
  {
   "cell_type": "code",
   "execution_count": 5,
   "metadata": {
    "ExecuteTime": {
     "end_time": "2021-08-24T07:17:33.005889Z",
     "start_time": "2021-08-24T07:17:32.978443Z"
    }
   },
   "outputs": [],
   "source": [
    "# 移除无效像元\n",
    "elevation = ee.Image('USGS/SRTMGL1_003').select('elevation').clip(roi)\n",
    "def maskSR(img):\n",
    "    cloudShadowBitMask = (1 << 3)\n",
    "    cloudsBitMask = (1 << 5)\n",
    "    snowBitMask = (1 << 4)   \n",
    "    qa = img.select('pixel_qa')\n",
    "    mask = qa.bitwiseAnd(cloudShadowBitMask).eq(0) \\\n",
    "                   .And(qa.bitwiseAnd(cloudsBitMask).eq(0)) \\\n",
    "                   .And(qa.bitwiseAnd(snowBitMask).eq(0))\n",
    "    azimuth = img.get('SOLAR_AZIMUTH_ANGLE')\n",
    "    zenith = img.get('SOLAR_ZENITH_ANGLE')\n",
    "    image = img.lt(0)\n",
    "    bands = image.select('B2').add(image.select('B3')).add(image.select('B4')).add(image.select('B5')).add(image.select('B6')).add(image.select('B7'))\n",
    "    outlier = bands.gt(0).remap([0,1],[1,0]).rename('outlier')\n",
    "    return img.updateMask(mask).updateMask(ee.Terrain.hillShadow(elevation,azimuth,zenith,200,True)).updateMask(outlier)\n",
    "\n",
    "# 图像可视化参数\n",
    "visParams = {'bands': ['B5', 'B6', 'B4'],'min': 0,'max': 3000,'gamma': 1.4}\n",
    "\n",
    "## 指数的计算\n",
    "def water_index(img):\n",
    "    image = img.clip(roi)\n",
    "    ndvi=image.normalizedDifference(['B5', 'B4']).rename('NDVI')\n",
    "    ndwi=image.normalizedDifference(['B3', 'B5']).rename(\"NDWI\")\n",
    "    mndwi=image.normalizedDifference(['B3', 'B6']).rename(\"mNDWI\")\n",
    "    ndvi_mndwi = ndvi.subtract(mndwi).rename('ndvi_mndwi')\n",
    "    cwi=image.select('B3').divide(image.select('B6')).rename(\"CWI\")\n",
    "    awei = image.expression('B2 + 2.5*B3 - 1.5*(B5+B6) - 0.25*B7',\n",
    "        {\n",
    "          'B2': image.select('B2'),\n",
    "          'B3': image.select('B3'),    \n",
    "          'B5': image.select('B5'),    \n",
    "          'B6': image.select('B6'),\n",
    "          'B7': image.select('B7'),\n",
    "        }).rename('AWEI')\n",
    "    ewi = image.expression('(B3 - B5 - B6)/(B3 + B5 + B6)',\n",
    "        {\n",
    "          'B3': image.select('B3'),    \n",
    "          'B5': image.select('B5'),    \n",
    "          'B6': image.select('B6'),\n",
    "        }).rename('EWI')\n",
    "    evi = image.expression('2.5*(B5 - B4)/(B5 + 6*B4 - 7.5*B2 + 1)',\n",
    "        {\n",
    "          'B2': image.select('B2'),\n",
    "          'B4': image.select('B4'),\n",
    "          'B5': image.select('B5'),    \n",
    "        }).rename('EVI')\n",
    "    return image.addBands(ndvi).addBands(ndwi).addBands(mndwi).addBands(cwi).addBands(awei).addBands(ewi).addBands(evi).addBands(ndvi_mndwi)\n",
    "\n",
    "# 计算研究区域内，影像面积\n",
    "def ImageArea(image):\n",
    "    image_area = image.select('B2').gt(0).multiply(ee.Image.pixelArea()).divide(1e6)\n",
    "    imageareas = image_area.reduceRegion(**{\n",
    "        'reducer': ee.Reducer.sum(),\n",
    "        'geometry': roi,\n",
    "        'scale': 1000,\n",
    "        'maxPixels': 1e14,\n",
    "    })    \n",
    "    return image.set({'imagearea': imageareas.get('B2')})\n"
   ]
  },
  {
   "cell_type": "code",
   "execution_count": 6,
   "metadata": {
    "ExecuteTime": {
     "end_time": "2021-08-24T07:17:39.430164Z",
     "start_time": "2021-08-24T07:17:37.180221Z"
    },
    "scrolled": false
   },
   "outputs": [
    {
     "name": "stdout",
     "output_type": "stream",
     "text": [
      "109\n",
      "110\n",
      "219\n"
     ]
    }
   ],
   "source": [
    "l7 = ee.ImageCollection('LANDSAT/LE07/C01/T1_SR') \\\n",
    "           .select(['B1', 'B2', 'B3', 'B4', 'B5', 'B7','pixel_qa'],['B2', 'B3', 'B4', 'B5', 'B6', 'B7','pixel_qa']) \\\n",
    "           .filterBounds(roi) \\\n",
    "           .filterDate(startDate, endDate)\n",
    "           \n",
    "l8 = ee.ImageCollection('LANDSAT/LC08/C01/T1_SR') \\\n",
    "       .select(['B2', 'B3', 'B4', 'B5', 'B6', 'B7','pixel_qa']) \\\n",
    "       .filterBounds(roi) \\\n",
    "       .filterDate(startDate, endDate)          \n",
    "landsat_images = l8.merge(l7).map(maskSR).map(water_index)\n",
    "Map.addLayer(l8.map(maskSR).mosaic().clip(roi), visParams,'image mosaic')\n",
    "print(l7.size().getInfo())\n",
    "print(l8.size().getInfo())\n",
    "print(landsat_images.size().getInfo())"
   ]
  },
  {
   "cell_type": "markdown",
   "metadata": {},
   "source": [
    "# 筛选得出采样影像"
   ]
  },
  {
   "cell_type": "code",
   "execution_count": 7,
   "metadata": {
    "ExecuteTime": {
     "end_time": "2021-08-24T07:17:54.030214Z",
     "start_time": "2021-08-24T07:17:41.163788Z"
    }
   },
   "outputs": [
    {
     "name": "stdout",
     "output_type": "stream",
     "text": [
      "{'B2': 15186.425167391835}\n",
      "37\n",
      "['2020-01-24', '2020-02-01', '2020-02-17', '2020-02-18', '2020-03-04', '2020-03-05', '2020-03-20', '2020-03-21', '2020-03-28', '2020-03-29', '2020-04-05', '2020-04-06', '2020-04-13', '2020-04-14', '2020-04-21', '2020-04-22', '2020-04-29', '2020-05-24', '2020-05-31', '2020-06-01', '2020-06-08', '2020-08-03', '2020-08-11', '2020-08-28', '2020-09-04', '2020-09-20', '2020-09-28', '2020-10-06', '2020-10-07', '2020-10-22', '2020-10-23', '2020-10-30', '2020-10-31', '2020-11-08', '2020-11-16', '2020-11-23', '2020-12-25']\n",
      "21\n",
      "['2020-01-24', '2020-02-01', '2020-02-17', '2020-02-18', '2020-03-04', '2020-03-05', '2020-03-20', '2020-03-21', '2020-03-28', '2020-03-29', '2020-04-05', '2020-04-06', '2020-04-13', '2020-04-14', '2020-04-21', '2020-04-22', '2020-04-29', '2020-05-24', '2020-05-31', '2020-06-01', '2020-06-08']\n",
      "16\n",
      "['2020-08-03', '2020-08-11', '2020-08-28', '2020-09-04', '2020-09-20', '2020-09-28', '2020-10-06', '2020-10-07', '2020-10-22', '2020-10-23', '2020-10-30', '2020-10-31', '2020-11-08', '2020-11-16', '2020-11-23', '2020-12-25']\n"
     ]
    }
   ],
   "source": [
    "# 定义时间 \n",
    "firstDate1 = year + '-01-01'\n",
    "endDate1 = year + '-06-30'\n",
    "firstDate2 = year + '-07-01'\n",
    "endDate2 = year + '-12-31'\n",
    "# 筛选图像\n",
    "image_area = landsat_images.mosaic().select('B2').gt(0).multiply(ee.Image.pixelArea()).divide(1e6)\n",
    "areas = image_area.reduceRegion(**{\n",
    "    'reducer': ee.Reducer.sum(),\n",
    "    'geometry': roi,\n",
    "    'scale': 1000,\n",
    "    'maxPixels': 1e14\n",
    "})\n",
    "print(areas.getInfo())\n",
    "# 筛选影像，影像覆盖研究区的范围 > 研究区的1/10\n",
    "sample_image = landsat_images.map(ImageArea).filter(ee.Filter.gt('imagearea',ee.Number(areas.get('B2')).divide(3)))\n",
    "dates = sample_image.aggregate_array('system:time_start').sort().map(lambda d: ee.Date(d).format('YYYY-MM-dd'))\n",
    "print(sample_image.size().getInfo())\n",
    "print(dates.getInfo())\n",
    "\n",
    "sample_a = sample_image.filterDate(firstDate1, endDate1)\n",
    "dates = sample_a.aggregate_array('system:time_start').sort().map(lambda d: ee.Date(d).format('YYYY-MM-dd'))\n",
    "print(sample_a.size().getInfo())\n",
    "print(dates.getInfo())\n",
    "\n",
    "sample_b = sample_image.filterDate(firstDate2, endDate2)\n",
    "dates = sample_b.aggregate_array('system:time_start').sort().map(lambda d: ee.Date(d).format('YYYY-MM-dd'))\n",
    "print(sample_b.size().getInfo())\n",
    "print(dates.getInfo())"
   ]
  },
  {
   "cell_type": "markdown",
   "metadata": {},
   "source": [
    "# 多水体频率数据集的类别范围确定"
   ]
  },
  {
   "cell_type": "code",
   "execution_count": 8,
   "metadata": {
    "ExecuteTime": {
     "end_time": "2021-08-24T07:17:55.038319Z",
     "start_time": "2021-08-24T07:17:55.027123Z"
    }
   },
   "outputs": [],
   "source": [
    "#### 设置年份\n",
    "JRC_id = 'JRC/GSW1_3/YearlyHistory/' + year\n",
    "Maryland_id = 'users/311605001111/Maryland/Maryland_nationwide_' + year\n",
    "# ndvi_mndwi水体频率\n",
    "basemap = ee.Image.constant(0).clip(roi).rename('waterclass')\n",
    "water_layer = landsat_images.map(lambda i : i.select('ndvi_mndwi').lt(0)).sum()\n",
    "validPixel_layer = landsat_images.count().select('B3').clip(roi).rename('count')\n",
    "index_waterfrequency = water_layer.select('ndvi_mndwi').divide(validPixel_layer.select('count')).select('ndvi_mndwi').rename('frequency')\n",
    "index_permanent = index_waterfrequency.gte(0.75).remap([0,1],[0,2]).rename('waterclass')\n",
    "index_season= ee.ImageCollection([index_waterfrequency.gte(0.25),index_waterfrequency.lt(0.75)]).sum().eq(2).rename('waterclass')\n",
    "index_waterclass = ee.ImageCollection([index_permanent,index_season,basemap]).sum()\n",
    "# JRC\n",
    "JRC = ee.Image(JRC_id).clip(roi).remap([0,1,2,3],[0,0,1,2]).rename('waterclass')\n",
    "JRC_waterclass = ee.ImageCollection([JRC,basemap]).sum()\n",
    "# Maryland\n",
    "Maryland = ee.Image(Maryland_id).clip(roi).select('b1').rename('waterclass')\n",
    "Maryland_permanent = Maryland.select('waterclass').gte(75).remap([0,1],[0,2]).rename('waterclass')\n",
    "Maryland_season= ee.ImageCollection([Maryland.gte(25),Maryland.lt(75)]).sum().eq(2)\n",
    "Maryland_waterclass = ee.ImageCollection([Maryland_permanent,Maryland_season,basemap]).sum()\n",
    "# 三者的交集\n",
    "permanentWaterExtent = ee.ImageCollection([index_waterclass.eq(2),JRC_waterclass.eq(2),Maryland_waterclass.eq(2)]).sum().eq(3)\n",
    "landExtent = ee.ImageCollection([index_waterclass.eq(0),JRC_waterclass.eq(0),Maryland_waterclass.eq(0)]).sum().eq(3)\n",
    "seasonWaterExtent = ee.ImageCollection([permanentWaterExtent,landExtent]).sum().remap([0,1],[1,0]).rename('waterclass')\n",
    "\n",
    "# Map.addLayer(permanentWaterExtent.selfMask(),{'palette':['blue']},\"permanent_water\")\n",
    "# Map.addLayer(seasonWaterExtent.selfMask(),{'palette':['green']},\"season water\")"
   ]
  },
  {
   "cell_type": "markdown",
   "metadata": {
    "ExecuteTime": {
     "end_time": "2021-07-20T08:35:25.661991Z",
     "start_time": "2021-07-20T08:35:25.645066Z"
    }
   },
   "source": [
    "# 计算 AWEI在40%-100%的均值"
   ]
  },
  {
   "cell_type": "code",
   "execution_count": 9,
   "metadata": {
    "ExecuteTime": {
     "end_time": "2021-08-24T07:18:01.737439Z",
     "start_time": "2021-08-24T07:18:01.723054Z"
    }
   },
   "outputs": [],
   "source": [
    "def intervalmean(image):\n",
    "    awei = image.updateMask(seasonWaterExtent).select('AWEI')\n",
    "    intervalMean = awei.reduceRegion(**{\n",
    "        'reducer': ee.Reducer.intervalMean(40,100), \n",
    "        'geometry': roi, \n",
    "        'scale': 30, \n",
    "        'bestEffort': True,\n",
    "        'tileScale': 4,\n",
    "    })\n",
    "    return image.set({'mean': intervalMean.get('AWEI')})"
   ]
  },
  {
   "cell_type": "code",
   "execution_count": 10,
   "metadata": {
    "ExecuteTime": {
     "end_time": "2021-08-24T07:18:08.464402Z",
     "start_time": "2021-08-24T07:18:08.449852Z"
    },
    "scrolled": true
   },
   "outputs": [],
   "source": [
    "# a = sample_image.map(intervalmean).filter(ee.Filter.gt('mean',0))\n",
    "# b = a.aggregate_array('mean')\n",
    "# print(a.size().getInfo())\n",
    "# print(b.getInfo())"
   ]
  },
  {
   "cell_type": "code",
   "execution_count": 12,
   "metadata": {
    "ExecuteTime": {
     "end_time": "2021-08-24T07:25:34.800508Z",
     "start_time": "2021-08-24T07:24:24.669928Z"
    }
   },
   "outputs": [
    {
     "name": "stdout",
     "output_type": "stream",
     "text": [
      "16\n",
      "[760.8027185592895, 902.1927692686453, 706.6872001243111, 1048.2070255481578, 660.8225434573736, 440.176754854486, 461.138285429088, 395.98078529051025, 1195.2205407340496, 841.7500497696506, 256.12677118017547, 922.6987177627074, 1135.154132727997, 627.836478445152, 435.013627684495, 241.1445848329968]\n"
     ]
    }
   ],
   "source": [
    "first = sample_a.map(intervalmean).filter(ee.Filter.gt('mean',0))\n",
    "b = first.aggregate_array('mean')\n",
    "print(first.size().getInfo())\n",
    "print(b.getInfo())"
   ]
  },
  {
   "cell_type": "code",
   "execution_count": 14,
   "metadata": {
    "ExecuteTime": {
     "end_time": "2021-08-24T07:34:07.288171Z",
     "start_time": "2021-08-24T07:30:55.884161Z"
    }
   },
   "outputs": [
    {
     "name": "stdout",
     "output_type": "stream",
     "text": [
      "9\n",
      "[702.5638469888006, 41.58033924558625, 186.7490132623702, 591.723882845308, 242.12680966250895, 165.40942987150112, 188.45976357421847, 1370.1112210224844, 908.8229202945507]\n"
     ]
    }
   ],
   "source": [
    "second = sample_b.map(intervalmean).filter(ee.Filter.gt('mean',0))\n",
    "b = second.aggregate_array('mean')\n",
    "print(second.size().getInfo())\n",
    "print(b.getInfo())"
   ]
  },
  {
   "cell_type": "code",
   "execution_count": 15,
   "metadata": {
    "ExecuteTime": {
     "end_time": "2021-08-24T07:34:29.857144Z",
     "start_time": "2021-08-24T07:34:22.235489Z"
    }
   },
   "outputs": [
    {
     "name": "stdout",
     "output_type": "stream",
     "text": [
      "25\n",
      "[760.8027185592895, 902.1927692686453, 706.6872001243111, 1048.2070255481578, 660.8225434573736, 440.176754854486, 461.138285429088, 395.98078529051025, 1195.2205407340496, 841.7500497696506, 256.12677118017547, 922.6987177627074, 1135.154132727997, 627.836478445152, 435.013627684495, 241.1445848329968, 702.5638469888006, 41.58033924558625, 186.7490132623702, 591.723882845308, 242.12680966250895, 165.40942987150112, 188.45976357421847, 1370.1112210224844, 908.8229202945507]\n"
     ]
    }
   ],
   "source": [
    "a = first.merge(second)\n",
    "b = a.aggregate_array('mean')\n",
    "print(a.size().getInfo())\n",
    "print(b.getInfo())"
   ]
  },
  {
   "cell_type": "markdown",
   "metadata": {},
   "source": [
    "# 采样函数"
   ]
  },
  {
   "cell_type": "code",
   "execution_count": 45,
   "metadata": {
    "ExecuteTime": {
     "end_time": "2021-08-24T09:21:41.648710Z",
     "start_time": "2021-08-24T09:21:41.632723Z"
    }
   },
   "outputs": [],
   "source": [
    "# ## 情况一\n",
    "# # 设置采样个数\n",
    "# number_land = 250\n",
    "# number_water = 500\n",
    "# # 基于图像的样本采集函数\n",
    "# def imageSample(image):\n",
    "#     # 永久性水体\n",
    "#     permanent_points = image.updateMask(permanentWaterExtent).sample(**{\n",
    "#         'region': roi,\n",
    "#         'scale': 30,\n",
    "#         'numPixels': number_water,\n",
    "#         'seed': 0,\n",
    "#         'geometries': True,\n",
    "#         'tileScale': 2,\n",
    "#     })\n",
    "#     water_points = permanent_points.map(lambda i : i.setMulti({'waterclass':1,'Image_id':image.get('system:id')}))\n",
    "#     # 陆地\n",
    "#     land_points = image.updateMask(landExtent).sample(**{\n",
    "#         'region': image.geometry(),\n",
    "#         'scale': 30,\n",
    "#         'numPixels': number_land,\n",
    "#         'seed': 0,\n",
    "#         'geometries': True,\n",
    "#         'tileScale': 2,\n",
    "#     })\n",
    "#     nowater_points = land_points.map(lambda i : i.setMulti({'waterclass':0,'Image_id':image.get('system:id')}))\n",
    "#     sample_points = ee.FeatureCollection([water_points,nowater_points]).flatten()\n",
    "#     return sample_points\n",
    "\n",
    "\n",
    "# ## 情况二\n",
    "# # 设置采样个数\n",
    "# number_land = 250\n",
    "# number_water = 500\n",
    "# # 基于图像的样本采集函数\n",
    "# def imageSample(image):\n",
    "#     # 季节性水体\n",
    "#     awei = image.updateMask(seasonWaterExtent).select('AWEI').gt(0)\n",
    "#     seasonWater = image.updateMask(awei).sample(**{\n",
    "#         'region': roi,\n",
    "#         'scale': 30,\n",
    "#         'numPixels': number_water,\n",
    "#         'seed': 0,\n",
    "#         'geometries': True,\n",
    "#         'tileScale': 2,\n",
    "#     })\n",
    "#     seasonWater_points = seasonWater.map(lambda i : i.setMulti({'waterclass':1,'Image_id':image.get('system:id')}))\n",
    "#     seasonLand= image.updateMask(awei.remap([0,1],[1,0])).sample(**{\n",
    "#         'region': roi,\n",
    "#         'scale': 30,\n",
    "#         'numPixels': number_land,\n",
    "#         'seed': 0,\n",
    "#         'geometries': True,\n",
    "#         'tileScale': 2,\n",
    "#     })\n",
    "#     seasonLand_points = seasonLand.map(lambda i : i.setMulti({'waterclass':0,'Image_id':image.get('system:id')}))\n",
    "#     sample_points = ee.FeatureCollection([seasonWater_points,seasonLand_points]).flatten()\n",
    "#     return sample_points"
   ]
  },
  {
   "cell_type": "code",
   "execution_count": 36,
   "metadata": {
    "ExecuteTime": {
     "end_time": "2021-08-24T09:00:34.234245Z",
     "start_time": "2021-08-24T09:00:34.218287Z"
    }
   },
   "outputs": [],
   "source": [
    "# ### 一般阈值：AWEI=0\n",
    "# # 设置采样个数\n",
    "# number_land = 250\n",
    "# number_water = 500\n",
    "# # 基于图像的样本采集函数\n",
    "# def imageSample(image):\n",
    "#     # 永久性水体\n",
    "#     permanent_points = image.updateMask(permanentWaterExtent).sample(**{\n",
    "#         'region': roi,\n",
    "#         'scale': 30,\n",
    "#         'numPixels': number_water,\n",
    "#         'seed': 0,\n",
    "#         'geometries': True,\n",
    "#         'tileScale': 2,\n",
    "#     })\n",
    "#     water_points = permanent_points.map(lambda i : i.setMulti({'waterclass':1,'Image_id':image.get('system:id')}))\n",
    "#     # 陆地\n",
    "#     land_points = image.updateMask(landExtent).sample(**{\n",
    "#         'region': image.geometry(),\n",
    "#         'scale': 30,\n",
    "#         'numPixels': number_land,\n",
    "#         'seed': 0,\n",
    "#         'geometries': True,\n",
    "#         'tileScale': 2,\n",
    "#     })\n",
    "#     nowater_points = land_points.map(lambda i : i.setMulti({'waterclass':0,'Image_id':image.get('system:id')}))\n",
    "#     # 季节性水体\n",
    "#     awei = image.updateMask(seasonWaterExtent).select('AWEI').gt(0)\n",
    "#     seasonWater = image.updateMask(awei).sample(**{\n",
    "#         'region': roi,\n",
    "#         'scale': 30,\n",
    "#         'numPixels': number_water,\n",
    "#         'seed': 0,\n",
    "#         'geometries': True,\n",
    "#         'tileScale': 2,\n",
    "#     })\n",
    "#     seasonWater_points = seasonWater.map(lambda i : i.setMulti({'waterclass':1,'Image_id':image.get('system:id')}))\n",
    "#     seasonLand= image.updateMask(awei.remap([0,1],[1,0])).sample(**{\n",
    "#         'region': roi,\n",
    "#         'scale': 30,\n",
    "#         'numPixels': number_land,\n",
    "#         'seed': 0,\n",
    "#         'geometries': True,\n",
    "#         'tileScale': 2,\n",
    "#     })\n",
    "#     seasonLand_points = seasonLand.map(lambda i : i.setMulti({'waterclass':0,'Image_id':image.get('system:id')}))\n",
    "#     sample_points = ee.FeatureCollection([water_points,nowater_points,seasonWater_points,seasonLand_points]).flatten()\n",
    "#     return sample_points"
   ]
  },
  {
   "cell_type": "code",
   "execution_count": null,
   "metadata": {
    "ExecuteTime": {
     "end_time": "2021-08-24T06:52:42.119038Z",
     "start_time": "2021-08-24T06:52:42.099491Z"
    }
   },
   "outputs": [],
   "source": [
    "# # 设置采样个数\n",
    "# number = 400 # 陆地\n",
    "# # number1 = 1500 # 水体\n",
    "# # 基于图像的样本采集函数\n",
    "# def imageSample(image):\n",
    "#     # 永久性水体\n",
    "#     permanent_points = image.updateMask(permanentWaterExtent).sample(**{\n",
    "#         'region': roi,\n",
    "#         'scale': 30,\n",
    "#         'numPixels': number,\n",
    "#         'seed': 0,\n",
    "#         'geometries': True,\n",
    "#         'tileScale': 2,\n",
    "#     })\n",
    "#     water_points = permanent_points.map(lambda i : i.setMulti({'waterclass':1,'Image_id':image.get('system:id')}))\n",
    "#     # 陆地\n",
    "#     land_points = image.updateMask(landExtent).sample(**{\n",
    "#         'region': image.geometry(),\n",
    "#         'scale': 30,\n",
    "#         'numPixels': number,\n",
    "#         'seed': 0,\n",
    "#         'geometries': True,\n",
    "#         'tileScale': 2,\n",
    "#     })\n",
    "#     nowater_points = land_points.map(lambda i : i.setMulti({'waterclass':0,'Image_id':image.get('system:id')}))\n",
    "#     # 季节性水体\n",
    "#     awei = image.updateMask(seasonWaterExtent).select('AWEI').gt(ee.Image.constant(image.get('mean')))\n",
    "#     seasonWater = image.updateMask(awei).sample(**{\n",
    "#         'region': roi,\n",
    "#         'scale': 30,\n",
    "#         'numPixels': number,\n",
    "#         'seed': 0,\n",
    "#         'geometries': True,\n",
    "#         'tileScale': 2,\n",
    "#     })\n",
    "#     seasonWater_points = seasonWater.map(lambda i : i.setMulti({'waterclass':1,'Image_id':image.get('system:id')}))\n",
    "#     seasonLand= image.updateMask(awei.remap([0,1],[1,0])).sample(**{\n",
    "#         'region': roi,\n",
    "#         'scale': 30,\n",
    "#         'numPixels': number,\n",
    "#         'seed': 0,\n",
    "#         'geometries': True,\n",
    "#         'tileScale': 2,\n",
    "#     })\n",
    "#     seasonLand_points = seasonLand.map(lambda i : i.setMulti({'waterclass':0,'Image_id':image.get('system:id')}))\n",
    "#     sample_points = ee.FeatureCollection([water_points,nowater_points,seasonWater_points,seasonLand_points]).flatten()\n",
    "#     return sample_points"
   ]
  },
  {
   "cell_type": "markdown",
   "metadata": {},
   "source": [
    "# 基于影像，进行样本采集"
   ]
  },
  {
   "cell_type": "code",
   "execution_count": 46,
   "metadata": {
    "ExecuteTime": {
     "end_time": "2021-08-24T09:22:10.312203Z",
     "start_time": "2021-08-24T09:22:05.924085Z"
    },
    "scrolled": true
   },
   "outputs": [
    {
     "name": "stdout",
     "output_type": "stream",
     "text": [
      "{'type': 'Feature', 'geometry': {'type': 'Point', 'coordinates': [117.36868799886666, 38.70662915139458]}, 'id': '1_LC08_122033_20200218_0_18', 'properties': {'AWEI': 993.25, 'B2': 202, 'B3': 355, 'B4': 228, 'B5': 29, 'B6': 30, 'B7': 31, 'CWI': 11.833333333333334, 'EVI': 4.252136752136752, 'EWI': 0.714975845410628, 'Image_id': 'LANDSAT/LC08/C01/T1_SR/LC08_122033_20200218', 'NDVI': -0.77431906614786, 'NDWI': 0.8489583333333334, 'mNDWI': 0.8441558441558441, 'ndvi_mndwi': -1.618474910303704, 'pixel_qa': 324, 'waterclass': 1}}\n",
      "total sample number:426\n"
     ]
    }
   ],
   "source": [
    "# 总的样本点数\n",
    "a = sample_image\n",
    "points_collection = a.map(imageSample).flatten()\n",
    "print(points_collection.first().getInfo())\n",
    "print('total sample number:{}'.format(points_collection.size().getInfo()))"
   ]
  },
  {
   "cell_type": "code",
   "execution_count": 47,
   "metadata": {
    "ExecuteTime": {
     "end_time": "2021-08-24T09:22:45.227002Z",
     "start_time": "2021-08-24T09:22:38.224832Z"
    }
   },
   "outputs": [
    {
     "name": "stdout",
     "output_type": "stream",
     "text": [
      "water sample number:304\n",
      "nowater sample number:122\n"
     ]
    }
   ],
   "source": [
    "# 水体的样本点数\n",
    "samplepoint_water = points_collection.filter(ee.Filter.eq('waterclass',1))\n",
    "print('water sample number:{}'.format(samplepoint_water.size().getInfo()))\n",
    "\n",
    "# 非水体的样本点数\n",
    "samplepoint_water = points_collection.filter(ee.Filter.eq('waterclass',0))\n",
    "print('nowater sample number:{}'.format(samplepoint_water.size().getInfo()))"
   ]
  },
  {
   "cell_type": "code",
   "execution_count": 48,
   "metadata": {
    "ExecuteTime": {
     "end_time": "2021-08-24T09:24:28.548377Z",
     "start_time": "2021-08-24T09:24:26.736687Z"
    }
   },
   "outputs": [
    {
     "name": "stdout",
     "output_type": "stream",
     "text": [
      "Exporting tianjin_new2020_l78_awei0_season...\n",
      "Exporting tianjin_new2020_l78_awei0_season...\n"
     ]
    }
   ],
   "source": [
    "folder = 'tianjin'\n",
    "label = 'tianjin_' + 'new2020_l78_awei0_season'\n",
    "# label = 'tianjin_' + 'new2020_l78'\n",
    "# csv格式\n",
    "selector = ['Image_id','B2', 'B3', 'B4', 'B5', 'B6', 'B7','NDVI','NDWI','mNDWI','CWI','AWEI','EWI','EVI','waterclass']\n",
    "geemap.ee_export_vector_to_drive(points_collection, description=label, folder=folder, file_format='csv', selectors=selector)\n",
    "\n",
    "# shp格式\n",
    "selector = ['Image_id','B2', 'B3', 'B4', 'B5', 'B6', 'B7','NDVI','NDWI','mNDWI','CWI','AWEI','EWI','EVI','waterclass']\n",
    "geemap.ee_export_vector_to_drive(points_collection, description=label, folder=folder, file_format='shp', selectors=selector)"
   ]
  },
  {
   "cell_type": "code",
   "execution_count": null,
   "metadata": {},
   "outputs": [],
   "source": []
  },
  {
   "cell_type": "code",
   "execution_count": null,
   "metadata": {},
   "outputs": [],
   "source": []
  }
 ],
 "metadata": {
  "hide_input": false,
  "kernelspec": {
   "display_name": "Python 3 (ipykernel)",
   "language": "python",
   "name": "python3"
  },
  "language_info": {
   "codemirror_mode": {
    "name": "ipython",
    "version": 3
   },
   "file_extension": ".py",
   "mimetype": "text/x-python",
   "name": "python",
   "nbconvert_exporter": "python",
   "pygments_lexer": "ipython3",
   "version": "3.8.5"
  },
  "toc": {
   "base_numbering": 1,
   "nav_menu": {
    "height": "172.997px",
    "width": "221.989px"
   },
   "number_sections": true,
   "sideBar": true,
   "skip_h1_title": false,
   "title_cell": "Table of Contents",
   "title_sidebar": "Contents",
   "toc_cell": false,
   "toc_position": {
    "height": "calc(100% - 180px)",
    "left": "10px",
    "top": "150px",
    "width": "349.091px"
   },
   "toc_section_display": true,
   "toc_window_display": false
  },
  "varInspector": {
   "cols": {
    "lenName": 16,
    "lenType": 16,
    "lenVar": 40
   },
   "kernels_config": {
    "python": {
     "delete_cmd_postfix": "",
     "delete_cmd_prefix": "del ",
     "library": "var_list.py",
     "varRefreshCmd": "print(var_dic_list())"
    },
    "r": {
     "delete_cmd_postfix": ") ",
     "delete_cmd_prefix": "rm(",
     "library": "var_list.r",
     "varRefreshCmd": "cat(var_dic_list()) "
    }
   },
   "types_to_exclude": [
    "module",
    "function",
    "builtin_function_or_method",
    "instance",
    "_Feature"
   ],
   "window_display": false
  }
 },
 "nbformat": 4,
 "nbformat_minor": 4
}
