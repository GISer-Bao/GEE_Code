{
 "cells": [
  {
   "cell_type": "code",
   "execution_count": 7,
   "id": "cfe1003c",
   "metadata": {
    "ExecuteTime": {
     "end_time": "2022-03-25T09:57:32.962055Z",
     "start_time": "2022-03-25T09:57:32.955076Z"
    }
   },
   "outputs": [
    {
     "name": "stdout",
     "output_type": "stream",
     "text": [
      "#f7fcf0\n",
      "#ccebc5\n",
      "#7bccc4\n",
      "#2b8cbe\n",
      "#084081\n"
     ]
    }
   ],
   "source": [
    "from pylab import *\n",
    "\n",
    "cmap = cm.get_cmap('GnBu', 5)    \n",
    "\n",
    "for i in range(cmap.N):\n",
    "    rgb = cmap(i)[:3] # will return rgba, we take only first 3 so we get rgb\n",
    "    print(matplotlib.colors.rgb2hex(rgb))"
   ]
  },
  {
   "cell_type": "code",
   "execution_count": 8,
   "id": "73091cc3",
   "metadata": {
    "ExecuteTime": {
     "end_time": "2022-03-25T09:57:47.393634Z",
     "start_time": "2022-03-25T09:57:47.375133Z"
    }
   },
   "outputs": [
    {
     "data": {
      "image/png": "[encoded data removed]",
      "text/html": [
       "<div style=\"vertical-align: middle;\"><strong>GnBu</strong> </div><div class=\"cmap\"><img alt=\"GnBu colormap\" title=\"GnBu\" style=\"border: 1px solid #555;\" src=\"data:image/png;base64,iVBORw0KGgoAAAANSUhEUgAAAgAAAABACAYAAABsv8+/AAAAE3RFWHRUaXRsZQBHbkJ1IGNvbG9ybWFwSQ6JOwAAABl0RVh0RGVzY3JpcHRpb24AR25CdSBjb2xvcm1hcMK8GaMAAAAwdEVYdEF1dGhvcgBNYXRwbG90bGliIHYzLjUuMSwgaHR0cHM6Ly9tYXRwbG90bGliLm9yZ/e3zs8AAAAydEVYdFNvZnR3YXJlAE1hdHBsb3RsaWIgdjMuNS4xLCBodHRwczovL21hdHBsb3RsaWIub3Jn2RFR6AAAAgdJREFUeJzt1rtugzAAhlHT93/Ybl0qu0O5CBfHQUmn/5wFGYJtSCJ9y9f3ZyullNZaKaWUVrbjanB+Gx/Xnzt/XL93frqfdqx0az/7fd3n9+uD85N1Szd/K9frvH/9x+9rtP7f93I9rpPro+9lG9d+vdn4TevX4XrlNK5teThu6/iYb9vXch5P77sev7yP2/et4/09DJ5j9lznv9l4H627bzhPt+5kX9u+h/sYzHMc199FPY/33+v2udr9b/r7B/Mc+2ndPM/ef/35+qZ59v1Nn28wntxXZ/MMn2Owz9vfy/W41P0Fdce6LXR9/tjI9fmX79+/kH/a3+/xowAAcQQAAAQSAAAQSAAAQCABAACBBAAABBIAABBIAABAIAEAAIEEAAAEEgAAEEgAAEAgAQAAgQQAAAQSAAAQSAAAQCABAACBBAAABBIAABBIAABAIAEAAIEEAAAEEgAAEEgAAEAgAQAAgQQAAAQSAAAQSAAAQCABAACBBAAABBIAABBIAABAIAEAAIEEAAAEEgAAEEgAAEAgAQAAgQQAAAQSAAAQSAAAQCABAACBBAAABBIAABBIAABAIAEAAIEEAAAEEgAAEEgAAEAgAQAAgQQAAAQSAAAQSAAAQCABAACBBAAABBIAABBIAABAIAEAAIEEAAAEEgAAEEgAAEAgAQAAgQQAAAQSAAAQ6AdSOPdXSQj4MgAAAABJRU5ErkJggg==\"></div><div style=\"vertical-align: middle; max-width: 514px; display: flex; justify-content: space-between;\"><div style=\"float: left;\"><div title=\"#f7fcf0ff\" style=\"display: inline-block; width: 1em; height: 1em; margin: 0; vertical-align: middle; border: 1px solid #555; background-color: #f7fcf0ff;\"></div> under</div><div style=\"margin: 0 auto; display: inline-block;\">bad <div title=\"#00000000\" style=\"display: inline-block; width: 1em; height: 1em; margin: 0; vertical-align: middle; border: 1px solid #555; background-color: #00000000;\"></div></div><div style=\"float: right;\">over <div title=\"#084081ff\" style=\"display: inline-block; width: 1em; height: 1em; margin: 0; vertical-align: middle; border: 1px solid #555; background-color: #084081ff;\"></div></div>"
      ],
      "text/plain": [
       "<matplotlib.colors.LinearSegmentedColormap at 0x22d18cf2940>"
      ]
     },
     "execution_count": 8,
     "metadata": {},
     "output_type": "execute_result"
    }
   ],
   "source": [
    "plt.cm.get_cmap('GnBu')"
   ]
  },
  {
   "cell_type": "code",
   "execution_count": null,
   "id": "6037863b",
   "metadata": {},
   "outputs": [],
   "source": [
    "# 每种颜色图还可通过添加后缀 _r 来反转，\n",
    "# 形象化理解就是把上面的色条水平翻转（eg：若当前使用set3的前三个颜色，\n",
    "# 则改成set3_r后就变成使用set3的后三个颜色）"
   ]
  }
 ],
 "metadata": {
  "hide_input": false,
  "kernelspec": {
   "display_name": "Python 3 (ipykernel)",
   "language": "python",
   "name": "python3"
  },
  "language_info": {
   "codemirror_mode": {
    "name": "ipython",
    "version": 3
   },
   "file_extension": ".py",
   "mimetype": "text/x-python",
   "name": "python",
   "nbconvert_exporter": "python",
   "pygments_lexer": "ipython3",
   "version": "3.8.12"
  },
  "toc": {
   "base_numbering": 1,
   "nav_menu": {},
   "number_sections": true,
   "sideBar": true,
   "skip_h1_title": false,
   "title_cell": "Table of Contents",
   "title_sidebar": "Contents",
   "toc_cell": false,
   "toc_position": {},
   "toc_section_display": true,
   "toc_window_display": false
  },
  "varInspector": {
   "cols": {
    "lenName": 16,
    "lenType": 16,
    "lenVar": 40
   },
   "kernels_config": {
    "python": {
     "delete_cmd_postfix": "",
     "delete_cmd_prefix": "del ",
     "library": "var_list.py",
     "varRefreshCmd": "print(var_dic_list())"
    },
    "r": {
     "delete_cmd_postfix": ") ",
     "delete_cmd_prefix": "rm(",
     "library": "var_list.r",
     "varRefreshCmd": "cat(var_dic_list()) "
    }
   },
   "types_to_exclude": [
    "module",
    "function",
    "builtin_function_or_method",
    "instance",
    "_Feature"
   ],
   "window_display": false
  }
 },
 "nbformat": 4,
 "nbformat_minor": 5
}
