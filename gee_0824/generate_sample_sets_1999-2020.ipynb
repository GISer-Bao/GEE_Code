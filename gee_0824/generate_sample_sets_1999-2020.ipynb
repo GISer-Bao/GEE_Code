{
 "cells": [
  {
   "cell_type": "code",
   "execution_count": null,
   "id": "6bd39e71",
   "metadata": {
    "ExecuteTime": {
     "end_time": "2022-02-14T04:29:36.707687Z",
     "start_time": "2022-02-14T04:29:36.699680Z"
    }
   },
   "outputs": [],
   "source": [
    "import os\n",
    "os.environ['HTTP_PROXY'] = \"http://127.0.0.1:10809\"\n",
    "os.environ['HTTPS_PROXY'] = \"http://127.0.0.1:10809\""
   ]
  },
  {
   "cell_type": "code",
   "execution_count": null,
   "id": "4108399f",
   "metadata": {
    "ExecuteTime": {
     "end_time": "2022-02-14T04:29:42.839365Z",
     "start_time": "2022-02-14T04:29:36.962976Z"
    },
    "scrolled": false
   },
   "outputs": [],
   "source": [
    "import geemap\n",
    "import ee\n",
    "Map=geemap.Map()\n",
    "Map"
   ]
  },
  {
   "cell_type": "code",
   "execution_count": null,
   "id": "cd096dc6",
   "metadata": {
    "ExecuteTime": {
     "end_time": "2022-02-14T04:29:43.931687Z",
     "start_time": "2022-02-14T04:29:43.078736Z"
    }
   },
   "outputs": [],
   "source": [
    "# # 大庆市\n",
    "# roi = ee.Geometry.Rectangle([123.9355, 45.8362,125.3055, 46.8762])\n",
    "# # 天津市\n",
    "# roi = ee.Geometry.Rectangle([115.9244, 38.6272,117.4944,39.6372])\n",
    "# # 武汉市\n",
    "# roi = ee.Geometry.Rectangle([113.7393, 29.8642,115.0993, 30.9242])\n",
    "# # 珠三角\n",
    "# roi = ee.Geometry.Rectangle([112.7614, 22.2347,114.0514, 23.2547])\n",
    "# 青藏高原\n",
    "roi = ee.Geometry.Rectangle([89.8826, 34.6579,91.3626, 35.8279])\n",
    "Map.addLayer(roi, {}, \"roi\")\n",
    "Map.centerObject(roi,7)"
   ]
  },
  {
   "cell_type": "code",
   "execution_count": null,
   "id": "324c7216",
   "metadata": {
    "ExecuteTime": {
     "end_time": "2022-02-14T04:29:44.232853Z",
     "start_time": "2022-02-14T04:29:44.225873Z"
    }
   },
   "outputs": [],
   "source": [
    "# l8 = ee.ImageCollection('LANDSAT/LC08/C01/T1_SR').filterBounds(roi).filterDate('2020-08-01','2020-10-31').filter(ee.Filter.lt('CLOUD_COVER',20))\n",
    "# visParams = {'bands': ['B5', 'B6', 'B4'],'min': 0,'max': 3000,'gamma': 1.4}\n",
    "# # Map.addLayer(l8, visParams,'image mosaic')\n",
    "# print(l8.aggregate_array('system:index').getInfo())\n",
    "\n",
    "# landsat5 = ee.ImageCollection('LANDSAT/LT05/C01/T1_SR').select(['B1', 'B2', 'B3', 'B4', 'B5', 'B7','pixel_qa'],['B2', 'B3', 'B4', 'B5', 'B6', 'B7','pixel_qa'])\n",
    "# l5 = landsat5.filterBounds(roi).filterDate('2000-08-01','2000-10-31').filter(ee.Filter.lt('CLOUD_COVER',10))\n",
    "# print(l5.aggregate_array('system:index').getInfo())\n",
    "\n",
    "# a = ee.Image('LANDSAT/LC08/C01/T1_SR/LC08_122033_20200828')\n",
    "# visParams = {'bands': ['B5', 'B6', 'B4'],'min': 0,'max': 3000,'gamma': 1.4}\n",
    "# Map.addLayer(a, visParams,'a')"
   ]
  },
  {
   "cell_type": "markdown",
   "id": "b9f5fde6",
   "metadata": {
    "heading_collapsed": true
   },
   "source": [
    "## 循环，生成总的样本集"
   ]
  },
  {
   "cell_type": "code",
   "execution_count": null,
   "id": "8c775375",
   "metadata": {
    "ExecuteTime": {
     "end_time": "2022-02-14T04:16:13.212991Z",
     "start_time": "2022-02-14T04:16:13.199027Z"
    },
    "hidden": true
   },
   "outputs": [],
   "source": [
    "## 异常值去除\n",
    "bands = ['B2', 'B3', 'B4', 'B5', 'B6', 'B7','NDVI','NDWI','mNDWI','CWI','AWEI','EWI','EVI']\n",
    "#### cluster与waterclass的对比\n",
    "def Compare(feature):\n",
    "    cluster = ee.Number(feature.get('cluster'))\n",
    "    waterclass = ee.Number(feature.get('waterclass'))\n",
    "    ft = ee.Algorithms.If(cluster.eq(waterclass),feature.set({'eq':1}),feature.set({'eq':0}))\n",
    "    return ft\n",
    "#### k-mean聚类\n",
    "def k_mean(sampleSET):\n",
    "    clusterer = ee.Clusterer.wekaKMeans(2).train(sampleSET,bands)\n",
    "    result = sampleSET.cluster(clusterer)\n",
    "    right = result.map(Compare).filter(ee.Filter.eq('eq',0))\n",
    "    error = result.map(Compare).filter(ee.Filter.eq('eq',1))\n",
    "    filtered_sample = ee.FeatureCollection(ee.Algorithms.If(right.size().gt(error.size()),right,error))\n",
    "    return filtered_sample"
   ]
  },
  {
   "cell_type": "code",
   "execution_count": null,
   "id": "4db1e0b8",
   "metadata": {
    "ExecuteTime": {
     "end_time": "2022-02-14T02:56:14.349762Z",
     "start_time": "2022-02-14T02:56:14.343743Z"
    },
    "hidden": true
   },
   "outputs": [],
   "source": [
    "# region = 'tibet'\n",
    "# sample_region = 'TIBET'\n",
    "# for year in range(2000,2021,1):\n",
    "#     print(year)\n",
    "#     sw = ee.FeatureCollection('users/311605001111/SAMPLE_' + sample_region + '/' + region + '_kmean100_season' + str(year)+'_v2').randomColumn('random',1,'uniform').sort('random').limit(500)\n",
    "#     print('抽样的季节性水体： ',sw.size().getInfo())"
   ]
  },
  {
   "cell_type": "code",
   "execution_count": null,
   "id": "e7b63f4d",
   "metadata": {
    "ExecuteTime": {
     "start_time": "2022-02-14T03:00:21.012Z"
    },
    "hidden": true
   },
   "outputs": [],
   "source": [
    "# region = 'daqing'\n",
    "# sample_region = 'DAQING'\n",
    "# region = 'tianjin'\n",
    "# sample_region = 'TIANJIN'\n",
    "# region = 'wuhan'\n",
    "# sample_region = 'WUHAN'"
   ]
  },
  {
   "cell_type": "code",
   "execution_count": null,
   "id": "8b8728e7",
   "metadata": {
    "ExecuteTime": {
     "start_time": "2022-02-14T03:00:21.012Z"
    },
    "hidden": true,
    "scrolled": false
   },
   "outputs": [],
   "source": [
    "totalSamples = ee.FeatureCollection([])\n",
    "for year in range(1999,2021,5):\n",
    "    print(year)\n",
    "    ## 永久性水体样本和非水体样本，抽样\n",
    "    pw_nw_n = ee.FeatureCollection('users/311605001111/SAMPLE_' + sample_region + '/' + region + '_kmean100_noseason' + str(year))\n",
    "    pw_nw = pw_nw_n.map(lambda i : i.set({'AWEI':ee.Number(i.get('AWEI')).divide(10000)}))\n",
    "    permanent_water = pw_nw.filter(ee.Filter.eq('waterclass',1)).randomColumn('random',1,'uniform').sort('random').limit(500)\n",
    "    no_water = pw_nw.filter(ee.Filter.eq('waterclass',0)).randomColumn('random',1,'uniform').sort('random').limit(3000)\n",
    "    print('抽样的永久性水体： ',permanent_water.size().getInfo())\n",
    "    print('抽样的非水体： ',no_water.size().getInfo())\n",
    "    ## 季节性样本，抽样\n",
    "    # sww = ee.FeatureCollection('users/311605001111/SAMPLE_' + sample_region + '/' + region + '_kmean100_season' + str(year)+'_v2')\n",
    "    sww = ee.FeatureCollection('users/311605001111/SAMPLE_' + sample_region + '/' + region + '_kmean100_season' + str(year))\n",
    "    sw = sww.map(lambda i : i.set({'AWEI':ee.Number(i.get('AWEI')).divide(10000)})).randomColumn('random',1,'uniform').sort('random').limit(500)\n",
    "    print('抽样的季节性水体： ',sw.size().getInfo())\n",
    "    \n",
    "    ## 季节性样本，分类\n",
    "    bands = ['B2', 'B3', 'B4', 'B5', 'B6', 'B7','NDVI','NDWI','mNDWI','CWI','AWEI','EWI','EVI']\n",
    "    cluster_samples = ee.FeatureCollection([permanent_water,no_water]).flatten()\n",
    "    clusterer = ee.Clusterer.wekaKMeans(2).train(cluster_samples,bands)\n",
    "    q = ee.FeatureCollection(sw.cluster(clusterer))\n",
    "    q1 = q.filter(ee.Filter.eq('cluster',1))\n",
    "    q0 = q.filter(ee.Filter.eq('cluster',0))\n",
    "    b1 = ee.FeatureCollection(q1).filter(ee.Filter.lt('AWEI',0)).size()\n",
    "    b2 = ee.FeatureCollection(q1).filter(ee.Filter.gt('AWEI',0)).size()\n",
    "    c1 = ee.FeatureCollection(q0).filter(ee.Filter.lt('AWEI',0)).size()\n",
    "    c2 = ee.FeatureCollection(q0).filter(ee.Filter.gt('AWEI',0)).size()\n",
    "    qq1 = ee.Algorithms.If(ee.Number(b1).lt(ee.Number(b2)),q1.map(lambda i:i.set({'waterclass':1})),q1.map(lambda i:i.set({'waterclass':0})))\n",
    "    qq0 = ee.Algorithms.If(ee.Number(c1).lt(ee.Number(c2)),q0.map(lambda i:i.set({'waterclass':1})),q0.map(lambda i:i.set({'waterclass':0})))\n",
    "    seasonWater = ee.FeatureCollection([qq1,qq0]).flatten()\n",
    "    ## 合并\n",
    "    total_Samples = ee.FeatureCollection([permanent_water,no_water,seasonWater]).flatten()\n",
    "    print(\"筛选前，剩余的样本数： \",total_Samples.size().getInfo())\n",
    "    ## 异常值去除\n",
    "    filtered_samples = k_mean(total_Samples)\n",
    "    print(\"筛选后，剩余的样本数： \",filtered_samples.size().getInfo())\n",
    "    print('no-water')\n",
    "    print(filtered_samples.filter(ee.Filter.eq('waterclass',0)).filter(ee.Filter.lt('AWEI',0)).size().getInfo())\n",
    "    print(filtered_samples.filter(ee.Filter.eq('waterclass',0)).filter(ee.Filter.gt('AWEI',0)).size().getInfo())\n",
    "    print('water')\n",
    "    print(filtered_samples.filter(ee.Filter.eq('waterclass',1)).filter(ee.Filter.lt('AWEI',0)).size().getInfo())\n",
    "    print(filtered_samples.filter(ee.Filter.eq('waterclass',1)).filter(ee.Filter.gt('AWEI',0)).size().getInfo())\n",
    "    totalSamples = totalSamples.merge(filtered_samples)\n",
    "    print(\"总样本： \",totalSamples.size().getInfo())"
   ]
  },
  {
   "cell_type": "code",
   "execution_count": null,
   "id": "7c513a61",
   "metadata": {
    "ExecuteTime": {
     "end_time": "2021-12-24T10:13:13.394579Z",
     "start_time": "2021-12-24T10:13:07.240116Z"
    },
    "hidden": true
   },
   "outputs": [],
   "source": [
    "dataset_id = region + '_kmean100_9920_v2'\n",
    "assetID = 'users/311605001111/SAMPLE_' + sample_region + '/' + dataset_id\n",
    "task = ee.batch.Export.table.toAsset(**{\n",
    "    'collection': totalSamples,\n",
    "    'description': dataset_id,\n",
    "    'assetId': assetID\n",
    "})\n",
    "task.start()"
   ]
  },
  {
   "cell_type": "markdown",
   "id": "a9bcc326",
   "metadata": {
    "ExecuteTime": {
     "end_time": "2021-12-09T14:38:57.544789Z",
     "start_time": "2021-12-09T14:38:57.529901Z"
    }
   },
   "source": [
    "## 分年份生成样本集"
   ]
  },
  {
   "cell_type": "code",
   "execution_count": null,
   "id": "ec9dfb35",
   "metadata": {
    "ExecuteTime": {
     "end_time": "2022-02-14T04:23:41.924080Z",
     "start_time": "2022-02-14T04:23:41.911116Z"
    }
   },
   "outputs": [],
   "source": [
    "## 异常值去除\n",
    "bands = ['B2', 'B3', 'B4', 'B5', 'B6', 'B7','NDVI','NDWI','mNDWI','CWI','AWEI','EWI','EVI']\n",
    "#### cluster与waterclass的对比\n",
    "def Compare(feature):\n",
    "    cluster = ee.Number(feature.get('cluster'))\n",
    "    waterclass = ee.Number(feature.get('waterclass'))\n",
    "    ft = ee.Algorithms.If(cluster.eq(waterclass),feature.set({'eq':1}),feature.set({'eq':0}))\n",
    "    return ft\n",
    "#### k-mean聚类\n",
    "def k_mean(sampleSET):\n",
    "    clusterer = ee.Clusterer.wekaKMeans(2).train(sampleSET,bands)\n",
    "    result = sampleSET.cluster(clusterer)\n",
    "    right = result.map(Compare).filter(ee.Filter.eq('eq',0))\n",
    "    error = result.map(Compare).filter(ee.Filter.eq('eq',1))\n",
    "    filtered_sample = ee.FeatureCollection(ee.Algorithms.If(right.size().gt(error.size()),right,error))\n",
    "    return filtered_sample"
   ]
  },
  {
   "cell_type": "code",
   "execution_count": null,
   "id": "ef910f29",
   "metadata": {
    "ExecuteTime": {
     "end_time": "2022-02-14T04:23:47.491618Z",
     "start_time": "2022-02-14T04:23:47.474692Z"
    }
   },
   "outputs": [],
   "source": [
    "# region = 'daqing'\n",
    "# sample_region = 'DAQING'\n",
    "# region = 'tianjin'\n",
    "# sample_region = 'TIANJIN'\n",
    "region = 'wuhan'\n",
    "sample_region = 'WUHAN'"
   ]
  },
  {
   "cell_type": "code",
   "execution_count": null,
   "id": "4711ee37",
   "metadata": {
    "ExecuteTime": {
     "end_time": "2022-02-14T04:25:40.504150Z",
     "start_time": "2022-02-14T04:23:47.748931Z"
    },
    "scrolled": false
   },
   "outputs": [],
   "source": [
    "for year in range(1999,2021,5):\n",
    "    print(year)\n",
    "    ## 永久性水体样本和非水体样本，抽样\n",
    "    pw_nw_n = ee.FeatureCollection('users/311605001111/SAMPLE_' + sample_region + '/' + region + '_kmean100_noseason' + str(year))\n",
    "    pw_nw = pw_nw_n.map(lambda i : i.set({'AWEI':ee.Number(i.get('AWEI')).divide(10000)}))\n",
    "    permanent_water = pw_nw.filter(ee.Filter.eq('waterclass',1)).randomColumn('random',1,'uniform').sort('random').limit(500)\n",
    "    no_water = pw_nw.filter(ee.Filter.eq('waterclass',0)).randomColumn('random',1,'uniform').sort('random').limit(3000)\n",
    "    print('抽样的永久性水体： ',permanent_water.size().getInfo())\n",
    "    print('抽样的非水体： ',no_water.size().getInfo())\n",
    "    ## 季节性样本，抽样\n",
    "    # sww = ee.FeatureCollection('users/311605001111/SAMPLE_' + sample_region + '/' + region + '_kmean100_season' + str(year)+'_v2')\n",
    "    sww = ee.FeatureCollection('users/311605001111/SAMPLE_' + sample_region + '/' + region + '_kmean100_season' + str(year))\n",
    "    sw = sww.map(lambda i : i.set({'AWEI':ee.Number(i.get('AWEI')).divide(10000)})).randomColumn('random',1,'uniform').sort('random').limit(500)\n",
    "    print('抽样的季节性水体： ',sw.size().getInfo())\n",
    "    \n",
    "    ## 季节性样本，分类\n",
    "    bands = ['B2', 'B3', 'B4', 'B5', 'B6', 'B7','NDVI','NDWI','mNDWI','CWI','AWEI','EWI','EVI']\n",
    "    cluster_samples = ee.FeatureCollection([permanent_water,no_water]).flatten()\n",
    "    clusterer = ee.Clusterer.wekaKMeans(2).train(cluster_samples,bands)\n",
    "    q = ee.FeatureCollection(sw.cluster(clusterer))\n",
    "    q1 = q.filter(ee.Filter.eq('cluster',1))\n",
    "    q0 = q.filter(ee.Filter.eq('cluster',0))\n",
    "    b1 = ee.FeatureCollection(q1).filter(ee.Filter.lt('AWEI',0)).size()\n",
    "    b2 = ee.FeatureCollection(q1).filter(ee.Filter.gt('AWEI',0)).size()\n",
    "    c1 = ee.FeatureCollection(q0).filter(ee.Filter.lt('AWEI',0)).size()\n",
    "    c2 = ee.FeatureCollection(q0).filter(ee.Filter.gt('AWEI',0)).size()\n",
    "    qq1 = ee.Algorithms.If(ee.Number(b1).lt(ee.Number(b2)),q1.map(lambda i:i.set({'waterclass':1})),q1.map(lambda i:i.set({'waterclass':0})))\n",
    "    qq0 = ee.Algorithms.If(ee.Number(c1).lt(ee.Number(c2)),q0.map(lambda i:i.set({'waterclass':1})),q0.map(lambda i:i.set({'waterclass':0})))\n",
    "    seasonWater = ee.FeatureCollection([qq1,qq0]).flatten()\n",
    "    ## 合并\n",
    "    total_Samples = ee.FeatureCollection([permanent_water,no_water,seasonWater]).flatten()\n",
    "    print(\"筛选前，剩余的样本数： \",total_Samples.size().getInfo())\n",
    "    ## 异常值去除\n",
    "    filtered_samples = k_mean(total_Samples)\n",
    "    print(\"筛选后，剩余的样本数： \",filtered_samples.size().getInfo())\n",
    "    dataset_id = region + str(year)\n",
    "    assetID = 'users/311605001111/SAMPLE_' + sample_region + '/' + dataset_id\n",
    "    task = ee.batch.Export.table.toAsset(**{\n",
    "        'collection': filtered_samples,\n",
    "        'description': dataset_id,\n",
    "        'assetId': assetID\n",
    "    })\n",
    "    task.start()"
   ]
  },
  {
   "cell_type": "markdown",
   "id": "8126fba0",
   "metadata": {},
   "source": [
    "### 验证"
   ]
  },
  {
   "cell_type": "code",
   "execution_count": null,
   "id": "4b80bb4e",
   "metadata": {},
   "outputs": [],
   "source": [
    "region = 'tibet'\n",
    "sample_region = 'TIBET'\n",
    "totalSamples = ee.FeatureCollection([])\n",
    "for year in range(1999,2021,5):\n",
    "    print(year)\n",
    "    pw_nw = ee.FeatureCollection('users/311605001111/SAMPLE_' + sample_region + '/' + region + str(year))\n",
    "    print('xxxxxx： ',pw_nw.size().getInfo())\n",
    "    totalSamples = totalSamples.merge(pw_nw)\n",
    "    print(\"总样本： \",totalSamples.size().getInfo())"
   ]
  },
  {
   "cell_type": "code",
   "execution_count": null,
   "id": "6f43b27e",
   "metadata": {},
   "outputs": [],
   "source": []
  },
  {
   "cell_type": "markdown",
   "id": "86befc28",
   "metadata": {
    "heading_collapsed": true
   },
   "source": [
    "# 汇总"
   ]
  },
  {
   "cell_type": "code",
   "execution_count": null,
   "id": "65e15732",
   "metadata": {
    "ExecuteTime": {
     "end_time": "2022-02-14T04:38:27.070152Z",
     "start_time": "2022-02-14T04:38:27.051232Z"
    },
    "hidden": true
   },
   "outputs": [],
   "source": [
    "# region = 'daqing'\n",
    "# sample_region = 'DAQING'\n",
    "# region = 'tianjin'\n",
    "# sample_region = 'TIANJIN'\n",
    "# region = 'wuhan'\n",
    "# sample_region = 'WUHAN'\n",
    "# region = 'prd'\n",
    "# sample_region = 'PRD'\n",
    "region = 'tibet'\n",
    "sample_region = 'TIBET'"
   ]
  },
  {
   "cell_type": "code",
   "execution_count": null,
   "id": "6500bd45",
   "metadata": {
    "ExecuteTime": {
     "end_time": "2022-02-14T04:38:30.570337Z",
     "start_time": "2022-02-14T04:38:27.526930Z"
    },
    "hidden": true
   },
   "outputs": [],
   "source": [
    "totalSamples = ee.FeatureCollection([])\n",
    "for year in range(1999,2021,5):\n",
    "    print(year)\n",
    "    ## 永久性水体样本和非水体样本，抽样\n",
    "    samples = ee.FeatureCollection('users/311605001111/SAMPLE_' + sample_region + '/' + region + str(year))\n",
    "    totalSamples = totalSamples.merge(samples)\n",
    "    print(\"总样本： \",totalSamples.size().getInfo())"
   ]
  },
  {
   "cell_type": "code",
   "execution_count": null,
   "id": "eb044ebe",
   "metadata": {
    "ExecuteTime": {
     "end_time": "2022-02-14T04:38:31.638314Z",
     "start_time": "2022-02-14T04:38:30.859595Z"
    },
    "hidden": true
   },
   "outputs": [],
   "source": [
    "dataset_id = region + '_kmean100_9920_v2'\n",
    "assetID = 'users/311605001111/SAMPLE_' + sample_region + '/' + dataset_id\n",
    "task = ee.batch.Export.table.toAsset(**{\n",
    "    'collection': totalSamples,\n",
    "    'description': dataset_id,\n",
    "    'assetId': assetID\n",
    "})\n",
    "task.start()"
   ]
  },
  {
   "cell_type": "code",
   "execution_count": null,
   "id": "ca5160cb",
   "metadata": {
    "hidden": true
   },
   "outputs": [],
   "source": []
  }
 ],
 "metadata": {
  "hide_input": false,
  "kernelspec": {
   "display_name": "Python 3 (ipykernel)",
   "language": "python",
   "name": "python3"
  },
  "language_info": {
   "codemirror_mode": {
    "name": "ipython",
    "version": 3
   },
   "file_extension": ".py",
   "mimetype": "text/x-python",
   "name": "python",
   "nbconvert_exporter": "python",
   "pygments_lexer": "ipython3",
   "version": "3.8.12"
  },
  "toc": {
   "base_numbering": 1,
   "nav_menu": {},
   "number_sections": true,
   "sideBar": true,
   "skip_h1_title": false,
   "title_cell": "Table of Contents",
   "title_sidebar": "Contents",
   "toc_cell": false,
   "toc_position": {},
   "toc_section_display": true,
   "toc_window_display": true
  },
  "varInspector": {
   "cols": {
    "lenName": 16,
    "lenType": 16,
    "lenVar": 40
   },
   "kernels_config": {
    "python": {
     "delete_cmd_postfix": "",
     "delete_cmd_prefix": "del ",
     "library": "var_list.py",
     "varRefreshCmd": "print(var_dic_list())"
    },
    "r": {
     "delete_cmd_postfix": ") ",
     "delete_cmd_prefix": "rm(",
     "library": "var_list.r",
     "varRefreshCmd": "cat(var_dic_list()) "
    }
   },
   "types_to_exclude": [
    "module",
    "function",
    "builtin_function_or_method",
    "instance",
    "_Feature"
   ],
   "window_display": false
  }
 },
 "nbformat": 4,
 "nbformat_minor": 5
}
