{
 "cells": [
  {
   "cell_type": "code",
   "execution_count": 1,
   "metadata": {
    "ExecuteTime": {
     "end_time": "2022-03-08T02:57:55.983917Z",
     "start_time": "2022-03-08T02:57:55.972918Z"
    }
   },
   "outputs": [],
   "source": [
    "import os\n",
    "os.environ['HTTP_PROXY'] = \"http://127.0.0.1:10809\"\n",
    "os.environ['HTTPS_PROXY'] = \"http://127.0.0.1:10809\""
   ]
  },
  {
   "cell_type": "code",
   "execution_count": 2,
   "metadata": {
    "ExecuteTime": {
     "end_time": "2022-03-08T02:58:01.845343Z",
     "start_time": "2022-03-08T02:57:56.275110Z"
    },
    "scrolled": false
   },
   "outputs": [
    {
     "data": {
      "application/vnd.jupyter.widget-view+json": {
       "model_id": "ecbed1804c5b447f95d916fc70110a98",
       "version_major": 2,
       "version_minor": 0
      },
      "text/plain": [
       "Map(center=[20, 0], controls=(WidgetControl(options=['position', 'transparent_bg'], widget=HBox(children=(Togg…"
      ]
     },
     "metadata": {},
     "output_type": "display_data"
    }
   ],
   "source": [
    "import geemap\n",
    "import ee\n",
    "Map=geemap.Map()\n",
    "Map"
   ]
  },
  {
   "cell_type": "code",
   "execution_count": 3,
   "metadata": {
    "ExecuteTime": {
     "end_time": "2022-03-08T02:58:01.940090Z",
     "start_time": "2022-03-08T02:58:01.925130Z"
    }
   },
   "outputs": [],
   "source": [
    "# 定义参数\n",
    "region = 'daqing'\n",
    "year = '2015'\n",
    "startDate = year + '-01-01'\n",
    "endDate = year + '-12-31'"
   ]
  },
  {
   "cell_type": "code",
   "execution_count": 4,
   "metadata": {
    "ExecuteTime": {
     "end_time": "2022-03-08T02:58:02.903070Z",
     "start_time": "2022-03-08T02:58:02.019877Z"
    }
   },
   "outputs": [],
   "source": [
    "# # 大庆市\n",
    "roi = ee.Geometry.Rectangle([123.9355, 45.8362,125.3055, 46.8762])\n",
    "# # 天津市\n",
    "# roi = ee.Geometry.Rectangle([115.9244, 38.6272,117.4944,39.6372])\n",
    "# # 武汉市\n",
    "# roi = ee.Geometry.Rectangle([113.7393, 29.8642,115.0993, 30.9242])\n",
    "# # 珠三角\n",
    "# roi = ee.Geometry.Rectangle([112.7614, 22.2347,114.0514, 23.2547])\n",
    "# 青藏高原\n",
    "# roi = ee.Geometry.Rectangle([89.8826, 34.6579,91.3626, 35.8279])\n",
    "Map.addLayer(roi, {}, \"roi\")\n",
    "Map.centerObject(roi,9)"
   ]
  },
  {
   "cell_type": "code",
   "execution_count": 5,
   "metadata": {
    "ExecuteTime": {
     "end_time": "2022-03-08T02:58:02.998809Z",
     "start_time": "2022-03-08T02:58:02.983820Z"
    }
   },
   "outputs": [],
   "source": [
    "region = 'daqing'\n",
    "elevation = ee.Image(\"users/311605001111/hillshade_\" + region)\n",
    "def maskSR(img):\n",
    "    cloudShadowBitMask = (1 << 3)\n",
    "    cloudsBitMask = (1 << 5)\n",
    "    snowBitMask = (1 << 4)   \n",
    "    qa = img.select('pixel_qa').toInt()\n",
    "    mask = qa.bitwiseAnd(cloudShadowBitMask).eq(0) \\\n",
    "                   .And(qa.bitwiseAnd(cloudsBitMask).eq(0)) \\\n",
    "                   .And(qa.bitwiseAnd(snowBitMask).eq(0))\n",
    "    azimuth = img.get('SOLAR_AZIMUTH_ANGLE')\n",
    "    zenith = img.get('SOLAR_ZENITH_ANGLE')\n",
    "    image = img.lt(0)\n",
    "    bands = image.select('B2').add(image.select('B3')).add(image.select('B4')).add(image.select('B5')).add(image.select('B6')).add(image.select('B7'))\n",
    "    outlier = bands.gt(0).remap([0,1],[1,0]).rename('outlier')\n",
    "    return img.updateMask(mask).updateMask(ee.Terrain.hillShadow(elevation,azimuth,zenith,200,True)).updateMask(outlier)"
   ]
  },
  {
   "cell_type": "code",
   "execution_count": 6,
   "metadata": {
    "ExecuteTime": {
     "end_time": "2022-03-08T02:58:03.094522Z",
     "start_time": "2022-03-08T02:58:03.079563Z"
    }
   },
   "outputs": [],
   "source": [
    "## 指数的计算\n",
    "def water_index(img):\n",
    "    image = img.clip(roi)\n",
    "    ndvi=image.normalizedDifference(['B5', 'B4']).rename('NDVI')\n",
    "    ndwi=image.normalizedDifference(['B3', 'B5']).rename(\"NDWI\")\n",
    "    mndwi=image.normalizedDifference(['B3', 'B6']).rename(\"mNDWI\")\n",
    "    ndvi_mndwi = ndvi.subtract(mndwi).rename('ndvi_mndwi')\n",
    "    cwi=image.select('B3').divide(image.select('B6')).rename(\"CWI\")\n",
    "    awei = image.expression('(B2 + 2.5*B3 - 1.5*(B5+B6) - 0.25*B7)/10000',\n",
    "        {\n",
    "          'B2': image.select('B2'),\n",
    "          'B3': image.select('B3'),    \n",
    "          'B5': image.select('B5'),    \n",
    "          'B6': image.select('B6'),\n",
    "          'B7': image.select('B7'),\n",
    "        }).rename('AWEI')\n",
    "    ewi = image.expression('(B3 - B5 - B6)/(B3 + B5 + B6)',\n",
    "        {\n",
    "          'B3': image.select('B3'),    \n",
    "          'B5': image.select('B5'),    \n",
    "          'B6': image.select('B6'),\n",
    "        }).rename('EWI')\n",
    "    evi = image.expression('2.5*(B5 - B4)/(B5 + 6*B4 - 7.5*B2 + 1)',\n",
    "        {\n",
    "          'B2': image.select('B2'),\n",
    "          'B4': image.select('B4'),\n",
    "          'B5': image.select('B5'),    \n",
    "        }).rename('EVI')\n",
    "    return image.addBands(ndvi).addBands(ndwi).addBands(mndwi).addBands(cwi).addBands(awei).addBands(ewi).addBands(evi).addBands(ndvi_mndwi)"
   ]
  },
  {
   "cell_type": "code",
   "execution_count": 7,
   "metadata": {
    "ExecuteTime": {
     "end_time": "2022-03-08T02:58:03.221185Z",
     "start_time": "2022-03-08T02:58:03.175307Z"
    }
   },
   "outputs": [],
   "source": [
    "l8 = ee.ImageCollection('LANDSAT/LC08/C01/T1_SR') \\\n",
    "        .select(['B2', 'B3', 'B4', 'B5', 'B6', 'B7','pixel_qa']) \\\n",
    "        .filterBounds(roi) \\\n",
    "        .filterDate('2015-05-25','2015-05-31')\n",
    "# l8 = ee.ImageCollection('LANDSAT/LC08/C01/T1_SR') \\\n",
    "#        .select(['B2', 'B3', 'B4', 'B5', 'B6', 'B7','pixel_qa']) \\\n",
    "#        .filterBounds(roi) \\\n",
    "#        .filterDate('2013-01-01', '2020-12-31') "
   ]
  },
  {
   "cell_type": "code",
   "execution_count": 8,
   "metadata": {
    "ExecuteTime": {
     "end_time": "2022-03-08T02:58:03.377795Z",
     "start_time": "2022-03-08T02:58:03.325905Z"
    }
   },
   "outputs": [],
   "source": [
    "def near_orbit(imgCol):\n",
    "    imgCol_date = imgCol.map(lambda i:i.set({'date': ee.String(i.get('system:id')).slice(-8,)}))\n",
    "    dates = ee.List(imgCol_date.distinct('date').aggregate_array('date'))\n",
    "    imgCol_median = ee.ImageCollection(dates.map(lambda i:imgCol_date.filter(ee.Filter.eq('date',i)).median().copyProperties(imgCol_date.filter(ee.Filter.eq('date',i)).first())))\n",
    "    return imgCol_median"
   ]
  },
  {
   "cell_type": "code",
   "execution_count": null,
   "metadata": {
    "ExecuteTime": {
     "end_time": "2022-03-07T06:54:36.141630Z",
     "start_time": "2022-03-07T06:54:33.045296Z"
    }
   },
   "outputs": [],
   "source": [
    "print(l8.size().getInfo())\n",
    "print(l8.aggregate_array(\"system:id\").getInfo())\n",
    "za = near_orbit(l8.map(maskSR))\n",
    "print(za.size().getInfo())\n",
    "print(za.aggregate_array('date').getInfo())"
   ]
  },
  {
   "cell_type": "code",
   "execution_count": null,
   "metadata": {
    "ExecuteTime": {
     "end_time": "2022-03-07T06:55:31.025381Z",
     "start_time": "2022-03-07T06:55:29.221714Z"
    },
    "scrolled": true
   },
   "outputs": [],
   "source": [
    "print(za.first().getInfo())\n",
    "print(za.first().get('SOLAR_AZIMUTH_ANGLE').getInfo())\n",
    "print(za.first().geometry().getInfo())"
   ]
  },
  {
   "cell_type": "code",
   "execution_count": 9,
   "metadata": {
    "ExecuteTime": {
     "end_time": "2022-03-08T02:58:12.342838Z",
     "start_time": "2022-03-08T02:58:10.731114Z"
    }
   },
   "outputs": [],
   "source": [
    "za1 = near_orbit(l8.map(water_index)).map(maskSR)\n",
    "visParams = {'bands': ['B5', 'B4', 'B3'],'min': 0,'max': 3000,'gamma': 1.4}\n",
    "Map.addLayer(za1.first().clip(roi), visParams,'za1')\n",
    "zaza1 = near_orbit(l8)\n",
    "Map.addLayer(zaza1.first().clip(roi), visParams,'zaza1')"
   ]
  },
  {
   "cell_type": "code",
   "execution_count": 10,
   "metadata": {
    "ExecuteTime": {
     "end_time": "2022-03-08T02:58:15.661937Z",
     "start_time": "2022-03-08T02:58:12.685890Z"
    }
   },
   "outputs": [],
   "source": [
    "za = near_orbit(l8.map(maskSR).map(water_index))\n",
    "visParams = {'bands': ['B5', 'B4', 'B3'],'min': 0,'max': 3000,'gamma': 1.4}\n",
    "Map.addLayer(za.first().clip(roi), visParams,'za')\n",
    "zaza = near_orbit(l8)\n",
    "Map.addLayer(zaza.first().clip(roi), visParams,'zaza')"
   ]
  },
  {
   "cell_type": "code",
   "execution_count": null,
   "metadata": {
    "ExecuteTime": {
     "end_time": "2022-03-07T07:33:15.880079Z",
     "start_time": "2022-03-07T07:33:15.285717Z"
    }
   },
   "outputs": [],
   "source": [
    "region = 'daqing'\n",
    "sample_region = 'DAQING'\n",
    "filtered_samples = ee.FeatureCollection('users/311605001111/SAMPLE_' + sample_region + '/' + region + '_kmean100_9920_v2')\n",
    "print(filtered_samples.first().getInfo())"
   ]
  },
  {
   "cell_type": "code",
   "execution_count": null,
   "metadata": {
    "ExecuteTime": {
     "end_time": "2022-03-07T06:56:16.990856Z",
     "start_time": "2022-03-07T06:56:16.295593Z"
    }
   },
   "outputs": [],
   "source": [
    "validPixel = ee.ImageCollection(za).count().select('B3').clip(roi).rename('count')\n",
    "Map.addLayer(validPixel, {'palette':['white','blue'],'min':0,'max':3},'validPixel')"
   ]
  },
  {
   "cell_type": "code",
   "execution_count": null,
   "metadata": {},
   "outputs": [],
   "source": []
  },
  {
   "cell_type": "code",
   "execution_count": null,
   "metadata": {
    "ExecuteTime": {
     "end_time": "2022-03-07T04:13:31.970055Z",
     "start_time": "2022-03-07T04:13:31.073189Z"
    }
   },
   "outputs": [],
   "source": [
    "l8 = ee.ImageCollection('LANDSAT/LC08/C01/T1_SR').filterBounds(roi).filterDate('2015-05-20','2015-05-31')\n",
    "l8_dates = l8.map(lambda i:i.set({'date': ee.String(i.get('system:id')).slice(-8,)}))\n",
    "dates = ee.List(l8_dates.distinct('date').aggregate_array('date'))\n",
    "filter_images = ee.ImageCollection(dates.map(lambda i:l8_dates.filter(ee.Filter.eq('date',i)).median().copyProperties(l8_dates.filter(ee.Filter.eq('date',i)).first())))\n",
    "# print(filter_images.first().getInfo())\n",
    "print(filter_images.first().get('SOLAR_AZIMUTH_ANGLE').getInfo())\n",
    "visParams = {'bands': ['B5', 'B4', 'B3'],'min': 0,'max': 3000,'gamma': 1.4}\n",
    "Map.addLayer(filter_images.first().clip(roi), visParams,'a')"
   ]
  },
  {
   "cell_type": "code",
   "execution_count": null,
   "metadata": {
    "ExecuteTime": {
     "end_time": "2022-03-07T04:13:27.887832Z",
     "start_time": "2022-03-07T04:13:24.679097Z"
    }
   },
   "outputs": [],
   "source": [
    "q = ee.Image('LANDSAT/LC08/C01/T1_SR/LC08_119027_20150522')\n",
    "p = ee.Image('LANDSAT/LC08/C01/T1_SR/LC08_119028_20150522')\n",
    "visParams = {'bands': ['B5', 'B4', 'B3'],'min': 0,'max': 3000,'gamma': 1.4}\n",
    "Map.addLayer(q.clip(roi), visParams,'q')\n",
    "Map.addLayer(p.clip(roi), visParams,'p')\n",
    "print(q.get('SOLAR_AZIMUTH_ANGLE').getInfo())\n",
    "print(p.get('SOLAR_AZIMUTH_ANGLE').getInfo())\n",
    "print(q.get('SOLAR_ZENITH_ANGLE').getInfo())\n",
    "print(p.get('SOLAR_ZENITH_ANGLE').getInfo())"
   ]
  },
  {
   "cell_type": "code",
   "execution_count": null,
   "metadata": {},
   "outputs": [],
   "source": []
  },
  {
   "cell_type": "code",
   "execution_count": null,
   "metadata": {},
   "outputs": [],
   "source": []
  },
  {
   "cell_type": "code",
   "execution_count": null,
   "metadata": {
    "ExecuteTime": {
     "end_time": "2022-03-07T03:16:38.141533Z",
     "start_time": "2022-03-07T03:16:37.641921Z"
    }
   },
   "outputs": [],
   "source": [
    "l8 = ee.ImageCollection('LANDSAT/LC08/C01/T1_SR').filterBounds(roi).filterDate('2015-05-20','2015-05-31')\n",
    "l8_dates = l8.map(lambda i:i.set({'date': ee.String(i.get('system:id')).slice(-8,)}))\n",
    "dates = ee.List(l8_dates.distinct('date').aggregate_array('date'))\n",
    "filter_images = ee.ImageCollection(dates.map(lambda i:l8_dates.filter(ee.Filter.eq('date',i)).median()))\n",
    "\n",
    "visParams = {'bands': ['B5', 'B4', 'B3'],'min': 0,'max': 3000,'gamma': 1.4}\n",
    "Map.addLayer(filter_images.first().clip(roi), visParams,'a')\n",
    "print(filter_images.size().getInfo())"
   ]
  },
  {
   "cell_type": "code",
   "execution_count": null,
   "metadata": {},
   "outputs": [],
   "source": [
    " 'LANDSAT/LC08/C01/T1_SR/LC08_119028_20150506', \n",
    "\n",
    " 'LANDSAT/LC08/C01/T1_SR/LC08_120027_20150513',\n",
    " 'LANDSAT/LC08/C01/T1_SR/LC08_120028_20150513',\n",
    "\n",
    " 'LANDSAT/LC08/C01/T1_SR/LC08_118028_20150515', \n",
    "\n",
    " 'LANDSAT/LC08/C01/T1_SR/LC08_119027_20150522', \n",
    " 'LANDSAT/LC08/C01/T1_SR/LC08_119028_20150522', \n",
    " \n",
    " 'LANDSAT/LC08/C01/T1_SR/LC08_120027_20150529', \n",
    " 'LANDSAT/LC08/C01/T1_SR/LC08_120028_20150529'"
   ]
  },
  {
   "cell_type": "code",
   "execution_count": null,
   "metadata": {},
   "outputs": [],
   "source": []
  }
 ],
 "metadata": {
  "hide_input": false,
  "kernelspec": {
   "display_name": "Python 3 (ipykernel)",
   "language": "python",
   "name": "python3"
  },
  "language_info": {
   "codemirror_mode": {
    "name": "ipython",
    "version": 3
   },
   "file_extension": ".py",
   "mimetype": "text/x-python",
   "name": "python",
   "nbconvert_exporter": "python",
   "pygments_lexer": "ipython3",
   "version": "3.8.12"
  },
  "toc": {
   "base_numbering": 1,
   "nav_menu": {},
   "number_sections": true,
   "sideBar": true,
   "skip_h1_title": false,
   "title_cell": "Table of Contents",
   "title_sidebar": "Contents",
   "toc_cell": false,
   "toc_position": {
    "height": "calc(100% - 180px)",
    "left": "10px",
    "top": "150px",
    "width": "263.097px"
   },
   "toc_section_display": true,
   "toc_window_display": false
  },
  "varInspector": {
   "cols": {
    "lenName": 16,
    "lenType": 16,
    "lenVar": 40
   },
   "kernels_config": {
    "python": {
     "delete_cmd_postfix": "",
     "delete_cmd_prefix": "del ",
     "library": "var_list.py",
     "varRefreshCmd": "print(var_dic_list())"
    },
    "r": {
     "delete_cmd_postfix": ") ",
     "delete_cmd_prefix": "rm(",
     "library": "var_list.r",
     "varRefreshCmd": "cat(var_dic_list()) "
    }
   },
   "types_to_exclude": [
    "module",
    "function",
    "builtin_function_or_method",
    "instance",
    "_Feature"
   ],
   "window_display": false
  }
 },
 "nbformat": 4,
 "nbformat_minor": 4
}
