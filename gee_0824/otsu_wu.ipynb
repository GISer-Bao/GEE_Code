{
 "cells": [
  {
   "cell_type": "code",
   "execution_count": 1,
   "metadata": {
    "ExecuteTime": {
     "end_time": "2022-02-19T13:12:15.333842Z",
     "start_time": "2022-02-19T13:12:15.321874Z"
    }
   },
   "outputs": [],
   "source": [
    "import os\n",
    "os.environ['HTTP_PROXY'] = \"http://127.0.0.1:10809\"\n",
    "os.environ['HTTPS_PROXY'] = \"http://127.0.0.1:10809\""
   ]
  },
  {
   "cell_type": "code",
   "execution_count": 2,
   "metadata": {
    "ExecuteTime": {
     "end_time": "2022-02-19T13:12:21.478326Z",
     "start_time": "2022-02-19T13:12:15.610344Z"
    },
    "scrolled": false
   },
   "outputs": [
    {
     "data": {
      "application/vnd.jupyter.widget-view+json": {
       "model_id": "fb78994993b549cda7eba58162bfbc4c",
       "version_major": 2,
       "version_minor": 0
      },
      "text/plain": [
       "Map(center=[20, 0], controls=(WidgetControl(options=['position', 'transparent_bg'], widget=HBox(children=(Togg…"
      ]
     },
     "metadata": {},
     "output_type": "display_data"
    }
   ],
   "source": [
    "import geemap\n",
    "import ee\n",
    "from bqplot import pyplot as plt\n",
    "from bqplot import Bars\n",
    "Map=geemap.Map()\n",
    "Map"
   ]
  },
  {
   "cell_type": "code",
   "execution_count": 3,
   "metadata": {
    "ExecuteTime": {
     "end_time": "2022-02-19T13:27:06.813874Z",
     "start_time": "2022-02-19T13:27:06.801906Z"
    }
   },
   "outputs": [],
   "source": [
    "roi = ee.Geometry.Point([-99.09805297851562, 47.10016154728056])\n",
    "\n",
    "# set visualization parameters\n",
    "vis = {\n",
    "  'nir': {'bands': ['N', 'R', 'G']},\n",
    "  'rgb': {'bands': ['R', 'G', 'B']},\n",
    "  'water': {'palette': ['0000FF']},\n",
    "  'ndwi': {'palette': ['#ece7f2', '#d0d1e6', '#a6bddb', '#74a9cf', '#3690c0', '#0570b0', '#045a8d', '#023858']},\n",
    "  'ndvi': {'palette': ['#d73027', '#f46d43', '#fdae61', '#fee08b', '#d9ef8b', '#a6d96a', '#66bd63', '#1a9850']}\n",
    "}\n",
    "\n",
    "# search NAIP imagery that has RGBN bands\n",
    "collection = ee.ImageCollection('USDA/NAIP/DOQQ') \\\n",
    "    .filterBounds(roi) \\\n",
    "    .filterDate('2009-01-01', '2019-12-31') \\\n",
    "    .filter(ee.Filter.listContains(\"system:band_names\", \"N\"))\n",
    "# print(collection.getInfo())"
   ]
  },
  {
   "cell_type": "code",
   "execution_count": 4,
   "metadata": {
    "ExecuteTime": {
     "end_time": "2022-02-19T13:27:09.910150Z",
     "start_time": "2022-02-19T13:27:07.066148Z"
    }
   },
   "outputs": [],
   "source": [
    "image = collection.first()\n",
    "Map.centerObject(image)\n",
    "Map.addLayer(image, vis['nir'], 'NAIP')\n",
    "polygon = ee.Geometry(image.geometry())"
   ]
  },
  {
   "cell_type": "code",
   "execution_count": 5,
   "metadata": {
    "ExecuteTime": {
     "end_time": "2022-02-19T13:27:10.657335Z",
     "start_time": "2022-02-19T13:27:09.990019Z"
    }
   },
   "outputs": [],
   "source": [
    "# Compute the histogram of the NIR band.  The mean and variance are only FYI.\n",
    "histogram = image.select('N').reduceRegion(**{\n",
    "  'reducer': ee.Reducer.histogram(255),\n",
    "  'geometry': polygon,\n",
    "  'scale': 10,\n",
    "  'bestEffort': True\n",
    "})\n",
    "hist_dict = histogram.getInfo()\n",
    "# print(hist_dict)"
   ]
  },
  {
   "cell_type": "code",
   "execution_count": 6,
   "metadata": {
    "ExecuteTime": {
     "end_time": "2022-02-19T13:27:10.766381Z",
     "start_time": "2022-02-19T13:27:10.735436Z"
    }
   },
   "outputs": [
    {
     "data": {
      "application/vnd.jupyter.widget-view+json": {
       "model_id": "4ce25635e77e46f7b7d4a6182e2d2761",
       "version_major": 2,
       "version_minor": 0
      },
      "text/plain": [
       "VBox(children=(Figure(axes=[Axis(scale=LinearScale()), Axis(orientation='vertical', scale=LinearScale())], fig…"
      ]
     },
     "metadata": {},
     "output_type": "display_data"
    }
   ],
   "source": [
    "x = hist_dict['N']['bucketMeans']\n",
    "y = hist_dict['N']['histogram']\n",
    "plt.bar(x, y)\n",
    "plt.show()"
   ]
  },
  {
   "cell_type": "code",
   "execution_count": null,
   "metadata": {},
   "outputs": [],
   "source": [
    "# Return the DN that maximizes interclass variance in B5 (in the region).\n",
    "def otsu(histogram):\n",
    "    counts = ee.Array(ee.Dictionary(histogram).get('histogram'))\n",
    "    means = ee.Array(ee.Dictionary(histogram).get('bucketMeans'))\n",
    "    size = means.length().get([0])\n",
    "    total = counts.reduce(ee.Reducer.sum(), [0]).get([0])\n",
    "    sum = means.multiply(counts).reduce(ee.Reducer.sum(), [0]).get([0])\n",
    "    mean = sum.divide(total)\n",
    "\n",
    "    indices = ee.List.sequence(1, size)\n",
    "\n",
    "  # Compute between sum of squares, where each mean partitions the data.\n",
    "\n",
    "    def func_xxx(i):\n",
    "        aCounts = counts.slice(0, 0, i)\n",
    "        aCount = aCounts.reduce(ee.Reducer.sum(), [0]).get([0])\n",
    "        aMeans = means.slice(0, 0, i)\n",
    "        aMean = aMeans.multiply(aCounts) \\\n",
    "            .reduce(ee.Reducer.sum(), [0]).get([0]) \\\n",
    "            .divide(aCount)\n",
    "        bCount = total.subtract(aCount)\n",
    "        bMean = sum.subtract(aCount.multiply(aMean)).divide(bCount)\n",
    "        return aCount.multiply(aMean.subtract(mean).pow(2)).add(\n",
    "              bCount.multiply(bMean.subtract(mean).pow(2)))\n",
    "\n",
    "    bss = indices.map(func_xxx)\n",
    "\n",
    "    # Return the mean value corresponding to the maximum BSS.\n",
    "    return means.sort(bss).get([-1])\n",
    "\n",
    "threshold = otsu(histogram.get('N'))\n",
    "print('threshold', threshold.getInfo())"
   ]
  },
  {
   "cell_type": "code",
   "execution_count": null,
   "metadata": {},
   "outputs": [],
   "source": [
    "classA = image.select('N').lt(threshold)\n",
    "Map.addLayer(classA.mask(classA), {'palette': 'blue'}, 'class A')\n",
    "Map"
   ]
  },
  {
   "cell_type": "code",
   "execution_count": null,
   "metadata": {},
   "outputs": [],
   "source": [
    "def extract_water(image):\n",
    "    histogram = image.select('N').reduceRegion(**{\n",
    "      'reducer': ee.Reducer.histogram(255, 2),\n",
    "      'geometry': polygon,\n",
    "      'scale': 10,\n",
    "      'bestEffort': True\n",
    "    })\n",
    "    threshold = otsu(histogram.get('N'))\n",
    "    water = image.select('N').lt(threshold).selfMask()    \n",
    "    return water.set({\"threshold\": threshold})  "
   ]
  },
  {
   "cell_type": "code",
   "execution_count": null,
   "metadata": {},
   "outputs": [],
   "source": [
    "water_images = collection.map(extract_water)"
   ]
  },
  {
   "cell_type": "code",
   "execution_count": null,
   "metadata": {},
   "outputs": [],
   "source": [
    "Map.addLayer(water_images.first(),{\"palette\": \"blue\"}, \"first water\")"
   ]
  },
  {
   "cell_type": "code",
   "execution_count": null,
   "metadata": {},
   "outputs": [],
   "source": [
    "water_images.aggregate_array(\"threshold\").getInfo()"
   ]
  },
  {
   "cell_type": "code",
   "execution_count": null,
   "metadata": {},
   "outputs": [],
   "source": [
    "Map"
   ]
  },
  {
   "cell_type": "code",
   "execution_count": null,
   "metadata": {},
   "outputs": [],
   "source": []
  },
  {
   "cell_type": "code",
   "execution_count": null,
   "metadata": {},
   "outputs": [],
   "source": []
  }
 ],
 "metadata": {
  "hide_input": false,
  "kernelspec": {
   "display_name": "Python 3 (ipykernel)",
   "language": "python",
   "name": "python3"
  },
  "language_info": {
   "codemirror_mode": {
    "name": "ipython",
    "version": 3
   },
   "file_extension": ".py",
   "mimetype": "text/x-python",
   "name": "python",
   "nbconvert_exporter": "python",
   "pygments_lexer": "ipython3",
   "version": "3.8.5"
  },
  "toc": {
   "base_numbering": 1,
   "nav_menu": {},
   "number_sections": true,
   "sideBar": true,
   "skip_h1_title": false,
   "title_cell": "Table of Contents",
   "title_sidebar": "Contents",
   "toc_cell": false,
   "toc_position": {
    "height": "calc(100% - 180px)",
    "left": "10px",
    "top": "150px",
    "width": "263.097px"
   },
   "toc_section_display": true,
   "toc_window_display": false
  },
  "varInspector": {
   "cols": {
    "lenName": 16,
    "lenType": 16,
    "lenVar": 40
   },
   "kernels_config": {
    "python": {
     "delete_cmd_postfix": "",
     "delete_cmd_prefix": "del ",
     "library": "var_list.py",
     "varRefreshCmd": "print(var_dic_list())"
    },
    "r": {
     "delete_cmd_postfix": ") ",
     "delete_cmd_prefix": "rm(",
     "library": "var_list.r",
     "varRefreshCmd": "cat(var_dic_list()) "
    }
   },
   "types_to_exclude": [
    "module",
    "function",
    "builtin_function_or_method",
    "instance",
    "_Feature"
   ],
   "window_display": false
  }
 },
 "nbformat": 4,
 "nbformat_minor": 4
}
