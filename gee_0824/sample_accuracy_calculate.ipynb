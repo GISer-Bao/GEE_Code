{
 "cells": [
  {
   "cell_type": "code",
   "execution_count": 1,
   "id": "17d57fb5",
   "metadata": {
    "ExecuteTime": {
     "end_time": "2022-02-14T02:02:57.135508Z",
     "start_time": "2022-02-14T02:02:57.129522Z"
    }
   },
   "outputs": [],
   "source": [
    "import os\n",
    "os.environ['HTTP_PROXY'] = \"http://127.0.0.1:10809\"\n",
    "os.environ['HTTPS_PROXY'] = \"http://127.0.0.1:10809\""
   ]
  },
  {
   "cell_type": "code",
   "execution_count": 2,
   "id": "33241f81",
   "metadata": {
    "ExecuteTime": {
     "end_time": "2022-02-14T02:03:02.856930Z",
     "start_time": "2022-02-14T02:02:57.399394Z"
    }
   },
   "outputs": [
    {
     "data": {
      "application/vnd.jupyter.widget-view+json": {
       "model_id": "da822b78271543ebaba94670a98f6cc7",
       "version_major": 2,
       "version_minor": 0
      },
      "text/plain": [
       "Map(center=[20, 0], controls=(WidgetControl(options=['position', 'transparent_bg'], widget=HBox(children=(Togg…"
      ]
     },
     "metadata": {},
     "output_type": "display_data"
    }
   ],
   "source": [
    "import geemap\n",
    "import ee\n",
    "Map=geemap.Map()\n",
    "Map"
   ]
  },
  {
   "cell_type": "code",
   "execution_count": 3,
   "id": "4000ce9d",
   "metadata": {
    "ExecuteTime": {
     "end_time": "2022-02-14T02:03:03.981054Z",
     "start_time": "2022-02-14T02:03:02.907789Z"
    }
   },
   "outputs": [
    {
     "name": "stdout",
     "output_type": "stream",
     "text": [
      "[[832, 6], [4, 58]]\n",
      "total accuracy:0.9888888888888889\n",
      "kappa:0.9146628233330808\n"
     ]
    }
   ],
   "source": [
    "test_accuracy = ee.ConfusionMatrix(ee.Array([[832, 6], [4, 58]]))\n",
    "print(test_accuracy.getInfo())\n",
    "\n",
    "print('total accuracy:{}'.format(test_accuracy.accuracy().getInfo()))\n",
    "print('kappa:{}'.format(test_accuracy.kappa().getInfo()))"
   ]
  },
  {
   "cell_type": "markdown",
   "id": "1aad547a",
   "metadata": {},
   "source": [
    "# 样本精度"
   ]
  },
  {
   "cell_type": "code",
   "execution_count": 4,
   "id": "56e3507b",
   "metadata": {
    "ExecuteTime": {
     "end_time": "2022-02-14T02:03:04.044963Z",
     "start_time": "2022-02-14T02:03:04.030947Z"
    }
   },
   "outputs": [],
   "source": [
    "import numpy as np\n",
    "a1999 = np.array([[164,0],[3,33]])\n",
    "a2004 = np.array([[166,1],[0,33]])\n",
    "a2009 = np.array([[162,0],[0,38]])\n",
    "a2014 = np.array([[162,1],[2,35]])\n",
    "a2019 = np.array([[159,1],[1,39]])"
   ]
  },
  {
   "cell_type": "code",
   "execution_count": 5,
   "id": "918b607c",
   "metadata": {
    "ExecuteTime": {
     "end_time": "2022-02-14T02:03:04.124750Z",
     "start_time": "2022-02-14T02:03:04.110716Z"
    }
   },
   "outputs": [],
   "source": [
    "import numpy as np\n",
    "b1999 = np.array([[157,3],[0,40]])\n",
    "b2004 = np.array([[150,1],[0,49]])\n",
    "b2009 = np.array([[158,0],[1,41]])\n",
    "b2014 = np.array([[161,1],[1,37]])\n",
    "b2019 = np.array([[165,1],[0,34]])"
   ]
  },
  {
   "cell_type": "code",
   "execution_count": 6,
   "id": "b3ad4a33",
   "metadata": {
    "ExecuteTime": {
     "end_time": "2022-02-14T02:03:04.218450Z",
     "start_time": "2022-02-14T02:03:04.207450Z"
    }
   },
   "outputs": [],
   "source": [
    "import numpy as np\n",
    "c1999 = np.array([[162,1],[1,36]])\n",
    "c2004 = np.array([[173,0],[1,26]])\n",
    "c2009 = np.array([[164,2],[0,34]])\n",
    "c2014 = np.array([[167,1],[1,31]])\n",
    "c2019 = np.array([[166,0],[3,31]])"
   ]
  },
  {
   "cell_type": "code",
   "execution_count": 7,
   "id": "8d896f47",
   "metadata": {
    "ExecuteTime": {
     "end_time": "2022-02-14T02:03:04.312189Z",
     "start_time": "2022-02-14T02:03:04.299204Z"
    }
   },
   "outputs": [],
   "source": [
    "import numpy as np\n",
    "d1999 = np.array([[159,0],[3,38]])\n",
    "d2004 = np.array([[166,2],[0,32]])\n",
    "d2009 = np.array([[169,0],[1,30]])\n",
    "d2014 = np.array([[169,0],[4,27]])\n",
    "d2019 = np.array([[168,0],[4,28]])"
   ]
  },
  {
   "cell_type": "code",
   "execution_count": 8,
   "id": "d15ea1f8",
   "metadata": {
    "ExecuteTime": {
     "end_time": "2022-02-14T02:03:04.402926Z",
     "start_time": "2022-02-14T02:03:04.389961Z"
    }
   },
   "outputs": [],
   "source": [
    "import numpy as np\n",
    "e1999 = np.array([[158,0],[2,40]])\n",
    "e2004 = np.array([[161,2],[0,37]])\n",
    "e2009 = np.array([[163,0],[2,35]])\n",
    "e2014 = np.array([[161,0],[1,38]])\n",
    "e2019 = np.array([[165,1],[1,33]])"
   ]
  },
  {
   "cell_type": "code",
   "execution_count": null,
   "id": "bc0227a1",
   "metadata": {
    "ExecuteTime": {
     "end_time": "2022-02-10T12:55:30.103209Z",
     "start_time": "2022-02-10T12:55:30.091242Z"
    }
   },
   "outputs": [],
   "source": [
    "number = [a1999,a2004,a2009,a2014,a2019]\n",
    "# number = [b1999,b2004,b2009,b2014,b2019]\n",
    "# number = [c1999,c2004,c2009,c2014,c2019]\n",
    "# number = [d1999,d2004,d2009,d2014,d2019]\n",
    "# number = [e1999,e2004,e2009,e2014,e2019]\n",
    "q = number[0] + number[1] + number[2] + number[3] + number[4]\n",
    "print(q)"
   ]
  },
  {
   "cell_type": "code",
   "execution_count": 9,
   "id": "245a8108",
   "metadata": {
    "ExecuteTime": {
     "end_time": "2022-02-14T02:03:37.110142Z",
     "start_time": "2022-02-14T02:03:37.096182Z"
    }
   },
   "outputs": [
    {
     "name": "stdout",
     "output_type": "stream",
     "text": [
      "区域A\n"
     ]
    }
   ],
   "source": [
    "print('区域A')"
   ]
  },
  {
   "cell_type": "code",
   "execution_count": 10,
   "id": "5ae5730b",
   "metadata": {
    "ExecuteTime": {
     "end_time": "2022-02-14T02:04:06.540231Z",
     "start_time": "2022-02-14T02:04:02.280193Z"
    }
   },
   "outputs": [
    {
     "name": "stdout",
     "output_type": "stream",
     "text": [
      "区域A\n",
      "[[813, 3], [6, 178]]\n",
      "total accuracy:0.991\n",
      "kappa:0.9698383334673851\n",
      "区域B\n",
      "[[791, 6], [2, 201]]\n",
      "total accuracy:0.992\n",
      "kappa:0.9754569607127298\n",
      "区域C\n",
      "[[832, 4], [6, 58]]\n",
      "total accuracy:0.9888888888888889\n",
      "kappa:0.9146628233330808\n",
      "区域D\n",
      "[[831, 2], [12, 155]]\n",
      "total accuracy:0.986\n",
      "kappa:0.9484463952983112\n",
      "区域E\n",
      "[[808, 3], [6, 183]]\n",
      "total accuracy:0.991\n",
      "kappa:0.9704619747154504\n"
     ]
    }
   ],
   "source": [
    "# 区域A\n",
    "print('区域A')\n",
    "test_accuracy = ee.ConfusionMatrix(ee.Array([[813,3],[6,178]]))\n",
    "print(test_accuracy.getInfo())\n",
    "print('total accuracy:{}'.format(test_accuracy.accuracy().getInfo()))\n",
    "print('kappa:{}'.format(test_accuracy.kappa().getInfo()))\n",
    "\n",
    "# 区域B\n",
    "print('区域B')\n",
    "test_accuracy = ee.ConfusionMatrix(ee.Array([[791,6],[2,201]]))\n",
    "print(test_accuracy.getInfo())\n",
    "print('total accuracy:{}'.format(test_accuracy.accuracy().getInfo()))\n",
    "print('kappa:{}'.format(test_accuracy.kappa().getInfo()))\n",
    "\n",
    "# 区域C\n",
    "print('区域C')\n",
    "test_accuracy = ee.ConfusionMatrix(ee.Array([[832,4],[6,58]]))\n",
    "print(test_accuracy.getInfo())\n",
    "print('total accuracy:{}'.format(test_accuracy.accuracy().getInfo()))\n",
    "print('kappa:{}'.format(test_accuracy.kappa().getInfo()))\n",
    "\n",
    "# 区域D\n",
    "print('区域D')\n",
    "test_accuracy = ee.ConfusionMatrix(ee.Array([[831,2],[12,155]]))\n",
    "print(test_accuracy.getInfo())\n",
    "print('total accuracy:{}'.format(test_accuracy.accuracy().getInfo()))\n",
    "print('kappa:{}'.format(test_accuracy.kappa().getInfo()))\n",
    "\n",
    "# 区域E\n",
    "print('区域E')\n",
    "test_accuracy = ee.ConfusionMatrix(ee.Array([[808,3],[6,183]]))\n",
    "print(test_accuracy.getInfo())\n",
    "print('total accuracy:{}'.format(test_accuracy.accuracy().getInfo()))\n",
    "print('kappa:{}'.format(test_accuracy.kappa().getInfo()))"
   ]
  },
  {
   "cell_type": "code",
   "execution_count": null,
   "id": "6da0a435",
   "metadata": {
    "ExecuteTime": {
     "end_time": "2022-02-10T11:43:38.187413Z",
     "start_time": "2022-02-10T11:43:38.172424Z"
    }
   },
   "outputs": [],
   "source": [
    "number = [a1999,b1999,c1999,d1999,e1999]\n",
    "# number = [a2004,b2004,c2004,d2004,e2004]\n",
    "# number = [a2009,b2009,c2009,d2009,e2009]\n",
    "# number = [a2014,b2014,c2014,d2014,e2014]\n",
    "# number = [a2019,b2019,c2019,d2019,e2019]\n",
    "\n",
    "q = number[0] + number[1] + number[2] + number[3] + number[4]\n",
    "print(q)"
   ]
  },
  {
   "cell_type": "code",
   "execution_count": null,
   "id": "a3c0c630",
   "metadata": {
    "ExecuteTime": {
     "end_time": "2022-02-10T11:46:36.500065Z",
     "start_time": "2022-02-10T11:46:27.596047Z"
    }
   },
   "outputs": [],
   "source": [
    "# 区域A\n",
    "test_accuracy = ee.ConfusionMatrix(ee.Array([[800,4],[9,187]]))\n",
    "print(test_accuracy.getInfo())\n",
    "print('total accuracy:{}'.format(test_accuracy.accuracy().getInfo()))\n",
    "print('kappa:{}'.format(test_accuracy.kappa().getInfo()))\n",
    "\n",
    "# 区域B\n",
    "test_accuracy = ee.ConfusionMatrix(ee.Array([[816,6],[1,177]]))\n",
    "print(test_accuracy.getInfo())\n",
    "print('total accuracy:{}'.format(test_accuracy.accuracy().getInfo()))\n",
    "print('kappa:{}'.format(test_accuracy.kappa().getInfo()))\n",
    "\n",
    "# 区域C\n",
    "test_accuracy = ee.ConfusionMatrix(ee.Array([[816,2],[4,178]]))\n",
    "print(test_accuracy.getInfo())\n",
    "print('total accuracy:{}'.format(test_accuracy.accuracy().getInfo()))\n",
    "print('kappa:{}'.format(test_accuracy.kappa().getInfo()))\n",
    "\n",
    "# 区域D\n",
    "test_accuracy = ee.ConfusionMatrix(ee.Array([[820,3],[9,168]]))\n",
    "print(test_accuracy.getInfo())\n",
    "print('total accuracy:{}'.format(test_accuracy.accuracy().getInfo()))\n",
    "print('kappa:{}'.format(test_accuracy.kappa().getInfo()))\n",
    "\n",
    "# 区域E\n",
    "test_accuracy = ee.ConfusionMatrix(ee.Array([[823,3],[9,165]]))\n",
    "print(test_accuracy.getInfo())\n",
    "print('total accuracy:{}'.format(test_accuracy.accuracy().getInfo()))\n",
    "print('kappa:{}'.format(test_accuracy.kappa().getInfo()))"
   ]
  },
  {
   "cell_type": "code",
   "execution_count": null,
   "id": "cafe2f87",
   "metadata": {
    "ExecuteTime": {
     "end_time": "2022-02-10T13:18:32.248631Z",
     "start_time": "2022-02-10T13:18:32.233700Z"
    }
   },
   "outputs": [],
   "source": [
    "import numpy as np\n",
    "a = np.array([[800,4],[9,187]])\n",
    "b = np.array([[816,6],[1,177]])\n",
    "c = np.array([[816,2],[4,178]])\n",
    "d = np.array([[820,3],[9,168]])\n",
    "e = np.array([[823,3],[9,165]])\n",
    "q = a + b + c + d + e\n",
    "print(q)"
   ]
  },
  {
   "cell_type": "code",
   "execution_count": null,
   "id": "4ab6257f",
   "metadata": {
    "ExecuteTime": {
     "end_time": "2022-02-10T13:19:20.344505Z",
     "start_time": "2022-02-10T13:19:13.731741Z"
    }
   },
   "outputs": [],
   "source": [
    "test_accuracy = ee.ConfusionMatrix(ee.Array([[4075,18],[32,875]]))\n",
    "print(test_accuracy.getInfo())\n",
    "print('total accuracy:{}'.format(test_accuracy.accuracy().getInfo()))\n",
    "print('kappa:{}'.format(test_accuracy.kappa().getInfo()))\n",
    "print('consumersAccuracy:{}'.format(test_accuracy.consumersAccuracy().getInfo()))\n",
    "print('producersAccuracy:{}'.format(test_accuracy.producersAccuracy().getInfo()))"
   ]
  },
  {
   "cell_type": "markdown",
   "id": "c468ee2a",
   "metadata": {},
   "source": [
    "# 分类精度"
   ]
  },
  {
   "cell_type": "code",
   "execution_count": null,
   "id": "ad73d98c",
   "metadata": {
    "ExecuteTime": {
     "end_time": "2022-02-10T12:16:55.133510Z",
     "start_time": "2022-02-10T12:16:55.115590Z"
    }
   },
   "outputs": [],
   "source": [
    "import numpy as np\n",
    "a1999 = np.array([[794,6],[4,196]])\n",
    "a2004 = np.array([[782,18],[0,200]])\n",
    "a2009 = np.array([[785,15],[1,199]])\n",
    "a2014 = np.array([[793,7],[3,197]])\n",
    "a2019 = np.array([[786,14],[1,199]])"
   ]
  },
  {
   "cell_type": "code",
   "execution_count": null,
   "id": "d9f787b9",
   "metadata": {
    "ExecuteTime": {
     "end_time": "2022-02-10T12:16:55.451661Z",
     "start_time": "2022-02-10T12:16:55.444677Z"
    }
   },
   "outputs": [],
   "source": [
    "import numpy as np\n",
    "b1999 = np.array([[793,7],[2,198]])\n",
    "b2004 = np.array([[789,11],[3,197]])\n",
    "b2009 = np.array([[788,12],[5,195]])\n",
    "b2014 = np.array([[793,7],[9,191]])\n",
    "b2019 = np.array([[794,6],[4,196]])"
   ]
  },
  {
   "cell_type": "code",
   "execution_count": null,
   "id": "d67688d2",
   "metadata": {
    "ExecuteTime": {
     "end_time": "2022-02-10T12:16:55.702997Z",
     "start_time": "2022-02-10T12:16:55.683041Z"
    }
   },
   "outputs": [],
   "source": [
    "import numpy as np\n",
    "c1999 = np.array([[796,4],[18,182]])\n",
    "c2004 = np.array([[799,1],[18,182]])\n",
    "c2009 = np.array([[792,8],[6,194]])\n",
    "c2014 = np.array([[787,13],[5,195]])\n",
    "c2019 = np.array([[790,10],[5,195]])"
   ]
  },
  {
   "cell_type": "code",
   "execution_count": null,
   "id": "22abbeeb",
   "metadata": {
    "ExecuteTime": {
     "end_time": "2022-02-10T12:16:55.955312Z",
     "start_time": "2022-02-10T12:16:55.947333Z"
    }
   },
   "outputs": [],
   "source": [
    "import numpy as np\n",
    "d1999 = np.array([[798,2],[9,191]])\n",
    "d2004 = np.array([[791,9],[7,193]])\n",
    "d2009 = np.array([[795,5],[5,195]])\n",
    "d2014 = np.array([[798,2],[10,190]])\n",
    "d2019 = np.array([[797,3],[13,187]])"
   ]
  },
  {
   "cell_type": "code",
   "execution_count": null,
   "id": "5a4411da",
   "metadata": {
    "ExecuteTime": {
     "end_time": "2022-02-10T12:19:57.730783Z",
     "start_time": "2022-02-10T12:19:57.715822Z"
    }
   },
   "outputs": [],
   "source": [
    "import numpy as np\n",
    "e1999 = np.array([[797,3],[11,189]])\n",
    "e2004 = np.array([[797,3],[5,195]])\n",
    "e2009 = np.array([[795,5],[4,196]])\n",
    "e2014 = np.array([[792,8],[5,195]])\n",
    "e2019 = np.array([[797,3],[8,192]])"
   ]
  },
  {
   "cell_type": "code",
   "execution_count": null,
   "id": "ca647c93",
   "metadata": {
    "ExecuteTime": {
     "end_time": "2022-02-10T12:19:58.271336Z",
     "start_time": "2022-02-10T12:19:58.259398Z"
    }
   },
   "outputs": [],
   "source": [
    "# number = [a1999,a2004,a2009,a2014,a2019]\n",
    "# number = [b1999,b2004,b2009,b2014,b2019]\n",
    "# number = [c1999,c2004,c2009,c2014,c2019]\n",
    "# number = [d1999,d2004,d2009,d2014,d2019]\n",
    "number = [e1999,e2004,e2009,e2014,e2019]\n",
    "q = number[0] + number[1] + number[2] + number[3] + number[4]\n",
    "print(q)"
   ]
  },
  {
   "cell_type": "code",
   "execution_count": null,
   "id": "59139118",
   "metadata": {
    "ExecuteTime": {
     "end_time": "2022-02-10T12:20:20.760709Z",
     "start_time": "2022-02-10T12:20:12.211669Z"
    }
   },
   "outputs": [],
   "source": [
    "# 区域A\n",
    "test_accuracy = ee.ConfusionMatrix(ee.Array([[3940,60],[9,991]]))\n",
    "print(test_accuracy.getInfo())\n",
    "print('total accuracy:{}'.format(test_accuracy.accuracy().getInfo()))\n",
    "print('kappa:{}'.format(test_accuracy.kappa().getInfo()))\n",
    "\n",
    "# 区域B\n",
    "test_accuracy = ee.ConfusionMatrix(ee.Array([[3957,43],[23,977]]))\n",
    "print(test_accuracy.getInfo())\n",
    "print('total accuracy:{}'.format(test_accuracy.accuracy().getInfo()))\n",
    "print('kappa:{}'.format(test_accuracy.kappa().getInfo()))\n",
    "\n",
    "# 区域C\n",
    "test_accuracy = ee.ConfusionMatrix(ee.Array([[3964,36],[52,948]]))\n",
    "print(test_accuracy.getInfo())\n",
    "print('total accuracy:{}'.format(test_accuracy.accuracy().getInfo()))\n",
    "print('kappa:{}'.format(test_accuracy.kappa().getInfo()))\n",
    "\n",
    "# 区域D\n",
    "test_accuracy = ee.ConfusionMatrix(ee.Array([[3979,21],[44,956]]))\n",
    "print(test_accuracy.getInfo())\n",
    "print('total accuracy:{}'.format(test_accuracy.accuracy().getInfo()))\n",
    "print('kappa:{}'.format(test_accuracy.kappa().getInfo()))\n",
    "\n",
    "# 区域E\n",
    "test_accuracy = ee.ConfusionMatrix(ee.Array([[3978,22],[33,967]]))\n",
    "print(test_accuracy.getInfo())\n",
    "print('total accuracy:{}'.format(test_accuracy.accuracy().getInfo()))\n",
    "print('kappa:{}'.format(test_accuracy.kappa().getInfo()))"
   ]
  },
  {
   "cell_type": "code",
   "execution_count": null,
   "id": "b7e6b71a",
   "metadata": {
    "ExecuteTime": {
     "end_time": "2022-02-10T12:22:25.184005Z",
     "start_time": "2022-02-10T12:22:25.178019Z"
    }
   },
   "outputs": [],
   "source": [
    "# number = [a1999,b1999,c1999,d1999,e1999]\n",
    "# number = [a2004,b2004,c2004,d2004,e2004]\n",
    "# number = [a2009,b2009,c2009,d2009,e2009]\n",
    "# number = [a2014,b2014,c2014,d2014,e2014]\n",
    "number = [a2019,b2019,c2019,d2019,e2019]\n",
    "\n",
    "q = number[0] + number[1] + number[2] + number[3] + number[4]\n",
    "print(q)"
   ]
  },
  {
   "cell_type": "code",
   "execution_count": null,
   "id": "f27d8e33",
   "metadata": {
    "ExecuteTime": {
     "end_time": "2022-02-10T13:03:36.567940Z",
     "start_time": "2022-02-10T13:02:57.715394Z"
    }
   },
   "outputs": [],
   "source": [
    "# 区域A\n",
    "test_accuracy = ee.ConfusionMatrix(ee.Array([[3978,22],[44,956]]))\n",
    "print(test_accuracy.getInfo())\n",
    "print('total accuracy:{}'.format(test_accuracy.accuracy().getInfo()))\n",
    "print('kappa:{}'.format(test_accuracy.kappa().getInfo()))\n",
    "print('consumersAccuracy:{}'.format(test_accuracy.consumersAccuracy().getInfo()))\n",
    "print('producersAccuracy:{}'.format(test_accuracy.producersAccuracy().getInfo()))\n",
    "\n",
    "# 区域B\n",
    "test_accuracy = ee.ConfusionMatrix(ee.Array([[3958,42],[33,967]]))\n",
    "print(test_accuracy.getInfo())\n",
    "print('total accuracy:{}'.format(test_accuracy.accuracy().getInfo()))\n",
    "print('kappa:{}'.format(test_accuracy.kappa().getInfo()))\n",
    "print('consumersAccuracy:{}'.format(test_accuracy.consumersAccuracy().getInfo()))\n",
    "print('producersAccuracy:{}'.format(test_accuracy.producersAccuracy().getInfo()))\n",
    "\n",
    "# 区域C\n",
    "test_accuracy = ee.ConfusionMatrix(ee.Array([[3955,45],[21,979]]))\n",
    "print(test_accuracy.getInfo())\n",
    "print('total accuracy:{}'.format(test_accuracy.accuracy().getInfo()))\n",
    "print('kappa:{}'.format(test_accuracy.kappa().getInfo()))\n",
    "print('consumersAccuracy:{}'.format(test_accuracy.consumersAccuracy().getInfo()))\n",
    "print('producersAccuracy:{}'.format(test_accuracy.producersAccuracy().getInfo()))\n",
    "\n",
    "# 区域D\n",
    "test_accuracy = ee.ConfusionMatrix(ee.Array([[3963,37],[32,968]]))\n",
    "print(test_accuracy.getInfo())\n",
    "print('total accuracy:{}'.format(test_accuracy.accuracy().getInfo()))\n",
    "print('kappa:{}'.format(test_accuracy.kappa().getInfo()))\n",
    "print('consumersAccuracy:{}'.format(test_accuracy.consumersAccuracy().getInfo()))\n",
    "print('producersAccuracy:{}'.format(test_accuracy.producersAccuracy().getInfo()))\n",
    "\n",
    "# 区域E\n",
    "test_accuracy = ee.ConfusionMatrix(ee.Array([[3964,36],[31,969]]))\n",
    "print(test_accuracy.getInfo())\n",
    "print('total accuracy:{}'.format(test_accuracy.accuracy().getInfo()))\n",
    "print('kappa:{}'.format(test_accuracy.kappa().getInfo()))\n",
    "print('consumersAccuracy:{}'.format(test_accuracy.consumersAccuracy().getInfo()))\n",
    "print('producersAccuracy:{}'.format(test_accuracy.producersAccuracy().getInfo()))\n"
   ]
  },
  {
   "cell_type": "code",
   "execution_count": null,
   "id": "52683d5f",
   "metadata": {
    "ExecuteTime": {
     "end_time": "2022-02-10T13:14:09.047663Z",
     "start_time": "2022-02-10T13:14:09.033732Z"
    }
   },
   "outputs": [],
   "source": [
    "import numpy as np\n",
    "a = np.array([[3978,22],[44,956]])\n",
    "b = np.array([[3958,42],[33,967]])\n",
    "c = np.array([[3955,45],[21,979]])\n",
    "d = np.array([[3963,37],[32,968]])\n",
    "e = np.array([[3964,36],[31,969]])\n",
    "q = a + b + c + d + e\n",
    "print(q)"
   ]
  },
  {
   "cell_type": "code",
   "execution_count": null,
   "id": "72a32f6c",
   "metadata": {
    "ExecuteTime": {
     "end_time": "2022-02-10T13:15:27.443182Z",
     "start_time": "2022-02-10T13:15:21.838081Z"
    }
   },
   "outputs": [],
   "source": [
    "test_accuracy = ee.ConfusionMatrix(ee.Array([[19818,182],[161,4839]]))\n",
    "print(test_accuracy.getInfo())\n",
    "print('total accuracy:{}'.format(test_accuracy.accuracy().getInfo()))\n",
    "print('kappa:{}'.format(test_accuracy.kappa().getInfo()))\n",
    "print('consumersAccuracy:{}'.format(test_accuracy.consumersAccuracy().getInfo()))\n",
    "print('producersAccuracy:{}'.format(test_accuracy.producersAccuracy().getInfo()))"
   ]
  },
  {
   "cell_type": "markdown",
   "id": "5c49bb7a",
   "metadata": {
    "heading_collapsed": true
   },
   "source": [
    "# 用户精度和制图精度"
   ]
  },
  {
   "cell_type": "code",
   "execution_count": null,
   "id": "530e640b",
   "metadata": {
    "ExecuteTime": {
     "end_time": "2022-02-10T12:57:48.097662Z",
     "start_time": "2022-02-10T12:57:48.081734Z"
    },
    "hidden": true
   },
   "outputs": [],
   "source": [
    "import numpy as np\n",
    "a1999 = [[794,6],[4,196]]\n",
    "a2004 = [[782,18],[0,200]]\n",
    "a2009 = [[785,15],[1,199]]\n",
    "a2014 = [[793,7],[3,197]]\n",
    "a2019 = [[786,14],[1,199]]\n",
    "\n",
    "import numpy as np\n",
    "b1999 = [[793,7],[2,198]]\n",
    "b2004 = [[789,11],[3,197]]\n",
    "b2009 = [[788,12],[5,195]]\n",
    "b2014 = [[793,7],[9,191]]\n",
    "b2019 = [[794,6],[4,196]]\n",
    "\n",
    "import numpy as np\n",
    "c1999 = [[796,4],[18,182]]\n",
    "c2004 = [[799,1],[18,182]]\n",
    "c2009 = [[792,8],[6,194]]\n",
    "c2014 = [[787,13],[5,195]]\n",
    "c2019 = [[790,10],[5,195]]\n",
    "\n",
    "import numpy as np\n",
    "d1999 = [[798,2],[9,191]]\n",
    "d2004 = [[791,9],[7,193]]\n",
    "d2009 = [[795,5],[5,195]]\n",
    "d2014 = [[798,2],[10,190]]\n",
    "d2019 = [[797,3],[13,187]]\n",
    "\n",
    "import numpy as np\n",
    "e1999 = [[797,3],[11,189]]\n",
    "e2004 = [[797,3],[5,195]]\n",
    "e2009 = [[795,5],[4,196]]\n",
    "e2014 = [[792,8],[5,195]]\n",
    "e2019 = [[797,3],[8,192]]"
   ]
  },
  {
   "cell_type": "code",
   "execution_count": null,
   "id": "d7771bfa",
   "metadata": {
    "ExecuteTime": {
     "end_time": "2022-02-10T12:57:56.462799Z",
     "start_time": "2022-02-10T12:57:48.383896Z"
    },
    "hidden": true,
    "scrolled": false
   },
   "outputs": [],
   "source": [
    "# number = [a1999,a2004,a2009,a2014,a2019]\n",
    "# number = [b1999,b2004,b2009,b2014,b2019]\n",
    "# number = [c1999,c2004,c2009,c2014,c2019]\n",
    "number = [d1999,d2004,d2009,d2014,d2019]\n",
    "# number = [e1999,e2004,e2009,e2014,e2019]\n",
    "\n",
    "for i in number:\n",
    "    test_accuracy = ee.ConfusionMatrix(ee.Array(i))\n",
    "    print(test_accuracy.getInfo())\n",
    "    print('total accuracy:{}'.format(test_accuracy.accuracy().getInfo()))\n",
    "    print('kappa:{}'.format(test_accuracy.kappa().getInfo()))\n",
    "    print('consumersAccuracy:{}'.format(test_accuracy.consumersAccuracy().getInfo()))\n",
    "    print('producersAccuracy:{}'.format(test_accuracy.producersAccuracy().getInfo()))"
   ]
  },
  {
   "cell_type": "code",
   "execution_count": null,
   "id": "4a454c1a",
   "metadata": {
    "hidden": true
   },
   "outputs": [],
   "source": []
  },
  {
   "cell_type": "code",
   "execution_count": null,
   "id": "f1420800",
   "metadata": {
    "hidden": true
   },
   "outputs": [],
   "source": []
  }
 ],
 "metadata": {
  "hide_input": false,
  "kernelspec": {
   "display_name": "Python 3 (ipykernel)",
   "language": "python",
   "name": "python3"
  },
  "language_info": {
   "codemirror_mode": {
    "name": "ipython",
    "version": 3
   },
   "file_extension": ".py",
   "mimetype": "text/x-python",
   "name": "python",
   "nbconvert_exporter": "python",
   "pygments_lexer": "ipython3",
   "version": "3.8.12"
  },
  "toc": {
   "base_numbering": 1,
   "nav_menu": {},
   "number_sections": true,
   "sideBar": true,
   "skip_h1_title": false,
   "title_cell": "Table of Contents",
   "title_sidebar": "Contents",
   "toc_cell": false,
   "toc_position": {},
   "toc_section_display": true,
   "toc_window_display": false
  },
  "varInspector": {
   "cols": {
    "lenName": 16,
    "lenType": 16,
    "lenVar": 40
   },
   "kernels_config": {
    "python": {
     "delete_cmd_postfix": "",
     "delete_cmd_prefix": "del ",
     "library": "var_list.py",
     "varRefreshCmd": "print(var_dic_list())"
    },
    "r": {
     "delete_cmd_postfix": ") ",
     "delete_cmd_prefix": "rm(",
     "library": "var_list.r",
     "varRefreshCmd": "cat(var_dic_list()) "
    }
   },
   "types_to_exclude": [
    "module",
    "function",
    "builtin_function_or_method",
    "instance",
    "_Feature"
   ],
   "window_display": false
  }
 },
 "nbformat": 4,
 "nbformat_minor": 5
}
