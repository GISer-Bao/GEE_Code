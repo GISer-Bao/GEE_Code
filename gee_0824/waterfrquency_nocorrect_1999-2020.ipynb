{
 "cells": [
  {
   "cell_type": "code",
   "execution_count": 1,
   "id": "407b5bbc",
   "metadata": {
    "ExecuteTime": {
     "end_time": "2022-03-02T06:28:14.055322Z",
     "start_time": "2022-03-02T06:28:14.049338Z"
    }
   },
   "outputs": [],
   "source": [
    "import os\n",
    "os.environ['HTTP_PROXY'] = \"http://127.0.0.1:10809\"\n",
    "os.environ['HTTPS_PROXY'] = \"http://127.0.0.1:10809\""
   ]
  },
  {
   "cell_type": "code",
   "execution_count": 2,
   "id": "d36cc81d",
   "metadata": {
    "ExecuteTime": {
     "end_time": "2022-03-02T06:28:19.581548Z",
     "start_time": "2022-03-02T06:28:14.458244Z"
    }
   },
   "outputs": [
    {
     "data": {
      "application/vnd.jupyter.widget-view+json": {
       "model_id": "15796f3c2c40476ba63c4eb0772b55d3",
       "version_major": 2,
       "version_minor": 0
      },
      "text/plain": [
       "Map(center=[20, 0], controls=(WidgetControl(options=['position', 'transparent_bg'], widget=HBox(children=(Togg…"
      ]
     },
     "metadata": {},
     "output_type": "display_data"
    }
   ],
   "source": [
    "import geemap\n",
    "import ee\n",
    "Map=geemap.Map()\n",
    "Map"
   ]
  },
  {
   "cell_type": "markdown",
   "id": "dda7ecff",
   "metadata": {},
   "source": [
    "# daqing"
   ]
  },
  {
   "cell_type": "code",
   "execution_count": 3,
   "id": "2e5f4920",
   "metadata": {
    "ExecuteTime": {
     "end_time": "2022-03-02T06:28:19.645379Z",
     "start_time": "2022-03-02T06:28:19.629421Z"
    }
   },
   "outputs": [],
   "source": [
    "# 有效像元\n",
    "image99 = ee.Image(\"users/311605001111/WP-VP-nocorrect/daqing_VP_1999\").float()\n",
    "image0 = ee.Image(\"users/311605001111/WP-VP-nocorrect/daqing_VP_2000\").float()\n",
    "image1 = ee.Image(\"users/311605001111/WP-VP-nocorrect/daqing_VP_2001\").float()\n",
    "image2 = ee.Image(\"users/311605001111/WP-VP-nocorrect/daqing_VP_2002\").float()\n",
    "image3 = ee.Image(\"users/311605001111/WP-VP-nocorrect/daqing_VP_2003\").float()\n",
    "image4 = ee.Image(\"users/311605001111/WP-VP-nocorrect/daqing_VP_2004\").float()\n",
    "image5 = ee.Image(\"users/311605001111/WP-VP-nocorrect/daqing_VP_2005\").float()\n",
    "image6 = ee.Image(\"users/311605001111/WP-VP-nocorrect/daqing_VP_2006\").float()\n",
    "image7 = ee.Image(\"users/311605001111/WP-VP-nocorrect/daqing_VP_2007\").float()\n",
    "image8 = ee.Image(\"users/311605001111/WP-VP-nocorrect/daqing_VP_2008\").float()\n",
    "image9 = ee.Image(\"users/311605001111/WP-VP-nocorrect/daqing_VP_2009\").float()\n",
    "image10 = ee.Image(\"users/311605001111/WP-VP-nocorrect/daqing_VP_2010\").float()\n",
    "image11 = ee.Image(\"users/311605001111/WP-VP-nocorrect/daqing_VP_2011\").float()\n",
    "image12 = ee.Image(\"users/311605001111/WP-VP-nocorrect/daqing_VP_2012\").float()\n",
    "image13 = ee.Image(\"users/311605001111/WP-VP-nocorrect/daqing_VP_2013\").float()\n",
    "image14 = ee.Image(\"users/311605001111/WP-VP-nocorrect/daqing_VP_2014\").float()\n",
    "image15 = ee.Image(\"users/311605001111/WP-VP-nocorrect/daqing_VP_2015\").float()\n",
    "image16 = ee.Image(\"users/311605001111/WP-VP-nocorrect/daqing_VP_2016\").float()\n",
    "image17 = ee.Image(\"users/311605001111/WP-VP-nocorrect/daqing_VP_2017\").float()\n",
    "image18 = ee.Image(\"users/311605001111/WP-VP-nocorrect/daqing_VP_2018\").float()\n",
    "image19 = ee.Image(\"users/311605001111/WP-VP-nocorrect/daqing_VP_2019\").float()\n",
    "image20 = ee.Image(\"users/311605001111/WP-VP-nocorrect/daqing_VP_2020\").float()\n",
    "\n",
    "validPixel = ee.ImageCollection([image99,image0,image1,image2,image3,image4,image5,image6,image7,image8,image9,image10,image11,image12,image13,image14,image15,image16,image17,image18,image19,image20]).sum()\n",
    "validPixel13 = ee.ImageCollection([image99,image0,image1,image2,image3,image4,image5,image6,image7,image8,image9,image10,image11,image12]).sum()\n",
    "validPixel8 = ee.ImageCollection([image13,image14,image15,image16,image17,image18,image19,image20]).sum()"
   ]
  },
  {
   "cell_type": "code",
   "execution_count": 4,
   "id": "c78ae0d8",
   "metadata": {
    "ExecuteTime": {
     "end_time": "2022-03-02T06:28:19.787000Z",
     "start_time": "2022-03-02T06:28:19.708210Z"
    }
   },
   "outputs": [],
   "source": [
    "# 水体像元\n",
    "image99 = ee.Image(\"users/311605001111/WP-VP-nocorrect/daqing_WP_1999\").float()\n",
    "image0 = ee.Image(\"users/311605001111/WP-VP-nocorrect/daqing_WP_2000\").float()\n",
    "image1 = ee.Image(\"users/311605001111/WP-VP-nocorrect/daqing_WP_2001\").float()\n",
    "image2 = ee.Image(\"users/311605001111/WP-VP-nocorrect/daqing_WP_2002\").float()\n",
    "image3 = ee.Image(\"users/311605001111/WP-VP-nocorrect/daqing_WP_2003\").float()\n",
    "image4 = ee.Image(\"users/311605001111/WP-VP-nocorrect/daqing_WP_2004\").float()\n",
    "image5 = ee.Image(\"users/311605001111/WP-VP-nocorrect/daqing_WP_2005\").float()\n",
    "image6 = ee.Image(\"users/311605001111/WP-VP-nocorrect/daqing_WP_2006\").float()\n",
    "image7 = ee.Image(\"users/311605001111/WP-VP-nocorrect/daqing_WP_2007\").float()\n",
    "image8 = ee.Image(\"users/311605001111/WP-VP-nocorrect/daqing_WP_2008\").float()\n",
    "image9 = ee.Image(\"users/311605001111/WP-VP-nocorrect/daqing_WP_2009\").float()\n",
    "image10 = ee.Image(\"users/311605001111/WP-VP-nocorrect/daqing_WP_2010\").float()\n",
    "image11 = ee.Image(\"users/311605001111/WP-VP-nocorrect/daqing_WP_2011\").float()\n",
    "image12 = ee.Image(\"users/311605001111/WP-VP-nocorrect/daqing_WP_2012\").float()\n",
    "image13 = ee.Image(\"users/311605001111/WP-VP-nocorrect/daqing_WP_2013\").float()\n",
    "image14 = ee.Image(\"users/311605001111/WP-VP-nocorrect/daqing_WP_2014\").float()\n",
    "image15 = ee.Image(\"users/311605001111/WP-VP-nocorrect/daqing_WP_2015\").float()\n",
    "image16 = ee.Image(\"users/311605001111/WP-VP-nocorrect/daqing_WP_2016\").float()\n",
    "image17 = ee.Image(\"users/311605001111/WP-VP-nocorrect/daqing_WP_2017\").float()\n",
    "image18 = ee.Image(\"users/311605001111/WP-VP-nocorrect/daqing_WP_2018\").float()\n",
    "image19 = ee.Image(\"users/311605001111/WP-VP-nocorrect/daqing_WP_2019\").float()\n",
    "image20 = ee.Image(\"users/311605001111/WP-VP-nocorrect/daqing_WP_2020\").float()\n",
    "\n",
    "waterPixel = ee.ImageCollection([image99,image0,image1,image2,image3,image4,image5,image6,image7,image8,image9,image10,image11,image12,image13,image14,image15,image16,image17,image18,image19,image20]).sum()\n",
    "waterPixel13 = ee.ImageCollection([image99,image0,image1,image2,image3,image4,image5,image6,image7,image8,image9,image10,image11,image12]).sum()\n",
    "waterPixel8 = ee.ImageCollection([image13,image14,image15,image16,image17,image18,image19,image20]).sum()"
   ]
  },
  {
   "cell_type": "code",
   "execution_count": 5,
   "id": "63e1953f",
   "metadata": {
    "ExecuteTime": {
     "end_time": "2022-03-02T06:28:23.847176Z",
     "start_time": "2022-03-02T06:28:22.353140Z"
    }
   },
   "outputs": [],
   "source": [
    "# # 大庆市\n",
    "roi = ee.Geometry.Rectangle([123.9355, 45.8362,125.3055, 46.8762])\n",
    "# # 天津市\n",
    "# roi = ee.Geometry.Rectangle([115.9244, 38.6272,117.4944,39.6372])\n",
    "# # 武汉市\n",
    "# roi = ee.Geometry.Rectangle([113.7393, 29.8642,115.0993, 30.9242])\n",
    "# # 珠三角\n",
    "# roi = ee.Geometry.Rectangle([112.7614, 22.2347,114.0514, 23.2547])\n",
    "# 青藏高原\n",
    "# roi = ee.Geometry.Rectangle([89.8826, 34.6579,91.3626, 35.8279])\n",
    "Map.addLayer(roi, {}, \"roi\")\n",
    "Map.centerObject(roi,7)"
   ]
  },
  {
   "cell_type": "code",
   "execution_count": 6,
   "id": "7e38edcf",
   "metadata": {
    "ExecuteTime": {
     "end_time": "2022-03-02T06:28:31.544598Z",
     "start_time": "2022-03-02T06:28:30.112398Z"
    }
   },
   "outputs": [],
   "source": [
    "waterfrequency = waterPixel.divide(validPixel).rename('frequency')\n",
    "Map.addLayer(waterfrequency,{'palette':['white','green'],'min':0,'max':1},\"water frequency\")\n",
    "\n",
    "dataset_id = 'daqing_WF_' + '9920'\n",
    "assetID = 'users/311605001111/WF_nocorrect/' + dataset_id\n",
    "task = ee.batch.Export.image.toAsset(**{\n",
    "    'image': waterfrequency,\n",
    "    'description': dataset_id,\n",
    "    'assetId': assetID,\n",
    "    'scale': 30,\n",
    "    'region': roi,\n",
    "    'maxPixels': 1e13,\n",
    "})\n",
    "task.start()"
   ]
  },
  {
   "cell_type": "code",
   "execution_count": 7,
   "id": "79af1713",
   "metadata": {
    "ExecuteTime": {
     "end_time": "2022-03-02T06:46:51.628103Z",
     "start_time": "2022-03-02T06:46:49.553649Z"
    }
   },
   "outputs": [],
   "source": [
    "image = ee.Image(\"users/311605001111/WF_nocorrect/daqing_WF_9920\")\n",
    "Map.addLayer(image,{'palette':['white','green'],'min':0,'max':1},\"water frequency\")  "
   ]
  },
  {
   "cell_type": "markdown",
   "id": "a719dbb3",
   "metadata": {},
   "source": [
    "# tianjin"
   ]
  },
  {
   "cell_type": "code",
   "execution_count": 8,
   "id": "3731c0ed",
   "metadata": {
    "ExecuteTime": {
     "end_time": "2022-03-02T13:48:06.992824Z",
     "start_time": "2022-03-02T13:48:06.959404Z"
    }
   },
   "outputs": [],
   "source": [
    "# 有效像元\n",
    "image99 = ee.Image(\"users/311605001111/WP-VP-nocorrect/tianjin_VP_1999\").float()\n",
    "image0 = ee.Image(\"users/311605001111/WP-VP-nocorrect/tianjin_VP_2000\").float()\n",
    "image1 = ee.Image(\"users/311605001111/WP-VP-nocorrect/tianjin_VP_2001\").float()\n",
    "image2 = ee.Image(\"users/311605001111/WP-VP-nocorrect/tianjin_VP_2002\").float()\n",
    "image3 = ee.Image(\"users/311605001111/WP-VP-nocorrect/tianjin_VP_2003\").float()\n",
    "image4 = ee.Image(\"users/311605001111/WP-VP-nocorrect/tianjin_VP_2004\").float()\n",
    "image5 = ee.Image(\"users/311605001111/WP-VP-nocorrect/tianjin_VP_2005\").float()\n",
    "image6 = ee.Image(\"users/311605001111/WP-VP-nocorrect/tianjin_VP_2006\").float()\n",
    "image7 = ee.Image(\"users/311605001111/WP-VP-nocorrect/tianjin_VP_2007\").float()\n",
    "image8 = ee.Image(\"users/311605001111/WP-VP-nocorrect/tianjin_VP_2008\").float()\n",
    "image9 = ee.Image(\"users/311605001111/WP-VP-nocorrect/tianjin_VP_2009\").float()\n",
    "image10 = ee.Image(\"users/311605001111/WP-VP-nocorrect/tianjin_VP_2010\").float()\n",
    "image11 = ee.Image(\"users/311605001111/WP-VP-nocorrect/tianjin_VP_2011\").float()\n",
    "image12 = ee.Image(\"users/311605001111/WP-VP-nocorrect/tianjin_VP_2012\").float()\n",
    "image13 = ee.Image(\"users/311605001111/WP-VP-nocorrect/tianjin_VP_2013\").float()\n",
    "image14 = ee.Image(\"users/311605001111/WP-VP-nocorrect/tianjin_VP_2014\").float()\n",
    "image15 = ee.Image(\"users/311605001111/WP-VP-nocorrect/tianjin_VP_2015\").float()\n",
    "image16 = ee.Image(\"users/311605001111/WP-VP-nocorrect/tianjin_VP_2016\").float()\n",
    "image17 = ee.Image(\"users/311605001111/WP-VP-nocorrect/tianjin_VP_2017\").float()\n",
    "image18 = ee.Image(\"users/311605001111/WP-VP-nocorrect/tianjin_VP_2018\").float()\n",
    "image19 = ee.Image(\"users/311605001111/WP-VP-nocorrect/tianjin_VP_2019\").float()\n",
    "image20 = ee.Image(\"users/311605001111/WP-VP-nocorrect/tianjin_VP_2020\").float()\n",
    "\n",
    "validPixel = ee.ImageCollection([image99,image0,image1,image2,image3,image4,image5,image6,image7,image8,image9,image10,image11,image12,image13,image14,image15,image16,image17,image18,image19,image20]).sum()\n",
    "validPixel13 = ee.ImageCollection([image99,image0,image1,image2,image3,image4,image5,image6,image7,image8,image9,image10,image11,image12]).sum()\n",
    "validPixel8 = ee.ImageCollection([image13,image14,image15,image16,image17,image18,image19,image20]).sum()"
   ]
  },
  {
   "cell_type": "code",
   "execution_count": 9,
   "id": "ec051af6",
   "metadata": {
    "ExecuteTime": {
     "end_time": "2022-03-02T13:48:07.953620Z",
     "start_time": "2022-03-02T13:48:07.945374Z"
    }
   },
   "outputs": [],
   "source": [
    "# 水体像元\n",
    "image99 = ee.Image(\"users/311605001111/WP-VP-nocorrect/tianjin_WP_1999\").float()\n",
    "image0 = ee.Image(\"users/311605001111/WP-VP-nocorrect/tianjin_WP_2000\").float()\n",
    "image1 = ee.Image(\"users/311605001111/WP-VP-nocorrect/tianjin_WP_2001\").float()\n",
    "image2 = ee.Image(\"users/311605001111/WP-VP-nocorrect/tianjin_WP_2002\").float()\n",
    "image3 = ee.Image(\"users/311605001111/WP-VP-nocorrect/tianjin_WP_2003\").float()\n",
    "image4 = ee.Image(\"users/311605001111/WP-VP-nocorrect/tianjin_WP_2004\").float()\n",
    "image5 = ee.Image(\"users/311605001111/WP-VP-nocorrect/tianjin_WP_2005\").float()\n",
    "image6 = ee.Image(\"users/311605001111/WP-VP-nocorrect/tianjin_WP_2006\").float()\n",
    "image7 = ee.Image(\"users/311605001111/WP-VP-nocorrect/tianjin_WP_2007\").float()\n",
    "image8 = ee.Image(\"users/311605001111/WP-VP-nocorrect/tianjin_WP_2008\").float()\n",
    "image9 = ee.Image(\"users/311605001111/WP-VP-nocorrect/tianjin_WP_2009\").float()\n",
    "image10 = ee.Image(\"users/311605001111/WP-VP-nocorrect/tianjin_WP_2010\").float()\n",
    "image11 = ee.Image(\"users/311605001111/WP-VP-nocorrect/tianjin_WP_2011\").float()\n",
    "image12 = ee.Image(\"users/311605001111/WP-VP-nocorrect/tianjin_WP_2012\").float()\n",
    "image13 = ee.Image(\"users/311605001111/WP-VP-nocorrect/tianjin_WP_2013\").float()\n",
    "image14 = ee.Image(\"users/311605001111/WP-VP-nocorrect/tianjin_WP_2014\").float()\n",
    "image15 = ee.Image(\"users/311605001111/WP-VP-nocorrect/tianjin_WP_2015\").float()\n",
    "image16 = ee.Image(\"users/311605001111/WP-VP-nocorrect/tianjin_WP_2016\").float()\n",
    "image17 = ee.Image(\"users/311605001111/WP-VP-nocorrect/tianjin_WP_2017\").float()\n",
    "image18 = ee.Image(\"users/311605001111/WP-VP-nocorrect/tianjin_WP_2018\").float()\n",
    "image19 = ee.Image(\"users/311605001111/WP-VP-nocorrect/tianjin_WP_2019\").float()\n",
    "image20 = ee.Image(\"users/311605001111/WP-VP-nocorrect/tianjin_WP_2020\").float()\n",
    "\n",
    "waterPixel = ee.ImageCollection([image99,image0,image1,image2,image3,image4,image5,image6,image7,image8,image9,image10,image11,image12,image13,image14,image15,image16,image17,image18,image19,image20]).sum()\n",
    "waterPixel13 = ee.ImageCollection([image99,image0,image1,image2,image3,image4,image5,image6,image7,image8,image9,image10,image11,image12]).sum()\n",
    "waterPixel8 = ee.ImageCollection([image13,image14,image15,image16,image17,image18,image19,image20]).sum()"
   ]
  },
  {
   "cell_type": "code",
   "execution_count": 10,
   "id": "f982c561",
   "metadata": {
    "ExecuteTime": {
     "end_time": "2022-03-02T13:48:12.097009Z",
     "start_time": "2022-03-02T13:48:09.312169Z"
    }
   },
   "outputs": [],
   "source": [
    "# # 大庆市\n",
    "# roi = ee.Geometry.Rectangle([123.9355, 45.8362,125.3055, 46.8762])\n",
    "# # 天津市\n",
    "roi = ee.Geometry.Rectangle([115.9244, 38.6272,117.4944,39.6372])\n",
    "# # 武汉市\n",
    "# roi = ee.Geometry.Rectangle([113.7393, 29.8642,115.0993, 30.9242])\n",
    "# # 珠三角\n",
    "# roi = ee.Geometry.Rectangle([112.7614, 22.2347,114.0514, 23.2547])\n",
    "# 青藏高原\n",
    "# roi = ee.Geometry.Rectangle([89.8826, 34.6579,91.3626, 35.8279])\n",
    "Map.addLayer(roi, {}, \"roi\")\n",
    "Map.centerObject(roi,7)"
   ]
  },
  {
   "cell_type": "code",
   "execution_count": 11,
   "id": "3abe70c3",
   "metadata": {
    "ExecuteTime": {
     "end_time": "2022-03-02T13:48:13.943520Z",
     "start_time": "2022-03-02T13:48:12.197739Z"
    }
   },
   "outputs": [],
   "source": [
    "waterfrequency = waterPixel.divide(validPixel).rename('frequency')\n",
    "Map.addLayer(waterfrequency,{'palette':['white','green'],'min':0,'max':1},\"water frequency\")\n",
    "\n",
    "dataset_id = 'tianjin_WF_' + '9920'\n",
    "assetID = 'users/311605001111/WF_nocorrect/' + dataset_id\n",
    "task = ee.batch.Export.image.toAsset(**{\n",
    "    'image': waterfrequency,\n",
    "    'description': dataset_id,\n",
    "    'assetId': assetID,\n",
    "    'scale': 30,\n",
    "    'region': roi,\n",
    "    'maxPixels': 1e13,\n",
    "})\n",
    "task.start()"
   ]
  },
  {
   "cell_type": "code",
   "execution_count": null,
   "id": "f0654788",
   "metadata": {},
   "outputs": [],
   "source": []
  },
  {
   "cell_type": "markdown",
   "id": "067ae629",
   "metadata": {},
   "source": [
    "# wuhan"
   ]
  },
  {
   "cell_type": "code",
   "execution_count": 12,
   "id": "d32c923c",
   "metadata": {
    "ExecuteTime": {
     "end_time": "2022-03-02T13:48:16.406141Z",
     "start_time": "2022-03-02T13:48:16.376133Z"
    }
   },
   "outputs": [],
   "source": [
    "# 有效像元\n",
    "image99 = ee.Image(\"users/311605001111/WP-VP-nocorrect/wuhan_VP_1999\").float()\n",
    "image0 = ee.Image(\"users/311605001111/WP-VP-nocorrect/wuhan_VP_2000\").float()\n",
    "image1 = ee.Image(\"users/311605001111/WP-VP-nocorrect/wuhan_VP_2001\").float()\n",
    "image2 = ee.Image(\"users/311605001111/WP-VP-nocorrect/wuhan_VP_2002\").float()\n",
    "image3 = ee.Image(\"users/311605001111/WP-VP-nocorrect/wuhan_VP_2003\").float()\n",
    "image4 = ee.Image(\"users/311605001111/WP-VP-nocorrect/wuhan_VP_2004\").float()\n",
    "image5 = ee.Image(\"users/311605001111/WP-VP-nocorrect/wuhan_VP_2005\").float()\n",
    "image6 = ee.Image(\"users/311605001111/WP-VP-nocorrect/wuhan_VP_2006\").float()\n",
    "image7 = ee.Image(\"users/311605001111/WP-VP-nocorrect/wuhan_VP_2007\").float()\n",
    "image8 = ee.Image(\"users/311605001111/WP-VP-nocorrect/wuhan_VP_2008\").float()\n",
    "image9 = ee.Image(\"users/311605001111/WP-VP-nocorrect/wuhan_VP_2009\").float()\n",
    "image10 = ee.Image(\"users/311605001111/WP-VP-nocorrect/wuhan_VP_2010\").float()\n",
    "image11 = ee.Image(\"users/311605001111/WP-VP-nocorrect/wuhan_VP_2011\").float()\n",
    "image12 = ee.Image(\"users/311605001111/WP-VP-nocorrect/wuhan_VP_2012\").float()\n",
    "image13 = ee.Image(\"users/311605001111/WP-VP-nocorrect/wuhan_VP_2013\").float()\n",
    "image14 = ee.Image(\"users/311605001111/WP-VP-nocorrect/wuhan_VP_2014\").float()\n",
    "image15 = ee.Image(\"users/311605001111/WP-VP-nocorrect/wuhan_VP_2015\").float()\n",
    "image16 = ee.Image(\"users/311605001111/WP-VP-nocorrect/wuhan_VP_2016\").float()\n",
    "image17 = ee.Image(\"users/311605001111/WP-VP-nocorrect/wuhan_VP_2017\").float()\n",
    "image18 = ee.Image(\"users/311605001111/WP-VP-nocorrect/wuhan_VP_2018\").float()\n",
    "image19 = ee.Image(\"users/311605001111/WP-VP-nocorrect/wuhan_VP_2019\").float()\n",
    "image20 = ee.Image(\"users/311605001111/WP-VP-nocorrect/wuhan_VP_2020\").float()\n",
    "\n",
    "validPixel = ee.ImageCollection([image99,image0,image1,image2,image3,image4,image5,image6,image7,image8,image9,image10,image11,image12,image13,image14,image15,image16,image17,image18,image19,image20]).sum()\n",
    "validPixel13 = ee.ImageCollection([image99,image0,image1,image2,image3,image4,image5,image6,image7,image8,image9,image10,image11,image12]).sum()\n",
    "validPixel8 = ee.ImageCollection([image13,image14,image15,image16,image17,image18,image19,image20]).sum()"
   ]
  },
  {
   "cell_type": "code",
   "execution_count": 13,
   "id": "72d191f9",
   "metadata": {
    "ExecuteTime": {
     "end_time": "2022-03-02T13:48:17.128866Z",
     "start_time": "2022-03-02T13:48:17.120896Z"
    }
   },
   "outputs": [],
   "source": [
    "# 水体像元\n",
    "image99 = ee.Image(\"users/311605001111/WP-VP-nocorrect/wuhan_WP_1999\").float()\n",
    "image0 = ee.Image(\"users/311605001111/WP-VP-nocorrect/wuhan_WP_2000\").float()\n",
    "image1 = ee.Image(\"users/311605001111/WP-VP-nocorrect/wuhan_WP_2001\").float()\n",
    "image2 = ee.Image(\"users/311605001111/WP-VP-nocorrect/wuhan_WP_2002\").float()\n",
    "image3 = ee.Image(\"users/311605001111/WP-VP-nocorrect/wuhan_WP_2003\").float()\n",
    "image4 = ee.Image(\"users/311605001111/WP-VP-nocorrect/wuhan_WP_2004\").float()\n",
    "image5 = ee.Image(\"users/311605001111/WP-VP-nocorrect/wuhan_WP_2005\").float()\n",
    "image6 = ee.Image(\"users/311605001111/WP-VP-nocorrect/wuhan_WP_2006\").float()\n",
    "image7 = ee.Image(\"users/311605001111/WP-VP-nocorrect/wuhan_WP_2007\").float()\n",
    "image8 = ee.Image(\"users/311605001111/WP-VP-nocorrect/wuhan_WP_2008\").float()\n",
    "image9 = ee.Image(\"users/311605001111/WP-VP-nocorrect/wuhan_WP_2009\").float()\n",
    "image10 = ee.Image(\"users/311605001111/WP-VP-nocorrect/wuhan_WP_2010\").float()\n",
    "image11 = ee.Image(\"users/311605001111/WP-VP-nocorrect/wuhan_WP_2011\").float()\n",
    "image12 = ee.Image(\"users/311605001111/WP-VP-nocorrect/wuhan_WP_2012\").float()\n",
    "image13 = ee.Image(\"users/311605001111/WP-VP-nocorrect/wuhan_WP_2013\").float()\n",
    "image14 = ee.Image(\"users/311605001111/WP-VP-nocorrect/wuhan_WP_2014\").float()\n",
    "image15 = ee.Image(\"users/311605001111/WP-VP-nocorrect/wuhan_WP_2015\").float()\n",
    "image16 = ee.Image(\"users/311605001111/WP-VP-nocorrect/wuhan_WP_2016\").float()\n",
    "image17 = ee.Image(\"users/311605001111/WP-VP-nocorrect/wuhan_WP_2017\").float()\n",
    "image18 = ee.Image(\"users/311605001111/WP-VP-nocorrect/wuhan_WP_2018\").float()\n",
    "image19 = ee.Image(\"users/311605001111/WP-VP-nocorrect/wuhan_WP_2019\").float()\n",
    "image20 = ee.Image(\"users/311605001111/WP-VP-nocorrect/wuhan_WP_2020\").float()\n",
    "\n",
    "waterPixel = ee.ImageCollection([image99,image0,image1,image2,image3,image4,image5,image6,image7,image8,image9,image10,image11,image12,image13,image14,image15,image16,image17,image18,image19,image20]).sum()\n",
    "waterPixel13 = ee.ImageCollection([image99,image0,image1,image2,image3,image4,image5,image6,image7,image8,image9,image10,image11,image12]).sum()\n",
    "waterPixel8 = ee.ImageCollection([image13,image14,image15,image16,image17,image18,image19,image20]).sum()"
   ]
  },
  {
   "cell_type": "code",
   "execution_count": 14,
   "id": "15c042ba",
   "metadata": {
    "ExecuteTime": {
     "end_time": "2022-03-02T13:48:19.050827Z",
     "start_time": "2022-03-02T13:48:17.896631Z"
    }
   },
   "outputs": [],
   "source": [
    "# # 大庆市\n",
    "# roi = ee.Geometry.Rectangle([123.9355, 45.8362,125.3055, 46.8762])\n",
    "# # 天津市\n",
    "# roi = ee.Geometry.Rectangle([115.9244, 38.6272,117.4944,39.6372])\n",
    "# # 武汉市\n",
    "roi = ee.Geometry.Rectangle([113.7393, 29.8642,115.0993, 30.9242])\n",
    "# # 珠三角\n",
    "# roi = ee.Geometry.Rectangle([112.7614, 22.2347,114.0514, 23.2547])\n",
    "# 青藏高原\n",
    "# roi = ee.Geometry.Rectangle([89.8826, 34.6579,91.3626, 35.8279])\n",
    "Map.addLayer(roi, {}, \"roi\")\n",
    "Map.centerObject(roi,7)"
   ]
  },
  {
   "cell_type": "code",
   "execution_count": 15,
   "id": "1f96d691",
   "metadata": {
    "ExecuteTime": {
     "end_time": "2022-03-02T13:48:20.502365Z",
     "start_time": "2022-03-02T13:48:19.156369Z"
    }
   },
   "outputs": [],
   "source": [
    "waterfrequency = waterPixel.divide(validPixel).rename('frequency')\n",
    "Map.addLayer(waterfrequency,{'palette':['white','green'],'min':0,'max':1},\"water frequency\")\n",
    "\n",
    "dataset_id = 'wuhan_WF_' + '9920'\n",
    "assetID = 'users/311605001111/WF_nocorrect/' + dataset_id\n",
    "task = ee.batch.Export.image.toAsset(**{\n",
    "    'image': waterfrequency,\n",
    "    'description': dataset_id,\n",
    "    'assetId': assetID,\n",
    "    'scale': 30,\n",
    "    'region': roi,\n",
    "    'maxPixels': 1e13,\n",
    "})\n",
    "task.start()"
   ]
  },
  {
   "cell_type": "code",
   "execution_count": null,
   "id": "a9f5b320",
   "metadata": {},
   "outputs": [],
   "source": []
  },
  {
   "cell_type": "markdown",
   "id": "a1f5f760",
   "metadata": {},
   "source": [
    "# tibet"
   ]
  },
  {
   "cell_type": "code",
   "execution_count": 20,
   "id": "9f66f87f",
   "metadata": {
    "ExecuteTime": {
     "end_time": "2022-03-03T01:00:45.078201Z",
     "start_time": "2022-03-03T01:00:45.040303Z"
    }
   },
   "outputs": [],
   "source": [
    "# 有效像元\n",
    "image99 = ee.Image(\"users/311605001111/WP-VP-nocorrect/tibet_VP_1999\").float()\n",
    "image0 = ee.Image(\"users/311605001111/WP-VP-nocorrect/tibet_VP_2000\").float()\n",
    "image1 = ee.Image(\"users/311605001111/WP-VP-nocorrect/tibet_VP_2001\").float()\n",
    "image2 = ee.Image(\"users/311605001111/WP-VP-nocorrect/tibet_VP_2002\").float()\n",
    "image3 = ee.Image(\"users/311605001111/WP-VP-nocorrect/tibet_VP_2003\").float()\n",
    "image4 = ee.Image(\"users/311605001111/WP-VP-nocorrect/tibet_VP_2004\").float()\n",
    "image5 = ee.Image(\"users/311605001111/WP-VP-nocorrect/tibet_VP_2005\").float()\n",
    "image6 = ee.Image(\"users/311605001111/WP-VP-nocorrect/tibet_VP_2006\").float()\n",
    "image7 = ee.Image(\"users/311605001111/WP-VP-nocorrect/tibet_VP_2007\").float()\n",
    "image8 = ee.Image(\"users/311605001111/WP-VP-nocorrect/tibet_VP_2008\").float()\n",
    "image9 = ee.Image(\"users/311605001111/WP-VP-nocorrect/tibet_VP_2009\").float()\n",
    "image10 = ee.Image(\"users/311605001111/WP-VP-nocorrect/tibet_VP_2010\").float()\n",
    "image11 = ee.Image(\"users/311605001111/WP-VP-nocorrect/tibet_VP_2011\").float()\n",
    "image12 = ee.Image(\"users/311605001111/WP-VP-nocorrect/tibet_VP_2012\").float()\n",
    "image13 = ee.Image(\"users/311605001111/WP-VP-nocorrect/tibet_VP_2013\").float()\n",
    "image14 = ee.Image(\"users/311605001111/WP-VP-nocorrect/tibet_VP_2014\").float()\n",
    "image15 = ee.Image(\"users/311605001111/WP-VP-nocorrect/tibet_VP_2015\").float()\n",
    "image16 = ee.Image(\"users/311605001111/WP-VP-nocorrect/tibet_VP_2016\").float()\n",
    "image17 = ee.Image(\"users/311605001111/WP-VP-nocorrect/tibet_VP_2017\").float()\n",
    "image18 = ee.Image(\"users/311605001111/WP-VP-nocorrect/tibet_VP_2018\").float()\n",
    "image19 = ee.Image(\"users/311605001111/WP-VP-nocorrect/tibet_VP_2019\").float()\n",
    "image20 = ee.Image(\"users/311605001111/WP-VP-nocorrect/tibet_VP_2020\").float()\n",
    "\n",
    "validPixel = ee.ImageCollection([image99,image0,image1,image2,image3,image4,image5,image6,image7,image8,image9,image10,image11,image12,image13,image14,image15,image16,image17,image18,image19,image20]).sum()\n",
    "validPixel13 = ee.ImageCollection([image99,image0,image1,image2,image3,image4,image5,image6,image7,image8,image9,image10,image11,image12]).sum()\n",
    "validPixel8 = ee.ImageCollection([image13,image14,image15,image16,image17,image18,image19,image20]).sum()"
   ]
  },
  {
   "cell_type": "code",
   "execution_count": 21,
   "id": "3827bf2d",
   "metadata": {
    "ExecuteTime": {
     "end_time": "2022-03-03T01:00:45.836176Z",
     "start_time": "2022-03-03T01:00:45.816229Z"
    }
   },
   "outputs": [],
   "source": [
    "# 水体像元\n",
    "image99 = ee.Image(\"users/311605001111/WP-VP-nocorrect/tibet_WP_1999\").float()\n",
    "image0 = ee.Image(\"users/311605001111/WP-VP-nocorrect/tibet_WP_2000\").float()\n",
    "image1 = ee.Image(\"users/311605001111/WP-VP-nocorrect/tibet_WP_2001\").float()\n",
    "image2 = ee.Image(\"users/311605001111/WP-VP-nocorrect/tibet_WP_2002\").float()\n",
    "image3 = ee.Image(\"users/311605001111/WP-VP-nocorrect/tibet_WP_2003\").float()\n",
    "image4 = ee.Image(\"users/311605001111/WP-VP-nocorrect/tibet_WP_2004\").float()\n",
    "image5 = ee.Image(\"users/311605001111/WP-VP-nocorrect/tibet_WP_2005\").float()\n",
    "image6 = ee.Image(\"users/311605001111/WP-VP-nocorrect/tibet_WP_2006\").float()\n",
    "image7 = ee.Image(\"users/311605001111/WP-VP-nocorrect/tibet_WP_2007\").float()\n",
    "image8 = ee.Image(\"users/311605001111/WP-VP-nocorrect/tibet_WP_2008\").float()\n",
    "image9 = ee.Image(\"users/311605001111/WP-VP-nocorrect/tibet_WP_2009\").float()\n",
    "image10 = ee.Image(\"users/311605001111/WP-VP-nocorrect/tibet_WP_2010\").float()\n",
    "image11 = ee.Image(\"users/311605001111/WP-VP-nocorrect/tibet_WP_2011\").float()\n",
    "image12 = ee.Image(\"users/311605001111/WP-VP-nocorrect/tibet_WP_2012\").float()\n",
    "image13 = ee.Image(\"users/311605001111/WP-VP-nocorrect/tibet_WP_2013\").float()\n",
    "image14 = ee.Image(\"users/311605001111/WP-VP-nocorrect/tibet_WP_2014\").float()\n",
    "image15 = ee.Image(\"users/311605001111/WP-VP-nocorrect/tibet_WP_2015\").float()\n",
    "image16 = ee.Image(\"users/311605001111/WP-VP-nocorrect/tibet_WP_2016\").float()\n",
    "image17 = ee.Image(\"users/311605001111/WP-VP-nocorrect/tibet_WP_2017\").float()\n",
    "image18 = ee.Image(\"users/311605001111/WP-VP-nocorrect/tibet_WP_2018\").float()\n",
    "image19 = ee.Image(\"users/311605001111/WP-VP-nocorrect/tibet_WP_2019\").float()\n",
    "image20 = ee.Image(\"users/311605001111/WP-VP-nocorrect/tibet_WP_2020\").float()\n",
    "\n",
    "waterPixel = ee.ImageCollection([image99,image0,image1,image2,image3,image4,image5,image6,image7,image8,image9,image10,image11,image12,image13,image14,image15,image16,image17,image18,image19,image20]).sum()\n",
    "waterPixel13 = ee.ImageCollection([image99,image0,image1,image2,image3,image4,image5,image6,image7,image8,image9,image10,image11,image12]).sum()\n",
    "waterPixel8 = ee.ImageCollection([image13,image14,image15,image16,image17,image18,image19,image20]).sum()"
   ]
  },
  {
   "cell_type": "code",
   "execution_count": 22,
   "id": "945d8e41",
   "metadata": {
    "ExecuteTime": {
     "end_time": "2022-03-03T01:00:49.304903Z",
     "start_time": "2022-03-03T01:00:46.696876Z"
    }
   },
   "outputs": [],
   "source": [
    "# # 大庆市\n",
    "# roi = ee.Geometry.Rectangle([123.9355, 45.8362,125.3055, 46.8762])\n",
    "# # 天津市\n",
    "# roi = ee.Geometry.Rectangle([115.9244, 38.6272,117.4944,39.6372])\n",
    "# # 武汉市\n",
    "# roi = ee.Geometry.Rectangle([113.7393, 29.8642,115.0993, 30.9242])\n",
    "# # 珠三角\n",
    "# roi = ee.Geometry.Rectangle([112.7614, 22.2347,114.0514, 23.2547])\n",
    "# 青藏高原\n",
    "roi = ee.Geometry.Rectangle([89.8826, 34.6579,91.3626, 35.8279])\n",
    "Map.addLayer(roi, {}, \"roi\")\n",
    "Map.centerObject(roi,7)"
   ]
  },
  {
   "cell_type": "code",
   "execution_count": 23,
   "id": "c2b4bf07",
   "metadata": {
    "ExecuteTime": {
     "end_time": "2022-03-03T01:00:51.839157Z",
     "start_time": "2022-03-03T01:00:50.448875Z"
    }
   },
   "outputs": [],
   "source": [
    "waterfrequency = waterPixel.divide(validPixel).rename('frequency')\n",
    "Map.addLayer(waterfrequency,{'palette':['white','green'],'min':0,'max':1},\"water frequency\")\n",
    "\n",
    "dataset_id = 'tibet_WF_' + '9920'\n",
    "assetID = 'users/311605001111/WF_nocorrect/' + dataset_id\n",
    "task = ee.batch.Export.image.toAsset(**{\n",
    "    'image': waterfrequency,\n",
    "    'description': dataset_id,\n",
    "    'assetId': assetID,\n",
    "    'scale': 30,\n",
    "    'region': roi,\n",
    "    'maxPixels': 1e13,\n",
    "})\n",
    "task.start()"
   ]
  },
  {
   "cell_type": "code",
   "execution_count": null,
   "id": "c20c5fba",
   "metadata": {},
   "outputs": [],
   "source": []
  },
  {
   "cell_type": "code",
   "execution_count": null,
   "id": "92c74800",
   "metadata": {},
   "outputs": [],
   "source": []
  },
  {
   "cell_type": "markdown",
   "id": "508a1144",
   "metadata": {},
   "source": [
    "# prd"
   ]
  },
  {
   "cell_type": "code",
   "execution_count": 16,
   "id": "fbc7cbbf",
   "metadata": {
    "ExecuteTime": {
     "end_time": "2022-03-02T13:48:35.696736Z",
     "start_time": "2022-03-02T13:48:35.680841Z"
    }
   },
   "outputs": [],
   "source": [
    "# 有效像元\n",
    "image99 = ee.Image(\"users/311605001111/WP-VP-nocorrect/prd_VP_1999\").float()\n",
    "image0 = ee.Image(\"users/311605001111/WP-VP-nocorrect/prd_VP_2000\").float()\n",
    "image1 = ee.Image(\"users/311605001111/WP-VP-nocorrect/prd_VP_2001\").float()\n",
    "image2 = ee.Image(\"users/311605001111/WP-VP-nocorrect/prd_VP_2002\").float()\n",
    "image3 = ee.Image(\"users/311605001111/WP-VP-nocorrect/prd_VP_2003\").float()\n",
    "image4 = ee.Image(\"users/311605001111/WP-VP-nocorrect/prd_VP_2004\").float()\n",
    "image5 = ee.Image(\"users/311605001111/WP-VP-nocorrect/prd_VP_2005\").float()\n",
    "image6 = ee.Image(\"users/311605001111/WP-VP-nocorrect/prd_VP_2006\").float()\n",
    "image7 = ee.Image(\"users/311605001111/WP-VP-nocorrect/prd_VP_2007\").float()\n",
    "image8 = ee.Image(\"users/311605001111/WP-VP-nocorrect/prd_VP_2008\").float()\n",
    "image9 = ee.Image(\"users/311605001111/WP-VP-nocorrect/prd_VP_2009\").float()\n",
    "image10 = ee.Image(\"users/311605001111/WP-VP-nocorrect/prd_VP_2010\").float()\n",
    "image11 = ee.Image(\"users/311605001111/WP-VP-nocorrect/prd_VP_2011\").float()\n",
    "image12 = ee.Image(\"users/311605001111/WP-VP-nocorrect/prd_VP_2012\").float()\n",
    "image13 = ee.Image(\"users/311605001111/WP-VP-nocorrect/prd_VP_2013\").float()\n",
    "image14 = ee.Image(\"users/311605001111/WP-VP-nocorrect/prd_VP_2014\").float()\n",
    "image15 = ee.Image(\"users/311605001111/WP-VP-nocorrect/prd_VP_2015\").float()\n",
    "image16 = ee.Image(\"users/311605001111/WP-VP-nocorrect/prd_VP_2016\").float()\n",
    "image17 = ee.Image(\"users/311605001111/WP-VP-nocorrect/prd_VP_2017\").float()\n",
    "image18 = ee.Image(\"users/311605001111/WP-VP-nocorrect/prd_VP_2018\").float()\n",
    "image19 = ee.Image(\"users/311605001111/WP-VP-nocorrect/prd_VP_2019\").float()\n",
    "image20 = ee.Image(\"users/311605001111/WP-VP-nocorrect/prd_VP_2020\").float()\n",
    "\n",
    "validPixel = ee.ImageCollection([image99,image0,image1,image2,image3,image4,image5,image6,image7,image8,image9,image10,image11,image12,image13,image14,image15,image16,image17,image18,image19,image20]).sum()\n",
    "validPixel13 = ee.ImageCollection([image99,image0,image1,image2,image3,image4,image5,image6,image7,image8,image9,image10,image11,image12]).sum()\n",
    "validPixel8 = ee.ImageCollection([image13,image14,image15,image16,image17,image18,image19,image20]).sum()"
   ]
  },
  {
   "cell_type": "code",
   "execution_count": 17,
   "id": "73ce7ba3",
   "metadata": {
    "ExecuteTime": {
     "end_time": "2022-03-02T13:48:36.265250Z",
     "start_time": "2022-03-02T13:48:36.248296Z"
    }
   },
   "outputs": [],
   "source": [
    "# 水体像元\n",
    "image99 = ee.Image(\"users/311605001111/WP-VP-nocorrect/prd_WP_1999\").float()\n",
    "image0 = ee.Image(\"users/311605001111/WP-VP-nocorrect/prd_WP_2000\").float()\n",
    "image1 = ee.Image(\"users/311605001111/WP-VP-nocorrect/prd_WP_2001\").float()\n",
    "image2 = ee.Image(\"users/311605001111/WP-VP-nocorrect/prd_WP_2002\").float()\n",
    "image3 = ee.Image(\"users/311605001111/WP-VP-nocorrect/prd_WP_2003\").float()\n",
    "image4 = ee.Image(\"users/311605001111/WP-VP-nocorrect/prd_WP_2004\").float()\n",
    "image5 = ee.Image(\"users/311605001111/WP-VP-nocorrect/prd_WP_2005\").float()\n",
    "image6 = ee.Image(\"users/311605001111/WP-VP-nocorrect/prd_WP_2006\").float()\n",
    "image7 = ee.Image(\"users/311605001111/WP-VP-nocorrect/prd_WP_2007\").float()\n",
    "image8 = ee.Image(\"users/311605001111/WP-VP-nocorrect/prd_WP_2008\").float()\n",
    "image9 = ee.Image(\"users/311605001111/WP-VP-nocorrect/prd_WP_2009\").float()\n",
    "image10 = ee.Image(\"users/311605001111/WP-VP-nocorrect/prd_WP_2010\").float()\n",
    "image11 = ee.Image(\"users/311605001111/WP-VP-nocorrect/prd_WP_2011\").float()\n",
    "image12 = ee.Image(\"users/311605001111/WP-VP-nocorrect/prd_WP_2012\").float()\n",
    "image13 = ee.Image(\"users/311605001111/WP-VP-nocorrect/prd_WP_2013\").float()\n",
    "image14 = ee.Image(\"users/311605001111/WP-VP-nocorrect/prd_WP_2014\").float()\n",
    "image15 = ee.Image(\"users/311605001111/WP-VP-nocorrect/prd_WP_2015\").float()\n",
    "image16 = ee.Image(\"users/311605001111/WP-VP-nocorrect/prd_WP_2016\").float()\n",
    "image17 = ee.Image(\"users/311605001111/WP-VP-nocorrect/prd_WP_2017\").float()\n",
    "image18 = ee.Image(\"users/311605001111/WP-VP-nocorrect/prd_WP_2018\").float()\n",
    "image19 = ee.Image(\"users/311605001111/WP-VP-nocorrect/prd_WP_2019\").float()\n",
    "image20 = ee.Image(\"users/311605001111/WP-VP-nocorrect/prd_WP_2020\").float()\n",
    "\n",
    "waterPixel = ee.ImageCollection([image99,image0,image1,image2,image3,image4,image5,image6,image7,image8,image9,image10,image11,image12,image13,image14,image15,image16,image17,image18,image19,image20]).sum()\n",
    "waterPixel13 = ee.ImageCollection([image99,image0,image1,image2,image3,image4,image5,image6,image7,image8,image9,image10,image11,image12]).sum()\n",
    "waterPixel8 = ee.ImageCollection([image13,image14,image15,image16,image17,image18,image19,image20]).sum()"
   ]
  },
  {
   "cell_type": "code",
   "execution_count": 18,
   "id": "bfb44635",
   "metadata": {
    "ExecuteTime": {
     "end_time": "2022-03-02T13:48:38.081932Z",
     "start_time": "2022-03-02T13:48:36.937383Z"
    }
   },
   "outputs": [],
   "source": [
    "# # 大庆市\n",
    "# roi = ee.Geometry.Rectangle([123.9355, 45.8362,125.3055, 46.8762])\n",
    "# # 天津市\n",
    "# roi = ee.Geometry.Rectangle([115.9244, 38.6272,117.4944,39.6372])\n",
    "# # 武汉市\n",
    "# roi = ee.Geometry.Rectangle([113.7393, 29.8642,115.0993, 30.9242])\n",
    "# # 珠三角\n",
    "roi = ee.Geometry.Rectangle([112.7614, 22.2347,114.0514, 23.2547])\n",
    "# 青藏高原\n",
    "# roi = ee.Geometry.Rectangle([89.8826, 34.6579,91.3626, 35.8279])\n",
    "Map.addLayer(roi, {}, \"roi\")\n",
    "Map.centerObject(roi,7)"
   ]
  },
  {
   "cell_type": "code",
   "execution_count": 19,
   "id": "d9f2d962",
   "metadata": {
    "ExecuteTime": {
     "end_time": "2022-03-02T13:48:39.874438Z",
     "start_time": "2022-03-02T13:48:38.198602Z"
    }
   },
   "outputs": [],
   "source": [
    "waterfrequency = waterPixel.divide(validPixel).rename('frequency')\n",
    "Map.addLayer(waterfrequency,{'palette':['white','green'],'min':0,'max':1},\"water frequency\")\n",
    "\n",
    "dataset_id = 'prd_WF_' + '9920'\n",
    "assetID = 'users/311605001111/WF_nocorrect/' + dataset_id\n",
    "task = ee.batch.Export.image.toAsset(**{\n",
    "    'image': waterfrequency,\n",
    "    'description': dataset_id,\n",
    "    'assetId': assetID,\n",
    "    'scale': 30,\n",
    "    'region': roi,\n",
    "    'maxPixels': 1e13,\n",
    "})\n",
    "task.start()"
   ]
  },
  {
   "cell_type": "code",
   "execution_count": null,
   "id": "9b0fb2ea",
   "metadata": {},
   "outputs": [],
   "source": []
  },
  {
   "cell_type": "markdown",
   "id": "c4403120",
   "metadata": {},
   "source": [
    "# 制图"
   ]
  },
  {
   "cell_type": "code",
   "execution_count": null,
   "id": "4fcd577b",
   "metadata": {
    "ExecuteTime": {
     "end_time": "2022-02-12T12:03:07.257937Z",
     "start_time": "2022-02-12T12:02:31.528267Z"
    },
    "scrolled": false
   },
   "outputs": [],
   "source": [
    "from matplotlib import pyplot as plt\n",
    "import numpy as np\n",
    "import matplotlib\n",
    "from geemap import cartoee\n",
    "\n",
    "item = [['region A','daqing'],['region B','tianjin'],['region C','wuhan'],['region D','prd'],['region E','tibet']]\n",
    "for it in item:\n",
    "    if it[0] == 'region A':\n",
    "        re = [123.9355, 45.8362,125.3055, 46.8762]\n",
    "    elif it[0] == 'region B':\n",
    "        re = [115.9244, 38.6272,117.4944,39.6372]\n",
    "    elif it[0] == 'region C':\n",
    "        re = [113.7393, 29.8642,115.0993, 30.9242]\n",
    "    elif it[0] == 'region D':\n",
    "        re = [112.7614, 22.2347,114.0514, 23.2547]   \n",
    "    elif it[0] == 'region E':\n",
    "        re = [89.8826, 34.6579,91.3626, 35.8279]\n",
    "    \n",
    "    fig = plt.figure(figsize=(12, 8))\n",
    "    vis = {'min': 0,'max': 1,'palette':['#FFFFFF','#0000FF']}\n",
    "    pw = ee.Image('users/311605001111/WF_nocorrect/' + it[1] + '_WF_9920').visualize(**vis)\n",
    "    ax = cartoee.get_map(pw,region=re)\n",
    "    cartoee.add_gridlines(ax, interval=[0.3,0.2], linestyle=\":\")\n",
    "    cartoee.add_colorbar(ax, vis,cmap = 'Blues',loc=\"right\",label=\"water frequency\", orientation=\"vertical\")\n",
    "    ax.set_title(label = it[0] + ' (1999-2020)', fontsize=20)"
   ]
  },
  {
   "cell_type": "code",
   "execution_count": null,
   "id": "0ac30e27",
   "metadata": {},
   "outputs": [],
   "source": []
  },
  {
   "cell_type": "code",
   "execution_count": null,
   "id": "d53dc6ff",
   "metadata": {},
   "outputs": [],
   "source": []
  },
  {
   "cell_type": "code",
   "execution_count": null,
   "id": "de1fc16f",
   "metadata": {},
   "outputs": [],
   "source": []
  }
 ],
 "metadata": {
  "hide_input": false,
  "kernelspec": {
   "display_name": "Python 3 (ipykernel)",
   "language": "python",
   "name": "python3"
  },
  "language_info": {
   "codemirror_mode": {
    "name": "ipython",
    "version": 3
   },
   "file_extension": ".py",
   "mimetype": "text/x-python",
   "name": "python",
   "nbconvert_exporter": "python",
   "pygments_lexer": "ipython3",
   "version": "3.8.5"
  },
  "toc": {
   "base_numbering": 1,
   "nav_menu": {},
   "number_sections": true,
   "sideBar": true,
   "skip_h1_title": false,
   "title_cell": "Table of Contents",
   "title_sidebar": "Contents",
   "toc_cell": false,
   "toc_position": {},
   "toc_section_display": true,
   "toc_window_display": false
  },
  "varInspector": {
   "cols": {
    "lenName": 16,
    "lenType": 16,
    "lenVar": 40
   },
   "kernels_config": {
    "python": {
     "delete_cmd_postfix": "",
     "delete_cmd_prefix": "del ",
     "library": "var_list.py",
     "varRefreshCmd": "print(var_dic_list())"
    },
    "r": {
     "delete_cmd_postfix": ") ",
     "delete_cmd_prefix": "rm(",
     "library": "var_list.r",
     "varRefreshCmd": "cat(var_dic_list()) "
    }
   },
   "types_to_exclude": [
    "module",
    "function",
    "builtin_function_or_method",
    "instance",
    "_Feature"
   ],
   "window_display": false
  }
 },
 "nbformat": 4,
 "nbformat_minor": 5
}
