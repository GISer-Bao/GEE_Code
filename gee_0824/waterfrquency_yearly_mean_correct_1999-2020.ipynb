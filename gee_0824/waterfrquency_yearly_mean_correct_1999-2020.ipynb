{
 "cells": [
  {
   "cell_type": "code",
   "execution_count": 1,
   "id": "407b5bbc",
   "metadata": {
    "ExecuteTime": {
     "end_time": "2022-03-18T04:14:59.919211Z",
     "start_time": "2022-03-18T04:14:59.912198Z"
    }
   },
   "outputs": [],
   "source": [
    "import os\n",
    "os.environ['HTTP_PROXY'] = \"http://127.0.0.1:10809\"\n",
    "os.environ['HTTPS_PROXY'] = \"http://127.0.0.1:10809\""
   ]
  },
  {
   "cell_type": "code",
   "execution_count": 2,
   "id": "d36cc81d",
   "metadata": {
    "ExecuteTime": {
     "end_time": "2022-03-18T04:15:05.757367Z",
     "start_time": "2022-03-18T04:15:00.255140Z"
    }
   },
   "outputs": [
    {
     "data": {
      "application/vnd.jupyter.widget-view+json": {
       "model_id": "31fe70f7e16d47629de6691145d79411",
       "version_major": 2,
       "version_minor": 0
      },
      "text/plain": [
       "Map(center=[20, 0], controls=(WidgetControl(options=['position', 'transparent_bg'], widget=HBox(children=(Togg…"
      ]
     },
     "metadata": {},
     "output_type": "display_data"
    }
   ],
   "source": [
    "import geemap\n",
    "import ee\n",
    "Map=geemap.Map()\n",
    "Map"
   ]
  },
  {
   "cell_type": "markdown",
   "id": "dda7ecff",
   "metadata": {},
   "source": [
    "# daqing"
   ]
  },
  {
   "cell_type": "code",
   "execution_count": 3,
   "id": "68bcaab3",
   "metadata": {
    "ExecuteTime": {
     "end_time": "2022-03-18T04:15:05.804241Z",
     "start_time": "2022-03-18T04:15:05.789281Z"
    }
   },
   "outputs": [],
   "source": [
    "# 水体像元\n",
    "image99 = ee.Image(\"users/311605001111/WP-VP/daqing_WP_1999\").float().divide(ee.Image(\"users/311605001111/WP-VP/daqing_VP_1999\").float())\n",
    "image0 = ee.Image(\"users/311605001111/WP-VP/daqing_WP_2000\").float().divide(ee.Image(\"users/311605001111/WP-VP/daqing_VP_2000\").float())\n",
    "image1 = ee.Image(\"users/311605001111/WP-VP/daqing_WP_2001\").float().divide(ee.Image(\"users/311605001111/WP-VP/daqing_VP_2001\").float())\n",
    "image2 = ee.Image(\"users/311605001111/WP-VP/daqing_WP_2002\").float().divide(ee.Image(\"users/311605001111/WP-VP/daqing_VP_2002\").float())\n",
    "image3 = ee.Image(\"users/311605001111/WP-VP/daqing_WP_2003\").float().divide(ee.Image(\"users/311605001111/WP-VP/daqing_VP_2003\").float())\n",
    "image4 = ee.Image(\"users/311605001111/WP-VP/daqing_WP_2004\").float().divide(ee.Image(\"users/311605001111/WP-VP/daqing_VP_2004\").float())\n",
    "image5 = ee.Image(\"users/311605001111/WP-VP/daqing_WP_2005\").float().divide(ee.Image(\"users/311605001111/WP-VP/daqing_VP_2005\").float())\n",
    "image6 = ee.Image(\"users/311605001111/WP-VP/daqing_WP_2006\").float().divide(ee.Image(\"users/311605001111/WP-VP/daqing_VP_2006\").float())\n",
    "image7 = ee.Image(\"users/311605001111/WP-VP/daqing_WP_2007\").float().divide(ee.Image(\"users/311605001111/WP-VP/daqing_VP_2007\").float())\n",
    "image8 = ee.Image(\"users/311605001111/WP-VP/daqing_WP_2008\").float().divide(ee.Image(\"users/311605001111/WP-VP/daqing_VP_2008\").float())\n",
    "image9 = ee.Image(\"users/311605001111/WP-VP/daqing_WP_2009\").float().divide(ee.Image(\"users/311605001111/WP-VP/daqing_VP_2009\").float())\n",
    "image10 = ee.Image(\"users/311605001111/WP-VP/daqing_WP_2010\").float().divide(ee.Image(\"users/311605001111/WP-VP/daqing_VP_2010\").float())\n",
    "image11 = ee.Image(\"users/311605001111/WP-VP/daqing_WP_2011\").float().divide(ee.Image(\"users/311605001111/WP-VP/daqing_VP_2011\").float())\n",
    "image12 = ee.Image(\"users/311605001111/WP-VP/daqing_WP_2012\").float().divide(ee.Image(\"users/311605001111/WP-VP/daqing_VP_2012\").float())\n",
    "image13 = ee.Image(\"users/311605001111/WP-VP/daqing_WP_2013\").float().divide(ee.Image(\"users/311605001111/WP-VP/daqing_VP_2013\").float())\n",
    "image14 = ee.Image(\"users/311605001111/WP-VP/daqing_WP_2014\").float().divide(ee.Image(\"users/311605001111/WP-VP/daqing_VP_2014\").float())\n",
    "image15 = ee.Image(\"users/311605001111/WP-VP/daqing_WP_2015\").float().divide(ee.Image(\"users/311605001111/WP-VP/daqing_VP_2015\").float())\n",
    "image16 = ee.Image(\"users/311605001111/WP-VP/daqing_WP_2016\").float().divide(ee.Image(\"users/311605001111/WP-VP/daqing_VP_2016\").float())\n",
    "image17 = ee.Image(\"users/311605001111/WP-VP/daqing_WP_2017\").float().divide(ee.Image(\"users/311605001111/WP-VP/daqing_VP_2017\").float())\n",
    "image18 = ee.Image(\"users/311605001111/WP-VP/daqing_WP_2018\").float().divide(ee.Image(\"users/311605001111/WP-VP/daqing_VP_2018\").float())\n",
    "image19 = ee.Image(\"users/311605001111/WP-VP/daqing_WP_2019\").float().divide(ee.Image(\"users/311605001111/WP-VP/daqing_VP_2019\").float())\n",
    "image20 = ee.Image(\"users/311605001111/WP-VP/daqing_WP_2020\").float().divide(ee.Image(\"users/311605001111/WP-VP/daqing_VP_2020\").float())"
   ]
  },
  {
   "cell_type": "code",
   "execution_count": 9,
   "id": "c78ae0d8",
   "metadata": {
    "ExecuteTime": {
     "end_time": "2022-03-18T04:19:42.444730Z",
     "start_time": "2022-03-18T04:19:41.357119Z"
    }
   },
   "outputs": [],
   "source": [
    "waterfrequency = ee.ImageCollection([image99,image0,image1,image2,image3,image4,image5,image6,image7,image8,image9,image10,image11,image12,image13,image14,image15,image16,image17,image18,image19,image20]).mean()\n",
    "Map.addLayer(waterfrequency,{'palette':['white','blue'],'min':0,'max':1}, 'waterfrequency')\n",
    "\n",
    "occurrence9920 = ee.Image(\"users/311605001111/WF/daqing_WF_9920\")\n",
    "Map.addLayer(occurrence9920,{'palette':['white','blue'],'min':0,'max':1}, 'occurrence9920')"
   ]
  },
  {
   "cell_type": "code",
   "execution_count": 10,
   "id": "c598e3f1",
   "metadata": {
    "ExecuteTime": {
     "end_time": "2022-03-18T04:21:26.229325Z",
     "start_time": "2022-03-18T04:21:24.663516Z"
    }
   },
   "outputs": [],
   "source": [
    "roi = ee.Geometry.Rectangle([123.9355, 45.8362,125.3055, 46.8762])\n",
    "basemap = ee.Image.constant(0).clip(roi).rename('waterclass')\n",
    "Map.addLayer(basemap,{'palette':['white']}, 'basemap')\n",
    "\n",
    "pwmean = ee.ImageCollection([image99,image0,image1,image2,image3,image4,image5,image6,image7,image8,image9,image10,image11,image12,image13,image14,image15,image16,image17,image18,image19,image20]).mean()\n",
    "Map.addLayer(pwmean.gt(0.75).selfMask(),{'palette':['blue']}, 'pwmean')\n",
    "\n",
    "pw = ee.Image(\"users/311605001111/WF/daqing_WF_9920\")\n",
    "Map.addLayer(pw.gt(0.75).selfMask(),{'palette':['red']}, 'pw')"
   ]
  },
  {
   "cell_type": "code",
   "execution_count": null,
   "id": "781c220a",
   "metadata": {},
   "outputs": [],
   "source": []
  },
  {
   "cell_type": "code",
   "execution_count": null,
   "id": "7e38edcf",
   "metadata": {
    "ExecuteTime": {
     "end_time": "2022-03-09T07:59:21.521720Z",
     "start_time": "2022-03-09T07:59:19.970882Z"
    }
   },
   "outputs": [],
   "source": [
    "waterfrequency = waterPixel.divide(validPixel).rename('frequency')\n",
    "Map.addLayer(waterfrequency,{'palette':['white','green'],'min':0,'max':1},\"water frequency\")\n",
    "\n",
    "dataset_id = 'daqing_WF_' + '9920'\n",
    "assetID = 'users/311605001111/WF/' + dataset_id\n",
    "task = ee.batch.Export.image.toAsset(**{\n",
    "    'image': waterfrequency,\n",
    "    'description': dataset_id,\n",
    "    'assetId': assetID,\n",
    "    'scale': 30,\n",
    "    'region': roi,\n",
    "    'maxPixels': 1e13,\n",
    "})\n",
    "task.start()"
   ]
  },
  {
   "cell_type": "code",
   "execution_count": null,
   "id": "6ac31fb5",
   "metadata": {},
   "outputs": [],
   "source": []
  }
 ],
 "metadata": {
  "hide_input": false,
  "kernelspec": {
   "display_name": "Python 3 (ipykernel)",
   "language": "python",
   "name": "python3"
  },
  "language_info": {
   "codemirror_mode": {
    "name": "ipython",
    "version": 3
   },
   "file_extension": ".py",
   "mimetype": "text/x-python",
   "name": "python",
   "nbconvert_exporter": "python",
   "pygments_lexer": "ipython3",
   "version": "3.8.12"
  },
  "toc": {
   "base_numbering": 1,
   "nav_menu": {},
   "number_sections": true,
   "sideBar": true,
   "skip_h1_title": false,
   "title_cell": "Table of Contents",
   "title_sidebar": "Contents",
   "toc_cell": false,
   "toc_position": {},
   "toc_section_display": true,
   "toc_window_display": true
  },
  "varInspector": {
   "cols": {
    "lenName": 16,
    "lenType": 16,
    "lenVar": 40
   },
   "kernels_config": {
    "python": {
     "delete_cmd_postfix": "",
     "delete_cmd_prefix": "del ",
     "library": "var_list.py",
     "varRefreshCmd": "print(var_dic_list())"
    },
    "r": {
     "delete_cmd_postfix": ") ",
     "delete_cmd_prefix": "rm(",
     "library": "var_list.r",
     "varRefreshCmd": "cat(var_dic_list()) "
    }
   },
   "types_to_exclude": [
    "module",
    "function",
    "builtin_function_or_method",
    "instance",
    "_Feature"
   ],
   "window_display": false
  }
 },
 "nbformat": 4,
 "nbformat_minor": 5
}
