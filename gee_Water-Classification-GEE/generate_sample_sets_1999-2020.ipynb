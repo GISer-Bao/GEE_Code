{
 "cells": [
  {
   "cell_type": "markdown",
   "id": "2ca8e17a",
   "metadata": {},
   "source": [
    "NOTE : Considering some of GEE's user limits and avoiding some system errors, such as \"ERROR: user memory limit exceeded\",\"TimeoutError\", etc,we will process or download some data beforehand and upload it to GEE Assets, where it will be called up when needed."
   ]
  },
  {
   "cell_type": "markdown",
   "id": "b6c39709",
   "metadata": {},
   "source": [
    "Special reminder: the following variables or parameters need to be modified\n",
    "\n",
    "Must be amended : \"roi\",\"region\",\"elevation\"\n",
    "\n",
    "May have to be modified (Depending on your actual situation) : \"number_land\",\"number_water\",\"number_seasonal_water\""
   ]
  },
  {
   "cell_type": "code",
   "execution_count": null,
   "id": "605a7050",
   "metadata": {},
   "outputs": [],
   "source": []
  },
  {
   "cell_type": "code",
   "execution_count": 1,
   "id": "6bd39e71",
   "metadata": {
    "ExecuteTime": {
     "end_time": "2022-04-02T11:24:07.274687Z",
     "start_time": "2022-04-02T11:24:07.256764Z"
    }
   },
   "outputs": [],
   "source": [
    "### If you are trying to use geemap in coutries where Gooogle Services are blocked (e.g., China), \n",
    "### you will need a VPN,then replace \"10809\" with your \"proxy port number\"to connect to Earth Engine servers.\n",
    "### Otherwise, you might encounter a connection timeout issue.\n",
    "\n",
    "import os\n",
    "os.environ['HTTP_PROXY'] = \"http://127.0.0.1:10809\"\n",
    "os.environ['HTTPS_PROXY'] = \"http://127.0.0.1:10809\""
   ]
  },
  {
   "cell_type": "code",
   "execution_count": 2,
   "id": "4108399f",
   "metadata": {
    "ExecuteTime": {
     "end_time": "2022-04-02T11:24:15.753446Z",
     "start_time": "2022-04-02T11:24:09.070937Z"
    },
    "scrolled": false
   },
   "outputs": [
    {
     "data": {
      "application/vnd.jupyter.widget-view+json": {
       "model_id": "4d4faa0a095d4b3c96440b9ecdf4e814",
       "version_major": 2,
       "version_minor": 0
      },
      "text/plain": [
       "Map(center=[20, 0], controls=(WidgetControl(options=['position', 'transparent_bg'], widget=HBox(children=(Togg…"
      ]
     },
     "metadata": {},
     "output_type": "display_data"
    }
   ],
   "source": [
    "#### Initializing GEE\n",
    "\n",
    "import geemap\n",
    "import ee\n",
    "Map=geemap.Map()\n",
    "Map"
   ]
  },
  {
   "cell_type": "code",
   "execution_count": null,
   "id": "cd096dc6",
   "metadata": {
    "ExecuteTime": {
     "end_time": "2022-02-14T04:29:43.931687Z",
     "start_time": "2022-02-14T04:29:43.078736Z"
    }
   },
   "outputs": [],
   "source": [
    "#### Setting the boundaries of the study area.\n",
    "#### Format: ee.Geometry.Rectangle(minLng, minLat, maxLng, maxLat)\n",
    "\n",
    "roi = ee.Geometry.Rectangle([113.7393, 29.8642,115.0993, 30.9242])\n",
    "Map.addLayer(roi, {}, \"roi\")\n",
    "Map.centerObject(roi,7)"
   ]
  },
  {
   "cell_type": "code",
   "execution_count": null,
   "id": "37b442c0",
   "metadata": {},
   "outputs": [],
   "source": [
    "#### Defining variables\n",
    "region = 'wuhan'"
   ]
  },
  {
   "cell_type": "markdown",
   "id": "b9f5fde6",
   "metadata": {},
   "source": [
    "# Definition of related functions"
   ]
  },
  {
   "cell_type": "code",
   "execution_count": null,
   "id": "8c775375",
   "metadata": {
    "ExecuteTime": {
     "end_time": "2022-02-14T04:16:13.212991Z",
     "start_time": "2022-02-14T04:16:13.199027Z"
    }
   },
   "outputs": [],
   "source": [
    "#### Removing outliers in sample set \n",
    "\n",
    "bands = ['B2', 'B3', 'B4', 'B5', 'B6', 'B7','NDVI','NDWI','mNDWI','CWI','AWEI','EWI','EVI']\n",
    "#### cluster与waterclass的对比\n",
    "def Compare(feature):\n",
    "    cluster = ee.Number(feature.get('cluster'))\n",
    "    waterclass = ee.Number(feature.get('waterclass'))\n",
    "    ft = ee.Algorithms.If(cluster.eq(waterclass),feature.set({'eq':1}),feature.set({'eq':0}))\n",
    "    return ft\n",
    "#### k-mean聚类\n",
    "def removal_outliers(sampleSET):\n",
    "    clusterer = ee.Clusterer.wekaKMeans(2).train(sampleSET,bands)\n",
    "    result = sampleSET.cluster(clusterer)\n",
    "    right = result.map(Compare).filter(ee.Filter.eq('eq',0))\n",
    "    error = result.map(Compare).filter(ee.Filter.eq('eq',1))\n",
    "    filtered_sample = ee.FeatureCollection(ee.Algorithms.If(right.size().gt(error.size()),right,error))\n",
    "    return filtered_sample"
   ]
  },
  {
   "cell_type": "code",
   "execution_count": null,
   "id": "8b8728e7",
   "metadata": {
    "ExecuteTime": {
     "start_time": "2022-02-14T03:00:21.012Z"
    },
    "scrolled": false
   },
   "outputs": [],
   "source": [
    "totalSamples = ee.FeatureCollection([])\n",
    "for year in range(1999,2021,5):\n",
    "    print(year)\n",
    "    pw_nw = ee.FeatureCollection('users/311605001111/' + region + '/' + region + '_PWL_' + str(year))\n",
    "    permanent_water = pw_nw.filter(ee.Filter.eq('waterclass',1)).randomColumn('random',1,'uniform').sort('random').limit(500)\n",
    "    no_water = pw_nw.filter(ee.Filter.eq('waterclass',0)).randomColumn('random',1,'uniform').sort('random').limit(3000)\n",
    "    # print('Number of permanent water sampled： ',permanent_water.size().getInfo())\n",
    "    # print('Number of land sampled： ',no_water.size().getInfo())\n",
    "    sww = ee.FeatureCollection('users/311605001111/' + region + '/' + region + '_SW_' + str(year))\n",
    "    sw = sww.randomColumn('random',1,'uniform').sort('random').limit(500)\n",
    "    # print('Number of seasonal water sampled： ',sw.size().getInfo())\n",
    "    bands = ['B2', 'B3', 'B4', 'B5', 'B6', 'B7','NDVI','NDWI','mNDWI','CWI','AWEI','EWI','EVI']\n",
    "    cluster_samples = ee.FeatureCollection([permanent_water,no_water]).flatten()\n",
    "    clusterer = ee.Clusterer.wekaKMeans(2).train(cluster_samples,bands)\n",
    "    q = ee.FeatureCollection(sw.cluster(clusterer))\n",
    "    q1 = q.filter(ee.Filter.eq('cluster',1))\n",
    "    q0 = q.filter(ee.Filter.eq('cluster',0))\n",
    "    b1 = ee.FeatureCollection(q1).filter(ee.Filter.lt('AWEI',0)).size()\n",
    "    b2 = ee.FeatureCollection(q1).filter(ee.Filter.gt('AWEI',0)).size()\n",
    "    c1 = ee.FeatureCollection(q0).filter(ee.Filter.lt('AWEI',0)).size()\n",
    "    c2 = ee.FeatureCollection(q0).filter(ee.Filter.gt('AWEI',0)).size()\n",
    "    qq1 = ee.Algorithms.If(ee.Number(b1).lt(ee.Number(b2)),q1.map(lambda i:i.set({'waterclass':1})),q1.map(lambda i:i.set({'waterclass':0})))\n",
    "    qq0 = ee.Algorithms.If(ee.Number(c1).lt(ee.Number(c2)),q0.map(lambda i:i.set({'waterclass':1})),q0.map(lambda i:i.set({'waterclass':0})))\n",
    "    seasonWater = ee.FeatureCollection([qq1,qq0]).flatten()\n",
    "    total_Samples = ee.FeatureCollection([permanent_water,no_water,seasonWater]).flatten()\n",
    "    # print(\"Number of remaining samples before filtering: \", total_Samples.size().getInfo())\n",
    "    filtered_samples = removal_outliers(total_Samples)\n",
    "    # print(\"Number of remaining samples after filtering: \",filtered_samples.size().getInfo())\n",
    "    totalSamples = totalSamples.merge(filtered_samples)\n",
    "    print(\"Total sample： \",totalSamples.size().getInfo())"
   ]
  },
  {
   "cell_type": "code",
   "execution_count": null,
   "id": "7c513a61",
   "metadata": {
    "ExecuteTime": {
     "end_time": "2021-12-24T10:13:13.394579Z",
     "start_time": "2021-12-24T10:13:07.240116Z"
    }
   },
   "outputs": [],
   "source": [
    "#### The final sample set is stored in GEE's Assets\n",
    "## \"dataset_id\" indicates the file name; \"assetID\" indicates the file path in GEE's Assets.\n",
    "## They need to be modified to suit your situation\n",
    "\n",
    "dataset_id = region + '_9920'\n",
    "assetID = 'users/311605001111/' + region + '/' + dataset_id\n",
    "task = ee.batch.Export.table.toAsset(**{\n",
    "    'collection': totalSamples,\n",
    "    'description': dataset_id,\n",
    "    'assetId': assetID\n",
    "})\n",
    "task.start()"
   ]
  },
  {
   "cell_type": "code",
   "execution_count": null,
   "id": "ca5160cb",
   "metadata": {},
   "outputs": [],
   "source": []
  }
 ],
 "metadata": {
  "hide_input": false,
  "kernelspec": {
   "display_name": "Python 3 (ipykernel)",
   "language": "python",
   "name": "python3"
  },
  "language_info": {
   "codemirror_mode": {
    "name": "ipython",
    "version": 3
   },
   "file_extension": ".py",
   "mimetype": "text/x-python",
   "name": "python",
   "nbconvert_exporter": "python",
   "pygments_lexer": "ipython3",
   "version": "3.8.12"
  },
  "toc": {
   "base_numbering": 1,
   "nav_menu": {},
   "number_sections": true,
   "sideBar": true,
   "skip_h1_title": false,
   "title_cell": "Table of Contents",
   "title_sidebar": "Contents",
   "toc_cell": false,
   "toc_position": {},
   "toc_section_display": true,
   "toc_window_display": true
  },
  "varInspector": {
   "cols": {
    "lenName": 16,
    "lenType": 16,
    "lenVar": 40
   },
   "kernels_config": {
    "python": {
     "delete_cmd_postfix": "",
     "delete_cmd_prefix": "del ",
     "library": "var_list.py",
     "varRefreshCmd": "print(var_dic_list())"
    },
    "r": {
     "delete_cmd_postfix": ") ",
     "delete_cmd_prefix": "rm(",
     "library": "var_list.r",
     "varRefreshCmd": "cat(var_dic_list()) "
    }
   },
   "types_to_exclude": [
    "module",
    "function",
    "builtin_function_or_method",
    "instance",
    "_Feature"
   ],
   "window_display": false
  }
 },
 "nbformat": 4,
 "nbformat_minor": 5
}
